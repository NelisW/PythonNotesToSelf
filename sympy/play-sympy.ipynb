{
 "cells": [
  {
   "cell_type": "markdown",
   "metadata": {},
   "source": [
    "# Sympy experiments\n"
   ]
  },
  {
   "cell_type": "markdown",
   "metadata": {
    "run_control": {
     "frozen": false,
     "read_only": false
    }
   },
   "source": [
    "# Sympy playground"
   ]
  },
  {
   "cell_type": "code",
   "execution_count": null,
   "metadata": {
    "run_control": {
     "frozen": false,
     "read_only": false
    },
    "tags": []
   },
   "outputs": [],
   "source": [
    "import sympy\n",
    "sympy.init_printing()\n",
    "import sympy.printing.c as ccode\n",
    "import sympy.printing.c as codegen\n",
    "\n",
    "from IPython.display import display, Markdown\n",
    "from sympy.functions import exp\n",
    "from sympy import diff\n",
    "from IPython.display import Latex"
   ]
  },
  {
   "cell_type": "code",
   "execution_count": null,
   "metadata": {},
   "outputs": [],
   "source": []
  },
  {
   "cell_type": "markdown",
   "metadata": {},
   "source": [
    "## tansig"
   ]
  },
  {
   "cell_type": "code",
   "execution_count": null,
   "metadata": {},
   "outputs": [],
   "source": [
    "phi,z = sympy.symbols(r'\\phi z')\n",
    "phi = 2 / (1 + exp(-2 * z)) - 1\n",
    "phi"
   ]
  },
  {
   "cell_type": "code",
   "execution_count": null,
   "metadata": {},
   "outputs": [],
   "source": [
    "sympy.simplify(diff(phi))"
   ]
  },
  {
   "cell_type": "code",
   "execution_count": null,
   "metadata": {},
   "outputs": [],
   "source": [
    "sympy.simplify(0.5 * (1 - (phi**2)))"
   ]
  },
  {
   "cell_type": "markdown",
   "metadata": {},
   "source": [
    "## Biquad transformation "
   ]
  },
  {
   "cell_type": "code",
   "execution_count": null,
   "metadata": {},
   "outputs": [],
   "source": []
  },
  {
   "cell_type": "code",
   "execution_count": null,
   "metadata": {
    "run_control": {
     "frozen": false,
     "read_only": false
    }
   },
   "outputs": [],
   "source": [
    "s, m,c,d,n,a,b,z,y, T = sympy.symbols(\"s m c d n a b z y T\")"
   ]
  },
  {
   "cell_type": "markdown",
   "metadata": {
    "run_control": {
     "frozen": false,
     "read_only": false
    }
   },
   "source": [
    "Biquad transfer function"
   ]
  },
  {
   "cell_type": "code",
   "execution_count": null,
   "metadata": {
    "run_control": {
     "frozen": false,
     "read_only": false
    }
   },
   "outputs": [],
   "source": [
    "Hn = m*s**2 + c*s + d\n",
    "Hd = n*s**2 + a*s + b\n",
    "H = Hn / Hd\n",
    "H"
   ]
  },
  {
   "cell_type": "markdown",
   "metadata": {
    "run_control": {
     "frozen": false,
     "read_only": false
    }
   },
   "source": [
    "Substitute \n",
    "$s\\rightarrow \\frac{2}{T}\\cdot\\frac{z-1}{z+1}$"
   ]
  },
  {
   "cell_type": "code",
   "execution_count": null,
   "metadata": {
    "run_control": {
     "frozen": false,
     "read_only": false
    }
   },
   "outputs": [],
   "source": [
    "H.subs(s,(2/T)*(z-1)/(z+1))"
   ]
  },
  {
   "cell_type": "code",
   "execution_count": null,
   "metadata": {
    "run_control": {
     "frozen": false,
     "read_only": false
    }
   },
   "outputs": [],
   "source": [
    "sympy.collect(sympy.simplify(sympy.collect(sympy.expand(H.subs(s,(2/T)*(z-1)/(z+1))),z)),z)"
   ]
  },
  {
   "cell_type": "markdown",
   "metadata": {
    "run_control": {
     "frozen": false,
     "read_only": false
    }
   },
   "source": [
    "rewrite in terms of $z^{-1}$ delay notation and refactoring the time to get it to the format used in SimulC:"
   ]
  },
  {
   "cell_type": "markdown",
   "metadata": {
    "run_control": {
     "frozen": false,
     "read_only": false
    }
   },
   "source": [
    "$$\\frac{\n",
    "\\left( d - 2 c/T + 4 m/T^{2}\\right)z^{-2} + \n",
    " \\left(2 d - 8 m/ T^{2}\\right)z^{-1} + \n",
    "\\left( d + 2  c/T + 4 m/T^{2}\\right) \n",
    "}{\n",
    "\\left( b - 2 a/T + 4 n/T^{2}\\right)z^{-2} + \n",
    " \\left(2  b - 8 n/T^{2}\\right)z^{-1} +\n",
    "\\left( b + 2 a/T + 4 n/T^{2}\\right) \n",
    "}\n",
    "$$"
   ]
  },
  {
   "cell_type": "markdown",
   "metadata": {
    "run_control": {
     "frozen": false,
     "read_only": false
    }
   },
   "source": [
    "## FEM solution"
   ]
  },
  {
   "cell_type": "code",
   "execution_count": null,
   "metadata": {},
   "outputs": [],
   "source": [
    "a, b, x, y, x1, x2, x3, x4, y1, y2, y3, y4 = sympy.symbols(\"a, b, x, y, x_1 x_2 x_3 x_4 y_1 y_2 y_3 y_4\")"
   ]
  },
  {
   "cell_type": "markdown",
   "metadata": {},
   "source": [
    "Solve the set of both equations for a and b\n"
   ]
  },
  {
   "cell_type": "code",
   "execution_count": null,
   "metadata": {},
   "outputs": [],
   "source": [
    "sols = sympy.solve ([\n",
    "    (1-a)*(1-b)*x1/4 + (1+a)*(1-b)*x2/4 + (1+a)*(1+b)*x3/4 + (1-a)*(1+b)*x4/4 - x , \n",
    "    (1-a)*(1-b)*y1/4 + (1+a)*(1-b)*y2/4 + (1+a)*(1+b)*y3/4 + (1-a)*(1+b)*y4/4 - y\n",
    "    ] , \n",
    "    [a, b]\n",
    "    )\n"
   ]
  },
  {
   "cell_type": "code",
   "execution_count": null,
   "metadata": {},
   "outputs": [],
   "source": [
    "print(len(sols), len(sols[0]), len(sols[1]))\n"
   ]
  },
  {
   "cell_type": "markdown",
   "metadata": {},
   "source": [
    "## a1"
   ]
  },
  {
   "cell_type": "code",
   "execution_count": null,
   "metadata": {},
   "outputs": [],
   "source": [
    "sympy.simplify(sols[0][0])"
   ]
  },
  {
   "cell_type": "markdown",
   "metadata": {},
   "source": [
    "## b1"
   ]
  },
  {
   "cell_type": "code",
   "execution_count": null,
   "metadata": {},
   "outputs": [],
   "source": [
    "sympy.simplify(sols[0][1])"
   ]
  },
  {
   "cell_type": "markdown",
   "metadata": {},
   "source": [
    "## a2"
   ]
  },
  {
   "cell_type": "code",
   "execution_count": null,
   "metadata": {},
   "outputs": [],
   "source": [
    "sympy.simplify(sols[1][0])"
   ]
  },
  {
   "cell_type": "markdown",
   "metadata": {},
   "source": [
    "## b2"
   ]
  },
  {
   "cell_type": "code",
   "execution_count": null,
   "metadata": {},
   "outputs": [],
   "source": [
    "sympy.simplify(sols[1][1])"
   ]
  },
  {
   "cell_type": "code",
   "execution_count": null,
   "metadata": {},
   "outputs": [],
   "source": [
    "print(sympy.latex(sols[1][0]))"
   ]
  },
  {
   "cell_type": "markdown",
   "metadata": {},
   "source": [
    "Evaluate at specific point"
   ]
  },
  {
   "cell_type": "code",
   "execution_count": null,
   "metadata": {},
   "outputs": [],
   "source": [
    "subsdic = {\n",
    "    x1:1.1, y1:0.6,\n",
    "    x2:2.9,y2:-1.4,\n",
    "    x3:3.9,y3:3.4,\n",
    "    x4:1.6,y4:3.4,\n",
    "    x:3.34,y:0.01\n",
    "}\n"
   ]
  },
  {
   "cell_type": "code",
   "execution_count": null,
   "metadata": {},
   "outputs": [],
   "source": [
    "a1 = sols[0][0].subs(subsdic)\n",
    "b1 = sols[0][1].subs(subsdic)\n",
    "a2 = sols[1][0].subs(subsdic)\n",
    "b2 = sols[1][1].subs(subsdic)\n",
    "print(f'a1={a1}\\nb1={b1}\\na2={a2}\\nb2={b2}')"
   ]
  },
  {
   "cell_type": "code",
   "execution_count": null,
   "metadata": {},
   "outputs": [],
   "source": [
    "print(f'a1={ccode(sols[0][0])}')"
   ]
  },
  {
   "cell_type": "code",
   "execution_count": null,
   "metadata": {},
   "outputs": [],
   "source": [
    "print(f'b1={ccode(sols[0][1])}')"
   ]
  },
  {
   "cell_type": "code",
   "execution_count": null,
   "metadata": {},
   "outputs": [],
   "source": [
    "print(f'a2={ccode(sols[1][0])}')"
   ]
  },
  {
   "cell_type": "code",
   "execution_count": null,
   "metadata": {},
   "outputs": [],
   "source": [
    "print(f'b2={ccode(sols[1][1])}')"
   ]
  },
  {
   "cell_type": "code",
   "execution_count": null,
   "metadata": {},
   "outputs": [],
   "source": []
  },
  {
   "cell_type": "code",
   "execution_count": null,
   "metadata": {},
   "outputs": [],
   "source": []
  },
  {
   "cell_type": "markdown",
   "metadata": {},
   "source": [
    "# Deriving yaw-pitch-roll Euler angle equations"
   ]
  },
  {
   "cell_type": "code",
   "execution_count": null,
   "metadata": {},
   "outputs": [],
   "source": [
    "# general setup\n",
    "import sympy\n",
    "sympy.init_printing()\n",
    "from sympy.printing.mathml import print_mathml\n",
    "from IPython.display import display"
   ]
  },
  {
   "cell_type": "code",
   "execution_count": null,
   "metadata": {},
   "outputs": [],
   "source": [
    "# elementary symbols\n",
    "phi, theta, psi = sympy.symbols(r'\\phi \\theta \\psi')\n",
    "wx, wy, wz = sympy.symbols(r'\\omega_x \\omega_y \\omega_z')\n",
    "t = sympy.symbols('t')"
   ]
  },
  {
   "cell_type": "code",
   "execution_count": null,
   "metadata": {},
   "outputs": [],
   "source": [
    "# main variables of interest\n",
    "def vec(x, y, z): # helper: make a vector\n",
    "    return sympy.Matrix([[x], [y], [z]])\n",
    "\n",
    "# angular rate vector\n",
    "w = vec(wx, wy, wz)\n",
    "\n",
    "# Euler rate \"vector\"\n",
    "dpsi,dtheta,dphi = [sympy.diff(x,t,evaluate=False) for x in [psi,theta,phi]]\n",
    "deib = vec(dphi, dtheta, dpsi)"
   ]
  },
  {
   "cell_type": "code",
   "execution_count": null,
   "metadata": {
    "run_control": {
     "frozen": false,
     "read_only": false
    }
   },
   "outputs": [],
   "source": [
    "# rotation matrices\n",
    "s, c = sympy.sin, sympy.cos\n",
    "\n",
    "def Ephi(phi): return sympy.Matrix([[1,  0,      0],\n",
    "                                    [0,  c(phi), s(phi)],\n",
    "                                    [0, -s(phi), c(phi)]])\n",
    "def Ethe(the): return sympy.Matrix([[c(the), 0, -s(the)],\n",
    "                                    [0,      1,  0],\n",
    "                                    [s(the), 0,  c(the)]])\n",
    "def Epsi(psi): return sympy.Matrix([[ c(psi), s(psi), 0],\n",
    "                                    [-s(psi), c(psi), 0],\n",
    "                                    [0,       0,      1]])"
   ]
  },
  {
   "cell_type": "markdown",
   "metadata": {
    "run_control": {
     "frozen": false,
     "read_only": false
    }
   },
   "source": []
  },
  {
   "cell_type": "code",
   "execution_count": null,
   "metadata": {
    "run_control": {
     "frozen": false,
     "read_only": false
    }
   },
   "outputs": [],
   "source": [
    "# intermediate frame 2 to body (roll rotation)\n",
    "H2b = Ephi(phi)\n",
    "# intermediate frame 1 to frame 1 (pitch rotation)\n",
    "H12 = Ethe(theta)\n",
    "\n",
    "# the core equation; each euler rate can be expressed as an angular rate about some axis;\n",
    "# these sum to the total angular rate, but we must rotate everything to the body axes.\n",
    "w_sum_deib = vec(dphi, 0, 0) + H2b * vec(0, dtheta, 0) + H2b * H12 * vec(0, 0, dpsi)\n",
    "\n",
    "display(sympy.Equality(w, w_sum_deib))"
   ]
  },
  {
   "cell_type": "code",
   "execution_count": null,
   "metadata": {
    "run_control": {
     "frozen": false,
     "read_only": false
    }
   },
   "outputs": [],
   "source": [
    "sol = sympy.solve(w - w_sum_deib, deib)\n",
    "for var in deib:\n",
    "    display(sympy.Equality(var, sol[var]))"
   ]
  },
  {
   "cell_type": "markdown",
   "metadata": {
    "jupyter": {
     "outputs_hidden": true
    }
   },
   "source": [
    "## convert to python functions\n",
    "\n",
    "    vignet =(np.cos(np.pi*vangl/(2*angles[-1])))**0.1 + 0.09"
   ]
  },
  {
   "cell_type": "code",
   "execution_count": null,
   "metadata": {},
   "outputs": [],
   "source": [
    "import sympy\n",
    "import numpy as np\n",
    "from sympy.codegen.ast import Assignment\n",
    "\n",
    "t, p,v, x,y,s, m,c,d,n,a,b,z,y, T = sympy.symbols(\"\\\\theta p v x y s m c d n a b z y T\")\n",
    "\n",
    "y = (sympy.cos(sympy.pi * a / (2. * m)))**p + c\n",
    "mstr = sympy.latex(y)\n",
    "subsdic = {c:0.09, p:0.1,m:0.471}\n",
    "T = y.subs(subsdic)\n",
    "lstr = sympy.latex(T)\n",
    "\n",
    "print(mstr)\n",
    "display(y)\n",
    "display(T)"
   ]
  },
  {
   "cell_type": "code",
   "execution_count": null,
   "metadata": {},
   "outputs": [],
   "source": [
    "# pstr = sympy.pycode(Assignment(v, T)).replace('math','np')\n",
    "pstr = sympy.pycode(T).replace('math','np')\n",
    "\n",
    "print(pstr)\n",
    "a = np.linspace(0,0.471,100)\n",
    "eval(pstr)"
   ]
  },
  {
   "cell_type": "code",
   "execution_count": null,
   "metadata": {},
   "outputs": [],
   "source": [
    "import pyradi.ryplot as ryplot\n",
    "lstr = lstr.replace(r' \\pi a ',r' \\cdot\\pi\\cdot \\theta ')\n",
    "print(lstr)\n",
    "p = ryplot.Plotter(1,1,1,f'${lstr}$',(12,5))\n",
    "p.plot(1,a,eval(pstr))\n",
    "                   \n",
    "                   "
   ]
  },
  {
   "cell_type": "markdown",
   "metadata": {},
   "source": [
    "## Solve circle "
   ]
  },
  {
   "cell_type": "code",
   "execution_count": null,
   "metadata": {},
   "outputs": [],
   "source": [
    "# import sympy\n",
    "# import numpy as np\n",
    "# from sympy.codegen.ast import Assignment\n",
    "\n",
    "y1,y2,yc,z1,z2,zc,r = sympy.symbols(\"y_1,y_2,y_c,z_1,z_2 z_c r\")\n",
    "eqzc = sympy.solve((y1-yc)**2 +(z1-zc)**2-((y2-yc)**2 +(z2-zc)**2),zc)\n",
    "print('Equation for zc')\n",
    "display(eqzc[0])\n",
    "eqr = sympy.solve((y1-yc)**2 +(z1-zc)**2-r**2,r)\n",
    "print('Equation for r')\n",
    "display(eqr[1])\n",
    "\n",
    "print('---------------------------------------')\n",
    "\n",
    "dicsubs = {y1:1.2,y2:2.5,z1:1.5,z2:2.5,yc:1.1}\n",
    "zcval = float(eqzc[0].subs(dicsubs))\n",
    "print(f'z_c = {zcval}')\n",
    "r = eqr[1].subs(dicsubs).subs({zc:zcval})\n",
    "print(f'r = {r}')\n",
    "\n",
    "print('---------------------------------------')\n",
    "print(sympy.python(eqzc))\n",
    "print(sympy.python(eqr))\n"
   ]
  },
  {
   "cell_type": "markdown",
   "metadata": {},
   "source": [
    "# Quadrilateral and Area \n",
    "\n",
    "The objective is to solve the angles for a quadrilateral given the length of the four edges and the area of the polygon.\n",
    "The process is to divide the quadrilateral into two triangles, writing the area of each of these triangles in terms of the diagonal, then solve for the diagonal length such that the sum of areas of the two triangles adds up to the total area.\n",
    "\n",
    "Name the four edges of the quadrilateral as $a,b,c,d$ and the line connecting the opposite points as $z$\n",
    "\n",
    "Heron's formula gives the area, $A$, of a triangle with sides $a, b, z$ as:\n",
    "$$\n",
    "A=\\sqrt{s(s-a)(s-b)(s-z)} \\text { where } s=\\frac{1}{2}(a+b+z).\n",
    "$$\n",
    "\n",
    "The \n",
    "\n"
   ]
  },
  {
   "cell_type": "code",
   "execution_count": 1,
   "metadata": {},
   "outputs": [
    {
     "data": {
      "text/latex": [
       "$\\displaystyle - A + \\frac{\\sqrt{- a^{4} + 2 a^{2} b^{2} + 2 a^{2} z^{2} - b^{4} + 2 b^{2} z^{2} - z^{4}}}{4} + \\frac{\\sqrt{- c^{4} + 2 c^{2} d^{2} + 2 c^{2} z^{2} - d^{4} + 2 d^{2} z^{2} - z^{4}}}{4}$"
      ],
      "text/plain": [
       "-A + sqrt(-a**4 + 2*a**2*b**2 + 2*a**2*z**2 - b**4 + 2*b**2*z**2 - z**4)/4 + sqrt(-c**4 + 2*c**2*d**2 + 2*c**2*z**2 - d**4 + 2*d**2*z**2 - z**4)/4"
      ]
     },
     "metadata": {},
     "output_type": "display_data"
    }
   ],
   "source": [
    "import sympy\n",
    "import numpy as np\n",
    "\n",
    "\n",
    "a, b, c, d, z, s1, s2, A1, A2, A = sympy.symbols(\"a b c d z s_1 s_2 A_1 A_2 A\")\n",
    "s1 = (a+b+z) / 2\n",
    "eq1 = sympy.sqrt(s1 * (s1-a) * (s1-b) * (s1-z)) - A1\n",
    "s2 = (c+d+z) / 2\n",
    "eq2 = sympy.sqrt(s2 * (s2-c) * (s2-d) * (s2-z)) - A2\n",
    "\n",
    "Az1 = sympy.solve(eq1,A1)\n",
    "Az2 = sympy.solve(eq2,A2)\n",
    "\n",
    "Atot = Az1[0]+ Az2[0] - A\n",
    "display(Atot)\n",
    "\n",
    "# display(sympy.solve(Atot,z)[-1])\n",
    "\n",
    "\n",
    "dicV = {a:15.5,b:31.47,c:30,d:25,A:605}\n",
    "Atot = Atot.subs(dicV)\n",
    "\n",
    "# display(Atot)\n",
    "# zl = sympy.solve(Atot,z)[-1]\n",
    "# display(zl)\n"
   ]
  },
  {
   "cell_type": "code",
   "execution_count": 6,
   "metadata": {},
   "outputs": [
    {
     "name": "stdout",
     "output_type": "stream",
     "text": [
      "<class 'numpy.float64'>\n",
      "109.38098739352073\n",
      "91.1212343055648\n",
      "71.30297349832838\n",
      "88.19480480258608\n",
      "360.0\n"
     ]
    }
   ],
   "source": [
    "# O, W, S, N = sympy.symbols(\"O W S N\")\n",
    "def getangle(c,d,z):\n",
    "    O = sympy.acos(-(z**2 - c**2 - d**2)/(2*c*d))\n",
    "    return np.double(180*O.subs([(c,c),(d,c)]).subs([(z,39.4252707280616)])/np.pi)\n",
    "\n",
    "zl = 39.4252707280616\n",
    "\n",
    "W = getangle(dicV[a],dicV[b],zl)\n",
    "O = getangle(dicV[c],dicV[d],zl)\n",
    "N =  getangle(dicV[b],zl,dicV[a]) +  getangle(dicV[d],zl,dicV[c])\n",
    "S =  getangle(dicV[a],zl,dicV[b]) +  getangle(dicV[c],zl,dicV[d])\n",
    "print(type(W))\n",
    "print(W)\n",
    "print(O)\n",
    "print(N)\n",
    "print(S)\n",
    "print(W+O+N+S)"
   ]
  },
  {
   "cell_type": "code",
   "execution_count": 11,
   "metadata": {},
   "outputs": [
    {
     "name": "stdout",
     "output_type": "stream",
     "text": [
      "[[30, 35, 'O'], [25, 123.8787656944352, 'N'], [31.47, 232.5757921961068, 'W'], [15.5, 303.1948048025861], 'S']\n",
      "S 0.000,0.000\n",
      "O 24574.561,17207.293\n",
      "N 10638.625,37962.766\n",
      "W -8486.054,12970.616\n"
     ]
    },
    {
     "ename": "IndexError",
     "evalue": "list index out of range",
     "output_type": "error",
     "traceback": [
      "\u001b[1;31m---------------------------------------------------------------------------\u001b[0m",
      "\u001b[1;31mIndexError\u001b[0m                                Traceback (most recent call last)",
      "Input \u001b[1;32mIn [11]\u001b[0m, in \u001b[0;36m<module>\u001b[1;34m\u001b[0m\n\u001b[0;32m     13\u001b[0m \u001b[38;5;28;01mfor\u001b[39;00m segment \u001b[38;5;129;01min\u001b[39;00m vpath:\n\u001b[0;32m     14\u001b[0m     x,y \u001b[38;5;241m=\u001b[39m movev(x,y,segment[\u001b[38;5;241m0\u001b[39m],segment[\u001b[38;5;241m1\u001b[39m])\n\u001b[1;32m---> 15\u001b[0m     \u001b[38;5;28mprint\u001b[39m(\u001b[38;5;124mf\u001b[39m\u001b[38;5;124m'\u001b[39m\u001b[38;5;132;01m{\u001b[39;00msegment[\u001b[38;5;241m2\u001b[39m]\u001b[38;5;132;01m}\u001b[39;00m\u001b[38;5;124m \u001b[39m\u001b[38;5;132;01m{\u001b[39;00m\u001b[38;5;241m1000\u001b[39m\u001b[38;5;241m*\u001b[39mx\u001b[38;5;132;01m:\u001b[39;00m\u001b[38;5;124m.3f\u001b[39m\u001b[38;5;132;01m}\u001b[39;00m\u001b[38;5;124m,\u001b[39m\u001b[38;5;132;01m{\u001b[39;00m\u001b[38;5;241m1000\u001b[39m\u001b[38;5;241m*\u001b[39my\u001b[38;5;132;01m:\u001b[39;00m\u001b[38;5;124m.3f\u001b[39m\u001b[38;5;132;01m}\u001b[39;00m\u001b[38;5;124m'\u001b[39m)\n",
      "\u001b[1;31mIndexError\u001b[0m: list index out of range"
     ]
    }
   ],
   "source": [
    "sA = 35\n",
    "vpath = [[30,sA,'O'],[25,sA+180-O,'N'],[31.47,sA+360-O-N,'W'],[15.5,sA+540-O-N-W],'S']\n",
    "print(vpath)\n",
    "\n",
    "def movev(xi,yi,dist,angle):\n",
    "    xd = dist * np.cos(np.pi*angle/180)\n",
    "    yd = dist * np.sin(np.pi*angle/180)\n",
    "    return xi+xd,yi+yd\n",
    "\n",
    "x = 0\n",
    "y = 0\n",
    "print(f'S {1000*x:.3f},{1000*y:.3f}')\n",
    "for segment in vpath:\n",
    "    x,y = movev(x,y,segment[0],segment[1])\n",
    "    print(f'{segment[2]} {1000*x:.3f},{1000*y:.3f}')\n",
    "\n"
   ]
  },
  {
   "cell_type": "code",
   "execution_count": null,
   "metadata": {},
   "outputs": [],
   "source": []
  },
  {
   "cell_type": "code",
   "execution_count": null,
   "metadata": {},
   "outputs": [],
   "source": []
  }
 ],
 "metadata": {
  "anaconda-cloud": {},
  "kernelspec": {
   "display_name": "Python 3 (ipykernel)",
   "language": "python",
   "name": "python3"
  },
  "language_info": {
   "codemirror_mode": {
    "name": "ipython",
    "version": 3
   },
   "file_extension": ".py",
   "mimetype": "text/x-python",
   "name": "python",
   "nbconvert_exporter": "python",
   "pygments_lexer": "ipython3",
   "version": "3.8.3"
  }
 },
 "nbformat": 4,
 "nbformat_minor": 4
}
