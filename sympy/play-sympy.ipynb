{
 "cells": [
  {
   "cell_type": "markdown",
   "metadata": {},
   "source": [
    "# Sympy experiments\n"
   ]
  },
  {
   "cell_type": "markdown",
   "metadata": {
    "run_control": {
     "frozen": false,
     "read_only": false
    }
   },
   "source": [
    "# Sympy playground"
   ]
  },
  {
   "cell_type": "code",
   "execution_count": 2,
   "metadata": {
    "run_control": {
     "frozen": false,
     "read_only": false
    },
    "tags": []
   },
   "outputs": [],
   "source": [
    "import sympy\n",
    "sympy.init_printing()\n",
    "import sympy.printing.c as ccode\n",
    "import sympy.printing.c as codegen\n",
    "\n",
    "from IPython.display import display, Markdown\n",
    "from sympy.functions import exp\n",
    "from sympy import diff\n",
    "from IPython.display import Latex"
   ]
  },
  {
   "cell_type": "code",
   "execution_count": null,
   "metadata": {},
   "outputs": [],
   "source": []
  },
  {
   "cell_type": "markdown",
   "metadata": {},
   "source": [
    "## tansig"
   ]
  },
  {
   "cell_type": "code",
   "execution_count": 3,
   "metadata": {},
   "outputs": [
    {
     "data": {
      "image/png": "[encoded data removed]",
      "text/latex": [
       "$\\displaystyle -1 + \\frac{2}{1 + e^{- 2 z}}$"
      ],
      "text/plain": [
       "         2    \n",
       "-1 + ─────────\n",
       "          -2⋅z\n",
       "     1 + ℯ    "
      ]
     },
     "execution_count": 3,
     "metadata": {},
     "output_type": "execute_result"
    }
   ],
   "source": [
    "phi,z = sympy.symbols(r'\\phi z')\n",
    "phi = 2 / (1 + exp(-2 * z)) - 1\n",
    "phi"
   ]
  },
  {
   "cell_type": "code",
   "execution_count": 4,
   "metadata": {},
   "outputs": [
    {
     "data": {
      "image/png": "[encoded data removed]",
      "text/latex": [
       "$\\displaystyle \\frac{1}{\\cosh^{2}{\\left(z \\right)}}$"
      ],
      "text/plain": [
       "   1    \n",
       "────────\n",
       "    2   \n",
       "cosh (z)"
      ]
     },
     "execution_count": 4,
     "metadata": {},
     "output_type": "execute_result"
    }
   ],
   "source": [
    "sympy.simplify(diff(phi))"
   ]
  },
  {
   "cell_type": "code",
   "execution_count": 5,
   "metadata": {},
   "outputs": [
    {
     "data": {
      "image/png": "[encoded data removed]",
      "text/latex": [
       "$\\displaystyle \\frac{2.0 e^{2 z}}{1.0 e^{4 z} + 2.0 e^{2 z} + 1.0}$"
      ],
      "text/plain": [
       "              2⋅z        \n",
       "         2.0⋅ℯ           \n",
       "─────────────────────────\n",
       "     4⋅z        2⋅z      \n",
       "1.0⋅ℯ    + 2.0⋅ℯ    + 1.0"
      ]
     },
     "execution_count": 5,
     "metadata": {},
     "output_type": "execute_result"
    }
   ],
   "source": [
    "sympy.simplify(0.5 * (1 - (phi**2)))"
   ]
  },
  {
   "cell_type": "markdown",
   "metadata": {},
   "source": [
    "## Biquad transformation "
   ]
  },
  {
   "cell_type": "code",
   "execution_count": null,
   "metadata": {},
   "outputs": [],
   "source": []
  },
  {
   "cell_type": "code",
   "execution_count": 6,
   "metadata": {
    "run_control": {
     "frozen": false,
     "read_only": false
    }
   },
   "outputs": [],
   "source": [
    "s, m,c,d,n,a,b,z,y, T = sympy.symbols(\"s m c d n a b z y T\")"
   ]
  },
  {
   "cell_type": "markdown",
   "metadata": {
    "run_control": {
     "frozen": false,
     "read_only": false
    }
   },
   "source": [
    "Biquad transfer function"
   ]
  },
  {
   "cell_type": "code",
   "execution_count": 7,
   "metadata": {
    "run_control": {
     "frozen": false,
     "read_only": false
    }
   },
   "outputs": [
    {
     "data": {
      "image/png": "[encoded data removed]",
      "text/latex": [
       "$\\displaystyle \\frac{c s + d + m s^{2}}{a s + b + n s^{2}}$"
      ],
      "text/plain": [
       "             2\n",
       "c⋅s + d + m⋅s \n",
       "──────────────\n",
       "             2\n",
       "a⋅s + b + n⋅s "
      ]
     },
     "execution_count": 7,
     "metadata": {},
     "output_type": "execute_result"
    }
   ],
   "source": [
    "Hn = m*s**2 + c*s + d\n",
    "Hd = n*s**2 + a*s + b\n",
    "H = Hn / Hd\n",
    "H"
   ]
  },
  {
   "cell_type": "markdown",
   "metadata": {
    "run_control": {
     "frozen": false,
     "read_only": false
    }
   },
   "source": [
    "Substitute \n",
    "$s\\rightarrow \\frac{2}{T}\\cdot\\frac{z-1}{z+1}$"
   ]
  },
  {
   "cell_type": "code",
   "execution_count": 8,
   "metadata": {
    "run_control": {
     "frozen": false,
     "read_only": false
    }
   },
   "outputs": [
    {
     "data": {
      "image/png": "[encoded data removed]",
      "text/latex": [
       "$\\displaystyle \\frac{d + \\frac{2 c \\left(z - 1\\right)}{T \\left(z + 1\\right)} + \\frac{4 m \\left(z - 1\\right)^{2}}{T^{2} \\left(z + 1\\right)^{2}}}{b + \\frac{2 a \\left(z - 1\\right)}{T \\left(z + 1\\right)} + \\frac{4 n \\left(z - 1\\right)^{2}}{T^{2} \\left(z + 1\\right)^{2}}}$"
      ],
      "text/plain": [
       "                             2\n",
       "    2⋅c⋅(z - 1)   4⋅m⋅(z - 1) \n",
       "d + ─────────── + ────────────\n",
       "     T⋅(z + 1)     2        2 \n",
       "                  T ⋅(z + 1)  \n",
       "──────────────────────────────\n",
       "                             2\n",
       "    2⋅a⋅(z - 1)   4⋅n⋅(z - 1) \n",
       "b + ─────────── + ────────────\n",
       "     T⋅(z + 1)     2        2 \n",
       "                  T ⋅(z + 1)  "
      ]
     },
     "execution_count": 8,
     "metadata": {},
     "output_type": "execute_result"
    }
   ],
   "source": [
    "H.subs(s,(2/T)*(z-1)/(z+1))"
   ]
  },
  {
   "cell_type": "code",
   "execution_count": 9,
   "metadata": {
    "run_control": {
     "frozen": false,
     "read_only": false
    }
   },
   "outputs": [
    {
     "data": {
      "image/png": "[encoded data removed]",
      "text/latex": [
       "$\\displaystyle \\frac{T^{2} d - 2 T c + 4 m + z^{2} \\left(T^{2} d + 2 T c + 4 m\\right) + z \\left(2 T^{2} d - 8 m\\right)}{T^{2} b - 2 T a + 4 n + z^{2} \\left(T^{2} b + 2 T a + 4 n\\right) + z \\left(2 T^{2} b - 8 n\\right)}$"
      ],
      "text/plain": [
       " 2                    2 ⎛ 2                ⎞     ⎛   2        ⎞\n",
       "T ⋅d - 2⋅T⋅c + 4⋅m + z ⋅⎝T ⋅d + 2⋅T⋅c + 4⋅m⎠ + z⋅⎝2⋅T ⋅d - 8⋅m⎠\n",
       "───────────────────────────────────────────────────────────────\n",
       " 2                    2 ⎛ 2                ⎞     ⎛   2        ⎞\n",
       "T ⋅b - 2⋅T⋅a + 4⋅n + z ⋅⎝T ⋅b + 2⋅T⋅a + 4⋅n⎠ + z⋅⎝2⋅T ⋅b - 8⋅n⎠"
      ]
     },
     "execution_count": 9,
     "metadata": {},
     "output_type": "execute_result"
    }
   ],
   "source": [
    "sympy.collect(sympy.simplify(sympy.collect(sympy.expand(H.subs(s,(2/T)*(z-1)/(z+1))),z)),z)"
   ]
  },
  {
   "cell_type": "markdown",
   "metadata": {
    "run_control": {
     "frozen": false,
     "read_only": false
    }
   },
   "source": [
    "rewrite in terms of $z^{-1}$ delay notation and refactoring the time to get it to the format used in SimulC:"
   ]
  },
  {
   "cell_type": "markdown",
   "metadata": {
    "run_control": {
     "frozen": false,
     "read_only": false
    }
   },
   "source": [
    "$$\\frac{\n",
    "\\left( d - 2 c/T + 4 m/T^{2}\\right)z^{-2} + \n",
    " \\left(2 d - 8 m/ T^{2}\\right)z^{-1} + \n",
    "\\left( d + 2  c/T + 4 m/T^{2}\\right) \n",
    "}{\n",
    "\\left( b - 2 a/T + 4 n/T^{2}\\right)z^{-2} + \n",
    " \\left(2  b - 8 n/T^{2}\\right)z^{-1} +\n",
    "\\left( b + 2 a/T + 4 n/T^{2}\\right) \n",
    "}\n",
    "$$"
   ]
  },
  {
   "cell_type": "markdown",
   "metadata": {
    "run_control": {
     "frozen": false,
     "read_only": false
    }
   },
   "source": [
    "## FEM solution"
   ]
  },
  {
   "cell_type": "code",
   "execution_count": 10,
   "metadata": {},
   "outputs": [],
   "source": [
    "a, b, x, y, x1, x2, x3, x4, y1, y2, y3, y4 = sympy.symbols(\"a, b, x, y, x_1 x_2 x_3 x_4 y_1 y_2 y_3 y_4\")"
   ]
  },
  {
   "cell_type": "markdown",
   "metadata": {},
   "source": [
    "Solve the set of both equations for a and b\n"
   ]
  },
  {
   "cell_type": "code",
   "execution_count": 11,
   "metadata": {},
   "outputs": [],
   "source": [
    "sols = sympy.solve ([\n",
    "    (1-a)*(1-b)*x1/4 + (1+a)*(1-b)*x2/4 + (1+a)*(1+b)*x3/4 + (1-a)*(1+b)*x4/4 - x , \n",
    "    (1-a)*(1-b)*y1/4 + (1+a)*(1-b)*y2/4 + (1+a)*(1+b)*y3/4 + (1-a)*(1+b)*y4/4 - y\n",
    "    ] , \n",
    "    [a, b]\n",
    "    )\n"
   ]
  },
  {
   "cell_type": "code",
   "execution_count": 12,
   "metadata": {},
   "outputs": [
    {
     "name": "stdout",
     "output_type": "stream",
     "text": [
      "2 2 2\n"
     ]
    }
   ],
   "source": [
    "print(len(sols), len(sols[0]), len(sols[1]))\n"
   ]
  },
  {
   "cell_type": "markdown",
   "metadata": {},
   "source": [
    "## a1"
   ]
  },
  {
   "cell_type": "code",
   "execution_count": 13,
   "metadata": {},
   "outputs": [
    {
     "data": {
      "image/png": "[encoded data removed]",
      "text/latex": [
       "$\\displaystyle \\frac{- x y_{1} + x y_{2} - x y_{3} + x y_{4} + x_{1} y - x_{1} y_{4} - x_{2} y + x_{2} y_{3} + x_{3} y - x_{3} y_{2} - x_{4} y + x_{4} y_{1} - \\sqrt{x^{2} y_{1}^{2} - 2 x^{2} y_{1} y_{2} + 2 x^{2} y_{1} y_{3} - 2 x^{2} y_{1} y_{4} + x^{2} y_{2}^{2} - 2 x^{2} y_{2} y_{3} + 2 x^{2} y_{2} y_{4} + x^{2} y_{3}^{2} - 2 x^{2} y_{3} y_{4} + x^{2} y_{4}^{2} - 2 x x_{1} y y_{1} + 2 x x_{1} y y_{2} - 2 x x_{1} y y_{3} + 2 x x_{1} y y_{4} + 2 x x_{1} y_{1} y_{3} + 2 x x_{1} y_{2} y_{3} - 4 x x_{1} y_{2} y_{4} - 2 x x_{1} y_{3}^{2} + 2 x x_{1} y_{3} y_{4} + 2 x x_{2} y y_{1} - 2 x x_{2} y y_{2} + 2 x x_{2} y y_{3} - 2 x x_{2} y y_{4} - 4 x x_{2} y_{1} y_{3} + 2 x x_{2} y_{1} y_{4} + 2 x x_{2} y_{2} y_{4} + 2 x x_{2} y_{3} y_{4} - 2 x x_{2} y_{4}^{2} - 2 x x_{3} y y_{1} + 2 x x_{3} y y_{2} - 2 x x_{3} y y_{3} + 2 x x_{3} y y_{4} - 2 x x_{3} y_{1}^{2} + 2 x x_{3} y_{1} y_{2} + 2 x x_{3} y_{1} y_{3} + 2 x x_{3} y_{1} y_{4} - 4 x x_{3} y_{2} y_{4} + 2 x x_{4} y y_{1} - 2 x x_{4} y y_{2} + 2 x x_{4} y y_{3} - 2 x x_{4} y y_{4} + 2 x x_{4} y_{1} y_{2} - 4 x x_{4} y_{1} y_{3} - 2 x x_{4} y_{2}^{2} + 2 x x_{4} y_{2} y_{3} + 2 x x_{4} y_{2} y_{4} + x_{1}^{2} y^{2} - 2 x_{1}^{2} y y_{3} + x_{1}^{2} y_{3}^{2} - 2 x_{1} x_{2} y^{2} + 2 x_{1} x_{2} y y_{3} + 2 x_{1} x_{2} y y_{4} - 2 x_{1} x_{2} y_{3} y_{4} + 2 x_{1} x_{3} y^{2} + 2 x_{1} x_{3} y y_{1} - 4 x_{1} x_{3} y y_{2} + 2 x_{1} x_{3} y y_{3} - 4 x_{1} x_{3} y y_{4} - 2 x_{1} x_{3} y_{1} y_{3} + 4 x_{1} x_{3} y_{2} y_{4} - 2 x_{1} x_{4} y^{2} + 2 x_{1} x_{4} y y_{2} + 2 x_{1} x_{4} y y_{3} - 2 x_{1} x_{4} y_{2} y_{3} + x_{2}^{2} y^{2} - 2 x_{2}^{2} y y_{4} + x_{2}^{2} y_{4}^{2} - 2 x_{2} x_{3} y^{2} + 2 x_{2} x_{3} y y_{1} + 2 x_{2} x_{3} y y_{4} - 2 x_{2} x_{3} y_{1} y_{4} + 2 x_{2} x_{4} y^{2} - 4 x_{2} x_{4} y y_{1} + 2 x_{2} x_{4} y y_{2} - 4 x_{2} x_{4} y y_{3} + 2 x_{2} x_{4} y y_{4} + 4 x_{2} x_{4} y_{1} y_{3} - 2 x_{2} x_{4} y_{2} y_{4} + x_{3}^{2} y^{2} - 2 x_{3}^{2} y y_{1} + x_{3}^{2} y_{1}^{2} - 2 x_{3} x_{4} y^{2} + 2 x_{3} x_{4} y y_{1} + 2 x_{3} x_{4} y y_{2} - 2 x_{3} x_{4} y_{1} y_{2} + x_{4}^{2} y^{2} - 2 x_{4}^{2} y y_{2} + x_{4}^{2} y_{2}^{2}}}{x_{1} y_{3} - x_{1} y_{4} - x_{2} y_{3} + x_{2} y_{4} - x_{3} y_{1} + x_{3} y_{2} + x_{4} y_{1} - x_{4} y_{2}}$"
      ],
      "text/plain": [
       "                                                                              \n",
       "                                                                              \n",
       "-x⋅y₁ + x⋅y₂ - x⋅y₃ + x⋅y₄ + x₁⋅y - x₁⋅y₄ - x₂⋅y + x₂⋅y₃ + x₃⋅y - x₃⋅y₂ - x₄⋅y\n",
       "──────────────────────────────────────────────────────────────────────────────\n",
       "                                                                              \n",
       "\n",
       "              ________________________________________________________________\n",
       "             ╱  2   2      2            2            2          2   2      2  \n",
       " + x₄⋅y₁ - ╲╱  x ⋅y₁  - 2⋅x ⋅y₁⋅y₂ + 2⋅x ⋅y₁⋅y₃ - 2⋅x ⋅y₁⋅y₄ + x ⋅y₂  - 2⋅x ⋅y\n",
       "──────────────────────────────────────────────────────────────────────────────\n",
       "                                                                              \n",
       "\n",
       "______________________________________________________________________________\n",
       "          2          2   2      2          2   2                              \n",
       "₂⋅y₃ + 2⋅x ⋅y₂⋅y₄ + x ⋅y₃  - 2⋅x ⋅y₃⋅y₄ + x ⋅y₄  - 2⋅x⋅x₁⋅y⋅y₁ + 2⋅x⋅x₁⋅y⋅y₂ -\n",
       "──────────────────────────────────────────────────────────────────────────────\n",
       "                                                                              \n",
       "\n",
       "______________________________________________________________________________\n",
       "                                                                              \n",
       " 2⋅x⋅x₁⋅y⋅y₃ + 2⋅x⋅x₁⋅y⋅y₄ + 2⋅x⋅x₁⋅y₁⋅y₃ + 2⋅x⋅x₁⋅y₂⋅y₃ - 4⋅x⋅x₁⋅y₂⋅y₄ - 2⋅x⋅\n",
       "──────────────────────────────────────────────────────────────────────────────\n",
       "                                                                              \n",
       "\n",
       "______________________________________________________________________________\n",
       "     2                                                                        \n",
       "x₁⋅y₃  + 2⋅x⋅x₁⋅y₃⋅y₄ + 2⋅x⋅x₂⋅y⋅y₁ - 2⋅x⋅x₂⋅y⋅y₂ + 2⋅x⋅x₂⋅y⋅y₃ - 2⋅x⋅x₂⋅y⋅y₄ \n",
       "──────────────────────────────────────────────────────────────────────────────\n",
       "                                                                              \n",
       "\n",
       "______________________________________________________________________________\n",
       "                                                                       2      \n",
       "- 4⋅x⋅x₂⋅y₁⋅y₃ + 2⋅x⋅x₂⋅y₁⋅y₄ + 2⋅x⋅x₂⋅y₂⋅y₄ + 2⋅x⋅x₂⋅y₃⋅y₄ - 2⋅x⋅x₂⋅y₄  - 2⋅x\n",
       "──────────────────────────────────────────────────────────────────────────────\n",
       "                                                                              \n",
       "\n",
       "______________________________________________________________________________\n",
       "                                                              2               \n",
       "⋅x₃⋅y⋅y₁ + 2⋅x⋅x₃⋅y⋅y₂ - 2⋅x⋅x₃⋅y⋅y₃ + 2⋅x⋅x₃⋅y⋅y₄ - 2⋅x⋅x₃⋅y₁  + 2⋅x⋅x₃⋅y₁⋅y₂\n",
       "──────────────────────────────────────────────────────────────────────────────\n",
       "                                                                              \n",
       "\n",
       "______________________________________________________________________________\n",
       "                                                                              \n",
       " + 2⋅x⋅x₃⋅y₁⋅y₃ + 2⋅x⋅x₃⋅y₁⋅y₄ - 4⋅x⋅x₃⋅y₂⋅y₄ + 2⋅x⋅x₄⋅y⋅y₁ - 2⋅x⋅x₄⋅y⋅y₂ + 2⋅\n",
       "──────────────────────────────────────────────────────────────────────────────\n",
       "                                                                       x₁⋅y₃ -\n",
       "\n",
       "______________________________________________________________________________\n",
       "                                                                 2            \n",
       "x⋅x₄⋅y⋅y₃ - 2⋅x⋅x₄⋅y⋅y₄ + 2⋅x⋅x₄⋅y₁⋅y₂ - 4⋅x⋅x₄⋅y₁⋅y₃ - 2⋅x⋅x₄⋅y₂  + 2⋅x⋅x₄⋅y₂\n",
       "──────────────────────────────────────────────────────────────────────────────\n",
       " x₁⋅y₄ - x₂⋅y₃ + x₂⋅y₄ - x₃⋅y₁ + x₃⋅y₂ + x₄⋅y₁ - x₄⋅y₂                        \n",
       "\n",
       "______________________________________________________________________________\n",
       "                       2  2       2          2   2            2               \n",
       "⋅y₃ + 2⋅x⋅x₄⋅y₂⋅y₄ + x₁ ⋅y  - 2⋅x₁ ⋅y⋅y₃ + x₁ ⋅y₃  - 2⋅x₁⋅x₂⋅y  + 2⋅x₁⋅x₂⋅y⋅y₃\n",
       "──────────────────────────────────────────────────────────────────────────────\n",
       "                                                                              \n",
       "\n",
       "______________________________________________________________________________\n",
       "                                           2                                  \n",
       " + 2⋅x₁⋅x₂⋅y⋅y₄ - 2⋅x₁⋅x₂⋅y₃⋅y₄ + 2⋅x₁⋅x₃⋅y  + 2⋅x₁⋅x₃⋅y⋅y₁ - 4⋅x₁⋅x₃⋅y⋅y₂ + 2\n",
       "──────────────────────────────────────────────────────────────────────────────\n",
       "                                                                              \n",
       "\n",
       "______________________________________________________________________________\n",
       "                                                                      2       \n",
       "⋅x₁⋅x₃⋅y⋅y₃ - 4⋅x₁⋅x₃⋅y⋅y₄ - 2⋅x₁⋅x₃⋅y₁⋅y₃ + 4⋅x₁⋅x₃⋅y₂⋅y₄ - 2⋅x₁⋅x₄⋅y  + 2⋅x₁\n",
       "──────────────────────────────────────────────────────────────────────────────\n",
       "                                                                              \n",
       "\n",
       "______________________________________________________________________________\n",
       "                                            2  2       2          2   2       \n",
       "⋅x₄⋅y⋅y₂ + 2⋅x₁⋅x₄⋅y⋅y₃ - 2⋅x₁⋅x₄⋅y₂⋅y₃ + x₂ ⋅y  - 2⋅x₂ ⋅y⋅y₄ + x₂ ⋅y₄  - 2⋅x₂\n",
       "──────────────────────────────────────────────────────────────────────────────\n",
       "                                                                              \n",
       "\n",
       "______________________________________________________________________________\n",
       "     2                                                          2             \n",
       "⋅x₃⋅y  + 2⋅x₂⋅x₃⋅y⋅y₁ + 2⋅x₂⋅x₃⋅y⋅y₄ - 2⋅x₂⋅x₃⋅y₁⋅y₄ + 2⋅x₂⋅x₄⋅y  - 4⋅x₂⋅x₄⋅y⋅\n",
       "──────────────────────────────────────────────────────────────────────────────\n",
       "                                                                              \n",
       "\n",
       "______________________________________________________________________________\n",
       "                                                                              \n",
       "y₁ + 2⋅x₂⋅x₄⋅y⋅y₂ - 4⋅x₂⋅x₄⋅y⋅y₃ + 2⋅x₂⋅x₄⋅y⋅y₄ + 4⋅x₂⋅x₄⋅y₁⋅y₃ - 2⋅x₂⋅x₄⋅y₂⋅y\n",
       "──────────────────────────────────────────────────────────────────────────────\n",
       "                                                                              \n",
       "\n",
       "______________________________________________________________________________\n",
       "      2  2       2          2   2            2                                \n",
       "₄ + x₃ ⋅y  - 2⋅x₃ ⋅y⋅y₁ + x₃ ⋅y₁  - 2⋅x₃⋅x₄⋅y  + 2⋅x₃⋅x₄⋅y⋅y₁ + 2⋅x₃⋅x₄⋅y⋅y₂ -\n",
       "──────────────────────────────────────────────────────────────────────────────\n",
       "                                                                              \n",
       "\n",
       "_______________________________________________\n",
       "                   2  2       2          2   2 \n",
       " 2⋅x₃⋅x₄⋅y₁⋅y₂ + x₄ ⋅y  - 2⋅x₄ ⋅y⋅y₂ + x₄ ⋅y₂  \n",
       "───────────────────────────────────────────────\n",
       "                                               "
      ]
     },
     "execution_count": 13,
     "metadata": {},
     "output_type": "execute_result"
    }
   ],
   "source": [
    "sympy.simplify(sols[0][0])"
   ]
  },
  {
   "cell_type": "markdown",
   "metadata": {},
   "source": [
    "## b1"
   ]
  },
  {
   "cell_type": "code",
   "execution_count": 14,
   "metadata": {},
   "outputs": [
    {
     "data": {
      "image/png": "[encoded data removed]",
      "text/latex": [
       "$\\displaystyle \\frac{x y_{1} - x y_{2} + x y_{3} - x y_{4} - x_{1} y + x_{1} y_{2} + x_{2} y - x_{2} y_{1} - x_{3} y + x_{3} y_{4} + x_{4} y - x_{4} y_{3} - \\sqrt{x^{2} y_{1}^{2} - 2 x^{2} y_{1} y_{2} + 2 x^{2} y_{1} y_{3} - 2 x^{2} y_{1} y_{4} + x^{2} y_{2}^{2} - 2 x^{2} y_{2} y_{3} + 2 x^{2} y_{2} y_{4} + x^{2} y_{3}^{2} - 2 x^{2} y_{3} y_{4} + x^{2} y_{4}^{2} - 2 x x_{1} y y_{1} + 2 x x_{1} y y_{2} - 2 x x_{1} y y_{3} + 2 x x_{1} y y_{4} + 2 x x_{1} y_{1} y_{3} + 2 x x_{1} y_{2} y_{3} - 4 x x_{1} y_{2} y_{4} - 2 x x_{1} y_{3}^{2} + 2 x x_{1} y_{3} y_{4} + 2 x x_{2} y y_{1} - 2 x x_{2} y y_{2} + 2 x x_{2} y y_{3} - 2 x x_{2} y y_{4} - 4 x x_{2} y_{1} y_{3} + 2 x x_{2} y_{1} y_{4} + 2 x x_{2} y_{2} y_{4} + 2 x x_{2} y_{3} y_{4} - 2 x x_{2} y_{4}^{2} - 2 x x_{3} y y_{1} + 2 x x_{3} y y_{2} - 2 x x_{3} y y_{3} + 2 x x_{3} y y_{4} - 2 x x_{3} y_{1}^{2} + 2 x x_{3} y_{1} y_{2} + 2 x x_{3} y_{1} y_{3} + 2 x x_{3} y_{1} y_{4} - 4 x x_{3} y_{2} y_{4} + 2 x x_{4} y y_{1} - 2 x x_{4} y y_{2} + 2 x x_{4} y y_{3} - 2 x x_{4} y y_{4} + 2 x x_{4} y_{1} y_{2} - 4 x x_{4} y_{1} y_{3} - 2 x x_{4} y_{2}^{2} + 2 x x_{4} y_{2} y_{3} + 2 x x_{4} y_{2} y_{4} + x_{1}^{2} y^{2} - 2 x_{1}^{2} y y_{3} + x_{1}^{2} y_{3}^{2} - 2 x_{1} x_{2} y^{2} + 2 x_{1} x_{2} y y_{3} + 2 x_{1} x_{2} y y_{4} - 2 x_{1} x_{2} y_{3} y_{4} + 2 x_{1} x_{3} y^{2} + 2 x_{1} x_{3} y y_{1} - 4 x_{1} x_{3} y y_{2} + 2 x_{1} x_{3} y y_{3} - 4 x_{1} x_{3} y y_{4} - 2 x_{1} x_{3} y_{1} y_{3} + 4 x_{1} x_{3} y_{2} y_{4} - 2 x_{1} x_{4} y^{2} + 2 x_{1} x_{4} y y_{2} + 2 x_{1} x_{4} y y_{3} - 2 x_{1} x_{4} y_{2} y_{3} + x_{2}^{2} y^{2} - 2 x_{2}^{2} y y_{4} + x_{2}^{2} y_{4}^{2} - 2 x_{2} x_{3} y^{2} + 2 x_{2} x_{3} y y_{1} + 2 x_{2} x_{3} y y_{4} - 2 x_{2} x_{3} y_{1} y_{4} + 2 x_{2} x_{4} y^{2} - 4 x_{2} x_{4} y y_{1} + 2 x_{2} x_{4} y y_{2} - 4 x_{2} x_{4} y y_{3} + 2 x_{2} x_{4} y y_{4} + 4 x_{2} x_{4} y_{1} y_{3} - 2 x_{2} x_{4} y_{2} y_{4} + x_{3}^{2} y^{2} - 2 x_{3}^{2} y y_{1} + x_{3}^{2} y_{1}^{2} - 2 x_{3} x_{4} y^{2} + 2 x_{3} x_{4} y y_{1} + 2 x_{3} x_{4} y y_{2} - 2 x_{3} x_{4} y_{1} y_{2} + x_{4}^{2} y^{2} - 2 x_{4}^{2} y y_{2} + x_{4}^{2} y_{2}^{2}}}{x_{1} y_{2} - x_{1} y_{3} - x_{2} y_{1} + x_{2} y_{4} + x_{3} y_{1} - x_{3} y_{4} - x_{4} y_{2} + x_{4} y_{3}}$"
      ],
      "text/plain": [
       "                                                                              \n",
       "                                                                              \n",
       "x⋅y₁ - x⋅y₂ + x⋅y₃ - x⋅y₄ - x₁⋅y + x₁⋅y₂ + x₂⋅y - x₂⋅y₁ - x₃⋅y + x₃⋅y₄ + x₄⋅y \n",
       "──────────────────────────────────────────────────────────────────────────────\n",
       "                                                                              \n",
       "\n",
       "             _________________________________________________________________\n",
       "            ╱  2   2      2            2            2          2   2      2   \n",
       "- x₄⋅y₃ - ╲╱  x ⋅y₁  - 2⋅x ⋅y₁⋅y₂ + 2⋅x ⋅y₁⋅y₃ - 2⋅x ⋅y₁⋅y₄ + x ⋅y₂  - 2⋅x ⋅y₂\n",
       "──────────────────────────────────────────────────────────────────────────────\n",
       "                                                                              \n",
       "\n",
       "______________________________________________________________________________\n",
       "         2          2   2      2          2   2                               \n",
       "⋅y₃ + 2⋅x ⋅y₂⋅y₄ + x ⋅y₃  - 2⋅x ⋅y₃⋅y₄ + x ⋅y₄  - 2⋅x⋅x₁⋅y⋅y₁ + 2⋅x⋅x₁⋅y⋅y₂ - \n",
       "──────────────────────────────────────────────────────────────────────────────\n",
       "                                                                              \n",
       "\n",
       "______________________________________________________________________________\n",
       "                                                                              \n",
       "2⋅x⋅x₁⋅y⋅y₃ + 2⋅x⋅x₁⋅y⋅y₄ + 2⋅x⋅x₁⋅y₁⋅y₃ + 2⋅x⋅x₁⋅y₂⋅y₃ - 4⋅x⋅x₁⋅y₂⋅y₄ - 2⋅x⋅x\n",
       "──────────────────────────────────────────────────────────────────────────────\n",
       "                                                                              \n",
       "\n",
       "______________________________________________________________________________\n",
       "    2                                                                         \n",
       "₁⋅y₃  + 2⋅x⋅x₁⋅y₃⋅y₄ + 2⋅x⋅x₂⋅y⋅y₁ - 2⋅x⋅x₂⋅y⋅y₂ + 2⋅x⋅x₂⋅y⋅y₃ - 2⋅x⋅x₂⋅y⋅y₄ -\n",
       "──────────────────────────────────────────────────────────────────────────────\n",
       "                                                                              \n",
       "\n",
       "______________________________________________________________________________\n",
       "                                                                      2       \n",
       " 4⋅x⋅x₂⋅y₁⋅y₃ + 2⋅x⋅x₂⋅y₁⋅y₄ + 2⋅x⋅x₂⋅y₂⋅y₄ + 2⋅x⋅x₂⋅y₃⋅y₄ - 2⋅x⋅x₂⋅y₄  - 2⋅x⋅\n",
       "──────────────────────────────────────────────────────────────────────────────\n",
       "                                                                              \n",
       "\n",
       "______________________________________________________________________________\n",
       "                                                             2                \n",
       "x₃⋅y⋅y₁ + 2⋅x⋅x₃⋅y⋅y₂ - 2⋅x⋅x₃⋅y⋅y₃ + 2⋅x⋅x₃⋅y⋅y₄ - 2⋅x⋅x₃⋅y₁  + 2⋅x⋅x₃⋅y₁⋅y₂ \n",
       "──────────────────────────────────────────────────────────────────────────────\n",
       "                                                                              \n",
       "\n",
       "______________________________________________________________________________\n",
       "                                                                              \n",
       "+ 2⋅x⋅x₃⋅y₁⋅y₃ + 2⋅x⋅x₃⋅y₁⋅y₄ - 4⋅x⋅x₃⋅y₂⋅y₄ + 2⋅x⋅x₄⋅y⋅y₁ - 2⋅x⋅x₄⋅y⋅y₂ + 2⋅x\n",
       "──────────────────────────────────────────────────────────────────────────────\n",
       "                                                                      x₁⋅y₂ - \n",
       "\n",
       "______________________________________________________________________________\n",
       "                                                                2             \n",
       "⋅x₄⋅y⋅y₃ - 2⋅x⋅x₄⋅y⋅y₄ + 2⋅x⋅x₄⋅y₁⋅y₂ - 4⋅x⋅x₄⋅y₁⋅y₃ - 2⋅x⋅x₄⋅y₂  + 2⋅x⋅x₄⋅y₂⋅\n",
       "──────────────────────────────────────────────────────────────────────────────\n",
       "x₁⋅y₃ - x₂⋅y₁ + x₂⋅y₄ + x₃⋅y₁ - x₃⋅y₄ - x₄⋅y₂ + x₄⋅y₃                         \n",
       "\n",
       "______________________________________________________________________________\n",
       "                      2  2       2          2   2            2                \n",
       "y₃ + 2⋅x⋅x₄⋅y₂⋅y₄ + x₁ ⋅y  - 2⋅x₁ ⋅y⋅y₃ + x₁ ⋅y₃  - 2⋅x₁⋅x₂⋅y  + 2⋅x₁⋅x₂⋅y⋅y₃ \n",
       "──────────────────────────────────────────────────────────────────────────────\n",
       "                                                                              \n",
       "\n",
       "______________________________________________________________________________\n",
       "                                          2                                   \n",
       "+ 2⋅x₁⋅x₂⋅y⋅y₄ - 2⋅x₁⋅x₂⋅y₃⋅y₄ + 2⋅x₁⋅x₃⋅y  + 2⋅x₁⋅x₃⋅y⋅y₁ - 4⋅x₁⋅x₃⋅y⋅y₂ + 2⋅\n",
       "──────────────────────────────────────────────────────────────────────────────\n",
       "                                                                              \n",
       "\n",
       "______________________________________________________________________________\n",
       "                                                                     2        \n",
       "x₁⋅x₃⋅y⋅y₃ - 4⋅x₁⋅x₃⋅y⋅y₄ - 2⋅x₁⋅x₃⋅y₁⋅y₃ + 4⋅x₁⋅x₃⋅y₂⋅y₄ - 2⋅x₁⋅x₄⋅y  + 2⋅x₁⋅\n",
       "──────────────────────────────────────────────────────────────────────────────\n",
       "                                                                              \n",
       "\n",
       "______________________________________________________________________________\n",
       "                                           2  2       2          2   2        \n",
       "x₄⋅y⋅y₂ + 2⋅x₁⋅x₄⋅y⋅y₃ - 2⋅x₁⋅x₄⋅y₂⋅y₃ + x₂ ⋅y  - 2⋅x₂ ⋅y⋅y₄ + x₂ ⋅y₄  - 2⋅x₂⋅\n",
       "──────────────────────────────────────────────────────────────────────────────\n",
       "                                                                              \n",
       "\n",
       "______________________________________________________________________________\n",
       "    2                                                          2              \n",
       "x₃⋅y  + 2⋅x₂⋅x₃⋅y⋅y₁ + 2⋅x₂⋅x₃⋅y⋅y₄ - 2⋅x₂⋅x₃⋅y₁⋅y₄ + 2⋅x₂⋅x₄⋅y  - 4⋅x₂⋅x₄⋅y⋅y\n",
       "──────────────────────────────────────────────────────────────────────────────\n",
       "                                                                              \n",
       "\n",
       "______________________________________________________________________________\n",
       "                                                                              \n",
       "₁ + 2⋅x₂⋅x₄⋅y⋅y₂ - 4⋅x₂⋅x₄⋅y⋅y₃ + 2⋅x₂⋅x₄⋅y⋅y₄ + 4⋅x₂⋅x₄⋅y₁⋅y₃ - 2⋅x₂⋅x₄⋅y₂⋅y₄\n",
       "──────────────────────────────────────────────────────────────────────────────\n",
       "                                                                              \n",
       "\n",
       "______________________________________________________________________________\n",
       "     2  2       2          2   2            2                                 \n",
       " + x₃ ⋅y  - 2⋅x₃ ⋅y⋅y₁ + x₃ ⋅y₁  - 2⋅x₃⋅x₄⋅y  + 2⋅x₃⋅x₄⋅y⋅y₁ + 2⋅x₃⋅x₄⋅y⋅y₂ - \n",
       "──────────────────────────────────────────────────────────────────────────────\n",
       "                                                                              \n",
       "\n",
       "______________________________________________\n",
       "                  2  2       2          2   2 \n",
       "2⋅x₃⋅x₄⋅y₁⋅y₂ + x₄ ⋅y  - 2⋅x₄ ⋅y⋅y₂ + x₄ ⋅y₂  \n",
       "──────────────────────────────────────────────\n",
       "                                              "
      ]
     },
     "execution_count": 14,
     "metadata": {},
     "output_type": "execute_result"
    }
   ],
   "source": [
    "sympy.simplify(sols[0][1])"
   ]
  },
  {
   "cell_type": "markdown",
   "metadata": {},
   "source": [
    "## a2"
   ]
  },
  {
   "cell_type": "code",
   "execution_count": 15,
   "metadata": {},
   "outputs": [
    {
     "data": {
      "image/png": "[encoded data removed]",
      "text/latex": [
       "$\\displaystyle \\frac{- x y_{1} + x y_{2} - x y_{3} + x y_{4} + x_{1} y - x_{1} y_{4} - x_{2} y + x_{2} y_{3} + x_{3} y - x_{3} y_{2} - x_{4} y + x_{4} y_{1} + \\sqrt{x^{2} y_{1}^{2} - 2 x^{2} y_{1} y_{2} + 2 x^{2} y_{1} y_{3} - 2 x^{2} y_{1} y_{4} + x^{2} y_{2}^{2} - 2 x^{2} y_{2} y_{3} + 2 x^{2} y_{2} y_{4} + x^{2} y_{3}^{2} - 2 x^{2} y_{3} y_{4} + x^{2} y_{4}^{2} - 2 x x_{1} y y_{1} + 2 x x_{1} y y_{2} - 2 x x_{1} y y_{3} + 2 x x_{1} y y_{4} + 2 x x_{1} y_{1} y_{3} + 2 x x_{1} y_{2} y_{3} - 4 x x_{1} y_{2} y_{4} - 2 x x_{1} y_{3}^{2} + 2 x x_{1} y_{3} y_{4} + 2 x x_{2} y y_{1} - 2 x x_{2} y y_{2} + 2 x x_{2} y y_{3} - 2 x x_{2} y y_{4} - 4 x x_{2} y_{1} y_{3} + 2 x x_{2} y_{1} y_{4} + 2 x x_{2} y_{2} y_{4} + 2 x x_{2} y_{3} y_{4} - 2 x x_{2} y_{4}^{2} - 2 x x_{3} y y_{1} + 2 x x_{3} y y_{2} - 2 x x_{3} y y_{3} + 2 x x_{3} y y_{4} - 2 x x_{3} y_{1}^{2} + 2 x x_{3} y_{1} y_{2} + 2 x x_{3} y_{1} y_{3} + 2 x x_{3} y_{1} y_{4} - 4 x x_{3} y_{2} y_{4} + 2 x x_{4} y y_{1} - 2 x x_{4} y y_{2} + 2 x x_{4} y y_{3} - 2 x x_{4} y y_{4} + 2 x x_{4} y_{1} y_{2} - 4 x x_{4} y_{1} y_{3} - 2 x x_{4} y_{2}^{2} + 2 x x_{4} y_{2} y_{3} + 2 x x_{4} y_{2} y_{4} + x_{1}^{2} y^{2} - 2 x_{1}^{2} y y_{3} + x_{1}^{2} y_{3}^{2} - 2 x_{1} x_{2} y^{2} + 2 x_{1} x_{2} y y_{3} + 2 x_{1} x_{2} y y_{4} - 2 x_{1} x_{2} y_{3} y_{4} + 2 x_{1} x_{3} y^{2} + 2 x_{1} x_{3} y y_{1} - 4 x_{1} x_{3} y y_{2} + 2 x_{1} x_{3} y y_{3} - 4 x_{1} x_{3} y y_{4} - 2 x_{1} x_{3} y_{1} y_{3} + 4 x_{1} x_{3} y_{2} y_{4} - 2 x_{1} x_{4} y^{2} + 2 x_{1} x_{4} y y_{2} + 2 x_{1} x_{4} y y_{3} - 2 x_{1} x_{4} y_{2} y_{3} + x_{2}^{2} y^{2} - 2 x_{2}^{2} y y_{4} + x_{2}^{2} y_{4}^{2} - 2 x_{2} x_{3} y^{2} + 2 x_{2} x_{3} y y_{1} + 2 x_{2} x_{3} y y_{4} - 2 x_{2} x_{3} y_{1} y_{4} + 2 x_{2} x_{4} y^{2} - 4 x_{2} x_{4} y y_{1} + 2 x_{2} x_{4} y y_{2} - 4 x_{2} x_{4} y y_{3} + 2 x_{2} x_{4} y y_{4} + 4 x_{2} x_{4} y_{1} y_{3} - 2 x_{2} x_{4} y_{2} y_{4} + x_{3}^{2} y^{2} - 2 x_{3}^{2} y y_{1} + x_{3}^{2} y_{1}^{2} - 2 x_{3} x_{4} y^{2} + 2 x_{3} x_{4} y y_{1} + 2 x_{3} x_{4} y y_{2} - 2 x_{3} x_{4} y_{1} y_{2} + x_{4}^{2} y^{2} - 2 x_{4}^{2} y y_{2} + x_{4}^{2} y_{2}^{2}}}{x_{1} y_{3} - x_{1} y_{4} - x_{2} y_{3} + x_{2} y_{4} - x_{3} y_{1} + x_{3} y_{2} + x_{4} y_{1} - x_{4} y_{2}}$"
      ],
      "text/plain": [
       "                                                                              \n",
       "                                                                              \n",
       "-x⋅y₁ + x⋅y₂ - x⋅y₃ + x⋅y₄ + x₁⋅y - x₁⋅y₄ - x₂⋅y + x₂⋅y₃ + x₃⋅y - x₃⋅y₂ - x₄⋅y\n",
       "──────────────────────────────────────────────────────────────────────────────\n",
       "                                                                              \n",
       "\n",
       "              ________________________________________________________________\n",
       "             ╱  2   2      2            2            2          2   2      2  \n",
       " + x₄⋅y₁ + ╲╱  x ⋅y₁  - 2⋅x ⋅y₁⋅y₂ + 2⋅x ⋅y₁⋅y₃ - 2⋅x ⋅y₁⋅y₄ + x ⋅y₂  - 2⋅x ⋅y\n",
       "──────────────────────────────────────────────────────────────────────────────\n",
       "                                                                              \n",
       "\n",
       "______________________________________________________________________________\n",
       "          2          2   2      2          2   2                              \n",
       "₂⋅y₃ + 2⋅x ⋅y₂⋅y₄ + x ⋅y₃  - 2⋅x ⋅y₃⋅y₄ + x ⋅y₄  - 2⋅x⋅x₁⋅y⋅y₁ + 2⋅x⋅x₁⋅y⋅y₂ -\n",
       "──────────────────────────────────────────────────────────────────────────────\n",
       "                                                                              \n",
       "\n",
       "______________________________________________________________________________\n",
       "                                                                              \n",
       " 2⋅x⋅x₁⋅y⋅y₃ + 2⋅x⋅x₁⋅y⋅y₄ + 2⋅x⋅x₁⋅y₁⋅y₃ + 2⋅x⋅x₁⋅y₂⋅y₃ - 4⋅x⋅x₁⋅y₂⋅y₄ - 2⋅x⋅\n",
       "──────────────────────────────────────────────────────────────────────────────\n",
       "                                                                              \n",
       "\n",
       "______________________________________________________________________________\n",
       "     2                                                                        \n",
       "x₁⋅y₃  + 2⋅x⋅x₁⋅y₃⋅y₄ + 2⋅x⋅x₂⋅y⋅y₁ - 2⋅x⋅x₂⋅y⋅y₂ + 2⋅x⋅x₂⋅y⋅y₃ - 2⋅x⋅x₂⋅y⋅y₄ \n",
       "──────────────────────────────────────────────────────────────────────────────\n",
       "                                                                              \n",
       "\n",
       "______________________________________________________________________________\n",
       "                                                                       2      \n",
       "- 4⋅x⋅x₂⋅y₁⋅y₃ + 2⋅x⋅x₂⋅y₁⋅y₄ + 2⋅x⋅x₂⋅y₂⋅y₄ + 2⋅x⋅x₂⋅y₃⋅y₄ - 2⋅x⋅x₂⋅y₄  - 2⋅x\n",
       "──────────────────────────────────────────────────────────────────────────────\n",
       "                                                                              \n",
       "\n",
       "______________________________________________________________________________\n",
       "                                                              2               \n",
       "⋅x₃⋅y⋅y₁ + 2⋅x⋅x₃⋅y⋅y₂ - 2⋅x⋅x₃⋅y⋅y₃ + 2⋅x⋅x₃⋅y⋅y₄ - 2⋅x⋅x₃⋅y₁  + 2⋅x⋅x₃⋅y₁⋅y₂\n",
       "──────────────────────────────────────────────────────────────────────────────\n",
       "                                                                              \n",
       "\n",
       "______________________________________________________________________________\n",
       "                                                                              \n",
       " + 2⋅x⋅x₃⋅y₁⋅y₃ + 2⋅x⋅x₃⋅y₁⋅y₄ - 4⋅x⋅x₃⋅y₂⋅y₄ + 2⋅x⋅x₄⋅y⋅y₁ - 2⋅x⋅x₄⋅y⋅y₂ + 2⋅\n",
       "──────────────────────────────────────────────────────────────────────────────\n",
       "                                                                       x₁⋅y₃ -\n",
       "\n",
       "______________________________________________________________________________\n",
       "                                                                 2            \n",
       "x⋅x₄⋅y⋅y₃ - 2⋅x⋅x₄⋅y⋅y₄ + 2⋅x⋅x₄⋅y₁⋅y₂ - 4⋅x⋅x₄⋅y₁⋅y₃ - 2⋅x⋅x₄⋅y₂  + 2⋅x⋅x₄⋅y₂\n",
       "──────────────────────────────────────────────────────────────────────────────\n",
       " x₁⋅y₄ - x₂⋅y₃ + x₂⋅y₄ - x₃⋅y₁ + x₃⋅y₂ + x₄⋅y₁ - x₄⋅y₂                        \n",
       "\n",
       "______________________________________________________________________________\n",
       "                       2  2       2          2   2            2               \n",
       "⋅y₃ + 2⋅x⋅x₄⋅y₂⋅y₄ + x₁ ⋅y  - 2⋅x₁ ⋅y⋅y₃ + x₁ ⋅y₃  - 2⋅x₁⋅x₂⋅y  + 2⋅x₁⋅x₂⋅y⋅y₃\n",
       "──────────────────────────────────────────────────────────────────────────────\n",
       "                                                                              \n",
       "\n",
       "______________________________________________________________________________\n",
       "                                           2                                  \n",
       " + 2⋅x₁⋅x₂⋅y⋅y₄ - 2⋅x₁⋅x₂⋅y₃⋅y₄ + 2⋅x₁⋅x₃⋅y  + 2⋅x₁⋅x₃⋅y⋅y₁ - 4⋅x₁⋅x₃⋅y⋅y₂ + 2\n",
       "──────────────────────────────────────────────────────────────────────────────\n",
       "                                                                              \n",
       "\n",
       "______________________________________________________________________________\n",
       "                                                                      2       \n",
       "⋅x₁⋅x₃⋅y⋅y₃ - 4⋅x₁⋅x₃⋅y⋅y₄ - 2⋅x₁⋅x₃⋅y₁⋅y₃ + 4⋅x₁⋅x₃⋅y₂⋅y₄ - 2⋅x₁⋅x₄⋅y  + 2⋅x₁\n",
       "──────────────────────────────────────────────────────────────────────────────\n",
       "                                                                              \n",
       "\n",
       "______________________________________________________________________________\n",
       "                                            2  2       2          2   2       \n",
       "⋅x₄⋅y⋅y₂ + 2⋅x₁⋅x₄⋅y⋅y₃ - 2⋅x₁⋅x₄⋅y₂⋅y₃ + x₂ ⋅y  - 2⋅x₂ ⋅y⋅y₄ + x₂ ⋅y₄  - 2⋅x₂\n",
       "──────────────────────────────────────────────────────────────────────────────\n",
       "                                                                              \n",
       "\n",
       "______________________________________________________________________________\n",
       "     2                                                          2             \n",
       "⋅x₃⋅y  + 2⋅x₂⋅x₃⋅y⋅y₁ + 2⋅x₂⋅x₃⋅y⋅y₄ - 2⋅x₂⋅x₃⋅y₁⋅y₄ + 2⋅x₂⋅x₄⋅y  - 4⋅x₂⋅x₄⋅y⋅\n",
       "──────────────────────────────────────────────────────────────────────────────\n",
       "                                                                              \n",
       "\n",
       "______________________________________________________________________________\n",
       "                                                                              \n",
       "y₁ + 2⋅x₂⋅x₄⋅y⋅y₂ - 4⋅x₂⋅x₄⋅y⋅y₃ + 2⋅x₂⋅x₄⋅y⋅y₄ + 4⋅x₂⋅x₄⋅y₁⋅y₃ - 2⋅x₂⋅x₄⋅y₂⋅y\n",
       "──────────────────────────────────────────────────────────────────────────────\n",
       "                                                                              \n",
       "\n",
       "______________________________________________________________________________\n",
       "      2  2       2          2   2            2                                \n",
       "₄ + x₃ ⋅y  - 2⋅x₃ ⋅y⋅y₁ + x₃ ⋅y₁  - 2⋅x₃⋅x₄⋅y  + 2⋅x₃⋅x₄⋅y⋅y₁ + 2⋅x₃⋅x₄⋅y⋅y₂ -\n",
       "──────────────────────────────────────────────────────────────────────────────\n",
       "                                                                              \n",
       "\n",
       "_______________________________________________\n",
       "                   2  2       2          2   2 \n",
       " 2⋅x₃⋅x₄⋅y₁⋅y₂ + x₄ ⋅y  - 2⋅x₄ ⋅y⋅y₂ + x₄ ⋅y₂  \n",
       "───────────────────────────────────────────────\n",
       "                                               "
      ]
     },
     "execution_count": 15,
     "metadata": {},
     "output_type": "execute_result"
    }
   ],
   "source": [
    "sympy.simplify(sols[1][0])"
   ]
  },
  {
   "cell_type": "markdown",
   "metadata": {},
   "source": [
    "## b2"
   ]
  },
  {
   "cell_type": "code",
   "execution_count": 16,
   "metadata": {},
   "outputs": [
    {
     "data": {
      "image/png": "[encoded data removed]",
      "text/latex": [
       "$\\displaystyle \\frac{x y_{1} - x y_{2} + x y_{3} - x y_{4} - x_{1} y + x_{1} y_{2} + x_{2} y - x_{2} y_{1} - x_{3} y + x_{3} y_{4} + x_{4} y - x_{4} y_{3} + \\sqrt{x^{2} y_{1}^{2} - 2 x^{2} y_{1} y_{2} + 2 x^{2} y_{1} y_{3} - 2 x^{2} y_{1} y_{4} + x^{2} y_{2}^{2} - 2 x^{2} y_{2} y_{3} + 2 x^{2} y_{2} y_{4} + x^{2} y_{3}^{2} - 2 x^{2} y_{3} y_{4} + x^{2} y_{4}^{2} - 2 x x_{1} y y_{1} + 2 x x_{1} y y_{2} - 2 x x_{1} y y_{3} + 2 x x_{1} y y_{4} + 2 x x_{1} y_{1} y_{3} + 2 x x_{1} y_{2} y_{3} - 4 x x_{1} y_{2} y_{4} - 2 x x_{1} y_{3}^{2} + 2 x x_{1} y_{3} y_{4} + 2 x x_{2} y y_{1} - 2 x x_{2} y y_{2} + 2 x x_{2} y y_{3} - 2 x x_{2} y y_{4} - 4 x x_{2} y_{1} y_{3} + 2 x x_{2} y_{1} y_{4} + 2 x x_{2} y_{2} y_{4} + 2 x x_{2} y_{3} y_{4} - 2 x x_{2} y_{4}^{2} - 2 x x_{3} y y_{1} + 2 x x_{3} y y_{2} - 2 x x_{3} y y_{3} + 2 x x_{3} y y_{4} - 2 x x_{3} y_{1}^{2} + 2 x x_{3} y_{1} y_{2} + 2 x x_{3} y_{1} y_{3} + 2 x x_{3} y_{1} y_{4} - 4 x x_{3} y_{2} y_{4} + 2 x x_{4} y y_{1} - 2 x x_{4} y y_{2} + 2 x x_{4} y y_{3} - 2 x x_{4} y y_{4} + 2 x x_{4} y_{1} y_{2} - 4 x x_{4} y_{1} y_{3} - 2 x x_{4} y_{2}^{2} + 2 x x_{4} y_{2} y_{3} + 2 x x_{4} y_{2} y_{4} + x_{1}^{2} y^{2} - 2 x_{1}^{2} y y_{3} + x_{1}^{2} y_{3}^{2} - 2 x_{1} x_{2} y^{2} + 2 x_{1} x_{2} y y_{3} + 2 x_{1} x_{2} y y_{4} - 2 x_{1} x_{2} y_{3} y_{4} + 2 x_{1} x_{3} y^{2} + 2 x_{1} x_{3} y y_{1} - 4 x_{1} x_{3} y y_{2} + 2 x_{1} x_{3} y y_{3} - 4 x_{1} x_{3} y y_{4} - 2 x_{1} x_{3} y_{1} y_{3} + 4 x_{1} x_{3} y_{2} y_{4} - 2 x_{1} x_{4} y^{2} + 2 x_{1} x_{4} y y_{2} + 2 x_{1} x_{4} y y_{3} - 2 x_{1} x_{4} y_{2} y_{3} + x_{2}^{2} y^{2} - 2 x_{2}^{2} y y_{4} + x_{2}^{2} y_{4}^{2} - 2 x_{2} x_{3} y^{2} + 2 x_{2} x_{3} y y_{1} + 2 x_{2} x_{3} y y_{4} - 2 x_{2} x_{3} y_{1} y_{4} + 2 x_{2} x_{4} y^{2} - 4 x_{2} x_{4} y y_{1} + 2 x_{2} x_{4} y y_{2} - 4 x_{2} x_{4} y y_{3} + 2 x_{2} x_{4} y y_{4} + 4 x_{2} x_{4} y_{1} y_{3} - 2 x_{2} x_{4} y_{2} y_{4} + x_{3}^{2} y^{2} - 2 x_{3}^{2} y y_{1} + x_{3}^{2} y_{1}^{2} - 2 x_{3} x_{4} y^{2} + 2 x_{3} x_{4} y y_{1} + 2 x_{3} x_{4} y y_{2} - 2 x_{3} x_{4} y_{1} y_{2} + x_{4}^{2} y^{2} - 2 x_{4}^{2} y y_{2} + x_{4}^{2} y_{2}^{2}}}{x_{1} y_{2} - x_{1} y_{3} - x_{2} y_{1} + x_{2} y_{4} + x_{3} y_{1} - x_{3} y_{4} - x_{4} y_{2} + x_{4} y_{3}}$"
      ],
      "text/plain": [
       "                                                                              \n",
       "                                                                              \n",
       "x⋅y₁ - x⋅y₂ + x⋅y₃ - x⋅y₄ - x₁⋅y + x₁⋅y₂ + x₂⋅y - x₂⋅y₁ - x₃⋅y + x₃⋅y₄ + x₄⋅y \n",
       "──────────────────────────────────────────────────────────────────────────────\n",
       "                                                                              \n",
       "\n",
       "             _________________________________________________________________\n",
       "            ╱  2   2      2            2            2          2   2      2   \n",
       "- x₄⋅y₃ + ╲╱  x ⋅y₁  - 2⋅x ⋅y₁⋅y₂ + 2⋅x ⋅y₁⋅y₃ - 2⋅x ⋅y₁⋅y₄ + x ⋅y₂  - 2⋅x ⋅y₂\n",
       "──────────────────────────────────────────────────────────────────────────────\n",
       "                                                                              \n",
       "\n",
       "______________________________________________________________________________\n",
       "         2          2   2      2          2   2                               \n",
       "⋅y₃ + 2⋅x ⋅y₂⋅y₄ + x ⋅y₃  - 2⋅x ⋅y₃⋅y₄ + x ⋅y₄  - 2⋅x⋅x₁⋅y⋅y₁ + 2⋅x⋅x₁⋅y⋅y₂ - \n",
       "──────────────────────────────────────────────────────────────────────────────\n",
       "                                                                              \n",
       "\n",
       "______________________________________________________________________________\n",
       "                                                                              \n",
       "2⋅x⋅x₁⋅y⋅y₃ + 2⋅x⋅x₁⋅y⋅y₄ + 2⋅x⋅x₁⋅y₁⋅y₃ + 2⋅x⋅x₁⋅y₂⋅y₃ - 4⋅x⋅x₁⋅y₂⋅y₄ - 2⋅x⋅x\n",
       "──────────────────────────────────────────────────────────────────────────────\n",
       "                                                                              \n",
       "\n",
       "______________________________________________________________________________\n",
       "    2                                                                         \n",
       "₁⋅y₃  + 2⋅x⋅x₁⋅y₃⋅y₄ + 2⋅x⋅x₂⋅y⋅y₁ - 2⋅x⋅x₂⋅y⋅y₂ + 2⋅x⋅x₂⋅y⋅y₃ - 2⋅x⋅x₂⋅y⋅y₄ -\n",
       "──────────────────────────────────────────────────────────────────────────────\n",
       "                                                                              \n",
       "\n",
       "______________________________________________________________________________\n",
       "                                                                      2       \n",
       " 4⋅x⋅x₂⋅y₁⋅y₃ + 2⋅x⋅x₂⋅y₁⋅y₄ + 2⋅x⋅x₂⋅y₂⋅y₄ + 2⋅x⋅x₂⋅y₃⋅y₄ - 2⋅x⋅x₂⋅y₄  - 2⋅x⋅\n",
       "──────────────────────────────────────────────────────────────────────────────\n",
       "                                                                              \n",
       "\n",
       "______________________________________________________________________________\n",
       "                                                             2                \n",
       "x₃⋅y⋅y₁ + 2⋅x⋅x₃⋅y⋅y₂ - 2⋅x⋅x₃⋅y⋅y₃ + 2⋅x⋅x₃⋅y⋅y₄ - 2⋅x⋅x₃⋅y₁  + 2⋅x⋅x₃⋅y₁⋅y₂ \n",
       "──────────────────────────────────────────────────────────────────────────────\n",
       "                                                                              \n",
       "\n",
       "______________________________________________________________________________\n",
       "                                                                              \n",
       "+ 2⋅x⋅x₃⋅y₁⋅y₃ + 2⋅x⋅x₃⋅y₁⋅y₄ - 4⋅x⋅x₃⋅y₂⋅y₄ + 2⋅x⋅x₄⋅y⋅y₁ - 2⋅x⋅x₄⋅y⋅y₂ + 2⋅x\n",
       "──────────────────────────────────────────────────────────────────────────────\n",
       "                                                                      x₁⋅y₂ - \n",
       "\n",
       "______________________________________________________________________________\n",
       "                                                                2             \n",
       "⋅x₄⋅y⋅y₃ - 2⋅x⋅x₄⋅y⋅y₄ + 2⋅x⋅x₄⋅y₁⋅y₂ - 4⋅x⋅x₄⋅y₁⋅y₃ - 2⋅x⋅x₄⋅y₂  + 2⋅x⋅x₄⋅y₂⋅\n",
       "──────────────────────────────────────────────────────────────────────────────\n",
       "x₁⋅y₃ - x₂⋅y₁ + x₂⋅y₄ + x₃⋅y₁ - x₃⋅y₄ - x₄⋅y₂ + x₄⋅y₃                         \n",
       "\n",
       "______________________________________________________________________________\n",
       "                      2  2       2          2   2            2                \n",
       "y₃ + 2⋅x⋅x₄⋅y₂⋅y₄ + x₁ ⋅y  - 2⋅x₁ ⋅y⋅y₃ + x₁ ⋅y₃  - 2⋅x₁⋅x₂⋅y  + 2⋅x₁⋅x₂⋅y⋅y₃ \n",
       "──────────────────────────────────────────────────────────────────────────────\n",
       "                                                                              \n",
       "\n",
       "______________________________________________________________________________\n",
       "                                          2                                   \n",
       "+ 2⋅x₁⋅x₂⋅y⋅y₄ - 2⋅x₁⋅x₂⋅y₃⋅y₄ + 2⋅x₁⋅x₃⋅y  + 2⋅x₁⋅x₃⋅y⋅y₁ - 4⋅x₁⋅x₃⋅y⋅y₂ + 2⋅\n",
       "──────────────────────────────────────────────────────────────────────────────\n",
       "                                                                              \n",
       "\n",
       "______________________________________________________________________________\n",
       "                                                                     2        \n",
       "x₁⋅x₃⋅y⋅y₃ - 4⋅x₁⋅x₃⋅y⋅y₄ - 2⋅x₁⋅x₃⋅y₁⋅y₃ + 4⋅x₁⋅x₃⋅y₂⋅y₄ - 2⋅x₁⋅x₄⋅y  + 2⋅x₁⋅\n",
       "──────────────────────────────────────────────────────────────────────────────\n",
       "                                                                              \n",
       "\n",
       "______________________________________________________________________________\n",
       "                                           2  2       2          2   2        \n",
       "x₄⋅y⋅y₂ + 2⋅x₁⋅x₄⋅y⋅y₃ - 2⋅x₁⋅x₄⋅y₂⋅y₃ + x₂ ⋅y  - 2⋅x₂ ⋅y⋅y₄ + x₂ ⋅y₄  - 2⋅x₂⋅\n",
       "──────────────────────────────────────────────────────────────────────────────\n",
       "                                                                              \n",
       "\n",
       "______________________________________________________________________________\n",
       "    2                                                          2              \n",
       "x₃⋅y  + 2⋅x₂⋅x₃⋅y⋅y₁ + 2⋅x₂⋅x₃⋅y⋅y₄ - 2⋅x₂⋅x₃⋅y₁⋅y₄ + 2⋅x₂⋅x₄⋅y  - 4⋅x₂⋅x₄⋅y⋅y\n",
       "──────────────────────────────────────────────────────────────────────────────\n",
       "                                                                              \n",
       "\n",
       "______________________________________________________________________________\n",
       "                                                                              \n",
       "₁ + 2⋅x₂⋅x₄⋅y⋅y₂ - 4⋅x₂⋅x₄⋅y⋅y₃ + 2⋅x₂⋅x₄⋅y⋅y₄ + 4⋅x₂⋅x₄⋅y₁⋅y₃ - 2⋅x₂⋅x₄⋅y₂⋅y₄\n",
       "──────────────────────────────────────────────────────────────────────────────\n",
       "                                                                              \n",
       "\n",
       "______________________________________________________________________________\n",
       "     2  2       2          2   2            2                                 \n",
       " + x₃ ⋅y  - 2⋅x₃ ⋅y⋅y₁ + x₃ ⋅y₁  - 2⋅x₃⋅x₄⋅y  + 2⋅x₃⋅x₄⋅y⋅y₁ + 2⋅x₃⋅x₄⋅y⋅y₂ - \n",
       "──────────────────────────────────────────────────────────────────────────────\n",
       "                                                                              \n",
       "\n",
       "______________________________________________\n",
       "                  2  2       2          2   2 \n",
       "2⋅x₃⋅x₄⋅y₁⋅y₂ + x₄ ⋅y  - 2⋅x₄ ⋅y⋅y₂ + x₄ ⋅y₂  \n",
       "──────────────────────────────────────────────\n",
       "                                              "
      ]
     },
     "execution_count": 16,
     "metadata": {},
     "output_type": "execute_result"
    }
   ],
   "source": [
    "sympy.simplify(sols[1][1])"
   ]
  },
  {
   "cell_type": "code",
   "execution_count": 17,
   "metadata": {},
   "outputs": [
    {
     "name": "stdout",
     "output_type": "stream",
     "text": [
      "- \\frac{2 x y_{1} - 2 x y_{2} + 2 x y_{3} - 2 x y_{4} - 2 x_{1} y + x_{1} y_{2} + x_{1} y_{4} + 2 x_{2} y - x_{2} y_{1} - x_{2} y_{3} - 2 x_{3} y + x_{3} y_{2} + x_{3} y_{4} + 2 x_{4} y - x_{4} y_{1} - x_{4} y_{3} + \\left(\\frac{x y_{1} - x y_{2} + x y_{3} - x y_{4} - x_{1} y + x_{1} y_{2} + x_{2} y - x_{2} y_{1} - x_{3} y + x_{3} y_{4} + x_{4} y - x_{4} y_{3}}{x_{1} y_{2} - x_{1} y_{3} - x_{2} y_{1} + x_{2} y_{4} + x_{3} y_{1} - x_{3} y_{4} - x_{4} y_{2} + x_{4} y_{3}} + \\frac{\\sqrt{x^{2} y_{1}^{2} - 2 x^{2} y_{1} y_{2} + 2 x^{2} y_{1} y_{3} - 2 x^{2} y_{1} y_{4} + x^{2} y_{2}^{2} - 2 x^{2} y_{2} y_{3} + 2 x^{2} y_{2} y_{4} + x^{2} y_{3}^{2} - 2 x^{2} y_{3} y_{4} + x^{2} y_{4}^{2} - 2 x x_{1} y y_{1} + 2 x x_{1} y y_{2} - 2 x x_{1} y y_{3} + 2 x x_{1} y y_{4} + 2 x x_{1} y_{1} y_{3} + 2 x x_{1} y_{2} y_{3} - 4 x x_{1} y_{2} y_{4} - 2 x x_{1} y_{3}^{2} + 2 x x_{1} y_{3} y_{4} + 2 x x_{2} y y_{1} - 2 x x_{2} y y_{2} + 2 x x_{2} y y_{3} - 2 x x_{2} y y_{4} - 4 x x_{2} y_{1} y_{3} + 2 x x_{2} y_{1} y_{4} + 2 x x_{2} y_{2} y_{4} + 2 x x_{2} y_{3} y_{4} - 2 x x_{2} y_{4}^{2} - 2 x x_{3} y y_{1} + 2 x x_{3} y y_{2} - 2 x x_{3} y y_{3} + 2 x x_{3} y y_{4} - 2 x x_{3} y_{1}^{2} + 2 x x_{3} y_{1} y_{2} + 2 x x_{3} y_{1} y_{3} + 2 x x_{3} y_{1} y_{4} - 4 x x_{3} y_{2} y_{4} + 2 x x_{4} y y_{1} - 2 x x_{4} y y_{2} + 2 x x_{4} y y_{3} - 2 x x_{4} y y_{4} + 2 x x_{4} y_{1} y_{2} - 4 x x_{4} y_{1} y_{3} - 2 x x_{4} y_{2}^{2} + 2 x x_{4} y_{2} y_{3} + 2 x x_{4} y_{2} y_{4} + x_{1}^{2} y^{2} - 2 x_{1}^{2} y y_{3} + x_{1}^{2} y_{3}^{2} - 2 x_{1} x_{2} y^{2} + 2 x_{1} x_{2} y y_{3} + 2 x_{1} x_{2} y y_{4} - 2 x_{1} x_{2} y_{3} y_{4} + 2 x_{1} x_{3} y^{2} + 2 x_{1} x_{3} y y_{1} - 4 x_{1} x_{3} y y_{2} + 2 x_{1} x_{3} y y_{3} - 4 x_{1} x_{3} y y_{4} - 2 x_{1} x_{3} y_{1} y_{3} + 4 x_{1} x_{3} y_{2} y_{4} - 2 x_{1} x_{4} y^{2} + 2 x_{1} x_{4} y y_{2} + 2 x_{1} x_{4} y y_{3} - 2 x_{1} x_{4} y_{2} y_{3} + x_{2}^{2} y^{2} - 2 x_{2}^{2} y y_{4} + x_{2}^{2} y_{4}^{2} - 2 x_{2} x_{3} y^{2} + 2 x_{2} x_{3} y y_{1} + 2 x_{2} x_{3} y y_{4} - 2 x_{2} x_{3} y_{1} y_{4} + 2 x_{2} x_{4} y^{2} - 4 x_{2} x_{4} y y_{1} + 2 x_{2} x_{4} y y_{2} - 4 x_{2} x_{4} y y_{3} + 2 x_{2} x_{4} y y_{4} + 4 x_{2} x_{4} y_{1} y_{3} - 2 x_{2} x_{4} y_{2} y_{4} + x_{3}^{2} y^{2} - 2 x_{3}^{2} y y_{1} + x_{3}^{2} y_{1}^{2} - 2 x_{3} x_{4} y^{2} + 2 x_{3} x_{4} y y_{1} + 2 x_{3} x_{4} y y_{2} - 2 x_{3} x_{4} y_{1} y_{2} + x_{4}^{2} y^{2} - 2 x_{4}^{2} y y_{2} + x_{4}^{2} y_{2}^{2}}}{x_{1} y_{2} - x_{1} y_{3} - x_{2} y_{1} + x_{2} y_{4} + x_{3} y_{1} - x_{3} y_{4} - x_{4} y_{2} + x_{4} y_{3}}\\right) \\left(- x_{1} y_{2} + x_{1} y_{3} + x_{2} y_{1} - x_{2} y_{4} - x_{3} y_{1} + x_{3} y_{4} + x_{4} y_{2} - x_{4} y_{3}\\right)}{x_{1} y_{3} - x_{1} y_{4} - x_{2} y_{3} + x_{2} y_{4} - x_{3} y_{1} + x_{3} y_{2} + x_{4} y_{1} - x_{4} y_{2}}\n"
     ]
    }
   ],
   "source": [
    "print(sympy.latex(sols[1][0]))"
   ]
  },
  {
   "cell_type": "markdown",
   "metadata": {},
   "source": [
    "Evaluate at specific point"
   ]
  },
  {
   "cell_type": "code",
   "execution_count": 18,
   "metadata": {},
   "outputs": [],
   "source": [
    "subsdic = {\n",
    "    x1:1.1, y1:0.6,\n",
    "    x2:2.9,y2:-1.4,\n",
    "    x3:3.9,y3:3.4,\n",
    "    x4:1.6,y4:3.4,\n",
    "    x:3.34,y:0.01\n",
    "}\n"
   ]
  },
  {
   "cell_type": "code",
   "execution_count": 19,
   "metadata": {},
   "outputs": [
    {
     "name": "stdout",
     "output_type": "stream",
     "text": [
      "a1=1.13042299452897\n",
      "b1=-0.375135562916888\n",
      "a2=-3.68042299452897\n",
      "b2=-55.6998644370831\n"
     ]
    }
   ],
   "source": [
    "a1 = sols[0][0].subs(subsdic)\n",
    "b1 = sols[0][1].subs(subsdic)\n",
    "a2 = sols[1][0].subs(subsdic)\n",
    "b2 = sols[1][1].subs(subsdic)\n",
    "print(f'a1={a1}\\nb1={b1}\\na2={a2}\\nb2={b2}')"
   ]
  },
  {
   "cell_type": "code",
   "execution_count": 20,
   "metadata": {},
   "outputs": [
    {
     "ename": "TypeError",
     "evalue": "'module' object is not callable",
     "output_type": "error",
     "traceback": [
      "\u001b[1;31m---------------------------------------------------------------------------\u001b[0m",
      "\u001b[1;31mTypeError\u001b[0m                                 Traceback (most recent call last)",
      "\u001b[1;32m~\\AppData\\Local\\Temp/ipykernel_23804/2795456065.py\u001b[0m in \u001b[0;36m<module>\u001b[1;34m\u001b[0m\n\u001b[1;32m----> 1\u001b[1;33m \u001b[0mprint\u001b[0m\u001b[1;33m(\u001b[0m\u001b[1;34mf'a1={ccode(sols[0][0])}'\u001b[0m\u001b[1;33m)\u001b[0m\u001b[1;33m\u001b[0m\u001b[1;33m\u001b[0m\u001b[0m\n\u001b[0m",
      "\u001b[1;31mTypeError\u001b[0m: 'module' object is not callable"
     ]
    }
   ],
   "source": [
    "print(f'a1={ccode(sols[0][0])}')"
   ]
  },
  {
   "cell_type": "code",
   "execution_count": null,
   "metadata": {},
   "outputs": [],
   "source": [
    "print(f'b1={ccode(sols[0][1])}')"
   ]
  },
  {
   "cell_type": "code",
   "execution_count": null,
   "metadata": {},
   "outputs": [],
   "source": [
    "print(f'a2={ccode(sols[1][0])}')"
   ]
  },
  {
   "cell_type": "code",
   "execution_count": null,
   "metadata": {},
   "outputs": [],
   "source": [
    "print(f'b2={ccode(sols[1][1])}')"
   ]
  },
  {
   "cell_type": "code",
   "execution_count": null,
   "metadata": {},
   "outputs": [],
   "source": []
  },
  {
   "cell_type": "code",
   "execution_count": null,
   "metadata": {},
   "outputs": [],
   "source": []
  },
  {
   "cell_type": "markdown",
   "metadata": {},
   "source": [
    "# Deriving yaw-pitch-roll Euler angle equations"
   ]
  },
  {
   "cell_type": "code",
   "execution_count": null,
   "metadata": {},
   "outputs": [],
   "source": [
    "# general setup\n",
    "import sympy\n",
    "sympy.init_printing()\n",
    "from sympy.printing.mathml import print_mathml\n",
    "from IPython.display import display"
   ]
  },
  {
   "cell_type": "code",
   "execution_count": null,
   "metadata": {},
   "outputs": [],
   "source": [
    "# elementary symbols\n",
    "phi, theta, psi = sympy.symbols(r'\\phi \\theta \\psi')\n",
    "wx, wy, wz = sympy.symbols(r'\\omega_x \\omega_y \\omega_z')\n",
    "t = sympy.symbols('t')"
   ]
  },
  {
   "cell_type": "code",
   "execution_count": null,
   "metadata": {},
   "outputs": [],
   "source": [
    "# main variables of interest\n",
    "def vec(x, y, z): # helper: make a vector\n",
    "    return sympy.Matrix([[x], [y], [z]])\n",
    "\n",
    "# angular rate vector\n",
    "w = vec(wx, wy, wz)\n",
    "\n",
    "# Euler rate \"vector\"\n",
    "dpsi,dtheta,dphi = [sympy.diff(x,t,evaluate=False) for x in [psi,theta,phi]]\n",
    "deib = vec(dphi, dtheta, dpsi)"
   ]
  },
  {
   "cell_type": "code",
   "execution_count": 23,
   "metadata": {
    "run_control": {
     "frozen": false,
     "read_only": false
    }
   },
   "outputs": [],
   "source": [
    "# rotation matrices\n",
    "s, c = sympy.sin, sympy.cos\n",
    "\n",
    "def Ephi(phi): return sympy.Matrix([[1,  0,      0],\n",
    "                                    [0,  c(phi), s(phi)],\n",
    "                                    [0, -s(phi), c(phi)]])\n",
    "def Ethe(the): return sympy.Matrix([[c(the), 0, -s(the)],\n",
    "                                    [0,      1,  0],\n",
    "                                    [s(the), 0,  c(the)]])\n",
    "def Epsi(psi): return sympy.Matrix([[ c(psi), s(psi), 0],\n",
    "                                    [-s(psi), c(psi), 0],\n",
    "                                    [0,       0,      1]])"
   ]
  },
  {
   "cell_type": "markdown",
   "metadata": {
    "run_control": {
     "frozen": false,
     "read_only": false
    }
   },
   "source": []
  },
  {
   "cell_type": "code",
   "execution_count": 24,
   "metadata": {
    "run_control": {
     "frozen": false,
     "read_only": false
    }
   },
   "outputs": [
    {
     "ename": "NameError",
     "evalue": "name 'theta' is not defined",
     "output_type": "error",
     "traceback": [
      "\u001b[1;31m---------------------------------------------------------------------------\u001b[0m",
      "\u001b[1;31mNameError\u001b[0m                                 Traceback (most recent call last)",
      "\u001b[1;32m~\\AppData\\Local\\Temp/ipykernel_23804/388262125.py\u001b[0m in \u001b[0;36m<module>\u001b[1;34m\u001b[0m\n\u001b[0;32m      2\u001b[0m \u001b[0mH2b\u001b[0m \u001b[1;33m=\u001b[0m \u001b[0mEphi\u001b[0m\u001b[1;33m(\u001b[0m\u001b[0mphi\u001b[0m\u001b[1;33m)\u001b[0m\u001b[1;33m\u001b[0m\u001b[1;33m\u001b[0m\u001b[0m\n\u001b[0;32m      3\u001b[0m \u001b[1;31m# intermediate frame 1 to frame 1 (pitch rotation)\u001b[0m\u001b[1;33m\u001b[0m\u001b[1;33m\u001b[0m\u001b[1;33m\u001b[0m\u001b[0m\n\u001b[1;32m----> 4\u001b[1;33m \u001b[0mH12\u001b[0m \u001b[1;33m=\u001b[0m \u001b[0mEthe\u001b[0m\u001b[1;33m(\u001b[0m\u001b[0mtheta\u001b[0m\u001b[1;33m)\u001b[0m\u001b[1;33m\u001b[0m\u001b[1;33m\u001b[0m\u001b[0m\n\u001b[0m\u001b[0;32m      5\u001b[0m \u001b[1;33m\u001b[0m\u001b[0m\n\u001b[0;32m      6\u001b[0m \u001b[1;31m# the core equation; each euler rate can be expressed as an angular rate about some axis;\u001b[0m\u001b[1;33m\u001b[0m\u001b[1;33m\u001b[0m\u001b[1;33m\u001b[0m\u001b[0m\n",
      "\u001b[1;31mNameError\u001b[0m: name 'theta' is not defined"
     ]
    }
   ],
   "source": [
    "# intermediate frame 2 to body (roll rotation)\n",
    "H2b = Ephi(phi)\n",
    "# intermediate frame 1 to frame 1 (pitch rotation)\n",
    "H12 = Ethe(theta)\n",
    "\n",
    "# the core equation; each euler rate can be expressed as an angular rate about some axis;\n",
    "# these sum to the total angular rate, but we must rotate everything to the body axes.\n",
    "w_sum_deib = vec(dphi, 0, 0) + H2b * vec(0, dtheta, 0) + H2b * H12 * vec(0, 0, dpsi)\n",
    "\n",
    "display(sympy.Equality(w, w_sum_deib))"
   ]
  },
  {
   "cell_type": "code",
   "execution_count": 25,
   "metadata": {
    "run_control": {
     "frozen": false,
     "read_only": false
    }
   },
   "outputs": [
    {
     "ename": "NameError",
     "evalue": "name 'w' is not defined",
     "output_type": "error",
     "traceback": [
      "\u001b[1;31m---------------------------------------------------------------------------\u001b[0m",
      "\u001b[1;31mNameError\u001b[0m                                 Traceback (most recent call last)",
      "\u001b[1;32m~\\AppData\\Local\\Temp/ipykernel_23804/1908655495.py\u001b[0m in \u001b[0;36m<module>\u001b[1;34m\u001b[0m\n\u001b[1;32m----> 1\u001b[1;33m \u001b[0msol\u001b[0m \u001b[1;33m=\u001b[0m \u001b[0msympy\u001b[0m\u001b[1;33m.\u001b[0m\u001b[0msolve\u001b[0m\u001b[1;33m(\u001b[0m\u001b[0mw\u001b[0m \u001b[1;33m-\u001b[0m \u001b[0mw_sum_deib\u001b[0m\u001b[1;33m,\u001b[0m \u001b[0mdeib\u001b[0m\u001b[1;33m)\u001b[0m\u001b[1;33m\u001b[0m\u001b[1;33m\u001b[0m\u001b[0m\n\u001b[0m\u001b[0;32m      2\u001b[0m \u001b[1;32mfor\u001b[0m \u001b[0mvar\u001b[0m \u001b[1;32min\u001b[0m \u001b[0mdeib\u001b[0m\u001b[1;33m:\u001b[0m\u001b[1;33m\u001b[0m\u001b[1;33m\u001b[0m\u001b[0m\n\u001b[0;32m      3\u001b[0m     \u001b[0mdisplay\u001b[0m\u001b[1;33m(\u001b[0m\u001b[0msympy\u001b[0m\u001b[1;33m.\u001b[0m\u001b[0mEquality\u001b[0m\u001b[1;33m(\u001b[0m\u001b[0mvar\u001b[0m\u001b[1;33m,\u001b[0m \u001b[0msol\u001b[0m\u001b[1;33m[\u001b[0m\u001b[0mvar\u001b[0m\u001b[1;33m]\u001b[0m\u001b[1;33m)\u001b[0m\u001b[1;33m)\u001b[0m\u001b[1;33m\u001b[0m\u001b[1;33m\u001b[0m\u001b[0m\n",
      "\u001b[1;31mNameError\u001b[0m: name 'w' is not defined"
     ]
    }
   ],
   "source": [
    "sol = sympy.solve(w - w_sum_deib, deib)\n",
    "for var in deib:\n",
    "    display(sympy.Equality(var, sol[var]))"
   ]
  },
  {
   "cell_type": "markdown",
   "metadata": {
    "jupyter": {
     "outputs_hidden": true
    }
   },
   "source": [
    "## convert to python functions\n",
    "\n",
    "    vignet =(np.cos(np.pi*vangl/(2*angles[-1])))**0.1 + 0.09"
   ]
  },
  {
   "cell_type": "code",
   "execution_count": 26,
   "metadata": {},
   "outputs": [
    {
     "name": "stdout",
     "output_type": "stream",
     "text": [
      "c + \\cos^{p}{\\left(\\frac{\\pi a}{2 m} \\right)}\n"
     ]
    },
    {
     "data": {
      "image/png": "[encoded data removed]",
      "text/latex": [
       "$\\displaystyle c + \\cos^{p}{\\left(\\frac{\\pi a}{2 m} \\right)}$"
      ],
      "text/plain": [
       "       p⎛π⋅a⎞\n",
       "c + cos ⎜───⎟\n",
       "        ⎝2⋅m⎠"
      ]
     },
     "metadata": {},
     "output_type": "display_data"
    },
    {
     "data": {
      "image/png": "[encoded data removed]",
      "text/latex": [
       "$\\displaystyle \\cos^{0.1}{\\left(1.06157112526539 \\pi a \\right)} + 0.09$"
      ],
      "text/plain": [
       "   0.1                             \n",
       "cos   (1.06157112526539⋅π⋅a) + 0.09"
      ]
     },
     "metadata": {},
     "output_type": "display_data"
    }
   ],
   "source": [
    "import sympy\n",
    "import numpy as np\n",
    "from sympy.codegen.ast import Assignment\n",
    "\n",
    "t, p,v, x,y,s, m,c,d,n,a,b,z,y, T = sympy.symbols(\"\\\\theta p v x y s m c d n a b z y T\")\n",
    "\n",
    "y = (sympy.cos(sympy.pi * a / (2. * m)))**p + c\n",
    "mstr = sympy.latex(y)\n",
    "subsdic = {c:0.09, p:0.1,m:0.471}\n",
    "T = y.subs(subsdic)\n",
    "lstr = sympy.latex(T)\n",
    "\n",
    "print(mstr)\n",
    "display(y)\n",
    "display(T)"
   ]
  },
  {
   "cell_type": "code",
   "execution_count": null,
   "metadata": {},
   "outputs": [],
   "source": [
    "# pstr = sympy.pycode(Assignment(v, T)).replace('math','np')\n",
    "pstr = sympy.pycode(T).replace('math','np')\n",
    "\n",
    "print(pstr)\n",
    "a = np.linspace(0,0.471,100)\n",
    "eval(pstr)"
   ]
  },
  {
   "cell_type": "code",
   "execution_count": null,
   "metadata": {},
   "outputs": [],
   "source": [
    "import pyradi.ryplot as ryplot\n",
    "lstr = lstr.replace(r' \\pi a ',r' \\cdot\\pi\\cdot \\theta ')\n",
    "print(lstr)\n",
    "p = ryplot.Plotter(1,1,1,f'${lstr}$',(12,5))\n",
    "p.plot(1,a,eval(pstr))\n",
    "                   \n",
    "                   "
   ]
  },
  {
   "cell_type": "markdown",
   "metadata": {},
   "source": [
    "## Solve circle "
   ]
  },
  {
   "cell_type": "code",
   "execution_count": 22,
   "metadata": {},
   "outputs": [
    {
     "name": "stdout",
     "output_type": "stream",
     "text": [
      "Equation for zc\n"
     ]
    },
    {
     "data": {
      "image/png": "[encoded data removed]",
      "text/latex": [
       "$\\displaystyle \\frac{z_{1}^{2} - z_{2}^{2} + \\left(y_{1} - y_{c}\\right)^{2} - \\left(y_{2} - y_{c}\\right)^{2}}{2 \\left(z_{1} - z_{2}\\right)}$"
      ],
      "text/plain": [
       "  2     2             2             2\n",
       "z₁  - z₂  + (y₁ - y_c)  - (y₂ - y_c) \n",
       "─────────────────────────────────────\n",
       "             2⋅(z₁ - z₂)             "
      ]
     },
     "metadata": {},
     "output_type": "display_data"
    },
    {
     "name": "stdout",
     "output_type": "stream",
     "text": [
      "Equation for r\n"
     ]
    },
    {
     "data": {
      "image/png": "[encoded data removed]",
      "text/latex": [
       "$\\displaystyle \\sqrt{y_{1}^{2} - 2 y_{1} y_{c} + y_{c}^{2} + z_{1}^{2} - 2 z_{1} z_{c} + z_{c}^{2}}$"
      ],
      "text/plain": [
       "   _______________________________________________\n",
       "  ╱   2                 2     2                 2 \n",
       "╲╱  y₁  - 2⋅y₁⋅y_c + y_c  + z₁  - 2⋅z₁⋅z_c + z_c  "
      ]
     },
     "metadata": {},
     "output_type": "display_data"
    },
    {
     "name": "stdout",
     "output_type": "stream",
     "text": [
      "---------------------------------------\n",
      "z_c = 2.9749999999999996\n",
      "r = 1.47838594419725\n",
      "---------------------------------------\n",
      "z_1 = Symbol('z_1')\n",
      "z_2 = Symbol('z_2')\n",
      "y_1 = Symbol('y_1')\n",
      "y_c = Symbol('y_c')\n",
      "y_2 = Symbol('y_2')\n",
      "e = [(z_1**2 - z_2**2 + (y_1 - y_c)**2 - (y_2 - y_c)**2)/(2*(z_1 - z_2))]\n",
      "y_1 = Symbol('y_1')\n",
      "y_c = Symbol('y_c')\n",
      "z_1 = Symbol('z_1')\n",
      "z_c = Symbol('z_c')\n",
      "e = [-sqrt(y_1**2 - 2*y_1*y_c + y_c**2 + z_1**2 - 2*z_1*z_c + z_c**2), sqrt(y_1**2 - 2*y_1*y_c + y_c**2 + z_1**2 - 2*z_1*z_c + z_c**2)]\n"
     ]
    }
   ],
   "source": [
    "# import sympy\n",
    "# import numpy as np\n",
    "# from sympy.codegen.ast import Assignment\n",
    "\n",
    "y1,y2,yc,z1,z2,zc,r = sympy.symbols(\"y_1,y_2,y_c,z_1,z_2 z_c r\")\n",
    "eqzc = sympy.solve((y1-yc)**2 +(z1-zc)**2-((y2-yc)**2 +(z2-zc)**2),zc)\n",
    "print('Equation for zc')\n",
    "display(eqzc[0])\n",
    "eqr = sympy.solve((y1-yc)**2 +(z1-zc)**2-r**2,r)\n",
    "print('Equation for r')\n",
    "display(eqr[1])\n",
    "\n",
    "print('---------------------------------------')\n",
    "\n",
    "dicsubs = {y1:1.2,y2:2.5,z1:1.5,z2:2.5,yc:1.1}\n",
    "zcval = float(eqzc[0].subs(dicsubs))\n",
    "print(f'z_c = {zcval}')\n",
    "r = eqr[1].subs(dicsubs).subs({zc:zcval})\n",
    "print(f'r = {r}')\n",
    "\n",
    "print('---------------------------------------')\n",
    "print(sympy.python(eqzc))\n",
    "print(sympy.python(eqr))\n"
   ]
  },
  {
   "cell_type": "code",
   "execution_count": null,
   "metadata": {},
   "outputs": [],
   "source": []
  }
 ],
 "metadata": {
  "anaconda-cloud": {},
  "kernelspec": {
   "display_name": "Python 3 (ipykernel)",
   "language": "python",
   "name": "python3"
  },
  "language_info": {
   "codemirror_mode": {
    "name": "ipython",
    "version": 3
   },
   "file_extension": ".py",
   "mimetype": "text/x-python",
   "name": "python",
   "nbconvert_exporter": "python",
   "pygments_lexer": "ipython3",
   "version": "3.8.3"
  }
 },
 "nbformat": 4,
 "nbformat_minor": 4
}
