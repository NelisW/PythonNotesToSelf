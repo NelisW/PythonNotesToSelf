{
 "cells": [
  {
   "cell_type": "markdown",
   "metadata": {},
   "source": [
    "# Sympy experiments\n"
   ]
  },
  {
   "cell_type": "markdown",
   "metadata": {
    "run_control": {
     "frozen": false,
     "read_only": false
    }
   },
   "source": [
    "# Sympy playground"
   ]
  },
  {
   "cell_type": "code",
   "execution_count": 50,
   "metadata": {
    "run_control": {
     "frozen": false,
     "read_only": false
    },
    "tags": []
   },
   "outputs": [],
   "source": [
    "import sympy\n",
    "import sympy.printing.c as ccode\n",
    "import sympy.printing.c as codegen\n",
    "from sympy.printing.mathml import print_mathml\n",
    "from IPython.display import display, Markdown\n",
    "from sympy.functions import exp\n",
    "from sympy import diff\n",
    "from IPython.display import Latex\n",
    "\n",
    "sympy.init_printing()\n"
   ]
  },
  {
   "cell_type": "code",
   "execution_count": null,
   "metadata": {},
   "outputs": [],
   "source": [
    "## Intersecting circle and sloped line"
   ]
  },
  {
   "cell_type": "code",
   "execution_count": null,
   "metadata": {},
   "outputs": [],
   "source": []
  },
  {
   "cell_type": "code",
   "execution_count": null,
   "metadata": {},
   "outputs": [],
   "source": []
  },
  {
   "cell_type": "code",
   "execution_count": null,
   "metadata": {},
   "outputs": [],
   "source": []
  },
  {
   "cell_type": "code",
   "execution_count": null,
   "metadata": {},
   "outputs": [],
   "source": []
  },
  {
   "cell_type": "code",
   "execution_count": null,
   "metadata": {},
   "outputs": [],
   "source": []
  },
  {
   "cell_type": "markdown",
   "metadata": {},
   "source": [
    "## Ellipse"
   ]
  },
  {
   "cell_type": "markdown",
   "metadata": {},
   "source": [
    "![](images/ellipse.png)"
   ]
  },
  {
   "cell_type": "code",
   "execution_count": 51,
   "metadata": {},
   "outputs": [],
   "source": [
    "x,y,a,b,xc,yc,xa,ya,xi,yi,xx,yx,xy,yy,solx,soly,sola,solb = sympy.symbols('x y a b x_c y_c x_a y_a x_i y_i x_x y_x x_y y_y x_s y_s a_s b_a')"
   ]
  },
  {
   "cell_type": "code",
   "execution_count": 52,
   "metadata": {},
   "outputs": [
    {
     "data": {
      "image/png": "[encoded data removed]",
      "text/latex": [
       "$\\displaystyle \\left[ - a \\sqrt{\\frac{1}{\\left(a - x + x_{c}\\right) \\left(a + x - x_{c}\\right)}} \\left(y - y_{c}\\right), \\  a \\sqrt{\\frac{1}{\\left(a - x + x_{c}\\right) \\left(a + x - x_{c}\\right)}} \\left(y - y_{c}\\right)\\right]$"
      ],
      "text/plain": [
       "⎡       _____________________________                  _______________________\n",
       "⎢      ╱              1                               ╱              1        \n",
       "⎢-a⋅  ╱  ─────────────────────────── ⋅(y - y_c), a⋅  ╱  ──────────────────────\n",
       "⎣   ╲╱   (a - x + x_c)⋅(a + x - x_c)               ╲╱   (a - x + x_c)⋅(a + x -\n",
       "\n",
       "______          ⎤\n",
       "                ⎥\n",
       "───── ⋅(y - y_c)⎥\n",
       " x_c)           ⎦"
      ]
     },
     "metadata": {},
     "output_type": "display_data"
    },
    {
     "name": "stdout",
     "output_type": "stream",
     "text": [
      "-a*np.sqrt(1/((a - x + x_c)*(a + x - x_c)))*(y - y_c)\n",
      "a*np.sqrt(1/((a - x + x_c)*(a + x - x_c)))*(y - y_c)\n"
     ]
    }
   ],
   "source": [
    "solb = sympy.solve(((x-xc)/a)**2+((y-yc)/b)**2-1 , b)\n",
    "display(solb)\n",
    "pstrA0 = sympy.pycode(solb[0]).replace('math','np')\n",
    "pstrA1 = sympy.pycode(solb[1]).replace('math','np')\n",
    "print(pstrA0)\n",
    "print(pstrA1)\n"
   ]
  },
  {
   "cell_type": "code",
   "execution_count": 53,
   "metadata": {},
   "outputs": [
    {
     "data": {
      "image/png": "[encoded data removed]",
      "text/latex": [
       "$\\displaystyle \\left[ \\frac{- a \\sqrt{\\left(b - y + y_{c}\\right) \\left(b + y - y_{c}\\right)} + b x_{c}}{b}, \\  \\frac{a \\sqrt{\\left(b - y + y_{c}\\right) \\left(b + y - y_{c}\\right)} + b x_{c}}{b}\\right]$"
      ],
      "text/plain": [
       "⎡      _____________________________              ____________________________\n",
       "⎢- a⋅╲╱ (b - y + y_c)⋅(b + y - y_c)  + b⋅x_c  a⋅╲╱ (b - y + y_c)⋅(b + y - y_c)\n",
       "⎢───────────────────────────────────────────, ────────────────────────────────\n",
       "⎣                     b                                           b           \n",
       "\n",
       "_        ⎤\n",
       "  + b⋅x_c⎥\n",
       "─────────⎥\n",
       "         ⎦"
      ]
     },
     "metadata": {},
     "output_type": "display_data"
    },
    {
     "name": "stdout",
     "output_type": "stream",
     "text": [
      "(-a*np.sqrt((b - y + y_c)*(b + y - y_c)) + b*x_c)/b\n",
      "(a*np.sqrt((b - y + y_c)*(b + y - y_c)) + b*x_c)/b\n"
     ]
    }
   ],
   "source": [
    "solx = sympy.solve(((x-xc)/a)**2+((y-yc)/b)**2-1 , x)\n",
    "display(solx)\n",
    "pstrA0 = sympy.pycode(solx[0]).replace('math','np')\n",
    "pstrA1 = sympy.pycode(solx[1]).replace('math','np')\n",
    "print(pstrA0)\n",
    "print(pstrA1)\n"
   ]
  },
  {
   "cell_type": "code",
   "execution_count": 48,
   "metadata": {},
   "outputs": [
    {
     "data": {
      "image/png": "[encoded data removed]",
      "text/latex": [
       "$\\displaystyle \\left[ \\frac{a y_{c} - b \\sqrt{\\left(a - x + x_{c}\\right) \\left(a + x - x_{c}\\right)}}{a}, \\  \\frac{a y_{c} + b \\sqrt{\\left(a - x + x_{c}\\right) \\left(a + x - x_{c}\\right)}}{a}\\right]$"
      ],
      "text/plain": [
       "⎡            _____________________________              ______________________\n",
       "⎢a⋅y_c - b⋅╲╱ (a - x + x_c)⋅(a + x - x_c)   a⋅y_c + b⋅╲╱ (a - x + x_c)⋅(a + x \n",
       "⎢─────────────────────────────────────────, ──────────────────────────────────\n",
       "⎣                    a                                          a             \n",
       "\n",
       "_______⎤\n",
       "- x_c) ⎥\n",
       "───────⎥\n",
       "       ⎦"
      ]
     },
     "metadata": {},
     "output_type": "display_data"
    },
    {
     "name": "stdout",
     "output_type": "stream",
     "text": [
      "(a*y_c - b*np.sqrt((a - x + x_c)*(a + x - x_c)))/a\n",
      "(a*y_c + b*np.sqrt((a - x + x_c)*(a + x - x_c)))/a\n"
     ]
    }
   ],
   "source": [
    "soly = sympy.solve(((x-xc)/a)**2+((y-yc)/b)**2-1 , y)\n",
    "display(soly)\n",
    "pstrA0 = sympy.pycode(soly[0]).replace('math','np')\n",
    "pstrA1 = sympy.pycode(soly[1]).replace('math','np')\n",
    "print(pstrA0)\n",
    "print(pstrA1)\n"
   ]
  },
  {
   "cell_type": "code",
   "execution_count": null,
   "metadata": {},
   "outputs": [],
   "source": []
  },
  {
   "cell_type": "markdown",
   "metadata": {},
   "source": [
    "## tansig"
   ]
  },
  {
   "cell_type": "code",
   "execution_count": 5,
   "metadata": {},
   "outputs": [
    {
     "data": {
      "image/png": "[encoded data removed]",
      "text/latex": [
       "$\\displaystyle -1 + \\frac{2}{1 + e^{- 2 z}}$"
      ],
      "text/plain": [
       "         2    \n",
       "-1 + ─────────\n",
       "          -2⋅z\n",
       "     1 + ℯ    "
      ]
     },
     "execution_count": 5,
     "metadata": {},
     "output_type": "execute_result"
    }
   ],
   "source": [
    "phi,z = sympy.symbols(r'\\phi z')\n",
    "phi = 2 / (1 + exp(-2 * z)) - 1\n",
    "phi"
   ]
  },
  {
   "cell_type": "code",
   "execution_count": 6,
   "metadata": {},
   "outputs": [
    {
     "data": {
      "image/png": "[encoded data removed]",
      "text/latex": [
       "$\\displaystyle \\frac{1}{\\cosh^{2}{\\left(z \\right)}}$"
      ],
      "text/plain": [
       "   1    \n",
       "────────\n",
       "    2   \n",
       "cosh (z)"
      ]
     },
     "execution_count": 6,
     "metadata": {},
     "output_type": "execute_result"
    }
   ],
   "source": [
    "sympy.simplify(diff(phi))"
   ]
  },
  {
   "cell_type": "code",
   "execution_count": 7,
   "metadata": {},
   "outputs": [
    {
     "data": {
      "image/png": "[encoded data removed]",
      "text/latex": [
       "$\\displaystyle \\frac{2.0 e^{2 z}}{1.0 e^{4 z} + 2.0 e^{2 z} + 1.0}$"
      ],
      "text/plain": [
       "              2⋅z        \n",
       "         2.0⋅ℯ           \n",
       "─────────────────────────\n",
       "     4⋅z        2⋅z      \n",
       "1.0⋅ℯ    + 2.0⋅ℯ    + 1.0"
      ]
     },
     "execution_count": 7,
     "metadata": {},
     "output_type": "execute_result"
    }
   ],
   "source": [
    "sympy.simplify(0.5 * (1 - (phi**2)))"
   ]
  },
  {
   "cell_type": "markdown",
   "metadata": {},
   "source": [
    "## Biquad transformation "
   ]
  },
  {
   "cell_type": "code",
   "execution_count": null,
   "metadata": {},
   "outputs": [],
   "source": []
  },
  {
   "cell_type": "code",
   "execution_count": null,
   "metadata": {
    "run_control": {
     "frozen": false,
     "read_only": false
    }
   },
   "outputs": [],
   "source": [
    "s, m,c,d,n,a,b,z,y, T = sympy.symbols(\"s m c d n a b z y T\")"
   ]
  },
  {
   "cell_type": "markdown",
   "metadata": {
    "run_control": {
     "frozen": false,
     "read_only": false
    }
   },
   "source": [
    "Biquad transfer function"
   ]
  },
  {
   "cell_type": "code",
   "execution_count": null,
   "metadata": {
    "run_control": {
     "frozen": false,
     "read_only": false
    }
   },
   "outputs": [],
   "source": [
    "Hn = m*s**2 + c*s + d\n",
    "Hd = n*s**2 + a*s + b\n",
    "H = Hn / Hd\n",
    "H"
   ]
  },
  {
   "cell_type": "markdown",
   "metadata": {
    "run_control": {
     "frozen": false,
     "read_only": false
    }
   },
   "source": [
    "Substitute \n",
    "$s\\rightarrow \\frac{2}{T}\\cdot\\frac{z-1}{z+1}$"
   ]
  },
  {
   "cell_type": "code",
   "execution_count": null,
   "metadata": {
    "run_control": {
     "frozen": false,
     "read_only": false
    }
   },
   "outputs": [],
   "source": [
    "H.subs(s,(2/T)*(z-1)/(z+1))"
   ]
  },
  {
   "cell_type": "code",
   "execution_count": null,
   "metadata": {
    "run_control": {
     "frozen": false,
     "read_only": false
    }
   },
   "outputs": [],
   "source": [
    "sympy.collect(sympy.simplify(sympy.collect(sympy.expand(H.subs(s,(2/T)*(z-1)/(z+1))),z)),z)"
   ]
  },
  {
   "cell_type": "markdown",
   "metadata": {
    "run_control": {
     "frozen": false,
     "read_only": false
    }
   },
   "source": [
    "rewrite in terms of $z^{-1}$ delay notation and refactoring the time to get it to the format used in SimulC:"
   ]
  },
  {
   "cell_type": "markdown",
   "metadata": {
    "run_control": {
     "frozen": false,
     "read_only": false
    }
   },
   "source": [
    "$$\\frac{\n",
    "\\left( d - 2 c/T + 4 m/T^{2}\\right)z^{-2} + \n",
    " \\left(2 d - 8 m/ T^{2}\\right)z^{-1} + \n",
    "\\left( d + 2  c/T + 4 m/T^{2}\\right) \n",
    "}{\n",
    "\\left( b - 2 a/T + 4 n/T^{2}\\right)z^{-2} + \n",
    " \\left(2  b - 8 n/T^{2}\\right)z^{-1} +\n",
    "\\left( b + 2 a/T + 4 n/T^{2}\\right) \n",
    "}\n",
    "$$"
   ]
  },
  {
   "cell_type": "markdown",
   "metadata": {
    "run_control": {
     "frozen": false,
     "read_only": false
    }
   },
   "source": [
    "## FEM solution"
   ]
  },
  {
   "cell_type": "code",
   "execution_count": 8,
   "metadata": {},
   "outputs": [],
   "source": [
    "a, b, x, y, x1, x2, x3, x4, y1, y2, y3, y4 = sympy.symbols(\"a, b, x, y, x_1 x_2 x_3 x_4 y_1 y_2 y_3 y_4\")"
   ]
  },
  {
   "cell_type": "markdown",
   "metadata": {},
   "source": [
    "Solve the set of both equations for a and b\n"
   ]
  },
  {
   "cell_type": "code",
   "execution_count": 9,
   "metadata": {},
   "outputs": [],
   "source": [
    "sols = sympy.solve ([\n",
    "    (1-a)*(1-b)*x1/4 + (1+a)*(1-b)*x2/4 + (1+a)*(1+b)*x3/4 + (1-a)*(1+b)*x4/4 - x , \n",
    "    (1-a)*(1-b)*y1/4 + (1+a)*(1-b)*y2/4 + (1+a)*(1+b)*y3/4 + (1-a)*(1+b)*y4/4 - y\n",
    "    ] , \n",
    "    [a, b]\n",
    "    )\n"
   ]
  },
  {
   "cell_type": "code",
   "execution_count": 10,
   "metadata": {},
   "outputs": [
    {
     "name": "stdout",
     "output_type": "stream",
     "text": [
      "2 2 2\n"
     ]
    }
   ],
   "source": [
    "print(len(sols), len(sols[0]), len(sols[1]))\n"
   ]
  },
  {
   "cell_type": "markdown",
   "metadata": {},
   "source": [
    "## a1"
   ]
  },
  {
   "cell_type": "code",
   "execution_count": 11,
   "metadata": {},
   "outputs": [
    {
     "data": {
      "image/png": "[encoded data removed]",
      "text/latex": [
       "$\\displaystyle \\frac{- x y_{1} + x y_{2} - x y_{3} + x y_{4} + x_{1} y - x_{1} y_{4} - x_{2} y + x_{2} y_{3} + x_{3} y - x_{3} y_{2} - x_{4} y + x_{4} y_{1} - \\sqrt{x^{2} y_{1}^{2} - 2 x^{2} y_{1} y_{2} + 2 x^{2} y_{1} y_{3} - 2 x^{2} y_{1} y_{4} + x^{2} y_{2}^{2} - 2 x^{2} y_{2} y_{3} + 2 x^{2} y_{2} y_{4} + x^{2} y_{3}^{2} - 2 x^{2} y_{3} y_{4} + x^{2} y_{4}^{2} - 2 x x_{1} y y_{1} + 2 x x_{1} y y_{2} - 2 x x_{1} y y_{3} + 2 x x_{1} y y_{4} + 2 x x_{1} y_{1} y_{3} + 2 x x_{1} y_{2} y_{3} - 4 x x_{1} y_{2} y_{4} - 2 x x_{1} y_{3}^{2} + 2 x x_{1} y_{3} y_{4} + 2 x x_{2} y y_{1} - 2 x x_{2} y y_{2} + 2 x x_{2} y y_{3} - 2 x x_{2} y y_{4} - 4 x x_{2} y_{1} y_{3} + 2 x x_{2} y_{1} y_{4} + 2 x x_{2} y_{2} y_{4} + 2 x x_{2} y_{3} y_{4} - 2 x x_{2} y_{4}^{2} - 2 x x_{3} y y_{1} + 2 x x_{3} y y_{2} - 2 x x_{3} y y_{3} + 2 x x_{3} y y_{4} - 2 x x_{3} y_{1}^{2} + 2 x x_{3} y_{1} y_{2} + 2 x x_{3} y_{1} y_{3} + 2 x x_{3} y_{1} y_{4} - 4 x x_{3} y_{2} y_{4} + 2 x x_{4} y y_{1} - 2 x x_{4} y y_{2} + 2 x x_{4} y y_{3} - 2 x x_{4} y y_{4} + 2 x x_{4} y_{1} y_{2} - 4 x x_{4} y_{1} y_{3} - 2 x x_{4} y_{2}^{2} + 2 x x_{4} y_{2} y_{3} + 2 x x_{4} y_{2} y_{4} + x_{1}^{2} y^{2} - 2 x_{1}^{2} y y_{3} + x_{1}^{2} y_{3}^{2} - 2 x_{1} x_{2} y^{2} + 2 x_{1} x_{2} y y_{3} + 2 x_{1} x_{2} y y_{4} - 2 x_{1} x_{2} y_{3} y_{4} + 2 x_{1} x_{3} y^{2} + 2 x_{1} x_{3} y y_{1} - 4 x_{1} x_{3} y y_{2} + 2 x_{1} x_{3} y y_{3} - 4 x_{1} x_{3} y y_{4} - 2 x_{1} x_{3} y_{1} y_{3} + 4 x_{1} x_{3} y_{2} y_{4} - 2 x_{1} x_{4} y^{2} + 2 x_{1} x_{4} y y_{2} + 2 x_{1} x_{4} y y_{3} - 2 x_{1} x_{4} y_{2} y_{3} + x_{2}^{2} y^{2} - 2 x_{2}^{2} y y_{4} + x_{2}^{2} y_{4}^{2} - 2 x_{2} x_{3} y^{2} + 2 x_{2} x_{3} y y_{1} + 2 x_{2} x_{3} y y_{4} - 2 x_{2} x_{3} y_{1} y_{4} + 2 x_{2} x_{4} y^{2} - 4 x_{2} x_{4} y y_{1} + 2 x_{2} x_{4} y y_{2} - 4 x_{2} x_{4} y y_{3} + 2 x_{2} x_{4} y y_{4} + 4 x_{2} x_{4} y_{1} y_{3} - 2 x_{2} x_{4} y_{2} y_{4} + x_{3}^{2} y^{2} - 2 x_{3}^{2} y y_{1} + x_{3}^{2} y_{1}^{2} - 2 x_{3} x_{4} y^{2} + 2 x_{3} x_{4} y y_{1} + 2 x_{3} x_{4} y y_{2} - 2 x_{3} x_{4} y_{1} y_{2} + x_{4}^{2} y^{2} - 2 x_{4}^{2} y y_{2} + x_{4}^{2} y_{2}^{2}}}{x_{1} y_{3} - x_{1} y_{4} - x_{2} y_{3} + x_{2} y_{4} - x_{3} y_{1} + x_{3} y_{2} + x_{4} y_{1} - x_{4} y_{2}}$"
      ],
      "text/plain": [
       "                                                                              \n",
       "                                                                              \n",
       "-x⋅y₁ + x⋅y₂ - x⋅y₃ + x⋅y₄ + x₁⋅y - x₁⋅y₄ - x₂⋅y + x₂⋅y₃ + x₃⋅y - x₃⋅y₂ - x₄⋅y\n",
       "──────────────────────────────────────────────────────────────────────────────\n",
       "                                                                              \n",
       "\n",
       "              ________________________________________________________________\n",
       "             ╱  2   2      2            2            2          2   2      2  \n",
       " + x₄⋅y₁ - ╲╱  x ⋅y₁  - 2⋅x ⋅y₁⋅y₂ + 2⋅x ⋅y₁⋅y₃ - 2⋅x ⋅y₁⋅y₄ + x ⋅y₂  - 2⋅x ⋅y\n",
       "──────────────────────────────────────────────────────────────────────────────\n",
       "                                                                              \n",
       "\n",
       "______________________________________________________________________________\n",
       "          2          2   2      2          2   2                              \n",
       "₂⋅y₃ + 2⋅x ⋅y₂⋅y₄ + x ⋅y₃  - 2⋅x ⋅y₃⋅y₄ + x ⋅y₄  - 2⋅x⋅x₁⋅y⋅y₁ + 2⋅x⋅x₁⋅y⋅y₂ -\n",
       "──────────────────────────────────────────────────────────────────────────────\n",
       "                                                                              \n",
       "\n",
       "______________________________________________________________________________\n",
       "                                                                              \n",
       " 2⋅x⋅x₁⋅y⋅y₃ + 2⋅x⋅x₁⋅y⋅y₄ + 2⋅x⋅x₁⋅y₁⋅y₃ + 2⋅x⋅x₁⋅y₂⋅y₃ - 4⋅x⋅x₁⋅y₂⋅y₄ - 2⋅x⋅\n",
       "──────────────────────────────────────────────────────────────────────────────\n",
       "                                                                              \n",
       "\n",
       "______________________________________________________________________________\n",
       "     2                                                                        \n",
       "x₁⋅y₃  + 2⋅x⋅x₁⋅y₃⋅y₄ + 2⋅x⋅x₂⋅y⋅y₁ - 2⋅x⋅x₂⋅y⋅y₂ + 2⋅x⋅x₂⋅y⋅y₃ - 2⋅x⋅x₂⋅y⋅y₄ \n",
       "──────────────────────────────────────────────────────────────────────────────\n",
       "                                                                              \n",
       "\n",
       "______________________________________________________________________________\n",
       "                                                                       2      \n",
       "- 4⋅x⋅x₂⋅y₁⋅y₃ + 2⋅x⋅x₂⋅y₁⋅y₄ + 2⋅x⋅x₂⋅y₂⋅y₄ + 2⋅x⋅x₂⋅y₃⋅y₄ - 2⋅x⋅x₂⋅y₄  - 2⋅x\n",
       "──────────────────────────────────────────────────────────────────────────────\n",
       "                                                                              \n",
       "\n",
       "______________________________________________________________________________\n",
       "                                                              2               \n",
       "⋅x₃⋅y⋅y₁ + 2⋅x⋅x₃⋅y⋅y₂ - 2⋅x⋅x₃⋅y⋅y₃ + 2⋅x⋅x₃⋅y⋅y₄ - 2⋅x⋅x₃⋅y₁  + 2⋅x⋅x₃⋅y₁⋅y₂\n",
       "──────────────────────────────────────────────────────────────────────────────\n",
       "                                                                              \n",
       "\n",
       "______________________________________________________________________________\n",
       "                                                                              \n",
       " + 2⋅x⋅x₃⋅y₁⋅y₃ + 2⋅x⋅x₃⋅y₁⋅y₄ - 4⋅x⋅x₃⋅y₂⋅y₄ + 2⋅x⋅x₄⋅y⋅y₁ - 2⋅x⋅x₄⋅y⋅y₂ + 2⋅\n",
       "──────────────────────────────────────────────────────────────────────────────\n",
       "                                                                       x₁⋅y₃ -\n",
       "\n",
       "______________________________________________________________________________\n",
       "                                                                 2            \n",
       "x⋅x₄⋅y⋅y₃ - 2⋅x⋅x₄⋅y⋅y₄ + 2⋅x⋅x₄⋅y₁⋅y₂ - 4⋅x⋅x₄⋅y₁⋅y₃ - 2⋅x⋅x₄⋅y₂  + 2⋅x⋅x₄⋅y₂\n",
       "──────────────────────────────────────────────────────────────────────────────\n",
       " x₁⋅y₄ - x₂⋅y₃ + x₂⋅y₄ - x₃⋅y₁ + x₃⋅y₂ + x₄⋅y₁ - x₄⋅y₂                        \n",
       "\n",
       "______________________________________________________________________________\n",
       "                       2  2       2          2   2            2               \n",
       "⋅y₃ + 2⋅x⋅x₄⋅y₂⋅y₄ + x₁ ⋅y  - 2⋅x₁ ⋅y⋅y₃ + x₁ ⋅y₃  - 2⋅x₁⋅x₂⋅y  + 2⋅x₁⋅x₂⋅y⋅y₃\n",
       "──────────────────────────────────────────────────────────────────────────────\n",
       "                                                                              \n",
       "\n",
       "______________________________________________________________________________\n",
       "                                           2                                  \n",
       " + 2⋅x₁⋅x₂⋅y⋅y₄ - 2⋅x₁⋅x₂⋅y₃⋅y₄ + 2⋅x₁⋅x₃⋅y  + 2⋅x₁⋅x₃⋅y⋅y₁ - 4⋅x₁⋅x₃⋅y⋅y₂ + 2\n",
       "──────────────────────────────────────────────────────────────────────────────\n",
       "                                                                              \n",
       "\n",
       "______________________________________________________________________________\n",
       "                                                                      2       \n",
       "⋅x₁⋅x₃⋅y⋅y₃ - 4⋅x₁⋅x₃⋅y⋅y₄ - 2⋅x₁⋅x₃⋅y₁⋅y₃ + 4⋅x₁⋅x₃⋅y₂⋅y₄ - 2⋅x₁⋅x₄⋅y  + 2⋅x₁\n",
       "──────────────────────────────────────────────────────────────────────────────\n",
       "                                                                              \n",
       "\n",
       "______________________________________________________________________________\n",
       "                                            2  2       2          2   2       \n",
       "⋅x₄⋅y⋅y₂ + 2⋅x₁⋅x₄⋅y⋅y₃ - 2⋅x₁⋅x₄⋅y₂⋅y₃ + x₂ ⋅y  - 2⋅x₂ ⋅y⋅y₄ + x₂ ⋅y₄  - 2⋅x₂\n",
       "──────────────────────────────────────────────────────────────────────────────\n",
       "                                                                              \n",
       "\n",
       "______________________________________________________________________________\n",
       "     2                                                          2             \n",
       "⋅x₃⋅y  + 2⋅x₂⋅x₃⋅y⋅y₁ + 2⋅x₂⋅x₃⋅y⋅y₄ - 2⋅x₂⋅x₃⋅y₁⋅y₄ + 2⋅x₂⋅x₄⋅y  - 4⋅x₂⋅x₄⋅y⋅\n",
       "──────────────────────────────────────────────────────────────────────────────\n",
       "                                                                              \n",
       "\n",
       "______________________________________________________________________________\n",
       "                                                                              \n",
       "y₁ + 2⋅x₂⋅x₄⋅y⋅y₂ - 4⋅x₂⋅x₄⋅y⋅y₃ + 2⋅x₂⋅x₄⋅y⋅y₄ + 4⋅x₂⋅x₄⋅y₁⋅y₃ - 2⋅x₂⋅x₄⋅y₂⋅y\n",
       "──────────────────────────────────────────────────────────────────────────────\n",
       "                                                                              \n",
       "\n",
       "______________________________________________________________________________\n",
       "      2  2       2          2   2            2                                \n",
       "₄ + x₃ ⋅y  - 2⋅x₃ ⋅y⋅y₁ + x₃ ⋅y₁  - 2⋅x₃⋅x₄⋅y  + 2⋅x₃⋅x₄⋅y⋅y₁ + 2⋅x₃⋅x₄⋅y⋅y₂ -\n",
       "──────────────────────────────────────────────────────────────────────────────\n",
       "                                                                              \n",
       "\n",
       "_______________________________________________\n",
       "                   2  2       2          2   2 \n",
       " 2⋅x₃⋅x₄⋅y₁⋅y₂ + x₄ ⋅y  - 2⋅x₄ ⋅y⋅y₂ + x₄ ⋅y₂  \n",
       "───────────────────────────────────────────────\n",
       "                                               "
      ]
     },
     "execution_count": 11,
     "metadata": {},
     "output_type": "execute_result"
    }
   ],
   "source": [
    "sympy.simplify(sols[0][0])"
   ]
  },
  {
   "cell_type": "markdown",
   "metadata": {},
   "source": [
    "## b1"
   ]
  },
  {
   "cell_type": "code",
   "execution_count": null,
   "metadata": {},
   "outputs": [],
   "source": [
    "sympy.simplify(sols[0][1])"
   ]
  },
  {
   "cell_type": "markdown",
   "metadata": {},
   "source": [
    "## a2"
   ]
  },
  {
   "cell_type": "code",
   "execution_count": null,
   "metadata": {},
   "outputs": [],
   "source": [
    "sympy.simplify(sols[1][0])"
   ]
  },
  {
   "cell_type": "markdown",
   "metadata": {},
   "source": [
    "## b2"
   ]
  },
  {
   "cell_type": "code",
   "execution_count": null,
   "metadata": {},
   "outputs": [],
   "source": [
    "sympy.simplify(sols[1][1])"
   ]
  },
  {
   "cell_type": "code",
   "execution_count": null,
   "metadata": {},
   "outputs": [],
   "source": [
    "print(sympy.latex(sols[1][0]))"
   ]
  },
  {
   "cell_type": "markdown",
   "metadata": {},
   "source": [
    "Evaluate at specific point"
   ]
  },
  {
   "cell_type": "code",
   "execution_count": null,
   "metadata": {},
   "outputs": [],
   "source": [
    "subsdic = {\n",
    "    x1:1.1, y1:0.6,\n",
    "    x2:2.9,y2:-1.4,\n",
    "    x3:3.9,y3:3.4,\n",
    "    x4:1.6,y4:3.4,\n",
    "    x:3.34,y:0.01\n",
    "}\n"
   ]
  },
  {
   "cell_type": "code",
   "execution_count": null,
   "metadata": {},
   "outputs": [],
   "source": [
    "a1 = sols[0][0].subs(subsdic)\n",
    "b1 = sols[0][1].subs(subsdic)\n",
    "a2 = sols[1][0].subs(subsdic)\n",
    "b2 = sols[1][1].subs(subsdic)\n",
    "print(f'a1={a1}\\nb1={b1}\\na2={a2}\\nb2={b2}')"
   ]
  },
  {
   "cell_type": "code",
   "execution_count": null,
   "metadata": {},
   "outputs": [],
   "source": [
    "print(f'a1={ccode(sols[0][0])}')"
   ]
  },
  {
   "cell_type": "code",
   "execution_count": null,
   "metadata": {},
   "outputs": [],
   "source": [
    "print(f'b1={ccode(sols[0][1])}')"
   ]
  },
  {
   "cell_type": "code",
   "execution_count": null,
   "metadata": {},
   "outputs": [],
   "source": [
    "print(f'a2={ccode(sols[1][0])}')"
   ]
  },
  {
   "cell_type": "code",
   "execution_count": null,
   "metadata": {},
   "outputs": [],
   "source": [
    "print(f'b2={ccode(sols[1][1])}')"
   ]
  },
  {
   "cell_type": "code",
   "execution_count": null,
   "metadata": {},
   "outputs": [],
   "source": []
  },
  {
   "cell_type": "code",
   "execution_count": null,
   "metadata": {},
   "outputs": [],
   "source": []
  },
  {
   "cell_type": "markdown",
   "metadata": {},
   "source": [
    "# Deriving yaw-pitch-roll Euler angle equations"
   ]
  },
  {
   "cell_type": "code",
   "execution_count": 14,
   "metadata": {},
   "outputs": [],
   "source": [
    "# general setup\n",
    "import sympy\n",
    "sympy.init_printing()\n",
    "from sympy.printing.mathml import print_mathml\n",
    "from IPython.display import display"
   ]
  },
  {
   "cell_type": "code",
   "execution_count": 15,
   "metadata": {},
   "outputs": [],
   "source": [
    "# elementary symbols\n",
    "phi, theta, psi = sympy.symbols(r'\\phi \\theta \\psi')\n",
    "wx, wy, wz = sympy.symbols(r'\\omega_x \\omega_y \\omega_z')\n",
    "t = sympy.symbols('t')"
   ]
  },
  {
   "cell_type": "code",
   "execution_count": 16,
   "metadata": {},
   "outputs": [],
   "source": [
    "# main variables of interest\n",
    "def vec(x, y, z): # helper: make a vector\n",
    "    return sympy.Matrix([[x], [y], [z]])\n",
    "\n",
    "# angular rate vector\n",
    "w = vec(wx, wy, wz)\n",
    "\n",
    "# Euler rate \"vector\"\n",
    "dpsi,dtheta,dphi = [sympy.diff(x,t,evaluate=False) for x in [psi,theta,phi]]\n",
    "deib = vec(dphi, dtheta, dpsi)"
   ]
  },
  {
   "cell_type": "code",
   "execution_count": 17,
   "metadata": {
    "run_control": {
     "frozen": false,
     "read_only": false
    }
   },
   "outputs": [],
   "source": [
    "# rotation matrices\n",
    "s, c = sympy.sin, sympy.cos\n",
    "\n",
    "def Ephi(phi): return sympy.Matrix([[1,  0,      0],\n",
    "                                    [0,  c(phi), s(phi)],\n",
    "                                    [0, -s(phi), c(phi)]])\n",
    "def Ethe(the): return sympy.Matrix([[c(the), 0, -s(the)],\n",
    "                                    [0,      1,  0],\n",
    "                                    [s(the), 0,  c(the)]])\n",
    "def Epsi(psi): return sympy.Matrix([[ c(psi), s(psi), 0],\n",
    "                                    [-s(psi), c(psi), 0],\n",
    "                                    [0,       0,      1]])"
   ]
  },
  {
   "cell_type": "markdown",
   "metadata": {
    "run_control": {
     "frozen": false,
     "read_only": false
    }
   },
   "source": []
  },
  {
   "cell_type": "code",
   "execution_count": 18,
   "metadata": {
    "run_control": {
     "frozen": false,
     "read_only": false
    }
   },
   "outputs": [
    {
     "data": {
      "image/png": "[encoded data removed]",
      "text/latex": [
       "$\\displaystyle \\left[\\begin{matrix}\\omega_{x}\\\\\\omega_{y}\\\\\\omega_{z}\\end{matrix}\\right] = \\left[\\begin{matrix}- \\sin{\\left(\\theta \\right)} \\frac{d}{d t} \\psi + \\frac{d}{d t} \\phi\\\\\\sin{\\left(\\phi \\right)} \\cos{\\left(\\theta \\right)} \\frac{d}{d t} \\psi + \\cos{\\left(\\phi \\right)} \\frac{d}{d t} \\theta\\\\- \\sin{\\left(\\phi \\right)} \\frac{d}{d t} \\theta + \\cos{\\left(\\phi \\right)} \\cos{\\left(\\theta \\right)} \\frac{d}{d t} \\psi\\end{matrix}\\right]$"
      ],
      "text/plain": [
       "             ⎡                         d          d                  ⎤\n",
       "             ⎢           - sin(\\theta)⋅──(\\psi) + ──(\\phi)           ⎥\n",
       "             ⎢                         dt         dt                 ⎥\n",
       "⎡\\omegaₓ ⎤   ⎢                                                       ⎥\n",
       "⎢        ⎥   ⎢                       d                    d          ⎥\n",
       "⎢\\omega_y⎥ = ⎢ sin(\\phi)⋅cos(\\theta)⋅──(\\psi) + cos(\\phi)⋅──(\\theta) ⎥\n",
       "⎢        ⎥   ⎢                       dt                   dt         ⎥\n",
       "⎣\\omega_z⎦   ⎢                                                       ⎥\n",
       "             ⎢            d                                  d       ⎥\n",
       "             ⎢- sin(\\phi)⋅──(\\theta) + cos(\\phi)⋅cos(\\theta)⋅──(\\psi)⎥\n",
       "             ⎣            dt                                 dt      ⎦"
      ]
     },
     "metadata": {},
     "output_type": "display_data"
    }
   ],
   "source": [
    "# intermediate frame 2 to body (roll rotation)\n",
    "H2b = Ephi(phi)\n",
    "# intermediate frame 1 to frame 1 (pitch rotation)\n",
    "H12 = Ethe(theta)\n",
    "\n",
    "# the core equation; each euler rate can be expressed as an angular rate about some axis;\n",
    "# these sum to the total angular rate, but we must rotate everything to the body axes.\n",
    "w_sum_deib = vec(dphi, 0, 0) + H2b * vec(0, dtheta, 0) + H2b * H12 * vec(0, 0, dpsi)\n",
    "\n",
    "display(sympy.Equality(w, w_sum_deib))"
   ]
  },
  {
   "cell_type": "code",
   "execution_count": 19,
   "metadata": {
    "run_control": {
     "frozen": false,
     "read_only": false
    }
   },
   "outputs": [
    {
     "data": {
      "image/png": "[encoded data removed]",
      "text/latex": [
       "$\\displaystyle \\frac{d}{d t} \\phi = \\frac{\\omega_{x} \\sin^{2}{\\left(\\phi \\right)} \\cos{\\left(\\theta \\right)}}{\\sin^{2}{\\left(\\phi \\right)} \\cos{\\left(\\theta \\right)} + \\cos^{2}{\\left(\\phi \\right)} \\cos{\\left(\\theta \\right)}} + \\frac{\\omega_{x} \\cos^{2}{\\left(\\phi \\right)} \\cos{\\left(\\theta \\right)}}{\\sin^{2}{\\left(\\phi \\right)} \\cos{\\left(\\theta \\right)} + \\cos^{2}{\\left(\\phi \\right)} \\cos{\\left(\\theta \\right)}} + \\frac{\\omega_{y} \\sin{\\left(\\phi \\right)} \\sin{\\left(\\theta \\right)}}{\\sin^{2}{\\left(\\phi \\right)} \\cos{\\left(\\theta \\right)} + \\cos^{2}{\\left(\\phi \\right)} \\cos{\\left(\\theta \\right)}} + \\frac{\\omega_{z} \\sin{\\left(\\theta \\right)} \\cos{\\left(\\phi \\right)}}{\\sin^{2}{\\left(\\phi \\right)} \\cos{\\left(\\theta \\right)} + \\cos^{2}{\\left(\\phi \\right)} \\cos{\\left(\\theta \\right)}}$"
      ],
      "text/plain": [
       "                               2                                              \n",
       "d                   \\omegaₓ⋅sin (\\phi)⋅cos(\\theta)                    \\omegaₓ⋅\n",
       "──(\\phi) = ─────────────────────────────────────────────── + ─────────────────\n",
       "dt            2                        2                        2             \n",
       "           sin (\\phi)⋅cos(\\theta) + cos (\\phi)⋅cos(\\theta)   sin (\\phi)⋅cos(\\t\n",
       "\n",
       "   2                                                                          \n",
       "cos (\\phi)⋅cos(\\theta)                    \\omega_y⋅sin(\\phi)⋅sin(\\theta)      \n",
       "────────────────────────────── + ─────────────────────────────────────────────\n",
       "           2                        2                        2                \n",
       "heta) + cos (\\phi)⋅cos(\\theta)   sin (\\phi)⋅cos(\\theta) + cos (\\phi)⋅cos(\\thet\n",
       "\n",
       "                                                    \n",
       "              \\omega_z⋅sin(\\theta)⋅cos(\\phi)        \n",
       "── + ───────────────────────────────────────────────\n",
       "        2                        2                  \n",
       "a)   sin (\\phi)⋅cos(\\theta) + cos (\\phi)⋅cos(\\theta)"
      ]
     },
     "metadata": {},
     "output_type": "display_data"
    },
    {
     "data": {
      "image/png": "[encoded data removed]",
      "text/latex": [
       "$\\displaystyle \\frac{d}{d t} \\theta = \\frac{\\omega_{y} \\cos{\\left(\\phi \\right)}}{\\sin^{2}{\\left(\\phi \\right)} + \\cos^{2}{\\left(\\phi \\right)}} - \\frac{\\omega_{z} \\sin{\\left(\\phi \\right)}}{\\sin^{2}{\\left(\\phi \\right)} + \\cos^{2}{\\left(\\phi \\right)}}$"
      ],
      "text/plain": [
       "d               \\omega_y⋅cos(\\phi)        \\omega_z⋅sin(\\phi)  \n",
       "──(\\theta) = ─────────────────────── - ───────────────────────\n",
       "dt              2            2            2            2      \n",
       "             sin (\\phi) + cos (\\phi)   sin (\\phi) + cos (\\phi)"
      ]
     },
     "metadata": {},
     "output_type": "display_data"
    },
    {
     "data": {
      "image/png": "[encoded data removed]",
      "text/latex": [
       "$\\displaystyle \\frac{d}{d t} \\psi = \\frac{\\omega_{y} \\sin{\\left(\\phi \\right)}}{\\sin^{2}{\\left(\\phi \\right)} \\cos{\\left(\\theta \\right)} + \\cos^{2}{\\left(\\phi \\right)} \\cos{\\left(\\theta \\right)}} + \\frac{\\omega_{z} \\cos{\\left(\\phi \\right)}}{\\sin^{2}{\\left(\\phi \\right)} \\cos{\\left(\\theta \\right)} + \\cos^{2}{\\left(\\phi \\right)} \\cos{\\left(\\theta \\right)}}$"
      ],
      "text/plain": [
       "d                         \\omega_y⋅sin(\\phi)                                \\o\n",
       "──(\\psi) = ─────────────────────────────────────────────── + ─────────────────\n",
       "dt            2                        2                        2             \n",
       "           sin (\\phi)⋅cos(\\theta) + cos (\\phi)⋅cos(\\theta)   sin (\\phi)⋅cos(\\t\n",
       "\n",
       "mega_z⋅cos(\\phi)              \n",
       "──────────────────────────────\n",
       "           2                  \n",
       "heta) + cos (\\phi)⋅cos(\\theta)"
      ]
     },
     "metadata": {},
     "output_type": "display_data"
    }
   ],
   "source": [
    "sol = sympy.solve(w - w_sum_deib, deib)\n",
    "for var in deib:\n",
    "    display(sympy.Equality(var, sol[var]))"
   ]
  },
  {
   "cell_type": "markdown",
   "metadata": {
    "jupyter": {
     "outputs_hidden": true
    }
   },
   "source": [
    "## convert to python functions\n",
    "\n",
    "    vignet =(np.cos(np.pi*vangl/(2*angles[-1])))**0.1 + 0.09"
   ]
  },
  {
   "cell_type": "code",
   "execution_count": 33,
   "metadata": {},
   "outputs": [
    {
     "name": "stdout",
     "output_type": "stream",
     "text": [
      "c + \\cos^{p}{\\left(\\frac{\\pi a}{2 m} \\right)}\n"
     ]
    },
    {
     "data": {
      "image/png": "[encoded data removed]",
      "text/latex": [
       "$\\displaystyle c + \\cos^{p}{\\left(\\frac{\\pi a}{2 m} \\right)}$"
      ],
      "text/plain": [
       "       p⎛π⋅a⎞\n",
       "c + cos ⎜───⎟\n",
       "        ⎝2⋅m⎠"
      ]
     },
     "metadata": {},
     "output_type": "display_data"
    },
    {
     "data": {
      "image/png": "[encoded data removed]",
      "text/latex": [
       "$\\displaystyle \\cos^{0.1}{\\left(1.06157112526539 \\pi a \\right)} + 0.09$"
      ],
      "text/plain": [
       "   0.1                             \n",
       "cos   (1.06157112526539⋅π⋅a) + 0.09"
      ]
     },
     "metadata": {},
     "output_type": "display_data"
    }
   ],
   "source": [
    "import sympy\n",
    "import numpy as np\n",
    "from sympy.codegen.ast import Assignment\n",
    "\n",
    "t, p,v, x,y,s, m,c,d,n,a,b,z,y, T = sympy.symbols(\"\\\\theta p v x y s m c d n a b z y T\")\n",
    "\n",
    "y = (sympy.cos(sympy.pi * a / (2. * m)))**p + c\n",
    "mstr = sympy.latex(y)\n",
    "subsdic = {c:0.09, p:0.1,m:0.471}\n",
    "T = y.subs(subsdic)\n",
    "lstr = sympy.latex(T)\n",
    "\n",
    "print(mstr)\n",
    "display(y)\n",
    "display(T)"
   ]
  },
  {
   "cell_type": "code",
   "execution_count": 34,
   "metadata": {},
   "outputs": [
    {
     "name": "stdout",
     "output_type": "stream",
     "text": [
      "np.cos(1.06157112526539*np.pi*a)**0.1 + 0.09\n"
     ]
    },
    {
     "data": {
      "text/plain": [
       "array([1.09      , 1.08998741, 1.08994964, 1.08988668, 1.08979849,\n",
       "       1.08968503, 1.08954627, 1.08938213, 1.08919255, 1.08897745,\n",
       "       1.08873673, 1.08847029, 1.088178  , 1.08785975, 1.08751538,\n",
       "       1.08714475, 1.08674768, 1.086324  , 1.08587351, 1.085396  ,\n",
       "       1.08489125, 1.08435902, 1.08379906, 1.08321109, 1.08259484,\n",
       "       1.08194999, 1.08127622, 1.0805732 , 1.07984055, 1.0790779 ,\n",
       "       1.07828485, 1.07746096, 1.07660579, 1.07571885, 1.07479966,\n",
       "       1.07384767, 1.07286233, 1.07184305, 1.07078919, 1.06970011,\n",
       "       1.06857511, 1.06741345, 1.06621435, 1.06497699, 1.06370051,\n",
       "       1.06238397, 1.06102641, 1.05962678, 1.058184  , 1.05669689,\n",
       "       1.05516422, 1.05358467, 1.05195684, 1.05027924, 1.04855027,\n",
       "       1.04676824, 1.04493132, 1.04303756, 1.04108489, 1.03907105,\n",
       "       1.03699364, 1.03485005, 1.03263749, 1.03035293, 1.02799309,\n",
       "       1.0255544 , 1.02303299, 1.02042464, 1.01772473, 1.0149282 ,\n",
       "       1.01202949, 1.00902246, 1.00590034, 1.00265558, 0.9992798 ,\n",
       "       0.99576361, 0.99209646, 0.98826643, 0.98425999, 0.9800617 ,\n",
       "       0.97565382, 0.97101581, 0.96612375, 0.96094949, 0.95545963,\n",
       "       0.94961409, 0.94336418, 0.93664993, 0.92939625, 0.92150735,\n",
       "       0.91285823, 0.90328129, 0.89254417, 0.8803109 , 0.86606823,\n",
       "       0.84897122, 0.82746972, 0.79818085, 0.75076441, 0.12637739])"
      ]
     },
     "execution_count": 34,
     "metadata": {},
     "output_type": "execute_result"
    }
   ],
   "source": [
    "# pstr = sympy.pycode(Assignment(v, T)).replace('math','np')\n",
    "pstr = sympy.pycode(T).replace('math','np')\n",
    "\n",
    "print(pstr)\n",
    "a = np.linspace(0,0.471,100)\n",
    "eval(pstr)"
   ]
  },
  {
   "cell_type": "code",
   "execution_count": 35,
   "metadata": {},
   "outputs": [
    {
     "name": "stdout",
     "output_type": "stream",
     "text": [
      "\\cos^{0.1}{\\left(1.06157112526539 \\cdot\\pi\\cdot \\theta \\right)} + 0.09\n"
     ]
    },
    {
     "data": {
      "text/plain": [
       "<AxesSubplot: >"
      ]
     },
     "execution_count": 35,
     "metadata": {},
     "output_type": "execute_result"
    },
    {
     "data": {
      "image/png": "[encoded data removed]",
      "text/plain": [
       "<Figure size 1200x500 with 1 Axes>"
      ]
     },
     "metadata": {},
     "output_type": "display_data"
    }
   ],
   "source": [
    "import pyradi.ryplot as ryplot\n",
    "lstr = lstr.replace(r' \\pi a ',r' \\cdot\\pi\\cdot \\theta ')\n",
    "print(lstr)\n",
    "p = ryplot.Plotter(1,1,1,f'${lstr}$',(12,5))\n",
    "p.plot(1,a,eval(pstr))\n",
    "                   \n",
    "                   "
   ]
  },
  {
   "cell_type": "markdown",
   "metadata": {},
   "source": [
    "## Solve circle "
   ]
  },
  {
   "cell_type": "code",
   "execution_count": null,
   "metadata": {},
   "outputs": [],
   "source": [
    "# import sympy\n",
    "# import numpy as np\n",
    "# from sympy.codegen.ast import Assignment\n",
    "\n",
    "y1,y2,yc,z1,z2,zc,r = sympy.symbols(\"y_1,y_2,y_c,z_1,z_2 z_c r\")\n",
    "eqzc = sympy.solve((y1-yc)**2 +(z1-zc)**2-((y2-yc)**2 +(z2-zc)**2),zc)\n",
    "print('Equation for zc')\n",
    "display(eqzc[0])\n",
    "eqr = sympy.solve((y1-yc)**2 +(z1-zc)**2-r**2,r)\n",
    "print('Equation for r')\n",
    "display(eqr[1])\n",
    "\n",
    "print('---------------------------------------')\n",
    "\n",
    "dicsubs = {y1:1.2,y2:2.5,z1:1.5,z2:2.5,yc:1.1}\n",
    "zcval = float(eqzc[0].subs(dicsubs))\n",
    "print(f'z_c = {zcval}')\n",
    "r = eqr[1].subs(dicsubs).subs({zc:zcval})\n",
    "print(f'r = {r}')\n",
    "\n",
    "print('---------------------------------------')\n",
    "print(sympy.python(eqzc))\n",
    "print(sympy.python(eqr))\n"
   ]
  },
  {
   "cell_type": "markdown",
   "metadata": {},
   "source": [
    "# Quadrilateral and Area \n",
    "\n",
    "The objective is to solve the angles for a quadrilateral given the length of the four edges and the area of the polygon.\n",
    "The process is to divide the quadrilateral into two triangles, writing the area of each of these triangles in terms of the diagonal, then solve for the diagonal length such that the sum of areas of the two triangles adds up to the total area.\n",
    "\n",
    "Name the four edges of the quadrilateral as $a,b,c,d$ and the line connecting the opposite points as $z$\n",
    "\n",
    "Heron's formula gives the area, $A$, of a triangle with sides $a, b, z$ as:\n",
    "$$\n",
    "A=\\sqrt{s(s-a)(s-b)(s-z)} \\text { where } s=\\frac{1}{2}(a+b+z).\n",
    "$$\n",
    "\n",
    "The \n",
    "\n"
   ]
  },
  {
   "cell_type": "code",
   "execution_count": 18,
   "metadata": {},
   "outputs": [],
   "source": [
    "# O, W, S, N = sympy.symbols(\"O W S N\")\n",
    "def getangle(c,d,zi):\n",
    "    O = sympy.acos(-(z**2 - c**2 - d**2)/(2*c*d))\n",
    "    return np.double(180*O.subs([(c,c),(d,c)]).subs([(z,zi)])/np.pi)\n",
    "\n",
    "def movev(xi,yi,dist,angle):\n",
    "    xd = dist * np.cos(np.pi*angle/180)\n",
    "    yd = dist * np.sin(np.pi*angle/180)\n",
    "    return xi+xd,yi+yd\n"
   ]
  },
  {
   "cell_type": "code",
   "execution_count": 47,
   "metadata": {},
   "outputs": [
    {
     "data": {
      "text/latex": [
       "$\\displaystyle - A + \\frac{\\sqrt{- a^{4} + 2 a^{2} b^{2} + 2 a^{2} z^{2} - b^{4} + 2 b^{2} z^{2} - z^{4}}}{4} + \\frac{\\sqrt{- c^{4} + 2 c^{2} d^{2} + 2 c^{2} z^{2} - d^{4} + 2 d^{2} z^{2} - z^{4}}}{4}$"
      ],
      "text/plain": [
       "-A + sqrt(-a**4 + 2*a**2*b**2 + 2*a**2*z**2 - b**4 + 2*b**2*z**2 - z**4)/4 + sqrt(-c**4 + 2*c**2*d**2 + 2*c**2*z**2 - d**4 + 2*d**2*z**2 - z**4)/4"
      ]
     },
     "metadata": {},
     "output_type": "display_data"
    }
   ],
   "source": [
    "import sympy\n",
    "import numpy as np\n",
    "import pandas as pd\n",
    "\n",
    "\n",
    "a, b, c, d, z, s1, s2, A1, A2, A = sympy.symbols(\"a b c d z s_1 s_2 A_1 A_2 A\")\n",
    "s1 = (a+b+z) / 2\n",
    "eq1 = sympy.sqrt(s1 * (s1-a) * (s1-b) * (s1-z)) - A1\n",
    "s2 = (c+d+z) / 2\n",
    "eq2 = sympy.sqrt(s2 * (s2-c) * (s2-d) * (s2-z)) - A2\n",
    "\n",
    "Az1 = sympy.solve(eq1,A1)\n",
    "Az2 = sympy.solve(eq2,A2)\n",
    "\n",
    "Atot = Az1[0]+ Az2[0] - A\n",
    "display(Atot)\n",
    "\n",
    "# display(sympy.solve(Atot,z)[-1])\n"
   ]
  },
  {
   "cell_type": "code",
   "execution_count": 136,
   "metadata": {},
   "outputs": [
    {
     "name": "stdout",
     "output_type": "stream",
     "text": [
      "2003 model: \n",
      "Area = 612.53\n"
     ]
    },
    {
     "data": {
      "text/html": [
       "<style type=\"text/css\">\n",
       "</style>\n",
       "<table id=\"T_1385a_\">\n",
       "  <thead>\n",
       "    <tr>\n",
       "      <th class=\"blank level0\" >&nbsp;</th>\n",
       "      <th class=\"col_heading level0 col0\" >A</th>\n",
       "      <th class=\"col_heading level0 col1\" >x</th>\n",
       "      <th class=\"col_heading level0 col2\" >y</th>\n",
       "      <th class=\"col_heading level0 col3\" >L</th>\n",
       "    </tr>\n",
       "  </thead>\n",
       "  <tbody>\n",
       "    <tr>\n",
       "      <th id=\"T_1385a_level0_row0\" class=\"row_heading level0 row0\" >Suid </th>\n",
       "      <td id=\"T_1385a_row0_col0\" class=\"data row0 col0\" >89.3</td>\n",
       "      <td id=\"T_1385a_row0_col1\" class=\"data row0 col1\" >-0.000</td>\n",
       "      <td id=\"T_1385a_row0_col2\" class=\"data row0 col2\" >0.000</td>\n",
       "      <td id=\"T_1385a_row0_col3\" class=\"data row0 col3\" >15.53</td>\n",
       "    </tr>\n",
       "    <tr>\n",
       "      <th id=\"T_1385a_level0_row1\" class=\"row_heading level0 row1\" >Wes  </th>\n",
       "      <td id=\"T_1385a_row1_col0\" class=\"data row1 col0\" >108.5</td>\n",
       "      <td id=\"T_1385a_row1_col1\" class=\"data row1 col1\" >-8.776</td>\n",
       "      <td id=\"T_1385a_row1_col2\" class=\"data row1 col2\" >12.810</td>\n",
       "      <td id=\"T_1385a_row1_col3\" class=\"data row1 col3\" >31.76</td>\n",
       "    </tr>\n",
       "    <tr>\n",
       "      <th id=\"T_1385a_level0_row2\" class=\"row_heading level0 row2\" >Noord</th>\n",
       "      <td id=\"T_1385a_row2_col0\" class=\"data row2 col0\" >71.2</td>\n",
       "      <td id=\"T_1385a_row2_col1\" class=\"data row2 col1\" >10.386</td>\n",
       "      <td id=\"T_1385a_row2_col2\" class=\"data row2 col2\" >38.143</td>\n",
       "      <td id=\"T_1385a_row2_col3\" class=\"data row2 col3\" >25.25</td>\n",
       "    </tr>\n",
       "    <tr>\n",
       "      <th id=\"T_1385a_level0_row3\" class=\"row_heading level0 row3\" >Oos  </th>\n",
       "      <td id=\"T_1385a_row3_col0\" class=\"data row3 col0\" >91.0</td>\n",
       "      <td id=\"T_1385a_row3_col1\" class=\"data row3 col1\" >24.549</td>\n",
       "      <td id=\"T_1385a_row3_col2\" class=\"data row3 col2\" >17.244</td>\n",
       "      <td id=\"T_1385a_row3_col3\" class=\"data row3 col3\" >30.00</td>\n",
       "    </tr>\n",
       "  </tbody>\n",
       "</table>\n"
      ],
      "text/plain": [
       "<pandas.io.formats.style.Styler at 0x2007a735040>"
      ]
     },
     "metadata": {},
     "output_type": "display_data"
    }
   ],
   "source": [
    "\n",
    "dicV = {}\n",
    "\n",
    "pd.set_option('display.chop_threshold', 0.001)\n",
    "\n",
    "dicV['2003'] = {a:15.528,b:31.764,c:30.,d:25.246,A:591.7,'zl':39.532}\n",
    "\n",
    "# dicV['CJW'] = {a:15.5,b:31.47,c:30,d:25,A:608,'zl':38.9725963248928}\n",
    "# dicV['GIS'] = {a:15.5,b:31.622,c:29.9,d:24.993,A:607.68,'zl':39.08}\n",
    "\n",
    "# 38.1580113680703\n",
    "\n",
    "\n",
    "for key in dicV.keys():\n",
    "\n",
    "    # solve for diagonal, it takes a while\n",
    "    if dicV[key]['zl'] is None:\n",
    "        Atot = Atot.subs(dicV[key])\n",
    "        print(f'{Atot}')\n",
    "        zl = sympy.solve(Atot,z)[-1]\n",
    "        display(zl)\n",
    "        dicV[key]['zl'] = zl \n",
    "\n",
    "    dicA = {'Wes  ':{'s':1},'Oos  ':{'s':3},'Noord':{'s':2},'Suid ':{'s':0},}\n",
    "    dicA['Wes  ']['A'] = getangle(dicV[key][a],dicV[key][b],dicV[key]['zl'])\n",
    "    dicA['Oos  ']['A'] = getangle(dicV[key][c],dicV[key][d],dicV[key]['zl'])\n",
    "    dicA['Noord']['A'] = getangle(dicV[key][b],dicV[key]['zl'],dicV[key][a]) +  getangle(dicV[key][d],dicV[key]['zl'],dicV[key][c])\n",
    "    dicA['Suid ']['A'] = getangle(dicV[key][a],dicV[key]['zl'],dicV[key][b]) +  getangle(dicV[key][c],dicV[key]['zl'],dicV[key][d])\n",
    "    if np.fabs(dicA['Wes  ']['A']+dicA['Oos  ']['A']+dicA['Noord']['A']+dicA['Suid ']['A'] - 360) > 0.1:\n",
    "        print('Check angles')\n",
    "    \n",
    "    # initial angle from S to O, in deg\n",
    "    sA = 35.086\n",
    "    if False:\n",
    "        x = 10.327\n",
    "        y = 11.081\n",
    "    else:\n",
    "        x = 0\n",
    "        y = 0   \n",
    "    \n",
    "    vpath = [[dicV[key][c],sA,'Oos  '],\n",
    "             [dicV[key][d],sA+180-dicA['Oos  ']['A'],'Noord'],\n",
    "             [dicV[key][b],sA+360-dicA['Oos  ']['A']-dicA['Noord']['A'],'Wes  '],\n",
    "             [dicV[key][a],sA+540-dicA['Oos  ']['A']-dicA['Noord']['A']-dicA['Wes  ']['A'],'Suid ']]\n",
    "    \n",
    "    for iseg,segment in enumerate(vpath):\n",
    "        # segment  = vpath[iseg%len(vpath)]\n",
    "        x,y = movev(x,y,segment[0],segment[1])\n",
    "        dicA[segment[2]][\"x\"],dicA[segment[2]][\"y\"] = x,y\n",
    "        dicA[segment[2]][\"L\"] = 0\n",
    "\n",
    "    dfCorners = pd.DataFrame.from_dict(dicA).T\n",
    "    dfCorners = dfCorners.sort_values(by='s')\n",
    "    dfCorners.at['Suid ','L'] = legLength(dfCorners.loc[['Suid ']],dfCorners.loc[['Wes  ']])\n",
    "    dfCorners.at['Wes  ','L'] = legLength(dfCorners.loc[['Wes  ']],dfCorners.loc[['Noord']])\n",
    "    dfCorners.at['Noord','L'] = legLength(dfCorners.loc[['Noord']],dfCorners.loc[['Oos  ']])\n",
    "    dfCorners.at['Oos  ','L'] = legLength(dfCorners.loc[['Oos  ']],dfCorners.loc[['Suid ']])\n",
    "    area = dfCorners.loc[['Wes  ']]['L'][0] * dfCorners.loc[['Noord']]['L'][0]*np.sin(np.pi*dfCorners.loc[['Noord']]['A'][0]/180)\n",
    "    area += dfCorners.loc[['Oos  ']]['L'][0] * dfCorners.loc[['Suid ']]['L'][0]*np.sin(np.pi*dfCorners.loc[['Suid ']]['A'][0]/180)\n",
    "    area = area / 2\n",
    "                                                                          \n",
    "    print(f'{key} model: \\nArea = {area:.2f}')\n",
    "    # print(dicV[key])                                                                                         \n",
    "    display(dfCorners.drop(['s'],axis=1).style.format({'A':'{:.1f}','x':'{:.3f}','y':'{:.3f}','L':'{:.2f}'}))\n",
    "    # print('-----------------------------')\n",
    "\n",
    "    \n",
    "#     constants = pd.DataFrame([('pi',np.pi),('e',np.e)],\n",
    "#                    columns=['name','value'])\n",
    "# C = constants.style.format({'name': '~~ {} ~~', 'value':'--> {:15.10f} <--'})\n",
    "# C\n",
    "    "
   ]
  },
  {
   "cell_type": "code",
   "execution_count": 92,
   "metadata": {},
   "outputs": [],
   "source": [
    "def legLength(ori,end):\n",
    "    len = np.sqrt((end.iloc[[0]]['x'][0]-ori.iloc[[0]]['x'][0])**2+(end.iloc[[0]]['y'][0]-ori.iloc[[0]]['y'][0])**2)\n",
    "    return len"
   ]
  },
  {
   "cell_type": "code",
   "execution_count": null,
   "metadata": {},
   "outputs": [],
   "source": []
  }
 ],
 "metadata": {
  "anaconda-cloud": {},
  "kernelspec": {
   "display_name": "Python 3 (ipykernel)",
   "language": "python",
   "name": "python3"
  },
  "language_info": {
   "codemirror_mode": {
    "name": "ipython",
    "version": 3
   },
   "file_extension": ".py",
   "mimetype": "text/x-python",
   "name": "python",
   "nbconvert_exporter": "python",
   "pygments_lexer": "ipython3",
   "version": "3.9.15"
  }
 },
 "nbformat": 4,
 "nbformat_minor": 4
}
