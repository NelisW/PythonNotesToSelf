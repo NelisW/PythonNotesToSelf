{
 "cells": [
  {
   "cell_type": "markdown",
   "metadata": {},
   "source": [
    "# Sympy experiments\n"
   ]
  },
  {
   "cell_type": "markdown",
   "metadata": {
    "run_control": {
     "frozen": false,
     "read_only": false
    }
   },
   "source": [
    "# Sympy playground"
   ]
  },
  {
   "cell_type": "code",
   "execution_count": 12,
   "metadata": {
    "collapsed": true,
    "run_control": {
     "frozen": false,
     "read_only": false
    }
   },
   "outputs": [],
   "source": [
    "import sympy\n",
    "sympy.init_printing()\n",
    "from IPython.display import display, Markdown\n"
   ]
  },
  {
   "cell_type": "markdown",
   "metadata": {},
   "source": [
    "## Biquad transformation "
   ]
  },
  {
   "cell_type": "code",
   "execution_count": null,
   "metadata": {
    "collapsed": true,
    "run_control": {
     "frozen": false,
     "read_only": false
    }
   },
   "outputs": [],
   "source": [
    "s, m,c,d,n,a,b,z,y, T = sympy.symbols(\"s m c d n a b z y T\")"
   ]
  },
  {
   "cell_type": "markdown",
   "metadata": {
    "run_control": {
     "frozen": false,
     "read_only": false
    }
   },
   "source": [
    "Biquad transfer function"
   ]
  },
  {
   "cell_type": "code",
   "execution_count": null,
   "metadata": {
    "run_control": {
     "frozen": false,
     "read_only": false
    }
   },
   "outputs": [],
   "source": [
    "Hn = m*s**2 + c*s + d\n",
    "Hd = n*s**2 + a*s + b\n",
    "H = Hn / Hd\n",
    "H"
   ]
  },
  {
   "cell_type": "markdown",
   "metadata": {
    "run_control": {
     "frozen": false,
     "read_only": false
    }
   },
   "source": [
    "Substitute \n",
    "$s\\rightarrow \\frac{2}{T}\\cdot\\frac{z-1}{z+1}$"
   ]
  },
  {
   "cell_type": "code",
   "execution_count": null,
   "metadata": {
    "run_control": {
     "frozen": false,
     "read_only": false
    }
   },
   "outputs": [],
   "source": [
    "H.subs(s,(2/T)*(z-1)/(z+1))"
   ]
  },
  {
   "cell_type": "code",
   "execution_count": null,
   "metadata": {
    "run_control": {
     "frozen": false,
     "read_only": false
    }
   },
   "outputs": [],
   "source": [
    "sympy.collect(sympy.simplify(sympy.collect(sympy.expand(H.subs(s,(2/T)*(z-1)/(z+1))),z)),z)"
   ]
  },
  {
   "cell_type": "markdown",
   "metadata": {
    "run_control": {
     "frozen": false,
     "read_only": false
    }
   },
   "source": [
    "rewrite in terms of $z^{-1}$ delay notation and refactoring the time to get it to the format used in SimulC:"
   ]
  },
  {
   "cell_type": "markdown",
   "metadata": {
    "run_control": {
     "frozen": false,
     "read_only": false
    }
   },
   "source": [
    "$$\\frac{\n",
    "\\left( d - 2 c/T + 4 m/T^{2}\\right)z^{-2} + \n",
    " \\left(2 d - 8 m/ T^{2}\\right)z^{-1} + \n",
    "\\left( d + 2  c/T + 4 m/T^{2}\\right) \n",
    "}{\n",
    "\\left( b - 2 a/T + 4 n/T^{2}\\right)z^{-2} + \n",
    " \\left(2  b - 8 n/T^{2}\\right)z^{-1} +\n",
    "\\left( b + 2 a/T + 4 n/T^{2}\\right) \n",
    "}\n",
    "$$"
   ]
  },
  {
   "cell_type": "markdown",
   "metadata": {
    "run_control": {
     "frozen": false,
     "read_only": false
    }
   },
   "source": [
    "## FEM solution"
   ]
  },
  {
   "cell_type": "code",
   "execution_count": 5,
   "metadata": {},
   "outputs": [],
   "source": [
    "a, b, x, y, x1, x2, x3, x4, y1, y2, y3, y4 = sympy.symbols(\"a, b, x, y, x_1 x_2 x_3 x_4 y_1 y_2 y_3 y_4\")"
   ]
  },
  {
   "cell_type": "code",
   "execution_count": null,
   "metadata": {},
   "outputs": [],
   "source": [
    "# sympy.solve((1-a)*(1-b)*x1/4 + (1+a)*(1-b)*x2/4 + (1+a)*(1+b)*x3/4 + (1-a)*(1+b)*x4/4 -x,a)\n",
    "\n"
   ]
  },
  {
   "cell_type": "code",
   "execution_count": null,
   "metadata": {},
   "outputs": [],
   "source": [
    "# sympy.solve((1-a)*(1-b)*x1/4 + (1+a)*(1-b)*x2/4 + (1+a)*(1+b)*x3/4 + (1-a)*(1+b)*x4/4 -x,b)\n"
   ]
  },
  {
   "cell_type": "code",
   "execution_count": null,
   "metadata": {},
   "outputs": [],
   "source": [
    "# sympy.solve((1-a)*(1-b)*y1/4 + (1+a)*(1-b)*y2/4 + (1+a)*(1+b)*y3/4 + (1-a)*(1+b)*y4/4 -y,a)"
   ]
  },
  {
   "cell_type": "code",
   "execution_count": null,
   "metadata": {},
   "outputs": [],
   "source": [
    "# sympy.solve((1-a)*(1-b)*y1/4 + (1+a)*(1-b)*y2/4 + (1+a)*(1+b)*y3/4 + (1-a)*(1+b)*y4/4 -y,b)"
   ]
  },
  {
   "cell_type": "markdown",
   "metadata": {},
   "source": [
    "Solve the set of both equations for a and b\n"
   ]
  },
  {
   "cell_type": "code",
   "execution_count": 16,
   "metadata": {},
   "outputs": [
    {
     "ename": "AttributeError",
     "evalue": "module 'sympy.solvers.solvers' has no attribute 'solveset'",
     "output_type": "error",
     "traceback": [
      "\u001b[1;31m---------------------------------------------------------------------------\u001b[0m",
      "\u001b[1;31mAttributeError\u001b[0m                            Traceback (most recent call last)",
      "\u001b[1;32m<ipython-input-16-065029a9aa15>\u001b[0m in \u001b[0;36m<module>\u001b[1;34m()\u001b[0m\n\u001b[1;32m----> 1\u001b[1;33m sols = sympy.solvers.solveset.nonlinsolve ([\n\u001b[0m\u001b[0;32m      2\u001b[0m     \u001b[1;33m(\u001b[0m\u001b[1;36m1\u001b[0m\u001b[1;33m-\u001b[0m\u001b[0ma\u001b[0m\u001b[1;33m)\u001b[0m\u001b[1;33m*\u001b[0m\u001b[1;33m(\u001b[0m\u001b[1;36m1\u001b[0m\u001b[1;33m-\u001b[0m\u001b[0mb\u001b[0m\u001b[1;33m)\u001b[0m\u001b[1;33m*\u001b[0m\u001b[0mx1\u001b[0m\u001b[1;33m/\u001b[0m\u001b[1;36m4\u001b[0m \u001b[1;33m+\u001b[0m \u001b[1;33m(\u001b[0m\u001b[1;36m1\u001b[0m\u001b[1;33m+\u001b[0m\u001b[0ma\u001b[0m\u001b[1;33m)\u001b[0m\u001b[1;33m*\u001b[0m\u001b[1;33m(\u001b[0m\u001b[1;36m1\u001b[0m\u001b[1;33m-\u001b[0m\u001b[0mb\u001b[0m\u001b[1;33m)\u001b[0m\u001b[1;33m*\u001b[0m\u001b[0mx2\u001b[0m\u001b[1;33m/\u001b[0m\u001b[1;36m4\u001b[0m \u001b[1;33m+\u001b[0m \u001b[1;33m(\u001b[0m\u001b[1;36m1\u001b[0m\u001b[1;33m+\u001b[0m\u001b[0ma\u001b[0m\u001b[1;33m)\u001b[0m\u001b[1;33m*\u001b[0m\u001b[1;33m(\u001b[0m\u001b[1;36m1\u001b[0m\u001b[1;33m+\u001b[0m\u001b[0mb\u001b[0m\u001b[1;33m)\u001b[0m\u001b[1;33m*\u001b[0m\u001b[0mx3\u001b[0m\u001b[1;33m/\u001b[0m\u001b[1;36m4\u001b[0m \u001b[1;33m+\u001b[0m \u001b[1;33m(\u001b[0m\u001b[1;36m1\u001b[0m\u001b[1;33m-\u001b[0m\u001b[0ma\u001b[0m\u001b[1;33m)\u001b[0m\u001b[1;33m*\u001b[0m\u001b[1;33m(\u001b[0m\u001b[1;36m1\u001b[0m\u001b[1;33m+\u001b[0m\u001b[0mb\u001b[0m\u001b[1;33m)\u001b[0m\u001b[1;33m*\u001b[0m\u001b[0mx4\u001b[0m\u001b[1;33m/\u001b[0m\u001b[1;36m4\u001b[0m \u001b[1;33m-\u001b[0m \u001b[0mx\u001b[0m \u001b[1;33m,\u001b[0m\u001b[1;33m\u001b[0m\u001b[0m\n\u001b[0;32m      3\u001b[0m     \u001b[1;33m(\u001b[0m\u001b[1;36m1\u001b[0m\u001b[1;33m-\u001b[0m\u001b[0ma\u001b[0m\u001b[1;33m)\u001b[0m\u001b[1;33m*\u001b[0m\u001b[1;33m(\u001b[0m\u001b[1;36m1\u001b[0m\u001b[1;33m-\u001b[0m\u001b[0mb\u001b[0m\u001b[1;33m)\u001b[0m\u001b[1;33m*\u001b[0m\u001b[0my1\u001b[0m\u001b[1;33m/\u001b[0m\u001b[1;36m4\u001b[0m \u001b[1;33m+\u001b[0m \u001b[1;33m(\u001b[0m\u001b[1;36m1\u001b[0m\u001b[1;33m+\u001b[0m\u001b[0ma\u001b[0m\u001b[1;33m)\u001b[0m\u001b[1;33m*\u001b[0m\u001b[1;33m(\u001b[0m\u001b[1;36m1\u001b[0m\u001b[1;33m-\u001b[0m\u001b[0mb\u001b[0m\u001b[1;33m)\u001b[0m\u001b[1;33m*\u001b[0m\u001b[0my2\u001b[0m\u001b[1;33m/\u001b[0m\u001b[1;36m4\u001b[0m \u001b[1;33m+\u001b[0m \u001b[1;33m(\u001b[0m\u001b[1;36m1\u001b[0m\u001b[1;33m+\u001b[0m\u001b[0ma\u001b[0m\u001b[1;33m)\u001b[0m\u001b[1;33m*\u001b[0m\u001b[1;33m(\u001b[0m\u001b[1;36m1\u001b[0m\u001b[1;33m+\u001b[0m\u001b[0mb\u001b[0m\u001b[1;33m)\u001b[0m\u001b[1;33m*\u001b[0m\u001b[0my3\u001b[0m\u001b[1;33m/\u001b[0m\u001b[1;36m4\u001b[0m \u001b[1;33m+\u001b[0m \u001b[1;33m(\u001b[0m\u001b[1;36m1\u001b[0m\u001b[1;33m-\u001b[0m\u001b[0ma\u001b[0m\u001b[1;33m)\u001b[0m\u001b[1;33m*\u001b[0m\u001b[1;33m(\u001b[0m\u001b[1;36m1\u001b[0m\u001b[1;33m+\u001b[0m\u001b[0mb\u001b[0m\u001b[1;33m)\u001b[0m\u001b[1;33m*\u001b[0m\u001b[0my4\u001b[0m\u001b[1;33m/\u001b[0m\u001b[1;36m4\u001b[0m \u001b[1;33m-\u001b[0m \u001b[0my\u001b[0m\u001b[1;33m\u001b[0m\u001b[0m\n\u001b[0;32m      4\u001b[0m     ] , \n\u001b[0;32m      5\u001b[0m     \u001b[1;33m[\u001b[0m\u001b[0ma\u001b[0m\u001b[1;33m,\u001b[0m \u001b[0mb\u001b[0m\u001b[1;33m]\u001b[0m\u001b[1;33m\u001b[0m\u001b[0m\n",
      "\u001b[1;31mAttributeError\u001b[0m: module 'sympy.solvers.solvers' has no attribute 'solveset'"
     ]
    }
   ],
   "source": [
    "sols = sympy.solve ([\n",
    "    (1-a)*(1-b)*x1/4 + (1+a)*(1-b)*x2/4 + (1+a)*(1+b)*x3/4 + (1-a)*(1+b)*x4/4 - x , \n",
    "    (1-a)*(1-b)*y1/4 + (1+a)*(1-b)*y2/4 + (1+a)*(1+b)*y3/4 + (1-a)*(1+b)*y4/4 - y\n",
    "    ] , \n",
    "    [a, b]\n",
    "    )\n"
   ]
  },
  {
   "cell_type": "code",
   "execution_count": 30,
   "metadata": {},
   "outputs": [
    {
     "name": "stdout",
     "output_type": "stream",
     "text": [
      "2 2 2\n"
     ]
    }
   ],
   "source": [
    "print(len(sols), len(sols[0]), len(sols[1]))\n"
   ]
  },
  {
   "cell_type": "code",
   "execution_count": 43,
   "metadata": {},
   "outputs": [
    {
     "data": {
      "image/png": "[encoded data removed]",
      "text/latex": [
       "$$\\frac{1}{x_{1} y_{3} - x_{1} y_{4} - x_{2} y_{3} + x_{2} y_{4} - x_{3} y_{1} + x_{3} y_{2} + x_{4} y_{1} - x_{4} y_{2}} \\left(- x y_{1} + x y_{2} - x y_{3} + x y_{4} + x_{1} y - x_{1} y_{4} - x_{2} y + x_{2} y_{3} + x_{3} y - x_{3} y_{2} - x_{4} y + x_{4} y_{1} - \\sqrt{x^{2} y_{1}^{2} - 2 x^{2} y_{1} y_{2} + 2 x^{2} y_{1} y_{3} - 2 x^{2} y_{1} y_{4} + x^{2} y_{2}^{2} - 2 x^{2} y_{2} y_{3} + 2 x^{2} y_{2} y_{4} + x^{2} y_{3}^{2} - 2 x^{2} y_{3} y_{4} + x^{2} y_{4}^{2} - 2 x x_{1} y y_{1} + 2 x x_{1} y y_{2} - 2 x x_{1} y y_{3} + 2 x x_{1} y y_{4} + 2 x x_{1} y_{1} y_{3} + 2 x x_{1} y_{2} y_{3} - 4 x x_{1} y_{2} y_{4} - 2 x x_{1} y_{3}^{2} + 2 x x_{1} y_{3} y_{4} + 2 x x_{2} y y_{1} - 2 x x_{2} y y_{2} + 2 x x_{2} y y_{3} - 2 x x_{2} y y_{4} - 4 x x_{2} y_{1} y_{3} + 2 x x_{2} y_{1} y_{4} + 2 x x_{2} y_{2} y_{4} + 2 x x_{2} y_{3} y_{4} - 2 x x_{2} y_{4}^{2} - 2 x x_{3} y y_{1} + 2 x x_{3} y y_{2} - 2 x x_{3} y y_{3} + 2 x x_{3} y y_{4} - 2 x x_{3} y_{1}^{2} + 2 x x_{3} y_{1} y_{2} + 2 x x_{3} y_{1} y_{3} + 2 x x_{3} y_{1} y_{4} - 4 x x_{3} y_{2} y_{4} + 2 x x_{4} y y_{1} - 2 x x_{4} y y_{2} + 2 x x_{4} y y_{3} - 2 x x_{4} y y_{4} + 2 x x_{4} y_{1} y_{2} - 4 x x_{4} y_{1} y_{3} - 2 x x_{4} y_{2}^{2} + 2 x x_{4} y_{2} y_{3} + 2 x x_{4} y_{2} y_{4} + x_{1}^{2} y^{2} - 2 x_{1}^{2} y y_{3} + x_{1}^{2} y_{3}^{2} - 2 x_{1} x_{2} y^{2} + 2 x_{1} x_{2} y y_{3} + 2 x_{1} x_{2} y y_{4} - 2 x_{1} x_{2} y_{3} y_{4} + 2 x_{1} x_{3} y^{2} + 2 x_{1} x_{3} y y_{1} - 4 x_{1} x_{3} y y_{2} + 2 x_{1} x_{3} y y_{3} - 4 x_{1} x_{3} y y_{4} - 2 x_{1} x_{3} y_{1} y_{3} + 4 x_{1} x_{3} y_{2} y_{4} - 2 x_{1} x_{4} y^{2} + 2 x_{1} x_{4} y y_{2} + 2 x_{1} x_{4} y y_{3} - 2 x_{1} x_{4} y_{2} y_{3} + x_{2}^{2} y^{2} - 2 x_{2}^{2} y y_{4} + x_{2}^{2} y_{4}^{2} - 2 x_{2} x_{3} y^{2} + 2 x_{2} x_{3} y y_{1} + 2 x_{2} x_{3} y y_{4} - 2 x_{2} x_{3} y_{1} y_{4} + 2 x_{2} x_{4} y^{2} - 4 x_{2} x_{4} y y_{1} + 2 x_{2} x_{4} y y_{2} - 4 x_{2} x_{4} y y_{3} + 2 x_{2} x_{4} y y_{4} + 4 x_{2} x_{4} y_{1} y_{3} - 2 x_{2} x_{4} y_{2} y_{4} + x_{3}^{2} y^{2} - 2 x_{3}^{2} y y_{1} + x_{3}^{2} y_{1}^{2} - 2 x_{3} x_{4} y^{2} + 2 x_{3} x_{4} y y_{1} + 2 x_{3} x_{4} y y_{2} - 2 x_{3} x_{4} y_{1} y_{2} + x_{4}^{2} y^{2} - 2 x_{4}^{2} y y_{2} + x_{4}^{2} y_{2}^{2}}\\right)$$"
      ],
      "text/plain": [
       "                                                                              \n",
       "                                                                              \n",
       "-x⋅y₁ + x⋅y₂ - x⋅y₃ + x⋅y₄ + x₁⋅y - x₁⋅y₄ - x₂⋅y + x₂⋅y₃ + x₃⋅y - x₃⋅y₂ - x₄⋅y\n",
       "──────────────────────────────────────────────────────────────────────────────\n",
       "                                                                              \n",
       "\n",
       "              ________________________________________________________________\n",
       "             ╱  2   2      2            2            2          2   2      2  \n",
       " + x₄⋅y₁ - ╲╱  x ⋅y₁  - 2⋅x ⋅y₁⋅y₂ + 2⋅x ⋅y₁⋅y₃ - 2⋅x ⋅y₁⋅y₄ + x ⋅y₂  - 2⋅x ⋅y\n",
       "──────────────────────────────────────────────────────────────────────────────\n",
       "                                                                              \n",
       "\n",
       "______________________________________________________________________________\n",
       "          2          2   2      2          2   2                              \n",
       "₂⋅y₃ + 2⋅x ⋅y₂⋅y₄ + x ⋅y₃  - 2⋅x ⋅y₃⋅y₄ + x ⋅y₄  - 2⋅x⋅x₁⋅y⋅y₁ + 2⋅x⋅x₁⋅y⋅y₂ -\n",
       "──────────────────────────────────────────────────────────────────────────────\n",
       "                                                                              \n",
       "\n",
       "______________________________________________________________________________\n",
       "                                                                              \n",
       " 2⋅x⋅x₁⋅y⋅y₃ + 2⋅x⋅x₁⋅y⋅y₄ + 2⋅x⋅x₁⋅y₁⋅y₃ + 2⋅x⋅x₁⋅y₂⋅y₃ - 4⋅x⋅x₁⋅y₂⋅y₄ - 2⋅x⋅\n",
       "──────────────────────────────────────────────────────────────────────────────\n",
       "                                                                              \n",
       "\n",
       "______________________________________________________________________________\n",
       "     2                                                                        \n",
       "x₁⋅y₃  + 2⋅x⋅x₁⋅y₃⋅y₄ + 2⋅x⋅x₂⋅y⋅y₁ - 2⋅x⋅x₂⋅y⋅y₂ + 2⋅x⋅x₂⋅y⋅y₃ - 2⋅x⋅x₂⋅y⋅y₄ \n",
       "──────────────────────────────────────────────────────────────────────────────\n",
       "                                                                              \n",
       "\n",
       "______________________________________________________________________________\n",
       "                                                                       2      \n",
       "- 4⋅x⋅x₂⋅y₁⋅y₃ + 2⋅x⋅x₂⋅y₁⋅y₄ + 2⋅x⋅x₂⋅y₂⋅y₄ + 2⋅x⋅x₂⋅y₃⋅y₄ - 2⋅x⋅x₂⋅y₄  - 2⋅x\n",
       "──────────────────────────────────────────────────────────────────────────────\n",
       "                                                                              \n",
       "\n",
       "______________________________________________________________________________\n",
       "                                                              2               \n",
       "⋅x₃⋅y⋅y₁ + 2⋅x⋅x₃⋅y⋅y₂ - 2⋅x⋅x₃⋅y⋅y₃ + 2⋅x⋅x₃⋅y⋅y₄ - 2⋅x⋅x₃⋅y₁  + 2⋅x⋅x₃⋅y₁⋅y₂\n",
       "──────────────────────────────────────────────────────────────────────────────\n",
       "                                                                              \n",
       "\n",
       "______________________________________________________________________________\n",
       "                                                                              \n",
       " + 2⋅x⋅x₃⋅y₁⋅y₃ + 2⋅x⋅x₃⋅y₁⋅y₄ - 4⋅x⋅x₃⋅y₂⋅y₄ + 2⋅x⋅x₄⋅y⋅y₁ - 2⋅x⋅x₄⋅y⋅y₂ + 2⋅\n",
       "──────────────────────────────────────────────────────────────────────────────\n",
       "                                                                       x₁⋅y₃ -\n",
       "\n",
       "______________________________________________________________________________\n",
       "                                                                 2            \n",
       "x⋅x₄⋅y⋅y₃ - 2⋅x⋅x₄⋅y⋅y₄ + 2⋅x⋅x₄⋅y₁⋅y₂ - 4⋅x⋅x₄⋅y₁⋅y₃ - 2⋅x⋅x₄⋅y₂  + 2⋅x⋅x₄⋅y₂\n",
       "──────────────────────────────────────────────────────────────────────────────\n",
       " x₁⋅y₄ - x₂⋅y₃ + x₂⋅y₄ - x₃⋅y₁ + x₃⋅y₂ + x₄⋅y₁ - x₄⋅y₂                        \n",
       "\n",
       "______________________________________________________________________________\n",
       "                       2  2       2          2   2            2               \n",
       "⋅y₃ + 2⋅x⋅x₄⋅y₂⋅y₄ + x₁ ⋅y  - 2⋅x₁ ⋅y⋅y₃ + x₁ ⋅y₃  - 2⋅x₁⋅x₂⋅y  + 2⋅x₁⋅x₂⋅y⋅y₃\n",
       "──────────────────────────────────────────────────────────────────────────────\n",
       "                                                                              \n",
       "\n",
       "______________________________________________________________________________\n",
       "                                           2                                  \n",
       " + 2⋅x₁⋅x₂⋅y⋅y₄ - 2⋅x₁⋅x₂⋅y₃⋅y₄ + 2⋅x₁⋅x₃⋅y  + 2⋅x₁⋅x₃⋅y⋅y₁ - 4⋅x₁⋅x₃⋅y⋅y₂ + 2\n",
       "──────────────────────────────────────────────────────────────────────────────\n",
       "                                                                              \n",
       "\n",
       "______________________________________________________________________________\n",
       "                                                                      2       \n",
       "⋅x₁⋅x₃⋅y⋅y₃ - 4⋅x₁⋅x₃⋅y⋅y₄ - 2⋅x₁⋅x₃⋅y₁⋅y₃ + 4⋅x₁⋅x₃⋅y₂⋅y₄ - 2⋅x₁⋅x₄⋅y  + 2⋅x₁\n",
       "──────────────────────────────────────────────────────────────────────────────\n",
       "                                                                              \n",
       "\n",
       "______________________________________________________________________________\n",
       "                                            2  2       2          2   2       \n",
       "⋅x₄⋅y⋅y₂ + 2⋅x₁⋅x₄⋅y⋅y₃ - 2⋅x₁⋅x₄⋅y₂⋅y₃ + x₂ ⋅y  - 2⋅x₂ ⋅y⋅y₄ + x₂ ⋅y₄  - 2⋅x₂\n",
       "──────────────────────────────────────────────────────────────────────────────\n",
       "                                                                              \n",
       "\n",
       "______________________________________________________________________________\n",
       "     2                                                          2             \n",
       "⋅x₃⋅y  + 2⋅x₂⋅x₃⋅y⋅y₁ + 2⋅x₂⋅x₃⋅y⋅y₄ - 2⋅x₂⋅x₃⋅y₁⋅y₄ + 2⋅x₂⋅x₄⋅y  - 4⋅x₂⋅x₄⋅y⋅\n",
       "──────────────────────────────────────────────────────────────────────────────\n",
       "                                                                              \n",
       "\n",
       "______________________________________________________________________________\n",
       "                                                                              \n",
       "y₁ + 2⋅x₂⋅x₄⋅y⋅y₂ - 4⋅x₂⋅x₄⋅y⋅y₃ + 2⋅x₂⋅x₄⋅y⋅y₄ + 4⋅x₂⋅x₄⋅y₁⋅y₃ - 2⋅x₂⋅x₄⋅y₂⋅y\n",
       "──────────────────────────────────────────────────────────────────────────────\n",
       "                                                                              \n",
       "\n",
       "______________________________________________________________________________\n",
       "      2  2       2          2   2            2                                \n",
       "₄ + x₃ ⋅y  - 2⋅x₃ ⋅y⋅y₁ + x₃ ⋅y₁  - 2⋅x₃⋅x₄⋅y  + 2⋅x₃⋅x₄⋅y⋅y₁ + 2⋅x₃⋅x₄⋅y⋅y₂ -\n",
       "──────────────────────────────────────────────────────────────────────────────\n",
       "                                                                              \n",
       "\n",
       "_______________________________________________\n",
       "                   2  2       2          2   2 \n",
       " 2⋅x₃⋅x₄⋅y₁⋅y₂ + x₄ ⋅y  - 2⋅x₄ ⋅y⋅y₂ + x₄ ⋅y₂  \n",
       "───────────────────────────────────────────────\n",
       "                                               "
      ]
     },
     "execution_count": 43,
     "metadata": {},
     "output_type": "execute_result"
    }
   ],
   "source": [
    "sympy.simplify(sols[0][0])"
   ]
  },
  {
   "cell_type": "code",
   "execution_count": 46,
   "metadata": {},
   "outputs": [
    {
     "data": {
      "image/png": "[encoded data removed]",
      "text/latex": [
       "$$\\frac{1}{x_{1} y_{2} - x_{1} y_{3} - x_{2} y_{1} + x_{2} y_{4} + x_{3} y_{1} - x_{3} y_{4} - x_{4} y_{2} + x_{4} y_{3}} \\left(x y_{1} - x y_{2} + x y_{3} - x y_{4} - x_{1} y + x_{1} y_{2} + x_{2} y - x_{2} y_{1} - x_{3} y + x_{3} y_{4} + x_{4} y - x_{4} y_{3} - \\sqrt{x^{2} y_{1}^{2} - 2 x^{2} y_{1} y_{2} + 2 x^{2} y_{1} y_{3} - 2 x^{2} y_{1} y_{4} + x^{2} y_{2}^{2} - 2 x^{2} y_{2} y_{3} + 2 x^{2} y_{2} y_{4} + x^{2} y_{3}^{2} - 2 x^{2} y_{3} y_{4} + x^{2} y_{4}^{2} - 2 x x_{1} y y_{1} + 2 x x_{1} y y_{2} - 2 x x_{1} y y_{3} + 2 x x_{1} y y_{4} + 2 x x_{1} y_{1} y_{3} + 2 x x_{1} y_{2} y_{3} - 4 x x_{1} y_{2} y_{4} - 2 x x_{1} y_{3}^{2} + 2 x x_{1} y_{3} y_{4} + 2 x x_{2} y y_{1} - 2 x x_{2} y y_{2} + 2 x x_{2} y y_{3} - 2 x x_{2} y y_{4} - 4 x x_{2} y_{1} y_{3} + 2 x x_{2} y_{1} y_{4} + 2 x x_{2} y_{2} y_{4} + 2 x x_{2} y_{3} y_{4} - 2 x x_{2} y_{4}^{2} - 2 x x_{3} y y_{1} + 2 x x_{3} y y_{2} - 2 x x_{3} y y_{3} + 2 x x_{3} y y_{4} - 2 x x_{3} y_{1}^{2} + 2 x x_{3} y_{1} y_{2} + 2 x x_{3} y_{1} y_{3} + 2 x x_{3} y_{1} y_{4} - 4 x x_{3} y_{2} y_{4} + 2 x x_{4} y y_{1} - 2 x x_{4} y y_{2} + 2 x x_{4} y y_{3} - 2 x x_{4} y y_{4} + 2 x x_{4} y_{1} y_{2} - 4 x x_{4} y_{1} y_{3} - 2 x x_{4} y_{2}^{2} + 2 x x_{4} y_{2} y_{3} + 2 x x_{4} y_{2} y_{4} + x_{1}^{2} y^{2} - 2 x_{1}^{2} y y_{3} + x_{1}^{2} y_{3}^{2} - 2 x_{1} x_{2} y^{2} + 2 x_{1} x_{2} y y_{3} + 2 x_{1} x_{2} y y_{4} - 2 x_{1} x_{2} y_{3} y_{4} + 2 x_{1} x_{3} y^{2} + 2 x_{1} x_{3} y y_{1} - 4 x_{1} x_{3} y y_{2} + 2 x_{1} x_{3} y y_{3} - 4 x_{1} x_{3} y y_{4} - 2 x_{1} x_{3} y_{1} y_{3} + 4 x_{1} x_{3} y_{2} y_{4} - 2 x_{1} x_{4} y^{2} + 2 x_{1} x_{4} y y_{2} + 2 x_{1} x_{4} y y_{3} - 2 x_{1} x_{4} y_{2} y_{3} + x_{2}^{2} y^{2} - 2 x_{2}^{2} y y_{4} + x_{2}^{2} y_{4}^{2} - 2 x_{2} x_{3} y^{2} + 2 x_{2} x_{3} y y_{1} + 2 x_{2} x_{3} y y_{4} - 2 x_{2} x_{3} y_{1} y_{4} + 2 x_{2} x_{4} y^{2} - 4 x_{2} x_{4} y y_{1} + 2 x_{2} x_{4} y y_{2} - 4 x_{2} x_{4} y y_{3} + 2 x_{2} x_{4} y y_{4} + 4 x_{2} x_{4} y_{1} y_{3} - 2 x_{2} x_{4} y_{2} y_{4} + x_{3}^{2} y^{2} - 2 x_{3}^{2} y y_{1} + x_{3}^{2} y_{1}^{2} - 2 x_{3} x_{4} y^{2} + 2 x_{3} x_{4} y y_{1} + 2 x_{3} x_{4} y y_{2} - 2 x_{3} x_{4} y_{1} y_{2} + x_{4}^{2} y^{2} - 2 x_{4}^{2} y y_{2} + x_{4}^{2} y_{2}^{2}}\\right)$$"
      ],
      "text/plain": [
       "                                                                              \n",
       "                                                                              \n",
       "x⋅y₁ - x⋅y₂ + x⋅y₃ - x⋅y₄ - x₁⋅y + x₁⋅y₂ + x₂⋅y - x₂⋅y₁ - x₃⋅y + x₃⋅y₄ + x₄⋅y \n",
       "──────────────────────────────────────────────────────────────────────────────\n",
       "                                                                              \n",
       "\n",
       "             _________________________________________________________________\n",
       "            ╱  2   2      2            2            2          2   2      2   \n",
       "- x₄⋅y₃ - ╲╱  x ⋅y₁  - 2⋅x ⋅y₁⋅y₂ + 2⋅x ⋅y₁⋅y₃ - 2⋅x ⋅y₁⋅y₄ + x ⋅y₂  - 2⋅x ⋅y₂\n",
       "──────────────────────────────────────────────────────────────────────────────\n",
       "                                                                              \n",
       "\n",
       "______________________________________________________________________________\n",
       "         2          2   2      2          2   2                               \n",
       "⋅y₃ + 2⋅x ⋅y₂⋅y₄ + x ⋅y₃  - 2⋅x ⋅y₃⋅y₄ + x ⋅y₄  - 2⋅x⋅x₁⋅y⋅y₁ + 2⋅x⋅x₁⋅y⋅y₂ - \n",
       "──────────────────────────────────────────────────────────────────────────────\n",
       "                                                                              \n",
       "\n",
       "______________________________________________________________________________\n",
       "                                                                              \n",
       "2⋅x⋅x₁⋅y⋅y₃ + 2⋅x⋅x₁⋅y⋅y₄ + 2⋅x⋅x₁⋅y₁⋅y₃ + 2⋅x⋅x₁⋅y₂⋅y₃ - 4⋅x⋅x₁⋅y₂⋅y₄ - 2⋅x⋅x\n",
       "──────────────────────────────────────────────────────────────────────────────\n",
       "                                                                              \n",
       "\n",
       "______________________________________________________________________________\n",
       "    2                                                                         \n",
       "₁⋅y₃  + 2⋅x⋅x₁⋅y₃⋅y₄ + 2⋅x⋅x₂⋅y⋅y₁ - 2⋅x⋅x₂⋅y⋅y₂ + 2⋅x⋅x₂⋅y⋅y₃ - 2⋅x⋅x₂⋅y⋅y₄ -\n",
       "──────────────────────────────────────────────────────────────────────────────\n",
       "                                                                              \n",
       "\n",
       "______________________________________________________________________________\n",
       "                                                                      2       \n",
       " 4⋅x⋅x₂⋅y₁⋅y₃ + 2⋅x⋅x₂⋅y₁⋅y₄ + 2⋅x⋅x₂⋅y₂⋅y₄ + 2⋅x⋅x₂⋅y₃⋅y₄ - 2⋅x⋅x₂⋅y₄  - 2⋅x⋅\n",
       "──────────────────────────────────────────────────────────────────────────────\n",
       "                                                                              \n",
       "\n",
       "______________________________________________________________________________\n",
       "                                                             2                \n",
       "x₃⋅y⋅y₁ + 2⋅x⋅x₃⋅y⋅y₂ - 2⋅x⋅x₃⋅y⋅y₃ + 2⋅x⋅x₃⋅y⋅y₄ - 2⋅x⋅x₃⋅y₁  + 2⋅x⋅x₃⋅y₁⋅y₂ \n",
       "──────────────────────────────────────────────────────────────────────────────\n",
       "                                                                              \n",
       "\n",
       "______________________________________________________________________________\n",
       "                                                                              \n",
       "+ 2⋅x⋅x₃⋅y₁⋅y₃ + 2⋅x⋅x₃⋅y₁⋅y₄ - 4⋅x⋅x₃⋅y₂⋅y₄ + 2⋅x⋅x₄⋅y⋅y₁ - 2⋅x⋅x₄⋅y⋅y₂ + 2⋅x\n",
       "──────────────────────────────────────────────────────────────────────────────\n",
       "                                                                      x₁⋅y₂ - \n",
       "\n",
       "______________________________________________________________________________\n",
       "                                                                2             \n",
       "⋅x₄⋅y⋅y₃ - 2⋅x⋅x₄⋅y⋅y₄ + 2⋅x⋅x₄⋅y₁⋅y₂ - 4⋅x⋅x₄⋅y₁⋅y₃ - 2⋅x⋅x₄⋅y₂  + 2⋅x⋅x₄⋅y₂⋅\n",
       "──────────────────────────────────────────────────────────────────────────────\n",
       "x₁⋅y₃ - x₂⋅y₁ + x₂⋅y₄ + x₃⋅y₁ - x₃⋅y₄ - x₄⋅y₂ + x₄⋅y₃                         \n",
       "\n",
       "______________________________________________________________________________\n",
       "                      2  2       2          2   2            2                \n",
       "y₃ + 2⋅x⋅x₄⋅y₂⋅y₄ + x₁ ⋅y  - 2⋅x₁ ⋅y⋅y₃ + x₁ ⋅y₃  - 2⋅x₁⋅x₂⋅y  + 2⋅x₁⋅x₂⋅y⋅y₃ \n",
       "──────────────────────────────────────────────────────────────────────────────\n",
       "                                                                              \n",
       "\n",
       "______________________________________________________________________________\n",
       "                                          2                                   \n",
       "+ 2⋅x₁⋅x₂⋅y⋅y₄ - 2⋅x₁⋅x₂⋅y₃⋅y₄ + 2⋅x₁⋅x₃⋅y  + 2⋅x₁⋅x₃⋅y⋅y₁ - 4⋅x₁⋅x₃⋅y⋅y₂ + 2⋅\n",
       "──────────────────────────────────────────────────────────────────────────────\n",
       "                                                                              \n",
       "\n",
       "______________________________________________________________________________\n",
       "                                                                     2        \n",
       "x₁⋅x₃⋅y⋅y₃ - 4⋅x₁⋅x₃⋅y⋅y₄ - 2⋅x₁⋅x₃⋅y₁⋅y₃ + 4⋅x₁⋅x₃⋅y₂⋅y₄ - 2⋅x₁⋅x₄⋅y  + 2⋅x₁⋅\n",
       "──────────────────────────────────────────────────────────────────────────────\n",
       "                                                                              \n",
       "\n",
       "______________________________________________________________________________\n",
       "                                           2  2       2          2   2        \n",
       "x₄⋅y⋅y₂ + 2⋅x₁⋅x₄⋅y⋅y₃ - 2⋅x₁⋅x₄⋅y₂⋅y₃ + x₂ ⋅y  - 2⋅x₂ ⋅y⋅y₄ + x₂ ⋅y₄  - 2⋅x₂⋅\n",
       "──────────────────────────────────────────────────────────────────────────────\n",
       "                                                                              \n",
       "\n",
       "______________________________________________________________________________\n",
       "    2                                                          2              \n",
       "x₃⋅y  + 2⋅x₂⋅x₃⋅y⋅y₁ + 2⋅x₂⋅x₃⋅y⋅y₄ - 2⋅x₂⋅x₃⋅y₁⋅y₄ + 2⋅x₂⋅x₄⋅y  - 4⋅x₂⋅x₄⋅y⋅y\n",
       "──────────────────────────────────────────────────────────────────────────────\n",
       "                                                                              \n",
       "\n",
       "______________________________________________________________________________\n",
       "                                                                              \n",
       "₁ + 2⋅x₂⋅x₄⋅y⋅y₂ - 4⋅x₂⋅x₄⋅y⋅y₃ + 2⋅x₂⋅x₄⋅y⋅y₄ + 4⋅x₂⋅x₄⋅y₁⋅y₃ - 2⋅x₂⋅x₄⋅y₂⋅y₄\n",
       "──────────────────────────────────────────────────────────────────────────────\n",
       "                                                                              \n",
       "\n",
       "______________________________________________________________________________\n",
       "     2  2       2          2   2            2                                 \n",
       " + x₃ ⋅y  - 2⋅x₃ ⋅y⋅y₁ + x₃ ⋅y₁  - 2⋅x₃⋅x₄⋅y  + 2⋅x₃⋅x₄⋅y⋅y₁ + 2⋅x₃⋅x₄⋅y⋅y₂ - \n",
       "──────────────────────────────────────────────────────────────────────────────\n",
       "                                                                              \n",
       "\n",
       "______________________________________________\n",
       "                  2  2       2          2   2 \n",
       "2⋅x₃⋅x₄⋅y₁⋅y₂ + x₄ ⋅y  - 2⋅x₄ ⋅y⋅y₂ + x₄ ⋅y₂  \n",
       "──────────────────────────────────────────────\n",
       "                                              "
      ]
     },
     "execution_count": 46,
     "metadata": {},
     "output_type": "execute_result"
    }
   ],
   "source": [
    "sympy.simplify(sols[0][1])"
   ]
  },
  {
   "cell_type": "code",
   "execution_count": 47,
   "metadata": {},
   "outputs": [
    {
     "data": {
      "image/png": "[encoded data removed]",
      "text/latex": [
       "$$\\frac{1}{x_{1} y_{3} - x_{1} y_{4} - x_{2} y_{3} + x_{2} y_{4} - x_{3} y_{1} + x_{3} y_{2} + x_{4} y_{1} - x_{4} y_{2}} \\left(- x y_{1} + x y_{2} - x y_{3} + x y_{4} + x_{1} y - x_{1} y_{4} - x_{2} y + x_{2} y_{3} + x_{3} y - x_{3} y_{2} - x_{4} y + x_{4} y_{1} + \\sqrt{x^{2} y_{1}^{2} - 2 x^{2} y_{1} y_{2} + 2 x^{2} y_{1} y_{3} - 2 x^{2} y_{1} y_{4} + x^{2} y_{2}^{2} - 2 x^{2} y_{2} y_{3} + 2 x^{2} y_{2} y_{4} + x^{2} y_{3}^{2} - 2 x^{2} y_{3} y_{4} + x^{2} y_{4}^{2} - 2 x x_{1} y y_{1} + 2 x x_{1} y y_{2} - 2 x x_{1} y y_{3} + 2 x x_{1} y y_{4} + 2 x x_{1} y_{1} y_{3} + 2 x x_{1} y_{2} y_{3} - 4 x x_{1} y_{2} y_{4} - 2 x x_{1} y_{3}^{2} + 2 x x_{1} y_{3} y_{4} + 2 x x_{2} y y_{1} - 2 x x_{2} y y_{2} + 2 x x_{2} y y_{3} - 2 x x_{2} y y_{4} - 4 x x_{2} y_{1} y_{3} + 2 x x_{2} y_{1} y_{4} + 2 x x_{2} y_{2} y_{4} + 2 x x_{2} y_{3} y_{4} - 2 x x_{2} y_{4}^{2} - 2 x x_{3} y y_{1} + 2 x x_{3} y y_{2} - 2 x x_{3} y y_{3} + 2 x x_{3} y y_{4} - 2 x x_{3} y_{1}^{2} + 2 x x_{3} y_{1} y_{2} + 2 x x_{3} y_{1} y_{3} + 2 x x_{3} y_{1} y_{4} - 4 x x_{3} y_{2} y_{4} + 2 x x_{4} y y_{1} - 2 x x_{4} y y_{2} + 2 x x_{4} y y_{3} - 2 x x_{4} y y_{4} + 2 x x_{4} y_{1} y_{2} - 4 x x_{4} y_{1} y_{3} - 2 x x_{4} y_{2}^{2} + 2 x x_{4} y_{2} y_{3} + 2 x x_{4} y_{2} y_{4} + x_{1}^{2} y^{2} - 2 x_{1}^{2} y y_{3} + x_{1}^{2} y_{3}^{2} - 2 x_{1} x_{2} y^{2} + 2 x_{1} x_{2} y y_{3} + 2 x_{1} x_{2} y y_{4} - 2 x_{1} x_{2} y_{3} y_{4} + 2 x_{1} x_{3} y^{2} + 2 x_{1} x_{3} y y_{1} - 4 x_{1} x_{3} y y_{2} + 2 x_{1} x_{3} y y_{3} - 4 x_{1} x_{3} y y_{4} - 2 x_{1} x_{3} y_{1} y_{3} + 4 x_{1} x_{3} y_{2} y_{4} - 2 x_{1} x_{4} y^{2} + 2 x_{1} x_{4} y y_{2} + 2 x_{1} x_{4} y y_{3} - 2 x_{1} x_{4} y_{2} y_{3} + x_{2}^{2} y^{2} - 2 x_{2}^{2} y y_{4} + x_{2}^{2} y_{4}^{2} - 2 x_{2} x_{3} y^{2} + 2 x_{2} x_{3} y y_{1} + 2 x_{2} x_{3} y y_{4} - 2 x_{2} x_{3} y_{1} y_{4} + 2 x_{2} x_{4} y^{2} - 4 x_{2} x_{4} y y_{1} + 2 x_{2} x_{4} y y_{2} - 4 x_{2} x_{4} y y_{3} + 2 x_{2} x_{4} y y_{4} + 4 x_{2} x_{4} y_{1} y_{3} - 2 x_{2} x_{4} y_{2} y_{4} + x_{3}^{2} y^{2} - 2 x_{3}^{2} y y_{1} + x_{3}^{2} y_{1}^{2} - 2 x_{3} x_{4} y^{2} + 2 x_{3} x_{4} y y_{1} + 2 x_{3} x_{4} y y_{2} - 2 x_{3} x_{4} y_{1} y_{2} + x_{4}^{2} y^{2} - 2 x_{4}^{2} y y_{2} + x_{4}^{2} y_{2}^{2}}\\right)$$"
      ],
      "text/plain": [
       "                                                                              \n",
       "                                                                              \n",
       "-x⋅y₁ + x⋅y₂ - x⋅y₃ + x⋅y₄ + x₁⋅y - x₁⋅y₄ - x₂⋅y + x₂⋅y₃ + x₃⋅y - x₃⋅y₂ - x₄⋅y\n",
       "──────────────────────────────────────────────────────────────────────────────\n",
       "                                                                              \n",
       "\n",
       "              ________________________________________________________________\n",
       "             ╱  2   2      2            2            2          2   2      2  \n",
       " + x₄⋅y₁ + ╲╱  x ⋅y₁  - 2⋅x ⋅y₁⋅y₂ + 2⋅x ⋅y₁⋅y₃ - 2⋅x ⋅y₁⋅y₄ + x ⋅y₂  - 2⋅x ⋅y\n",
       "──────────────────────────────────────────────────────────────────────────────\n",
       "                                                                              \n",
       "\n",
       "______________________________________________________________________________\n",
       "          2          2   2      2          2   2                              \n",
       "₂⋅y₃ + 2⋅x ⋅y₂⋅y₄ + x ⋅y₃  - 2⋅x ⋅y₃⋅y₄ + x ⋅y₄  - 2⋅x⋅x₁⋅y⋅y₁ + 2⋅x⋅x₁⋅y⋅y₂ -\n",
       "──────────────────────────────────────────────────────────────────────────────\n",
       "                                                                              \n",
       "\n",
       "______________________________________________________________________________\n",
       "                                                                              \n",
       " 2⋅x⋅x₁⋅y⋅y₃ + 2⋅x⋅x₁⋅y⋅y₄ + 2⋅x⋅x₁⋅y₁⋅y₃ + 2⋅x⋅x₁⋅y₂⋅y₃ - 4⋅x⋅x₁⋅y₂⋅y₄ - 2⋅x⋅\n",
       "──────────────────────────────────────────────────────────────────────────────\n",
       "                                                                              \n",
       "\n",
       "______________________________________________________________________________\n",
       "     2                                                                        \n",
       "x₁⋅y₃  + 2⋅x⋅x₁⋅y₃⋅y₄ + 2⋅x⋅x₂⋅y⋅y₁ - 2⋅x⋅x₂⋅y⋅y₂ + 2⋅x⋅x₂⋅y⋅y₃ - 2⋅x⋅x₂⋅y⋅y₄ \n",
       "──────────────────────────────────────────────────────────────────────────────\n",
       "                                                                              \n",
       "\n",
       "______________________________________________________________________________\n",
       "                                                                       2      \n",
       "- 4⋅x⋅x₂⋅y₁⋅y₃ + 2⋅x⋅x₂⋅y₁⋅y₄ + 2⋅x⋅x₂⋅y₂⋅y₄ + 2⋅x⋅x₂⋅y₃⋅y₄ - 2⋅x⋅x₂⋅y₄  - 2⋅x\n",
       "──────────────────────────────────────────────────────────────────────────────\n",
       "                                                                              \n",
       "\n",
       "______________________________________________________________________________\n",
       "                                                              2               \n",
       "⋅x₃⋅y⋅y₁ + 2⋅x⋅x₃⋅y⋅y₂ - 2⋅x⋅x₃⋅y⋅y₃ + 2⋅x⋅x₃⋅y⋅y₄ - 2⋅x⋅x₃⋅y₁  + 2⋅x⋅x₃⋅y₁⋅y₂\n",
       "──────────────────────────────────────────────────────────────────────────────\n",
       "                                                                              \n",
       "\n",
       "______________________________________________________________________________\n",
       "                                                                              \n",
       " + 2⋅x⋅x₃⋅y₁⋅y₃ + 2⋅x⋅x₃⋅y₁⋅y₄ - 4⋅x⋅x₃⋅y₂⋅y₄ + 2⋅x⋅x₄⋅y⋅y₁ - 2⋅x⋅x₄⋅y⋅y₂ + 2⋅\n",
       "──────────────────────────────────────────────────────────────────────────────\n",
       "                                                                       x₁⋅y₃ -\n",
       "\n",
       "______________________________________________________________________________\n",
       "                                                                 2            \n",
       "x⋅x₄⋅y⋅y₃ - 2⋅x⋅x₄⋅y⋅y₄ + 2⋅x⋅x₄⋅y₁⋅y₂ - 4⋅x⋅x₄⋅y₁⋅y₃ - 2⋅x⋅x₄⋅y₂  + 2⋅x⋅x₄⋅y₂\n",
       "──────────────────────────────────────────────────────────────────────────────\n",
       " x₁⋅y₄ - x₂⋅y₃ + x₂⋅y₄ - x₃⋅y₁ + x₃⋅y₂ + x₄⋅y₁ - x₄⋅y₂                        \n",
       "\n",
       "______________________________________________________________________________\n",
       "                       2  2       2          2   2            2               \n",
       "⋅y₃ + 2⋅x⋅x₄⋅y₂⋅y₄ + x₁ ⋅y  - 2⋅x₁ ⋅y⋅y₃ + x₁ ⋅y₃  - 2⋅x₁⋅x₂⋅y  + 2⋅x₁⋅x₂⋅y⋅y₃\n",
       "──────────────────────────────────────────────────────────────────────────────\n",
       "                                                                              \n",
       "\n",
       "______________________________________________________________________________\n",
       "                                           2                                  \n",
       " + 2⋅x₁⋅x₂⋅y⋅y₄ - 2⋅x₁⋅x₂⋅y₃⋅y₄ + 2⋅x₁⋅x₃⋅y  + 2⋅x₁⋅x₃⋅y⋅y₁ - 4⋅x₁⋅x₃⋅y⋅y₂ + 2\n",
       "──────────────────────────────────────────────────────────────────────────────\n",
       "                                                                              \n",
       "\n",
       "______________________________________________________________________________\n",
       "                                                                      2       \n",
       "⋅x₁⋅x₃⋅y⋅y₃ - 4⋅x₁⋅x₃⋅y⋅y₄ - 2⋅x₁⋅x₃⋅y₁⋅y₃ + 4⋅x₁⋅x₃⋅y₂⋅y₄ - 2⋅x₁⋅x₄⋅y  + 2⋅x₁\n",
       "──────────────────────────────────────────────────────────────────────────────\n",
       "                                                                              \n",
       "\n",
       "______________________________________________________________________________\n",
       "                                            2  2       2          2   2       \n",
       "⋅x₄⋅y⋅y₂ + 2⋅x₁⋅x₄⋅y⋅y₃ - 2⋅x₁⋅x₄⋅y₂⋅y₃ + x₂ ⋅y  - 2⋅x₂ ⋅y⋅y₄ + x₂ ⋅y₄  - 2⋅x₂\n",
       "──────────────────────────────────────────────────────────────────────────────\n",
       "                                                                              \n",
       "\n",
       "______________________________________________________________________________\n",
       "     2                                                          2             \n",
       "⋅x₃⋅y  + 2⋅x₂⋅x₃⋅y⋅y₁ + 2⋅x₂⋅x₃⋅y⋅y₄ - 2⋅x₂⋅x₃⋅y₁⋅y₄ + 2⋅x₂⋅x₄⋅y  - 4⋅x₂⋅x₄⋅y⋅\n",
       "──────────────────────────────────────────────────────────────────────────────\n",
       "                                                                              \n",
       "\n",
       "______________________________________________________________________________\n",
       "                                                                              \n",
       "y₁ + 2⋅x₂⋅x₄⋅y⋅y₂ - 4⋅x₂⋅x₄⋅y⋅y₃ + 2⋅x₂⋅x₄⋅y⋅y₄ + 4⋅x₂⋅x₄⋅y₁⋅y₃ - 2⋅x₂⋅x₄⋅y₂⋅y\n",
       "──────────────────────────────────────────────────────────────────────────────\n",
       "                                                                              \n",
       "\n",
       "______________________________________________________________________________\n",
       "      2  2       2          2   2            2                                \n",
       "₄ + x₃ ⋅y  - 2⋅x₃ ⋅y⋅y₁ + x₃ ⋅y₁  - 2⋅x₃⋅x₄⋅y  + 2⋅x₃⋅x₄⋅y⋅y₁ + 2⋅x₃⋅x₄⋅y⋅y₂ -\n",
       "──────────────────────────────────────────────────────────────────────────────\n",
       "                                                                              \n",
       "\n",
       "_______________________________________________\n",
       "                   2  2       2          2   2 \n",
       " 2⋅x₃⋅x₄⋅y₁⋅y₂ + x₄ ⋅y  - 2⋅x₄ ⋅y⋅y₂ + x₄ ⋅y₂  \n",
       "───────────────────────────────────────────────\n",
       "                                               "
      ]
     },
     "execution_count": 47,
     "metadata": {},
     "output_type": "execute_result"
    }
   ],
   "source": [
    "sympy.simplify(sols[1][0])"
   ]
  },
  {
   "cell_type": "code",
   "execution_count": 48,
   "metadata": {},
   "outputs": [
    {
     "data": {
      "image/png": "[encoded data removed]",
      "text/latex": [
       "$$\\frac{1}{x_{1} y_{2} - x_{1} y_{3} - x_{2} y_{1} + x_{2} y_{4} + x_{3} y_{1} - x_{3} y_{4} - x_{4} y_{2} + x_{4} y_{3}} \\left(x y_{1} - x y_{2} + x y_{3} - x y_{4} - x_{1} y + x_{1} y_{2} + x_{2} y - x_{2} y_{1} - x_{3} y + x_{3} y_{4} + x_{4} y - x_{4} y_{3} + \\sqrt{x^{2} y_{1}^{2} - 2 x^{2} y_{1} y_{2} + 2 x^{2} y_{1} y_{3} - 2 x^{2} y_{1} y_{4} + x^{2} y_{2}^{2} - 2 x^{2} y_{2} y_{3} + 2 x^{2} y_{2} y_{4} + x^{2} y_{3}^{2} - 2 x^{2} y_{3} y_{4} + x^{2} y_{4}^{2} - 2 x x_{1} y y_{1} + 2 x x_{1} y y_{2} - 2 x x_{1} y y_{3} + 2 x x_{1} y y_{4} + 2 x x_{1} y_{1} y_{3} + 2 x x_{1} y_{2} y_{3} - 4 x x_{1} y_{2} y_{4} - 2 x x_{1} y_{3}^{2} + 2 x x_{1} y_{3} y_{4} + 2 x x_{2} y y_{1} - 2 x x_{2} y y_{2} + 2 x x_{2} y y_{3} - 2 x x_{2} y y_{4} - 4 x x_{2} y_{1} y_{3} + 2 x x_{2} y_{1} y_{4} + 2 x x_{2} y_{2} y_{4} + 2 x x_{2} y_{3} y_{4} - 2 x x_{2} y_{4}^{2} - 2 x x_{3} y y_{1} + 2 x x_{3} y y_{2} - 2 x x_{3} y y_{3} + 2 x x_{3} y y_{4} - 2 x x_{3} y_{1}^{2} + 2 x x_{3} y_{1} y_{2} + 2 x x_{3} y_{1} y_{3} + 2 x x_{3} y_{1} y_{4} - 4 x x_{3} y_{2} y_{4} + 2 x x_{4} y y_{1} - 2 x x_{4} y y_{2} + 2 x x_{4} y y_{3} - 2 x x_{4} y y_{4} + 2 x x_{4} y_{1} y_{2} - 4 x x_{4} y_{1} y_{3} - 2 x x_{4} y_{2}^{2} + 2 x x_{4} y_{2} y_{3} + 2 x x_{4} y_{2} y_{4} + x_{1}^{2} y^{2} - 2 x_{1}^{2} y y_{3} + x_{1}^{2} y_{3}^{2} - 2 x_{1} x_{2} y^{2} + 2 x_{1} x_{2} y y_{3} + 2 x_{1} x_{2} y y_{4} - 2 x_{1} x_{2} y_{3} y_{4} + 2 x_{1} x_{3} y^{2} + 2 x_{1} x_{3} y y_{1} - 4 x_{1} x_{3} y y_{2} + 2 x_{1} x_{3} y y_{3} - 4 x_{1} x_{3} y y_{4} - 2 x_{1} x_{3} y_{1} y_{3} + 4 x_{1} x_{3} y_{2} y_{4} - 2 x_{1} x_{4} y^{2} + 2 x_{1} x_{4} y y_{2} + 2 x_{1} x_{4} y y_{3} - 2 x_{1} x_{4} y_{2} y_{3} + x_{2}^{2} y^{2} - 2 x_{2}^{2} y y_{4} + x_{2}^{2} y_{4}^{2} - 2 x_{2} x_{3} y^{2} + 2 x_{2} x_{3} y y_{1} + 2 x_{2} x_{3} y y_{4} - 2 x_{2} x_{3} y_{1} y_{4} + 2 x_{2} x_{4} y^{2} - 4 x_{2} x_{4} y y_{1} + 2 x_{2} x_{4} y y_{2} - 4 x_{2} x_{4} y y_{3} + 2 x_{2} x_{4} y y_{4} + 4 x_{2} x_{4} y_{1} y_{3} - 2 x_{2} x_{4} y_{2} y_{4} + x_{3}^{2} y^{2} - 2 x_{3}^{2} y y_{1} + x_{3}^{2} y_{1}^{2} - 2 x_{3} x_{4} y^{2} + 2 x_{3} x_{4} y y_{1} + 2 x_{3} x_{4} y y_{2} - 2 x_{3} x_{4} y_{1} y_{2} + x_{4}^{2} y^{2} - 2 x_{4}^{2} y y_{2} + x_{4}^{2} y_{2}^{2}}\\right)$$"
      ],
      "text/plain": [
       "                                                                              \n",
       "                                                                              \n",
       "x⋅y₁ - x⋅y₂ + x⋅y₃ - x⋅y₄ - x₁⋅y + x₁⋅y₂ + x₂⋅y - x₂⋅y₁ - x₃⋅y + x₃⋅y₄ + x₄⋅y \n",
       "──────────────────────────────────────────────────────────────────────────────\n",
       "                                                                              \n",
       "\n",
       "             _________________________________________________________________\n",
       "            ╱  2   2      2            2            2          2   2      2   \n",
       "- x₄⋅y₃ + ╲╱  x ⋅y₁  - 2⋅x ⋅y₁⋅y₂ + 2⋅x ⋅y₁⋅y₃ - 2⋅x ⋅y₁⋅y₄ + x ⋅y₂  - 2⋅x ⋅y₂\n",
       "──────────────────────────────────────────────────────────────────────────────\n",
       "                                                                              \n",
       "\n",
       "______________________________________________________________________________\n",
       "         2          2   2      2          2   2                               \n",
       "⋅y₃ + 2⋅x ⋅y₂⋅y₄ + x ⋅y₃  - 2⋅x ⋅y₃⋅y₄ + x ⋅y₄  - 2⋅x⋅x₁⋅y⋅y₁ + 2⋅x⋅x₁⋅y⋅y₂ - \n",
       "──────────────────────────────────────────────────────────────────────────────\n",
       "                                                                              \n",
       "\n",
       "______________________________________________________________________________\n",
       "                                                                              \n",
       "2⋅x⋅x₁⋅y⋅y₃ + 2⋅x⋅x₁⋅y⋅y₄ + 2⋅x⋅x₁⋅y₁⋅y₃ + 2⋅x⋅x₁⋅y₂⋅y₃ - 4⋅x⋅x₁⋅y₂⋅y₄ - 2⋅x⋅x\n",
       "──────────────────────────────────────────────────────────────────────────────\n",
       "                                                                              \n",
       "\n",
       "______________________________________________________________________________\n",
       "    2                                                                         \n",
       "₁⋅y₃  + 2⋅x⋅x₁⋅y₃⋅y₄ + 2⋅x⋅x₂⋅y⋅y₁ - 2⋅x⋅x₂⋅y⋅y₂ + 2⋅x⋅x₂⋅y⋅y₃ - 2⋅x⋅x₂⋅y⋅y₄ -\n",
       "──────────────────────────────────────────────────────────────────────────────\n",
       "                                                                              \n",
       "\n",
       "______________________________________________________________________________\n",
       "                                                                      2       \n",
       " 4⋅x⋅x₂⋅y₁⋅y₃ + 2⋅x⋅x₂⋅y₁⋅y₄ + 2⋅x⋅x₂⋅y₂⋅y₄ + 2⋅x⋅x₂⋅y₃⋅y₄ - 2⋅x⋅x₂⋅y₄  - 2⋅x⋅\n",
       "──────────────────────────────────────────────────────────────────────────────\n",
       "                                                                              \n",
       "\n",
       "______________________________________________________________________________\n",
       "                                                             2                \n",
       "x₃⋅y⋅y₁ + 2⋅x⋅x₃⋅y⋅y₂ - 2⋅x⋅x₃⋅y⋅y₃ + 2⋅x⋅x₃⋅y⋅y₄ - 2⋅x⋅x₃⋅y₁  + 2⋅x⋅x₃⋅y₁⋅y₂ \n",
       "──────────────────────────────────────────────────────────────────────────────\n",
       "                                                                              \n",
       "\n",
       "______________________________________________________________________________\n",
       "                                                                              \n",
       "+ 2⋅x⋅x₃⋅y₁⋅y₃ + 2⋅x⋅x₃⋅y₁⋅y₄ - 4⋅x⋅x₃⋅y₂⋅y₄ + 2⋅x⋅x₄⋅y⋅y₁ - 2⋅x⋅x₄⋅y⋅y₂ + 2⋅x\n",
       "──────────────────────────────────────────────────────────────────────────────\n",
       "                                                                      x₁⋅y₂ - \n",
       "\n",
       "______________________________________________________________________________\n",
       "                                                                2             \n",
       "⋅x₄⋅y⋅y₃ - 2⋅x⋅x₄⋅y⋅y₄ + 2⋅x⋅x₄⋅y₁⋅y₂ - 4⋅x⋅x₄⋅y₁⋅y₃ - 2⋅x⋅x₄⋅y₂  + 2⋅x⋅x₄⋅y₂⋅\n",
       "──────────────────────────────────────────────────────────────────────────────\n",
       "x₁⋅y₃ - x₂⋅y₁ + x₂⋅y₄ + x₃⋅y₁ - x₃⋅y₄ - x₄⋅y₂ + x₄⋅y₃                         \n",
       "\n",
       "______________________________________________________________________________\n",
       "                      2  2       2          2   2            2                \n",
       "y₃ + 2⋅x⋅x₄⋅y₂⋅y₄ + x₁ ⋅y  - 2⋅x₁ ⋅y⋅y₃ + x₁ ⋅y₃  - 2⋅x₁⋅x₂⋅y  + 2⋅x₁⋅x₂⋅y⋅y₃ \n",
       "──────────────────────────────────────────────────────────────────────────────\n",
       "                                                                              \n",
       "\n",
       "______________________________________________________________________________\n",
       "                                          2                                   \n",
       "+ 2⋅x₁⋅x₂⋅y⋅y₄ - 2⋅x₁⋅x₂⋅y₃⋅y₄ + 2⋅x₁⋅x₃⋅y  + 2⋅x₁⋅x₃⋅y⋅y₁ - 4⋅x₁⋅x₃⋅y⋅y₂ + 2⋅\n",
       "──────────────────────────────────────────────────────────────────────────────\n",
       "                                                                              \n",
       "\n",
       "______________________________________________________________________________\n",
       "                                                                     2        \n",
       "x₁⋅x₃⋅y⋅y₃ - 4⋅x₁⋅x₃⋅y⋅y₄ - 2⋅x₁⋅x₃⋅y₁⋅y₃ + 4⋅x₁⋅x₃⋅y₂⋅y₄ - 2⋅x₁⋅x₄⋅y  + 2⋅x₁⋅\n",
       "──────────────────────────────────────────────────────────────────────────────\n",
       "                                                                              \n",
       "\n",
       "______________________________________________________________________________\n",
       "                                           2  2       2          2   2        \n",
       "x₄⋅y⋅y₂ + 2⋅x₁⋅x₄⋅y⋅y₃ - 2⋅x₁⋅x₄⋅y₂⋅y₃ + x₂ ⋅y  - 2⋅x₂ ⋅y⋅y₄ + x₂ ⋅y₄  - 2⋅x₂⋅\n",
       "──────────────────────────────────────────────────────────────────────────────\n",
       "                                                                              \n",
       "\n",
       "______________________________________________________________________________\n",
       "    2                                                          2              \n",
       "x₃⋅y  + 2⋅x₂⋅x₃⋅y⋅y₁ + 2⋅x₂⋅x₃⋅y⋅y₄ - 2⋅x₂⋅x₃⋅y₁⋅y₄ + 2⋅x₂⋅x₄⋅y  - 4⋅x₂⋅x₄⋅y⋅y\n",
       "──────────────────────────────────────────────────────────────────────────────\n",
       "                                                                              \n",
       "\n",
       "______________________________________________________________________________\n",
       "                                                                              \n",
       "₁ + 2⋅x₂⋅x₄⋅y⋅y₂ - 4⋅x₂⋅x₄⋅y⋅y₃ + 2⋅x₂⋅x₄⋅y⋅y₄ + 4⋅x₂⋅x₄⋅y₁⋅y₃ - 2⋅x₂⋅x₄⋅y₂⋅y₄\n",
       "──────────────────────────────────────────────────────────────────────────────\n",
       "                                                                              \n",
       "\n",
       "______________________________________________________________________________\n",
       "     2  2       2          2   2            2                                 \n",
       " + x₃ ⋅y  - 2⋅x₃ ⋅y⋅y₁ + x₃ ⋅y₁  - 2⋅x₃⋅x₄⋅y  + 2⋅x₃⋅x₄⋅y⋅y₁ + 2⋅x₃⋅x₄⋅y⋅y₂ - \n",
       "──────────────────────────────────────────────────────────────────────────────\n",
       "                                                                              \n",
       "\n",
       "______________________________________________\n",
       "                  2  2       2          2   2 \n",
       "2⋅x₃⋅x₄⋅y₁⋅y₂ + x₄ ⋅y  - 2⋅x₄ ⋅y⋅y₂ + x₄ ⋅y₂  \n",
       "──────────────────────────────────────────────\n",
       "                                              "
      ]
     },
     "execution_count": 48,
     "metadata": {},
     "output_type": "execute_result"
    }
   ],
   "source": [
    "sympy.simplify(sols[1][1])"
   ]
  },
  {
   "cell_type": "code",
   "execution_count": 40,
   "metadata": {},
   "outputs": [
    {
     "name": "stdout",
     "output_type": "stream",
     "text": [
      "\\frac{1}{x_{1} y_{3} - x_{1} y_{4} - x_{2} y_{3} + x_{2} y_{4} - x_{3} y_{1} + x_{3} y_{2} + x_{4} y_{1} - x_{4} y_{2}} \\left(- x y_{1} + x y_{2} - x y_{3} + x y_{4} + x_{1} y - x_{1} y_{4} - x_{2} y + x_{2} y_{3} + x_{3} y - x_{3} y_{2} - x_{4} y + x_{4} y_{1} + \\sqrt{x^{2} y_{1}^{2} - 2 x^{2} y_{1} y_{2} + 2 x^{2} y_{1} y_{3} - 2 x^{2} y_{1} y_{4} + x^{2} y_{2}^{2} - 2 x^{2} y_{2} y_{3} + 2 x^{2} y_{2} y_{4} + x^{2} y_{3}^{2} - 2 x^{2} y_{3} y_{4} + x^{2} y_{4}^{2} - 2 x x_{1} y y_{1} + 2 x x_{1} y y_{2} - 2 x x_{1} y y_{3} + 2 x x_{1} y y_{4} + 2 x x_{1} y_{1} y_{3} + 2 x x_{1} y_{2} y_{3} - 4 x x_{1} y_{2} y_{4} - 2 x x_{1} y_{3}^{2} + 2 x x_{1} y_{3} y_{4} + 2 x x_{2} y y_{1} - 2 x x_{2} y y_{2} + 2 x x_{2} y y_{3} - 2 x x_{2} y y_{4} - 4 x x_{2} y_{1} y_{3} + 2 x x_{2} y_{1} y_{4} + 2 x x_{2} y_{2} y_{4} + 2 x x_{2} y_{3} y_{4} - 2 x x_{2} y_{4}^{2} - 2 x x_{3} y y_{1} + 2 x x_{3} y y_{2} - 2 x x_{3} y y_{3} + 2 x x_{3} y y_{4} - 2 x x_{3} y_{1}^{2} + 2 x x_{3} y_{1} y_{2} + 2 x x_{3} y_{1} y_{3} + 2 x x_{3} y_{1} y_{4} - 4 x x_{3} y_{2} y_{4} + 2 x x_{4} y y_{1} - 2 x x_{4} y y_{2} + 2 x x_{4} y y_{3} - 2 x x_{4} y y_{4} + 2 x x_{4} y_{1} y_{2} - 4 x x_{4} y_{1} y_{3} - 2 x x_{4} y_{2}^{2} + 2 x x_{4} y_{2} y_{3} + 2 x x_{4} y_{2} y_{4} + x_{1}^{2} y^{2} - 2 x_{1}^{2} y y_{3} + x_{1}^{2} y_{3}^{2} - 2 x_{1} x_{2} y^{2} + 2 x_{1} x_{2} y y_{3} + 2 x_{1} x_{2} y y_{4} - 2 x_{1} x_{2} y_{3} y_{4} + 2 x_{1} x_{3} y^{2} + 2 x_{1} x_{3} y y_{1} - 4 x_{1} x_{3} y y_{2} + 2 x_{1} x_{3} y y_{3} - 4 x_{1} x_{3} y y_{4} - 2 x_{1} x_{3} y_{1} y_{3} + 4 x_{1} x_{3} y_{2} y_{4} - 2 x_{1} x_{4} y^{2} + 2 x_{1} x_{4} y y_{2} + 2 x_{1} x_{4} y y_{3} - 2 x_{1} x_{4} y_{2} y_{3} + x_{2}^{2} y^{2} - 2 x_{2}^{2} y y_{4} + x_{2}^{2} y_{4}^{2} - 2 x_{2} x_{3} y^{2} + 2 x_{2} x_{3} y y_{1} + 2 x_{2} x_{3} y y_{4} - 2 x_{2} x_{3} y_{1} y_{4} + 2 x_{2} x_{4} y^{2} - 4 x_{2} x_{4} y y_{1} + 2 x_{2} x_{4} y y_{2} - 4 x_{2} x_{4} y y_{3} + 2 x_{2} x_{4} y y_{4} + 4 x_{2} x_{4} y_{1} y_{3} - 2 x_{2} x_{4} y_{2} y_{4} + x_{3}^{2} y^{2} - 2 x_{3}^{2} y y_{1} + x_{3}^{2} y_{1}^{2} - 2 x_{3} x_{4} y^{2} + 2 x_{3} x_{4} y y_{1} + 2 x_{3} x_{4} y y_{2} - 2 x_{3} x_{4} y_{1} y_{2} + x_{4}^{2} y^{2} - 2 x_{4}^{2} y y_{2} + x_{4}^{2} y_{2}^{2}}\\right)\n"
     ]
    }
   ],
   "source": [
    "print(sympy.latex(sols[1][0]))"
   ]
  },
  {
   "cell_type": "code",
   "execution_count": null,
   "metadata": {},
   "outputs": [],
   "source": []
  },
  {
   "cell_type": "code",
   "execution_count": null,
   "metadata": {},
   "outputs": [],
   "source": []
  },
  {
   "cell_type": "code",
   "execution_count": null,
   "metadata": {},
   "outputs": [],
   "source": []
  },
  {
   "cell_type": "code",
   "execution_count": null,
   "metadata": {},
   "outputs": [],
   "source": []
  }
 ],
 "metadata": {
  "anaconda-cloud": {},
  "kernelspec": {
   "display_name": "Python 3",
   "language": "python",
   "name": "python3"
  },
  "language_info": {
   "codemirror_mode": {
    "name": "ipython",
    "version": 3
   },
   "file_extension": ".py",
   "mimetype": "text/x-python",
   "name": "python",
   "nbconvert_exporter": "python",
   "pygments_lexer": "ipython3",
   "version": "3.6.1"
  }
 },
 "nbformat": 4,
 "nbformat_minor": 2
}
