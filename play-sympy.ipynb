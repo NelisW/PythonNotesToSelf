{
 "cells": [
  {
   "cell_type": "markdown",
   "metadata": {},
   "source": [
    "# Sympy experiments\n"
   ]
  },
  {
   "cell_type": "markdown",
   "metadata": {
    "run_control": {
     "frozen": false,
     "read_only": false
    }
   },
   "source": [
    "## Biquad transformation "
   ]
  },
  {
   "cell_type": "code",
   "execution_count": 1,
   "metadata": {
    "collapsed": true,
    "run_control": {
     "frozen": false,
     "read_only": false
    }
   },
   "outputs": [],
   "source": [
    "import sympy\n",
    "sympy.init_printing()"
   ]
  },
  {
   "cell_type": "code",
   "execution_count": 2,
   "metadata": {
    "collapsed": true,
    "run_control": {
     "frozen": false,
     "read_only": false
    }
   },
   "outputs": [],
   "source": [
    "s, m,c,d,n,a,b,z,y, T = sympy.symbols(\"s m c d n a b z y T\")"
   ]
  },
  {
   "cell_type": "markdown",
   "metadata": {
    "run_control": {
     "frozen": false,
     "read_only": false
    }
   },
   "source": [
    "Biquad transfer function"
   ]
  },
  {
   "cell_type": "code",
   "execution_count": 3,
   "metadata": {
    "run_control": {
     "frozen": false,
     "read_only": false
    }
   },
   "outputs": [
    {
     "data": {
      "image/png": "[encoded data removed]",
      "text/latex": [
       "$$\\frac{c s + d + m s^{2}}{a s + b + n s^{2}}$$"
      ],
      "text/plain": [
       "             2\n",
       "c⋅s + d + m⋅s \n",
       "──────────────\n",
       "             2\n",
       "a⋅s + b + n⋅s "
      ]
     },
     "execution_count": 3,
     "metadata": {},
     "output_type": "execute_result"
    }
   ],
   "source": [
    "Hn = m*s**2 + c*s + d\n",
    "Hd = n*s**2 + a*s + b\n",
    "H = Hn / Hd\n",
    "H"
   ]
  },
  {
   "cell_type": "markdown",
   "metadata": {
    "run_control": {
     "frozen": false,
     "read_only": false
    }
   },
   "source": [
    "Substitute \n",
    "$s\\rightarrow \\frac{2}{T}\\cdot\\frac{z-1}{z+1}$"
   ]
  },
  {
   "cell_type": "code",
   "execution_count": 4,
   "metadata": {
    "run_control": {
     "frozen": false,
     "read_only": false
    }
   },
   "outputs": [
    {
     "data": {
      "image/png": "[encoded data removed]",
      "text/latex": [
       "$$\\frac{d + \\frac{2 c \\left(z - 1\\right)}{T \\left(z + 1\\right)} + \\frac{4 m \\left(z - 1\\right)^{2}}{T^{2} \\left(z + 1\\right)^{2}}}{b + \\frac{2 a \\left(z - 1\\right)}{T \\left(z + 1\\right)} + \\frac{4 n \\left(z - 1\\right)^{2}}{T^{2} \\left(z + 1\\right)^{2}}}$$"
      ],
      "text/plain": [
       "                             2\n",
       "    2⋅c⋅(z - 1)   4⋅m⋅(z - 1) \n",
       "d + ─────────── + ────────────\n",
       "     T⋅(z + 1)     2        2 \n",
       "                  T ⋅(z + 1)  \n",
       "──────────────────────────────\n",
       "                             2\n",
       "    2⋅a⋅(z - 1)   4⋅n⋅(z - 1) \n",
       "b + ─────────── + ────────────\n",
       "     T⋅(z + 1)     2        2 \n",
       "                  T ⋅(z + 1)  "
      ]
     },
     "execution_count": 4,
     "metadata": {},
     "output_type": "execute_result"
    }
   ],
   "source": [
    "H.subs(s,(2/T)*(z-1)/(z+1))"
   ]
  },
  {
   "cell_type": "code",
   "execution_count": 5,
   "metadata": {
    "run_control": {
     "frozen": false,
     "read_only": false
    }
   },
   "outputs": [
    {
     "data": {
      "image/png": "[encoded data removed]",
      "text/latex": [
       "$$\\frac{T^{2} d - 2 T c + 4 m + z^{2} \\left(T^{2} d + 2 T c + 4 m\\right) + z \\left(2 T^{2} d - 8 m\\right)}{T^{2} b - 2 T a + 4 n + z^{2} \\left(T^{2} b + 2 T a + 4 n\\right) + z \\left(2 T^{2} b - 8 n\\right)}$$"
      ],
      "text/plain": [
       " 2                    2 ⎛ 2                ⎞     ⎛   2        ⎞\n",
       "T ⋅d - 2⋅T⋅c + 4⋅m + z ⋅⎝T ⋅d + 2⋅T⋅c + 4⋅m⎠ + z⋅⎝2⋅T ⋅d - 8⋅m⎠\n",
       "───────────────────────────────────────────────────────────────\n",
       " 2                    2 ⎛ 2                ⎞     ⎛   2        ⎞\n",
       "T ⋅b - 2⋅T⋅a + 4⋅n + z ⋅⎝T ⋅b + 2⋅T⋅a + 4⋅n⎠ + z⋅⎝2⋅T ⋅b - 8⋅n⎠"
      ]
     },
     "execution_count": 5,
     "metadata": {},
     "output_type": "execute_result"
    }
   ],
   "source": [
    "sympy.collect(sympy.simplify(sympy.collect(sympy.expand(H.subs(s,(2/T)*(z-1)/(z+1))),z)),z)"
   ]
  },
  {
   "cell_type": "markdown",
   "metadata": {
    "run_control": {
     "frozen": false,
     "read_only": false
    }
   },
   "source": [
    "rewrite in terms of $z^{-1}$ delay notation and refactoring the time to get it to the format used in SimulC:"
   ]
  },
  {
   "cell_type": "markdown",
   "metadata": {
    "run_control": {
     "frozen": false,
     "read_only": false
    }
   },
   "source": [
    "$$\\frac{\n",
    "\\left( d - 2 c/T + 4 m/T^{2}\\right)z^{-2} + \n",
    " \\left(2 d - 8 m/ T^{2}\\right)z^{-1} + \n",
    "\\left( d + 2  c/T + 4 m/T^{2}\\right) \n",
    "}{\n",
    "\\left( b - 2 a/T + 4 n/T^{2}\\right)z^{-2} + \n",
    " \\left(2  b - 8 n/T^{2}\\right)z^{-1} +\n",
    "\\left( b + 2 a/T + 4 n/T^{2}\\right) \n",
    "}\n",
    "$$"
   ]
  },
  {
   "cell_type": "code",
   "execution_count": null,
   "metadata": {
    "collapsed": true,
    "run_control": {
     "frozen": false,
     "read_only": false
    }
   },
   "outputs": [],
   "source": []
  }
 ],
 "metadata": {
  "anaconda-cloud": {},
  "kernelspec": {
   "display_name": "Python 3",
   "language": "python",
   "name": "python3"
  },
  "language_info": {
   "codemirror_mode": {
    "name": "ipython",
    "version": 3
   },
   "file_extension": ".py",
   "mimetype": "text/x-python",
   "name": "python",
   "nbconvert_exporter": "python",
   "pygments_lexer": "ipython3",
   "version": "3.6.1"
  }
 },
 "nbformat": 4,
 "nbformat_minor": 1
}
