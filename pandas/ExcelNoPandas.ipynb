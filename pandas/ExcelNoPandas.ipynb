{
 "cells": [
  {
   "cell_type": "code",
   "execution_count": 12,
   "metadata": {},
   "outputs": [],
   "source": [
    "import math\n",
    "import numpy as np\n",
    "import pandas as pd\n",
    "import time\n",
    "import os.path\n",
    "\n",
    "%matplotlib inline\n",
    "\n"
   ]
  },
  {
   "cell_type": "code",
   "execution_count": null,
   "metadata": {},
   "outputs": [],
   "source": [
    "\n",
    "from IPython.display import HTML\n",
    "from IPython.display import Image\n",
    "from IPython.display import display\n",
    "from IPython.display import FileLink, FileLinks\n",
    "\n",
    "import matplotlib as mpl\n",
    "mpl.rc(\"savefig\", dpi=300)\n",
    "mpl.rc('figure', figsize=(10,8))\n",
    "# %config InlineBackend.figure_format = 'svg'\n",
    "\n",
    "pd.set_option('display.max_columns', 100)\n",
    "pd.set_option('display.max_rows', 80)\n",
    "pd.set_option('display.width', 100)\n",
    "pd.set_option('display.max_colwidth', 150)\n",
    "pd.options.display.float_format = '{:3e}'.format\n",
    "\n",
    "# suppress the pytables performance warning\n",
    "warnings.filterwarnings('ignore',category=pd.io.pytables.PerformanceWarning)"
   ]
  },
  {
   "cell_type": "markdown",
   "metadata": {},
   "source": [
    "## Using Pandas\n",
    "\n",
    "See the notebook PandasWorkingExcel.ipynb"
   ]
  },
  {
   "cell_type": "markdown",
   "metadata": {},
   "source": [
    "### Using openpyxl\n",
    "\n",
    "http://www.pythonexcel.com/openpyxl.php\n",
    "\n",
    "Issues with the footer\n"
   ]
  },
  {
   "cell_type": "code",
   "execution_count": 2,
   "metadata": {},
   "outputs": [
    {
     "name": "stdout",
     "output_type": "stream",
     "text": [
      "['Sheet1', 'table']\n"
     ]
    }
   ],
   "source": [
    "from openpyxl import load_workbook\n",
    "xfilename = './data/tableXL.xlsx'\n",
    "\n",
    "workbook = load_workbook(filename=xfilename)\n",
    "sheetNames = workbook.sheetnames\n",
    "\n",
    "print(sheetNames)"
   ]
  },
  {
   "cell_type": "code",
   "execution_count": 3,
   "metadata": {},
   "outputs": [
    {
     "data": {
      "text/plain": [
       "<Worksheet \"table\">"
      ]
     },
     "execution_count": 3,
     "metadata": {},
     "output_type": "execute_result"
    }
   ],
   "source": [
    "sheet = workbook[sheetNames[1]]\n",
    "sheet\n"
   ]
  },
  {
   "cell_type": "code",
   "execution_count": 4,
   "metadata": {},
   "outputs": [
    {
     "data": {
      "text/plain": [
       "0.06103787378141228"
      ]
     },
     "execution_count": 4,
     "metadata": {},
     "output_type": "execute_result"
    }
   ],
   "source": [
    "sheet[\"V9\"].value"
   ]
  },
  {
   "cell_type": "code",
   "execution_count": 5,
   "metadata": {},
   "outputs": [
    {
     "data": {
      "text/plain": [
       "52"
      ]
     },
     "execution_count": 5,
     "metadata": {},
     "output_type": "execute_result"
    }
   ],
   "source": [
    "sheet[\"V9\"] = 52\n",
    "sheet[\"V9\"].value"
   ]
  },
  {
   "cell_type": "code",
   "execution_count": 7,
   "metadata": {},
   "outputs": [],
   "source": [
    "workbook.save(filename = './data/test_openpyxl.xlsx')"
   ]
  },
  {
   "cell_type": "raw",
   "metadata": {},
   "source": [
    "## Using pyxl to read regions"
   ]
  },
  {
   "cell_type": "code",
   "execution_count": 14,
   "metadata": {},
   "outputs": [
    {
     "data": {
      "text/html": [
       "<div>\n",
       "<style scoped>\n",
       "    .dataframe tbody tr th:only-of-type {\n",
       "        vertical-align: middle;\n",
       "    }\n",
       "\n",
       "    .dataframe tbody tr th {\n",
       "        vertical-align: top;\n",
       "    }\n",
       "\n",
       "    .dataframe thead th {\n",
       "        text-align: right;\n",
       "    }\n",
       "</style>\n",
       "<table border=\"1\" class=\"dataframe\">\n",
       "  <thead>\n",
       "    <tr style=\"text-align: right;\">\n",
       "      <th></th>\n",
       "      <th>Field</th>\n",
       "      <th>176.0mm</th>\n",
       "      <th>160.0mm</th>\n",
       "      <th>142.0mm</th>\n",
       "      <th>125.0mm</th>\n",
       "      <th>107.0mm</th>\n",
       "      <th>91.0mm</th>\n",
       "      <th>76.0mm</th>\n",
       "      <th>62.0mm</th>\n",
       "      <th>50.0mm</th>\n",
       "      <th>40.0mm</th>\n",
       "      <th>29.9mm</th>\n",
       "      <th>23.7mm</th>\n",
       "    </tr>\n",
       "  </thead>\n",
       "  <tbody>\n",
       "    <tr>\n",
       "      <th>0</th>\n",
       "      <td>0.00</td>\n",
       "      <td>0.061350</td>\n",
       "      <td>0.062585</td>\n",
       "      <td>0.063727</td>\n",
       "      <td>0.065336</td>\n",
       "      <td>0.067591</td>\n",
       "      <td>0.069055</td>\n",
       "      <td>0.069250</td>\n",
       "      <td>0.069444</td>\n",
       "      <td>0.069619</td>\n",
       "      <td>0.070053</td>\n",
       "      <td>0.070768</td>\n",
       "      <td>0.071751</td>\n",
       "    </tr>\n",
       "    <tr>\n",
       "      <th>1</th>\n",
       "      <td>0.04</td>\n",
       "      <td>0.061269</td>\n",
       "      <td>0.062343</td>\n",
       "      <td>0.063562</td>\n",
       "      <td>0.065113</td>\n",
       "      <td>0.067340</td>\n",
       "      <td>0.068626</td>\n",
       "      <td>0.068673</td>\n",
       "      <td>0.068592</td>\n",
       "      <td>0.068550</td>\n",
       "      <td>0.068532</td>\n",
       "      <td>0.068898</td>\n",
       "      <td>0.069682</td>\n",
       "    </tr>\n",
       "    <tr>\n",
       "      <th>2</th>\n",
       "      <td>0.08</td>\n",
       "      <td>0.061038</td>\n",
       "      <td>0.062000</td>\n",
       "      <td>0.063379</td>\n",
       "      <td>0.064947</td>\n",
       "      <td>0.067045</td>\n",
       "      <td>0.068188</td>\n",
       "      <td>0.068086</td>\n",
       "      <td>0.067754</td>\n",
       "      <td>0.067368</td>\n",
       "      <td>0.067112</td>\n",
       "      <td>0.067083</td>\n",
       "      <td>0.067355</td>\n",
       "    </tr>\n",
       "    <tr>\n",
       "      <th>3</th>\n",
       "      <td>0.12</td>\n",
       "      <td>0.060741</td>\n",
       "      <td>0.061687</td>\n",
       "      <td>0.062886</td>\n",
       "      <td>0.064600</td>\n",
       "      <td>0.066640</td>\n",
       "      <td>0.067778</td>\n",
       "      <td>0.067366</td>\n",
       "      <td>0.066907</td>\n",
       "      <td>0.066165</td>\n",
       "      <td>0.065733</td>\n",
       "      <td>0.064835</td>\n",
       "      <td>0.064399</td>\n",
       "    </tr>\n",
       "    <tr>\n",
       "      <th>4</th>\n",
       "      <td>0.16</td>\n",
       "      <td>0.060566</td>\n",
       "      <td>0.061365</td>\n",
       "      <td>0.062566</td>\n",
       "      <td>0.064162</td>\n",
       "      <td>0.066262</td>\n",
       "      <td>0.067219</td>\n",
       "      <td>0.066811</td>\n",
       "      <td>0.066038</td>\n",
       "      <td>0.065265</td>\n",
       "      <td>0.064140</td>\n",
       "      <td>0.062663</td>\n",
       "      <td>0.061921</td>\n",
       "    </tr>\n",
       "    <tr>\n",
       "      <th>5</th>\n",
       "      <td>0.20</td>\n",
       "      <td>0.060352</td>\n",
       "      <td>0.061126</td>\n",
       "      <td>0.062153</td>\n",
       "      <td>0.063731</td>\n",
       "      <td>0.065687</td>\n",
       "      <td>0.066651</td>\n",
       "      <td>0.066119</td>\n",
       "      <td>0.065268</td>\n",
       "      <td>0.064032</td>\n",
       "      <td>0.062609</td>\n",
       "      <td>0.061444</td>\n",
       "      <td>0.058959</td>\n",
       "    </tr>\n",
       "    <tr>\n",
       "      <th>6</th>\n",
       "      <td>0.24</td>\n",
       "      <td>0.059858</td>\n",
       "      <td>0.060701</td>\n",
       "      <td>0.061704</td>\n",
       "      <td>0.063165</td>\n",
       "      <td>0.065061</td>\n",
       "      <td>0.065888</td>\n",
       "      <td>0.065281</td>\n",
       "      <td>0.064318</td>\n",
       "      <td>0.062820</td>\n",
       "      <td>0.061516</td>\n",
       "      <td>0.060002</td>\n",
       "      <td>0.053600</td>\n",
       "    </tr>\n",
       "    <tr>\n",
       "      <th>7</th>\n",
       "      <td>0.28</td>\n",
       "      <td>0.059121</td>\n",
       "      <td>0.059867</td>\n",
       "      <td>0.060893</td>\n",
       "      <td>0.062307</td>\n",
       "      <td>0.063880</td>\n",
       "      <td>0.064662</td>\n",
       "      <td>0.064053</td>\n",
       "      <td>0.062922</td>\n",
       "      <td>0.061550</td>\n",
       "      <td>0.060773</td>\n",
       "      <td>0.053084</td>\n",
       "      <td>0.053177</td>\n",
       "    </tr>\n",
       "    <tr>\n",
       "      <th>8</th>\n",
       "      <td>0.32</td>\n",
       "      <td>0.058367</td>\n",
       "      <td>0.059033</td>\n",
       "      <td>0.059910</td>\n",
       "      <td>0.061241</td>\n",
       "      <td>0.062668</td>\n",
       "      <td>0.063391</td>\n",
       "      <td>0.062629</td>\n",
       "      <td>0.061313</td>\n",
       "      <td>0.060205</td>\n",
       "      <td>0.058235</td>\n",
       "      <td>0.052343</td>\n",
       "      <td>0.052597</td>\n",
       "    </tr>\n",
       "    <tr>\n",
       "      <th>9</th>\n",
       "      <td>0.36</td>\n",
       "      <td>0.057534</td>\n",
       "      <td>0.058107</td>\n",
       "      <td>0.058868</td>\n",
       "      <td>0.059980</td>\n",
       "      <td>0.061460</td>\n",
       "      <td>0.062083</td>\n",
       "      <td>0.061162</td>\n",
       "      <td>0.059804</td>\n",
       "      <td>0.058502</td>\n",
       "      <td>0.054966</td>\n",
       "      <td>0.051693</td>\n",
       "      <td>0.052006</td>\n",
       "    </tr>\n",
       "    <tr>\n",
       "      <th>10</th>\n",
       "      <td>0.40</td>\n",
       "      <td>0.056607</td>\n",
       "      <td>0.057094</td>\n",
       "      <td>0.057825</td>\n",
       "      <td>0.058857</td>\n",
       "      <td>0.060119</td>\n",
       "      <td>0.060664</td>\n",
       "      <td>0.059558</td>\n",
       "      <td>0.058068</td>\n",
       "      <td>0.056356</td>\n",
       "      <td>0.051633</td>\n",
       "      <td>0.050756</td>\n",
       "      <td>0.051257</td>\n",
       "    </tr>\n",
       "    <tr>\n",
       "      <th>11</th>\n",
       "      <td>0.44</td>\n",
       "      <td>0.055568</td>\n",
       "      <td>0.056018</td>\n",
       "      <td>0.056741</td>\n",
       "      <td>0.057546</td>\n",
       "      <td>0.058633</td>\n",
       "      <td>0.059317</td>\n",
       "      <td>0.057961</td>\n",
       "      <td>0.056393</td>\n",
       "      <td>0.053976</td>\n",
       "      <td>0.049067</td>\n",
       "      <td>0.049675</td>\n",
       "      <td>0.050151</td>\n",
       "    </tr>\n",
       "    <tr>\n",
       "      <th>12</th>\n",
       "      <td>0.48</td>\n",
       "      <td>0.054570</td>\n",
       "      <td>0.055024</td>\n",
       "      <td>0.055545</td>\n",
       "      <td>0.056380</td>\n",
       "      <td>0.057286</td>\n",
       "      <td>0.057854</td>\n",
       "      <td>0.056337</td>\n",
       "      <td>0.054734</td>\n",
       "      <td>0.051505</td>\n",
       "      <td>0.047926</td>\n",
       "      <td>0.048549</td>\n",
       "      <td>0.048867</td>\n",
       "    </tr>\n",
       "    <tr>\n",
       "      <th>13</th>\n",
       "      <td>0.52</td>\n",
       "      <td>0.053411</td>\n",
       "      <td>0.053833</td>\n",
       "      <td>0.054282</td>\n",
       "      <td>0.055038</td>\n",
       "      <td>0.055793</td>\n",
       "      <td>0.056202</td>\n",
       "      <td>0.054502</td>\n",
       "      <td>0.052855</td>\n",
       "      <td>0.049079</td>\n",
       "      <td>0.046667</td>\n",
       "      <td>0.047133</td>\n",
       "      <td>0.047448</td>\n",
       "    </tr>\n",
       "    <tr>\n",
       "      <th>14</th>\n",
       "      <td>0.56</td>\n",
       "      <td>0.052229</td>\n",
       "      <td>0.052546</td>\n",
       "      <td>0.052806</td>\n",
       "      <td>0.053501</td>\n",
       "      <td>0.054084</td>\n",
       "      <td>0.054429</td>\n",
       "      <td>0.052756</td>\n",
       "      <td>0.050782</td>\n",
       "      <td>0.046473</td>\n",
       "      <td>0.045250</td>\n",
       "      <td>0.045551</td>\n",
       "      <td>0.045866</td>\n",
       "    </tr>\n",
       "    <tr>\n",
       "      <th>15</th>\n",
       "      <td>0.60</td>\n",
       "      <td>0.050931</td>\n",
       "      <td>0.051299</td>\n",
       "      <td>0.051601</td>\n",
       "      <td>0.052064</td>\n",
       "      <td>0.052579</td>\n",
       "      <td>0.052718</td>\n",
       "      <td>0.051071</td>\n",
       "      <td>0.048743</td>\n",
       "      <td>0.044162</td>\n",
       "      <td>0.043827</td>\n",
       "      <td>0.044067</td>\n",
       "      <td>0.044278</td>\n",
       "    </tr>\n",
       "    <tr>\n",
       "      <th>16</th>\n",
       "      <td>0.64</td>\n",
       "      <td>0.049725</td>\n",
       "      <td>0.050030</td>\n",
       "      <td>0.050254</td>\n",
       "      <td>0.050554</td>\n",
       "      <td>0.051035</td>\n",
       "      <td>0.051021</td>\n",
       "      <td>0.049520</td>\n",
       "      <td>0.046648</td>\n",
       "      <td>0.042194</td>\n",
       "      <td>0.042370</td>\n",
       "      <td>0.042490</td>\n",
       "      <td>0.042570</td>\n",
       "    </tr>\n",
       "    <tr>\n",
       "      <th>17</th>\n",
       "      <td>0.68</td>\n",
       "      <td>0.048481</td>\n",
       "      <td>0.048817</td>\n",
       "      <td>0.048766</td>\n",
       "      <td>0.049037</td>\n",
       "      <td>0.049439</td>\n",
       "      <td>0.049369</td>\n",
       "      <td>0.047903</td>\n",
       "      <td>0.044618</td>\n",
       "      <td>0.040742</td>\n",
       "      <td>0.040942</td>\n",
       "      <td>0.040848</td>\n",
       "      <td>0.040878</td>\n",
       "    </tr>\n",
       "    <tr>\n",
       "      <th>18</th>\n",
       "      <td>0.72</td>\n",
       "      <td>0.047370</td>\n",
       "      <td>0.047571</td>\n",
       "      <td>0.047565</td>\n",
       "      <td>0.047696</td>\n",
       "      <td>0.047983</td>\n",
       "      <td>0.047795</td>\n",
       "      <td>0.046221</td>\n",
       "      <td>0.042600</td>\n",
       "      <td>0.039383</td>\n",
       "      <td>0.039429</td>\n",
       "      <td>0.039237</td>\n",
       "      <td>0.039177</td>\n",
       "    </tr>\n",
       "    <tr>\n",
       "      <th>19</th>\n",
       "      <td>0.76</td>\n",
       "      <td>0.046143</td>\n",
       "      <td>0.046388</td>\n",
       "      <td>0.046347</td>\n",
       "      <td>0.046469</td>\n",
       "      <td>0.046582</td>\n",
       "      <td>0.046403</td>\n",
       "      <td>0.044644</td>\n",
       "      <td>0.040503</td>\n",
       "      <td>0.038155</td>\n",
       "      <td>0.037981</td>\n",
       "      <td>0.037781</td>\n",
       "      <td>0.037590</td>\n",
       "    </tr>\n",
       "    <tr>\n",
       "      <th>20</th>\n",
       "      <td>0.80</td>\n",
       "      <td>0.044756</td>\n",
       "      <td>0.044928</td>\n",
       "      <td>0.044823</td>\n",
       "      <td>0.044767</td>\n",
       "      <td>0.045014</td>\n",
       "      <td>0.044882</td>\n",
       "      <td>0.042803</td>\n",
       "      <td>0.038300</td>\n",
       "      <td>0.036469</td>\n",
       "      <td>0.036293</td>\n",
       "      <td>0.035913</td>\n",
       "      <td>0.035550</td>\n",
       "    </tr>\n",
       "    <tr>\n",
       "      <th>21</th>\n",
       "      <td>0.84</td>\n",
       "      <td>0.044003</td>\n",
       "      <td>0.044148</td>\n",
       "      <td>0.044052</td>\n",
       "      <td>0.043842</td>\n",
       "      <td>0.043885</td>\n",
       "      <td>0.044004</td>\n",
       "      <td>0.041633</td>\n",
       "      <td>0.036763</td>\n",
       "      <td>0.035599</td>\n",
       "      <td>0.035293</td>\n",
       "      <td>0.034887</td>\n",
       "      <td>0.034419</td>\n",
       "    </tr>\n",
       "    <tr>\n",
       "      <th>22</th>\n",
       "      <td>0.88</td>\n",
       "      <td>0.042760</td>\n",
       "      <td>0.042781</td>\n",
       "      <td>0.042575</td>\n",
       "      <td>0.042440</td>\n",
       "      <td>0.042374</td>\n",
       "      <td>0.042609</td>\n",
       "      <td>0.039903</td>\n",
       "      <td>0.034498</td>\n",
       "      <td>0.034240</td>\n",
       "      <td>0.033820</td>\n",
       "      <td>0.033300</td>\n",
       "      <td>0.032839</td>\n",
       "    </tr>\n",
       "    <tr>\n",
       "      <th>23</th>\n",
       "      <td>0.92</td>\n",
       "      <td>0.041532</td>\n",
       "      <td>0.041435</td>\n",
       "      <td>0.041162</td>\n",
       "      <td>0.040945</td>\n",
       "      <td>0.040792</td>\n",
       "      <td>0.041180</td>\n",
       "      <td>0.038179</td>\n",
       "      <td>0.033291</td>\n",
       "      <td>0.032920</td>\n",
       "      <td>0.032508</td>\n",
       "      <td>0.031931</td>\n",
       "      <td>0.030992</td>\n",
       "    </tr>\n",
       "    <tr>\n",
       "      <th>24</th>\n",
       "      <td>0.96</td>\n",
       "      <td>0.039289</td>\n",
       "      <td>0.039070</td>\n",
       "      <td>0.038690</td>\n",
       "      <td>0.038341</td>\n",
       "      <td>0.038208</td>\n",
       "      <td>0.038460</td>\n",
       "      <td>0.035247</td>\n",
       "      <td>0.030794</td>\n",
       "      <td>0.030333</td>\n",
       "      <td>0.029766</td>\n",
       "      <td>0.029049</td>\n",
       "      <td>0.029058</td>\n",
       "    </tr>\n",
       "    <tr>\n",
       "      <th>25</th>\n",
       "      <td>1.00</td>\n",
       "      <td>0.036883</td>\n",
       "      <td>0.036593</td>\n",
       "      <td>0.036067</td>\n",
       "      <td>0.035550</td>\n",
       "      <td>0.035642</td>\n",
       "      <td>0.035707</td>\n",
       "      <td>0.032159</td>\n",
       "      <td>0.028161</td>\n",
       "      <td>0.027675</td>\n",
       "      <td>0.027206</td>\n",
       "      <td>0.027231</td>\n",
       "      <td>0.027256</td>\n",
       "    </tr>\n",
       "  </tbody>\n",
       "</table>\n",
       "</div>"
      ],
      "text/plain": [
       "    Field   176.0mm   160.0mm   142.0mm   125.0mm   107.0mm    91.0mm  \\\n",
       "0    0.00  0.061350  0.062585  0.063727  0.065336  0.067591  0.069055   \n",
       "1    0.04  0.061269  0.062343  0.063562  0.065113  0.067340  0.068626   \n",
       "2    0.08  0.061038  0.062000  0.063379  0.064947  0.067045  0.068188   \n",
       "3    0.12  0.060741  0.061687  0.062886  0.064600  0.066640  0.067778   \n",
       "4    0.16  0.060566  0.061365  0.062566  0.064162  0.066262  0.067219   \n",
       "5    0.20  0.060352  0.061126  0.062153  0.063731  0.065687  0.066651   \n",
       "6    0.24  0.059858  0.060701  0.061704  0.063165  0.065061  0.065888   \n",
       "7    0.28  0.059121  0.059867  0.060893  0.062307  0.063880  0.064662   \n",
       "8    0.32  0.058367  0.059033  0.059910  0.061241  0.062668  0.063391   \n",
       "9    0.36  0.057534  0.058107  0.058868  0.059980  0.061460  0.062083   \n",
       "10   0.40  0.056607  0.057094  0.057825  0.058857  0.060119  0.060664   \n",
       "11   0.44  0.055568  0.056018  0.056741  0.057546  0.058633  0.059317   \n",
       "12   0.48  0.054570  0.055024  0.055545  0.056380  0.057286  0.057854   \n",
       "13   0.52  0.053411  0.053833  0.054282  0.055038  0.055793  0.056202   \n",
       "14   0.56  0.052229  0.052546  0.052806  0.053501  0.054084  0.054429   \n",
       "15   0.60  0.050931  0.051299  0.051601  0.052064  0.052579  0.052718   \n",
       "16   0.64  0.049725  0.050030  0.050254  0.050554  0.051035  0.051021   \n",
       "17   0.68  0.048481  0.048817  0.048766  0.049037  0.049439  0.049369   \n",
       "18   0.72  0.047370  0.047571  0.047565  0.047696  0.047983  0.047795   \n",
       "19   0.76  0.046143  0.046388  0.046347  0.046469  0.046582  0.046403   \n",
       "20   0.80  0.044756  0.044928  0.044823  0.044767  0.045014  0.044882   \n",
       "21   0.84  0.044003  0.044148  0.044052  0.043842  0.043885  0.044004   \n",
       "22   0.88  0.042760  0.042781  0.042575  0.042440  0.042374  0.042609   \n",
       "23   0.92  0.041532  0.041435  0.041162  0.040945  0.040792  0.041180   \n",
       "24   0.96  0.039289  0.039070  0.038690  0.038341  0.038208  0.038460   \n",
       "25   1.00  0.036883  0.036593  0.036067  0.035550  0.035642  0.035707   \n",
       "\n",
       "      76.0mm    62.0mm    50.0mm    40.0mm    29.9mm    23.7mm  \n",
       "0   0.069250  0.069444  0.069619  0.070053  0.070768  0.071751  \n",
       "1   0.068673  0.068592  0.068550  0.068532  0.068898  0.069682  \n",
       "2   0.068086  0.067754  0.067368  0.067112  0.067083  0.067355  \n",
       "3   0.067366  0.066907  0.066165  0.065733  0.064835  0.064399  \n",
       "4   0.066811  0.066038  0.065265  0.064140  0.062663  0.061921  \n",
       "5   0.066119  0.065268  0.064032  0.062609  0.061444  0.058959  \n",
       "6   0.065281  0.064318  0.062820  0.061516  0.060002  0.053600  \n",
       "7   0.064053  0.062922  0.061550  0.060773  0.053084  0.053177  \n",
       "8   0.062629  0.061313  0.060205  0.058235  0.052343  0.052597  \n",
       "9   0.061162  0.059804  0.058502  0.054966  0.051693  0.052006  \n",
       "10  0.059558  0.058068  0.056356  0.051633  0.050756  0.051257  \n",
       "11  0.057961  0.056393  0.053976  0.049067  0.049675  0.050151  \n",
       "12  0.056337  0.054734  0.051505  0.047926  0.048549  0.048867  \n",
       "13  0.054502  0.052855  0.049079  0.046667  0.047133  0.047448  \n",
       "14  0.052756  0.050782  0.046473  0.045250  0.045551  0.045866  \n",
       "15  0.051071  0.048743  0.044162  0.043827  0.044067  0.044278  \n",
       "16  0.049520  0.046648  0.042194  0.042370  0.042490  0.042570  \n",
       "17  0.047903  0.044618  0.040742  0.040942  0.040848  0.040878  \n",
       "18  0.046221  0.042600  0.039383  0.039429  0.039237  0.039177  \n",
       "19  0.044644  0.040503  0.038155  0.037981  0.037781  0.037590  \n",
       "20  0.042803  0.038300  0.036469  0.036293  0.035913  0.035550  \n",
       "21  0.041633  0.036763  0.035599  0.035293  0.034887  0.034419  \n",
       "22  0.039903  0.034498  0.034240  0.033820  0.033300  0.032839  \n",
       "23  0.038179  0.033291  0.032920  0.032508  0.031931  0.030992  \n",
       "24  0.035247  0.030794  0.030333  0.029766  0.029049  0.029058  \n",
       "25  0.032159  0.028161  0.027675  0.027206  0.027231  0.027256  "
      ]
     },
     "execution_count": 14,
     "metadata": {},
     "output_type": "execute_result"
    }
   ],
   "source": [
    "import openpyxl as pyxl\n",
    "\n",
    "def readXLSrange(inputfilename,colnames,sheet,cellrange):\n",
    "    \"\"\"Read a specified range from a specified sheet in XLS file\"\"\"\n",
    "    \n",
    "    #load the narcissus electron count vs field angle\n",
    "    wb = pyxl.load_workbook(inputfilename)\n",
    "    # print(wb.get_sheet_names())\n",
    "    ws = wb[sheet]\n",
    "\n",
    "    #read the table from excel into dataframe, dropping some cols\n",
    "    table = np.array([[cell.value for cell in col] for col in ws[cellrange]])\n",
    "    dfTable = pd.DataFrame(table, columns=colnames)\n",
    "    \n",
    "    # where possible convert all to numpy floats\n",
    "    for ccol in dfTable.columns:\n",
    "        try:\n",
    "            dfTable[ccol] = dfTable[ccol].astype(np.float64)\n",
    "        except:\n",
    "            pass\n",
    "    return dfTable\n",
    "        \n",
    "\n",
    "colnames = [u'Field', u'176.0mm', u'160.0mm', u'142.0mm', u'125.0mm',\n",
    "       u'107.0mm', u'91.0mm', u'76.0mm', u'62.0mm', u'50.0mm',\n",
    "       u'40.0mm', u'29.9mm', u'23.7mm']\n",
    "\n",
    "readXLSrange('data/tableXL.xlsx',colnames=colnames, sheet=u'table',cellrange='U7:AG32')"
   ]
  },
  {
   "cell_type": "code",
   "execution_count": null,
   "metadata": {},
   "outputs": [],
   "source": []
  },
  {
   "cell_type": "markdown",
   "metadata": {},
   "source": [
    "# Using xlwings\n",
    "\n",
    "https://docs.xlwings.org/en/stable/quickstart.html  \n",
    "\n",
    "\n",
    "xlwings is a BSD-licensed Python library that makes it easy to call Python from Excel and vice versa.\n",
    "\n",
    "https://stackoverflow.com/questions/30724364/writing-into-existing-excel-file-using-python\n",
    "\n",
    "https://buildmedia.readthedocs.org/media/pdf/xlwings/stable/xlwings.pdf\n",
    "\n",
    "https://xlwings.readthedocs.io/en/v0.7.1/quickstart.html\n",
    "\n",
    "https://github.com/xlwings/xlwings/tree/master/examples\n",
    "\n",
    "https://github.com/xlwings/xlwings/issues/123\n",
    "\n",
    "https://stackoverflow.com/questions/45948255/copying-a-worksheet-with-xlwings-and-python\n",
    "\n",
    "https://stackoverflow.com/questions/40635350/xlwings-writing-to-range-on-specific-sheet\n",
    "\n",
    "https://xlwings.readthedocs.io/en/v0.7.0/api.html\n",
    "\n",
    "https://docs.xlwings.org/en/stable/api.html"
   ]
  },
  {
   "cell_type": "code",
   "execution_count": 8,
   "metadata": {},
   "outputs": [
    {
     "ename": "SystemExit",
     "evalue": "Couldn't find a license key.",
     "output_type": "error",
     "traceback": [
      "An exception has occurred, use %tb to see the full traceback.\n",
      "\u001b[1;31mSystemExit\u001b[0m\u001b[1;31m:\u001b[0m Couldn't find a license key.\n"
     ]
    },
    {
     "name": "stderr",
     "output_type": "stream",
     "text": [
      "C:\\ProgramData\\Anaconda3\\lib\\site-packages\\IPython\\core\\interactiveshell.py:3339: UserWarning: To exit: use 'exit', 'quit', or Ctrl-D.\n",
      "  warn(\"To exit: use 'exit', 'quit', or Ctrl-D.\", stacklevel=1)\n"
     ]
    }
   ],
   "source": [
    "import xlwings as xw"
   ]
  },
  {
   "cell_type": "code",
   "execution_count": null,
   "metadata": {},
   "outputs": [],
   "source": [
    "print(xw.__version__)"
   ]
  },
  {
   "cell_type": "code",
   "execution_count": null,
   "metadata": {},
   "outputs": [],
   "source": [
    "# Connect to a workbook\n",
    "xfilename = '../../xlsTemplate/test_xlwings.xlsx'\n",
    "xfilename = './data/tableXL.xlsx'\n",
    "\n",
    "wb = xw.Book(xfilename)  \n",
    "# wb = xw.Book(xfilename,app_visible=False)  "
   ]
  },
  {
   "cell_type": "markdown",
   "metadata": {},
   "source": [
    "Name of the active file"
   ]
  },
  {
   "cell_type": "code",
   "execution_count": null,
   "metadata": {},
   "outputs": [],
   "source": [
    "print(xw.books.active)\n",
    "print(wb)"
   ]
  },
  {
   "cell_type": "markdown",
   "metadata": {},
   "source": [
    "Get a list of all sheets in wb"
   ]
  },
  {
   "cell_type": "code",
   "execution_count": null,
   "metadata": {},
   "outputs": [],
   "source": [
    "print(wb.sheets)"
   ]
  },
  {
   "cell_type": "markdown",
   "metadata": {},
   "source": [
    "The active sheet seems to be the most recent sheet opened in the file.\n"
   ]
  },
  {
   "cell_type": "code",
   "execution_count": null,
   "metadata": {},
   "outputs": [],
   "source": [
    "wb.sheets.active"
   ]
  },
  {
   "cell_type": "markdown",
   "metadata": {},
   "source": [
    "Attempt to activate the listed sheet, but it does not work"
   ]
  },
  {
   "cell_type": "code",
   "execution_count": null,
   "metadata": {},
   "outputs": [],
   "source": [
    "sheet1 = wb.sheets[1].activate()\n",
    "print(sheet1)\n",
    "sheet1 = wb.sheets['table'].activate()\n",
    "print(sheet1)"
   ]
  },
  {
   "cell_type": "code",
   "execution_count": null,
   "metadata": {},
   "outputs": [],
   "source": [
    "wb.sheets.active\n",
    "# wb.sheets['cleanTemplate'].range('D285').value = 'test-aaaaa'"
   ]
  },
  {
   "cell_type": "code",
   "execution_count": null,
   "metadata": {},
   "outputs": [],
   "source": [
    "#copy within the same sheet\n",
    "sheet = wb.sheets['cleanTemplate']\n",
    "sheet.api.Copy(Before=sheet.api)\n",
    "sh = wb.sheets.active\n",
    "print(sh)\n"
   ]
  },
  {
   "cell_type": "code",
   "execution_count": null,
   "metadata": {},
   "outputs": [],
   "source": [
    "print(sh.name)\n",
    "sh.name = 'TestSheetNew'\n",
    "print(sh.name)\n"
   ]
  },
  {
   "cell_type": "code",
   "execution_count": null,
   "metadata": {},
   "outputs": [],
   "source": [
    "# add clean sheet with name\n",
    "wb.sheets.add(name='CleanSheet',before='cleanTemplate')"
   ]
  },
  {
   "cell_type": "markdown",
   "metadata": {},
   "source": [
    "work with a specific sheet as follows:"
   ]
  },
  {
   "cell_type": "code",
   "execution_count": null,
   "metadata": {},
   "outputs": [],
   "source": [
    "sht = wb.sheets['table']\n",
    "print(sht)\n",
    "print(sht.range('V6:V12'))\n",
    "print(sht.range('V6:V12').value)\n"
   ]
  },
  {
   "cell_type": "markdown",
   "metadata": {},
   "source": [
    "Assign values to cells as follows"
   ]
  },
  {
   "cell_type": "code",
   "execution_count": null,
   "metadata": {},
   "outputs": [],
   "source": [
    "sht1 = wb.sheets['Sheet1']\n",
    "sht1.range('A1:A3').value = [[1],[2],[3]]\n",
    "print(sht1.range('A1:A3').value)"
   ]
  },
  {
   "cell_type": "markdown",
   "metadata": {},
   "source": [
    "Copy a sheet within the same notebook.  In this case the new sheet will be before the one copied from. 'After' does not seem to work.\n"
   ]
  },
  {
   "cell_type": "code",
   "execution_count": null,
   "metadata": {},
   "outputs": [],
   "source": [
    "shtT = wb.sheets['table']\n",
    "shtT.api.Copy(Before=shtT.api)\n"
   ]
  },
  {
   "cell_type": "markdown",
   "metadata": {},
   "source": [
    "Note that the new sheet takes the name of the first with a suffix (2), (3), ..., (n).   \n",
    "Rename the active sheet by changing the name attribute."
   ]
  },
  {
   "cell_type": "code",
   "execution_count": null,
   "metadata": {},
   "outputs": [],
   "source": [
    "print(wb.sheets)\n",
    "print(wb.sheets.active)\n",
    "print(wb.sheets.active.name)\n",
    "\n",
    "wb.sheets.active.name = 'MyNewSheet'\n",
    "\n",
    "print(wb.sheets)\n",
    "print(wb.sheets.active)\n",
    "print(wb.sheets.active.name)\n"
   ]
  },
  {
   "cell_type": "markdown",
   "metadata": {},
   "source": [
    "Or change the name of a specific sheet"
   ]
  },
  {
   "cell_type": "code",
   "execution_count": null,
   "metadata": {},
   "outputs": [],
   "source": [
    "print(wb.sheets)\n",
    "wb.sheets['MyNewSheet'].name = 'FinalName'\n",
    "print(wb.sheets)"
   ]
  },
  {
   "cell_type": "markdown",
   "metadata": {},
   "source": [
    "Aadd clean sheet with name"
   ]
  },
  {
   "cell_type": "code",
   "execution_count": null,
   "metadata": {},
   "outputs": [],
   "source": [
    "wb.sheets.add(name='CleanSheet',before='Sheet1')"
   ]
  },
  {
   "cell_type": "markdown",
   "metadata": {},
   "source": [
    "thus far this appears to have been in memory.  \n",
    "save to to a new file and close the spreadsheet."
   ]
  },
  {
   "cell_type": "code",
   "execution_count": null,
   "metadata": {},
   "outputs": [],
   "source": [
    "# Save workbook\n",
    "wb.save('./data/test_xlwings.xlsx')\n",
    "wb.close()\n"
   ]
  },
  {
   "cell_type": "code",
   "execution_count": null,
   "metadata": {},
   "outputs": [],
   "source": []
  }
 ],
 "metadata": {
  "kernelspec": {
   "display_name": "Python 3",
   "language": "python",
   "name": "python3"
  },
  "language_info": {
   "codemirror_mode": {
    "name": "ipython",
    "version": 3
   },
   "file_extension": ".py",
   "mimetype": "text/x-python",
   "name": "python",
   "nbconvert_exporter": "python",
   "pygments_lexer": "ipython3",
   "version": "3.7.3"
  }
 },
 "nbformat": 4,
 "nbformat_minor": 4
}
