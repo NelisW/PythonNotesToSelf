{
 "cells": [
  {
   "cell_type": "markdown",
   "metadata": {
    "jupyter": {
     "outputs_hidden": true
    }
   },
   "source": [
    "# Using xlwings\n",
    "\n",
    "https://docs.xlwings.org/en/stable/quickstart.html  \n",
    "\n",
    "\n",
    "xlwings is a BSD-licensed Python library that makes it easy to call Python from Excel and vice versa.\n",
    "\n",
    "https://stackoverflow.com/questions/30724364/writing-into-existing-excel-file-using-python\n",
    "\n",
    "https://buildmedia.readthedocs.org/media/pdf/xlwings/stable/xlwings.pdf\n",
    "\n",
    "https://xlwings.readthedocs.io/en/v0.7.1/quickstart.html\n",
    "\n",
    "https://github.com/xlwings/xlwings/tree/master/examples\n",
    "\n",
    "https://github.com/xlwings/xlwings/issues/123\n",
    "\n",
    "https://stackoverflow.com/questions/45948255/copying-a-worksheet-with-xlwings-and-python\n",
    "\n",
    "https://stackoverflow.com/questions/40635350/xlwings-writing-to-range-on-specific-sheet\n",
    "\n",
    "https://xlwings.readthedocs.io/en/v0.7.0/api.html\n",
    "\n",
    "https://docs.xlwings.org/en/stable/api.html"
   ]
  },
  {
   "cell_type": "code",
   "execution_count": 1,
   "metadata": {},
   "outputs": [],
   "source": [
    "# to prepare the Python environment\n",
    "import numpy as np\n",
    "# import scipy as sp\n",
    "# import scipy.constants as const\n",
    "# import pandas as pd\n",
    "# import os.path\n",
    "# import time\n",
    "# from scipy.optimize import curve_fit\n",
    "# from scipy import interpolate\n",
    "# import warnings\n",
    "# import gc\n",
    "# from numbers import Number\n",
    "\n",
    "%matplotlib inline\n",
    "\n",
    "# # %reload_ext autoreload\n",
    "# # %autoreload 2\n",
    "\n",
    "# import pyradi.ryplot as ryplot\n",
    "# import pyradi.ryplanck as ryplanck\n",
    "# import pyradi.ryfiles as ryfiles\n",
    "# import pyradi.rymodtran as rymodtran\n",
    "# import pyradi.ryutils as ryutils\n",
    "# import pyradi.rypflux as rypflux\n",
    "\n",
    "# from IPython.display import HTML\n",
    "# from IPython.display import Image\n",
    "# from IPython.display import display\n",
    "# from IPython.display import FileLink, FileLinks\n",
    "\n",
    "# import matplotlib as mpl\n",
    "# mpl.rc(\"savefig\", dpi=300)\n",
    "# mpl.rc('figure', figsize=(10,8))\n",
    "# # %config InlineBackend.figure_format = 'svg'\n",
    "\n",
    "# pd.set_option('display.max_columns', 100)\n",
    "# pd.set_option('display.max_rows', 80)\n",
    "# pd.set_option('display.width', 100)\n",
    "# pd.set_option('display.max_colwidth', 150)\n",
    "# pd.options.display.float_format = '{:3e}'.format\n",
    "\n",
    "# # suppress the pytables performance warning\n",
    "# warnings.filterwarnings('ignore',category=pd.io.pytables.PerformanceWarning)"
   ]
  },
  {
   "cell_type": "code",
   "execution_count": 2,
   "metadata": {},
   "outputs": [],
   "source": [
    "import xlwings as xw"
   ]
  },
  {
   "cell_type": "code",
   "execution_count": 3,
   "metadata": {},
   "outputs": [
    {
     "name": "stdout",
     "output_type": "stream",
     "text": [
      "0.15.8\n"
     ]
    }
   ],
   "source": [
    "print(xw.__version__)"
   ]
  },
  {
   "cell_type": "code",
   "execution_count": 4,
   "metadata": {},
   "outputs": [],
   "source": [
    "wb = xw.Book('./data/tableXL.xlsx') # connect to Excel file"
   ]
  },
  {
   "cell_type": "markdown",
   "metadata": {},
   "source": [
    "Name of the active file"
   ]
  },
  {
   "cell_type": "code",
   "execution_count": 5,
   "metadata": {},
   "outputs": [
    {
     "name": "stdout",
     "output_type": "stream",
     "text": [
      "<Book [tableXL.xlsx]>\n",
      "<Book [tableXL.xlsx]>\n"
     ]
    }
   ],
   "source": [
    "print(xw.books.active)\n",
    "print(wb)"
   ]
  },
  {
   "cell_type": "markdown",
   "metadata": {},
   "source": [
    "Get a list of all sheets in wb"
   ]
  },
  {
   "cell_type": "code",
   "execution_count": 6,
   "metadata": {},
   "outputs": [
    {
     "name": "stdout",
     "output_type": "stream",
     "text": [
      "Sheets([<Sheet [tableXL.xlsx]Sheet1>, <Sheet [tableXL.xlsx]table>])\n"
     ]
    }
   ],
   "source": [
    "print(wb.sheets)"
   ]
  },
  {
   "cell_type": "markdown",
   "metadata": {},
   "source": [
    "The active sheet seems to be the most recent sheet opened in the file.\n"
   ]
  },
  {
   "cell_type": "code",
   "execution_count": 7,
   "metadata": {},
   "outputs": [
    {
     "data": {
      "text/plain": [
       "<Sheet [tableXL.xlsx]Sheet1>"
      ]
     },
     "execution_count": 7,
     "metadata": {},
     "output_type": "execute_result"
    }
   ],
   "source": [
    "wb.sheets.active"
   ]
  },
  {
   "cell_type": "markdown",
   "metadata": {},
   "source": [
    "Attempt to activate the listed sheet, but it does not work"
   ]
  },
  {
   "cell_type": "code",
   "execution_count": 8,
   "metadata": {},
   "outputs": [
    {
     "name": "stdout",
     "output_type": "stream",
     "text": [
      "None\n",
      "None\n"
     ]
    }
   ],
   "source": [
    "sheet1 = wb.sheets[1].activate()\n",
    "print(sheet1)\n",
    "sheet1 = wb.sheets['table'].activate()\n",
    "print(sheet1)"
   ]
  },
  {
   "cell_type": "markdown",
   "metadata": {},
   "source": [
    "work with a specific sheet as follows:"
   ]
  },
  {
   "cell_type": "code",
   "execution_count": 9,
   "metadata": {},
   "outputs": [
    {
     "name": "stdout",
     "output_type": "stream",
     "text": [
      "<Sheet [tableXL.xlsx]table>\n",
      "<Range [tableXL.xlsx]table!$V$6:$V$12>\n",
      "['176.0mm', 0.06135044691063812, 0.06126860167691231, 0.06103787378141228, 0.06074093785616564, 0.060566373479301217, 0.06035191426010303]\n"
     ]
    }
   ],
   "source": [
    "sht = wb.sheets['table']\n",
    "print(sht)\n",
    "print(sht.range('V6:V12'))\n",
    "print(sht.range('V6:V12').value)\n"
   ]
  },
  {
   "cell_type": "markdown",
   "metadata": {},
   "source": [
    "Assign values to cells as follows"
   ]
  },
  {
   "cell_type": "code",
   "execution_count": 10,
   "metadata": {},
   "outputs": [
    {
     "name": "stdout",
     "output_type": "stream",
     "text": [
      "[1.0, 2.0, 3.0]\n"
     ]
    }
   ],
   "source": [
    "sht1 = wb.sheets['Sheet1']\n",
    "sht1.range('A1:A3').value = [[1],[2],[3]]\n",
    "print(sht1.range('A1:A3').value)"
   ]
  },
  {
   "cell_type": "markdown",
   "metadata": {},
   "source": [
    "Copy a sheet within the same notebook.  In this case the new sheet will be before the one copied from. 'After' does not seem to work.\n"
   ]
  },
  {
   "cell_type": "code",
   "execution_count": 11,
   "metadata": {},
   "outputs": [],
   "source": [
    "#copy within the same sheet\n",
    "shtT = wb.sheets['table']\n",
    "shtT.api.Copy(Before=shtT.api)\n"
   ]
  },
  {
   "cell_type": "markdown",
   "metadata": {},
   "source": [
    "\n",
    "Note that the new sheet takes the name of the first with a suffix (2), (3), ..., (n). Rename the sheet by changing the seet attribute."
   ]
  },
  {
   "cell_type": "code",
   "execution_count": 12,
   "metadata": {},
   "outputs": [
    {
     "name": "stdout",
     "output_type": "stream",
     "text": [
      "Sheets([<Sheet [tableXL.xlsx]Sheet1>, <Sheet [tableXL.xlsx]table (2)>, <Sheet [tableXL.xlsx]table>])\n",
      "<Sheet [tableXL.xlsx]table (2)>\n",
      "table (2)\n",
      "Sheets([<Sheet [tableXL.xlsx]Sheet1>, <Sheet [tableXL.xlsx]MyNewSheet>, <Sheet [tableXL.xlsx]table>])\n",
      "<Sheet [tableXL.xlsx]MyNewSheet>\n",
      "MyNewSheet\n"
     ]
    }
   ],
   "source": [
    "print(wb.sheets)\n",
    "print(wb.sheets.active)\n",
    "print(wb.sheets.active.name)\n",
    "\n",
    "wb.sheets.active.name = 'MyNewSheet'\n",
    "\n",
    "print(wb.sheets)\n",
    "print(wb.sheets.active)\n",
    "print(wb.sheets.active.name)\n"
   ]
  },
  {
   "cell_type": "markdown",
   "metadata": {},
   "source": [
    "add clean sheet with name"
   ]
  },
  {
   "cell_type": "code",
   "execution_count": 13,
   "metadata": {},
   "outputs": [
    {
     "data": {
      "text/plain": [
       "<Sheet [tableXL.xlsx]CleanSheet>"
      ]
     },
     "execution_count": 13,
     "metadata": {},
     "output_type": "execute_result"
    }
   ],
   "source": [
    "wb.sheets.add(name='CleanSheet',before='Sheet1')"
   ]
  },
  {
   "cell_type": "markdown",
   "metadata": {},
   "source": [
    "thus far this appears to have been in memory.  \n",
    "save to to a new file and close the spreadsheet."
   ]
  },
  {
   "cell_type": "code",
   "execution_count": 14,
   "metadata": {},
   "outputs": [],
   "source": [
    "# Save workbook\n",
    "wb.save('./data/test_xlwings.xlsx')\n",
    "wb.close()\n"
   ]
  },
  {
   "cell_type": "markdown",
   "metadata": {},
   "source": [
    "## Python and [module versions, and dates](https://github.com/rasbt/watermark)"
   ]
  },
  {
   "cell_type": "code",
   "execution_count": 15,
   "metadata": {},
   "outputs": [
    {
     "name": "stdout",
     "output_type": "stream",
     "text": [
      "CPython 3.7.3\n",
      "IPython 7.7.0\n",
      "\n",
      "numpy 1.16.4\n",
      "xlwings 0.15.8\n",
      "\n",
      "compiler   : MSC v.1915 64 bit (AMD64)\n",
      "system     : Windows\n",
      "release    : 7\n",
      "machine    : AMD64\n",
      "processor  : Intel64 Family 6 Model 94 Stepping 3, GenuineIntel\n",
      "CPU cores  : 8\n",
      "interpreter: 64bit\n",
      "Git hash   : f056bc98d5c33950237e51e3d7f82192525772aa\n"
     ]
    }
   ],
   "source": [
    "# to get software versions\n",
    "# https://github.com/rasbt/watermark\n",
    "# https://github.com/rasbt/watermark/blob/master/docs/watermark.ipynb\n",
    "# you only need to do this once\n",
    "# pip install watermark\n",
    "\n",
    "%load_ext watermark\n",
    "%watermark -v -m -p numpy,xlwings -g "
   ]
  },
  {
   "cell_type": "code",
   "execution_count": null,
   "metadata": {},
   "outputs": [],
   "source": []
  }
 ],
 "metadata": {
  "anaconda-cloud": {},
  "kernelspec": {
   "display_name": "Python 3",
   "language": "python",
   "name": "python3"
  },
  "language_info": {
   "codemirror_mode": {
    "name": "ipython",
    "version": 3
   },
   "file_extension": ".py",
   "mimetype": "text/x-python",
   "name": "python",
   "nbconvert_exporter": "python",
   "pygments_lexer": "ipython3",
   "version": "3.7.3"
  }
 },
 "nbformat": 4,
 "nbformat_minor": 4
}
