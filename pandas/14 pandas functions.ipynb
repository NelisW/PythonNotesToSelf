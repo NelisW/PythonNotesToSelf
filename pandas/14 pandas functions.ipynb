{
 "cells": [
  {
   "cell_type": "markdown",
   "metadata": {},
   "source": [
    "http://dataconomy.com/14-best-python-pandas-features/"
   ]
  },
  {
   "cell_type": "code",
   "execution_count": 1,
   "metadata": {
    "collapsed": false,
    "jupyter": {
     "outputs_hidden": false
    }
   },
   "outputs": [],
   "source": [
    "# cd C:/Users/tk/Desktop"
   ]
  },
  {
   "cell_type": "code",
   "execution_count": 2,
   "metadata": {
    "collapsed": false,
    "jupyter": {
     "outputs_hidden": false
    }
   },
   "outputs": [],
   "source": [
    "%matplotlib inline\n",
    "import numpy as np\n",
    "import matplotlib.pyplot as plt\n",
    "import pandas as pd"
   ]
  },
  {
   "cell_type": "code",
   "execution_count": 3,
   "metadata": {
    "collapsed": false,
    "jupyter": {
     "outputs_hidden": false
    }
   },
   "outputs": [],
   "source": [
    "# import brewer2mpl\n",
    "from matplotlib import rcParams\n",
    "\n",
    "#colorbrewer2 Dark2 qualitative color table\n",
    "# dark2_cmap = brewer2mpl.get_map('Dark2', 'Qualitative', 7)\n",
    "# dark2_colors = dark2_cmap.mpl_colors\n",
    "\n",
    "rcParams['figure.figsize'] = (10, 6)\n",
    "rcParams['figure.dpi'] = 150\n",
    "# rcParams['axes.color_cycle'] = dark2_colors\n",
    "rcParams['lines.linewidth'] = 2\n",
    "rcParams['axes.facecolor'] = 'white'\n",
    "rcParams['font.size'] = 14\n",
    "rcParams['patch.edgecolor'] = 'white'\n",
    "# rcParams['patch.facecolor'] = dark2_colors[0]\n",
    "rcParams['font.family'] = 'StixGeneral'\n",
    "\n",
    "\n",
    "def remove_border(axes=None, top=False, right=False, left=True, bottom=True):\n",
    "    \"\"\"\n",
    "    Minimize chartjunk by stripping out unnecesasry plot borders and axis ticks\n",
    "    \n",
    "    The top/right/left/bottom keywords toggle whether the corresponding plot border is drawn\n",
    "    \"\"\"\n",
    "    ax = axes or plt.gca()\n",
    "    ax.spines['top'].set_visible(top)\n",
    "    ax.spines['right'].set_visible(right)\n",
    "    ax.spines['left'].set_visible(left)\n",
    "    ax.spines['bottom'].set_visible(bottom)\n",
    "    \n",
    "    #turn off all ticks\n",
    "    ax.yaxis.set_ticks_position('none')\n",
    "    ax.xaxis.set_ticks_position('none')\n",
    "    \n",
    "    #now re-enable visibles\n",
    "    if top:\n",
    "        ax.xaxis.tick_top()\n",
    "    if bottom:\n",
    "        ax.xaxis.tick_bottom()\n",
    "    if left:\n",
    "        ax.yaxis.tick_left()\n",
    "    if right:\n",
    "        ax.yaxis.tick_right()"
   ]
  },
  {
   "cell_type": "markdown",
   "metadata": {},
   "source": [
    "<hr/>\n",
    "\n",
    "\"The Olive Oils data has eight explanatory variables (levels of fatty acids in the oils) and nine classes (areas of Italy).  The content of the oils is a subject of study in its own right: Olive oil has high nutritional value, and some of its constituent fatty acids are considered to be more beneficial than others.\""
   ]
  },
  {
   "cell_type": "code",
   "execution_count": 4,
   "metadata": {
    "collapsed": false,
    "jupyter": {
     "outputs_hidden": false
    }
   },
   "outputs": [],
   "source": [
    "pd.set_option('display.width', 500)\n",
    "pd.set_option('display.max_columns', 100)"
   ]
  },
  {
   "cell_type": "code",
   "execution_count": 5,
   "metadata": {
    "collapsed": false,
    "jupyter": {
     "outputs_hidden": false
    }
   },
   "outputs": [
    {
     "data": {
      "text/html": [
       "<div style=\"max-height:1000px;max-width:1500px;overflow:auto;\">\n",
       "<table border=\"1\" class=\"dataframe\">\n",
       "  <thead>\n",
       "    <tr style=\"text-align: right;\">\n",
       "      <th></th>\n",
       "      <th>Unnamed: 0</th>\n",
       "      <th>region</th>\n",
       "      <th>area</th>\n",
       "      <th>palmitic</th>\n",
       "      <th>palmitoleic</th>\n",
       "      <th>stearic</th>\n",
       "      <th>oleic</th>\n",
       "      <th>linoleic</th>\n",
       "      <th>linolenic</th>\n",
       "      <th>arachidic</th>\n",
       "      <th>eicosenoic</th>\n",
       "    </tr>\n",
       "  </thead>\n",
       "  <tbody>\n",
       "    <tr>\n",
       "      <th>0</th>\n",
       "      <td> 1.North-Apulia</td>\n",
       "      <td> 1</td>\n",
       "      <td> 1</td>\n",
       "      <td> 1075</td>\n",
       "      <td> 75</td>\n",
       "      <td> 226</td>\n",
       "      <td> 7823</td>\n",
       "      <td> 672</td>\n",
       "      <td> 36</td>\n",
       "      <td> 60</td>\n",
       "      <td> 29</td>\n",
       "    </tr>\n",
       "    <tr>\n",
       "      <th>1</th>\n",
       "      <td> 2.North-Apulia</td>\n",
       "      <td> 1</td>\n",
       "      <td> 1</td>\n",
       "      <td> 1088</td>\n",
       "      <td> 73</td>\n",
       "      <td> 224</td>\n",
       "      <td> 7709</td>\n",
       "      <td> 781</td>\n",
       "      <td> 31</td>\n",
       "      <td> 61</td>\n",
       "      <td> 29</td>\n",
       "    </tr>\n",
       "    <tr>\n",
       "      <th>2</th>\n",
       "      <td> 3.North-Apulia</td>\n",
       "      <td> 1</td>\n",
       "      <td> 1</td>\n",
       "      <td>  911</td>\n",
       "      <td> 54</td>\n",
       "      <td> 246</td>\n",
       "      <td> 8113</td>\n",
       "      <td> 549</td>\n",
       "      <td> 31</td>\n",
       "      <td> 63</td>\n",
       "      <td> 29</td>\n",
       "    </tr>\n",
       "    <tr>\n",
       "      <th>3</th>\n",
       "      <td> 4.North-Apulia</td>\n",
       "      <td> 1</td>\n",
       "      <td> 1</td>\n",
       "      <td>  966</td>\n",
       "      <td> 57</td>\n",
       "      <td> 240</td>\n",
       "      <td> 7952</td>\n",
       "      <td> 619</td>\n",
       "      <td> 50</td>\n",
       "      <td> 78</td>\n",
       "      <td> 35</td>\n",
       "    </tr>\n",
       "    <tr>\n",
       "      <th>4</th>\n",
       "      <td> 5.North-Apulia</td>\n",
       "      <td> 1</td>\n",
       "      <td> 1</td>\n",
       "      <td> 1051</td>\n",
       "      <td> 67</td>\n",
       "      <td> 259</td>\n",
       "      <td> 7771</td>\n",
       "      <td> 672</td>\n",
       "      <td> 50</td>\n",
       "      <td> 80</td>\n",
       "      <td> 46</td>\n",
       "    </tr>\n",
       "  </tbody>\n",
       "</table>\n",
       "</div>"
      ],
      "text/plain": [
       "       Unnamed: 0  region  area  palmitic  palmitoleic  stearic  oleic  linoleic  linolenic  arachidic  eicosenoic\n",
       "0  1.North-Apulia       1     1      1075           75      226   7823       672         36         60          29\n",
       "1  2.North-Apulia       1     1      1088           73      224   7709       781         31         61          29\n",
       "2  3.North-Apulia       1     1       911           54      246   8113       549         31         63          29\n",
       "3  4.North-Apulia       1     1       966           57      240   7952       619         50         78          35\n",
       "4  5.North-Apulia       1     1      1051           67      259   7771       672         50         80          46"
      ]
     },
     "execution_count": 5,
     "metadata": {},
     "output_type": "execute_result"
    }
   ],
   "source": [
    "olive_oil = pd.read_csv('data/olive.csv') \n",
    "olive_oil.head(5)"
   ]
  },
  {
   "cell_type": "code",
   "execution_count": 6,
   "metadata": {
    "collapsed": false,
    "jupyter": {
     "outputs_hidden": false
    }
   },
   "outputs": [
    {
     "data": {
      "text/plain": [
       "(572, 11)"
      ]
     },
     "execution_count": 6,
     "metadata": {},
     "output_type": "execute_result"
    }
   ],
   "source": [
    "olive_oil.shape"
   ]
  },
  {
   "cell_type": "code",
   "execution_count": 7,
   "metadata": {
    "collapsed": false,
    "jupyter": {
     "outputs_hidden": false
    }
   },
   "outputs": [
    {
     "data": {
      "text/html": [
       "<div style=\"max-height:1000px;max-width:1500px;overflow:auto;\">\n",
       "<table border=\"1\" class=\"dataframe\">\n",
       "  <thead>\n",
       "    <tr style=\"text-align: right;\">\n",
       "      <th></th>\n",
       "      <th>area_Idili</th>\n",
       "      <th>region</th>\n",
       "      <th>area</th>\n",
       "      <th>palmitic</th>\n",
       "      <th>palmitoleic</th>\n",
       "      <th>stearic</th>\n",
       "      <th>oleic</th>\n",
       "      <th>linoleic</th>\n",
       "      <th>linolenic</th>\n",
       "      <th>arachidic</th>\n",
       "      <th>eicosenoic</th>\n",
       "    </tr>\n",
       "  </thead>\n",
       "  <tbody>\n",
       "    <tr>\n",
       "      <th>0</th>\n",
       "      <td> 1.North-Apulia</td>\n",
       "      <td> 1</td>\n",
       "      <td> 1</td>\n",
       "      <td> 1075</td>\n",
       "      <td> 75</td>\n",
       "      <td> 226</td>\n",
       "      <td> 7823</td>\n",
       "      <td> 672</td>\n",
       "      <td> 36</td>\n",
       "      <td> 60</td>\n",
       "      <td> 29</td>\n",
       "    </tr>\n",
       "    <tr>\n",
       "      <th>1</th>\n",
       "      <td> 2.North-Apulia</td>\n",
       "      <td> 1</td>\n",
       "      <td> 1</td>\n",
       "      <td> 1088</td>\n",
       "      <td> 73</td>\n",
       "      <td> 224</td>\n",
       "      <td> 7709</td>\n",
       "      <td> 781</td>\n",
       "      <td> 31</td>\n",
       "      <td> 61</td>\n",
       "      <td> 29</td>\n",
       "    </tr>\n",
       "    <tr>\n",
       "      <th>2</th>\n",
       "      <td> 3.North-Apulia</td>\n",
       "      <td> 1</td>\n",
       "      <td> 1</td>\n",
       "      <td>  911</td>\n",
       "      <td> 54</td>\n",
       "      <td> 246</td>\n",
       "      <td> 8113</td>\n",
       "      <td> 549</td>\n",
       "      <td> 31</td>\n",
       "      <td> 63</td>\n",
       "      <td> 29</td>\n",
       "    </tr>\n",
       "    <tr>\n",
       "      <th>3</th>\n",
       "      <td> 4.North-Apulia</td>\n",
       "      <td> 1</td>\n",
       "      <td> 1</td>\n",
       "      <td>  966</td>\n",
       "      <td> 57</td>\n",
       "      <td> 240</td>\n",
       "      <td> 7952</td>\n",
       "      <td> 619</td>\n",
       "      <td> 50</td>\n",
       "      <td> 78</td>\n",
       "      <td> 35</td>\n",
       "    </tr>\n",
       "    <tr>\n",
       "      <th>4</th>\n",
       "      <td> 5.North-Apulia</td>\n",
       "      <td> 1</td>\n",
       "      <td> 1</td>\n",
       "      <td> 1051</td>\n",
       "      <td> 67</td>\n",
       "      <td> 259</td>\n",
       "      <td> 7771</td>\n",
       "      <td> 672</td>\n",
       "      <td> 50</td>\n",
       "      <td> 80</td>\n",
       "      <td> 46</td>\n",
       "    </tr>\n",
       "  </tbody>\n",
       "</table>\n",
       "</div>"
      ],
      "text/plain": [
       "       area_Idili  region  area  palmitic  palmitoleic  stearic  oleic  linoleic  linolenic  arachidic  eicosenoic\n",
       "0  1.North-Apulia       1     1      1075           75      226   7823       672         36         60          29\n",
       "1  2.North-Apulia       1     1      1088           73      224   7709       781         31         61          29\n",
       "2  3.North-Apulia       1     1       911           54      246   8113       549         31         63          29\n",
       "3  4.North-Apulia       1     1       966           57      240   7952       619         50         78          35\n",
       "4  5.North-Apulia       1     1      1051           67      259   7771       672         50         80          46"
      ]
     },
     "execution_count": 7,
     "metadata": {},
     "output_type": "execute_result"
    }
   ],
   "source": [
    "olive_oil.rename(columns = {olive_oil.columns[0]:'area_Idili'}, inplace = True) \n",
    "olive_oil.head(5)"
   ]
  },
  {
   "cell_type": "code",
   "execution_count": 8,
   "metadata": {
    "collapsed": false,
    "jupyter": {
     "outputs_hidden": false
    }
   },
   "outputs": [
    {
     "data": {
      "text/html": [
       "<div style=\"max-height:1000px;max-width:1500px;overflow:auto;\">\n",
       "<table border=\"1\" class=\"dataframe\">\n",
       "  <thead>\n",
       "    <tr style=\"text-align: right;\">\n",
       "      <th></th>\n",
       "      <th>0</th>\n",
       "    </tr>\n",
       "  </thead>\n",
       "  <tbody>\n",
       "    <tr>\n",
       "      <th>0 </th>\n",
       "      <td>  area_Idili</td>\n",
       "    </tr>\n",
       "    <tr>\n",
       "      <th>1 </th>\n",
       "      <td>      region</td>\n",
       "    </tr>\n",
       "    <tr>\n",
       "      <th>2 </th>\n",
       "      <td>        area</td>\n",
       "    </tr>\n",
       "    <tr>\n",
       "      <th>3 </th>\n",
       "      <td>    palmitic</td>\n",
       "    </tr>\n",
       "    <tr>\n",
       "      <th>4 </th>\n",
       "      <td> palmitoleic</td>\n",
       "    </tr>\n",
       "    <tr>\n",
       "      <th>5 </th>\n",
       "      <td>     stearic</td>\n",
       "    </tr>\n",
       "    <tr>\n",
       "      <th>6 </th>\n",
       "      <td>       oleic</td>\n",
       "    </tr>\n",
       "    <tr>\n",
       "      <th>7 </th>\n",
       "      <td>    linoleic</td>\n",
       "    </tr>\n",
       "    <tr>\n",
       "      <th>8 </th>\n",
       "      <td>   linolenic</td>\n",
       "    </tr>\n",
       "    <tr>\n",
       "      <th>9 </th>\n",
       "      <td>   arachidic</td>\n",
       "    </tr>\n",
       "    <tr>\n",
       "      <th>10</th>\n",
       "      <td>  eicosenoic</td>\n",
       "    </tr>\n",
       "  </tbody>\n",
       "</table>\n",
       "</div>"
      ],
      "text/plain": [
       "              0\n",
       "0    area_Idili\n",
       "1        region\n",
       "2          area\n",
       "3      palmitic\n",
       "4   palmitoleic\n",
       "5       stearic\n",
       "6         oleic\n",
       "7      linoleic\n",
       "8     linolenic\n",
       "9     arachidic\n",
       "10   eicosenoic"
      ]
     },
     "execution_count": 8,
     "metadata": {},
     "output_type": "execute_result"
    }
   ],
   "source": [
    "pd.DataFrame(olive_oil.columns)"
   ]
  },
  {
   "cell_type": "code",
   "execution_count": 9,
   "metadata": {
    "collapsed": false,
    "jupyter": {
     "outputs_hidden": false
    }
   },
   "outputs": [
    {
     "name": "stdout",
     "output_type": "stream",
     "text": [
      "[1 2 3]\n",
      "[1 2 3 4 5 6 9 7 8]\n"
     ]
    }
   ],
   "source": [
    "unique_in_region = olive_oil.region.unique() # We will find how many unique entries are there in region column.\n",
    "unique_in_area = olive_oil.area.unique()\n",
    "print unique_in_region\n",
    "print unique_in_area"
   ]
  },
  {
   "cell_type": "code",
   "execution_count": 10,
   "metadata": {
    "collapsed": false,
    "jupyter": {
     "outputs_hidden": false
    }
   },
   "outputs": [
    {
     "data": {
      "text/html": [
       "<div style=\"max-height:1000px;max-width:1500px;overflow:auto;\">\n",
       "<table border=\"1\" class=\"dataframe\">\n",
       "  <thead>\n",
       "    <tr style=\"text-align: right;\">\n",
       "      <th>region</th>\n",
       "      <th>1</th>\n",
       "      <th>2</th>\n",
       "      <th>3</th>\n",
       "    </tr>\n",
       "    <tr>\n",
       "      <th>area</th>\n",
       "      <th></th>\n",
       "      <th></th>\n",
       "      <th></th>\n",
       "    </tr>\n",
       "  </thead>\n",
       "  <tbody>\n",
       "    <tr>\n",
       "      <th>1</th>\n",
       "      <td>  25</td>\n",
       "      <td>  0</td>\n",
       "      <td>  0</td>\n",
       "    </tr>\n",
       "    <tr>\n",
       "      <th>2</th>\n",
       "      <td>  56</td>\n",
       "      <td>  0</td>\n",
       "      <td>  0</td>\n",
       "    </tr>\n",
       "    <tr>\n",
       "      <th>3</th>\n",
       "      <td> 206</td>\n",
       "      <td>  0</td>\n",
       "      <td>  0</td>\n",
       "    </tr>\n",
       "    <tr>\n",
       "      <th>4</th>\n",
       "      <td>  36</td>\n",
       "      <td>  0</td>\n",
       "      <td>  0</td>\n",
       "    </tr>\n",
       "    <tr>\n",
       "      <th>5</th>\n",
       "      <td>   0</td>\n",
       "      <td> 65</td>\n",
       "      <td>  0</td>\n",
       "    </tr>\n",
       "    <tr>\n",
       "      <th>6</th>\n",
       "      <td>   0</td>\n",
       "      <td> 33</td>\n",
       "      <td>  0</td>\n",
       "    </tr>\n",
       "    <tr>\n",
       "      <th>7</th>\n",
       "      <td>   0</td>\n",
       "      <td>  0</td>\n",
       "      <td> 50</td>\n",
       "    </tr>\n",
       "    <tr>\n",
       "      <th>8</th>\n",
       "      <td>   0</td>\n",
       "      <td>  0</td>\n",
       "      <td> 50</td>\n",
       "    </tr>\n",
       "    <tr>\n",
       "      <th>9</th>\n",
       "      <td>   0</td>\n",
       "      <td>  0</td>\n",
       "      <td> 51</td>\n",
       "    </tr>\n",
       "  </tbody>\n",
       "</table>\n",
       "</div>"
      ],
      "text/plain": [
       "region    1   2   3\n",
       "area               \n",
       "1        25   0   0\n",
       "2        56   0   0\n",
       "3       206   0   0\n",
       "4        36   0   0\n",
       "5         0  65   0\n",
       "6         0  33   0\n",
       "7         0   0  50\n",
       "8         0   0  50\n",
       "9         0   0  51"
      ]
     },
     "execution_count": 10,
     "metadata": {},
     "output_type": "execute_result"
    }
   ],
   "source": [
    "pd.crosstab(olive_oil.area, olive_oil.region) "
   ]
  },
  {
   "cell_type": "code",
   "execution_count": 11,
   "metadata": {
    "collapsed": false,
    "jupyter": {
     "outputs_hidden": false
    }
   },
   "outputs": [
    {
     "data": {
      "text/html": [
       "<div style=\"max-height:1000px;max-width:1500px;overflow:auto;\">\n",
       "<table border=\"1\" class=\"dataframe\">\n",
       "  <thead>\n",
       "    <tr style=\"text-align: right;\">\n",
       "      <th></th>\n",
       "      <th>area_Idili</th>\n",
       "      <th>region</th>\n",
       "      <th>area</th>\n",
       "      <th>palmitic</th>\n",
       "      <th>palmitoleic</th>\n",
       "      <th>stearic</th>\n",
       "      <th>oleic</th>\n",
       "      <th>linoleic</th>\n",
       "      <th>linolenic</th>\n",
       "      <th>arachidic</th>\n",
       "      <th>eicosenoic</th>\n",
       "    </tr>\n",
       "  </thead>\n",
       "  <tbody>\n",
       "    <tr>\n",
       "      <th>0</th>\n",
       "      <td> 1.North-Apulia</td>\n",
       "      <td> 1</td>\n",
       "      <td> 1</td>\n",
       "      <td> 1075</td>\n",
       "      <td> 75</td>\n",
       "      <td> 226</td>\n",
       "      <td> 7823</td>\n",
       "      <td> 672</td>\n",
       "      <td> 36</td>\n",
       "      <td> 60</td>\n",
       "      <td> 29</td>\n",
       "    </tr>\n",
       "    <tr>\n",
       "      <th>1</th>\n",
       "      <td> 2.North-Apulia</td>\n",
       "      <td> 1</td>\n",
       "      <td> 1</td>\n",
       "      <td> 1088</td>\n",
       "      <td> 73</td>\n",
       "      <td> 224</td>\n",
       "      <td> 7709</td>\n",
       "      <td> 781</td>\n",
       "      <td> 31</td>\n",
       "      <td> 61</td>\n",
       "      <td> 29</td>\n",
       "    </tr>\n",
       "    <tr>\n",
       "      <th>2</th>\n",
       "      <td> 3.North-Apulia</td>\n",
       "      <td> 1</td>\n",
       "      <td> 1</td>\n",
       "      <td>  911</td>\n",
       "      <td> 54</td>\n",
       "      <td> 246</td>\n",
       "      <td> 8113</td>\n",
       "      <td> 549</td>\n",
       "      <td> 31</td>\n",
       "      <td> 63</td>\n",
       "      <td> 29</td>\n",
       "    </tr>\n",
       "    <tr>\n",
       "      <th>3</th>\n",
       "      <td> 4.North-Apulia</td>\n",
       "      <td> 1</td>\n",
       "      <td> 1</td>\n",
       "      <td>  966</td>\n",
       "      <td> 57</td>\n",
       "      <td> 240</td>\n",
       "      <td> 7952</td>\n",
       "      <td> 619</td>\n",
       "      <td> 50</td>\n",
       "      <td> 78</td>\n",
       "      <td> 35</td>\n",
       "    </tr>\n",
       "    <tr>\n",
       "      <th>4</th>\n",
       "      <td> 5.North-Apulia</td>\n",
       "      <td> 1</td>\n",
       "      <td> 1</td>\n",
       "      <td> 1051</td>\n",
       "      <td> 67</td>\n",
       "      <td> 259</td>\n",
       "      <td> 7771</td>\n",
       "      <td> 672</td>\n",
       "      <td> 50</td>\n",
       "      <td> 80</td>\n",
       "      <td> 46</td>\n",
       "    </tr>\n",
       "  </tbody>\n",
       "</table>\n",
       "</div>"
      ],
      "text/plain": [
       "       area_Idili  region  area  palmitic  palmitoleic  stearic  oleic  linoleic  linolenic  arachidic  eicosenoic\n",
       "0  1.North-Apulia       1     1      1075           75      226   7823       672         36         60          29\n",
       "1  2.North-Apulia       1     1      1088           73      224   7709       781         31         61          29\n",
       "2  3.North-Apulia       1     1       911           54      246   8113       549         31         63          29\n",
       "3  4.North-Apulia       1     1       966           57      240   7952       619         50         78          35\n",
       "4  5.North-Apulia       1     1      1051           67      259   7771       672         50         80          46"
      ]
     },
     "execution_count": 11,
     "metadata": {},
     "output_type": "execute_result"
    }
   ],
   "source": [
    "olive_oil.head(5)"
   ]
  },
  {
   "cell_type": "code",
   "execution_count": 12,
   "metadata": {
    "collapsed": false,
    "jupyter": {
     "outputs_hidden": false
    }
   },
   "outputs": [
    {
     "data": {
      "text/html": [
       "<div style=\"max-height:1000px;max-width:1500px;overflow:auto;\">\n",
       "<table border=\"1\" class=\"dataframe\">\n",
       "  <thead>\n",
       "    <tr style=\"text-align: right;\">\n",
       "      <th></th>\n",
       "      <th>area_Idili</th>\n",
       "      <th>region</th>\n",
       "      <th>area</th>\n",
       "      <th>palmitic</th>\n",
       "      <th>palmitoleic</th>\n",
       "      <th>stearic</th>\n",
       "      <th>oleic</th>\n",
       "      <th>linoleic</th>\n",
       "      <th>linolenic</th>\n",
       "      <th>arachidic</th>\n",
       "      <th>eicosenoic</th>\n",
       "    </tr>\n",
       "  </thead>\n",
       "  <tbody>\n",
       "    <tr>\n",
       "      <th>0</th>\n",
       "      <td> North-Apulia</td>\n",
       "      <td> 1</td>\n",
       "      <td> 1</td>\n",
       "      <td> 1075</td>\n",
       "      <td> 75</td>\n",
       "      <td> 226</td>\n",
       "      <td> 7823</td>\n",
       "      <td> 672</td>\n",
       "      <td> 36</td>\n",
       "      <td> 60</td>\n",
       "      <td> 29</td>\n",
       "    </tr>\n",
       "    <tr>\n",
       "      <th>1</th>\n",
       "      <td> North-Apulia</td>\n",
       "      <td> 1</td>\n",
       "      <td> 1</td>\n",
       "      <td> 1088</td>\n",
       "      <td> 73</td>\n",
       "      <td> 224</td>\n",
       "      <td> 7709</td>\n",
       "      <td> 781</td>\n",
       "      <td> 31</td>\n",
       "      <td> 61</td>\n",
       "      <td> 29</td>\n",
       "    </tr>\n",
       "    <tr>\n",
       "      <th>2</th>\n",
       "      <td> North-Apulia</td>\n",
       "      <td> 1</td>\n",
       "      <td> 1</td>\n",
       "      <td>  911</td>\n",
       "      <td> 54</td>\n",
       "      <td> 246</td>\n",
       "      <td> 8113</td>\n",
       "      <td> 549</td>\n",
       "      <td> 31</td>\n",
       "      <td> 63</td>\n",
       "      <td> 29</td>\n",
       "    </tr>\n",
       "    <tr>\n",
       "      <th>3</th>\n",
       "      <td> North-Apulia</td>\n",
       "      <td> 1</td>\n",
       "      <td> 1</td>\n",
       "      <td>  966</td>\n",
       "      <td> 57</td>\n",
       "      <td> 240</td>\n",
       "      <td> 7952</td>\n",
       "      <td> 619</td>\n",
       "      <td> 50</td>\n",
       "      <td> 78</td>\n",
       "      <td> 35</td>\n",
       "    </tr>\n",
       "    <tr>\n",
       "      <th>4</th>\n",
       "      <td> North-Apulia</td>\n",
       "      <td> 1</td>\n",
       "      <td> 1</td>\n",
       "      <td> 1051</td>\n",
       "      <td> 67</td>\n",
       "      <td> 259</td>\n",
       "      <td> 7771</td>\n",
       "      <td> 672</td>\n",
       "      <td> 50</td>\n",
       "      <td> 80</td>\n",
       "      <td> 46</td>\n",
       "    </tr>\n",
       "  </tbody>\n",
       "</table>\n",
       "</div>"
      ],
      "text/plain": [
       "     area_Idili  region  area  palmitic  palmitoleic  stearic  oleic  linoleic  linolenic  arachidic  eicosenoic\n",
       "0  North-Apulia       1     1      1075           75      226   7823       672         36         60          29\n",
       "1  North-Apulia       1     1      1088           73      224   7709       781         31         61          29\n",
       "2  North-Apulia       1     1       911           54      246   8113       549         31         63          29\n",
       "3  North-Apulia       1     1       966           57      240   7952       619         50         78          35\n",
       "4  North-Apulia       1     1      1051           67      259   7771       672         50         80          46"
      ]
     },
     "execution_count": 12,
     "metadata": {},
     "output_type": "execute_result"
    }
   ],
   "source": [
    "olive_oil.area_Idili = olive_oil.area_Idili.map(lambda x: x.split('.')[-1]) \n",
    "olive_oil.head()"
   ]
  },
  {
   "cell_type": "code",
   "execution_count": 13,
   "metadata": {
    "collapsed": false,
    "jupyter": {
     "outputs_hidden": false
    }
   },
   "outputs": [
    {
     "name": "stdout",
     "output_type": "stream",
     "text": [
      "['1', 'northapulia']\n"
     ]
    },
    {
     "data": {
      "text/plain": [
       "'northapulia'"
      ]
     },
     "execution_count": 13,
     "metadata": {},
     "output_type": "execute_result"
    }
   ],
   "source": [
    "# How the split function works \n",
    "x = '1.northapulia'\n",
    "y = x.split('.')\n",
    "print y\n",
    "z = x.split('.')[-1] #-1 returns the last element of the list\n",
    "z"
   ]
  },
  {
   "cell_type": "code",
   "execution_count": 14,
   "metadata": {
    "collapsed": false,
    "jupyter": {
     "outputs_hidden": false
    }
   },
   "outputs": [
    {
     "data": {
      "text/html": [
       "<div style=\"max-height:1000px;max-width:1500px;overflow:auto;\">\n",
       "<table border=\"1\" class=\"dataframe\">\n",
       "  <thead>\n",
       "    <tr style=\"text-align: right;\">\n",
       "      <th></th>\n",
       "      <th>palmitic</th>\n",
       "      <th>palmitoleic</th>\n",
       "    </tr>\n",
       "  </thead>\n",
       "  <tbody>\n",
       "    <tr>\n",
       "      <th>0</th>\n",
       "      <td> 1075</td>\n",
       "      <td> 75</td>\n",
       "    </tr>\n",
       "    <tr>\n",
       "      <th>1</th>\n",
       "      <td> 1088</td>\n",
       "      <td> 73</td>\n",
       "    </tr>\n",
       "    <tr>\n",
       "      <th>2</th>\n",
       "      <td>  911</td>\n",
       "      <td> 54</td>\n",
       "    </tr>\n",
       "    <tr>\n",
       "      <th>3</th>\n",
       "      <td>  966</td>\n",
       "      <td> 57</td>\n",
       "    </tr>\n",
       "    <tr>\n",
       "      <th>4</th>\n",
       "      <td> 1051</td>\n",
       "      <td> 67</td>\n",
       "    </tr>\n",
       "  </tbody>\n",
       "</table>\n",
       "</div>"
      ],
      "text/plain": [
       "   palmitic  palmitoleic\n",
       "0      1075           75\n",
       "1      1088           73\n",
       "2       911           54\n",
       "3       966           57\n",
       "4      1051           67"
      ]
     },
     "execution_count": 14,
     "metadata": {},
     "output_type": "execute_result"
    }
   ],
   "source": [
    "olive_oil[['palmitic', 'palmitoleic']].head(5) # you can access subset of columns of a data frame. (http://bit.ly/1sPHf1u)"
   ]
  },
  {
   "cell_type": "code",
   "execution_count": 15,
   "metadata": {
    "collapsed": false,
    "jupyter": {
     "outputs_hidden": false
    }
   },
   "outputs": [
    {
     "data": {
      "text/plain": [
       "0     1075\n",
       "1     1088\n",
       "2      911\n",
       "3      966\n",
       "4     1051\n",
       "5      911\n",
       "6      922\n",
       "7     1100\n",
       "8     1082\n",
       "9     1037\n",
       "10    1051\n",
       "11    1036\n",
       "12    1074\n",
       "13     875\n",
       "14     952\n",
       "...\n",
       "557    1010\n",
       "558    1020\n",
       "559    1120\n",
       "560    1090\n",
       "561    1100\n",
       "562    1090\n",
       "563    1150\n",
       "564    1110\n",
       "565    1010\n",
       "566    1070\n",
       "567    1280\n",
       "568    1060\n",
       "569    1010\n",
       "570     990\n",
       "571     960\n",
       "Name: palmitic, Length: 572, dtype: int64"
      ]
     },
     "execution_count": 15,
     "metadata": {},
     "output_type": "execute_result"
    }
   ],
   "source": [
    "olive_oil['palmitic']"
   ]
  },
  {
   "cell_type": "code",
   "execution_count": 16,
   "metadata": {
    "collapsed": false,
    "jupyter": {
     "outputs_hidden": false
    }
   },
   "outputs": [
    {
     "name": "stdout",
     "output_type": "stream",
     "text": [
      " the type of olive_oil[['palmitic']]: \t<class 'pandas.core.frame.DataFrame'>\n",
      " the type of olive_oil['palmitic']: \t<class 'pandas.core.series.Series'>\n"
     ]
    }
   ],
   "source": [
    "print \" the type of olive_oil[['palmitic']]: \\t\", type(olive_oil[['palmitic']])\n",
    "print \" the type of olive_oil['palmitic']: \\t\", type(olive_oil['palmitic'])\n"
   ]
  },
  {
   "cell_type": "code",
   "execution_count": 17,
   "metadata": {
    "collapsed": false,
    "jupyter": {
     "outputs_hidden": false
    }
   },
   "outputs": [
    {
     "data": {
      "text/plain": [
       "0     1075\n",
       "1     1088\n",
       "2      911\n",
       "3      966\n",
       "4     1051\n",
       "5      911\n",
       "6      922\n",
       "7     1100\n",
       "8     1082\n",
       "9     1037\n",
       "10    1051\n",
       "11    1036\n",
       "12    1074\n",
       "13     875\n",
       "14     952\n",
       "...\n",
       "557    1010\n",
       "558    1020\n",
       "559    1120\n",
       "560    1090\n",
       "561    1100\n",
       "562    1090\n",
       "563    1150\n",
       "564    1110\n",
       "565    1010\n",
       "566    1070\n",
       "567    1280\n",
       "568    1060\n",
       "569    1010\n",
       "570     990\n",
       "571     960\n",
       "Name: palmitic, Length: 572, dtype: int64"
      ]
     },
     "execution_count": 17,
     "metadata": {},
     "output_type": "execute_result"
    }
   ],
   "source": [
    "olive_oil.palmitic # this is a convienient way to access a specific column"
   ]
  },
  {
   "cell_type": "markdown",
   "metadata": {},
   "source": [
    "What map did is it took a pandas series in form of a list. Took that list and mapped each value of that list to something. here we are going to use a data frame( set of lists). for data frame you should use apply"
   ]
  },
  {
   "cell_type": "code",
   "execution_count": 18,
   "metadata": {
    "collapsed": false,
    "jupyter": {
     "outputs_hidden": false
    }
   },
   "outputs": [
    {
     "data": {
      "text/html": [
       "<div style=\"max-height:1000px;max-width:1500px;overflow:auto;\">\n",
       "<table border=\"1\" class=\"dataframe\">\n",
       "  <thead>\n",
       "    <tr style=\"text-align: right;\">\n",
       "      <th></th>\n",
       "      <th>palmitic</th>\n",
       "      <th>palmitoleic</th>\n",
       "      <th>stearic</th>\n",
       "      <th>oleic</th>\n",
       "      <th>linoleic</th>\n",
       "      <th>linolenic</th>\n",
       "      <th>arachidic</th>\n",
       "      <th>eicosenoic</th>\n",
       "    </tr>\n",
       "  </thead>\n",
       "  <tbody>\n",
       "    <tr>\n",
       "      <th>0</th>\n",
       "      <td> 10.75</td>\n",
       "      <td> 0.75</td>\n",
       "      <td> 2.26</td>\n",
       "      <td> 78.23</td>\n",
       "      <td> 6.72</td>\n",
       "      <td> 0.36</td>\n",
       "      <td> 0.60</td>\n",
       "      <td> 0.29</td>\n",
       "    </tr>\n",
       "    <tr>\n",
       "      <th>1</th>\n",
       "      <td> 10.88</td>\n",
       "      <td> 0.73</td>\n",
       "      <td> 2.24</td>\n",
       "      <td> 77.09</td>\n",
       "      <td> 7.81</td>\n",
       "      <td> 0.31</td>\n",
       "      <td> 0.61</td>\n",
       "      <td> 0.29</td>\n",
       "    </tr>\n",
       "    <tr>\n",
       "      <th>2</th>\n",
       "      <td>  9.11</td>\n",
       "      <td> 0.54</td>\n",
       "      <td> 2.46</td>\n",
       "      <td> 81.13</td>\n",
       "      <td> 5.49</td>\n",
       "      <td> 0.31</td>\n",
       "      <td> 0.63</td>\n",
       "      <td> 0.29</td>\n",
       "    </tr>\n",
       "    <tr>\n",
       "      <th>3</th>\n",
       "      <td>  9.66</td>\n",
       "      <td> 0.57</td>\n",
       "      <td> 2.40</td>\n",
       "      <td> 79.52</td>\n",
       "      <td> 6.19</td>\n",
       "      <td> 0.50</td>\n",
       "      <td> 0.78</td>\n",
       "      <td> 0.35</td>\n",
       "    </tr>\n",
       "    <tr>\n",
       "      <th>4</th>\n",
       "      <td> 10.51</td>\n",
       "      <td> 0.67</td>\n",
       "      <td> 2.59</td>\n",
       "      <td> 77.71</td>\n",
       "      <td> 6.72</td>\n",
       "      <td> 0.50</td>\n",
       "      <td> 0.80</td>\n",
       "      <td> 0.46</td>\n",
       "    </tr>\n",
       "  </tbody>\n",
       "</table>\n",
       "</div>"
      ],
      "text/plain": [
       "   palmitic  palmitoleic  stearic  oleic  linoleic  linolenic  arachidic  eicosenoic\n",
       "0     10.75         0.75     2.26  78.23      6.72       0.36       0.60        0.29\n",
       "1     10.88         0.73     2.24  77.09      7.81       0.31       0.61        0.29\n",
       "2      9.11         0.54     2.46  81.13      5.49       0.31       0.63        0.29\n",
       "3      9.66         0.57     2.40  79.52      6.19       0.50       0.78        0.35\n",
       "4     10.51         0.67     2.59  77.71      6.72       0.50       0.80        0.46"
      ]
     },
     "execution_count": 18,
     "metadata": {},
     "output_type": "execute_result"
    }
   ],
   "source": [
    "list_of_acids =['palmitic', 'palmitoleic', 'stearic', 'oleic', 'linoleic', 'linolenic', 'arachidic', 'eicosenoic']\n",
    "df = olive_oil[list_of_acids].apply(lambda x: x/100.0)\n",
    "df.head(5)"
   ]
  },
  {
   "cell_type": "code",
   "execution_count": 19,
   "metadata": {
    "collapsed": false,
    "jupyter": {
     "outputs_hidden": false
    }
   },
   "outputs": [
    {
     "data": {
      "text/html": [
       "<div style=\"max-height:1000px;max-width:1500px;overflow:auto;\">\n",
       "<table border=\"1\" class=\"dataframe\">\n",
       "  <thead>\n",
       "    <tr style=\"text-align: right;\">\n",
       "      <th></th>\n",
       "      <th>area_Idili</th>\n",
       "      <th>region</th>\n",
       "      <th>area</th>\n",
       "      <th>palmitic</th>\n",
       "      <th>palmitoleic</th>\n",
       "      <th>stearic</th>\n",
       "      <th>oleic</th>\n",
       "      <th>linoleic</th>\n",
       "      <th>linolenic</th>\n",
       "      <th>arachidic</th>\n",
       "      <th>eicosenoic</th>\n",
       "    </tr>\n",
       "  </thead>\n",
       "  <tbody>\n",
       "    <tr>\n",
       "      <th>0</th>\n",
       "      <td> North-Apulia</td>\n",
       "      <td> 1</td>\n",
       "      <td> 1</td>\n",
       "      <td> 10.75</td>\n",
       "      <td> 0.75</td>\n",
       "      <td> 2.26</td>\n",
       "      <td> 78.23</td>\n",
       "      <td> 6.72</td>\n",
       "      <td> 0.36</td>\n",
       "      <td> 0.60</td>\n",
       "      <td> 0.29</td>\n",
       "    </tr>\n",
       "    <tr>\n",
       "      <th>1</th>\n",
       "      <td> North-Apulia</td>\n",
       "      <td> 1</td>\n",
       "      <td> 1</td>\n",
       "      <td> 10.88</td>\n",
       "      <td> 0.73</td>\n",
       "      <td> 2.24</td>\n",
       "      <td> 77.09</td>\n",
       "      <td> 7.81</td>\n",
       "      <td> 0.31</td>\n",
       "      <td> 0.61</td>\n",
       "      <td> 0.29</td>\n",
       "    </tr>\n",
       "    <tr>\n",
       "      <th>2</th>\n",
       "      <td> North-Apulia</td>\n",
       "      <td> 1</td>\n",
       "      <td> 1</td>\n",
       "      <td>  9.11</td>\n",
       "      <td> 0.54</td>\n",
       "      <td> 2.46</td>\n",
       "      <td> 81.13</td>\n",
       "      <td> 5.49</td>\n",
       "      <td> 0.31</td>\n",
       "      <td> 0.63</td>\n",
       "      <td> 0.29</td>\n",
       "    </tr>\n",
       "    <tr>\n",
       "      <th>3</th>\n",
       "      <td> North-Apulia</td>\n",
       "      <td> 1</td>\n",
       "      <td> 1</td>\n",
       "      <td>  9.66</td>\n",
       "      <td> 0.57</td>\n",
       "      <td> 2.40</td>\n",
       "      <td> 79.52</td>\n",
       "      <td> 6.19</td>\n",
       "      <td> 0.50</td>\n",
       "      <td> 0.78</td>\n",
       "      <td> 0.35</td>\n",
       "    </tr>\n",
       "    <tr>\n",
       "      <th>4</th>\n",
       "      <td> North-Apulia</td>\n",
       "      <td> 1</td>\n",
       "      <td> 1</td>\n",
       "      <td> 10.51</td>\n",
       "      <td> 0.67</td>\n",
       "      <td> 2.59</td>\n",
       "      <td> 77.71</td>\n",
       "      <td> 6.72</td>\n",
       "      <td> 0.50</td>\n",
       "      <td> 0.80</td>\n",
       "      <td> 0.46</td>\n",
       "    </tr>\n",
       "  </tbody>\n",
       "</table>\n",
       "</div>"
      ],
      "text/plain": [
       "     area_Idili  region  area  palmitic  palmitoleic  stearic  oleic  linoleic  linolenic  arachidic  eicosenoic\n",
       "0  North-Apulia       1     1     10.75         0.75     2.26  78.23      6.72       0.36       0.60        0.29\n",
       "1  North-Apulia       1     1     10.88         0.73     2.24  77.09      7.81       0.31       0.61        0.29\n",
       "2  North-Apulia       1     1      9.11         0.54     2.46  81.13      5.49       0.31       0.63        0.29\n",
       "3  North-Apulia       1     1      9.66         0.57     2.40  79.52      6.19       0.50       0.78        0.35\n",
       "4  North-Apulia       1     1     10.51         0.67     2.59  77.71      6.72       0.50       0.80        0.46"
      ]
     },
     "execution_count": 19,
     "metadata": {},
     "output_type": "execute_result"
    }
   ],
   "source": [
    "olive_oil[list_of_acids] =df # we are replacing the acid list values in olive_oil\n",
    "olive_oil.head(5)"
   ]
  },
  {
   "cell_type": "code",
   "execution_count": 20,
   "metadata": {
    "collapsed": false,
    "jupyter": {
     "outputs_hidden": false
    }
   },
   "outputs": [
    {
     "data": {
      "text/plain": [
       "(array([   1.,    0.,   11.,   71.,  188.,   79.,  131.,   73.,    9.,    9.]),\n",
       " array([  6.1  ,   7.243,   8.386,   9.529,  10.672,  11.815,  12.958,\n",
       "         14.101,  15.244,  16.387,  17.53 ]),\n",
       " <a list of 10 Patch objects>)"
      ]
     },
     "execution_count": 20,
     "metadata": {},
     "output_type": "execute_result"
    },
    {
     "data": {
      "image/png": "[encoded data removed]",
      "text/plain": [
       "<matplotlib.figure.Figure at 0x8daad50>"
      ]
     },
     "metadata": {},
     "output_type": "display_data"
    }
   ],
   "source": [
    "plt.hist(olive_oil.palmitic)"
   ]
  },
  {
   "cell_type": "code",
   "execution_count": 21,
   "metadata": {
    "collapsed": false,
    "jupyter": {
     "outputs_hidden": false
    }
   },
   "outputs": [
    {
     "data": {
      "image/png": "[encoded data removed]",
      "text/plain": [
       "<matplotlib.figure.Figure at 0x8f53e70>"
      ]
     },
     "metadata": {},
     "output_type": "display_data"
    }
   ],
   "source": [
    "fig, axes=plt.subplots(figsize=(10,10), nrows=2, ncols=2)\n",
    "axes[0][0].plot(olive_oil.palmitic, olive_oil.linolenic)\n",
    "axes[0][1].plot(olive_oil.palmitic, olive_oil.linolenic, '.')\n",
    "axes[1][0].scatter(olive_oil.palmitic, olive_oil.linolenic)\n",
    "axes[1][1].hist(olive_oil.palmitic)\n",
    "fig.tight_layout()"
   ]
  },
  {
   "cell_type": "code",
   "execution_count": 22,
   "metadata": {
    "collapsed": false,
    "jupyter": {
     "outputs_hidden": false
    }
   },
   "outputs": [
    {
     "data": {
      "text/html": [
       "<div style=\"max-height:1000px;max-width:1500px;overflow:auto;\">\n",
       "<table border=\"1\" class=\"dataframe\">\n",
       "  <thead>\n",
       "    <tr style=\"text-align: right;\">\n",
       "      <th></th>\n",
       "      <th></th>\n",
       "      <th>arachidic</th>\n",
       "      <th>area</th>\n",
       "      <th>eicosenoic</th>\n",
       "      <th>linoleic</th>\n",
       "      <th>linolenic</th>\n",
       "      <th>oleic</th>\n",
       "      <th>palmitic</th>\n",
       "      <th>palmitoleic</th>\n",
       "      <th>stearic</th>\n",
       "    </tr>\n",
       "    <tr>\n",
       "      <th>region</th>\n",
       "      <th></th>\n",
       "      <th></th>\n",
       "      <th></th>\n",
       "      <th></th>\n",
       "      <th></th>\n",
       "      <th></th>\n",
       "      <th></th>\n",
       "      <th></th>\n",
       "      <th></th>\n",
       "      <th></th>\n",
       "    </tr>\n",
       "  </thead>\n",
       "  <tbody>\n",
       "    <tr>\n",
       "      <th rowspan=\"8\" valign=\"top\">1</th>\n",
       "      <th>count</th>\n",
       "      <td> 323.000000</td>\n",
       "      <td> 323.000000</td>\n",
       "      <td> 323.000000</td>\n",
       "      <td> 323.000000</td>\n",
       "      <td> 323.000000</td>\n",
       "      <td> 323.000000</td>\n",
       "      <td> 323.000000</td>\n",
       "      <td> 323.000000</td>\n",
       "      <td> 323.000000</td>\n",
       "    </tr>\n",
       "    <tr>\n",
       "      <th>mean</th>\n",
       "      <td>   0.631176</td>\n",
       "      <td>   2.783282</td>\n",
       "      <td>   0.273220</td>\n",
       "      <td>  10.334985</td>\n",
       "      <td>   0.380650</td>\n",
       "      <td>  71.000093</td>\n",
       "      <td>  13.322879</td>\n",
       "      <td>   1.548019</td>\n",
       "      <td>   2.287740</td>\n",
       "    </tr>\n",
       "    <tr>\n",
       "      <th>std</th>\n",
       "      <td>   0.111644</td>\n",
       "      <td>   0.741054</td>\n",
       "      <td>   0.083915</td>\n",
       "      <td>   2.106730</td>\n",
       "      <td>   0.079727</td>\n",
       "      <td>   3.451431</td>\n",
       "      <td>   1.529349</td>\n",
       "      <td>   0.507237</td>\n",
       "      <td>   0.398709</td>\n",
       "    </tr>\n",
       "    <tr>\n",
       "      <th>min</th>\n",
       "      <td>   0.320000</td>\n",
       "      <td>   1.000000</td>\n",
       "      <td>   0.100000</td>\n",
       "      <td>   4.480000</td>\n",
       "      <td>   0.200000</td>\n",
       "      <td>  63.000000</td>\n",
       "      <td>   8.750000</td>\n",
       "      <td>   0.350000</td>\n",
       "      <td>   1.520000</td>\n",
       "    </tr>\n",
       "    <tr>\n",
       "      <th>25%</th>\n",
       "      <td>   0.560000</td>\n",
       "      <td>   2.500000</td>\n",
       "      <td>   0.220000</td>\n",
       "      <td>   8.555000</td>\n",
       "      <td>   0.320000</td>\n",
       "      <td>  68.830000</td>\n",
       "      <td>  12.680000</td>\n",
       "      <td>   1.215000</td>\n",
       "      <td>   2.015000</td>\n",
       "    </tr>\n",
       "    <tr>\n",
       "      <th>50%</th>\n",
       "      <td>   0.620000</td>\n",
       "      <td>   3.000000</td>\n",
       "      <td>   0.270000</td>\n",
       "      <td>  10.900000</td>\n",
       "      <td>   0.370000</td>\n",
       "      <td>  70.300000</td>\n",
       "      <td>  13.460000</td>\n",
       "      <td>   1.630000</td>\n",
       "      <td>   2.230000</td>\n",
       "    </tr>\n",
       "    <tr>\n",
       "      <th>75%</th>\n",
       "      <td>   0.690000</td>\n",
       "      <td>   3.000000</td>\n",
       "      <td>   0.320000</td>\n",
       "      <td>  12.025000</td>\n",
       "      <td>   0.440000</td>\n",
       "      <td>  72.835000</td>\n",
       "      <td>  14.190000</td>\n",
       "      <td>   1.850000</td>\n",
       "      <td>   2.495000</td>\n",
       "    </tr>\n",
       "    <tr>\n",
       "      <th>max</th>\n",
       "      <td>   1.020000</td>\n",
       "      <td>   4.000000</td>\n",
       "      <td>   0.580000</td>\n",
       "      <td>  14.620000</td>\n",
       "      <td>   0.740000</td>\n",
       "      <td>  81.130000</td>\n",
       "      <td>  17.530000</td>\n",
       "      <td>   2.800000</td>\n",
       "      <td>   3.750000</td>\n",
       "    </tr>\n",
       "    <tr>\n",
       "      <th rowspan=\"8\" valign=\"top\">2</th>\n",
       "      <th>count</th>\n",
       "      <td>  98.000000</td>\n",
       "      <td>  98.000000</td>\n",
       "      <td>  98.000000</td>\n",
       "      <td>  98.000000</td>\n",
       "      <td>  98.000000</td>\n",
       "      <td>  98.000000</td>\n",
       "      <td>  98.000000</td>\n",
       "      <td>  98.000000</td>\n",
       "      <td>  98.000000</td>\n",
       "    </tr>\n",
       "    <tr>\n",
       "      <th>mean</th>\n",
       "      <td>   0.731735</td>\n",
       "      <td>   5.336735</td>\n",
       "      <td>   0.019388</td>\n",
       "      <td>  11.965306</td>\n",
       "      <td>   0.270918</td>\n",
       "      <td>  72.680204</td>\n",
       "      <td>  11.113469</td>\n",
       "      <td>   0.967449</td>\n",
       "      <td>   2.261837</td>\n",
       "    </tr>\n",
       "    <tr>\n",
       "      <th>std</th>\n",
       "      <td>   0.118826</td>\n",
       "      <td>   0.475023</td>\n",
       "      <td>   0.007436</td>\n",
       "      <td>   1.072336</td>\n",
       "      <td>   0.053844</td>\n",
       "      <td>   1.418783</td>\n",
       "      <td>   0.404111</td>\n",
       "      <td>   0.138514</td>\n",
       "      <td>   0.176363</td>\n",
       "    </tr>\n",
       "    <tr>\n",
       "      <th>min</th>\n",
       "      <td>   0.450000</td>\n",
       "      <td>   5.000000</td>\n",
       "      <td>   0.010000</td>\n",
       "      <td>  10.570000</td>\n",
       "      <td>   0.150000</td>\n",
       "      <td>  68.820000</td>\n",
       "      <td>  10.300000</td>\n",
       "      <td>   0.350000</td>\n",
       "      <td>   1.990000</td>\n",
       "    </tr>\n",
       "    <tr>\n",
       "      <th>25%</th>\n",
       "      <td>   0.660000</td>\n",
       "      <td>   5.000000</td>\n",
       "      <td>   0.010000</td>\n",
       "      <td>  11.122500</td>\n",
       "      <td>   0.230000</td>\n",
       "      <td>  71.372500</td>\n",
       "      <td>  10.852500</td>\n",
       "      <td>   0.882500</td>\n",
       "      <td>   2.120000</td>\n",
       "    </tr>\n",
       "    <tr>\n",
       "      <th>50%</th>\n",
       "      <td>   0.720000</td>\n",
       "      <td>   5.000000</td>\n",
       "      <td>   0.020000</td>\n",
       "      <td>  11.465000</td>\n",
       "      <td>   0.270000</td>\n",
       "      <td>  73.255000</td>\n",
       "      <td>  11.075000</td>\n",
       "      <td>   0.960000</td>\n",
       "      <td>   2.220000</td>\n",
       "    </tr>\n",
       "    <tr>\n",
       "      <th>75%</th>\n",
       "      <td>   0.810000</td>\n",
       "      <td>   6.000000</td>\n",
       "      <td>   0.020000</td>\n",
       "      <td>  13.065000</td>\n",
       "      <td>   0.300000</td>\n",
       "      <td>  73.810000</td>\n",
       "      <td>  11.372500</td>\n",
       "      <td>   1.040000</td>\n",
       "      <td>   2.395000</td>\n",
       "    </tr>\n",
       "    <tr>\n",
       "      <th>max</th>\n",
       "      <td>   1.050000</td>\n",
       "      <td>   6.000000</td>\n",
       "      <td>   0.030000</td>\n",
       "      <td>  14.700000</td>\n",
       "      <td>   0.430000</td>\n",
       "      <td>  74.390000</td>\n",
       "      <td>  12.130000</td>\n",
       "      <td>   1.350000</td>\n",
       "      <td>   2.720000</td>\n",
       "    </tr>\n",
       "    <tr>\n",
       "      <th rowspan=\"4\" valign=\"top\">3</th>\n",
       "      <th>count</th>\n",
       "      <td> 151.000000</td>\n",
       "      <td> 151.000000</td>\n",
       "      <td> 151.000000</td>\n",
       "      <td> 151.000000</td>\n",
       "      <td> 151.000000</td>\n",
       "      <td> 151.000000</td>\n",
       "      <td> 151.000000</td>\n",
       "      <td> 151.000000</td>\n",
       "      <td> 151.000000</td>\n",
       "    </tr>\n",
       "    <tr>\n",
       "      <th>mean</th>\n",
       "      <td>   0.375762</td>\n",
       "      <td>   8.006623</td>\n",
       "      <td>   0.019735</td>\n",
       "      <td>   7.270331</td>\n",
       "      <td>   0.217881</td>\n",
       "      <td>  77.930530</td>\n",
       "      <td>  10.948013</td>\n",
       "      <td>   0.837351</td>\n",
       "      <td>   2.308013</td>\n",
       "    </tr>\n",
       "    <tr>\n",
       "      <th>std</th>\n",
       "      <td>   0.293586</td>\n",
       "      <td>   0.820542</td>\n",
       "      <td>   0.007298</td>\n",
       "      <td>   1.431226</td>\n",
       "      <td>   0.168865</td>\n",
       "      <td>   1.648155</td>\n",
       "      <td>   0.825635</td>\n",
       "      <td>   0.264388</td>\n",
       "      <td>   0.389560</td>\n",
       "    </tr>\n",
       "    <tr>\n",
       "      <th>min</th>\n",
       "      <td>   0.000000</td>\n",
       "      <td>   7.000000</td>\n",
       "      <td>   0.010000</td>\n",
       "      <td>   5.100000</td>\n",
       "      <td>   0.000000</td>\n",
       "      <td>  73.400000</td>\n",
       "      <td>   6.100000</td>\n",
       "      <td>   0.150000</td>\n",
       "      <td>   1.700000</td>\n",
       "    </tr>\n",
       "  </tbody>\n",
       "</table>\n",
       "</div>"
      ],
      "text/plain": [
       "               arachidic        area  eicosenoic    linoleic   linolenic       oleic    palmitic  palmitoleic     stearic\n",
       "region                                                                                                                   \n",
       "1      count  323.000000  323.000000  323.000000  323.000000  323.000000  323.000000  323.000000   323.000000  323.000000\n",
       "       mean     0.631176    2.783282    0.273220   10.334985    0.380650   71.000093   13.322879     1.548019    2.287740\n",
       "       std      0.111644    0.741054    0.083915    2.106730    0.079727    3.451431    1.529349     0.507237    0.398709\n",
       "       min      0.320000    1.000000    0.100000    4.480000    0.200000   63.000000    8.750000     0.350000    1.520000\n",
       "       25%      0.560000    2.500000    0.220000    8.555000    0.320000   68.830000   12.680000     1.215000    2.015000\n",
       "       50%      0.620000    3.000000    0.270000   10.900000    0.370000   70.300000   13.460000     1.630000    2.230000\n",
       "       75%      0.690000    3.000000    0.320000   12.025000    0.440000   72.835000   14.190000     1.850000    2.495000\n",
       "       max      1.020000    4.000000    0.580000   14.620000    0.740000   81.130000   17.530000     2.800000    3.750000\n",
       "2      count   98.000000   98.000000   98.000000   98.000000   98.000000   98.000000   98.000000    98.000000   98.000000\n",
       "       mean     0.731735    5.336735    0.019388   11.965306    0.270918   72.680204   11.113469     0.967449    2.261837\n",
       "       std      0.118826    0.475023    0.007436    1.072336    0.053844    1.418783    0.404111     0.138514    0.176363\n",
       "       min      0.450000    5.000000    0.010000   10.570000    0.150000   68.820000   10.300000     0.350000    1.990000\n",
       "       25%      0.660000    5.000000    0.010000   11.122500    0.230000   71.372500   10.852500     0.882500    2.120000\n",
       "       50%      0.720000    5.000000    0.020000   11.465000    0.270000   73.255000   11.075000     0.960000    2.220000\n",
       "       75%      0.810000    6.000000    0.020000   13.065000    0.300000   73.810000   11.372500     1.040000    2.395000\n",
       "       max      1.050000    6.000000    0.030000   14.700000    0.430000   74.390000   12.130000     1.350000    2.720000\n",
       "3      count  151.000000  151.000000  151.000000  151.000000  151.000000  151.000000  151.000000   151.000000  151.000000\n",
       "       mean     0.375762    8.006623    0.019735    7.270331    0.217881   77.930530   10.948013     0.837351    2.308013\n",
       "       std      0.293586    0.820542    0.007298    1.431226    0.168865    1.648155    0.825635     0.264388    0.389560\n",
       "       min      0.000000    7.000000    0.010000    5.100000    0.000000   73.400000    6.100000     0.150000    1.700000"
      ]
     },
     "execution_count": 22,
     "metadata": {},
     "output_type": "execute_result"
    }
   ],
   "source": [
    "region_groupby = olive_oil.groupby('region')\n",
    "grp_reg=region_groupby.describe()\n",
    "grp_reg.head(20)"
   ]
  },
  {
   "cell_type": "code",
   "execution_count": 23,
   "metadata": {
    "collapsed": false,
    "jupyter": {
     "outputs_hidden": false
    }
   },
   "outputs": [
    {
     "data": {
      "text/html": [
       "<div style=\"max-height:1000px;max-width:1500px;overflow:auto;\">\n",
       "<table border=\"1\" class=\"dataframe\">\n",
       "  <thead>\n",
       "    <tr style=\"text-align: right;\">\n",
       "      <th></th>\n",
       "      <th>area</th>\n",
       "      <th>palmitic</th>\n",
       "      <th>palmitoleic</th>\n",
       "      <th>stearic</th>\n",
       "      <th>oleic</th>\n",
       "      <th>linoleic</th>\n",
       "      <th>linolenic</th>\n",
       "      <th>arachidic</th>\n",
       "      <th>eicosenoic</th>\n",
       "    </tr>\n",
       "    <tr>\n",
       "      <th>region</th>\n",
       "      <th></th>\n",
       "      <th></th>\n",
       "      <th></th>\n",
       "      <th></th>\n",
       "      <th></th>\n",
       "      <th></th>\n",
       "      <th></th>\n",
       "      <th></th>\n",
       "      <th></th>\n",
       "    </tr>\n",
       "  </thead>\n",
       "  <tbody>\n",
       "    <tr>\n",
       "      <th>1</th>\n",
       "      <td> 0.741054</td>\n",
       "      <td> 1.529349</td>\n",
       "      <td> 0.507237</td>\n",
       "      <td> 0.398709</td>\n",
       "      <td> 3.451431</td>\n",
       "      <td> 2.106730</td>\n",
       "      <td> 0.079727</td>\n",
       "      <td> 0.111644</td>\n",
       "      <td> 0.083915</td>\n",
       "    </tr>\n",
       "    <tr>\n",
       "      <th>2</th>\n",
       "      <td> 0.475023</td>\n",
       "      <td> 0.404111</td>\n",
       "      <td> 0.138514</td>\n",
       "      <td> 0.176363</td>\n",
       "      <td> 1.418783</td>\n",
       "      <td> 1.072336</td>\n",
       "      <td> 0.053844</td>\n",
       "      <td> 0.118826</td>\n",
       "      <td> 0.007436</td>\n",
       "    </tr>\n",
       "    <tr>\n",
       "      <th>3</th>\n",
       "      <td> 0.820542</td>\n",
       "      <td> 0.825635</td>\n",
       "      <td> 0.264388</td>\n",
       "      <td> 0.389560</td>\n",
       "      <td> 1.648155</td>\n",
       "      <td> 1.431226</td>\n",
       "      <td> 0.168865</td>\n",
       "      <td> 0.293586</td>\n",
       "      <td> 0.007298</td>\n",
       "    </tr>\n",
       "  </tbody>\n",
       "</table>\n",
       "</div>"
      ],
      "text/plain": [
       "            area  palmitic  palmitoleic   stearic     oleic  linoleic  linolenic  arachidic  eicosenoic\n",
       "region                                                                                                 \n",
       "1       0.741054  1.529349     0.507237  0.398709  3.451431  2.106730   0.079727   0.111644    0.083915\n",
       "2       0.475023  0.404111     0.138514  0.176363  1.418783  1.072336   0.053844   0.118826    0.007436\n",
       "3       0.820542  0.825635     0.264388  0.389560  1.648155  1.431226   0.168865   0.293586    0.007298"
      ]
     },
     "execution_count": 23,
     "metadata": {},
     "output_type": "execute_result"
    }
   ],
   "source": [
    "olstd = olive_oil.groupby('region').std()\n",
    "olstd"
   ]
  },
  {
   "cell_type": "code",
   "execution_count": 24,
   "metadata": {
    "collapsed": false,
    "jupyter": {
     "outputs_hidden": false
    }
   },
   "outputs": [
    {
     "data": {
      "text/html": [
       "<div style=\"max-height:1000px;max-width:1500px;overflow:auto;\">\n",
       "<table border=\"1\" class=\"dataframe\">\n",
       "  <thead>\n",
       "    <tr style=\"text-align: right;\">\n",
       "      <th></th>\n",
       "      <th>area</th>\n",
       "      <th>palmitic</th>\n",
       "      <th>palmitoleic</th>\n",
       "      <th>stearic</th>\n",
       "      <th>oleic</th>\n",
       "      <th>linoleic</th>\n",
       "      <th>linolenic</th>\n",
       "      <th>arachidic</th>\n",
       "      <th>eicosenoic</th>\n",
       "    </tr>\n",
       "    <tr>\n",
       "      <th>region</th>\n",
       "      <th></th>\n",
       "      <th></th>\n",
       "      <th></th>\n",
       "      <th></th>\n",
       "      <th></th>\n",
       "      <th></th>\n",
       "      <th></th>\n",
       "      <th></th>\n",
       "      <th></th>\n",
       "    </tr>\n",
       "  </thead>\n",
       "  <tbody>\n",
       "    <tr>\n",
       "      <th>1</th>\n",
       "      <td> 2.783282</td>\n",
       "      <td> 13.322879</td>\n",
       "      <td> 1.548019</td>\n",
       "      <td> 2.287740</td>\n",
       "      <td> 71.000093</td>\n",
       "      <td> 10.334985</td>\n",
       "      <td> 0.380650</td>\n",
       "      <td> 0.631176</td>\n",
       "      <td> 0.273220</td>\n",
       "    </tr>\n",
       "    <tr>\n",
       "      <th>2</th>\n",
       "      <td> 5.336735</td>\n",
       "      <td> 11.113469</td>\n",
       "      <td> 0.967449</td>\n",
       "      <td> 2.261837</td>\n",
       "      <td> 72.680204</td>\n",
       "      <td> 11.965306</td>\n",
       "      <td> 0.270918</td>\n",
       "      <td> 0.731735</td>\n",
       "      <td> 0.019388</td>\n",
       "    </tr>\n",
       "    <tr>\n",
       "      <th>3</th>\n",
       "      <td> 8.006623</td>\n",
       "      <td> 10.948013</td>\n",
       "      <td> 0.837351</td>\n",
       "      <td> 2.308013</td>\n",
       "      <td> 77.930530</td>\n",
       "      <td>  7.270331</td>\n",
       "      <td> 0.217881</td>\n",
       "      <td> 0.375762</td>\n",
       "      <td> 0.019735</td>\n",
       "    </tr>\n",
       "  </tbody>\n",
       "</table>\n",
       "</div>"
      ],
      "text/plain": [
       "            area   palmitic  palmitoleic   stearic      oleic   linoleic  linolenic  arachidic  eicosenoic\n",
       "region                                                                                                    \n",
       "1       2.783282  13.322879     1.548019  2.287740  71.000093  10.334985   0.380650   0.631176    0.273220\n",
       "2       5.336735  11.113469     0.967449  2.261837  72.680204  11.965306   0.270918   0.731735    0.019388\n",
       "3       8.006623  10.948013     0.837351  2.308013  77.930530   7.270331   0.217881   0.375762    0.019735"
      ]
     },
     "execution_count": 24,
     "metadata": {},
     "output_type": "execute_result"
    }
   ],
   "source": [
    "olmean=region_groupby.aggregate(np.mean)\n",
    "olmean.head()"
   ]
  },
  {
   "cell_type": "code",
   "execution_count": 25,
   "metadata": {
    "collapsed": false,
    "jupyter": {
     "outputs_hidden": false
    }
   },
   "outputs": [
    {
     "data": {
      "text/html": [
       "<div style=\"max-height:1000px;max-width:1500px;overflow:auto;\">\n",
       "<table border=\"1\" class=\"dataframe\">\n",
       "  <thead>\n",
       "    <tr style=\"text-align: right;\">\n",
       "      <th></th>\n",
       "      <th>area</th>\n",
       "      <th>palmitic_std</th>\n",
       "      <th>palmitoleic_std</th>\n",
       "      <th>stearic_std</th>\n",
       "      <th>oleic_std</th>\n",
       "      <th>linoleic_std</th>\n",
       "      <th>linolenic_std</th>\n",
       "      <th>arachidic_std</th>\n",
       "      <th>eicosenoic_std</th>\n",
       "    </tr>\n",
       "    <tr>\n",
       "      <th>region</th>\n",
       "      <th></th>\n",
       "      <th></th>\n",
       "      <th></th>\n",
       "      <th></th>\n",
       "      <th></th>\n",
       "      <th></th>\n",
       "      <th></th>\n",
       "      <th></th>\n",
       "      <th></th>\n",
       "    </tr>\n",
       "  </thead>\n",
       "  <tbody>\n",
       "    <tr>\n",
       "      <th>1</th>\n",
       "      <td> 0.741054</td>\n",
       "      <td> 1.529349</td>\n",
       "      <td> 0.507237</td>\n",
       "      <td> 0.398709</td>\n",
       "      <td> 3.451431</td>\n",
       "      <td> 2.106730</td>\n",
       "      <td> 0.079727</td>\n",
       "      <td> 0.111644</td>\n",
       "      <td> 0.083915</td>\n",
       "    </tr>\n",
       "    <tr>\n",
       "      <th>2</th>\n",
       "      <td> 0.475023</td>\n",
       "      <td> 0.404111</td>\n",
       "      <td> 0.138514</td>\n",
       "      <td> 0.176363</td>\n",
       "      <td> 1.418783</td>\n",
       "      <td> 1.072336</td>\n",
       "      <td> 0.053844</td>\n",
       "      <td> 0.118826</td>\n",
       "      <td> 0.007436</td>\n",
       "    </tr>\n",
       "    <tr>\n",
       "      <th>3</th>\n",
       "      <td> 0.820542</td>\n",
       "      <td> 0.825635</td>\n",
       "      <td> 0.264388</td>\n",
       "      <td> 0.389560</td>\n",
       "      <td> 1.648155</td>\n",
       "      <td> 1.431226</td>\n",
       "      <td> 0.168865</td>\n",
       "      <td> 0.293586</td>\n",
       "      <td> 0.007298</td>\n",
       "    </tr>\n",
       "  </tbody>\n",
       "</table>\n",
       "</div>"
      ],
      "text/plain": [
       "            area  palmitic_std  palmitoleic_std  stearic_std  oleic_std  linoleic_std  linolenic_std  arachidic_std  eicosenoic_std\n",
       "region                                                                                                                             \n",
       "1       0.741054      1.529349         0.507237     0.398709   3.451431      2.106730       0.079727       0.111644        0.083915\n",
       "2       0.475023      0.404111         0.138514     0.176363   1.418783      1.072336       0.053844       0.118826        0.007436\n",
       "3       0.820542      0.825635         0.264388     0.389560   1.648155      1.431226       0.168865       0.293586        0.007298"
      ]
     },
     "execution_count": 25,
     "metadata": {},
     "output_type": "execute_result"
    }
   ],
   "source": [
    "renamedict_std={k:k+\"_std\" for k in list_of_acids}\n",
    "renamedict_mean={k:k+\"_mean\" for k in list_of_acids}\n",
    "olstd.rename(columns=renamedict_std,inplace=True)\n",
    "olmean.rename(columns=renamedict_mean,inplace=True) \n",
    "olstd.head()"
   ]
  },
  {
   "cell_type": "code",
   "execution_count": 26,
   "metadata": {
    "collapsed": false,
    "jupyter": {
     "outputs_hidden": false
    }
   },
   "outputs": [
    {
     "data": {
      "text/html": [
       "<div style=\"max-height:1000px;max-width:1500px;overflow:auto;\">\n",
       "<table border=\"1\" class=\"dataframe\">\n",
       "  <thead>\n",
       "    <tr style=\"text-align: right;\">\n",
       "      <th></th>\n",
       "      <th>palmitic_mean</th>\n",
       "      <th>palmitic_std</th>\n",
       "    </tr>\n",
       "    <tr>\n",
       "      <th>region</th>\n",
       "      <th></th>\n",
       "      <th></th>\n",
       "    </tr>\n",
       "  </thead>\n",
       "  <tbody>\n",
       "    <tr>\n",
       "      <th>1</th>\n",
       "      <td> 13.322879</td>\n",
       "      <td> 1.529349</td>\n",
       "    </tr>\n",
       "    <tr>\n",
       "      <th>2</th>\n",
       "      <td> 11.113469</td>\n",
       "      <td> 0.404111</td>\n",
       "    </tr>\n",
       "    <tr>\n",
       "      <th>3</th>\n",
       "      <td> 10.948013</td>\n",
       "      <td> 0.825635</td>\n",
       "    </tr>\n",
       "  </tbody>\n",
       "</table>\n",
       "</div>"
      ],
      "text/plain": [
       "        palmitic_mean  palmitic_std\n",
       "region                             \n",
       "1           13.322879      1.529349\n",
       "2           11.113469      0.404111\n",
       "3           10.948013      0.825635"
      ]
     },
     "execution_count": 26,
     "metadata": {},
     "output_type": "execute_result"
    }
   ],
   "source": [
    "olpalmiticmean = olmean[['palmitic_mean']] \n",
    "olpalmiticstd = olstd[['palmitic_std']] \n",
    "newolbyregion=olpalmiticmean.join(olpalmiticstd)\n",
    "newolbyregion"
   ]
  },
  {
   "cell_type": "code",
   "execution_count": 27,
   "metadata": {
    "collapsed": false,
    "jupyter": {
     "outputs_hidden": false
    }
   },
   "outputs": [
    {
     "data": {
      "text/plain": [
       "0     False\n",
       "1     False\n",
       "2     False\n",
       "3     False\n",
       "4     False\n",
       "5     False\n",
       "6     False\n",
       "7     False\n",
       "8     False\n",
       "9     False\n",
       "10    False\n",
       "11    False\n",
       "12    False\n",
       "13    False\n",
       "14    False\n",
       "...\n",
       "557    True\n",
       "558    True\n",
       "559    True\n",
       "560    True\n",
       "561    True\n",
       "562    True\n",
       "563    True\n",
       "564    True\n",
       "565    True\n",
       "566    True\n",
       "567    True\n",
       "568    True\n",
       "569    True\n",
       "570    True\n",
       "571    True\n",
       "Name: eicosenoic, Length: 572, dtype: bool"
      ]
     },
     "execution_count": 27,
     "metadata": {},
     "output_type": "execute_result"
    }
   ],
   "source": [
    "eico=(olive_oil.eicosenoic < 0.05)\n",
    "eico"
   ]
  },
  {
   "cell_type": "code",
   "execution_count": 28,
   "metadata": {
    "collapsed": false,
    "jupyter": {
     "outputs_hidden": false
    }
   },
   "outputs": [
    {
     "data": {
      "text/html": [
       "<div style=\"max-height:1000px;max-width:1500px;overflow:auto;\">\n",
       "<table border=\"1\" class=\"dataframe\">\n",
       "  <thead>\n",
       "    <tr style=\"text-align: right;\">\n",
       "      <th></th>\n",
       "      <th>Bigdata</th>\n",
       "      <th>Data science</th>\n",
       "      <th>Examiner</th>\n",
       "    </tr>\n",
       "  </thead>\n",
       "  <tbody>\n",
       "    <tr>\n",
       "      <th>0</th>\n",
       "      <td> 12</td>\n",
       "      <td>    L</td>\n",
       "      <td> 0.9</td>\n",
       "    </tr>\n",
       "    <tr>\n",
       "      <th>1</th>\n",
       "      <td> 34</td>\n",
       "      <td>    M</td>\n",
       "      <td> 0.8</td>\n",
       "    </tr>\n",
       "    <tr>\n",
       "      <th>2</th>\n",
       "      <td> 99</td>\n",
       "      <td> None</td>\n",
       "      <td> 0.7</td>\n",
       "    </tr>\n",
       "    <tr>\n",
       "      <th>3</th>\n",
       "      <td> 45</td>\n",
       "      <td>    c</td>\n",
       "      <td> 0.6</td>\n",
       "    </tr>\n",
       "    <tr>\n",
       "      <th>4</th>\n",
       "      <td> 13</td>\n",
       "      <td>    a</td>\n",
       "      <td> NaN</td>\n",
       "    </tr>\n",
       "  </tbody>\n",
       "</table>\n",
       "</div>"
      ],
      "text/plain": [
       "   Bigdata Data science  Examiner\n",
       "0       12            L       0.9\n",
       "1       34            M       0.8\n",
       "2       99         None       0.7\n",
       "3       45            c       0.6\n",
       "4       13            a       NaN"
      ]
     },
     "execution_count": 28,
     "metadata": {},
     "output_type": "execute_result"
    }
   ],
   "source": [
    "new_data = pd.DataFrame({'Bigdata' : [12, 34, 99, 45, 13], \\\n",
    "'Examiner' : [0.9, 0.8, 0.7, 0.6, None], 'Data science' \\\n",
    ": ['L', 'M', None, 'c', 'a']})\n",
    "new_data"
   ]
  },
  {
   "cell_type": "code",
   "execution_count": 29,
   "metadata": {
    "collapsed": false,
    "jupyter": {
     "outputs_hidden": false
    }
   },
   "outputs": [
    {
     "data": {
      "text/html": [
       "<div style=\"max-height:1000px;max-width:1500px;overflow:auto;\">\n",
       "<table border=\"1\" class=\"dataframe\">\n",
       "  <thead>\n",
       "    <tr style=\"text-align: right;\">\n",
       "      <th></th>\n",
       "      <th>Bigdata</th>\n",
       "      <th>Data science</th>\n",
       "      <th>Examiner</th>\n",
       "    </tr>\n",
       "  </thead>\n",
       "  <tbody>\n",
       "    <tr>\n",
       "      <th>0</th>\n",
       "      <td> 12</td>\n",
       "      <td> L</td>\n",
       "      <td> 0.9</td>\n",
       "    </tr>\n",
       "    <tr>\n",
       "      <th>1</th>\n",
       "      <td> 34</td>\n",
       "      <td> M</td>\n",
       "      <td> 0.8</td>\n",
       "    </tr>\n",
       "    <tr>\n",
       "      <th>3</th>\n",
       "      <td> 45</td>\n",
       "      <td> c</td>\n",
       "      <td> 0.6</td>\n",
       "    </tr>\n",
       "  </tbody>\n",
       "</table>\n",
       "</div>"
      ],
      "text/plain": [
       "   Bigdata Data science  Examiner\n",
       "0       12            L       0.9\n",
       "1       34            M       0.8\n",
       "3       45            c       0.6"
      ]
     },
     "execution_count": 29,
     "metadata": {},
     "output_type": "execute_result"
    }
   ],
   "source": [
    "new_data.dropna()"
   ]
  },
  {
   "cell_type": "code",
   "execution_count": 30,
   "metadata": {
    "collapsed": false,
    "jupyter": {
     "outputs_hidden": false
    }
   },
   "outputs": [
    {
     "data": {
      "text/html": [
       "<div style=\"max-height:1000px;max-width:1500px;overflow:auto;\">\n",
       "<table border=\"1\" class=\"dataframe\">\n",
       "  <thead>\n",
       "    <tr style=\"text-align: right;\">\n",
       "      <th></th>\n",
       "      <th>0</th>\n",
       "    </tr>\n",
       "  </thead>\n",
       "  <tbody>\n",
       "    <tr>\n",
       "      <th>0</th>\n",
       "      <td> 1.0</td>\n",
       "    </tr>\n",
       "    <tr>\n",
       "      <th>1</th>\n",
       "      <td> NaN</td>\n",
       "    </tr>\n",
       "    <tr>\n",
       "      <th>2</th>\n",
       "      <td> 3.5</td>\n",
       "    </tr>\n",
       "    <tr>\n",
       "      <th>3</th>\n",
       "      <td> NaN</td>\n",
       "    </tr>\n",
       "    <tr>\n",
       "      <th>4</th>\n",
       "      <td> 7.0</td>\n",
       "    </tr>\n",
       "  </tbody>\n",
       "</table>\n",
       "</div>"
      ],
      "text/plain": [
       "     0\n",
       "0  1.0\n",
       "1  NaN\n",
       "2  3.5\n",
       "3  NaN\n",
       "4  7.0"
      ]
     },
     "execution_count": 30,
     "metadata": {},
     "output_type": "execute_result"
    }
   ],
   "source": [
    "data = pd.DataFrame([1., None, 3.5, None, 7])\n",
    "data"
   ]
  },
  {
   "cell_type": "code",
   "execution_count": 31,
   "metadata": {
    "collapsed": false,
    "jupyter": {
     "outputs_hidden": false
    }
   },
   "outputs": [
    {
     "data": {
      "text/html": [
       "<div style=\"max-height:1000px;max-width:1500px;overflow:auto;\">\n",
       "<table border=\"1\" class=\"dataframe\">\n",
       "  <thead>\n",
       "    <tr style=\"text-align: right;\">\n",
       "      <th></th>\n",
       "      <th>0</th>\n",
       "    </tr>\n",
       "  </thead>\n",
       "  <tbody>\n",
       "    <tr>\n",
       "      <th>0</th>\n",
       "      <td> 1.000000</td>\n",
       "    </tr>\n",
       "    <tr>\n",
       "      <th>1</th>\n",
       "      <td> 3.833333</td>\n",
       "    </tr>\n",
       "    <tr>\n",
       "      <th>2</th>\n",
       "      <td> 3.500000</td>\n",
       "    </tr>\n",
       "    <tr>\n",
       "      <th>3</th>\n",
       "      <td> 3.833333</td>\n",
       "    </tr>\n",
       "    <tr>\n",
       "      <th>4</th>\n",
       "      <td> 7.000000</td>\n",
       "    </tr>\n",
       "  </tbody>\n",
       "</table>\n",
       "</div>"
      ],
      "text/plain": [
       "          0\n",
       "0  1.000000\n",
       "1  3.833333\n",
       "2  3.500000\n",
       "3  3.833333\n",
       "4  7.000000"
      ]
     },
     "execution_count": 31,
     "metadata": {},
     "output_type": "execute_result"
    }
   ],
   "source": [
    "mean = data.mean()\n",
    "data.fillna(mean)"
   ]
  },
  {
   "cell_type": "code",
   "execution_count": 31,
   "metadata": {
    "collapsed": false,
    "jupyter": {
     "outputs_hidden": false
    }
   },
   "outputs": [],
   "source": []
  },
  {
   "cell_type": "code",
   "execution_count": 31,
   "metadata": {
    "collapsed": false,
    "jupyter": {
     "outputs_hidden": false
    }
   },
   "outputs": [],
   "source": []
  }
 ],
 "metadata": {
  "kernelspec": {
   "display_name": "Python 3 (ipykernel)",
   "language": "python",
   "name": "python3"
  },
  "language_info": {
   "codemirror_mode": {
    "name": "ipython",
    "version": 3
   },
   "file_extension": ".py",
   "mimetype": "text/x-python",
   "name": "python",
   "nbconvert_exporter": "python",
   "pygments_lexer": "ipython3",
   "version": "3.9.15"
  }
 },
 "nbformat": 4,
 "nbformat_minor": 4
}
