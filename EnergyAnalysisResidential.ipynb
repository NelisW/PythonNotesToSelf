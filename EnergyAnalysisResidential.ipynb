{
 "cells": [
  {
   "cell_type": "markdown",
   "metadata": {},
   "source": [
    "#Energy Analysis: Willem Road 13"
   ]
  },
  {
   "cell_type": "code",
   "execution_count": 10,
   "metadata": {
    "collapsed": true
   },
   "outputs": [],
   "source": [
    "import numpy as np\n",
    "import scipy as sp\n",
    "import pandas as pd\n",
    "import pyradi.ryplot as ryplot\n",
    "import os.path\n",
    "from scipy.optimize import curve_fit\n",
    "import datetime\n",
    "\n",
    "%matplotlib inline\n",
    "\n",
    "# %reload_ext autoreload\n",
    "# %autoreload 2\n",
    "\n",
    "import pyradi.ryplot as ryplot\n",
    "import pyradi.ryplanck as ryplanck\n",
    "import pyradi.ryfiles as ryfiles\n",
    "import pyradi.rymodtran as rymodtran\n",
    "\n",
    "# import xlsxwriter\n",
    "\n",
    "from IPython.display import HTML\n",
    "from IPython.display import Image\n",
    "from IPython.display import display\n",
    "from IPython.display import FileLink, FileLinks\n",
    "\n",
    "#make pngs at 150 dpi\n",
    "import matplotlib as mpl\n",
    "mpl.rc(\"savefig\", dpi=150)\n",
    "mpl.rc('figure', figsize=(10,8))\n",
    "# %config InlineBackend.figure_format = 'svg'\n",
    "\n",
    "pd.set_option('display.max_columns', 80)\n",
    "pd.set_option('display.width', 200)\n",
    "pd.set_option('display.max_colwidth', 150)"
   ]
  },
  {
   "cell_type": "code",
   "execution_count": 37,
   "metadata": {
    "collapsed": false,
    "scrolled": true
   },
   "outputs": [
    {
     "name": "stdout",
     "output_type": "stream",
     "text": [
      "                  DateTime    Wm     kWh\n",
      "7830   2015-06-06 10:30:00  3048  182.88\n",
      "7831   2015-06-06 10:31:00   674   40.44\n",
      "7832   2015-06-06 10:32:00   541   32.46\n",
      "7833   2015-06-06 10:33:00   448   26.88\n",
      "7834   2015-06-06 10:34:00   362   21.72\n",
      "7835   2015-06-06 10:35:00   366   21.96\n",
      "7836   2015-06-06 10:36:00   355   21.30\n",
      "7837   2015-06-06 10:37:00   359   21.54\n",
      "7838   2015-06-06 10:38:00   360   21.60\n",
      "7839   2015-06-06 10:39:00   375   22.50\n",
      "7840   2015-06-06 10:40:00  2211  132.66\n",
      "7841   2015-06-06 10:41:00  2248  134.88\n",
      "7842   2015-06-06 10:42:00  2238  134.28\n",
      "7843   2015-06-06 10:43:00  1848  110.88\n",
      "7844   2015-06-06 10:44:00   357   21.42\n",
      "7845   2015-06-06 10:45:00  1740  104.40\n",
      "7846   2015-06-06 10:46:00  1395   83.70\n",
      "7847   2015-06-06 10:47:00  1388   83.28\n",
      "7848   2015-06-06 10:48:00  1621   97.26\n",
      "7849   2015-06-06 10:49:00  1637   98.22\n",
      "7850   2015-06-06 10:50:00  1626   97.56\n",
      "7851   2015-06-06 10:51:00  1628   97.68\n",
      "7852   2015-06-06 10:52:00  1599   95.94\n",
      "7853   2015-06-06 10:53:00  1413   84.78\n",
      "7854   2015-06-06 10:54:00   817   49.02\n",
      "7855   2015-06-06 10:55:00   817   49.02\n",
      "7856   2015-06-06 10:56:00   661   39.66\n",
      "7857   2015-06-06 10:57:00   661   39.66\n",
      "7858   2015-06-06 10:58:00   609   36.54\n",
      "7859   2015-06-06 10:59:00   626   37.56\n",
      "...                    ...   ...     ...\n",
      "22557  2015-06-16 15:57:00  1835  110.10\n",
      "22558  2015-06-16 15:58:00  2031  121.86\n",
      "22559  2015-06-16 15:59:00  1854  111.24\n",
      "22560  2015-06-16 16:00:00  1828  109.68\n",
      "22561  2015-06-16 16:01:00  2110  126.60\n",
      "22562  2015-06-16 16:02:00  2093  125.58\n",
      "22563  2015-06-16 16:03:00  2173  130.38\n",
      "22564  2015-06-16 16:04:00  2314  138.84\n",
      "22565  2015-06-16 16:05:00  2183  130.98\n",
      "22566  2015-06-16 16:06:00  2201  132.06\n",
      "22567  2015-06-16 16:07:00  2361  141.66\n",
      "22568  2015-06-16 16:08:00  3880  232.80\n",
      "22569  2015-06-16 16:09:00  4026  241.56\n",
      "22570  2015-06-16 16:10:00  3992  239.52\n",
      "22571  2015-06-16 16:11:00  3849  230.94\n",
      "22572  2015-06-16 16:12:00  3895  233.70\n",
      "22573  2015-06-16 16:13:00  3858  231.48\n",
      "22574  2015-06-16 16:14:00  3785  227.10\n",
      "22575  2015-06-16 16:15:00  3827  229.62\n",
      "22576  2015-06-16 16:16:00  3836  230.16\n",
      "22577  2015-06-16 16:17:00  3226  193.56\n",
      "22578  2015-06-16 16:18:00  1665   99.90\n",
      "22579  2015-06-16 16:19:00  1483   88.98\n",
      "22580  2015-06-16 16:20:00  1505   90.30\n",
      "22581  2015-06-16 16:21:00  1911  114.66\n",
      "22582  2015-06-16 16:22:00  1533   91.98\n",
      "22583  2015-06-16 16:23:00  1270   76.20\n",
      "22584  2015-06-16 16:24:00  1433   85.98\n",
      "22585  2015-06-16 16:25:00  1160   69.60\n",
      "22586  2015-06-16 16:26:00  1401   84.06\n",
      "\n",
      "[14543 rows x 3 columns]\n"
     ]
    }
   ],
   "source": [
    "filename = 'data/201506.csv'\n",
    "df = pd.read_csv(filename)\n",
    "df.columns = ['DateTime','Wm']\n",
    "# df = df[pd.notnull(df['Wm'])]\n",
    "df = df[df.Wm.notnull()]\n",
    "df['kWh'] = df['Wm'] * 60. / 1000.\n",
    "# df['Date'] = datetime.datetime.strptime(df['DateTime'], '%Y-%m-%d')\n",
    "# df['Date'] = datetime.datetime.date(df['DateTime'])\n",
    "print(df)\n",
    "# print(type(df['DateTime']),type(df['Wm']))\n",
    "\n"
   ]
  },
  {
   "cell_type": "code",
   "execution_count": null,
   "metadata": {
    "collapsed": true
   },
   "outputs": [],
   "source": []
  }
 ],
 "metadata": {
  "kernelspec": {
   "display_name": "Python 2",
   "language": "python",
   "name": "python2"
  },
  "language_info": {
   "codemirror_mode": {
    "name": "ipython",
    "version": 2
   },
   "file_extension": ".py",
   "mimetype": "text/x-python",
   "name": "python",
   "nbconvert_exporter": "python",
   "pygments_lexer": "ipython2",
   "version": "2.7.8"
  }
 },
 "nbformat": 4,
 "nbformat_minor": 0
}
