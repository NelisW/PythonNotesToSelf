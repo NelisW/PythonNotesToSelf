{
 "cells": [
  {
   "cell_type": "code",
   "execution_count": null,
   "metadata": {
    "collapsed": true,
    "run_control": {
     "frozen": false,
     "read_only": false
    }
   },
   "outputs": [],
   "source": []
  },
  {
   "cell_type": "markdown",
   "metadata": {},
   "source": [
    "## Github repo\n",
    "\n",
    "https://github.com/enthought/mayavi\n",
    "\n",
    "https://github.com/prabhuramachandran/mayavi-tutorial\n",
    "\n",
    "https://github.com/prabhuramachandran/mayavi-workshop\n",
    "\n",
    "## Installation\n",
    "\n",
    "As of the latest release, i.e. 4.6.0 and above, if you are using Python 3.x and are on a 64 bit machine, installation via pip is the easiest and is as follows:\n",
    "\n",
    "    pip install mayavi\n",
    "\n",
    "    pip install PyQt5\n",
    "\n",
    "Thats it!\n",
    "\n",
    "If you are unable to do this, read the documentation above and find a way to install VTK and a suitable UI toolkit and then repeat the above.\n",
    "\n",
    "If you are interested in the jupyter notebook support as well, do the following (after ensuring that you have jupyter installed of course):\n",
    "\n",
    "    jupyter nbextension install --py mayavi --user\n",
    "    jupyter nbextension enable --py mayavi --user\n",
    "\n",
    "\n",
    "## Documentation\n",
    "\n",
    "More documentation is available in the online user manual or in docs directory of the sources. This includes a man page for the mayavi2 application, a users guide in HTML and PDF format and documentation for mlab.\n",
    "\n",
    "More documentation in the form of workshop/tutorial material is available here:\n",
    "\n",
    "    https://github.com/prabhuramachandran/mayavi-tutorial\n",
    "    https://github.com/prabhuramachandran/mayavi-workshop\n"
   ]
  },
  {
   "cell_type": "code",
   "execution_count": null,
   "metadata": {},
   "outputs": [],
   "source": [
    "import numpy as np\n",
    "from mayavi import mlab\n",
    "\n",
    "%gui qt5"
   ]
  },
  {
   "cell_type": "code",
   "execution_count": null,
   "metadata": {},
   "outputs": [],
   "source": [
    "mlab.test_contour3d()\n"
   ]
  },
  {
   "cell_type": "code",
   "execution_count": null,
   "metadata": {},
   "outputs": [],
   "source": [
    "mlab.test_contour3d??\n"
   ]
  },
  {
   "cell_type": "code",
   "execution_count": null,
   "metadata": {},
   "outputs": [],
   "source": [
    "t = np.linspace(0, 2*np.pi, 50)\n",
    "mlab.points3d??\n"
   ]
  },
  {
   "cell_type": "code",
   "execution_count": null,
   "metadata": {},
   "outputs": [],
   "source": [
    "%load solutions/02_helix.py"
   ]
  },
  {
   "cell_type": "code",
   "execution_count": null,
   "metadata": {
    "collapsed": true
   },
   "outputs": [],
   "source": []
  }
 ],
 "metadata": {
  "kernelspec": {
   "display_name": "Python 3",
   "language": "python",
   "name": "python3"
  },
  "language_info": {
   "codemirror_mode": {
    "name": "ipython",
    "version": 3
   },
   "file_extension": ".py",
   "mimetype": "text/x-python",
   "name": "python",
   "nbconvert_exporter": "python",
   "pygments_lexer": "ipython3",
   "version": "3.6.1"
  }
 },
 "nbformat": 4,
 "nbformat_minor": 2
}
