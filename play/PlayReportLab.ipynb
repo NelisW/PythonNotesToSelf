{
 "cells": [
  {
   "cell_type": "markdown",
   "metadata": {},
   "source": [
    "<http://www.reportlab.com/opensource/>  \n",
    "<https://pypi.python.org/pypi/reportlab/>  \n"
   ]
  },
  {
   "cell_type": "code",
   "execution_count": 1,
   "metadata": {
    "collapsed": false
   },
   "outputs": [
    {
     "data": {
      "text/plain": [
       "<matplotlib.axes._subplots.AxesSubplot at 0x6aab810>"
      ]
     },
     "execution_count": 1,
     "metadata": {},
     "output_type": "execute_result"
    },
    {
     "data": {
      "image/png": "[encoded data removed]",
      "text/plain": [
       "<matplotlib.figure.Figure at 0x78e1b70>"
      ]
     },
     "metadata": {},
     "output_type": "display_data"
    }
   ],
   "source": [
    "import numpy as np\n",
    "import pyradi.ryplot as ryplot\n",
    "%matplotlib inline\n",
    "\n",
    "p = ryplot.Plotter('ryplot example',figsize=(4,4))\n",
    "p.plot(1, np.asarray([0,1]),np.asarray([10,1]))\n",
    "# p.saveFig('test.png')"
   ]
  },
  {
   "cell_type": "code",
   "execution_count": 2,
   "metadata": {
    "collapsed": false
   },
   "outputs": [
    {
     "ename": "ImportError",
     "evalue": "No module named reportlab.pdfgen",
     "output_type": "error",
     "traceback": [
      "\u001b[1;31m---------------------------------------------------------------------------\u001b[0m",
      "\u001b[1;31mImportError\u001b[0m                               Traceback (most recent call last)",
      "\u001b[1;32m<ipython-input-2-262f901e5a06>\u001b[0m in \u001b[0;36m<module>\u001b[1;34m()\u001b[0m\n\u001b[1;32m----> 1\u001b[1;33m \u001b[1;32mfrom\u001b[0m \u001b[0mreportlab\u001b[0m\u001b[1;33m.\u001b[0m\u001b[0mpdfgen\u001b[0m \u001b[1;32mimport\u001b[0m \u001b[0mcanvas\u001b[0m\u001b[1;33m\u001b[0m\u001b[0m\n\u001b[0m\u001b[0;32m      2\u001b[0m \u001b[1;32mdef\u001b[0m \u001b[0mhello\u001b[0m\u001b[1;33m(\u001b[0m\u001b[0mc\u001b[0m\u001b[1;33m)\u001b[0m\u001b[1;33m:\u001b[0m\u001b[1;33m\u001b[0m\u001b[0m\n\u001b[0;32m      3\u001b[0m     \u001b[0mc\u001b[0m\u001b[1;33m.\u001b[0m\u001b[0mdrawString\u001b[0m\u001b[1;33m(\u001b[0m\u001b[1;36m100\u001b[0m\u001b[1;33m,\u001b[0m\u001b[1;36m100\u001b[0m\u001b[1;33m,\u001b[0m\u001b[1;34m\"Hello World\"\u001b[0m\u001b[1;33m)\u001b[0m\u001b[1;33m\u001b[0m\u001b[0m\n\u001b[0;32m      4\u001b[0m \u001b[0mc\u001b[0m \u001b[1;33m=\u001b[0m \u001b[0mcanvas\u001b[0m\u001b[1;33m.\u001b[0m\u001b[0mCanvas\u001b[0m\u001b[1;33m(\u001b[0m\u001b[1;34m\"hello.pdf\"\u001b[0m\u001b[1;33m)\u001b[0m\u001b[1;33m\u001b[0m\u001b[0m\n\u001b[0;32m      5\u001b[0m \u001b[0mhello\u001b[0m\u001b[1;33m(\u001b[0m\u001b[0mc\u001b[0m\u001b[1;33m)\u001b[0m\u001b[1;33m\u001b[0m\u001b[0m\n",
      "\u001b[1;31mImportError\u001b[0m: No module named reportlab.pdfgen"
     ]
    }
   ],
   "source": [
    "from reportlab.pdfgen import canvas\n",
    "def hello(c):\n",
    "    c.drawString(100,100,\"Hello World\")\n",
    "c = canvas.Canvas(\"hello.pdf\")\n",
    "hello(c)\n",
    "c.showPage()\n",
    "c.save()"
   ]
  },
  {
   "cell_type": "code",
   "execution_count": 3,
   "metadata": {
    "collapsed": false
   },
   "outputs": [
    {
     "ename": "ImportError",
     "evalue": "No module named reportlab.platypus",
     "output_type": "error",
     "traceback": [
      "\u001b[1;31m---------------------------------------------------------------------------\u001b[0m",
      "\u001b[1;31mImportError\u001b[0m                               Traceback (most recent call last)",
      "\u001b[1;32m<ipython-input-3-3467e0fadce9>\u001b[0m in \u001b[0;36m<module>\u001b[1;34m()\u001b[0m\n\u001b[1;32m----> 1\u001b[1;33m \u001b[1;32mfrom\u001b[0m \u001b[0mreportlab\u001b[0m\u001b[1;33m.\u001b[0m\u001b[0mplatypus\u001b[0m \u001b[1;32mimport\u001b[0m \u001b[0mSimpleDocTemplate\u001b[0m\u001b[1;33m,\u001b[0m \u001b[0mParagraph\u001b[0m\u001b[1;33m,\u001b[0m \u001b[0mSpacer\u001b[0m\u001b[1;33m\u001b[0m\u001b[0m\n\u001b[0m\u001b[0;32m      2\u001b[0m \u001b[1;32mfrom\u001b[0m \u001b[0mreportlab\u001b[0m\u001b[1;33m.\u001b[0m\u001b[0mlib\u001b[0m\u001b[1;33m.\u001b[0m\u001b[0mstyles\u001b[0m \u001b[1;32mimport\u001b[0m \u001b[0mgetSampleStyleSheet\u001b[0m\u001b[1;33m\u001b[0m\u001b[0m\n\u001b[0;32m      3\u001b[0m \u001b[1;32mfrom\u001b[0m \u001b[0mreportlab\u001b[0m\u001b[1;33m.\u001b[0m\u001b[0mrl_config\u001b[0m \u001b[1;32mimport\u001b[0m \u001b[0mdefaultPageSize\u001b[0m\u001b[1;33m\u001b[0m\u001b[0m\n\u001b[0;32m      4\u001b[0m \u001b[1;32mfrom\u001b[0m \u001b[0mreportlab\u001b[0m\u001b[1;33m.\u001b[0m\u001b[0mlib\u001b[0m\u001b[1;33m.\u001b[0m\u001b[0munits\u001b[0m \u001b[1;32mimport\u001b[0m \u001b[0minch\u001b[0m\u001b[1;33m\u001b[0m\u001b[0m\n\u001b[0;32m      5\u001b[0m \u001b[0mPAGE_HEIGHT\u001b[0m\u001b[1;33m=\u001b[0m\u001b[0mdefaultPageSize\u001b[0m\u001b[1;33m[\u001b[0m\u001b[1;36m1\u001b[0m\u001b[1;33m]\u001b[0m\u001b[1;33m;\u001b[0m\u001b[1;33m\u001b[0m\u001b[0m\n",
      "\u001b[1;31mImportError\u001b[0m: No module named reportlab.platypus"
     ]
    }
   ],
   "source": [
    "from reportlab.platypus import SimpleDocTemplate, Paragraph, Spacer\n",
    "from reportlab.lib.styles import getSampleStyleSheet\n",
    "from reportlab.rl_config import defaultPageSize\n",
    "from reportlab.lib.units import inch\n",
    "PAGE_HEIGHT=defaultPageSize[1]; \n",
    "PAGE_WIDTH=defaultPageSize[0]\n",
    "styles = getSampleStyleSheet()\n",
    "\n",
    "Title = \"Hello world\"\n",
    "pageinfo = \"platypus example\"\n",
    "\n",
    "def myFirstPage(canvas, doc):\n",
    "    canvas.saveState()\n",
    "    canvas.setFont('Times-Bold',16)\n",
    "    canvas.drawCentredString(PAGE_WIDTH/2.0, PAGE_HEIGHT-108, Title)\n",
    "    canvas.setFont('Times-Roman',9)\n",
    "    canvas.drawString(inch, 0.75 * inch, \"First Page / %s\"% pageinfo)\n",
    "    canvas.restoreState()\n",
    "\n",
    "def myLaterPages(canvas, doc):\n",
    "    canvas.saveState()\n",
    "    canvas.setFont('Times-Roman',9)\n",
    "    canvas.drawString(inch, 0.75 * inch, \"Page %d %s\"% (doc.page, pageinfo))\n",
    "    canvas.restoreState()\n",
    "    \n",
    "def go():\n",
    "    doc = SimpleDocTemplate(\"phello.pdf\")\n",
    "    Story = [Spacer(1,2*inch)]\n",
    "    style = styles[\"Normal\"]\n",
    "    for i in range(100):\n",
    "        bogustext = (\"This is Paragraph number %s. \"% i) *20\n",
    "        p = Paragraph(bogustext, style)\n",
    "        Story.append(p)\n",
    "        Story.append(Spacer(1,0.2*inch))\n",
    "        doc.build(Story, onFirstPage=myFirstPage, onLaterPages=myLaterPages)   "
   ]
  },
  {
   "cell_type": "code",
   "execution_count": 23,
   "metadata": {
    "collapsed": false
   },
   "outputs": [],
   "source": [
    "go()"
   ]
  },
  {
   "cell_type": "code",
   "execution_count": null,
   "metadata": {
    "collapsed": false
   },
   "outputs": [],
   "source": []
  }
 ],
 "metadata": {
  "kernelspec": {
   "display_name": "Python 2",
   "language": "python",
   "name": "python2"
  },
  "language_info": {
   "codemirror_mode": {
    "name": "ipython",
    "version": 2
   },
   "file_extension": ".py",
   "mimetype": "text/x-python",
   "name": "python",
   "nbconvert_exporter": "python",
   "pygments_lexer": "ipython2",
   "version": "2.7.11"
  }
 },
 "nbformat": 4,
 "nbformat_minor": 0
}
