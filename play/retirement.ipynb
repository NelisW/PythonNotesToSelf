{
 "cells": [
  {
   "cell_type": "markdown",
   "metadata": {},
   "source": [
    "# Multi-parameter Jupyter notebook interaction\n",
    "Saturday 29 October 2016"
   ]
  },
  {
   "cell_type": "markdown",
   "metadata": {},
   "source": [
    "https://nedbatchelder.com/blog/201610/multiparameter_jupyter_notebook_interaction.html\n",
    "\n",
    "I’m working on figuring out retirement scenarios. I wasn’t satified with the usual online calculators. I made a spreadsheet, but it was hard to see how the different variables affected the outcome. Aha! This sounds like a good use for a Jupyter Notebok!\n",
    "\n",
    "Using widgets, I could make a cool graph with sliders for controlling the variables, and affecting the result. Nice.\n",
    "\n",
    "But there was a way to make the relationship between the variables and the outcome more apparent: choose one of the variables, and plot its multiple values on a single graph. And of course, I took it one step further, so that I could declare my parameters, and have the widgets, including the selection of the variable to auto-slide, generated automatically.\n",
    "\n",
    "I’m pleased with the result, even if it’s a little rough. You can download retirement.ipynb to try it yourself.\n",
    "\n"
   ]
  },
  {
   "cell_type": "markdown",
   "metadata": {},
   "source": [
    "The general notion of a declarative multi-parameter model with an auto-slider is contained in a class:"
   ]
  },
  {
   "cell_type": "code",
   "execution_count": 7,
   "metadata": {
    "collapsed": false
   },
   "outputs": [
    {
     "name": "stdout",
     "output_type": "stream",
     "text": [
      "Populating the interactive namespace from numpy and matplotlib\n"
     ]
    }
   ],
   "source": [
    "%pylab --no-import-all inline\n",
    "from collections import namedtuple\n",
    "\n",
    "from ipywidgets import interact, IntSlider, FloatSlider\n",
    "\n",
    "class Param(namedtuple('Param', \"default, range\")):\n",
    "    \"\"\"\n",
    "    A parameter for `Model`.\n",
    "    \"\"\"\n",
    "    def make_slider_widget(self):\n",
    "        \"\"\"Create a widget for a parameter.\"\"\"\n",
    "        is_float = isinstance(self.default, float)\n",
    "        is_float = is_float or any(isinstance(v, float) for v in self.range)\n",
    "        wtype = FloatSlider if is_float else IntSlider\n",
    "        return wtype(\n",
    "            value=self.default,\n",
    "            min=self.range[0], max=self.range[1], step=self.range[2], \n",
    "            continuous_update=True,\n",
    "        )\n",
    "\n",
    "class Model:\n",
    "    \"\"\"\n",
    "    A multi-parameter model.\n",
    "    \"\"\"\n",
    "\n",
    "    output_limit = None\n",
    "    num_auto = 7\n",
    "    \n",
    "    def _show_it(self, auto_param, **kw):\n",
    "        if auto_param == 'None':\n",
    "            plt.plot(self.inputs, self.run(self.inputs, **kw))\n",
    "        else:\n",
    "            autop = self.params[auto_param]\n",
    "\n",
    "            auto_values = np.arange(*autop.range)\n",
    "            if len(auto_values) > self.num_auto:\n",
    "                lo, hi = autop.range[:2]\n",
    "                auto_values = np.arange(lo, hi, (hi-lo)/self.num_auto)\n",
    "            for auto_val in auto_values:\n",
    "                kw[auto_param] = auto_val\n",
    "                output = self.run(self.inputs, **kw)\n",
    "                plt.plot(self.inputs, output, label=str(auto_val))\n",
    "            plt.legend(loc='center left', bbox_to_anchor=(1, 0.5))\n",
    "        if self.output_limit is not None:\n",
    "            plt.ylim(*self.output_limit)\n",
    "\n",
    "    def interact(self):\n",
    "        widgets = {\n",
    "            name:p.make_slider_widget() for name, p in self.params.items()\n",
    "        }\n",
    "        param_names = ['None'] + sorted(self.params)\n",
    "        interact(self._show_it, auto_param=param_names, **widgets)"
   ]
  },
  {
   "cell_type": "markdown",
   "metadata": {},
   "source": [
    "To make a model, derive a class from Model. \n",
    "\n",
    "Define a dict called params as a class attribute. Each parameter has a default value, and a range of values it can take, expressed (min, max, step).\n",
    "\n",
    "Your class can also have some constants.\n",
    "\n",
    "Define the inputs to the graph (the x values), and the range of the output (the y values).\n",
    "\n",
    "Finally, define a `run` method that calculates the output from the inputs. It takes the inputs as an argument, and also has a keyword argument for each parameter you defined.\n",
    "\n",
    "To run the model, just instantiate it and call interact():"
   ]
  },
  {
   "cell_type": "code",
   "execution_count": 8,
   "metadata": {
    "collapsed": false
   },
   "outputs": [],
   "source": [
    "class Retirement(Model):\n",
    "    \n",
    "    # model parameters\n",
    "    params = dict(\n",
    "        # Annual percentage yield on investments.\n",
    "        invest_return=Param(3, (1.0, 12.0, 0.5)),\n",
    "        # What percentage of your salary will you contribute to your 401k?\n",
    "        p401k=Param(10, (0, 50, 1)),\n",
    "        # What age will you retire?\n",
    "        retire_age=Param(65, (60, 75, 1)),\n",
    "        # How much in today's dollars will you need to live on after retirement?\n",
    "        live_on=Param(100000, (50000, 150000, 10000)),\n",
    "        # What is the inflation rate?\n",
    "        inflation=Param(2.0, (1.0,10.0, 0.25)),\n",
    "        # How much will you inherit?\n",
    "        inherit=Param(1000000, (0, 2000000, 200000)),\n",
    "        # At what age will you inherit it?\n",
    "        inherit_age=Param(70, (60, 90, 5)),\n",
    "    )\n",
    "\n",
    "    # model constants\n",
    "    # How much money have you already saved?\n",
    "    start_savings = 100000\n",
    "    # Annual salary.\n",
    "    salary = 100000\n",
    "    # Annual amount you expect from social security.\n",
    "    socsec = 10000\n",
    "\n",
    "    # inputs (x values) and outputs (y values)\n",
    "    # Calculate for age 30 through 100.\n",
    "    inputs = np.arange(30, 101)\n",
    "    output_limit = (0, 10000000)\n",
    "    \n",
    "    num_auto = 13\n",
    "    \n",
    "    def run(self, inputs, invest_return, p401k, retire_age, live_on, inflation, inherit, inherit_age):\n",
    "        for year, age in enumerate(inputs):\n",
    "            if year == 0:\n",
    "                yearly_money = [self.start_savings]\n",
    "                continue\n",
    "            \n",
    "            inflation_factor = (1 + inflation/100)**year\n",
    "            money = yearly_money[-1]\n",
    "            money = money*(1+(invest_return/100))\n",
    "            if age == inherit_age:\n",
    "                money += inherit\n",
    "            if age <= retire_age:\n",
    "                money += self.salary * inflation_factor *(p401k/100)\n",
    "            else:\n",
    "                money += self.socsec\n",
    "                money -= live_on * inflation_factor\n",
    "            yearly_money.append(money)\n",
    "\n",
    "        return np.array(yearly_money)"
   ]
  },
  {
   "cell_type": "code",
   "execution_count": 9,
   "metadata": {
    "collapsed": false,
    "scrolled": true
   },
   "outputs": [
    {
     "data": {
      "application/vnd.jupyter.widget-view+json": {
       "model_id": "5b3b92fd96654113b6f528f4e861accf",
       "version_major": 2,
       "version_minor": 0
      },
      "text/plain": [
       "interactive(children=(Dropdown(description='auto_param', options=('None', 'inflation', 'inherit', 'inherit_age…"
      ]
     },
     "metadata": {},
     "output_type": "display_data"
    }
   ],
   "source": [
    "Retirement().interact()"
   ]
  },
  {
   "cell_type": "markdown",
   "metadata": {},
   "source": [
    "There are things I would like to be nicer about this:\n",
    "\n",
    "- The sliders are a mess: if you make too many parameters, the slider and the graph don’t fit on the screen.\n",
    "- The values chosen for the auto parameter are not “nice”, like tick marks on a graph are nice.\n",
    "- It’d be cool to be able to auto-slide two parameters at once.\n",
    "- The code isn’t packaged in a way people can easily re-use.\n",
    "\n",
    "I thought about fixing a few of these things, but I likely won’t get to them. The code is here in this blog post or in the notebook file if you want it. Ideas welcome about how to make improvements.\n",
    "\n",
    "BTW: my retirement plans are not based on inheriting a million dollars when I am 70, but it’s easy to add parameters to this model, and it’s fun to play with..."
   ]
  }
 ],
 "metadata": {
  "anaconda-cloud": {},
  "kernelspec": {
   "display_name": "Python 3",
   "language": "python",
   "name": "python3"
  },
  "language_info": {
   "codemirror_mode": {
    "name": "ipython",
    "version": 3
   },
   "file_extension": ".py",
   "mimetype": "text/x-python",
   "name": "python",
   "nbconvert_exporter": "python",
   "pygments_lexer": "ipython3",
   "version": "3.7.1"
  },
  "widgets": {
   "state": {
    "3a215f631f594a9382bb820122939e59": {
     "views": [
      {
       "cell_index": 2
      }
     ]
    }
   },
   "version": "1.2.0"
  }
 },
 "nbformat": 4,
 "nbformat_minor": 2
}
