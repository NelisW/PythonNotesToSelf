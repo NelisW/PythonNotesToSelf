{
 "cells": [
  {
   "cell_type": "code",
   "execution_count": null,
   "metadata": {
    "collapsed": true,
    "run_control": {
     "frozen": false,
     "read_only": false
    }
   },
   "outputs": [],
   "source": [
    "import numpy as np"
   ]
  },
  {
   "cell_type": "code",
   "execution_count": 2,
   "metadata": {},
   "outputs": [],
   "source": [
    "array = np.random.rand(4,5)\n",
    "print(array)"
   ]
  },
  {
   "cell_type": "code",
   "execution_count": 3,
   "metadata": {},
   "outputs": [
    {
     "name": "stdout",
     "output_type": "stream",
     "text": [
      "[[ 0.99544324  1.18605503  1.27424052  1.48755361  2.36325501]\n",
      " [ 1.0326744   1.66755884  2.53078827  3.33009373  4.32260371]\n",
      " [ 1.36110096  2.09288451  3.69217089  5.28910561  6.5627385 ]\n",
      " [ 1.44578931  2.24802716  4.26784991  6.83416088  8.30615305]]\n"
     ]
    }
   ],
   "source": [
    "sum = array.cumsum(axis=0).cumsum(axis=1)\n",
    "print(sum)"
   ]
  },
  {
   "cell_type": "code",
   "execution_count": 4,
   "metadata": {},
   "outputs": [
    {
     "name": "stdout",
     "output_type": "stream",
     "text": [
      "8.30615305245\n"
     ]
    }
   ],
   "source": [
    "sumt = array.sum()\n",
    "print(sumt)"
   ]
  },
  {
   "cell_type": "code",
   "execution_count": 5,
   "metadata": {},
   "outputs": [
    {
     "name": "stdout",
     "output_type": "stream",
     "text": [
      "[[ 0.99544324  0.19061179  0.08818549]\n",
      " [ 0.03723116  0.44427265  0.77504394]\n",
      " [ 0.32842656  0.09689911  0.73605695]\n",
      " [ 0.08468835  0.0704543   0.42053637]]\n"
     ]
    }
   ],
   "source": [
    "print(array[0:4,0:3])"
   ]
  },
  {
   "cell_type": "code",
   "execution_count": 6,
   "metadata": {},
   "outputs": [
    {
     "name": "stdout",
     "output_type": "stream",
     "text": [
      "4.26784991386\n",
      "4.26784991386\n"
     ]
    }
   ],
   "source": [
    "# from 0,0\n",
    "sum1s = array[0:4,0:3].sum()\n",
    "print(sum1s)\n",
    "sum1c = sum[3,2] \n",
    "print(sum1c)"
   ]
  },
  {
   "cell_type": "code",
   "execution_count": 12,
   "metadata": {},
   "outputs": [
    {
     "name": "stdout",
     "output_type": "stream",
     "text": [
      "[[ 0.77504394]\n",
      " [ 0.73605695]\n",
      " [ 0.42053637]]\n"
     ]
    }
   ],
   "source": [
    "print(array[1:4,2:3])"
   ]
  },
  {
   "cell_type": "code",
   "execution_count": 14,
   "metadata": {},
   "outputs": [
    {
     "name": "stdout",
     "output_type": "stream",
     "text": [
      "1.9316372611\n",
      "1.9316372611\n"
     ]
    }
   ],
   "source": [
    "# from non 0,0\n",
    "sum1s = array[1:4,2:3].sum()\n",
    "print(sum1s)\n",
    "sum1c = sum[3,2] + sum[0,1] - sum[3,1] - sum[0,2]\n",
    "print(sum1c)"
   ]
  },
  {
   "cell_type": "code",
   "execution_count": null,
   "metadata": {
    "collapsed": true
   },
   "outputs": [],
   "source": []
  }
 ],
 "metadata": {
  "kernelspec": {
   "display_name": "Python 3",
   "language": "python",
   "name": "python3"
  },
  "language_info": {
   "codemirror_mode": {
    "name": "ipython",
    "version": 3
   },
   "file_extension": ".py",
   "mimetype": "text/x-python",
   "name": "python",
   "nbconvert_exporter": "python",
   "pygments_lexer": "ipython3",
   "version": "3.6.1"
  }
 },
 "nbformat": 4,
 "nbformat_minor": 2
}
