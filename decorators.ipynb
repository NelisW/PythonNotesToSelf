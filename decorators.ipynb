{
 "metadata": {
  "name": "",
  "signature": "sha256:c64ff20fa2dc0eb1a14e79a156f407dc2e999c486a5556f3bb3554c84f8474c5"
 },
 "nbformat": 3,
 "nbformat_minor": 0,
 "worksheets": [
  {
   "cells": [
    {
     "cell_type": "heading",
     "level": 1,
     "metadata": {},
     "source": [
      "Decorators"
     ]
    },
    {
     "cell_type": "heading",
     "level": 2,
     "metadata": {},
     "source": [
      "Use case"
     ]
    },
    {
     "cell_type": "markdown",
     "metadata": {},
     "source": [
      "The Planck equations have a form similar to this:\n",
      "$$\n",
      "M_{e\\lambda}(T)\n",
      "=\\frac{2\\pi h c^2}{\\lambda^5 \\left(e^{hc/(\\lambda kT)}-1\\right)} \n",
      "=\\frac{c_{1e\\lambda}}{\\lambda^5 \\left(e^{c_{2\\lambda}/(\\lambda T)}-1\\right)}\n",
      "$$\n",
      "where temperature $T$ and wavelength $\\lambda$ are numpy arrays of shape [T,] or [T,N] and [L,] respectively.  The values of $T$ and  $\\lambda$ are independent of each other. The calculation of the equation must be done for all combinations of $T$ and  $\\lambda$, but in a way where the structure of the return variable is [L,1] or [L,N].\n",
      "\n",
      "\n",
      "There are twelve variations of this equation for \n",
      "\n",
      "- 3x frequency, wavenumber, and wavelength units,\n",
      "- 2x radiant units and photon units, and \n",
      "- 2x basic form and temperature derivative form."
     ]
    },
    {
     "cell_type": "markdown",
     "metadata": {},
     "source": [
      "The Planck equation does not lend itself to vectorised calculation because of its relative complex form.\n",
      "Attempting to write the Planck equation in vector/matrix form will be quite a challenge. The Python function accepts the spectral variable and temperature variable  in array form, but these are then 'flattened' into long vectors of matching values of spectral sample and temperature sample - for which the Planck equation can be readily calculated.  After the Planck calculation is complete, the flat array is reshaped back, according to the shape of the input arrays.\n",
      "  \n",
      "It was an arduous task to include exactly the same flattening and reshaping code in all twelve function variations - and then changing them all when a change was required.  Instead there is now only one implementation of the flattening and reshaping code, and it applies to all twelve functions.  The code is implemented in a Python [decorator](http://www.artima.com/weblogs/viewpost.jsp?thread=240808) (not unique to Python, many other languages also have decorators).  The decorator is almost like a wrapping function that is applied to the user function (decorating the original). Using the decorator function it is possible to execute code before the user function is called and then also after the user function is called.  In this application, the flattening is done before the function call and the reshaping is done after the function call - keeping only one copy of the code, but applying it to all the functions.  Python decorators are also used for many other [applications](https://wiki.python.org/moin/PythonDecoratorLibrary)."
     ]
    },
    {
     "cell_type": "markdown",
     "metadata": {},
     "source": [
      "The code is as follows. First the Planck function showing the decorator, indicated here as `@fixDimensions`. Note that the user function (docstring and some code removed) focuses only on the Planck equation and not on array dimensions. The `fixDimensions` intercepts all the input and output from this function and process according to the decorator requirements.\n",
      "\n",
      "    @fixDimensions\n",
      "    def planckel(spectral, temperature):\n",
      "        # ... some code removed\n",
      "        p = (pconst.c1el / ( numpy.exp(exP2)-1)) / (spectral ** 5)\n",
      "        # ... some code removed\n",
      "        return planckA"
     ]
    },
    {
     "cell_type": "markdown",
     "metadata": {},
     "source": [
      "The decorator function (docstring and some code removed) focuses only on manipulation of input and output data formats, and has no idea what is happening inside the Planck functions, which it calls.  \n",
      "\n",
      "The decorator function:\n",
      "\n",
      "- checks the shapes of the input variables and takes error action if necessary.\n",
      "- converts all input to numpy arrays, interpreted as float values (if not already so)\n",
      "- reshapes and creates a meshgrid to provide all the combinations of input sample values.\n",
      "- flattens the arrays by using the [`ravel`](http://docs.scipy.org/doc/numpy/reference/generated/numpy.ravel.html?highlight=ravel) function.  \n",
      "  \n",
      "\n",
      "    def fixDimensions(planckFun):\n",
      "      @wraps(planckFun)\n",
      "      def inner(spectral, temperature):\n",
      "    \n",
      "        # ... some code removed\n",
      "        # create flattened version of the input dataset\n",
      "        specgrid, tempgrid = numpy.meshgrid(spectral,temperature)\n",
      "        spec = numpy.ravel(specgrid)\n",
      "        temp = numpy.ravel(tempgrid)\n",
      "    \n",
      "At this point the Planck function is called with the flattened arrays. \n",
      "\n",
      "        planckA = planckFun(spec,temp) \n",
      "        \n",
      "After the function returns, the return values are handed back to the decorator function which then proceeds to reshape the array back into a format the user can work with.\n",
      "    \n",
      "        # ... some code removed\n",
      "        # now unflatten to proper structure again, spectral along axis=0\n",
      "        rtnVal = planckA.reshape(temperature.shape[0],-1).T\n",
      "    \n",
      "        return rtnVal\n",
      "      return inner"
     ]
    },
    {
     "cell_type": "markdown",
     "metadata": {},
     "source": [
      "The decorator does some pre-processing before the function is called, then calls the function and afterwards to some post-processing again. The benefit in this case is that only one copy of the pre- and post-processing is kept, but applied to all twelve function variations."
     ]
    },
    {
     "cell_type": "heading",
     "level": 2,
     "metadata": {},
     "source": [
      "Decorator concepts"
     ]
    },
    {
     "cell_type": "markdown",
     "metadata": {},
     "source": [
      "The concepts underlying the Python decorator are described in detail in the references at the end of this notebook. This section serves to summarise, leaning rather heavily on the references in doing so.\n",
      "\n",
      "This discussion is centred around Python 2.7, apparently the Python 3 syntax is somewhat different.\n"
     ]
    },
    {
     "cell_type": "markdown",
     "metadata": {},
     "source": [
      "In [twelve easy steps](http://simeonfranklin.com/blog/2012/jul/1/python-decorators-in-12-steps/) Franklin provides the ground work for building up to the punchline. For a more verbose discussion see Franklin's page. These are:"
     ]
    },
    {
     "cell_type": "markdown",
     "metadata": {},
     "source": [
      "1\\. It all starts with Python functions that has a name, an optional list of parameters (positional and named/default) and can return a value."
     ]
    },
    {
     "cell_type": "markdown",
     "metadata": {},
     "source": [
      "2\\. Variables defined inside a function has scope only inside the function."
     ]
    },
    {
     "cell_type": "markdown",
     "metadata": {},
     "source": [
      "3\\. Variable names are resolved (for access) with the LEGB (local, enclosing, global, built-in) rule. The first name found is used.  Inner scopes have read access to outer scopes, but not write/change access."
     ]
    },
    {
     "cell_type": "markdown",
     "metadata": {},
     "source": [
      "4\\. Variables has lifetime only in the scope that exists at any moment."
     ]
    },
    {
     "cell_type": "markdown",
     "metadata": {},
     "source": [
      "5\\. Variables passed as function parameters become local variables in the function."
     ]
    },
    {
     "cell_type": "markdown",
     "metadata": {},
     "source": [
      "6\\. Python allows nested functions, with the normal scoping rules. In this code `inner` is a local variable in the function `outer`, it just happens to be a function:"
     ]
    },
    {
     "cell_type": "code",
     "collapsed": false,
     "input": [
      "def outer():\n",
      "    x = 1\n",
      "    def inner():\n",
      "        print(x)\n",
      "    inner()\n",
      "    \n",
      "outer()    "
     ],
     "language": "python",
     "metadata": {},
     "outputs": [
      {
       "output_type": "stream",
       "stream": "stdout",
       "text": [
        "1\n"
       ]
      }
     ],
     "prompt_number": 1
    },
    {
     "cell_type": "markdown",
     "metadata": {},
     "source": [
      "7\\. Functions are objects that/(whose names) can be passed as variables to functions and can be returned from functions. "
     ]
    },
    {
     "cell_type": "code",
     "collapsed": false,
     "input": [
      "def add(x, y):\n",
      "    return x + y\n",
      "def apply(func, x, y):\n",
      "    return func(x, y)\n",
      "apply(add, 2, 1)"
     ],
     "language": "python",
     "metadata": {},
     "outputs": [
      {
       "metadata": {},
       "output_type": "pyout",
       "prompt_number": 2,
       "text": [
        "3"
       ]
      }
     ],
     "prompt_number": 2
    },
    {
     "cell_type": "markdown",
     "metadata": {},
     "source": [
      "In this example, `inner` is redefined every time when `outer()` is executed. The function `outer` returns the function name `inner` which can be called with `()`."
     ]
    },
    {
     "cell_type": "code",
     "collapsed": false,
     "input": [
      "def outer():\n",
      "    def inner():\n",
      "        print('Inside inner')\n",
      "    return inner\n",
      "\n",
      "print(outer)\n",
      "foo = outer()\n",
      "print(foo)\n",
      "foo()"
     ],
     "language": "python",
     "metadata": {},
     "outputs": [
      {
       "output_type": "stream",
       "stream": "stdout",
       "text": [
        "<function outer at 0x04BC57B0>\n",
        "<function inner at 0x04BC5570>\n",
        "Inside inner\n"
       ]
      }
     ],
     "prompt_number": 3
    },
    {
     "cell_type": "markdown",
     "metadata": {},
     "source": [
      "8\\. Python supports function closure, which means that non-global functions remember what their enclosing namespaces looked like at definition time, even if the enclosing environment (function in this case) goes out of scope.   In this example the variable `x` goes out of scope when `outer()` returns `inner` to the variable `foo`, but `inner` still remembers the value when `foo()` is executed. "
     ]
    },
    {
     "cell_type": "code",
     "collapsed": false,
     "input": [
      "def outer():\n",
      "    x = 1\n",
      "    def inner():\n",
      "        print(x)\n",
      "    return inner\n",
      "foo = outer()\n",
      "print(foo.func_closure)\n",
      "foo()"
     ],
     "language": "python",
     "metadata": {},
     "outputs": [
      {
       "output_type": "stream",
       "stream": "stdout",
       "text": [
        "(<cell at 0x04BC8250: int object at 0x02B4E658>,)\n",
        "1\n"
       ]
      }
     ],
     "prompt_number": 4
    },
    {
     "cell_type": "markdown",
     "metadata": {},
     "source": [
      "Here is an example of how closure can build custum functions:"
     ]
    },
    {
     "cell_type": "code",
     "collapsed": false,
     "input": [
      "def outer(x):\n",
      "    def inner():\n",
      "        print x # 1\n",
      "    return inner\n",
      "print1 = outer(1)\n",
      "print2 = outer(2)\n",
      "print1()\n",
      "print2()\n"
     ],
     "language": "python",
     "metadata": {},
     "outputs": [
      {
       "output_type": "stream",
       "stream": "stdout",
       "text": [
        "1\n",
        "2\n"
       ]
      }
     ],
     "prompt_number": 5
    },
    {
     "cell_type": "markdown",
     "metadata": {},
     "source": [
      "9\\. A decorator is a function that takes a function name as an argument and returns a replacement function, which can be called elsewhere. Here is the principle at work for a function with no parameters:"
     ]
    },
    {
     "cell_type": "code",
     "collapsed": false,
     "input": [
      "def outer(some_func):\n",
      "    def inner():\n",
      "        print('before some_func - do whatever you want before')\n",
      "        ret = some_func()\n",
      "        print('after some_func - do whatever you want after')\n",
      "        return ret + 1\n",
      "    return inner\n",
      "def foo():\n",
      "    return 1\n",
      "decorated = outer(foo)\n",
      "decorated()"
     ],
     "language": "python",
     "metadata": {},
     "outputs": [
      {
       "output_type": "stream",
       "stream": "stdout",
       "text": [
        "before some_func - do whatever you want before\n",
        "after some_func - do whatever you want after\n"
       ]
      },
      {
       "metadata": {},
       "output_type": "pyout",
       "prompt_number": 6,
       "text": [
        "2"
       ]
      }
     ],
     "prompt_number": 6
    },
    {
     "cell_type": "markdown",
     "metadata": {},
     "source": [
      "If we want to keep the `foo` function name, just reassign it to the decorated function, then calling `foo` will call the decorated function.\n",
      "\n",
      "Caveat IPython cell memory!  Run the following cell a few times...."
     ]
    },
    {
     "cell_type": "code",
     "collapsed": false,
     "input": [
      "foo = outer(foo) # now becomes outer(foo), same as decorated above\n",
      "print(foo)\n",
      "foo() "
     ],
     "language": "python",
     "metadata": {},
     "outputs": [
      {
       "output_type": "stream",
       "stream": "stdout",
       "text": [
        "<function inner at 0x04BC57F0>\n",
        "before some_func - do whatever you want before\n",
        "after some_func - do whatever you want after\n"
       ]
      },
      {
       "metadata": {},
       "output_type": "pyout",
       "prompt_number": 7,
       "text": [
        "2"
       ]
      }
     ],
     "prompt_number": 7
    },
    {
     "cell_type": "markdown",
     "metadata": {},
     "source": [
      "10\\. The @ symbol applies a decorator to a function, as in \n",
      "\n",
      "    @decoratorname\n",
      "    def function():\n",
      "        pass"
     ]
    },
    {
     "cell_type": "markdown",
     "metadata": {},
     "source": [
      "11\\. `*args` and `**kwargs` provides the means to pass along any number of function parameters.  This allows one to wrap/decorate any function, irrespective of its signature.\n",
      "\n",
      "By using `*args` and `**kwargs` the decorator can be applied to functions and class methods alike."
     ]
    },
    {
     "cell_type": "markdown",
     "metadata": {},
     "source": [
      "12\\. Simple example: printing function parameters before calling a function."
     ]
    },
    {
     "cell_type": "code",
     "collapsed": false,
     "input": [
      "def logger(func):\n",
      "    def inner(*args, **kwargs): \n",
      "        print('Arguments were: {}, {}'.format(args, kwargs))\n",
      "        rtnVal = func(*args, **kwargs)\n",
      "        print('Return value is: {}'.format(rtnVal))\n",
      "        return rtnVal\n",
      "    return inner"
     ],
     "language": "python",
     "metadata": {},
     "outputs": [],
     "prompt_number": 8
    },
    {
     "cell_type": "code",
     "collapsed": false,
     "input": [
      "@logger\n",
      "def foo1(x,y=1):\n",
      "    return x * y\n",
      "@logger\n",
      "def foo2():\n",
      "    return 2\n",
      "\n",
      "foo1(5,4)\n",
      "foo2()\n"
     ],
     "language": "python",
     "metadata": {},
     "outputs": [
      {
       "output_type": "stream",
       "stream": "stdout",
       "text": [
        "Arguments were: (5, 4), {}\n",
        "Return value is: 20\n",
        "Arguments were: (), {}\n",
        "Return value is: 2\n"
       ]
      },
      {
       "metadata": {},
       "output_type": "pyout",
       "prompt_number": 9,
       "text": [
        "2"
       ]
      }
     ],
     "prompt_number": 9
    },
    {
     "cell_type": "markdown",
     "metadata": {},
     "source": [
      "13\\. Here is an example by [Farhad](http://thecodeship.com/patterns/guide-to-python-function-decorators/) of the decorator applied to a class method:"
     ]
    },
    {
     "cell_type": "code",
     "collapsed": false,
     "input": [
      "def p_decorate(func):\n",
      "   def inner(*args, **kwargs):\n",
      "       return \"<p>{0}</p>\".format(func(*args, **kwargs))\n",
      "   return inner\n",
      "\n",
      "class Person(object):\n",
      "    def __init__(self):\n",
      "        self.name = \"John\"\n",
      "        self.family = \"Doe\"\n",
      "\n",
      "    @p_decorate\n",
      "    def get_fullname(self):\n",
      "        return self.name+\" \"+self.family\n",
      "\n",
      "my_person = Person()\n",
      "\n",
      "print my_person.get_fullname()\n"
     ],
     "language": "python",
     "metadata": {},
     "outputs": [
      {
       "output_type": "stream",
       "stream": "stdout",
       "text": [
        "<p>John Doe</p>\n"
       ]
      }
     ],
     "prompt_number": 10
    },
    {
     "cell_type": "markdown",
     "metadata": {},
     "source": [
      "14\\. This [Farhad](http://thecodeship.com/patterns/guide-to-python-function-decorators/) example passes arguments to the decorator function:\n"
     ]
    },
    {
     "cell_type": "code",
     "collapsed": false,
     "input": [
      "def tags(tag_name):\n",
      "    def tags_decorator(func):\n",
      "        def inner(name):\n",
      "            return \"<{0}>{1}</{0}>\".format(tag_name, func(name))\n",
      "        return inner\n",
      "    return tags_decorator\n",
      "\n",
      "@tags(\"p\")\n",
      "@tags(\"strong\")\n",
      "def get_text(name):\n",
      "    return \"Hello \"+name\n",
      "\n",
      "print get_text(\"John\")\n",
      "\n",
      "# Outputs <p>Hello John</p>"
     ],
     "language": "python",
     "metadata": {},
     "outputs": [
      {
       "output_type": "stream",
       "stream": "stdout",
       "text": [
        "<p><strong>Hello John</strong></p>\n"
       ]
      }
     ],
     "prompt_number": 11
    },
    {
     "cell_type": "heading",
     "level": 2,
     "metadata": {},
     "source": [
      "Decorators and function attributes"
     ]
    },
    {
     "cell_type": "markdown",
     "metadata": {},
     "source": [
      "The decorating wrapper as shown above overwrites the function's attributes, so the original function's attributes are lost.\n",
      "\n",
      "As of Python 2.5, the functools module contains `functools.wraps`. `wraps` is a decorator for updating the attributes of the wrapping function to those of the original function. This is as simple as decorating the inner function by `@wraps(func)`. [Farhad's](http://thecodeship.com/patterns/guide-to-python-function-decorators/) example:"
     ]
    },
    {
     "cell_type": "code",
     "collapsed": false,
     "input": [
      "from functools import wraps\n",
      "\n",
      "def tags(tag_name):\n",
      "    def tags_decorator(func):\n",
      "        @wraps(func)\n",
      "        def inner(name):\n",
      "            return \"<{0}>{1}</{0}>\".format(tag_name, func(name))\n",
      "        return inner\n",
      "    return tags_decorator\n",
      "\n",
      "@tags(\"p\")\n",
      "def get_text(name):\n",
      "    \"\"\"returns some text\"\"\"\n",
      "    return \"Hello \"+name\n",
      "\n",
      "print get_text.__name__ # get_text\n",
      "print get_text.__doc__ # returns some text\n",
      "print get_text.__module__ # __main__\n"
     ],
     "language": "python",
     "metadata": {},
     "outputs": [
      {
       "output_type": "stream",
       "stream": "stdout",
       "text": [
        "get_text\n",
        "returns some text\n",
        "__main__\n"
       ]
      }
     ],
     "prompt_number": 12
    },
    {
     "cell_type": "heading",
     "level": 2,
     "metadata": {},
     "source": [
      "Decorator applications"
     ]
    },
    {
     "cell_type": "heading",
     "level": 3,
     "metadata": {},
     "source": [
      "Timing with decorators"
     ]
    },
    {
     "cell_type": "code",
     "collapsed": false,
     "input": [
      "import math\n",
      "import time\n",
      "\n",
      "def time_dec(func):\n",
      "  def wrapper(*arg):\n",
      "      t = time.clock()\n",
      "      res = func(*arg)\n",
      "      print('fn={} time={}'.format(func.func_name, time.clock()-t))\n",
      "      return res\n",
      "  return wrapper\n",
      "\n",
      "@time_dec\n",
      "def myFunction(a):\n",
      "    return math.atan(a)\n",
      "    \n",
      "print(myFunction(0.55))    \n",
      "    "
     ],
     "language": "python",
     "metadata": {},
     "outputs": [
      {
       "output_type": "stream",
       "stream": "stdout",
       "text": [
        "fn=myFunction time=2.95063964736e-05\n",
        "0.502843210928\n"
       ]
      }
     ],
     "prompt_number": 13
    },
    {
     "cell_type": "heading",
     "level": 3,
     "metadata": {},
     "source": [
      "Chaining decorators"
     ]
    },
    {
     "cell_type": "code",
     "collapsed": false,
     "input": [
      "def makebold(fn):\n",
      "    def wrapped():\n",
      "        return \"<b>\" + fn() + \"</b>\"\n",
      "    return wrapped\n",
      "\n",
      "def makeitalic(fn):\n",
      "    def wrapped():\n",
      "        return \"<i>\" + fn() + \"</i>\"\n",
      "    return wrapped\n",
      "\n",
      "@makebold\n",
      "@makeitalic\n",
      "def hello():\n",
      "    return \"hello world\"\n",
      "\n",
      "print hello()"
     ],
     "language": "python",
     "metadata": {},
     "outputs": [
      {
       "output_type": "stream",
       "stream": "stdout",
       "text": [
        "<b><i>hello world</i></b>\n"
       ]
      }
     ],
     "prompt_number": 14
    },
    {
     "cell_type": "heading",
     "level": 3,
     "metadata": {},
     "source": [
      "Repository of decorators"
     ]
    },
    {
     "cell_type": "markdown",
     "metadata": {},
     "source": [
      "<https://wiki.python.org/moin/PythonDecoratorLibrary> has a large number of decorators for many different applications. The following is a list of some of these.  The code won't work here, because some of the decorators are quite long and must be included in your code."
     ]
    },
    {
     "cell_type": "markdown",
     "metadata": {},
     "source": [
      "Use the `accepts` decorator for type checking:  \n",
      "\n",
      "    @accepts(uint, utf8string)\n",
      "    def myMethod(ID, name):\n",
      "        print(ID, name)\n",
      "\n",
      "    myMethod(4, 'string')"
     ]
    },
    {
     "cell_type": "markdown",
     "metadata": {},
     "source": [
      "Implement singletons:  \n",
      "\n",
      "    @singleton\n",
      "    class Highlander:\n",
      "        x = 100\n",
      "\n",
      "    Highlander() is Highlander() is Highlander #=> True\n",
      "    id(Highlander()) == id(Highlander) #=> True\n",
      "    Highlander().x == Highlander.x == 100 #=> True\n",
      "    Highlander.x = 50\n",
      "    Highlander().x == Highlander.x == 50 #=> True"
     ]
    },
    {
     "cell_type": "markdown",
     "metadata": {},
     "source": [
      "Memoizing a class. Caches a function's return value each time it is called. If called later with the same arguments, the cached value is returned (not reevaluated)\n",
      "\n",
      "    @memoized\n",
      "    def fibonacci(n):\n",
      "       \"Return the nth fibonacci number.\"\n",
      "       if n in (0, 1):\n",
      "          return n\n",
      "       return fibonacci(n-1) + fibonacci(n-2)\n",
      "\n",
      "    print fibonacci(12)\n"
     ]
    },
    {
     "cell_type": "markdown",
     "metadata": {},
     "source": [
      "Smart deprecation warnings (with valid filenames, line numbers, etc.)\n",
      "\n",
      "    @deprecated\n",
      "    def my_func():\n",
      "        pass\n",
      "\n",
      "    my_func()"
     ]
    },
    {
     "cell_type": "markdown",
     "metadata": {},
     "source": [
      "Enable/Disable Decorators\n",
      "\n",
      "    GLOBAL_ENABLE_FLAG = True\n",
      "\n",
      "    state = enabled if GLOBAL_ENABLE_FLAG else disabled\n",
      "    @state\n",
      "    def special_function_foo():\n",
      "        print \"function was enabled\"\n",
      "        \n",
      "    special_function_foo()"
     ]
    },
    {
     "cell_type": "markdown",
     "metadata": {},
     "source": [
      "Easy Dump of Function Arguments\n",
      "\n",
      "    @dump_args\n",
      "    def f1(a,b,c):\n",
      "        print a + b + c\n",
      "\n",
      "    f1(1, 2, 3)"
     ]
    },
    {
     "cell_type": "markdown",
     "metadata": {},
     "source": [
      "State machine implementations  \n",
      "<https://wiki.python.org/moin/PythonDecoratorLibrary#State_Machine_Implementaion>  \n",
      "<https://wiki.python.org/moin/State%20Machine%20via%20Decorators>  "
     ]
    },
    {
     "cell_type": "markdown",
     "metadata": {},
     "source": [
      "Redirects stdout printing to python standard logging.\n",
      "\n",
      "    @logprintinfo\n",
      "    def somePrintingFunc():\n",
      "        print('Hello output')"
     ]
    },
    {
     "cell_type": "markdown",
     "metadata": {},
     "source": [
      "Access control prevents users from getting access to places where they are not authorised to go.\n",
      "\n",
      "    @LoginCheck\n",
      "    def display_members_page():\n",
      "        print 'This is the members page'"
     ]
    },
    {
     "cell_type": "heading",
     "level": 2,
     "metadata": {},
     "source": [
      "References"
     ]
    },
    {
     "cell_type": "markdown",
     "metadata": {},
     "source": [
      "[Knupp: Improve Your Python: Decorators Explained](https://www.jeffknupp.com/blog/2013/11/29/improve-your-python-decorators-explained/)  \n",
      "[Franklin: Understanding Python Decorators in 12 Easy Steps!](http://simeonfranklin.com/blog/2012/jul/1/python-decorators-in-12-steps/)  \n",
      "[Eckel: Decorators I: Introduction to Python Decorators](https://www.artima.com/weblogs/viewpost.jsp?thread=240808)  \n",
      "[Eckel: Python Decorators II: Decorator Arguments](https://www.artima.com/weblogs/viewpost.jsp?thread=240845)  \n",
      "[Eckel: Python Decorators III: A Decorator-Based Build System](https://www.artima.com/weblogs/viewpost.jsp?thread=241209)  \n",
      "[Farhat: A guide to Python's function decorators](http://thecodeship.com/patterns/guide-to-python-function-decorators/)\n",
      "[Yasoob: Python decorators finally demystified](http://freepythontips.wordpress.com/2013/12/05/python-decorators-finally-demystified/)  \n",
      "[Simionato: PyPI decorator module](https://pypi.python.org/pypi/decorator)  \n",
      "[Harrison: Guide to learning Python decorators](http://hairysun.com/books/decorators/)\n",
      "[Python wiki: PythonDecorators](https://wiki.python.org/moin/PythonDecorators)  \n",
      "[Chaining decorators](https://stackoverflow.com/questions/739654/how-can-i-make-a-chain-of-function-decorators-in-python)  \n",
      "[Some common uses](https://stackoverflow.com/questions/489720/what-are-some-common-uses-for-python-decorators)  \n"
     ]
    },
    {
     "cell_type": "heading",
     "level": 2,
     "metadata": {},
     "source": [
      "Python and [module versions, and dates](http://nbviewer.ipython.org/github/jrjohansson/scientific-python-lectures/blob/master/Lecture-0-Scientific-Computing-with-Python.ipynb)"
     ]
    },
    {
     "cell_type": "code",
     "collapsed": false,
     "input": [
      "%load_ext version_information\n",
      "%version_information "
     ],
     "language": "python",
     "metadata": {},
     "outputs": [
      {
       "output_type": "stream",
       "stream": "stdout",
       "text": [
        "The version_information extension is already loaded. To reload it, use:\n",
        "  %reload_ext version_information\n"
       ]
      },
      {
       "html": [
        "<table><tr><th>Software</th><th>Version</th></tr><tr><td>Python</td><td>2.7.6 (default, Nov 10 2013, 19:24:18) [MSC v.1500 32 bit (Intel)]</td></tr><tr><td>IPython</td><td>2.0.0</td></tr><tr><td>OS</td><td>nt [win32]</td></tr><tr><td colspan='2'>Wed Apr 30 16:23:40 2014 South Africa Standard Time</td></tr></table>"
       ],
       "json": [
        "{\"Software versions\": [{\"version\": \"2.7.6 (default, Nov 10 2013, 19:24:18) [MSC v.1500 32 bit (Intel)]\", \"module\": \"Python\"}, {\"version\": \"2.0.0\", \"module\": \"IPython\"}, {\"version\": \"nt [win32]\", \"module\": \"OS\"}]}"
       ],
       "latex": [
        "\\begin{tabular}{|l|l|}\\hline\n",
        "{\\bf Software} & {\\bf Version} \\\\ \\hline\\hline\n",
        "Python & 2.7.6 (default, Nov 10 2013, 19:24:18) [MSC v.1500 32 bit (Intel)] \\\\ \\hline\n",
        "IPython & 2.0.0 \\\\ \\hline\n",
        "OS & nt [win32] \\\\ \\hline\n",
        "\\hline \\multicolumn{2}{|l|}{Wed Apr 30 16:23:40 2014 South Africa Standard Time} \\\\ \\hline\n",
        "\\end{tabular}\n"
       ],
       "metadata": {},
       "output_type": "pyout",
       "prompt_number": 16,
       "text": [
        "Software versions\n",
        "Python 2.7.6 (default, Nov 10 2013, 19:24:18) [MSC v.1500 32 bit (Intel)]\n",
        "IPython 2.0.0\n",
        "OS nt [win32]\n",
        "<tr><td colspan='2'>Wed Apr 30 16:23:40 2014 South Africa Standard Time</td></tr>"
       ]
      }
     ],
     "prompt_number": 16
    },
    {
     "cell_type": "code",
     "collapsed": false,
     "input": [],
     "language": "python",
     "metadata": {},
     "outputs": [],
     "prompt_number": 15
    }
   ],
   "metadata": {}
  }
 ]
}