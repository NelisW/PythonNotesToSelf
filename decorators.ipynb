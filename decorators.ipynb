{
 "metadata": {
  "name": "",
  "signature": "sha256:1651f562c19a5f5d35758d5b2ef5dfb99785240faaab6c5067ae1ca24e6f0910"
 },
 "nbformat": 3,
 "nbformat_minor": 0,
 "worksheets": [
  {
   "cells": [
    {
     "cell_type": "heading",
     "level": 1,
     "metadata": {},
     "source": [
      "Decorators"
     ]
    },
    {
     "cell_type": "heading",
     "level": 2,
     "metadata": {},
     "source": [
      "Use case"
     ]
    },
    {
     "cell_type": "markdown",
     "metadata": {},
     "source": [
      "The Planck equations have a form similar to this:\n",
      "$$\n",
      "M_{e\\lambda}(T)\n",
      "=\\frac{2\\pi h c^2}{\\lambda^5 \\left(e^{hc/(\\lambda kT)}-1\\right)} \n",
      "=\\frac{c_{1e\\lambda}}{\\lambda^5 \\left(e^{c_{2\\lambda}/(\\lambda T)}-1\\right)}\n",
      "$$\n",
      "where temperature $T$ and wavelength $\\lambda$ are numpy arrays of shape [T,] or [T,N] and [L,] respectively.  The values of $T$ and  $\\lambda$ are independent of each other. The calculation of the equation must be done for all combinations of $T$ and  $\\lambda$, but in a way where the structure of the return variable is [L,1] or [L,N].\n",
      "\n",
      "\n",
      "There are twelve variations of this equation for \n",
      "\n",
      "- 3x frequency, wavenumber, and wavelength units,\n",
      "- 2x radiant units and photon units, and \n",
      "- 2x basic form and temperature derivative form."
     ]
    },
    {
     "cell_type": "markdown",
     "metadata": {},
     "source": [
      "The Planck equation does not lend itself to vectorised calculation because of its relative complex form.\n",
      "Attempting to write the Planck equation in vector/matrix form will be quite a challenge. The Python function accepts the spectral variable and temperature variable  in array form, but thse are then 'flattened' into long vectors of matching values of spectral sample and temperature sample - for which the Planck equation can be readily calculated.  After the Planck calculation is complete, the flat array is reshaped back, according to the shape of the input arrays.\n",
      "  \n",
      "It was an arduous task to include exactly the same flattening and reshaping code in all twelve function variations - and then changing them all when a change was required.  Instead there is now only one implementation of the flattening and reshaping code, and it applies to all twelve functions.  The code is implemented in a Python [decorator](http://www.artima.com/weblogs/viewpost.jsp?thread=240808) (not unique to Python, many other languages also have decorators).  The decorator is almost like a wrapping function that is applied to the user function (decorating the original). Using the decorator function it is possible to execute code before the user function is called and then also after the user function is called.  In this application, the flattening is done before the function call and the reshaping is done after the function call - keeping only one copy of the code, but applying it to all the functions.  Python decorators are also used for many other [applications](https://wiki.python.org/moin/PythonDecoratorLibrary)."
     ]
    },
    {
     "cell_type": "markdown",
     "metadata": {},
     "source": [
      "The code is as follows. First the Planck function showing the decorator, indicated here as `@fixDimensions`. Note that the user function (docstring and some code removed) focuses only on the Planck equation and not on array dimensions. The `fixDimensions` intercepts all the input and output from this function and process according to the decorator requirements.\n",
      "\n",
      "    @fixDimensions\n",
      "    def planckel(spectral, temperature):\n",
      "        # ... some code removed\n",
      "        p = (pconst.c1el / ( numpy.exp(exP2)-1)) / (spectral ** 5)\n",
      "        # ... some code removed\n",
      "        return planckA"
     ]
    },
    {
     "cell_type": "markdown",
     "metadata": {},
     "source": [
      "The decorator function (docstring and some code removed) focuses only on manipulation of input and output data formats, and has no idea what is happening inside the Planck functions, which it calls.  \n",
      "\n",
      "The decorator function:\n",
      "\n",
      "- checks the shapes of the input variables and takes error action if necessary.\n",
      "- converts all input to numpy arrays, interpreted as float values (if not already so)\n",
      "- reshapes and creates a meshgrid to provide all the combinations of input sample values.\n",
      "- flattens the arrays by using the [`ravel`](http://docs.scipy.org/doc/numpy/reference/generated/numpy.ravel.html?highlight=ravel) function.  \n",
      "  \n",
      "\n",
      "    def fixDimensions(planckFun):\n",
      "      @wraps(planckFun)\n",
      "      def inner(spectral, temperature):\n",
      "    \n",
      "        # ... some code removed\n",
      "        # create flattened version of the input dataset\n",
      "        specgrid, tempgrid = numpy.meshgrid(spectral,temperature)\n",
      "        spec = numpy.ravel(specgrid)\n",
      "        temp = numpy.ravel(tempgrid)\n",
      "    \n",
      "At this point the Planck function is called with the flattened arrays. \n",
      "\n",
      "        planckA = planckFun(spec,temp) \n",
      "        \n",
      "After the function returns, the return values are handed back to the decorator function which then proceeds to reshape the array back into a format the user can work with.\n",
      "    \n",
      "        # ... some code removed\n",
      "        # now unflatten to proper structure again, spectral along axis=0\n",
      "        rtnVal = planckA.reshape(temperature.shape[0],-1).T\n",
      "    \n",
      "        return rtnVal\n",
      "      return inner"
     ]
    },
    {
     "cell_type": "markdown",
     "metadata": {},
     "source": [
      "The decorator does some pre-processing before the function is called, then calls the function and afterwards to some post-processing again. The benefit in this case is that only one copy of the pre- and post-processing is kept, but applied to all twelve function variations."
     ]
    },
    {
     "cell_type": "heading",
     "level": 2,
     "metadata": {},
     "source": [
      "Decorator concepts"
     ]
    },
    {
     "cell_type": "code",
     "collapsed": false,
     "input": [],
     "language": "python",
     "metadata": {},
     "outputs": []
    },
    {
     "cell_type": "code",
     "collapsed": false,
     "input": [],
     "language": "python",
     "metadata": {},
     "outputs": []
    },
    {
     "cell_type": "code",
     "collapsed": false,
     "input": [],
     "language": "python",
     "metadata": {},
     "outputs": []
    },
    {
     "cell_type": "code",
     "collapsed": false,
     "input": [],
     "language": "python",
     "metadata": {},
     "outputs": []
    },
    {
     "cell_type": "heading",
     "level": 2,
     "metadata": {},
     "source": [
      "Decorator applications"
     ]
    },
    {
     "cell_type": "heading",
     "level": 3,
     "metadata": {},
     "source": [
      "Timing with decorators"
     ]
    },
    {
     "cell_type": "code",
     "collapsed": false,
     "input": [
      "import math\n",
      "import time\n",
      "\n",
      "def time_dec(func):\n",
      "  def wrapper(*arg):\n",
      "      t = time.clock()\n",
      "      res = func(*arg)\n",
      "      print('fn={} time={}'.format(func.func_name, time.clock()-t))\n",
      "      return res\n",
      "  return wrapper\n",
      "\n",
      "@time_dec\n",
      "def myFunction(a):\n",
      "    return math.atan(a)\n",
      "    \n",
      "print(myFunction(0.55))    \n",
      "    "
     ],
     "language": "python",
     "metadata": {},
     "outputs": [
      {
       "output_type": "stream",
       "stream": "stdout",
       "text": [
        "fn=myFunction time=7.69732082517e-06\n",
        "0.502843210928\n"
       ]
      }
     ],
     "prompt_number": 13
    },
    {
     "cell_type": "heading",
     "level": 3,
     "metadata": {},
     "source": [
      "Chaining decorators"
     ]
    },
    {
     "cell_type": "code",
     "collapsed": false,
     "input": [
      "def makebold(fn):\n",
      "    def wrapped():\n",
      "        return \"<b>\" + fn() + \"</b>\"\n",
      "    return wrapped\n",
      "\n",
      "def makeitalic(fn):\n",
      "    def wrapped():\n",
      "        return \"<i>\" + fn() + \"</i>\"\n",
      "    return wrapped\n",
      "\n",
      "@makebold\n",
      "@makeitalic\n",
      "def hello():\n",
      "    return \"hello world\"\n",
      "\n",
      "print hello()"
     ],
     "language": "python",
     "metadata": {},
     "outputs": [
      {
       "output_type": "stream",
       "stream": "stdout",
       "text": [
        "<b><i>hello world</i></b>\n"
       ]
      }
     ],
     "prompt_number": 12
    },
    {
     "cell_type": "heading",
     "level": 3,
     "metadata": {},
     "source": [
      "Repository of decorators"
     ]
    },
    {
     "cell_type": "markdown",
     "metadata": {},
     "source": [
      "<https://wiki.python.org/moin/PythonDecoratorLibrary> has a large number of decorators for many different applications. The following is a list of some of these.  The code won't work here, because some of the decorators are quite long and must be included in your code."
     ]
    },
    {
     "cell_type": "markdown",
     "metadata": {},
     "source": [
      "Use the accepts decorator for type checking:  \n",
      "\n",
      "    @accepts(uint, utf8string)\n",
      "    def myMethod(ID, name):\n",
      "        print(ID, name)\n",
      "\n",
      "    myMethod(4, 'string')"
     ]
    },
    {
     "cell_type": "markdown",
     "metadata": {},
     "source": [
      "Implement singletons:  \n",
      "\n",
      "    @singleton\n",
      "    class Highlander:\n",
      "        x = 100\n",
      "\n",
      "    Highlander() is Highlander() is Highlander #=> True\n",
      "    id(Highlander()) == id(Highlander) #=> True\n",
      "    Highlander().x == Highlander.x == 100 #=> True\n",
      "    Highlander.x = 50\n",
      "    Highlander().x == Highlander.x == 50 #=> True"
     ]
    },
    {
     "cell_type": "markdown",
     "metadata": {},
     "source": [
      "Memoizing a class. Caches a function's return value each time it is called. If called later with the same arguments, the cached value is returned (not reevaluated)\n",
      "\n",
      "    @memoized\n",
      "    def fibonacci(n):\n",
      "       \"Return the nth fibonacci number.\"\n",
      "       if n in (0, 1):\n",
      "          return n\n",
      "       return fibonacci(n-1) + fibonacci(n-2)\n",
      "\n",
      "    print fibonacci(12)\n"
     ]
    },
    {
     "cell_type": "markdown",
     "metadata": {},
     "source": [
      "Smart deprecation warnings (with valid filenames, line numbers, etc.)\n",
      "\n",
      "    @deprecated\n",
      "    def my_func():\n",
      "        pass\n",
      "\n",
      "    my_func()"
     ]
    },
    {
     "cell_type": "markdown",
     "metadata": {},
     "source": [
      "Enable/Disable Decorators\n",
      "\n",
      "    GLOBAL_ENABLE_FLAG = True\n",
      "\n",
      "    state = enabled if GLOBAL_ENABLE_FLAG else disabled\n",
      "    @state\n",
      "    def special_function_foo():\n",
      "        print \"function was enabled\"\n",
      "        \n",
      "    special_function_foo()"
     ]
    },
    {
     "cell_type": "markdown",
     "metadata": {},
     "source": [
      "Easy Dump of Function Arguments\n",
      "\n",
      "    @dump_args\n",
      "    def f1(a,b,c):\n",
      "        print a + b + c\n",
      "\n",
      "    f1(1, 2, 3)"
     ]
    },
    {
     "cell_type": "markdown",
     "metadata": {},
     "source": [
      "State machine implementations  \n",
      "<https://wiki.python.org/moin/PythonDecoratorLibrary#State_Machine_Implementaion>  \n",
      "<https://wiki.python.org/moin/State%20Machine%20via%20Decorators>  "
     ]
    },
    {
     "cell_type": "markdown",
     "metadata": {},
     "source": [
      "Redirects stdout printing to python standard logging.\n",
      "\n",
      "    @logprintinfo\n",
      "    def somePrintingFunc():\n",
      "        print('Hello output')"
     ]
    },
    {
     "cell_type": "markdown",
     "metadata": {},
     "source": [
      "Access control prevents users from getting access to places where they are not authorised to go.\n",
      "\n",
      "    @LoginCheck\n",
      "    def display_members_page():\n",
      "        print 'This is the members page'"
     ]
    },
    {
     "cell_type": "heading",
     "level": 2,
     "metadata": {},
     "source": [
      "References"
     ]
    },
    {
     "cell_type": "markdown",
     "metadata": {},
     "source": [
      "[Knupp: Improve Your Python: Decorators Explained](https://www.jeffknupp.com/blog/2013/11/29/improve-your-python-decorators-explained/)  \n",
      "[Franklin: Understanding Python Decorators in 12 Easy Steps!](http://simeonfranklin.com/blog/2012/jul/1/python-decorators-in-12-steps/)  \n",
      "[Eckel: Decorators I: Introduction to Python Decorators](https://www.artima.com/weblogs/viewpost.jsp?thread=240808)  \n",
      "[Eckel: Python Decorators II: Decorator Arguments](https://www.artima.com/weblogs/viewpost.jsp?thread=240845)  \n",
      "[Eckel: Python Decorators III: A Decorator-Based Build System](https://www.artima.com/weblogs/viewpost.jsp?thread=241209)  \n",
      "[Farhat: A guide to Python's function decorators](http://thecodeship.com/patterns/guide-to-python-function-decorators/)\n",
      "[Yasoob: Python decorators finally demystified](http://freepythontips.wordpress.com/2013/12/05/python-decorators-finally-demystified/)  \n",
      "[Simionato: PyPI decorator module](https://pypi.python.org/pypi/decorator)  \n",
      "[Python wiki: PythonDecorators](https://wiki.python.org/moin/PythonDecorators)  \n",
      "[Chaining decorators](https://stackoverflow.com/questions/739654/how-can-i-make-a-chain-of-function-decorators-in-python)  \n",
      "[Some common uses](https://stackoverflow.com/questions/489720/what-are-some-common-uses-for-python-decorators)  \n"
     ]
    },
    {
     "cell_type": "heading",
     "level": 2,
     "metadata": {},
     "source": [
      "Python and [module versions, and dates](http://nbviewer.ipython.org/github/jrjohansson/scientific-python-lectures/blob/master/Lecture-0-Scientific-Computing-with-Python.ipynb)"
     ]
    },
    {
     "cell_type": "code",
     "collapsed": false,
     "input": [
      "%load_ext version_information\n",
      "%version_information numpy, scipy"
     ],
     "language": "python",
     "metadata": {},
     "outputs": [
      {
       "output_type": "stream",
       "stream": "stdout",
       "text": [
        "The version_information extension is already loaded. To reload it, use:\n",
        "  %reload_ext version_information\n"
       ]
      },
      {
       "html": [
        "<table><tr><th>Software</th><th>Version</th></tr><tr><td>Python</td><td>2.7.6 (default, Nov 10 2013, 19:24:18) [MSC v.1500 32 bit (Intel)]</td></tr><tr><td>IPython</td><td>2.0.0</td></tr><tr><td>OS</td><td>nt [win32]</td></tr><tr><td>numpy</td><td>1.8.1</td></tr><tr><td>scipy</td><td>0.13.3</td></tr><tr><td colspan='2'>Tue Apr 29 21:04:16 2014 South Africa Standard Time</td></tr></table>"
       ],
       "json": [
        "{\"Software versions\": [{\"version\": \"2.7.6 (default, Nov 10 2013, 19:24:18) [MSC v.1500 32 bit (Intel)]\", \"module\": \"Python\"}, {\"version\": \"2.0.0\", \"module\": \"IPython\"}, {\"version\": \"nt [win32]\", \"module\": \"OS\"}, {\"version\": \"1.8.1\", \"module\": \"numpy\"}, {\"version\": \"0.13.3\", \"module\": \"scipy\"}]}"
       ],
       "latex": [
        "\\begin{tabular}{|l|l|}\\hline\n",
        "{\\bf Software} & {\\bf Version} \\\\ \\hline\\hline\n",
        "Python & 2.7.6 (default, Nov 10 2013, 19:24:18) [MSC v.1500 32 bit (Intel)] \\\\ \\hline\n",
        "IPython & 2.0.0 \\\\ \\hline\n",
        "OS & nt [win32] \\\\ \\hline\n",
        "numpy & 1.8.1 \\\\ \\hline\n",
        "scipy & 0.13.3 \\\\ \\hline\n",
        "\\hline \\multicolumn{2}{|l|}{Tue Apr 29 21:04:16 2014 South Africa Standard Time} \\\\ \\hline\n",
        "\\end{tabular}\n"
       ],
       "metadata": {},
       "output_type": "pyout",
       "prompt_number": 10,
       "text": [
        "Software versions\n",
        "Python 2.7.6 (default, Nov 10 2013, 19:24:18) [MSC v.1500 32 bit (Intel)]\n",
        "IPython 2.0.0\n",
        "OS nt [win32]\n",
        "numpy 1.8.1\n",
        "scipy 0.13.3\n",
        "<tr><td colspan='2'>Tue Apr 29 21:04:16 2014 South Africa Standard Time</td></tr>"
       ]
      }
     ],
     "prompt_number": 10
    },
    {
     "cell_type": "code",
     "collapsed": false,
     "input": [],
     "language": "python",
     "metadata": {},
     "outputs": []
    }
   ],
   "metadata": {}
  }
 ]
}