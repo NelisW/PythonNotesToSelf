{
 "cells": [
  {
   "cell_type": "markdown",
   "metadata": {},
   "source": [
    "# Simultaneous Support for Python 2 and Python 3"
   ]
  },
  {
   "cell_type": "markdown",
   "metadata": {},
   "source": [
    "## Resources and References\n",
    "\n",
    "### Language differences\n",
    "\n",
    "http://python3porting.com/differences.html Language differences and workarounds\n",
    "\n",
    "http://sebastianraschka.com/Articles/2014_python_2_3_key_diff.html The key differences between Python 2.7.x and Python 3.x with examples\n",
    "\n",
    "\n",
    "### Dual version 2 and 3\n",
    "\n",
    "https://docs.python.org/3/howto/pyporting.html This guide is meant to help you figure out how best to support both Python 2 & 3 simultaneously.\n",
    "\n",
    "http://python-future.org/ Easy, clean, reliable Python 2/3 compatibility\n",
    "\n",
    "http://python-future.org/compatible_idioms.html Cheat Sheet: Writing Python 2-3 compatible code\n",
    "\n",
    "http://python3porting.com/problems.html Common migration problems\n",
    "\n",
    "\n",
    "### Single version 3\n",
    "\n",
    "https://docs.python.org/2/library/2to3.html  2to3 is a Python program that reads Python 2.x source code and applies a series of fixers to transform it into valid Python 3.x cod\n",
    "\n",
    "### Porting C code to version 3\n",
    "\n",
    "https://docs.python.org/3/howto/cporting.html#cporting-howto Porting Extension Modules to Python 3"
   ]
  },
  {
   "cell_type": "code",
   "execution_count": null,
   "metadata": {
    "collapsed": true
   },
   "outputs": [],
   "source": []
  },
  {
   "cell_type": "code",
   "execution_count": null,
   "metadata": {
    "collapsed": true
   },
   "outputs": [],
   "source": []
  },
  {
   "cell_type": "markdown",
   "metadata": {},
   "source": [
    "## Code fragments"
   ]
  },
  {
   "cell_type": "code",
   "execution_count": null,
   "metadata": {
    "collapsed": true
   },
   "outputs": [],
   "source": [
    "if int(sys.version[0]) < 3:\n",
    "    import codecs\n",
    "    \n",
    "if sys.version_info[0] < 3:\n",
    "    import codecs\n",
    "    "
   ]
  },
  {
   "cell_type": "code",
   "execution_count": null,
   "metadata": {
    "collapsed": true
   },
   "outputs": [],
   "source": [
    "#Python 2\n",
    "if not (isinstance(html, basestring)):\n",
    "    pass\n",
    "\n",
    "#Python 2 and 3\n",
    "from builtins import str\n",
    "if not (isinstance(html, str)):\n",
    "    pass\n"
   ]
  },
  {
   "cell_type": "code",
   "execution_count": null,
   "metadata": {
    "collapsed": true
   },
   "outputs": [],
   "source": [
    "# byte string to normal string\n",
    "#Python 2\n",
    "labelStr = labelStr\n",
    "\n",
    "#Python 2 and 3\n",
    "labelStr = labelStr.decode(\"utf-8\")\n"
   ]
  },
  {
   "cell_type": "code",
   "execution_count": null,
   "metadata": {
    "collapsed": true
   },
   "outputs": [],
   "source": [
    "# Convert a bytes string to a regular string\n",
    "\n",
    "#Python 2 and 3\n",
    "\n",
    "if int(sys.version[0]) < 3:\n",
    "    pass\n",
    "else:\n",
    "    print(type(labelStr))\n",
    "    if isinstance(labelStr, bytes):\n",
    "        labelStr = labelStr.decode(\"utf-8\")\n"
   ]
  }
 ],
 "metadata": {
  "kernelspec": {
   "display_name": "Python 2",
   "language": "python",
   "name": "python2"
  },
  "language_info": {
   "codemirror_mode": {
    "name": "ipython",
    "version": 2
   },
   "file_extension": ".py",
   "mimetype": "text/x-python",
   "name": "python",
   "nbconvert_exporter": "python",
   "pygments_lexer": "ipython2",
   "version": "2.7.11"
  }
 },
 "nbformat": 4,
 "nbformat_minor": 0
}
