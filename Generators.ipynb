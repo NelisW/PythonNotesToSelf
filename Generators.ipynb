{
 "metadata": {
  "name": "",
  "signature": "sha256:b2979a40b6d11a62836d84d0967951c7d2eb19cdb9a0ab3cc72fb7030e2a65f8"
 },
 "nbformat": 3,
 "nbformat_minor": 0,
 "worksheets": [
  {
   "cells": [
    {
     "cell_type": "heading",
     "level": 1,
     "metadata": {},
     "source": [
      "Not yet ready!!!"
     ]
    },
    {
     "cell_type": "heading",
     "level": 2,
     "metadata": {},
     "source": [
      "Introduction to generators"
     ]
    },
    {
     "cell_type": "markdown",
     "metadata": {},
     "source": [
      "<http://tech.pro/tutorial/2136/a-gentle-introduction-to-generators-in-python>"
     ]
    },
    {
     "cell_type": "code",
     "collapsed": false,
     "input": [
      "def fetch_rows(first_row, last_row):\n",
      "    rows = []\n",
      "    for pos in range(first_row, last_row):\n",
      "        fetch_row(pos)\n",
      "        rows.append(row)\n",
      "    return rows"
     ],
     "language": "python",
     "metadata": {},
     "outputs": [],
     "prompt_number": 4
    },
    {
     "cell_type": "markdown",
     "metadata": {},
     "source": [
      "I showed how this could be written as a generator -"
     ]
    },
    {
     "cell_type": "code",
     "collapsed": false,
     "input": [
      "def fetch_rows(first_row, last_row):\n",
      "    pos = first_row\n",
      "    while pos < last_row:\n",
      "        fetch_row(pos)\n",
      "        yield row\n",
      "        pos += 1"
     ],
     "language": "python",
     "metadata": {},
     "outputs": [],
     "prompt_number": 5
    },
    {
     "cell_type": "markdown",
     "metadata": {},
     "source": [
      "What I forgot to emphasise is that all this is transparent to the caller of \n",
      "the function - no changes are required.\n",
      " "
     ]
    },
    {
     "cell_type": "code",
     "collapsed": false,
     "input": [
      "rows = fetch_rows(first_row, last_row)\n",
      "for row in rows:\n",
      "    pass # [do something]\n",
      " "
     ],
     "language": "python",
     "metadata": {},
     "outputs": [
      {
       "ename": "NameError",
       "evalue": "name 'first_row' is not defined",
       "output_type": "pyerr",
       "traceback": [
        "\u001b[1;31m---------------------------------------------------------------------------\u001b[0m\n\u001b[1;31mNameError\u001b[0m                                 Traceback (most recent call last)",
        "\u001b[1;32m<ipython-input-7-af5b87388b0e>\u001b[0m in \u001b[0;36m<module>\u001b[1;34m()\u001b[0m\n\u001b[1;32m----> 1\u001b[1;33m \u001b[0mrows\u001b[0m \u001b[1;33m=\u001b[0m \u001b[0mfetch_rows\u001b[0m\u001b[1;33m(\u001b[0m\u001b[0mfirst_row\u001b[0m\u001b[1;33m,\u001b[0m \u001b[0mlast_row\u001b[0m\u001b[1;33m)\u001b[0m\u001b[1;33m\u001b[0m\u001b[0m\n\u001b[0m\u001b[0;32m      2\u001b[0m \u001b[1;32mfor\u001b[0m \u001b[0mrow\u001b[0m \u001b[1;32min\u001b[0m \u001b[0mrows\u001b[0m\u001b[1;33m:\u001b[0m\u001b[1;33m\u001b[0m\u001b[0m\n\u001b[0;32m      3\u001b[0m     \u001b[1;32mpass\u001b[0m \u001b[1;31m# [do something]\u001b[0m\u001b[1;33m\u001b[0m\u001b[0m\n\u001b[0;32m      4\u001b[0m \u001b[1;33m\u001b[0m\u001b[0m\n",
        "\u001b[1;31mNameError\u001b[0m: name 'first_row' is not defined"
       ]
      }
     ],
     "prompt_number": 7
    },
    {
     "cell_type": "markdown",
     "metadata": {},
     "source": [
      "\n",
      "In the first case, 'fetch_rows()' returns a list, and 'for row in rows' \n",
      "iterates over the list.\n",
      " \n",
      "In the second case, 'fetch_rows()' returns a generator object, but no code \n",
      "in it is executed yet.\n",
      " \n",
      "When you call 'for row in rows', it calls next(rows) repeatedly until \n",
      "StopIteration is raised.\n",
      " \n",
      "The first time it is called, the function executes from the top until it \n",
      "reaches the first 'yield'. It yields the value and suspends itself.\n",
      " \n",
      "For each subsequent call, it continues from the statement following the \n",
      "'yield', until it either reaches another 'yield', in which case the process \n",
      "is repeated, or it reaches the end of the function, in which case it raises \n",
      "StopIteration.\n",
      " \n",
      "The benefit of this is that the calling function receives the first row \n",
      "straight away, and each following row on demand, instead of waiting for the \n",
      "entire list to be constructed first."
     ]
    },
    {
     "cell_type": "markdown",
     "metadata": {},
     "source": []
    }
   ],
   "metadata": {}
  }
 ]
}