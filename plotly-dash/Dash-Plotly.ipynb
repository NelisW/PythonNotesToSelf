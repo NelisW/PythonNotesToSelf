{
 "cells": [
  {
   "cell_type": "markdown",
   "metadata": {},
   "source": [
    "# Dash-Plotly \n",
    "\n",
    "Dash is Python framework for building web applications. It built on top of Flask, Plotly.js, React and React Js. It enables you to build dashboards using pure Python. Dash is open source, and its apps run on the web browser. \n",
    "\n",
    "https://dash.plot.ly/  \n",
    "https://dash.plot.ly/gallery  \n",
    "https://www.youtube.com/watch?v=5BAthiN0htc\n",
    "\n",
    "https://dash.plot.ly/dash-daq  \n",
    "https://dash-daq.netlify.com  \n",
    "best of all, it is MIT licensed!  \n",
    "\n",
    "https://github.com/plotly/dash-recipes  \n",
    "https://github.com/plotly/dash-recipes/blob/master/multiple-hover-data.py  \n",
    "https://plot.ly/python/subplots/  \n",
    "\n",
    "https://www.datacamp.com/community/tutorials/learn-build-dash-python  \n",
    "https://towardsdatascience.com/a-short-python-tutorial-using-the-open-source-plotly-dash-library-part-i-e59fb1f1a457  \n",
    "https://www.dashdaq.io/control-a-wireless-arduino-robot-in-python  \n",
    "https://www.dashdaq.io/read-phidgets-accelerometer-in-python  \n",
    "https://dash-gallery.plotly.host/dash-oil-and-gas/  \n",
    "\n",
    "\n",
    "\n",
    "Check out this guy's work:  \n",
    "https://github.com/WillKoehrsen/Data-Analysis/blob/master/plotly/Plotly%20Whirlwind%20Introduction.ipynb  \n",
    "https://www.udemy.com/interactive-python-dashboards-with-plotly-and-dash/  \n",
    "https://www.datacamp.com/community/tutorials/learn-build-dash-python  \n",
    "https://towardsdatascience.com/a-short-python-tutorial-using-the-open-source-plotly-dash-library-part-i-e59fb1f1a457  "
   ]
  },
  {
   "cell_type": "markdown",
   "metadata": {},
   "source": [
    "# Dash-Plotly Tutorial\n",
    "In this tutorial, we introduce the reader to Dash fundamentals and assume that they have prior experience with Plotly. This tutorial freely copies information from several sources, I do not claim original authorship on the initial parts.  The later application sections have more original content. \n",
    "\n"
   ]
  },
  {
   "cell_type": "markdown",
   "metadata": {},
   "source": [
    "## Installation\n",
    "\n",
    "https://www.datacamp.com/community/tutorials/learn-build-dash-python  \n",
    "\n",
    "\n",
    "In order to start using Dash, we have to install several packages.\n",
    "\n",
    "- The core dash backend.\n",
    "- Dash front-end\n",
    "- Dash HTML components\n",
    "- Dash core components\n",
    "- Plotly\n",
    "\n",
    "\n",
    "    conda config --add channels conda-forge\n",
    "    conda search dash-daq --channel conda-forge\n",
    "\n",
    "    conda install dash\n",
    "    conda install dash-html-components\n",
    "    conda install dash-core-components\n",
    "    conda install dash-table\n",
    "    conda install dash-daq\n",
    "\n",
    "\n"
   ]
  },
  {
   "cell_type": "markdown",
   "metadata": {},
   "source": [
    "## Getting Help\n"
   ]
  },
  {
   "cell_type": "code",
   "execution_count": 6,
   "metadata": {},
   "outputs": [],
   "source": [
    "# uncomment to get the help info\n",
    "# help(dcc.Input)"
   ]
  },
  {
   "cell_type": "markdown",
   "metadata": {},
   "source": [
    "## Dash App Layout\n",
    "\n",
    "A Dash application is usually composed of two parts. The first part is the layout and describes how the app will look like and the second part describes the interactivity of the application. Dash provides HTML classes that enable us to generate HTML content with Python. To use these classes, we need to import dash_core_components and dash_html_components. You can also create your own custom components using Javascript and React Js.\n",
    "\n",
    "To kick us off we shall create a file called `app01.py` using our favorite text editor then import these packages."
   ]
  },
  {
   "cell_type": "code",
   "execution_count": 7,
   "metadata": {},
   "outputs": [],
   "source": [
    "import dash\n",
    "import dash_core_components as dcc\n",
    "import dash_html_components as html"
   ]
  },
  {
   "cell_type": "markdown",
   "metadata": {},
   "source": [
    "Once Dash is initialised, create the layout for the application. Some browsers have security restrictions to serve a page from 127.0.0.1, this must be overridden to allow serving.\n",
    "\n",
    "Create a dash_html_componentss HTML `Div`. Then use the HTML components to generate HTML components such as H1, H2 etc. \n",
    "At the top level the `app.layout = html.Div()` object has a list of other plotly or HTML elements in its `children` attribute, all of which appears to be stacked vertically (if in a simple list):\n",
    "\n",
    "    app.layout = html.Div(style={'backgroundColor': colors['background']}, \n",
    "    children=[\n",
    "        html.H1(...),\n",
    "        html.Div(...),\n",
    "        dcc.Graph(...)\n",
    "    ])\n",
    "\n",
    "Create a dash_core_components `Graph` to render interactive data visualizations using plotly.js.\n",
    "The `Graph` class expects a `figure` object with the data to be plotted and the layout details. Dash also allows you to do stylings such as changing the background color and text color. You can change the background by using the style attribute and passing an object with your specific color. In our case, we have defined a color dictionary with the background and text color we would like. Similarly, we can change the layout background using the plot_bgcolor attribute.\n",
    "\n",
    "In HTML the style property is specified using a semicolon, but in Dash, a dictionary is supplied. The keys in the dictionary are camelCased e.g text-align is textAlign. "
   ]
  },
  {
   "cell_type": "code",
   "execution_count": 8,
   "metadata": {},
   "outputs": [],
   "source": [
    "# initialise Dash\n",
    "app = dash.Dash()\n",
    "\n",
    "# override security restrictions: allow the serving of local pages \n",
    "app.css.config.serve_locally = True\n",
    "app.scripts.config.serve_locally = True\n",
    "\n",
    "# define style and colours\n",
    "colors = {\n",
    "    'background': '#111111',\n",
    "    'text': '#7FDBFF'\n",
    "}\n",
    "\n",
    "# do the layout insode a Div\n",
    "# create a Div, which can contain HTML elements\n",
    "app.layout = html.Div(style={'backgroundColor': colors['background']}, children=[\n",
    "    html.H1(\n",
    "        children='Hello Dash',\n",
    "        style={\n",
    "            'textAlign': 'center',\n",
    "            'color': colors['text']\n",
    "        }\n",
    "    ),\n",
    "    html.Div(children='Dash: A web application framework for Python.', style={\n",
    "        'textAlign': 'center',\n",
    "        'color': colors['text']\n",
    "    }),\n",
    "    dcc.Graph(\n",
    "        id='Graph1',\n",
    "        figure={\n",
    "            'data': [\n",
    "                {'x': [1, 2, 3], 'y': [4, 1, 2], 'type': 'bar', 'name': 'SF'},\n",
    "                {'x': [1, 2, 3], 'y': [2, 4, 5], 'type': 'bar', 'name': u'Montréal'},\n",
    "            ],\n",
    "            'layout': {\n",
    "                'plot_bgcolor': colors['background'],\n",
    "                'paper_bgcolor': colors['background'],\n",
    "                'font': {\n",
    "                    'color': colors['text']\n",
    "                }\n",
    "            }\n",
    "        }\n",
    "    )\n",
    "])\n"
   ]
  },
  {
   "cell_type": "markdown",
   "metadata": {},
   "source": [
    "In order to view our visualization, we need to run our web server just like in Flask. \n",
    "\n",
    "Set `debug` to true to ensure we don't have to keep refreshing the server every time we make some changes.\n",
    "\n",
    "Set the port number to be used for the serving.\n"
   ]
  },
  {
   "cell_type": "code",
   "execution_count": 1,
   "metadata": {},
   "outputs": [],
   "source": [
    "# don't run the following in the notebook, rather in a command window:\n",
    "# if __name__ == '__main__':\n",
    "#     app.run_server(debug=True,port=8050)"
   ]
  },
  {
   "cell_type": "markdown",
   "metadata": {},
   "source": [
    "Once the server is running in a command window (`python app01.py`), the output will be something like\n",
    "\n",
    "    Running on http://127.0.0.1:8050/\n",
    "    Running on http://127.0.0.1:8050/\n",
    "    Debugger PIN: 357-448-006\n",
    "    Debugger PIN: 357-448-006\n",
    "     * Serving Flask app \"__main__\" (lazy loading)\n",
    "     * Environment: production\n",
    "       WARNING: Do not use the development server in a production environment.\n",
    "       Use a production WSGI server instead.\n",
    "     * Debug mode: on"
   ]
  },
  {
   "cell_type": "markdown",
   "metadata": {},
   "source": [
    "## Adding Content to the Page\n",
    "\n",
    "See `app02.py` for examples of markdown, scatter plots, checkboxes, drop down combo boxes, etc.\n",
    "Each of these new elements are simply added to the list of children object in the top-level Div.\n",
    "\n",
    "### Generating Scatter Plots\n",
    "\n",
    "In order to plot a scatter plot, `import Plotly graph_objs`. Plot the scatter plot using `graph_objs` scatter property. In order to make sure the plot is a scatter plot pass a mode attribute and set it as markers. Otherwise, the plot would have lines on the graph. See `app02.py`\n",
    "\n",
    "### Markdown\n",
    "\n",
    "Use  `Markdown` from  `dash_core_components`. See `app02.py`\n",
    "\n",
    "### Other HTML Elements\n",
    "\n",
    "See `app02.py` for examples.\n",
    "\n",
    "\n",
    "[Dash Style Guide](https://codepen.io/chriddyp/pen/bWLwgP)  \n",
    "[Dash components](https://dash.plot.ly/dash-core-components/)  \n",
    "\n"
   ]
  },
  {
   "cell_type": "markdown",
   "metadata": {},
   "source": [
    "## Building a Grid of Components\n",
    "\n",
    "[Dash Style Guide](https://codepen.io/chriddyp/pen/bWLwgP)  \n",
    "The grid is a 12-column fluid grid with a max width of 960px, that shrinks with the browser/device at smaller sizes. The max width can be changed with one line of CSS and all columns will resize accordingly.\n",
    "\n",
    "Adding components in a grid requires Div elements inside Div elements, where each 'Div' is allocated a number of columns (all should add up to 12 according to the default style.\n",
    "\n",
    "https://community.plot.ly/t/how-to-manage-the-layout-of-division-figures-in-dash/6484  \n",
    "https://community.plot.ly/t/two-graphs-side-by-side/5312/2\n",
    "\n",
    "When using the grid, ensure that the css file is accessible, otherwise it will not work.\n",
    "Local css files must be put in an `assets` subfolder, relative to where the script is run from.\n",
    "\n",
    "It is a bit of a nightmare to figure out the various Divs, especially to get the scope right. There seems to be no easy tool for this.  Properly formatting the Python script, as well as using the folding in a text editor helps a little to see the structure in the file.\n",
    "\n",
    "The following code displays two graphs, each six columns wide, in a row.\n",
    "\n",
    "Also look into the `style={'columnCount': 2}` two-column style.\n"
   ]
  },
  {
   "cell_type": "code",
   "execution_count": 2,
   "metadata": {},
   "outputs": [],
   "source": [
    "import dash\n",
    "import dash_html_components as html\n",
    "import dash_core_components as dcc\n",
    "\n",
    "app = dash.Dash()\n",
    "app.layout = html.Div([\n",
    "    html.Div([\n",
    "        html.Div([\n",
    "            html.H3('Column 1'),\n",
    "            dcc.Graph(id='g1', figure={'data': [{'y': [1, 2, 3]}]})\n",
    "        ], className=\"six columns\"),\n",
    "\n",
    "        html.Div([\n",
    "            html.H3('Column 2'),\n",
    "            dcc.Graph(id='g2', figure={'data': [{'y': [1, 2, 3]}]})\n",
    "        ], className=\"six columns\"),\n",
    "    ], className=\"row\")\n",
    "])\n",
    "\n",
    "app.css.append_css({\n",
    "    'external_url': 'https://codepen.io/chriddyp/pen/bWLwgP.css'\n",
    "})\n",
    "\n",
    "if __name__ == '__main__':\n",
    "    #app.run_server(debug=True)\n",
    "    pass\n",
    "    "
   ]
  },
  {
   "cell_type": "markdown",
   "metadata": {},
   "source": [
    "## Interactivity\n",
    "\n",
    "Now let's cover how we can make our Dash apps interactive. In order to do this, we need to import Input and Output from dash.dependencies. Don't confuse these with the HTML Input because they are different. The HTML Input is imported from the dash core components. Below we create an input text and bind it a callback such that whenever you type something into that box, it updates my-div in real time. In order to enable this Dash provides a decorator @app which makes it possible to bind a callback function to my-div and the HTML input field. Notice that we use the decorator before we declare the update_output_div function."
   ]
  }
 ],
 "metadata": {
  "kernelspec": {
   "display_name": "Python 3",
   "language": "python",
   "name": "python3"
  },
  "language_info": {
   "codemirror_mode": {
    "name": "ipython",
    "version": 3
   },
   "file_extension": ".py",
   "mimetype": "text/x-python",
   "name": "python",
   "nbconvert_exporter": "python",
   "pygments_lexer": "ipython3",
   "version": "3.7.1"
  }
 },
 "nbformat": 4,
 "nbformat_minor": 2
}
