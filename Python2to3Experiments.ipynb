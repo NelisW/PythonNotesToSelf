{
 "cells": [
  {
   "cell_type": "markdown",
   "metadata": {},
   "source": [
    "#Getting code to work in Python 2.7 and 3.4"
   ]
  },
  {
   "cell_type": "markdown",
   "metadata": {},
   "source": [
    "##Conda Python Environments"
   ]
  },
  {
   "cell_type": "markdown",
   "metadata": {},
   "source": [
    "[Python virtual environments](http://astropy.readthedocs.org/en/latest/development/workflow/virtual_pythons.html)  provides a nice overvew.\n",
    "\n",
    "Conceptually, a virtual environment is a duplicate of the python environment you normally work in with as many (or as few) of the packages from your normal environment included in that virtual environment. It is sandboxed from your normal python environment in the sense that packages installed in the virtual environment do not affect your normal environment in any way.\n",
    "\n",
    "- If you use the anaconda python distribution you must use conda to make and manage your virtual environments. You cannot use virtualenvwrapper or virtualenv within anaconda.\n",
    "- If you use any other Python distribution you cannot use conda, instead use `virtualenvwrapper` (a wrapper around `virtualenv`)."
   ]
  },
  {
   "cell_type": "markdown",
   "metadata": {},
   "source": [
    "###Conda environments"
   ]
  },
  {
   "cell_type": "markdown",
   "metadata": {},
   "source": [
    "[Starting from a regular Anaconda installation](http://continuum.io/blog/anaconda-python-3)\n",
    "\n",
    "If you have installed Anaconda from the full installer, there is a root environment which has Python 2.7 and all other packages. What this means is that these packages are installed directly into the install prefix which was selected during the install process. The conda package manager now allows creating new environments separately from the root environment. Since these additional environments are completely separate, they may contain a different major Python version. The following command would be used to create an Anaconda Python 3 environment named py3k:\n",
    "\n",
    "`$ conda create -n py34 python=3.4 anaconda`\n",
    "\n",
    "Here `python=3.4` and `anaconda` are package specifications, and it is the job of the SAT solver inside conda to find a consistent set of packages which satisfies these requirements. As the root environment uses Python 2, we had to specify the major version explicitly.\n",
    "\n",
    "After adding the binary directory of the newly created environment to the PATH environment variable, which may be done using\n",
    "\n",
    "`$ source activate py3k`\n",
    "\n",
    "You are ready to use this Python 3 Anaconda environment.\n",
    "    \n",
    "[Trying it out](http://continuum.io/blog/anaconda-python-3)  \n",
    "\n",
    "Here is a small sample session, which shows how you create a Python 3 environment with IPython, activated it, and start it:\n",
    "\n",
    "    $ conda create -n py3k python=3 ipython\n",
    "    ...\n",
    "\n",
    "    $ source activate py3k\n",
    "    prepending /home/ilan/a150/envs/py3k/bin to PATH\n",
    "    (py3k)$ ipython\n",
    "    Python 3.3.2 |Continuum Analytics, Inc.| (default, Aug  5 2013, 15:04:35) \n",
    "    Type \"copyright\", \"credits\" or \"license\" for more information.\n",
    "\n",
    "    IPython 1.1.0 -- An enhanced Interactive Python.\n",
    "    ?         -> Introduction and overview of IPython's features.\n",
    "    %quickref -> Quick reference.\n",
    "    help      -> Python's own help system.\n",
    "    object?   -> Details about 'object', use 'object??' for extra details.\n",
    "\n",
    "    In [1]:\n"
   ]
  },
  {
   "cell_type": "markdown",
   "metadata": {},
   "source": [
    "[How to Python Like a Boss](https://www.wakari.io/sharing/bundle/krmckelv/How%20to%20Python%20Like%20A%20Boss) states:\n",
    "\n",
    "The current version of NetworkX is 1.8.1, but suppose I have a script that is dependent on NetworkX 1.7 for now. This calls for package environments!\n",
    "\n",
    "- Create a new environment named \"nx1.7\", and link all the Anaconda packages  \n",
    "    `conda create -n nx1.7 anaconda`\n",
    "- List all currently-defined environments:  \n",
    "    `conda info -e`  \n",
    "- Activate our new environment:  \n",
    "    `source activate nx1.7`  \n",
    "- Replace NetworkX 1.8 with 1.7:  \n",
    "    `conda install networkx=1.7`  \n",
    "- Deactivate our new environment, returning to the base Anaconda env:  \n",
    "    `source deactivate nx1.7`  \n",
    "\n",
    "\n",
    "Environments are also a great way to have Python 2.7 and 3.3 side-by-side:  \n",
    "    `conda create -n py3.3 python=3.3 anaconda`  \n",
    "Then, like before, I can just switch to py3k with a  \n",
    "    `source activate py3.3`  \n",
    "and switch back with  \n",
    "    `source deactivate py3.3`  "
   ]
  },
  {
   "cell_type": "markdown",
   "metadata": {},
   "source": [
    "[Using Conda for package environments](http://conda.pydata.org/docs/intro.html#creating-python-3-4-or-python-2-6-environments) states:\n",
    "\n",
    "Anaconda supports Python 2.6, 2.7, 3.3, and 3.4. The default is Python 2.7 or 3.4, depending on which installer you used.\n",
    "\n",
    "To get started, you need to create an environment using the conda create command.\n",
    "\n",
    "`$ conda create -n py34 python=3.4 anaconda`\n",
    "\n",
    "Here, `py34` is the name of the environment to create, and `anaconda` is the meta-package that includes all of the actual Python packages comprising the Anaconda distribution. When creating a new environment and installing the Anaconda meta-package, the NumPy and Python versions can be specified, e.g. `numpy=1.7` or `python=3.4`.\n",
    "\n",
    "`$ conda create -n py26 python=2.6 anaconda`\n",
    "\n",
    "After the environment creation process completes, adjust your `PATH` variable to point to this directory. On Linux/MacOSX systems, this can be easily done using:\n",
    "\n",
    "`$ source activate <env name>`  \n",
    "`# This command assumes ~/anaconda/bin/activate is the first 'activate' on your current PATH`\n",
    "\n",
    "This will modify your Bash PS1 to include the name of the environment.\n",
    "\n",
    "`$ source activate myenv`  \n",
    "`(myenv)$`\n",
    "\n",
    "You can disable this with `conda config --set changeps1 no`. The environment variable `CONDA_DEFAULT_ENV` is set to the currently activated environment.\n",
    "\n",
    "On Windows systems, use `activate` instead of `source activate`.\n",
    "\n",
    "Now you’re ready to begin using the Python located in your created environment.\n",
    "\n",
    "If you would like to deactivate this environment and revert your PATH to its previous state, use:\n",
    "\n",
    "`$ source deactivate`\n",
    "\n",
    "On Windows, this is just `deactivate`."
   ]
  },
  {
   "cell_type": "markdown",
   "metadata": {},
   "source": [
    "<http://docs.continuum.io/anaconda/faq.html>\n",
    "How do I update my conda environments? Can I update all of them at once?  \n",
    "To update packages in your environment, you can use the command `conda update -n myenv X`, where `myenv` is the name of the environment and X is the name of the package(s) you want updated. You cannot update all of your conda environments at once. The issue is one of dependencies, and we don’t want your custom created packages to break. \n",
    "\n",
    "\n",
    "I want Python 2.6 or Python 3. Does Anaconda include it?  \n",
    "The regular Anaconda installers come with Python 2.7, and the new Anaconda3 come with Python 3.4. To use Python 2.6 or 3.3, you must create a new conda environment using the conda create command. Keep in mind to access the Python 2.6 or Python 3 packages you will need to be able to access the internet and the Continuum Analytics repositories. Documentation for conda can be found here. If you would like to make Python 3.4 your default version, you can download and install the appropriate miniconda3 installer. Not all packages are compatible with Python 3.4, so you may receive package does not exist errors. \n",
    "\n",
    "\n",
    "<http://conda.pydata.org/docs/intro.html>    \n",
    "<http://conda.pydata.org/docs/faq.html>  \n"
   ]
  },
  {
   "cell_type": "markdown",
   "metadata": {},
   "source": [
    "[How to install Python 2.7.8 and 3.4.1 concurrently?](http://www.reddit.com/r/Python/comments/2gsngm/how_to_install_python_278_and_341_concurrently/)\n",
    "\n"
   ]
  },
  {
   "cell_type": "markdown",
   "metadata": {},
   "source": [
    "http://conda.pydata.org/docs/faq.html"
   ]
  },
  {
   "cell_type": "markdown",
   "metadata": {},
   "source": [
    "If the activate command does not work, read here:  <http://stackoverflow.com/questions/20081338/how-to-activate-an-anaconda-environment>\n"
   ]
  },
  {
   "cell_type": "code",
   "execution_count": null,
   "metadata": {
    "collapsed": true
   },
   "outputs": [],
   "source": []
  }
 ],
 "metadata": {
  "kernelspec": {
   "display_name": "Python 2",
   "language": "python",
   "name": "python2"
  },
  "language_info": {
   "codemirror_mode": {
    "name": "ipython",
    "version": 2
   },
   "file_extension": ".py",
   "mimetype": "text/x-python",
   "name": "python",
   "nbconvert_exporter": "python",
   "pygments_lexer": "ipython2",
   "version": "2.7.8"
  }
 },
 "nbformat": 4,
 "nbformat_minor": 0
}
