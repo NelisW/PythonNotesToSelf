{
 "cells": [
  {
   "cell_type": "markdown",
   "metadata": {
    "run_control": {
     "frozen": false,
     "read_only": false
    }
   },
   "source": [
    "# Pandas Cheat Sheet"
   ]
  },
  {
   "cell_type": "markdown",
   "metadata": {},
   "source": [
    "Nice tips on more advanced use\n",
    "\n",
    "https://www.shanelynn.ie/summarising-aggregation-and-grouping-data-in-python-pandas/  \n",
    "\n",
    "http://pbpython.com/pandas-list-dict.html\n"
   ]
  },
  {
   "cell_type": "markdown",
   "metadata": {
    "run_control": {
     "frozen": false,
     "read_only": false
    }
   },
   "source": [
    "References:  \n",
    "<http://pandas.pydata.org/pandas-docs/stable/basics.html>  \n",
    "<http://pandas.pydata.org/pandas-docs/version/0.15.2/10min.html>    \n",
    "<http://synesthesiam.com/posts/an-introduction-to-pandas.html>  \n",
    "<http://pbpython.com/excel-pandas-comp.html>  \n",
    "<http://pbpython.com/excel-pandas-comp-2.html>  \n",
    "<http://pbpython.com/improve-pandas-excel-output.html>  \n",
    "<http://tech.novus.com/augmenting-your-excel-workflow-with-python/>    \n",
    "<http://pbpython.com/advanced-excel-workbooks.html>\n",
    "\n",
    "<http://pbpython.com/pandas-pivot-table-explained.html.\n",
    "<http://pbpython.com/pandas-pivot-report.html>\n",
    "\n",
    "http://pbpython.com/weighted-average.html\n",
    "\n",
    "<http://pandas.pydata.org/pandas-docs/stable/cookbook.html#cookbook-multi-index>  \n",
    "\n",
    "<http://www.bigdataexaminer.com/14-best-python-pandas-features/>  \n",
    "<http://pandas.pydata.org/pandas-docs/stable/reshaping.html#reshaping>  \n",
    "<https://iqbalnaved.wordpress.com/2013/08/26/python-pandas-hacks/>   \n",
    "\n",
    "<https://plot.ly/ipython-notebooks/big-data-analytics-with-pandas-and-sqlite/>  \n",
    "<http://www.analyticsvidhya.com/blog/2015/04/comprehensive-guide-data-exploration-sas-using-python-numpy-scipy-matplotlib-pandas/>  \n",
    "\n",
    "<http://manishamde.github.io/blog/2013/03/07/pandas-and-python-top-10/>  \n",
    "<http://www.gregreda.com/2013/10/26/intro-to-pandas-data-structures/>  \n"
   ]
  },
  {
   "cell_type": "code",
   "execution_count": 2,
   "metadata": {
    "collapsed": true,
    "run_control": {
     "frozen": false,
     "read_only": false
    }
   },
   "outputs": [],
   "source": [
    "import numpy as np\n",
    "import pandas as pd\n",
    "\n",
    "import datetime\n",
    "\n",
    "from __future__ import print_function"
   ]
  },
  {
   "cell_type": "markdown",
   "metadata": {
    "run_control": {
     "frozen": false,
     "read_only": false
    }
   },
   "source": [
    "<https://s3.amazonaws.com/quandl-static-content/Documents/Quandl+-+Pandas,+SciPy,+NumPy+Cheat+Sheet.pdf>   \n",
    "\n",
    "|Create pandas data structures| |\n",
    "|--|--|\n",
    "|s = Series(data, index) |Create a Series.|\n",
    "|df = DataFrame (data, index, columns) |Create a Dataframe.|\n",
    "|p = Panel(data, items, major_axis, minor_axis)|Create a Panel.|\n",
    "\n",
    "\n",
    "|\tDataFrame Commands\t|\t\t|\n",
    "|--|--|\n",
    "|\tdf[col]\t|\tSelect column.\t|\n",
    "|\tdf.iloc[label]\t|\tSelect row by label.\t|\n",
    "|\tdf.index\t|\tReturn DataFrame index.\t|\n",
    "|\tdf.drop()\t|\tDelete given row or column. Pass axis=1 for columns.\t|\n",
    "|\tdf1 = df1.reindex_like(df1,df2)\t|\tReindex df1 with index of df2.\t|\n",
    "|\tdf.reset_index()\t|\tReset index, putting old index in column named index.\t|\n",
    "|\tdf.reindex()\t|\tChange DataFrame index, new indecies set to NaN.\t|\n",
    "|\tdf.head(n)\t|\tShow first n rows.\t|\n",
    "|\tdf.tail(n)\t|\tShow last n rows.\t|\n",
    "|\tdf.sort()\t|\tSort index.\t|\n",
    "|\tdf.sort(axis=1)\t|\tSort columns.\t|\n",
    "|\tdf.pivot(index,column,values)\t|\tPivot DataFrame, using new conditions.\t|\n",
    "|\tdf.T\t|\tTranspose DataFrame.\t|\n",
    "|\tdf.stack()\t|\tChange lowest level of column labels into innermost row index.\t|\n",
    "|\tdf.unstack()\t|\tChange innermost row index into lowest level of column labels.\t|\n",
    "|\tdf.applymap()\t|\tApply function to every element in DataFrame.\t|\n",
    "|\tdf.apply()\t|\tApply function along a given axis\t|\n",
    "|\tdf.dropna()\t|\tDrops rows where any data is missing.\t|\n",
    "|\tdf.count()\t|\tReturns Series of row counts for every column.\t|\n",
    "|\tdf.min()\t|\tReturn minimum of every column.\t|\n",
    "|\tdf.max()\t|\tReturn maximum of every column.\t|\n",
    "|\tdf.describe()\t|\tGenerate various summary statistics for every column.\t|\n",
    "|\tconcat()\t|\tMerge DataFrame or Series objects\t|\t\n",
    "\n",
    "|\tGroupby\t|\t\t|\n",
    "|--|--|\n",
    "|\tgroupby()\t|\tSplit DataFrame by columns. Creates a GroupBy object (gb).\t|\n",
    "|\tgb.agg()\t|\tApply function (single or list) to a GroupBy object.\t|\n",
    "|\tgb.transform()\t|\tApplies function and returns object with same index as one being grouped.\t|\n",
    "|\tgb.filter()\t|\tFilter GroupBy object by a given function.\t|\n",
    "|\tgb.groups\t|\tReturn dict whose keys are the unique groups, and values are axis labels belonging to each group.\t|\n",
    "\n",
    "|\tI/O\t|\t\t|\n",
    "|--|--|\n",
    "|\tdf.to_csv('foo.csv')\t|\tSave to CSV.\t|\n",
    "|\tread_csv('foo.csv')\t|\tRead CSV into DataFrame.\t|\n",
    "|\tto_excel('foo.xlsx', sheet_name)\t|\tSave to Excel.\t|\n",
    "|\tread_excel('foo.xlsx','sheet1', index_col = None, na_values = ['NA'])\t|\tRead exel into DataFrame\t|\n",
    "\n",
    "\t\n"
   ]
  },
  {
   "cell_type": "markdown",
   "metadata": {
    "run_control": {
     "frozen": false,
     "read_only": false
    }
   },
   "source": [
    "## Set the display width when printing to console\n",
    "\n",
    "There are quite a few options to configure here, if you're using ipython then tab complete to find the [full set](http://pandas.pydata.org/pandas-docs/version/0.15.2/options.html) of display options:\n",
    "\n",
    "    pd.options.display.<tab>\n",
    "\n",
    "<http://stackoverflow.com/questions/21249206/how-to-configure-display-output-in-ipython-pandas>"
   ]
  },
  {
   "cell_type": "code",
   "execution_count": 3,
   "metadata": {
    "collapsed": true,
    "run_control": {
     "frozen": false,
     "read_only": false
    }
   },
   "outputs": [],
   "source": [
    "# maximum number of rows and columns displayed when a frame is pretty-printed\n",
    "pd.set_option('display.max_columns', 30)\n",
    "pd.set_option('display.max_rows', 10)\n",
    "# Width of the display in characters.\n",
    "pd.set_option('display.width', 150)\n",
    "# The maximum width in characters of a column in the repr of a pandas data structure.              \n",
    "pd.set_option('display.max_colwidth', 150)"
   ]
  },
  {
   "cell_type": "markdown",
   "metadata": {
    "run_control": {
     "frozen": false,
     "read_only": false
    }
   },
   "source": [
    "## Displaying DataFrame data usage"
   ]
  },
  {
   "cell_type": "markdown",
   "metadata": {
    "run_control": {
     "frozen": false,
     "read_only": false
    }
   },
   "source": [
    "http://pandas.pydata.org/pandas-docs/version/0.15.2/faq.html\n",
    "\n",
    "The memory usage of a dataframe (including the index) is shown when accessing the info method of a dataframe. A configuration option, `display.memory_usage` (see [Options and Settings](http://pandas.pydata.org/pandas-docs/version/0.15.2/options.html#options)), specifies if the dataframe's memory usage will be displayed when invoking the `df.info()` method.  By default the display option is set to `True` but can be explicitly overridden by passing the `memory_usage` argument when invoking `df.info()`."
   ]
  },
  {
   "cell_type": "code",
   "execution_count": 4,
   "metadata": {
    "run_control": {
     "frozen": false,
     "read_only": false
    }
   },
   "outputs": [
    {
     "name": "stdout",
     "output_type": "stream",
     "text": [
      "<class 'pandas.core.frame.DataFrame'>\n",
      "Int64Index: 5000 entries, 0 to 4999\n",
      "Data columns (total 8 columns):\n",
      "bool               5000 non-null bool\n",
      "complex128         5000 non-null complex128\n",
      "datetime64[ns]     5000 non-null datetime64[ns]\n",
      "float64            5000 non-null float64\n",
      "int64              5000 non-null int64\n",
      "object             5000 non-null object\n",
      "timedelta64[ns]    5000 non-null timedelta64[ns]\n",
      "categorical        5000 non-null category\n",
      "dtypes: bool(1), category(1), complex128(1), datetime64[ns](1), float64(1), int64(1), object(1), timedelta64[ns](1)\n",
      "memory usage: 323.0+ KB\n"
     ]
    }
   ],
   "source": [
    "dtypes = ['int64', 'float64', 'datetime64[ns]', 'timedelta64[ns]','complex128', 'object', 'bool']\n",
    "n = 5000\n",
    "data = dict([ (t, np.random.randint(100, size=n).astype(t)) for t in dtypes])\n",
    "df = pd.DataFrame(data)\n",
    "df['categorical'] = df['object'].astype('category')\n",
    "df.info()\n"
   ]
  },
  {
   "cell_type": "markdown",
   "metadata": {
    "run_control": {
     "frozen": false,
     "read_only": false
    }
   },
   "source": [
    "The `+` symbol indicates that the true memory usage could be higher, because pandas does not count the memory used by values in columns with `dtype=object`.\n",
    "\n",
    "The memory usage of each column can be found by calling the `memory_usag`e method. This returns a `Series` with an index represented by column names and memory usage of each column shown in bytes. For the dataframe above, the memory usage of each column and the total memory usage of the dataframe can be found with the memory_usage method:\n"
   ]
  },
  {
   "cell_type": "code",
   "execution_count": 6,
   "metadata": {
    "run_control": {
     "frozen": false,
     "read_only": false
    }
   },
   "outputs": [
    {
     "data": {
      "text/plain": [
       "Index              40000\n",
       "bool                5000\n",
       "complex128         80000\n",
       "datetime64[ns]     40000\n",
       "float64            40000\n",
       "int64              40000\n",
       "object             40000\n",
       "timedelta64[ns]    40000\n",
       "categorical         5800\n",
       "dtype: int64"
      ]
     },
     "execution_count": 6,
     "metadata": {},
     "output_type": "execute_result"
    }
   ],
   "source": [
    "df.memory_usage(index=True)"
   ]
  },
  {
   "cell_type": "markdown",
   "metadata": {
    "run_control": {
     "frozen": false,
     "read_only": false
    }
   },
   "source": [
    "## Creating/Loading Data"
   ]
  },
  {
   "cell_type": "markdown",
   "metadata": {
    "run_control": {
     "frozen": false,
     "read_only": false
    }
   },
   "source": [
    "### Functions to create different dataframe types"
   ]
  },
  {
   "cell_type": "markdown",
   "metadata": {
    "run_control": {
     "frozen": false,
     "read_only": false
    }
   },
   "source": [
    "An empty DataFrame can be created as follows. Test to see if the DataFrame is empty. In this case it is."
   ]
  },
  {
   "cell_type": "code",
   "execution_count": 4,
   "metadata": {
    "run_control": {
     "frozen": false,
     "read_only": false
    }
   },
   "outputs": [
    {
     "name": "stdout",
     "output_type": "stream",
     "text": [
      "Empty DataFrame\n",
      "Columns: [A, B, C]\n",
      "Index: []\n",
      "True\n"
     ]
    }
   ],
   "source": [
    "columns = ['A','B', 'C']\n",
    "df = pd.DataFrame(columns=columns)\n",
    "print(df)\n",
    "print(df.empty)"
   ]
  },
  {
   "cell_type": "markdown",
   "metadata": {
    "run_control": {
     "frozen": false,
     "read_only": false
    }
   },
   "source": [
    "If you add an index, the row contents for the rows specified by the index will be empty (filled with NaN).  However, testing to see if the DataFrame is empty will show that it is not empty: there are rows."
   ]
  },
  {
   "cell_type": "code",
   "execution_count": 5,
   "metadata": {
    "run_control": {
     "frozen": false,
     "read_only": false
    }
   },
   "outputs": [
    {
     "name": "stdout",
     "output_type": "stream",
     "text": [
      "              A    B    C\n",
      "2016-01-28  NaN  NaN  NaN\n",
      "2016-01-29  NaN  NaN  NaN\n",
      "2016-01-30  NaN  NaN  NaN\n",
      "False\n",
      "            A  B  C\n",
      "2016-01-28  0  0  0\n",
      "2016-01-29  0  0  0\n",
      "2016-01-30  0  0  0\n"
     ]
    }
   ],
   "source": [
    "todays_date = datetime.datetime.now().date()\n",
    "index = pd.date_range(todays_date-datetime.timedelta(10), periods=3, freq='D')\n",
    "columns = ['A','B', 'C']\n",
    "df = pd.DataFrame(index=index, columns=columns)\n",
    "print(df)\n",
    "print(df.empty)\n",
    "df = df.fillna(0) # with 0s rather than NaNs\n",
    "print(df)"
   ]
  },
  {
   "cell_type": "markdown",
   "metadata": {
    "run_control": {
     "frozen": false,
     "read_only": false
    }
   },
   "source": [
    "### Creating and filling DataFrames"
   ]
  },
  {
   "cell_type": "markdown",
   "metadata": {
    "run_control": {
     "frozen": false,
     "read_only": false
    }
   },
   "source": [
    "The following  functions create pandas dataframes in a variety of ways."
   ]
  },
  {
   "cell_type": "code",
   "execution_count": 4,
   "metadata": {
    "run_control": {
     "frozen": false,
     "read_only": false
    }
   },
   "outputs": [
    {
     "name": "stdout",
     "output_type": "stream",
     "text": [
      "                   A         B         C         D\n",
      "2013-01-01  0.532506 -0.679253  1.052995  0.779169\n",
      "2013-01-02  0.247245 -0.493314 -0.934018 -0.927235\n",
      "2013-01-03  0.013339  0.071208 -0.959120  0.944197\n",
      "2013-01-04 -1.989278  0.328953  0.624842  1.086813\n",
      "2013-01-05  0.638037  0.315763  1.359108 -1.191849\n",
      "2013-01-06  1.510932  0.098455  1.253271 -0.290452\n"
     ]
    }
   ],
   "source": [
    "# DataFrame by passing a numpy array, with a datetime index and labeled columns.\n",
    "def makeDateRand(nrows=6, ncols=4):\n",
    "    dates = pd.date_range('20130101',periods=nrows)\n",
    "    df = pd.DataFrame(np.random.randn(nrows,ncols),index=dates,columns=list('ABCD')) \n",
    "    return df\n",
    "print(makeDateRand())"
   ]
  },
  {
   "cell_type": "code",
   "execution_count": 7,
   "metadata": {
    "run_control": {
     "frozen": false,
     "read_only": false
    }
   },
   "outputs": [
    {
     "name": "stdout",
     "output_type": "stream",
     "text": [
      "                   A         B         C         D       Date\n",
      "2013-01-01 -0.858220 -1.121771  0.285643  0.037193 2013-01-01\n",
      "2013-01-02  0.819435 -1.495568  1.150104 -0.633927 2013-01-02\n",
      "2013-01-03 -0.183442 -0.503572 -0.791790  0.411153 2013-01-03\n",
      "2013-01-04 -0.267630  0.150403 -0.909288 -1.565888 2013-01-04\n",
      "2013-01-05  0.456620 -0.105889  0.452721  1.376860 2013-01-05\n",
      "2013-01-06  1.729353  0.274230 -1.288973 -0.113950 2013-01-06\n"
     ]
    }
   ],
   "source": [
    "# DataFrame by passing a numpy array, with a datetime index and labeled columns, but also with a Date column.\n",
    "def makeDateColRand(nrows=6, ncols=4):\n",
    "    dates = pd.date_range('20130101',periods=6)\n",
    "    df = pd.DataFrame(np.random.randn(nrows,ncols),index=dates,columns=list('ABCD')) \n",
    "    df['Date'] = df.index\n",
    "    return df\n",
    "print(makeDateColRand())"
   ]
  },
  {
   "cell_type": "code",
   "execution_count": 5,
   "metadata": {
    "collapsed": true,
    "run_control": {
     "frozen": false,
     "read_only": false
    }
   },
   "outputs": [],
   "source": [
    "# DataFrame by passing a numpy array, with an int index and labeled columns.\n",
    "def makeRand(nrows=4, ncols=4):\n",
    "    return pd.DataFrame(np.random.randn(nrows, ncols), columns=['A','B','C','D'])"
   ]
  },
  {
   "cell_type": "code",
   "execution_count": 6,
   "metadata": {
    "collapsed": true,
    "run_control": {
     "frozen": false,
     "read_only": false
    }
   },
   "outputs": [],
   "source": [
    "# create from dictionary\n",
    "def makefoobar():\n",
    "    return  pd.DataFrame({'A' : ['foo', 'bar', 'foo', 'bar','foo', 'bar', 'foo', 'foo'],\n",
    "                          'B' : ['one', 'one', 'two', 'three','two', 'two', 'one', 'three'],\n",
    "                          'C' : np.random.randn(8),\n",
    "                          'D' : np.random.randn(8)})"
   ]
  },
  {
   "cell_type": "code",
   "execution_count": 10,
   "metadata": {
    "collapsed": true,
    "run_control": {
     "frozen": false,
     "read_only": false
    }
   },
   "outputs": [],
   "source": [
    "# create from dictionary\n",
    "def makegridDF():\n",
    "    return  pd.DataFrame({'A' : [1,2,3],\n",
    "                          'B' : [4,5,6],\n",
    "                          'C' : [7,8,9],\n",
    "                          'D' : [10,11,12]})"
   ]
  },
  {
   "cell_type": "code",
   "execution_count": 11,
   "metadata": {
    "collapsed": true,
    "run_control": {
     "frozen": false,
     "read_only": false
    }
   },
   "outputs": [],
   "source": [
    "# create from dictionary with scalars\n",
    "# ValueError: If use all scalar values, must pass index\n",
    "def makegridScalarDF():\n",
    "    return  pd.DataFrame(dct = {'A' : 1,'B' : 4,'C' : 9,'D' : 12}, index=[0])"
   ]
  },
  {
   "cell_type": "code",
   "execution_count": 12,
   "metadata": {
    "collapsed": true,
    "run_control": {
     "frozen": false,
     "read_only": false
    }
   },
   "outputs": [],
   "source": [
    "# create from dictionary\n",
    "def makegAlphaDF():\n",
    "    return  pd.DataFrame({'A' : ['0a','1a','2a'],\n",
    "                          'B' : ['0b','1b','2b'],\n",
    "                          'C' : ['0c','1c','2c'],\n",
    "                          'D' : ['0d','1d','2d']})"
   ]
  },
  {
   "cell_type": "code",
   "execution_count": 13,
   "metadata": {
    "collapsed": true,
    "run_control": {
     "frozen": false,
     "read_only": false
    }
   },
   "outputs": [],
   "source": [
    "# create dataframe from a user-supplied string, using a user-defined regex separator \n",
    "def makeFromString(string, sep='\\s+', header=False):\n",
    "    from StringIO import StringIO\n",
    "    return pd.read_csv(StringIO(string), sep=sep, header=header)\n",
    "# alternative method\n",
    "#     import io\n",
    "#     return pd.read_table(io.BytesIO(content), sep=sep, header=header)"
   ]
  },
  {
   "cell_type": "code",
   "execution_count": 14,
   "metadata": {
    "collapsed": true,
    "run_control": {
     "frozen": false,
     "read_only": false
    }
   },
   "outputs": [],
   "source": [
    "# DataFrame by passing a dict of objects that can be converted to series-like.\n",
    "# using categorical in column E\n",
    "def makecatedf():\n",
    "    df = pd.DataFrame({'A' : 1.,\n",
    "                       'B' : pd.Timestamp('20130102'),\n",
    "                       'C' : pd.Series(1,index=list(range(4)),dtype='float32'),\n",
    "                       'D' : np.array([3] * 4,dtype='int32'),\n",
    "                       'E' : pd.Categorical([\"test\",\"train\",\"test\",\"train\"]),\n",
    "                       'F' : 'foo',\n",
    "                       'G': ['foox','fooa','foon','fooz']})\n",
    "    return (df)"
   ]
  },
  {
   "cell_type": "code",
   "execution_count": 15,
   "metadata": {
    "collapsed": true,
    "run_control": {
     "frozen": false,
     "read_only": false
    }
   },
   "outputs": [],
   "source": [
    "# create a dataframe with a NaN\n",
    "def makeNaNdf():\n",
    "    return pd.DataFrame([[1, np.nan], [3, 4], [4,5]], columns=list('AB'))"
   ]
  },
  {
   "cell_type": "code",
   "execution_count": 16,
   "metadata": {
    "collapsed": true,
    "run_control": {
     "frozen": false,
     "read_only": false
    }
   },
   "outputs": [],
   "source": [
    "# create a DataFrame with hierarchical column index\n",
    "# From http://pandas.pydata.org/pandas-docs/stable/indexing.html#indexing-view-versus-copy\n",
    "def createMultColIdx():\n",
    "    return pd.DataFrame([list('abcd'),\n",
    "                  list('efgh'),\n",
    "                  list('ijkl'),\n",
    "                  list('mnop')],\n",
    "                  columns=pd.MultiIndex.from_product([['one','two'],\n",
    "                      ['first','second']]))"
   ]
  },
  {
   "cell_type": "code",
   "execution_count": 17,
   "metadata": {
    "run_control": {
     "frozen": false,
     "read_only": false
    }
   },
   "outputs": [
    {
     "name": "stdout",
     "output_type": "stream",
     "text": [
      "                   A         B         C         D\n",
      "2013-01-01 -0.177214  0.560341 -0.700169 -0.033890\n",
      "2013-01-02 -1.239181 -2.410491  1.976401 -2.358025\n",
      "2013-01-03 -0.576677  0.002329  0.280428 -1.140695\n",
      "2013-01-04  0.071834  1.148618  2.061089  0.410267\n",
      "2013-01-05  0.545592  0.121366 -2.756828  0.398412\n",
      "2013-01-06  0.089176  1.147998  1.737739  0.253513\n"
     ]
    }
   ],
   "source": [
    "print(makeDateRand())"
   ]
  },
  {
   "cell_type": "markdown",
   "metadata": {
    "run_control": {
     "frozen": false,
     "read_only": false
    }
   },
   "source": [
    "Display the data types"
   ]
  },
  {
   "cell_type": "code",
   "execution_count": 18,
   "metadata": {
    "run_control": {
     "frozen": false,
     "read_only": false
    }
   },
   "outputs": [
    {
     "name": "stdout",
     "output_type": "stream",
     "text": [
      "A           float64\n",
      "B    datetime64[ns]\n",
      "C           float32\n",
      "D             int32\n",
      "E          category\n",
      "F            object\n",
      "G            object\n",
      "dtype: object\n"
     ]
    },
    {
     "data": {
      "text/html": [
       "<div>\n",
       "<table border=\"1\" class=\"dataframe\">\n",
       "  <thead>\n",
       "    <tr style=\"text-align: right;\">\n",
       "      <th></th>\n",
       "      <th>A</th>\n",
       "      <th>B</th>\n",
       "      <th>C</th>\n",
       "      <th>D</th>\n",
       "      <th>E</th>\n",
       "      <th>F</th>\n",
       "      <th>G</th>\n",
       "    </tr>\n",
       "  </thead>\n",
       "  <tbody>\n",
       "    <tr>\n",
       "      <th>0</th>\n",
       "      <td>1</td>\n",
       "      <td>2013-01-02</td>\n",
       "      <td>1</td>\n",
       "      <td>3</td>\n",
       "      <td>test</td>\n",
       "      <td>foo</td>\n",
       "      <td>foox</td>\n",
       "    </tr>\n",
       "    <tr>\n",
       "      <th>1</th>\n",
       "      <td>1</td>\n",
       "      <td>2013-01-02</td>\n",
       "      <td>1</td>\n",
       "      <td>3</td>\n",
       "      <td>train</td>\n",
       "      <td>foo</td>\n",
       "      <td>fooa</td>\n",
       "    </tr>\n",
       "    <tr>\n",
       "      <th>2</th>\n",
       "      <td>1</td>\n",
       "      <td>2013-01-02</td>\n",
       "      <td>1</td>\n",
       "      <td>3</td>\n",
       "      <td>test</td>\n",
       "      <td>foo</td>\n",
       "      <td>foon</td>\n",
       "    </tr>\n",
       "    <tr>\n",
       "      <th>3</th>\n",
       "      <td>1</td>\n",
       "      <td>2013-01-02</td>\n",
       "      <td>1</td>\n",
       "      <td>3</td>\n",
       "      <td>train</td>\n",
       "      <td>foo</td>\n",
       "      <td>fooz</td>\n",
       "    </tr>\n",
       "  </tbody>\n",
       "</table>\n",
       "</div>"
      ],
      "text/plain": [
       "   A          B  C  D      E    F     G\n",
       "0  1 2013-01-02  1  3   test  foo  foox\n",
       "1  1 2013-01-02  1  3  train  foo  fooa\n",
       "2  1 2013-01-02  1  3   test  foo  foon\n",
       "3  1 2013-01-02  1  3  train  foo  fooz"
      ]
     },
     "execution_count": 18,
     "metadata": {},
     "output_type": "execute_result"
    }
   ],
   "source": [
    "df2 = makecatedf()\n",
    "print(df2.dtypes)\n",
    "df2"
   ]
  },
  {
   "cell_type": "code",
   "execution_count": 19,
   "metadata": {
    "run_control": {
     "frozen": false,
     "read_only": false
    }
   },
   "outputs": [
    {
     "data": {
      "text/html": [
       "<div>\n",
       "<table border=\"1\" class=\"dataframe\">\n",
       "  <thead>\n",
       "    <tr style=\"text-align: right;\">\n",
       "      <th></th>\n",
       "      <th>Time</th>\n",
       "      <th>A_x</th>\n",
       "      <th>A_y</th>\n",
       "      <th>A_z</th>\n",
       "      <th>B_x</th>\n",
       "      <th>B_y</th>\n",
       "      <th>B_z</th>\n",
       "    </tr>\n",
       "  </thead>\n",
       "  <tbody>\n",
       "    <tr>\n",
       "      <th>0</th>\n",
       "      <td>-0.075509</td>\n",
       "      <td>-0.123527</td>\n",
       "      <td>-0.547239</td>\n",
       "      <td>-0.453707</td>\n",
       "      <td>-0.969796</td>\n",
       "      <td>0.248761</td>\n",
       "      <td>1.369613</td>\n",
       "    </tr>\n",
       "    <tr>\n",
       "      <th>1</th>\n",
       "      <td>-0.133580</td>\n",
       "      <td>-0.308314</td>\n",
       "      <td>-0.839347</td>\n",
       "      <td>-0.517989</td>\n",
       "      <td>0.652120</td>\n",
       "      <td>0.477232</td>\n",
       "      <td>-0.391767</td>\n",
       "    </tr>\n",
       "    <tr>\n",
       "      <th>2</th>\n",
       "      <td>0.623841</td>\n",
       "      <td>0.473552</td>\n",
       "      <td>0.059428</td>\n",
       "      <td>0.726088</td>\n",
       "      <td>-0.593291</td>\n",
       "      <td>-3.186297</td>\n",
       "      <td>-0.846863</td>\n",
       "    </tr>\n",
       "  </tbody>\n",
       "</table>\n",
       "</div>"
      ],
      "text/plain": [
       "       Time       A_x       A_y       A_z       B_x       B_y       B_z\n",
       "0 -0.075509 -0.123527 -0.547239 -0.453707 -0.969796  0.248761  1.369613\n",
       "1 -0.133580 -0.308314 -0.839347 -0.517989  0.652120  0.477232 -0.391767\n",
       "2  0.623841  0.473552  0.059428  0.726088 -0.593291 -3.186297 -0.846863"
      ]
     },
     "execution_count": 19,
     "metadata": {},
     "output_type": "execute_result"
    }
   ],
   "source": [
    "content = '''\n",
    "Time       A_x       A_y       A_z       B_x       B_y       B_z\n",
    "-0.075509 -0.123527 -0.547239 -0.453707 -0.969796  0.248761  1.369613\n",
    "-0.133580 -0.308314 -0.839347 -0.517989  0.652120  0.477232 -0.391767\n",
    " 0.623841  0.473552  0.059428  0.726088 -0.593291 -3.186297 -0.846863'''\n",
    "\n",
    "makeFromString(content,header=0)"
   ]
  },
  {
   "cell_type": "markdown",
   "metadata": {
    "run_control": {
     "frozen": false,
     "read_only": false
    }
   },
   "source": [
    "If you're using IPython, tab completion for column names (as well as public attributes) is automatically enabled:  \n",
    "    `df2.<Tab>`"
   ]
  },
  {
   "cell_type": "markdown",
   "metadata": {
    "run_control": {
     "frozen": false,
     "read_only": false
    }
   },
   "source": [
    "## Display two tables side-by-side"
   ]
  },
  {
   "cell_type": "markdown",
   "metadata": {
    "run_control": {
     "frozen": false,
     "read_only": false
    }
   },
   "source": [
    "<https://gist.github.com/stefanv/6416926>  "
   ]
  },
  {
   "cell_type": "code",
   "execution_count": 20,
   "metadata": {
    "collapsed": true,
    "run_control": {
     "frozen": false,
     "read_only": false
    }
   },
   "outputs": [],
   "source": [
    "class side_by_side():\n",
    "    def __init__(self, *frames):\n",
    "        self.frames = frames\n",
    "\n",
    "    def _repr_html_(self):\n",
    "        width = 100. / len(self.frames)\n",
    "\n",
    "        s = \"\"\n",
    "        for f in self.frames:\n",
    "            s += \"<div style='float: left;'>%s</div>\" % f._repr_html_()\n",
    "\n",
    "        return s"
   ]
  },
  {
   "cell_type": "code",
   "execution_count": 21,
   "metadata": {
    "run_control": {
     "frozen": false,
     "read_only": false
    }
   },
   "outputs": [
    {
     "data": {
      "text/html": [
       "<div style='float: left;'><div>\n",
       "<table border=\"1\" class=\"dataframe\">\n",
       "  <thead>\n",
       "    <tr style=\"text-align: right;\">\n",
       "      <th></th>\n",
       "      <th>A</th>\n",
       "      <th>B</th>\n",
       "      <th>C</th>\n",
       "      <th>D</th>\n",
       "    </tr>\n",
       "  </thead>\n",
       "  <tbody>\n",
       "    <tr>\n",
       "      <th>2013-01-01</th>\n",
       "      <td>2.043312</td>\n",
       "      <td>0.228007</td>\n",
       "      <td>1.479291</td>\n",
       "      <td>1.175846</td>\n",
       "    </tr>\n",
       "    <tr>\n",
       "      <th>2013-01-02</th>\n",
       "      <td>-0.336547</td>\n",
       "      <td>-1.553592</td>\n",
       "      <td>0.181825</td>\n",
       "      <td>-1.196477</td>\n",
       "    </tr>\n",
       "    <tr>\n",
       "      <th>2013-01-03</th>\n",
       "      <td>-1.298497</td>\n",
       "      <td>-2.395196</td>\n",
       "      <td>0.481757</td>\n",
       "      <td>-1.138769</td>\n",
       "    </tr>\n",
       "    <tr>\n",
       "      <th>2013-01-04</th>\n",
       "      <td>1.048605</td>\n",
       "      <td>-0.272528</td>\n",
       "      <td>-0.099638</td>\n",
       "      <td>1.510489</td>\n",
       "    </tr>\n",
       "    <tr>\n",
       "      <th>2013-01-05</th>\n",
       "      <td>0.833181</td>\n",
       "      <td>-0.595035</td>\n",
       "      <td>0.056169</td>\n",
       "      <td>-0.714009</td>\n",
       "    </tr>\n",
       "    <tr>\n",
       "      <th>2013-01-06</th>\n",
       "      <td>0.084287</td>\n",
       "      <td>-0.316808</td>\n",
       "      <td>-0.423116</td>\n",
       "      <td>-0.842682</td>\n",
       "    </tr>\n",
       "  </tbody>\n",
       "</table>\n",
       "</div></div><div style='float: left;'><div>\n",
       "<table border=\"1\" class=\"dataframe\">\n",
       "  <thead>\n",
       "    <tr style=\"text-align: right;\">\n",
       "      <th></th>\n",
       "      <th>A</th>\n",
       "      <th>B</th>\n",
       "      <th>C</th>\n",
       "      <th>D</th>\n",
       "    </tr>\n",
       "  </thead>\n",
       "  <tbody>\n",
       "    <tr>\n",
       "      <th>2013-01-01</th>\n",
       "      <td>-0.178832</td>\n",
       "      <td>-0.072836</td>\n",
       "      <td>0.121690</td>\n",
       "      <td>-1.276553</td>\n",
       "    </tr>\n",
       "    <tr>\n",
       "      <th>2013-01-02</th>\n",
       "      <td>-0.311788</td>\n",
       "      <td>-0.469182</td>\n",
       "      <td>0.027702</td>\n",
       "      <td>-0.671108</td>\n",
       "    </tr>\n",
       "    <tr>\n",
       "      <th>2013-01-03</th>\n",
       "      <td>-0.373054</td>\n",
       "      <td>0.325760</td>\n",
       "      <td>1.183707</td>\n",
       "      <td>0.074200</td>\n",
       "    </tr>\n",
       "    <tr>\n",
       "      <th>2013-01-04</th>\n",
       "      <td>-1.423603</td>\n",
       "      <td>0.811625</td>\n",
       "      <td>1.551876</td>\n",
       "      <td>-0.528851</td>\n",
       "    </tr>\n",
       "    <tr>\n",
       "      <th>2013-01-05</th>\n",
       "      <td>0.844672</td>\n",
       "      <td>2.476742</td>\n",
       "      <td>-1.208111</td>\n",
       "      <td>0.509202</td>\n",
       "    </tr>\n",
       "    <tr>\n",
       "      <th>2013-01-06</th>\n",
       "      <td>0.675090</td>\n",
       "      <td>0.171813</td>\n",
       "      <td>0.815705</td>\n",
       "      <td>0.740470</td>\n",
       "    </tr>\n",
       "  </tbody>\n",
       "</table>\n",
       "</div></div>"
      ],
      "text/plain": [
       "<__main__.side_by_side instance at 0x000000000AA51D88>"
      ]
     },
     "execution_count": 21,
     "metadata": {},
     "output_type": "execute_result"
    }
   ],
   "source": [
    "side_by_side(makeDateRand(), makeDateRand())"
   ]
  },
  {
   "cell_type": "markdown",
   "metadata": {
    "run_control": {
     "frozen": false,
     "read_only": false
    }
   },
   "source": [
    "## File Input/Output"
   ]
  },
  {
   "cell_type": "markdown",
   "metadata": {
    "run_control": {
     "frozen": false,
     "read_only": false
    }
   },
   "source": [
    "## CSV"
   ]
  },
  {
   "cell_type": "code",
   "execution_count": 22,
   "metadata": {
    "run_control": {
     "frozen": false,
     "read_only": false
    }
   },
   "outputs": [
    {
     "data": {
      "text/html": [
       "<div>\n",
       "<table border=\"1\" class=\"dataframe\">\n",
       "  <thead>\n",
       "    <tr style=\"text-align: right;\">\n",
       "      <th></th>\n",
       "      <th>Unnamed: 0</th>\n",
       "      <th>A</th>\n",
       "      <th>B</th>\n",
       "      <th>C</th>\n",
       "      <th>D</th>\n",
       "    </tr>\n",
       "  </thead>\n",
       "  <tbody>\n",
       "    <tr>\n",
       "      <th>0</th>\n",
       "      <td>2013-01-01</td>\n",
       "      <td>-1.005677</td>\n",
       "      <td>-0.049693</td>\n",
       "      <td>1.032511</td>\n",
       "      <td>0.153800</td>\n",
       "    </tr>\n",
       "    <tr>\n",
       "      <th>1</th>\n",
       "      <td>2013-01-02</td>\n",
       "      <td>-0.569620</td>\n",
       "      <td>1.028489</td>\n",
       "      <td>1.391856</td>\n",
       "      <td>-0.863458</td>\n",
       "    </tr>\n",
       "    <tr>\n",
       "      <th>2</th>\n",
       "      <td>2013-01-03</td>\n",
       "      <td>1.072119</td>\n",
       "      <td>1.189050</td>\n",
       "      <td>-0.470007</td>\n",
       "      <td>-1.061697</td>\n",
       "    </tr>\n",
       "    <tr>\n",
       "      <th>3</th>\n",
       "      <td>2013-01-04</td>\n",
       "      <td>-1.054019</td>\n",
       "      <td>-0.896340</td>\n",
       "      <td>-0.192165</td>\n",
       "      <td>0.015787</td>\n",
       "    </tr>\n",
       "    <tr>\n",
       "      <th>4</th>\n",
       "      <td>2013-01-05</td>\n",
       "      <td>0.177995</td>\n",
       "      <td>-0.945051</td>\n",
       "      <td>-1.334324</td>\n",
       "      <td>0.216172</td>\n",
       "    </tr>\n",
       "    <tr>\n",
       "      <th>5</th>\n",
       "      <td>2013-01-06</td>\n",
       "      <td>-0.145367</td>\n",
       "      <td>-1.988952</td>\n",
       "      <td>0.527754</td>\n",
       "      <td>0.149334</td>\n",
       "    </tr>\n",
       "  </tbody>\n",
       "</table>\n",
       "</div>"
      ],
      "text/plain": [
       "   Unnamed: 0         A         B         C         D\n",
       "0  2013-01-01 -1.005677 -0.049693  1.032511  0.153800\n",
       "1  2013-01-02 -0.569620  1.028489  1.391856 -0.863458\n",
       "2  2013-01-03  1.072119  1.189050 -0.470007 -1.061697\n",
       "3  2013-01-04 -1.054019 -0.896340 -0.192165  0.015787\n",
       "4  2013-01-05  0.177995 -0.945051 -1.334324  0.216172\n",
       "5  2013-01-06 -0.145367 -1.988952  0.527754  0.149334"
      ]
     },
     "execution_count": 22,
     "metadata": {},
     "output_type": "execute_result"
    }
   ],
   "source": [
    "df = makeDateRand()\n",
    "df.to_csv('foo.csv')\n",
    "pd.read_csv('foo.csv')"
   ]
  },
  {
   "cell_type": "code",
   "execution_count": 23,
   "metadata": {
    "run_control": {
     "frozen": false,
     "read_only": false
    }
   },
   "outputs": [
    {
     "data": {
      "text/html": [
       "<div>\n",
       "<table border=\"1\" class=\"dataframe\">\n",
       "  <thead>\n",
       "    <tr style=\"text-align: right;\">\n",
       "      <th></th>\n",
       "      <th>A</th>\n",
       "      <th>B</th>\n",
       "      <th>C</th>\n",
       "      <th>D</th>\n",
       "    </tr>\n",
       "  </thead>\n",
       "  <tbody>\n",
       "    <tr>\n",
       "      <th>2013-01-01</th>\n",
       "      <td>-1.172514</td>\n",
       "      <td>-1.232346</td>\n",
       "      <td>0.041391</td>\n",
       "      <td>0.502710</td>\n",
       "    </tr>\n",
       "    <tr>\n",
       "      <th>2013-01-02</th>\n",
       "      <td>0.390056</td>\n",
       "      <td>2.790345</td>\n",
       "      <td>0.870934</td>\n",
       "      <td>0.383643</td>\n",
       "    </tr>\n",
       "    <tr>\n",
       "      <th>2013-01-03</th>\n",
       "      <td>0.619794</td>\n",
       "      <td>-0.174052</td>\n",
       "      <td>0.242330</td>\n",
       "      <td>-0.929840</td>\n",
       "    </tr>\n",
       "    <tr>\n",
       "      <th>2013-01-04</th>\n",
       "      <td>0.281023</td>\n",
       "      <td>-0.193368</td>\n",
       "      <td>1.100167</td>\n",
       "      <td>-0.008582</td>\n",
       "    </tr>\n",
       "    <tr>\n",
       "      <th>2013-01-05</th>\n",
       "      <td>0.549323</td>\n",
       "      <td>-0.509116</td>\n",
       "      <td>1.862407</td>\n",
       "      <td>-0.264812</td>\n",
       "    </tr>\n",
       "    <tr>\n",
       "      <th>2013-01-06</th>\n",
       "      <td>1.544902</td>\n",
       "      <td>1.007861</td>\n",
       "      <td>-1.629962</td>\n",
       "      <td>-1.097465</td>\n",
       "    </tr>\n",
       "  </tbody>\n",
       "</table>\n",
       "</div>"
      ],
      "text/plain": [
       "                   A         B         C         D\n",
       "2013-01-01 -1.172514 -1.232346  0.041391  0.502710\n",
       "2013-01-02  0.390056  2.790345  0.870934  0.383643\n",
       "2013-01-03  0.619794 -0.174052  0.242330 -0.929840\n",
       "2013-01-04  0.281023 -0.193368  1.100167 -0.008582\n",
       "2013-01-05  0.549323 -0.509116  1.862407 -0.264812\n",
       "2013-01-06  1.544902  1.007861 -1.629962 -1.097465"
      ]
     },
     "execution_count": 23,
     "metadata": {},
     "output_type": "execute_result"
    }
   ],
   "source": [
    "import pandas as pd\n",
    "# use whitespace as separator\n",
    "df = makeDateRand()\n",
    "df.to_csv('foo.csv',sep=' ')\n",
    "pd.read_table('foo.csv', sep='\\s+')"
   ]
  },
  {
   "cell_type": "markdown",
   "metadata": {
    "run_control": {
     "frozen": false,
     "read_only": false
    }
   },
   "source": [
    "### Excel"
   ]
  },
  {
   "cell_type": "code",
   "execution_count": 24,
   "metadata": {
    "run_control": {
     "frozen": false,
     "read_only": false
    }
   },
   "outputs": [
    {
     "data": {
      "text/html": [
       "<div>\n",
       "<table border=\"1\" class=\"dataframe\">\n",
       "  <thead>\n",
       "    <tr style=\"text-align: right;\">\n",
       "      <th></th>\n",
       "      <th>A</th>\n",
       "      <th>B</th>\n",
       "      <th>C</th>\n",
       "      <th>D</th>\n",
       "    </tr>\n",
       "  </thead>\n",
       "  <tbody>\n",
       "    <tr>\n",
       "      <th>2013-01-01</th>\n",
       "      <td>1.463285</td>\n",
       "      <td>0.454905</td>\n",
       "      <td>-0.381751</td>\n",
       "      <td>1.616424</td>\n",
       "    </tr>\n",
       "    <tr>\n",
       "      <th>2013-01-02</th>\n",
       "      <td>0.285236</td>\n",
       "      <td>0.414683</td>\n",
       "      <td>0.829285</td>\n",
       "      <td>-1.362172</td>\n",
       "    </tr>\n",
       "    <tr>\n",
       "      <th>2013-01-03</th>\n",
       "      <td>0.274179</td>\n",
       "      <td>0.529623</td>\n",
       "      <td>-0.094687</td>\n",
       "      <td>-0.326809</td>\n",
       "    </tr>\n",
       "    <tr>\n",
       "      <th>2013-01-04</th>\n",
       "      <td>0.681940</td>\n",
       "      <td>-0.378053</td>\n",
       "      <td>0.362236</td>\n",
       "      <td>0.177211</td>\n",
       "    </tr>\n",
       "    <tr>\n",
       "      <th>2013-01-05</th>\n",
       "      <td>0.389350</td>\n",
       "      <td>1.425946</td>\n",
       "      <td>0.497735</td>\n",
       "      <td>2.017952</td>\n",
       "    </tr>\n",
       "    <tr>\n",
       "      <th>2013-01-06</th>\n",
       "      <td>0.413231</td>\n",
       "      <td>0.190388</td>\n",
       "      <td>0.970727</td>\n",
       "      <td>-0.030641</td>\n",
       "    </tr>\n",
       "  </tbody>\n",
       "</table>\n",
       "</div>"
      ],
      "text/plain": [
       "                   A         B         C         D\n",
       "2013-01-01  1.463285  0.454905 -0.381751  1.616424\n",
       "2013-01-02  0.285236  0.414683  0.829285 -1.362172\n",
       "2013-01-03  0.274179  0.529623 -0.094687 -0.326809\n",
       "2013-01-04  0.681940 -0.378053  0.362236  0.177211\n",
       "2013-01-05  0.389350  1.425946  0.497735  2.017952\n",
       "2013-01-06  0.413231  0.190388  0.970727 -0.030641"
      ]
     },
     "execution_count": 24,
     "metadata": {},
     "output_type": "execute_result"
    }
   ],
   "source": [
    "df = makeDateRand()\n",
    "df.to_excel('foo.xlsx', sheet_name='Sheet1')\n",
    "pd.read_excel('foo.xlsx', 'Sheet1', index_col=None, na_values=['NA'])"
   ]
  },
  {
   "cell_type": "markdown",
   "metadata": {
    "run_control": {
     "frozen": false,
     "read_only": false
    }
   },
   "source": [
    "The `read_excel` function can read one or more worksheets from an Excel filename.  If only a single sheet is read, the single sheet data is returned as a dataframe.  If more than one (or all) sheets are read the dataframes are returned as a dictionary where the keys are the sheet names."
   ]
  },
  {
   "cell_type": "code",
   "execution_count": 25,
   "metadata": {
    "run_control": {
     "frozen": false,
     "read_only": false
    }
   },
   "outputs": [
    {
     "name": "stdout",
     "output_type": "stream",
     "text": [
      "   LWIR  MWIR  NIR  SWIR  Visible\n",
      "0     8   3.6  0.7   1.0     0.43\n",
      "1    12   4.9  0.9   1.7     0.69\n",
      "0    3.6\n",
      "1    4.9\n",
      "Name: MWIR, dtype: float64\n",
      "Spectral band MWIR is defined as 3.6-4.9 um\n",
      "                    Atmo  Altitude  Zenith SpecBand   ToaWattTot     ToaWatt  BoaWattTot     BoaWatt  LpathWatt                 ToaQTot  \\\n",
      "0  ExtremeHotLowHumidity         0       0      NIR  1398.766052  235.180000  947.004883  196.459289   5.364350  6690789636830180409344   \n",
      "0  ExtremeHotLowHumidity         0       0  Visible  1398.766052  483.245923  947.004883  370.424402  20.394616  6690789636830180409344   \n",
      "0  ExtremeHotLowHumidity         0       0     MWIR  1398.766052    9.748536  947.004883    5.206474   1.379844  6690789636830180409344   \n",
      "0  ExtremeHotLowHumidity         0       0     LWIR  1398.766052    1.154950  947.004883    0.616622  17.365368  6690789636830180409344   \n",
      "0  ExtremeHotLowHumidity         0       0     SWIR  1398.766052  292.085568  947.004883  191.096176   2.109043  6690789636830180409344   \n",
      "\n",
      "                     ToaQ                 BoaQTot                    BoaQ                 LpathQ  effTauSun  effTau300  \n",
      "0   937726333348337025024  4122214570298150223872   785416654991043985408   21215455885239898112   0.835698   0.848021  \n",
      "0  1348241428429020069888  4122214570298150223872  1041597055942209961984   55548734663692599296   0.766520   0.823165  \n",
      "0   202039529880885002240  4122214570298150223872   103624695175853998080   31168144028971900928   0.526636   0.348604  \n",
      "0    55088339967843901440  4122214570298150223872    29699935361939701760  865140806282256973824   0.534258   0.553856  \n",
      "0  1880571793373070098432  4122214570298150223872  1215473358446389886976   12608910223941199872   0.658600   0.919904  \n"
     ]
    }
   ],
   "source": [
    "import pandas as pd\n",
    "filename = 'data/atmos-elevation-angles.xlsx'\n",
    "dictEff = pd.read_excel(filename,sheetname=None)\n",
    "print(dictEff['SpecRanges'])\n",
    "dfSpec = dictEff['SpecRanges']\n",
    "specBand = 'MWIR'\n",
    "print(dfSpec[specBand])\n",
    "print('Spectral band {} is defined as {}-{} um'.format(specBand,dfSpec[specBand][0],dfSpec[specBand][1]))\n",
    "print(dictEff['Sheet1'].head())\n"
   ]
  },
  {
   "cell_type": "markdown",
   "metadata": {
    "run_control": {
     "frozen": false,
     "read_only": false
    }
   },
   "source": [
    "### HDF5"
   ]
  },
  {
   "cell_type": "markdown",
   "metadata": {
    "run_control": {
     "frozen": false,
     "read_only": false
    }
   },
   "source": [
    "Excel and CSV  formats can only store single elements per 'cell.   HDF5 provides the means to store hierarchical data, where some DataFrame cells can contain Numpy arrays or other structures.  The example below has a Numpy array in column 'array' and a pandas Series in column 'dframe'.  \n",
    "\n",
    "Note that the Series index must match the dataframe index, otherwise the Series elements cannot be assigned (NaN are then assigned to all elements in the column).\n",
    "\n",
    "<http://pandas.pydata.org/pandas-docs/version/0.15.2/io.html#io-hdf5>"
   ]
  },
  {
   "cell_type": "code",
   "execution_count": 26,
   "metadata": {
    "run_control": {
     "frozen": false,
     "read_only": false
    }
   },
   "outputs": [
    {
     "name": "stdout",
     "output_type": "stream",
     "text": [
      "2013-01-01     [[1, 0], [0, 0]]\n",
      "2013-01-02     [[1, 1], [0, 4]]\n",
      "2013-01-03     [[1, 2], [1, 8]]\n",
      "2013-01-04    [[1, 3], [1, 12]]\n",
      "2013-01-05    [[1, 4], [2, 16]]\n",
      "2013-01-06    [[1, 5], [2, 20]]\n",
      "Freq: D, dtype: object\n",
      "                   A         B         C         D             arrays             dframe\n",
      "2013-01-01 -2.086896  0.865485 -0.022022  0.335675   [[1, 0], [0, 0]]   [[1, 0], [0, 0]]\n",
      "2013-01-02 -0.088205  0.456651 -0.623869  0.135634   [[1, 1], [0, 4]]   [[1, 1], [0, 4]]\n",
      "2013-01-03  0.950664  0.776235  0.345034 -0.822182   [[1, 2], [1, 8]]   [[1, 2], [1, 8]]\n",
      "2013-01-04 -2.063208  0.122507 -0.828671 -0.680353  [[1, 3], [1, 12]]  [[1, 3], [1, 12]]\n",
      "2013-01-05  0.045155  0.175735  0.181182  2.034127  [[1, 4], [2, 16]]  [[1, 4], [2, 16]]\n",
      "2013-01-06 -1.770777 -0.200343  0.822994 -0.943574  [[1, 5], [2, 20]]  [[1, 5], [2, 20]]\n",
      "                   A         B         C         D             arrays             dframe\n",
      "2013-01-01 -2.086896  0.865485 -0.022022  0.335675   [[1, 0], [0, 0]]   [[1, 0], [0, 0]]\n",
      "2013-01-02 -0.088205  0.456651 -0.623869  0.135634   [[1, 1], [0, 4]]   [[1, 1], [0, 4]]\n",
      "2013-01-03  0.950664  0.776235  0.345034 -0.822182   [[1, 2], [1, 8]]   [[1, 2], [1, 8]]\n",
      "2013-01-04 -2.063208  0.122507 -0.828671 -0.680353  [[1, 3], [1, 12]]  [[1, 3], [1, 12]]\n",
      "2013-01-05  0.045155  0.175735  0.181182  2.034127  [[1, 4], [2, 16]]  [[1, 4], [2, 16]]\n",
      "2013-01-06 -1.770777 -0.200343  0.822994 -0.943574  [[1, 5], [2, 20]]  [[1, 5], [2, 20]]\n",
      "A         float64\n",
      "B         float64\n",
      "C         float64\n",
      "D         float64\n",
      "arrays     object\n",
      "dframe     object\n",
      "dtype: object\n"
     ]
    },
    {
     "name": "stderr",
     "output_type": "stream",
     "text": [
      "C:\\Anaconda2\\lib\\site-packages\\pandas\\core\\generic.py:939: PerformanceWarning: \n",
      "your performance may suffer as PyTables will pickle object types that it cannot\n",
      "map directly to c-types [inferred_type->mixed,key->block1_values] [items->['arrays', 'dframe']]\n",
      "\n",
      "  return pytables.to_hdf(path_or_buf, key, self, **kwargs)\n"
     ]
    }
   ],
   "source": [
    "df = makeDateRand()\n",
    "df['arrays'] = [np.asarray([[1,x],[x/2,4*x]]) for x in range(6)]\n",
    "ser = pd.Series([np.asarray([[1,x],[x/2,4*x]]) for x in range(6)],index=pd.date_range('20130101',periods=6))\n",
    "print(ser)\n",
    "df['dframe'] = ser\n",
    "print(df)\n",
    "df.to_hdf('df.hdf5','df',mode='w',append=False)\n",
    "df = pd.read_hdf('df.hdf5', 'df')\n",
    "print(df)\n",
    "print(df.dtypes)"
   ]
  },
  {
   "cell_type": "markdown",
   "metadata": {
    "run_control": {
     "frozen": false,
     "read_only": false
    }
   },
   "source": [
    "Store and recover lists and dicts to/from HDF5 file"
   ]
  },
  {
   "cell_type": "code",
   "execution_count": 27,
   "metadata": {
    "run_control": {
     "frozen": false,
     "read_only": false
    }
   },
   "outputs": [
    {
     "name": "stdout",
     "output_type": "stream",
     "text": [
      "[1, 2, 3]\n",
      "{'A': 1, 'C': 9, 'B': 4, 'D': 12}\n",
      "[1, 2, 3]\n",
      "{'A': 1, 'C': 9, 'B': 4, 'D': 12}\n"
     ]
    }
   ],
   "source": [
    "lst = [1,2,3]\n",
    "dct = {'A' : 1,'B' : 4,'C' : 9,'D' : 12}\n",
    "print(lst)\n",
    "print(dct)\n",
    "filename = 'test.hdf5'\n",
    "store = pd.HDFStore(filename)\n",
    "store['lst'] = pd.DataFrame(lst)\n",
    "store['dct'] = pd.DataFrame(dct, index=[0])\n",
    "store.close()\n",
    "\n",
    "with pd.HDFStore(filename) as store:\n",
    "    dlst = store['lst'][0].tolist()\n",
    "    print(dlst)\n",
    "    ddct = store['dct'].iloc[0].to_dict()\n",
    "    print(ddct)"
   ]
  },
  {
   "cell_type": "markdown",
   "metadata": {
    "run_control": {
     "frozen": false,
     "read_only": false
    }
   },
   "source": [
    "## Dataframe properties"
   ]
  },
  {
   "cell_type": "markdown",
   "metadata": {
    "run_control": {
     "frozen": false,
     "read_only": false
    }
   },
   "source": [
    "### Row properties\n",
    "\n",
    "The row count can be obtained in two different forms:\n",
    "\n",
    "- The `len` and `shape` methods count the number of rows in the DataFrame, irrespective of the contents of the cells.\n",
    "- The `df.count()` function returns a pandas series containing the number of valid entries in a column - ignoring NaN. "
   ]
  },
  {
   "cell_type": "code",
   "execution_count": 28,
   "metadata": {
    "run_control": {
     "frozen": false,
     "read_only": false
    }
   },
   "outputs": [
    {
     "name": "stdout",
     "output_type": "stream",
     "text": [
      "   A   B\n",
      "0  1 NaN\n",
      "1  3   4\n",
      "2  4   5\n",
      "\n",
      "len(df) = 3\n",
      "\n",
      "shape[0] = 3\n",
      "\n",
      "type(df.count()) = <class 'pandas.core.series.Series'>\n",
      "\n",
      "df.count() = \n",
      "A    3\n",
      "B    2\n",
      "dtype: int64\n",
      "\n",
      "df.count()['A'] = 3\n",
      "\n",
      "df.count()[1] = 2\n",
      "\n",
      "Nans = \n",
      "       A      B\n",
      "0  False   True\n",
      "1  False  False\n",
      "2  False  False\n"
     ]
    }
   ],
   "source": [
    "df = makeNaNdf()\n",
    "print(df)\n",
    "print('\\nlen(df) = {}'.format(len(df)))\n",
    "print('\\nshape[0] = {}'.format(df.shape[0]))\n",
    "print('\\ntype(df.count()) = {}'.format(type(df.count())))\n",
    "print('\\ndf.count() = \\n{}'.format(df.count()))\n",
    "print(\"\\ndf.count()['A'] = {}\".format(df.count()['A']))\n",
    "print('\\ndf.count()[1] = {}'.format(df.count()[1]))\n",
    "print('\\nNans = \\n{}'.format(df.apply(lambda col: pd.isnull(col))))"
   ]
  },
  {
   "cell_type": "markdown",
   "metadata": {
    "run_control": {
     "frozen": false,
     "read_only": false
    }
   },
   "source": [
    "The DataDrame index (row names) can be retrieved as a [`pandas.index `](http://pandas.pydata.org/pandas-docs/stable/generated/pandas.Index.html), which can be used to retrieve a list of the row names:"
   ]
  },
  {
   "cell_type": "code",
   "execution_count": 29,
   "metadata": {
    "run_control": {
     "frozen": false,
     "read_only": false
    }
   },
   "outputs": [
    {
     "name": "stdout",
     "output_type": "stream",
     "text": [
      "Int64Index([0, 1, 2], dtype='int64')\n",
      "[0, 1, 2]\n"
     ]
    }
   ],
   "source": [
    "df = makegridDF()\n",
    "print(df.index)\n",
    "print(df.index.tolist())"
   ]
  },
  {
   "cell_type": "markdown",
   "metadata": {
    "run_control": {
     "frozen": false,
     "read_only": false
    }
   },
   "source": [
    "If the DataDrame index is a more complex data type, the data type is returned:"
   ]
  },
  {
   "cell_type": "code",
   "execution_count": 30,
   "metadata": {
    "run_control": {
     "frozen": false,
     "read_only": false
    }
   },
   "outputs": [
    {
     "name": "stdout",
     "output_type": "stream",
     "text": [
      "DatetimeIndex(['2013-01-01', '2013-01-02', '2013-01-03', '2013-01-04', '2013-01-05', '2013-01-06'], dtype='datetime64[ns]', freq='D')\n",
      "[Timestamp('2013-01-01 00:00:00', offset='D'), Timestamp('2013-01-02 00:00:00', offset='D'), Timestamp('2013-01-03 00:00:00', offset='D'), Timestamp('2013-01-04 00:00:00', offset='D'), Timestamp('2013-01-05 00:00:00', offset='D'), Timestamp('2013-01-06 00:00:00', offset='D')]\n",
      "['2013-01-01T02:00:00.000000000+0200' '2013-01-02T02:00:00.000000000+0200'\n",
      " '2013-01-03T02:00:00.000000000+0200' '2013-01-04T02:00:00.000000000+0200'\n",
      " '2013-01-05T02:00:00.000000000+0200' '2013-01-06T02:00:00.000000000+0200']\n"
     ]
    }
   ],
   "source": [
    "df = makeDateRand()\n",
    "print(df.index)\n",
    "print(df.index.tolist()) # returns a list\n",
    "print(df.index.values) # returns an array"
   ]
  },
  {
   "cell_type": "code",
   "execution_count": 31,
   "metadata": {
    "run_control": {
     "frozen": false,
     "read_only": false
    }
   },
   "outputs": [
    {
     "name": "stdout",
     "output_type": "stream",
     "text": [
      "         A  B  C   D\n",
      "MyIndex             \n",
      "0        1  4  7  10\n",
      "1        2  5  8  11\n",
      "2        3  6  9  12\n",
      "[0, 1, 2]\n",
      "[0 1 2]\n"
     ]
    }
   ],
   "source": [
    "# set / change the index name\n",
    "df = makegridDF()\n",
    "df.index.name = 'MyIndex'\n",
    "print(df)\n",
    "print(df.index.tolist()) # returns a list\n",
    "print(df.index.values)  # returns an array"
   ]
  },
  {
   "cell_type": "markdown",
   "metadata": {
    "run_control": {
     "frozen": false,
     "read_only": false
    }
   },
   "source": [
    "Use a column's values to set the index accordingly. Now that a repeat value appears to be allowed - strange."
   ]
  },
  {
   "cell_type": "code",
   "execution_count": 32,
   "metadata": {
    "run_control": {
     "frozen": false,
     "read_only": false
    }
   },
   "outputs": [
    {
     "name": "stdout",
     "output_type": "stream",
     "text": [
      "   A  B  C   D\n",
      "0  1  4  7  10\n",
      "1  2  5  8  11\n",
      "2  3  6  9  12\n",
      "            A  B  C   D\n",
      "MyNewIndex             \n",
      "2           2  5  8  11\n",
      "2           2  6  9  12\n"
     ]
    }
   ],
   "source": [
    "df = makegridDF()\n",
    "print(df)\n",
    "\n",
    "df.loc[2,'A'] = 2\n",
    "df.index = df.A\n",
    "df.index.name = 'MyNewIndex'\n",
    "print(df.loc[2,:])\n"
   ]
  },
  {
   "cell_type": "markdown",
   "metadata": {
    "run_control": {
     "frozen": false,
     "read_only": false
    }
   },
   "source": [
    "### Column properties"
   ]
  },
  {
   "cell_type": "markdown",
   "metadata": {
    "run_control": {
     "frozen": false,
     "read_only": false
    }
   },
   "source": [
    "The column names can be retrieved as a [`pandas.index `](http://pandas.pydata.org/pandas-docs/stable/generated/pandas.Index.html):"
   ]
  },
  {
   "cell_type": "code",
   "execution_count": 33,
   "metadata": {
    "run_control": {
     "frozen": false,
     "read_only": false
    }
   },
   "outputs": [
    {
     "data": {
      "text/plain": [
       "Index([u'A', u'B', u'C', u'D'], dtype='object')"
      ]
     },
     "execution_count": 33,
     "metadata": {},
     "output_type": "execute_result"
    }
   ],
   "source": [
    "df.columns"
   ]
  },
  {
   "cell_type": "markdown",
   "metadata": {
    "run_control": {
     "frozen": false,
     "read_only": false
    }
   },
   "source": [
    "Get a list of the columns in dataframe - there are two ways to do this:"
   ]
  },
  {
   "cell_type": "code",
   "execution_count": 34,
   "metadata": {
    "run_control": {
     "frozen": false,
     "read_only": false
    }
   },
   "outputs": [
    {
     "name": "stdout",
     "output_type": "stream",
     "text": [
      "['A', 'B', 'C', 'D']\n",
      "['A', 'B', 'C', 'D']\n",
      "['A', 'B', 'C', 'D']\n"
     ]
    }
   ],
   "source": [
    "df = makeDateRand()\n",
    "print(list(df.columns.values))\n",
    "print(df.columns.values.tolist()) #fastest\n",
    "print(list(df))"
   ]
  },
  {
   "cell_type": "markdown",
   "metadata": {
    "run_control": {
     "frozen": false,
     "read_only": false
    }
   },
   "source": [
    "### DataFrame values\n",
    "\n",
    "Get the values of the DataFrame contents as a Numpy array:"
   ]
  },
  {
   "cell_type": "code",
   "execution_count": 35,
   "metadata": {
    "run_control": {
     "frozen": false,
     "read_only": false
    }
   },
   "outputs": [
    {
     "data": {
      "text/plain": [
       "array([[ 0.5799849 , -1.49744728, -0.09037327, -1.39423035],\n",
       "       [ 0.37487863, -0.38188967,  0.11461234, -0.56700796],\n",
       "       [ 0.75220315,  2.04954031, -1.16646693, -0.63358225],\n",
       "       [-0.80049091,  0.45356273, -1.26176648, -0.83890687],\n",
       "       [ 0.92756248,  1.20249398,  0.57953018, -1.37287723],\n",
       "       [ 0.94755757,  2.41125355, -0.4171444 ,  0.10057587]])"
      ]
     },
     "execution_count": 35,
     "metadata": {},
     "output_type": "execute_result"
    }
   ],
   "source": [
    "df = makeDateRand()\n",
    "df.values"
   ]
  },
  {
   "cell_type": "markdown",
   "metadata": {
    "run_control": {
     "frozen": false,
     "read_only": false
    }
   },
   "source": [
    "## NaN in Pandas / Numpy\n",
    "\n",
    "Empty cells, or cells with missing data are filled with NaNs.  The example shows how to test for NaN values (`isnull()`)."
   ]
  },
  {
   "cell_type": "code",
   "execution_count": 36,
   "metadata": {
    "run_control": {
     "frozen": false,
     "read_only": false
    }
   },
   "outputs": [
    {
     "name": "stdout",
     "output_type": "stream",
     "text": [
      "nan\n",
      "True\n"
     ]
    }
   ],
   "source": [
    "a = np.nan\n",
    "print(a)\n",
    "print(pd.isnull(a))"
   ]
  },
  {
   "cell_type": "markdown",
   "metadata": {
    "run_control": {
     "frozen": false,
     "read_only": false
    }
   },
   "source": [
    "Use the `fillna()` function to fill NaN cells with some other value."
   ]
  },
  {
   "cell_type": "code",
   "execution_count": 37,
   "metadata": {
    "run_control": {
     "frozen": false,
     "read_only": false
    }
   },
   "outputs": [
    {
     "name": "stdout",
     "output_type": "stream",
     "text": [
      "   A   B\n",
      "0  1 NaN\n",
      "1  3   4\n",
      "\n",
      "Nans = \n",
      "       A      B\n",
      "0  False   True\n",
      "1  False  False\n",
      "\n",
      "Nans replaced with ** = \n",
      "   A   B\n",
      "0  1  **\n",
      "1  3   4\n"
     ]
    }
   ],
   "source": [
    "df = pd.DataFrame([[1, np.nan], [3, 4]], columns=list('AB'))\n",
    "print(df)\n",
    "print('\\nNans = \\n{}'.format(df.apply(lambda col: pd.isnull(col))))\n",
    "\n",
    "# change all NaN to some other value\n",
    "df.B = df.B.fillna('**')\n",
    "print('\\nNans replaced with ** = \\n{}'.format(df))\n"
   ]
  },
  {
   "cell_type": "markdown",
   "metadata": {
    "run_control": {
     "frozen": false,
     "read_only": false
    }
   },
   "source": [
    "Creating a new dataframe by removing NaN in a row"
   ]
  },
  {
   "cell_type": "code",
   "execution_count": 38,
   "metadata": {
    "run_control": {
     "frozen": false,
     "read_only": false
    }
   },
   "outputs": [
    {
     "name": "stdout",
     "output_type": "stream",
     "text": [
      "   A   B\n",
      "0  1 NaN\n",
      "1  3   4\n",
      "   A  B\n",
      "1  3  4\n"
     ]
    }
   ],
   "source": [
    "df = pd.DataFrame([[1, np.nan], [3, 4]], columns=list('AB'))\n",
    "print(df)\n",
    "df = df[pd.notnull(df['B'])]\n",
    "print(df)"
   ]
  },
  {
   "cell_type": "markdown",
   "metadata": {
    "run_control": {
     "frozen": false,
     "read_only": false
    }
   },
   "source": [
    "## Manipulating DataFrames"
   ]
  },
  {
   "cell_type": "markdown",
   "metadata": {
    "run_control": {
     "frozen": false,
     "read_only": false
    }
   },
   "source": [
    "### View of a DataFrame vs a Copy of a DataFrame"
   ]
  },
  {
   "cell_type": "markdown",
   "metadata": {
    "run_control": {
     "frozen": false,
     "read_only": false
    }
   },
   "source": [
    "See [here](http://pandas.pydata.org/pandas-docs/stable/indexing.html#indexing-view-versus-copy) for the full example.\n",
    "           \n",
    "More information on [multi-indexing](http://pandas-docs.github.io/pandas-docs-travis/advanced.html)"
   ]
  },
  {
   "cell_type": "code",
   "execution_count": 71,
   "metadata": {
    "run_control": {
     "frozen": false,
     "read_only": false
    }
   },
   "outputs": [
    {
     "name": "stdout",
     "output_type": "stream",
     "text": [
      "    one          two       \n",
      "  first second first second\n",
      "0     a      b     c      d\n",
      "1     e      f     g      h\n",
      "2     i      j     k      l\n",
      "3     m      n     o      p\n"
     ]
    }
   ],
   "source": [
    "dfmi = createMultColIdx()\n",
    "print(dfmi)"
   ]
  },
  {
   "cell_type": "markdown",
   "metadata": {
    "run_control": {
     "frozen": false,
     "read_only": false
    }
   },
   "source": [
    "In the code below the first form `dfmi['one']['second']` is called the chained method, both using the `__getitem__` method, but happening in sequence.  The first call `dfmi['one']` returns a DataFrame which is input to the second call`(dfmi['one'])['second']` - these are two calls, one happening after the other.  \n",
    "\n",
    "The second form `df.loc[:,('one','second')]`  passes a nested tuple to a single call to `__getitem__`, which can be significantly faster, and allows one to index both axes if so desired. Look at the name of the DataFrame returned in both cases and spot the difference."
   ]
  },
  {
   "cell_type": "code",
   "execution_count": 72,
   "metadata": {
    "run_control": {
     "frozen": false,
     "read_only": false
    }
   },
   "outputs": [
    {
     "name": "stdout",
     "output_type": "stream",
     "text": [
      "0    b\n",
      "1    f\n",
      "2    j\n",
      "3    n\n",
      "Name: second, dtype: object\n",
      "0    b\n",
      "1    f\n",
      "2    j\n",
      "3    n\n",
      "Name: (one, second), dtype: object\n"
     ]
    }
   ],
   "source": [
    "print(dfmi['one']['second'])\n",
    "print(dfmi.loc[:,('one','second')])\n"
   ]
  },
  {
   "cell_type": "markdown",
   "metadata": {
    "run_control": {
     "frozen": false,
     "read_only": false
    }
   },
   "source": [
    "The first forms gives a `SettingWithCopyWarning` warning.  Since the chained indexing is 2 calls, it is possible that either call may return a copy of the data because of the way it is sliced. Thus when setting, you are actually setting a copy, and not the original frame data. \n",
    "\n",
    "The `.loc` operation is a single python operation, and thus can select a slice (which still may be a copy), but allows pandas to assign that slice back into the frame after it is modified, thus setting the values as you would think.\n",
    "\n",
    "The reason for having the `SettingWithCopy` warning is this. Sometimes when you slice an array you will simply get a view back, which means you can set it no problem. However, even a single dtyped array can generate a copy if it is sliced in a particular way. A multi-dtyped DataFrame (meaning it has say float and object data), will almost always yield a copy. Whether a view is created is dependent on the memory layout of the array."
   ]
  },
  {
   "cell_type": "code",
   "execution_count": 73,
   "metadata": {
    "run_control": {
     "frozen": false,
     "read_only": false
    }
   },
   "outputs": [
    {
     "name": "stdout",
     "output_type": "stream",
     "text": [
      "    one          two       \n",
      "  first second first second\n",
      "0     a      b     c      d\n",
      "1     e      f     g      h\n",
      "2     i      j     k      l\n",
      "3     m      n     o      p\n",
      "    one          two       \n",
      "  first second first second\n",
      "0     a      b     c      d\n",
      "1     e      f     g      h\n",
      "2     i      1     k      l\n",
      "3     m      n     o      p\n"
     ]
    }
   ],
   "source": [
    "# dfmi['one']['second'] = 1 # assignment has no effect on the original!!\n",
    "print(dfmi)\n",
    "dfmi.loc[2,('one','second')] = 1 # assignment has no effect on the original!!\n",
    "print(dfmi)"
   ]
  },
  {
   "cell_type": "markdown",
   "metadata": {
    "run_control": {
     "frozen": false,
     "read_only": false
    }
   },
   "source": [
    "To get the desired effect, use `.loc` to directly address the original DataFrame.  The `slice` method is used to select multiple column levels.\n",
    "\n",
    "<http://pandas-docs.github.io/pandas-docs-travis/advanced.html#using-slicers>"
   ]
  },
  {
   "cell_type": "code",
   "execution_count": 74,
   "metadata": {
    "run_control": {
     "frozen": false,
     "read_only": false
    }
   },
   "outputs": [
    {
     "name": "stdout",
     "output_type": "stream",
     "text": [
      "    one          two       \n",
      "  first second first second\n",
      "0     1      1     c      d\n",
      "1     1      1     g      h\n",
      "2     1      1     k      l\n",
      "3     1      1     o      p\n"
     ]
    }
   ],
   "source": [
    "dfmi.loc[:,slice('one','second')] = 1\n",
    "print(dfmi)"
   ]
  },
  {
   "cell_type": "markdown",
   "metadata": {
    "run_control": {
     "frozen": false,
     "read_only": false
    }
   },
   "source": [
    "### Dropping a row from a DataFrame"
   ]
  },
  {
   "cell_type": "markdown",
   "metadata": {
    "run_control": {
     "frozen": false,
     "read_only": false
    }
   },
   "source": [
    "When using drop(), note the axis direction.   \n",
    "- to drop a column axis=1  \n",
    "- to drop a row axis=0  (default)"
   ]
  },
  {
   "cell_type": "code",
   "execution_count": 75,
   "metadata": {
    "run_control": {
     "frozen": false,
     "read_only": false
    }
   },
   "outputs": [
    {
     "name": "stdout",
     "output_type": "stream",
     "text": [
      "   B  C   D\n",
      "0  4  7  10\n",
      "1  5  8  11\n",
      "2  6  9  12\n"
     ]
    }
   ],
   "source": [
    "# drop a column\n",
    "df = makegridDF()\n",
    "# first drop the 'A' column\n",
    "print(df.drop('A',axis=1))"
   ]
  },
  {
   "cell_type": "markdown",
   "metadata": {
    "run_control": {
     "frozen": false,
     "read_only": false
    }
   },
   "source": [
    "You can also use row indexes to drop columns.  The following example shows several index-based row drop methods."
   ]
  },
  {
   "cell_type": "code",
   "execution_count": 76,
   "metadata": {
    "run_control": {
     "frozen": false,
     "read_only": false
    }
   },
   "outputs": [
    {
     "name": "stdout",
     "output_type": "stream",
     "text": [
      "   A  B  C   D\n",
      "0  1  4  7  10\n",
      "1  2  5  8  11\n",
      "2  3  6  9  12\n",
      "   A  B  C   D\n",
      "0  1  4  7  10\n",
      "2  3  6  9  12\n",
      "   A  B  C   D\n",
      "0  1  4  7  10\n",
      "   A  B  C   D\n",
      "1  2  5  8  11\n",
      "2  3  6  9  12\n",
      "   A  B  C   D\n",
      "1  2  5  8  11\n",
      "(0, A     1\n",
      "B     4\n",
      "C     7\n",
      "D    10\n",
      "Name: 0, dtype: int64)\n",
      "(1, A     2\n",
      "B     5\n",
      "C     8\n",
      "D    11\n",
      "Name: 1, dtype: int64)\n",
      "(2, A     3\n",
      "B     6\n",
      "C     9\n",
      "D    12\n",
      "Name: 2, dtype: int64)\n",
      "Empty DataFrame\n",
      "Columns: [A, B, C, D]\n",
      "Index: []\n"
     ]
    }
   ],
   "source": [
    "df = makegridDF()\n",
    "print(df)\n",
    "print(df.drop(1)) # singe index\n",
    "print(df.drop([1,2])) # list of indexes\n",
    "print(df.drop(0,axis=0)) # single index explicit row selection\n",
    "print(df.drop(df.index[[0,2]])) # list in the index \n",
    "for idx, row in df.iterrows():# iterate over all rows\n",
    "    print(idx,row)\n",
    "    df.drop(idx,inplace=True)\n",
    "print(df)"
   ]
  },
  {
   "cell_type": "code",
   "execution_count": 77,
   "metadata": {
    "run_control": {
     "frozen": false,
     "read_only": false
    }
   },
   "outputs": [
    {
     "name": "stdout",
     "output_type": "stream",
     "text": [
      "(Timestamp('2013-01-05 00:00:00', offset='D'), A   -0.190901\n",
      "B    1.130106\n",
      "C    0.724028\n",
      "D   -0.911924\n",
      "Name: 2013-01-05 00:00:00, dtype: float64)\n",
      "(Timestamp('2013-01-06 00:00:00', offset='D'), A   -0.008589\n",
      "B    0.782994\n",
      "C    0.569657\n",
      "D   -0.643207\n",
      "Name: 2013-01-06 00:00:00, dtype: float64)\n"
     ]
    }
   ],
   "source": [
    "# drop some of the rows\n",
    "df = makeDateRand()\n",
    "df = df.drop(df.index[[0,1,2,3]])\n",
    "for idx, row in df.iterrows():\n",
    "    print(idx,row)"
   ]
  },
  {
   "cell_type": "code",
   "execution_count": 78,
   "metadata": {
    "run_control": {
     "frozen": false,
     "read_only": false
    }
   },
   "outputs": [
    {
     "name": "stdout",
     "output_type": "stream",
     "text": [
      "   A  B  C   D\n",
      "0  1  4  7  10\n",
      "1  2  5  8  11\n",
      "2  3  6  9  12\n",
      "   A  B  C   D\n",
      "2  3  6  9  12\n",
      "   A  B  C   D\n",
      "1  2  5  8  11\n"
     ]
    }
   ],
   "source": [
    "# drop row based on value in a column\n",
    "df = makegridDF()\n",
    "print(df)\n",
    "print(df[df['A'] >= 3])\n",
    "print(df[(df['A'] >= 2) & (df['B']<6)])"
   ]
  },
  {
   "cell_type": "markdown",
   "metadata": {
    "run_control": {
     "frozen": false,
     "read_only": false
    }
   },
   "source": [
    "### Concatenation or Appending rows or DataFrames"
   ]
  },
  {
   "cell_type": "markdown",
   "metadata": {
    "run_control": {
     "frozen": false,
     "read_only": false
    }
   },
   "source": [
    "`df.shape[0]` returns the number of rows already in the DataFrame (zero-based), hence if `df.shape[0]` is used as a row index, it will point to a new row immediately beyond the current last row.  This is an easy way to add row(s) to an existing DataFrame. \n",
    "\n",
    "Rows can be added to the DataFrame by [setting with enlargement](http://pandas.pydata.org/pandas-docs/version/0.15.2/indexing.html#setting-with-enlargement).  The `df.loc[i]` (location) construct points to row `i`, which need not be an existing row."
   ]
  },
  {
   "cell_type": "code",
   "execution_count": 79,
   "metadata": {
    "run_control": {
     "frozen": false,
     "read_only": false
    }
   },
   "outputs": [
    {
     "name": "stdout",
     "output_type": "stream",
     "text": [
      "   A  B\n",
      "0  1  2\n",
      "1  3  4\n",
      "     A     B\n",
      "0    1     2\n",
      "1    3     4\n",
      "2    a     b\n",
      "3  NaN  new!\n"
     ]
    }
   ],
   "source": [
    "df = pd.DataFrame([[1, 2], [3, 4]], columns=list('AB'))\n",
    "print(df)\n",
    "df.loc[df.shape[0]] = ['a','b'] # add a row immediately beyond the current last\n",
    "df.loc[df.shape[0]] = [np.nan,'new!'] # add a row immediately beyond the current last\n",
    "print(df)"
   ]
  },
  {
   "cell_type": "markdown",
   "metadata": {
    "run_control": {
     "frozen": false,
     "read_only": false
    }
   },
   "source": [
    "Append rows to a dataframe. See the [Appending](http://pandas.pydata.org/pandas-docs/version/0.15.2/merging.html#merging-concatenation).  This examples makes a copy of one of the rows and append it to the DataFrame.  Note that in this case a `copy()` is required to create a new DataFrame which is modified before appending."
   ]
  },
  {
   "cell_type": "code",
   "execution_count": 80,
   "metadata": {
    "run_control": {
     "frozen": false,
     "read_only": false
    }
   },
   "outputs": [
    {
     "name": "stdout",
     "output_type": "stream",
     "text": [
      "A       0.558297\n",
      "B       0.385684\n",
      "C    1000.000000\n",
      "D       0.809119\n",
      "Name: 2, dtype: float64\n"
     ]
    },
    {
     "data": {
      "text/html": [
       "<div>\n",
       "<table border=\"1\" class=\"dataframe\">\n",
       "  <thead>\n",
       "    <tr style=\"text-align: right;\">\n",
       "      <th></th>\n",
       "      <th>A</th>\n",
       "      <th>B</th>\n",
       "      <th>C</th>\n",
       "      <th>D</th>\n",
       "    </tr>\n",
       "  </thead>\n",
       "  <tbody>\n",
       "    <tr>\n",
       "      <th>0</th>\n",
       "      <td>-0.006993</td>\n",
       "      <td>-0.237128</td>\n",
       "      <td>-0.169975</td>\n",
       "      <td>0.011128</td>\n",
       "    </tr>\n",
       "    <tr>\n",
       "      <th>1</th>\n",
       "      <td>-0.809174</td>\n",
       "      <td>0.168346</td>\n",
       "      <td>-1.032069</td>\n",
       "      <td>0.284853</td>\n",
       "    </tr>\n",
       "    <tr>\n",
       "      <th>2</th>\n",
       "      <td>0.558297</td>\n",
       "      <td>0.385684</td>\n",
       "      <td>0.033221</td>\n",
       "      <td>0.809119</td>\n",
       "    </tr>\n",
       "    <tr>\n",
       "      <th>3</th>\n",
       "      <td>0.010914</td>\n",
       "      <td>-0.722744</td>\n",
       "      <td>0.124827</td>\n",
       "      <td>-0.899785</td>\n",
       "    </tr>\n",
       "    <tr>\n",
       "      <th>4</th>\n",
       "      <td>0.558297</td>\n",
       "      <td>0.385684</td>\n",
       "      <td>1000.000000</td>\n",
       "      <td>0.809119</td>\n",
       "    </tr>\n",
       "  </tbody>\n",
       "</table>\n",
       "</div>"
      ],
      "text/plain": [
       "          A         B            C         D\n",
       "0 -0.006993 -0.237128    -0.169975  0.011128\n",
       "1 -0.809174  0.168346    -1.032069  0.284853\n",
       "2  0.558297  0.385684     0.033221  0.809119\n",
       "3  0.010914 -0.722744     0.124827 -0.899785\n",
       "4  0.558297  0.385684  1000.000000  0.809119"
      ]
     },
     "execution_count": 80,
     "metadata": {},
     "output_type": "execute_result"
    }
   ],
   "source": [
    "df = makeRand()\n",
    "s = df.iloc[2].copy() # copy is required, otherwise a view is taken\n",
    "s[2] = 1000\n",
    "print(s)\n",
    "df.append(s, ignore_index=True)"
   ]
  },
  {
   "cell_type": "markdown",
   "metadata": {
    "run_control": {
     "frozen": false,
     "read_only": false
    }
   },
   "source": [
    "The `append()` function can be used to add one more rows formed as DataFrames to an existing DataFrame."
   ]
  },
  {
   "cell_type": "code",
   "execution_count": 3,
   "metadata": {
    "run_control": {
     "frozen": false,
     "read_only": false
    }
   },
   "outputs": [
    {
     "name": "stdout",
     "output_type": "stream",
     "text": [
      "   A  B\n",
      "0  1  2\n",
      "1  5  6\n"
     ]
    }
   ],
   "source": [
    "import pandas as pd\n",
    "df = pd.DataFrame([[1, 2]], columns=list('AB'))\n",
    "df2 = pd.DataFrame([[5, 6]], columns=list('AB'))\n",
    "df = df.append(df2,ignore_index=True) # append row(s)\n",
    "print(df)"
   ]
  },
  {
   "cell_type": "code",
   "execution_count": 81,
   "metadata": {
    "run_control": {
     "frozen": false,
     "read_only": false
    }
   },
   "outputs": [
    {
     "name": "stdout",
     "output_type": "stream",
     "text": [
      "   A  B\n",
      "0  1  2\n",
      "1  3  4\n",
      "0  5  6\n",
      "1  7  8\n"
     ]
    }
   ],
   "source": [
    "df = pd.DataFrame([[1, 2], [3, 4]], columns=list('AB'))\n",
    "df2 = pd.DataFrame([[5, 6], [7, 8]], columns=list('AB'))\n",
    "df = df.append(df2) # append row(s)\n",
    "print(df)"
   ]
  },
  {
   "cell_type": "markdown",
   "metadata": {
    "run_control": {
     "frozen": false,
     "read_only": false
    }
   },
   "source": [
    "Concatenate some existing rows from the current DataFrame to itself."
   ]
  },
  {
   "cell_type": "code",
   "execution_count": 82,
   "metadata": {
    "run_control": {
     "frozen": false,
     "read_only": false
    }
   },
   "outputs": [
    {
     "data": {
      "text/html": [
       "<div>\n",
       "<table border=\"1\" class=\"dataframe\">\n",
       "  <thead>\n",
       "    <tr style=\"text-align: right;\">\n",
       "      <th></th>\n",
       "      <th>A</th>\n",
       "      <th>B</th>\n",
       "      <th>C</th>\n",
       "      <th>D</th>\n",
       "    </tr>\n",
       "  </thead>\n",
       "  <tbody>\n",
       "    <tr>\n",
       "      <th>0</th>\n",
       "      <td>1.269385</td>\n",
       "      <td>-0.136598</td>\n",
       "      <td>1.249031</td>\n",
       "      <td>0.078660</td>\n",
       "    </tr>\n",
       "    <tr>\n",
       "      <th>1</th>\n",
       "      <td>0.455317</td>\n",
       "      <td>-0.508192</td>\n",
       "      <td>1.686987</td>\n",
       "      <td>-0.899462</td>\n",
       "    </tr>\n",
       "    <tr>\n",
       "      <th>2</th>\n",
       "      <td>-0.523176</td>\n",
       "      <td>0.976648</td>\n",
       "      <td>-0.362222</td>\n",
       "      <td>1.002026</td>\n",
       "    </tr>\n",
       "    <tr>\n",
       "      <th>3</th>\n",
       "      <td>-2.050571</td>\n",
       "      <td>0.194971</td>\n",
       "      <td>-0.146934</td>\n",
       "      <td>1.203949</td>\n",
       "    </tr>\n",
       "    <tr>\n",
       "      <th>2</th>\n",
       "      <td>-0.523176</td>\n",
       "      <td>0.976648</td>\n",
       "      <td>-0.362222</td>\n",
       "      <td>1.002026</td>\n",
       "    </tr>\n",
       "    <tr>\n",
       "      <th>3</th>\n",
       "      <td>-2.050571</td>\n",
       "      <td>0.194971</td>\n",
       "      <td>-0.146934</td>\n",
       "      <td>1.203949</td>\n",
       "    </tr>\n",
       "  </tbody>\n",
       "</table>\n",
       "</div>"
      ],
      "text/plain": [
       "          A         B         C         D\n",
       "0  1.269385 -0.136598  1.249031  0.078660\n",
       "1  0.455317 -0.508192  1.686987 -0.899462\n",
       "2 -0.523176  0.976648 -0.362222  1.002026\n",
       "3 -2.050571  0.194971 -0.146934  1.203949\n",
       "2 -0.523176  0.976648 -0.362222  1.002026\n",
       "3 -2.050571  0.194971 -0.146934  1.203949"
      ]
     },
     "execution_count": 82,
     "metadata": {},
     "output_type": "execute_result"
    }
   ],
   "source": [
    "df = makeRand()\n",
    "df2 = pd.concat([df,df[2:4]])\n",
    "df2"
   ]
  },
  {
   "cell_type": "markdown",
   "metadata": {
    "run_control": {
     "frozen": false,
     "read_only": false
    }
   },
   "source": [
    "The following examples concatenates three views of a DataFrame."
   ]
  },
  {
   "cell_type": "code",
   "execution_count": 83,
   "metadata": {
    "run_control": {
     "frozen": false,
     "read_only": false
    }
   },
   "outputs": [
    {
     "name": "stdout",
     "output_type": "stream",
     "text": [
      "          A         B         C         D\n",
      "0 -1.307720  0.114617  1.985494 -0.768526\n",
      "1 -0.968549 -0.436402  0.929447  1.589143\n",
      "2  0.386373 -0.007288  0.330871 -0.318870\n",
      "3  0.382988 -0.574115 -0.518458  0.243714\n",
      "4 -0.033114 -1.363322  1.482941  0.418139\n",
      "5  0.009686 -1.934983 -0.123421  0.403691\n",
      "6  0.079436 -1.098776  0.741178 -0.080891\n",
      "7 -0.044604 -0.347522 -1.031934  0.997849\n",
      "8 -0.548602 -0.279627  0.485771  1.710783\n",
      "9  0.639524 -0.005300 -0.180048  0.183473\n"
     ]
    },
    {
     "data": {
      "text/html": [
       "<div>\n",
       "<table border=\"1\" class=\"dataframe\">\n",
       "  <thead>\n",
       "    <tr style=\"text-align: right;\">\n",
       "      <th></th>\n",
       "      <th>A</th>\n",
       "      <th>B</th>\n",
       "      <th>C</th>\n",
       "      <th>D</th>\n",
       "    </tr>\n",
       "  </thead>\n",
       "  <tbody>\n",
       "    <tr>\n",
       "      <th>0</th>\n",
       "      <td>-1.307720</td>\n",
       "      <td>0.114617</td>\n",
       "      <td>1.985494</td>\n",
       "      <td>-0.768526</td>\n",
       "    </tr>\n",
       "    <tr>\n",
       "      <th>1</th>\n",
       "      <td>-0.968549</td>\n",
       "      <td>-0.436402</td>\n",
       "      <td>0.929447</td>\n",
       "      <td>1.589143</td>\n",
       "    </tr>\n",
       "    <tr>\n",
       "      <th>2</th>\n",
       "      <td>0.386373</td>\n",
       "      <td>-0.007288</td>\n",
       "      <td>0.330871</td>\n",
       "      <td>-0.318870</td>\n",
       "    </tr>\n",
       "    <tr>\n",
       "      <th>3</th>\n",
       "      <td>0.382988</td>\n",
       "      <td>-0.574115</td>\n",
       "      <td>-0.518458</td>\n",
       "      <td>0.243714</td>\n",
       "    </tr>\n",
       "    <tr>\n",
       "      <th>4</th>\n",
       "      <td>-0.033114</td>\n",
       "      <td>-1.363322</td>\n",
       "      <td>1.482941</td>\n",
       "      <td>0.418139</td>\n",
       "    </tr>\n",
       "    <tr>\n",
       "      <th>5</th>\n",
       "      <td>0.009686</td>\n",
       "      <td>-1.934983</td>\n",
       "      <td>-0.123421</td>\n",
       "      <td>0.403691</td>\n",
       "    </tr>\n",
       "    <tr>\n",
       "      <th>6</th>\n",
       "      <td>0.079436</td>\n",
       "      <td>-1.098776</td>\n",
       "      <td>0.741178</td>\n",
       "      <td>-0.080891</td>\n",
       "    </tr>\n",
       "    <tr>\n",
       "      <th>7</th>\n",
       "      <td>-0.044604</td>\n",
       "      <td>-0.347522</td>\n",
       "      <td>-1.031934</td>\n",
       "      <td>0.997849</td>\n",
       "    </tr>\n",
       "    <tr>\n",
       "      <th>8</th>\n",
       "      <td>-0.548602</td>\n",
       "      <td>-0.279627</td>\n",
       "      <td>0.485771</td>\n",
       "      <td>1.710783</td>\n",
       "    </tr>\n",
       "    <tr>\n",
       "      <th>9</th>\n",
       "      <td>0.639524</td>\n",
       "      <td>-0.005300</td>\n",
       "      <td>-0.180048</td>\n",
       "      <td>0.183473</td>\n",
       "    </tr>\n",
       "  </tbody>\n",
       "</table>\n",
       "</div>"
      ],
      "text/plain": [
       "          A         B         C         D\n",
       "0 -1.307720  0.114617  1.985494 -0.768526\n",
       "1 -0.968549 -0.436402  0.929447  1.589143\n",
       "2  0.386373 -0.007288  0.330871 -0.318870\n",
       "3  0.382988 -0.574115 -0.518458  0.243714\n",
       "4 -0.033114 -1.363322  1.482941  0.418139\n",
       "5  0.009686 -1.934983 -0.123421  0.403691\n",
       "6  0.079436 -1.098776  0.741178 -0.080891\n",
       "7 -0.044604 -0.347522 -1.031934  0.997849\n",
       "8 -0.548602 -0.279627  0.485771  1.710783\n",
       "9  0.639524 -0.005300 -0.180048  0.183473"
      ]
     },
     "execution_count": 83,
     "metadata": {},
     "output_type": "execute_result"
    }
   ],
   "source": [
    "# Concatenating pandas objects together\n",
    "df = makeRand(10,4)\n",
    "print(df)\n",
    "# break it into pieces\n",
    "pieces = [df[:3], df[3:7], df[7:]]\n",
    "pd.concat(pieces)\n"
   ]
  },
  {
   "cell_type": "markdown",
   "metadata": {
    "run_control": {
     "frozen": false,
     "read_only": false
    }
   },
   "source": [
    "Concatenation stacks together rows from two arrays. In the example below the `df` array is concatenated with a 2x2 slice from `dfr`.  There are two observations from the code below:\n",
    "\n",
    "- The column names are used when concatenating the rows. In the first example the column names are consistent and appended as expected. In the second example the row names do not exactly agree and cells with missing data are filled with NaN.\n",
    "- The index data type of the concatenated DataFrame must be the same as the main DataFrame (hash error occurs otherwise).  For example if the index is the DateTime series, the concatenation will not work."
   ]
  },
  {
   "cell_type": "code",
   "execution_count": 84,
   "metadata": {
    "run_control": {
     "frozen": false,
     "read_only": false
    }
   },
   "outputs": [
    {
     "name": "stdout",
     "output_type": "stream",
     "text": [
      "   A  B  C   D\n",
      "0  1  4  7  10\n",
      "1  2  5  8  11\n",
      "2  3  6  9  12\n",
      "\n",
      "Example 1\n",
      "to be contatenated=   A  B\n",
      "1  2  5\n",
      "2  3  6\n",
      "   A  B\n",
      "0  1  2\n",
      "1  3  4\n",
      "1  2  5\n",
      "2  3  6\n",
      "\n",
      "Example 2\n",
      "to be contatenated=   B  C\n",
      "1  5  8\n",
      "2  6  9\n",
      "    A  B   C\n",
      "0   1  2 NaN\n",
      "1   3  4 NaN\n",
      "1 NaN  5   8\n",
      "2 NaN  6   9\n"
     ]
    }
   ],
   "source": [
    "df = pd.DataFrame([[1, 2], [3, 4]], columns=list('AB'))\n",
    "dfr = makegridDF()\n",
    "print(dfr)\n",
    "print('\\nExample 1')\n",
    "print('to be contatenated={}'.format(dfr.loc[1:2,['A','B']]))\n",
    "df2 = pd.concat([df,dfr.loc[1:2,['A','B']]])\n",
    "print(df2)\n",
    "\n",
    "print('\\nExample 2')\n",
    "print('to be contatenated={}'.format(dfr.loc[1:2,['B','C']]))\n",
    "df2 = pd.concat([df,dfr.loc[1:2,['B','C']]])\n",
    "print(df2)\n",
    "\n",
    "#this will not concatenate in the examples above - index of wrong type\n",
    "# df = makeDateRand()\n",
    "# df.loc['20130102':'20130104',['A','B']]"
   ]
  },
  {
   "cell_type": "markdown",
   "metadata": {
    "run_control": {
     "frozen": false,
     "read_only": false
    }
   },
   "source": [
    "The following example shows how, if all rows are removed, the index starts again from zero."
   ]
  },
  {
   "cell_type": "code",
   "execution_count": 8,
   "metadata": {
    "run_control": {
     "frozen": false,
     "read_only": false
    }
   },
   "outputs": [
    {
     "name": "stdout",
     "output_type": "stream",
     "text": [
      "   A  B\n",
      "0  1  2\n",
      "1  3  4\n",
      "   A     B\n",
      "0  1     2\n",
      "1  3     4\n",
      "2  4  new!\n",
      "Empty DataFrame\n",
      "Columns: [A, B]\n",
      "Index: []\n",
      "   A     B\n",
      "0  4  new!\n",
      "df.reset_index(drop=True)\n",
      "   A     B\n",
      "0  4  new!\n",
      "False \n",
      "\n",
      "   A     B\n",
      "0  4  new!\n",
      "1  6  wow!\n",
      "df.reset_index(drop=True)\n"
     ]
    },
    {
     "ename": "AttributeError",
     "evalue": "'module' object has no attribute 'empty'",
     "output_type": "error",
     "traceback": [
      "\u001b[0;31m---------------------------------------------------------------------------\u001b[0m",
      "\u001b[0;31mAttributeError\u001b[0m                            Traceback (most recent call last)",
      "\u001b[0;32m<ipython-input-8-b8a20435f704>\u001b[0m in \u001b[0;36m<module>\u001b[0;34m()\u001b[0m\n\u001b[1;32m     27\u001b[0m \u001b[1;31m# reset_index does not remove rows\u001b[0m\u001b[1;33m\u001b[0m\u001b[1;33m\u001b[0m\u001b[0m\n\u001b[1;32m     28\u001b[0m \u001b[1;32mprint\u001b[0m\u001b[1;33m(\u001b[0m\u001b[1;34m'df.reset_index(drop=True)'\u001b[0m\u001b[1;33m)\u001b[0m\u001b[1;33m\u001b[0m\u001b[0m\n\u001b[0;32m---> 29\u001b[0;31m \u001b[0mdf\u001b[0m \u001b[1;33m=\u001b[0m \u001b[0mpd\u001b[0m\u001b[1;33m.\u001b[0m\u001b[0mempty\u001b[0m\u001b[1;33m(\u001b[0m\u001b[1;33m)\u001b[0m\u001b[1;33m\u001b[0m\u001b[0m\n\u001b[0m\u001b[1;32m     30\u001b[0m \u001b[1;32mprint\u001b[0m\u001b[1;33m(\u001b[0m\u001b[0mdf\u001b[0m\u001b[1;33m)\u001b[0m\u001b[1;33m\u001b[0m\u001b[0m\n\u001b[1;32m     31\u001b[0m \u001b[1;32mprint\u001b[0m\u001b[1;33m(\u001b[0m\u001b[0mdf\u001b[0m\u001b[1;33m.\u001b[0m\u001b[0mempty\u001b[0m\u001b[1;33m,\u001b[0m\u001b[1;34m'\\n'\u001b[0m\u001b[1;33m)\u001b[0m\u001b[1;33m\u001b[0m\u001b[0m\n",
      "\u001b[0;31mAttributeError\u001b[0m: 'module' object has no attribute 'empty'"
     ]
    }
   ],
   "source": [
    "# create new dataframe\n",
    "df = pd.DataFrame([[1, 2], [3, 4]], columns=list('AB'))\n",
    "print(df)\n",
    "\n",
    "# add a row immediately beyond the current last\n",
    "df.loc[df.shape[0]] = ['4','new!'] \n",
    "print(df)\n",
    "\n",
    "# remove all rows where col 'A' is < 0 , i.e. all rows\n",
    "df = df[df['A']<0]\n",
    "print(df)\n",
    "\n",
    "# add a new row - observe the index\n",
    "df.loc[df.shape[0]] = ['4','new!'] \n",
    "print(df)\n",
    "\n",
    "# reset_index does not remove rows\n",
    "print('df.reset_index(drop=True)')\n",
    "df = df.reset_index(drop=True)\n",
    "print(df)\n",
    "print(df.empty,'\\n')\n",
    "\n",
    "# add a new row - observe the index\n",
    "df.loc[df.shape[0]] = ['6','wow!'] \n",
    "print(df)\n",
    "\n",
    "# reset_index does not remove rows\n",
    "print('df.reset_index(drop=True)')\n",
    "df = pd.empty()\n",
    "print(df)\n",
    "print(df.empty,'\\n')\n",
    "\n",
    "# add a new row - observe the index\n",
    "df.loc[df.shape[0]] = ['6','wow!'] \n",
    "print(df)\n",
    "\n"
   ]
  },
  {
   "cell_type": "markdown",
   "metadata": {
    "run_control": {
     "frozen": false,
     "read_only": false
    }
   },
   "source": [
    "### SQL style merges"
   ]
  },
  {
   "cell_type": "markdown",
   "metadata": {
    "run_control": {
     "frozen": false,
     "read_only": false
    }
   },
   "source": [
    "See the [Database style joining](http://pandas.pydata.org/pandas-docs/version/0.15.2/merging.html#merging-join)."
   ]
  },
  {
   "cell_type": "code",
   "execution_count": 85,
   "metadata": {
    "run_control": {
     "frozen": false,
     "read_only": false
    }
   },
   "outputs": [
    {
     "name": "stdout",
     "output_type": "stream",
     "text": [
      "   key  lval\n",
      "0  foo     1\n",
      "1  foo     2\n",
      "   key  rval\n",
      "0  foo     4\n",
      "1  foo     5\n"
     ]
    },
    {
     "data": {
      "text/html": [
       "<div>\n",
       "<table border=\"1\" class=\"dataframe\">\n",
       "  <thead>\n",
       "    <tr style=\"text-align: right;\">\n",
       "      <th></th>\n",
       "      <th>key</th>\n",
       "      <th>lval</th>\n",
       "      <th>rval</th>\n",
       "    </tr>\n",
       "  </thead>\n",
       "  <tbody>\n",
       "    <tr>\n",
       "      <th>0</th>\n",
       "      <td>foo</td>\n",
       "      <td>1</td>\n",
       "      <td>4</td>\n",
       "    </tr>\n",
       "    <tr>\n",
       "      <th>1</th>\n",
       "      <td>foo</td>\n",
       "      <td>1</td>\n",
       "      <td>5</td>\n",
       "    </tr>\n",
       "    <tr>\n",
       "      <th>2</th>\n",
       "      <td>foo</td>\n",
       "      <td>2</td>\n",
       "      <td>4</td>\n",
       "    </tr>\n",
       "    <tr>\n",
       "      <th>3</th>\n",
       "      <td>foo</td>\n",
       "      <td>2</td>\n",
       "      <td>5</td>\n",
       "    </tr>\n",
       "  </tbody>\n",
       "</table>\n",
       "</div>"
      ],
      "text/plain": [
       "   key  lval  rval\n",
       "0  foo     1     4\n",
       "1  foo     1     5\n",
       "2  foo     2     4\n",
       "3  foo     2     5"
      ]
     },
     "execution_count": 85,
     "metadata": {},
     "output_type": "execute_result"
    }
   ],
   "source": [
    "left = pd.DataFrame({'key': ['foo', 'foo'], 'lval': [1, 2]})\n",
    "right = pd.DataFrame({'key': ['foo', 'foo'], 'rval': [4, 5]})\n",
    "print(left)\n",
    "print(right)\n",
    "pd.merge(left, right, on='key')"
   ]
  },
  {
   "cell_type": "markdown",
   "metadata": {
    "run_control": {
     "frozen": false,
     "read_only": false
    }
   },
   "source": [
    "### Handling duplicated rows"
   ]
  },
  {
   "cell_type": "markdown",
   "metadata": {
    "run_control": {
     "frozen": false,
     "read_only": false
    }
   },
   "source": [
    "Finding duplicate rows, where the values in all the columns must be duplicates.  You can not mark either the first or last duplicated row.  The second example creates a new DataFrame containing only the duplicated rows, counting the number of duplicated rows."
   ]
  },
  {
   "cell_type": "code",
   "execution_count": 89,
   "metadata": {
    "run_control": {
     "frozen": false,
     "read_only": false
    }
   },
   "outputs": [
    {
     "name": "stdout",
     "output_type": "stream",
     "text": [
      "   A  B  C   D  isdup\n",
      "0  1  1  7  10  False\n",
      "1  1  1  8  11   True\n",
      "2  3  6  9  12  False\n",
      "   A  B  C   D  isdup\n",
      "0  1  1  7  10   True\n",
      "1  1  1  8  11  False\n",
      "2  3  6  9  12  False\n",
      "1\n",
      "   A  B  C   D isdup\n",
      "0  1  1  7  10  True\n"
     ]
    }
   ],
   "source": [
    "df2 = makegridDF()\n",
    "df2.loc[1,'A'] = 1\n",
    "df2.loc[1,'B'] = 1\n",
    "df2.loc[0,'B'] = 1\n",
    "df2['isdup'] = df2.duplicated(subset=['A','B'])\n",
    "print(df2)\n",
    "df2['isdup'] = df2.duplicated(subset=['A','B'], keep='last')\n",
    "print(df2)\n",
    "\n",
    "# create a new dataframe with the repeated rows\n",
    "df = df2[df2.duplicated(subset=['A','B'], keep='last')] \n",
    "print(len(df))\n",
    "print(df)"
   ]
  },
  {
   "cell_type": "markdown",
   "metadata": {
    "run_control": {
     "frozen": false,
     "read_only": false
    }
   },
   "source": [
    "The next example only checks for duplicates in column 'A' and then delete these row(s) from the DataFrame."
   ]
  },
  {
   "cell_type": "code",
   "execution_count": 90,
   "metadata": {
    "run_control": {
     "frozen": false,
     "read_only": false
    }
   },
   "outputs": [
    {
     "data": {
      "text/html": [
       "<div>\n",
       "<table border=\"1\" class=\"dataframe\">\n",
       "  <thead>\n",
       "    <tr style=\"text-align: right;\">\n",
       "      <th></th>\n",
       "      <th>A</th>\n",
       "      <th>B</th>\n",
       "      <th>C</th>\n",
       "      <th>D</th>\n",
       "      <th>isdup</th>\n",
       "    </tr>\n",
       "  </thead>\n",
       "  <tbody>\n",
       "    <tr>\n",
       "      <th>1</th>\n",
       "      <td>1</td>\n",
       "      <td>1</td>\n",
       "      <td>8</td>\n",
       "      <td>11</td>\n",
       "      <td>False</td>\n",
       "    </tr>\n",
       "    <tr>\n",
       "      <th>2</th>\n",
       "      <td>3</td>\n",
       "      <td>6</td>\n",
       "      <td>9</td>\n",
       "      <td>12</td>\n",
       "      <td>False</td>\n",
       "    </tr>\n",
       "  </tbody>\n",
       "</table>\n",
       "</div>"
      ],
      "text/plain": [
       "   A  B  C   D  isdup\n",
       "1  1  1  8  11  False\n",
       "2  3  6  9  12  False"
      ]
     },
     "execution_count": 90,
     "metadata": {},
     "output_type": "execute_result"
    }
   ],
   "source": [
    "df2.drop_duplicates(subset=['A'], keep='last', inplace=True)\n",
    "df2"
   ]
  },
  {
   "cell_type": "markdown",
   "metadata": {
    "run_control": {
     "frozen": false,
     "read_only": false
    }
   },
   "source": [
    "The index value of any arbitrary row can be changed by making a list of the index, changing the value in the list and then re-assigning the list back to the DataFrame."
   ]
  },
  {
   "cell_type": "code",
   "execution_count": 91,
   "metadata": {
    "run_control": {
     "frozen": false,
     "read_only": false
    }
   },
   "outputs": [
    {
     "name": "stdout",
     "output_type": "stream",
     "text": [
      "               A  B  C   D\n",
      "0              1  4  7  10\n",
      "1              2  5  8  11\n",
      "New Idx Value  3  6  9  12\n"
     ]
    }
   ],
   "source": [
    "df2 = makegridDF()\n",
    "df2.index = df2.index.tolist()[:-1]   + ['New Idx Value']\n",
    "print(df2)"
   ]
  },
  {
   "cell_type": "markdown",
   "metadata": {
    "run_control": {
     "frozen": false,
     "read_only": false
    }
   },
   "source": [
    "### Transpose a DataFrame"
   ]
  },
  {
   "cell_type": "code",
   "execution_count": 92,
   "metadata": {
    "run_control": {
     "frozen": false,
     "read_only": false
    }
   },
   "outputs": [
    {
     "name": "stdout",
     "output_type": "stream",
     "text": [
      "    0   1   2\n",
      "A   1   2   3\n",
      "B   4   5   6\n",
      "C   7   8   9\n",
      "D  10  11  12\n",
      "Int64Index([0, 1, 2], dtype='int64')\n",
      "Index([u'A', u'B', u'C', u'D'], dtype='object')\n"
     ]
    }
   ],
   "source": [
    "df = makegridDF()\n",
    "print(df.T)\n",
    "print(df.index)\n",
    "print(df.columns)"
   ]
  },
  {
   "cell_type": "markdown",
   "metadata": {
    "run_control": {
     "frozen": false,
     "read_only": false
    }
   },
   "source": [
    "### Selecting a subset of columns from a DataFrame"
   ]
  },
  {
   "cell_type": "code",
   "execution_count": 93,
   "metadata": {
    "run_control": {
     "frozen": false,
     "read_only": false
    }
   },
   "outputs": [
    {
     "name": "stdout",
     "output_type": "stream",
     "text": [
      "   A  B  C   D\n",
      "0  1  4  7  10\n",
      "1  2  5  8  11\n",
      "2  3  6  9  12\n",
      "0    1\n",
      "1    2\n",
      "2    3\n",
      "Name: A, dtype: int64\n",
      "0    1\n",
      "1    2\n",
      "2    3\n",
      "Name: A, dtype: int64\n",
      "   A  B\n",
      "0  1  4\n",
      "1  2  5\n",
      "2  3  6\n"
     ]
    }
   ],
   "source": [
    "df = makegridDF()\n",
    "print(df)\n",
    "print(df.A)\n",
    "print(df['A'])\n",
    "print(df[['A','B']])"
   ]
  },
  {
   "cell_type": "markdown",
   "metadata": {
    "run_control": {
     "frozen": false,
     "read_only": false
    }
   },
   "source": [
    "Selecting a subset of columns may result in a copy or a view of the original DataFrame.  In this example a copy is made when selecting the columns, but a warning ensues when you try to assign a value to an element.  This warning arises because in some cases a view into the original DataFrame is returned and pandas cannot always know which form is used.\n",
    "\n",
    "<http://stackoverflow.com/questions/11285613/selecting-columns>  "
   ]
  },
  {
   "cell_type": "code",
   "execution_count": 95,
   "metadata": {
    "run_control": {
     "frozen": false,
     "read_only": false
    }
   },
   "outputs": [
    {
     "name": "stdout",
     "output_type": "stream",
     "text": [
      "   A  B\n",
      "0  1  4\n",
      "1  2  5\n",
      "2  3  6\n",
      "     A  B\n",
      "0    1  4\n",
      "1    2  5\n",
      "2  100  6\n",
      "   A  B  C   D\n",
      "0  1  4  7  10\n",
      "1  2  5  8  11\n",
      "2  3  6  9  12\n"
     ]
    }
   ],
   "source": [
    "df = makegridDF()\n",
    "df1 = df[['A','B']].copy()\n",
    "print(df1)\n",
    "df1.loc[2,'A'] = 100\n",
    "print(df1)\n",
    "print(df)"
   ]
  },
  {
   "cell_type": "markdown",
   "metadata": {
    "run_control": {
     "frozen": false,
     "read_only": false
    }
   },
   "source": [
    "The more secure way (also get rid of the warning) to build a new DataFrame with a selection of columns is as follows:"
   ]
  },
  {
   "cell_type": "code",
   "execution_count": 96,
   "metadata": {
    "run_control": {
     "frozen": false,
     "read_only": false
    }
   },
   "outputs": [
    {
     "name": "stdout",
     "output_type": "stream",
     "text": [
      "   A  B\n",
      "0  1  4\n",
      "1  2  5\n",
      "2  3  6\n",
      "     A  B\n",
      "0    1  4\n",
      "1    2  5\n",
      "2  100  6\n",
      "   A  B  C   D\n",
      "0  1  4  7  10\n",
      "1  2  5  8  11\n",
      "2  3  6  9  12\n"
     ]
    }
   ],
   "source": [
    "df = makegridDF()\n",
    "df1 = df.loc[:,['A','B']]\n",
    "print(df1)\n",
    "df1.loc[2,'A'] = 100\n",
    "print(df1)\n",
    "print(df)"
   ]
  },
  {
   "cell_type": "markdown",
   "metadata": {
    "run_control": {
     "frozen": false,
     "read_only": false
    }
   },
   "source": [
    "Another way would be to use `ix`.  However in this case a view is returned, which means that changing `df1` also changes the original DataFrame."
   ]
  },
  {
   "cell_type": "code",
   "execution_count": 98,
   "metadata": {
    "run_control": {
     "frozen": false,
     "read_only": false
    }
   },
   "outputs": [
    {
     "name": "stdout",
     "output_type": "stream",
     "text": [
      "   A  B\n",
      "0  1  4\n",
      "1  2  5\n",
      "2  3  6\n",
      "     A  B\n",
      "0    1  4\n",
      "1    2  5\n",
      "2  100  6\n",
      "   A  B  C   D\n",
      "0  1  4  7  10\n",
      "1  2  5  8  11\n",
      "2  3  6  9  12\n"
     ]
    }
   ],
   "source": [
    "df = makegridDF()\n",
    "# df1 = df.ix[:,slice('A','B')] # this and the following have same effect.\n",
    "df1 = df.ix[:,0:2].copy()  # this and the previous have same effect.\n",
    "print(df1)\n",
    "df1.loc[2,'A'] = 100\n",
    "print(df1)\n",
    "print(df)"
   ]
  },
  {
   "cell_type": "markdown",
   "metadata": {
    "run_control": {
     "frozen": false,
     "read_only": false
    }
   },
   "source": [
    "To force a copy of the original, use the `copy` method."
   ]
  },
  {
   "cell_type": "code",
   "execution_count": 99,
   "metadata": {
    "run_control": {
     "frozen": false,
     "read_only": false
    }
   },
   "outputs": [
    {
     "name": "stdout",
     "output_type": "stream",
     "text": [
      "   A  B\n",
      "0  1  4\n",
      "1  2  5\n",
      "2  3  6\n",
      "     A  B\n",
      "0    1  4\n",
      "1    2  5\n",
      "2  100  6\n",
      "   A  B  C   D\n",
      "0  1  4  7  10\n",
      "1  2  5  8  11\n",
      "2  3  6  9  12\n"
     ]
    }
   ],
   "source": [
    "df = makegridDF()\n",
    "df1 = df.ix[:,slice('A','B')].copy() # this and the following have same effect.\n",
    "# df1 = df.ix[:,0:2].copy()  # this and the previous have same effect.\n",
    "print(df1)\n",
    "df1.loc[2,'A'] = 100\n",
    "print(df1)\n",
    "print(df)"
   ]
  },
  {
   "cell_type": "markdown",
   "metadata": {
    "run_control": {
     "frozen": false,
     "read_only": false
    }
   },
   "source": [
    "### Adding a column to a dataframe"
   ]
  },
  {
   "cell_type": "markdown",
   "metadata": {
    "run_control": {
     "frozen": false,
     "read_only": false
    }
   },
   "source": [
    "It is relatively easy to add a column to an existing data frame. "
   ]
  },
  {
   "cell_type": "code",
   "execution_count": 100,
   "metadata": {
    "run_control": {
     "frozen": false,
     "read_only": false
    }
   },
   "outputs": [
    {
     "name": "stdout",
     "output_type": "stream",
     "text": [
      "                   A         B         C         D     Total\n",
      "2013-01-01 -0.234821  0.783263  0.689276 -0.127255  1.237718\n",
      "2013-01-02  0.150070  1.490795 -0.723355  0.560589  0.917510\n",
      "2013-01-03 -0.110811  1.056543 -0.230234  0.285925  0.715498\n",
      "2013-01-04 -1.951317  1.227303 -0.403211  0.455522 -1.127225\n",
      "2013-01-05  0.196959 -0.522398  0.024911  1.089207 -0.300529\n",
      "2013-01-06  1.157415  1.312511 -0.121426  0.538707  2.348499\n"
     ]
    }
   ],
   "source": [
    "df = makeDateRand()\n",
    "df['Total'] = df['A'] + df['B'] + df['C']\n",
    "print(df)"
   ]
  },
  {
   "cell_type": "markdown",
   "metadata": {
    "run_control": {
     "frozen": false,
     "read_only": false
    }
   },
   "source": [
    "String concatenation can be used across columns."
   ]
  },
  {
   "cell_type": "code",
   "execution_count": 101,
   "metadata": {
    "run_control": {
     "frozen": false,
     "read_only": false
    }
   },
   "outputs": [
    {
     "name": "stdout",
     "output_type": "stream",
     "text": [
      "    A   B   C   D\n",
      "0  0a  0b  0c  0d\n",
      "1  1a  1b  1c  1d\n",
      "2  2a  2b  2c  2d\n",
      "0    0a0b\n",
      "1    1a1b\n",
      "2    2a2b\n",
      "dtype: object\n"
     ]
    }
   ],
   "source": [
    "df = makegAlphaDF()\n",
    "print(df)\n",
    "df2 = df['A'] + df['B']\n",
    "print(df2)"
   ]
  },
  {
   "cell_type": "markdown",
   "metadata": {
    "run_control": {
     "frozen": false,
     "read_only": false
    }
   },
   "source": [
    "### Delete rows based on column value"
   ]
  },
  {
   "cell_type": "markdown",
   "metadata": {
    "run_control": {
     "frozen": false,
     "read_only": false
    }
   },
   "source": [
    "DataFrame has an `isin` method. When calling `isin`, pass a set of values as either an array or dict. If values is an array, isin returns a DataFrame of booleans that is the same shape as the original DataFrame, with True wherever the element is in the sequence of values.\n",
    "\n",
    "<http://pandas.pydata.org/pandas-docs/stable/indexing.html#indexing-with-isin>  \n",
    "<http://pandas.pydata.org/pandas-docs/stable/indexing.html#boolean-indexing>  \n",
    "\n",
    "In the example below delete all rows where the value in column 'A' is in a given list."
   ]
  },
  {
   "cell_type": "code",
   "execution_count": 102,
   "metadata": {
    "run_control": {
     "frozen": false,
     "read_only": false
    }
   },
   "outputs": [
    {
     "name": "stdout",
     "output_type": "stream",
     "text": [
      "   A  B  C   D\n",
      "0  1  4  7  10\n",
      "1  2  5  8  11\n",
      "2  3  6  9  12\n",
      "   A  B  C   D\n",
      "1  2  5  8  11\n"
     ]
    }
   ],
   "source": [
    "df = makegridDF()\n",
    "print(df)\n",
    "idx = df['A'].isin([1,3])\n",
    "df = df[~idx]\n",
    "print(df)"
   ]
  },
  {
   "cell_type": "markdown",
   "metadata": {
    "run_control": {
     "frozen": false,
     "read_only": false
    }
   },
   "source": [
    "To match certain values in certain columns make a dict where the key is the column, and the value is a list of items you want to check for.  Combine DataFrame’s `isin()` with the `any()` and `all()` methods to quickly select subsets of your data that meet a given criteria. To select a row where each column meets its own criterion.\n",
    "\n",
    "In the first example, remove all rows where the requirements for __all__ of the tests are met ('A' has 1 or 2, 'B' has 5 or 6, 'C' has 8 and 'D' has 11).\n",
    "\n",
    "<http://docs.scipy.org/doc/numpy/reference/generated/numpy.ndarray.all.html#numpy.ndarray.all>"
   ]
  },
  {
   "cell_type": "code",
   "execution_count": 103,
   "metadata": {
    "run_control": {
     "frozen": false,
     "read_only": false
    }
   },
   "outputs": [
    {
     "name": "stdout",
     "output_type": "stream",
     "text": [
      "   A  B  C   D\n",
      "0  1  4  7  10\n",
      "1  2  5  8  11\n",
      "2  3  6  9  12\n",
      "       A      B      C      D\n",
      "0   True  False  False  False\n",
      "1   True   True   True   True\n",
      "2  False   True  False  False\n",
      "0    False\n",
      "1     True\n",
      "2    False\n",
      "dtype: bool\n",
      "   A  B  C   D\n",
      "0  1  4  7  10\n",
      "2  3  6  9  12\n"
     ]
    }
   ],
   "source": [
    "df = makegridDF()\n",
    "print(df)\n",
    "idx = df.isin({'A': [1,2], 'B': [5,6], 'C': [8], 'D': [11]})\n",
    "print(idx)\n",
    "idx = idx.all(axis=1)\n",
    "print(idx)\n",
    "df = df[~idx]\n",
    "print(df)"
   ]
  },
  {
   "cell_type": "markdown",
   "metadata": {
    "run_control": {
     "frozen": false,
     "read_only": false
    }
   },
   "source": [
    "In the second example, drop all rows where the requirements for __any__ of the tests are met ('A' has 1 or 2, 'B' has 5 or 6, 'C' has 8 and 'D' has 11).  In this case, it would drop all rows from the DataFrame, leaving it empty."
   ]
  },
  {
   "cell_type": "code",
   "execution_count": 104,
   "metadata": {
    "run_control": {
     "frozen": false,
     "read_only": false
    }
   },
   "outputs": [
    {
     "name": "stdout",
     "output_type": "stream",
     "text": [
      "   A  B  C   D\n",
      "0  1  4  7  10\n",
      "1  2  5  8  11\n",
      "2  3  6  9  12\n",
      "       A      B      C      D\n",
      "0   True  False  False  False\n",
      "1   True   True  False  False\n",
      "2  False   True  False  False\n",
      "0    True\n",
      "1    True\n",
      "2    True\n",
      "dtype: bool\n",
      "Empty DataFrame\n",
      "Columns: [A, B, C, D]\n",
      "Index: []\n"
     ]
    }
   ],
   "source": [
    "df = makegridDF()\n",
    "print(df)\n",
    "idx = df.isin({'A': [1,2], 'B': [5,6]})\n",
    "print(idx)\n",
    "idx = idx.any(axis=1)\n",
    "print(idx)\n",
    "df = df[~idx]\n",
    "print(df)"
   ]
  },
  {
   "cell_type": "markdown",
   "metadata": {
    "run_control": {
     "frozen": false,
     "read_only": false
    }
   },
   "source": [
    "### Sorting"
   ]
  },
  {
   "cell_type": "markdown",
   "metadata": {
    "run_control": {
     "frozen": false,
     "read_only": false
    }
   },
   "source": [
    "Sort by column index (axis=1), i.e., rearrange column order."
   ]
  },
  {
   "cell_type": "code",
   "execution_count": 105,
   "metadata": {
    "run_control": {
     "frozen": false,
     "read_only": false
    }
   },
   "outputs": [
    {
     "data": {
      "text/html": [
       "<div>\n",
       "<table border=\"1\" class=\"dataframe\">\n",
       "  <thead>\n",
       "    <tr style=\"text-align: right;\">\n",
       "      <th></th>\n",
       "      <th>D</th>\n",
       "      <th>C</th>\n",
       "      <th>B</th>\n",
       "      <th>A</th>\n",
       "    </tr>\n",
       "  </thead>\n",
       "  <tbody>\n",
       "    <tr>\n",
       "      <th>2013-01-01</th>\n",
       "      <td>0.137185</td>\n",
       "      <td>1.175862</td>\n",
       "      <td>1.302559</td>\n",
       "      <td>-0.597531</td>\n",
       "    </tr>\n",
       "    <tr>\n",
       "      <th>2013-01-02</th>\n",
       "      <td>-1.155487</td>\n",
       "      <td>1.045641</td>\n",
       "      <td>0.387867</td>\n",
       "      <td>-0.121104</td>\n",
       "    </tr>\n",
       "    <tr>\n",
       "      <th>2013-01-03</th>\n",
       "      <td>0.601236</td>\n",
       "      <td>-2.284374</td>\n",
       "      <td>0.140140</td>\n",
       "      <td>0.522306</td>\n",
       "    </tr>\n",
       "    <tr>\n",
       "      <th>2013-01-04</th>\n",
       "      <td>1.336826</td>\n",
       "      <td>0.893536</td>\n",
       "      <td>-2.266989</td>\n",
       "      <td>-0.323361</td>\n",
       "    </tr>\n",
       "    <tr>\n",
       "      <th>2013-01-05</th>\n",
       "      <td>1.276777</td>\n",
       "      <td>-1.413405</td>\n",
       "      <td>0.121149</td>\n",
       "      <td>-0.103744</td>\n",
       "    </tr>\n",
       "    <tr>\n",
       "      <th>2013-01-06</th>\n",
       "      <td>1.278895</td>\n",
       "      <td>0.135964</td>\n",
       "      <td>0.180330</td>\n",
       "      <td>-0.799433</td>\n",
       "    </tr>\n",
       "  </tbody>\n",
       "</table>\n",
       "</div>"
      ],
      "text/plain": [
       "                   D         C         B         A\n",
       "2013-01-01  0.137185  1.175862  1.302559 -0.597531\n",
       "2013-01-02 -1.155487  1.045641  0.387867 -0.121104\n",
       "2013-01-03  0.601236 -2.284374  0.140140  0.522306\n",
       "2013-01-04  1.336826  0.893536 -2.266989 -0.323361\n",
       "2013-01-05  1.276777 -1.413405  0.121149 -0.103744\n",
       "2013-01-06  1.278895  0.135964  0.180330 -0.799433"
      ]
     },
     "execution_count": 105,
     "metadata": {},
     "output_type": "execute_result"
    }
   ],
   "source": [
    "df = makeDateRand()\n",
    "df.sort_index(axis=1, ascending=False)"
   ]
  },
  {
   "cell_type": "markdown",
   "metadata": {
    "run_control": {
     "frozen": false,
     "read_only": false
    }
   },
   "source": [
    "Sort all rows by row value in column B."
   ]
  },
  {
   "cell_type": "code",
   "execution_count": 107,
   "metadata": {
    "run_control": {
     "frozen": false,
     "read_only": false
    }
   },
   "outputs": [
    {
     "data": {
      "text/html": [
       "<div>\n",
       "<table border=\"1\" class=\"dataframe\">\n",
       "  <thead>\n",
       "    <tr style=\"text-align: right;\">\n",
       "      <th></th>\n",
       "      <th>A</th>\n",
       "      <th>B</th>\n",
       "      <th>C</th>\n",
       "      <th>D</th>\n",
       "    </tr>\n",
       "  </thead>\n",
       "  <tbody>\n",
       "    <tr>\n",
       "      <th>2013-01-04</th>\n",
       "      <td>-0.323361</td>\n",
       "      <td>-2.266989</td>\n",
       "      <td>0.893536</td>\n",
       "      <td>1.336826</td>\n",
       "    </tr>\n",
       "    <tr>\n",
       "      <th>2013-01-05</th>\n",
       "      <td>-0.103744</td>\n",
       "      <td>0.121149</td>\n",
       "      <td>-1.413405</td>\n",
       "      <td>1.276777</td>\n",
       "    </tr>\n",
       "    <tr>\n",
       "      <th>2013-01-03</th>\n",
       "      <td>0.522306</td>\n",
       "      <td>0.140140</td>\n",
       "      <td>-2.284374</td>\n",
       "      <td>0.601236</td>\n",
       "    </tr>\n",
       "    <tr>\n",
       "      <th>2013-01-06</th>\n",
       "      <td>-0.799433</td>\n",
       "      <td>0.180330</td>\n",
       "      <td>0.135964</td>\n",
       "      <td>1.278895</td>\n",
       "    </tr>\n",
       "    <tr>\n",
       "      <th>2013-01-02</th>\n",
       "      <td>-0.121104</td>\n",
       "      <td>0.387867</td>\n",
       "      <td>1.045641</td>\n",
       "      <td>-1.155487</td>\n",
       "    </tr>\n",
       "    <tr>\n",
       "      <th>2013-01-01</th>\n",
       "      <td>-0.597531</td>\n",
       "      <td>1.302559</td>\n",
       "      <td>1.175862</td>\n",
       "      <td>0.137185</td>\n",
       "    </tr>\n",
       "  </tbody>\n",
       "</table>\n",
       "</div>"
      ],
      "text/plain": [
       "                   A         B         C         D\n",
       "2013-01-04 -0.323361 -2.266989  0.893536  1.336826\n",
       "2013-01-05 -0.103744  0.121149 -1.413405  1.276777\n",
       "2013-01-03  0.522306  0.140140 -2.284374  0.601236\n",
       "2013-01-06 -0.799433  0.180330  0.135964  1.278895\n",
       "2013-01-02 -0.121104  0.387867  1.045641 -1.155487\n",
       "2013-01-01 -0.597531  1.302559  1.175862  0.137185"
      ]
     },
     "execution_count": 107,
     "metadata": {},
     "output_type": "execute_result"
    }
   ],
   "source": [
    "df.sort_values(by='B')"
   ]
  },
  {
   "cell_type": "markdown",
   "metadata": {
    "run_control": {
     "frozen": false,
     "read_only": false
    }
   },
   "source": [
    "Sort all rows by row value in multiple columns."
   ]
  },
  {
   "cell_type": "code",
   "execution_count": 108,
   "metadata": {
    "run_control": {
     "frozen": false,
     "read_only": false
    }
   },
   "outputs": [
    {
     "data": {
      "text/html": [
       "<div>\n",
       "<table border=\"1\" class=\"dataframe\">\n",
       "  <thead>\n",
       "    <tr style=\"text-align: right;\">\n",
       "      <th></th>\n",
       "      <th>A</th>\n",
       "      <th>B</th>\n",
       "      <th>C</th>\n",
       "      <th>D</th>\n",
       "    </tr>\n",
       "  </thead>\n",
       "  <tbody>\n",
       "    <tr>\n",
       "      <th>2013-01-04</th>\n",
       "      <td>-0.323361</td>\n",
       "      <td>-2.266989</td>\n",
       "      <td>0.893536</td>\n",
       "      <td>1.336826</td>\n",
       "    </tr>\n",
       "    <tr>\n",
       "      <th>2013-01-05</th>\n",
       "      <td>-0.103744</td>\n",
       "      <td>0.121149</td>\n",
       "      <td>-1.413405</td>\n",
       "      <td>1.276777</td>\n",
       "    </tr>\n",
       "    <tr>\n",
       "      <th>2013-01-03</th>\n",
       "      <td>0.522306</td>\n",
       "      <td>0.140140</td>\n",
       "      <td>-2.284374</td>\n",
       "      <td>0.601236</td>\n",
       "    </tr>\n",
       "    <tr>\n",
       "      <th>2013-01-06</th>\n",
       "      <td>-0.799433</td>\n",
       "      <td>0.180330</td>\n",
       "      <td>0.135964</td>\n",
       "      <td>1.278895</td>\n",
       "    </tr>\n",
       "    <tr>\n",
       "      <th>2013-01-02</th>\n",
       "      <td>-0.121104</td>\n",
       "      <td>0.387867</td>\n",
       "      <td>1.045641</td>\n",
       "      <td>-1.155487</td>\n",
       "    </tr>\n",
       "    <tr>\n",
       "      <th>2013-01-01</th>\n",
       "      <td>-0.597531</td>\n",
       "      <td>1.302559</td>\n",
       "      <td>1.175862</td>\n",
       "      <td>0.137185</td>\n",
       "    </tr>\n",
       "  </tbody>\n",
       "</table>\n",
       "</div>"
      ],
      "text/plain": [
       "                   A         B         C         D\n",
       "2013-01-04 -0.323361 -2.266989  0.893536  1.336826\n",
       "2013-01-05 -0.103744  0.121149 -1.413405  1.276777\n",
       "2013-01-03  0.522306  0.140140 -2.284374  0.601236\n",
       "2013-01-06 -0.799433  0.180330  0.135964  1.278895\n",
       "2013-01-02 -0.121104  0.387867  1.045641 -1.155487\n",
       "2013-01-01 -0.597531  1.302559  1.175862  0.137185"
      ]
     },
     "execution_count": 108,
     "metadata": {},
     "output_type": "execute_result"
    }
   ],
   "source": [
    "df.sort_values(by=['B', 'C'])"
   ]
  },
  {
   "cell_type": "markdown",
   "metadata": {
    "run_control": {
     "frozen": false,
     "read_only": false
    }
   },
   "source": [
    "You can introduce custom sorting by using categoricals.  In this example, first sort the 'G' column on default sorting (alphabetical).  Then redefine the 'G' column as a categorical with a specific sort order. Then re-sort, using the categorical sort order."
   ]
  },
  {
   "cell_type": "code",
   "execution_count": 109,
   "metadata": {
    "run_control": {
     "frozen": false,
     "read_only": false
    }
   },
   "outputs": [
    {
     "name": "stdout",
     "output_type": "stream",
     "text": [
      "   A          B  C  D      E    F     G\n",
      "0  1 2013-01-02  1  3   test  foo  foox\n",
      "1  1 2013-01-02  1  3  train  foo  fooa\n",
      "2  1 2013-01-02  1  3   test  foo  foon\n",
      "3  1 2013-01-02  1  3  train  foo  fooz\n",
      "   A          B  C  D      E    F     G\n",
      "1  1 2013-01-02  1  3  train  foo  fooa\n",
      "2  1 2013-01-02  1  3   test  foo  foon\n",
      "0  1 2013-01-02  1  3   test  foo  foox\n",
      "3  1 2013-01-02  1  3  train  foo  fooz\n",
      "   A          B  C  D      E    F     G\n",
      "3  1 2013-01-02  1  3  train  foo  fooz\n",
      "1  1 2013-01-02  1  3  train  foo  fooa\n",
      "0  1 2013-01-02  1  3   test  foo  foox\n",
      "2  1 2013-01-02  1  3   test  foo  foon\n"
     ]
    },
    {
     "name": "stderr",
     "output_type": "stream",
     "text": [
      "C:\\Anaconda2\\lib\\site-packages\\ipykernel\\__main__.py:3: FutureWarning: sort(columns=....) is deprecated, use sort_values(by=.....)\n",
      "  app.launch_new_instance()\n",
      "C:\\Anaconda2\\lib\\site-packages\\ipykernel\\__main__.py:8: FutureWarning: sort(columns=....) is deprecated, use sort_values(by=.....)\n"
     ]
    }
   ],
   "source": [
    "df = makecatedf()\n",
    "print(df)\n",
    "print(df.sort(columns='G'))\n",
    "      \n",
    "gsorter = ['fooz','fooa','foox','foon']\n",
    "df.G = df.G.astype(\"category\")\n",
    "df.G.cat.set_categories(gsorter, inplace=True) \n",
    "print(df.sort(columns='G'))\n"
   ]
  },
  {
   "cell_type": "markdown",
   "metadata": {
    "run_control": {
     "frozen": false,
     "read_only": false
    }
   },
   "source": [
    "### Slicing and selecting sub-arrays"
   ]
  },
  {
   "cell_type": "markdown",
   "metadata": {
    "run_control": {
     "frozen": false,
     "read_only": false
    }
   },
   "source": [
    "While standard Python / Numpy expressions for selecting and setting are intuitive and come in handy for interactive work, for production code, use the optimized pandas data access methods, .at, .iat, .loc, .iloc and .ix. \n",
    "\n",
    "[Indexing and Selecting Data](http://pandas.pydata.org/pandas-docs/version/0.15.2/indexing.html#indexing)  \n",
    "[MultiIndex / Advanced Indexing](http://pandas.pydata.org/pandas-docs/version/0.15.2/advanced.html#advanced)\n",
    "\n",
    "The [pandas site](http://pandas.pydata.org/pandas-docs/stable/indexing.html) offers the following description:\n",
    "\n",
    "Object selection has had a number of user-requested additions in order to support more explicit location based indexing. pandas now supports three types of multi-axis indexing.\n",
    "\n",
    "1.    `.ix` supports mixed integer and label based access. It is primarily label based, but will fall back to integer positional access unless the corresponding axis is of integer type. `.ix` is the most general and will support any of the inputs in `.loc` and `.iloc`. `.ix` also supports floating point label schemes. .ix is exceptionally useful when dealing with mixed positional and label based hierarchical indexes.      However, when an axis is integer based, ONLY label based access and not positional access is supported. Thus, in such cases, it’s usually better to be explicit and use `.iloc` or `.loc`.    \n",
    "       `.ix` does not and cannot guarantee that the label versus integer position resolution is perfect - you may run into [problems](https://github.com/pydata/pandas/issues/6683)  here.  `.ix` is an older method than than `.loc` and `.iloc` and was introduced to specifically prevent ambiguity by using stricted rules on data selection. `.ix` is faster than than `.loc` and `.iloc`\n",
    "\n",
    "     See more at [Advanced Indexing](http://pandas.pydata.org/pandas-docs/stable/advanced.html#advanced) and [Advanced Hierarchical](http://pandas.pydata.org/pandas-docs/stable/advanced.html#advanced-advanced-hierarchical).\n",
    "\n",
    "1.    `.loc` is primarily label based, but may also be used with a boolean array. `.loc` will raise `KeyError` when the items are not found. Allowed inputs are:\n",
    "       * A single label, e.g. 5 or 'a', (note that 5 is interpreted as a label of the index. This use is not an integer position along the index)\n",
    "       * A list or array of labels ['a', 'b', 'c']\n",
    "       * A slice object with labels 'a':'f', (note that contrary to usual python slices, **both** the start and the stop are included!)\n",
    "       * A boolean array\n",
    "\n",
    "     See more at [Selection by Label](http://pandas.pydata.org/pandas-docs/stable/indexing.html#indexing-label)\n",
    "\n",
    "1.     `.iloc` is primarily integer position based (from `0` to `length-1` of the axis), but may also be used with a boolean array. `.iloc`  will raise `IndexError` if a requested indexer is out-of-bounds, except slice indexers which allow out-of-bounds indexing. (this conforms with python/numpy slice semantics). Allowed inputs are:\n",
    "       * An integer e.g. 5\n",
    "       * A list or array of integers [4, 3, 0]\n",
    "       * A slice object with ints 1:7\n",
    "       * A boolean array\n",
    "\n",
    "     See more at [Selection by Position](http://pandas.pydata.org/pandas-docs/stable/indexing.html#indexing-integer)\n",
    "\n",
    "\n",
    "Getting values from an object with multi-axes selection uses the following notation (using `.loc` as an example, but applies to `.iloc` and `.ix` as well). Any of the axes accessors may be the null slice `:`. Axes left out of the specification are assumed to be `:`. (e.g. `p.loc['a']` is equiv to `p.loc['a', :, :]`)\n",
    "\n",
    "|Object Type |\tIndexers|\n",
    "|--|--|\n",
    "|Series \t|`s.loc[indexer]`|\n",
    "|DataFrame \t|`df.loc[row_indexer,column_indexer]`|\n",
    "|Panel \t|`p.loc[item_indexer,major_indexer,minor_indexer]`|\n",
    "\n",
    "\n",
    "<http://nbviewer.ipython.org/github/gboeing/python-cheat-sheets/blob/master/pandas-selecting.ipynb>  \n"
   ]
  },
  {
   "cell_type": "markdown",
   "metadata": {
    "run_control": {
     "frozen": false,
     "read_only": false
    }
   },
   "source": [
    "### Conventional selection by column/index name"
   ]
  },
  {
   "cell_type": "markdown",
   "metadata": {
    "run_control": {
     "frozen": false,
     "read_only": false
    }
   },
   "source": [
    "Selecting a single column with the form `df['A']`, yields a Series, equivalent to df.A.  \n",
    "To select multiple columns  pass a list of column names as in `df[ ['A','B'] ]`."
   ]
  },
  {
   "cell_type": "code",
   "execution_count": 110,
   "metadata": {
    "run_control": {
     "frozen": false,
     "read_only": false
    }
   },
   "outputs": [
    {
     "name": "stdout",
     "output_type": "stream",
     "text": [
      "0    1\n",
      "1    2\n",
      "2    3\n",
      "Name: A, dtype: int64\n",
      "0    1\n",
      "1    2\n",
      "2    3\n",
      "Name: A, dtype: int64\n",
      "   A  B\n",
      "0  1  4\n",
      "1  2  5\n",
      "2  3  6\n"
     ]
    }
   ],
   "source": [
    "df = makegridDF()\n",
    "print(df.A)\n",
    "print(df['A'])\n",
    "print(df[['A','B']])"
   ]
  },
  {
   "cell_type": "markdown",
   "metadata": {
    "run_control": {
     "frozen": false,
     "read_only": false
    }
   },
   "source": [
    "Extract the Numpy array from the series in one of these two ways:"
   ]
  },
  {
   "cell_type": "code",
   "execution_count": 111,
   "metadata": {
    "run_control": {
     "frozen": false,
     "read_only": false
    }
   },
   "outputs": [
    {
     "name": "stdout",
     "output_type": "stream",
     "text": [
      "[1 2 3]\n",
      "[1 2 3]\n"
     ]
    }
   ],
   "source": [
    "print(np.asarray(df['A']))\n",
    "print(df['A'].values)"
   ]
  },
  {
   "cell_type": "markdown",
   "metadata": {
    "run_control": {
     "frozen": false,
     "read_only": false
    }
   },
   "source": [
    "Slice rows using `df[]`, using index values or row numbers.   The row sequence can use slice notation, note that the upper bound is not included.  \n",
    "\n",
    "This is the same form as used for columns above - somewhat confusing!"
   ]
  },
  {
   "cell_type": "code",
   "execution_count": 112,
   "metadata": {
    "run_control": {
     "frozen": false,
     "read_only": false
    }
   },
   "outputs": [
    {
     "name": "stdout",
     "output_type": "stream",
     "text": [
      "                   A         B         C         D\n",
      "2013-01-01  0.230713 -2.028431  0.874619  0.729737\n",
      "2013-01-02 -0.620522 -0.368070 -0.454887 -1.974797\n",
      "2013-01-03 -1.585577 -1.102541 -1.280822 -0.225005\n",
      "2013-01-04  0.241421  0.544181  0.014725 -0.649130\n",
      "2013-01-05  0.617364  0.319836  1.542542 -0.440412\n",
      "2013-01-06 -1.299537  0.021200  0.684304 -1.104845\n",
      "                   A         B         C         D\n",
      "2013-01-03 -1.585577 -1.102541 -1.280822 -0.225005\n",
      "2013-01-04  0.241421  0.544181  0.014725 -0.649130\n"
     ]
    }
   ],
   "source": [
    "df = makeDateRand()\n",
    "print(df)\n",
    "print(df[2:4])"
   ]
  },
  {
   "cell_type": "code",
   "execution_count": 113,
   "metadata": {
    "run_control": {
     "frozen": false,
     "read_only": false
    }
   },
   "outputs": [
    {
     "name": "stdout",
     "output_type": "stream",
     "text": [
      "                   A         B         C         D\n",
      "2013-01-01  0.230713 -2.028431  0.874619  0.729737\n",
      "2013-01-02 -0.620522 -0.368070 -0.454887 -1.974797\n"
     ]
    }
   ],
   "source": [
    "print(df['2013-01-01':'2013-01-02'])"
   ]
  },
  {
   "cell_type": "markdown",
   "metadata": {
    "run_control": {
     "frozen": false,
     "read_only": false
    }
   },
   "source": [
    "### [`.ix` Conventional selection by label or position](http://pandas.pydata.org/pandas-docs/version/0.15.2/indexing.html#indexing-integer)"
   ]
  },
  {
   "cell_type": "markdown",
   "metadata": {
    "run_control": {
     "frozen": false,
     "read_only": false
    }
   },
   "source": [
    "You can use `ix` to select slices of the data frame.  "
   ]
  },
  {
   "cell_type": "code",
   "execution_count": 114,
   "metadata": {
    "run_control": {
     "frozen": false,
     "read_only": false
    }
   },
   "outputs": [
    {
     "name": "stdout",
     "output_type": "stream",
     "text": [
      "                   A         B         C         D\n",
      "2013-01-01  0.970821  0.725301  0.062495 -0.668672\n",
      "2013-01-02  2.845180 -0.969954  1.356355  2.213827\n",
      "2013-01-03 -2.331300  1.030317 -0.545987  2.601944\n",
      "2013-01-04  1.486734  0.448199  1.219781  2.116438\n",
      "2013-01-05  0.527969  0.252503  0.088695 -0.550257\n",
      "2013-01-06 -1.005098 -0.106809 -1.633279 -0.630038\n",
      "\n",
      "2013-01-01   -0.668672\n",
      "2013-01-02    2.213827\n",
      "2013-01-03    2.601944\n",
      "2013-01-04    2.116438\n",
      "2013-01-05   -0.550257\n",
      "2013-01-06   -0.630038\n",
      "Freq: D, Name: D, dtype: float64\n",
      "                   A         B\n",
      "2013-01-01  0.970821  0.725301\n",
      "2013-01-02  2.845180 -0.969954\n",
      "                   A         C         D\n",
      "2013-01-01  0.970821  0.062495 -0.668672\n",
      "2013-01-02  2.845180  1.356355  2.213827\n",
      "                  A         B         C\n",
      "2013-01-02  2.84518 -0.969954  1.356355\n",
      "2013-01-03 -2.33130  1.030317 -0.545987\n",
      "                   A         C\n",
      "2013-01-03 -2.331300 -0.545987\n",
      "2013-01-04  1.486734  1.219781\n",
      "                   B         C         D\n",
      "2013-01-02 -0.969954  1.356355  2.213827\n",
      "2013-01-03  1.030317 -0.545987  2.601944\n",
      "                  A         B         C\n",
      "2013-01-02  2.84518 -0.969954  1.356355\n",
      "2013-01-03 -2.33130  1.030317 -0.545987\n",
      "                   A         B         C         D\n",
      "2013-01-01  0.970821  0.725301  0.062495 -0.668672\n",
      "2013-01-02 -1.000000 -1.000000 -1.000000  2.213827\n",
      "2013-01-03 -1.000000 -1.000000 -1.000000  2.601944\n",
      "2013-01-04  1.486734  0.448199  1.219781  2.116438\n",
      "2013-01-05  0.527969  0.252503  0.088695 -0.550257\n",
      "2013-01-06 -1.005098 -0.106809 -1.633279 -0.630038\n"
     ]
    }
   ],
   "source": [
    "df = makeDateRand()\n",
    "print(df)\n",
    "print('')\n",
    "print(df.ix[:, 'D']) # All rows in column D\n",
    "print(df.ix[0:2, 0:2]) # upper left 2x2 sub-array, not including third [2] column \n",
    "print(df.ix[0:2, [0,2,3]]) # multiple columns in list format\n",
    "print(df.ix[1:3, 'A':'C']) # use range of column names, same effect as above, note 'C' included!!\n",
    "print(df.ix[2:4, ['A','C']]) # use list of column names\n",
    "print(df.ix[1:3, 'B':]) # All columns onwards from 'B'\n",
    "print(df.ix[1:3, :'C']) # All columns up to and including!! C\n",
    "df.ix[1:3, :'C'] = -1\n",
    "print(df)"
   ]
  },
  {
   "cell_type": "markdown",
   "metadata": {
    "run_control": {
     "frozen": false,
     "read_only": false
    }
   },
   "source": [
    "To copy discontinuous column ranges takes a bit more effort. First create lists of the required columns"
   ]
  },
  {
   "cell_type": "code",
   "execution_count": 115,
   "metadata": {
    "run_control": {
     "frozen": false,
     "read_only": false
    }
   },
   "outputs": [
    {
     "name": "stdout",
     "output_type": "stream",
     "text": [
      "['A', 'C']\n",
      "                      A         C\n",
      "2013-01-01    -1.365535  0.784520\n",
      "2013-01-02    -1.339301  0.056411\n",
      "2013-01-03  1000.000000  0.067713\n",
      "2013-01-04     1.129535 -0.649684\n",
      "2013-01-05     0.244334 -1.028539\n",
      "2013-01-06     0.467045 -0.345224\n",
      "                      A         C\n",
      "2013-01-01    -1.365535  0.784520\n",
      "2013-01-02    -1.339301  0.056411\n",
      "2013-01-03  1000.000000  0.067713\n",
      "2013-01-04     1.129535 -0.649684\n",
      "2013-01-05     0.244334 -1.028539\n",
      "2013-01-06     0.467045 -0.345224\n",
      "                   A         B         C         D\n",
      "2013-01-01 -1.365535 -1.436922  0.784520  0.622388\n",
      "2013-01-02 -1.339301 -1.142260  0.056411 -0.437342\n",
      "2013-01-03  0.602349 -0.900051  0.067713  0.455826\n",
      "2013-01-04  1.129535  0.317728 -0.649684 -1.262451\n",
      "2013-01-05  0.244334 -1.766622 -1.028539  0.022285\n",
      "2013-01-06  0.467045 -2.242893 -0.345224 -0.298472\n"
     ]
    }
   ],
   "source": [
    "df = makeDateRand()\n",
    "lst = list(df.columns[0:1]) + list(df.columns[2:3])\n",
    "print(lst)\n",
    "df1 = df[lst].copy() # copy was made, use this to get rid of the warning \n",
    "df1.ix[2,0] = +1000\n",
    "print(df1)\n",
    "\n",
    "df2 = df.ix[:,lst] # ix appears to have made a copy\n",
    "df2.ix[2,0] = +1000\n",
    "print(df2)\n",
    "print(df)\n",
    "\n"
   ]
  },
  {
   "cell_type": "markdown",
   "metadata": {
    "run_control": {
     "frozen": false,
     "read_only": false
    }
   },
   "source": [
    "### [`.loc` Selection by Label](http://pandas.pydata.org/pandas-docs/version/0.15.2/indexing.html#indexing-label)"
   ]
  },
  {
   "cell_type": "markdown",
   "metadata": {
    "run_control": {
     "frozen": false,
     "read_only": false
    }
   },
   "source": [
    "The following example is strange in the sense that is refers to the index by name (see the function where the DataFrame was created), but the index is not named.  Yet, it can/must be used, by using the Series name `dates`. This is probably because pandas  has strong support for time Series."
   ]
  },
  {
   "cell_type": "code",
   "execution_count": 116,
   "metadata": {
    "run_control": {
     "frozen": false,
     "read_only": false
    }
   },
   "outputs": [
    {
     "name": "stdout",
     "output_type": "stream",
     "text": [
      "                   A         B         C         D\n",
      "2013-01-01  0.783717 -1.024473 -0.473243 -0.009943\n",
      "2013-01-02 -1.464005 -0.692973  0.563151 -0.271847\n",
      "2013-01-03  0.616604  1.226241  0.171589 -0.029555\n",
      "2013-01-04 -1.399271 -0.623041  1.406695 -0.104015\n",
      "2013-01-05  0.655952 -0.315579 -0.640417 -0.807023\n",
      "2013-01-06  0.490322 -0.300157 -0.209997  0.027346\n",
      "DatetimeIndex(['2013-01-01', '2013-01-02', '2013-01-03', '2013-01-04', '2013-01-05', '2013-01-06'], dtype='datetime64[ns]', freq='D')\n",
      "None\n",
      "Index([u'A', u'B', u'C', u'D'], dtype='object')\n",
      "A    0.783717\n",
      "B   -1.024473\n",
      "C   -0.473243\n",
      "D   -0.009943\n",
      "Name: 2013-01-01 00:00:00, dtype: float64\n",
      "A    0.783717\n",
      "B   -1.024473\n",
      "C   -0.473243\n",
      "D   -0.009943\n",
      "Name: 2013-01-01 00:00:00, dtype: float64\n"
     ]
    }
   ],
   "source": [
    "df = makeDateRand()\n",
    "dates = df.index\n",
    "print(df)\n",
    "print(df.index)\n",
    "print(df.index.name)\n",
    "print(df.columns)\n",
    "print(df.loc[df.index[0]])\n",
    "print(df.loc[dates[0]])\n"
   ]
  },
  {
   "cell_type": "markdown",
   "metadata": {
    "run_control": {
     "frozen": false,
     "read_only": false
    }
   },
   "source": [
    "In this example the row at count=0 is accessed just by the count number.  The index is not named."
   ]
  },
  {
   "cell_type": "code",
   "execution_count": 117,
   "metadata": {
    "run_control": {
     "frozen": false,
     "read_only": false
    }
   },
   "outputs": [
    {
     "name": "stdout",
     "output_type": "stream",
     "text": [
      "   A  B  C   D\n",
      "0  1  4  7  10\n",
      "1  2  5  8  11\n",
      "2  3  6  9  12\n",
      "Int64Index([0, 1, 2], dtype='int64')\n",
      "None\n",
      "A     1\n",
      "B     4\n",
      "C     7\n",
      "D    10\n",
      "Name: 0, dtype: int64\n"
     ]
    }
   ],
   "source": [
    "df = makegridDF()\n",
    "print(df)\n",
    "print(df.index)\n",
    "print(df.index.name)\n",
    "print(df.loc[0])"
   ]
  },
  {
   "cell_type": "markdown",
   "metadata": {
    "run_control": {
     "frozen": false,
     "read_only": false
    }
   },
   "source": [
    "Select all the rows, but only the 'A' and 'B' columns of these rows."
   ]
  },
  {
   "cell_type": "code",
   "execution_count": 118,
   "metadata": {
    "run_control": {
     "frozen": false,
     "read_only": false
    }
   },
   "outputs": [
    {
     "data": {
      "text/html": [
       "<div>\n",
       "<table border=\"1\" class=\"dataframe\">\n",
       "  <thead>\n",
       "    <tr style=\"text-align: right;\">\n",
       "      <th></th>\n",
       "      <th>A</th>\n",
       "      <th>B</th>\n",
       "    </tr>\n",
       "  </thead>\n",
       "  <tbody>\n",
       "    <tr>\n",
       "      <th>0</th>\n",
       "      <td>1</td>\n",
       "      <td>4</td>\n",
       "    </tr>\n",
       "    <tr>\n",
       "      <th>1</th>\n",
       "      <td>2</td>\n",
       "      <td>5</td>\n",
       "    </tr>\n",
       "    <tr>\n",
       "      <th>2</th>\n",
       "      <td>3</td>\n",
       "      <td>6</td>\n",
       "    </tr>\n",
       "  </tbody>\n",
       "</table>\n",
       "</div>"
      ],
      "text/plain": [
       "   A  B\n",
       "0  1  4\n",
       "1  2  5\n",
       "2  3  6"
      ]
     },
     "execution_count": 118,
     "metadata": {},
     "output_type": "execute_result"
    }
   ],
   "source": [
    "df.loc[:,['A','B']]"
   ]
  },
  {
   "cell_type": "markdown",
   "metadata": {
    "run_control": {
     "frozen": false,
     "read_only": false
    }
   },
   "source": [
    "In the following example a slice is made on both rows and columns.  Note that when using `loc` both endpoints in the row range are returned, but in die `ix` case the upper bound must point to one beyond the end row."
   ]
  },
  {
   "cell_type": "code",
   "execution_count": 119,
   "metadata": {
    "run_control": {
     "frozen": false,
     "read_only": false
    }
   },
   "outputs": [
    {
     "name": "stdout",
     "output_type": "stream",
     "text": [
      "                   A         B\n",
      "2013-01-02 -0.770521  0.017169\n",
      "2013-01-03 -0.396916 -0.767315\n",
      "2013-01-04 -0.767667 -0.442459\n",
      "                   A         B\n",
      "2013-01-02 -0.770521  0.017169\n",
      "2013-01-03 -0.396916 -0.767315\n",
      "2013-01-04 -0.767667 -0.442459\n"
     ]
    }
   ],
   "source": [
    "df = makeDateRand()\n",
    "print(df.loc['20130102':'20130104',['A','B']])\n",
    "print(df.ix[1:4,['A','B']])"
   ]
  },
  {
   "cell_type": "markdown",
   "metadata": {
    "run_control": {
     "frozen": false,
     "read_only": false
    }
   },
   "source": [
    "This example selects a row by using a dynamically generated datetime value."
   ]
  },
  {
   "cell_type": "code",
   "execution_count": 120,
   "metadata": {
    "run_control": {
     "frozen": false,
     "read_only": false
    }
   },
   "outputs": [
    {
     "data": {
      "text/plain": [
       "A   -0.011744\n",
       "B    1.204874\n",
       "C   -1.287089\n",
       "D    0.591469\n",
       "Name: 2013-01-02 00:00:00, dtype: float64"
      ]
     },
     "execution_count": 120,
     "metadata": {},
     "output_type": "execute_result"
    }
   ],
   "source": [
    "df = makeDateRand()\n",
    "df.ix[datetime.datetime(2013,01,02)]"
   ]
  },
  {
   "cell_type": "markdown",
   "metadata": {
    "run_control": {
     "frozen": false,
     "read_only": false
    }
   },
   "source": [
    "Rows can also be selected by numeric index by using the `irow` method."
   ]
  },
  {
   "cell_type": "code",
   "execution_count": 122,
   "metadata": {
    "run_control": {
     "frozen": false,
     "read_only": false
    }
   },
   "outputs": [
    {
     "name": "stdout",
     "output_type": "stream",
     "text": [
      "                   A         B         C         D\n",
      "2013-01-01 -0.282753  0.222111 -0.772736 -3.453785\n",
      "2013-01-02  0.997722 -1.509821  0.689313  0.468284\n",
      "2013-01-03  0.332410 -1.301162  0.240950 -1.091008\n",
      "2013-01-04  1.850212 -0.515625  0.342793 -0.303033\n",
      "2013-01-05 -3.115955 -0.966705  0.237238  0.968194\n",
      "2013-01-06  0.062485  1.151312  0.477446 -0.818907\n",
      "A    0.997722\n",
      "B   -1.509821\n",
      "C    0.689313\n",
      "D    0.468284\n",
      "Name: 2013-01-02 00:00:00, dtype: float64\n",
      "A    1.850212\n",
      "B   -0.515625\n",
      "C    0.342793\n",
      "D   -0.303033\n",
      "Name: 2013-01-04 00:00:00, dtype: float64\n"
     ]
    }
   ],
   "source": [
    "df = makeDateRand()\n",
    "print(df)\n",
    "print(df.iloc[1])\n",
    "print(df.iloc[3])"
   ]
  },
  {
   "cell_type": "markdown",
   "metadata": {
    "run_control": {
     "frozen": false,
     "read_only": false
    }
   },
   "source": [
    "This example iterates over all rows, assigning values to each row during iteration."
   ]
  },
  {
   "cell_type": "code",
   "execution_count": 123,
   "metadata": {
    "run_control": {
     "frozen": false,
     "read_only": false
    }
   },
   "outputs": [
    {
     "name": "stdout",
     "output_type": "stream",
     "text": [
      "                   A         B         C         D\n",
      "2013-01-01 -1.220201 -0.912581 -1.225059 -1.370493\n",
      "2013-01-02 -0.138869  0.283372  1.354275 -0.273265\n",
      "2013-01-03 -0.184089  0.084155  0.607951  2.125724\n",
      "2013-01-04 -0.259107 -0.310463  0.693734  0.639969\n",
      "2013-01-05  1.627852 -0.832567 -2.272649  0.969410\n",
      "            A  B         C         D\n",
      "2013-01-01  2  0  0.000000 -1.370493\n",
      "2013-01-02  2  1  1.000000 -0.273265\n",
      "2013-01-03  2  2  1.414214  2.125724\n",
      "2013-01-04  2  3  1.732051  0.639969\n",
      "2013-01-05  2  4  2.000000  0.969410\n"
     ]
    }
   ],
   "source": [
    "df = makeDateRand()\n",
    "print(df.head())\n",
    "for i,(idx, row) in enumerate(df.iterrows()):\n",
    "    row['A'] = 2\n",
    "    df.ix[idx, 'B'] = i\n",
    "    df.ix[idx]['C'] = np.sqrt(i)\n",
    "print(df.head())"
   ]
  },
  {
   "cell_type": "markdown",
   "metadata": {
    "run_control": {
     "frozen": false,
     "read_only": false
    }
   },
   "source": [
    "### [`.iloc` Selection by Position](http://pandas.pydata.org/pandas-docs/version/0.15.2/indexing.html#indexing-integer)"
   ]
  },
  {
   "cell_type": "markdown",
   "metadata": {
    "run_control": {
     "frozen": false,
     "read_only": false
    }
   },
   "source": [
    "The `iloc` "
   ]
  },
  {
   "cell_type": "code",
   "execution_count": 125,
   "metadata": {
    "run_control": {
     "frozen": false,
     "read_only": false
    }
   },
   "outputs": [
    {
     "data": {
      "text/plain": [
       "A   -1.304606\n",
       "B   -0.437829\n",
       "C    0.894476\n",
       "D   -1.477803\n",
       "Name: 2013-01-04 00:00:00, dtype: float64"
      ]
     },
     "execution_count": 125,
     "metadata": {},
     "output_type": "execute_result"
    }
   ],
   "source": [
    "df = makeDateRand()\n",
    "df.iloc[3]"
   ]
  },
  {
   "cell_type": "code",
   "execution_count": 126,
   "metadata": {
    "run_control": {
     "frozen": false,
     "read_only": false
    }
   },
   "outputs": [
    {
     "data": {
      "text/html": [
       "<div>\n",
       "<table border=\"1\" class=\"dataframe\">\n",
       "  <thead>\n",
       "    <tr style=\"text-align: right;\">\n",
       "      <th></th>\n",
       "      <th>A</th>\n",
       "      <th>B</th>\n",
       "    </tr>\n",
       "  </thead>\n",
       "  <tbody>\n",
       "    <tr>\n",
       "      <th>2013-01-04</th>\n",
       "      <td>-1.304606</td>\n",
       "      <td>-0.437829</td>\n",
       "    </tr>\n",
       "    <tr>\n",
       "      <th>2013-01-05</th>\n",
       "      <td>0.685036</td>\n",
       "      <td>-0.062328</td>\n",
       "    </tr>\n",
       "  </tbody>\n",
       "</table>\n",
       "</div>"
      ],
      "text/plain": [
       "                   A         B\n",
       "2013-01-04 -1.304606 -0.437829\n",
       "2013-01-05  0.685036 -0.062328"
      ]
     },
     "execution_count": 126,
     "metadata": {},
     "output_type": "execute_result"
    }
   ],
   "source": [
    "df.iloc[3:5,0:2]"
   ]
  },
  {
   "cell_type": "code",
   "execution_count": 129,
   "metadata": {
    "run_control": {
     "frozen": false,
     "read_only": false
    }
   },
   "outputs": [
    {
     "data": {
      "text/html": [
       "<div>\n",
       "<table border=\"1\" class=\"dataframe\">\n",
       "  <thead>\n",
       "    <tr style=\"text-align: right;\">\n",
       "      <th></th>\n",
       "      <th>A</th>\n",
       "      <th>C</th>\n",
       "    </tr>\n",
       "  </thead>\n",
       "  <tbody>\n",
       "    <tr>\n",
       "      <th>2013-01-02</th>\n",
       "      <td>1.584870</td>\n",
       "      <td>0.518136</td>\n",
       "    </tr>\n",
       "    <tr>\n",
       "      <th>2013-01-03</th>\n",
       "      <td>-1.327986</td>\n",
       "      <td>-1.349871</td>\n",
       "    </tr>\n",
       "    <tr>\n",
       "      <th>2013-01-05</th>\n",
       "      <td>0.685036</td>\n",
       "      <td>0.738492</td>\n",
       "    </tr>\n",
       "  </tbody>\n",
       "</table>\n",
       "</div>"
      ],
      "text/plain": [
       "                   A         C\n",
       "2013-01-02  1.584870  0.518136\n",
       "2013-01-03 -1.327986 -1.349871\n",
       "2013-01-05  0.685036  0.738492"
      ]
     },
     "execution_count": 129,
     "metadata": {},
     "output_type": "execute_result"
    }
   ],
   "source": [
    "df.iloc[[1,2,4],[0,2]]"
   ]
  },
  {
   "cell_type": "code",
   "execution_count": 130,
   "metadata": {
    "run_control": {
     "frozen": false,
     "read_only": false
    }
   },
   "outputs": [
    {
     "data": {
      "text/html": [
       "<div>\n",
       "<table border=\"1\" class=\"dataframe\">\n",
       "  <thead>\n",
       "    <tr style=\"text-align: right;\">\n",
       "      <th></th>\n",
       "      <th>A</th>\n",
       "      <th>B</th>\n",
       "      <th>C</th>\n",
       "      <th>D</th>\n",
       "    </tr>\n",
       "  </thead>\n",
       "  <tbody>\n",
       "    <tr>\n",
       "      <th>2013-01-02</th>\n",
       "      <td>1.584870</td>\n",
       "      <td>-0.274771</td>\n",
       "      <td>0.518136</td>\n",
       "      <td>1.214177</td>\n",
       "    </tr>\n",
       "    <tr>\n",
       "      <th>2013-01-03</th>\n",
       "      <td>-1.327986</td>\n",
       "      <td>-0.568689</td>\n",
       "      <td>-1.349871</td>\n",
       "      <td>1.057308</td>\n",
       "    </tr>\n",
       "  </tbody>\n",
       "</table>\n",
       "</div>"
      ],
      "text/plain": [
       "                   A         B         C         D\n",
       "2013-01-02  1.584870 -0.274771  0.518136  1.214177\n",
       "2013-01-03 -1.327986 -0.568689 -1.349871  1.057308"
      ]
     },
     "execution_count": 130,
     "metadata": {},
     "output_type": "execute_result"
    }
   ],
   "source": [
    "# slicing rows\n",
    "df.iloc[1:3,:]"
   ]
  },
  {
   "cell_type": "code",
   "execution_count": 131,
   "metadata": {
    "run_control": {
     "frozen": false,
     "read_only": false
    }
   },
   "outputs": [
    {
     "data": {
      "text/html": [
       "<div>\n",
       "<table border=\"1\" class=\"dataframe\">\n",
       "  <thead>\n",
       "    <tr style=\"text-align: right;\">\n",
       "      <th></th>\n",
       "      <th>B</th>\n",
       "      <th>C</th>\n",
       "    </tr>\n",
       "  </thead>\n",
       "  <tbody>\n",
       "    <tr>\n",
       "      <th>2013-01-01</th>\n",
       "      <td>1.246933</td>\n",
       "      <td>-0.051900</td>\n",
       "    </tr>\n",
       "    <tr>\n",
       "      <th>2013-01-02</th>\n",
       "      <td>-0.274771</td>\n",
       "      <td>0.518136</td>\n",
       "    </tr>\n",
       "    <tr>\n",
       "      <th>2013-01-03</th>\n",
       "      <td>-0.568689</td>\n",
       "      <td>-1.349871</td>\n",
       "    </tr>\n",
       "    <tr>\n",
       "      <th>2013-01-04</th>\n",
       "      <td>-0.437829</td>\n",
       "      <td>0.894476</td>\n",
       "    </tr>\n",
       "    <tr>\n",
       "      <th>2013-01-05</th>\n",
       "      <td>-0.062328</td>\n",
       "      <td>0.738492</td>\n",
       "    </tr>\n",
       "    <tr>\n",
       "      <th>2013-01-06</th>\n",
       "      <td>0.701411</td>\n",
       "      <td>-1.214182</td>\n",
       "    </tr>\n",
       "  </tbody>\n",
       "</table>\n",
       "</div>"
      ],
      "text/plain": [
       "                   B         C\n",
       "2013-01-01  1.246933 -0.051900\n",
       "2013-01-02 -0.274771  0.518136\n",
       "2013-01-03 -0.568689 -1.349871\n",
       "2013-01-04 -0.437829  0.894476\n",
       "2013-01-05 -0.062328  0.738492\n",
       "2013-01-06  0.701411 -1.214182"
      ]
     },
     "execution_count": 131,
     "metadata": {},
     "output_type": "execute_result"
    }
   ],
   "source": [
    "# slicing columns\n",
    "df.iloc[:,1:3]"
   ]
  },
  {
   "cell_type": "code",
   "execution_count": 132,
   "metadata": {
    "run_control": {
     "frozen": false,
     "read_only": false
    }
   },
   "outputs": [
    {
     "data": {
      "text/plain": [
       "-0.27477095890109704"
      ]
     },
     "execution_count": 132,
     "metadata": {},
     "output_type": "execute_result"
    }
   ],
   "source": [
    "df.iloc[1,1]"
   ]
  },
  {
   "cell_type": "markdown",
   "metadata": {
    "run_control": {
     "frozen": false,
     "read_only": false
    }
   },
   "source": [
    "### Series/DataFrame [enlargement](http://pandas.pydata.org/pandas-docs/version/0.15.2/indexing.html#setting-with-enlargement)"
   ]
  },
  {
   "cell_type": "markdown",
   "metadata": {
    "run_control": {
     "frozen": false,
     "read_only": false
    }
   },
   "source": [
    "The `.loc`/`.ix/[]` operations can perform enlargement when setting a non-existent key for that axis. In the Series case this is effectively an appending operation."
   ]
  },
  {
   "cell_type": "code",
   "execution_count": 133,
   "metadata": {
    "run_control": {
     "frozen": false,
     "read_only": false
    }
   },
   "outputs": [
    {
     "name": "stdout",
     "output_type": "stream",
     "text": [
      "0    1\n",
      "1    2\n",
      "2    3\n",
      "dtype: int64\n",
      "0    1\n",
      "1    2\n",
      "2    3\n",
      "5    5\n",
      "dtype: float64\n"
     ]
    }
   ],
   "source": [
    "se = pd.Series([1,2,3])\n",
    "print(se) \n",
    "se[5] = 5.\n",
    "print(se)"
   ]
  },
  {
   "cell_type": "markdown",
   "metadata": {
    "run_control": {
     "frozen": false,
     "read_only": false
    }
   },
   "source": [
    "A DataFrame can be enlarged on either axis via `.loc`"
   ]
  },
  {
   "cell_type": "code",
   "execution_count": 134,
   "metadata": {
    "run_control": {
     "frozen": false,
     "read_only": false
    }
   },
   "outputs": [
    {
     "name": "stdout",
     "output_type": "stream",
     "text": [
      "   A  B\n",
      "0  0  1\n",
      "1  2  3\n",
      "2  4  5\n",
      "   A  B  C\n",
      "0  0  1  0\n",
      "1  2  3  2\n",
      "2  4  5  4\n",
      "   A  B  C\n",
      "0  0  1  0\n",
      "1  2  3  2\n",
      "2  4  5  4\n",
      "3  5  5  5\n"
     ]
    }
   ],
   "source": [
    "dfi = pd.DataFrame(np.arange(6).reshape(3,2),columns=['A','B'])\n",
    "print(dfi)\n",
    "dfi.loc[:,'C'] = dfi.loc[:,'A']\n",
    "print(dfi)\n",
    "dfi.loc[3] = 5\n",
    "print(dfi)"
   ]
  },
  {
   "cell_type": "markdown",
   "metadata": {
    "run_control": {
     "frozen": false,
     "read_only": false
    }
   },
   "source": [
    "### Find row where index is nearest to given value"
   ]
  },
  {
   "cell_type": "code",
   "execution_count": 135,
   "metadata": {
    "run_control": {
     "frozen": false,
     "read_only": false
    }
   },
   "outputs": [
    {
     "name": "stdout",
     "output_type": "stream",
     "text": [
      "                   A         B         C         D\n",
      "2013-01-01  0.957613  0.264654  0.634164 -1.485005\n",
      "2013-01-02 -1.360602  0.098583  2.353688  0.347974\n",
      "2013-01-03 -0.671884  2.395715  1.111467  1.820011\n",
      "2013-01-04 -0.208845  0.193329  1.389793  0.962721\n",
      "2013-01-05 -0.595651  0.508843  1.419281 -0.294926\n",
      "2013-01-06  1.301456  0.150654 -0.056072  1.658433\n",
      "A   -0.208845\n",
      "B    0.193329\n",
      "C    1.389793\n",
      "D    0.962721\n",
      "Name: 2013-01-04 00:00:00, dtype: float64\n",
      "3\n"
     ]
    }
   ],
   "source": [
    "df = makeDateRand()\n",
    "print(df)\n",
    "print(df.iloc[np.argmin(np.abs(df.index.to_pydatetime() - datetime.datetime(2013,1,4)))]) # row\n",
    "print(np.argmin(np.abs(df.index.to_pydatetime() - datetime.datetime(2013,1,4)))) # index"
   ]
  },
  {
   "cell_type": "code",
   "execution_count": 136,
   "metadata": {
    "collapsed": true,
    "run_control": {
     "frozen": false,
     "read_only": false
    }
   },
   "outputs": [],
   "source": [
    "# df = makeRand()\n",
    "# print(df)\n",
    "# print(np.abs(df.index - 2)) # row\n",
    "\n",
    "# row = df.iloc[np.argmin(np.abs(df.index - 2))] # row\n",
    "# print(type(row))\n",
    "# print(row)\n",
    "# print(np.abs(df.index - 2)) # index\n",
    "# print(np.argmin(np.abs(df.index - 2))) # index\n"
   ]
  },
  {
   "cell_type": "markdown",
   "metadata": {
    "run_control": {
     "frozen": false,
     "read_only": false
    }
   },
   "source": [
    "### Find row where column is maximum"
   ]
  },
  {
   "cell_type": "code",
   "execution_count": 137,
   "metadata": {
    "run_control": {
     "frozen": false,
     "read_only": false
    }
   },
   "outputs": [
    {
     "name": "stdout",
     "output_type": "stream",
     "text": [
      "          A         B         C         D\n",
      "0  1.184432  2.730629 -1.629354  1.387881\n",
      "1 -0.646477 -0.465635 -0.437360  0.424280\n",
      "2 -2.213829 -0.557251 -1.409780  1.012180\n",
      "3  1.022586 -0.484032  0.413923 -1.249171\n",
      "0\n",
      "A    1.184432\n",
      "B    2.730629\n",
      "C   -1.629354\n",
      "D    1.387881\n",
      "Name: 0, dtype: float64\n"
     ]
    }
   ],
   "source": [
    "df = makeRand()\n",
    "print(df)\n",
    "print(df['A'].argmax(df['A'].argmax()))  # index\n",
    "print(df.iloc[df['A'].argmax(df['A'].argmax())]) #row"
   ]
  },
  {
   "cell_type": "markdown",
   "metadata": {
    "run_control": {
     "frozen": false,
     "read_only": false
    }
   },
   "source": [
    "### Find row where specific column has nearest value"
   ]
  },
  {
   "cell_type": "code",
   "execution_count": 138,
   "metadata": {
    "run_control": {
     "frozen": false,
     "read_only": false
    }
   },
   "outputs": [
    {
     "name": "stdout",
     "output_type": "stream",
     "text": [
      "          A         B         C         D\n",
      "0 -1.093957  0.223460 -0.543572 -0.156393\n",
      "1  0.722922  0.423029  1.105608  0.842629\n",
      "2 -0.718551  2.070397  0.333693  1.534755\n",
      "3  0.853405  1.966933 -0.588211  0.707923\n",
      "A   -0.718551\n",
      "B    2.070397\n",
      "C    0.333693\n",
      "D    1.534755\n",
      "Name: 2, dtype: float64\n",
      "2\n"
     ]
    }
   ],
   "source": [
    "df = makeRand()\n",
    "print(df)\n",
    "value = 0\n",
    "print(df.iloc[np.argmin(np.abs(df['A'] - value))]) # row\n",
    "print(np.argmin(np.abs(df['A'] - value))) # index"
   ]
  },
  {
   "cell_type": "markdown",
   "metadata": {
    "run_control": {
     "frozen": false,
     "read_only": false
    }
   },
   "source": [
    "### Boolean indexing and filtering"
   ]
  },
  {
   "cell_type": "code",
   "execution_count": 139,
   "metadata": {
    "run_control": {
     "frozen": false,
     "read_only": false
    }
   },
   "outputs": [
    {
     "data": {
      "text/html": [
       "<div>\n",
       "<table border=\"1\" class=\"dataframe\">\n",
       "  <thead>\n",
       "    <tr style=\"text-align: right;\">\n",
       "      <th></th>\n",
       "      <th>A</th>\n",
       "      <th>B</th>\n",
       "      <th>C</th>\n",
       "      <th>D</th>\n",
       "    </tr>\n",
       "  </thead>\n",
       "  <tbody>\n",
       "    <tr>\n",
       "      <th>2013-01-01</th>\n",
       "      <td>0.822116</td>\n",
       "      <td>0.451671</td>\n",
       "      <td>0.601137</td>\n",
       "      <td>-0.444254</td>\n",
       "    </tr>\n",
       "    <tr>\n",
       "      <th>2013-01-03</th>\n",
       "      <td>1.215190</td>\n",
       "      <td>-0.324810</td>\n",
       "      <td>1.354048</td>\n",
       "      <td>-0.746171</td>\n",
       "    </tr>\n",
       "    <tr>\n",
       "      <th>2013-01-04</th>\n",
       "      <td>0.643028</td>\n",
       "      <td>0.650781</td>\n",
       "      <td>2.567908</td>\n",
       "      <td>-0.784414</td>\n",
       "    </tr>\n",
       "    <tr>\n",
       "      <th>2013-01-05</th>\n",
       "      <td>0.167780</td>\n",
       "      <td>-0.044462</td>\n",
       "      <td>0.837604</td>\n",
       "      <td>0.862347</td>\n",
       "    </tr>\n",
       "    <tr>\n",
       "      <th>2013-01-06</th>\n",
       "      <td>1.078613</td>\n",
       "      <td>0.156317</td>\n",
       "      <td>0.447820</td>\n",
       "      <td>-2.028832</td>\n",
       "    </tr>\n",
       "  </tbody>\n",
       "</table>\n",
       "</div>"
      ],
      "text/plain": [
       "                   A         B         C         D\n",
       "2013-01-01  0.822116  0.451671  0.601137 -0.444254\n",
       "2013-01-03  1.215190 -0.324810  1.354048 -0.746171\n",
       "2013-01-04  0.643028  0.650781  2.567908 -0.784414\n",
       "2013-01-05  0.167780 -0.044462  0.837604  0.862347\n",
       "2013-01-06  1.078613  0.156317  0.447820 -2.028832"
      ]
     },
     "execution_count": 139,
     "metadata": {},
     "output_type": "execute_result"
    }
   ],
   "source": [
    "# filter by single row\n",
    "df = makeDateRand()\n",
    "df[df.A > 0]"
   ]
  },
  {
   "cell_type": "code",
   "execution_count": 140,
   "metadata": {
    "run_control": {
     "frozen": false,
     "read_only": false
    }
   },
   "outputs": [
    {
     "data": {
      "text/html": [
       "<div>\n",
       "<table border=\"1\" class=\"dataframe\">\n",
       "  <thead>\n",
       "    <tr style=\"text-align: right;\">\n",
       "      <th></th>\n",
       "      <th>A</th>\n",
       "      <th>B</th>\n",
       "      <th>C</th>\n",
       "      <th>D</th>\n",
       "    </tr>\n",
       "  </thead>\n",
       "  <tbody>\n",
       "    <tr>\n",
       "      <th>2013-01-01</th>\n",
       "      <td>0.822116</td>\n",
       "      <td>0.451671</td>\n",
       "      <td>0.601137</td>\n",
       "      <td>-0.444254</td>\n",
       "    </tr>\n",
       "    <tr>\n",
       "      <th>2013-01-04</th>\n",
       "      <td>0.643028</td>\n",
       "      <td>0.650781</td>\n",
       "      <td>2.567908</td>\n",
       "      <td>-0.784414</td>\n",
       "    </tr>\n",
       "    <tr>\n",
       "      <th>2013-01-06</th>\n",
       "      <td>1.078613</td>\n",
       "      <td>0.156317</td>\n",
       "      <td>0.447820</td>\n",
       "      <td>-2.028832</td>\n",
       "    </tr>\n",
       "  </tbody>\n",
       "</table>\n",
       "</div>"
      ],
      "text/plain": [
       "                   A         B         C         D\n",
       "2013-01-01  0.822116  0.451671  0.601137 -0.444254\n",
       "2013-01-04  0.643028  0.650781  2.567908 -0.784414\n",
       "2013-01-06  1.078613  0.156317  0.447820 -2.028832"
      ]
     },
     "execution_count": 140,
     "metadata": {},
     "output_type": "execute_result"
    }
   ],
   "source": [
    "# filter by multiple row\n",
    "df2 = df[(df.A>0) & (df.B>0)]\n",
    "df2"
   ]
  },
  {
   "cell_type": "code",
   "execution_count": 141,
   "metadata": {
    "run_control": {
     "frozen": false,
     "read_only": false
    }
   },
   "outputs": [
    {
     "name": "stdout",
     "output_type": "stream",
     "text": [
      "(<class 'pandas.core.series.Series'>, 2013-01-01     True\n",
      "2013-01-02    False\n",
      "2013-01-03    False\n",
      "2013-01-04     True\n",
      "2013-01-05    False\n",
      "2013-01-06     True\n",
      "Freq: D, dtype: bool)\n",
      "filt.any() = True\n",
      "filt.all() = False\n"
     ]
    }
   ],
   "source": [
    "# filter specs are pandas time series, which can be manipulated\n",
    "filt = (df.A>0) & (df.B>0)\n",
    "print(type(filt), filt)\n",
    "print('filt.any() = {}'.format(filt.any()))\n",
    "print('filt.all() = {}'.format(filt.all()))"
   ]
  },
  {
   "cell_type": "code",
   "execution_count": 144,
   "metadata": {
    "run_control": {
     "frozen": false,
     "read_only": false
    }
   },
   "outputs": [
    {
     "data": {
      "text/html": [
       "<div>\n",
       "<table border=\"1\" class=\"dataframe\">\n",
       "  <thead>\n",
       "    <tr style=\"text-align: right;\">\n",
       "      <th></th>\n",
       "      <th>A</th>\n",
       "      <th>B</th>\n",
       "      <th>C</th>\n",
       "      <th>D</th>\n",
       "    </tr>\n",
       "  </thead>\n",
       "  <tbody>\n",
       "    <tr>\n",
       "      <th>2013-01-01</th>\n",
       "      <td>0.822116</td>\n",
       "      <td>0.451671</td>\n",
       "      <td>0.601137</td>\n",
       "      <td>NaN</td>\n",
       "    </tr>\n",
       "    <tr>\n",
       "      <th>2013-01-02</th>\n",
       "      <td>NaN</td>\n",
       "      <td>NaN</td>\n",
       "      <td>1.579505</td>\n",
       "      <td>0.412203</td>\n",
       "    </tr>\n",
       "    <tr>\n",
       "      <th>2013-01-03</th>\n",
       "      <td>1.215190</td>\n",
       "      <td>NaN</td>\n",
       "      <td>1.354048</td>\n",
       "      <td>NaN</td>\n",
       "    </tr>\n",
       "    <tr>\n",
       "      <th>2013-01-04</th>\n",
       "      <td>0.643028</td>\n",
       "      <td>0.650781</td>\n",
       "      <td>2.567908</td>\n",
       "      <td>NaN</td>\n",
       "    </tr>\n",
       "    <tr>\n",
       "      <th>2013-01-05</th>\n",
       "      <td>0.167780</td>\n",
       "      <td>NaN</td>\n",
       "      <td>0.837604</td>\n",
       "      <td>0.862347</td>\n",
       "    </tr>\n",
       "    <tr>\n",
       "      <th>2013-01-06</th>\n",
       "      <td>1.078613</td>\n",
       "      <td>0.156317</td>\n",
       "      <td>0.447820</td>\n",
       "      <td>NaN</td>\n",
       "    </tr>\n",
       "  </tbody>\n",
       "</table>\n",
       "</div>"
      ],
      "text/plain": [
       "                   A         B         C         D\n",
       "2013-01-01  0.822116  0.451671  0.601137       NaN\n",
       "2013-01-02       NaN       NaN  1.579505  0.412203\n",
       "2013-01-03  1.215190       NaN  1.354048       NaN\n",
       "2013-01-04  0.643028  0.650781  2.567908       NaN\n",
       "2013-01-05  0.167780       NaN  0.837604  0.862347\n",
       "2013-01-06  1.078613  0.156317  0.447820       NaN"
      ]
     },
     "execution_count": 144,
     "metadata": {},
     "output_type": "execute_result"
    }
   ],
   "source": [
    "# filter by element\n",
    "df[df > 0]"
   ]
  },
  {
   "cell_type": "code",
   "execution_count": 145,
   "metadata": {
    "run_control": {
     "frozen": false,
     "read_only": false
    }
   },
   "outputs": [
    {
     "name": "stdout",
     "output_type": "stream",
     "text": [
      "                   A         B         C         D      E\n",
      "2013-01-01  0.822116  0.451671  0.601137 -0.444254    one\n",
      "2013-01-02 -0.202334 -1.892983  1.579505  0.412203    one\n",
      "2013-01-03  1.215190 -0.324810  1.354048 -0.746171    two\n",
      "2013-01-04  0.643028  0.650781  2.567908 -0.784414  three\n",
      "2013-01-05  0.167780 -0.044462  0.837604  0.862347   four\n",
      "2013-01-06  1.078613  0.156317  0.447820 -2.028832  three\n"
     ]
    },
    {
     "data": {
      "text/html": [
       "<div>\n",
       "<table border=\"1\" class=\"dataframe\">\n",
       "  <thead>\n",
       "    <tr style=\"text-align: right;\">\n",
       "      <th></th>\n",
       "      <th>A</th>\n",
       "      <th>B</th>\n",
       "      <th>C</th>\n",
       "      <th>D</th>\n",
       "      <th>E</th>\n",
       "    </tr>\n",
       "  </thead>\n",
       "  <tbody>\n",
       "    <tr>\n",
       "      <th>2013-01-03</th>\n",
       "      <td>1.21519</td>\n",
       "      <td>-0.324810</td>\n",
       "      <td>1.354048</td>\n",
       "      <td>-0.746171</td>\n",
       "      <td>two</td>\n",
       "    </tr>\n",
       "    <tr>\n",
       "      <th>2013-01-05</th>\n",
       "      <td>0.16778</td>\n",
       "      <td>-0.044462</td>\n",
       "      <td>0.837604</td>\n",
       "      <td>0.862347</td>\n",
       "      <td>four</td>\n",
       "    </tr>\n",
       "  </tbody>\n",
       "</table>\n",
       "</div>"
      ],
      "text/plain": [
       "                  A         B         C         D     E\n",
       "2013-01-03  1.21519 -0.324810  1.354048 -0.746171   two\n",
       "2013-01-05  0.16778 -0.044462  0.837604  0.862347  four"
      ]
     },
     "execution_count": 145,
     "metadata": {},
     "output_type": "execute_result"
    }
   ],
   "source": [
    "# isin filtering\n",
    "df2 = df.copy()\n",
    "df2['E']=['one', 'one','two','three','four','three']\n",
    "print(df2)\n",
    "df2[df2['E'].isin(['two','four'])]"
   ]
  },
  {
   "cell_type": "code",
   "execution_count": 146,
   "metadata": {
    "run_control": {
     "frozen": false,
     "read_only": false
    }
   },
   "outputs": [
    {
     "name": "stdout",
     "output_type": "stream",
     "text": [
      "     A      B         C         D\n",
      "0  foo    one -1.087582 -0.516936\n",
      "1  bar    one -1.259222  0.081967\n",
      "2  foo    two -0.755407 -0.764521\n",
      "3  bar  three  0.383739 -0.586821\n",
      "4  foo    two -2.096382 -0.855008\n",
      "5  bar    two  0.339750 -1.076581\n",
      "6  foo    one -0.004725  1.965727\n",
      "7  foo  three  1.532280  1.591134\n"
     ]
    },
    {
     "data": {
      "text/plain": [
       "array(['one', 'two', 'three'], dtype=object)"
      ]
     },
     "execution_count": 146,
     "metadata": {},
     "output_type": "execute_result"
    }
   ],
   "source": [
    "# get unique values in a column\n",
    "df = makefoobar()\n",
    "print(df)\n",
    "df.B.unique()"
   ]
  },
  {
   "cell_type": "markdown",
   "metadata": {
    "run_control": {
     "frozen": false,
     "read_only": false
    }
   },
   "source": [
    "<http://stackoverflow.com/questions/20875140/apply-function-to-sets-of-columns-in-pandas-looping-over-entire-data-frame-co>  \n",
    "\n",
    "What I want to do is simply to calculate the length of the vector for each header (A and B) in this case, for each index, and divide by the Time column. Hence, this function needs to be np.sqrt(A_x^2 + A_y^2 + A_z^2) and the same for B of course. I.e. I am looking to calculate the velocity for each row, but three columns contribute to one velocity result.      "
   ]
  },
  {
   "cell_type": "code",
   "execution_count": 147,
   "metadata": {
    "run_control": {
     "frozen": false,
     "read_only": false
    }
   },
   "outputs": [
    {
     "name": "stdout",
     "output_type": "stream",
     "text": [
      "['A_x', 'A_y', 'A_z']\n",
      "         A_x       A_y       A_z\n",
      "1   0.353426  0.343385  0.424948\n",
      "2  -0.501874  0.062246  0.478112\n",
      "3   0.138896 -0.755615  0.481587\n",
      "4   0.739715  1.033263 -0.480397\n",
      "5  -0.739044  1.439570 -0.785616\n",
      "6  -0.513817  1.642495  0.105571\n",
      "7  -0.836789 -0.688965  1.555279\n",
      "8  -0.840981  0.892179  0.165694\n",
      "9  -1.548636  0.029720  1.536503\n",
      "10  1.505807  1.967152 -0.037684\n",
      "        Time       A_x       A_y       A_z       B_x       B_y       B_z  Velocity_A  Velocity_B\n",
      "1  -1.499207  0.353426  0.343385  0.424948 -0.566311 -0.481274 -0.654467   -0.434026   -0.660537\n",
      "2  -0.096971 -0.501874  0.062246  0.478112  0.374161 -0.637188 -0.213568   -7.176858   -7.931905\n",
      "3   0.003627  0.138896 -0.755615  0.481587  0.741315 -0.047051  0.570068  250.025054  258.188754\n",
      "4   0.486801  0.739715  1.033263 -0.480397  0.641635  0.796963 -1.658714    2.790720    4.003465\n",
      "5  -0.192680 -0.739044  1.439570 -0.785616 -0.765239 -0.240194 -1.138251   -9.335770   -7.226715\n",
      "6  -1.808662 -0.513817  1.642495  0.105571 -1.330420  0.318219 -1.271814   -0.953313   -1.032714\n",
      "7   2.238937 -0.836789 -0.688965  1.555279 -0.383533  0.150563  0.423150    0.846709    0.263791\n",
      "8   0.149884 -0.840981  0.892179  0.165694 -1.139309  0.833262  1.862829    8.254430   15.593331\n",
      "9  -0.443530 -1.548636  0.029720  1.536503  1.468104 -0.722314 -1.134075   -4.919037   -4.488480\n",
      "10  1.625606  1.505807  1.967152 -0.037684 -1.472981  0.319382  0.844737    1.524116    1.062859\n"
     ]
    }
   ],
   "source": [
    "# pandas approach\n",
    "headers = ['Time', 'A_x', 'A_y', 'A_z', 'B_x', 'B_y', 'B_z']\n",
    "df = pd.DataFrame(np.random.randn(10,7),index=range(1,11),columns=headers)\n",
    "\n",
    "# fiter the column names to get a list of the ones you need\n",
    "print(filter(lambda x: x.startswith(\"A_\"),df.columns))\n",
    "\n",
    "# get the columns according to names\n",
    "print(df[filter(lambda x: x.startswith(\"A_\"),df.columns)])\n",
    "\n",
    "# do the apply dot product for each row across columns\n",
    "column_initials = [\"A\",\"B\"]\n",
    "for column_initial in column_initials:\n",
    "    df[\"Velocity_\"+column_initial] = \\\n",
    "    df[filter(lambda x: x.startswith(column_initial+\"_\"),df.columns)].apply(lambda x: np.sqrt(x.dot(x)), axis=1)/df.Time\n",
    "print(df)  \n"
   ]
  },
  {
   "cell_type": "code",
   "execution_count": 148,
   "metadata": {
    "run_control": {
     "frozen": false,
     "read_only": false
    }
   },
   "outputs": [
    {
     "name": "stdout",
     "output_type": "stream",
     "text": [
      "   Velocity_A  Velocity_B\n",
      "0   -8.085673   -4.710450\n",
      "1   -1.421112   -1.195982\n",
      "2   57.151328   59.548965\n",
      "3   -3.682149   -1.710949\n",
      "4    1.864047    1.845615\n",
      "5   -4.356346   -3.077169\n",
      "6   -5.428596   -7.162811\n",
      "7    1.042122    0.765445\n",
      "8   -1.675783   -2.058840\n",
      "9   16.093548   11.206235\n"
     ]
    }
   ],
   "source": [
    "# numpy approach\n",
    "headers = ['Time', 'A_x', 'A_y', 'A_z', 'B_x', 'B_y', 'B_z']\n",
    "df = pd.DataFrame(np.random.randn(10,7),index=range(1,11),columns=headers)\n",
    "\n",
    "arr = df.values\n",
    "times = arr[:,0]\n",
    "arr = arr[:,1:]\n",
    "result = np.sqrt((arr**2).reshape(arr.shape[0],-1,3).sum(axis=-1))/times[:,None]\n",
    "result = pd.DataFrame(result, columns=['Velocity_%s'%(x,) for x in list('AB')])\n",
    "print(result)"
   ]
  },
  {
   "cell_type": "code",
   "execution_count": 149,
   "metadata": {
    "run_control": {
     "frozen": false,
     "read_only": false
    }
   },
   "outputs": [
    {
     "name": "stdout",
     "output_type": "stream",
     "text": [
      "            A          B\n",
      "1    3.348204   1.310580\n",
      "2    4.586489   1.483035\n",
      "3   -2.899462  -5.729715\n",
      "4    2.026191   0.833350\n",
      "5  -11.695864 -43.259679\n",
      "6    8.583370   8.061852\n",
      "7    1.599750   5.130656\n",
      "8   -9.687711 -12.670778\n",
      "9    2.360350   4.944775\n",
      "10  -6.119537  -6.632625\n"
     ]
    }
   ],
   "source": [
    "# yet another approach\n",
    "headers = ['Time', 'A_x', 'A_y', 'A_z', 'B_x', 'B_y', 'B_z']\n",
    "df = pd.DataFrame(np.random.randn(10,7),index=range(1,11),columns=headers)\n",
    "\n",
    "result = df\\\n",
    "    .loc[:, df.columns!='Time']\\\n",
    "    .groupby(lambda x: x[0], axis=1)\\\n",
    "    .apply(lambda x: np.sqrt((x**2).sum(1)))\\\n",
    "    .apply(lambda x: x / df['Time'])\n",
    "\n",
    "print(result)"
   ]
  },
  {
   "cell_type": "markdown",
   "metadata": {
    "run_control": {
     "frozen": false,
     "read_only": false
    }
   },
   "source": [
    "### Setting data"
   ]
  },
  {
   "cell_type": "code",
   "execution_count": 150,
   "metadata": {
    "run_control": {
     "frozen": false,
     "read_only": false
    }
   },
   "outputs": [
    {
     "data": {
      "text/plain": [
       "(-0.48970550664575696, 1.2491964813399699, 0.9539171364559569)"
      ]
     },
     "execution_count": 150,
     "metadata": {},
     "output_type": "execute_result"
    }
   ],
   "source": [
    "# Adding the sum along a column\n",
    "df = makeDateRand()\n",
    "df['A'].sum(), df['B'].sum(), df['C'].sum(), "
   ]
  },
  {
   "cell_type": "code",
   "execution_count": 151,
   "metadata": {
    "run_control": {
     "frozen": false,
     "read_only": false
    }
   },
   "outputs": [
    {
     "name": "stdout",
     "output_type": "stream",
     "text": [
      "                   A         B         C         D     Total\n",
      "2013-01-01 -0.803083  1.630430 -2.550204 -0.993119 -1.722857\n",
      "2013-01-02 -0.190795 -0.064689 -0.565107 -1.049063 -0.820591\n",
      "2013-01-03  1.390111  0.076018  0.250876 -0.238590  1.717006\n",
      "2013-01-04  0.912563  0.311738 -1.103789  1.008107  0.120512\n",
      "2013-01-05 -0.798141 -1.034420  1.408666  0.962294 -0.423895\n",
      "2013-01-06 -0.728085  0.745529  0.457288 -0.162601  0.474731\n"
     ]
    }
   ],
   "source": [
    "df = makeDateRand()\n",
    "df['Total'] = df['A'] + df['B'] + df['C']\n",
    "print(df)"
   ]
  },
  {
   "cell_type": "code",
   "execution_count": 152,
   "metadata": {
    "run_control": {
     "frozen": false,
     "read_only": false
    }
   },
   "outputs": [
    {
     "data": {
      "text/plain": [
       "A       -0.217431\n",
       "B        1.664606\n",
       "Total   -0.655095\n",
       "dtype: float64"
      ]
     },
     "execution_count": 152,
     "metadata": {},
     "output_type": "execute_result"
    }
   ],
   "source": [
    "sum_row = df[['A','B','Total']].sum()\n",
    "sum_row"
   ]
  },
  {
   "cell_type": "markdown",
   "metadata": {
    "run_control": {
     "frozen": false,
     "read_only": false
    }
   },
   "source": [
    "We need to transpose the data and convert the Series to a DataFrame so that it is easier to concat onto our existing data. The T function allows us to switch the data from being row-based to column-based.\n",
    "\n"
   ]
  },
  {
   "cell_type": "code",
   "execution_count": 153,
   "metadata": {
    "run_control": {
     "frozen": false,
     "read_only": false
    }
   },
   "outputs": [
    {
     "data": {
      "text/html": [
       "<div>\n",
       "<table border=\"1\" class=\"dataframe\">\n",
       "  <thead>\n",
       "    <tr style=\"text-align: right;\">\n",
       "      <th></th>\n",
       "      <th>A</th>\n",
       "      <th>B</th>\n",
       "      <th>Total</th>\n",
       "    </tr>\n",
       "  </thead>\n",
       "  <tbody>\n",
       "    <tr>\n",
       "      <th>0</th>\n",
       "      <td>-0.217431</td>\n",
       "      <td>1.664606</td>\n",
       "      <td>-0.655095</td>\n",
       "    </tr>\n",
       "  </tbody>\n",
       "</table>\n",
       "</div>"
      ],
      "text/plain": [
       "          A         B     Total\n",
       "0 -0.217431  1.664606 -0.655095"
      ]
     },
     "execution_count": 153,
     "metadata": {},
     "output_type": "execute_result"
    }
   ],
   "source": [
    "df_sum=pd.DataFrame(data=sum_row).T\n",
    "df_sum"
   ]
  },
  {
   "cell_type": "markdown",
   "metadata": {
    "run_control": {
     "frozen": false,
     "read_only": false
    }
   },
   "source": [
    "The final thing we need to do before adding the totals back is to add the missing columns. We use reindex to do this for us. The trick is to add all of our columns and then allow pandas to fill in the values that are missing.\n"
   ]
  },
  {
   "cell_type": "code",
   "execution_count": 154,
   "metadata": {
    "run_control": {
     "frozen": false,
     "read_only": false
    }
   },
   "outputs": [
    {
     "data": {
      "text/html": [
       "<div>\n",
       "<table border=\"1\" class=\"dataframe\">\n",
       "  <thead>\n",
       "    <tr style=\"text-align: right;\">\n",
       "      <th></th>\n",
       "      <th>A</th>\n",
       "      <th>B</th>\n",
       "      <th>C</th>\n",
       "      <th>D</th>\n",
       "      <th>Total</th>\n",
       "    </tr>\n",
       "  </thead>\n",
       "  <tbody>\n",
       "    <tr>\n",
       "      <th>0</th>\n",
       "      <td>-0.217431</td>\n",
       "      <td>1.664606</td>\n",
       "      <td>NaN</td>\n",
       "      <td>NaN</td>\n",
       "      <td>-0.655095</td>\n",
       "    </tr>\n",
       "  </tbody>\n",
       "</table>\n",
       "</div>"
      ],
      "text/plain": [
       "          A         B   C   D     Total\n",
       "0 -0.217431  1.664606 NaN NaN -0.655095"
      ]
     },
     "execution_count": 154,
     "metadata": {},
     "output_type": "execute_result"
    }
   ],
   "source": [
    "df_sum=df_sum.reindex(columns=df.columns)\n",
    "df_sum"
   ]
  },
  {
   "cell_type": "markdown",
   "metadata": {
    "run_control": {
     "frozen": false,
     "read_only": false
    }
   },
   "source": [
    "Now append the totals to the end of the dataframe, rename the index value to use the word 'Total'."
   ]
  },
  {
   "cell_type": "code",
   "execution_count": 155,
   "metadata": {
    "run_control": {
     "frozen": false,
     "read_only": false
    }
   },
   "outputs": [
    {
     "data": {
      "text/html": [
       "<div>\n",
       "<table border=\"1\" class=\"dataframe\">\n",
       "  <thead>\n",
       "    <tr style=\"text-align: right;\">\n",
       "      <th></th>\n",
       "      <th>A</th>\n",
       "      <th>B</th>\n",
       "      <th>C</th>\n",
       "      <th>D</th>\n",
       "      <th>Total</th>\n",
       "    </tr>\n",
       "  </thead>\n",
       "  <tbody>\n",
       "    <tr>\n",
       "      <th>2</th>\n",
       "      <td>1.390111</td>\n",
       "      <td>0.076018</td>\n",
       "      <td>0.250876</td>\n",
       "      <td>-0.238590</td>\n",
       "      <td>1.717006</td>\n",
       "    </tr>\n",
       "    <tr>\n",
       "      <th>3</th>\n",
       "      <td>0.912563</td>\n",
       "      <td>0.311738</td>\n",
       "      <td>-1.103789</td>\n",
       "      <td>1.008107</td>\n",
       "      <td>0.120512</td>\n",
       "    </tr>\n",
       "    <tr>\n",
       "      <th>4</th>\n",
       "      <td>-0.798141</td>\n",
       "      <td>-1.034420</td>\n",
       "      <td>1.408666</td>\n",
       "      <td>0.962294</td>\n",
       "      <td>-0.423895</td>\n",
       "    </tr>\n",
       "    <tr>\n",
       "      <th>5</th>\n",
       "      <td>-0.728085</td>\n",
       "      <td>0.745529</td>\n",
       "      <td>0.457288</td>\n",
       "      <td>-0.162601</td>\n",
       "      <td>0.474731</td>\n",
       "    </tr>\n",
       "    <tr>\n",
       "      <th>Total</th>\n",
       "      <td>-0.217431</td>\n",
       "      <td>1.664606</td>\n",
       "      <td>NaN</td>\n",
       "      <td>NaN</td>\n",
       "      <td>-0.655095</td>\n",
       "    </tr>\n",
       "  </tbody>\n",
       "</table>\n",
       "</div>"
      ],
      "text/plain": [
       "              A         B         C         D     Total\n",
       "2      1.390111  0.076018  0.250876 -0.238590  1.717006\n",
       "3      0.912563  0.311738 -1.103789  1.008107  0.120512\n",
       "4     -0.798141 -1.034420  1.408666  0.962294 -0.423895\n",
       "5     -0.728085  0.745529  0.457288 -0.162601  0.474731\n",
       "Total -0.217431  1.664606       NaN       NaN -0.655095"
      ]
     },
     "execution_count": 155,
     "metadata": {},
     "output_type": "execute_result"
    }
   ],
   "source": [
    "df=df.append(df_sum,ignore_index=True)\n",
    "df.index = df.index.tolist()[:-1]   + ['Total']\n",
    "df.tail()"
   ]
  },
  {
   "cell_type": "markdown",
   "metadata": {
    "run_control": {
     "frozen": false,
     "read_only": false
    }
   },
   "source": [
    "Setting a new column automatically aligns the data by the indexes"
   ]
  },
  {
   "cell_type": "code",
   "execution_count": 156,
   "metadata": {
    "run_control": {
     "frozen": false,
     "read_only": false
    }
   },
   "outputs": [
    {
     "data": {
      "text/html": [
       "<div>\n",
       "<table border=\"1\" class=\"dataframe\">\n",
       "  <thead>\n",
       "    <tr style=\"text-align: right;\">\n",
       "      <th></th>\n",
       "      <th>A</th>\n",
       "      <th>B</th>\n",
       "      <th>C</th>\n",
       "      <th>D</th>\n",
       "      <th>E</th>\n",
       "      <th>F</th>\n",
       "    </tr>\n",
       "  </thead>\n",
       "  <tbody>\n",
       "    <tr>\n",
       "      <th>2013-01-01</th>\n",
       "      <td>0.822116</td>\n",
       "      <td>0.451671</td>\n",
       "      <td>0.601137</td>\n",
       "      <td>-0.444254</td>\n",
       "      <td>one</td>\n",
       "      <td>NaN</td>\n",
       "    </tr>\n",
       "    <tr>\n",
       "      <th>2013-01-02</th>\n",
       "      <td>-0.202334</td>\n",
       "      <td>-1.892983</td>\n",
       "      <td>1.579505</td>\n",
       "      <td>0.412203</td>\n",
       "      <td>one</td>\n",
       "      <td>1</td>\n",
       "    </tr>\n",
       "    <tr>\n",
       "      <th>2013-01-03</th>\n",
       "      <td>1.215190</td>\n",
       "      <td>-0.324810</td>\n",
       "      <td>1.354048</td>\n",
       "      <td>-0.746171</td>\n",
       "      <td>two</td>\n",
       "      <td>2</td>\n",
       "    </tr>\n",
       "    <tr>\n",
       "      <th>2013-01-04</th>\n",
       "      <td>0.643028</td>\n",
       "      <td>0.650781</td>\n",
       "      <td>2.567908</td>\n",
       "      <td>-0.784414</td>\n",
       "      <td>three</td>\n",
       "      <td>3</td>\n",
       "    </tr>\n",
       "    <tr>\n",
       "      <th>2013-01-05</th>\n",
       "      <td>0.167780</td>\n",
       "      <td>-0.044462</td>\n",
       "      <td>0.837604</td>\n",
       "      <td>0.862347</td>\n",
       "      <td>four</td>\n",
       "      <td>4</td>\n",
       "    </tr>\n",
       "    <tr>\n",
       "      <th>2013-01-06</th>\n",
       "      <td>1.078613</td>\n",
       "      <td>0.156317</td>\n",
       "      <td>0.447820</td>\n",
       "      <td>-2.028832</td>\n",
       "      <td>three</td>\n",
       "      <td>5</td>\n",
       "    </tr>\n",
       "  </tbody>\n",
       "</table>\n",
       "</div>"
      ],
      "text/plain": [
       "                   A         B         C         D      E   F\n",
       "2013-01-01  0.822116  0.451671  0.601137 -0.444254    one NaN\n",
       "2013-01-02 -0.202334 -1.892983  1.579505  0.412203    one   1\n",
       "2013-01-03  1.215190 -0.324810  1.354048 -0.746171    two   2\n",
       "2013-01-04  0.643028  0.650781  2.567908 -0.784414  three   3\n",
       "2013-01-05  0.167780 -0.044462  0.837604  0.862347   four   4\n",
       "2013-01-06  1.078613  0.156317  0.447820 -2.028832  three   5"
      ]
     },
     "execution_count": 156,
     "metadata": {},
     "output_type": "execute_result"
    }
   ],
   "source": [
    "s1 = pd.Series([1,2,3,4,5,6],index=pd.date_range('20130102',periods=6))\n",
    "df2['F'] = s1\n",
    "df2"
   ]
  },
  {
   "cell_type": "code",
   "execution_count": 157,
   "metadata": {
    "run_control": {
     "frozen": false,
     "read_only": false
    }
   },
   "outputs": [
    {
     "data": {
      "text/html": [
       "<div>\n",
       "<table border=\"1\" class=\"dataframe\">\n",
       "  <thead>\n",
       "    <tr style=\"text-align: right;\">\n",
       "      <th></th>\n",
       "      <th>A</th>\n",
       "      <th>B</th>\n",
       "      <th>C</th>\n",
       "      <th>D</th>\n",
       "      <th>Total</th>\n",
       "    </tr>\n",
       "  </thead>\n",
       "  <tbody>\n",
       "    <tr>\n",
       "      <th>0</th>\n",
       "      <td>0.000000</td>\n",
       "      <td>1.630430</td>\n",
       "      <td>-2.550204</td>\n",
       "      <td>-0.993119</td>\n",
       "      <td>-1.722857</td>\n",
       "    </tr>\n",
       "    <tr>\n",
       "      <th>1</th>\n",
       "      <td>-0.190795</td>\n",
       "      <td>-0.064689</td>\n",
       "      <td>-0.565107</td>\n",
       "      <td>-1.049063</td>\n",
       "      <td>-0.820591</td>\n",
       "    </tr>\n",
       "    <tr>\n",
       "      <th>2</th>\n",
       "      <td>1.390111</td>\n",
       "      <td>0.076018</td>\n",
       "      <td>0.250876</td>\n",
       "      <td>-0.238590</td>\n",
       "      <td>1.717006</td>\n",
       "    </tr>\n",
       "    <tr>\n",
       "      <th>3</th>\n",
       "      <td>0.912563</td>\n",
       "      <td>0.311738</td>\n",
       "      <td>-1.103789</td>\n",
       "      <td>1.008107</td>\n",
       "      <td>0.120512</td>\n",
       "    </tr>\n",
       "    <tr>\n",
       "      <th>4</th>\n",
       "      <td>-0.798141</td>\n",
       "      <td>-1.034420</td>\n",
       "      <td>1.408666</td>\n",
       "      <td>0.962294</td>\n",
       "      <td>-0.423895</td>\n",
       "    </tr>\n",
       "    <tr>\n",
       "      <th>5</th>\n",
       "      <td>-0.728085</td>\n",
       "      <td>0.745529</td>\n",
       "      <td>0.457288</td>\n",
       "      <td>-0.162601</td>\n",
       "      <td>0.474731</td>\n",
       "    </tr>\n",
       "    <tr>\n",
       "      <th>Total</th>\n",
       "      <td>-0.217431</td>\n",
       "      <td>1.664606</td>\n",
       "      <td>NaN</td>\n",
       "      <td>NaN</td>\n",
       "      <td>-0.655095</td>\n",
       "    </tr>\n",
       "  </tbody>\n",
       "</table>\n",
       "</div>"
      ],
      "text/plain": [
       "              A         B         C         D     Total\n",
       "0      0.000000  1.630430 -2.550204 -0.993119 -1.722857\n",
       "1     -0.190795 -0.064689 -0.565107 -1.049063 -0.820591\n",
       "2      1.390111  0.076018  0.250876 -0.238590  1.717006\n",
       "3      0.912563  0.311738 -1.103789  1.008107  0.120512\n",
       "4     -0.798141 -1.034420  1.408666  0.962294 -0.423895\n",
       "5     -0.728085  0.745529  0.457288 -0.162601  0.474731\n",
       "Total -0.217431  1.664606       NaN       NaN -0.655095"
      ]
     },
     "execution_count": 157,
     "metadata": {},
     "output_type": "execute_result"
    }
   ],
   "source": [
    "# Setting values by label\n",
    "dates = df.index\n",
    "df.at[dates[0],'A'] = 0\n",
    "df"
   ]
  },
  {
   "cell_type": "code",
   "execution_count": 158,
   "metadata": {
    "run_control": {
     "frozen": false,
     "read_only": false
    }
   },
   "outputs": [
    {
     "data": {
      "text/html": [
       "<div>\n",
       "<table border=\"1\" class=\"dataframe\">\n",
       "  <thead>\n",
       "    <tr style=\"text-align: right;\">\n",
       "      <th></th>\n",
       "      <th>A</th>\n",
       "      <th>B</th>\n",
       "      <th>C</th>\n",
       "      <th>D</th>\n",
       "      <th>Total</th>\n",
       "    </tr>\n",
       "  </thead>\n",
       "  <tbody>\n",
       "    <tr>\n",
       "      <th>0</th>\n",
       "      <td>0.000000</td>\n",
       "      <td>7.000000</td>\n",
       "      <td>-2.550204</td>\n",
       "      <td>-0.993119</td>\n",
       "      <td>-1.722857</td>\n",
       "    </tr>\n",
       "    <tr>\n",
       "      <th>1</th>\n",
       "      <td>-0.190795</td>\n",
       "      <td>-0.064689</td>\n",
       "      <td>-0.565107</td>\n",
       "      <td>-1.049063</td>\n",
       "      <td>-0.820591</td>\n",
       "    </tr>\n",
       "    <tr>\n",
       "      <th>2</th>\n",
       "      <td>1.390111</td>\n",
       "      <td>0.076018</td>\n",
       "      <td>0.250876</td>\n",
       "      <td>-0.238590</td>\n",
       "      <td>1.717006</td>\n",
       "    </tr>\n",
       "    <tr>\n",
       "      <th>3</th>\n",
       "      <td>0.912563</td>\n",
       "      <td>0.311738</td>\n",
       "      <td>-1.103789</td>\n",
       "      <td>1.008107</td>\n",
       "      <td>0.120512</td>\n",
       "    </tr>\n",
       "    <tr>\n",
       "      <th>4</th>\n",
       "      <td>-0.798141</td>\n",
       "      <td>-1.034420</td>\n",
       "      <td>1.408666</td>\n",
       "      <td>0.962294</td>\n",
       "      <td>-0.423895</td>\n",
       "    </tr>\n",
       "    <tr>\n",
       "      <th>5</th>\n",
       "      <td>-0.728085</td>\n",
       "      <td>0.745529</td>\n",
       "      <td>0.457288</td>\n",
       "      <td>-0.162601</td>\n",
       "      <td>0.474731</td>\n",
       "    </tr>\n",
       "    <tr>\n",
       "      <th>Total</th>\n",
       "      <td>-0.217431</td>\n",
       "      <td>1.664606</td>\n",
       "      <td>NaN</td>\n",
       "      <td>NaN</td>\n",
       "      <td>-0.655095</td>\n",
       "    </tr>\n",
       "  </tbody>\n",
       "</table>\n",
       "</div>"
      ],
      "text/plain": [
       "              A         B         C         D     Total\n",
       "0      0.000000  7.000000 -2.550204 -0.993119 -1.722857\n",
       "1     -0.190795 -0.064689 -0.565107 -1.049063 -0.820591\n",
       "2      1.390111  0.076018  0.250876 -0.238590  1.717006\n",
       "3      0.912563  0.311738 -1.103789  1.008107  0.120512\n",
       "4     -0.798141 -1.034420  1.408666  0.962294 -0.423895\n",
       "5     -0.728085  0.745529  0.457288 -0.162601  0.474731\n",
       "Total -0.217431  1.664606       NaN       NaN -0.655095"
      ]
     },
     "execution_count": 158,
     "metadata": {},
     "output_type": "execute_result"
    }
   ],
   "source": [
    "# Setting values by position\n",
    "df.iat[0,1] = 7\n",
    "df"
   ]
  },
  {
   "cell_type": "code",
   "execution_count": 159,
   "metadata": {
    "run_control": {
     "frozen": false,
     "read_only": false
    }
   },
   "outputs": [
    {
     "data": {
      "text/html": [
       "<div>\n",
       "<table border=\"1\" class=\"dataframe\">\n",
       "  <thead>\n",
       "    <tr style=\"text-align: right;\">\n",
       "      <th></th>\n",
       "      <th>A</th>\n",
       "      <th>B</th>\n",
       "      <th>C</th>\n",
       "      <th>D</th>\n",
       "      <th>Total</th>\n",
       "    </tr>\n",
       "  </thead>\n",
       "  <tbody>\n",
       "    <tr>\n",
       "      <th>0</th>\n",
       "      <td>0.000000</td>\n",
       "      <td>7.000000</td>\n",
       "      <td>-2.550204</td>\n",
       "      <td>5</td>\n",
       "      <td>-1.722857</td>\n",
       "    </tr>\n",
       "    <tr>\n",
       "      <th>1</th>\n",
       "      <td>-0.190795</td>\n",
       "      <td>-0.064689</td>\n",
       "      <td>-0.565107</td>\n",
       "      <td>5</td>\n",
       "      <td>-0.820591</td>\n",
       "    </tr>\n",
       "    <tr>\n",
       "      <th>2</th>\n",
       "      <td>1.390111</td>\n",
       "      <td>0.076018</td>\n",
       "      <td>0.250876</td>\n",
       "      <td>5</td>\n",
       "      <td>1.717006</td>\n",
       "    </tr>\n",
       "    <tr>\n",
       "      <th>3</th>\n",
       "      <td>0.912563</td>\n",
       "      <td>0.311738</td>\n",
       "      <td>-1.103789</td>\n",
       "      <td>5</td>\n",
       "      <td>0.120512</td>\n",
       "    </tr>\n",
       "    <tr>\n",
       "      <th>4</th>\n",
       "      <td>-0.798141</td>\n",
       "      <td>-1.034420</td>\n",
       "      <td>1.408666</td>\n",
       "      <td>5</td>\n",
       "      <td>-0.423895</td>\n",
       "    </tr>\n",
       "    <tr>\n",
       "      <th>5</th>\n",
       "      <td>-0.728085</td>\n",
       "      <td>0.745529</td>\n",
       "      <td>0.457288</td>\n",
       "      <td>5</td>\n",
       "      <td>0.474731</td>\n",
       "    </tr>\n",
       "    <tr>\n",
       "      <th>Total</th>\n",
       "      <td>-0.217431</td>\n",
       "      <td>1.664606</td>\n",
       "      <td>NaN</td>\n",
       "      <td>5</td>\n",
       "      <td>-0.655095</td>\n",
       "    </tr>\n",
       "  </tbody>\n",
       "</table>\n",
       "</div>"
      ],
      "text/plain": [
       "              A         B         C  D     Total\n",
       "0      0.000000  7.000000 -2.550204  5 -1.722857\n",
       "1     -0.190795 -0.064689 -0.565107  5 -0.820591\n",
       "2      1.390111  0.076018  0.250876  5  1.717006\n",
       "3      0.912563  0.311738 -1.103789  5  0.120512\n",
       "4     -0.798141 -1.034420  1.408666  5 -0.423895\n",
       "5     -0.728085  0.745529  0.457288  5  0.474731\n",
       "Total -0.217431  1.664606       NaN  5 -0.655095"
      ]
     },
     "execution_count": 159,
     "metadata": {},
     "output_type": "execute_result"
    }
   ],
   "source": [
    "# Setting by assigning with a numpy array\n",
    "df.loc[:,'D'] = np.array([5] * len(df))\n",
    "df"
   ]
  },
  {
   "cell_type": "code",
   "execution_count": 160,
   "metadata": {
    "run_control": {
     "frozen": false,
     "read_only": false
    }
   },
   "outputs": [
    {
     "data": {
      "text/html": [
       "<div>\n",
       "<table border=\"1\" class=\"dataframe\">\n",
       "  <thead>\n",
       "    <tr style=\"text-align: right;\">\n",
       "      <th></th>\n",
       "      <th>A</th>\n",
       "      <th>B</th>\n",
       "      <th>C</th>\n",
       "      <th>D</th>\n",
       "    </tr>\n",
       "  </thead>\n",
       "  <tbody>\n",
       "    <tr>\n",
       "      <th>2013-01-01</th>\n",
       "      <td>-0.270163</td>\n",
       "      <td>-0.470769</td>\n",
       "      <td>-0.989912</td>\n",
       "      <td>-0.777501</td>\n",
       "    </tr>\n",
       "    <tr>\n",
       "      <th>2013-01-02</th>\n",
       "      <td>-0.939444</td>\n",
       "      <td>-0.676623</td>\n",
       "      <td>-2.468818</td>\n",
       "      <td>-0.366726</td>\n",
       "    </tr>\n",
       "    <tr>\n",
       "      <th>2013-01-03</th>\n",
       "      <td>-1.136079</td>\n",
       "      <td>-0.653824</td>\n",
       "      <td>-0.173331</td>\n",
       "      <td>-2.482057</td>\n",
       "    </tr>\n",
       "    <tr>\n",
       "      <th>2013-01-04</th>\n",
       "      <td>-1.130746</td>\n",
       "      <td>-0.409417</td>\n",
       "      <td>-0.211796</td>\n",
       "      <td>-2.392253</td>\n",
       "    </tr>\n",
       "    <tr>\n",
       "      <th>2013-01-05</th>\n",
       "      <td>-0.048339</td>\n",
       "      <td>-0.892658</td>\n",
       "      <td>-0.727786</td>\n",
       "      <td>-1.042640</td>\n",
       "    </tr>\n",
       "    <tr>\n",
       "      <th>2013-01-06</th>\n",
       "      <td>-0.382305</td>\n",
       "      <td>-0.356607</td>\n",
       "      <td>-0.161060</td>\n",
       "      <td>-0.069750</td>\n",
       "    </tr>\n",
       "  </tbody>\n",
       "</table>\n",
       "</div>"
      ],
      "text/plain": [
       "                   A         B         C         D\n",
       "2013-01-01 -0.270163 -0.470769 -0.989912 -0.777501\n",
       "2013-01-02 -0.939444 -0.676623 -2.468818 -0.366726\n",
       "2013-01-03 -1.136079 -0.653824 -0.173331 -2.482057\n",
       "2013-01-04 -1.130746 -0.409417 -0.211796 -2.392253\n",
       "2013-01-05 -0.048339 -0.892658 -0.727786 -1.042640\n",
       "2013-01-06 -0.382305 -0.356607 -0.161060 -0.069750"
      ]
     },
     "execution_count": 160,
     "metadata": {},
     "output_type": "execute_result"
    }
   ],
   "source": [
    "# A where operation with setting.\n",
    "df = makeDateRand()\n",
    "df2 = df.copy()\n",
    "df2[df2 > 0] = -df2\n",
    "df2"
   ]
  },
  {
   "cell_type": "markdown",
   "metadata": {
    "run_control": {
     "frozen": false,
     "read_only": false
    }
   },
   "source": [
    "## Missing data"
   ]
  },
  {
   "cell_type": "markdown",
   "metadata": {
    "run_control": {
     "frozen": false,
     "read_only": false
    }
   },
   "source": [
    "pandas primarily uses the value np.nan to represent missing data. It is by default not included in computations. See the [Missing Data section](http://pandas.pydata.org/pandas-docs/version/0.15.2/missing_data.html#missing-data)\n",
    "\n",
    "Reindexing allows you to change/add/delete the index on a specified axis. This returns a copy of the data."
   ]
  },
  {
   "cell_type": "code",
   "execution_count": 161,
   "metadata": {
    "run_control": {
     "frozen": false,
     "read_only": false
    }
   },
   "outputs": [
    {
     "name": "stdout",
     "output_type": "stream",
     "text": [
      "                   A         B         C         D   E\n",
      "2013-01-01  1.396271 -1.009167 -1.902561  0.398415 NaN\n",
      "2013-01-02 -1.891442 -0.558851  1.285885  1.249990 NaN\n",
      "2013-01-03 -0.664654  0.983520 -1.022276  0.431978 NaN\n",
      "2013-01-04 -1.267316  1.364141  1.497428 -0.823267 NaN\n",
      "                   A         B         C         D   E\n",
      "2013-01-01  1.396271 -1.009167 -1.902561  0.398415   1\n",
      "2013-01-02 -1.891442 -0.558851  1.285885  1.249990   1\n",
      "2013-01-03 -0.664654  0.983520 -1.022276  0.431978 NaN\n",
      "2013-01-04 -1.267316  1.364141  1.497428 -0.823267 NaN\n"
     ]
    }
   ],
   "source": [
    "df = makeDateRand()\n",
    "dates = df.index\n",
    "df1 = df.reindex(index=dates[0:4],columns=list(df.columns) + ['E'])\n",
    "print(df1)\n",
    "df1.loc[dates[0]:dates[1],'E'] = 1\n",
    "print(df1)\n"
   ]
  },
  {
   "cell_type": "markdown",
   "metadata": {
    "run_control": {
     "frozen": false,
     "read_only": false
    }
   },
   "source": [
    "To drop any rows that have missing data."
   ]
  },
  {
   "cell_type": "code",
   "execution_count": 162,
   "metadata": {
    "run_control": {
     "frozen": false,
     "read_only": false
    }
   },
   "outputs": [
    {
     "data": {
      "text/html": [
       "<div>\n",
       "<table border=\"1\" class=\"dataframe\">\n",
       "  <thead>\n",
       "    <tr style=\"text-align: right;\">\n",
       "      <th></th>\n",
       "      <th>A</th>\n",
       "      <th>B</th>\n",
       "      <th>C</th>\n",
       "      <th>D</th>\n",
       "      <th>E</th>\n",
       "    </tr>\n",
       "  </thead>\n",
       "  <tbody>\n",
       "    <tr>\n",
       "      <th>2013-01-01</th>\n",
       "      <td>1.396271</td>\n",
       "      <td>-1.009167</td>\n",
       "      <td>-1.902561</td>\n",
       "      <td>0.398415</td>\n",
       "      <td>1</td>\n",
       "    </tr>\n",
       "    <tr>\n",
       "      <th>2013-01-02</th>\n",
       "      <td>-1.891442</td>\n",
       "      <td>-0.558851</td>\n",
       "      <td>1.285885</td>\n",
       "      <td>1.249990</td>\n",
       "      <td>1</td>\n",
       "    </tr>\n",
       "  </tbody>\n",
       "</table>\n",
       "</div>"
      ],
      "text/plain": [
       "                   A         B         C         D  E\n",
       "2013-01-01  1.396271 -1.009167 -1.902561  0.398415  1\n",
       "2013-01-02 -1.891442 -0.558851  1.285885  1.249990  1"
      ]
     },
     "execution_count": 162,
     "metadata": {},
     "output_type": "execute_result"
    }
   ],
   "source": [
    "df1.dropna(how='any')"
   ]
  },
  {
   "cell_type": "markdown",
   "metadata": {
    "run_control": {
     "frozen": false,
     "read_only": false
    }
   },
   "source": [
    "Filling missing data"
   ]
  },
  {
   "cell_type": "code",
   "execution_count": 163,
   "metadata": {
    "run_control": {
     "frozen": false,
     "read_only": false
    }
   },
   "outputs": [
    {
     "data": {
      "text/html": [
       "<div>\n",
       "<table border=\"1\" class=\"dataframe\">\n",
       "  <thead>\n",
       "    <tr style=\"text-align: right;\">\n",
       "      <th></th>\n",
       "      <th>A</th>\n",
       "      <th>B</th>\n",
       "      <th>C</th>\n",
       "      <th>D</th>\n",
       "      <th>E</th>\n",
       "    </tr>\n",
       "  </thead>\n",
       "  <tbody>\n",
       "    <tr>\n",
       "      <th>2013-01-01</th>\n",
       "      <td>1.396271</td>\n",
       "      <td>-1.009167</td>\n",
       "      <td>-1.902561</td>\n",
       "      <td>0.398415</td>\n",
       "      <td>1</td>\n",
       "    </tr>\n",
       "    <tr>\n",
       "      <th>2013-01-02</th>\n",
       "      <td>-1.891442</td>\n",
       "      <td>-0.558851</td>\n",
       "      <td>1.285885</td>\n",
       "      <td>1.249990</td>\n",
       "      <td>1</td>\n",
       "    </tr>\n",
       "    <tr>\n",
       "      <th>2013-01-03</th>\n",
       "      <td>-0.664654</td>\n",
       "      <td>0.983520</td>\n",
       "      <td>-1.022276</td>\n",
       "      <td>0.431978</td>\n",
       "      <td>5</td>\n",
       "    </tr>\n",
       "    <tr>\n",
       "      <th>2013-01-04</th>\n",
       "      <td>-1.267316</td>\n",
       "      <td>1.364141</td>\n",
       "      <td>1.497428</td>\n",
       "      <td>-0.823267</td>\n",
       "      <td>5</td>\n",
       "    </tr>\n",
       "  </tbody>\n",
       "</table>\n",
       "</div>"
      ],
      "text/plain": [
       "                   A         B         C         D  E\n",
       "2013-01-01  1.396271 -1.009167 -1.902561  0.398415  1\n",
       "2013-01-02 -1.891442 -0.558851  1.285885  1.249990  1\n",
       "2013-01-03 -0.664654  0.983520 -1.022276  0.431978  5\n",
       "2013-01-04 -1.267316  1.364141  1.497428 -0.823267  5"
      ]
     },
     "execution_count": 163,
     "metadata": {},
     "output_type": "execute_result"
    }
   ],
   "source": [
    "df1.fillna(value=5)"
   ]
  },
  {
   "cell_type": "markdown",
   "metadata": {
    "run_control": {
     "frozen": false,
     "read_only": false
    }
   },
   "source": [
    "To get the boolean mask where values are nan"
   ]
  },
  {
   "cell_type": "code",
   "execution_count": 164,
   "metadata": {
    "run_control": {
     "frozen": false,
     "read_only": false
    }
   },
   "outputs": [
    {
     "data": {
      "text/html": [
       "<div>\n",
       "<table border=\"1\" class=\"dataframe\">\n",
       "  <thead>\n",
       "    <tr style=\"text-align: right;\">\n",
       "      <th></th>\n",
       "      <th>A</th>\n",
       "      <th>B</th>\n",
       "      <th>C</th>\n",
       "      <th>D</th>\n",
       "      <th>E</th>\n",
       "    </tr>\n",
       "  </thead>\n",
       "  <tbody>\n",
       "    <tr>\n",
       "      <th>2013-01-01</th>\n",
       "      <td>False</td>\n",
       "      <td>False</td>\n",
       "      <td>False</td>\n",
       "      <td>False</td>\n",
       "      <td>False</td>\n",
       "    </tr>\n",
       "    <tr>\n",
       "      <th>2013-01-02</th>\n",
       "      <td>False</td>\n",
       "      <td>False</td>\n",
       "      <td>False</td>\n",
       "      <td>False</td>\n",
       "      <td>False</td>\n",
       "    </tr>\n",
       "    <tr>\n",
       "      <th>2013-01-03</th>\n",
       "      <td>False</td>\n",
       "      <td>False</td>\n",
       "      <td>False</td>\n",
       "      <td>False</td>\n",
       "      <td>True</td>\n",
       "    </tr>\n",
       "    <tr>\n",
       "      <th>2013-01-04</th>\n",
       "      <td>False</td>\n",
       "      <td>False</td>\n",
       "      <td>False</td>\n",
       "      <td>False</td>\n",
       "      <td>True</td>\n",
       "    </tr>\n",
       "  </tbody>\n",
       "</table>\n",
       "</div>"
      ],
      "text/plain": [
       "                A      B      C      D      E\n",
       "2013-01-01  False  False  False  False  False\n",
       "2013-01-02  False  False  False  False  False\n",
       "2013-01-03  False  False  False  False   True\n",
       "2013-01-04  False  False  False  False   True"
      ]
     },
     "execution_count": 164,
     "metadata": {},
     "output_type": "execute_result"
    }
   ],
   "source": [
    "pd.isnull(df1)"
   ]
  },
  {
   "cell_type": "markdown",
   "metadata": {
    "run_control": {
     "frozen": false,
     "read_only": false
    }
   },
   "source": [
    "## Operations\n",
    "### Binary operations"
   ]
  },
  {
   "cell_type": "markdown",
   "metadata": {
    "run_control": {
     "frozen": false,
     "read_only": false
    }
   },
   "source": [
    "See the Basic section on [Binary Ops](http://pandas.pydata.org/pandas-docs/version/0.15.2/basics.html#basics-binop)  \n",
    "\n",
    "Operations in general exclude missing data."
   ]
  },
  {
   "cell_type": "code",
   "execution_count": 165,
   "metadata": {
    "run_control": {
     "frozen": false,
     "read_only": false
    }
   },
   "outputs": [
    {
     "data": {
      "text/plain": [
       "A   -0.366157\n",
       "B    0.055892\n",
       "C   -0.100820\n",
       "D   -0.017143\n",
       "dtype: float64"
      ]
     },
     "execution_count": 165,
     "metadata": {},
     "output_type": "execute_result"
    }
   ],
   "source": [
    "df.mean()"
   ]
  },
  {
   "cell_type": "code",
   "execution_count": 166,
   "metadata": {
    "run_control": {
     "frozen": false,
     "read_only": false
    }
   },
   "outputs": [
    {
     "data": {
      "text/plain": [
       "2013-01-01   -0.279261\n",
       "2013-01-02    0.021396\n",
       "2013-01-03   -0.067858\n",
       "2013-01-04    0.192746\n",
       "2013-01-05   -0.309770\n",
       "2013-01-06   -0.199595\n",
       "Freq: D, dtype: float64"
      ]
     },
     "execution_count": 166,
     "metadata": {},
     "output_type": "execute_result"
    }
   ],
   "source": [
    "#along the other axis\n",
    "df.mean(1)"
   ]
  },
  {
   "cell_type": "markdown",
   "metadata": {
    "run_control": {
     "frozen": false,
     "read_only": false
    }
   },
   "source": [
    "### Applying functions to the data"
   ]
  },
  {
   "cell_type": "markdown",
   "metadata": {
    "run_control": {
     "frozen": false,
     "read_only": false
    }
   },
   "source": [
    "When using apply(), note the axis direction.   \n",
    "- for each column, apply down a row: axis=0  (default)\n",
    "- for each row, apply across columns: axis=1."
   ]
  },
  {
   "cell_type": "code",
   "execution_count": 167,
   "metadata": {
    "run_control": {
     "frozen": false,
     "read_only": false
    }
   },
   "outputs": [
    {
     "name": "stdout",
     "output_type": "stream",
     "text": [
      "   A  B  C   D\n",
      "0  1  4  7  10\n",
      "1  2  5  8  11\n",
      "2  3  6  9  12\n",
      "   A   B   C   D\n",
      "0  1   4   7  10\n",
      "1  3   9  15  21\n",
      "2  6  15  24  33\n",
      "   A   B   C   D\n",
      "0  1   4   7  10\n",
      "1  3   9  15  21\n",
      "2  6  15  24  33\n",
      "   A  B   C   D\n",
      "0  1  5  12  22\n",
      "1  2  7  15  26\n",
      "2  3  9  18  30\n"
     ]
    }
   ],
   "source": [
    "df = makegridDF()\n",
    "print(df)\n",
    "print(df.apply(np.cumsum))\n",
    "print(df.apply(np.cumsum, axis=0))\n",
    "print(df.apply(np.cumsum, axis=1))"
   ]
  },
  {
   "cell_type": "code",
   "execution_count": 168,
   "metadata": {
    "run_control": {
     "frozen": false,
     "read_only": false
    }
   },
   "outputs": [
    {
     "data": {
      "text/html": [
       "<div>\n",
       "<table border=\"1\" class=\"dataframe\">\n",
       "  <thead>\n",
       "    <tr style=\"text-align: right;\">\n",
       "      <th></th>\n",
       "      <th>A</th>\n",
       "      <th>B</th>\n",
       "      <th>C</th>\n",
       "      <th>D</th>\n",
       "    </tr>\n",
       "  </thead>\n",
       "  <tbody>\n",
       "    <tr>\n",
       "      <th>2013-01-01</th>\n",
       "      <td>-0.555955</td>\n",
       "      <td>0.871193</td>\n",
       "      <td>-1.044914</td>\n",
       "      <td>1.285684</td>\n",
       "    </tr>\n",
       "    <tr>\n",
       "      <th>2013-01-02</th>\n",
       "      <td>-1.321182</td>\n",
       "      <td>2.978534</td>\n",
       "      <td>-1.527163</td>\n",
       "      <td>0.570438</td>\n",
       "    </tr>\n",
       "    <tr>\n",
       "      <th>2013-01-03</th>\n",
       "      <td>-1.665167</td>\n",
       "      <td>3.303278</td>\n",
       "      <td>-2.924334</td>\n",
       "      <td>-1.044854</td>\n",
       "    </tr>\n",
       "    <tr>\n",
       "      <th>2013-01-04</th>\n",
       "      <td>-3.208022</td>\n",
       "      <td>2.874894</td>\n",
       "      <td>-2.549979</td>\n",
       "      <td>0.913948</td>\n",
       "    </tr>\n",
       "    <tr>\n",
       "      <th>2013-01-05</th>\n",
       "      <td>-0.423891</td>\n",
       "      <td>0.975875</td>\n",
       "      <td>-2.332486</td>\n",
       "      <td>-0.060352</td>\n",
       "    </tr>\n",
       "    <tr>\n",
       "      <th>2013-01-06</th>\n",
       "      <td>-0.624086</td>\n",
       "      <td>1.612303</td>\n",
       "      <td>-0.560841</td>\n",
       "      <td>-1.117945</td>\n",
       "    </tr>\n",
       "  </tbody>\n",
       "</table>\n",
       "</div>"
      ],
      "text/plain": [
       "                   A         B         C         D\n",
       "2013-01-01 -0.555955  0.871193 -1.044914  1.285684\n",
       "2013-01-02 -1.321182  2.978534 -1.527163  0.570438\n",
       "2013-01-03 -1.665167  3.303278 -2.924334 -1.044854\n",
       "2013-01-04 -3.208022  2.874894 -2.549979  0.913948\n",
       "2013-01-05 -0.423891  0.975875 -2.332486 -0.060352\n",
       "2013-01-06 -0.624086  1.612303 -0.560841 -1.117945"
      ]
     },
     "execution_count": 168,
     "metadata": {},
     "output_type": "execute_result"
    }
   ],
   "source": [
    "df = makeDateRand()\n",
    "df.apply(np.cumsum)"
   ]
  },
  {
   "cell_type": "code",
   "execution_count": 169,
   "metadata": {
    "run_control": {
     "frozen": false,
     "read_only": false
    }
   },
   "outputs": [
    {
     "name": "stdout",
     "output_type": "stream",
     "text": [
      "                   A         B         C         D\n",
      "2013-01-01  1.049868  0.396783  0.964495  0.079702\n",
      "2013-01-02 -0.613235  0.876957 -0.643363  0.563316\n",
      "2013-01-03  1.979208 -0.889568 -0.964785 -0.686758\n",
      "2013-01-04 -0.578865 -0.377436  1.641485  0.378992\n",
      "2013-01-05  1.114884  1.762169  1.261369  1.506824\n",
      "2013-01-06  0.625264 -0.303023  0.189072  0.167740\n"
     ]
    },
    {
     "data": {
      "text/plain": [
       "A    2.592443\n",
       "B    2.651737\n",
       "C    2.606270\n",
       "D    2.193581\n",
       "dtype: float64"
      ]
     },
     "execution_count": 169,
     "metadata": {},
     "output_type": "execute_result"
    }
   ],
   "source": [
    "df = makeDateRand()\n",
    "print(df)\n",
    "df.apply(lambda x: x.max() - x.min())"
   ]
  },
  {
   "cell_type": "code",
   "execution_count": 171,
   "metadata": {
    "run_control": {
     "frozen": false,
     "read_only": false
    }
   },
   "outputs": [
    {
     "name": "stdout",
     "output_type": "stream",
     "text": [
      "        Date         A         B         C         D\n",
      "0 2013-01-01 -0.717594  0.874663 -1.517702  1.733586\n",
      "1 2013-01-02 -0.330109 -1.804422  0.893500 -1.043937\n",
      "2 2013-01-03  0.293907 -1.155582  2.168778 -1.010188\n",
      "3 2013-01-04 -1.279617  0.783267 -1.076567  0.571995\n",
      "4 2013-01-05 -0.197516  0.064933 -0.602517 -0.140998\n",
      "5 2013-01-06  0.986402 -0.752680 -1.599656  0.569776\n",
      "                  Date         A         B         C         D\n",
      "0  2013-01-01 00:00:00 -0.717594  0.874663 -1.517702  1.733586\n",
      "1  2013-01-02 00:00:00 -0.330109 -1.804422  0.893500 -1.043937\n",
      "2  2013-01-03 00:00:00  0.293907 -1.155582  2.168778 -1.010188\n",
      "3  2013-01-04 00:00:00 -1.279617  0.783267 -1.076567  0.571995\n",
      "4  2013-01-05 00:00:00 -0.197516  0.064933 -0.602517 -0.140998\n",
      "5  2013-01-06 00:00:00  0.986402 -0.752680 -1.599656  0.569776\n",
      "        Date         A         B         C         D\n",
      "0 2013-01-01 -0.717594  0.874663 -1.517702  1.733586\n",
      "1 2013-01-02 -0.330109 -1.804422  0.893500 -1.043937\n",
      "2 2013-01-03  0.293907 -1.155582  2.168778 -1.010188\n",
      "3 2013-01-04 -1.279617  0.783267 -1.076567  0.571995\n",
      "4 2013-01-05 -0.197516  0.064933 -0.602517 -0.140998\n",
      "5 2013-01-06  0.986402 -0.752680 -1.599656  0.569776\n",
      "                 Date         A         B         C         D\n",
      "Date                                                         \n",
      "2013-01-01 2013-01-01 -0.717594  0.874663 -1.517702  1.733586\n",
      "2013-01-02 2013-01-02 -0.330109 -1.804422  0.893500 -1.043937\n",
      "2013-01-03 2013-01-03  0.293907 -1.155582  2.168778 -1.010188\n",
      "2013-01-04 2013-01-04 -1.279617  0.783267 -1.076567  0.571995\n",
      "2013-01-05 2013-01-05 -0.197516  0.064933 -0.602517 -0.140998\n",
      "2013-01-06 2013-01-06  0.986402 -0.752680 -1.599656  0.569776\n"
     ]
    }
   ],
   "source": [
    "from datetime import datetime\n",
    "df = makeDateRand()\n",
    "df.index.name = 'Date'\n",
    "df.reset_index(level=0,inplace=True)\n",
    "print(df)\n",
    "# convert to string format\n",
    "df.Date = df.Date.apply(lambda d: ' '.join(d.isoformat().split('T')))\n",
    "print(df)\n",
    "# convert back to datetime format\n",
    "df.Date = df.Date.apply(lambda d: datetime.strptime(d, \"%Y-%m-%d %H:%M:%S\"))\n",
    "print(df)\n",
    "\n",
    "df.index = df.Date\n",
    "print(df)"
   ]
  },
  {
   "cell_type": "markdown",
   "metadata": {
    "run_control": {
     "frozen": false,
     "read_only": false
    }
   },
   "source": [
    "Applying a function using column data, but with extra parameters.  In the example below we use a value in a single DataFrame column 'IrradianceLux', together with extra parameters, to calculate a new row.\n",
    "\n",
    "http://stackoverflow.com/questions/21188504/python-pandas-apply-a-function-with-arguments-to-a-series-update"
   ]
  },
  {
   "cell_type": "code",
   "execution_count": 172,
   "metadata": {
    "run_control": {
     "frozen": false,
     "read_only": false
    }
   },
   "outputs": [
    {
     "data": {
      "text/html": [
       "<div>\n",
       "<table border=\"1\" class=\"dataframe\">\n",
       "  <thead>\n",
       "    <tr style=\"text-align: right;\">\n",
       "      <th></th>\n",
       "      <th>Condition</th>\n",
       "      <th>IrradianceLux</th>\n",
       "      <th>1.4</th>\n",
       "      <th>2</th>\n",
       "      <th>2.74</th>\n",
       "      <th>3.8</th>\n",
       "      <th>5.4</th>\n",
       "      <th>7.5</th>\n",
       "    </tr>\n",
       "  </thead>\n",
       "  <tbody>\n",
       "    <tr>\n",
       "      <th>8</th>\n",
       "      <td>Overcastnight</td>\n",
       "      <td>0.0001</td>\n",
       "      <td>0.000002</td>\n",
       "      <td>8.437500e-07</td>\n",
       "      <td>4.495445e-07</td>\n",
       "      <td>2.337258e-07</td>\n",
       "      <td>1.157407e-07</td>\n",
       "      <td>6.000000e-08</td>\n",
       "    </tr>\n",
       "    <tr>\n",
       "      <th>2</th>\n",
       "      <td>Starlight</td>\n",
       "      <td>0.0011</td>\n",
       "      <td>0.000019</td>\n",
       "      <td>9.281250e-06</td>\n",
       "      <td>4.944989e-06</td>\n",
       "      <td>2.570983e-06</td>\n",
       "      <td>1.273148e-06</td>\n",
       "      <td>6.600000e-07</td>\n",
       "    </tr>\n",
       "    <tr>\n",
       "      <th>4</th>\n",
       "      <td>Quarter moon</td>\n",
       "      <td>0.0108</td>\n",
       "      <td>0.000186</td>\n",
       "      <td>9.112500e-05</td>\n",
       "      <td>4.855080e-05</td>\n",
       "      <td>2.524238e-05</td>\n",
       "      <td>1.250000e-05</td>\n",
       "      <td>6.480000e-06</td>\n",
       "    </tr>\n",
       "    <tr>\n",
       "      <th>6</th>\n",
       "      <td>Full moon</td>\n",
       "      <td>0.1080</td>\n",
       "      <td>0.001860</td>\n",
       "      <td>9.112500e-04</td>\n",
       "      <td>4.855080e-04</td>\n",
       "      <td>2.524238e-04</td>\n",
       "      <td>1.250000e-04</td>\n",
       "      <td>6.480000e-05</td>\n",
       "    </tr>\n",
       "    <tr>\n",
       "      <th>3</th>\n",
       "      <td>Deep twilight</td>\n",
       "      <td>1.0800</td>\n",
       "      <td>0.018597</td>\n",
       "      <td>9.112500e-03</td>\n",
       "      <td>4.855080e-03</td>\n",
       "      <td>2.524238e-03</td>\n",
       "      <td>1.250000e-03</td>\n",
       "      <td>6.480000e-04</td>\n",
       "    </tr>\n",
       "    <tr>\n",
       "      <th>7</th>\n",
       "      <td>Twilight</td>\n",
       "      <td>10.8000</td>\n",
       "      <td>0.185969</td>\n",
       "      <td>9.112500e-02</td>\n",
       "      <td>4.855080e-02</td>\n",
       "      <td>2.524238e-02</td>\n",
       "      <td>1.250000e-02</td>\n",
       "      <td>6.480000e-03</td>\n",
       "    </tr>\n",
       "    <tr>\n",
       "      <th>1</th>\n",
       "      <td>Very dark day</td>\n",
       "      <td>107.0000</td>\n",
       "      <td>1.842474</td>\n",
       "      <td>9.028125e-01</td>\n",
       "      <td>4.810126e-01</td>\n",
       "      <td>2.500866e-01</td>\n",
       "      <td>1.238426e-01</td>\n",
       "      <td>6.420000e-02</td>\n",
       "    </tr>\n",
       "    <tr>\n",
       "      <th>0</th>\n",
       "      <td>Overcast day</td>\n",
       "      <td>1075.0000</td>\n",
       "      <td>18.510842</td>\n",
       "      <td>9.070312e+00</td>\n",
       "      <td>4.832603e+00</td>\n",
       "      <td>2.512552e+00</td>\n",
       "      <td>1.244213e+00</td>\n",
       "      <td>6.450000e-01</td>\n",
       "    </tr>\n",
       "    <tr>\n",
       "      <th>5</th>\n",
       "      <td>Full daylight</td>\n",
       "      <td>10752.0000</td>\n",
       "      <td>185.142857</td>\n",
       "      <td>9.072000e+01</td>\n",
       "      <td>4.833502e+01</td>\n",
       "      <td>2.513019e+01</td>\n",
       "      <td>1.244444e+01</td>\n",
       "      <td>6.451200e+00</td>\n",
       "    </tr>\n",
       "    <tr>\n",
       "      <th>9</th>\n",
       "      <td>Sunlight</td>\n",
       "      <td>107527.0000</td>\n",
       "      <td>1851.549107</td>\n",
       "      <td>9.072591e+02</td>\n",
       "      <td>4.833817e+02</td>\n",
       "      <td>2.513183e+02</td>\n",
       "      <td>1.244525e+02</td>\n",
       "      <td>6.451620e+01</td>\n",
       "    </tr>\n",
       "  </tbody>\n",
       "</table>\n",
       "</div>"
      ],
      "text/plain": [
       "       Condition  IrradianceLux          1.4             2          2.74           3.8           5.4           7.5\n",
       "8  Overcastnight         0.0001     0.000002  8.437500e-07  4.495445e-07  2.337258e-07  1.157407e-07  6.000000e-08\n",
       "2      Starlight         0.0011     0.000019  9.281250e-06  4.944989e-06  2.570983e-06  1.273148e-06  6.600000e-07\n",
       "4   Quarter moon         0.0108     0.000186  9.112500e-05  4.855080e-05  2.524238e-05  1.250000e-05  6.480000e-06\n",
       "6      Full moon         0.1080     0.001860  9.112500e-04  4.855080e-04  2.524238e-04  1.250000e-04  6.480000e-05\n",
       "3  Deep twilight         1.0800     0.018597  9.112500e-03  4.855080e-03  2.524238e-03  1.250000e-03  6.480000e-04\n",
       "7       Twilight        10.8000     0.185969  9.112500e-02  4.855080e-02  2.524238e-02  1.250000e-02  6.480000e-03\n",
       "1  Very dark day       107.0000     1.842474  9.028125e-01  4.810126e-01  2.500866e-01  1.238426e-01  6.420000e-02\n",
       "0   Overcast day      1075.0000    18.510842  9.070312e+00  4.832603e+00  2.512552e+00  1.244213e+00  6.450000e-01\n",
       "5  Full daylight     10752.0000   185.142857  9.072000e+01  4.833502e+01  2.513019e+01  1.244444e+01  6.451200e+00\n",
       "9       Sunlight    107527.0000  1851.549107  9.072591e+02  4.833817e+02  2.513183e+02  1.244525e+02  6.451620e+01"
      ]
     },
     "execution_count": 172,
     "metadata": {},
     "output_type": "execute_result"
    }
   ],
   "source": [
    "import pandas as pd\n",
    "lx = {'Sunlight': 107527, \n",
    "      'Full daylight': 10752,\n",
    "      'Overcast day':1075,\n",
    "      'Very dark day':107,\n",
    "      'Twilight': 10.8,\n",
    "      'Deep twilight': 1.08,\n",
    "      'Full moon': 0.108,\n",
    "      'Quarter moon':0.0108,\n",
    "      'Starlight': 0.0011,\n",
    "      'Overcastnight':0.0001\n",
    "    }\n",
    "fnos = [1.4, 2, 2.74, 3.8, 5.4, 7.5\n",
    "       ]\n",
    "\n",
    "def calcIrrad(lx, rho, taua, tauo, fno):\n",
    "    return lx * rho * taua * tauo / (4 * fno ** 2)\n",
    "    \n",
    "df = pd.DataFrame(list(lx.items()), columns=['Condition','IrradianceLux'])\n",
    "\n",
    "rho = 0.3\n",
    "taua = 0.5\n",
    "tauo = 0.9\n",
    "for fno in fnos:\n",
    "    df['{}'.format(fno)] = df.IrradianceLux.apply(calcIrrad, args=(rho, taua, tauo, fno) )\n",
    "    \n",
    "df.sort_values(by='IrradianceLux')"
   ]
  },
  {
   "cell_type": "markdown",
   "metadata": {
    "collapsed": true,
    "run_control": {
     "frozen": false,
     "read_only": false
    }
   },
   "source": [
    "Apply a function to existing columns to create a new column"
   ]
  },
  {
   "cell_type": "code",
   "execution_count": 173,
   "metadata": {
    "run_control": {
     "frozen": false,
     "read_only": false
    }
   },
   "outputs": [
    {
     "data": {
      "text/html": [
       "<div>\n",
       "<table border=\"1\" class=\"dataframe\">\n",
       "  <thead>\n",
       "    <tr style=\"text-align: right;\">\n",
       "      <th></th>\n",
       "      <th>A</th>\n",
       "      <th>B</th>\n",
       "      <th>nocols</th>\n",
       "      <th>new_column</th>\n",
       "    </tr>\n",
       "  </thead>\n",
       "  <tbody>\n",
       "    <tr>\n",
       "      <th>0</th>\n",
       "      <td>10</td>\n",
       "      <td>20</td>\n",
       "      <td>20</td>\n",
       "      <td>200</td>\n",
       "    </tr>\n",
       "    <tr>\n",
       "      <th>1</th>\n",
       "      <td>20</td>\n",
       "      <td>30</td>\n",
       "      <td>20</td>\n",
       "      <td>600</td>\n",
       "    </tr>\n",
       "    <tr>\n",
       "      <th>2</th>\n",
       "      <td>30</td>\n",
       "      <td>10</td>\n",
       "      <td>20</td>\n",
       "      <td>300</td>\n",
       "    </tr>\n",
       "  </tbody>\n",
       "</table>\n",
       "</div>"
      ],
      "text/plain": [
       "    A   B  nocols  new_column\n",
       "0  10  20      20         200\n",
       "1  20  30      20         600\n",
       "2  30  10      20         300"
      ]
     },
     "execution_count": 173,
     "metadata": {},
     "output_type": "execute_result"
    }
   ],
   "source": [
    "def fx(x, y):\n",
    "    return x*y\n",
    "\n",
    "import numpy as np\n",
    "import pandas as pd\n",
    "df = pd.DataFrame({\"A\": [10,20,30], \"B\": [20, 30, 10]})\n",
    "df['nocols'] = np.vectorize(fx)(4, 5)\n",
    "df['new_column'] = np.vectorize(fx)(df['A'], df['B'])\n",
    "df"
   ]
  },
  {
   "cell_type": "markdown",
   "metadata": {
    "run_control": {
     "frozen": false,
     "read_only": false
    }
   },
   "source": [
    "Apply a named function on multiple columns and scalar arguments"
   ]
  },
  {
   "cell_type": "code",
   "execution_count": 2,
   "metadata": {
    "run_control": {
     "frozen": false,
     "read_only": false
    }
   },
   "outputs": [
    {
     "data": {
      "text/html": [
       "<div>\n",
       "<table border=\"1\" class=\"dataframe\">\n",
       "  <thead>\n",
       "    <tr style=\"text-align: right;\">\n",
       "      <th></th>\n",
       "      <th>gene</th>\n",
       "      <th>count</th>\n",
       "      <th>gene_length</th>\n",
       "      <th>rpkm</th>\n",
       "    </tr>\n",
       "  </thead>\n",
       "  <tbody>\n",
       "    <tr>\n",
       "      <th>0</th>\n",
       "      <td>a</td>\n",
       "      <td>61</td>\n",
       "      <td>152</td>\n",
       "      <td>32508.366908</td>\n",
       "    </tr>\n",
       "    <tr>\n",
       "      <th>1</th>\n",
       "      <td>b</td>\n",
       "      <td>320</td>\n",
       "      <td>86</td>\n",
       "      <td>301411.926493</td>\n",
       "    </tr>\n",
       "    <tr>\n",
       "      <th>2</th>\n",
       "      <td>c</td>\n",
       "      <td>34</td>\n",
       "      <td>92</td>\n",
       "      <td>29936.429112</td>\n",
       "    </tr>\n",
       "    <tr>\n",
       "      <th>3</th>\n",
       "      <td>d</td>\n",
       "      <td>14</td>\n",
       "      <td>170</td>\n",
       "      <td>6670.955138</td>\n",
       "    </tr>\n",
       "    <tr>\n",
       "      <th>4</th>\n",
       "      <td>e</td>\n",
       "      <td>33</td>\n",
       "      <td>111</td>\n",
       "      <td>24082.405613</td>\n",
       "    </tr>\n",
       "  </tbody>\n",
       "</table>\n",
       "</div>"
      ],
      "text/plain": [
       "  gene  count  gene_length           rpkm\n",
       "0    a     61          152   32508.366908\n",
       "1    b    320           86  301411.926493\n",
       "2    c     34           92   29936.429112\n",
       "3    d     14          170    6670.955138\n",
       "4    e     33          111   24082.405613"
      ]
     },
     "execution_count": 2,
     "metadata": {},
     "output_type": "execute_result"
    }
   ],
   "source": [
    "import pandas as pd \n",
    "data = {'gene':['a','b','c','d','e'],\n",
    "        'count':[61,320,34,14,33],\n",
    "        'gene_length':[152,86,92,170,111]}\n",
    "df = pd.DataFrame(data)\n",
    "df = df[[\"gene\",\"count\",\"gene_length\"]]\n",
    "\n",
    "def calculate_RPKM(theC,theN, theL):\n",
    "    \"\"\"\n",
    "    theC  == Total reads mapped to a feature (gene/linc)\n",
    "    theL  == Length of feature (gene/linc)\n",
    "    theN  == Total reads mapped\n",
    "    \"\"\"\n",
    "    rpkm = ((10**9) * theC)/(theN * theL)\n",
    "    return rpkm\n",
    "N=12345\n",
    "df[\"rpkm\"] = calculate_RPKM(df['count'],N,df['gene_length'])\n",
    "df"
   ]
  },
  {
   "cell_type": "code",
   "execution_count": 5,
   "metadata": {
    "run_control": {
     "frozen": false,
     "read_only": false
    }
   },
   "outputs": [
    {
     "name": "stdout",
     "output_type": "stream",
     "text": [
      "  gene  count  gene_length           rpkm  Value\n",
      "0    a     61          152   32508.366908     30\n",
      "1    b    320           86  301411.926493     86\n",
      "2    c     34           92   29936.429112     24\n",
      "3    d     14          170    6670.955138      2\n",
      "4    e     33          111   24082.405613     12\n"
     ]
    }
   ],
   "source": [
    "def my_test2(row):\n",
    "     return row['gene_length'] % row['count']\n",
    "df['Value'] = df.apply(my_test2, axis=1)\n",
    "print(df)"
   ]
  },
  {
   "cell_type": "markdown",
   "metadata": {
    "collapsed": true,
    "run_control": {
     "frozen": false,
     "read_only": false
    }
   },
   "source": [
    "Use apply to return multiple columns\n",
    "\n",
    "<http://stackoverflow.com/questions/16236684/apply-pandas-function-to-column-to-create-multiple-new-columns>"
   ]
  },
  {
   "cell_type": "code",
   "execution_count": 175,
   "metadata": {
    "run_control": {
     "frozen": false,
     "read_only": false
    }
   },
   "outputs": [
    {
     "data": {
      "text/html": [
       "<div>\n",
       "<table border=\"1\" class=\"dataframe\">\n",
       "  <thead>\n",
       "    <tr style=\"text-align: right;\">\n",
       "      <th></th>\n",
       "      <th>textcol</th>\n",
       "      <th>feature1</th>\n",
       "      <th>feature2</th>\n",
       "    </tr>\n",
       "  </thead>\n",
       "  <tbody>\n",
       "    <tr>\n",
       "      <th>0</th>\n",
       "      <td>0.339844</td>\n",
       "      <td>1.339844</td>\n",
       "      <td>-0.660156</td>\n",
       "    </tr>\n",
       "    <tr>\n",
       "      <th>1</th>\n",
       "      <td>0.154391</td>\n",
       "      <td>1.154391</td>\n",
       "      <td>-0.845609</td>\n",
       "    </tr>\n",
       "    <tr>\n",
       "      <th>2</th>\n",
       "      <td>0.530604</td>\n",
       "      <td>1.530604</td>\n",
       "      <td>-0.469396</td>\n",
       "    </tr>\n",
       "    <tr>\n",
       "      <th>3</th>\n",
       "      <td>0.977943</td>\n",
       "      <td>1.977943</td>\n",
       "      <td>-0.022057</td>\n",
       "    </tr>\n",
       "    <tr>\n",
       "      <th>4</th>\n",
       "      <td>0.604238</td>\n",
       "      <td>1.604238</td>\n",
       "      <td>-0.395762</td>\n",
       "    </tr>\n",
       "  </tbody>\n",
       "</table>\n",
       "</div>"
      ],
      "text/plain": [
       "    textcol  feature1  feature2\n",
       "0  0.339844  1.339844 -0.660156\n",
       "1  0.154391  1.154391 -0.845609\n",
       "2  0.530604  1.530604 -0.469396\n",
       "3  0.977943  1.977943 -0.022057\n",
       "4  0.604238  1.604238 -0.395762"
      ]
     },
     "execution_count": 175,
     "metadata": {},
     "output_type": "execute_result"
    }
   ],
   "source": [
    "import pandas as pd\n",
    "import numpy as np\n",
    "df = pd.DataFrame({'textcol' : np.random.rand(5)})\n",
    "df.merge(df.textcol.apply(lambda s: pd.Series({'feature1':s+1, 'feature2':s-1})), \n",
    "    left_index=True, right_index=True)"
   ]
  },
  {
   "cell_type": "markdown",
   "metadata": {
    "run_control": {
     "frozen": false,
     "read_only": false
    }
   },
   "source": [
    "Return multiple columns, operating on a single column, with additional arguments"
   ]
  },
  {
   "cell_type": "code",
   "execution_count": 176,
   "metadata": {
    "run_control": {
     "frozen": false,
     "read_only": false
    }
   },
   "outputs": [
    {
     "data": {
      "text/html": [
       "<div>\n",
       "<table border=\"1\" class=\"dataframe\">\n",
       "  <thead>\n",
       "    <tr style=\"text-align: right;\">\n",
       "      <th></th>\n",
       "      <th>textcol</th>\n",
       "      <th>feature1</th>\n",
       "      <th>feature2</th>\n",
       "    </tr>\n",
       "  </thead>\n",
       "  <tbody>\n",
       "    <tr>\n",
       "      <th>0</th>\n",
       "      <td>0.281816</td>\n",
       "      <td>2.281816</td>\n",
       "      <td>-4.718184</td>\n",
       "    </tr>\n",
       "    <tr>\n",
       "      <th>1</th>\n",
       "      <td>0.109300</td>\n",
       "      <td>2.109300</td>\n",
       "      <td>-4.890700</td>\n",
       "    </tr>\n",
       "    <tr>\n",
       "      <th>2</th>\n",
       "      <td>0.495643</td>\n",
       "      <td>2.495643</td>\n",
       "      <td>-4.504357</td>\n",
       "    </tr>\n",
       "    <tr>\n",
       "      <th>3</th>\n",
       "      <td>0.161521</td>\n",
       "      <td>2.161521</td>\n",
       "      <td>-4.838479</td>\n",
       "    </tr>\n",
       "    <tr>\n",
       "      <th>4</th>\n",
       "      <td>0.850803</td>\n",
       "      <td>2.850803</td>\n",
       "      <td>-4.149197</td>\n",
       "    </tr>\n",
       "  </tbody>\n",
       "</table>\n",
       "</div>"
      ],
      "text/plain": [
       "    textcol  feature1  feature2\n",
       "0  0.281816  2.281816 -4.718184\n",
       "1  0.109300  2.109300 -4.890700\n",
       "2  0.495643  2.495643 -4.504357\n",
       "3  0.161521  2.161521 -4.838479\n",
       "4  0.850803  2.850803 -4.149197"
      ]
     },
     "execution_count": 176,
     "metadata": {},
     "output_type": "execute_result"
    }
   ],
   "source": [
    "def myfunc(s,a1, a2):\n",
    "    return pd.Series({'feature1':s+a1, 'feature2':s+a2})\n",
    "    \n",
    "df = pd.DataFrame({'textcol' : np.random.rand(5)})\n",
    "df.merge(df.textcol.apply(myfunc,args=(+2, -5)), \n",
    "    left_index=True, right_index=True)    \n",
    "    "
   ]
  },
  {
   "cell_type": "markdown",
   "metadata": {
    "run_control": {
     "frozen": false,
     "read_only": false
    }
   },
   "source": [
    "The following example calculates the angle between two normal vectors, where the two vectors are given in separate tables. The common value whereby the two tables are joined is given in the 'Key' column in each of the tables."
   ]
  },
  {
   "cell_type": "code",
   "execution_count": 177,
   "metadata": {
    "run_control": {
     "frozen": false,
     "read_only": false
    }
   },
   "outputs": [
    {
     "name": "stdout",
     "output_type": "stream",
     "text": [
      "   indexa Key        xa        ya       za  indexb        xb        yb        zb     angle\n",
      "0       0   a  1.000000  0.000000  0.00000       0  1.000000  0.000000  0.000000  1.570796\n",
      "1       1   b  1.000000  0.000000  0.00000       1  0.000000  1.000000  0.000000       NaN\n",
      "2       2   c  1.000000  0.000000  0.00000       2 -1.000000  0.000000  0.000000  1.257433\n",
      "3       3   d -0.815462  0.555211  0.16359       3 -0.815462  0.555211  0.163590  1.348806\n",
      "4       4   e -0.815462  0.555211  0.16359       4 -0.683709  0.396554  0.612607  1.443474\n"
     ]
    }
   ],
   "source": [
    "from numpy import linalg as LA\n",
    "\n",
    "def normCols(df, lst):\n",
    "    \"\"\"Normalise the columns in df, as listed in lst\"\"\"\n",
    "    #get the vector length\n",
    "    df['norm'] = (LA.norm(df[lst],axis=1))\n",
    "    #normalise cols in list and return\n",
    "    df[lst] = df[lst].divide(df['norm'], axis=0)\n",
    "    df.drop('norm',axis=1,inplace=True)\n",
    "    #value seems to be returned in the df parameter passed on the function call\n",
    "    return \n",
    "\n",
    "# create the data: [key, x, y, z]\n",
    "lstA = [['a',1,0,0],['b',1,0,0],['c', 1,0,0],['d',-4.164548,2.835452,0.835452],['e',-4.164548,2.835452,0.835452]]\n",
    "lstB = [['a',1,0,0],['b',0,1,0],['c',-1,0,0],['d',-4.164548,2.835452,0.835452],['e',-3.164548,1.835452,2.835452]]\n",
    "\n",
    "# make dataframes\n",
    "vec = ['x','y','z']\n",
    "cols = ['Key'] + vec\n",
    "dfA = pd.DataFrame(lstA,columns=cols)\n",
    "dfB = pd.DataFrame(lstB,columns=cols)\n",
    "\n",
    "# normalise vectors\n",
    "normCols(dfA, vec)\n",
    "normCols(dfB, vec)\n",
    "\n",
    "# join the two vectors on the Key column\n",
    "dfA.reset_index(inplace=True)\n",
    "dfB.reset_index(inplace=True)\n",
    "suffixes = ['a','b'] # used in labelling duplicate column names\n",
    "dfM = pd.merge(dfA, dfB, left_on=['Key'],right_on=['Key'], how='inner', suffixes=suffixes)  \n",
    "\n",
    "# calc angle between vectors\n",
    "va = ['xa','ya','za']\n",
    "vb = ['xb','yb','zb']\n",
    "# inner() calculates Va x Vb.T, on which the diagonal() is \n",
    "# the dot product of the respective rowA and rowB.T vectors\n",
    "dfM['angle'] = np.arccos(np.diagonal(np.inner(dfM[va],dfM[vb])))\n",
    "\n",
    "print(dfM)"
   ]
  },
  {
   "cell_type": "code",
   "execution_count": 178,
   "metadata": {
    "run_control": {
     "frozen": false,
     "read_only": false
    }
   },
   "outputs": [
    {
     "name": "stdout",
     "output_type": "stream",
     "text": [
      "[[1 2]\n",
      " [3 4]]\n",
      "[[11 13]\n",
      " [12 14]]\n",
      "[[35 41]\n",
      " [81 95]]\n"
     ]
    }
   ],
   "source": [
    "a=np.array([[1,2],[3,4]])\n",
    "b=np.array([[11,12],[13,14]])\n",
    "print(a)\n",
    "print(b.T)\n",
    "# print(np.dot(a,b))\n",
    "print(np.inner(a,b))\n"
   ]
  },
  {
   "cell_type": "markdown",
   "metadata": {
    "run_control": {
     "frozen": false,
     "read_only": false
    }
   },
   "source": [
    "### Histograms\n",
    "\n",
    "[Histogramming and Discretization](http://pandas.pydata.org/pandas-docs/version/0.15.2/basics.html#basics-discretization)"
   ]
  },
  {
   "cell_type": "code",
   "execution_count": 179,
   "metadata": {
    "run_control": {
     "frozen": false,
     "read_only": false
    }
   },
   "outputs": [
    {
     "data": {
      "text/plain": [
       "0    3\n",
       "3    2\n",
       "2    2\n",
       "6    1\n",
       "5    1\n",
       "4    1\n",
       "dtype: int64"
      ]
     },
     "execution_count": 179,
     "metadata": {},
     "output_type": "execute_result"
    }
   ],
   "source": [
    "s = pd.Series(np.random.randint(0,7,size=10))\n",
    "s.value_counts()"
   ]
  },
  {
   "cell_type": "markdown",
   "metadata": {
    "run_control": {
     "frozen": false,
     "read_only": false
    }
   },
   "source": [
    "### Strings\n",
    "Series is equipped with a set of string processing methods in the str attribute that make it easy to operate on each element of the array, as in the code snippet below. Note that pattern-matching in str generally uses [regular expressions](https://docs.python.org/2/library/re.html) by default (and in some cases always uses them). See more at [Vectorized String Methods](http://pandas.pydata.org/pandas-docs/version/0.15.2/text.html#text-string-methods)."
   ]
  },
  {
   "cell_type": "code",
   "execution_count": 180,
   "metadata": {
    "run_control": {
     "frozen": false,
     "read_only": false
    }
   },
   "outputs": [
    {
     "data": {
      "text/plain": [
       "0     1\n",
       "1     1\n",
       "2     1\n",
       "3     4\n",
       "4     4\n",
       "5   NaN\n",
       "6     4\n",
       "7     3\n",
       "8     3\n",
       "dtype: float64"
      ]
     },
     "execution_count": 180,
     "metadata": {},
     "output_type": "execute_result"
    }
   ],
   "source": [
    "s = pd.Series(['A', 'B', 'C', 'Aaba', 'Baca', np.nan, 'CABA', 'dog', 'cat'])\n",
    "s.str.lower()\n",
    "s.str.upper()\n",
    "s.str.len()"
   ]
  },
  {
   "cell_type": "code",
   "execution_count": 181,
   "metadata": {
    "run_control": {
     "frozen": false,
     "read_only": false
    }
   },
   "outputs": [
    {
     "data": {
      "text/plain": [
       "0    [a, b, c]\n",
       "1    [c, d, e]\n",
       "2          NaN\n",
       "3    [f, g, h]\n",
       "dtype: object"
      ]
     },
     "execution_count": 181,
     "metadata": {},
     "output_type": "execute_result"
    }
   ],
   "source": [
    "# Methods like split return a Series of lists:\n",
    "s2 = pd.Series(['a_b_c', 'c_d_e', np.nan, 'f_g_h'])\n",
    "s2.str.split('_')"
   ]
  },
  {
   "cell_type": "code",
   "execution_count": 182,
   "metadata": {
    "run_control": {
     "frozen": false,
     "read_only": false
    }
   },
   "outputs": [
    {
     "data": {
      "text/plain": [
       "0      b\n",
       "1      d\n",
       "2    NaN\n",
       "3      g\n",
       "dtype: object"
      ]
     },
     "execution_count": 182,
     "metadata": {},
     "output_type": "execute_result"
    }
   ],
   "source": [
    "s2.str.split('_').str[1]"
   ]
  },
  {
   "cell_type": "code",
   "execution_count": 183,
   "metadata": {
    "run_control": {
     "frozen": false,
     "read_only": false
    }
   },
   "outputs": [
    {
     "data": {
      "text/plain": [
       "0    NaN\n",
       "1    NaN\n",
       "2    NaN\n",
       "3      a\n",
       "4      a\n",
       "5    NaN\n",
       "6      A\n",
       "7      o\n",
       "8      a\n",
       "dtype: object"
      ]
     },
     "execution_count": 183,
     "metadata": {},
     "output_type": "execute_result"
    }
   ],
   "source": [
    "s = pd.Series(['A', 'B', 'C', 'Aaba', 'Baca', np.nan,'CABA', 'dog', 'cat'])\n",
    "s.str[1]"
   ]
  },
  {
   "cell_type": "markdown",
   "metadata": {
    "run_control": {
     "frozen": false,
     "read_only": false
    }
   },
   "source": [
    "You can use [] notation to directly index by position locations. If you index past the end of the string, the result will be a NaN."
   ]
  },
  {
   "cell_type": "code",
   "execution_count": 184,
   "metadata": {
    "run_control": {
     "frozen": false,
     "read_only": false
    }
   },
   "outputs": [
    {
     "data": {
      "text/html": [
       "<div>\n",
       "<table border=\"1\" class=\"dataframe\">\n",
       "  <thead>\n",
       "    <tr style=\"text-align: right;\">\n",
       "      <th></th>\n",
       "      <th>0</th>\n",
       "      <th>1</th>\n",
       "      <th>2</th>\n",
       "    </tr>\n",
       "  </thead>\n",
       "  <tbody>\n",
       "    <tr>\n",
       "      <th>0</th>\n",
       "      <td>a</td>\n",
       "      <td>b</td>\n",
       "      <td>c</td>\n",
       "    </tr>\n",
       "    <tr>\n",
       "      <th>1</th>\n",
       "      <td>c</td>\n",
       "      <td>d</td>\n",
       "      <td>e</td>\n",
       "    </tr>\n",
       "    <tr>\n",
       "      <th>2</th>\n",
       "      <td>NaN</td>\n",
       "      <td>NaN</td>\n",
       "      <td>NaN</td>\n",
       "    </tr>\n",
       "    <tr>\n",
       "      <th>3</th>\n",
       "      <td>f</td>\n",
       "      <td>g</td>\n",
       "      <td>h</td>\n",
       "    </tr>\n",
       "  </tbody>\n",
       "</table>\n",
       "</div>"
      ],
      "text/plain": [
       "     0    1    2\n",
       "0    a    b    c\n",
       "1    c    d    e\n",
       "2  NaN  NaN  NaN\n",
       "3    f    g    h"
      ]
     },
     "execution_count": 184,
     "metadata": {},
     "output_type": "execute_result"
    }
   ],
   "source": [
    "# Easy to expand this to return a DataFrame\n",
    "s2.str.split('_').apply(pd.Series)"
   ]
  },
  {
   "cell_type": "markdown",
   "metadata": {
    "run_control": {
     "frozen": false,
     "read_only": false
    }
   },
   "source": [
    "Methods like replace and findall take regular expressions, too:"
   ]
  },
  {
   "cell_type": "code",
   "execution_count": 185,
   "metadata": {
    "run_control": {
     "frozen": false,
     "read_only": false
    }
   },
   "outputs": [
    {
     "data": {
      "text/plain": [
       "0           A\n",
       "1           B\n",
       "2           C\n",
       "3    XX-XX ba\n",
       "4    XX-XX ca\n",
       "5            \n",
       "6         NaN\n",
       "7    XX-XX BA\n",
       "8      XX-XX \n",
       "9     XX-XX t\n",
       "dtype: object"
      ]
     },
     "execution_count": 185,
     "metadata": {},
     "output_type": "execute_result"
    }
   ],
   "source": [
    "s3 = pd.Series(['A', 'B', 'C', 'Aaba', 'Baca','', np.nan, 'CABA', 'dog', 'cat'])\n",
    "s3.str.replace('^.a|dog', 'XX-XX ', case=False)"
   ]
  },
  {
   "cell_type": "markdown",
   "metadata": {
    "run_control": {
     "frozen": false,
     "read_only": false
    }
   },
   "source": [
    "### Grouping\n",
    "By “group by” we are referring to a process involving one or more of the following steps  \n",
    "\n",
    "- Splitting the data into groups based on some criteria  \n",
    "- Applying a function to each group independently    \n",
    "- Combining the results into a data structure   \n",
    "\n",
    "[grouping](http://pandas.pydata.org/pandas-docs/version/0.15.2/groupby.html#groupby)"
   ]
  },
  {
   "cell_type": "code",
   "execution_count": 186,
   "metadata": {
    "run_control": {
     "frozen": false,
     "read_only": false
    }
   },
   "outputs": [
    {
     "data": {
      "text/html": [
       "<div>\n",
       "<table border=\"1\" class=\"dataframe\">\n",
       "  <thead>\n",
       "    <tr style=\"text-align: right;\">\n",
       "      <th></th>\n",
       "      <th>A</th>\n",
       "      <th>B</th>\n",
       "      <th>C</th>\n",
       "      <th>D</th>\n",
       "    </tr>\n",
       "  </thead>\n",
       "  <tbody>\n",
       "    <tr>\n",
       "      <th>0</th>\n",
       "      <td>foo</td>\n",
       "      <td>one</td>\n",
       "      <td>-0.943190</td>\n",
       "      <td>0.435351</td>\n",
       "    </tr>\n",
       "    <tr>\n",
       "      <th>1</th>\n",
       "      <td>bar</td>\n",
       "      <td>one</td>\n",
       "      <td>-0.860679</td>\n",
       "      <td>1.657635</td>\n",
       "    </tr>\n",
       "    <tr>\n",
       "      <th>2</th>\n",
       "      <td>foo</td>\n",
       "      <td>two</td>\n",
       "      <td>-0.841346</td>\n",
       "      <td>-0.295926</td>\n",
       "    </tr>\n",
       "    <tr>\n",
       "      <th>3</th>\n",
       "      <td>bar</td>\n",
       "      <td>three</td>\n",
       "      <td>-0.536705</td>\n",
       "      <td>0.311769</td>\n",
       "    </tr>\n",
       "    <tr>\n",
       "      <th>4</th>\n",
       "      <td>foo</td>\n",
       "      <td>two</td>\n",
       "      <td>-0.563686</td>\n",
       "      <td>-1.365462</td>\n",
       "    </tr>\n",
       "    <tr>\n",
       "      <th>5</th>\n",
       "      <td>bar</td>\n",
       "      <td>two</td>\n",
       "      <td>-0.735477</td>\n",
       "      <td>0.470301</td>\n",
       "    </tr>\n",
       "    <tr>\n",
       "      <th>6</th>\n",
       "      <td>foo</td>\n",
       "      <td>one</td>\n",
       "      <td>-0.384659</td>\n",
       "      <td>0.201952</td>\n",
       "    </tr>\n",
       "    <tr>\n",
       "      <th>7</th>\n",
       "      <td>foo</td>\n",
       "      <td>three</td>\n",
       "      <td>0.356941</td>\n",
       "      <td>1.142567</td>\n",
       "    </tr>\n",
       "  </tbody>\n",
       "</table>\n",
       "</div>"
      ],
      "text/plain": [
       "     A      B         C         D\n",
       "0  foo    one -0.943190  0.435351\n",
       "1  bar    one -0.860679  1.657635\n",
       "2  foo    two -0.841346 -0.295926\n",
       "3  bar  three -0.536705  0.311769\n",
       "4  foo    two -0.563686 -1.365462\n",
       "5  bar    two -0.735477  0.470301\n",
       "6  foo    one -0.384659  0.201952\n",
       "7  foo  three  0.356941  1.142567"
      ]
     },
     "execution_count": 186,
     "metadata": {},
     "output_type": "execute_result"
    }
   ],
   "source": [
    "df = makefoobar()\n",
    "df"
   ]
  },
  {
   "cell_type": "markdown",
   "metadata": {
    "run_control": {
     "frozen": false,
     "read_only": false
    }
   },
   "source": [
    "Grouping and then applying a function sum to the resulting groups."
   ]
  },
  {
   "cell_type": "code",
   "execution_count": 187,
   "metadata": {
    "run_control": {
     "frozen": false,
     "read_only": false
    }
   },
   "outputs": [
    {
     "data": {
      "text/html": [
       "<div>\n",
       "<table border=\"1\" class=\"dataframe\">\n",
       "  <thead>\n",
       "    <tr style=\"text-align: right;\">\n",
       "      <th></th>\n",
       "      <th>C</th>\n",
       "      <th>D</th>\n",
       "    </tr>\n",
       "    <tr>\n",
       "      <th>A</th>\n",
       "      <th></th>\n",
       "      <th></th>\n",
       "    </tr>\n",
       "  </thead>\n",
       "  <tbody>\n",
       "    <tr>\n",
       "      <th>bar</th>\n",
       "      <td>-2.132861</td>\n",
       "      <td>2.439706</td>\n",
       "    </tr>\n",
       "    <tr>\n",
       "      <th>foo</th>\n",
       "      <td>-2.375940</td>\n",
       "      <td>0.118482</td>\n",
       "    </tr>\n",
       "  </tbody>\n",
       "</table>\n",
       "</div>"
      ],
      "text/plain": [
       "            C         D\n",
       "A                      \n",
       "bar -2.132861  2.439706\n",
       "foo -2.375940  0.118482"
      ]
     },
     "execution_count": 187,
     "metadata": {},
     "output_type": "execute_result"
    }
   ],
   "source": [
    "df.groupby('A').sum()"
   ]
  },
  {
   "cell_type": "code",
   "execution_count": 188,
   "metadata": {
    "run_control": {
     "frozen": false,
     "read_only": false
    }
   },
   "outputs": [
    {
     "data": {
      "text/html": [
       "<div>\n",
       "<table border=\"1\" class=\"dataframe\">\n",
       "  <thead>\n",
       "    <tr style=\"text-align: right;\">\n",
       "      <th></th>\n",
       "      <th></th>\n",
       "      <th>C</th>\n",
       "      <th>D</th>\n",
       "    </tr>\n",
       "    <tr>\n",
       "      <th>A</th>\n",
       "      <th>B</th>\n",
       "      <th></th>\n",
       "      <th></th>\n",
       "    </tr>\n",
       "  </thead>\n",
       "  <tbody>\n",
       "    <tr>\n",
       "      <th rowspan=\"3\" valign=\"top\">bar</th>\n",
       "      <th>one</th>\n",
       "      <td>-0.860679</td>\n",
       "      <td>1.657635</td>\n",
       "    </tr>\n",
       "    <tr>\n",
       "      <th>three</th>\n",
       "      <td>-0.536705</td>\n",
       "      <td>0.311769</td>\n",
       "    </tr>\n",
       "    <tr>\n",
       "      <th>two</th>\n",
       "      <td>-0.735477</td>\n",
       "      <td>0.470301</td>\n",
       "    </tr>\n",
       "    <tr>\n",
       "      <th rowspan=\"3\" valign=\"top\">foo</th>\n",
       "      <th>one</th>\n",
       "      <td>-1.327849</td>\n",
       "      <td>0.637304</td>\n",
       "    </tr>\n",
       "    <tr>\n",
       "      <th>three</th>\n",
       "      <td>0.356941</td>\n",
       "      <td>1.142567</td>\n",
       "    </tr>\n",
       "    <tr>\n",
       "      <th>two</th>\n",
       "      <td>-1.405032</td>\n",
       "      <td>-1.661388</td>\n",
       "    </tr>\n",
       "  </tbody>\n",
       "</table>\n",
       "</div>"
      ],
      "text/plain": [
       "                  C         D\n",
       "A   B                        \n",
       "bar one   -0.860679  1.657635\n",
       "    three -0.536705  0.311769\n",
       "    two   -0.735477  0.470301\n",
       "foo one   -1.327849  0.637304\n",
       "    three  0.356941  1.142567\n",
       "    two   -1.405032 -1.661388"
      ]
     },
     "execution_count": 188,
     "metadata": {},
     "output_type": "execute_result"
    }
   ],
   "source": [
    "df.groupby(['A','B']).sum()"
   ]
  },
  {
   "cell_type": "code",
   "execution_count": 189,
   "metadata": {
    "run_control": {
     "frozen": false,
     "read_only": false
    }
   },
   "outputs": [
    {
     "name": "stdout",
     "output_type": "stream",
     "text": [
      "     A      B         C         D\n",
      "0  foo    one  0.360036  0.115817\n",
      "1  bar    one -1.261815  1.239442\n",
      "2  foo    two -1.115109 -2.255499\n",
      "3  bar  three -0.237453 -0.667440\n",
      "4  foo    two -1.055000  0.016243\n",
      "5  bar    two -0.299531 -0.109096\n",
      "6  foo    one  0.651732  0.585331\n",
      "7  foo  three -1.555361  1.181303\n"
     ]
    },
    {
     "data": {
      "text/plain": [
       "{'one': -0.08334900001451555,\n",
       " 'three': -0.8964069233520748,\n",
       " 'two': -0.823213384270459}"
      ]
     },
     "execution_count": 189,
     "metadata": {},
     "output_type": "execute_result"
    }
   ],
   "source": [
    "df = makefoobar()\n",
    "print(df)\n",
    "cnts = {}\n",
    "#first value is group column value, seond value is the members in the group\n",
    "for grp, grp_data in df.groupby(\"B\"):\n",
    "    cnts[grp] = grp_data.C.mean()  \n",
    "cnts"
   ]
  },
  {
   "cell_type": "markdown",
   "metadata": {
    "run_control": {
     "frozen": false,
     "read_only": false
    }
   },
   "source": [
    "### Reshaping\n",
    "\n",
    "[Hierarchical Indexing](http://pandas.pydata.org/pandas-docs/version/0.15.2/advanced.html#advanced-hierarchical) and [Reshaping](http://pandas.pydata.org/pandas-docs/version/0.15.2/reshaping.html#reshaping-stacking)."
   ]
  },
  {
   "cell_type": "code",
   "execution_count": 190,
   "metadata": {
    "run_control": {
     "frozen": false,
     "read_only": false
    }
   },
   "outputs": [
    {
     "name": "stdout",
     "output_type": "stream",
     "text": [
      "[('bar', 'one'), ('bar', 'two'), ('baz', 'one'), ('baz', 'two'), ('foo', 'one'), ('foo', 'two'), ('qux', 'one'), ('qux', 'two')]\n"
     ]
    },
    {
     "data": {
      "text/html": [
       "<div>\n",
       "<table border=\"1\" class=\"dataframe\">\n",
       "  <thead>\n",
       "    <tr style=\"text-align: right;\">\n",
       "      <th></th>\n",
       "      <th></th>\n",
       "      <th>A</th>\n",
       "      <th>B</th>\n",
       "    </tr>\n",
       "    <tr>\n",
       "      <th>first</th>\n",
       "      <th>second</th>\n",
       "      <th></th>\n",
       "      <th></th>\n",
       "    </tr>\n",
       "  </thead>\n",
       "  <tbody>\n",
       "    <tr>\n",
       "      <th rowspan=\"2\" valign=\"top\">bar</th>\n",
       "      <th>one</th>\n",
       "      <td>-0.478486</td>\n",
       "      <td>-0.602451</td>\n",
       "    </tr>\n",
       "    <tr>\n",
       "      <th>two</th>\n",
       "      <td>0.144670</td>\n",
       "      <td>0.348400</td>\n",
       "    </tr>\n",
       "    <tr>\n",
       "      <th rowspan=\"2\" valign=\"top\">baz</th>\n",
       "      <th>one</th>\n",
       "      <td>-0.418458</td>\n",
       "      <td>-1.502814</td>\n",
       "    </tr>\n",
       "    <tr>\n",
       "      <th>two</th>\n",
       "      <td>1.134290</td>\n",
       "      <td>-1.509121</td>\n",
       "    </tr>\n",
       "  </tbody>\n",
       "</table>\n",
       "</div>"
      ],
      "text/plain": [
       "                     A         B\n",
       "first second                    \n",
       "bar   one    -0.478486 -0.602451\n",
       "      two     0.144670  0.348400\n",
       "baz   one    -0.418458 -1.502814\n",
       "      two     1.134290 -1.509121"
      ]
     },
     "execution_count": 190,
     "metadata": {},
     "output_type": "execute_result"
    }
   ],
   "source": [
    "tuples = list(zip(*[['bar', 'bar', 'baz', 'baz',\n",
    "                    'foo', 'foo', 'qux', 'qux'],\n",
    "                    ['one', 'two', 'one', 'two',\n",
    "                    'one', 'two', 'one', 'two']]))\n",
    "print(tuples)\n",
    "index = pd.MultiIndex.from_tuples(tuples, names=['first', 'second'])\n",
    "df = pd.DataFrame(np.random.randn(8, 2), index=index, columns=['A', 'B'])\n",
    "df2 = df[:4]\n",
    "df2"
   ]
  },
  {
   "cell_type": "markdown",
   "metadata": {
    "run_control": {
     "frozen": false,
     "read_only": false
    }
   },
   "source": [
    "The stack function “compresses” a level in the DataFrame’s columns."
   ]
  },
  {
   "cell_type": "code",
   "execution_count": 191,
   "metadata": {
    "run_control": {
     "frozen": false,
     "read_only": false
    }
   },
   "outputs": [
    {
     "data": {
      "text/plain": [
       "first  second   \n",
       "bar    one     A   -0.478486\n",
       "               B   -0.602451\n",
       "       two     A    0.144670\n",
       "               B    0.348400\n",
       "baz    one     A   -0.418458\n",
       "               B   -1.502814\n",
       "       two     A    1.134290\n",
       "               B   -1.509121\n",
       "dtype: float64"
      ]
     },
     "execution_count": 191,
     "metadata": {},
     "output_type": "execute_result"
    }
   ],
   "source": [
    "stacked = df2.stack()\n",
    "stacked"
   ]
  },
  {
   "cell_type": "markdown",
   "metadata": {
    "run_control": {
     "frozen": false,
     "read_only": false
    }
   },
   "source": [
    "With a “stacked” DataFrame or Series (having a MultiIndex as the index), the inverse operation of stack is unstack, which by default unstacks the last level:"
   ]
  },
  {
   "cell_type": "code",
   "execution_count": 192,
   "metadata": {
    "run_control": {
     "frozen": false,
     "read_only": false
    }
   },
   "outputs": [
    {
     "data": {
      "text/html": [
       "<div>\n",
       "<table border=\"1\" class=\"dataframe\">\n",
       "  <thead>\n",
       "    <tr style=\"text-align: right;\">\n",
       "      <th></th>\n",
       "      <th></th>\n",
       "      <th>A</th>\n",
       "      <th>B</th>\n",
       "    </tr>\n",
       "    <tr>\n",
       "      <th>first</th>\n",
       "      <th>second</th>\n",
       "      <th></th>\n",
       "      <th></th>\n",
       "    </tr>\n",
       "  </thead>\n",
       "  <tbody>\n",
       "    <tr>\n",
       "      <th rowspan=\"2\" valign=\"top\">bar</th>\n",
       "      <th>one</th>\n",
       "      <td>-0.478486</td>\n",
       "      <td>-0.602451</td>\n",
       "    </tr>\n",
       "    <tr>\n",
       "      <th>two</th>\n",
       "      <td>0.144670</td>\n",
       "      <td>0.348400</td>\n",
       "    </tr>\n",
       "    <tr>\n",
       "      <th rowspan=\"2\" valign=\"top\">baz</th>\n",
       "      <th>one</th>\n",
       "      <td>-0.418458</td>\n",
       "      <td>-1.502814</td>\n",
       "    </tr>\n",
       "    <tr>\n",
       "      <th>two</th>\n",
       "      <td>1.134290</td>\n",
       "      <td>-1.509121</td>\n",
       "    </tr>\n",
       "  </tbody>\n",
       "</table>\n",
       "</div>"
      ],
      "text/plain": [
       "                     A         B\n",
       "first second                    \n",
       "bar   one    -0.478486 -0.602451\n",
       "      two     0.144670  0.348400\n",
       "baz   one    -0.418458 -1.502814\n",
       "      two     1.134290 -1.509121"
      ]
     },
     "execution_count": 192,
     "metadata": {},
     "output_type": "execute_result"
    }
   ],
   "source": [
    "stacked.unstack()"
   ]
  },
  {
   "cell_type": "code",
   "execution_count": 193,
   "metadata": {
    "run_control": {
     "frozen": false,
     "read_only": false
    }
   },
   "outputs": [
    {
     "data": {
      "text/html": [
       "<div>\n",
       "<table border=\"1\" class=\"dataframe\">\n",
       "  <thead>\n",
       "    <tr style=\"text-align: right;\">\n",
       "      <th></th>\n",
       "      <th>second</th>\n",
       "      <th>one</th>\n",
       "      <th>two</th>\n",
       "    </tr>\n",
       "    <tr>\n",
       "      <th>first</th>\n",
       "      <th></th>\n",
       "      <th></th>\n",
       "      <th></th>\n",
       "    </tr>\n",
       "  </thead>\n",
       "  <tbody>\n",
       "    <tr>\n",
       "      <th rowspan=\"2\" valign=\"top\">bar</th>\n",
       "      <th>A</th>\n",
       "      <td>-0.478486</td>\n",
       "      <td>0.144670</td>\n",
       "    </tr>\n",
       "    <tr>\n",
       "      <th>B</th>\n",
       "      <td>-0.602451</td>\n",
       "      <td>0.348400</td>\n",
       "    </tr>\n",
       "    <tr>\n",
       "      <th rowspan=\"2\" valign=\"top\">baz</th>\n",
       "      <th>A</th>\n",
       "      <td>-0.418458</td>\n",
       "      <td>1.134290</td>\n",
       "    </tr>\n",
       "    <tr>\n",
       "      <th>B</th>\n",
       "      <td>-1.502814</td>\n",
       "      <td>-1.509121</td>\n",
       "    </tr>\n",
       "  </tbody>\n",
       "</table>\n",
       "</div>"
      ],
      "text/plain": [
       "second        one       two\n",
       "first                      \n",
       "bar   A -0.478486  0.144670\n",
       "      B -0.602451  0.348400\n",
       "baz   A -0.418458  1.134290\n",
       "      B -1.502814 -1.509121"
      ]
     },
     "execution_count": 193,
     "metadata": {},
     "output_type": "execute_result"
    }
   ],
   "source": [
    "stacked.unstack(1)"
   ]
  },
  {
   "cell_type": "code",
   "execution_count": 194,
   "metadata": {
    "run_control": {
     "frozen": false,
     "read_only": false
    }
   },
   "outputs": [
    {
     "data": {
      "text/html": [
       "<div>\n",
       "<table border=\"1\" class=\"dataframe\">\n",
       "  <thead>\n",
       "    <tr style=\"text-align: right;\">\n",
       "      <th></th>\n",
       "      <th>first</th>\n",
       "      <th>bar</th>\n",
       "      <th>baz</th>\n",
       "    </tr>\n",
       "    <tr>\n",
       "      <th>second</th>\n",
       "      <th></th>\n",
       "      <th></th>\n",
       "      <th></th>\n",
       "    </tr>\n",
       "  </thead>\n",
       "  <tbody>\n",
       "    <tr>\n",
       "      <th rowspan=\"2\" valign=\"top\">one</th>\n",
       "      <th>A</th>\n",
       "      <td>-0.478486</td>\n",
       "      <td>-0.418458</td>\n",
       "    </tr>\n",
       "    <tr>\n",
       "      <th>B</th>\n",
       "      <td>-0.602451</td>\n",
       "      <td>-1.502814</td>\n",
       "    </tr>\n",
       "    <tr>\n",
       "      <th rowspan=\"2\" valign=\"top\">two</th>\n",
       "      <th>A</th>\n",
       "      <td>0.144670</td>\n",
       "      <td>1.134290</td>\n",
       "    </tr>\n",
       "    <tr>\n",
       "      <th>B</th>\n",
       "      <td>0.348400</td>\n",
       "      <td>-1.509121</td>\n",
       "    </tr>\n",
       "  </tbody>\n",
       "</table>\n",
       "</div>"
      ],
      "text/plain": [
       "first          bar       baz\n",
       "second                      \n",
       "one    A -0.478486 -0.418458\n",
       "       B -0.602451 -1.502814\n",
       "two    A  0.144670  1.134290\n",
       "       B  0.348400 -1.509121"
      ]
     },
     "execution_count": 194,
     "metadata": {},
     "output_type": "execute_result"
    }
   ],
   "source": [
    "stacked.unstack(0)"
   ]
  },
  {
   "cell_type": "markdown",
   "metadata": {
    "run_control": {
     "frozen": false,
     "read_only": false
    }
   },
   "source": [
    "## Categoricals\n",
    "see the [categorical introduction](http://pandas.pydata.org/pandas-docs/version/0.15.2/categorical.html#categorical) and the [API documentation](http://pandas.pydata.org/pandas-docs/version/0.15.2/api.html#api-categorical)."
   ]
  },
  {
   "cell_type": "code",
   "execution_count": 195,
   "metadata": {
    "run_control": {
     "frozen": false,
     "read_only": false
    }
   },
   "outputs": [
    {
     "data": {
      "text/plain": [
       "0    a\n",
       "1    b\n",
       "2    b\n",
       "3    a\n",
       "4    a\n",
       "5    e\n",
       "Name: grade, dtype: category\n",
       "Categories (3, object): [a, b, e]"
      ]
     },
     "execution_count": 195,
     "metadata": {},
     "output_type": "execute_result"
    }
   ],
   "source": [
    "df = pd.DataFrame({\"id\":[1,2,3,4,5,6], \"raw_grade\":['a', 'b', 'b', 'a', 'a', 'e']})\n",
    "# Convert the raw grades to a categorical data type.\n",
    "df[\"grade\"] = df[\"raw_grade\"].astype(\"category\")\n",
    "df[\"grade\"]"
   ]
  },
  {
   "cell_type": "markdown",
   "metadata": {
    "run_control": {
     "frozen": false,
     "read_only": false
    }
   },
   "source": [
    "Rename the categories to more meaningful names (assigning to Series.cat.categories is in place!) Reorder the categories and simultaneously add the missing categories (methods under Series .cat return a new Series per default)."
   ]
  },
  {
   "cell_type": "code",
   "execution_count": 196,
   "metadata": {
    "run_control": {
     "frozen": false,
     "read_only": false
    }
   },
   "outputs": [
    {
     "data": {
      "text/plain": [
       "0    very good\n",
       "1         good\n",
       "2         good\n",
       "3    very good\n",
       "4    very good\n",
       "5     very bad\n",
       "Name: grade, dtype: category\n",
       "Categories (5, object): [very bad, bad, medium, good, very good]"
      ]
     },
     "execution_count": 196,
     "metadata": {},
     "output_type": "execute_result"
    }
   ],
   "source": [
    "df[\"grade\"].cat.categories = [\"very good\", \"good\", \"very bad\"]\n",
    "df[\"grade\"] = df[\"grade\"].cat.set_categories([\"very bad\", \"bad\", \"medium\", \"good\", \"very good\"])\n",
    "df[\"grade\"]"
   ]
  },
  {
   "cell_type": "code",
   "execution_count": 197,
   "metadata": {
    "collapsed": true,
    "run_control": {
     "frozen": false,
     "read_only": false
    }
   },
   "outputs": [],
   "source": [
    "# Sorting is per order in the categories, not lexical order.\n",
    "# df.sort_values(by=\"grade\")"
   ]
  },
  {
   "cell_type": "code",
   "execution_count": 198,
   "metadata": {
    "collapsed": true,
    "run_control": {
     "frozen": false,
     "read_only": false
    }
   },
   "outputs": [],
   "source": [
    "# Grouping by a categorical column shows also empty categories.\n",
    "# df.groupby(\"grade\").size()"
   ]
  },
  {
   "cell_type": "markdown",
   "metadata": {
    "run_control": {
     "frozen": false,
     "read_only": false
    }
   },
   "source": [
    "## Pivot tables\n",
    "See the section on [Pivot Tables](http://pandas.pydata.org/pandas-docs/version/0.15.2/reshaping.html#reshaping-pivot)."
   ]
  },
  {
   "cell_type": "code",
   "execution_count": 199,
   "metadata": {
    "run_control": {
     "frozen": false,
     "read_only": false
    }
   },
   "outputs": [
    {
     "data": {
      "text/html": [
       "<div>\n",
       "<table border=\"1\" class=\"dataframe\">\n",
       "  <thead>\n",
       "    <tr style=\"text-align: right;\">\n",
       "      <th></th>\n",
       "      <th>A</th>\n",
       "      <th>B</th>\n",
       "      <th>C</th>\n",
       "      <th>D</th>\n",
       "      <th>E</th>\n",
       "    </tr>\n",
       "  </thead>\n",
       "  <tbody>\n",
       "    <tr>\n",
       "      <th>0</th>\n",
       "      <td>one</td>\n",
       "      <td>A</td>\n",
       "      <td>foo</td>\n",
       "      <td>-0.220359</td>\n",
       "      <td>-1.003660</td>\n",
       "    </tr>\n",
       "    <tr>\n",
       "      <th>1</th>\n",
       "      <td>one</td>\n",
       "      <td>B</td>\n",
       "      <td>foo</td>\n",
       "      <td>-0.261223</td>\n",
       "      <td>0.001982</td>\n",
       "    </tr>\n",
       "    <tr>\n",
       "      <th>2</th>\n",
       "      <td>two</td>\n",
       "      <td>C</td>\n",
       "      <td>foo</td>\n",
       "      <td>-0.115410</td>\n",
       "      <td>0.444757</td>\n",
       "    </tr>\n",
       "    <tr>\n",
       "      <th>3</th>\n",
       "      <td>three</td>\n",
       "      <td>A</td>\n",
       "      <td>bar</td>\n",
       "      <td>1.159363</td>\n",
       "      <td>-0.067795</td>\n",
       "    </tr>\n",
       "    <tr>\n",
       "      <th>4</th>\n",
       "      <td>one</td>\n",
       "      <td>B</td>\n",
       "      <td>bar</td>\n",
       "      <td>1.448061</td>\n",
       "      <td>-1.540093</td>\n",
       "    </tr>\n",
       "    <tr>\n",
       "      <th>...</th>\n",
       "      <td>...</td>\n",
       "      <td>...</td>\n",
       "      <td>...</td>\n",
       "      <td>...</td>\n",
       "      <td>...</td>\n",
       "    </tr>\n",
       "    <tr>\n",
       "      <th>7</th>\n",
       "      <td>three</td>\n",
       "      <td>B</td>\n",
       "      <td>foo</td>\n",
       "      <td>-0.163161</td>\n",
       "      <td>0.268626</td>\n",
       "    </tr>\n",
       "    <tr>\n",
       "      <th>8</th>\n",
       "      <td>one</td>\n",
       "      <td>C</td>\n",
       "      <td>foo</td>\n",
       "      <td>-0.546919</td>\n",
       "      <td>0.368655</td>\n",
       "    </tr>\n",
       "    <tr>\n",
       "      <th>9</th>\n",
       "      <td>one</td>\n",
       "      <td>A</td>\n",
       "      <td>bar</td>\n",
       "      <td>-1.380280</td>\n",
       "      <td>1.166945</td>\n",
       "    </tr>\n",
       "    <tr>\n",
       "      <th>10</th>\n",
       "      <td>two</td>\n",
       "      <td>B</td>\n",
       "      <td>bar</td>\n",
       "      <td>-0.077646</td>\n",
       "      <td>0.684082</td>\n",
       "    </tr>\n",
       "    <tr>\n",
       "      <th>11</th>\n",
       "      <td>three</td>\n",
       "      <td>C</td>\n",
       "      <td>bar</td>\n",
       "      <td>-0.720456</td>\n",
       "      <td>0.226406</td>\n",
       "    </tr>\n",
       "  </tbody>\n",
       "</table>\n",
       "<p>12 rows × 5 columns</p>\n",
       "</div>"
      ],
      "text/plain": [
       "        A  B    C         D         E\n",
       "0     one  A  foo -0.220359 -1.003660\n",
       "1     one  B  foo -0.261223  0.001982\n",
       "2     two  C  foo -0.115410  0.444757\n",
       "3   three  A  bar  1.159363 -0.067795\n",
       "4     one  B  bar  1.448061 -1.540093\n",
       "..    ... ..  ...       ...       ...\n",
       "7   three  B  foo -0.163161  0.268626\n",
       "8     one  C  foo -0.546919  0.368655\n",
       "9     one  A  bar -1.380280  1.166945\n",
       "10    two  B  bar -0.077646  0.684082\n",
       "11  three  C  bar -0.720456  0.226406\n",
       "\n",
       "[12 rows x 5 columns]"
      ]
     },
     "execution_count": 199,
     "metadata": {},
     "output_type": "execute_result"
    }
   ],
   "source": [
    "df = pd.DataFrame({'A' : ['one', 'one', 'two', 'three'] * 3,\n",
    "                   'B' : ['A', 'B', 'C'] * 4,\n",
    "                   'C' : ['foo', 'foo', 'foo', 'bar', 'bar', 'bar'] * 2,\n",
    "                   'D' : np.random.randn(12),\n",
    "                   'E' : np.random.randn(12)})\n",
    "df"
   ]
  },
  {
   "cell_type": "code",
   "execution_count": 200,
   "metadata": {
    "run_control": {
     "frozen": false,
     "read_only": false
    }
   },
   "outputs": [
    {
     "data": {
      "text/html": [
       "<div>\n",
       "<table border=\"1\" class=\"dataframe\">\n",
       "  <thead>\n",
       "    <tr style=\"text-align: right;\">\n",
       "      <th></th>\n",
       "      <th>C</th>\n",
       "      <th>bar</th>\n",
       "      <th>foo</th>\n",
       "    </tr>\n",
       "    <tr>\n",
       "      <th>A</th>\n",
       "      <th>B</th>\n",
       "      <th></th>\n",
       "      <th></th>\n",
       "    </tr>\n",
       "  </thead>\n",
       "  <tbody>\n",
       "    <tr>\n",
       "      <th rowspan=\"3\" valign=\"top\">one</th>\n",
       "      <th>A</th>\n",
       "      <td>-1.380280</td>\n",
       "      <td>-0.220359</td>\n",
       "    </tr>\n",
       "    <tr>\n",
       "      <th>B</th>\n",
       "      <td>1.448061</td>\n",
       "      <td>-0.261223</td>\n",
       "    </tr>\n",
       "    <tr>\n",
       "      <th>C</th>\n",
       "      <td>-0.755991</td>\n",
       "      <td>-0.546919</td>\n",
       "    </tr>\n",
       "    <tr>\n",
       "      <th rowspan=\"3\" valign=\"top\">three</th>\n",
       "      <th>A</th>\n",
       "      <td>1.159363</td>\n",
       "      <td>NaN</td>\n",
       "    </tr>\n",
       "    <tr>\n",
       "      <th>B</th>\n",
       "      <td>NaN</td>\n",
       "      <td>-0.163161</td>\n",
       "    </tr>\n",
       "    <tr>\n",
       "      <th>C</th>\n",
       "      <td>-0.720456</td>\n",
       "      <td>NaN</td>\n",
       "    </tr>\n",
       "    <tr>\n",
       "      <th rowspan=\"3\" valign=\"top\">two</th>\n",
       "      <th>A</th>\n",
       "      <td>NaN</td>\n",
       "      <td>-0.176365</td>\n",
       "    </tr>\n",
       "    <tr>\n",
       "      <th>B</th>\n",
       "      <td>-0.077646</td>\n",
       "      <td>NaN</td>\n",
       "    </tr>\n",
       "    <tr>\n",
       "      <th>C</th>\n",
       "      <td>NaN</td>\n",
       "      <td>-0.115410</td>\n",
       "    </tr>\n",
       "  </tbody>\n",
       "</table>\n",
       "</div>"
      ],
      "text/plain": [
       "C             bar       foo\n",
       "A     B                    \n",
       "one   A -1.380280 -0.220359\n",
       "      B  1.448061 -0.261223\n",
       "      C -0.755991 -0.546919\n",
       "three A  1.159363       NaN\n",
       "      B       NaN -0.163161\n",
       "      C -0.720456       NaN\n",
       "two   A       NaN -0.176365\n",
       "      B -0.077646       NaN\n",
       "      C       NaN -0.115410"
      ]
     },
     "execution_count": 200,
     "metadata": {},
     "output_type": "execute_result"
    }
   ],
   "source": [
    "pd.pivot_table(df, values='D', index=['A', 'B'], columns=['C'])\n"
   ]
  },
  {
   "cell_type": "markdown",
   "metadata": {
    "run_control": {
     "frozen": false,
     "read_only": false
    }
   },
   "source": [
    "Reconstruct the sampled presented in the pages at [Pandas Pivot Table Explained ](http://pbpython.com/pandas-pivot-table-explained.html) and [Generating Excel Reports from a Pandas Pivot Table ](http://pbpython.com/pandas-pivot-report.html).  \n",
    "\n",
    "First load the data and set the Status column as a pandas `category` and set the viewing order. Set the `Name` as table index."
   ]
  },
  {
   "cell_type": "code",
   "execution_count": 201,
   "metadata": {
    "run_control": {
     "frozen": false,
     "read_only": false
    }
   },
   "outputs": [
    {
     "name": "stdout",
     "output_type": "stream",
     "text": [
      "   Account                          Name           Rep       Manager      Product  Quantity  Price     Status\n",
      "0   714466               Trantow-Barrows  Craig Booker  Debra Henley          CPU         1  30000  presented\n",
      "1   714466               Trantow-Barrows  Craig Booker  Debra Henley     Software         1  10000  presented\n",
      "2   714466               Trantow-Barrows  Craig Booker  Debra Henley  Maintenance         2   5000    pending\n",
      "3   737550  Fritsch, Russel and Anderson  Craig Booker  Debra Henley          CPU         1  35000   declined\n",
      "                              Account  Price  Quantity\n",
      "Name                                                  \n",
      "Barton LLC                     740150  35000  1.000000\n",
      "Fritsch, Russel and Anderson   737550  35000  1.000000\n",
      "Herman LLC                     141962  65000  2.000000\n",
      "Jerde-Hilpert                  412290   5000  2.000000\n",
      "Kassulke, Ondricka and Metz    307599   7000  3.000000\n",
      "...                               ...    ...       ...\n",
      "Koepp Ltd                      729833  35000  2.000000\n",
      "Kulas Inc                      218895  25000  1.500000\n",
      "Purdy-Kunde                    163416  30000  1.000000\n",
      "Stokes LLC                     239344   7500  1.000000\n",
      "Trantow-Barrows                714466  15000  1.333333\n",
      "\n",
      "[12 rows x 3 columns]\n"
     ]
    }
   ],
   "source": [
    "df = pd.read_excel(\"./data/sales-funnel.xlsx\")\n",
    "df[\"Status\"] = df[\"Status\"].astype(\"category\")\n",
    "df[\"Status\"].cat.set_categories([\"won\",\"pending\",\"presented\",\"declined\"],inplace=True)\n",
    "print(df.head(4))\n",
    "\n",
    "print(pd.pivot_table(df,index=[\"Name\"]))\n"
   ]
  },
  {
   "cell_type": "markdown",
   "metadata": {
    "run_control": {
     "frozen": false,
     "read_only": false
    }
   },
   "source": [
    "### Itertools and pivot_table"
   ]
  },
  {
   "cell_type": "markdown",
   "metadata": {
    "run_control": {
     "frozen": false,
     "read_only": false
    }
   },
   "source": [
    "http://stackoverflow.com/questions/16994485/ensuring-the-cartesian-product-of-keys-appears-in-a-pandas-table"
   ]
  },
  {
   "cell_type": "code",
   "execution_count": 24,
   "metadata": {
    "run_control": {
     "frozen": false,
     "read_only": false
    }
   },
   "outputs": [
    {
     "name": "stdout",
     "output_type": "stream",
     "text": [
      "   combo   fruit      veg\n",
      "0  tasty   apple   carrot\n",
      "1  yucky  banana   carrot\n",
      "2  tasty  banana  lettuce\n",
      "3  yucky   lemon  lettuce\n",
      "MultiIndex(levels=[[u'apple', u'banana', u'lemon'], [u'carrot', u'lettuce']],\n",
      "           labels=[[0, 0, 1, 1, 2, 2], [0, 1, 0, 1, 0, 1]],\n",
      "           names=[u'fruit', u'veg'])\n",
      "                combo\n",
      "fruit  veg           \n",
      "apple  carrot   tasty\n",
      "banana carrot   yucky\n",
      "       lettuce  tasty\n",
      "lemon  lettuce  yucky\n",
      "                combo\n",
      "fruit  veg           \n",
      "apple  carrot   tasty\n",
      "banana carrot   yucky\n",
      "       lettuce  tasty\n",
      "lemon  lettuce  yucky\n",
      "MultiIndex(levels=[[u'apple', u'banana', u'lemon'], [u'carrot', u'lettuce']],\n",
      "           labels=[[0, 0, 1, 1, 2, 2], [0, 1, 0, 1, 0, 1]],\n",
      "           names=[u'fruit', u'veg'])\n",
      "                combo\n",
      "fruit  veg           \n",
      "apple  carrot   tasty\n",
      "banana carrot   yucky\n",
      "       lettuce  tasty\n",
      "lemon  lettuce  yucky\n"
     ]
    }
   ],
   "source": [
    "import pandas as pd\n",
    "import numpy as np\n",
    "from itertools import product\n",
    "\n",
    "df=pd.DataFrame(dict(fruit=['apple','banana','banana','lemon'],\n",
    "                     veg=['carrot','carrot','lettuce','lettuce'],\n",
    "                     combo=['tasty','yucky','tasty','yucky']))\n",
    "print(df, end='\\n')\n",
    "\n",
    "fruit_x_veg = list(product(np.unique(df['fruit']), np.unique(df['veg'])))\n",
    "fruit_x_veg = pd.MultiIndex.from_tuples(fruit_x_veg, names=['fruit', 'veg'])\n",
    "print(fruit_x_veg)\n",
    "df1 = df.set_index(['fruit', 'veg'])\n",
    "print(df1, end='\\n')\n",
    "\n",
    "df1.reindex(fruit_x_veg, fill_value='UNKNOWN')\n",
    "print(df1)\n",
    "\n",
    "\n",
    "p = pd.MultiIndex.from_product(df1.index.levels, names=df1.index.names)\n",
    "print(p)\n",
    "\n",
    "df1.reindex(p, fill_value='UNKNOWN')\n",
    "\n",
    "print(df1)"
   ]
  },
  {
   "cell_type": "code",
   "execution_count": 25,
   "metadata": {
    "run_control": {
     "frozen": false,
     "read_only": false
    }
   },
   "outputs": [
    {
     "name": "stdout",
     "output_type": "stream",
     "text": [
      "kTC noise in electrons:\n",
      "temp           300        400\n",
      "gv                           \n",
      "0.00005  22.738510  26.256169\n",
      "0.00010  16.078554  18.565915\n",
      "0.00015  13.128085  15.159006\n"
     ]
    }
   ],
   "source": [
    "import itertools\n",
    "import scipy.constants as const\n",
    "\n",
    "def kTCnoiseGv(temptr, gv):\n",
    "    return np.sqrt(const.k * temptr / (const.e * gv))\n",
    "\n",
    "gvs = [50e-6, 100e-6, 150e-6]\n",
    "temps = [300, 400]\n",
    "grid = itertools.product(gvs, temps)\n",
    "df = pd.DataFrame()\n",
    "for (gv,temp) in list(grid):\n",
    "    df = df.append(pd.DataFrame({'gv':[gv],'temp':[temp]}),ignore_index=True)\n",
    "df['nc'] = kTCnoiseGv(df.temp, df.gv)\n",
    "print('kTC noise in electrons:')\n",
    "print(df.pivot_table(values='nc',index=['gv'],columns=['temp']))\n"
   ]
  },
  {
   "cell_type": "markdown",
   "metadata": {
    "run_control": {
     "frozen": false,
     "read_only": false
    }
   },
   "source": [
    "## Comparing and Gotchas\n"
   ]
  },
  {
   "cell_type": "markdown",
   "metadata": {
    "run_control": {
     "frozen": false,
     "read_only": false
    }
   },
   "source": [
    "<http://pandas.pydata.org/pandas-docs/version/0.15.2/basics.html#basics-compare>  \n",
    "<http://pandas.pydata.org/pandas-docs/version/0.15.2/basics.html#boolean-reductions>   \n",
    "\n",
    "pandas follows the numpy convention of raising an error when you try to convert something to a bool. This happens in a if or when using the boolean operations, and, or, or not.  \n",
    "<http://pandas.pydata.org/pandas-docs/version/0.15.2/gotchas.html#gotchas>\n"
   ]
  },
  {
   "cell_type": "markdown",
   "metadata": {
    "run_control": {
     "frozen": false,
     "read_only": false
    }
   },
   "source": [
    "# Date and time"
   ]
  },
  {
   "cell_type": "code",
   "execution_count": 181,
   "metadata": {
    "collapsed": true,
    "run_control": {
     "frozen": false,
     "read_only": false
    }
   },
   "outputs": [],
   "source": [
    "# print('0')\n",
    "# TMY = pd.DataFrame([0,1],index=['1981-01-01T10:00:00.000000000+0200', '1981-01-01T11:00:00.000000000+0200'])\n",
    "# print(TMY)\n",
    "# print('1')\n",
    "# print(type(TMY.index.to_datetime().values))\n",
    "# print(TMY.index.to_datetime().values)\n",
    "# print('2')\n",
    "# print(type(TMY.index.astype(np.int64)))\n",
    "# print(TMY.index.astype(np.int64) // 10**9)  #timestamp is unix time with nanoseconds\n",
    "# print('3')\n",
    "# print(type(pd.to_datetime(TMY.index.astype(np.int64))))\n",
    "# print(pd.to_datetime(TMY.index.astype(np.int64)))  #timestamp is unix time with nanoseconds\n"
   ]
  },
  {
   "cell_type": "markdown",
   "metadata": {
    "run_control": {
     "frozen": false,
     "read_only": false
    }
   },
   "source": [
    "# LaTeX\n",
    "\n",
    "A DataFrame can be rendered to a `<IPython.core.display.Latex object>`, using [`to_latex()'](http://pandas.pydata.org/pandas-docs/stable/generated/pandas.DataFrame.to_latex.html). This object is shown as text in the output cell, but can be rendered as raw  LaTeX by a capable converter such as [ipynb2tex](https://github.com/NelisW/ipynb2tex)"
   ]
  },
  {
   "cell_type": "code",
   "execution_count": 15,
   "metadata": {
    "run_control": {
     "frozen": false,
     "read_only": false
    }
   },
   "outputs": [
    {
     "data": {
      "text/latex": [
       "\\begin{tabular}{lrrrr}\n",
       "\\toprule\n",
       "{} &         A &         B &         C &         D \\\\\n",
       "\\midrule\n",
       "2013-01-01 &  0.820225 & -0.110274 &  0.129246 &  0.327655 \\\\\n",
       "2013-01-02 &  0.283496 &  0.216857 & -1.672348 & -0.168032 \\\\\n",
       "2013-01-03 &  2.635180 &  0.686259 & -1.679848 &  0.453566 \\\\\n",
       "2013-01-04 & -0.176327 & -1.266844 &  1.325122 &  0.749976 \\\\\n",
       "2013-01-05 & -0.220634 & -1.115390 &  0.028647 & -0.199695 \\\\\n",
       "2013-01-06 & -0.185052 &  1.061008 & -0.990861 & -0.789989 \\\\\n",
       "\\bottomrule\n",
       "\\end{tabular}\n"
      ],
      "text/plain": [
       "<IPython.core.display.Latex object>"
      ]
     },
     "execution_count": 15,
     "metadata": {},
     "output_type": "execute_result"
    }
   ],
   "source": [
    "df = makeDateRand(nrows=6, ncols=4)\n",
    "lstr = df.to_latex()\n",
    "from IPython.display import Latex\n",
    "Latex(lstr)"
   ]
  },
  {
   "cell_type": "markdown",
   "metadata": {
    "run_control": {
     "frozen": false,
     "read_only": false
    }
   },
   "source": [
    "## Python and [module versions, and dates](http://nbviewer.ipython.org/github/jrjohansson/scientific-python-lectures/blob/master/Lecture-0-Scientific-Computing-with-Python.ipynb)"
   ]
  },
  {
   "cell_type": "code",
   "execution_count": 182,
   "metadata": {
    "run_control": {
     "frozen": false,
     "read_only": false
    }
   },
   "outputs": [
    {
     "name": "stdout",
     "output_type": "stream",
     "text": [
      "The version_information extension is already loaded. To reload it, use:\n",
      "  %reload_ext version_information\n"
     ]
    },
    {
     "data": {
      "application/json": {
       "Software versions": [
        {
         "module": "Python",
         "version": "2.7.10 64bit [MSC v.1500 64 bit (AMD64)]"
        },
        {
         "module": "IPython",
         "version": "4.0.0"
        },
        {
         "module": "OS",
         "version": "Windows 7 6.1.7601 SP1"
        },
        {
         "module": "pandas",
         "version": "0.17.0"
        },
        {
         "module": "numpy",
         "version": "1.10.1"
        },
        {
         "module": "scipy",
         "version": "0.16.0"
        },
        {
         "module": "matplotlib",
         "version": "1.4.3"
        },
        {
         "module": "pyradi",
         "version": "0.2.1"
        }
       ]
      },
      "text/html": [
       "<table><tr><th>Software</th><th>Version</th></tr><tr><td>Python</td><td>2.7.10 64bit [MSC v.1500 64 bit (AMD64)]</td></tr><tr><td>IPython</td><td>4.0.0</td></tr><tr><td>OS</td><td>Windows 7 6.1.7601 SP1</td></tr><tr><td>pandas</td><td>0.17.0</td></tr><tr><td>numpy</td><td>1.10.1</td></tr><tr><td>scipy</td><td>0.16.0</td></tr><tr><td>matplotlib</td><td>1.4.3</td></tr><tr><td>pyradi</td><td>0.2.1</td></tr><tr><td colspan='2'>Fri Nov 27 08:14:52 2015 South Africa Standard Time</td></tr></table>"
      ],
      "text/latex": [
       "\\begin{tabular}{|l|l|}\\hline\n",
       "{\\bf Software} & {\\bf Version} \\\\ \\hline\\hline\n",
       "Python & 2.7.10 64bit [MSC v.1500 64 bit (AMD64)] \\\\ \\hline\n",
       "IPython & 4.0.0 \\\\ \\hline\n",
       "OS & Windows 7 6.1.7601 SP1 \\\\ \\hline\n",
       "pandas & 0.17.0 \\\\ \\hline\n",
       "numpy & 1.10.1 \\\\ \\hline\n",
       "scipy & 0.16.0 \\\\ \\hline\n",
       "matplotlib & 1.4.3 \\\\ \\hline\n",
       "pyradi & 0.2.1 \\\\ \\hline\n",
       "\\hline \\multicolumn{2}{|l|}{Fri Nov 27 08:14:52 2015 South Africa Standard Time} \\\\ \\hline\n",
       "\\end{tabular}\n"
      ],
      "text/plain": [
       "Software versions\n",
       "Python 2.7.10 64bit [MSC v.1500 64 bit (AMD64)]\n",
       "IPython 4.0.0\n",
       "OS Windows 7 6.1.7601 SP1\n",
       "pandas 0.17.0\n",
       "numpy 1.10.1\n",
       "scipy 0.16.0\n",
       "matplotlib 1.4.3\n",
       "pyradi 0.2.1\n",
       "Fri Nov 27 08:14:52 2015 South Africa Standard Time"
      ]
     },
     "execution_count": 182,
     "metadata": {},
     "output_type": "execute_result"
    }
   ],
   "source": [
    "%load_ext version_information\n",
    "%version_information pandas, numpy, scipy, matplotlib, pyradi"
   ]
  },
  {
   "cell_type": "code",
   "execution_count": null,
   "metadata": {
    "collapsed": true,
    "run_control": {
     "frozen": false,
     "read_only": false
    }
   },
   "outputs": [],
   "source": []
  }
 ],
 "metadata": {
  "anaconda-cloud": {},
  "kernelspec": {
   "display_name": "Python 2",
   "language": "python",
   "name": "python2"
  },
  "language_info": {
   "codemirror_mode": {
    "name": "ipython",
    "version": 2
   },
   "file_extension": ".py",
   "mimetype": "text/x-python",
   "name": "python",
   "nbconvert_exporter": "python",
   "pygments_lexer": "ipython2",
   "version": "2.7.13"
  }
 },
 "nbformat": 4,
 "nbformat_minor": 1
}
