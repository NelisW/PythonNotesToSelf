{
 "cells": [
  {
   "cell_type": "markdown",
   "metadata": {},
   "source": [
    "#Pandas Cheat Sheet"
   ]
  },
  {
   "cell_type": "markdown",
   "metadata": {},
   "source": [
    "References:  \n",
    "<http://pandas.pydata.org/pandas-docs/stable/basics.html>  \n",
    "<http://pandas.pydata.org/pandas-docs/version/0.15.2/10min.html>    \n",
    "<http://synesthesiam.com/posts/an-introduction-to-pandas.html>  \n",
    "<http://pbpython.com/excel-pandas-comp.html>  \n",
    "<http://pbpython.com/excel-pandas-comp-2.html>  \n",
    "<http://pbpython.com/improve-pandas-excel-output.html>  \n",
    "\n",
    "<http://pbpython.com/pandas-pivot-table-explained.html.\n",
    "<http://pbpython.com/pandas-pivot-report.html>\n",
    "\n",
    "<http://pandas.pydata.org/pandas-docs/stable/cookbook.html#cookbook-multi-index>  \n",
    "\n",
    "<http://www.bigdataexaminer.com/14-best-python-pandas-features/>  \n",
    "<http://pandas.pydata.org/pandas-docs/stable/reshaping.html#reshaping>  \n",
    "<https://iqbalnaved.wordpress.com/2013/08/26/python-pandas-hacks/>   \n",
    "\n",
    "<https://plot.ly/ipython-notebooks/big-data-analytics-with-pandas-and-sqlite/>  \n",
    "<http://www.analyticsvidhya.com/blog/2015/04/comprehensive-guide-data-exploration-sas-using-python-numpy-scipy-matplotlib-pandas/>  \n",
    "\n",
    "<http://manishamde.github.io/blog/2013/03/07/pandas-and-python-top-10/>  \n",
    "<http://www.gregreda.com/2013/10/26/intro-to-pandas-data-structures/>  \n"
   ]
  },
  {
   "cell_type": "code",
   "execution_count": 23,
   "metadata": {
    "collapsed": true
   },
   "outputs": [],
   "source": [
    "import numpy as np\n",
    "import pandas as pd\n",
    "\n",
    "import datetime"
   ]
  },
  {
   "cell_type": "markdown",
   "metadata": {},
   "source": [
    "<https://s3.amazonaws.com/quandl-static-content/Documents/Quandl+-+Pandas,+SciPy,+NumPy+Cheat+Sheet.pdf>   \n",
    "\n",
    "|Create pandas data structures| |\n",
    "|--|--|\n",
    "|s = Series(data, index) |Create a Series.|\n",
    "|df = DataFrame (data, index, columns) |Create a Dataframe.|\n",
    "|p = Panel(data, items, major_axis, minor_axis)|Create a Panel.|\n",
    "\n",
    "\n",
    "|\tDataFrame Commands\t|\t\t|\n",
    "|--|--|\n",
    "|\tdf[col]\t|\tSelect column.\t|\n",
    "|\tdf.iloc[label]\t|\tSelect row by label.\t|\n",
    "|\tdf.index\t|\tReturn DataFrame index.\t|\n",
    "|\tdf.drop()\t|\tDelete given row or column. Pass axis=1 for columns.\t|\n",
    "|\tdf1 = df1.reindex_like(df1,df2)\t|\tReindex df1 with index of df2.\t|\n",
    "|\tdf.reset_index()\t|\tReset index, putting old index in column named index.\t|\n",
    "|\tdf.reindex()\t|\tChange DataFrame index, new indecies set to NaN.\t|\n",
    "|\tdf.head(n)\t|\tShow first n rows.\t|\n",
    "|\tdf.tail(n)\t|\tShow last n rows.\t|\n",
    "|\tdf.sort()\t|\tSort index.\t|\n",
    "|\tdf.sort(axis=1)\t|\tSort columns.\t|\n",
    "|\tdf.pivot(index,column,values)\t|\tPivot DataFrame, using new conditions.\t|\n",
    "|\tdf.T\t|\tTranspose DataFrame.\t|\n",
    "|\tdf.stack()\t|\tChange lowest level of column labels into innermost row index.\t|\n",
    "|\tdf.unstack()\t|\tChange innermost row index into lowest level of column labels.\t|\n",
    "|\tdf.applymap()\t|\tApply function to every element in DataFrame.\t|\n",
    "|\tdf.apply()\t|\tApply function along a given axis\t|\n",
    "|\tdf.dropna()\t|\tDrops rows where any data is missing.\t|\n",
    "|\tdf.count()\t|\tReturns Series of row counts for every column.\t|\n",
    "|\tdf.min()\t|\tReturn minimum of every column.\t|\n",
    "|\tdf.max()\t|\tReturn maximum of every column.\t|\n",
    "|\tdf.describe()\t|\tGenerate various summary statistics for every column.\t|\n",
    "|\tconcat()\t|\tMerge DataFrame or Series objects\t|\t\n",
    "\n",
    "|\tGroupby\t|\t\t|\n",
    "|--|--|\n",
    "|\tgroupby()\t|\tSplit DataFrame by columns. Creates a GroupBy object (gb).\t|\n",
    "|\tgb.agg()\t|\tApply function (single or list) to a GroupBy object.\t|\n",
    "|\tgb.transform()\t|\tApplies function and returns object with same index as one being grouped.\t|\n",
    "|\tgb.filter()\t|\tFilter GroupBy object by a given function.\t|\n",
    "|\tgb.groups\t|\tReturn dict whose keys are the unique groups, and values are axis labels belonging to each group.\t|\n",
    "\n",
    "|\tI/O\t|\t\t|\n",
    "|--|--|\n",
    "|\tdf.to_csv('foo.csv')\t|\tSave to CSV.\t|\n",
    "|\tread_csv('foo.csv')\t|\tRead CSV into DataFrame.\t|\n",
    "|\tto_excel('foo.xlsx', sheet_name)\t|\tSave to Excel.\t|\n",
    "|\tread_excel('foo.xlsx','sheet1', index_col = None, na_values = ['NA'])\t|\tRead exel into DataFrame\t|\n",
    "\n",
    "\t\n"
   ]
  },
  {
   "cell_type": "markdown",
   "metadata": {},
   "source": [
    "##Set the display width when printing to console\n",
    "\n",
    "There are quite a few options to configure here, if you're using ipython then tab complete to find the [full set](http://pandas.pydata.org/pandas-docs/version/0.15.2/options.html) of display options:\n",
    "\n",
    "    pd.options.display.<tab>\n",
    "\n",
    "<http://stackoverflow.com/questions/21249206/how-to-configure-display-output-in-ipython-pandas>"
   ]
  },
  {
   "cell_type": "code",
   "execution_count": 24,
   "metadata": {
    "collapsed": false
   },
   "outputs": [],
   "source": [
    "#maximum number of rows and columns displayed when a frame is pretty-printed\n",
    "pd.set_option('display.max_columns', 30)\n",
    "pd.set_option('display.max_rows', 10)\n",
    "# Width of the display in characters.\n",
    "pd.set_option('display.width', 150)\n",
    "# The maximum width in characters of a column in the repr of a pandas data structure.              \n",
    "pd.set_option('display.max_colwidth', 150)"
   ]
  },
  {
   "cell_type": "markdown",
   "metadata": {},
   "source": [
    "##Creating/Loading Data"
   ]
  },
  {
   "cell_type": "markdown",
   "metadata": {},
   "source": [
    "###Functions to create different dataframe types"
   ]
  },
  {
   "cell_type": "markdown",
   "metadata": {},
   "source": [
    "An empty DataFrame can be created as follows. Test to see if the DataFrame is empty. In this case it is."
   ]
  },
  {
   "cell_type": "code",
   "execution_count": 25,
   "metadata": {
    "collapsed": false
   },
   "outputs": [
    {
     "name": "stdout",
     "output_type": "stream",
     "text": [
      "Empty DataFrame\n",
      "Columns: [A, B, C]\n",
      "Index: []\n",
      "True\n"
     ]
    }
   ],
   "source": [
    "columns = ['A','B', 'C']\n",
    "df = pd.DataFrame(columns=columns)\n",
    "print(df)\n",
    "print(df.empty)"
   ]
  },
  {
   "cell_type": "markdown",
   "metadata": {},
   "source": [
    "If you add an index, the row contents for the rows specified by the index will be empty (filled with NaN).  However, testing to see if the DataFrame is empty will show that it is not empty: there are rows."
   ]
  },
  {
   "cell_type": "code",
   "execution_count": 26,
   "metadata": {
    "collapsed": false
   },
   "outputs": [
    {
     "name": "stdout",
     "output_type": "stream",
     "text": [
      "              A    B    C\n",
      "2015-06-30  NaN  NaN  NaN\n",
      "2015-07-01  NaN  NaN  NaN\n",
      "2015-07-02  NaN  NaN  NaN\n",
      "False\n",
      "            A  B  C\n",
      "2015-06-30  0  0  0\n",
      "2015-07-01  0  0  0\n",
      "2015-07-02  0  0  0\n"
     ]
    }
   ],
   "source": [
    "todays_date = datetime.datetime.now().date()\n",
    "index = pd.date_range(todays_date-datetime.timedelta(10), periods=3, freq='D')\n",
    "columns = ['A','B', 'C']\n",
    "df = pd.DataFrame(index=index, columns=columns)\n",
    "print(df)\n",
    "print(df.empty)\n",
    "df = df.fillna(0) # with 0s rather than NaNs\n",
    "print(df)"
   ]
  },
  {
   "cell_type": "markdown",
   "metadata": {},
   "source": [
    "###Creating and filling DataFrames"
   ]
  },
  {
   "cell_type": "markdown",
   "metadata": {},
   "source": [
    "The following  functions create pandas dataframes in a variety of ways."
   ]
  },
  {
   "cell_type": "code",
   "execution_count": 27,
   "metadata": {
    "collapsed": true
   },
   "outputs": [],
   "source": [
    "# DataFrame by passing a numpy array, with a datetime index and labeled columns.\n",
    "def makeDateRand(nrows=6, ncols=4):\n",
    "    dates = pd.date_range('20130101',periods=6)\n",
    "    df = pd.DataFrame(np.random.randn(nrows,ncols),index=dates,columns=list('ABCD'))    \n",
    "    return df"
   ]
  },
  {
   "cell_type": "code",
   "execution_count": 28,
   "metadata": {
    "collapsed": true
   },
   "outputs": [],
   "source": [
    "# DataFrame by passing a numpy array, with an int index and labeled columns.\n",
    "def makeRand(nrows=4, ncols=4):\n",
    "    return pd.DataFrame(np.random.randn(nrows, ncols), columns=['A','B','C','D'])"
   ]
  },
  {
   "cell_type": "code",
   "execution_count": 29,
   "metadata": {
    "collapsed": false
   },
   "outputs": [],
   "source": [
    "#create from dictionary\n",
    "def makefoobar():\n",
    "    return  pd.DataFrame({'A' : ['foo', 'bar', 'foo', 'bar','foo', 'bar', 'foo', 'foo'],\n",
    "                          'B' : ['one', 'one', 'two', 'three','two', 'two', 'one', 'three'],\n",
    "                          'C' : np.random.randn(8),\n",
    "                          'D' : np.random.randn(8)})"
   ]
  },
  {
   "cell_type": "code",
   "execution_count": 30,
   "metadata": {
    "collapsed": false
   },
   "outputs": [],
   "source": [
    "#create from dictionary\n",
    "def makegridDF():\n",
    "    return  pd.DataFrame({'A' : [1,2,3],\n",
    "                          'B' : [4,5,6],\n",
    "                          'C' : [7,8,9],\n",
    "                          'D' : [10,11,12]})"
   ]
  },
  {
   "cell_type": "code",
   "execution_count": 31,
   "metadata": {
    "collapsed": false
   },
   "outputs": [],
   "source": [
    "#create from dictionary\n",
    "def makegAlphaDF():\n",
    "    return  pd.DataFrame({'A' : ['0a','1a','2a'],\n",
    "                          'B' : ['0b','1b','2b'],\n",
    "                          'C' : ['0c','1c','2c'],\n",
    "                          'D' : ['0d','1d','2d']})"
   ]
  },
  {
   "cell_type": "code",
   "execution_count": 32,
   "metadata": {
    "collapsed": true
   },
   "outputs": [],
   "source": [
    "#create dataframe from a user-supplied string, using a user-defined regex separator \n",
    "def makeFromString(string, sep='\\s+', header=False):\n",
    "    from StringIO import StringIO\n",
    "    return pd.read_csv(StringIO(string), sep=sep, header=header)\n",
    "#alternative method\n",
    "#     import io\n",
    "#     return pd.read_table(io.BytesIO(content), sep=sep, header=header)"
   ]
  },
  {
   "cell_type": "code",
   "execution_count": 33,
   "metadata": {
    "collapsed": true
   },
   "outputs": [],
   "source": [
    "# DataFrame by passing a dict of objects that can be converted to series-like.\n",
    "# using categorical in column E\n",
    "def makecatedf():\n",
    "    df = pd.DataFrame({'A' : 1.,\n",
    "                       'B' : pd.Timestamp('20130102'),\n",
    "                       'C' : pd.Series(1,index=list(range(4)),dtype='float32'),\n",
    "                       'D' : np.array([3] * 4,dtype='int32'),\n",
    "                       'E' : pd.Categorical([\"test\",\"train\",\"test\",\"train\"]),\n",
    "                       'F' : 'foo',\n",
    "                       'G': ['foox','fooa','foon','fooz']})\n",
    "    return (df)"
   ]
  },
  {
   "cell_type": "code",
   "execution_count": 34,
   "metadata": {
    "collapsed": false
   },
   "outputs": [],
   "source": [
    "#create a dataframe with a NaN\n",
    "def makeNaNdf():\n",
    "    return pd.DataFrame([[1, np.nan], [3, 4], [4,5]], columns=list('AB'))"
   ]
  },
  {
   "cell_type": "code",
   "execution_count": 35,
   "metadata": {
    "collapsed": true
   },
   "outputs": [],
   "source": [
    "#create a DataFrame with hierarchical column index\n",
    "#From http://pandas.pydata.org/pandas-docs/stable/indexing.html#indexing-view-versus-copy\n",
    "def createMultColIdx():\n",
    "    return pd.DataFrame([list('abcd'),\n",
    "                  list('efgh'),\n",
    "                  list('ijkl'),\n",
    "                  list('mnop')],\n",
    "                  columns=pd.MultiIndex.from_product([['one','two'],\n",
    "                      ['first','second']]))"
   ]
  },
  {
   "cell_type": "code",
   "execution_count": 36,
   "metadata": {
    "collapsed": false
   },
   "outputs": [
    {
     "name": "stdout",
     "output_type": "stream",
     "text": [
      "                   A         B         C         D\n",
      "2013-01-01 -0.257747  1.882416 -0.865108 -0.892473\n",
      "2013-01-02 -0.010006  0.766364  2.787611 -0.068185\n",
      "2013-01-03 -0.058180 -0.402305 -0.481123 -1.451116\n",
      "2013-01-04 -0.093505  0.445993 -0.557638  0.371417\n",
      "2013-01-05  1.041981  0.355350 -1.165290 -0.135739\n",
      "2013-01-06 -1.529945  0.092371  0.751263 -0.148109\n"
     ]
    }
   ],
   "source": [
    "print(makeDateRand())"
   ]
  },
  {
   "cell_type": "markdown",
   "metadata": {},
   "source": [
    "Display the data types"
   ]
  },
  {
   "cell_type": "code",
   "execution_count": 37,
   "metadata": {
    "collapsed": false
   },
   "outputs": [
    {
     "name": "stdout",
     "output_type": "stream",
     "text": [
      "A           float64\n",
      "B    datetime64[ns]\n",
      "C           float32\n",
      "D             int32\n",
      "E          category\n",
      "F            object\n",
      "G            object\n",
      "dtype: object\n"
     ]
    },
    {
     "data": {
      "text/html": [
       "<div>\n",
       "<table border=\"1\" class=\"dataframe\">\n",
       "  <thead>\n",
       "    <tr style=\"text-align: right;\">\n",
       "      <th></th>\n",
       "      <th>A</th>\n",
       "      <th>B</th>\n",
       "      <th>C</th>\n",
       "      <th>D</th>\n",
       "      <th>E</th>\n",
       "      <th>F</th>\n",
       "      <th>G</th>\n",
       "    </tr>\n",
       "  </thead>\n",
       "  <tbody>\n",
       "    <tr>\n",
       "      <th>0</th>\n",
       "      <td>1</td>\n",
       "      <td>2013-01-02</td>\n",
       "      <td>1</td>\n",
       "      <td>3</td>\n",
       "      <td>test</td>\n",
       "      <td>foo</td>\n",
       "      <td>foox</td>\n",
       "    </tr>\n",
       "    <tr>\n",
       "      <th>1</th>\n",
       "      <td>1</td>\n",
       "      <td>2013-01-02</td>\n",
       "      <td>1</td>\n",
       "      <td>3</td>\n",
       "      <td>train</td>\n",
       "      <td>foo</td>\n",
       "      <td>fooa</td>\n",
       "    </tr>\n",
       "    <tr>\n",
       "      <th>2</th>\n",
       "      <td>1</td>\n",
       "      <td>2013-01-02</td>\n",
       "      <td>1</td>\n",
       "      <td>3</td>\n",
       "      <td>test</td>\n",
       "      <td>foo</td>\n",
       "      <td>foon</td>\n",
       "    </tr>\n",
       "    <tr>\n",
       "      <th>3</th>\n",
       "      <td>1</td>\n",
       "      <td>2013-01-02</td>\n",
       "      <td>1</td>\n",
       "      <td>3</td>\n",
       "      <td>train</td>\n",
       "      <td>foo</td>\n",
       "      <td>fooz</td>\n",
       "    </tr>\n",
       "  </tbody>\n",
       "</table>\n",
       "</div>"
      ],
      "text/plain": [
       "   A          B  C  D      E    F     G\n",
       "0  1 2013-01-02  1  3   test  foo  foox\n",
       "1  1 2013-01-02  1  3  train  foo  fooa\n",
       "2  1 2013-01-02  1  3   test  foo  foon\n",
       "3  1 2013-01-02  1  3  train  foo  fooz"
      ]
     },
     "execution_count": 37,
     "metadata": {},
     "output_type": "execute_result"
    }
   ],
   "source": [
    "df2 = makecatedf()\n",
    "print(df2.dtypes)\n",
    "df2"
   ]
  },
  {
   "cell_type": "code",
   "execution_count": 38,
   "metadata": {
    "collapsed": false
   },
   "outputs": [
    {
     "data": {
      "text/html": [
       "<div>\n",
       "<table border=\"1\" class=\"dataframe\">\n",
       "  <thead>\n",
       "    <tr style=\"text-align: right;\">\n",
       "      <th></th>\n",
       "      <th>Time</th>\n",
       "      <th>A_x</th>\n",
       "      <th>A_y</th>\n",
       "      <th>A_z</th>\n",
       "      <th>B_x</th>\n",
       "      <th>B_y</th>\n",
       "      <th>B_z</th>\n",
       "    </tr>\n",
       "  </thead>\n",
       "  <tbody>\n",
       "    <tr>\n",
       "      <th>0</th>\n",
       "      <td>-0.075509</td>\n",
       "      <td>-0.123527</td>\n",
       "      <td>-0.547239</td>\n",
       "      <td>-0.453707</td>\n",
       "      <td>-0.969796</td>\n",
       "      <td>0.248761</td>\n",
       "      <td>1.369613</td>\n",
       "    </tr>\n",
       "    <tr>\n",
       "      <th>1</th>\n",
       "      <td>-0.133580</td>\n",
       "      <td>-0.308314</td>\n",
       "      <td>-0.839347</td>\n",
       "      <td>-0.517989</td>\n",
       "      <td>0.652120</td>\n",
       "      <td>0.477232</td>\n",
       "      <td>-0.391767</td>\n",
       "    </tr>\n",
       "    <tr>\n",
       "      <th>2</th>\n",
       "      <td>0.623841</td>\n",
       "      <td>0.473552</td>\n",
       "      <td>0.059428</td>\n",
       "      <td>0.726088</td>\n",
       "      <td>-0.593291</td>\n",
       "      <td>-3.186297</td>\n",
       "      <td>-0.846863</td>\n",
       "    </tr>\n",
       "  </tbody>\n",
       "</table>\n",
       "</div>"
      ],
      "text/plain": [
       "       Time       A_x       A_y       A_z       B_x       B_y       B_z\n",
       "0 -0.075509 -0.123527 -0.547239 -0.453707 -0.969796  0.248761  1.369613\n",
       "1 -0.133580 -0.308314 -0.839347 -0.517989  0.652120  0.477232 -0.391767\n",
       "2  0.623841  0.473552  0.059428  0.726088 -0.593291 -3.186297 -0.846863"
      ]
     },
     "execution_count": 38,
     "metadata": {},
     "output_type": "execute_result"
    }
   ],
   "source": [
    "content = '''\n",
    "Time       A_x       A_y       A_z       B_x       B_y       B_z\n",
    "-0.075509 -0.123527 -0.547239 -0.453707 -0.969796  0.248761  1.369613\n",
    "-0.133580 -0.308314 -0.839347 -0.517989  0.652120  0.477232 -0.391767\n",
    " 0.623841  0.473552  0.059428  0.726088 -0.593291 -3.186297 -0.846863'''\n",
    "\n",
    "makeFromString(content)"
   ]
  },
  {
   "cell_type": "markdown",
   "metadata": {},
   "source": [
    "If you're using IPython, tab completion for column names (as well as public attributes) is automatically enabled:  \n",
    "    `df2.<Tab>`"
   ]
  },
  {
   "cell_type": "markdown",
   "metadata": {},
   "source": [
    "##Display two tables side-by-side"
   ]
  },
  {
   "cell_type": "markdown",
   "metadata": {},
   "source": [
    "<https://gist.github.com/stefanv/6416926>  "
   ]
  },
  {
   "cell_type": "code",
   "execution_count": 39,
   "metadata": {
    "collapsed": true
   },
   "outputs": [],
   "source": [
    "class side_by_side():\n",
    "    def __init__(self, *frames):\n",
    "        self.frames = frames\n",
    "\n",
    "    def _repr_html_(self):\n",
    "        width = 100. / len(self.frames)\n",
    "\n",
    "        s = \"\"\n",
    "        for f in self.frames:\n",
    "            s += \"<div style='float: left;'>%s</div>\" % f._repr_html_()\n",
    "\n",
    "        return s"
   ]
  },
  {
   "cell_type": "code",
   "execution_count": 40,
   "metadata": {
    "collapsed": false
   },
   "outputs": [
    {
     "data": {
      "text/html": [
       "<div style='float: left;'><div>\n",
       "<table border=\"1\" class=\"dataframe\">\n",
       "  <thead>\n",
       "    <tr style=\"text-align: right;\">\n",
       "      <th></th>\n",
       "      <th>A</th>\n",
       "      <th>B</th>\n",
       "      <th>C</th>\n",
       "      <th>D</th>\n",
       "    </tr>\n",
       "  </thead>\n",
       "  <tbody>\n",
       "    <tr>\n",
       "      <th>2013-01-01</th>\n",
       "      <td>-1.516890</td>\n",
       "      <td>0.021219</td>\n",
       "      <td>1.201330</td>\n",
       "      <td>2.145407</td>\n",
       "    </tr>\n",
       "    <tr>\n",
       "      <th>2013-01-02</th>\n",
       "      <td>0.982826</td>\n",
       "      <td>0.544687</td>\n",
       "      <td>-0.156427</td>\n",
       "      <td>-1.332253</td>\n",
       "    </tr>\n",
       "    <tr>\n",
       "      <th>2013-01-03</th>\n",
       "      <td>-1.026995</td>\n",
       "      <td>0.546285</td>\n",
       "      <td>1.093837</td>\n",
       "      <td>-1.519708</td>\n",
       "    </tr>\n",
       "    <tr>\n",
       "      <th>2013-01-04</th>\n",
       "      <td>-0.044097</td>\n",
       "      <td>-1.308703</td>\n",
       "      <td>1.843453</td>\n",
       "      <td>1.227321</td>\n",
       "    </tr>\n",
       "    <tr>\n",
       "      <th>2013-01-05</th>\n",
       "      <td>0.051633</td>\n",
       "      <td>-1.845223</td>\n",
       "      <td>0.341281</td>\n",
       "      <td>-0.800861</td>\n",
       "    </tr>\n",
       "    <tr>\n",
       "      <th>2013-01-06</th>\n",
       "      <td>2.025568</td>\n",
       "      <td>0.514407</td>\n",
       "      <td>1.211060</td>\n",
       "      <td>0.743768</td>\n",
       "    </tr>\n",
       "  </tbody>\n",
       "</table>\n",
       "</div></div><div style='float: left;'><div>\n",
       "<table border=\"1\" class=\"dataframe\">\n",
       "  <thead>\n",
       "    <tr style=\"text-align: right;\">\n",
       "      <th></th>\n",
       "      <th>A</th>\n",
       "      <th>B</th>\n",
       "      <th>C</th>\n",
       "      <th>D</th>\n",
       "    </tr>\n",
       "  </thead>\n",
       "  <tbody>\n",
       "    <tr>\n",
       "      <th>2013-01-01</th>\n",
       "      <td>-3.148736</td>\n",
       "      <td>-0.004980</td>\n",
       "      <td>0.458335</td>\n",
       "      <td>0.965817</td>\n",
       "    </tr>\n",
       "    <tr>\n",
       "      <th>2013-01-02</th>\n",
       "      <td>-1.450596</td>\n",
       "      <td>0.313772</td>\n",
       "      <td>-0.010360</td>\n",
       "      <td>-0.664239</td>\n",
       "    </tr>\n",
       "    <tr>\n",
       "      <th>2013-01-03</th>\n",
       "      <td>0.915434</td>\n",
       "      <td>-1.953570</td>\n",
       "      <td>0.383879</td>\n",
       "      <td>-0.813461</td>\n",
       "    </tr>\n",
       "    <tr>\n",
       "      <th>2013-01-04</th>\n",
       "      <td>-0.866156</td>\n",
       "      <td>1.403974</td>\n",
       "      <td>-0.728736</td>\n",
       "      <td>-2.481252</td>\n",
       "    </tr>\n",
       "    <tr>\n",
       "      <th>2013-01-05</th>\n",
       "      <td>-1.255370</td>\n",
       "      <td>-0.016967</td>\n",
       "      <td>-0.446050</td>\n",
       "      <td>-0.947208</td>\n",
       "    </tr>\n",
       "    <tr>\n",
       "      <th>2013-01-06</th>\n",
       "      <td>-0.305307</td>\n",
       "      <td>0.271728</td>\n",
       "      <td>1.386841</td>\n",
       "      <td>1.119769</td>\n",
       "    </tr>\n",
       "  </tbody>\n",
       "</table>\n",
       "</div></div>"
      ],
      "text/plain": [
       "<__main__.side_by_side instance at 0x07712EB8>"
      ]
     },
     "execution_count": 40,
     "metadata": {},
     "output_type": "execute_result"
    }
   ],
   "source": [
    "side_by_side(makeDateRand(), makeDateRand())"
   ]
  },
  {
   "cell_type": "markdown",
   "metadata": {},
   "source": [
    "##File Input/Output"
   ]
  },
  {
   "cell_type": "markdown",
   "metadata": {},
   "source": [
    "###CSV and Excel"
   ]
  },
  {
   "cell_type": "code",
   "execution_count": 41,
   "metadata": {
    "collapsed": false
   },
   "outputs": [
    {
     "data": {
      "text/html": [
       "<div>\n",
       "<table border=\"1\" class=\"dataframe\">\n",
       "  <thead>\n",
       "    <tr style=\"text-align: right;\">\n",
       "      <th></th>\n",
       "      <th>Unnamed: 0</th>\n",
       "      <th>A</th>\n",
       "      <th>B</th>\n",
       "      <th>C</th>\n",
       "      <th>D</th>\n",
       "    </tr>\n",
       "  </thead>\n",
       "  <tbody>\n",
       "    <tr>\n",
       "      <th>0</th>\n",
       "      <td>2013-01-01</td>\n",
       "      <td>-0.815654</td>\n",
       "      <td>0.182509</td>\n",
       "      <td>0.338265</td>\n",
       "      <td>-0.346617</td>\n",
       "    </tr>\n",
       "    <tr>\n",
       "      <th>1</th>\n",
       "      <td>2013-01-02</td>\n",
       "      <td>1.004594</td>\n",
       "      <td>0.161185</td>\n",
       "      <td>0.206100</td>\n",
       "      <td>-0.433438</td>\n",
       "    </tr>\n",
       "    <tr>\n",
       "      <th>2</th>\n",
       "      <td>2013-01-03</td>\n",
       "      <td>-1.091630</td>\n",
       "      <td>-0.122748</td>\n",
       "      <td>-1.350434</td>\n",
       "      <td>1.040738</td>\n",
       "    </tr>\n",
       "    <tr>\n",
       "      <th>3</th>\n",
       "      <td>2013-01-04</td>\n",
       "      <td>1.317175</td>\n",
       "      <td>-1.865405</td>\n",
       "      <td>-0.289084</td>\n",
       "      <td>1.609441</td>\n",
       "    </tr>\n",
       "    <tr>\n",
       "      <th>4</th>\n",
       "      <td>2013-01-05</td>\n",
       "      <td>0.561438</td>\n",
       "      <td>-0.698553</td>\n",
       "      <td>0.029656</td>\n",
       "      <td>1.648334</td>\n",
       "    </tr>\n",
       "    <tr>\n",
       "      <th>5</th>\n",
       "      <td>2013-01-06</td>\n",
       "      <td>-0.020715</td>\n",
       "      <td>-2.488948</td>\n",
       "      <td>1.729207</td>\n",
       "      <td>0.494589</td>\n",
       "    </tr>\n",
       "  </tbody>\n",
       "</table>\n",
       "</div>"
      ],
      "text/plain": [
       "   Unnamed: 0         A         B         C         D\n",
       "0  2013-01-01 -0.815654  0.182509  0.338265 -0.346617\n",
       "1  2013-01-02  1.004594  0.161185  0.206100 -0.433438\n",
       "2  2013-01-03 -1.091630 -0.122748 -1.350434  1.040738\n",
       "3  2013-01-04  1.317175 -1.865405 -0.289084  1.609441\n",
       "4  2013-01-05  0.561438 -0.698553  0.029656  1.648334\n",
       "5  2013-01-06 -0.020715 -2.488948  1.729207  0.494589"
      ]
     },
     "execution_count": 41,
     "metadata": {},
     "output_type": "execute_result"
    }
   ],
   "source": [
    "df = makeDateRand()\n",
    "df.to_csv('foo.csv')\n",
    "pd.read_csv('foo.csv')"
   ]
  },
  {
   "cell_type": "code",
   "execution_count": 51,
   "metadata": {
    "collapsed": false
   },
   "outputs": [
    {
     "ename": "AttributeError",
     "evalue": "'DataFrame' object has no attribute 'output_table'",
     "output_type": "error",
     "traceback": [
      "\u001b[1;31m---------------------------------------------------------------------------\u001b[0m",
      "\u001b[1;31mAttributeError\u001b[0m                            Traceback (most recent call last)",
      "\u001b[1;32m<ipython-input-51-e2f9c5676732>\u001b[0m in \u001b[0;36m<module>\u001b[1;34m()\u001b[0m\n\u001b[0;32m      2\u001b[0m \u001b[1;31m# use whitespace as separator\u001b[0m\u001b[1;33m\u001b[0m\u001b[1;33m\u001b[0m\u001b[0m\n\u001b[0;32m      3\u001b[0m \u001b[0mdf\u001b[0m \u001b[1;33m=\u001b[0m \u001b[0mmakeDateRand\u001b[0m\u001b[1;33m(\u001b[0m\u001b[1;33m)\u001b[0m\u001b[1;33m\u001b[0m\u001b[0m\n\u001b[1;32m----> 4\u001b[1;33m \u001b[0mdf\u001b[0m\u001b[1;33m.\u001b[0m\u001b[0moutput_table\u001b[0m\u001b[1;33m(\u001b[0m\u001b[1;34m'foo.csv'\u001b[0m\u001b[1;33m,\u001b[0m\u001b[0msep\u001b[0m\u001b[1;33m=\u001b[0m\u001b[1;33m[\u001b[0m\u001b[1;34m' '\u001b[0m\u001b[1;33m]\u001b[0m\u001b[1;33m)\u001b[0m\u001b[1;33m\u001b[0m\u001b[0m\n\u001b[0m\u001b[0;32m      5\u001b[0m \u001b[0mpd\u001b[0m\u001b[1;33m.\u001b[0m\u001b[0mread_table\u001b[0m\u001b[1;33m(\u001b[0m\u001b[1;34m'foo.csv'\u001b[0m\u001b[1;33m,\u001b[0m \u001b[0msep\u001b[0m\u001b[1;33m=\u001b[0m\u001b[1;34m'\\s+'\u001b[0m\u001b[1;33m)\u001b[0m\u001b[1;33m\u001b[0m\u001b[0m\n",
      "\u001b[1;32mC:\\Anaconda\\lib\\site-packages\\pandas\\core\\generic.pyc\u001b[0m in \u001b[0;36m__getattr__\u001b[1;34m(self, name)\u001b[0m\n\u001b[0;32m   2148\u001b[0m                 \u001b[1;32mreturn\u001b[0m \u001b[0mself\u001b[0m\u001b[1;33m[\u001b[0m\u001b[0mname\u001b[0m\u001b[1;33m]\u001b[0m\u001b[1;33m\u001b[0m\u001b[0m\n\u001b[0;32m   2149\u001b[0m             raise AttributeError(\"'%s' object has no attribute '%s'\" %\n\u001b[1;32m-> 2150\u001b[1;33m                                  (type(self).__name__, name))\n\u001b[0m\u001b[0;32m   2151\u001b[0m \u001b[1;33m\u001b[0m\u001b[0m\n\u001b[0;32m   2152\u001b[0m     \u001b[1;32mdef\u001b[0m \u001b[0m__setattr__\u001b[0m\u001b[1;33m(\u001b[0m\u001b[0mself\u001b[0m\u001b[1;33m,\u001b[0m \u001b[0mname\u001b[0m\u001b[1;33m,\u001b[0m \u001b[0mvalue\u001b[0m\u001b[1;33m)\u001b[0m\u001b[1;33m:\u001b[0m\u001b[1;33m\u001b[0m\u001b[0m\n",
      "\u001b[1;31mAttributeError\u001b[0m: 'DataFrame' object has no attribute 'output_table'"
     ]
    }
   ],
   "source": [
    "import pandas as pd\n",
    "# use whitespace as separator\n",
    "df = makeDateRand()\n",
    "df.output_table('foo.csv',sep=[' '])\n",
    "pd.read_table('foo.csv', sep='\\s+')"
   ]
  },
  {
   "cell_type": "code",
   "execution_count": 43,
   "metadata": {
    "collapsed": false
   },
   "outputs": [
    {
     "data": {
      "text/html": [
       "<div>\n",
       "<table border=\"1\" class=\"dataframe\">\n",
       "  <thead>\n",
       "    <tr style=\"text-align: right;\">\n",
       "      <th></th>\n",
       "      <th>A</th>\n",
       "      <th>B</th>\n",
       "      <th>C</th>\n",
       "      <th>D</th>\n",
       "    </tr>\n",
       "  </thead>\n",
       "  <tbody>\n",
       "    <tr>\n",
       "      <th>2013-01-01</th>\n",
       "      <td>-0.375074</td>\n",
       "      <td>-0.051330</td>\n",
       "      <td>-0.561504</td>\n",
       "      <td>0.388171</td>\n",
       "    </tr>\n",
       "    <tr>\n",
       "      <th>2013-01-02</th>\n",
       "      <td>0.087058</td>\n",
       "      <td>1.352036</td>\n",
       "      <td>-0.411912</td>\n",
       "      <td>-0.486480</td>\n",
       "    </tr>\n",
       "    <tr>\n",
       "      <th>2013-01-03</th>\n",
       "      <td>0.336514</td>\n",
       "      <td>-0.160262</td>\n",
       "      <td>-1.033558</td>\n",
       "      <td>-0.118928</td>\n",
       "    </tr>\n",
       "    <tr>\n",
       "      <th>2013-01-04</th>\n",
       "      <td>-0.481207</td>\n",
       "      <td>-0.796891</td>\n",
       "      <td>0.602879</td>\n",
       "      <td>-0.649082</td>\n",
       "    </tr>\n",
       "    <tr>\n",
       "      <th>2013-01-05</th>\n",
       "      <td>-0.534907</td>\n",
       "      <td>-2.023231</td>\n",
       "      <td>1.155798</td>\n",
       "      <td>0.255004</td>\n",
       "    </tr>\n",
       "    <tr>\n",
       "      <th>2013-01-06</th>\n",
       "      <td>-1.592183</td>\n",
       "      <td>-0.427264</td>\n",
       "      <td>2.041786</td>\n",
       "      <td>-0.955410</td>\n",
       "    </tr>\n",
       "  </tbody>\n",
       "</table>\n",
       "</div>"
      ],
      "text/plain": [
       "                   A         B         C         D\n",
       "2013-01-01 -0.375074 -0.051330 -0.561504  0.388171\n",
       "2013-01-02  0.087058  1.352036 -0.411912 -0.486480\n",
       "2013-01-03  0.336514 -0.160262 -1.033558 -0.118928\n",
       "2013-01-04 -0.481207 -0.796891  0.602879 -0.649082\n",
       "2013-01-05 -0.534907 -2.023231  1.155798  0.255004\n",
       "2013-01-06 -1.592183 -0.427264  2.041786 -0.955410"
      ]
     },
     "execution_count": 43,
     "metadata": {},
     "output_type": "execute_result"
    }
   ],
   "source": [
    "df = makeDateRand()\n",
    "df.to_excel('foo.xlsx', sheet_name='Sheet1')\n",
    "pd.read_excel('foo.xlsx', 'Sheet1', index_col=None, na_values=['NA'])"
   ]
  },
  {
   "cell_type": "markdown",
   "metadata": {},
   "source": [
    "###HDF5"
   ]
  },
  {
   "cell_type": "markdown",
   "metadata": {},
   "source": [
    "Excel and CSV  formats can only store single elements per 'cell.   HDF5 provides the means to store hierarchical data, where some DataFrame cells can contain Numpy arrays or other structures.  The example below has a Numpy array in column 'array' and a pandas Series in column 'dframe'.  \n",
    "\n",
    "Note that the Series index must match the dataframe index, otherwise the Series elements cannot be assigned (NaN are then assigned to all elements in the column).\n",
    "\n",
    "<http://pandas.pydata.org/pandas-docs/version/0.15.2/io.html#io-hdf5>"
   ]
  },
  {
   "cell_type": "code",
   "execution_count": 34,
   "metadata": {
    "collapsed": false
   },
   "outputs": [
    {
     "name": "stdout",
     "output_type": "stream",
     "text": [
      "2013-01-01     [[1, 0], [0, 0]]\n",
      "2013-01-02     [[1, 1], [0, 4]]\n",
      "2013-01-03     [[1, 2], [1, 8]]\n",
      "2013-01-04    [[1, 3], [1, 12]]\n",
      "2013-01-05    [[1, 4], [2, 16]]\n",
      "2013-01-06    [[1, 5], [2, 20]]\n",
      "Freq: D, dtype: object\n",
      "                   A         B         C         D             arrays             dframe\n",
      "2013-01-01  1.430077 -0.558571  1.100196  0.274112   [[1, 0], [0, 0]]   [[1, 0], [0, 0]]\n",
      "2013-01-02  0.560613  0.022041 -1.367565 -1.254090   [[1, 1], [0, 4]]   [[1, 1], [0, 4]]\n",
      "2013-01-03  1.992973  0.390096  0.564768 -0.685658   [[1, 2], [1, 8]]   [[1, 2], [1, 8]]\n",
      "2013-01-04  0.019785 -0.491109 -0.124125 -1.651703  [[1, 3], [1, 12]]  [[1, 3], [1, 12]]\n",
      "2013-01-05 -0.492693 -2.297549  2.269188  0.214106  [[1, 4], [2, 16]]  [[1, 4], [2, 16]]\n",
      "2013-01-06  0.080028 -2.080811  0.843215  0.385552  [[1, 5], [2, 20]]  [[1, 5], [2, 20]]\n",
      "                   A         B         C         D             arrays             dframe\n",
      "2013-01-01  1.430077 -0.558571  1.100196  0.274112   [[1, 0], [0, 0]]   [[1, 0], [0, 0]]\n",
      "2013-01-02  0.560613  0.022041 -1.367565 -1.254090   [[1, 1], [0, 4]]   [[1, 1], [0, 4]]\n",
      "2013-01-03  1.992973  0.390096  0.564768 -0.685658   [[1, 2], [1, 8]]   [[1, 2], [1, 8]]\n",
      "2013-01-04  0.019785 -0.491109 -0.124125 -1.651703  [[1, 3], [1, 12]]  [[1, 3], [1, 12]]\n",
      "2013-01-05 -0.492693 -2.297549  2.269188  0.214106  [[1, 4], [2, 16]]  [[1, 4], [2, 16]]\n",
      "2013-01-06  0.080028 -2.080811  0.843215  0.385552  [[1, 5], [2, 20]]  [[1, 5], [2, 20]]\n",
      "A         float64\n",
      "B         float64\n",
      "C         float64\n",
      "D         float64\n",
      "arrays     object\n",
      "dframe     object\n",
      "dtype: object\n"
     ]
    },
    {
     "name": "stderr",
     "output_type": "stream",
     "text": [
      "C:\\Anaconda\\lib\\site-packages\\pandas\\io\\pytables.py:2558: PerformanceWarning: \n",
      "your performance may suffer as PyTables will pickle object types that it cannot\n",
      "map directly to c-types [inferred_type->mixed,key->block1_values] [items->['arrays', 'dframe']]\n",
      "\n",
      "  warnings.warn(ws, PerformanceWarning)\n"
     ]
    }
   ],
   "source": [
    "df = makeDateRand()\n",
    "df['arrays'] = [np.asarray([[1,x],[x/2,4*x]]) for x in range(6)]\n",
    "ser = pd.Series([np.asarray([[1,x],[x/2,4*x]]) for x in range(6)],index=pd.date_range('20130101',periods=6))\n",
    "print(ser)\n",
    "df['dframe'] = ser\n",
    "print(df)\n",
    "df.to_hdf('df.hdf5','df',mode='w',append=False)\n",
    "df = pd.read_hdf('df.hdf5', 'df')\n",
    "print(df)\n",
    "print(df.dtypes)"
   ]
  },
  {
   "cell_type": "markdown",
   "metadata": {},
   "source": [
    "##Dataframe properties"
   ]
  },
  {
   "cell_type": "markdown",
   "metadata": {},
   "source": [
    "###Row properties\n",
    "\n",
    "The row count can be obtained in two different forms:\n",
    "\n",
    "- The `len` and `shape` methods count the number of rows in the DataFrame, irrespective of the contents of the cells.\n",
    "- The `df.count()` function returns a pandas series containing the number of valid entries in a column - ignoring NaN. "
   ]
  },
  {
   "cell_type": "code",
   "execution_count": 35,
   "metadata": {
    "collapsed": false
   },
   "outputs": [
    {
     "name": "stdout",
     "output_type": "stream",
     "text": [
      "   A   B\n",
      "0  1 NaN\n",
      "1  3   4\n",
      "2  4   5\n",
      "\n",
      "len(df) = 3\n",
      "\n",
      "shape[0] = 3\n",
      "\n",
      "type(df.count()) = <class 'pandas.core.series.Series'>\n",
      "\n",
      "df.count() = \n",
      "A    3\n",
      "B    2\n",
      "dtype: int64\n",
      "\n",
      "df.count()['A'] = 3\n",
      "\n",
      "df.count()[1] = 2\n",
      "\n",
      "Nans = \n",
      "       A      B\n",
      "0  False   True\n",
      "1  False  False\n",
      "2  False  False\n"
     ]
    }
   ],
   "source": [
    "df = makeNaNdf()\n",
    "print(df)\n",
    "print('\\nlen(df) = {}'.format(len(df)))\n",
    "print('\\nshape[0] = {}'.format(df.shape[0]))\n",
    "print('\\ntype(df.count()) = {}'.format(type(df.count())))\n",
    "print('\\ndf.count() = \\n{}'.format(df.count()))\n",
    "print(\"\\ndf.count()['A'] = {}\".format(df.count()['A']))\n",
    "print('\\ndf.count()[1] = {}'.format(df.count()[1]))\n",
    "print('\\nNans = \\n{}'.format(df.apply(lambda col: pd.isnull(col))))"
   ]
  },
  {
   "cell_type": "markdown",
   "metadata": {},
   "source": [
    "The DataDrame index (row names) can be retrieved as a [`pandas.index `](http://pandas.pydata.org/pandas-docs/stable/generated/pandas.Index.html), which can be used to retrieve a list of the row names:"
   ]
  },
  {
   "cell_type": "code",
   "execution_count": 36,
   "metadata": {
    "collapsed": false
   },
   "outputs": [
    {
     "name": "stdout",
     "output_type": "stream",
     "text": [
      "Int64Index([0, 1, 2], dtype='int64')\n",
      "[0, 1, 2]\n"
     ]
    }
   ],
   "source": [
    "df = makegridDF()\n",
    "print(df.index)\n",
    "print(df.index.tolist())"
   ]
  },
  {
   "cell_type": "markdown",
   "metadata": {},
   "source": [
    "If the DataDrame index is a more complex data type, the data type is returned:"
   ]
  },
  {
   "cell_type": "code",
   "execution_count": 37,
   "metadata": {
    "collapsed": false
   },
   "outputs": [
    {
     "name": "stdout",
     "output_type": "stream",
     "text": [
      "<class 'pandas.tseries.index.DatetimeIndex'>\n",
      "[2013-01-01, ..., 2013-01-06]\n",
      "Length: 6, Freq: D, Timezone: None\n",
      "[Timestamp('2013-01-01 00:00:00', offset='D'), Timestamp('2013-01-02 00:00:00', offset='D'), Timestamp('2013-01-03 00:00:00', offset='D'), Timestamp('2013-01-04 00:00:00', offset='D'), Timestamp('2013-01-05 00:00:00', offset='D'), Timestamp('2013-01-06 00:00:00', offset='D')]\n",
      "['2013-01-01T02:00:00.000000000+0200' '2013-01-02T02:00:00.000000000+0200'\n",
      " '2013-01-03T02:00:00.000000000+0200' '2013-01-04T02:00:00.000000000+0200'\n",
      " '2013-01-05T02:00:00.000000000+0200' '2013-01-06T02:00:00.000000000+0200']\n"
     ]
    }
   ],
   "source": [
    "df = makeDateRand()\n",
    "print(df.index)\n",
    "print(df.index.tolist()) # returns a list\n",
    "print(df.index.values) # returns an array"
   ]
  },
  {
   "cell_type": "code",
   "execution_count": 38,
   "metadata": {
    "collapsed": false
   },
   "outputs": [
    {
     "name": "stdout",
     "output_type": "stream",
     "text": [
      "         A  B  C   D\n",
      "MyIndex             \n",
      "0        1  4  7  10\n",
      "1        2  5  8  11\n",
      "2        3  6  9  12\n",
      "[0, 1, 2]\n",
      "[0 1 2]\n"
     ]
    }
   ],
   "source": [
    "#set / change the index name\n",
    "df = makegridDF()\n",
    "df.index.name = 'MyIndex'\n",
    "print(df)\n",
    "print(df.index.tolist()) # returns a list\n",
    "print(df.index.values)  # returns an array"
   ]
  },
  {
   "cell_type": "markdown",
   "metadata": {},
   "source": [
    "Use a column's values to set the index accordingly. Now that a repeat value appears to be allowed - strange."
   ]
  },
  {
   "cell_type": "code",
   "execution_count": 39,
   "metadata": {
    "collapsed": false
   },
   "outputs": [
    {
     "name": "stdout",
     "output_type": "stream",
     "text": [
      "   A  B  C   D\n",
      "0  1  4  7  10\n",
      "1  2  5  8  11\n",
      "2  3  6  9  12\n",
      "            A  B  C   D\n",
      "MyNewIndex             \n",
      "2           2  5  8  11\n",
      "2           2  6  9  12\n"
     ]
    }
   ],
   "source": [
    "df = makegridDF()\n",
    "print(df)\n",
    "\n",
    "df.loc[2,'A'] = 2\n",
    "df.index = df.A\n",
    "df.index.name = 'MyNewIndex'\n",
    "print(df.loc[2,:])\n"
   ]
  },
  {
   "cell_type": "markdown",
   "metadata": {},
   "source": [
    "### Column properties"
   ]
  },
  {
   "cell_type": "markdown",
   "metadata": {},
   "source": [
    "The column names can be retrieved as a [`pandas.index `](http://pandas.pydata.org/pandas-docs/stable/generated/pandas.Index.html):"
   ]
  },
  {
   "cell_type": "code",
   "execution_count": 40,
   "metadata": {
    "collapsed": false
   },
   "outputs": [
    {
     "data": {
      "text/plain": [
       "Index([u'A', u'B', u'C', u'D'], dtype='object')"
      ]
     },
     "execution_count": 40,
     "metadata": {},
     "output_type": "execute_result"
    }
   ],
   "source": [
    "df.columns"
   ]
  },
  {
   "cell_type": "markdown",
   "metadata": {},
   "source": [
    "Get a list of the columns in dataframe - there are two ways to do this:"
   ]
  },
  {
   "cell_type": "code",
   "execution_count": 41,
   "metadata": {
    "collapsed": false
   },
   "outputs": [
    {
     "name": "stdout",
     "output_type": "stream",
     "text": [
      "['A', 'B', 'C', 'D']\n",
      "['A', 'B', 'C', 'D']\n",
      "['A', 'B', 'C', 'D']\n"
     ]
    }
   ],
   "source": [
    "df = makeDateRand()\n",
    "print(list(df.columns.values))\n",
    "print(df.columns.values.tolist()) #fastest\n",
    "print(list(df))"
   ]
  },
  {
   "cell_type": "markdown",
   "metadata": {},
   "source": [
    "###DataFrame values\n",
    "\n",
    "Get the values of the DataFrame contents as a Numpy array:"
   ]
  },
  {
   "cell_type": "code",
   "execution_count": 42,
   "metadata": {
    "collapsed": false
   },
   "outputs": [
    {
     "data": {
      "text/plain": [
       "array([[-0.01306872, -0.29244687, -1.46897297, -1.52279137],\n",
       "       [-0.09730003,  0.5258122 , -1.7660565 ,  0.66580562],\n",
       "       [-2.31641091,  0.95014814,  0.17203528, -0.40020686],\n",
       "       [ 0.40035317, -0.7199735 ,  1.12052782,  1.25586226],\n",
       "       [-0.4157624 , -1.09001308,  0.14626769, -0.50606948],\n",
       "       [-1.02902624, -0.42427113, -0.0748173 , -0.8837951 ]])"
      ]
     },
     "execution_count": 42,
     "metadata": {},
     "output_type": "execute_result"
    }
   ],
   "source": [
    "df = makeDateRand()\n",
    "df.values"
   ]
  },
  {
   "cell_type": "markdown",
   "metadata": {},
   "source": [
    "##NaN in Pandas / Numpy\n",
    "\n",
    "Empty cells, or cells with missing data are filled with NaNs.  The example shows how to test for NaN values (`isnull()`)."
   ]
  },
  {
   "cell_type": "code",
   "execution_count": 43,
   "metadata": {
    "collapsed": false
   },
   "outputs": [
    {
     "name": "stdout",
     "output_type": "stream",
     "text": [
      "nan\n",
      "True\n"
     ]
    }
   ],
   "source": [
    "a = np.nan\n",
    "print(a)\n",
    "print(pd.isnull(a))"
   ]
  },
  {
   "cell_type": "markdown",
   "metadata": {},
   "source": [
    "Use the `fillna()` function to fill NaN cells with some other value."
   ]
  },
  {
   "cell_type": "code",
   "execution_count": 44,
   "metadata": {
    "collapsed": false
   },
   "outputs": [
    {
     "name": "stdout",
     "output_type": "stream",
     "text": [
      "   A   B\n",
      "0  1 NaN\n",
      "1  3   4\n",
      "\n",
      "Nans = \n",
      "       A      B\n",
      "0  False   True\n",
      "1  False  False\n",
      "\n",
      "Nans replaced with ** = \n",
      "   A   B\n",
      "0  1  **\n",
      "1  3   4\n"
     ]
    }
   ],
   "source": [
    "df = pd.DataFrame([[1, np.nan], [3, 4]], columns=list('AB'))\n",
    "print(df)\n",
    "print('\\nNans = \\n{}'.format(df.apply(lambda col: pd.isnull(col))))\n",
    "\n",
    "#change all NaN to some other value\n",
    "df.B = df.B.fillna('**')\n",
    "print('\\nNans replaced with ** = \\n{}'.format(df))\n"
   ]
  },
  {
   "cell_type": "markdown",
   "metadata": {},
   "source": [
    "Creating a new dataframe by removing NaN in a row"
   ]
  },
  {
   "cell_type": "code",
   "execution_count": 45,
   "metadata": {
    "collapsed": false
   },
   "outputs": [
    {
     "name": "stdout",
     "output_type": "stream",
     "text": [
      "   A   B\n",
      "0  1 NaN\n",
      "1  3   4\n",
      "   A  B\n",
      "1  3  4\n"
     ]
    }
   ],
   "source": [
    "df = pd.DataFrame([[1, np.nan], [3, 4]], columns=list('AB'))\n",
    "print(df)\n",
    "df = df[pd.notnull(df['B'])]\n",
    "print(df)"
   ]
  },
  {
   "cell_type": "markdown",
   "metadata": {},
   "source": [
    "##Manipulating DataFrames"
   ]
  },
  {
   "cell_type": "markdown",
   "metadata": {},
   "source": [
    "###View of a DataFrame vs a Copy of a DataFrame"
   ]
  },
  {
   "cell_type": "markdown",
   "metadata": {},
   "source": [
    "See [here](http://pandas.pydata.org/pandas-docs/stable/indexing.html#indexing-view-versus-copy) for the full example.\n",
    "           \n",
    "More information on [multi-indexing](http://pandas-docs.github.io/pandas-docs-travis/advanced.html)"
   ]
  },
  {
   "cell_type": "code",
   "execution_count": 46,
   "metadata": {
    "collapsed": false
   },
   "outputs": [
    {
     "name": "stdout",
     "output_type": "stream",
     "text": [
      "    one          two       \n",
      "  first second first second\n",
      "0     a      b     c      d\n",
      "1     e      f     g      h\n",
      "2     i      j     k      l\n",
      "3     m      n     o      p\n"
     ]
    }
   ],
   "source": [
    "dfmi = createMultColIdx()\n",
    "print(dfmi)"
   ]
  },
  {
   "cell_type": "markdown",
   "metadata": {},
   "source": [
    "In the code below the first form `dfmi['one']['second']` is called the chained method, both using the `__getitem__` method, but happening in sequence.  The first call `dfmi['one']` returns a DataFrame which is input to the second call`(dfmi['one'])['second']` - these are two calls, one happening after the other.  \n",
    "\n",
    "The second form `df.loc[:,('one','second')]`  passes a nested tuple to a single call to `__getitem__`, which can be significantly faster, and allows one to index both axes if so desired. Look at the name of the DataFrame returned in both cases and spot the difference."
   ]
  },
  {
   "cell_type": "code",
   "execution_count": 47,
   "metadata": {
    "collapsed": false
   },
   "outputs": [
    {
     "name": "stdout",
     "output_type": "stream",
     "text": [
      "0    b\n",
      "1    f\n",
      "2    j\n",
      "3    n\n",
      "Name: second, dtype: object\n",
      "0    b\n",
      "1    f\n",
      "2    j\n",
      "3    n\n",
      "Name: (one, second), dtype: object\n"
     ]
    }
   ],
   "source": [
    "print(dfmi['one']['second'])\n",
    "print(dfmi.loc[:,('one','second')])\n"
   ]
  },
  {
   "cell_type": "markdown",
   "metadata": {},
   "source": [
    "The first forms gives a `SettingWithCopyWarning` warning.  Since the chained indexing is 2 calls, it is possible that either call may return a copy of the data because of the way it is sliced. Thus when setting, you are actually setting a copy, and not the original frame data. \n",
    "\n",
    "The `.loc` operation is a single python operation, and thus can select a slice (which still may be a copy), but allows pandas to assign that slice back into the frame after it is modified, thus setting the values as you would think.\n",
    "\n",
    "The reason for having the `SettingWithCopy` warning is this. Sometimes when you slice an array you will simply get a view back, which means you can set it no problem. However, even a single dtyped array can generate a copy if it is sliced in a particular way. A multi-dtyped DataFrame (meaning it has say float and object data), will almost always yield a copy. Whether a view is created is dependent on the memory layout of the array."
   ]
  },
  {
   "cell_type": "code",
   "execution_count": 48,
   "metadata": {
    "collapsed": false
   },
   "outputs": [
    {
     "name": "stdout",
     "output_type": "stream",
     "text": [
      "    one          two       \n",
      "  first second first second\n",
      "0     a      b     c      d\n",
      "1     e      f     g      h\n",
      "2     i      j     k      l\n",
      "3     m      n     o      p\n"
     ]
    },
    {
     "name": "stderr",
     "output_type": "stream",
     "text": [
      "C:\\Anaconda\\lib\\site-packages\\IPython\\kernel\\__main__.py:1: SettingWithCopyWarning: \n",
      "A value is trying to be set on a copy of a slice from a DataFrame.\n",
      "Try using .loc[row_indexer,col_indexer] = value instead\n",
      "\n",
      "See the the caveats in the documentation: http://pandas.pydata.org/pandas-docs/stable/indexing.html#indexing-view-versus-copy\n",
      "  if __name__ == '__main__':\n"
     ]
    }
   ],
   "source": [
    "dfmi['one']['second'] = 1 # assignment has no effect on the original!!\n",
    "print(dfmi)"
   ]
  },
  {
   "cell_type": "markdown",
   "metadata": {},
   "source": [
    "To get the desired effect, use `.loc` to directly address the original DataFrame.  The `slice` method is used to select multiple column levels.\n",
    "\n",
    "<http://pandas-docs.github.io/pandas-docs-travis/advanced.html#using-slicers>"
   ]
  },
  {
   "cell_type": "code",
   "execution_count": 49,
   "metadata": {
    "collapsed": false
   },
   "outputs": [
    {
     "name": "stdout",
     "output_type": "stream",
     "text": [
      "    one          two       \n",
      "  first second first second\n",
      "0     1      1     c      d\n",
      "1     1      1     g      h\n",
      "2     1      1     k      l\n",
      "3     1      1     o      p\n"
     ]
    }
   ],
   "source": [
    "dfmi.loc[:,slice('one','second')] = 1\n",
    "print(dfmi)"
   ]
  },
  {
   "cell_type": "markdown",
   "metadata": {},
   "source": [
    "###Dropping a row from a DataFrame"
   ]
  },
  {
   "cell_type": "markdown",
   "metadata": {},
   "source": [
    "When using drop(), note the axis direction.   \n",
    "- to drop a column axis=1  \n",
    "- to drop a row axis=0  (default)"
   ]
  },
  {
   "cell_type": "code",
   "execution_count": 50,
   "metadata": {
    "collapsed": false
   },
   "outputs": [
    {
     "name": "stdout",
     "output_type": "stream",
     "text": [
      "   B  C   D\n",
      "0  4  7  10\n",
      "1  5  8  11\n",
      "2  6  9  12\n"
     ]
    }
   ],
   "source": [
    "#drop a column\n",
    "df = makegridDF()\n",
    "#first drop the 'A' column\n",
    "print(df.drop('A',axis=1))"
   ]
  },
  {
   "cell_type": "markdown",
   "metadata": {},
   "source": [
    "You can also use row indexes to drop columns.  The following example shows several index-based row drop methods."
   ]
  },
  {
   "cell_type": "code",
   "execution_count": 51,
   "metadata": {
    "collapsed": false
   },
   "outputs": [
    {
     "name": "stdout",
     "output_type": "stream",
     "text": [
      "   A  B  C   D\n",
      "0  1  4  7  10\n",
      "1  2  5  8  11\n",
      "2  3  6  9  12\n",
      "   A  B  C   D\n",
      "0  1  4  7  10\n",
      "2  3  6  9  12\n",
      "   A  B  C   D\n",
      "0  1  4  7  10\n",
      "   A  B  C   D\n",
      "1  2  5  8  11\n",
      "2  3  6  9  12\n",
      "   A  B  C   D\n",
      "1  2  5  8  11\n",
      "(0, A     1\n",
      "B     4\n",
      "C     7\n",
      "D    10\n",
      "Name: 0, dtype: int64)\n",
      "(1, A     2\n",
      "B     5\n",
      "C     8\n",
      "D    11\n",
      "Name: 1, dtype: int64)\n",
      "(2, A     3\n",
      "B     6\n",
      "C     9\n",
      "D    12\n",
      "Name: 2, dtype: int64)\n",
      "Empty DataFrame\n",
      "Columns: [A, B, C, D]\n",
      "Index: []\n"
     ]
    }
   ],
   "source": [
    "df = makegridDF()\n",
    "print(df)\n",
    "print(df.drop(1)) # singe index\n",
    "print(df.drop([1,2])) # list of indexes\n",
    "print(df.drop(0,axis=0)) #single index explicit row selection\n",
    "print(df.drop(df.index[[0,2]])) #list in the index \n",
    "for idx, row in df.iterrows():#iterate over all rows\n",
    "    print(idx,row)\n",
    "    df.drop(idx,inplace=True)\n",
    "print(df)"
   ]
  },
  {
   "cell_type": "code",
   "execution_count": 52,
   "metadata": {
    "collapsed": false
   },
   "outputs": [
    {
     "name": "stdout",
     "output_type": "stream",
     "text": [
      "(Timestamp('2013-01-05 00:00:00', offset='D'), A    1.053305\n",
      "B    0.141954\n",
      "C    0.330076\n",
      "D   -0.323197\n",
      "Name: 2013-01-05 00:00:00, dtype: float64)\n",
      "(Timestamp('2013-01-06 00:00:00', offset='D'), A    1.121166\n",
      "B   -0.306181\n",
      "C    1.422362\n",
      "D   -1.712045\n",
      "Name: 2013-01-06 00:00:00, dtype: float64)\n"
     ]
    }
   ],
   "source": [
    "#drop some of the rows\n",
    "df = makeDateRand()\n",
    "df = df.drop(df.index[[0,1,2,3]])\n",
    "for idx, row in df.iterrows():\n",
    "    print(idx,row)"
   ]
  },
  {
   "cell_type": "code",
   "execution_count": 53,
   "metadata": {
    "collapsed": false
   },
   "outputs": [
    {
     "name": "stdout",
     "output_type": "stream",
     "text": [
      "   A  B  C   D\n",
      "0  1  4  7  10\n",
      "1  2  5  8  11\n",
      "2  3  6  9  12\n",
      "   A  B  C   D\n",
      "2  3  6  9  12\n",
      "   A  B  C   D\n",
      "1  2  5  8  11\n"
     ]
    }
   ],
   "source": [
    "#drop row based on value in a column\n",
    "df = makegridDF()\n",
    "print(df)\n",
    "print(df[df['A'] >= 3])\n",
    "print(df[(df['A'] >= 2) & (df['B']<6)])"
   ]
  },
  {
   "cell_type": "markdown",
   "metadata": {},
   "source": [
    "###Concatenation or Appending rows or DataFrames"
   ]
  },
  {
   "cell_type": "markdown",
   "metadata": {},
   "source": [
    "`df.shape[0]` returns the number of rows already in the DataFrame (zero-based), hence if `df.shape[0]` is used as a row index, it will point to a new row immediately beyond the current last row.  This is an easy way to add row(s) to an existing DataFrame. \n",
    "\n",
    "Rows can be added to the DataFrame by [setting with enlargement](http://pandas.pydata.org/pandas-docs/version/0.15.2/indexing.html#setting-with-enlargement).  The `df.loc[i]` (location) construct points to row `i`, which need not be an existing row."
   ]
  },
  {
   "cell_type": "code",
   "execution_count": 54,
   "metadata": {
    "collapsed": false
   },
   "outputs": [
    {
     "name": "stdout",
     "output_type": "stream",
     "text": [
      "   A  B\n",
      "0  1  2\n",
      "1  3  4\n",
      "     A     B\n",
      "0    1     2\n",
      "1    3     4\n",
      "2    a     b\n",
      "3  NaN  new!\n"
     ]
    }
   ],
   "source": [
    "df = pd.DataFrame([[1, 2], [3, 4]], columns=list('AB'))\n",
    "print(df)\n",
    "df.loc[df.shape[0]] = ['a','b'] # add a row immediately beyond the current last\n",
    "df.loc[df.shape[0]] = [np.nan,'new!'] # add a row immediately beyond the current last\n",
    "print(df)"
   ]
  },
  {
   "cell_type": "markdown",
   "metadata": {},
   "source": [
    "Append rows to a dataframe. See the [Appending](http://pandas.pydata.org/pandas-docs/version/0.15.2/merging.html#merging-concatenation).  This examples makes a copy of one of the rows and append it to the DataFrame.  Note that in this case a `copy()` is required to create a new DataFrame which is modified before appending."
   ]
  },
  {
   "cell_type": "code",
   "execution_count": 55,
   "metadata": {
    "collapsed": false
   },
   "outputs": [
    {
     "name": "stdout",
     "output_type": "stream",
     "text": [
      "A      -0.320352\n",
      "B      -0.572016\n",
      "C    1000.000000\n",
      "D      -1.198180\n",
      "Name: 2, dtype: float64\n"
     ]
    },
    {
     "data": {
      "text/html": [
       "<div style=\"max-height:1000px;max-width:1500px;overflow:auto;\">\n",
       "<table border=\"1\" class=\"dataframe\">\n",
       "  <thead>\n",
       "    <tr style=\"text-align: right;\">\n",
       "      <th></th>\n",
       "      <th>A</th>\n",
       "      <th>B</th>\n",
       "      <th>C</th>\n",
       "      <th>D</th>\n",
       "    </tr>\n",
       "  </thead>\n",
       "  <tbody>\n",
       "    <tr>\n",
       "      <th>0</th>\n",
       "      <td>-0.307783</td>\n",
       "      <td>-0.229234</td>\n",
       "      <td>    1.574565</td>\n",
       "      <td> 0.520096</td>\n",
       "    </tr>\n",
       "    <tr>\n",
       "      <th>1</th>\n",
       "      <td> 0.186255</td>\n",
       "      <td> 0.944296</td>\n",
       "      <td>   -0.890249</td>\n",
       "      <td> 0.335446</td>\n",
       "    </tr>\n",
       "    <tr>\n",
       "      <th>2</th>\n",
       "      <td>-0.320352</td>\n",
       "      <td>-0.572016</td>\n",
       "      <td>    3.187768</td>\n",
       "      <td>-1.198180</td>\n",
       "    </tr>\n",
       "    <tr>\n",
       "      <th>3</th>\n",
       "      <td> 0.066428</td>\n",
       "      <td> 1.775879</td>\n",
       "      <td>   -0.011416</td>\n",
       "      <td>-0.426466</td>\n",
       "    </tr>\n",
       "    <tr>\n",
       "      <th>4</th>\n",
       "      <td>-0.320352</td>\n",
       "      <td>-0.572016</td>\n",
       "      <td> 1000.000000</td>\n",
       "      <td>-1.198180</td>\n",
       "    </tr>\n",
       "  </tbody>\n",
       "</table>\n",
       "</div>"
      ],
      "text/plain": [
       "          A         B            C         D\n",
       "0 -0.307783 -0.229234     1.574565  0.520096\n",
       "1  0.186255  0.944296    -0.890249  0.335446\n",
       "2 -0.320352 -0.572016     3.187768 -1.198180\n",
       "3  0.066428  1.775879    -0.011416 -0.426466\n",
       "4 -0.320352 -0.572016  1000.000000 -1.198180"
      ]
     },
     "execution_count": 55,
     "metadata": {},
     "output_type": "execute_result"
    }
   ],
   "source": [
    "df = makeRand()\n",
    "s = df.iloc[2].copy() # copy is required, otherwise a view is taken\n",
    "s[2] = 1000\n",
    "print(s)\n",
    "df.append(s, ignore_index=True)"
   ]
  },
  {
   "cell_type": "markdown",
   "metadata": {},
   "source": [
    "The `append()` function can be used to add one more rows formed as DataFrames to an existing DataFrame."
   ]
  },
  {
   "cell_type": "code",
   "execution_count": 56,
   "metadata": {
    "collapsed": false
   },
   "outputs": [
    {
     "name": "stdout",
     "output_type": "stream",
     "text": [
      "   A  B\n",
      "0  1  2\n",
      "1  3  4\n",
      "0  5  6\n",
      "1  7  8\n"
     ]
    }
   ],
   "source": [
    "df = pd.DataFrame([[1, 2], [3, 4]], columns=list('AB'))\n",
    "df2 = pd.DataFrame([[5, 6], [7, 8]], columns=list('AB'))\n",
    "df = df.append(df2) # append row(s)\n",
    "print(df)"
   ]
  },
  {
   "cell_type": "markdown",
   "metadata": {},
   "source": [
    "Concatenate some existing rows from the current DataFrame to itself."
   ]
  },
  {
   "cell_type": "code",
   "execution_count": 57,
   "metadata": {
    "collapsed": false
   },
   "outputs": [
    {
     "data": {
      "text/html": [
       "<div style=\"max-height:1000px;max-width:1500px;overflow:auto;\">\n",
       "<table border=\"1\" class=\"dataframe\">\n",
       "  <thead>\n",
       "    <tr style=\"text-align: right;\">\n",
       "      <th></th>\n",
       "      <th>A</th>\n",
       "      <th>B</th>\n",
       "      <th>C</th>\n",
       "      <th>D</th>\n",
       "    </tr>\n",
       "  </thead>\n",
       "  <tbody>\n",
       "    <tr>\n",
       "      <th>0</th>\n",
       "      <td> 1.818372</td>\n",
       "      <td>-0.671796</td>\n",
       "      <td>-1.137477</td>\n",
       "      <td> 0.241236</td>\n",
       "    </tr>\n",
       "    <tr>\n",
       "      <th>1</th>\n",
       "      <td> 1.176977</td>\n",
       "      <td>-0.644033</td>\n",
       "      <td> 0.311845</td>\n",
       "      <td> 1.560931</td>\n",
       "    </tr>\n",
       "    <tr>\n",
       "      <th>2</th>\n",
       "      <td>-0.031638</td>\n",
       "      <td> 1.499439</td>\n",
       "      <td> 0.638310</td>\n",
       "      <td> 0.892017</td>\n",
       "    </tr>\n",
       "    <tr>\n",
       "      <th>3</th>\n",
       "      <td>-1.076519</td>\n",
       "      <td>-1.250539</td>\n",
       "      <td> 1.522066</td>\n",
       "      <td> 0.231860</td>\n",
       "    </tr>\n",
       "    <tr>\n",
       "      <th>2</th>\n",
       "      <td>-0.031638</td>\n",
       "      <td> 1.499439</td>\n",
       "      <td> 0.638310</td>\n",
       "      <td> 0.892017</td>\n",
       "    </tr>\n",
       "    <tr>\n",
       "      <th>3</th>\n",
       "      <td>-1.076519</td>\n",
       "      <td>-1.250539</td>\n",
       "      <td> 1.522066</td>\n",
       "      <td> 0.231860</td>\n",
       "    </tr>\n",
       "  </tbody>\n",
       "</table>\n",
       "</div>"
      ],
      "text/plain": [
       "          A         B         C         D\n",
       "0  1.818372 -0.671796 -1.137477  0.241236\n",
       "1  1.176977 -0.644033  0.311845  1.560931\n",
       "2 -0.031638  1.499439  0.638310  0.892017\n",
       "3 -1.076519 -1.250539  1.522066  0.231860\n",
       "2 -0.031638  1.499439  0.638310  0.892017\n",
       "3 -1.076519 -1.250539  1.522066  0.231860"
      ]
     },
     "execution_count": 57,
     "metadata": {},
     "output_type": "execute_result"
    }
   ],
   "source": [
    "df = makeRand()\n",
    "df2 = pd.concat([df,df[2:4]])\n",
    "df2"
   ]
  },
  {
   "cell_type": "markdown",
   "metadata": {},
   "source": [
    "The following examples concatenates three views of a DataFrame."
   ]
  },
  {
   "cell_type": "code",
   "execution_count": 58,
   "metadata": {
    "collapsed": false
   },
   "outputs": [
    {
     "name": "stdout",
     "output_type": "stream",
     "text": [
      "          A         B         C         D\n",
      "0  0.073759  0.173090 -0.160249  0.494095\n",
      "1  1.125235 -0.157869  0.676483  0.173637\n",
      "2 -0.429321  2.064771  0.212448  1.251799\n",
      "3  0.546685 -0.066516  0.529381  1.319544\n",
      "4  0.976501  0.473518  1.130852  0.056720\n",
      "5 -0.808577  0.567734 -0.110561  0.187893\n",
      "6  0.924681 -1.975411 -0.619851 -0.932975\n",
      "7  1.168138  0.406968 -0.084265  0.230360\n",
      "8 -0.321919 -0.210099 -0.407302  0.757779\n",
      "9 -0.157319  1.590124  0.908581  0.054799\n"
     ]
    },
    {
     "data": {
      "text/html": [
       "<div style=\"max-height:1000px;max-width:1500px;overflow:auto;\">\n",
       "<table border=\"1\" class=\"dataframe\">\n",
       "  <thead>\n",
       "    <tr style=\"text-align: right;\">\n",
       "      <th></th>\n",
       "      <th>A</th>\n",
       "      <th>B</th>\n",
       "      <th>C</th>\n",
       "      <th>D</th>\n",
       "    </tr>\n",
       "  </thead>\n",
       "  <tbody>\n",
       "    <tr>\n",
       "      <th>0</th>\n",
       "      <td> 0.073759</td>\n",
       "      <td> 0.173090</td>\n",
       "      <td>-0.160249</td>\n",
       "      <td> 0.494095</td>\n",
       "    </tr>\n",
       "    <tr>\n",
       "      <th>1</th>\n",
       "      <td> 1.125235</td>\n",
       "      <td>-0.157869</td>\n",
       "      <td> 0.676483</td>\n",
       "      <td> 0.173637</td>\n",
       "    </tr>\n",
       "    <tr>\n",
       "      <th>2</th>\n",
       "      <td>-0.429321</td>\n",
       "      <td> 2.064771</td>\n",
       "      <td> 0.212448</td>\n",
       "      <td> 1.251799</td>\n",
       "    </tr>\n",
       "    <tr>\n",
       "      <th>3</th>\n",
       "      <td> 0.546685</td>\n",
       "      <td>-0.066516</td>\n",
       "      <td> 0.529381</td>\n",
       "      <td> 1.319544</td>\n",
       "    </tr>\n",
       "    <tr>\n",
       "      <th>4</th>\n",
       "      <td> 0.976501</td>\n",
       "      <td> 0.473518</td>\n",
       "      <td> 1.130852</td>\n",
       "      <td> 0.056720</td>\n",
       "    </tr>\n",
       "    <tr>\n",
       "      <th>5</th>\n",
       "      <td>-0.808577</td>\n",
       "      <td> 0.567734</td>\n",
       "      <td>-0.110561</td>\n",
       "      <td> 0.187893</td>\n",
       "    </tr>\n",
       "    <tr>\n",
       "      <th>6</th>\n",
       "      <td> 0.924681</td>\n",
       "      <td>-1.975411</td>\n",
       "      <td>-0.619851</td>\n",
       "      <td>-0.932975</td>\n",
       "    </tr>\n",
       "    <tr>\n",
       "      <th>7</th>\n",
       "      <td> 1.168138</td>\n",
       "      <td> 0.406968</td>\n",
       "      <td>-0.084265</td>\n",
       "      <td> 0.230360</td>\n",
       "    </tr>\n",
       "    <tr>\n",
       "      <th>8</th>\n",
       "      <td>-0.321919</td>\n",
       "      <td>-0.210099</td>\n",
       "      <td>-0.407302</td>\n",
       "      <td> 0.757779</td>\n",
       "    </tr>\n",
       "    <tr>\n",
       "      <th>9</th>\n",
       "      <td>-0.157319</td>\n",
       "      <td> 1.590124</td>\n",
       "      <td> 0.908581</td>\n",
       "      <td> 0.054799</td>\n",
       "    </tr>\n",
       "  </tbody>\n",
       "</table>\n",
       "</div>"
      ],
      "text/plain": [
       "          A         B         C         D\n",
       "0  0.073759  0.173090 -0.160249  0.494095\n",
       "1  1.125235 -0.157869  0.676483  0.173637\n",
       "2 -0.429321  2.064771  0.212448  1.251799\n",
       "3  0.546685 -0.066516  0.529381  1.319544\n",
       "4  0.976501  0.473518  1.130852  0.056720\n",
       "5 -0.808577  0.567734 -0.110561  0.187893\n",
       "6  0.924681 -1.975411 -0.619851 -0.932975\n",
       "7  1.168138  0.406968 -0.084265  0.230360\n",
       "8 -0.321919 -0.210099 -0.407302  0.757779\n",
       "9 -0.157319  1.590124  0.908581  0.054799"
      ]
     },
     "execution_count": 58,
     "metadata": {},
     "output_type": "execute_result"
    }
   ],
   "source": [
    "# Concatenating pandas objects together\n",
    "df = makeRand(10,4)\n",
    "print(df)\n",
    "# break it into pieces\n",
    "pieces = [df[:3], df[3:7], df[7:]]\n",
    "pd.concat(pieces)\n"
   ]
  },
  {
   "cell_type": "markdown",
   "metadata": {},
   "source": [
    "Concatenation stacks together rows from two arrays. In the example below the `df` array is concatenated with a 2x2 slice from `dfr`.  There are two observations from the code below:\n",
    "\n",
    "- The column names are used when concatenating the rows. In the first example the column names are consistent and appended as expected. In the second example the row names do not exactly agree and cells with missing data are filled with NaN.\n",
    "- The index data type of the concatenated DataFrame must be the same as the main DataFrame (hash error occurs otherwise).  For example if the index is the DateTime series, the concatenation will not work."
   ]
  },
  {
   "cell_type": "code",
   "execution_count": 59,
   "metadata": {
    "collapsed": false
   },
   "outputs": [
    {
     "name": "stdout",
     "output_type": "stream",
     "text": [
      "   A  B  C   D\n",
      "0  1  4  7  10\n",
      "1  2  5  8  11\n",
      "2  3  6  9  12\n",
      "\n",
      "Example 1\n",
      "to be contatenated=   A  B\n",
      "1  2  5\n",
      "2  3  6\n",
      "   A  B\n",
      "0  1  2\n",
      "1  3  4\n",
      "1  2  5\n",
      "2  3  6\n",
      "\n",
      "Example 2\n",
      "to be contatenated=   B  C\n",
      "1  5  8\n",
      "2  6  9\n",
      "    A  B   C\n",
      "0   1  2 NaN\n",
      "1   3  4 NaN\n",
      "1 NaN  5   8\n",
      "2 NaN  6   9\n"
     ]
    }
   ],
   "source": [
    "df = pd.DataFrame([[1, 2], [3, 4]], columns=list('AB'))\n",
    "dfr = makegridDF()\n",
    "print(dfr)\n",
    "print('\\nExample 1')\n",
    "print('to be contatenated={}'.format(dfr.loc[1:2,['A','B']]))\n",
    "df2 = pd.concat([df,dfr.loc[1:2,['A','B']]])\n",
    "print(df2)\n",
    "\n",
    "print('\\nExample 2')\n",
    "print('to be contatenated={}'.format(dfr.loc[1:2,['B','C']]))\n",
    "df2 = pd.concat([df,dfr.loc[1:2,['B','C']]])\n",
    "print(df2)\n",
    "\n",
    "#this will not concatenate in the examples above - index of wrong type\n",
    "# df = makeDateRand()\n",
    "# df.loc['20130102':'20130104',['A','B']]"
   ]
  },
  {
   "cell_type": "markdown",
   "metadata": {},
   "source": [
    "###SQL style merges"
   ]
  },
  {
   "cell_type": "markdown",
   "metadata": {},
   "source": [
    "See the [Database style joining](http://pandas.pydata.org/pandas-docs/version/0.15.2/merging.html#merging-join)."
   ]
  },
  {
   "cell_type": "code",
   "execution_count": 60,
   "metadata": {
    "collapsed": false
   },
   "outputs": [
    {
     "name": "stdout",
     "output_type": "stream",
     "text": [
      "   key  lval\n",
      "0  foo     1\n",
      "1  foo     2\n",
      "   key  rval\n",
      "0  foo     4\n",
      "1  foo     5\n"
     ]
    },
    {
     "data": {
      "text/html": [
       "<div style=\"max-height:1000px;max-width:1500px;overflow:auto;\">\n",
       "<table border=\"1\" class=\"dataframe\">\n",
       "  <thead>\n",
       "    <tr style=\"text-align: right;\">\n",
       "      <th></th>\n",
       "      <th>key</th>\n",
       "      <th>lval</th>\n",
       "      <th>rval</th>\n",
       "    </tr>\n",
       "  </thead>\n",
       "  <tbody>\n",
       "    <tr>\n",
       "      <th>0</th>\n",
       "      <td> foo</td>\n",
       "      <td> 1</td>\n",
       "      <td> 4</td>\n",
       "    </tr>\n",
       "    <tr>\n",
       "      <th>1</th>\n",
       "      <td> foo</td>\n",
       "      <td> 1</td>\n",
       "      <td> 5</td>\n",
       "    </tr>\n",
       "    <tr>\n",
       "      <th>2</th>\n",
       "      <td> foo</td>\n",
       "      <td> 2</td>\n",
       "      <td> 4</td>\n",
       "    </tr>\n",
       "    <tr>\n",
       "      <th>3</th>\n",
       "      <td> foo</td>\n",
       "      <td> 2</td>\n",
       "      <td> 5</td>\n",
       "    </tr>\n",
       "  </tbody>\n",
       "</table>\n",
       "</div>"
      ],
      "text/plain": [
       "   key  lval  rval\n",
       "0  foo     1     4\n",
       "1  foo     1     5\n",
       "2  foo     2     4\n",
       "3  foo     2     5"
      ]
     },
     "execution_count": 60,
     "metadata": {},
     "output_type": "execute_result"
    }
   ],
   "source": [
    "left = pd.DataFrame({'key': ['foo', 'foo'], 'lval': [1, 2]})\n",
    "right = pd.DataFrame({'key': ['foo', 'foo'], 'rval': [4, 5]})\n",
    "print(left)\n",
    "print(right)\n",
    "pd.merge(left, right, on='key')"
   ]
  },
  {
   "cell_type": "markdown",
   "metadata": {},
   "source": [
    "###Handling duplicated rows"
   ]
  },
  {
   "cell_type": "markdown",
   "metadata": {},
   "source": [
    "Finding duplicate rows, where the values in all the columns must be duplicates.  You can not mark either the first or last duplicated row.  The second example creates a new DataFrame containing only the duplicated rows, counting the number of duplicated rows."
   ]
  },
  {
   "cell_type": "code",
   "execution_count": 61,
   "metadata": {
    "collapsed": false
   },
   "outputs": [
    {
     "name": "stdout",
     "output_type": "stream",
     "text": [
      "   A  B  C   D  isdup\n",
      "0  1  1  7  10  False\n",
      "1  1  1  8  11   True\n",
      "2  3  6  9  12  False\n",
      "   A  B  C   D  isdup\n",
      "0  1  1  7  10   True\n",
      "1  1  1  8  11  False\n",
      "2  3  6  9  12  False\n",
      "1\n",
      "   A  B  C   D isdup\n",
      "0  1  1  7  10  True\n"
     ]
    }
   ],
   "source": [
    "df2 = makegridDF()\n",
    "df2.loc[1,'A'] = 1\n",
    "df2.loc[1,'B'] = 1\n",
    "df2.loc[0,'B'] = 1\n",
    "df2['isdup'] = df2.duplicated(subset=['A','B'])\n",
    "print(df2)\n",
    "df2['isdup'] = df2.duplicated(subset=['A','B'], take_last=True)\n",
    "print(df2)\n",
    "\n",
    "# create a new dataframe with the repeated rows\n",
    "df = df2[df2.duplicated(subset=['A','B'], take_last=True)] \n",
    "print(len(df))\n",
    "print(df)"
   ]
  },
  {
   "cell_type": "markdown",
   "metadata": {},
   "source": [
    "The next example only checks for duplicates in column 'A' and then delete these row(s) from the DataFrame."
   ]
  },
  {
   "cell_type": "code",
   "execution_count": 62,
   "metadata": {
    "collapsed": false
   },
   "outputs": [
    {
     "data": {
      "text/html": [
       "<div style=\"max-height:1000px;max-width:1500px;overflow:auto;\">\n",
       "<table border=\"1\" class=\"dataframe\">\n",
       "  <thead>\n",
       "    <tr style=\"text-align: right;\">\n",
       "      <th></th>\n",
       "      <th>A</th>\n",
       "      <th>B</th>\n",
       "      <th>C</th>\n",
       "      <th>D</th>\n",
       "      <th>isdup</th>\n",
       "    </tr>\n",
       "  </thead>\n",
       "  <tbody>\n",
       "    <tr>\n",
       "      <th>1</th>\n",
       "      <td> 1</td>\n",
       "      <td> 1</td>\n",
       "      <td> 8</td>\n",
       "      <td> 11</td>\n",
       "      <td> False</td>\n",
       "    </tr>\n",
       "    <tr>\n",
       "      <th>2</th>\n",
       "      <td> 3</td>\n",
       "      <td> 6</td>\n",
       "      <td> 9</td>\n",
       "      <td> 12</td>\n",
       "      <td> False</td>\n",
       "    </tr>\n",
       "  </tbody>\n",
       "</table>\n",
       "</div>"
      ],
      "text/plain": [
       "   A  B  C   D  isdup\n",
       "1  1  1  8  11  False\n",
       "2  3  6  9  12  False"
      ]
     },
     "execution_count": 62,
     "metadata": {},
     "output_type": "execute_result"
    }
   ],
   "source": [
    "df2.drop_duplicates(subset=['A'], take_last=True, inplace=True)\n",
    "df2"
   ]
  },
  {
   "cell_type": "markdown",
   "metadata": {},
   "source": [
    "The index value of any arbitrary row can be changed by making a list of the index, changing the value in the list and then re-assigning the list back to the DataFrame."
   ]
  },
  {
   "cell_type": "code",
   "execution_count": 63,
   "metadata": {
    "collapsed": false
   },
   "outputs": [
    {
     "name": "stdout",
     "output_type": "stream",
     "text": [
      "               A  B  C   D\n",
      "0              1  4  7  10\n",
      "1              2  5  8  11\n",
      "New Idx Value  3  6  9  12\n"
     ]
    }
   ],
   "source": [
    "df2 = makegridDF()\n",
    "df2.index = df2.index.tolist()[:-1]   + ['New Idx Value']\n",
    "print(df2)"
   ]
  },
  {
   "cell_type": "markdown",
   "metadata": {},
   "source": [
    "###Transpose a DataFrame"
   ]
  },
  {
   "cell_type": "code",
   "execution_count": 64,
   "metadata": {
    "collapsed": false
   },
   "outputs": [
    {
     "name": "stdout",
     "output_type": "stream",
     "text": [
      "    0   1   2\n",
      "A   1   2   3\n",
      "B   4   5   6\n",
      "C   7   8   9\n",
      "D  10  11  12\n",
      "Int64Index([0, 1, 2], dtype='int64')\n",
      "Index([u'A', u'B', u'C', u'D'], dtype='object')\n"
     ]
    }
   ],
   "source": [
    "df = makegridDF()\n",
    "print(df.T)\n",
    "print(df.index)\n",
    "print(df.columns)"
   ]
  },
  {
   "cell_type": "markdown",
   "metadata": {},
   "source": [
    "###Selecting a subset of columns from a DataFrame"
   ]
  },
  {
   "cell_type": "code",
   "execution_count": 65,
   "metadata": {
    "collapsed": false
   },
   "outputs": [
    {
     "name": "stdout",
     "output_type": "stream",
     "text": [
      "   A  B  C   D\n",
      "0  1  4  7  10\n",
      "1  2  5  8  11\n",
      "2  3  6  9  12\n",
      "0    1\n",
      "1    2\n",
      "2    3\n",
      "Name: A, dtype: int64\n",
      "0    1\n",
      "1    2\n",
      "2    3\n",
      "Name: A, dtype: int64\n",
      "   A  B\n",
      "0  1  4\n",
      "1  2  5\n",
      "2  3  6\n"
     ]
    }
   ],
   "source": [
    "df = makegridDF()\n",
    "print(df)\n",
    "print(df.A)\n",
    "print(df['A'])\n",
    "print(df[['A','B']])"
   ]
  },
  {
   "cell_type": "markdown",
   "metadata": {},
   "source": [
    "Selecting a subset of columns may result in a copy or a view of the original DataFrame.  In this example a copy is made when selecting the columns, but a warning ensues when you try to assign a value to an element.  This warning arises because in some cases a view into the original DataFrame is returned and pandas cannot always know which form is used.\n",
    "\n",
    "<http://stackoverflow.com/questions/11285613/selecting-columns>  "
   ]
  },
  {
   "cell_type": "code",
   "execution_count": 66,
   "metadata": {
    "collapsed": false
   },
   "outputs": [
    {
     "name": "stdout",
     "output_type": "stream",
     "text": [
      "   A  B\n",
      "0  1  4\n",
      "1  2  5\n",
      "2  3  6\n",
      "     A  B\n",
      "0    1  4\n",
      "1    2  5\n",
      "2  100  6\n",
      "   A  B  C   D\n",
      "0  1  4  7  10\n",
      "1  2  5  8  11\n",
      "2  3  6  9  12\n"
     ]
    },
    {
     "name": "stderr",
     "output_type": "stream",
     "text": [
      "C:\\Anaconda\\lib\\site-packages\\pandas\\core\\indexing.py:121: SettingWithCopyWarning: \n",
      "A value is trying to be set on a copy of a slice from a DataFrame\n",
      "\n",
      "See the the caveats in the documentation: http://pandas.pydata.org/pandas-docs/stable/indexing.html#indexing-view-versus-copy\n",
      "  self._setitem_with_indexer(indexer, value)\n",
      "C:\\Anaconda\\lib\\site-packages\\IPython\\kernel\\__main__.py:4: SettingWithCopyWarning: \n",
      "A value is trying to be set on a copy of a slice from a DataFrame\n",
      "\n",
      "See the the caveats in the documentation: http://pandas.pydata.org/pandas-docs/stable/indexing.html#indexing-view-versus-copy\n"
     ]
    }
   ],
   "source": [
    "df = makegridDF()\n",
    "df1 = df[['A','B']]\n",
    "print(df1)\n",
    "df1.loc[2,'A'] = 100\n",
    "print(df1)\n",
    "print(df)"
   ]
  },
  {
   "cell_type": "markdown",
   "metadata": {},
   "source": [
    "The more secure way (also get rid of the warning) to build a new DataFrame with a selection of columns is as follows:"
   ]
  },
  {
   "cell_type": "code",
   "execution_count": 67,
   "metadata": {
    "collapsed": false
   },
   "outputs": [
    {
     "name": "stdout",
     "output_type": "stream",
     "text": [
      "   A  B\n",
      "0  1  4\n",
      "1  2  5\n",
      "2  3  6\n",
      "     A  B\n",
      "0    1  4\n",
      "1    2  5\n",
      "2  100  6\n",
      "   A  B  C   D\n",
      "0  1  4  7  10\n",
      "1  2  5  8  11\n",
      "2  3  6  9  12\n"
     ]
    }
   ],
   "source": [
    "df = makegridDF()\n",
    "df1 = df.loc[:,['A','B']]\n",
    "print(df1)\n",
    "df1.loc[2,'A'] = 100\n",
    "print(df1)\n",
    "print(df)"
   ]
  },
  {
   "cell_type": "markdown",
   "metadata": {},
   "source": [
    "Another way would be to use `ix`.  However in this case a view is returned, which means that changing `df1` also changes the original DataFrame."
   ]
  },
  {
   "cell_type": "code",
   "execution_count": 68,
   "metadata": {
    "collapsed": false
   },
   "outputs": [
    {
     "name": "stdout",
     "output_type": "stream",
     "text": [
      "   A  B\n",
      "0  1  4\n",
      "1  2  5\n",
      "2  3  6\n",
      "     A  B\n",
      "0    1  4\n",
      "1    2  5\n",
      "2  100  6\n",
      "     A  B  C   D\n",
      "0    1  4  7  10\n",
      "1    2  5  8  11\n",
      "2  100  6  9  12\n"
     ]
    },
    {
     "name": "stderr",
     "output_type": "stream",
     "text": [
      "C:\\Anaconda\\lib\\site-packages\\IPython\\kernel\\__main__.py:5: SettingWithCopyWarning: \n",
      "A value is trying to be set on a copy of a slice from a DataFrame\n",
      "\n",
      "See the the caveats in the documentation: http://pandas.pydata.org/pandas-docs/stable/indexing.html#indexing-view-versus-copy\n"
     ]
    }
   ],
   "source": [
    "df = makegridDF()\n",
    "# df1 = df.ix[:,slice('A','B')] # this and the following have same effect.\n",
    "df1 = df.ix[:,0:2]  # this and the previous have same effect.\n",
    "print(df1)\n",
    "df1.loc[2,'A'] = 100\n",
    "print(df1)\n",
    "print(df)"
   ]
  },
  {
   "cell_type": "markdown",
   "metadata": {},
   "source": [
    "To force a copy of the original, use the `copy` method."
   ]
  },
  {
   "cell_type": "code",
   "execution_count": 69,
   "metadata": {
    "collapsed": false
   },
   "outputs": [
    {
     "name": "stdout",
     "output_type": "stream",
     "text": [
      "   A  B\n",
      "0  1  4\n",
      "1  2  5\n",
      "2  3  6\n",
      "     A  B\n",
      "0    1  4\n",
      "1    2  5\n",
      "2  100  6\n",
      "   A  B  C   D\n",
      "0  1  4  7  10\n",
      "1  2  5  8  11\n",
      "2  3  6  9  12\n"
     ]
    }
   ],
   "source": [
    "df = makegridDF()\n",
    "df1 = df.ix[:,slice('A','B')].copy() # this and the following have same effect.\n",
    "# df1 = df.ix[:,0:2].copy()  # this and the previous have same effect.\n",
    "print(df1)\n",
    "df1.loc[2,'A'] = 100\n",
    "print(df1)\n",
    "print(df)"
   ]
  },
  {
   "cell_type": "markdown",
   "metadata": {},
   "source": [
    "###Adding a column to a dataframe"
   ]
  },
  {
   "cell_type": "markdown",
   "metadata": {},
   "source": [
    "It is relatively easy to add a column to an existing data frame. "
   ]
  },
  {
   "cell_type": "code",
   "execution_count": 70,
   "metadata": {
    "collapsed": false
   },
   "outputs": [
    {
     "name": "stdout",
     "output_type": "stream",
     "text": [
      "                   A         B         C         D     Total\n",
      "2013-01-01 -2.000762 -0.693116 -0.791277 -1.189644 -3.485155\n",
      "2013-01-02  1.289905  1.290522  0.151470 -1.330298  2.731897\n",
      "2013-01-03  0.339837 -0.137046  1.456081 -1.067535  1.658873\n",
      "2013-01-04 -0.522663 -1.011610  0.663339  0.955362 -0.870934\n",
      "2013-01-05  1.501320 -0.251211  0.579976 -0.131052  1.830085\n",
      "2013-01-06  0.731628 -0.686850  0.171400  2.036577  0.216178\n"
     ]
    }
   ],
   "source": [
    "df = makeDateRand()\n",
    "df['Total'] = df['A'] + df['B'] + df['C']\n",
    "print(df)"
   ]
  },
  {
   "cell_type": "markdown",
   "metadata": {},
   "source": [
    "String concatenation can be used across columns."
   ]
  },
  {
   "cell_type": "code",
   "execution_count": 71,
   "metadata": {
    "collapsed": false
   },
   "outputs": [
    {
     "name": "stdout",
     "output_type": "stream",
     "text": [
      "    A   B   C   D\n",
      "0  0a  0b  0c  0d\n",
      "1  1a  1b  1c  1d\n",
      "2  2a  2b  2c  2d\n",
      "0    0a0b\n",
      "1    1a1b\n",
      "2    2a2b\n",
      "dtype: object\n"
     ]
    }
   ],
   "source": [
    "df = makegAlphaDF()\n",
    "print(df)\n",
    "df2 = df['A'] + df['B']\n",
    "print(df2)"
   ]
  },
  {
   "cell_type": "markdown",
   "metadata": {},
   "source": [
    "###Delete rows based on column value"
   ]
  },
  {
   "cell_type": "markdown",
   "metadata": {},
   "source": [
    "DataFrame has an `isin` method. When calling `isin`, pass a set of values as either an array or dict. If values is an array, isin returns a DataFrame of booleans that is the same shape as the original DataFrame, with True wherever the element is in the sequence of values.\n",
    "\n",
    "<http://pandas.pydata.org/pandas-docs/stable/indexing.html#indexing-with-isin>  \n",
    "<http://pandas.pydata.org/pandas-docs/stable/indexing.html#boolean-indexing>  \n",
    "\n",
    "In the example below delete all rows where the value in column 'A' is in a given list."
   ]
  },
  {
   "cell_type": "code",
   "execution_count": 72,
   "metadata": {
    "collapsed": false
   },
   "outputs": [
    {
     "name": "stdout",
     "output_type": "stream",
     "text": [
      "   A  B  C   D\n",
      "0  1  4  7  10\n",
      "1  2  5  8  11\n",
      "2  3  6  9  12\n",
      "   A  B  C   D\n",
      "1  2  5  8  11\n"
     ]
    }
   ],
   "source": [
    "df = makegridDF()\n",
    "print(df)\n",
    "idx = df['A'].isin([1,3])\n",
    "df = df[~idx]\n",
    "print(df)"
   ]
  },
  {
   "cell_type": "markdown",
   "metadata": {},
   "source": [
    "To match certain values in certain columns make a dict where the key is the column, and the value is a list of items you want to check for.  Combine DataFrame’s `isin()` with the `any()` and `all()` methods to quickly select subsets of your data that meet a given criteria. To select a row where each column meets its own criterion.\n",
    "\n",
    "In the first example, remove all rows where the requirements for __all__ of the tests are met ('A' has 1 or 2, 'B' has 5 or 6, 'C' has 8 and 'D' has 11).\n",
    "\n",
    "<http://docs.scipy.org/doc/numpy/reference/generated/numpy.ndarray.all.html#numpy.ndarray.all>"
   ]
  },
  {
   "cell_type": "code",
   "execution_count": 73,
   "metadata": {
    "collapsed": false
   },
   "outputs": [
    {
     "name": "stdout",
     "output_type": "stream",
     "text": [
      "   A  B  C   D\n",
      "0  1  4  7  10\n",
      "1  2  5  8  11\n",
      "2  3  6  9  12\n",
      "       A      B      C      D\n",
      "0   True  False  False  False\n",
      "1   True   True   True   True\n",
      "2  False   True  False  False\n",
      "0    False\n",
      "1     True\n",
      "2    False\n",
      "dtype: bool\n",
      "   A  B  C   D\n",
      "0  1  4  7  10\n",
      "2  3  6  9  12\n"
     ]
    }
   ],
   "source": [
    "df = makegridDF()\n",
    "print(df)\n",
    "idx = df.isin({'A': [1,2], 'B': [5,6], 'C': [8], 'D': [11]})\n",
    "print(idx)\n",
    "idx = idx.all(axis=1)\n",
    "print(idx)\n",
    "df = df[~idx]\n",
    "print(df)"
   ]
  },
  {
   "cell_type": "markdown",
   "metadata": {},
   "source": [
    "In the second example, drop all rows where the requirements for __any__ of the tests are met ('A' has 1 or 2, 'B' has 5 or 6, 'C' has 8 and 'D' has 11).  In this case, it would drop all rows from the DataFrame, leaving it empty."
   ]
  },
  {
   "cell_type": "code",
   "execution_count": 74,
   "metadata": {
    "collapsed": false
   },
   "outputs": [
    {
     "name": "stdout",
     "output_type": "stream",
     "text": [
      "   A  B  C   D\n",
      "0  1  4  7  10\n",
      "1  2  5  8  11\n",
      "2  3  6  9  12\n",
      "       A      B      C      D\n",
      "0   True  False  False  False\n",
      "1   True   True  False  False\n",
      "2  False   True  False  False\n",
      "0    True\n",
      "1    True\n",
      "2    True\n",
      "dtype: bool\n",
      "Empty DataFrame\n",
      "Columns: [A, B, C, D]\n",
      "Index: []\n"
     ]
    }
   ],
   "source": [
    "df = makegridDF()\n",
    "print(df)\n",
    "idx = df.isin({'A': [1,2], 'B': [5,6]})\n",
    "print(idx)\n",
    "idx = idx.any(axis=1)\n",
    "print(idx)\n",
    "df = df[~idx]\n",
    "print(df)"
   ]
  },
  {
   "cell_type": "markdown",
   "metadata": {},
   "source": [
    "###Sorting"
   ]
  },
  {
   "cell_type": "markdown",
   "metadata": {},
   "source": [
    "Sort by column index (axis=1), i.e., rearrange column order."
   ]
  },
  {
   "cell_type": "code",
   "execution_count": 75,
   "metadata": {
    "collapsed": false
   },
   "outputs": [
    {
     "data": {
      "text/html": [
       "<div style=\"max-height:1000px;max-width:1500px;overflow:auto;\">\n",
       "<table border=\"1\" class=\"dataframe\">\n",
       "  <thead>\n",
       "    <tr style=\"text-align: right;\">\n",
       "      <th></th>\n",
       "      <th>D</th>\n",
       "      <th>C</th>\n",
       "      <th>B</th>\n",
       "      <th>A</th>\n",
       "    </tr>\n",
       "  </thead>\n",
       "  <tbody>\n",
       "    <tr>\n",
       "      <th>2013-01-01</th>\n",
       "      <td>-0.365891</td>\n",
       "      <td> 1.173700</td>\n",
       "      <td>-1.914599</td>\n",
       "      <td> 0.083901</td>\n",
       "    </tr>\n",
       "    <tr>\n",
       "      <th>2013-01-02</th>\n",
       "      <td>-0.627845</td>\n",
       "      <td>-2.349284</td>\n",
       "      <td> 0.179960</td>\n",
       "      <td>-0.814662</td>\n",
       "    </tr>\n",
       "    <tr>\n",
       "      <th>2013-01-03</th>\n",
       "      <td> 0.063058</td>\n",
       "      <td>-0.319690</td>\n",
       "      <td>-0.320729</td>\n",
       "      <td>-1.215805</td>\n",
       "    </tr>\n",
       "    <tr>\n",
       "      <th>2013-01-04</th>\n",
       "      <td>-0.518339</td>\n",
       "      <td>-0.245213</td>\n",
       "      <td> 1.607681</td>\n",
       "      <td>-0.564651</td>\n",
       "    </tr>\n",
       "    <tr>\n",
       "      <th>2013-01-05</th>\n",
       "      <td>-0.161537</td>\n",
       "      <td>-0.847865</td>\n",
       "      <td> 1.472124</td>\n",
       "      <td> 1.263288</td>\n",
       "    </tr>\n",
       "    <tr>\n",
       "      <th>2013-01-06</th>\n",
       "      <td>-0.773052</td>\n",
       "      <td>-0.485287</td>\n",
       "      <td>-1.388910</td>\n",
       "      <td>-0.483969</td>\n",
       "    </tr>\n",
       "  </tbody>\n",
       "</table>\n",
       "</div>"
      ],
      "text/plain": [
       "                   D         C         B         A\n",
       "2013-01-01 -0.365891  1.173700 -1.914599  0.083901\n",
       "2013-01-02 -0.627845 -2.349284  0.179960 -0.814662\n",
       "2013-01-03  0.063058 -0.319690 -0.320729 -1.215805\n",
       "2013-01-04 -0.518339 -0.245213  1.607681 -0.564651\n",
       "2013-01-05 -0.161537 -0.847865  1.472124  1.263288\n",
       "2013-01-06 -0.773052 -0.485287 -1.388910 -0.483969"
      ]
     },
     "execution_count": 75,
     "metadata": {},
     "output_type": "execute_result"
    }
   ],
   "source": [
    "df = makeDateRand()\n",
    "df.sort_index(axis=1, ascending=False)"
   ]
  },
  {
   "cell_type": "markdown",
   "metadata": {},
   "source": [
    "Sort all rows by row value in column B."
   ]
  },
  {
   "cell_type": "code",
   "execution_count": 76,
   "metadata": {
    "collapsed": false
   },
   "outputs": [
    {
     "data": {
      "text/html": [
       "<div style=\"max-height:1000px;max-width:1500px;overflow:auto;\">\n",
       "<table border=\"1\" class=\"dataframe\">\n",
       "  <thead>\n",
       "    <tr style=\"text-align: right;\">\n",
       "      <th></th>\n",
       "      <th>A</th>\n",
       "      <th>B</th>\n",
       "      <th>C</th>\n",
       "      <th>D</th>\n",
       "    </tr>\n",
       "  </thead>\n",
       "  <tbody>\n",
       "    <tr>\n",
       "      <th>2013-01-01</th>\n",
       "      <td> 0.083901</td>\n",
       "      <td>-1.914599</td>\n",
       "      <td> 1.173700</td>\n",
       "      <td>-0.365891</td>\n",
       "    </tr>\n",
       "    <tr>\n",
       "      <th>2013-01-06</th>\n",
       "      <td>-0.483969</td>\n",
       "      <td>-1.388910</td>\n",
       "      <td>-0.485287</td>\n",
       "      <td>-0.773052</td>\n",
       "    </tr>\n",
       "    <tr>\n",
       "      <th>2013-01-03</th>\n",
       "      <td>-1.215805</td>\n",
       "      <td>-0.320729</td>\n",
       "      <td>-0.319690</td>\n",
       "      <td> 0.063058</td>\n",
       "    </tr>\n",
       "    <tr>\n",
       "      <th>2013-01-02</th>\n",
       "      <td>-0.814662</td>\n",
       "      <td> 0.179960</td>\n",
       "      <td>-2.349284</td>\n",
       "      <td>-0.627845</td>\n",
       "    </tr>\n",
       "    <tr>\n",
       "      <th>2013-01-05</th>\n",
       "      <td> 1.263288</td>\n",
       "      <td> 1.472124</td>\n",
       "      <td>-0.847865</td>\n",
       "      <td>-0.161537</td>\n",
       "    </tr>\n",
       "    <tr>\n",
       "      <th>2013-01-04</th>\n",
       "      <td>-0.564651</td>\n",
       "      <td> 1.607681</td>\n",
       "      <td>-0.245213</td>\n",
       "      <td>-0.518339</td>\n",
       "    </tr>\n",
       "  </tbody>\n",
       "</table>\n",
       "</div>"
      ],
      "text/plain": [
       "                   A         B         C         D\n",
       "2013-01-01  0.083901 -1.914599  1.173700 -0.365891\n",
       "2013-01-06 -0.483969 -1.388910 -0.485287 -0.773052\n",
       "2013-01-03 -1.215805 -0.320729 -0.319690  0.063058\n",
       "2013-01-02 -0.814662  0.179960 -2.349284 -0.627845\n",
       "2013-01-05  1.263288  1.472124 -0.847865 -0.161537\n",
       "2013-01-04 -0.564651  1.607681 -0.245213 -0.518339"
      ]
     },
     "execution_count": 76,
     "metadata": {},
     "output_type": "execute_result"
    }
   ],
   "source": [
    "df.sort(columns='B')"
   ]
  },
  {
   "cell_type": "markdown",
   "metadata": {},
   "source": [
    "Sort all rows by row value in multiple columns."
   ]
  },
  {
   "cell_type": "code",
   "execution_count": 77,
   "metadata": {
    "collapsed": false
   },
   "outputs": [
    {
     "data": {
      "text/html": [
       "<div style=\"max-height:1000px;max-width:1500px;overflow:auto;\">\n",
       "<table border=\"1\" class=\"dataframe\">\n",
       "  <thead>\n",
       "    <tr style=\"text-align: right;\">\n",
       "      <th></th>\n",
       "      <th>A</th>\n",
       "      <th>B</th>\n",
       "      <th>C</th>\n",
       "      <th>D</th>\n",
       "    </tr>\n",
       "  </thead>\n",
       "  <tbody>\n",
       "    <tr>\n",
       "      <th>2013-01-01</th>\n",
       "      <td> 0.083901</td>\n",
       "      <td>-1.914599</td>\n",
       "      <td> 1.173700</td>\n",
       "      <td>-0.365891</td>\n",
       "    </tr>\n",
       "    <tr>\n",
       "      <th>2013-01-06</th>\n",
       "      <td>-0.483969</td>\n",
       "      <td>-1.388910</td>\n",
       "      <td>-0.485287</td>\n",
       "      <td>-0.773052</td>\n",
       "    </tr>\n",
       "    <tr>\n",
       "      <th>2013-01-03</th>\n",
       "      <td>-1.215805</td>\n",
       "      <td>-0.320729</td>\n",
       "      <td>-0.319690</td>\n",
       "      <td> 0.063058</td>\n",
       "    </tr>\n",
       "    <tr>\n",
       "      <th>2013-01-02</th>\n",
       "      <td>-0.814662</td>\n",
       "      <td> 0.179960</td>\n",
       "      <td>-2.349284</td>\n",
       "      <td>-0.627845</td>\n",
       "    </tr>\n",
       "    <tr>\n",
       "      <th>2013-01-05</th>\n",
       "      <td> 1.263288</td>\n",
       "      <td> 1.472124</td>\n",
       "      <td>-0.847865</td>\n",
       "      <td>-0.161537</td>\n",
       "    </tr>\n",
       "    <tr>\n",
       "      <th>2013-01-04</th>\n",
       "      <td>-0.564651</td>\n",
       "      <td> 1.607681</td>\n",
       "      <td>-0.245213</td>\n",
       "      <td>-0.518339</td>\n",
       "    </tr>\n",
       "  </tbody>\n",
       "</table>\n",
       "</div>"
      ],
      "text/plain": [
       "                   A         B         C         D\n",
       "2013-01-01  0.083901 -1.914599  1.173700 -0.365891\n",
       "2013-01-06 -0.483969 -1.388910 -0.485287 -0.773052\n",
       "2013-01-03 -1.215805 -0.320729 -0.319690  0.063058\n",
       "2013-01-02 -0.814662  0.179960 -2.349284 -0.627845\n",
       "2013-01-05  1.263288  1.472124 -0.847865 -0.161537\n",
       "2013-01-04 -0.564651  1.607681 -0.245213 -0.518339"
      ]
     },
     "execution_count": 77,
     "metadata": {},
     "output_type": "execute_result"
    }
   ],
   "source": [
    "df.sort(columns=['B', 'C'])"
   ]
  },
  {
   "cell_type": "markdown",
   "metadata": {},
   "source": [
    "You can introduce custom sorting by using categoricals.  In this example, first sort the 'G' column on default sorting (alphabetical).  Then redefine the 'G' column as a categorical with a specific sort order. Then re-sort, using the categorical sort order."
   ]
  },
  {
   "cell_type": "code",
   "execution_count": 78,
   "metadata": {
    "collapsed": false
   },
   "outputs": [
    {
     "name": "stdout",
     "output_type": "stream",
     "text": [
      "   A          B  C  D      E    F     G\n",
      "0  1 2013-01-02  1  3   test  foo  foox\n",
      "1  1 2013-01-02  1  3  train  foo  fooa\n",
      "2  1 2013-01-02  1  3   test  foo  foon\n",
      "3  1 2013-01-02  1  3  train  foo  fooz\n",
      "   A          B  C  D      E    F     G\n",
      "1  1 2013-01-02  1  3  train  foo  fooa\n",
      "2  1 2013-01-02  1  3   test  foo  foon\n",
      "0  1 2013-01-02  1  3   test  foo  foox\n",
      "3  1 2013-01-02  1  3  train  foo  fooz\n",
      "   A          B  C  D      E    F     G\n",
      "3  1 2013-01-02  1  3  train  foo  fooz\n",
      "1  1 2013-01-02  1  3  train  foo  fooa\n",
      "0  1 2013-01-02  1  3   test  foo  foox\n",
      "2  1 2013-01-02  1  3   test  foo  foon\n"
     ]
    }
   ],
   "source": [
    "df = makecatedf()\n",
    "print(df)\n",
    "print(df.sort(columns='G'))\n",
    "      \n",
    "gsorter = ['fooz','fooa','foox','foon']\n",
    "df.G = df.G.astype(\"category\")\n",
    "df.G.cat.set_categories(gsorter, inplace=True) \n",
    "print(df.sort(columns='G'))\n"
   ]
  },
  {
   "cell_type": "markdown",
   "metadata": {},
   "source": [
    "###Slicing and selecting sub-arrays"
   ]
  },
  {
   "cell_type": "markdown",
   "metadata": {},
   "source": [
    "While standard Python / Numpy expressions for selecting and setting are intuitive and come in handy for interactive work, for production code, use the optimized pandas data access methods, .at, .iat, .loc, .iloc and .ix. \n",
    "\n",
    "[Indexing and Selecting Data](http://pandas.pydata.org/pandas-docs/version/0.15.2/indexing.html#indexing)  \n",
    "[MultiIndex / Advanced Indexing](http://pandas.pydata.org/pandas-docs/version/0.15.2/advanced.html#advanced)\n",
    "\n",
    "The [pandas site](http://pandas.pydata.org/pandas-docs/stable/indexing.html) offers the following description:\n",
    "\n",
    "Object selection has had a number of user-requested additions in order to support more explicit location based indexing. pandas now supports three types of multi-axis indexing.\n",
    "\n",
    "1.    `.ix` supports mixed integer and label based access. It is primarily label based, but will fall back to integer positional access unless the corresponding axis is of integer type. `.ix` is the most general and will support any of the inputs in `.loc` and `.iloc`. `.ix` also supports floating point label schemes. .ix is exceptionally useful when dealing with mixed positional and label based hierarchical indexes.      However, when an axis is integer based, ONLY label based access and not positional access is supported. Thus, in such cases, it’s usually better to be explicit and use `.iloc` or `.loc`.    \n",
    "       `.ix` does not and cannot guarantee that the label versus integer position resolution is perfect - you may run into [problems](https://github.com/pydata/pandas/issues/6683)  here.  `.ix` is an older method than than `.loc` and `.iloc` and was introduced to specifically prevent ambiguity by using stricted rules on data selection. `.ix` is faster than than `.loc` and `.iloc`\n",
    "\n",
    "     See more at [Advanced Indexing](http://pandas.pydata.org/pandas-docs/stable/advanced.html#advanced) and [Advanced Hierarchical](http://pandas.pydata.org/pandas-docs/stable/advanced.html#advanced-advanced-hierarchical).\n",
    "\n",
    "1.    `.loc` is primarily label based, but may also be used with a boolean array. `.loc` will raise `KeyError` when the items are not found. Allowed inputs are:\n",
    "       * A single label, e.g. 5 or 'a', (note that 5 is interpreted as a label of the index. This use is not an integer position along the index)\n",
    "       * A list or array of labels ['a', 'b', 'c']\n",
    "       * A slice object with labels 'a':'f', (note that contrary to usual python slices, **both** the start and the stop are included!)\n",
    "       * A boolean array\n",
    "\n",
    "     See more at [Selection by Label](http://pandas.pydata.org/pandas-docs/stable/indexing.html#indexing-label)\n",
    "\n",
    "1.     `.iloc` is primarily integer position based (from `0` to `length-1` of the axis), but may also be used with a boolean array. `.iloc`  will raise `IndexError` if a requested indexer is out-of-bounds, except slice indexers which allow out-of-bounds indexing. (this conforms with python/numpy slice semantics). Allowed inputs are:\n",
    "       * An integer e.g. 5\n",
    "       * A list or array of integers [4, 3, 0]\n",
    "       * A slice object with ints 1:7\n",
    "       * A boolean array\n",
    "\n",
    "     See more at [Selection by Position](http://pandas.pydata.org/pandas-docs/stable/indexing.html#indexing-integer)\n",
    "\n",
    "\n",
    "Getting values from an object with multi-axes selection uses the following notation (using `.loc` as an example, but applies to `.iloc` and `.ix` as well). Any of the axes accessors may be the null slice `:`. Axes left out of the specification are assumed to be `:`. (e.g. `p.loc['a']` is equiv to `p.loc['a', :, :]`)\n",
    "\n",
    "|Object Type |\tIndexers|\n",
    "|--|--|\n",
    "|Series \t|`s.loc[indexer]`|\n",
    "|DataFrame \t|`df.loc[row_indexer,column_indexer]`|\n",
    "|Panel \t|`p.loc[item_indexer,major_indexer,minor_indexer]`|\n",
    "\n",
    "\n",
    "<http://nbviewer.ipython.org/github/gboeing/python-cheat-sheets/blob/master/pandas-selecting.ipynb>  \n"
   ]
  },
  {
   "cell_type": "markdown",
   "metadata": {},
   "source": [
    "###Conventional selection by column/index name"
   ]
  },
  {
   "cell_type": "markdown",
   "metadata": {},
   "source": [
    "Selecting a single column with the form `df['A']`, yields a Series, equivalent to df.A.  \n",
    "To select multiple columns  pass a list of column names as in `df[ ['A','B'] ]`."
   ]
  },
  {
   "cell_type": "code",
   "execution_count": 79,
   "metadata": {
    "collapsed": false
   },
   "outputs": [
    {
     "name": "stdout",
     "output_type": "stream",
     "text": [
      "0    1\n",
      "1    2\n",
      "2    3\n",
      "Name: A, dtype: int64\n",
      "0    1\n",
      "1    2\n",
      "2    3\n",
      "Name: A, dtype: int64\n",
      "   A  B\n",
      "0  1  4\n",
      "1  2  5\n",
      "2  3  6\n"
     ]
    }
   ],
   "source": [
    "df = makegridDF()\n",
    "print(df.A)\n",
    "print(df['A'])\n",
    "print(df[['A','B']])"
   ]
  },
  {
   "cell_type": "markdown",
   "metadata": {},
   "source": [
    "Extract the Numpy array from the series in one of these two ways:"
   ]
  },
  {
   "cell_type": "code",
   "execution_count": 80,
   "metadata": {
    "collapsed": false
   },
   "outputs": [
    {
     "name": "stdout",
     "output_type": "stream",
     "text": [
      "[1 2 3]\n",
      "[1 2 3]\n"
     ]
    }
   ],
   "source": [
    "print(np.asarray(df['A']))\n",
    "print(df['A'].values)"
   ]
  },
  {
   "cell_type": "markdown",
   "metadata": {},
   "source": [
    "Slice rows using `df[]`, using index values or row numbers.   The row sequence can use slice notation, note that the upper bound is not included.  \n",
    "\n",
    "This is the same form as used for columns above - somewhat confusing!"
   ]
  },
  {
   "cell_type": "code",
   "execution_count": 81,
   "metadata": {
    "collapsed": false
   },
   "outputs": [
    {
     "name": "stdout",
     "output_type": "stream",
     "text": [
      "                   A         B         C         D\n",
      "2013-01-01 -0.049537 -0.442201 -1.970254  0.862714\n",
      "2013-01-02  0.087023 -0.492432  0.248465  0.600162\n",
      "2013-01-03 -0.723006 -0.336371  1.675453  0.717462\n",
      "2013-01-04  0.292548  0.222891 -1.081402  0.414287\n",
      "2013-01-05 -0.756815 -1.527111  0.813545  0.491031\n",
      "2013-01-06 -0.792586 -1.027306 -0.158722  0.560602\n",
      "                   A         B         C         D\n",
      "2013-01-03 -0.723006 -0.336371  1.675453  0.717462\n",
      "2013-01-04  0.292548  0.222891 -1.081402  0.414287\n"
     ]
    }
   ],
   "source": [
    "df = makeDateRand()\n",
    "print(df)\n",
    "print(df[2:4])"
   ]
  },
  {
   "cell_type": "code",
   "execution_count": 82,
   "metadata": {
    "collapsed": false
   },
   "outputs": [
    {
     "name": "stdout",
     "output_type": "stream",
     "text": [
      "                   A         B         C         D\n",
      "2013-01-01 -0.049537 -0.442201 -1.970254  0.862714\n",
      "2013-01-02  0.087023 -0.492432  0.248465  0.600162\n"
     ]
    }
   ],
   "source": [
    "print(df['2013-01-01':'2013-01-02'])"
   ]
  },
  {
   "cell_type": "markdown",
   "metadata": {},
   "source": [
    "###[`.ix` Conventional selection by label or position](http://pandas.pydata.org/pandas-docs/version/0.15.2/indexing.html#indexing-integer)"
   ]
  },
  {
   "cell_type": "markdown",
   "metadata": {},
   "source": [
    "You can use `ix` to select slices of the data frame.  "
   ]
  },
  {
   "cell_type": "code",
   "execution_count": 83,
   "metadata": {
    "collapsed": false
   },
   "outputs": [
    {
     "name": "stdout",
     "output_type": "stream",
     "text": [
      "                   A         B         C         D\n",
      "2013-01-01  0.057676  0.558993 -1.591971 -0.690108\n",
      "2013-01-02 -1.179716  1.187584 -0.093978  0.870272\n",
      "2013-01-03  0.290115  1.238796  1.044845  0.307820\n",
      "2013-01-04  0.356530 -0.506842 -1.480214  1.201315\n",
      "2013-01-05 -0.878509  2.323929  0.496367 -0.539124\n",
      "2013-01-06 -0.772658 -0.261086  1.875940  0.884133\n",
      "\n",
      "2013-01-01   -0.690108\n",
      "2013-01-02    0.870272\n",
      "2013-01-03    0.307820\n",
      "2013-01-04    1.201315\n",
      "2013-01-05   -0.539124\n",
      "2013-01-06    0.884133\n",
      "Freq: D, Name: D, dtype: float64\n",
      "                   A         B\n",
      "2013-01-01  0.057676  0.558993\n",
      "2013-01-02 -1.179716  1.187584\n",
      "                   A         C         D\n",
      "2013-01-01  0.057676 -1.591971 -0.690108\n",
      "2013-01-02 -1.179716 -0.093978  0.870272\n",
      "                   A         B         C\n",
      "2013-01-02 -1.179716  1.187584 -0.093978\n",
      "2013-01-03  0.290115  1.238796  1.044845\n",
      "                   A         C\n",
      "2013-01-03  0.290115  1.044845\n",
      "2013-01-04  0.356530 -1.480214\n",
      "                   B         C         D\n",
      "2013-01-02  1.187584 -0.093978  0.870272\n",
      "2013-01-03  1.238796  1.044845  0.307820\n",
      "                   A         B         C\n",
      "2013-01-02 -1.179716  1.187584 -0.093978\n",
      "2013-01-03  0.290115  1.238796  1.044845\n",
      "                   A         B         C         D\n",
      "2013-01-01  0.057676  0.558993 -1.591971 -0.690108\n",
      "2013-01-02 -1.000000 -1.000000 -1.000000  0.870272\n",
      "2013-01-03 -1.000000 -1.000000 -1.000000  0.307820\n",
      "2013-01-04  0.356530 -0.506842 -1.480214  1.201315\n",
      "2013-01-05 -0.878509  2.323929  0.496367 -0.539124\n",
      "2013-01-06 -0.772658 -0.261086  1.875940  0.884133\n"
     ]
    }
   ],
   "source": [
    "df = makeDateRand()\n",
    "print(df)\n",
    "print('')\n",
    "print(df.ix[:, 'D']) # All rows in column D\n",
    "print(df.ix[0:2, 0:2]) # upper left 2x2 sub-array, not including third [2] column \n",
    "print(df.ix[0:2, [0,2,3]]) # multiple columns in list format\n",
    "print(df.ix[1:3, 'A':'C']) # use range of column names, same effect as above, note 'C' included!!\n",
    "print(df.ix[2:4, ['A','C']]) # use list of column names\n",
    "print(df.ix[1:3, 'B':]) # All columns onwards from 'B'\n",
    "print(df.ix[1:3, :'C']) # All columns up to and including!! C\n",
    "df.ix[1:3, :'C'] = -1\n",
    "print(df)"
   ]
  },
  {
   "cell_type": "markdown",
   "metadata": {},
   "source": [
    "To copy discontinuous column ranges takes a bit more effort. First create lists of the required columns"
   ]
  },
  {
   "cell_type": "code",
   "execution_count": 84,
   "metadata": {
    "collapsed": false
   },
   "outputs": [
    {
     "name": "stdout",
     "output_type": "stream",
     "text": [
      "['A', 'C']\n",
      "                      A         C\n",
      "2013-01-01    -1.443114 -0.206099\n",
      "2013-01-02    -0.369420 -1.494783\n",
      "2013-01-03  1000.000000 -0.027470\n",
      "2013-01-04    -1.143143 -1.681478\n",
      "2013-01-05    -0.492624  0.986621\n",
      "2013-01-06     1.702025  3.081244\n",
      "                      A         C\n",
      "2013-01-01    -1.443114 -0.206099\n",
      "2013-01-02    -0.369420 -1.494783\n",
      "2013-01-03  1000.000000 -0.027470\n",
      "2013-01-04    -1.143143 -1.681478\n",
      "2013-01-05    -0.492624  0.986621\n",
      "2013-01-06     1.702025  3.081244\n",
      "                   A         B         C         D\n",
      "2013-01-01 -1.443114 -1.808870 -0.206099 -0.942299\n",
      "2013-01-02 -0.369420  0.895848 -1.494783 -0.282347\n",
      "2013-01-03 -0.104783  0.800126 -0.027470  0.539052\n",
      "2013-01-04 -1.143143  2.292103 -1.681478 -1.584916\n",
      "2013-01-05 -0.492624 -0.630026  0.986621 -0.603984\n",
      "2013-01-06  1.702025 -0.653170  3.081244  0.254265\n"
     ]
    }
   ],
   "source": [
    "df = makeDateRand()\n",
    "lst = list(df.columns[0:1]) + list(df.columns[2:3])\n",
    "print(lst)\n",
    "df1 = df[lst].copy() # copy was made, use this to get rid of the warning \n",
    "df1.ix[2,0] = +1000\n",
    "print(df1)\n",
    "\n",
    "df2 = df.ix[:,lst] # ix appears to have made a copy\n",
    "df2.ix[2,0] = +1000\n",
    "print(df2)\n",
    "print(df)\n",
    "\n"
   ]
  },
  {
   "cell_type": "markdown",
   "metadata": {},
   "source": [
    "###[`.loc` Selection by Label](http://pandas.pydata.org/pandas-docs/version/0.15.2/indexing.html#indexing-label)"
   ]
  },
  {
   "cell_type": "markdown",
   "metadata": {},
   "source": [
    "The following example is strange in the sense that is refers to the index by name (see the function where the DataFrame was created), but the index is not named.  Yet, it can/must be used, by using the Series name `dates`. This is probably because pandas  has strong support for time Series."
   ]
  },
  {
   "cell_type": "code",
   "execution_count": 1,
   "metadata": {
    "collapsed": false
   },
   "outputs": [
    {
     "ename": "NameError",
     "evalue": "name 'makeDateRand' is not defined",
     "output_type": "error",
     "traceback": [
      "\u001b[1;31m---------------------------------------------------------------------------\u001b[0m",
      "\u001b[1;31mNameError\u001b[0m                                 Traceback (most recent call last)",
      "\u001b[1;32m<ipython-input-1-1c1ca81c0886>\u001b[0m in \u001b[0;36m<module>\u001b[1;34m()\u001b[0m\n\u001b[1;32m----> 1\u001b[1;33m \u001b[0mdf\u001b[0m \u001b[1;33m=\u001b[0m \u001b[0mmakeDateRand\u001b[0m\u001b[1;33m(\u001b[0m\u001b[1;33m)\u001b[0m\u001b[1;33m\u001b[0m\u001b[0m\n\u001b[0m\u001b[0;32m      2\u001b[0m \u001b[1;32mprint\u001b[0m\u001b[1;33m(\u001b[0m\u001b[0mdf\u001b[0m\u001b[1;33m)\u001b[0m\u001b[1;33m\u001b[0m\u001b[0m\n\u001b[0;32m      3\u001b[0m \u001b[1;32mprint\u001b[0m\u001b[1;33m(\u001b[0m\u001b[0mdf\u001b[0m\u001b[1;33m.\u001b[0m\u001b[0mindex\u001b[0m\u001b[1;33m)\u001b[0m\u001b[1;33m\u001b[0m\u001b[0m\n\u001b[0;32m      4\u001b[0m \u001b[1;32mprint\u001b[0m\u001b[1;33m(\u001b[0m\u001b[0mdf\u001b[0m\u001b[1;33m.\u001b[0m\u001b[0mindex\u001b[0m\u001b[1;33m.\u001b[0m\u001b[0mname\u001b[0m\u001b[1;33m)\u001b[0m\u001b[1;33m\u001b[0m\u001b[0m\n\u001b[0;32m      5\u001b[0m \u001b[1;32mprint\u001b[0m\u001b[1;33m(\u001b[0m\u001b[0mdf\u001b[0m\u001b[1;33m.\u001b[0m\u001b[0mcolumns\u001b[0m\u001b[1;33m)\u001b[0m\u001b[1;33m\u001b[0m\u001b[0m\n",
      "\u001b[1;31mNameError\u001b[0m: name 'makeDateRand' is not defined"
     ]
    }
   ],
   "source": [
    "df = makeDateRand()\n",
    "print(df)\n",
    "print(df.index)\n",
    "print(df.index.name)\n",
    "print(df.columns)\n",
    "print(df.loc[dates[0]])"
   ]
  },
  {
   "cell_type": "markdown",
   "metadata": {},
   "source": [
    "In this example the row at count=0 is accessed just by the count number.  The index is not named."
   ]
  },
  {
   "cell_type": "code",
   "execution_count": null,
   "metadata": {
    "collapsed": false
   },
   "outputs": [],
   "source": [
    "df = makegridDF()\n",
    "print(df)\n",
    "print(df.index)\n",
    "print(df.index.name)\n",
    "print(df.loc[0])"
   ]
  },
  {
   "cell_type": "markdown",
   "metadata": {},
   "source": [
    "Select all the rows, but only the 'A' and 'B' columns of these rows."
   ]
  },
  {
   "cell_type": "code",
   "execution_count": null,
   "metadata": {
    "collapsed": false
   },
   "outputs": [],
   "source": [
    "df.loc[:,['A','B']]"
   ]
  },
  {
   "cell_type": "markdown",
   "metadata": {},
   "source": [
    "In the following example a slice is made on both rows and columns.  Note that when using `loc` both endpoints in the row range are returned, but in die `ix` case the upper bound must point to one beyond the end row."
   ]
  },
  {
   "cell_type": "code",
   "execution_count": null,
   "metadata": {
    "collapsed": false
   },
   "outputs": [],
   "source": [
    "df = makeDateRand()\n",
    "print(df.loc['20130102':'20130104',['A','B']])\n",
    "print(df.ix[1:4,['A','B']])"
   ]
  },
  {
   "cell_type": "markdown",
   "metadata": {},
   "source": [
    "This example selects a row by using a dynamically generated datetime value."
   ]
  },
  {
   "cell_type": "code",
   "execution_count": null,
   "metadata": {
    "collapsed": false
   },
   "outputs": [],
   "source": [
    "df = makeDateRand()\n",
    "df.ix[datetime(2013,01,02)]"
   ]
  },
  {
   "cell_type": "markdown",
   "metadata": {},
   "source": [
    "Rows can also be selected by numeric index by using the `irow` method."
   ]
  },
  {
   "cell_type": "code",
   "execution_count": null,
   "metadata": {
    "collapsed": false
   },
   "outputs": [],
   "source": [
    "df = makeDateRand()\n",
    "print(df)\n",
    "print(df.irow(1))\n",
    "print(df.irow(3))"
   ]
  },
  {
   "cell_type": "markdown",
   "metadata": {},
   "source": [
    "This example iterates over all rows, assigning values to each row during iteration."
   ]
  },
  {
   "cell_type": "code",
   "execution_count": null,
   "metadata": {
    "collapsed": false
   },
   "outputs": [],
   "source": [
    "df = makeDateRand()\n",
    "print(df.head())\n",
    "for i,(idx, row) in enumerate(df.iterrows()):\n",
    "    row['A'] = 2\n",
    "    df.ix[idx, 'B'] = i\n",
    "    df.ix[idx]['C'] = np.sqrt(i)\n",
    "print(df.head())"
   ]
  },
  {
   "cell_type": "code",
   "execution_count": 86,
   "metadata": {
    "collapsed": true
   },
   "outputs": [],
   "source": [
    "#tbc"
   ]
  },
  {
   "cell_type": "markdown",
   "metadata": {},
   "source": [
    "###[`.iloc` Selection by Position](http://pandas.pydata.org/pandas-docs/version/0.15.2/indexing.html#indexing-integer)"
   ]
  },
  {
   "cell_type": "markdown",
   "metadata": {},
   "source": [
    "The `iloc` "
   ]
  },
  {
   "cell_type": "code",
   "execution_count": 87,
   "metadata": {
    "collapsed": false
   },
   "outputs": [
    {
     "data": {
      "text/plain": [
       "A   -0.076820\n",
       "B   -0.363033\n",
       "C   -0.816235\n",
       "D    1.931114\n",
       "Name: 2013-01-04 00:00:00, dtype: float64"
      ]
     },
     "execution_count": 87,
     "metadata": {},
     "output_type": "execute_result"
    }
   ],
   "source": [
    "df = makeDateRand()\n",
    "df.iloc[3]"
   ]
  },
  {
   "cell_type": "code",
   "execution_count": 88,
   "metadata": {
    "collapsed": false
   },
   "outputs": [
    {
     "data": {
      "text/html": [
       "<div style=\"max-height:1000px;max-width:1500px;overflow:auto;\">\n",
       "<table border=\"1\" class=\"dataframe\">\n",
       "  <thead>\n",
       "    <tr style=\"text-align: right;\">\n",
       "      <th></th>\n",
       "      <th>A</th>\n",
       "      <th>B</th>\n",
       "    </tr>\n",
       "  </thead>\n",
       "  <tbody>\n",
       "    <tr>\n",
       "      <th>2013-01-04</th>\n",
       "      <td>-0.076820</td>\n",
       "      <td>-0.363033</td>\n",
       "    </tr>\n",
       "    <tr>\n",
       "      <th>2013-01-05</th>\n",
       "      <td>-0.453421</td>\n",
       "      <td>-1.748829</td>\n",
       "    </tr>\n",
       "  </tbody>\n",
       "</table>\n",
       "</div>"
      ],
      "text/plain": [
       "                   A         B\n",
       "2013-01-04 -0.076820 -0.363033\n",
       "2013-01-05 -0.453421 -1.748829"
      ]
     },
     "execution_count": 88,
     "metadata": {},
     "output_type": "execute_result"
    }
   ],
   "source": [
    "df.iloc[3:5,0:2]"
   ]
  },
  {
   "cell_type": "code",
   "execution_count": 89,
   "metadata": {
    "collapsed": false
   },
   "outputs": [
    {
     "data": {
      "text/html": [
       "<div style=\"max-height:1000px;max-width:1500px;overflow:auto;\">\n",
       "<table border=\"1\" class=\"dataframe\">\n",
       "  <thead>\n",
       "    <tr style=\"text-align: right;\">\n",
       "      <th></th>\n",
       "      <th>A</th>\n",
       "      <th>C</th>\n",
       "    </tr>\n",
       "  </thead>\n",
       "  <tbody>\n",
       "    <tr>\n",
       "      <th>2013-01-02</th>\n",
       "      <td> 0.500771</td>\n",
       "      <td>-0.579059</td>\n",
       "    </tr>\n",
       "    <tr>\n",
       "      <th>2013-01-03</th>\n",
       "      <td> 1.781403</td>\n",
       "      <td> 1.678803</td>\n",
       "    </tr>\n",
       "    <tr>\n",
       "      <th>2013-01-05</th>\n",
       "      <td>-0.453421</td>\n",
       "      <td> 0.999213</td>\n",
       "    </tr>\n",
       "  </tbody>\n",
       "</table>\n",
       "</div>"
      ],
      "text/plain": [
       "                   A         C\n",
       "2013-01-02  0.500771 -0.579059\n",
       "2013-01-03  1.781403  1.678803\n",
       "2013-01-05 -0.453421  0.999213"
      ]
     },
     "execution_count": 89,
     "metadata": {},
     "output_type": "execute_result"
    }
   ],
   "source": [
    "df.iloc[[1,2,4],[0,2]]"
   ]
  },
  {
   "cell_type": "code",
   "execution_count": 90,
   "metadata": {
    "collapsed": false
   },
   "outputs": [
    {
     "data": {
      "text/html": [
       "<div style=\"max-height:1000px;max-width:1500px;overflow:auto;\">\n",
       "<table border=\"1\" class=\"dataframe\">\n",
       "  <thead>\n",
       "    <tr style=\"text-align: right;\">\n",
       "      <th></th>\n",
       "      <th>A</th>\n",
       "      <th>B</th>\n",
       "      <th>C</th>\n",
       "      <th>D</th>\n",
       "    </tr>\n",
       "  </thead>\n",
       "  <tbody>\n",
       "    <tr>\n",
       "      <th>2013-01-02</th>\n",
       "      <td> 0.500771</td>\n",
       "      <td>-0.648795</td>\n",
       "      <td>-0.579059</td>\n",
       "      <td> 1.478035</td>\n",
       "    </tr>\n",
       "    <tr>\n",
       "      <th>2013-01-03</th>\n",
       "      <td> 1.781403</td>\n",
       "      <td> 0.328850</td>\n",
       "      <td> 1.678803</td>\n",
       "      <td> 1.058212</td>\n",
       "    </tr>\n",
       "  </tbody>\n",
       "</table>\n",
       "</div>"
      ],
      "text/plain": [
       "                   A         B         C         D\n",
       "2013-01-02  0.500771 -0.648795 -0.579059  1.478035\n",
       "2013-01-03  1.781403  0.328850  1.678803  1.058212"
      ]
     },
     "execution_count": 90,
     "metadata": {},
     "output_type": "execute_result"
    }
   ],
   "source": [
    "#slicing rows\n",
    "df.iloc[1:3,:]"
   ]
  },
  {
   "cell_type": "code",
   "execution_count": 91,
   "metadata": {
    "collapsed": false
   },
   "outputs": [
    {
     "data": {
      "text/html": [
       "<div style=\"max-height:1000px;max-width:1500px;overflow:auto;\">\n",
       "<table border=\"1\" class=\"dataframe\">\n",
       "  <thead>\n",
       "    <tr style=\"text-align: right;\">\n",
       "      <th></th>\n",
       "      <th>B</th>\n",
       "      <th>C</th>\n",
       "    </tr>\n",
       "  </thead>\n",
       "  <tbody>\n",
       "    <tr>\n",
       "      <th>2013-01-01</th>\n",
       "      <td> 0.135470</td>\n",
       "      <td> 1.985935</td>\n",
       "    </tr>\n",
       "    <tr>\n",
       "      <th>2013-01-02</th>\n",
       "      <td>-0.648795</td>\n",
       "      <td>-0.579059</td>\n",
       "    </tr>\n",
       "    <tr>\n",
       "      <th>2013-01-03</th>\n",
       "      <td> 0.328850</td>\n",
       "      <td> 1.678803</td>\n",
       "    </tr>\n",
       "    <tr>\n",
       "      <th>2013-01-04</th>\n",
       "      <td>-0.363033</td>\n",
       "      <td>-0.816235</td>\n",
       "    </tr>\n",
       "    <tr>\n",
       "      <th>2013-01-05</th>\n",
       "      <td>-1.748829</td>\n",
       "      <td> 0.999213</td>\n",
       "    </tr>\n",
       "    <tr>\n",
       "      <th>2013-01-06</th>\n",
       "      <td> 1.952574</td>\n",
       "      <td>-1.615337</td>\n",
       "    </tr>\n",
       "  </tbody>\n",
       "</table>\n",
       "</div>"
      ],
      "text/plain": [
       "                   B         C\n",
       "2013-01-01  0.135470  1.985935\n",
       "2013-01-02 -0.648795 -0.579059\n",
       "2013-01-03  0.328850  1.678803\n",
       "2013-01-04 -0.363033 -0.816235\n",
       "2013-01-05 -1.748829  0.999213\n",
       "2013-01-06  1.952574 -1.615337"
      ]
     },
     "execution_count": 91,
     "metadata": {},
     "output_type": "execute_result"
    }
   ],
   "source": [
    "#slicing columns\n",
    "df.iloc[:,1:3]"
   ]
  },
  {
   "cell_type": "code",
   "execution_count": 92,
   "metadata": {
    "collapsed": false
   },
   "outputs": [
    {
     "data": {
      "text/plain": [
       "-0.64879466137027653"
      ]
     },
     "execution_count": 92,
     "metadata": {},
     "output_type": "execute_result"
    }
   ],
   "source": [
    "df.iloc[1,1]"
   ]
  },
  {
   "cell_type": "markdown",
   "metadata": {},
   "source": [
    "###Series/DataFrame [enlargement](http://pandas.pydata.org/pandas-docs/version/0.15.2/indexing.html#setting-with-enlargement)"
   ]
  },
  {
   "cell_type": "markdown",
   "metadata": {},
   "source": [
    "The `.loc`/`.ix/[]` operations can perform enlargement when setting a non-existent key for that axis. In the Series case this is effectively an appending operation."
   ]
  },
  {
   "cell_type": "code",
   "execution_count": 93,
   "metadata": {
    "collapsed": false
   },
   "outputs": [
    {
     "name": "stdout",
     "output_type": "stream",
     "text": [
      "0    1\n",
      "1    2\n",
      "2    3\n",
      "dtype: int64\n",
      "0    1\n",
      "1    2\n",
      "2    3\n",
      "5    5\n",
      "dtype: float64\n"
     ]
    }
   ],
   "source": [
    "se = pd.Series([1,2,3])\n",
    "print(se) \n",
    "se[5] = 5.\n",
    "print(se)"
   ]
  },
  {
   "cell_type": "markdown",
   "metadata": {},
   "source": [
    "A DataFrame can be enlarged on either axis via `.loc`"
   ]
  },
  {
   "cell_type": "code",
   "execution_count": 94,
   "metadata": {
    "collapsed": false
   },
   "outputs": [
    {
     "name": "stdout",
     "output_type": "stream",
     "text": [
      "   A  B\n",
      "0  0  1\n",
      "1  2  3\n",
      "2  4  5\n",
      "   A  B  C\n",
      "0  0  1  0\n",
      "1  2  3  2\n",
      "2  4  5  4\n",
      "   A  B  C\n",
      "0  0  1  0\n",
      "1  2  3  2\n",
      "2  4  5  4\n",
      "3  5  5  5\n"
     ]
    }
   ],
   "source": [
    "dfi = pd.DataFrame(np.arange(6).reshape(3,2),columns=['A','B'])\n",
    "print(dfi)\n",
    "dfi.loc[:,'C'] = dfi.loc[:,'A']\n",
    "print(dfi)\n",
    "dfi.loc[3] = 5\n",
    "print(dfi)"
   ]
  },
  {
   "cell_type": "markdown",
   "metadata": {},
   "source": [
    "###Find row where index is nearest to given value"
   ]
  },
  {
   "cell_type": "code",
   "execution_count": 95,
   "metadata": {
    "collapsed": false
   },
   "outputs": [
    {
     "name": "stdout",
     "output_type": "stream",
     "text": [
      "                   A         B         C         D\n",
      "2013-01-01  0.189437  1.968306 -0.522984 -0.666837\n",
      "2013-01-02 -0.242677  0.100030  2.273329 -0.514808\n",
      "2013-01-03  0.247026  1.102906 -1.309020 -0.260669\n",
      "2013-01-04  0.203573 -1.968246  0.554815  0.056351\n",
      "2013-01-05 -0.258134 -0.924069  1.358362  0.185336\n",
      "2013-01-06 -0.511529 -1.546994 -1.382004 -0.510906\n",
      "A    0.203573\n",
      "B   -1.968246\n",
      "C    0.554815\n",
      "D    0.056351\n",
      "Name: 2013-01-04 00:00:00, dtype: float64\n",
      "3\n"
     ]
    }
   ],
   "source": [
    "df = makeDateRand()\n",
    "print(df)\n",
    "print(df.iloc[np.argmin(np.abs(df.index.to_pydatetime() - datetime.datetime(2013,1,4)))]) # row\n",
    "print(np.argmin(np.abs(df.index.to_pydatetime() - datetime.datetime(2013,1,4)))) # index"
   ]
  },
  {
   "cell_type": "code",
   "execution_count": 96,
   "metadata": {
    "collapsed": false
   },
   "outputs": [
    {
     "name": "stdout",
     "output_type": "stream",
     "text": [
      "          A         B         C         D\n",
      "0 -0.119847  0.025491  1.390878 -2.482371\n",
      "1 -0.325850 -1.306201  0.019596  0.673565\n",
      "2  0.546756 -0.447161  0.341329  0.353256\n",
      "3  0.822402 -1.071836 -1.742314 -0.559044\n",
      "<class 'pandas.core.series.Series'>\n",
      "A    0.546756\n",
      "B   -0.447161\n",
      "C    0.341329\n",
      "D    0.353256\n",
      "Name: 2, dtype: float64\n",
      "2\n"
     ]
    }
   ],
   "source": [
    "df = makeRand()\n",
    "print(df)\n",
    "row = df.iloc[np.argmin(np.abs(df.index - 2))] # row\n",
    "print(type(row))\n",
    "print(row)\n",
    "print(np.argmin(np.abs(df.index - 2))) # index"
   ]
  },
  {
   "cell_type": "markdown",
   "metadata": {},
   "source": [
    "###Find row where column is maximum"
   ]
  },
  {
   "cell_type": "code",
   "execution_count": 97,
   "metadata": {
    "collapsed": false
   },
   "outputs": [
    {
     "name": "stdout",
     "output_type": "stream",
     "text": [
      "          A         B         C         D\n",
      "0  0.914431 -0.876124 -0.424277 -0.462927\n",
      "1 -0.762158 -0.071080  0.406489 -1.499572\n",
      "2 -1.903506  0.222047 -0.624086  0.480266\n",
      "3  0.050370  0.063461 -1.321908 -0.974930\n",
      "0\n",
      "A    0.914431\n",
      "B   -0.876124\n",
      "C   -0.424277\n",
      "D   -0.462927\n",
      "Name: 0, dtype: float64\n"
     ]
    }
   ],
   "source": [
    "df = makeRand()\n",
    "print(df)\n",
    "print(df['A'].argmax(df['A'].argmax()))  # index\n",
    "print(df.iloc[df['A'].argmax(df['A'].argmax())]) #row"
   ]
  },
  {
   "cell_type": "markdown",
   "metadata": {},
   "source": [
    "###Find row where specific column has nearest value"
   ]
  },
  {
   "cell_type": "code",
   "execution_count": 98,
   "metadata": {
    "collapsed": false
   },
   "outputs": [
    {
     "name": "stdout",
     "output_type": "stream",
     "text": [
      "          A         B         C         D\n",
      "0 -0.856433  0.891878 -0.528332 -1.112698\n",
      "1  0.015759  0.037903  0.003651  0.051812\n",
      "2  1.743219  0.835476  0.964045  0.468997\n",
      "3 -0.098828  0.672620  1.415898 -0.128546\n",
      "A    0.015759\n",
      "B    0.037903\n",
      "C    0.003651\n",
      "D    0.051812\n",
      "Name: 1, dtype: float64\n",
      "1\n"
     ]
    }
   ],
   "source": [
    "df = makeRand()\n",
    "print(df)\n",
    "value = 0\n",
    "print(df.iloc[np.argmin(np.abs(df['A'] - value))]) # row\n",
    "print(np.argmin(np.abs(df['A'] - value))) # index"
   ]
  },
  {
   "cell_type": "markdown",
   "metadata": {},
   "source": [
    "###Boolean indexing and filtering"
   ]
  },
  {
   "cell_type": "code",
   "execution_count": 99,
   "metadata": {
    "collapsed": false
   },
   "outputs": [
    {
     "data": {
      "text/html": [
       "<div style=\"max-height:1000px;max-width:1500px;overflow:auto;\">\n",
       "<table border=\"1\" class=\"dataframe\">\n",
       "  <thead>\n",
       "    <tr style=\"text-align: right;\">\n",
       "      <th></th>\n",
       "      <th>A</th>\n",
       "      <th>B</th>\n",
       "      <th>C</th>\n",
       "      <th>D</th>\n",
       "    </tr>\n",
       "  </thead>\n",
       "  <tbody>\n",
       "    <tr>\n",
       "      <th>2013-01-02</th>\n",
       "      <td> 0.080407</td>\n",
       "      <td>-0.690036</td>\n",
       "      <td>-0.708607</td>\n",
       "      <td> 0.925353</td>\n",
       "    </tr>\n",
       "    <tr>\n",
       "      <th>2013-01-03</th>\n",
       "      <td> 0.760107</td>\n",
       "      <td>-0.761684</td>\n",
       "      <td>-0.613358</td>\n",
       "      <td>-0.245375</td>\n",
       "    </tr>\n",
       "    <tr>\n",
       "      <th>2013-01-04</th>\n",
       "      <td> 2.218780</td>\n",
       "      <td>-0.008792</td>\n",
       "      <td>-1.279419</td>\n",
       "      <td> 2.019393</td>\n",
       "    </tr>\n",
       "    <tr>\n",
       "      <th>2013-01-05</th>\n",
       "      <td> 0.015791</td>\n",
       "      <td>-1.157923</td>\n",
       "      <td>-1.439321</td>\n",
       "      <td>-0.721750</td>\n",
       "    </tr>\n",
       "    <tr>\n",
       "      <th>2013-01-06</th>\n",
       "      <td> 1.784830</td>\n",
       "      <td> 1.164756</td>\n",
       "      <td> 0.295163</td>\n",
       "      <td> 0.414056</td>\n",
       "    </tr>\n",
       "  </tbody>\n",
       "</table>\n",
       "</div>"
      ],
      "text/plain": [
       "                   A         B         C         D\n",
       "2013-01-02  0.080407 -0.690036 -0.708607  0.925353\n",
       "2013-01-03  0.760107 -0.761684 -0.613358 -0.245375\n",
       "2013-01-04  2.218780 -0.008792 -1.279419  2.019393\n",
       "2013-01-05  0.015791 -1.157923 -1.439321 -0.721750\n",
       "2013-01-06  1.784830  1.164756  0.295163  0.414056"
      ]
     },
     "execution_count": 99,
     "metadata": {},
     "output_type": "execute_result"
    }
   ],
   "source": [
    "#filter by single row\n",
    "df = makeDateRand()\n",
    "df[df.A > 0]"
   ]
  },
  {
   "cell_type": "code",
   "execution_count": 100,
   "metadata": {
    "collapsed": false
   },
   "outputs": [
    {
     "data": {
      "text/html": [
       "<div style=\"max-height:1000px;max-width:1500px;overflow:auto;\">\n",
       "<table border=\"1\" class=\"dataframe\">\n",
       "  <thead>\n",
       "    <tr style=\"text-align: right;\">\n",
       "      <th></th>\n",
       "      <th>A</th>\n",
       "      <th>B</th>\n",
       "      <th>C</th>\n",
       "      <th>D</th>\n",
       "    </tr>\n",
       "  </thead>\n",
       "  <tbody>\n",
       "    <tr>\n",
       "      <th>2013-01-06</th>\n",
       "      <td> 1.78483</td>\n",
       "      <td> 1.164756</td>\n",
       "      <td> 0.295163</td>\n",
       "      <td> 0.414056</td>\n",
       "    </tr>\n",
       "  </tbody>\n",
       "</table>\n",
       "</div>"
      ],
      "text/plain": [
       "                  A         B         C         D\n",
       "2013-01-06  1.78483  1.164756  0.295163  0.414056"
      ]
     },
     "execution_count": 100,
     "metadata": {},
     "output_type": "execute_result"
    }
   ],
   "source": [
    "#filter by multiple row\n",
    "df2 = df[(df.A>0) & (df.B>0)]\n",
    "df2"
   ]
  },
  {
   "cell_type": "code",
   "execution_count": 101,
   "metadata": {
    "collapsed": false
   },
   "outputs": [
    {
     "name": "stdout",
     "output_type": "stream",
     "text": [
      "(<class 'pandas.core.series.Series'>, 2013-01-01    False\n",
      "2013-01-02    False\n",
      "2013-01-03    False\n",
      "2013-01-04    False\n",
      "2013-01-05    False\n",
      "2013-01-06     True\n",
      "Freq: D, dtype: bool)\n",
      "filt.any() = True\n",
      "filt.all() = False\n"
     ]
    }
   ],
   "source": [
    "#filter specs are pandas time series, which can be manipulated\n",
    "filt = (df.A>0) & (df.B>0)\n",
    "print(type(filt), filt)\n",
    "print('filt.any() = {}'.format(filt.any()))\n",
    "print('filt.all() = {}'.format(filt.all()))"
   ]
  },
  {
   "cell_type": "code",
   "execution_count": 102,
   "metadata": {
    "collapsed": false
   },
   "outputs": [
    {
     "data": {
      "text/html": [
       "<div style=\"max-height:1000px;max-width:1500px;overflow:auto;\">\n",
       "<table border=\"1\" class=\"dataframe\">\n",
       "  <thead>\n",
       "    <tr style=\"text-align: right;\">\n",
       "      <th></th>\n",
       "      <th>A</th>\n",
       "      <th>B</th>\n",
       "      <th>C</th>\n",
       "      <th>D</th>\n",
       "    </tr>\n",
       "  </thead>\n",
       "  <tbody>\n",
       "    <tr>\n",
       "      <th>2013-01-01</th>\n",
       "      <td>      NaN</td>\n",
       "      <td>      NaN</td>\n",
       "      <td> 0.067313</td>\n",
       "      <td>      NaN</td>\n",
       "    </tr>\n",
       "    <tr>\n",
       "      <th>2013-01-02</th>\n",
       "      <td> 0.080407</td>\n",
       "      <td>      NaN</td>\n",
       "      <td>      NaN</td>\n",
       "      <td> 0.925353</td>\n",
       "    </tr>\n",
       "    <tr>\n",
       "      <th>2013-01-03</th>\n",
       "      <td> 0.760107</td>\n",
       "      <td>      NaN</td>\n",
       "      <td>      NaN</td>\n",
       "      <td>      NaN</td>\n",
       "    </tr>\n",
       "    <tr>\n",
       "      <th>2013-01-04</th>\n",
       "      <td> 2.218780</td>\n",
       "      <td>      NaN</td>\n",
       "      <td>      NaN</td>\n",
       "      <td> 2.019393</td>\n",
       "    </tr>\n",
       "    <tr>\n",
       "      <th>2013-01-05</th>\n",
       "      <td> 0.015791</td>\n",
       "      <td>      NaN</td>\n",
       "      <td>      NaN</td>\n",
       "      <td>      NaN</td>\n",
       "    </tr>\n",
       "    <tr>\n",
       "      <th>2013-01-06</th>\n",
       "      <td> 1.784830</td>\n",
       "      <td> 1.164756</td>\n",
       "      <td> 0.295163</td>\n",
       "      <td> 0.414056</td>\n",
       "    </tr>\n",
       "  </tbody>\n",
       "</table>\n",
       "</div>"
      ],
      "text/plain": [
       "                   A         B         C         D\n",
       "2013-01-01       NaN       NaN  0.067313       NaN\n",
       "2013-01-02  0.080407       NaN       NaN  0.925353\n",
       "2013-01-03  0.760107       NaN       NaN       NaN\n",
       "2013-01-04  2.218780       NaN       NaN  2.019393\n",
       "2013-01-05  0.015791       NaN       NaN       NaN\n",
       "2013-01-06  1.784830  1.164756  0.295163  0.414056"
      ]
     },
     "execution_count": 102,
     "metadata": {},
     "output_type": "execute_result"
    }
   ],
   "source": [
    "#filter by element\n",
    "df[df > 0]"
   ]
  },
  {
   "cell_type": "code",
   "execution_count": 103,
   "metadata": {
    "collapsed": false
   },
   "outputs": [
    {
     "name": "stdout",
     "output_type": "stream",
     "text": [
      "                   A         B         C         D      E\n",
      "2013-01-01 -0.243915 -0.543940  0.067313 -0.898526    one\n",
      "2013-01-02  0.080407 -0.690036 -0.708607  0.925353    one\n",
      "2013-01-03  0.760107 -0.761684 -0.613358 -0.245375    two\n",
      "2013-01-04  2.218780 -0.008792 -1.279419  2.019393  three\n",
      "2013-01-05  0.015791 -1.157923 -1.439321 -0.721750   four\n",
      "2013-01-06  1.784830  1.164756  0.295163  0.414056  three\n"
     ]
    },
    {
     "data": {
      "text/html": [
       "<div style=\"max-height:1000px;max-width:1500px;overflow:auto;\">\n",
       "<table border=\"1\" class=\"dataframe\">\n",
       "  <thead>\n",
       "    <tr style=\"text-align: right;\">\n",
       "      <th></th>\n",
       "      <th>A</th>\n",
       "      <th>B</th>\n",
       "      <th>C</th>\n",
       "      <th>D</th>\n",
       "      <th>E</th>\n",
       "    </tr>\n",
       "  </thead>\n",
       "  <tbody>\n",
       "    <tr>\n",
       "      <th>2013-01-03</th>\n",
       "      <td> 0.760107</td>\n",
       "      <td>-0.761684</td>\n",
       "      <td>-0.613358</td>\n",
       "      <td>-0.245375</td>\n",
       "      <td>  two</td>\n",
       "    </tr>\n",
       "    <tr>\n",
       "      <th>2013-01-05</th>\n",
       "      <td> 0.015791</td>\n",
       "      <td>-1.157923</td>\n",
       "      <td>-1.439321</td>\n",
       "      <td>-0.721750</td>\n",
       "      <td> four</td>\n",
       "    </tr>\n",
       "  </tbody>\n",
       "</table>\n",
       "</div>"
      ],
      "text/plain": [
       "                   A         B         C         D     E\n",
       "2013-01-03  0.760107 -0.761684 -0.613358 -0.245375   two\n",
       "2013-01-05  0.015791 -1.157923 -1.439321 -0.721750  four"
      ]
     },
     "execution_count": 103,
     "metadata": {},
     "output_type": "execute_result"
    }
   ],
   "source": [
    "#isin filtering\n",
    "df2 = df.copy()\n",
    "df2['E']=['one', 'one','two','three','four','three']\n",
    "print(df2)\n",
    "df2[df2['E'].isin(['two','four'])]"
   ]
  },
  {
   "cell_type": "code",
   "execution_count": 104,
   "metadata": {
    "collapsed": false
   },
   "outputs": [
    {
     "name": "stdout",
     "output_type": "stream",
     "text": [
      "     A      B         C         D\n",
      "0  foo    one  0.052574 -0.613090\n",
      "1  bar    one  1.027308  0.627374\n",
      "2  foo    two  0.429571 -0.118539\n",
      "3  bar  three -1.453048 -0.935133\n",
      "4  foo    two -2.016775  0.081391\n",
      "5  bar    two  1.268818 -0.327257\n",
      "6  foo    one -0.864569  0.847683\n",
      "7  foo  three  1.893796  0.039157\n"
     ]
    },
    {
     "data": {
      "text/plain": [
       "array(['one', 'two', 'three'], dtype=object)"
      ]
     },
     "execution_count": 104,
     "metadata": {},
     "output_type": "execute_result"
    }
   ],
   "source": [
    "#get unique values in a column\n",
    "df = makefoobar()\n",
    "print(df)\n",
    "df.B.unique()"
   ]
  },
  {
   "cell_type": "markdown",
   "metadata": {},
   "source": [
    "<http://stackoverflow.com/questions/20875140/apply-function-to-sets-of-columns-in-pandas-looping-over-entire-data-frame-co>  \n",
    "\n",
    "What I want to do is simply to calculate the length of the vector for each header (A and B) in this case, for each index, and divide by the Time column. Hence, this function needs to be np.sqrt(A_x^2 + A_y^2 + A_z^2) and the same for B of course. I.e. I am looking to calculate the velocity for each row, but three columns contribute to one velocity result.      "
   ]
  },
  {
   "cell_type": "code",
   "execution_count": 105,
   "metadata": {
    "collapsed": false
   },
   "outputs": [
    {
     "name": "stdout",
     "output_type": "stream",
     "text": [
      "['A_x', 'A_y', 'A_z']\n",
      "         A_x       A_y       A_z\n",
      "1   1.274422 -0.074900 -1.045540\n",
      "2   0.601166 -1.538175  0.138731\n",
      "3  -0.590328  0.523427  0.908862\n",
      "4   0.039466 -1.053585  0.576629\n",
      "5   1.136747  2.863533  1.000475\n",
      "6   1.341582  0.548275 -0.609797\n",
      "7   0.328577  0.780283 -0.415993\n",
      "8  -1.107100  1.087305 -1.297485\n",
      "9  -0.554681  1.485139 -0.502074\n",
      "10 -1.150768 -0.739333  2.356498\n",
      "        Time       A_x       A_y       A_z       B_x       B_y       B_z  Velocity_A  Velocity_B\n",
      "1  -0.824695  1.274422 -0.074900 -1.045540  0.279494 -0.660912  1.736886   -2.000892   -2.278759\n",
      "2  -0.233684  0.601166 -1.538175  0.138731  1.636022 -2.410247  1.293684   -7.092031  -13.639748\n",
      "3   1.564057 -0.590328  0.523427  0.908862 -0.293161  0.327054 -0.244306    0.769495    0.321335\n",
      "4   0.903773  0.039466 -1.053585  0.576629  1.763697 -0.106925 -0.390330    1.329656    2.002201\n",
      "5  -0.489718  1.136747  2.863533  1.000475  0.420421 -1.065808  0.482030   -6.614597   -2.538201\n",
      "6   0.500923  1.341582  0.548275 -0.609797  0.382299 -0.241813 -0.685184    3.138916    1.639050\n",
      "7   0.507794  0.328577  0.780283 -0.415993 -1.471988 -0.121683 -1.215849    1.857684    3.767414\n",
      "8   0.917423 -1.107100  1.087305 -1.297485 -1.148553 -0.275345  0.589672    2.204778    1.438938\n",
      "9   0.103108 -0.554681  1.485139 -0.502074 -0.851475  1.532658 -0.646455   16.128128   18.123421\n",
      "10 -1.942210 -1.150768 -0.739333  2.356498 -0.188219  1.982319  0.865970   -1.402884   -1.117998\n"
     ]
    }
   ],
   "source": [
    "#pandas approach\n",
    "headers = ['Time', 'A_x', 'A_y', 'A_z', 'B_x', 'B_y', 'B_z']\n",
    "df = pd.DataFrame(np.random.randn(10,7),index=range(1,11),columns=headers)\n",
    "\n",
    "#fiter the column names to get a list of the ones you need\n",
    "print(filter(lambda x: x.startswith(\"A_\"),df.columns))\n",
    "\n",
    "#get the columns according to names\n",
    "print(df[filter(lambda x: x.startswith(\"A_\"),df.columns)])\n",
    "\n",
    "# do the apply dot product for each row across columns\n",
    "column_initials = [\"A\",\"B\"]\n",
    "for column_initial in column_initials:\n",
    "    df[\"Velocity_\"+column_initial] = \\\n",
    "    df[filter(lambda x: x.startswith(column_initial+\"_\"),df.columns)].apply(lambda x: np.sqrt(x.dot(x)), axis=1)/df.Time\n",
    "print(df)  \n"
   ]
  },
  {
   "cell_type": "code",
   "execution_count": 106,
   "metadata": {
    "collapsed": false
   },
   "outputs": [
    {
     "name": "stdout",
     "output_type": "stream",
     "text": [
      "   Velocity_A  Velocity_B\n",
      "0    2.563454    3.758577\n",
      "1    0.223032    1.404826\n",
      "2    2.703913    1.694411\n",
      "3    3.188365    2.945370\n",
      "4   -0.160827   -0.726197\n",
      "5   -2.193410   -1.100944\n",
      "6   -1.531621   -1.712556\n",
      "7    2.708106    2.057796\n",
      "8    3.172638    4.060869\n",
      "9    3.105611    1.820739\n"
     ]
    }
   ],
   "source": [
    "#numpy approach\n",
    "headers = ['Time', 'A_x', 'A_y', 'A_z', 'B_x', 'B_y', 'B_z']\n",
    "df = pd.DataFrame(np.random.randn(10,7),index=range(1,11),columns=headers)\n",
    "\n",
    "arr = df.values\n",
    "times = arr[:,0]\n",
    "arr = arr[:,1:]\n",
    "result = np.sqrt((arr**2).reshape(arr.shape[0],-1,3).sum(axis=-1))/times[:,None]\n",
    "result = pd.DataFrame(result, columns=['Velocity_%s'%(x,) for x in list('AB')])\n",
    "print(result)"
   ]
  },
  {
   "cell_type": "code",
   "execution_count": 107,
   "metadata": {
    "collapsed": false
   },
   "outputs": [
    {
     "name": "stdout",
     "output_type": "stream",
     "text": [
      "            A          B\n",
      "1   -0.649460  -0.799907\n",
      "2  -17.659506 -13.504172\n",
      "3    4.263316  14.890226\n",
      "4    0.811496   1.529205\n",
      "5   -2.424726  -3.881509\n",
      "6   -2.249967  -2.542003\n",
      "7   -3.141124  -1.482995\n",
      "8    5.004939   3.854648\n",
      "9   -2.721320  -2.436191\n",
      "10  -1.165735  -1.842153\n"
     ]
    }
   ],
   "source": [
    "# yet another approach\n",
    "headers = ['Time', 'A_x', 'A_y', 'A_z', 'B_x', 'B_y', 'B_z']\n",
    "df = pd.DataFrame(np.random.randn(10,7),index=range(1,11),columns=headers)\n",
    "\n",
    "result = df\\\n",
    "    .loc[:, df.columns!='Time']\\\n",
    "    .groupby(lambda x: x[0], axis=1)\\\n",
    "    .apply(lambda x: np.sqrt((x**2).sum(1)))\\\n",
    "    .apply(lambda x: x / df['Time'])\n",
    "\n",
    "print(result)"
   ]
  },
  {
   "cell_type": "markdown",
   "metadata": {},
   "source": [
    "###Setting data"
   ]
  },
  {
   "cell_type": "code",
   "execution_count": 108,
   "metadata": {
    "collapsed": false
   },
   "outputs": [
    {
     "data": {
      "text/plain": [
       "(0.5179013623765184, 3.8148887812136141, 0.8382415036510682)"
      ]
     },
     "execution_count": 108,
     "metadata": {},
     "output_type": "execute_result"
    }
   ],
   "source": [
    "#Adding the sum along a column\n",
    "df = makeDateRand()\n",
    "df['A'].sum(), df['B'].sum(), df['C'].sum(), "
   ]
  },
  {
   "cell_type": "code",
   "execution_count": 109,
   "metadata": {
    "collapsed": false
   },
   "outputs": [
    {
     "name": "stdout",
     "output_type": "stream",
     "text": [
      "                   A         B         C         D     Total\n",
      "2013-01-01 -0.328146  0.029867  0.485955 -0.280282  0.187677\n",
      "2013-01-02 -0.020318  0.340067  1.112996 -0.195323  1.432745\n",
      "2013-01-03 -0.834466  0.280605  1.106838  0.767093  0.552978\n",
      "2013-01-04 -1.874333  0.817828 -0.671192 -1.042477 -1.727697\n",
      "2013-01-05  1.367361  1.647769  0.982360  2.303161  3.997490\n",
      "2013-01-06  1.903007  2.175426  1.417710  0.317822  5.496143\n"
     ]
    }
   ],
   "source": [
    "df = makeDateRand()\n",
    "df['Total'] = df['A'] + df['B'] + df['C']\n",
    "print(df)"
   ]
  },
  {
   "cell_type": "code",
   "execution_count": 110,
   "metadata": {
    "collapsed": false
   },
   "outputs": [
    {
     "data": {
      "text/plain": [
       "A        0.213105\n",
       "B        5.291564\n",
       "Total    9.939336\n",
       "dtype: float64"
      ]
     },
     "execution_count": 110,
     "metadata": {},
     "output_type": "execute_result"
    }
   ],
   "source": [
    "sum_row = df[['A','B','Total']].sum()\n",
    "sum_row"
   ]
  },
  {
   "cell_type": "markdown",
   "metadata": {},
   "source": [
    "We need to transpose the data and convert the Series to a DataFrame so that it is easier to concat onto our existing data. The T function allows us to switch the data from being row-based to column-based.\n",
    "\n"
   ]
  },
  {
   "cell_type": "code",
   "execution_count": 111,
   "metadata": {
    "collapsed": false
   },
   "outputs": [
    {
     "data": {
      "text/html": [
       "<div style=\"max-height:1000px;max-width:1500px;overflow:auto;\">\n",
       "<table border=\"1\" class=\"dataframe\">\n",
       "  <thead>\n",
       "    <tr style=\"text-align: right;\">\n",
       "      <th></th>\n",
       "      <th>A</th>\n",
       "      <th>B</th>\n",
       "      <th>Total</th>\n",
       "    </tr>\n",
       "  </thead>\n",
       "  <tbody>\n",
       "    <tr>\n",
       "      <th>0</th>\n",
       "      <td> 0.213105</td>\n",
       "      <td> 5.291564</td>\n",
       "      <td> 9.939336</td>\n",
       "    </tr>\n",
       "  </tbody>\n",
       "</table>\n",
       "</div>"
      ],
      "text/plain": [
       "          A         B     Total\n",
       "0  0.213105  5.291564  9.939336"
      ]
     },
     "execution_count": 111,
     "metadata": {},
     "output_type": "execute_result"
    }
   ],
   "source": [
    "df_sum=pd.DataFrame(data=sum_row).T\n",
    "df_sum"
   ]
  },
  {
   "cell_type": "markdown",
   "metadata": {},
   "source": [
    "The final thing we need to do before adding the totals back is to add the missing columns. We use reindex to do this for us. The trick is to add all of our columns and then allow pandas to fill in the values that are missing.\n"
   ]
  },
  {
   "cell_type": "code",
   "execution_count": 112,
   "metadata": {
    "collapsed": false
   },
   "outputs": [
    {
     "data": {
      "text/html": [
       "<div style=\"max-height:1000px;max-width:1500px;overflow:auto;\">\n",
       "<table border=\"1\" class=\"dataframe\">\n",
       "  <thead>\n",
       "    <tr style=\"text-align: right;\">\n",
       "      <th></th>\n",
       "      <th>A</th>\n",
       "      <th>B</th>\n",
       "      <th>C</th>\n",
       "      <th>D</th>\n",
       "      <th>Total</th>\n",
       "    </tr>\n",
       "  </thead>\n",
       "  <tbody>\n",
       "    <tr>\n",
       "      <th>0</th>\n",
       "      <td> 0.213105</td>\n",
       "      <td> 5.291564</td>\n",
       "      <td>NaN</td>\n",
       "      <td>NaN</td>\n",
       "      <td> 9.939336</td>\n",
       "    </tr>\n",
       "  </tbody>\n",
       "</table>\n",
       "</div>"
      ],
      "text/plain": [
       "          A         B   C   D     Total\n",
       "0  0.213105  5.291564 NaN NaN  9.939336"
      ]
     },
     "execution_count": 112,
     "metadata": {},
     "output_type": "execute_result"
    }
   ],
   "source": [
    "df_sum=df_sum.reindex(columns=df.columns)\n",
    "df_sum"
   ]
  },
  {
   "cell_type": "markdown",
   "metadata": {},
   "source": [
    "Now append the totals to the end of the dataframe, rename the index value to use the word 'Total'."
   ]
  },
  {
   "cell_type": "code",
   "execution_count": 113,
   "metadata": {
    "collapsed": false
   },
   "outputs": [
    {
     "data": {
      "text/html": [
       "<div style=\"max-height:1000px;max-width:1500px;overflow:auto;\">\n",
       "<table border=\"1\" class=\"dataframe\">\n",
       "  <thead>\n",
       "    <tr style=\"text-align: right;\">\n",
       "      <th></th>\n",
       "      <th>A</th>\n",
       "      <th>B</th>\n",
       "      <th>C</th>\n",
       "      <th>D</th>\n",
       "      <th>Total</th>\n",
       "    </tr>\n",
       "  </thead>\n",
       "  <tbody>\n",
       "    <tr>\n",
       "      <th>2</th>\n",
       "      <td>-0.834466</td>\n",
       "      <td> 0.280605</td>\n",
       "      <td> 1.106838</td>\n",
       "      <td> 0.767093</td>\n",
       "      <td> 0.552978</td>\n",
       "    </tr>\n",
       "    <tr>\n",
       "      <th>3</th>\n",
       "      <td>-1.874333</td>\n",
       "      <td> 0.817828</td>\n",
       "      <td>-0.671192</td>\n",
       "      <td>-1.042477</td>\n",
       "      <td>-1.727697</td>\n",
       "    </tr>\n",
       "    <tr>\n",
       "      <th>4</th>\n",
       "      <td> 1.367361</td>\n",
       "      <td> 1.647769</td>\n",
       "      <td> 0.982360</td>\n",
       "      <td> 2.303161</td>\n",
       "      <td> 3.997490</td>\n",
       "    </tr>\n",
       "    <tr>\n",
       "      <th>5</th>\n",
       "      <td> 1.903007</td>\n",
       "      <td> 2.175426</td>\n",
       "      <td> 1.417710</td>\n",
       "      <td> 0.317822</td>\n",
       "      <td> 5.496143</td>\n",
       "    </tr>\n",
       "    <tr>\n",
       "      <th>Total</th>\n",
       "      <td> 0.213105</td>\n",
       "      <td> 5.291564</td>\n",
       "      <td>      NaN</td>\n",
       "      <td>      NaN</td>\n",
       "      <td> 9.939336</td>\n",
       "    </tr>\n",
       "  </tbody>\n",
       "</table>\n",
       "</div>"
      ],
      "text/plain": [
       "              A         B         C         D     Total\n",
       "2     -0.834466  0.280605  1.106838  0.767093  0.552978\n",
       "3     -1.874333  0.817828 -0.671192 -1.042477 -1.727697\n",
       "4      1.367361  1.647769  0.982360  2.303161  3.997490\n",
       "5      1.903007  2.175426  1.417710  0.317822  5.496143\n",
       "Total  0.213105  5.291564       NaN       NaN  9.939336"
      ]
     },
     "execution_count": 113,
     "metadata": {},
     "output_type": "execute_result"
    }
   ],
   "source": [
    "df=df.append(df_sum,ignore_index=True)\n",
    "df.index = df.index.tolist()[:-1]   + ['Total']\n",
    "df.tail()"
   ]
  },
  {
   "cell_type": "code",
   "execution_count": null,
   "metadata": {
    "collapsed": true
   },
   "outputs": [],
   "source": []
  },
  {
   "cell_type": "markdown",
   "metadata": {},
   "source": [
    "Setting a new column automatically aligns the data by the indexes"
   ]
  },
  {
   "cell_type": "code",
   "execution_count": 114,
   "metadata": {
    "collapsed": false
   },
   "outputs": [
    {
     "data": {
      "text/html": [
       "<div style=\"max-height:1000px;max-width:1500px;overflow:auto;\">\n",
       "<table border=\"1\" class=\"dataframe\">\n",
       "  <thead>\n",
       "    <tr style=\"text-align: right;\">\n",
       "      <th></th>\n",
       "      <th>A</th>\n",
       "      <th>B</th>\n",
       "      <th>C</th>\n",
       "      <th>D</th>\n",
       "      <th>E</th>\n",
       "      <th>F</th>\n",
       "    </tr>\n",
       "  </thead>\n",
       "  <tbody>\n",
       "    <tr>\n",
       "      <th>2013-01-01</th>\n",
       "      <td>-0.243915</td>\n",
       "      <td>-0.543940</td>\n",
       "      <td> 0.067313</td>\n",
       "      <td>-0.898526</td>\n",
       "      <td>   one</td>\n",
       "      <td>NaN</td>\n",
       "    </tr>\n",
       "    <tr>\n",
       "      <th>2013-01-02</th>\n",
       "      <td> 0.080407</td>\n",
       "      <td>-0.690036</td>\n",
       "      <td>-0.708607</td>\n",
       "      <td> 0.925353</td>\n",
       "      <td>   one</td>\n",
       "      <td>  1</td>\n",
       "    </tr>\n",
       "    <tr>\n",
       "      <th>2013-01-03</th>\n",
       "      <td> 0.760107</td>\n",
       "      <td>-0.761684</td>\n",
       "      <td>-0.613358</td>\n",
       "      <td>-0.245375</td>\n",
       "      <td>   two</td>\n",
       "      <td>  2</td>\n",
       "    </tr>\n",
       "    <tr>\n",
       "      <th>2013-01-04</th>\n",
       "      <td> 2.218780</td>\n",
       "      <td>-0.008792</td>\n",
       "      <td>-1.279419</td>\n",
       "      <td> 2.019393</td>\n",
       "      <td> three</td>\n",
       "      <td>  3</td>\n",
       "    </tr>\n",
       "    <tr>\n",
       "      <th>2013-01-05</th>\n",
       "      <td> 0.015791</td>\n",
       "      <td>-1.157923</td>\n",
       "      <td>-1.439321</td>\n",
       "      <td>-0.721750</td>\n",
       "      <td>  four</td>\n",
       "      <td>  4</td>\n",
       "    </tr>\n",
       "    <tr>\n",
       "      <th>2013-01-06</th>\n",
       "      <td> 1.784830</td>\n",
       "      <td> 1.164756</td>\n",
       "      <td> 0.295163</td>\n",
       "      <td> 0.414056</td>\n",
       "      <td> three</td>\n",
       "      <td>  5</td>\n",
       "    </tr>\n",
       "  </tbody>\n",
       "</table>\n",
       "</div>"
      ],
      "text/plain": [
       "                   A         B         C         D      E   F\n",
       "2013-01-01 -0.243915 -0.543940  0.067313 -0.898526    one NaN\n",
       "2013-01-02  0.080407 -0.690036 -0.708607  0.925353    one   1\n",
       "2013-01-03  0.760107 -0.761684 -0.613358 -0.245375    two   2\n",
       "2013-01-04  2.218780 -0.008792 -1.279419  2.019393  three   3\n",
       "2013-01-05  0.015791 -1.157923 -1.439321 -0.721750   four   4\n",
       "2013-01-06  1.784830  1.164756  0.295163  0.414056  three   5"
      ]
     },
     "execution_count": 114,
     "metadata": {},
     "output_type": "execute_result"
    }
   ],
   "source": [
    "s1 = pd.Series([1,2,3,4,5,6],index=pd.date_range('20130102',periods=6))\n",
    "df2['F'] = s1\n",
    "df2"
   ]
  },
  {
   "cell_type": "code",
   "execution_count": 115,
   "metadata": {
    "collapsed": false
   },
   "outputs": [
    {
     "ename": "NameError",
     "evalue": "name 'dates' is not defined",
     "output_type": "error",
     "traceback": [
      "\u001b[1;31m---------------------------------------------------------------------------\u001b[0m",
      "\u001b[1;31mNameError\u001b[0m                                 Traceback (most recent call last)",
      "\u001b[1;32m<ipython-input-115-765e421d599d>\u001b[0m in \u001b[0;36m<module>\u001b[1;34m()\u001b[0m\n\u001b[0;32m      1\u001b[0m \u001b[1;31m# Setting values by label\u001b[0m\u001b[1;33m\u001b[0m\u001b[1;33m\u001b[0m\u001b[0m\n\u001b[1;32m----> 2\u001b[1;33m \u001b[0mdf\u001b[0m\u001b[1;33m.\u001b[0m\u001b[0mat\u001b[0m\u001b[1;33m[\u001b[0m\u001b[0mdates\u001b[0m\u001b[1;33m[\u001b[0m\u001b[1;36m0\u001b[0m\u001b[1;33m]\u001b[0m\u001b[1;33m,\u001b[0m\u001b[1;34m'A'\u001b[0m\u001b[1;33m]\u001b[0m \u001b[1;33m=\u001b[0m \u001b[1;36m0\u001b[0m\u001b[1;33m\u001b[0m\u001b[0m\n\u001b[0m\u001b[0;32m      3\u001b[0m \u001b[0mdf\u001b[0m\u001b[1;33m\u001b[0m\u001b[0m\n",
      "\u001b[1;31mNameError\u001b[0m: name 'dates' is not defined"
     ]
    }
   ],
   "source": [
    "# Setting values by label\n",
    "df.at[dates[0],'A'] = 0\n",
    "df"
   ]
  },
  {
   "cell_type": "code",
   "execution_count": 116,
   "metadata": {
    "collapsed": false
   },
   "outputs": [
    {
     "data": {
      "text/html": [
       "<div style=\"max-height:1000px;max-width:1500px;overflow:auto;\">\n",
       "<table border=\"1\" class=\"dataframe\">\n",
       "  <thead>\n",
       "    <tr style=\"text-align: right;\">\n",
       "      <th></th>\n",
       "      <th>A</th>\n",
       "      <th>B</th>\n",
       "      <th>C</th>\n",
       "      <th>D</th>\n",
       "      <th>Total</th>\n",
       "    </tr>\n",
       "  </thead>\n",
       "  <tbody>\n",
       "    <tr>\n",
       "      <th>0</th>\n",
       "      <td>-0.328146</td>\n",
       "      <td> 7.000000</td>\n",
       "      <td> 0.485955</td>\n",
       "      <td>-0.280282</td>\n",
       "      <td> 0.187677</td>\n",
       "    </tr>\n",
       "    <tr>\n",
       "      <th>1</th>\n",
       "      <td>-0.020318</td>\n",
       "      <td> 0.340067</td>\n",
       "      <td> 1.112996</td>\n",
       "      <td>-0.195323</td>\n",
       "      <td> 1.432745</td>\n",
       "    </tr>\n",
       "    <tr>\n",
       "      <th>2</th>\n",
       "      <td>-0.834466</td>\n",
       "      <td> 0.280605</td>\n",
       "      <td> 1.106838</td>\n",
       "      <td> 0.767093</td>\n",
       "      <td> 0.552978</td>\n",
       "    </tr>\n",
       "    <tr>\n",
       "      <th>3</th>\n",
       "      <td>-1.874333</td>\n",
       "      <td> 0.817828</td>\n",
       "      <td>-0.671192</td>\n",
       "      <td>-1.042477</td>\n",
       "      <td>-1.727697</td>\n",
       "    </tr>\n",
       "    <tr>\n",
       "      <th>4</th>\n",
       "      <td> 1.367361</td>\n",
       "      <td> 1.647769</td>\n",
       "      <td> 0.982360</td>\n",
       "      <td> 2.303161</td>\n",
       "      <td> 3.997490</td>\n",
       "    </tr>\n",
       "    <tr>\n",
       "      <th>5</th>\n",
       "      <td> 1.903007</td>\n",
       "      <td> 2.175426</td>\n",
       "      <td> 1.417710</td>\n",
       "      <td> 0.317822</td>\n",
       "      <td> 5.496143</td>\n",
       "    </tr>\n",
       "    <tr>\n",
       "      <th>Total</th>\n",
       "      <td> 0.213105</td>\n",
       "      <td> 5.291564</td>\n",
       "      <td>      NaN</td>\n",
       "      <td>      NaN</td>\n",
       "      <td> 9.939336</td>\n",
       "    </tr>\n",
       "  </tbody>\n",
       "</table>\n",
       "</div>"
      ],
      "text/plain": [
       "              A         B         C         D     Total\n",
       "0     -0.328146  7.000000  0.485955 -0.280282  0.187677\n",
       "1     -0.020318  0.340067  1.112996 -0.195323  1.432745\n",
       "2     -0.834466  0.280605  1.106838  0.767093  0.552978\n",
       "3     -1.874333  0.817828 -0.671192 -1.042477 -1.727697\n",
       "4      1.367361  1.647769  0.982360  2.303161  3.997490\n",
       "5      1.903007  2.175426  1.417710  0.317822  5.496143\n",
       "Total  0.213105  5.291564       NaN       NaN  9.939336"
      ]
     },
     "execution_count": 116,
     "metadata": {},
     "output_type": "execute_result"
    }
   ],
   "source": [
    "# Setting values by position\n",
    "df.iat[0,1] = 7\n",
    "df"
   ]
  },
  {
   "cell_type": "code",
   "execution_count": 117,
   "metadata": {
    "collapsed": false
   },
   "outputs": [
    {
     "data": {
      "text/html": [
       "<div style=\"max-height:1000px;max-width:1500px;overflow:auto;\">\n",
       "<table border=\"1\" class=\"dataframe\">\n",
       "  <thead>\n",
       "    <tr style=\"text-align: right;\">\n",
       "      <th></th>\n",
       "      <th>A</th>\n",
       "      <th>B</th>\n",
       "      <th>C</th>\n",
       "      <th>D</th>\n",
       "      <th>Total</th>\n",
       "    </tr>\n",
       "  </thead>\n",
       "  <tbody>\n",
       "    <tr>\n",
       "      <th>0</th>\n",
       "      <td>-0.328146</td>\n",
       "      <td> 7.000000</td>\n",
       "      <td> 0.485955</td>\n",
       "      <td> 5</td>\n",
       "      <td> 0.187677</td>\n",
       "    </tr>\n",
       "    <tr>\n",
       "      <th>1</th>\n",
       "      <td>-0.020318</td>\n",
       "      <td> 0.340067</td>\n",
       "      <td> 1.112996</td>\n",
       "      <td> 5</td>\n",
       "      <td> 1.432745</td>\n",
       "    </tr>\n",
       "    <tr>\n",
       "      <th>2</th>\n",
       "      <td>-0.834466</td>\n",
       "      <td> 0.280605</td>\n",
       "      <td> 1.106838</td>\n",
       "      <td> 5</td>\n",
       "      <td> 0.552978</td>\n",
       "    </tr>\n",
       "    <tr>\n",
       "      <th>3</th>\n",
       "      <td>-1.874333</td>\n",
       "      <td> 0.817828</td>\n",
       "      <td>-0.671192</td>\n",
       "      <td> 5</td>\n",
       "      <td>-1.727697</td>\n",
       "    </tr>\n",
       "    <tr>\n",
       "      <th>4</th>\n",
       "      <td> 1.367361</td>\n",
       "      <td> 1.647769</td>\n",
       "      <td> 0.982360</td>\n",
       "      <td> 5</td>\n",
       "      <td> 3.997490</td>\n",
       "    </tr>\n",
       "    <tr>\n",
       "      <th>5</th>\n",
       "      <td> 1.903007</td>\n",
       "      <td> 2.175426</td>\n",
       "      <td> 1.417710</td>\n",
       "      <td> 5</td>\n",
       "      <td> 5.496143</td>\n",
       "    </tr>\n",
       "    <tr>\n",
       "      <th>Total</th>\n",
       "      <td> 0.213105</td>\n",
       "      <td> 5.291564</td>\n",
       "      <td>      NaN</td>\n",
       "      <td> 5</td>\n",
       "      <td> 9.939336</td>\n",
       "    </tr>\n",
       "  </tbody>\n",
       "</table>\n",
       "</div>"
      ],
      "text/plain": [
       "              A         B         C  D     Total\n",
       "0     -0.328146  7.000000  0.485955  5  0.187677\n",
       "1     -0.020318  0.340067  1.112996  5  1.432745\n",
       "2     -0.834466  0.280605  1.106838  5  0.552978\n",
       "3     -1.874333  0.817828 -0.671192  5 -1.727697\n",
       "4      1.367361  1.647769  0.982360  5  3.997490\n",
       "5      1.903007  2.175426  1.417710  5  5.496143\n",
       "Total  0.213105  5.291564       NaN  5  9.939336"
      ]
     },
     "execution_count": 117,
     "metadata": {},
     "output_type": "execute_result"
    }
   ],
   "source": [
    "# Setting by assigning with a numpy array\n",
    "df.loc[:,'D'] = np.array([5] * len(df))\n",
    "df"
   ]
  },
  {
   "cell_type": "code",
   "execution_count": 118,
   "metadata": {
    "collapsed": false
   },
   "outputs": [
    {
     "data": {
      "text/html": [
       "<div style=\"max-height:1000px;max-width:1500px;overflow:auto;\">\n",
       "<table border=\"1\" class=\"dataframe\">\n",
       "  <thead>\n",
       "    <tr style=\"text-align: right;\">\n",
       "      <th></th>\n",
       "      <th>A</th>\n",
       "      <th>B</th>\n",
       "      <th>C</th>\n",
       "      <th>D</th>\n",
       "    </tr>\n",
       "  </thead>\n",
       "  <tbody>\n",
       "    <tr>\n",
       "      <th>2013-01-01</th>\n",
       "      <td>-0.144325</td>\n",
       "      <td>-2.334306</td>\n",
       "      <td>-0.122322</td>\n",
       "      <td>-1.329312</td>\n",
       "    </tr>\n",
       "    <tr>\n",
       "      <th>2013-01-02</th>\n",
       "      <td>-0.769916</td>\n",
       "      <td>-1.145912</td>\n",
       "      <td>-0.147902</td>\n",
       "      <td>-0.371129</td>\n",
       "    </tr>\n",
       "    <tr>\n",
       "      <th>2013-01-03</th>\n",
       "      <td>-1.013204</td>\n",
       "      <td>-0.827255</td>\n",
       "      <td>-0.161043</td>\n",
       "      <td>-0.411718</td>\n",
       "    </tr>\n",
       "    <tr>\n",
       "      <th>2013-01-04</th>\n",
       "      <td>-0.014626</td>\n",
       "      <td>-0.163666</td>\n",
       "      <td>-0.804304</td>\n",
       "      <td>-2.244476</td>\n",
       "    </tr>\n",
       "    <tr>\n",
       "      <th>2013-01-05</th>\n",
       "      <td>-0.508525</td>\n",
       "      <td>-0.039540</td>\n",
       "      <td>-0.104592</td>\n",
       "      <td>-0.913627</td>\n",
       "    </tr>\n",
       "    <tr>\n",
       "      <th>2013-01-06</th>\n",
       "      <td>-0.007214</td>\n",
       "      <td>-1.091979</td>\n",
       "      <td>-1.140243</td>\n",
       "      <td>-0.412641</td>\n",
       "    </tr>\n",
       "  </tbody>\n",
       "</table>\n",
       "</div>"
      ],
      "text/plain": [
       "                   A         B         C         D\n",
       "2013-01-01 -0.144325 -2.334306 -0.122322 -1.329312\n",
       "2013-01-02 -0.769916 -1.145912 -0.147902 -0.371129\n",
       "2013-01-03 -1.013204 -0.827255 -0.161043 -0.411718\n",
       "2013-01-04 -0.014626 -0.163666 -0.804304 -2.244476\n",
       "2013-01-05 -0.508525 -0.039540 -0.104592 -0.913627\n",
       "2013-01-06 -0.007214 -1.091979 -1.140243 -0.412641"
      ]
     },
     "execution_count": 118,
     "metadata": {},
     "output_type": "execute_result"
    }
   ],
   "source": [
    "# A where operation with setting.\n",
    "df = makeDateRand()\n",
    "df2 = df.copy()\n",
    "df2[df2 > 0] = -df2\n",
    "df2"
   ]
  },
  {
   "cell_type": "markdown",
   "metadata": {},
   "source": [
    "##Missing data"
   ]
  },
  {
   "cell_type": "markdown",
   "metadata": {},
   "source": [
    "pandas primarily uses the value np.nan to represent missing data. It is by default not included in computations. See the [Missing Data section](http://pandas.pydata.org/pandas-docs/version/0.15.2/missing_data.html#missing-data)\n",
    "\n",
    "Reindexing allows you to change/add/delete the index on a specified axis. This returns a copy of the data."
   ]
  },
  {
   "cell_type": "code",
   "execution_count": 119,
   "metadata": {
    "collapsed": false
   },
   "outputs": [
    {
     "ename": "NameError",
     "evalue": "name 'dates' is not defined",
     "output_type": "error",
     "traceback": [
      "\u001b[1;31m---------------------------------------------------------------------------\u001b[0m",
      "\u001b[1;31mNameError\u001b[0m                                 Traceback (most recent call last)",
      "\u001b[1;32m<ipython-input-119-b97368cc99db>\u001b[0m in \u001b[0;36m<module>\u001b[1;34m()\u001b[0m\n\u001b[1;32m----> 1\u001b[1;33m \u001b[0mdf1\u001b[0m \u001b[1;33m=\u001b[0m \u001b[0mdf\u001b[0m\u001b[1;33m.\u001b[0m\u001b[0mreindex\u001b[0m\u001b[1;33m(\u001b[0m\u001b[0mindex\u001b[0m\u001b[1;33m=\u001b[0m\u001b[0mdates\u001b[0m\u001b[1;33m[\u001b[0m\u001b[1;36m0\u001b[0m\u001b[1;33m:\u001b[0m\u001b[1;36m4\u001b[0m\u001b[1;33m]\u001b[0m\u001b[1;33m,\u001b[0m\u001b[0mcolumns\u001b[0m\u001b[1;33m=\u001b[0m\u001b[0mlist\u001b[0m\u001b[1;33m(\u001b[0m\u001b[0mdf\u001b[0m\u001b[1;33m.\u001b[0m\u001b[0mcolumns\u001b[0m\u001b[1;33m)\u001b[0m \u001b[1;33m+\u001b[0m \u001b[1;33m[\u001b[0m\u001b[1;34m'E'\u001b[0m\u001b[1;33m]\u001b[0m\u001b[1;33m)\u001b[0m\u001b[1;33m\u001b[0m\u001b[0m\n\u001b[0m\u001b[0;32m      2\u001b[0m \u001b[0mdf1\u001b[0m\u001b[1;33m.\u001b[0m\u001b[0mloc\u001b[0m\u001b[1;33m[\u001b[0m\u001b[0mdates\u001b[0m\u001b[1;33m[\u001b[0m\u001b[1;36m0\u001b[0m\u001b[1;33m]\u001b[0m\u001b[1;33m:\u001b[0m\u001b[0mdates\u001b[0m\u001b[1;33m[\u001b[0m\u001b[1;36m1\u001b[0m\u001b[1;33m]\u001b[0m\u001b[1;33m,\u001b[0m\u001b[1;34m'E'\u001b[0m\u001b[1;33m]\u001b[0m \u001b[1;33m=\u001b[0m \u001b[1;36m1\u001b[0m\u001b[1;33m\u001b[0m\u001b[0m\n\u001b[0;32m      3\u001b[0m \u001b[0mdf1\u001b[0m\u001b[1;33m\u001b[0m\u001b[0m\n",
      "\u001b[1;31mNameError\u001b[0m: name 'dates' is not defined"
     ]
    }
   ],
   "source": [
    "df1 = df.reindex(index=dates[0:4],columns=list(df.columns) + ['E'])\n",
    "df1.loc[dates[0]:dates[1],'E'] = 1\n",
    "df1"
   ]
  },
  {
   "cell_type": "markdown",
   "metadata": {},
   "source": [
    "To drop any rows that have missing data."
   ]
  },
  {
   "cell_type": "code",
   "execution_count": 120,
   "metadata": {
    "collapsed": false
   },
   "outputs": [
    {
     "data": {
      "text/html": [
       "<div style=\"max-height:1000px;max-width:1500px;overflow:auto;\">\n",
       "<table border=\"1\" class=\"dataframe\">\n",
       "  <thead>\n",
       "    <tr style=\"text-align: right;\">\n",
       "      <th></th>\n",
       "      <th>A</th>\n",
       "      <th>C</th>\n",
       "    </tr>\n",
       "  </thead>\n",
       "  <tbody>\n",
       "    <tr>\n",
       "      <th>2013-01-01</th>\n",
       "      <td>   -1.443114</td>\n",
       "      <td>-0.206099</td>\n",
       "    </tr>\n",
       "    <tr>\n",
       "      <th>2013-01-02</th>\n",
       "      <td>   -0.369420</td>\n",
       "      <td>-1.494783</td>\n",
       "    </tr>\n",
       "    <tr>\n",
       "      <th>2013-01-03</th>\n",
       "      <td> 1000.000000</td>\n",
       "      <td>-0.027470</td>\n",
       "    </tr>\n",
       "    <tr>\n",
       "      <th>2013-01-04</th>\n",
       "      <td>   -1.143143</td>\n",
       "      <td>-1.681478</td>\n",
       "    </tr>\n",
       "    <tr>\n",
       "      <th>2013-01-05</th>\n",
       "      <td>   -0.492624</td>\n",
       "      <td> 0.986621</td>\n",
       "    </tr>\n",
       "    <tr>\n",
       "      <th>2013-01-06</th>\n",
       "      <td>    1.702025</td>\n",
       "      <td> 3.081244</td>\n",
       "    </tr>\n",
       "  </tbody>\n",
       "</table>\n",
       "</div>"
      ],
      "text/plain": [
       "                      A         C\n",
       "2013-01-01    -1.443114 -0.206099\n",
       "2013-01-02    -0.369420 -1.494783\n",
       "2013-01-03  1000.000000 -0.027470\n",
       "2013-01-04    -1.143143 -1.681478\n",
       "2013-01-05    -0.492624  0.986621\n",
       "2013-01-06     1.702025  3.081244"
      ]
     },
     "execution_count": 120,
     "metadata": {},
     "output_type": "execute_result"
    }
   ],
   "source": [
    "df1.dropna(how='any')"
   ]
  },
  {
   "cell_type": "markdown",
   "metadata": {},
   "source": [
    "Filling missing data"
   ]
  },
  {
   "cell_type": "code",
   "execution_count": 121,
   "metadata": {
    "collapsed": false
   },
   "outputs": [
    {
     "data": {
      "text/html": [
       "<div style=\"max-height:1000px;max-width:1500px;overflow:auto;\">\n",
       "<table border=\"1\" class=\"dataframe\">\n",
       "  <thead>\n",
       "    <tr style=\"text-align: right;\">\n",
       "      <th></th>\n",
       "      <th>A</th>\n",
       "      <th>C</th>\n",
       "    </tr>\n",
       "  </thead>\n",
       "  <tbody>\n",
       "    <tr>\n",
       "      <th>2013-01-01</th>\n",
       "      <td>   -1.443114</td>\n",
       "      <td>-0.206099</td>\n",
       "    </tr>\n",
       "    <tr>\n",
       "      <th>2013-01-02</th>\n",
       "      <td>   -0.369420</td>\n",
       "      <td>-1.494783</td>\n",
       "    </tr>\n",
       "    <tr>\n",
       "      <th>2013-01-03</th>\n",
       "      <td> 1000.000000</td>\n",
       "      <td>-0.027470</td>\n",
       "    </tr>\n",
       "    <tr>\n",
       "      <th>2013-01-04</th>\n",
       "      <td>   -1.143143</td>\n",
       "      <td>-1.681478</td>\n",
       "    </tr>\n",
       "    <tr>\n",
       "      <th>2013-01-05</th>\n",
       "      <td>   -0.492624</td>\n",
       "      <td> 0.986621</td>\n",
       "    </tr>\n",
       "    <tr>\n",
       "      <th>2013-01-06</th>\n",
       "      <td>    1.702025</td>\n",
       "      <td> 3.081244</td>\n",
       "    </tr>\n",
       "  </tbody>\n",
       "</table>\n",
       "</div>"
      ],
      "text/plain": [
       "                      A         C\n",
       "2013-01-01    -1.443114 -0.206099\n",
       "2013-01-02    -0.369420 -1.494783\n",
       "2013-01-03  1000.000000 -0.027470\n",
       "2013-01-04    -1.143143 -1.681478\n",
       "2013-01-05    -0.492624  0.986621\n",
       "2013-01-06     1.702025  3.081244"
      ]
     },
     "execution_count": 121,
     "metadata": {},
     "output_type": "execute_result"
    }
   ],
   "source": [
    "df1.fillna(value=5)"
   ]
  },
  {
   "cell_type": "markdown",
   "metadata": {},
   "source": [
    "To get the boolean mask where values are nan"
   ]
  },
  {
   "cell_type": "code",
   "execution_count": 122,
   "metadata": {
    "collapsed": false
   },
   "outputs": [
    {
     "data": {
      "text/html": [
       "<div style=\"max-height:1000px;max-width:1500px;overflow:auto;\">\n",
       "<table border=\"1\" class=\"dataframe\">\n",
       "  <thead>\n",
       "    <tr style=\"text-align: right;\">\n",
       "      <th></th>\n",
       "      <th>A</th>\n",
       "      <th>C</th>\n",
       "    </tr>\n",
       "  </thead>\n",
       "  <tbody>\n",
       "    <tr>\n",
       "      <th>2013-01-01</th>\n",
       "      <td> False</td>\n",
       "      <td> False</td>\n",
       "    </tr>\n",
       "    <tr>\n",
       "      <th>2013-01-02</th>\n",
       "      <td> False</td>\n",
       "      <td> False</td>\n",
       "    </tr>\n",
       "    <tr>\n",
       "      <th>2013-01-03</th>\n",
       "      <td> False</td>\n",
       "      <td> False</td>\n",
       "    </tr>\n",
       "    <tr>\n",
       "      <th>2013-01-04</th>\n",
       "      <td> False</td>\n",
       "      <td> False</td>\n",
       "    </tr>\n",
       "    <tr>\n",
       "      <th>2013-01-05</th>\n",
       "      <td> False</td>\n",
       "      <td> False</td>\n",
       "    </tr>\n",
       "    <tr>\n",
       "      <th>2013-01-06</th>\n",
       "      <td> False</td>\n",
       "      <td> False</td>\n",
       "    </tr>\n",
       "  </tbody>\n",
       "</table>\n",
       "</div>"
      ],
      "text/plain": [
       "                A      C\n",
       "2013-01-01  False  False\n",
       "2013-01-02  False  False\n",
       "2013-01-03  False  False\n",
       "2013-01-04  False  False\n",
       "2013-01-05  False  False\n",
       "2013-01-06  False  False"
      ]
     },
     "execution_count": 122,
     "metadata": {},
     "output_type": "execute_result"
    }
   ],
   "source": [
    "pd.isnull(df1)"
   ]
  },
  {
   "cell_type": "markdown",
   "metadata": {},
   "source": [
    "##Operations\n",
    "###Binary operations"
   ]
  },
  {
   "cell_type": "markdown",
   "metadata": {},
   "source": [
    "See the Basic section on [Binary Ops](http://pandas.pydata.org/pandas-docs/version/0.15.2/basics.html#basics-binop)  \n",
    "\n",
    "Operations in general exclude missing data."
   ]
  },
  {
   "cell_type": "code",
   "execution_count": 123,
   "metadata": {
    "collapsed": false
   },
   "outputs": [
    {
     "data": {
      "text/plain": [
       "A   -0.235251\n",
       "B   -0.155674\n",
       "C    0.110436\n",
       "D    0.199504\n",
       "dtype: float64"
      ]
     },
     "execution_count": 123,
     "metadata": {},
     "output_type": "execute_result"
    }
   ],
   "source": [
    "df.mean()"
   ]
  },
  {
   "cell_type": "code",
   "execution_count": 124,
   "metadata": {
    "collapsed": false
   },
   "outputs": [
    {
     "data": {
      "text/plain": [
       "2013-01-01    0.245748\n",
       "2013-01-02   -0.349199\n",
       "2013-01-03   -0.316925\n",
       "2013-01-04    0.322783\n",
       "2013-01-05   -0.137308\n",
       "2013-01-06    0.113422\n",
       "Freq: D, dtype: float64"
      ]
     },
     "execution_count": 124,
     "metadata": {},
     "output_type": "execute_result"
    }
   ],
   "source": [
    "#along the other axis\n",
    "df.mean(1)"
   ]
  },
  {
   "cell_type": "markdown",
   "metadata": {},
   "source": [
    "###Applying functions to the data"
   ]
  },
  {
   "cell_type": "markdown",
   "metadata": {},
   "source": [
    "When using apply(), note the axis direction.   \n",
    "- for each column, apply down a row: axis=0  (default)\n",
    "- for each row, apply across columns: axis=1."
   ]
  },
  {
   "cell_type": "code",
   "execution_count": 125,
   "metadata": {
    "collapsed": false
   },
   "outputs": [
    {
     "name": "stdout",
     "output_type": "stream",
     "text": [
      "   A  B  C   D\n",
      "0  1  4  7  10\n",
      "1  2  5  8  11\n",
      "2  3  6  9  12\n",
      "   A   B   C   D\n",
      "0  1   4   7  10\n",
      "1  3   9  15  21\n",
      "2  6  15  24  33\n",
      "   A   B   C   D\n",
      "0  1   4   7  10\n",
      "1  3   9  15  21\n",
      "2  6  15  24  33\n",
      "   A  B   C   D\n",
      "0  1  5  12  22\n",
      "1  2  7  15  26\n",
      "2  3  9  18  30\n"
     ]
    }
   ],
   "source": [
    "df = makegridDF()\n",
    "print(df)\n",
    "print(df.apply(np.cumsum))\n",
    "print(df.apply(np.cumsum, axis=0))\n",
    "print(df.apply(np.cumsum, axis=1))"
   ]
  },
  {
   "cell_type": "code",
   "execution_count": 126,
   "metadata": {
    "collapsed": false
   },
   "outputs": [
    {
     "data": {
      "text/html": [
       "<div style=\"max-height:1000px;max-width:1500px;overflow:auto;\">\n",
       "<table border=\"1\" class=\"dataframe\">\n",
       "  <thead>\n",
       "    <tr style=\"text-align: right;\">\n",
       "      <th></th>\n",
       "      <th>A</th>\n",
       "      <th>B</th>\n",
       "      <th>C</th>\n",
       "      <th>D</th>\n",
       "    </tr>\n",
       "  </thead>\n",
       "  <tbody>\n",
       "    <tr>\n",
       "      <th>2013-01-01</th>\n",
       "      <td>-0.278831</td>\n",
       "      <td>-0.297304</td>\n",
       "      <td>-0.754138</td>\n",
       "      <td> 2.458566</td>\n",
       "    </tr>\n",
       "    <tr>\n",
       "      <th>2013-01-02</th>\n",
       "      <td>-0.915260</td>\n",
       "      <td>-0.199001</td>\n",
       "      <td> 0.617264</td>\n",
       "      <td> 2.723362</td>\n",
       "    </tr>\n",
       "    <tr>\n",
       "      <th>2013-01-03</th>\n",
       "      <td>-0.580445</td>\n",
       "      <td> 1.749183</td>\n",
       "      <td> 1.661473</td>\n",
       "      <td> 2.557722</td>\n",
       "    </tr>\n",
       "    <tr>\n",
       "      <th>2013-01-04</th>\n",
       "      <td>-1.383781</td>\n",
       "      <td>-0.811856</td>\n",
       "      <td> 2.381439</td>\n",
       "      <td> 0.469024</td>\n",
       "    </tr>\n",
       "    <tr>\n",
       "      <th>2013-01-05</th>\n",
       "      <td>-2.320366</td>\n",
       "      <td>-0.941746</td>\n",
       "      <td> 1.728593</td>\n",
       "      <td> 1.202142</td>\n",
       "    </tr>\n",
       "    <tr>\n",
       "      <th>2013-01-06</th>\n",
       "      <td>-3.336905</td>\n",
       "      <td>-0.546717</td>\n",
       "      <td> 1.494484</td>\n",
       "      <td> 1.415916</td>\n",
       "    </tr>\n",
       "  </tbody>\n",
       "</table>\n",
       "</div>"
      ],
      "text/plain": [
       "                   A         B         C         D\n",
       "2013-01-01 -0.278831 -0.297304 -0.754138  2.458566\n",
       "2013-01-02 -0.915260 -0.199001  0.617264  2.723362\n",
       "2013-01-03 -0.580445  1.749183  1.661473  2.557722\n",
       "2013-01-04 -1.383781 -0.811856  2.381439  0.469024\n",
       "2013-01-05 -2.320366 -0.941746  1.728593  1.202142\n",
       "2013-01-06 -3.336905 -0.546717  1.494484  1.415916"
      ]
     },
     "execution_count": 126,
     "metadata": {},
     "output_type": "execute_result"
    }
   ],
   "source": [
    "df = makeDateRand()\n",
    "df.apply(np.cumsum)"
   ]
  },
  {
   "cell_type": "code",
   "execution_count": 127,
   "metadata": {
    "collapsed": false
   },
   "outputs": [
    {
     "name": "stdout",
     "output_type": "stream",
     "text": [
      "                   A         B         C         D\n",
      "2013-01-01  1.849118 -0.222530  0.976040  0.006137\n",
      "2013-01-02  0.519233  1.117980  0.213673 -0.962342\n",
      "2013-01-03 -1.685890  0.041302  0.343944  2.227856\n",
      "2013-01-04  1.682176  1.308816  0.970347  0.403449\n",
      "2013-01-05  0.634276  1.097843  1.429936 -0.529867\n",
      "2013-01-06  0.558784 -2.154713 -0.245882 -0.298425\n"
     ]
    },
    {
     "data": {
      "text/plain": [
       "A    3.535007\n",
       "B    3.463529\n",
       "C    1.675818\n",
       "D    3.190197\n",
       "dtype: float64"
      ]
     },
     "execution_count": 127,
     "metadata": {},
     "output_type": "execute_result"
    }
   ],
   "source": [
    "df = makeDateRand()\n",
    "print(df)\n",
    "df.apply(lambda x: x.max() - x.min())"
   ]
  },
  {
   "cell_type": "code",
   "execution_count": 128,
   "metadata": {
    "collapsed": false
   },
   "outputs": [
    {
     "name": "stdout",
     "output_type": "stream",
     "text": [
      "        Date         A         B         C         D\n",
      "0 2013-01-01  2.343150  0.864919 -0.349607  1.303671\n",
      "1 2013-01-02 -0.256150 -0.554323 -0.508537  0.966387\n",
      "2 2013-01-03 -0.224787 -0.346977  0.234857 -0.044442\n",
      "3 2013-01-04 -0.034938  0.765512 -0.399237  0.878525\n",
      "4 2013-01-05  0.016009 -0.329236  1.260952 -1.511141\n",
      "5 2013-01-06 -1.113445  0.667540 -0.993290 -0.548711\n",
      "                  Date         A         B         C         D\n",
      "0  2013-01-01 00:00:00  2.343150  0.864919 -0.349607  1.303671\n",
      "1  2013-01-02 00:00:00 -0.256150 -0.554323 -0.508537  0.966387\n",
      "2  2013-01-03 00:00:00 -0.224787 -0.346977  0.234857 -0.044442\n",
      "3  2013-01-04 00:00:00 -0.034938  0.765512 -0.399237  0.878525\n",
      "4  2013-01-05 00:00:00  0.016009 -0.329236  1.260952 -1.511141\n",
      "5  2013-01-06 00:00:00 -1.113445  0.667540 -0.993290 -0.548711\n",
      "        Date         A         B         C         D\n",
      "0 2013-01-01  2.343150  0.864919 -0.349607  1.303671\n",
      "1 2013-01-02 -0.256150 -0.554323 -0.508537  0.966387\n",
      "2 2013-01-03 -0.224787 -0.346977  0.234857 -0.044442\n",
      "3 2013-01-04 -0.034938  0.765512 -0.399237  0.878525\n",
      "4 2013-01-05  0.016009 -0.329236  1.260952 -1.511141\n",
      "5 2013-01-06 -1.113445  0.667540 -0.993290 -0.548711\n",
      "                 Date         A         B         C         D\n",
      "Date                                                         \n",
      "2013-01-01 2013-01-01  2.343150  0.864919 -0.349607  1.303671\n",
      "2013-01-02 2013-01-02 -0.256150 -0.554323 -0.508537  0.966387\n",
      "2013-01-03 2013-01-03 -0.224787 -0.346977  0.234857 -0.044442\n",
      "2013-01-04 2013-01-04 -0.034938  0.765512 -0.399237  0.878525\n",
      "2013-01-05 2013-01-05  0.016009 -0.329236  1.260952 -1.511141\n",
      "2013-01-06 2013-01-06 -1.113445  0.667540 -0.993290 -0.548711\n"
     ]
    }
   ],
   "source": [
    "from datetime import datetime\n",
    "df = makeDateRand()\n",
    "df.index.name = 'Date'\n",
    "df.reset_index(level=0,inplace=True)\n",
    "print(df)\n",
    "#convert to string format\n",
    "df.Date = df.Date.apply(lambda d: ' '.join(d.isoformat().split('T')))\n",
    "print(df)\n",
    "#convert back to datetime format\n",
    "df.Date = df.Date.apply(lambda d: datetime.strptime(d, \"%Y-%m-%d %H:%M:%S\"))\n",
    "print(df)\n",
    "\n",
    "df.index = df.Date\n",
    "print(df)"
   ]
  },
  {
   "cell_type": "markdown",
   "metadata": {},
   "source": [
    "Applying a function using column data, but with extra parameters.  In the example below we use a value in a single DataFrame column 'IrradianceLux', together with extra parameters, to calculate a new row.\n",
    "\n",
    "http://stackoverflow.com/questions/21188504/python-pandas-apply-a-function-with-arguments-to-a-series-update"
   ]
  },
  {
   "cell_type": "code",
   "execution_count": 4,
   "metadata": {
    "collapsed": false
   },
   "outputs": [
    {
     "data": {
      "text/html": [
       "<div style=\"max-height:1000px;max-width:1500px;overflow:auto;\">\n",
       "<table border=\"1\" class=\"dataframe\">\n",
       "  <thead>\n",
       "    <tr style=\"text-align: right;\">\n",
       "      <th></th>\n",
       "      <th>Condition</th>\n",
       "      <th>IrradianceLux</th>\n",
       "      <th>1.4</th>\n",
       "      <th>2</th>\n",
       "      <th>2.74</th>\n",
       "      <th>3.8</th>\n",
       "      <th>5.4</th>\n",
       "      <th>7.5</th>\n",
       "    </tr>\n",
       "  </thead>\n",
       "  <tbody>\n",
       "    <tr>\n",
       "      <th>8</th>\n",
       "      <td> Overcastnight</td>\n",
       "      <td>      0.0001</td>\n",
       "      <td>    0.000002</td>\n",
       "      <td>   0.000001</td>\n",
       "      <td>   0.000000</td>\n",
       "      <td>   0.000000</td>\n",
       "      <td>   0.000000</td>\n",
       "      <td> 6.000000e-08</td>\n",
       "    </tr>\n",
       "    <tr>\n",
       "      <th>2</th>\n",
       "      <td>     Starlight</td>\n",
       "      <td>      0.0011</td>\n",
       "      <td>    0.000019</td>\n",
       "      <td>   0.000009</td>\n",
       "      <td>   0.000005</td>\n",
       "      <td>   0.000003</td>\n",
       "      <td>   0.000001</td>\n",
       "      <td> 6.600000e-07</td>\n",
       "    </tr>\n",
       "    <tr>\n",
       "      <th>4</th>\n",
       "      <td>  Quarter moon</td>\n",
       "      <td>      0.0108</td>\n",
       "      <td>    0.000186</td>\n",
       "      <td>   0.000091</td>\n",
       "      <td>   0.000049</td>\n",
       "      <td>   0.000025</td>\n",
       "      <td>   0.000012</td>\n",
       "      <td> 6.480000e-06</td>\n",
       "    </tr>\n",
       "    <tr>\n",
       "      <th>6</th>\n",
       "      <td>     Full moon</td>\n",
       "      <td>      0.1080</td>\n",
       "      <td>    0.001860</td>\n",
       "      <td>   0.000911</td>\n",
       "      <td>   0.000486</td>\n",
       "      <td>   0.000252</td>\n",
       "      <td>   0.000125</td>\n",
       "      <td> 6.480000e-05</td>\n",
       "    </tr>\n",
       "    <tr>\n",
       "      <th>3</th>\n",
       "      <td> Deep twilight</td>\n",
       "      <td>      1.0800</td>\n",
       "      <td>    0.018597</td>\n",
       "      <td>   0.009113</td>\n",
       "      <td>   0.004855</td>\n",
       "      <td>   0.002524</td>\n",
       "      <td>   0.001250</td>\n",
       "      <td> 6.480000e-04</td>\n",
       "    </tr>\n",
       "    <tr>\n",
       "      <th>7</th>\n",
       "      <td>      Twilight</td>\n",
       "      <td>     10.8000</td>\n",
       "      <td>    0.185969</td>\n",
       "      <td>   0.091125</td>\n",
       "      <td>   0.048551</td>\n",
       "      <td>   0.025242</td>\n",
       "      <td>   0.012500</td>\n",
       "      <td> 6.480000e-03</td>\n",
       "    </tr>\n",
       "    <tr>\n",
       "      <th>1</th>\n",
       "      <td> Very dark day</td>\n",
       "      <td>    107.0000</td>\n",
       "      <td>    1.842474</td>\n",
       "      <td>   0.902813</td>\n",
       "      <td>   0.481013</td>\n",
       "      <td>   0.250087</td>\n",
       "      <td>   0.123843</td>\n",
       "      <td> 6.420000e-02</td>\n",
       "    </tr>\n",
       "    <tr>\n",
       "      <th>0</th>\n",
       "      <td>  Overcast day</td>\n",
       "      <td>   1075.0000</td>\n",
       "      <td>   18.510842</td>\n",
       "      <td>   9.070312</td>\n",
       "      <td>   4.832603</td>\n",
       "      <td>   2.512552</td>\n",
       "      <td>   1.244213</td>\n",
       "      <td> 6.450000e-01</td>\n",
       "    </tr>\n",
       "    <tr>\n",
       "      <th>5</th>\n",
       "      <td> Full daylight</td>\n",
       "      <td>  10752.0000</td>\n",
       "      <td>  185.142857</td>\n",
       "      <td>  90.720000</td>\n",
       "      <td>  48.335021</td>\n",
       "      <td>  25.130194</td>\n",
       "      <td>  12.444444</td>\n",
       "      <td> 6.451200e+00</td>\n",
       "    </tr>\n",
       "    <tr>\n",
       "      <th>9</th>\n",
       "      <td>      Sunlight</td>\n",
       "      <td> 107527.0000</td>\n",
       "      <td> 1851.549107</td>\n",
       "      <td> 907.259063</td>\n",
       "      <td> 483.381673</td>\n",
       "      <td> 251.318300</td>\n",
       "      <td> 124.452546</td>\n",
       "      <td> 6.451620e+01</td>\n",
       "    </tr>\n",
       "  </tbody>\n",
       "</table>\n",
       "</div>"
      ],
      "text/plain": [
       "       Condition  IrradianceLux          1.4           2        2.74  \\\n",
       "8  Overcastnight         0.0001     0.000002    0.000001    0.000000   \n",
       "2      Starlight         0.0011     0.000019    0.000009    0.000005   \n",
       "4   Quarter moon         0.0108     0.000186    0.000091    0.000049   \n",
       "6      Full moon         0.1080     0.001860    0.000911    0.000486   \n",
       "3  Deep twilight         1.0800     0.018597    0.009113    0.004855   \n",
       "7       Twilight        10.8000     0.185969    0.091125    0.048551   \n",
       "1  Very dark day       107.0000     1.842474    0.902813    0.481013   \n",
       "0   Overcast day      1075.0000    18.510842    9.070312    4.832603   \n",
       "5  Full daylight     10752.0000   185.142857   90.720000   48.335021   \n",
       "9       Sunlight    107527.0000  1851.549107  907.259063  483.381673   \n",
       "\n",
       "          3.8         5.4           7.5  \n",
       "8    0.000000    0.000000  6.000000e-08  \n",
       "2    0.000003    0.000001  6.600000e-07  \n",
       "4    0.000025    0.000012  6.480000e-06  \n",
       "6    0.000252    0.000125  6.480000e-05  \n",
       "3    0.002524    0.001250  6.480000e-04  \n",
       "7    0.025242    0.012500  6.480000e-03  \n",
       "1    0.250087    0.123843  6.420000e-02  \n",
       "0    2.512552    1.244213  6.450000e-01  \n",
       "5   25.130194   12.444444  6.451200e+00  \n",
       "9  251.318300  124.452546  6.451620e+01  "
      ]
     },
     "execution_count": 4,
     "metadata": {},
     "output_type": "execute_result"
    }
   ],
   "source": [
    "import pandas as pd\n",
    "lx = {'Sunlight': 107527, \n",
    "      'Full daylight': 10752,\n",
    "      'Overcast day':1075,\n",
    "      'Very dark day':107,\n",
    "      'Twilight': 10.8,\n",
    "      'Deep twilight': 1.08,\n",
    "      'Full moon': 0.108,\n",
    "      'Quarter moon':0.0108,\n",
    "      'Starlight': 0.0011,\n",
    "      'Overcastnight':0.0001\n",
    "    }\n",
    "fnos = [1.4, 2, 2.74, 3.8, 5.4, 7.5\n",
    "       ]\n",
    "\n",
    "def calcIrrad(lx, rho, taua, tauo, fno):\n",
    "    return lx * rho * taua * tauo / (4 * fno ** 2)\n",
    "    \n",
    "df = pd.DataFrame(list(lx.items()), columns=['Condition','IrradianceLux'])\n",
    "\n",
    "rho = 0.3\n",
    "taua = 0.5\n",
    "tauo = 0.9\n",
    "for fno in fnos:\n",
    "    df['{}'.format(fno)] = df.IrradianceLux.apply(calcIrrad, args=(rho, taua, tauo, fno) )\n",
    "    \n",
    "df.sort('IrradianceLux')"
   ]
  },
  {
   "cell_type": "code",
   "execution_count": null,
   "metadata": {
    "collapsed": true
   },
   "outputs": [],
   "source": [
    "Apply a function to existing columns to create a new column"
   ]
  },
  {
   "cell_type": "code",
   "execution_count": 3,
   "metadata": {
    "collapsed": false
   },
   "outputs": [
    {
     "data": {
      "text/html": [
       "<div>\n",
       "<table border=\"1\" class=\"dataframe\">\n",
       "  <thead>\n",
       "    <tr style=\"text-align: right;\">\n",
       "      <th></th>\n",
       "      <th>A</th>\n",
       "      <th>B</th>\n",
       "      <th>nocols</th>\n",
       "      <th>new_column</th>\n",
       "    </tr>\n",
       "  </thead>\n",
       "  <tbody>\n",
       "    <tr>\n",
       "      <th>0</th>\n",
       "      <td>10</td>\n",
       "      <td>20</td>\n",
       "      <td>20</td>\n",
       "      <td>200</td>\n",
       "    </tr>\n",
       "    <tr>\n",
       "      <th>1</th>\n",
       "      <td>20</td>\n",
       "      <td>30</td>\n",
       "      <td>20</td>\n",
       "      <td>600</td>\n",
       "    </tr>\n",
       "    <tr>\n",
       "      <th>2</th>\n",
       "      <td>30</td>\n",
       "      <td>10</td>\n",
       "      <td>20</td>\n",
       "      <td>300</td>\n",
       "    </tr>\n",
       "  </tbody>\n",
       "</table>\n",
       "</div>"
      ],
      "text/plain": [
       "    A   B  nocols  new_column\n",
       "0  10  20      20         200\n",
       "1  20  30      20         600\n",
       "2  30  10      20         300"
      ]
     },
     "execution_count": 3,
     "metadata": {},
     "output_type": "execute_result"
    }
   ],
   "source": [
    "def fx(x, y):\n",
    "    return x*y\n",
    "\n",
    "import numpy as np\n",
    "import pandas as pd\n",
    "df = pd.DataFrame({\"A\": [10,20,30], \"B\": [20, 30, 10]})\n",
    "df['nocols'] = np.vectorize(fx)(4, 5)\n",
    "df['new_column'] = np.vectorize(fx)(df['A'], df['B'])\n",
    "df"
   ]
  },
  {
   "cell_type": "markdown",
   "metadata": {},
   "source": [
    "Apply a named function on multiple columns and scalar arguments"
   ]
  },
  {
   "cell_type": "code",
   "execution_count": 2,
   "metadata": {
    "collapsed": false
   },
   "outputs": [
    {
     "data": {
      "text/html": [
       "<div>\n",
       "<table border=\"1\" class=\"dataframe\">\n",
       "  <thead>\n",
       "    <tr style=\"text-align: right;\">\n",
       "      <th></th>\n",
       "      <th>gene</th>\n",
       "      <th>count</th>\n",
       "      <th>gene_length</th>\n",
       "      <th>rpkm</th>\n",
       "    </tr>\n",
       "  </thead>\n",
       "  <tbody>\n",
       "    <tr>\n",
       "      <th>0</th>\n",
       "      <td>a</td>\n",
       "      <td>61</td>\n",
       "      <td>152</td>\n",
       "      <td>32508.366908</td>\n",
       "    </tr>\n",
       "    <tr>\n",
       "      <th>1</th>\n",
       "      <td>b</td>\n",
       "      <td>320</td>\n",
       "      <td>86</td>\n",
       "      <td>301411.926493</td>\n",
       "    </tr>\n",
       "    <tr>\n",
       "      <th>2</th>\n",
       "      <td>c</td>\n",
       "      <td>34</td>\n",
       "      <td>92</td>\n",
       "      <td>29936.429112</td>\n",
       "    </tr>\n",
       "    <tr>\n",
       "      <th>3</th>\n",
       "      <td>d</td>\n",
       "      <td>14</td>\n",
       "      <td>170</td>\n",
       "      <td>6670.955138</td>\n",
       "    </tr>\n",
       "    <tr>\n",
       "      <th>4</th>\n",
       "      <td>e</td>\n",
       "      <td>33</td>\n",
       "      <td>111</td>\n",
       "      <td>24082.405613</td>\n",
       "    </tr>\n",
       "  </tbody>\n",
       "</table>\n",
       "</div>"
      ],
      "text/plain": [
       "  gene  count  gene_length           rpkm\n",
       "0    a     61          152   32508.366908\n",
       "1    b    320           86  301411.926493\n",
       "2    c     34           92   29936.429112\n",
       "3    d     14          170    6670.955138\n",
       "4    e     33          111   24082.405613"
      ]
     },
     "execution_count": 2,
     "metadata": {},
     "output_type": "execute_result"
    }
   ],
   "source": [
    "import pandas as pd \n",
    "data = {'gene':['a','b','c','d','e'],\n",
    "        'count':[61,320,34,14,33],\n",
    "        'gene_length':[152,86,92,170,111]}\n",
    "df = pd.DataFrame(data)\n",
    "df = df[[\"gene\",\"count\",\"gene_length\"]]\n",
    "\n",
    "def calculate_RPKM(theC,theN, theL):\n",
    "    \"\"\"\n",
    "    theC  == Total reads mapped to a feature (gene/linc)\n",
    "    theL  == Length of feature (gene/linc)\n",
    "    theN  == Total reads mapped\n",
    "    \"\"\"\n",
    "    rpkm = ((10**9) * theC)/(theN * theL)\n",
    "    return rpkm\n",
    "N=12345\n",
    "df[\"rpkm\"] = calculate_RPKM(df['count'],N,df['gene_length'])\n",
    "df"
   ]
  },
  {
   "cell_type": "markdown",
   "metadata": {
    "collapsed": true
   },
   "source": [
    "Use apply to return multiple columns\n",
    "\n",
    "<http://stackoverflow.com/questions/16236684/apply-pandas-function-to-column-to-create-multiple-new-columns>"
   ]
  },
  {
   "cell_type": "code",
   "execution_count": 2,
   "metadata": {
    "collapsed": false
   },
   "outputs": [
    {
     "data": {
      "text/html": [
       "<div>\n",
       "<table border=\"1\" class=\"dataframe\">\n",
       "  <thead>\n",
       "    <tr style=\"text-align: right;\">\n",
       "      <th></th>\n",
       "      <th>textcol</th>\n",
       "      <th>feature1</th>\n",
       "      <th>feature2</th>\n",
       "    </tr>\n",
       "  </thead>\n",
       "  <tbody>\n",
       "    <tr>\n",
       "      <th>0</th>\n",
       "      <td>0.823290</td>\n",
       "      <td>1.823290</td>\n",
       "      <td>-0.176710</td>\n",
       "    </tr>\n",
       "    <tr>\n",
       "      <th>1</th>\n",
       "      <td>0.481875</td>\n",
       "      <td>1.481875</td>\n",
       "      <td>-0.518125</td>\n",
       "    </tr>\n",
       "    <tr>\n",
       "      <th>2</th>\n",
       "      <td>0.783152</td>\n",
       "      <td>1.783152</td>\n",
       "      <td>-0.216848</td>\n",
       "    </tr>\n",
       "    <tr>\n",
       "      <th>3</th>\n",
       "      <td>0.407895</td>\n",
       "      <td>1.407895</td>\n",
       "      <td>-0.592105</td>\n",
       "    </tr>\n",
       "    <tr>\n",
       "      <th>4</th>\n",
       "      <td>0.483882</td>\n",
       "      <td>1.483882</td>\n",
       "      <td>-0.516118</td>\n",
       "    </tr>\n",
       "  </tbody>\n",
       "</table>\n",
       "</div>"
      ],
      "text/plain": [
       "    textcol  feature1  feature2\n",
       "0  0.823290  1.823290 -0.176710\n",
       "1  0.481875  1.481875 -0.518125\n",
       "2  0.783152  1.783152 -0.216848\n",
       "3  0.407895  1.407895 -0.592105\n",
       "4  0.483882  1.483882 -0.516118"
      ]
     },
     "execution_count": 2,
     "metadata": {},
     "output_type": "execute_result"
    }
   ],
   "source": [
    "import pandas as pd\n",
    "import numpy as np\n",
    "df = pd.DataFrame({'textcol' : np.random.rand(5)})\n",
    "df.merge(df.textcol.apply(lambda s: pd.Series({'feature1':s+1, 'feature2':s-1})), \n",
    "    left_index=True, right_index=True)"
   ]
  },
  {
   "cell_type": "markdown",
   "metadata": {},
   "source": [
    "Return multiple columns, operating on a single column, with additional arguments"
   ]
  },
  {
   "cell_type": "code",
   "execution_count": 5,
   "metadata": {
    "collapsed": false
   },
   "outputs": [
    {
     "data": {
      "text/html": [
       "<div>\n",
       "<table border=\"1\" class=\"dataframe\">\n",
       "  <thead>\n",
       "    <tr style=\"text-align: right;\">\n",
       "      <th></th>\n",
       "      <th>textcol</th>\n",
       "      <th>feature1</th>\n",
       "      <th>feature2</th>\n",
       "    </tr>\n",
       "  </thead>\n",
       "  <tbody>\n",
       "    <tr>\n",
       "      <th>0</th>\n",
       "      <td>0.835452</td>\n",
       "      <td>2.835452</td>\n",
       "      <td>-4.164548</td>\n",
       "    </tr>\n",
       "    <tr>\n",
       "      <th>1</th>\n",
       "      <td>0.186309</td>\n",
       "      <td>2.186309</td>\n",
       "      <td>-4.813691</td>\n",
       "    </tr>\n",
       "    <tr>\n",
       "      <th>2</th>\n",
       "      <td>0.253024</td>\n",
       "      <td>2.253024</td>\n",
       "      <td>-4.746976</td>\n",
       "    </tr>\n",
       "    <tr>\n",
       "      <th>3</th>\n",
       "      <td>0.026933</td>\n",
       "      <td>2.026933</td>\n",
       "      <td>-4.973067</td>\n",
       "    </tr>\n",
       "    <tr>\n",
       "      <th>4</th>\n",
       "      <td>0.463743</td>\n",
       "      <td>2.463743</td>\n",
       "      <td>-4.536257</td>\n",
       "    </tr>\n",
       "  </tbody>\n",
       "</table>\n",
       "</div>"
      ],
      "text/plain": [
       "    textcol  feature1  feature2\n",
       "0  0.835452  2.835452 -4.164548\n",
       "1  0.186309  2.186309 -4.813691\n",
       "2  0.253024  2.253024 -4.746976\n",
       "3  0.026933  2.026933 -4.973067\n",
       "4  0.463743  2.463743 -4.536257"
      ]
     },
     "execution_count": 5,
     "metadata": {},
     "output_type": "execute_result"
    }
   ],
   "source": [
    "def myfunc(s,a1, a2):\n",
    "    return pd.Series({'feature1':s+a1, 'feature2':s+a2})\n",
    "    \n",
    "df = pd.DataFrame({'textcol' : np.random.rand(5)})\n",
    "df.merge(df.textcol.apply(myfunc,args=(+2, -5)), \n",
    "    left_index=True, right_index=True)    \n",
    "    "
   ]
  },
  {
   "cell_type": "markdown",
   "metadata": {},
   "source": [
    "The following example calculates the angle between two normal vectors, where the two vectors are given in separate tables. The common value whereby the two tables are joined is given in the 'Key' column in each of the tables."
   ]
  },
  {
   "cell_type": "code",
   "execution_count": 72,
   "metadata": {
    "collapsed": false
   },
   "outputs": [
    {
     "name": "stdout",
     "output_type": "stream",
     "text": [
      "   indexa Key        xa        ya       za  indexb        xb        yb  \\\n",
      "0       0   a  1.000000  0.000000  0.00000       0  1.000000  0.000000   \n",
      "1       1   b  1.000000  0.000000  0.00000       1  0.000000  1.000000   \n",
      "2       2   c  1.000000  0.000000  0.00000       2 -1.000000  0.000000   \n",
      "3       3   d -0.815462  0.555211  0.16359       3 -0.815462  0.555211   \n",
      "4       4   e -0.815462  0.555211  0.16359       4 -0.683709  0.396554   \n",
      "\n",
      "         zb         angle  \n",
      "0  0.000000  0.000000e+00  \n",
      "1  0.000000  1.570796e+00  \n",
      "2  0.000000  3.141593e+00  \n",
      "3  0.163590  1.490116e-08  \n",
      "4  0.612607  4.992820e-01  \n"
     ]
    }
   ],
   "source": [
    "from numpy import linalg as LA\n",
    "\n",
    "def normCols(df, lst):\n",
    "    \"\"\"Normalise the columns in df, as listed in lst\"\"\"\n",
    "    #get the vector length\n",
    "    df['norm'] = (LA.norm(df[lst],axis=1))\n",
    "    #normalise cols in list and return\n",
    "    df[lst] = df[lst].divide(df['norm'], axis=0)\n",
    "    df.drop('norm',axis=1,inplace=True)\n",
    "    #value seems to be returned in the df parameter passed on the function call\n",
    "    return \n",
    "\n",
    "#create the data: [key, x, y, z]\n",
    "lstA = [['a',1,0,0],['b',1,0,0],['c', 1,0,0],['d',-4.164548,2.835452,0.835452],['e',-4.164548,2.835452,0.835452]]\n",
    "lstB = [['a',1,0,0],['b',0,1,0],['c',-1,0,0],['d',-4.164548,2.835452,0.835452],['e',-3.164548,1.835452,2.835452]]\n",
    "\n",
    "#make dataframes\n",
    "vec = ['x','y','z']\n",
    "cols = ['Key'] + vec\n",
    "dfA = pd.DataFrame(lstA,columns=cols)\n",
    "dfB = pd.DataFrame(lstB,columns=cols)\n",
    "\n",
    "#normalise vectors\n",
    "normCols(dfA, vec)\n",
    "normCols(dfB, vec)\n",
    "\n",
    "#join the two vectors on the Key column\n",
    "dfA.reset_index(inplace=True)\n",
    "dfB.reset_index(inplace=True)\n",
    "suffixes = ['a','b'] # used in labelling duplicate column names\n",
    "dfM = pd.merge(dfA, dfB, left_on=['Key'],right_on=['Key'], how='inner', suffixes=suffixes)  \n",
    "\n",
    "#calc angle between vectors\n",
    "va = ['xa','ya','za']\n",
    "vb = ['xb','yb','zb']\n",
    "# inner() calculates Va x Vb.T, on which the diagonal() is \n",
    "# the dot product of the respective rowA and rowB.T vectors\n",
    "dfM['angle'] = np.arccos(np.diagonal(np.inner(dfM[va],dfM[vb])))\n",
    "\n",
    "print(dfM)"
   ]
  },
  {
   "cell_type": "code",
   "execution_count": 63,
   "metadata": {
    "collapsed": false
   },
   "outputs": [
    {
     "name": "stdout",
     "output_type": "stream",
     "text": [
      "[[1 2]\n",
      " [3 4]]\n",
      "[[11 13]\n",
      " [12 14]]\n",
      "[[35 41]\n",
      " [81 95]]\n"
     ]
    }
   ],
   "source": [
    "a=np.array([[1,2],[3,4]])\n",
    "b=np.array([[11,12],[13,14]])\n",
    "print(a)\n",
    "print(b.T)\n",
    "# print(np.dot(a,b))\n",
    "print(np.inner(a,b))\n"
   ]
  },
  {
   "cell_type": "markdown",
   "metadata": {},
   "source": [
    "###Histograms\n",
    "\n",
    "[Histogramming and Discretization](http://pandas.pydata.org/pandas-docs/version/0.15.2/basics.html#basics-discretization)"
   ]
  },
  {
   "cell_type": "code",
   "execution_count": 129,
   "metadata": {
    "collapsed": false
   },
   "outputs": [
    {
     "data": {
      "text/plain": [
       "3    3\n",
       "0    3\n",
       "1    2\n",
       "4    1\n",
       "2    1\n",
       "dtype: int64"
      ]
     },
     "execution_count": 129,
     "metadata": {},
     "output_type": "execute_result"
    }
   ],
   "source": [
    "s = pd.Series(np.random.randint(0,7,size=10))\n",
    "s.value_counts()"
   ]
  },
  {
   "cell_type": "markdown",
   "metadata": {},
   "source": [
    "### Strings\n",
    "Series is equipped with a set of string processing methods in the str attribute that make it easy to operate on each element of the array, as in the code snippet below. Note that pattern-matching in str generally uses [regular expressions](https://docs.python.org/2/library/re.html) by default (and in some cases always uses them). See more at [Vectorized String Methods](http://pandas.pydata.org/pandas-docs/version/0.15.2/text.html#text-string-methods)."
   ]
  },
  {
   "cell_type": "code",
   "execution_count": 130,
   "metadata": {
    "collapsed": false
   },
   "outputs": [
    {
     "data": {
      "text/plain": [
       "0     1\n",
       "1     1\n",
       "2     1\n",
       "3     4\n",
       "4     4\n",
       "5   NaN\n",
       "6     4\n",
       "7     3\n",
       "8     3\n",
       "dtype: float64"
      ]
     },
     "execution_count": 130,
     "metadata": {},
     "output_type": "execute_result"
    }
   ],
   "source": [
    "s = pd.Series(['A', 'B', 'C', 'Aaba', 'Baca', np.nan, 'CABA', 'dog', 'cat'])\n",
    "s.str.lower()\n",
    "s.str.upper()\n",
    "s.str.len()"
   ]
  },
  {
   "cell_type": "code",
   "execution_count": 131,
   "metadata": {
    "collapsed": false
   },
   "outputs": [
    {
     "data": {
      "text/plain": [
       "0    [a, b, c]\n",
       "1    [c, d, e]\n",
       "2          NaN\n",
       "3    [f, g, h]\n",
       "dtype: object"
      ]
     },
     "execution_count": 131,
     "metadata": {},
     "output_type": "execute_result"
    }
   ],
   "source": [
    "# Methods like split return a Series of lists:\n",
    "s2 = pd.Series(['a_b_c', 'c_d_e', np.nan, 'f_g_h'])\n",
    "s2.str.split('_')"
   ]
  },
  {
   "cell_type": "code",
   "execution_count": 132,
   "metadata": {
    "collapsed": false
   },
   "outputs": [
    {
     "data": {
      "text/plain": [
       "0      b\n",
       "1      d\n",
       "2    NaN\n",
       "3      g\n",
       "dtype: object"
      ]
     },
     "execution_count": 132,
     "metadata": {},
     "output_type": "execute_result"
    }
   ],
   "source": [
    "s2.str.split('_').str[1]"
   ]
  },
  {
   "cell_type": "code",
   "execution_count": 133,
   "metadata": {
    "collapsed": false
   },
   "outputs": [
    {
     "data": {
      "text/plain": [
       "0    NaN\n",
       "1    NaN\n",
       "2    NaN\n",
       "3      a\n",
       "4      a\n",
       "5    NaN\n",
       "6      A\n",
       "7      o\n",
       "8      a\n",
       "dtype: object"
      ]
     },
     "execution_count": 133,
     "metadata": {},
     "output_type": "execute_result"
    }
   ],
   "source": [
    "s = pd.Series(['A', 'B', 'C', 'Aaba', 'Baca', np.nan,'CABA', 'dog', 'cat'])\n",
    "s.str[1]"
   ]
  },
  {
   "cell_type": "markdown",
   "metadata": {},
   "source": [
    "You can use [] notation to directly index by position locations. If you index past the end of the string, the result will be a NaN."
   ]
  },
  {
   "cell_type": "code",
   "execution_count": 134,
   "metadata": {
    "collapsed": false
   },
   "outputs": [
    {
     "data": {
      "text/html": [
       "<div style=\"max-height:1000px;max-width:1500px;overflow:auto;\">\n",
       "<table border=\"1\" class=\"dataframe\">\n",
       "  <thead>\n",
       "    <tr style=\"text-align: right;\">\n",
       "      <th></th>\n",
       "      <th>0</th>\n",
       "      <th>1</th>\n",
       "      <th>2</th>\n",
       "    </tr>\n",
       "  </thead>\n",
       "  <tbody>\n",
       "    <tr>\n",
       "      <th>0</th>\n",
       "      <td>   a</td>\n",
       "      <td>   b</td>\n",
       "      <td>   c</td>\n",
       "    </tr>\n",
       "    <tr>\n",
       "      <th>1</th>\n",
       "      <td>   c</td>\n",
       "      <td>   d</td>\n",
       "      <td>   e</td>\n",
       "    </tr>\n",
       "    <tr>\n",
       "      <th>2</th>\n",
       "      <td> NaN</td>\n",
       "      <td> NaN</td>\n",
       "      <td> NaN</td>\n",
       "    </tr>\n",
       "    <tr>\n",
       "      <th>3</th>\n",
       "      <td>   f</td>\n",
       "      <td>   g</td>\n",
       "      <td>   h</td>\n",
       "    </tr>\n",
       "  </tbody>\n",
       "</table>\n",
       "</div>"
      ],
      "text/plain": [
       "     0    1    2\n",
       "0    a    b    c\n",
       "1    c    d    e\n",
       "2  NaN  NaN  NaN\n",
       "3    f    g    h"
      ]
     },
     "execution_count": 134,
     "metadata": {},
     "output_type": "execute_result"
    }
   ],
   "source": [
    "# Easy to expand this to return a DataFrame\n",
    "s2.str.split('_').apply(pd.Series)"
   ]
  },
  {
   "cell_type": "markdown",
   "metadata": {},
   "source": [
    "Methods like replace and findall take regular expressions, too:"
   ]
  },
  {
   "cell_type": "code",
   "execution_count": 135,
   "metadata": {
    "collapsed": false
   },
   "outputs": [
    {
     "data": {
      "text/plain": [
       "0           A\n",
       "1           B\n",
       "2           C\n",
       "3    XX-XX ba\n",
       "4    XX-XX ca\n",
       "5            \n",
       "6         NaN\n",
       "7    XX-XX BA\n",
       "8      XX-XX \n",
       "9     XX-XX t\n",
       "dtype: object"
      ]
     },
     "execution_count": 135,
     "metadata": {},
     "output_type": "execute_result"
    }
   ],
   "source": [
    "s3 = pd.Series(['A', 'B', 'C', 'Aaba', 'Baca','', np.nan, 'CABA', 'dog', 'cat'])\n",
    "s3.str.replace('^.a|dog', 'XX-XX ', case=False)"
   ]
  },
  {
   "cell_type": "markdown",
   "metadata": {},
   "source": [
    "###Grouping\n",
    "By “group by” we are referring to a process involving one or more of the following steps  \n",
    "\n",
    "- Splitting the data into groups based on some criteria  \n",
    "- Applying a function to each group independently    \n",
    "- Combining the results into a data structure   \n",
    "\n",
    "[grouping](http://pandas.pydata.org/pandas-docs/version/0.15.2/groupby.html#groupby)"
   ]
  },
  {
   "cell_type": "code",
   "execution_count": 136,
   "metadata": {
    "collapsed": false
   },
   "outputs": [
    {
     "data": {
      "text/html": [
       "<div style=\"max-height:1000px;max-width:1500px;overflow:auto;\">\n",
       "<table border=\"1\" class=\"dataframe\">\n",
       "  <thead>\n",
       "    <tr style=\"text-align: right;\">\n",
       "      <th></th>\n",
       "      <th>A</th>\n",
       "      <th>B</th>\n",
       "      <th>C</th>\n",
       "      <th>D</th>\n",
       "    </tr>\n",
       "  </thead>\n",
       "  <tbody>\n",
       "    <tr>\n",
       "      <th>0</th>\n",
       "      <td> foo</td>\n",
       "      <td>   one</td>\n",
       "      <td>-1.082800</td>\n",
       "      <td> 1.413746</td>\n",
       "    </tr>\n",
       "    <tr>\n",
       "      <th>1</th>\n",
       "      <td> bar</td>\n",
       "      <td>   one</td>\n",
       "      <td>-0.428831</td>\n",
       "      <td> 0.261036</td>\n",
       "    </tr>\n",
       "    <tr>\n",
       "      <th>2</th>\n",
       "      <td> foo</td>\n",
       "      <td>   two</td>\n",
       "      <td>-2.172585</td>\n",
       "      <td> 0.217979</td>\n",
       "    </tr>\n",
       "    <tr>\n",
       "      <th>3</th>\n",
       "      <td> bar</td>\n",
       "      <td> three</td>\n",
       "      <td> 0.481878</td>\n",
       "      <td>-0.737276</td>\n",
       "    </tr>\n",
       "    <tr>\n",
       "      <th>4</th>\n",
       "      <td> foo</td>\n",
       "      <td>   two</td>\n",
       "      <td> 1.241357</td>\n",
       "      <td>-0.686429</td>\n",
       "    </tr>\n",
       "    <tr>\n",
       "      <th>5</th>\n",
       "      <td> bar</td>\n",
       "      <td>   two</td>\n",
       "      <td> 0.592939</td>\n",
       "      <td> 0.518522</td>\n",
       "    </tr>\n",
       "    <tr>\n",
       "      <th>6</th>\n",
       "      <td> foo</td>\n",
       "      <td>   one</td>\n",
       "      <td> 0.816336</td>\n",
       "      <td> 0.666551</td>\n",
       "    </tr>\n",
       "    <tr>\n",
       "      <th>7</th>\n",
       "      <td> foo</td>\n",
       "      <td> three</td>\n",
       "      <td>-0.713144</td>\n",
       "      <td>-0.243731</td>\n",
       "    </tr>\n",
       "  </tbody>\n",
       "</table>\n",
       "</div>"
      ],
      "text/plain": [
       "     A      B         C         D\n",
       "0  foo    one -1.082800  1.413746\n",
       "1  bar    one -0.428831  0.261036\n",
       "2  foo    two -2.172585  0.217979\n",
       "3  bar  three  0.481878 -0.737276\n",
       "4  foo    two  1.241357 -0.686429\n",
       "5  bar    two  0.592939  0.518522\n",
       "6  foo    one  0.816336  0.666551\n",
       "7  foo  three -0.713144 -0.243731"
      ]
     },
     "execution_count": 136,
     "metadata": {},
     "output_type": "execute_result"
    }
   ],
   "source": [
    "df = makefoobar()\n",
    "df"
   ]
  },
  {
   "cell_type": "markdown",
   "metadata": {},
   "source": [
    "Grouping and then applying a function sum to the resulting groups."
   ]
  },
  {
   "cell_type": "code",
   "execution_count": 137,
   "metadata": {
    "collapsed": false
   },
   "outputs": [
    {
     "data": {
      "text/html": [
       "<div style=\"max-height:1000px;max-width:1500px;overflow:auto;\">\n",
       "<table border=\"1\" class=\"dataframe\">\n",
       "  <thead>\n",
       "    <tr style=\"text-align: right;\">\n",
       "      <th></th>\n",
       "      <th>C</th>\n",
       "      <th>D</th>\n",
       "    </tr>\n",
       "    <tr>\n",
       "      <th>A</th>\n",
       "      <th></th>\n",
       "      <th></th>\n",
       "    </tr>\n",
       "  </thead>\n",
       "  <tbody>\n",
       "    <tr>\n",
       "      <th>bar</th>\n",
       "      <td> 0.645986</td>\n",
       "      <td> 0.042282</td>\n",
       "    </tr>\n",
       "    <tr>\n",
       "      <th>foo</th>\n",
       "      <td>-1.910837</td>\n",
       "      <td> 1.368115</td>\n",
       "    </tr>\n",
       "  </tbody>\n",
       "</table>\n",
       "</div>"
      ],
      "text/plain": [
       "            C         D\n",
       "A                      \n",
       "bar  0.645986  0.042282\n",
       "foo -1.910837  1.368115"
      ]
     },
     "execution_count": 137,
     "metadata": {},
     "output_type": "execute_result"
    }
   ],
   "source": [
    "df.groupby('A').sum()"
   ]
  },
  {
   "cell_type": "code",
   "execution_count": 138,
   "metadata": {
    "collapsed": false
   },
   "outputs": [
    {
     "data": {
      "text/html": [
       "<div style=\"max-height:1000px;max-width:1500px;overflow:auto;\">\n",
       "<table border=\"1\" class=\"dataframe\">\n",
       "  <thead>\n",
       "    <tr style=\"text-align: right;\">\n",
       "      <th></th>\n",
       "      <th></th>\n",
       "      <th>C</th>\n",
       "      <th>D</th>\n",
       "    </tr>\n",
       "    <tr>\n",
       "      <th>A</th>\n",
       "      <th>B</th>\n",
       "      <th></th>\n",
       "      <th></th>\n",
       "    </tr>\n",
       "  </thead>\n",
       "  <tbody>\n",
       "    <tr>\n",
       "      <th rowspan=\"3\" valign=\"top\">bar</th>\n",
       "      <th>one</th>\n",
       "      <td>-0.428831</td>\n",
       "      <td> 0.261036</td>\n",
       "    </tr>\n",
       "    <tr>\n",
       "      <th>three</th>\n",
       "      <td> 0.481878</td>\n",
       "      <td>-0.737276</td>\n",
       "    </tr>\n",
       "    <tr>\n",
       "      <th>two</th>\n",
       "      <td> 0.592939</td>\n",
       "      <td> 0.518522</td>\n",
       "    </tr>\n",
       "    <tr>\n",
       "      <th rowspan=\"3\" valign=\"top\">foo</th>\n",
       "      <th>one</th>\n",
       "      <td>-0.266464</td>\n",
       "      <td> 2.080296</td>\n",
       "    </tr>\n",
       "    <tr>\n",
       "      <th>three</th>\n",
       "      <td>-0.713144</td>\n",
       "      <td>-0.243731</td>\n",
       "    </tr>\n",
       "    <tr>\n",
       "      <th>two</th>\n",
       "      <td>-0.931229</td>\n",
       "      <td>-0.468450</td>\n",
       "    </tr>\n",
       "  </tbody>\n",
       "</table>\n",
       "</div>"
      ],
      "text/plain": [
       "                  C         D\n",
       "A   B                        \n",
       "bar one   -0.428831  0.261036\n",
       "    three  0.481878 -0.737276\n",
       "    two    0.592939  0.518522\n",
       "foo one   -0.266464  2.080296\n",
       "    three -0.713144 -0.243731\n",
       "    two   -0.931229 -0.468450"
      ]
     },
     "execution_count": 138,
     "metadata": {},
     "output_type": "execute_result"
    }
   ],
   "source": [
    "df.groupby(['A','B']).sum()"
   ]
  },
  {
   "cell_type": "code",
   "execution_count": 139,
   "metadata": {
    "collapsed": false
   },
   "outputs": [
    {
     "name": "stdout",
     "output_type": "stream",
     "text": [
      "     A      B         C         D\n",
      "0  foo    one -1.498075 -1.508066\n",
      "1  bar    one  0.172493  1.327274\n",
      "2  foo    two  0.583990  1.128944\n",
      "3  bar  three  0.261032  1.030519\n",
      "4  foo    two  1.018042 -0.970777\n",
      "5  bar    two  0.350983  0.795607\n",
      "6  foo    one  1.404333 -1.182395\n",
      "7  foo  three -0.930559 -0.555590\n"
     ]
    },
    {
     "data": {
      "text/plain": [
       "{'one': 0.026250279623687572,\n",
       " 'three': -0.3347634110120622,\n",
       " 'two': 0.65100483607779791}"
      ]
     },
     "execution_count": 139,
     "metadata": {},
     "output_type": "execute_result"
    }
   ],
   "source": [
    "df = makefoobar()\n",
    "print(df)\n",
    "cnts = {}\n",
    "#first value is group column value, seond value is the members in the group\n",
    "for grp, grp_data in df.groupby(\"B\"):\n",
    "    cnts[grp] = grp_data.C.mean()  \n",
    "cnts"
   ]
  },
  {
   "cell_type": "markdown",
   "metadata": {},
   "source": [
    "###Reshaping\n",
    "\n",
    "[Hierarchical Indexing](http://pandas.pydata.org/pandas-docs/version/0.15.2/advanced.html#advanced-hierarchical) and [Reshaping](http://pandas.pydata.org/pandas-docs/version/0.15.2/reshaping.html#reshaping-stacking)."
   ]
  },
  {
   "cell_type": "code",
   "execution_count": 140,
   "metadata": {
    "collapsed": false
   },
   "outputs": [
    {
     "name": "stdout",
     "output_type": "stream",
     "text": [
      "[('bar', 'one'), ('bar', 'two'), ('baz', 'one'), ('baz', 'two'), ('foo', 'one'), ('foo', 'two'), ('qux', 'one'), ('qux', 'two')]\n"
     ]
    },
    {
     "data": {
      "text/html": [
       "<div style=\"max-height:1000px;max-width:1500px;overflow:auto;\">\n",
       "<table border=\"1\" class=\"dataframe\">\n",
       "  <thead>\n",
       "    <tr style=\"text-align: right;\">\n",
       "      <th></th>\n",
       "      <th></th>\n",
       "      <th>A</th>\n",
       "      <th>B</th>\n",
       "    </tr>\n",
       "    <tr>\n",
       "      <th>first</th>\n",
       "      <th>second</th>\n",
       "      <th></th>\n",
       "      <th></th>\n",
       "    </tr>\n",
       "  </thead>\n",
       "  <tbody>\n",
       "    <tr>\n",
       "      <th rowspan=\"2\" valign=\"top\">bar</th>\n",
       "      <th>one</th>\n",
       "      <td> 0.890401</td>\n",
       "      <td>-1.220275</td>\n",
       "    </tr>\n",
       "    <tr>\n",
       "      <th>two</th>\n",
       "      <td> 2.493911</td>\n",
       "      <td>-0.140820</td>\n",
       "    </tr>\n",
       "    <tr>\n",
       "      <th rowspan=\"2\" valign=\"top\">baz</th>\n",
       "      <th>one</th>\n",
       "      <td> 0.229494</td>\n",
       "      <td>-0.006752</td>\n",
       "    </tr>\n",
       "    <tr>\n",
       "      <th>two</th>\n",
       "      <td>-0.007104</td>\n",
       "      <td> 0.274393</td>\n",
       "    </tr>\n",
       "  </tbody>\n",
       "</table>\n",
       "</div>"
      ],
      "text/plain": [
       "                     A         B\n",
       "first second                    \n",
       "bar   one     0.890401 -1.220275\n",
       "      two     2.493911 -0.140820\n",
       "baz   one     0.229494 -0.006752\n",
       "      two    -0.007104  0.274393"
      ]
     },
     "execution_count": 140,
     "metadata": {},
     "output_type": "execute_result"
    }
   ],
   "source": [
    "tuples = list(zip(*[['bar', 'bar', 'baz', 'baz',\n",
    "                    'foo', 'foo', 'qux', 'qux'],\n",
    "                    ['one', 'two', 'one', 'two',\n",
    "                    'one', 'two', 'one', 'two']]))\n",
    "print(tuples)\n",
    "index = pd.MultiIndex.from_tuples(tuples, names=['first', 'second'])\n",
    "df = pd.DataFrame(np.random.randn(8, 2), index=index, columns=['A', 'B'])\n",
    "df2 = df[:4]\n",
    "df2"
   ]
  },
  {
   "cell_type": "markdown",
   "metadata": {},
   "source": [
    "The stack function “compresses” a level in the DataFrame’s columns."
   ]
  },
  {
   "cell_type": "code",
   "execution_count": 141,
   "metadata": {
    "collapsed": false
   },
   "outputs": [
    {
     "data": {
      "text/plain": [
       "first  second   \n",
       "bar    one     A    0.890401\n",
       "               B   -1.220275\n",
       "       two     A    2.493911\n",
       "               B   -0.140820\n",
       "baz    one     A    0.229494\n",
       "               B   -0.006752\n",
       "       two     A   -0.007104\n",
       "               B    0.274393\n",
       "dtype: float64"
      ]
     },
     "execution_count": 141,
     "metadata": {},
     "output_type": "execute_result"
    }
   ],
   "source": [
    "stacked = df2.stack()\n",
    "stacked"
   ]
  },
  {
   "cell_type": "markdown",
   "metadata": {},
   "source": [
    "With a “stacked” DataFrame or Series (having a MultiIndex as the index), the inverse operation of stack is unstack, which by default unstacks the last level:"
   ]
  },
  {
   "cell_type": "code",
   "execution_count": 142,
   "metadata": {
    "collapsed": false
   },
   "outputs": [
    {
     "data": {
      "text/html": [
       "<div style=\"max-height:1000px;max-width:1500px;overflow:auto;\">\n",
       "<table border=\"1\" class=\"dataframe\">\n",
       "  <thead>\n",
       "    <tr style=\"text-align: right;\">\n",
       "      <th></th>\n",
       "      <th></th>\n",
       "      <th>A</th>\n",
       "      <th>B</th>\n",
       "    </tr>\n",
       "    <tr>\n",
       "      <th>first</th>\n",
       "      <th>second</th>\n",
       "      <th></th>\n",
       "      <th></th>\n",
       "    </tr>\n",
       "  </thead>\n",
       "  <tbody>\n",
       "    <tr>\n",
       "      <th rowspan=\"2\" valign=\"top\">bar</th>\n",
       "      <th>one</th>\n",
       "      <td> 0.890401</td>\n",
       "      <td>-1.220275</td>\n",
       "    </tr>\n",
       "    <tr>\n",
       "      <th>two</th>\n",
       "      <td> 2.493911</td>\n",
       "      <td>-0.140820</td>\n",
       "    </tr>\n",
       "    <tr>\n",
       "      <th rowspan=\"2\" valign=\"top\">baz</th>\n",
       "      <th>one</th>\n",
       "      <td> 0.229494</td>\n",
       "      <td>-0.006752</td>\n",
       "    </tr>\n",
       "    <tr>\n",
       "      <th>two</th>\n",
       "      <td>-0.007104</td>\n",
       "      <td> 0.274393</td>\n",
       "    </tr>\n",
       "  </tbody>\n",
       "</table>\n",
       "</div>"
      ],
      "text/plain": [
       "                     A         B\n",
       "first second                    \n",
       "bar   one     0.890401 -1.220275\n",
       "      two     2.493911 -0.140820\n",
       "baz   one     0.229494 -0.006752\n",
       "      two    -0.007104  0.274393"
      ]
     },
     "execution_count": 142,
     "metadata": {},
     "output_type": "execute_result"
    }
   ],
   "source": [
    "stacked.unstack()"
   ]
  },
  {
   "cell_type": "code",
   "execution_count": 143,
   "metadata": {
    "collapsed": false
   },
   "outputs": [
    {
     "data": {
      "text/html": [
       "<div style=\"max-height:1000px;max-width:1500px;overflow:auto;\">\n",
       "<table border=\"1\" class=\"dataframe\">\n",
       "  <thead>\n",
       "    <tr style=\"text-align: right;\">\n",
       "      <th></th>\n",
       "      <th>second</th>\n",
       "      <th>one</th>\n",
       "      <th>two</th>\n",
       "    </tr>\n",
       "    <tr>\n",
       "      <th>first</th>\n",
       "      <th></th>\n",
       "      <th></th>\n",
       "      <th></th>\n",
       "    </tr>\n",
       "  </thead>\n",
       "  <tbody>\n",
       "    <tr>\n",
       "      <th rowspan=\"2\" valign=\"top\">bar</th>\n",
       "      <th>A</th>\n",
       "      <td> 0.890401</td>\n",
       "      <td> 2.493911</td>\n",
       "    </tr>\n",
       "    <tr>\n",
       "      <th>B</th>\n",
       "      <td>-1.220275</td>\n",
       "      <td>-0.140820</td>\n",
       "    </tr>\n",
       "    <tr>\n",
       "      <th rowspan=\"2\" valign=\"top\">baz</th>\n",
       "      <th>A</th>\n",
       "      <td> 0.229494</td>\n",
       "      <td>-0.007104</td>\n",
       "    </tr>\n",
       "    <tr>\n",
       "      <th>B</th>\n",
       "      <td>-0.006752</td>\n",
       "      <td> 0.274393</td>\n",
       "    </tr>\n",
       "  </tbody>\n",
       "</table>\n",
       "</div>"
      ],
      "text/plain": [
       "second        one       two\n",
       "first                      \n",
       "bar   A  0.890401  2.493911\n",
       "      B -1.220275 -0.140820\n",
       "baz   A  0.229494 -0.007104\n",
       "      B -0.006752  0.274393"
      ]
     },
     "execution_count": 143,
     "metadata": {},
     "output_type": "execute_result"
    }
   ],
   "source": [
    "stacked.unstack(1)"
   ]
  },
  {
   "cell_type": "code",
   "execution_count": 144,
   "metadata": {
    "collapsed": false
   },
   "outputs": [
    {
     "data": {
      "text/html": [
       "<div style=\"max-height:1000px;max-width:1500px;overflow:auto;\">\n",
       "<table border=\"1\" class=\"dataframe\">\n",
       "  <thead>\n",
       "    <tr style=\"text-align: right;\">\n",
       "      <th></th>\n",
       "      <th>first</th>\n",
       "      <th>bar</th>\n",
       "      <th>baz</th>\n",
       "    </tr>\n",
       "    <tr>\n",
       "      <th>second</th>\n",
       "      <th></th>\n",
       "      <th></th>\n",
       "      <th></th>\n",
       "    </tr>\n",
       "  </thead>\n",
       "  <tbody>\n",
       "    <tr>\n",
       "      <th rowspan=\"2\" valign=\"top\">one</th>\n",
       "      <th>A</th>\n",
       "      <td> 0.890401</td>\n",
       "      <td> 0.229494</td>\n",
       "    </tr>\n",
       "    <tr>\n",
       "      <th>B</th>\n",
       "      <td>-1.220275</td>\n",
       "      <td>-0.006752</td>\n",
       "    </tr>\n",
       "    <tr>\n",
       "      <th rowspan=\"2\" valign=\"top\">two</th>\n",
       "      <th>A</th>\n",
       "      <td> 2.493911</td>\n",
       "      <td>-0.007104</td>\n",
       "    </tr>\n",
       "    <tr>\n",
       "      <th>B</th>\n",
       "      <td>-0.140820</td>\n",
       "      <td> 0.274393</td>\n",
       "    </tr>\n",
       "  </tbody>\n",
       "</table>\n",
       "</div>"
      ],
      "text/plain": [
       "first          bar       baz\n",
       "second                      \n",
       "one    A  0.890401  0.229494\n",
       "       B -1.220275 -0.006752\n",
       "two    A  2.493911 -0.007104\n",
       "       B -0.140820  0.274393"
      ]
     },
     "execution_count": 144,
     "metadata": {},
     "output_type": "execute_result"
    }
   ],
   "source": [
    "stacked.unstack(0)"
   ]
  },
  {
   "cell_type": "markdown",
   "metadata": {},
   "source": [
    "##Categoricals\n",
    "see the [categorical introduction](http://pandas.pydata.org/pandas-docs/version/0.15.2/categorical.html#categorical) and the [API documentation](http://pandas.pydata.org/pandas-docs/version/0.15.2/api.html#api-categorical)."
   ]
  },
  {
   "cell_type": "code",
   "execution_count": 145,
   "metadata": {
    "collapsed": false
   },
   "outputs": [
    {
     "data": {
      "text/plain": [
       "0    a\n",
       "1    b\n",
       "2    b\n",
       "3    a\n",
       "4    a\n",
       "5    e\n",
       "Name: grade, dtype: category\n",
       "Categories (3, object): [a < b < e]"
      ]
     },
     "execution_count": 145,
     "metadata": {},
     "output_type": "execute_result"
    }
   ],
   "source": [
    "df = pd.DataFrame({\"id\":[1,2,3,4,5,6], \"raw_grade\":['a', 'b', 'b', 'a', 'a', 'e']})\n",
    "# Convert the raw grades to a categorical data type.\n",
    "df[\"grade\"] = df[\"raw_grade\"].astype(\"category\")\n",
    "df[\"grade\"]"
   ]
  },
  {
   "cell_type": "markdown",
   "metadata": {},
   "source": [
    "Rename the categories to more meaningful names (assigning to Series.cat.categories is in place!) Reorder the categories and simultaneously add the missing categories (methods under Series .cat return a new Series per default)."
   ]
  },
  {
   "cell_type": "code",
   "execution_count": 146,
   "metadata": {
    "collapsed": false
   },
   "outputs": [
    {
     "data": {
      "text/plain": [
       "0    very good\n",
       "1         good\n",
       "2         good\n",
       "3    very good\n",
       "4    very good\n",
       "5     very bad\n",
       "Name: grade, dtype: category\n",
       "Categories (5, object): [very bad < bad < medium < good < very good]"
      ]
     },
     "execution_count": 146,
     "metadata": {},
     "output_type": "execute_result"
    }
   ],
   "source": [
    "df[\"grade\"].cat.categories = [\"very good\", \"good\", \"very bad\"]\n",
    "df[\"grade\"] = df[\"grade\"].cat.set_categories([\"very bad\", \"bad\", \"medium\", \"good\", \"very good\"])\n",
    "df[\"grade\"]"
   ]
  },
  {
   "cell_type": "code",
   "execution_count": 147,
   "metadata": {
    "collapsed": false
   },
   "outputs": [
    {
     "data": {
      "text/html": [
       "<div style=\"max-height:1000px;max-width:1500px;overflow:auto;\">\n",
       "<table border=\"1\" class=\"dataframe\">\n",
       "  <thead>\n",
       "    <tr style=\"text-align: right;\">\n",
       "      <th></th>\n",
       "      <th>id</th>\n",
       "      <th>raw_grade</th>\n",
       "      <th>grade</th>\n",
       "    </tr>\n",
       "  </thead>\n",
       "  <tbody>\n",
       "    <tr>\n",
       "      <th>5</th>\n",
       "      <td> 6</td>\n",
       "      <td> e</td>\n",
       "      <td>  very bad</td>\n",
       "    </tr>\n",
       "    <tr>\n",
       "      <th>1</th>\n",
       "      <td> 2</td>\n",
       "      <td> b</td>\n",
       "      <td>      good</td>\n",
       "    </tr>\n",
       "    <tr>\n",
       "      <th>2</th>\n",
       "      <td> 3</td>\n",
       "      <td> b</td>\n",
       "      <td>      good</td>\n",
       "    </tr>\n",
       "    <tr>\n",
       "      <th>0</th>\n",
       "      <td> 1</td>\n",
       "      <td> a</td>\n",
       "      <td> very good</td>\n",
       "    </tr>\n",
       "    <tr>\n",
       "      <th>3</th>\n",
       "      <td> 4</td>\n",
       "      <td> a</td>\n",
       "      <td> very good</td>\n",
       "    </tr>\n",
       "    <tr>\n",
       "      <th>4</th>\n",
       "      <td> 5</td>\n",
       "      <td> a</td>\n",
       "      <td> very good</td>\n",
       "    </tr>\n",
       "  </tbody>\n",
       "</table>\n",
       "</div>"
      ],
      "text/plain": [
       "   id raw_grade      grade\n",
       "5   6         e   very bad\n",
       "1   2         b       good\n",
       "2   3         b       good\n",
       "0   1         a  very good\n",
       "3   4         a  very good\n",
       "4   5         a  very good"
      ]
     },
     "execution_count": 147,
     "metadata": {},
     "output_type": "execute_result"
    }
   ],
   "source": [
    "# Sorting is per order in the categories, not lexical order.\n",
    "df.sort(\"grade\")"
   ]
  },
  {
   "cell_type": "code",
   "execution_count": 148,
   "metadata": {
    "collapsed": false
   },
   "outputs": [
    {
     "data": {
      "text/plain": [
       "grade\n",
       "very bad      1\n",
       "bad         NaN\n",
       "medium      NaN\n",
       "good          2\n",
       "very good     3\n",
       "dtype: float64"
      ]
     },
     "execution_count": 148,
     "metadata": {},
     "output_type": "execute_result"
    }
   ],
   "source": [
    "# Grouping by a categorical column shows also empty categories.\n",
    "df.groupby(\"grade\").size()"
   ]
  },
  {
   "cell_type": "markdown",
   "metadata": {},
   "source": [
    "##Pivot tables\n",
    "See the section on [Pivot Tables](http://pandas.pydata.org/pandas-docs/version/0.15.2/reshaping.html#reshaping-pivot)."
   ]
  },
  {
   "cell_type": "code",
   "execution_count": 149,
   "metadata": {
    "collapsed": false
   },
   "outputs": [
    {
     "data": {
      "text/html": [
       "<div style=\"max-height:1000px;max-width:1500px;overflow:auto;\">\n",
       "<table border=\"1\" class=\"dataframe\">\n",
       "  <thead>\n",
       "    <tr style=\"text-align: right;\">\n",
       "      <th></th>\n",
       "      <th>A</th>\n",
       "      <th>B</th>\n",
       "      <th>C</th>\n",
       "      <th>D</th>\n",
       "      <th>E</th>\n",
       "    </tr>\n",
       "  </thead>\n",
       "  <tbody>\n",
       "    <tr>\n",
       "      <th>0 </th>\n",
       "      <td>   one</td>\n",
       "      <td> A</td>\n",
       "      <td> foo</td>\n",
       "      <td>-1.694450</td>\n",
       "      <td> 1.181332</td>\n",
       "    </tr>\n",
       "    <tr>\n",
       "      <th>1 </th>\n",
       "      <td>   one</td>\n",
       "      <td> B</td>\n",
       "      <td> foo</td>\n",
       "      <td>-0.649523</td>\n",
       "      <td>-0.960024</td>\n",
       "    </tr>\n",
       "    <tr>\n",
       "      <th>2 </th>\n",
       "      <td>   two</td>\n",
       "      <td> C</td>\n",
       "      <td> foo</td>\n",
       "      <td>-0.147176</td>\n",
       "      <td>-1.317824</td>\n",
       "    </tr>\n",
       "    <tr>\n",
       "      <th>3 </th>\n",
       "      <td> three</td>\n",
       "      <td> A</td>\n",
       "      <td> bar</td>\n",
       "      <td> 0.087274</td>\n",
       "      <td>-0.870640</td>\n",
       "    </tr>\n",
       "    <tr>\n",
       "      <th>4 </th>\n",
       "      <td>   one</td>\n",
       "      <td> B</td>\n",
       "      <td> bar</td>\n",
       "      <td>-0.056417</td>\n",
       "      <td> 1.048383</td>\n",
       "    </tr>\n",
       "    <tr>\n",
       "      <th>...</th>\n",
       "      <td>...</td>\n",
       "      <td>...</td>\n",
       "      <td>...</td>\n",
       "      <td>...</td>\n",
       "      <td>...</td>\n",
       "    </tr>\n",
       "    <tr>\n",
       "      <th>7 </th>\n",
       "      <td> three</td>\n",
       "      <td> B</td>\n",
       "      <td> foo</td>\n",
       "      <td> 0.764470</td>\n",
       "      <td>-0.977544</td>\n",
       "    </tr>\n",
       "    <tr>\n",
       "      <th>8 </th>\n",
       "      <td>   one</td>\n",
       "      <td> C</td>\n",
       "      <td> foo</td>\n",
       "      <td>-1.283480</td>\n",
       "      <td> 0.926650</td>\n",
       "    </tr>\n",
       "    <tr>\n",
       "      <th>9 </th>\n",
       "      <td>   one</td>\n",
       "      <td> A</td>\n",
       "      <td> bar</td>\n",
       "      <td> 0.860165</td>\n",
       "      <td> 0.542091</td>\n",
       "    </tr>\n",
       "    <tr>\n",
       "      <th>10</th>\n",
       "      <td>   two</td>\n",
       "      <td> B</td>\n",
       "      <td> bar</td>\n",
       "      <td>-0.620002</td>\n",
       "      <td>-1.021743</td>\n",
       "    </tr>\n",
       "    <tr>\n",
       "      <th>11</th>\n",
       "      <td> three</td>\n",
       "      <td> C</td>\n",
       "      <td> bar</td>\n",
       "      <td>-0.264644</td>\n",
       "      <td>-1.054829</td>\n",
       "    </tr>\n",
       "  </tbody>\n",
       "</table>\n",
       "<p>12 rows × 5 columns</p>\n",
       "</div>"
      ],
      "text/plain": [
       "        A  B    C         D         E\n",
       "0     one  A  foo -1.694450  1.181332\n",
       "1     one  B  foo -0.649523 -0.960024\n",
       "2     two  C  foo -0.147176 -1.317824\n",
       "3   three  A  bar  0.087274 -0.870640\n",
       "4     one  B  bar -0.056417  1.048383\n",
       "..    ... ..  ...       ...       ...\n",
       "7   three  B  foo  0.764470 -0.977544\n",
       "8     one  C  foo -1.283480  0.926650\n",
       "9     one  A  bar  0.860165  0.542091\n",
       "10    two  B  bar -0.620002 -1.021743\n",
       "11  three  C  bar -0.264644 -1.054829\n",
       "\n",
       "[12 rows x 5 columns]"
      ]
     },
     "execution_count": 149,
     "metadata": {},
     "output_type": "execute_result"
    }
   ],
   "source": [
    "df = pd.DataFrame({'A' : ['one', 'one', 'two', 'three'] * 3,\n",
    "                   'B' : ['A', 'B', 'C'] * 4,\n",
    "                   'C' : ['foo', 'foo', 'foo', 'bar', 'bar', 'bar'] * 2,\n",
    "                   'D' : np.random.randn(12),\n",
    "                   'E' : np.random.randn(12)})\n",
    "df"
   ]
  },
  {
   "cell_type": "code",
   "execution_count": 150,
   "metadata": {
    "collapsed": false
   },
   "outputs": [
    {
     "data": {
      "text/html": [
       "<div style=\"max-height:1000px;max-width:1500px;overflow:auto;\">\n",
       "<table border=\"1\" class=\"dataframe\">\n",
       "  <thead>\n",
       "    <tr style=\"text-align: right;\">\n",
       "      <th></th>\n",
       "      <th>C</th>\n",
       "      <th>bar</th>\n",
       "      <th>foo</th>\n",
       "    </tr>\n",
       "    <tr>\n",
       "      <th>A</th>\n",
       "      <th>B</th>\n",
       "      <th></th>\n",
       "      <th></th>\n",
       "    </tr>\n",
       "  </thead>\n",
       "  <tbody>\n",
       "    <tr>\n",
       "      <th rowspan=\"3\" valign=\"top\">one</th>\n",
       "      <th>A</th>\n",
       "      <td> 0.860165</td>\n",
       "      <td>-1.694450</td>\n",
       "    </tr>\n",
       "    <tr>\n",
       "      <th>B</th>\n",
       "      <td>-0.056417</td>\n",
       "      <td>-0.649523</td>\n",
       "    </tr>\n",
       "    <tr>\n",
       "      <th>C</th>\n",
       "      <td> 1.536857</td>\n",
       "      <td>-1.283480</td>\n",
       "    </tr>\n",
       "    <tr>\n",
       "      <th rowspan=\"3\" valign=\"top\">three</th>\n",
       "      <th>A</th>\n",
       "      <td> 0.087274</td>\n",
       "      <td>      NaN</td>\n",
       "    </tr>\n",
       "    <tr>\n",
       "      <th>B</th>\n",
       "      <td>      NaN</td>\n",
       "      <td> 0.764470</td>\n",
       "    </tr>\n",
       "    <tr>\n",
       "      <th>C</th>\n",
       "      <td>-0.264644</td>\n",
       "      <td>      NaN</td>\n",
       "    </tr>\n",
       "    <tr>\n",
       "      <th rowspan=\"3\" valign=\"top\">two</th>\n",
       "      <th>A</th>\n",
       "      <td>      NaN</td>\n",
       "      <td> 0.955994</td>\n",
       "    </tr>\n",
       "    <tr>\n",
       "      <th>B</th>\n",
       "      <td>-0.620002</td>\n",
       "      <td>      NaN</td>\n",
       "    </tr>\n",
       "    <tr>\n",
       "      <th>C</th>\n",
       "      <td>      NaN</td>\n",
       "      <td>-0.147176</td>\n",
       "    </tr>\n",
       "  </tbody>\n",
       "</table>\n",
       "</div>"
      ],
      "text/plain": [
       "C             bar       foo\n",
       "A     B                    \n",
       "one   A  0.860165 -1.694450\n",
       "      B -0.056417 -0.649523\n",
       "      C  1.536857 -1.283480\n",
       "three A  0.087274       NaN\n",
       "      B       NaN  0.764470\n",
       "      C -0.264644       NaN\n",
       "two   A       NaN  0.955994\n",
       "      B -0.620002       NaN\n",
       "      C       NaN -0.147176"
      ]
     },
     "execution_count": 150,
     "metadata": {},
     "output_type": "execute_result"
    }
   ],
   "source": [
    "pd.pivot_table(df, values='D', index=['A', 'B'], columns=['C'])\n"
   ]
  },
  {
   "cell_type": "markdown",
   "metadata": {},
   "source": [
    "Reconstruct the sampled presented in the pages at [Pandas Pivot Table Explained ](http://pbpython.com/pandas-pivot-table-explained.html) and [Generating Excel Reports from a Pandas Pivot Table ](http://pbpython.com/pandas-pivot-report.html).  \n",
    "\n",
    "First load the data and set the Status column as a pandas `category` and set the viewing order. Set the `Name` as table index."
   ]
  },
  {
   "cell_type": "code",
   "execution_count": 151,
   "metadata": {
    "collapsed": false
   },
   "outputs": [
    {
     "name": "stdout",
     "output_type": "stream",
     "text": [
      "   Account                          Name           Rep       Manager      Product  Quantity  Price     Status\n",
      "0   714466               Trantow-Barrows  Craig Booker  Debra Henley          CPU         1  30000  presented\n",
      "1   714466               Trantow-Barrows  Craig Booker  Debra Henley     Software         1  10000  presented\n",
      "2   714466               Trantow-Barrows  Craig Booker  Debra Henley  Maintenance         2   5000    pending\n",
      "3   737550  Fritsch, Russel and Anderson  Craig Booker  Debra Henley          CPU         1  35000   declined\n",
      "                              Account  Price  Quantity\n",
      "Name                                                  \n",
      "Barton LLC                     740150  35000  1.000000\n",
      "Fritsch, Russel and Anderson   737550  35000  1.000000\n",
      "Herman LLC                     141962  65000  2.000000\n",
      "Jerde-Hilpert                  412290   5000  2.000000\n",
      "Kassulke, Ondricka and Metz    307599   7000  3.000000\n",
      "...                               ...    ...       ...\n",
      "Koepp Ltd                      729833  35000  2.000000\n",
      "Kulas Inc                      218895  25000  1.500000\n",
      "Purdy-Kunde                    163416  30000  1.000000\n",
      "Stokes LLC                     239344   7500  1.000000\n",
      "Trantow-Barrows                714466  15000  1.333333\n",
      "\n",
      "[12 rows x 3 columns]\n"
     ]
    }
   ],
   "source": [
    "df = pd.read_excel(\"./data/sales-funnel.xlsx\")\n",
    "df[\"Status\"] = df[\"Status\"].astype(\"category\")\n",
    "df[\"Status\"].cat.set_categories([\"won\",\"pending\",\"presented\",\"declined\"],inplace=True)\n",
    "print(df.head(4))\n",
    "\n",
    "print(pd.pivot_table(df,index=[\"Name\"]))\n"
   ]
  },
  {
   "cell_type": "markdown",
   "metadata": {},
   "source": [
    "##Comparing and Gotchas\n",
    "<http://pandas.pydata.org/pandas-docs/version/0.15.2/basics.html#basics-compare>  \n",
    "<http://pandas.pydata.org/pandas-docs/version/0.15.2/basics.html#boolean-reductions>   \n",
    "\n",
    "pandas follows the numpy convention of raising an error when you try to convert something to a bool. This happens in a if or when using the boolean operations, and, or, or not.  \n",
    "<http://pandas.pydata.org/pandas-docs/version/0.15.2/gotchas.html#gotchas>\n"
   ]
  },
  {
   "cell_type": "markdown",
   "metadata": {},
   "source": [
    "#Date and time"
   ]
  },
  {
   "cell_type": "code",
   "execution_count": 57,
   "metadata": {
    "collapsed": false
   },
   "outputs": [],
   "source": [
    "# print('0')\n",
    "# TMY = pd.DataFrame([0,1],index=['1981-01-01T10:00:00.000000000+0200', '1981-01-01T11:00:00.000000000+0200'])\n",
    "# print(TMY)\n",
    "# print('1')\n",
    "# print(type(TMY.index.to_datetime().values))\n",
    "# print(TMY.index.to_datetime().values)\n",
    "# print('2')\n",
    "# print(type(TMY.index.astype(np.int64)))\n",
    "# print(TMY.index.astype(np.int64) // 10**9)  #timestamp is unix time with nanoseconds\n",
    "# print('3')\n",
    "# print(type(pd.to_datetime(TMY.index.astype(np.int64))))\n",
    "# print(pd.to_datetime(TMY.index.astype(np.int64)))  #timestamp is unix time with nanoseconds\n"
   ]
  },
  {
   "cell_type": "markdown",
   "metadata": {},
   "source": [
    "## Python and [module versions, and dates](http://nbviewer.ipython.org/github/jrjohansson/scientific-python-lectures/blob/master/Lecture-0-Scientific-Computing-with-Python.ipynb)"
   ]
  },
  {
   "cell_type": "code",
   "execution_count": 152,
   "metadata": {
    "collapsed": false
   },
   "outputs": [
    {
     "data": {
      "application/json": {
       "Software versions": [
        {
         "module": "Python",
         "version": "2.7.8 32bit [MSC v.1500 32 bit (Intel)]"
        },
        {
         "module": "IPython",
         "version": "3.0.0"
        },
        {
         "module": "OS",
         "version": "Windows 7 6.1.7601 SP1"
        },
        {
         "module": "pandas",
         "version": "0.15.2"
        },
        {
         "module": "numpy",
         "version": "1.9.2"
        },
        {
         "module": "scipy",
         "version": "0.15.1"
        },
        {
         "module": "matplotlib",
         "version": "1.4.3"
        },
        {
         "module": "pyradi",
         "version": "0.1.56"
        }
       ]
      },
      "text/html": [
       "<table><tr><th>Software</th><th>Version</th></tr><tr><td>Python</td><td>2.7.8 32bit [MSC v.1500 32 bit (Intel)]</td></tr><tr><td>IPython</td><td>3.0.0</td></tr><tr><td>OS</td><td>Windows 7 6.1.7601 SP1</td></tr><tr><td>pandas</td><td>0.15.2</td></tr><tr><td>numpy</td><td>1.9.2</td></tr><tr><td>scipy</td><td>0.15.1</td></tr><tr><td>matplotlib</td><td>1.4.3</td></tr><tr><td>pyradi</td><td>0.1.56</td></tr><tr><td colspan='2'>Tue Jun 16 20:05:19 2015 South Africa Standard Time</td></tr></table>"
      ],
      "text/latex": [
       "\\begin{tabular}{|l|l|}\\hline\n",
       "{\\bf Software} & {\\bf Version} \\\\ \\hline\\hline\n",
       "Python & 2.7.8 32bit [MSC v.1500 32 bit (Intel)] \\\\ \\hline\n",
       "IPython & 3.0.0 \\\\ \\hline\n",
       "OS & Windows 7 6.1.7601 SP1 \\\\ \\hline\n",
       "pandas & 0.15.2 \\\\ \\hline\n",
       "numpy & 1.9.2 \\\\ \\hline\n",
       "scipy & 0.15.1 \\\\ \\hline\n",
       "matplotlib & 1.4.3 \\\\ \\hline\n",
       "pyradi & 0.1.56 \\\\ \\hline\n",
       "\\hline \\multicolumn{2}{|l|}{Tue Jun 16 20:05:19 2015 South Africa Standard Time} \\\\ \\hline\n",
       "\\end{tabular}\n"
      ],
      "text/plain": [
       "Software versions\n",
       "Python 2.7.8 32bit [MSC v.1500 32 bit (Intel)]\n",
       "IPython 3.0.0\n",
       "OS Windows 7 6.1.7601 SP1\n",
       "pandas 0.15.2\n",
       "numpy 1.9.2\n",
       "scipy 0.15.1\n",
       "matplotlib 1.4.3\n",
       "pyradi 0.1.56\n",
       "Tue Jun 16 20:05:19 2015 South Africa Standard Time"
      ]
     },
     "execution_count": 152,
     "metadata": {},
     "output_type": "execute_result"
    }
   ],
   "source": [
    "%load_ext version_information\n",
    "%version_information pandas, numpy, scipy, matplotlib, pyradi"
   ]
  },
  {
   "cell_type": "code",
   "execution_count": null,
   "metadata": {
    "collapsed": true
   },
   "outputs": [],
   "source": []
  }
 ],
 "metadata": {
  "kernelspec": {
   "display_name": "Python 2",
   "language": "python",
   "name": "python2"
  },
  "language_info": {
   "codemirror_mode": {
    "name": "ipython",
    "version": 2
   },
   "file_extension": ".py",
   "mimetype": "text/x-python",
   "name": "python",
   "nbconvert_exporter": "python",
   "pygments_lexer": "ipython2",
   "version": "2.7.8"
  }
 },
 "nbformat": 4,
 "nbformat_minor": 0
}
