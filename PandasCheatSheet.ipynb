{
 "cells": [
  {
   "cell_type": "markdown",
   "metadata": {},
   "source": [
    "# Pandas Cheat Sheet"
   ]
  },
  {
   "cell_type": "markdown",
   "metadata": {},
   "source": [
    "References:  \n",
    "<http://pandas.pydata.org/pandas-docs/stable/basics.html>  \n",
    "<http://pandas.pydata.org/pandas-docs/version/0.15.2/10min.html>    \n",
    "<http://synesthesiam.com/posts/an-introduction-to-pandas.html>  \n",
    "<http://pbpython.com/excel-pandas-comp.html>  \n",
    "<http://pbpython.com/excel-pandas-comp-2.html>  \n",
    "<http://pbpython.com/improve-pandas-excel-output.html>  \n",
    "<http://tech.novus.com/augmenting-your-excel-workflow-with-python/>  \n",
    "\n",
    "<http://pbpython.com/pandas-pivot-table-explained.html.\n",
    "<http://pbpython.com/pandas-pivot-report.html>\n",
    "\n",
    "<http://pandas.pydata.org/pandas-docs/stable/cookbook.html#cookbook-multi-index>  \n",
    "\n",
    "<http://www.bigdataexaminer.com/14-best-python-pandas-features/>  \n",
    "<http://pandas.pydata.org/pandas-docs/stable/reshaping.html#reshaping>  \n",
    "<https://iqbalnaved.wordpress.com/2013/08/26/python-pandas-hacks/>   \n",
    "\n",
    "<https://plot.ly/ipython-notebooks/big-data-analytics-with-pandas-and-sqlite/>  \n",
    "<http://www.analyticsvidhya.com/blog/2015/04/comprehensive-guide-data-exploration-sas-using-python-numpy-scipy-matplotlib-pandas/>  \n",
    "\n",
    "<http://manishamde.github.io/blog/2013/03/07/pandas-and-python-top-10/>  \n",
    "<http://www.gregreda.com/2013/10/26/intro-to-pandas-data-structures/>  \n"
   ]
  },
  {
   "cell_type": "code",
   "execution_count": 1,
   "metadata": {
    "collapsed": true
   },
   "outputs": [],
   "source": [
    "import numpy as np\n",
    "import pandas as pd\n",
    "\n",
    "import datetime"
   ]
  },
  {
   "cell_type": "markdown",
   "metadata": {},
   "source": [
    "<https://s3.amazonaws.com/quandl-static-content/Documents/Quandl+-+Pandas,+SciPy,+NumPy+Cheat+Sheet.pdf>   \n",
    "\n",
    "|Create pandas data structures| |\n",
    "|--|--|\n",
    "|s = Series(data, index) |Create a Series.|\n",
    "|df = DataFrame (data, index, columns) |Create a Dataframe.|\n",
    "|p = Panel(data, items, major_axis, minor_axis)|Create a Panel.|\n",
    "\n",
    "\n",
    "|\tDataFrame Commands\t|\t\t|\n",
    "|--|--|\n",
    "|\tdf[col]\t|\tSelect column.\t|\n",
    "|\tdf.iloc[label]\t|\tSelect row by label.\t|\n",
    "|\tdf.index\t|\tReturn DataFrame index.\t|\n",
    "|\tdf.drop()\t|\tDelete given row or column. Pass axis=1 for columns.\t|\n",
    "|\tdf1 = df1.reindex_like(df1,df2)\t|\tReindex df1 with index of df2.\t|\n",
    "|\tdf.reset_index()\t|\tReset index, putting old index in column named index.\t|\n",
    "|\tdf.reindex()\t|\tChange DataFrame index, new indecies set to NaN.\t|\n",
    "|\tdf.head(n)\t|\tShow first n rows.\t|\n",
    "|\tdf.tail(n)\t|\tShow last n rows.\t|\n",
    "|\tdf.sort()\t|\tSort index.\t|\n",
    "|\tdf.sort(axis=1)\t|\tSort columns.\t|\n",
    "|\tdf.pivot(index,column,values)\t|\tPivot DataFrame, using new conditions.\t|\n",
    "|\tdf.T\t|\tTranspose DataFrame.\t|\n",
    "|\tdf.stack()\t|\tChange lowest level of column labels into innermost row index.\t|\n",
    "|\tdf.unstack()\t|\tChange innermost row index into lowest level of column labels.\t|\n",
    "|\tdf.applymap()\t|\tApply function to every element in DataFrame.\t|\n",
    "|\tdf.apply()\t|\tApply function along a given axis\t|\n",
    "|\tdf.dropna()\t|\tDrops rows where any data is missing.\t|\n",
    "|\tdf.count()\t|\tReturns Series of row counts for every column.\t|\n",
    "|\tdf.min()\t|\tReturn minimum of every column.\t|\n",
    "|\tdf.max()\t|\tReturn maximum of every column.\t|\n",
    "|\tdf.describe()\t|\tGenerate various summary statistics for every column.\t|\n",
    "|\tconcat()\t|\tMerge DataFrame or Series objects\t|\t\n",
    "\n",
    "|\tGroupby\t|\t\t|\n",
    "|--|--|\n",
    "|\tgroupby()\t|\tSplit DataFrame by columns. Creates a GroupBy object (gb).\t|\n",
    "|\tgb.agg()\t|\tApply function (single or list) to a GroupBy object.\t|\n",
    "|\tgb.transform()\t|\tApplies function and returns object with same index as one being grouped.\t|\n",
    "|\tgb.filter()\t|\tFilter GroupBy object by a given function.\t|\n",
    "|\tgb.groups\t|\tReturn dict whose keys are the unique groups, and values are axis labels belonging to each group.\t|\n",
    "\n",
    "|\tI/O\t|\t\t|\n",
    "|--|--|\n",
    "|\tdf.to_csv('foo.csv')\t|\tSave to CSV.\t|\n",
    "|\tread_csv('foo.csv')\t|\tRead CSV into DataFrame.\t|\n",
    "|\tto_excel('foo.xlsx', sheet_name)\t|\tSave to Excel.\t|\n",
    "|\tread_excel('foo.xlsx','sheet1', index_col = None, na_values = ['NA'])\t|\tRead exel into DataFrame\t|\n",
    "\n",
    "\t\n"
   ]
  },
  {
   "cell_type": "markdown",
   "metadata": {},
   "source": [
    "## Set the display width when printing to console\n",
    "\n",
    "There are quite a few options to configure here, if you're using ipython then tab complete to find the [full set](http://pandas.pydata.org/pandas-docs/version/0.15.2/options.html) of display options:\n",
    "\n",
    "    pd.options.display.<tab>\n",
    "\n",
    "<http://stackoverflow.com/questions/21249206/how-to-configure-display-output-in-ipython-pandas>"
   ]
  },
  {
   "cell_type": "code",
   "execution_count": 2,
   "metadata": {
    "collapsed": false
   },
   "outputs": [],
   "source": [
    "#maximum number of rows and columns displayed when a frame is pretty-printed\n",
    "pd.set_option('display.max_columns', 30)\n",
    "pd.set_option('display.max_rows', 10)\n",
    "# Width of the display in characters.\n",
    "pd.set_option('display.width', 150)\n",
    "# The maximum width in characters of a column in the repr of a pandas data structure.              \n",
    "pd.set_option('display.max_colwidth', 150)"
   ]
  },
  {
   "cell_type": "markdown",
   "metadata": {},
   "source": [
    "## Creating/Loading Data"
   ]
  },
  {
   "cell_type": "markdown",
   "metadata": {},
   "source": [
    "### Functions to create different dataframe types"
   ]
  },
  {
   "cell_type": "markdown",
   "metadata": {},
   "source": [
    "An empty DataFrame can be created as follows. Test to see if the DataFrame is empty. In this case it is."
   ]
  },
  {
   "cell_type": "code",
   "execution_count": 3,
   "metadata": {
    "collapsed": false
   },
   "outputs": [
    {
     "name": "stdout",
     "output_type": "stream",
     "text": [
      "Empty DataFrame\n",
      "Columns: [A, B, C]\n",
      "Index: []\n",
      "True\n"
     ]
    }
   ],
   "source": [
    "columns = ['A','B', 'C']\n",
    "df = pd.DataFrame(columns=columns)\n",
    "print(df)\n",
    "print(df.empty)"
   ]
  },
  {
   "cell_type": "markdown",
   "metadata": {},
   "source": [
    "If you add an index, the row contents for the rows specified by the index will be empty (filled with NaN).  However, testing to see if the DataFrame is empty will show that it is not empty: there are rows."
   ]
  },
  {
   "cell_type": "code",
   "execution_count": 4,
   "metadata": {
    "collapsed": false
   },
   "outputs": [
    {
     "name": "stdout",
     "output_type": "stream",
     "text": [
      "              A    B    C\n",
      "2015-11-17  NaN  NaN  NaN\n",
      "2015-11-18  NaN  NaN  NaN\n",
      "2015-11-19  NaN  NaN  NaN\n",
      "False\n",
      "            A  B  C\n",
      "2015-11-17  0  0  0\n",
      "2015-11-18  0  0  0\n",
      "2015-11-19  0  0  0\n"
     ]
    }
   ],
   "source": [
    "todays_date = datetime.datetime.now().date()\n",
    "index = pd.date_range(todays_date-datetime.timedelta(10), periods=3, freq='D')\n",
    "columns = ['A','B', 'C']\n",
    "df = pd.DataFrame(index=index, columns=columns)\n",
    "print(df)\n",
    "print(df.empty)\n",
    "df = df.fillna(0) # with 0s rather than NaNs\n",
    "print(df)"
   ]
  },
  {
   "cell_type": "markdown",
   "metadata": {},
   "source": [
    "### Creating and filling DataFrames"
   ]
  },
  {
   "cell_type": "markdown",
   "metadata": {},
   "source": [
    "The following  functions create pandas dataframes in a variety of ways."
   ]
  },
  {
   "cell_type": "code",
   "execution_count": 5,
   "metadata": {
    "collapsed": false
   },
   "outputs": [],
   "source": [
    "# DataFrame by passing a numpy array, with a datetime index and labeled columns.\n",
    "def makeDateRand(nrows=6, ncols=4):\n",
    "    dates = pd.date_range('20130101',periods=6)\n",
    "    df = pd.DataFrame(np.random.randn(nrows,ncols),index=dates,columns=list('ABCD')) \n",
    "    return df\n",
    "# print(makeDateRand())"
   ]
  },
  {
   "cell_type": "code",
   "execution_count": 6,
   "metadata": {
    "collapsed": false
   },
   "outputs": [
    {
     "name": "stdout",
     "output_type": "stream",
     "text": [
      "                   A         B         C         D       Date\n",
      "2013-01-01  0.759870 -1.115570  0.321444  0.389339 2013-01-01\n",
      "2013-01-02  1.069222  0.956820  0.032163  0.590302 2013-01-02\n",
      "2013-01-03  1.168456  1.850866 -0.199959 -0.276352 2013-01-03\n",
      "2013-01-04  0.014462 -0.647269 -0.961624 -0.040737 2013-01-04\n",
      "2013-01-05  0.698237  0.788467  0.443202 -0.026488 2013-01-05\n",
      "2013-01-06 -1.569119  0.495847  0.296846  1.048535 2013-01-06\n"
     ]
    }
   ],
   "source": [
    "# DataFrame by passing a numpy array, with a datetime index and labeled columns, but also with a Date column.\n",
    "def makeDateColRand(nrows=6, ncols=4):\n",
    "    dates = pd.date_range('20130101',periods=6)\n",
    "    df = pd.DataFrame(np.random.randn(nrows,ncols),index=dates,columns=list('ABCD')) \n",
    "    df['Date'] = df.index\n",
    "    return df\n",
    "print(makeDateColRand())"
   ]
  },
  {
   "cell_type": "code",
   "execution_count": 7,
   "metadata": {
    "collapsed": true
   },
   "outputs": [],
   "source": [
    "# DataFrame by passing a numpy array, with an int index and labeled columns.\n",
    "def makeRand(nrows=4, ncols=4):\n",
    "    return pd.DataFrame(np.random.randn(nrows, ncols), columns=['A','B','C','D'])"
   ]
  },
  {
   "cell_type": "code",
   "execution_count": 8,
   "metadata": {
    "collapsed": false
   },
   "outputs": [],
   "source": [
    "#create from dictionary\n",
    "def makefoobar():\n",
    "    return  pd.DataFrame({'A' : ['foo', 'bar', 'foo', 'bar','foo', 'bar', 'foo', 'foo'],\n",
    "                          'B' : ['one', 'one', 'two', 'three','two', 'two', 'one', 'three'],\n",
    "                          'C' : np.random.randn(8),\n",
    "                          'D' : np.random.randn(8)})"
   ]
  },
  {
   "cell_type": "code",
   "execution_count": 9,
   "metadata": {
    "collapsed": false
   },
   "outputs": [],
   "source": [
    "#create from dictionary\n",
    "def makegridDF():\n",
    "    return  pd.DataFrame({'A' : [1,2,3],\n",
    "                          'B' : [4,5,6],\n",
    "                          'C' : [7,8,9],\n",
    "                          'D' : [10,11,12]})"
   ]
  },
  {
   "cell_type": "code",
   "execution_count": 10,
   "metadata": {
    "collapsed": false
   },
   "outputs": [],
   "source": [
    "#create from dictionary with scalars\n",
    "#ValueError: If use all scalar values, must pass index\n",
    "def makegridScalarDF():\n",
    "    return  pd.DataFrame(dct = {'A' : 1,'B' : 4,'C' : 9,'D' : 12}, index=[0])"
   ]
  },
  {
   "cell_type": "code",
   "execution_count": 11,
   "metadata": {
    "collapsed": false
   },
   "outputs": [],
   "source": [
    "#create from dictionary\n",
    "def makegAlphaDF():\n",
    "    return  pd.DataFrame({'A' : ['0a','1a','2a'],\n",
    "                          'B' : ['0b','1b','2b'],\n",
    "                          'C' : ['0c','1c','2c'],\n",
    "                          'D' : ['0d','1d','2d']})"
   ]
  },
  {
   "cell_type": "code",
   "execution_count": 12,
   "metadata": {
    "collapsed": true
   },
   "outputs": [],
   "source": [
    "#create dataframe from a user-supplied string, using a user-defined regex separator \n",
    "def makeFromString(string, sep='\\s+', header=False):\n",
    "    from StringIO import StringIO\n",
    "    return pd.read_csv(StringIO(string), sep=sep, header=header)\n",
    "#alternative method\n",
    "#     import io\n",
    "#     return pd.read_table(io.BytesIO(content), sep=sep, header=header)"
   ]
  },
  {
   "cell_type": "code",
   "execution_count": 13,
   "metadata": {
    "collapsed": true
   },
   "outputs": [],
   "source": [
    "# DataFrame by passing a dict of objects that can be converted to series-like.\n",
    "# using categorical in column E\n",
    "def makecatedf():\n",
    "    df = pd.DataFrame({'A' : 1.,\n",
    "                       'B' : pd.Timestamp('20130102'),\n",
    "                       'C' : pd.Series(1,index=list(range(4)),dtype='float32'),\n",
    "                       'D' : np.array([3] * 4,dtype='int32'),\n",
    "                       'E' : pd.Categorical([\"test\",\"train\",\"test\",\"train\"]),\n",
    "                       'F' : 'foo',\n",
    "                       'G': ['foox','fooa','foon','fooz']})\n",
    "    return (df)"
   ]
  },
  {
   "cell_type": "code",
   "execution_count": 14,
   "metadata": {
    "collapsed": false
   },
   "outputs": [],
   "source": [
    "#create a dataframe with a NaN\n",
    "def makeNaNdf():\n",
    "    return pd.DataFrame([[1, np.nan], [3, 4], [4,5]], columns=list('AB'))"
   ]
  },
  {
   "cell_type": "code",
   "execution_count": 15,
   "metadata": {
    "collapsed": true
   },
   "outputs": [],
   "source": [
    "#create a DataFrame with hierarchical column index\n",
    "#From http://pandas.pydata.org/pandas-docs/stable/indexing.html#indexing-view-versus-copy\n",
    "def createMultColIdx():\n",
    "    return pd.DataFrame([list('abcd'),\n",
    "                  list('efgh'),\n",
    "                  list('ijkl'),\n",
    "                  list('mnop')],\n",
    "                  columns=pd.MultiIndex.from_product([['one','two'],\n",
    "                      ['first','second']]))"
   ]
  },
  {
   "cell_type": "code",
   "execution_count": 16,
   "metadata": {
    "collapsed": false
   },
   "outputs": [
    {
     "name": "stdout",
     "output_type": "stream",
     "text": [
      "                   A         B         C         D\n",
      "2013-01-01  1.545168 -0.371155  1.748751 -0.742327\n",
      "2013-01-02 -0.135199 -0.214700 -0.821562 -0.743507\n",
      "2013-01-03  0.150033 -0.305328 -0.087958  1.217962\n",
      "2013-01-04 -0.009700 -1.662539 -2.310562  1.019376\n",
      "2013-01-05  1.674426  0.319542  2.062821 -1.397032\n",
      "2013-01-06 -0.918166  0.060964 -0.697483  0.103964\n"
     ]
    }
   ],
   "source": [
    "print(makeDateRand())"
   ]
  },
  {
   "cell_type": "markdown",
   "metadata": {},
   "source": [
    "Display the data types"
   ]
  },
  {
   "cell_type": "code",
   "execution_count": 17,
   "metadata": {
    "collapsed": false
   },
   "outputs": [
    {
     "name": "stdout",
     "output_type": "stream",
     "text": [
      "A           float64\n",
      "B    datetime64[ns]\n",
      "C           float32\n",
      "D             int32\n",
      "E          category\n",
      "F            object\n",
      "G            object\n",
      "dtype: object\n"
     ]
    },
    {
     "data": {
      "text/html": [
       "<div>\n",
       "<table border=\"1\" class=\"dataframe\">\n",
       "  <thead>\n",
       "    <tr style=\"text-align: right;\">\n",
       "      <th></th>\n",
       "      <th>A</th>\n",
       "      <th>B</th>\n",
       "      <th>C</th>\n",
       "      <th>D</th>\n",
       "      <th>E</th>\n",
       "      <th>F</th>\n",
       "      <th>G</th>\n",
       "    </tr>\n",
       "  </thead>\n",
       "  <tbody>\n",
       "    <tr>\n",
       "      <th>0</th>\n",
       "      <td>1</td>\n",
       "      <td>2013-01-02</td>\n",
       "      <td>1</td>\n",
       "      <td>3</td>\n",
       "      <td>test</td>\n",
       "      <td>foo</td>\n",
       "      <td>foox</td>\n",
       "    </tr>\n",
       "    <tr>\n",
       "      <th>1</th>\n",
       "      <td>1</td>\n",
       "      <td>2013-01-02</td>\n",
       "      <td>1</td>\n",
       "      <td>3</td>\n",
       "      <td>train</td>\n",
       "      <td>foo</td>\n",
       "      <td>fooa</td>\n",
       "    </tr>\n",
       "    <tr>\n",
       "      <th>2</th>\n",
       "      <td>1</td>\n",
       "      <td>2013-01-02</td>\n",
       "      <td>1</td>\n",
       "      <td>3</td>\n",
       "      <td>test</td>\n",
       "      <td>foo</td>\n",
       "      <td>foon</td>\n",
       "    </tr>\n",
       "    <tr>\n",
       "      <th>3</th>\n",
       "      <td>1</td>\n",
       "      <td>2013-01-02</td>\n",
       "      <td>1</td>\n",
       "      <td>3</td>\n",
       "      <td>train</td>\n",
       "      <td>foo</td>\n",
       "      <td>fooz</td>\n",
       "    </tr>\n",
       "  </tbody>\n",
       "</table>\n",
       "</div>"
      ],
      "text/plain": [
       "   A          B  C  D      E    F     G\n",
       "0  1 2013-01-02  1  3   test  foo  foox\n",
       "1  1 2013-01-02  1  3  train  foo  fooa\n",
       "2  1 2013-01-02  1  3   test  foo  foon\n",
       "3  1 2013-01-02  1  3  train  foo  fooz"
      ]
     },
     "execution_count": 17,
     "metadata": {},
     "output_type": "execute_result"
    }
   ],
   "source": [
    "df2 = makecatedf()\n",
    "print(df2.dtypes)\n",
    "df2"
   ]
  },
  {
   "cell_type": "code",
   "execution_count": 19,
   "metadata": {
    "collapsed": false
   },
   "outputs": [
    {
     "data": {
      "text/html": [
       "<div>\n",
       "<table border=\"1\" class=\"dataframe\">\n",
       "  <thead>\n",
       "    <tr style=\"text-align: right;\">\n",
       "      <th></th>\n",
       "      <th>Time</th>\n",
       "      <th>A_x</th>\n",
       "      <th>A_y</th>\n",
       "      <th>A_z</th>\n",
       "      <th>B_x</th>\n",
       "      <th>B_y</th>\n",
       "      <th>B_z</th>\n",
       "    </tr>\n",
       "  </thead>\n",
       "  <tbody>\n",
       "    <tr>\n",
       "      <th>0</th>\n",
       "      <td>-0.075509</td>\n",
       "      <td>-0.123527</td>\n",
       "      <td>-0.547239</td>\n",
       "      <td>-0.453707</td>\n",
       "      <td>-0.969796</td>\n",
       "      <td>0.248761</td>\n",
       "      <td>1.369613</td>\n",
       "    </tr>\n",
       "    <tr>\n",
       "      <th>1</th>\n",
       "      <td>-0.133580</td>\n",
       "      <td>-0.308314</td>\n",
       "      <td>-0.839347</td>\n",
       "      <td>-0.517989</td>\n",
       "      <td>0.652120</td>\n",
       "      <td>0.477232</td>\n",
       "      <td>-0.391767</td>\n",
       "    </tr>\n",
       "    <tr>\n",
       "      <th>2</th>\n",
       "      <td>0.623841</td>\n",
       "      <td>0.473552</td>\n",
       "      <td>0.059428</td>\n",
       "      <td>0.726088</td>\n",
       "      <td>-0.593291</td>\n",
       "      <td>-3.186297</td>\n",
       "      <td>-0.846863</td>\n",
       "    </tr>\n",
       "  </tbody>\n",
       "</table>\n",
       "</div>"
      ],
      "text/plain": [
       "       Time       A_x       A_y       A_z       B_x       B_y       B_z\n",
       "0 -0.075509 -0.123527 -0.547239 -0.453707 -0.969796  0.248761  1.369613\n",
       "1 -0.133580 -0.308314 -0.839347 -0.517989  0.652120  0.477232 -0.391767\n",
       "2  0.623841  0.473552  0.059428  0.726088 -0.593291 -3.186297 -0.846863"
      ]
     },
     "execution_count": 19,
     "metadata": {},
     "output_type": "execute_result"
    }
   ],
   "source": [
    "content = '''\n",
    "Time       A_x       A_y       A_z       B_x       B_y       B_z\n",
    "-0.075509 -0.123527 -0.547239 -0.453707 -0.969796  0.248761  1.369613\n",
    "-0.133580 -0.308314 -0.839347 -0.517989  0.652120  0.477232 -0.391767\n",
    " 0.623841  0.473552  0.059428  0.726088 -0.593291 -3.186297 -0.846863'''\n",
    "\n",
    "makeFromString(content,header=0)"
   ]
  },
  {
   "cell_type": "markdown",
   "metadata": {},
   "source": [
    "If you're using IPython, tab completion for column names (as well as public attributes) is automatically enabled:  \n",
    "    `df2.<Tab>`"
   ]
  },
  {
   "cell_type": "markdown",
   "metadata": {},
   "source": [
    "## Display two tables side-by-side"
   ]
  },
  {
   "cell_type": "markdown",
   "metadata": {},
   "source": [
    "<https://gist.github.com/stefanv/6416926>  "
   ]
  },
  {
   "cell_type": "code",
   "execution_count": 20,
   "metadata": {
    "collapsed": true
   },
   "outputs": [],
   "source": [
    "class side_by_side():\n",
    "    def __init__(self, *frames):\n",
    "        self.frames = frames\n",
    "\n",
    "    def _repr_html_(self):\n",
    "        width = 100. / len(self.frames)\n",
    "\n",
    "        s = \"\"\n",
    "        for f in self.frames:\n",
    "            s += \"<div style='float: left;'>%s</div>\" % f._repr_html_()\n",
    "\n",
    "        return s"
   ]
  },
  {
   "cell_type": "code",
   "execution_count": 21,
   "metadata": {
    "collapsed": false
   },
   "outputs": [
    {
     "data": {
      "text/html": [
       "<div style='float: left;'><div>\n",
       "<table border=\"1\" class=\"dataframe\">\n",
       "  <thead>\n",
       "    <tr style=\"text-align: right;\">\n",
       "      <th></th>\n",
       "      <th>A</th>\n",
       "      <th>B</th>\n",
       "      <th>C</th>\n",
       "      <th>D</th>\n",
       "    </tr>\n",
       "  </thead>\n",
       "  <tbody>\n",
       "    <tr>\n",
       "      <th>2013-01-01</th>\n",
       "      <td>0.907300</td>\n",
       "      <td>0.521705</td>\n",
       "      <td>1.411977</td>\n",
       "      <td>0.150370</td>\n",
       "    </tr>\n",
       "    <tr>\n",
       "      <th>2013-01-02</th>\n",
       "      <td>-0.350778</td>\n",
       "      <td>1.118311</td>\n",
       "      <td>-1.591869</td>\n",
       "      <td>-0.769209</td>\n",
       "    </tr>\n",
       "    <tr>\n",
       "      <th>2013-01-03</th>\n",
       "      <td>0.149073</td>\n",
       "      <td>-0.447347</td>\n",
       "      <td>0.668541</td>\n",
       "      <td>-1.502931</td>\n",
       "    </tr>\n",
       "    <tr>\n",
       "      <th>2013-01-04</th>\n",
       "      <td>-0.673419</td>\n",
       "      <td>-1.354168</td>\n",
       "      <td>-2.778680</td>\n",
       "      <td>-1.388690</td>\n",
       "    </tr>\n",
       "    <tr>\n",
       "      <th>2013-01-05</th>\n",
       "      <td>0.095452</td>\n",
       "      <td>-1.092350</td>\n",
       "      <td>-0.127709</td>\n",
       "      <td>1.787025</td>\n",
       "    </tr>\n",
       "    <tr>\n",
       "      <th>2013-01-06</th>\n",
       "      <td>-0.582084</td>\n",
       "      <td>0.252389</td>\n",
       "      <td>0.069774</td>\n",
       "      <td>-0.800370</td>\n",
       "    </tr>\n",
       "  </tbody>\n",
       "</table>\n",
       "</div></div><div style='float: left;'><div>\n",
       "<table border=\"1\" class=\"dataframe\">\n",
       "  <thead>\n",
       "    <tr style=\"text-align: right;\">\n",
       "      <th></th>\n",
       "      <th>A</th>\n",
       "      <th>B</th>\n",
       "      <th>C</th>\n",
       "      <th>D</th>\n",
       "    </tr>\n",
       "  </thead>\n",
       "  <tbody>\n",
       "    <tr>\n",
       "      <th>2013-01-01</th>\n",
       "      <td>-0.099875</td>\n",
       "      <td>-0.074798</td>\n",
       "      <td>0.501173</td>\n",
       "      <td>-0.835778</td>\n",
       "    </tr>\n",
       "    <tr>\n",
       "      <th>2013-01-02</th>\n",
       "      <td>-1.445194</td>\n",
       "      <td>-1.751164</td>\n",
       "      <td>1.964702</td>\n",
       "      <td>-0.016216</td>\n",
       "    </tr>\n",
       "    <tr>\n",
       "      <th>2013-01-03</th>\n",
       "      <td>0.410639</td>\n",
       "      <td>-0.810926</td>\n",
       "      <td>-0.911862</td>\n",
       "      <td>0.504584</td>\n",
       "    </tr>\n",
       "    <tr>\n",
       "      <th>2013-01-04</th>\n",
       "      <td>1.051709</td>\n",
       "      <td>0.644855</td>\n",
       "      <td>-0.054398</td>\n",
       "      <td>1.329571</td>\n",
       "    </tr>\n",
       "    <tr>\n",
       "      <th>2013-01-05</th>\n",
       "      <td>1.458658</td>\n",
       "      <td>-0.606986</td>\n",
       "      <td>-0.070706</td>\n",
       "      <td>-0.568493</td>\n",
       "    </tr>\n",
       "    <tr>\n",
       "      <th>2013-01-06</th>\n",
       "      <td>1.824988</td>\n",
       "      <td>-2.158988</td>\n",
       "      <td>0.699075</td>\n",
       "      <td>1.444192</td>\n",
       "    </tr>\n",
       "  </tbody>\n",
       "</table>\n",
       "</div></div>"
      ],
      "text/plain": [
       "<__main__.side_by_side instance at 0x000000000B112E08>"
      ]
     },
     "execution_count": 21,
     "metadata": {},
     "output_type": "execute_result"
    }
   ],
   "source": [
    "side_by_side(makeDateRand(), makeDateRand())"
   ]
  },
  {
   "cell_type": "markdown",
   "metadata": {},
   "source": [
    "## File Input/Output"
   ]
  },
  {
   "cell_type": "markdown",
   "metadata": {},
   "source": [
    "## CSV"
   ]
  },
  {
   "cell_type": "code",
   "execution_count": 22,
   "metadata": {
    "collapsed": false
   },
   "outputs": [
    {
     "data": {
      "text/html": [
       "<div>\n",
       "<table border=\"1\" class=\"dataframe\">\n",
       "  <thead>\n",
       "    <tr style=\"text-align: right;\">\n",
       "      <th></th>\n",
       "      <th>Unnamed: 0</th>\n",
       "      <th>A</th>\n",
       "      <th>B</th>\n",
       "      <th>C</th>\n",
       "      <th>D</th>\n",
       "    </tr>\n",
       "  </thead>\n",
       "  <tbody>\n",
       "    <tr>\n",
       "      <th>0</th>\n",
       "      <td>2013-01-01</td>\n",
       "      <td>-0.387197</td>\n",
       "      <td>1.870692</td>\n",
       "      <td>0.172867</td>\n",
       "      <td>-1.023957</td>\n",
       "    </tr>\n",
       "    <tr>\n",
       "      <th>1</th>\n",
       "      <td>2013-01-02</td>\n",
       "      <td>-1.919587</td>\n",
       "      <td>1.388854</td>\n",
       "      <td>-0.691318</td>\n",
       "      <td>1.843521</td>\n",
       "    </tr>\n",
       "    <tr>\n",
       "      <th>2</th>\n",
       "      <td>2013-01-03</td>\n",
       "      <td>-0.633774</td>\n",
       "      <td>-0.411159</td>\n",
       "      <td>-2.320884</td>\n",
       "      <td>0.771566</td>\n",
       "    </tr>\n",
       "    <tr>\n",
       "      <th>3</th>\n",
       "      <td>2013-01-04</td>\n",
       "      <td>-1.312742</td>\n",
       "      <td>-1.246297</td>\n",
       "      <td>0.436248</td>\n",
       "      <td>-2.266253</td>\n",
       "    </tr>\n",
       "    <tr>\n",
       "      <th>4</th>\n",
       "      <td>2013-01-05</td>\n",
       "      <td>-1.826555</td>\n",
       "      <td>0.639679</td>\n",
       "      <td>0.262254</td>\n",
       "      <td>-0.026714</td>\n",
       "    </tr>\n",
       "    <tr>\n",
       "      <th>5</th>\n",
       "      <td>2013-01-06</td>\n",
       "      <td>0.600357</td>\n",
       "      <td>-0.798599</td>\n",
       "      <td>0.153713</td>\n",
       "      <td>-1.080712</td>\n",
       "    </tr>\n",
       "  </tbody>\n",
       "</table>\n",
       "</div>"
      ],
      "text/plain": [
       "   Unnamed: 0         A         B         C         D\n",
       "0  2013-01-01 -0.387197  1.870692  0.172867 -1.023957\n",
       "1  2013-01-02 -1.919587  1.388854 -0.691318  1.843521\n",
       "2  2013-01-03 -0.633774 -0.411159 -2.320884  0.771566\n",
       "3  2013-01-04 -1.312742 -1.246297  0.436248 -2.266253\n",
       "4  2013-01-05 -1.826555  0.639679  0.262254 -0.026714\n",
       "5  2013-01-06  0.600357 -0.798599  0.153713 -1.080712"
      ]
     },
     "execution_count": 22,
     "metadata": {},
     "output_type": "execute_result"
    }
   ],
   "source": [
    "df = makeDateRand()\n",
    "df.to_csv('foo.csv')\n",
    "pd.read_csv('foo.csv')"
   ]
  },
  {
   "cell_type": "code",
   "execution_count": 23,
   "metadata": {
    "collapsed": false
   },
   "outputs": [
    {
     "data": {
      "text/html": [
       "<div>\n",
       "<table border=\"1\" class=\"dataframe\">\n",
       "  <thead>\n",
       "    <tr style=\"text-align: right;\">\n",
       "      <th></th>\n",
       "      <th>A</th>\n",
       "      <th>B</th>\n",
       "      <th>C</th>\n",
       "      <th>D</th>\n",
       "    </tr>\n",
       "  </thead>\n",
       "  <tbody>\n",
       "    <tr>\n",
       "      <th>2013-01-01</th>\n",
       "      <td>-0.380384</td>\n",
       "      <td>-1.439086</td>\n",
       "      <td>-0.776697</td>\n",
       "      <td>0.175153</td>\n",
       "    </tr>\n",
       "    <tr>\n",
       "      <th>2013-01-02</th>\n",
       "      <td>0.326734</td>\n",
       "      <td>-0.546075</td>\n",
       "      <td>1.891604</td>\n",
       "      <td>-1.612388</td>\n",
       "    </tr>\n",
       "    <tr>\n",
       "      <th>2013-01-03</th>\n",
       "      <td>0.238484</td>\n",
       "      <td>0.496079</td>\n",
       "      <td>0.296485</td>\n",
       "      <td>0.307313</td>\n",
       "    </tr>\n",
       "    <tr>\n",
       "      <th>2013-01-04</th>\n",
       "      <td>-0.057215</td>\n",
       "      <td>0.411770</td>\n",
       "      <td>0.123884</td>\n",
       "      <td>-0.713269</td>\n",
       "    </tr>\n",
       "    <tr>\n",
       "      <th>2013-01-05</th>\n",
       "      <td>0.615050</td>\n",
       "      <td>-0.269342</td>\n",
       "      <td>0.695872</td>\n",
       "      <td>-1.020245</td>\n",
       "    </tr>\n",
       "    <tr>\n",
       "      <th>2013-01-06</th>\n",
       "      <td>1.014149</td>\n",
       "      <td>1.115317</td>\n",
       "      <td>1.307598</td>\n",
       "      <td>0.441898</td>\n",
       "    </tr>\n",
       "  </tbody>\n",
       "</table>\n",
       "</div>"
      ],
      "text/plain": [
       "                   A         B         C         D\n",
       "2013-01-01 -0.380384 -1.439086 -0.776697  0.175153\n",
       "2013-01-02  0.326734 -0.546075  1.891604 -1.612388\n",
       "2013-01-03  0.238484  0.496079  0.296485  0.307313\n",
       "2013-01-04 -0.057215  0.411770  0.123884 -0.713269\n",
       "2013-01-05  0.615050 -0.269342  0.695872 -1.020245\n",
       "2013-01-06  1.014149  1.115317  1.307598  0.441898"
      ]
     },
     "execution_count": 23,
     "metadata": {},
     "output_type": "execute_result"
    }
   ],
   "source": [
    "import pandas as pd\n",
    "# use whitespace as separator\n",
    "df = makeDateRand()\n",
    "df.to_csv('foo.csv',sep=' ')\n",
    "pd.read_table('foo.csv', sep='\\s+')"
   ]
  },
  {
   "cell_type": "markdown",
   "metadata": {},
   "source": [
    "### Excel"
   ]
  },
  {
   "cell_type": "code",
   "execution_count": 24,
   "metadata": {
    "collapsed": false
   },
   "outputs": [
    {
     "data": {
      "text/html": [
       "<div>\n",
       "<table border=\"1\" class=\"dataframe\">\n",
       "  <thead>\n",
       "    <tr style=\"text-align: right;\">\n",
       "      <th></th>\n",
       "      <th>A</th>\n",
       "      <th>B</th>\n",
       "      <th>C</th>\n",
       "      <th>D</th>\n",
       "    </tr>\n",
       "  </thead>\n",
       "  <tbody>\n",
       "    <tr>\n",
       "      <th>2013-01-01</th>\n",
       "      <td>1.179178</td>\n",
       "      <td>-0.622267</td>\n",
       "      <td>-1.177528</td>\n",
       "      <td>-0.690660</td>\n",
       "    </tr>\n",
       "    <tr>\n",
       "      <th>2013-01-02</th>\n",
       "      <td>-1.275438</td>\n",
       "      <td>0.214186</td>\n",
       "      <td>1.418428</td>\n",
       "      <td>-0.172775</td>\n",
       "    </tr>\n",
       "    <tr>\n",
       "      <th>2013-01-03</th>\n",
       "      <td>-0.334716</td>\n",
       "      <td>-0.746607</td>\n",
       "      <td>0.729043</td>\n",
       "      <td>-1.358448</td>\n",
       "    </tr>\n",
       "    <tr>\n",
       "      <th>2013-01-04</th>\n",
       "      <td>0.096820</td>\n",
       "      <td>0.879653</td>\n",
       "      <td>1.591919</td>\n",
       "      <td>1.490631</td>\n",
       "    </tr>\n",
       "    <tr>\n",
       "      <th>2013-01-05</th>\n",
       "      <td>-0.147230</td>\n",
       "      <td>-0.356355</td>\n",
       "      <td>-0.061037</td>\n",
       "      <td>0.243717</td>\n",
       "    </tr>\n",
       "    <tr>\n",
       "      <th>2013-01-06</th>\n",
       "      <td>-0.053943</td>\n",
       "      <td>0.054918</td>\n",
       "      <td>-0.698903</td>\n",
       "      <td>1.025548</td>\n",
       "    </tr>\n",
       "  </tbody>\n",
       "</table>\n",
       "</div>"
      ],
      "text/plain": [
       "                   A         B         C         D\n",
       "2013-01-01  1.179178 -0.622267 -1.177528 -0.690660\n",
       "2013-01-02 -1.275438  0.214186  1.418428 -0.172775\n",
       "2013-01-03 -0.334716 -0.746607  0.729043 -1.358448\n",
       "2013-01-04  0.096820  0.879653  1.591919  1.490631\n",
       "2013-01-05 -0.147230 -0.356355 -0.061037  0.243717\n",
       "2013-01-06 -0.053943  0.054918 -0.698903  1.025548"
      ]
     },
     "execution_count": 24,
     "metadata": {},
     "output_type": "execute_result"
    }
   ],
   "source": [
    "df = makeDateRand()\n",
    "df.to_excel('foo.xlsx', sheet_name='Sheet1')\n",
    "pd.read_excel('foo.xlsx', 'Sheet1', index_col=None, na_values=['NA'])"
   ]
  },
  {
   "cell_type": "markdown",
   "metadata": {},
   "source": [
    "The `read_excel` function can read one or more worksheets from an Excel filename.  If only a single sheet is read, the single sheet data is returned as a dataframe.  If more than one (or all) sheets are read the dataframes are returned as a dictionary where the keys are the sheet names."
   ]
  },
  {
   "cell_type": "code",
   "execution_count": 25,
   "metadata": {
    "collapsed": false
   },
   "outputs": [
    {
     "name": "stdout",
     "output_type": "stream",
     "text": [
      "   LWIR  MWIR  NIR  SWIR  Visible\n",
      "0     8   3.6  0.7   1.0     0.43\n",
      "1    12   4.9  0.9   1.7     0.69\n",
      "0    3.6\n",
      "1    4.9\n",
      "Name: MWIR, dtype: float64\n",
      "Spectral band MWIR is defined as 3.6-4.9 um\n",
      "                    Atmo  Altitude  Zenith SpecBand   ToaWattTot     ToaWatt  BoaWattTot     BoaWatt  LpathWatt                 ToaQTot  \\\n",
      "0  ExtremeHotLowHumidity         0       0      NIR  1398.766052  235.180000  947.004883  196.459289   5.364350  6690789636830180409344   \n",
      "0  ExtremeHotLowHumidity         0       0  Visible  1398.766052  483.245923  947.004883  370.424402  20.394616  6690789636830180409344   \n",
      "0  ExtremeHotLowHumidity         0       0     MWIR  1398.766052    9.748536  947.004883    5.206474   1.379844  6690789636830180409344   \n",
      "0  ExtremeHotLowHumidity         0       0     LWIR  1398.766052    1.154950  947.004883    0.616622  17.365368  6690789636830180409344   \n",
      "0  ExtremeHotLowHumidity         0       0     SWIR  1398.766052  292.085568  947.004883  191.096176   2.109043  6690789636830180409344   \n",
      "\n",
      "                     ToaQ                 BoaQTot                    BoaQ                 LpathQ  effTauSun  effTau300  \n",
      "0   937726333348337025024  4122214570298150223872   785416654991043985408   21215455885239898112   0.835698   0.848021  \n",
      "0  1348241428429020069888  4122214570298150223872  1041597055942209961984   55548734663692599296   0.766520   0.823165  \n",
      "0   202039529880885002240  4122214570298150223872   103624695175853998080   31168144028971900928   0.526636   0.348604  \n",
      "0    55088339967843901440  4122214570298150223872    29699935361939701760  865140806282256973824   0.534258   0.553856  \n",
      "0  1880571793373070098432  4122214570298150223872  1215473358446389886976   12608910223941199872   0.658600   0.919904  \n"
     ]
    }
   ],
   "source": [
    "import pandas as pd\n",
    "filename = 'data/atmos-elevation-angles.xlsx'\n",
    "dictEff = pd.read_excel(filename,sheetname=None)\n",
    "print(dictEff['SpecRanges'])\n",
    "dfSpec = dictEff['SpecRanges']\n",
    "specBand = 'MWIR'\n",
    "print(dfSpec[specBand])\n",
    "print('Spectral band {} is defined as {}-{} um'.format(specBand,dfSpec[specBand][0],dfSpec[specBand][1]))\n",
    "print(dictEff['Sheet1'].head())\n"
   ]
  },
  {
   "cell_type": "markdown",
   "metadata": {},
   "source": [
    "### HDF5"
   ]
  },
  {
   "cell_type": "markdown",
   "metadata": {},
   "source": [
    "Excel and CSV  formats can only store single elements per 'cell.   HDF5 provides the means to store hierarchical data, where some DataFrame cells can contain Numpy arrays or other structures.  The example below has a Numpy array in column 'array' and a pandas Series in column 'dframe'.  \n",
    "\n",
    "Note that the Series index must match the dataframe index, otherwise the Series elements cannot be assigned (NaN are then assigned to all elements in the column).\n",
    "\n",
    "<http://pandas.pydata.org/pandas-docs/version/0.15.2/io.html#io-hdf5>"
   ]
  },
  {
   "cell_type": "code",
   "execution_count": 26,
   "metadata": {
    "collapsed": false
   },
   "outputs": [
    {
     "name": "stdout",
     "output_type": "stream",
     "text": [
      "2013-01-01     [[1, 0], [0, 0]]\n",
      "2013-01-02     [[1, 1], [0, 4]]\n",
      "2013-01-03     [[1, 2], [1, 8]]\n",
      "2013-01-04    [[1, 3], [1, 12]]\n",
      "2013-01-05    [[1, 4], [2, 16]]\n",
      "2013-01-06    [[1, 5], [2, 20]]\n",
      "Freq: D, dtype: object\n",
      "                   A         B         C         D             arrays             dframe\n",
      "2013-01-01 -0.515260  0.254267  1.170640 -1.949427   [[1, 0], [0, 0]]   [[1, 0], [0, 0]]\n",
      "2013-01-02 -0.491567 -0.119889  1.656396  0.634618   [[1, 1], [0, 4]]   [[1, 1], [0, 4]]\n",
      "2013-01-03  0.328358 -0.994193 -0.986838 -0.823342   [[1, 2], [1, 8]]   [[1, 2], [1, 8]]\n",
      "2013-01-04 -0.790243 -0.318537  0.388797 -1.072405  [[1, 3], [1, 12]]  [[1, 3], [1, 12]]\n",
      "2013-01-05  0.647719 -1.829677  0.215735  0.072660  [[1, 4], [2, 16]]  [[1, 4], [2, 16]]\n",
      "2013-01-06 -0.110566 -0.748392  0.412465  1.708865  [[1, 5], [2, 20]]  [[1, 5], [2, 20]]\n",
      "                   A         B         C         D             arrays             dframe\n",
      "2013-01-01 -0.515260  0.254267  1.170640 -1.949427   [[1, 0], [0, 0]]   [[1, 0], [0, 0]]\n",
      "2013-01-02 -0.491567 -0.119889  1.656396  0.634618   [[1, 1], [0, 4]]   [[1, 1], [0, 4]]\n",
      "2013-01-03  0.328358 -0.994193 -0.986838 -0.823342   [[1, 2], [1, 8]]   [[1, 2], [1, 8]]\n",
      "2013-01-04 -0.790243 -0.318537  0.388797 -1.072405  [[1, 3], [1, 12]]  [[1, 3], [1, 12]]\n",
      "2013-01-05  0.647719 -1.829677  0.215735  0.072660  [[1, 4], [2, 16]]  [[1, 4], [2, 16]]\n",
      "2013-01-06 -0.110566 -0.748392  0.412465  1.708865  [[1, 5], [2, 20]]  [[1, 5], [2, 20]]\n",
      "A         float64\n",
      "B         float64\n",
      "C         float64\n",
      "D         float64\n",
      "arrays     object\n",
      "dframe     object\n",
      "dtype: object\n"
     ]
    },
    {
     "name": "stderr",
     "output_type": "stream",
     "text": [
      "C:\\Miniconda3\\envs\\py27\\lib\\site-packages\\pandas\\core\\generic.py:938: PerformanceWarning: \n",
      "your performance may suffer as PyTables will pickle object types that it cannot\n",
      "map directly to c-types [inferred_type->mixed,key->block1_values] [items->['arrays', 'dframe']]\n",
      "\n",
      "  return pytables.to_hdf(path_or_buf, key, self, **kwargs)\n"
     ]
    }
   ],
   "source": [
    "df = makeDateRand()\n",
    "df['arrays'] = [np.asarray([[1,x],[x/2,4*x]]) for x in range(6)]\n",
    "ser = pd.Series([np.asarray([[1,x],[x/2,4*x]]) for x in range(6)],index=pd.date_range('20130101',periods=6))\n",
    "print(ser)\n",
    "df['dframe'] = ser\n",
    "print(df)\n",
    "df.to_hdf('df.hdf5','df',mode='w',append=False)\n",
    "df = pd.read_hdf('df.hdf5', 'df')\n",
    "print(df)\n",
    "print(df.dtypes)"
   ]
  },
  {
   "cell_type": "markdown",
   "metadata": {},
   "source": [
    "Store and recover lists and dicts to/from HDF5 file"
   ]
  },
  {
   "cell_type": "code",
   "execution_count": 27,
   "metadata": {
    "collapsed": false
   },
   "outputs": [
    {
     "name": "stdout",
     "output_type": "stream",
     "text": [
      "[1, 2, 3]\n",
      "{'A': 1, 'C': 9, 'B': 4, 'D': 12}\n",
      "[1, 2, 3]\n",
      "{'A': 1, 'C': 9, 'B': 4, 'D': 12}\n"
     ]
    }
   ],
   "source": [
    "lst = [1,2,3]\n",
    "dct = {'A' : 1,'B' : 4,'C' : 9,'D' : 12}\n",
    "print(lst)\n",
    "print(dct)\n",
    "filename = 'test.hdf5'\n",
    "store = pd.HDFStore(filename)\n",
    "store['lst'] = pd.DataFrame(lst)\n",
    "store['dct'] = pd.DataFrame(dct, index=[0])\n",
    "store.close()\n",
    "\n",
    "with pd.HDFStore(filename) as store:\n",
    "    dlst = store['lst'][0].tolist()\n",
    "    print(dlst)\n",
    "    ddct = store['dct'].iloc[0].to_dict()\n",
    "    print(ddct)"
   ]
  },
  {
   "cell_type": "markdown",
   "metadata": {},
   "source": [
    "## Dataframe properties"
   ]
  },
  {
   "cell_type": "markdown",
   "metadata": {},
   "source": [
    "### Row properties\n",
    "\n",
    "The row count can be obtained in two different forms:\n",
    "\n",
    "- The `len` and `shape` methods count the number of rows in the DataFrame, irrespective of the contents of the cells.\n",
    "- The `df.count()` function returns a pandas series containing the number of valid entries in a column - ignoring NaN. "
   ]
  },
  {
   "cell_type": "code",
   "execution_count": 28,
   "metadata": {
    "collapsed": false
   },
   "outputs": [
    {
     "name": "stdout",
     "output_type": "stream",
     "text": [
      "   A   B\n",
      "0  1 NaN\n",
      "1  3   4\n",
      "2  4   5\n",
      "\n",
      "len(df) = 3\n",
      "\n",
      "shape[0] = 3\n",
      "\n",
      "type(df.count()) = <class 'pandas.core.series.Series'>\n",
      "\n",
      "df.count() = \n",
      "A    3\n",
      "B    2\n",
      "dtype: int64\n",
      "\n",
      "df.count()['A'] = 3\n",
      "\n",
      "df.count()[1] = 2\n",
      "\n",
      "Nans = \n",
      "       A      B\n",
      "0  False   True\n",
      "1  False  False\n",
      "2  False  False\n"
     ]
    }
   ],
   "source": [
    "df = makeNaNdf()\n",
    "print(df)\n",
    "print('\\nlen(df) = {}'.format(len(df)))\n",
    "print('\\nshape[0] = {}'.format(df.shape[0]))\n",
    "print('\\ntype(df.count()) = {}'.format(type(df.count())))\n",
    "print('\\ndf.count() = \\n{}'.format(df.count()))\n",
    "print(\"\\ndf.count()['A'] = {}\".format(df.count()['A']))\n",
    "print('\\ndf.count()[1] = {}'.format(df.count()[1]))\n",
    "print('\\nNans = \\n{}'.format(df.apply(lambda col: pd.isnull(col))))"
   ]
  },
  {
   "cell_type": "markdown",
   "metadata": {},
   "source": [
    "The DataDrame index (row names) can be retrieved as a [`pandas.index `](http://pandas.pydata.org/pandas-docs/stable/generated/pandas.Index.html), which can be used to retrieve a list of the row names:"
   ]
  },
  {
   "cell_type": "code",
   "execution_count": 29,
   "metadata": {
    "collapsed": false
   },
   "outputs": [
    {
     "name": "stdout",
     "output_type": "stream",
     "text": [
      "Int64Index([0, 1, 2], dtype='int64')\n",
      "[0, 1, 2]\n"
     ]
    }
   ],
   "source": [
    "df = makegridDF()\n",
    "print(df.index)\n",
    "print(df.index.tolist())"
   ]
  },
  {
   "cell_type": "markdown",
   "metadata": {},
   "source": [
    "If the DataDrame index is a more complex data type, the data type is returned:"
   ]
  },
  {
   "cell_type": "code",
   "execution_count": 30,
   "metadata": {
    "collapsed": false
   },
   "outputs": [
    {
     "name": "stdout",
     "output_type": "stream",
     "text": [
      "DatetimeIndex(['2013-01-01', '2013-01-02', '2013-01-03', '2013-01-04', '2013-01-05', '2013-01-06'], dtype='datetime64[ns]', freq='D')\n",
      "[Timestamp('2013-01-01 00:00:00', offset='D'), Timestamp('2013-01-02 00:00:00', offset='D'), Timestamp('2013-01-03 00:00:00', offset='D'), Timestamp('2013-01-04 00:00:00', offset='D'), Timestamp('2013-01-05 00:00:00', offset='D'), Timestamp('2013-01-06 00:00:00', offset='D')]\n",
      "['2013-01-01T02:00:00.000000000+0200' '2013-01-02T02:00:00.000000000+0200'\n",
      " '2013-01-03T02:00:00.000000000+0200' '2013-01-04T02:00:00.000000000+0200'\n",
      " '2013-01-05T02:00:00.000000000+0200' '2013-01-06T02:00:00.000000000+0200']\n"
     ]
    }
   ],
   "source": [
    "df = makeDateRand()\n",
    "print(df.index)\n",
    "print(df.index.tolist()) # returns a list\n",
    "print(df.index.values) # returns an array"
   ]
  },
  {
   "cell_type": "code",
   "execution_count": 31,
   "metadata": {
    "collapsed": false
   },
   "outputs": [
    {
     "name": "stdout",
     "output_type": "stream",
     "text": [
      "         A  B  C   D\n",
      "MyIndex             \n",
      "0        1  4  7  10\n",
      "1        2  5  8  11\n",
      "2        3  6  9  12\n",
      "[0, 1, 2]\n",
      "[0 1 2]\n"
     ]
    }
   ],
   "source": [
    "#set / change the index name\n",
    "df = makegridDF()\n",
    "df.index.name = 'MyIndex'\n",
    "print(df)\n",
    "print(df.index.tolist()) # returns a list\n",
    "print(df.index.values)  # returns an array"
   ]
  },
  {
   "cell_type": "markdown",
   "metadata": {},
   "source": [
    "Use a column's values to set the index accordingly. Now that a repeat value appears to be allowed - strange."
   ]
  },
  {
   "cell_type": "code",
   "execution_count": 32,
   "metadata": {
    "collapsed": false
   },
   "outputs": [
    {
     "name": "stdout",
     "output_type": "stream",
     "text": [
      "   A  B  C   D\n",
      "0  1  4  7  10\n",
      "1  2  5  8  11\n",
      "2  3  6  9  12\n",
      "            A  B  C   D\n",
      "MyNewIndex             \n",
      "2           2  5  8  11\n",
      "2           2  6  9  12\n"
     ]
    }
   ],
   "source": [
    "df = makegridDF()\n",
    "print(df)\n",
    "\n",
    "df.loc[2,'A'] = 2\n",
    "df.index = df.A\n",
    "df.index.name = 'MyNewIndex'\n",
    "print(df.loc[2,:])\n"
   ]
  },
  {
   "cell_type": "markdown",
   "metadata": {},
   "source": [
    "### Column properties"
   ]
  },
  {
   "cell_type": "markdown",
   "metadata": {},
   "source": [
    "The column names can be retrieved as a [`pandas.index `](http://pandas.pydata.org/pandas-docs/stable/generated/pandas.Index.html):"
   ]
  },
  {
   "cell_type": "code",
   "execution_count": 33,
   "metadata": {
    "collapsed": false
   },
   "outputs": [
    {
     "data": {
      "text/plain": [
       "Index([u'A', u'B', u'C', u'D'], dtype='object')"
      ]
     },
     "execution_count": 33,
     "metadata": {},
     "output_type": "execute_result"
    }
   ],
   "source": [
    "df.columns"
   ]
  },
  {
   "cell_type": "markdown",
   "metadata": {},
   "source": [
    "Get a list of the columns in dataframe - there are two ways to do this:"
   ]
  },
  {
   "cell_type": "code",
   "execution_count": 34,
   "metadata": {
    "collapsed": false
   },
   "outputs": [
    {
     "name": "stdout",
     "output_type": "stream",
     "text": [
      "['A', 'B', 'C', 'D']\n",
      "['A', 'B', 'C', 'D']\n",
      "['A', 'B', 'C', 'D']\n"
     ]
    }
   ],
   "source": [
    "df = makeDateRand()\n",
    "print(list(df.columns.values))\n",
    "print(df.columns.values.tolist()) #fastest\n",
    "print(list(df))"
   ]
  },
  {
   "cell_type": "markdown",
   "metadata": {},
   "source": [
    "### DataFrame values\n",
    "\n",
    "Get the values of the DataFrame contents as a Numpy array:"
   ]
  },
  {
   "cell_type": "code",
   "execution_count": 35,
   "metadata": {
    "collapsed": false
   },
   "outputs": [
    {
     "data": {
      "text/plain": [
       "array([[ 0.4683787 ,  0.50784534,  0.2441699 ,  1.83636765],\n",
       "       [ 0.59110301, -0.16416182, -0.54747099,  0.53576705],\n",
       "       [ 0.4435519 , -1.0227133 ,  0.49912321,  0.2873627 ],\n",
       "       [-2.49100771, -0.21946626,  0.30511926,  0.02984698],\n",
       "       [ 1.2925748 , -1.0558194 ,  0.22763728,  0.07485487],\n",
       "       [-2.49111444, -0.31754915, -0.70159116, -0.56423669]])"
      ]
     },
     "execution_count": 35,
     "metadata": {},
     "output_type": "execute_result"
    }
   ],
   "source": [
    "df = makeDateRand()\n",
    "df.values"
   ]
  },
  {
   "cell_type": "markdown",
   "metadata": {},
   "source": [
    "## NaN in Pandas / Numpy\n",
    "\n",
    "Empty cells, or cells with missing data are filled with NaNs.  The example shows how to test for NaN values (`isnull()`)."
   ]
  },
  {
   "cell_type": "code",
   "execution_count": 36,
   "metadata": {
    "collapsed": false
   },
   "outputs": [
    {
     "name": "stdout",
     "output_type": "stream",
     "text": [
      "nan\n",
      "True\n"
     ]
    }
   ],
   "source": [
    "a = np.nan\n",
    "print(a)\n",
    "print(pd.isnull(a))"
   ]
  },
  {
   "cell_type": "markdown",
   "metadata": {},
   "source": [
    "Use the `fillna()` function to fill NaN cells with some other value."
   ]
  },
  {
   "cell_type": "code",
   "execution_count": 37,
   "metadata": {
    "collapsed": false
   },
   "outputs": [
    {
     "name": "stdout",
     "output_type": "stream",
     "text": [
      "   A   B\n",
      "0  1 NaN\n",
      "1  3   4\n",
      "\n",
      "Nans = \n",
      "       A      B\n",
      "0  False   True\n",
      "1  False  False\n",
      "\n",
      "Nans replaced with ** = \n",
      "   A   B\n",
      "0  1  **\n",
      "1  3   4\n"
     ]
    }
   ],
   "source": [
    "df = pd.DataFrame([[1, np.nan], [3, 4]], columns=list('AB'))\n",
    "print(df)\n",
    "print('\\nNans = \\n{}'.format(df.apply(lambda col: pd.isnull(col))))\n",
    "\n",
    "#change all NaN to some other value\n",
    "df.B = df.B.fillna('**')\n",
    "print('\\nNans replaced with ** = \\n{}'.format(df))\n"
   ]
  },
  {
   "cell_type": "markdown",
   "metadata": {},
   "source": [
    "Creating a new dataframe by removing NaN in a row"
   ]
  },
  {
   "cell_type": "code",
   "execution_count": 38,
   "metadata": {
    "collapsed": false
   },
   "outputs": [
    {
     "name": "stdout",
     "output_type": "stream",
     "text": [
      "   A   B\n",
      "0  1 NaN\n",
      "1  3   4\n",
      "   A  B\n",
      "1  3  4\n"
     ]
    }
   ],
   "source": [
    "df = pd.DataFrame([[1, np.nan], [3, 4]], columns=list('AB'))\n",
    "print(df)\n",
    "df = df[pd.notnull(df['B'])]\n",
    "print(df)"
   ]
  },
  {
   "cell_type": "markdown",
   "metadata": {},
   "source": [
    "## Manipulating DataFrames"
   ]
  },
  {
   "cell_type": "markdown",
   "metadata": {},
   "source": [
    "### View of a DataFrame vs a Copy of a DataFrame"
   ]
  },
  {
   "cell_type": "markdown",
   "metadata": {},
   "source": [
    "See [here](http://pandas.pydata.org/pandas-docs/stable/indexing.html#indexing-view-versus-copy) for the full example.\n",
    "           \n",
    "More information on [multi-indexing](http://pandas-docs.github.io/pandas-docs-travis/advanced.html)"
   ]
  },
  {
   "cell_type": "code",
   "execution_count": 39,
   "metadata": {
    "collapsed": false
   },
   "outputs": [
    {
     "name": "stdout",
     "output_type": "stream",
     "text": [
      "    one          two       \n",
      "  first second first second\n",
      "0     a      b     c      d\n",
      "1     e      f     g      h\n",
      "2     i      j     k      l\n",
      "3     m      n     o      p\n"
     ]
    }
   ],
   "source": [
    "dfmi = createMultColIdx()\n",
    "print(dfmi)"
   ]
  },
  {
   "cell_type": "markdown",
   "metadata": {},
   "source": [
    "In the code below the first form `dfmi['one']['second']` is called the chained method, both using the `__getitem__` method, but happening in sequence.  The first call `dfmi['one']` returns a DataFrame which is input to the second call`(dfmi['one'])['second']` - these are two calls, one happening after the other.  \n",
    "\n",
    "The second form `df.loc[:,('one','second')]`  passes a nested tuple to a single call to `__getitem__`, which can be significantly faster, and allows one to index both axes if so desired. Look at the name of the DataFrame returned in both cases and spot the difference."
   ]
  },
  {
   "cell_type": "code",
   "execution_count": 40,
   "metadata": {
    "collapsed": false
   },
   "outputs": [
    {
     "name": "stdout",
     "output_type": "stream",
     "text": [
      "0    b\n",
      "1    f\n",
      "2    j\n",
      "3    n\n",
      "Name: second, dtype: object\n",
      "0    b\n",
      "1    f\n",
      "2    j\n",
      "3    n\n",
      "Name: (one, second), dtype: object\n"
     ]
    }
   ],
   "source": [
    "print(dfmi['one']['second'])\n",
    "print(dfmi.loc[:,('one','second')])\n"
   ]
  },
  {
   "cell_type": "markdown",
   "metadata": {},
   "source": [
    "The first forms gives a `SettingWithCopyWarning` warning.  Since the chained indexing is 2 calls, it is possible that either call may return a copy of the data because of the way it is sliced. Thus when setting, you are actually setting a copy, and not the original frame data. \n",
    "\n",
    "The `.loc` operation is a single python operation, and thus can select a slice (which still may be a copy), but allows pandas to assign that slice back into the frame after it is modified, thus setting the values as you would think.\n",
    "\n",
    "The reason for having the `SettingWithCopy` warning is this. Sometimes when you slice an array you will simply get a view back, which means you can set it no problem. However, even a single dtyped array can generate a copy if it is sliced in a particular way. A multi-dtyped DataFrame (meaning it has say float and object data), will almost always yield a copy. Whether a view is created is dependent on the memory layout of the array."
   ]
  },
  {
   "cell_type": "code",
   "execution_count": 41,
   "metadata": {
    "collapsed": false
   },
   "outputs": [
    {
     "name": "stdout",
     "output_type": "stream",
     "text": [
      "    one          two       \n",
      "  first second first second\n",
      "0     a      b     c      d\n",
      "1     e      f     g      h\n",
      "2     i      j     k      l\n",
      "3     m      n     o      p\n"
     ]
    },
    {
     "name": "stderr",
     "output_type": "stream",
     "text": [
      "C:\\Miniconda3\\envs\\py27\\lib\\site-packages\\ipykernel\\__main__.py:1: SettingWithCopyWarning: \n",
      "A value is trying to be set on a copy of a slice from a DataFrame.\n",
      "Try using .loc[row_indexer,col_indexer] = value instead\n",
      "\n",
      "See the caveats in the documentation: http://pandas.pydata.org/pandas-docs/stable/indexing.html#indexing-view-versus-copy\n",
      "  if __name__ == '__main__':\n"
     ]
    }
   ],
   "source": [
    "dfmi['one']['second'] = 1 # assignment has no effect on the original!!\n",
    "print(dfmi)"
   ]
  },
  {
   "cell_type": "markdown",
   "metadata": {},
   "source": [
    "To get the desired effect, use `.loc` to directly address the original DataFrame.  The `slice` method is used to select multiple column levels.\n",
    "\n",
    "<http://pandas-docs.github.io/pandas-docs-travis/advanced.html#using-slicers>"
   ]
  },
  {
   "cell_type": "code",
   "execution_count": 42,
   "metadata": {
    "collapsed": false
   },
   "outputs": [
    {
     "name": "stdout",
     "output_type": "stream",
     "text": [
      "    one          two       \n",
      "  first second first second\n",
      "0     1      1     c      d\n",
      "1     1      1     g      h\n",
      "2     1      1     k      l\n",
      "3     1      1     o      p\n"
     ]
    }
   ],
   "source": [
    "dfmi.loc[:,slice('one','second')] = 1\n",
    "print(dfmi)"
   ]
  },
  {
   "cell_type": "markdown",
   "metadata": {},
   "source": [
    "### Dropping a row from a DataFrame"
   ]
  },
  {
   "cell_type": "markdown",
   "metadata": {},
   "source": [
    "When using drop(), note the axis direction.   \n",
    "- to drop a column axis=1  \n",
    "- to drop a row axis=0  (default)"
   ]
  },
  {
   "cell_type": "code",
   "execution_count": 43,
   "metadata": {
    "collapsed": false
   },
   "outputs": [
    {
     "name": "stdout",
     "output_type": "stream",
     "text": [
      "   B  C   D\n",
      "0  4  7  10\n",
      "1  5  8  11\n",
      "2  6  9  12\n"
     ]
    }
   ],
   "source": [
    "#drop a column\n",
    "df = makegridDF()\n",
    "#first drop the 'A' column\n",
    "print(df.drop('A',axis=1))"
   ]
  },
  {
   "cell_type": "markdown",
   "metadata": {},
   "source": [
    "You can also use row indexes to drop columns.  The following example shows several index-based row drop methods."
   ]
  },
  {
   "cell_type": "code",
   "execution_count": 44,
   "metadata": {
    "collapsed": false
   },
   "outputs": [
    {
     "name": "stdout",
     "output_type": "stream",
     "text": [
      "   A  B  C   D\n",
      "0  1  4  7  10\n",
      "1  2  5  8  11\n",
      "2  3  6  9  12\n",
      "   A  B  C   D\n",
      "0  1  4  7  10\n",
      "2  3  6  9  12\n",
      "   A  B  C   D\n",
      "0  1  4  7  10\n",
      "   A  B  C   D\n",
      "1  2  5  8  11\n",
      "2  3  6  9  12\n",
      "   A  B  C   D\n",
      "1  2  5  8  11\n",
      "(0, A     1\n",
      "B     4\n",
      "C     7\n",
      "D    10\n",
      "Name: 0, dtype: int64)\n",
      "(1, A     2\n",
      "B     5\n",
      "C     8\n",
      "D    11\n",
      "Name: 1, dtype: int64)\n",
      "(2, A     3\n",
      "B     6\n",
      "C     9\n",
      "D    12\n",
      "Name: 2, dtype: int64)\n",
      "Empty DataFrame\n",
      "Columns: [A, B, C, D]\n",
      "Index: []\n"
     ]
    }
   ],
   "source": [
    "df = makegridDF()\n",
    "print(df)\n",
    "print(df.drop(1)) # singe index\n",
    "print(df.drop([1,2])) # list of indexes\n",
    "print(df.drop(0,axis=0)) #single index explicit row selection\n",
    "print(df.drop(df.index[[0,2]])) #list in the index \n",
    "for idx, row in df.iterrows():#iterate over all rows\n",
    "    print(idx,row)\n",
    "    df.drop(idx,inplace=True)\n",
    "print(df)"
   ]
  },
  {
   "cell_type": "code",
   "execution_count": 45,
   "metadata": {
    "collapsed": false
   },
   "outputs": [
    {
     "name": "stdout",
     "output_type": "stream",
     "text": [
      "(Timestamp('2013-01-05 00:00:00', offset='D'), A   -0.195737\n",
      "B   -0.671472\n",
      "C   -1.374895\n",
      "D   -0.145516\n",
      "Name: 2013-01-05 00:00:00, dtype: float64)\n",
      "(Timestamp('2013-01-06 00:00:00', offset='D'), A   -0.605261\n",
      "B    0.358416\n",
      "C    0.487637\n",
      "D   -0.910698\n",
      "Name: 2013-01-06 00:00:00, dtype: float64)\n"
     ]
    }
   ],
   "source": [
    "#drop some of the rows\n",
    "df = makeDateRand()\n",
    "df = df.drop(df.index[[0,1,2,3]])\n",
    "for idx, row in df.iterrows():\n",
    "    print(idx,row)"
   ]
  },
  {
   "cell_type": "code",
   "execution_count": 46,
   "metadata": {
    "collapsed": false
   },
   "outputs": [
    {
     "name": "stdout",
     "output_type": "stream",
     "text": [
      "   A  B  C   D\n",
      "0  1  4  7  10\n",
      "1  2  5  8  11\n",
      "2  3  6  9  12\n",
      "   A  B  C   D\n",
      "2  3  6  9  12\n",
      "   A  B  C   D\n",
      "1  2  5  8  11\n"
     ]
    }
   ],
   "source": [
    "#drop row based on value in a column\n",
    "df = makegridDF()\n",
    "print(df)\n",
    "print(df[df['A'] >= 3])\n",
    "print(df[(df['A'] >= 2) & (df['B']<6)])"
   ]
  },
  {
   "cell_type": "markdown",
   "metadata": {},
   "source": [
    "### Concatenation or Appending rows or DataFrames"
   ]
  },
  {
   "cell_type": "markdown",
   "metadata": {},
   "source": [
    "`df.shape[0]` returns the number of rows already in the DataFrame (zero-based), hence if `df.shape[0]` is used as a row index, it will point to a new row immediately beyond the current last row.  This is an easy way to add row(s) to an existing DataFrame. \n",
    "\n",
    "Rows can be added to the DataFrame by [setting with enlargement](http://pandas.pydata.org/pandas-docs/version/0.15.2/indexing.html#setting-with-enlargement).  The `df.loc[i]` (location) construct points to row `i`, which need not be an existing row."
   ]
  },
  {
   "cell_type": "code",
   "execution_count": 47,
   "metadata": {
    "collapsed": false
   },
   "outputs": [
    {
     "name": "stdout",
     "output_type": "stream",
     "text": [
      "   A  B\n",
      "0  1  2\n",
      "1  3  4\n",
      "     A     B\n",
      "0    1     2\n",
      "1    3     4\n",
      "2    a     b\n",
      "3  NaN  new!\n"
     ]
    }
   ],
   "source": [
    "df = pd.DataFrame([[1, 2], [3, 4]], columns=list('AB'))\n",
    "print(df)\n",
    "df.loc[df.shape[0]] = ['a','b'] # add a row immediately beyond the current last\n",
    "df.loc[df.shape[0]] = [np.nan,'new!'] # add a row immediately beyond the current last\n",
    "print(df)"
   ]
  },
  {
   "cell_type": "markdown",
   "metadata": {},
   "source": [
    "Append rows to a dataframe. See the [Appending](http://pandas.pydata.org/pandas-docs/version/0.15.2/merging.html#merging-concatenation).  This examples makes a copy of one of the rows and append it to the DataFrame.  Note that in this case a `copy()` is required to create a new DataFrame which is modified before appending."
   ]
  },
  {
   "cell_type": "code",
   "execution_count": 48,
   "metadata": {
    "collapsed": false
   },
   "outputs": [
    {
     "name": "stdout",
     "output_type": "stream",
     "text": [
      "A      -0.758417\n",
      "B       0.406488\n",
      "C    1000.000000\n",
      "D       0.290443\n",
      "Name: 2, dtype: float64\n"
     ]
    },
    {
     "data": {
      "text/html": [
       "<div>\n",
       "<table border=\"1\" class=\"dataframe\">\n",
       "  <thead>\n",
       "    <tr style=\"text-align: right;\">\n",
       "      <th></th>\n",
       "      <th>A</th>\n",
       "      <th>B</th>\n",
       "      <th>C</th>\n",
       "      <th>D</th>\n",
       "    </tr>\n",
       "  </thead>\n",
       "  <tbody>\n",
       "    <tr>\n",
       "      <th>0</th>\n",
       "      <td>-0.088843</td>\n",
       "      <td>0.124228</td>\n",
       "      <td>-0.388881</td>\n",
       "      <td>0.532490</td>\n",
       "    </tr>\n",
       "    <tr>\n",
       "      <th>1</th>\n",
       "      <td>-1.398838</td>\n",
       "      <td>0.855991</td>\n",
       "      <td>1.901494</td>\n",
       "      <td>0.495987</td>\n",
       "    </tr>\n",
       "    <tr>\n",
       "      <th>2</th>\n",
       "      <td>-0.758417</td>\n",
       "      <td>0.406488</td>\n",
       "      <td>0.310079</td>\n",
       "      <td>0.290443</td>\n",
       "    </tr>\n",
       "    <tr>\n",
       "      <th>3</th>\n",
       "      <td>-0.741713</td>\n",
       "      <td>0.836497</td>\n",
       "      <td>-0.476917</td>\n",
       "      <td>1.942293</td>\n",
       "    </tr>\n",
       "    <tr>\n",
       "      <th>4</th>\n",
       "      <td>-0.758417</td>\n",
       "      <td>0.406488</td>\n",
       "      <td>1000.000000</td>\n",
       "      <td>0.290443</td>\n",
       "    </tr>\n",
       "  </tbody>\n",
       "</table>\n",
       "</div>"
      ],
      "text/plain": [
       "          A         B            C         D\n",
       "0 -0.088843  0.124228    -0.388881  0.532490\n",
       "1 -1.398838  0.855991     1.901494  0.495987\n",
       "2 -0.758417  0.406488     0.310079  0.290443\n",
       "3 -0.741713  0.836497    -0.476917  1.942293\n",
       "4 -0.758417  0.406488  1000.000000  0.290443"
      ]
     },
     "execution_count": 48,
     "metadata": {},
     "output_type": "execute_result"
    }
   ],
   "source": [
    "df = makeRand()\n",
    "s = df.iloc[2].copy() # copy is required, otherwise a view is taken\n",
    "s[2] = 1000\n",
    "print(s)\n",
    "df.append(s, ignore_index=True)"
   ]
  },
  {
   "cell_type": "markdown",
   "metadata": {},
   "source": [
    "The `append()` function can be used to add one more rows formed as DataFrames to an existing DataFrame."
   ]
  },
  {
   "cell_type": "code",
   "execution_count": 49,
   "metadata": {
    "collapsed": false
   },
   "outputs": [
    {
     "name": "stdout",
     "output_type": "stream",
     "text": [
      "   A  B\n",
      "0  1  2\n",
      "1  3  4\n",
      "0  5  6\n",
      "1  7  8\n"
     ]
    }
   ],
   "source": [
    "df = pd.DataFrame([[1, 2], [3, 4]], columns=list('AB'))\n",
    "df2 = pd.DataFrame([[5, 6], [7, 8]], columns=list('AB'))\n",
    "df = df.append(df2) # append row(s)\n",
    "print(df)"
   ]
  },
  {
   "cell_type": "markdown",
   "metadata": {},
   "source": [
    "Concatenate some existing rows from the current DataFrame to itself."
   ]
  },
  {
   "cell_type": "code",
   "execution_count": 50,
   "metadata": {
    "collapsed": false
   },
   "outputs": [
    {
     "data": {
      "text/html": [
       "<div>\n",
       "<table border=\"1\" class=\"dataframe\">\n",
       "  <thead>\n",
       "    <tr style=\"text-align: right;\">\n",
       "      <th></th>\n",
       "      <th>A</th>\n",
       "      <th>B</th>\n",
       "      <th>C</th>\n",
       "      <th>D</th>\n",
       "    </tr>\n",
       "  </thead>\n",
       "  <tbody>\n",
       "    <tr>\n",
       "      <th>0</th>\n",
       "      <td>-0.956265</td>\n",
       "      <td>1.067325</td>\n",
       "      <td>-0.655160</td>\n",
       "      <td>0.495558</td>\n",
       "    </tr>\n",
       "    <tr>\n",
       "      <th>1</th>\n",
       "      <td>0.965711</td>\n",
       "      <td>0.925228</td>\n",
       "      <td>0.843374</td>\n",
       "      <td>0.164375</td>\n",
       "    </tr>\n",
       "    <tr>\n",
       "      <th>2</th>\n",
       "      <td>-0.770960</td>\n",
       "      <td>0.659964</td>\n",
       "      <td>1.451710</td>\n",
       "      <td>0.953244</td>\n",
       "    </tr>\n",
       "    <tr>\n",
       "      <th>3</th>\n",
       "      <td>0.099789</td>\n",
       "      <td>0.304537</td>\n",
       "      <td>0.278383</td>\n",
       "      <td>0.508842</td>\n",
       "    </tr>\n",
       "    <tr>\n",
       "      <th>2</th>\n",
       "      <td>-0.770960</td>\n",
       "      <td>0.659964</td>\n",
       "      <td>1.451710</td>\n",
       "      <td>0.953244</td>\n",
       "    </tr>\n",
       "    <tr>\n",
       "      <th>3</th>\n",
       "      <td>0.099789</td>\n",
       "      <td>0.304537</td>\n",
       "      <td>0.278383</td>\n",
       "      <td>0.508842</td>\n",
       "    </tr>\n",
       "  </tbody>\n",
       "</table>\n",
       "</div>"
      ],
      "text/plain": [
       "          A         B         C         D\n",
       "0 -0.956265  1.067325 -0.655160  0.495558\n",
       "1  0.965711  0.925228  0.843374  0.164375\n",
       "2 -0.770960  0.659964  1.451710  0.953244\n",
       "3  0.099789  0.304537  0.278383  0.508842\n",
       "2 -0.770960  0.659964  1.451710  0.953244\n",
       "3  0.099789  0.304537  0.278383  0.508842"
      ]
     },
     "execution_count": 50,
     "metadata": {},
     "output_type": "execute_result"
    }
   ],
   "source": [
    "df = makeRand()\n",
    "df2 = pd.concat([df,df[2:4]])\n",
    "df2"
   ]
  },
  {
   "cell_type": "markdown",
   "metadata": {},
   "source": [
    "The following examples concatenates three views of a DataFrame."
   ]
  },
  {
   "cell_type": "code",
   "execution_count": 51,
   "metadata": {
    "collapsed": false
   },
   "outputs": [
    {
     "name": "stdout",
     "output_type": "stream",
     "text": [
      "          A         B         C         D\n",
      "0  1.167408 -1.114174 -1.139473 -0.065046\n",
      "1  0.801446  0.094109  1.065983  0.511794\n",
      "2  0.329247 -0.962045  0.637423  0.769509\n",
      "3 -1.523929  0.630643 -0.712059  0.101408\n",
      "4 -0.300833 -0.232712 -0.401686 -1.604762\n",
      "5  1.699096  1.319102  1.107683 -0.968212\n",
      "6  0.218873  0.115300  0.097911 -0.229657\n",
      "7 -0.713873 -0.403164  0.594245  0.978678\n",
      "8 -0.495773  1.393878  0.488939  1.716027\n",
      "9  0.076564  0.283523 -0.384218  0.876329\n"
     ]
    },
    {
     "data": {
      "text/html": [
       "<div>\n",
       "<table border=\"1\" class=\"dataframe\">\n",
       "  <thead>\n",
       "    <tr style=\"text-align: right;\">\n",
       "      <th></th>\n",
       "      <th>A</th>\n",
       "      <th>B</th>\n",
       "      <th>C</th>\n",
       "      <th>D</th>\n",
       "    </tr>\n",
       "  </thead>\n",
       "  <tbody>\n",
       "    <tr>\n",
       "      <th>0</th>\n",
       "      <td>1.167408</td>\n",
       "      <td>-1.114174</td>\n",
       "      <td>-1.139473</td>\n",
       "      <td>-0.065046</td>\n",
       "    </tr>\n",
       "    <tr>\n",
       "      <th>1</th>\n",
       "      <td>0.801446</td>\n",
       "      <td>0.094109</td>\n",
       "      <td>1.065983</td>\n",
       "      <td>0.511794</td>\n",
       "    </tr>\n",
       "    <tr>\n",
       "      <th>2</th>\n",
       "      <td>0.329247</td>\n",
       "      <td>-0.962045</td>\n",
       "      <td>0.637423</td>\n",
       "      <td>0.769509</td>\n",
       "    </tr>\n",
       "    <tr>\n",
       "      <th>3</th>\n",
       "      <td>-1.523929</td>\n",
       "      <td>0.630643</td>\n",
       "      <td>-0.712059</td>\n",
       "      <td>0.101408</td>\n",
       "    </tr>\n",
       "    <tr>\n",
       "      <th>4</th>\n",
       "      <td>-0.300833</td>\n",
       "      <td>-0.232712</td>\n",
       "      <td>-0.401686</td>\n",
       "      <td>-1.604762</td>\n",
       "    </tr>\n",
       "    <tr>\n",
       "      <th>5</th>\n",
       "      <td>1.699096</td>\n",
       "      <td>1.319102</td>\n",
       "      <td>1.107683</td>\n",
       "      <td>-0.968212</td>\n",
       "    </tr>\n",
       "    <tr>\n",
       "      <th>6</th>\n",
       "      <td>0.218873</td>\n",
       "      <td>0.115300</td>\n",
       "      <td>0.097911</td>\n",
       "      <td>-0.229657</td>\n",
       "    </tr>\n",
       "    <tr>\n",
       "      <th>7</th>\n",
       "      <td>-0.713873</td>\n",
       "      <td>-0.403164</td>\n",
       "      <td>0.594245</td>\n",
       "      <td>0.978678</td>\n",
       "    </tr>\n",
       "    <tr>\n",
       "      <th>8</th>\n",
       "      <td>-0.495773</td>\n",
       "      <td>1.393878</td>\n",
       "      <td>0.488939</td>\n",
       "      <td>1.716027</td>\n",
       "    </tr>\n",
       "    <tr>\n",
       "      <th>9</th>\n",
       "      <td>0.076564</td>\n",
       "      <td>0.283523</td>\n",
       "      <td>-0.384218</td>\n",
       "      <td>0.876329</td>\n",
       "    </tr>\n",
       "  </tbody>\n",
       "</table>\n",
       "</div>"
      ],
      "text/plain": [
       "          A         B         C         D\n",
       "0  1.167408 -1.114174 -1.139473 -0.065046\n",
       "1  0.801446  0.094109  1.065983  0.511794\n",
       "2  0.329247 -0.962045  0.637423  0.769509\n",
       "3 -1.523929  0.630643 -0.712059  0.101408\n",
       "4 -0.300833 -0.232712 -0.401686 -1.604762\n",
       "5  1.699096  1.319102  1.107683 -0.968212\n",
       "6  0.218873  0.115300  0.097911 -0.229657\n",
       "7 -0.713873 -0.403164  0.594245  0.978678\n",
       "8 -0.495773  1.393878  0.488939  1.716027\n",
       "9  0.076564  0.283523 -0.384218  0.876329"
      ]
     },
     "execution_count": 51,
     "metadata": {},
     "output_type": "execute_result"
    }
   ],
   "source": [
    "# Concatenating pandas objects together\n",
    "df = makeRand(10,4)\n",
    "print(df)\n",
    "# break it into pieces\n",
    "pieces = [df[:3], df[3:7], df[7:]]\n",
    "pd.concat(pieces)\n"
   ]
  },
  {
   "cell_type": "markdown",
   "metadata": {},
   "source": [
    "Concatenation stacks together rows from two arrays. In the example below the `df` array is concatenated with a 2x2 slice from `dfr`.  There are two observations from the code below:\n",
    "\n",
    "- The column names are used when concatenating the rows. In the first example the column names are consistent and appended as expected. In the second example the row names do not exactly agree and cells with missing data are filled with NaN.\n",
    "- The index data type of the concatenated DataFrame must be the same as the main DataFrame (hash error occurs otherwise).  For example if the index is the DateTime series, the concatenation will not work."
   ]
  },
  {
   "cell_type": "code",
   "execution_count": 52,
   "metadata": {
    "collapsed": false
   },
   "outputs": [
    {
     "name": "stdout",
     "output_type": "stream",
     "text": [
      "   A  B  C   D\n",
      "0  1  4  7  10\n",
      "1  2  5  8  11\n",
      "2  3  6  9  12\n",
      "\n",
      "Example 1\n",
      "to be contatenated=   A  B\n",
      "1  2  5\n",
      "2  3  6\n",
      "   A  B\n",
      "0  1  2\n",
      "1  3  4\n",
      "1  2  5\n",
      "2  3  6\n",
      "\n",
      "Example 2\n",
      "to be contatenated=   B  C\n",
      "1  5  8\n",
      "2  6  9\n",
      "    A  B   C\n",
      "0   1  2 NaN\n",
      "1   3  4 NaN\n",
      "1 NaN  5   8\n",
      "2 NaN  6   9\n"
     ]
    }
   ],
   "source": [
    "df = pd.DataFrame([[1, 2], [3, 4]], columns=list('AB'))\n",
    "dfr = makegridDF()\n",
    "print(dfr)\n",
    "print('\\nExample 1')\n",
    "print('to be contatenated={}'.format(dfr.loc[1:2,['A','B']]))\n",
    "df2 = pd.concat([df,dfr.loc[1:2,['A','B']]])\n",
    "print(df2)\n",
    "\n",
    "print('\\nExample 2')\n",
    "print('to be contatenated={}'.format(dfr.loc[1:2,['B','C']]))\n",
    "df2 = pd.concat([df,dfr.loc[1:2,['B','C']]])\n",
    "print(df2)\n",
    "\n",
    "#this will not concatenate in the examples above - index of wrong type\n",
    "# df = makeDateRand()\n",
    "# df.loc['20130102':'20130104',['A','B']]"
   ]
  },
  {
   "cell_type": "markdown",
   "metadata": {},
   "source": [
    "### SQL style merges"
   ]
  },
  {
   "cell_type": "markdown",
   "metadata": {},
   "source": [
    "See the [Database style joining](http://pandas.pydata.org/pandas-docs/version/0.15.2/merging.html#merging-join)."
   ]
  },
  {
   "cell_type": "code",
   "execution_count": 53,
   "metadata": {
    "collapsed": false
   },
   "outputs": [
    {
     "name": "stdout",
     "output_type": "stream",
     "text": [
      "   key  lval\n",
      "0  foo     1\n",
      "1  foo     2\n",
      "   key  rval\n",
      "0  foo     4\n",
      "1  foo     5\n"
     ]
    },
    {
     "data": {
      "text/html": [
       "<div>\n",
       "<table border=\"1\" class=\"dataframe\">\n",
       "  <thead>\n",
       "    <tr style=\"text-align: right;\">\n",
       "      <th></th>\n",
       "      <th>key</th>\n",
       "      <th>lval</th>\n",
       "      <th>rval</th>\n",
       "    </tr>\n",
       "  </thead>\n",
       "  <tbody>\n",
       "    <tr>\n",
       "      <th>0</th>\n",
       "      <td>foo</td>\n",
       "      <td>1</td>\n",
       "      <td>4</td>\n",
       "    </tr>\n",
       "    <tr>\n",
       "      <th>1</th>\n",
       "      <td>foo</td>\n",
       "      <td>1</td>\n",
       "      <td>5</td>\n",
       "    </tr>\n",
       "    <tr>\n",
       "      <th>2</th>\n",
       "      <td>foo</td>\n",
       "      <td>2</td>\n",
       "      <td>4</td>\n",
       "    </tr>\n",
       "    <tr>\n",
       "      <th>3</th>\n",
       "      <td>foo</td>\n",
       "      <td>2</td>\n",
       "      <td>5</td>\n",
       "    </tr>\n",
       "  </tbody>\n",
       "</table>\n",
       "</div>"
      ],
      "text/plain": [
       "   key  lval  rval\n",
       "0  foo     1     4\n",
       "1  foo     1     5\n",
       "2  foo     2     4\n",
       "3  foo     2     5"
      ]
     },
     "execution_count": 53,
     "metadata": {},
     "output_type": "execute_result"
    }
   ],
   "source": [
    "left = pd.DataFrame({'key': ['foo', 'foo'], 'lval': [1, 2]})\n",
    "right = pd.DataFrame({'key': ['foo', 'foo'], 'rval': [4, 5]})\n",
    "print(left)\n",
    "print(right)\n",
    "pd.merge(left, right, on='key')"
   ]
  },
  {
   "cell_type": "markdown",
   "metadata": {},
   "source": [
    "### Handling duplicated rows"
   ]
  },
  {
   "cell_type": "markdown",
   "metadata": {},
   "source": [
    "Finding duplicate rows, where the values in all the columns must be duplicates.  You can not mark either the first or last duplicated row.  The second example creates a new DataFrame containing only the duplicated rows, counting the number of duplicated rows."
   ]
  },
  {
   "cell_type": "code",
   "execution_count": 54,
   "metadata": {
    "collapsed": false
   },
   "outputs": [
    {
     "name": "stdout",
     "output_type": "stream",
     "text": [
      "   A  B  C   D  isdup\n",
      "0  1  1  7  10  False\n",
      "1  1  1  8  11   True\n",
      "2  3  6  9  12  False\n",
      "   A  B  C   D  isdup\n",
      "0  1  1  7  10   True\n",
      "1  1  1  8  11  False\n",
      "2  3  6  9  12  False\n",
      "1\n",
      "   A  B  C   D isdup\n",
      "0  1  1  7  10  True\n"
     ]
    },
    {
     "name": "stderr",
     "output_type": "stream",
     "text": [
      "C:\\Miniconda3\\envs\\py27\\lib\\site-packages\\ipykernel\\__main__.py:7: FutureWarning: the take_last=True keyword is deprecated, use keep='last' instead\n",
      "C:\\Miniconda3\\envs\\py27\\lib\\site-packages\\ipykernel\\__main__.py:11: FutureWarning: the take_last=True keyword is deprecated, use keep='last' instead\n"
     ]
    }
   ],
   "source": [
    "df2 = makegridDF()\n",
    "df2.loc[1,'A'] = 1\n",
    "df2.loc[1,'B'] = 1\n",
    "df2.loc[0,'B'] = 1\n",
    "df2['isdup'] = df2.duplicated(subset=['A','B'])\n",
    "print(df2)\n",
    "df2['isdup'] = df2.duplicated(subset=['A','B'], take_last=True)\n",
    "print(df2)\n",
    "\n",
    "# create a new dataframe with the repeated rows\n",
    "df = df2[df2.duplicated(subset=['A','B'], take_last=True)] \n",
    "print(len(df))\n",
    "print(df)"
   ]
  },
  {
   "cell_type": "markdown",
   "metadata": {},
   "source": [
    "The next example only checks for duplicates in column 'A' and then delete these row(s) from the DataFrame."
   ]
  },
  {
   "cell_type": "code",
   "execution_count": 55,
   "metadata": {
    "collapsed": false
   },
   "outputs": [
    {
     "name": "stderr",
     "output_type": "stream",
     "text": [
      "C:\\Miniconda3\\envs\\py27\\lib\\site-packages\\ipykernel\\__main__.py:1: FutureWarning: the take_last=True keyword is deprecated, use keep='last' instead\n",
      "  if __name__ == '__main__':\n"
     ]
    },
    {
     "data": {
      "text/html": [
       "<div>\n",
       "<table border=\"1\" class=\"dataframe\">\n",
       "  <thead>\n",
       "    <tr style=\"text-align: right;\">\n",
       "      <th></th>\n",
       "      <th>A</th>\n",
       "      <th>B</th>\n",
       "      <th>C</th>\n",
       "      <th>D</th>\n",
       "      <th>isdup</th>\n",
       "    </tr>\n",
       "  </thead>\n",
       "  <tbody>\n",
       "    <tr>\n",
       "      <th>1</th>\n",
       "      <td>1</td>\n",
       "      <td>1</td>\n",
       "      <td>8</td>\n",
       "      <td>11</td>\n",
       "      <td>False</td>\n",
       "    </tr>\n",
       "    <tr>\n",
       "      <th>2</th>\n",
       "      <td>3</td>\n",
       "      <td>6</td>\n",
       "      <td>9</td>\n",
       "      <td>12</td>\n",
       "      <td>False</td>\n",
       "    </tr>\n",
       "  </tbody>\n",
       "</table>\n",
       "</div>"
      ],
      "text/plain": [
       "   A  B  C   D  isdup\n",
       "1  1  1  8  11  False\n",
       "2  3  6  9  12  False"
      ]
     },
     "execution_count": 55,
     "metadata": {},
     "output_type": "execute_result"
    }
   ],
   "source": [
    "df2.drop_duplicates(subset=['A'], take_last=True, inplace=True)\n",
    "df2"
   ]
  },
  {
   "cell_type": "markdown",
   "metadata": {},
   "source": [
    "The index value of any arbitrary row can be changed by making a list of the index, changing the value in the list and then re-assigning the list back to the DataFrame."
   ]
  },
  {
   "cell_type": "code",
   "execution_count": 56,
   "metadata": {
    "collapsed": false
   },
   "outputs": [
    {
     "name": "stdout",
     "output_type": "stream",
     "text": [
      "               A  B  C   D\n",
      "0              1  4  7  10\n",
      "1              2  5  8  11\n",
      "New Idx Value  3  6  9  12\n"
     ]
    }
   ],
   "source": [
    "df2 = makegridDF()\n",
    "df2.index = df2.index.tolist()[:-1]   + ['New Idx Value']\n",
    "print(df2)"
   ]
  },
  {
   "cell_type": "markdown",
   "metadata": {},
   "source": [
    "### Transpose a DataFrame"
   ]
  },
  {
   "cell_type": "code",
   "execution_count": 57,
   "metadata": {
    "collapsed": false
   },
   "outputs": [
    {
     "name": "stdout",
     "output_type": "stream",
     "text": [
      "    0   1   2\n",
      "A   1   2   3\n",
      "B   4   5   6\n",
      "C   7   8   9\n",
      "D  10  11  12\n",
      "Int64Index([0, 1, 2], dtype='int64')\n",
      "Index([u'A', u'B', u'C', u'D'], dtype='object')\n"
     ]
    }
   ],
   "source": [
    "df = makegridDF()\n",
    "print(df.T)\n",
    "print(df.index)\n",
    "print(df.columns)"
   ]
  },
  {
   "cell_type": "markdown",
   "metadata": {},
   "source": [
    "### Selecting a subset of columns from a DataFrame"
   ]
  },
  {
   "cell_type": "code",
   "execution_count": 58,
   "metadata": {
    "collapsed": false
   },
   "outputs": [
    {
     "name": "stdout",
     "output_type": "stream",
     "text": [
      "   A  B  C   D\n",
      "0  1  4  7  10\n",
      "1  2  5  8  11\n",
      "2  3  6  9  12\n",
      "0    1\n",
      "1    2\n",
      "2    3\n",
      "Name: A, dtype: int64\n",
      "0    1\n",
      "1    2\n",
      "2    3\n",
      "Name: A, dtype: int64\n",
      "   A  B\n",
      "0  1  4\n",
      "1  2  5\n",
      "2  3  6\n"
     ]
    }
   ],
   "source": [
    "df = makegridDF()\n",
    "print(df)\n",
    "print(df.A)\n",
    "print(df['A'])\n",
    "print(df[['A','B']])"
   ]
  },
  {
   "cell_type": "markdown",
   "metadata": {},
   "source": [
    "Selecting a subset of columns may result in a copy or a view of the original DataFrame.  In this example a copy is made when selecting the columns, but a warning ensues when you try to assign a value to an element.  This warning arises because in some cases a view into the original DataFrame is returned and pandas cannot always know which form is used.\n",
    "\n",
    "<http://stackoverflow.com/questions/11285613/selecting-columns>  "
   ]
  },
  {
   "cell_type": "code",
   "execution_count": 59,
   "metadata": {
    "collapsed": false
   },
   "outputs": [
    {
     "name": "stdout",
     "output_type": "stream",
     "text": [
      "   A  B\n",
      "0  1  4\n",
      "1  2  5\n",
      "2  3  6\n",
      "     A  B\n",
      "0    1  4\n",
      "1    2  5\n",
      "2  100  6\n",
      "   A  B  C   D\n",
      "0  1  4  7  10\n",
      "1  2  5  8  11\n",
      "2  3  6  9  12\n"
     ]
    },
    {
     "name": "stderr",
     "output_type": "stream",
     "text": [
      "C:\\Miniconda3\\envs\\py27\\lib\\site-packages\\pandas\\core\\indexing.py:115: SettingWithCopyWarning: \n",
      "A value is trying to be set on a copy of a slice from a DataFrame\n",
      "\n",
      "See the caveats in the documentation: http://pandas.pydata.org/pandas-docs/stable/indexing.html#indexing-view-versus-copy\n",
      "  self._setitem_with_indexer(indexer, value)\n",
      "C:\\Miniconda3\\envs\\py27\\lib\\site-packages\\ipykernel\\__main__.py:4: SettingWithCopyWarning: \n",
      "A value is trying to be set on a copy of a slice from a DataFrame\n",
      "\n",
      "See the caveats in the documentation: http://pandas.pydata.org/pandas-docs/stable/indexing.html#indexing-view-versus-copy\n"
     ]
    }
   ],
   "source": [
    "df = makegridDF()\n",
    "df1 = df[['A','B']]\n",
    "print(df1)\n",
    "df1.loc[2,'A'] = 100\n",
    "print(df1)\n",
    "print(df)"
   ]
  },
  {
   "cell_type": "markdown",
   "metadata": {},
   "source": [
    "The more secure way (also get rid of the warning) to build a new DataFrame with a selection of columns is as follows:"
   ]
  },
  {
   "cell_type": "code",
   "execution_count": 60,
   "metadata": {
    "collapsed": false
   },
   "outputs": [
    {
     "name": "stdout",
     "output_type": "stream",
     "text": [
      "   A  B\n",
      "0  1  4\n",
      "1  2  5\n",
      "2  3  6\n",
      "     A  B\n",
      "0    1  4\n",
      "1    2  5\n",
      "2  100  6\n",
      "   A  B  C   D\n",
      "0  1  4  7  10\n",
      "1  2  5  8  11\n",
      "2  3  6  9  12\n"
     ]
    }
   ],
   "source": [
    "df = makegridDF()\n",
    "df1 = df.loc[:,['A','B']]\n",
    "print(df1)\n",
    "df1.loc[2,'A'] = 100\n",
    "print(df1)\n",
    "print(df)"
   ]
  },
  {
   "cell_type": "markdown",
   "metadata": {},
   "source": [
    "Another way would be to use `ix`.  However in this case a view is returned, which means that changing `df1` also changes the original DataFrame."
   ]
  },
  {
   "cell_type": "code",
   "execution_count": 61,
   "metadata": {
    "collapsed": false
   },
   "outputs": [
    {
     "name": "stdout",
     "output_type": "stream",
     "text": [
      "   A  B\n",
      "0  1  4\n",
      "1  2  5\n",
      "2  3  6\n",
      "     A  B\n",
      "0    1  4\n",
      "1    2  5\n",
      "2  100  6\n",
      "     A  B  C   D\n",
      "0    1  4  7  10\n",
      "1    2  5  8  11\n",
      "2  100  6  9  12\n"
     ]
    },
    {
     "name": "stderr",
     "output_type": "stream",
     "text": [
      "C:\\Miniconda3\\envs\\py27\\lib\\site-packages\\ipykernel\\__main__.py:5: SettingWithCopyWarning: \n",
      "A value is trying to be set on a copy of a slice from a DataFrame\n",
      "\n",
      "See the caveats in the documentation: http://pandas.pydata.org/pandas-docs/stable/indexing.html#indexing-view-versus-copy\n"
     ]
    }
   ],
   "source": [
    "df = makegridDF()\n",
    "# df1 = df.ix[:,slice('A','B')] # this and the following have same effect.\n",
    "df1 = df.ix[:,0:2]  # this and the previous have same effect.\n",
    "print(df1)\n",
    "df1.loc[2,'A'] = 100\n",
    "print(df1)\n",
    "print(df)"
   ]
  },
  {
   "cell_type": "markdown",
   "metadata": {},
   "source": [
    "To force a copy of the original, use the `copy` method."
   ]
  },
  {
   "cell_type": "code",
   "execution_count": 62,
   "metadata": {
    "collapsed": false
   },
   "outputs": [
    {
     "name": "stdout",
     "output_type": "stream",
     "text": [
      "   A  B\n",
      "0  1  4\n",
      "1  2  5\n",
      "2  3  6\n",
      "     A  B\n",
      "0    1  4\n",
      "1    2  5\n",
      "2  100  6\n",
      "   A  B  C   D\n",
      "0  1  4  7  10\n",
      "1  2  5  8  11\n",
      "2  3  6  9  12\n"
     ]
    }
   ],
   "source": [
    "df = makegridDF()\n",
    "df1 = df.ix[:,slice('A','B')].copy() # this and the following have same effect.\n",
    "# df1 = df.ix[:,0:2].copy()  # this and the previous have same effect.\n",
    "print(df1)\n",
    "df1.loc[2,'A'] = 100\n",
    "print(df1)\n",
    "print(df)"
   ]
  },
  {
   "cell_type": "markdown",
   "metadata": {},
   "source": [
    "### Adding a column to a dataframe"
   ]
  },
  {
   "cell_type": "markdown",
   "metadata": {},
   "source": [
    "It is relatively easy to add a column to an existing data frame. "
   ]
  },
  {
   "cell_type": "code",
   "execution_count": 63,
   "metadata": {
    "collapsed": false
   },
   "outputs": [
    {
     "name": "stdout",
     "output_type": "stream",
     "text": [
      "                   A         B         C         D     Total\n",
      "2013-01-01  1.844150  0.451769  0.569908 -1.532285  2.865827\n",
      "2013-01-02 -0.679153 -0.812896 -0.918028 -0.361756 -2.410077\n",
      "2013-01-03  1.040531 -0.024118  0.606011  0.575983  1.622424\n",
      "2013-01-04  1.968106 -0.225092  0.441394  0.795977  2.184409\n",
      "2013-01-05  0.177798  0.391559 -0.225575 -0.693096  0.343782\n",
      "2013-01-06 -1.593527  0.371627  1.225886  1.314269  0.003986\n"
     ]
    }
   ],
   "source": [
    "df = makeDateRand()\n",
    "df['Total'] = df['A'] + df['B'] + df['C']\n",
    "print(df)"
   ]
  },
  {
   "cell_type": "markdown",
   "metadata": {},
   "source": [
    "String concatenation can be used across columns."
   ]
  },
  {
   "cell_type": "code",
   "execution_count": 64,
   "metadata": {
    "collapsed": false
   },
   "outputs": [
    {
     "name": "stdout",
     "output_type": "stream",
     "text": [
      "    A   B   C   D\n",
      "0  0a  0b  0c  0d\n",
      "1  1a  1b  1c  1d\n",
      "2  2a  2b  2c  2d\n",
      "0    0a0b\n",
      "1    1a1b\n",
      "2    2a2b\n",
      "dtype: object\n"
     ]
    }
   ],
   "source": [
    "df = makegAlphaDF()\n",
    "print(df)\n",
    "df2 = df['A'] + df['B']\n",
    "print(df2)"
   ]
  },
  {
   "cell_type": "markdown",
   "metadata": {},
   "source": [
    "### Delete rows based on column value"
   ]
  },
  {
   "cell_type": "markdown",
   "metadata": {},
   "source": [
    "DataFrame has an `isin` method. When calling `isin`, pass a set of values as either an array or dict. If values is an array, isin returns a DataFrame of booleans that is the same shape as the original DataFrame, with True wherever the element is in the sequence of values.\n",
    "\n",
    "<http://pandas.pydata.org/pandas-docs/stable/indexing.html#indexing-with-isin>  \n",
    "<http://pandas.pydata.org/pandas-docs/stable/indexing.html#boolean-indexing>  \n",
    "\n",
    "In the example below delete all rows where the value in column 'A' is in a given list."
   ]
  },
  {
   "cell_type": "code",
   "execution_count": 65,
   "metadata": {
    "collapsed": false
   },
   "outputs": [
    {
     "name": "stdout",
     "output_type": "stream",
     "text": [
      "   A  B  C   D\n",
      "0  1  4  7  10\n",
      "1  2  5  8  11\n",
      "2  3  6  9  12\n",
      "   A  B  C   D\n",
      "1  2  5  8  11\n"
     ]
    }
   ],
   "source": [
    "df = makegridDF()\n",
    "print(df)\n",
    "idx = df['A'].isin([1,3])\n",
    "df = df[~idx]\n",
    "print(df)"
   ]
  },
  {
   "cell_type": "markdown",
   "metadata": {},
   "source": [
    "To match certain values in certain columns make a dict where the key is the column, and the value is a list of items you want to check for.  Combine DataFrame’s `isin()` with the `any()` and `all()` methods to quickly select subsets of your data that meet a given criteria. To select a row where each column meets its own criterion.\n",
    "\n",
    "In the first example, remove all rows where the requirements for __all__ of the tests are met ('A' has 1 or 2, 'B' has 5 or 6, 'C' has 8 and 'D' has 11).\n",
    "\n",
    "<http://docs.scipy.org/doc/numpy/reference/generated/numpy.ndarray.all.html#numpy.ndarray.all>"
   ]
  },
  {
   "cell_type": "code",
   "execution_count": 66,
   "metadata": {
    "collapsed": false
   },
   "outputs": [
    {
     "name": "stdout",
     "output_type": "stream",
     "text": [
      "   A  B  C   D\n",
      "0  1  4  7  10\n",
      "1  2  5  8  11\n",
      "2  3  6  9  12\n",
      "       A      B      C      D\n",
      "0   True  False  False  False\n",
      "1   True   True   True   True\n",
      "2  False   True  False  False\n",
      "0    False\n",
      "1     True\n",
      "2    False\n",
      "dtype: bool\n",
      "   A  B  C   D\n",
      "0  1  4  7  10\n",
      "2  3  6  9  12\n"
     ]
    }
   ],
   "source": [
    "df = makegridDF()\n",
    "print(df)\n",
    "idx = df.isin({'A': [1,2], 'B': [5,6], 'C': [8], 'D': [11]})\n",
    "print(idx)\n",
    "idx = idx.all(axis=1)\n",
    "print(idx)\n",
    "df = df[~idx]\n",
    "print(df)"
   ]
  },
  {
   "cell_type": "markdown",
   "metadata": {},
   "source": [
    "In the second example, drop all rows where the requirements for __any__ of the tests are met ('A' has 1 or 2, 'B' has 5 or 6, 'C' has 8 and 'D' has 11).  In this case, it would drop all rows from the DataFrame, leaving it empty."
   ]
  },
  {
   "cell_type": "code",
   "execution_count": 67,
   "metadata": {
    "collapsed": false
   },
   "outputs": [
    {
     "name": "stdout",
     "output_type": "stream",
     "text": [
      "   A  B  C   D\n",
      "0  1  4  7  10\n",
      "1  2  5  8  11\n",
      "2  3  6  9  12\n",
      "       A      B      C      D\n",
      "0   True  False  False  False\n",
      "1   True   True  False  False\n",
      "2  False   True  False  False\n",
      "0    True\n",
      "1    True\n",
      "2    True\n",
      "dtype: bool\n",
      "Empty DataFrame\n",
      "Columns: [A, B, C, D]\n",
      "Index: []\n"
     ]
    }
   ],
   "source": [
    "df = makegridDF()\n",
    "print(df)\n",
    "idx = df.isin({'A': [1,2], 'B': [5,6]})\n",
    "print(idx)\n",
    "idx = idx.any(axis=1)\n",
    "print(idx)\n",
    "df = df[~idx]\n",
    "print(df)"
   ]
  },
  {
   "cell_type": "markdown",
   "metadata": {},
   "source": [
    "### Sorting"
   ]
  },
  {
   "cell_type": "markdown",
   "metadata": {},
   "source": [
    "Sort by column index (axis=1), i.e., rearrange column order."
   ]
  },
  {
   "cell_type": "code",
   "execution_count": 68,
   "metadata": {
    "collapsed": false
   },
   "outputs": [
    {
     "data": {
      "text/html": [
       "<div>\n",
       "<table border=\"1\" class=\"dataframe\">\n",
       "  <thead>\n",
       "    <tr style=\"text-align: right;\">\n",
       "      <th></th>\n",
       "      <th>D</th>\n",
       "      <th>C</th>\n",
       "      <th>B</th>\n",
       "      <th>A</th>\n",
       "    </tr>\n",
       "  </thead>\n",
       "  <tbody>\n",
       "    <tr>\n",
       "      <th>2013-01-01</th>\n",
       "      <td>-0.328417</td>\n",
       "      <td>0.670443</td>\n",
       "      <td>-0.789665</td>\n",
       "      <td>0.754426</td>\n",
       "    </tr>\n",
       "    <tr>\n",
       "      <th>2013-01-02</th>\n",
       "      <td>0.487764</td>\n",
       "      <td>-1.262536</td>\n",
       "      <td>-1.379703</td>\n",
       "      <td>-0.204063</td>\n",
       "    </tr>\n",
       "    <tr>\n",
       "      <th>2013-01-03</th>\n",
       "      <td>-0.626975</td>\n",
       "      <td>-1.899642</td>\n",
       "      <td>0.867289</td>\n",
       "      <td>-0.251356</td>\n",
       "    </tr>\n",
       "    <tr>\n",
       "      <th>2013-01-04</th>\n",
       "      <td>-0.872485</td>\n",
       "      <td>0.800715</td>\n",
       "      <td>0.853569</td>\n",
       "      <td>0.376663</td>\n",
       "    </tr>\n",
       "    <tr>\n",
       "      <th>2013-01-05</th>\n",
       "      <td>-0.194644</td>\n",
       "      <td>-0.365882</td>\n",
       "      <td>-0.203769</td>\n",
       "      <td>-1.665335</td>\n",
       "    </tr>\n",
       "    <tr>\n",
       "      <th>2013-01-06</th>\n",
       "      <td>-0.938471</td>\n",
       "      <td>-0.322258</td>\n",
       "      <td>0.749549</td>\n",
       "      <td>-0.300380</td>\n",
       "    </tr>\n",
       "  </tbody>\n",
       "</table>\n",
       "</div>"
      ],
      "text/plain": [
       "                   D         C         B         A\n",
       "2013-01-01 -0.328417  0.670443 -0.789665  0.754426\n",
       "2013-01-02  0.487764 -1.262536 -1.379703 -0.204063\n",
       "2013-01-03 -0.626975 -1.899642  0.867289 -0.251356\n",
       "2013-01-04 -0.872485  0.800715  0.853569  0.376663\n",
       "2013-01-05 -0.194644 -0.365882 -0.203769 -1.665335\n",
       "2013-01-06 -0.938471 -0.322258  0.749549 -0.300380"
      ]
     },
     "execution_count": 68,
     "metadata": {},
     "output_type": "execute_result"
    }
   ],
   "source": [
    "df = makeDateRand()\n",
    "df.sort_index(axis=1, ascending=False)"
   ]
  },
  {
   "cell_type": "markdown",
   "metadata": {},
   "source": [
    "Sort all rows by row value in column B."
   ]
  },
  {
   "cell_type": "code",
   "execution_count": 69,
   "metadata": {
    "collapsed": false
   },
   "outputs": [
    {
     "name": "stderr",
     "output_type": "stream",
     "text": [
      "C:\\Miniconda3\\envs\\py27\\lib\\site-packages\\ipykernel\\__main__.py:1: FutureWarning: sort(columns=....) is deprecated, use sort_values(by=.....)\n",
      "  if __name__ == '__main__':\n"
     ]
    },
    {
     "data": {
      "text/html": [
       "<div>\n",
       "<table border=\"1\" class=\"dataframe\">\n",
       "  <thead>\n",
       "    <tr style=\"text-align: right;\">\n",
       "      <th></th>\n",
       "      <th>A</th>\n",
       "      <th>B</th>\n",
       "      <th>C</th>\n",
       "      <th>D</th>\n",
       "    </tr>\n",
       "  </thead>\n",
       "  <tbody>\n",
       "    <tr>\n",
       "      <th>2013-01-02</th>\n",
       "      <td>-0.204063</td>\n",
       "      <td>-1.379703</td>\n",
       "      <td>-1.262536</td>\n",
       "      <td>0.487764</td>\n",
       "    </tr>\n",
       "    <tr>\n",
       "      <th>2013-01-01</th>\n",
       "      <td>0.754426</td>\n",
       "      <td>-0.789665</td>\n",
       "      <td>0.670443</td>\n",
       "      <td>-0.328417</td>\n",
       "    </tr>\n",
       "    <tr>\n",
       "      <th>2013-01-05</th>\n",
       "      <td>-1.665335</td>\n",
       "      <td>-0.203769</td>\n",
       "      <td>-0.365882</td>\n",
       "      <td>-0.194644</td>\n",
       "    </tr>\n",
       "    <tr>\n",
       "      <th>2013-01-06</th>\n",
       "      <td>-0.300380</td>\n",
       "      <td>0.749549</td>\n",
       "      <td>-0.322258</td>\n",
       "      <td>-0.938471</td>\n",
       "    </tr>\n",
       "    <tr>\n",
       "      <th>2013-01-04</th>\n",
       "      <td>0.376663</td>\n",
       "      <td>0.853569</td>\n",
       "      <td>0.800715</td>\n",
       "      <td>-0.872485</td>\n",
       "    </tr>\n",
       "    <tr>\n",
       "      <th>2013-01-03</th>\n",
       "      <td>-0.251356</td>\n",
       "      <td>0.867289</td>\n",
       "      <td>-1.899642</td>\n",
       "      <td>-0.626975</td>\n",
       "    </tr>\n",
       "  </tbody>\n",
       "</table>\n",
       "</div>"
      ],
      "text/plain": [
       "                   A         B         C         D\n",
       "2013-01-02 -0.204063 -1.379703 -1.262536  0.487764\n",
       "2013-01-01  0.754426 -0.789665  0.670443 -0.328417\n",
       "2013-01-05 -1.665335 -0.203769 -0.365882 -0.194644\n",
       "2013-01-06 -0.300380  0.749549 -0.322258 -0.938471\n",
       "2013-01-04  0.376663  0.853569  0.800715 -0.872485\n",
       "2013-01-03 -0.251356  0.867289 -1.899642 -0.626975"
      ]
     },
     "execution_count": 69,
     "metadata": {},
     "output_type": "execute_result"
    }
   ],
   "source": [
    "df.sort(columns='B')"
   ]
  },
  {
   "cell_type": "markdown",
   "metadata": {},
   "source": [
    "Sort all rows by row value in multiple columns."
   ]
  },
  {
   "cell_type": "code",
   "execution_count": 70,
   "metadata": {
    "collapsed": false
   },
   "outputs": [
    {
     "name": "stderr",
     "output_type": "stream",
     "text": [
      "C:\\Miniconda3\\envs\\py27\\lib\\site-packages\\ipykernel\\__main__.py:1: FutureWarning: sort(columns=....) is deprecated, use sort_values(by=.....)\n",
      "  if __name__ == '__main__':\n"
     ]
    },
    {
     "data": {
      "text/html": [
       "<div>\n",
       "<table border=\"1\" class=\"dataframe\">\n",
       "  <thead>\n",
       "    <tr style=\"text-align: right;\">\n",
       "      <th></th>\n",
       "      <th>A</th>\n",
       "      <th>B</th>\n",
       "      <th>C</th>\n",
       "      <th>D</th>\n",
       "    </tr>\n",
       "  </thead>\n",
       "  <tbody>\n",
       "    <tr>\n",
       "      <th>2013-01-02</th>\n",
       "      <td>-0.204063</td>\n",
       "      <td>-1.379703</td>\n",
       "      <td>-1.262536</td>\n",
       "      <td>0.487764</td>\n",
       "    </tr>\n",
       "    <tr>\n",
       "      <th>2013-01-01</th>\n",
       "      <td>0.754426</td>\n",
       "      <td>-0.789665</td>\n",
       "      <td>0.670443</td>\n",
       "      <td>-0.328417</td>\n",
       "    </tr>\n",
       "    <tr>\n",
       "      <th>2013-01-05</th>\n",
       "      <td>-1.665335</td>\n",
       "      <td>-0.203769</td>\n",
       "      <td>-0.365882</td>\n",
       "      <td>-0.194644</td>\n",
       "    </tr>\n",
       "    <tr>\n",
       "      <th>2013-01-06</th>\n",
       "      <td>-0.300380</td>\n",
       "      <td>0.749549</td>\n",
       "      <td>-0.322258</td>\n",
       "      <td>-0.938471</td>\n",
       "    </tr>\n",
       "    <tr>\n",
       "      <th>2013-01-04</th>\n",
       "      <td>0.376663</td>\n",
       "      <td>0.853569</td>\n",
       "      <td>0.800715</td>\n",
       "      <td>-0.872485</td>\n",
       "    </tr>\n",
       "    <tr>\n",
       "      <th>2013-01-03</th>\n",
       "      <td>-0.251356</td>\n",
       "      <td>0.867289</td>\n",
       "      <td>-1.899642</td>\n",
       "      <td>-0.626975</td>\n",
       "    </tr>\n",
       "  </tbody>\n",
       "</table>\n",
       "</div>"
      ],
      "text/plain": [
       "                   A         B         C         D\n",
       "2013-01-02 -0.204063 -1.379703 -1.262536  0.487764\n",
       "2013-01-01  0.754426 -0.789665  0.670443 -0.328417\n",
       "2013-01-05 -1.665335 -0.203769 -0.365882 -0.194644\n",
       "2013-01-06 -0.300380  0.749549 -0.322258 -0.938471\n",
       "2013-01-04  0.376663  0.853569  0.800715 -0.872485\n",
       "2013-01-03 -0.251356  0.867289 -1.899642 -0.626975"
      ]
     },
     "execution_count": 70,
     "metadata": {},
     "output_type": "execute_result"
    }
   ],
   "source": [
    "df.sort(columns=['B', 'C'])"
   ]
  },
  {
   "cell_type": "markdown",
   "metadata": {},
   "source": [
    "You can introduce custom sorting by using categoricals.  In this example, first sort the 'G' column on default sorting (alphabetical).  Then redefine the 'G' column as a categorical with a specific sort order. Then re-sort, using the categorical sort order."
   ]
  },
  {
   "cell_type": "code",
   "execution_count": 71,
   "metadata": {
    "collapsed": false
   },
   "outputs": [
    {
     "name": "stdout",
     "output_type": "stream",
     "text": [
      "   A          B  C  D      E    F     G\n",
      "0  1 2013-01-02  1  3   test  foo  foox\n",
      "1  1 2013-01-02  1  3  train  foo  fooa\n",
      "2  1 2013-01-02  1  3   test  foo  foon\n",
      "3  1 2013-01-02  1  3  train  foo  fooz\n",
      "   A          B  C  D      E    F     G\n",
      "1  1 2013-01-02  1  3  train  foo  fooa\n",
      "2  1 2013-01-02  1  3   test  foo  foon\n",
      "0  1 2013-01-02  1  3   test  foo  foox\n",
      "3  1 2013-01-02  1  3  train  foo  fooz\n",
      "   A          B  C  D      E    F     G\n",
      "3  1 2013-01-02  1  3  train  foo  fooz\n",
      "1  1 2013-01-02  1  3  train  foo  fooa\n",
      "0  1 2013-01-02  1  3   test  foo  foox\n",
      "2  1 2013-01-02  1  3   test  foo  foon\n"
     ]
    },
    {
     "name": "stderr",
     "output_type": "stream",
     "text": [
      "C:\\Miniconda3\\envs\\py27\\lib\\site-packages\\ipykernel\\__main__.py:3: FutureWarning: sort(columns=....) is deprecated, use sort_values(by=.....)\n",
      "  app.launch_new_instance()\n",
      "C:\\Miniconda3\\envs\\py27\\lib\\site-packages\\ipykernel\\__main__.py:8: FutureWarning: sort(columns=....) is deprecated, use sort_values(by=.....)\n"
     ]
    }
   ],
   "source": [
    "df = makecatedf()\n",
    "print(df)\n",
    "print(df.sort(columns='G'))\n",
    "      \n",
    "gsorter = ['fooz','fooa','foox','foon']\n",
    "df.G = df.G.astype(\"category\")\n",
    "df.G.cat.set_categories(gsorter, inplace=True) \n",
    "print(df.sort(columns='G'))\n"
   ]
  },
  {
   "cell_type": "markdown",
   "metadata": {},
   "source": [
    "### Slicing and selecting sub-arrays"
   ]
  },
  {
   "cell_type": "markdown",
   "metadata": {},
   "source": [
    "While standard Python / Numpy expressions for selecting and setting are intuitive and come in handy for interactive work, for production code, use the optimized pandas data access methods, .at, .iat, .loc, .iloc and .ix. \n",
    "\n",
    "[Indexing and Selecting Data](http://pandas.pydata.org/pandas-docs/version/0.15.2/indexing.html#indexing)  \n",
    "[MultiIndex / Advanced Indexing](http://pandas.pydata.org/pandas-docs/version/0.15.2/advanced.html#advanced)\n",
    "\n",
    "The [pandas site](http://pandas.pydata.org/pandas-docs/stable/indexing.html) offers the following description:\n",
    "\n",
    "Object selection has had a number of user-requested additions in order to support more explicit location based indexing. pandas now supports three types of multi-axis indexing.\n",
    "\n",
    "1.    `.ix` supports mixed integer and label based access. It is primarily label based, but will fall back to integer positional access unless the corresponding axis is of integer type. `.ix` is the most general and will support any of the inputs in `.loc` and `.iloc`. `.ix` also supports floating point label schemes. .ix is exceptionally useful when dealing with mixed positional and label based hierarchical indexes.      However, when an axis is integer based, ONLY label based access and not positional access is supported. Thus, in such cases, it’s usually better to be explicit and use `.iloc` or `.loc`.    \n",
    "       `.ix` does not and cannot guarantee that the label versus integer position resolution is perfect - you may run into [problems](https://github.com/pydata/pandas/issues/6683)  here.  `.ix` is an older method than than `.loc` and `.iloc` and was introduced to specifically prevent ambiguity by using stricted rules on data selection. `.ix` is faster than than `.loc` and `.iloc`\n",
    "\n",
    "     See more at [Advanced Indexing](http://pandas.pydata.org/pandas-docs/stable/advanced.html#advanced) and [Advanced Hierarchical](http://pandas.pydata.org/pandas-docs/stable/advanced.html#advanced-advanced-hierarchical).\n",
    "\n",
    "1.    `.loc` is primarily label based, but may also be used with a boolean array. `.loc` will raise `KeyError` when the items are not found. Allowed inputs are:\n",
    "       * A single label, e.g. 5 or 'a', (note that 5 is interpreted as a label of the index. This use is not an integer position along the index)\n",
    "       * A list or array of labels ['a', 'b', 'c']\n",
    "       * A slice object with labels 'a':'f', (note that contrary to usual python slices, **both** the start and the stop are included!)\n",
    "       * A boolean array\n",
    "\n",
    "     See more at [Selection by Label](http://pandas.pydata.org/pandas-docs/stable/indexing.html#indexing-label)\n",
    "\n",
    "1.     `.iloc` is primarily integer position based (from `0` to `length-1` of the axis), but may also be used with a boolean array. `.iloc`  will raise `IndexError` if a requested indexer is out-of-bounds, except slice indexers which allow out-of-bounds indexing. (this conforms with python/numpy slice semantics). Allowed inputs are:\n",
    "       * An integer e.g. 5\n",
    "       * A list or array of integers [4, 3, 0]\n",
    "       * A slice object with ints 1:7\n",
    "       * A boolean array\n",
    "\n",
    "     See more at [Selection by Position](http://pandas.pydata.org/pandas-docs/stable/indexing.html#indexing-integer)\n",
    "\n",
    "\n",
    "Getting values from an object with multi-axes selection uses the following notation (using `.loc` as an example, but applies to `.iloc` and `.ix` as well). Any of the axes accessors may be the null slice `:`. Axes left out of the specification are assumed to be `:`. (e.g. `p.loc['a']` is equiv to `p.loc['a', :, :]`)\n",
    "\n",
    "|Object Type |\tIndexers|\n",
    "|--|--|\n",
    "|Series \t|`s.loc[indexer]`|\n",
    "|DataFrame \t|`df.loc[row_indexer,column_indexer]`|\n",
    "|Panel \t|`p.loc[item_indexer,major_indexer,minor_indexer]`|\n",
    "\n",
    "\n",
    "<http://nbviewer.ipython.org/github/gboeing/python-cheat-sheets/blob/master/pandas-selecting.ipynb>  \n"
   ]
  },
  {
   "cell_type": "markdown",
   "metadata": {},
   "source": [
    "### Conventional selection by column/index name"
   ]
  },
  {
   "cell_type": "markdown",
   "metadata": {},
   "source": [
    "Selecting a single column with the form `df['A']`, yields a Series, equivalent to df.A.  \n",
    "To select multiple columns  pass a list of column names as in `df[ ['A','B'] ]`."
   ]
  },
  {
   "cell_type": "code",
   "execution_count": 72,
   "metadata": {
    "collapsed": false
   },
   "outputs": [
    {
     "name": "stdout",
     "output_type": "stream",
     "text": [
      "0    1\n",
      "1    2\n",
      "2    3\n",
      "Name: A, dtype: int64\n",
      "0    1\n",
      "1    2\n",
      "2    3\n",
      "Name: A, dtype: int64\n",
      "   A  B\n",
      "0  1  4\n",
      "1  2  5\n",
      "2  3  6\n"
     ]
    }
   ],
   "source": [
    "df = makegridDF()\n",
    "print(df.A)\n",
    "print(df['A'])\n",
    "print(df[['A','B']])"
   ]
  },
  {
   "cell_type": "markdown",
   "metadata": {},
   "source": [
    "Extract the Numpy array from the series in one of these two ways:"
   ]
  },
  {
   "cell_type": "code",
   "execution_count": 73,
   "metadata": {
    "collapsed": false
   },
   "outputs": [
    {
     "name": "stdout",
     "output_type": "stream",
     "text": [
      "[1 2 3]\n",
      "[1 2 3]\n"
     ]
    }
   ],
   "source": [
    "print(np.asarray(df['A']))\n",
    "print(df['A'].values)"
   ]
  },
  {
   "cell_type": "markdown",
   "metadata": {},
   "source": [
    "Slice rows using `df[]`, using index values or row numbers.   The row sequence can use slice notation, note that the upper bound is not included.  \n",
    "\n",
    "This is the same form as used for columns above - somewhat confusing!"
   ]
  },
  {
   "cell_type": "code",
   "execution_count": 74,
   "metadata": {
    "collapsed": false
   },
   "outputs": [
    {
     "name": "stdout",
     "output_type": "stream",
     "text": [
      "                   A         B         C         D\n",
      "2013-01-01 -0.126556  0.970757  0.267643 -1.042551\n",
      "2013-01-02  1.073740 -0.614567  0.686964 -0.071015\n",
      "2013-01-03  0.832754 -0.955228  1.748175 -0.036922\n",
      "2013-01-04  0.360976  1.075000  0.535934  0.180200\n",
      "2013-01-05  0.080392 -2.123666 -0.319686  0.129840\n",
      "2013-01-06 -0.592432 -0.329590 -0.516655  0.583124\n",
      "                   A         B         C         D\n",
      "2013-01-03  0.832754 -0.955228  1.748175 -0.036922\n",
      "2013-01-04  0.360976  1.075000  0.535934  0.180200\n"
     ]
    }
   ],
   "source": [
    "df = makeDateRand()\n",
    "print(df)\n",
    "print(df[2:4])"
   ]
  },
  {
   "cell_type": "code",
   "execution_count": 75,
   "metadata": {
    "collapsed": false
   },
   "outputs": [
    {
     "name": "stdout",
     "output_type": "stream",
     "text": [
      "                   A         B         C         D\n",
      "2013-01-01 -0.126556  0.970757  0.267643 -1.042551\n",
      "2013-01-02  1.073740 -0.614567  0.686964 -0.071015\n"
     ]
    }
   ],
   "source": [
    "print(df['2013-01-01':'2013-01-02'])"
   ]
  },
  {
   "cell_type": "markdown",
   "metadata": {},
   "source": [
    "### [`.ix` Conventional selection by label or position](http://pandas.pydata.org/pandas-docs/version/0.15.2/indexing.html#indexing-integer)"
   ]
  },
  {
   "cell_type": "markdown",
   "metadata": {},
   "source": [
    "You can use `ix` to select slices of the data frame.  "
   ]
  },
  {
   "cell_type": "code",
   "execution_count": 76,
   "metadata": {
    "collapsed": false
   },
   "outputs": [
    {
     "name": "stdout",
     "output_type": "stream",
     "text": [
      "                   A         B         C         D\n",
      "2013-01-01  1.143047  0.665849 -0.812157  0.759250\n",
      "2013-01-02 -0.860134 -2.540414  1.172069 -1.685052\n",
      "2013-01-03 -1.174953 -0.365412  0.667214 -1.224319\n",
      "2013-01-04  1.045498 -0.838636  0.432042  0.099249\n",
      "2013-01-05 -0.915582 -1.385537 -1.505576  0.192006\n",
      "2013-01-06  1.187470 -0.821087  0.572926 -1.603021\n",
      "\n",
      "2013-01-01    0.759250\n",
      "2013-01-02   -1.685052\n",
      "2013-01-03   -1.224319\n",
      "2013-01-04    0.099249\n",
      "2013-01-05    0.192006\n",
      "2013-01-06   -1.603021\n",
      "Freq: D, Name: D, dtype: float64\n",
      "                   A         B\n",
      "2013-01-01  1.143047  0.665849\n",
      "2013-01-02 -0.860134 -2.540414\n",
      "                   A         C         D\n",
      "2013-01-01  1.143047 -0.812157  0.759250\n",
      "2013-01-02 -0.860134  1.172069 -1.685052\n",
      "                   A         B         C\n",
      "2013-01-02 -0.860134 -2.540414  1.172069\n",
      "2013-01-03 -1.174953 -0.365412  0.667214\n",
      "                   A         C\n",
      "2013-01-03 -1.174953  0.667214\n",
      "2013-01-04  1.045498  0.432042\n",
      "                   B         C         D\n",
      "2013-01-02 -2.540414  1.172069 -1.685052\n",
      "2013-01-03 -0.365412  0.667214 -1.224319\n",
      "                   A         B         C\n",
      "2013-01-02 -0.860134 -2.540414  1.172069\n",
      "2013-01-03 -1.174953 -0.365412  0.667214\n",
      "                   A         B         C         D\n",
      "2013-01-01  1.143047  0.665849 -0.812157  0.759250\n",
      "2013-01-02 -1.000000 -1.000000 -1.000000 -1.685052\n",
      "2013-01-03 -1.000000 -1.000000 -1.000000 -1.224319\n",
      "2013-01-04  1.045498 -0.838636  0.432042  0.099249\n",
      "2013-01-05 -0.915582 -1.385537 -1.505576  0.192006\n",
      "2013-01-06  1.187470 -0.821087  0.572926 -1.603021\n"
     ]
    }
   ],
   "source": [
    "df = makeDateRand()\n",
    "print(df)\n",
    "print('')\n",
    "print(df.ix[:, 'D']) # All rows in column D\n",
    "print(df.ix[0:2, 0:2]) # upper left 2x2 sub-array, not including third [2] column \n",
    "print(df.ix[0:2, [0,2,3]]) # multiple columns in list format\n",
    "print(df.ix[1:3, 'A':'C']) # use range of column names, same effect as above, note 'C' included!!\n",
    "print(df.ix[2:4, ['A','C']]) # use list of column names\n",
    "print(df.ix[1:3, 'B':]) # All columns onwards from 'B'\n",
    "print(df.ix[1:3, :'C']) # All columns up to and including!! C\n",
    "df.ix[1:3, :'C'] = -1\n",
    "print(df)"
   ]
  },
  {
   "cell_type": "markdown",
   "metadata": {},
   "source": [
    "To copy discontinuous column ranges takes a bit more effort. First create lists of the required columns"
   ]
  },
  {
   "cell_type": "code",
   "execution_count": 77,
   "metadata": {
    "collapsed": false
   },
   "outputs": [
    {
     "name": "stdout",
     "output_type": "stream",
     "text": [
      "['A', 'C']\n",
      "                      A         C\n",
      "2013-01-01     0.105224  0.390589\n",
      "2013-01-02    -0.994462  0.892269\n",
      "2013-01-03  1000.000000  0.566408\n",
      "2013-01-04     0.589277 -1.069615\n",
      "2013-01-05    -0.240264  0.581146\n",
      "2013-01-06    -0.411138 -0.064191\n",
      "                      A         C\n",
      "2013-01-01     0.105224  0.390589\n",
      "2013-01-02    -0.994462  0.892269\n",
      "2013-01-03  1000.000000  0.566408\n",
      "2013-01-04     0.589277 -1.069615\n",
      "2013-01-05    -0.240264  0.581146\n",
      "2013-01-06    -0.411138 -0.064191\n",
      "                   A         B         C         D\n",
      "2013-01-01  0.105224 -0.850055  0.390589  0.418867\n",
      "2013-01-02 -0.994462  0.726262  0.892269  0.356299\n",
      "2013-01-03 -0.151310 -0.521775  0.566408 -0.957123\n",
      "2013-01-04  0.589277 -0.300727 -1.069615 -1.734922\n",
      "2013-01-05 -0.240264  0.999330  0.581146  1.234014\n",
      "2013-01-06 -0.411138  0.864702 -0.064191  0.314006\n"
     ]
    }
   ],
   "source": [
    "df = makeDateRand()\n",
    "lst = list(df.columns[0:1]) + list(df.columns[2:3])\n",
    "print(lst)\n",
    "df1 = df[lst].copy() # copy was made, use this to get rid of the warning \n",
    "df1.ix[2,0] = +1000\n",
    "print(df1)\n",
    "\n",
    "df2 = df.ix[:,lst] # ix appears to have made a copy\n",
    "df2.ix[2,0] = +1000\n",
    "print(df2)\n",
    "print(df)\n",
    "\n"
   ]
  },
  {
   "cell_type": "markdown",
   "metadata": {},
   "source": [
    "### [`.loc` Selection by Label](http://pandas.pydata.org/pandas-docs/version/0.15.2/indexing.html#indexing-label)"
   ]
  },
  {
   "cell_type": "markdown",
   "metadata": {},
   "source": [
    "The following example is strange in the sense that is refers to the index by name (see the function where the DataFrame was created), but the index is not named.  Yet, it can/must be used, by using the Series name `dates`. This is probably because pandas  has strong support for time Series."
   ]
  },
  {
   "cell_type": "code",
   "execution_count": 78,
   "metadata": {
    "collapsed": false
   },
   "outputs": [
    {
     "name": "stdout",
     "output_type": "stream",
     "text": [
      "                   A         B         C         D\n",
      "2013-01-01 -0.963414 -0.062809 -0.923654  0.336727\n",
      "2013-01-02  0.982394 -0.599273  1.158357  1.307678\n",
      "2013-01-03 -1.654106  0.990347 -0.882056  0.438921\n",
      "2013-01-04  0.492533  0.902134  0.815983 -0.223429\n",
      "2013-01-05  2.032486  0.625433  1.744262 -0.479370\n",
      "2013-01-06 -1.515838  0.747325  0.620951  0.440307\n",
      "DatetimeIndex(['2013-01-01', '2013-01-02', '2013-01-03', '2013-01-04', '2013-01-05', '2013-01-06'], dtype='datetime64[ns]', freq='D')\n",
      "None\n",
      "Index([u'A', u'B', u'C', u'D'], dtype='object')\n",
      "A   -0.963414\n",
      "B   -0.062809\n",
      "C   -0.923654\n",
      "D    0.336727\n",
      "Name: 2013-01-01 00:00:00, dtype: float64\n",
      "A   -0.963414\n",
      "B   -0.062809\n",
      "C   -0.923654\n",
      "D    0.336727\n",
      "Name: 2013-01-01 00:00:00, dtype: float64\n"
     ]
    }
   ],
   "source": [
    "df = makeDateRand()\n",
    "dates = df.index\n",
    "print(df)\n",
    "print(df.index)\n",
    "print(df.index.name)\n",
    "print(df.columns)\n",
    "print(df.loc[df.index[0]])\n",
    "print(df.loc[dates[0]])\n"
   ]
  },
  {
   "cell_type": "markdown",
   "metadata": {},
   "source": [
    "In this example the row at count=0 is accessed just by the count number.  The index is not named."
   ]
  },
  {
   "cell_type": "code",
   "execution_count": 79,
   "metadata": {
    "collapsed": false
   },
   "outputs": [
    {
     "name": "stdout",
     "output_type": "stream",
     "text": [
      "   A  B  C   D\n",
      "0  1  4  7  10\n",
      "1  2  5  8  11\n",
      "2  3  6  9  12\n",
      "Int64Index([0, 1, 2], dtype='int64')\n",
      "None\n",
      "A     1\n",
      "B     4\n",
      "C     7\n",
      "D    10\n",
      "Name: 0, dtype: int64\n"
     ]
    }
   ],
   "source": [
    "df = makegridDF()\n",
    "print(df)\n",
    "print(df.index)\n",
    "print(df.index.name)\n",
    "print(df.loc[0])"
   ]
  },
  {
   "cell_type": "markdown",
   "metadata": {},
   "source": [
    "Select all the rows, but only the 'A' and 'B' columns of these rows."
   ]
  },
  {
   "cell_type": "code",
   "execution_count": 80,
   "metadata": {
    "collapsed": false
   },
   "outputs": [
    {
     "data": {
      "text/html": [
       "<div>\n",
       "<table border=\"1\" class=\"dataframe\">\n",
       "  <thead>\n",
       "    <tr style=\"text-align: right;\">\n",
       "      <th></th>\n",
       "      <th>A</th>\n",
       "      <th>B</th>\n",
       "    </tr>\n",
       "  </thead>\n",
       "  <tbody>\n",
       "    <tr>\n",
       "      <th>0</th>\n",
       "      <td>1</td>\n",
       "      <td>4</td>\n",
       "    </tr>\n",
       "    <tr>\n",
       "      <th>1</th>\n",
       "      <td>2</td>\n",
       "      <td>5</td>\n",
       "    </tr>\n",
       "    <tr>\n",
       "      <th>2</th>\n",
       "      <td>3</td>\n",
       "      <td>6</td>\n",
       "    </tr>\n",
       "  </tbody>\n",
       "</table>\n",
       "</div>"
      ],
      "text/plain": [
       "   A  B\n",
       "0  1  4\n",
       "1  2  5\n",
       "2  3  6"
      ]
     },
     "execution_count": 80,
     "metadata": {},
     "output_type": "execute_result"
    }
   ],
   "source": [
    "df.loc[:,['A','B']]"
   ]
  },
  {
   "cell_type": "markdown",
   "metadata": {},
   "source": [
    "In the following example a slice is made on both rows and columns.  Note that when using `loc` both endpoints in the row range are returned, but in die `ix` case the upper bound must point to one beyond the end row."
   ]
  },
  {
   "cell_type": "code",
   "execution_count": 81,
   "metadata": {
    "collapsed": false
   },
   "outputs": [
    {
     "name": "stdout",
     "output_type": "stream",
     "text": [
      "                   A         B\n",
      "2013-01-02  0.283223  1.119485\n",
      "2013-01-03  0.685256 -0.071599\n",
      "2013-01-04 -1.307954  0.994445\n",
      "                   A         B\n",
      "2013-01-02  0.283223  1.119485\n",
      "2013-01-03  0.685256 -0.071599\n",
      "2013-01-04 -1.307954  0.994445\n"
     ]
    }
   ],
   "source": [
    "df = makeDateRand()\n",
    "print(df.loc['20130102':'20130104',['A','B']])\n",
    "print(df.ix[1:4,['A','B']])"
   ]
  },
  {
   "cell_type": "markdown",
   "metadata": {},
   "source": [
    "This example selects a row by using a dynamically generated datetime value."
   ]
  },
  {
   "cell_type": "code",
   "execution_count": 82,
   "metadata": {
    "collapsed": false
   },
   "outputs": [
    {
     "data": {
      "text/plain": [
       "A   -1.930342\n",
       "B   -1.569180\n",
       "C   -1.081378\n",
       "D   -0.082590\n",
       "Name: 2013-01-02 00:00:00, dtype: float64"
      ]
     },
     "execution_count": 82,
     "metadata": {},
     "output_type": "execute_result"
    }
   ],
   "source": [
    "df = makeDateRand()\n",
    "df.ix[datetime.datetime(2013,01,02)]"
   ]
  },
  {
   "cell_type": "markdown",
   "metadata": {},
   "source": [
    "Rows can also be selected by numeric index by using the `irow` method."
   ]
  },
  {
   "cell_type": "code",
   "execution_count": 83,
   "metadata": {
    "collapsed": false
   },
   "outputs": [
    {
     "name": "stdout",
     "output_type": "stream",
     "text": [
      "                   A         B         C         D\n",
      "2013-01-01  1.926567 -0.070884  1.688541 -0.110097\n",
      "2013-01-02  0.246392 -0.737233 -0.073388  0.507369\n",
      "2013-01-03 -0.005625  0.163370  0.798942  0.419785\n",
      "2013-01-04  0.728127 -0.423832  0.692754 -0.114982\n",
      "2013-01-05 -0.737644 -1.842726  0.814393 -2.242942\n",
      "2013-01-06  0.485343  1.105314  0.475995  0.589390\n",
      "A    0.246392\n",
      "B   -0.737233\n",
      "C   -0.073388\n",
      "D    0.507369\n",
      "Name: 2013-01-02 00:00:00, dtype: float64\n",
      "A    0.728127\n",
      "B   -0.423832\n",
      "C    0.692754\n",
      "D   -0.114982\n",
      "Name: 2013-01-04 00:00:00, dtype: float64\n"
     ]
    },
    {
     "name": "stderr",
     "output_type": "stream",
     "text": [
      "C:\\Miniconda3\\envs\\py27\\lib\\site-packages\\ipykernel\\__main__.py:3: FutureWarning: irow(i) is deprecated. Please use .iloc[i]\n",
      "  app.launch_new_instance()\n",
      "C:\\Miniconda3\\envs\\py27\\lib\\site-packages\\ipykernel\\__main__.py:4: FutureWarning: irow(i) is deprecated. Please use .iloc[i]\n"
     ]
    }
   ],
   "source": [
    "df = makeDateRand()\n",
    "print(df)\n",
    "print(df.irow(1))\n",
    "print(df.irow(3))"
   ]
  },
  {
   "cell_type": "markdown",
   "metadata": {},
   "source": [
    "This example iterates over all rows, assigning values to each row during iteration."
   ]
  },
  {
   "cell_type": "code",
   "execution_count": 84,
   "metadata": {
    "collapsed": false
   },
   "outputs": [
    {
     "name": "stdout",
     "output_type": "stream",
     "text": [
      "                   A         B         C         D\n",
      "2013-01-01  0.606589  1.251476 -0.140449 -1.362916\n",
      "2013-01-02  0.029462 -1.445196  0.715320 -1.546244\n",
      "2013-01-03 -0.412223 -1.591843 -0.454466 -0.390315\n",
      "2013-01-04  1.270745 -0.201814  0.736302 -0.864721\n",
      "2013-01-05  1.214056 -0.820874  0.704585 -1.462438\n",
      "            A  B         C         D\n",
      "2013-01-01  2  0  0.000000 -1.362916\n",
      "2013-01-02  2  1  1.000000 -1.546244\n",
      "2013-01-03  2  2  1.414214 -0.390315\n",
      "2013-01-04  2  3  1.732051 -0.864721\n",
      "2013-01-05  2  4  2.000000 -1.462438\n"
     ]
    }
   ],
   "source": [
    "df = makeDateRand()\n",
    "print(df.head())\n",
    "for i,(idx, row) in enumerate(df.iterrows()):\n",
    "    row['A'] = 2\n",
    "    df.ix[idx, 'B'] = i\n",
    "    df.ix[idx]['C'] = np.sqrt(i)\n",
    "print(df.head())"
   ]
  },
  {
   "cell_type": "code",
   "execution_count": 85,
   "metadata": {
    "collapsed": true
   },
   "outputs": [],
   "source": [
    "#tbc"
   ]
  },
  {
   "cell_type": "markdown",
   "metadata": {},
   "source": [
    "### [`.iloc` Selection by Position](http://pandas.pydata.org/pandas-docs/version/0.15.2/indexing.html#indexing-integer)"
   ]
  },
  {
   "cell_type": "markdown",
   "metadata": {},
   "source": [
    "The `iloc` "
   ]
  },
  {
   "cell_type": "code",
   "execution_count": 86,
   "metadata": {
    "collapsed": false
   },
   "outputs": [
    {
     "data": {
      "text/plain": [
       "A   -0.462500\n",
       "B   -0.259439\n",
       "C   -2.053066\n",
       "D   -0.270173\n",
       "Name: 2013-01-04 00:00:00, dtype: float64"
      ]
     },
     "execution_count": 86,
     "metadata": {},
     "output_type": "execute_result"
    }
   ],
   "source": [
    "df = makeDateRand()\n",
    "df.iloc[3]"
   ]
  },
  {
   "cell_type": "code",
   "execution_count": 87,
   "metadata": {
    "collapsed": false
   },
   "outputs": [
    {
     "data": {
      "text/html": [
       "<div>\n",
       "<table border=\"1\" class=\"dataframe\">\n",
       "  <thead>\n",
       "    <tr style=\"text-align: right;\">\n",
       "      <th></th>\n",
       "      <th>A</th>\n",
       "      <th>B</th>\n",
       "    </tr>\n",
       "  </thead>\n",
       "  <tbody>\n",
       "    <tr>\n",
       "      <th>2013-01-04</th>\n",
       "      <td>-0.462500</td>\n",
       "      <td>-0.259439</td>\n",
       "    </tr>\n",
       "    <tr>\n",
       "      <th>2013-01-05</th>\n",
       "      <td>0.003649</td>\n",
       "      <td>-1.913620</td>\n",
       "    </tr>\n",
       "  </tbody>\n",
       "</table>\n",
       "</div>"
      ],
      "text/plain": [
       "                   A         B\n",
       "2013-01-04 -0.462500 -0.259439\n",
       "2013-01-05  0.003649 -1.913620"
      ]
     },
     "execution_count": 87,
     "metadata": {},
     "output_type": "execute_result"
    }
   ],
   "source": [
    "df.iloc[3:5,0:2]"
   ]
  },
  {
   "cell_type": "code",
   "execution_count": 88,
   "metadata": {
    "collapsed": false
   },
   "outputs": [
    {
     "data": {
      "text/html": [
       "<div>\n",
       "<table border=\"1\" class=\"dataframe\">\n",
       "  <thead>\n",
       "    <tr style=\"text-align: right;\">\n",
       "      <th></th>\n",
       "      <th>A</th>\n",
       "      <th>C</th>\n",
       "    </tr>\n",
       "  </thead>\n",
       "  <tbody>\n",
       "    <tr>\n",
       "      <th>2013-01-02</th>\n",
       "      <td>1.389940</td>\n",
       "      <td>1.269098</td>\n",
       "    </tr>\n",
       "    <tr>\n",
       "      <th>2013-01-03</th>\n",
       "      <td>-1.026619</td>\n",
       "      <td>-0.939863</td>\n",
       "    </tr>\n",
       "    <tr>\n",
       "      <th>2013-01-05</th>\n",
       "      <td>0.003649</td>\n",
       "      <td>-1.070628</td>\n",
       "    </tr>\n",
       "  </tbody>\n",
       "</table>\n",
       "</div>"
      ],
      "text/plain": [
       "                   A         C\n",
       "2013-01-02  1.389940  1.269098\n",
       "2013-01-03 -1.026619 -0.939863\n",
       "2013-01-05  0.003649 -1.070628"
      ]
     },
     "execution_count": 88,
     "metadata": {},
     "output_type": "execute_result"
    }
   ],
   "source": [
    "df.iloc[[1,2,4],[0,2]]"
   ]
  },
  {
   "cell_type": "code",
   "execution_count": 89,
   "metadata": {
    "collapsed": false
   },
   "outputs": [
    {
     "data": {
      "text/html": [
       "<div>\n",
       "<table border=\"1\" class=\"dataframe\">\n",
       "  <thead>\n",
       "    <tr style=\"text-align: right;\">\n",
       "      <th></th>\n",
       "      <th>A</th>\n",
       "      <th>B</th>\n",
       "      <th>C</th>\n",
       "      <th>D</th>\n",
       "    </tr>\n",
       "  </thead>\n",
       "  <tbody>\n",
       "    <tr>\n",
       "      <th>2013-01-02</th>\n",
       "      <td>1.389940</td>\n",
       "      <td>-0.101273</td>\n",
       "      <td>1.269098</td>\n",
       "      <td>-0.259265</td>\n",
       "    </tr>\n",
       "    <tr>\n",
       "      <th>2013-01-03</th>\n",
       "      <td>-1.026619</td>\n",
       "      <td>0.437395</td>\n",
       "      <td>-0.939863</td>\n",
       "      <td>-1.022749</td>\n",
       "    </tr>\n",
       "  </tbody>\n",
       "</table>\n",
       "</div>"
      ],
      "text/plain": [
       "                   A         B         C         D\n",
       "2013-01-02  1.389940 -0.101273  1.269098 -0.259265\n",
       "2013-01-03 -1.026619  0.437395 -0.939863 -1.022749"
      ]
     },
     "execution_count": 89,
     "metadata": {},
     "output_type": "execute_result"
    }
   ],
   "source": [
    "#slicing rows\n",
    "df.iloc[1:3,:]"
   ]
  },
  {
   "cell_type": "code",
   "execution_count": 90,
   "metadata": {
    "collapsed": false
   },
   "outputs": [
    {
     "data": {
      "text/html": [
       "<div>\n",
       "<table border=\"1\" class=\"dataframe\">\n",
       "  <thead>\n",
       "    <tr style=\"text-align: right;\">\n",
       "      <th></th>\n",
       "      <th>B</th>\n",
       "      <th>C</th>\n",
       "    </tr>\n",
       "  </thead>\n",
       "  <tbody>\n",
       "    <tr>\n",
       "      <th>2013-01-01</th>\n",
       "      <td>2.407658</td>\n",
       "      <td>-1.211241</td>\n",
       "    </tr>\n",
       "    <tr>\n",
       "      <th>2013-01-02</th>\n",
       "      <td>-0.101273</td>\n",
       "      <td>1.269098</td>\n",
       "    </tr>\n",
       "    <tr>\n",
       "      <th>2013-01-03</th>\n",
       "      <td>0.437395</td>\n",
       "      <td>-0.939863</td>\n",
       "    </tr>\n",
       "    <tr>\n",
       "      <th>2013-01-04</th>\n",
       "      <td>-0.259439</td>\n",
       "      <td>-2.053066</td>\n",
       "    </tr>\n",
       "    <tr>\n",
       "      <th>2013-01-05</th>\n",
       "      <td>-1.913620</td>\n",
       "      <td>-1.070628</td>\n",
       "    </tr>\n",
       "    <tr>\n",
       "      <th>2013-01-06</th>\n",
       "      <td>0.166562</td>\n",
       "      <td>-0.423515</td>\n",
       "    </tr>\n",
       "  </tbody>\n",
       "</table>\n",
       "</div>"
      ],
      "text/plain": [
       "                   B         C\n",
       "2013-01-01  2.407658 -1.211241\n",
       "2013-01-02 -0.101273  1.269098\n",
       "2013-01-03  0.437395 -0.939863\n",
       "2013-01-04 -0.259439 -2.053066\n",
       "2013-01-05 -1.913620 -1.070628\n",
       "2013-01-06  0.166562 -0.423515"
      ]
     },
     "execution_count": 90,
     "metadata": {},
     "output_type": "execute_result"
    }
   ],
   "source": [
    "#slicing columns\n",
    "df.iloc[:,1:3]"
   ]
  },
  {
   "cell_type": "code",
   "execution_count": 91,
   "metadata": {
    "collapsed": false
   },
   "outputs": [
    {
     "data": {
      "text/plain": [
       "-0.10127344445079257"
      ]
     },
     "execution_count": 91,
     "metadata": {},
     "output_type": "execute_result"
    }
   ],
   "source": [
    "df.iloc[1,1]"
   ]
  },
  {
   "cell_type": "markdown",
   "metadata": {},
   "source": [
    "### Series/DataFrame [enlargement](http://pandas.pydata.org/pandas-docs/version/0.15.2/indexing.html#setting-with-enlargement)"
   ]
  },
  {
   "cell_type": "markdown",
   "metadata": {},
   "source": [
    "The `.loc`/`.ix/[]` operations can perform enlargement when setting a non-existent key for that axis. In the Series case this is effectively an appending operation."
   ]
  },
  {
   "cell_type": "code",
   "execution_count": 92,
   "metadata": {
    "collapsed": false
   },
   "outputs": [
    {
     "name": "stdout",
     "output_type": "stream",
     "text": [
      "0    1\n",
      "1    2\n",
      "2    3\n",
      "dtype: int64\n",
      "0    1\n",
      "1    2\n",
      "2    3\n",
      "5    5\n",
      "dtype: float64\n"
     ]
    }
   ],
   "source": [
    "se = pd.Series([1,2,3])\n",
    "print(se) \n",
    "se[5] = 5.\n",
    "print(se)"
   ]
  },
  {
   "cell_type": "markdown",
   "metadata": {},
   "source": [
    "A DataFrame can be enlarged on either axis via `.loc`"
   ]
  },
  {
   "cell_type": "code",
   "execution_count": 93,
   "metadata": {
    "collapsed": false
   },
   "outputs": [
    {
     "name": "stdout",
     "output_type": "stream",
     "text": [
      "   A  B\n",
      "0  0  1\n",
      "1  2  3\n",
      "2  4  5\n",
      "   A  B  C\n",
      "0  0  1  0\n",
      "1  2  3  2\n",
      "2  4  5  4\n",
      "   A  B  C\n",
      "0  0  1  0\n",
      "1  2  3  2\n",
      "2  4  5  4\n",
      "3  5  5  5\n"
     ]
    }
   ],
   "source": [
    "dfi = pd.DataFrame(np.arange(6).reshape(3,2),columns=['A','B'])\n",
    "print(dfi)\n",
    "dfi.loc[:,'C'] = dfi.loc[:,'A']\n",
    "print(dfi)\n",
    "dfi.loc[3] = 5\n",
    "print(dfi)"
   ]
  },
  {
   "cell_type": "markdown",
   "metadata": {},
   "source": [
    "### Find row where index is nearest to given value"
   ]
  },
  {
   "cell_type": "code",
   "execution_count": 94,
   "metadata": {
    "collapsed": false
   },
   "outputs": [
    {
     "name": "stdout",
     "output_type": "stream",
     "text": [
      "                   A         B         C         D\n",
      "2013-01-01 -2.826389 -0.842865  0.048104 -0.667622\n",
      "2013-01-02  0.897501 -0.778197  0.277514  0.746953\n",
      "2013-01-03 -0.204372 -1.298260 -0.278592 -0.515486\n",
      "2013-01-04  0.246740 -2.292470  0.002473  0.916415\n",
      "2013-01-05  1.420009 -1.798525  0.578222  0.207176\n",
      "2013-01-06  0.820639  1.483584 -0.318033 -0.287047\n",
      "A    0.246740\n",
      "B   -2.292470\n",
      "C    0.002473\n",
      "D    0.916415\n",
      "Name: 2013-01-04 00:00:00, dtype: float64\n",
      "3\n"
     ]
    }
   ],
   "source": [
    "df = makeDateRand()\n",
    "print(df)\n",
    "print(df.iloc[np.argmin(np.abs(df.index.to_pydatetime() - datetime.datetime(2013,1,4)))]) # row\n",
    "print(np.argmin(np.abs(df.index.to_pydatetime() - datetime.datetime(2013,1,4)))) # index"
   ]
  },
  {
   "cell_type": "code",
   "execution_count": 99,
   "metadata": {
    "collapsed": false
   },
   "outputs": [],
   "source": [
    "# df = makeRand()\n",
    "# print(df)\n",
    "# print(np.abs(df.index - 2)) # row\n",
    "\n",
    "# row = df.iloc[np.argmin(np.abs(df.index - 2))] # row\n",
    "# print(type(row))\n",
    "# print(row)\n",
    "# print(np.abs(df.index - 2)) # index\n",
    "# print(np.argmin(np.abs(df.index - 2))) # index\n"
   ]
  },
  {
   "cell_type": "markdown",
   "metadata": {},
   "source": [
    "### Find row where column is maximum"
   ]
  },
  {
   "cell_type": "code",
   "execution_count": 100,
   "metadata": {
    "collapsed": false
   },
   "outputs": [
    {
     "name": "stdout",
     "output_type": "stream",
     "text": [
      "          A         B         C         D\n",
      "0  0.762670 -1.534997  1.274608 -0.916519\n",
      "1  1.439423  0.853401 -0.824714 -0.492582\n",
      "2  0.123467  0.158529 -1.164087 -0.168633\n",
      "3  0.718242  0.825765  0.668789  1.002031\n",
      "1\n",
      "A    1.439423\n",
      "B    0.853401\n",
      "C   -0.824714\n",
      "D   -0.492582\n",
      "Name: 1, dtype: float64\n"
     ]
    }
   ],
   "source": [
    "df = makeRand()\n",
    "print(df)\n",
    "print(df['A'].argmax(df['A'].argmax()))  # index\n",
    "print(df.iloc[df['A'].argmax(df['A'].argmax())]) #row"
   ]
  },
  {
   "cell_type": "markdown",
   "metadata": {},
   "source": [
    "### Find row where specific column has nearest value"
   ]
  },
  {
   "cell_type": "code",
   "execution_count": 101,
   "metadata": {
    "collapsed": false
   },
   "outputs": [
    {
     "name": "stdout",
     "output_type": "stream",
     "text": [
      "          A         B         C         D\n",
      "0  1.551818 -0.233743 -0.747572 -1.385901\n",
      "1  1.123475 -0.249717  0.790148  0.990760\n",
      "2  0.568225 -0.991005 -1.653572  2.140814\n",
      "3 -0.159055 -1.140210 -0.528673  1.009933\n",
      "A   -0.159055\n",
      "B   -1.140210\n",
      "C   -0.528673\n",
      "D    1.009933\n",
      "Name: 3, dtype: float64\n",
      "3\n"
     ]
    }
   ],
   "source": [
    "df = makeRand()\n",
    "print(df)\n",
    "value = 0\n",
    "print(df.iloc[np.argmin(np.abs(df['A'] - value))]) # row\n",
    "print(np.argmin(np.abs(df['A'] - value))) # index"
   ]
  },
  {
   "cell_type": "markdown",
   "metadata": {},
   "source": [
    "### Boolean indexing and filtering"
   ]
  },
  {
   "cell_type": "code",
   "execution_count": 102,
   "metadata": {
    "collapsed": false
   },
   "outputs": [
    {
     "data": {
      "text/html": [
       "<div>\n",
       "<table border=\"1\" class=\"dataframe\">\n",
       "  <thead>\n",
       "    <tr style=\"text-align: right;\">\n",
       "      <th></th>\n",
       "      <th>A</th>\n",
       "      <th>B</th>\n",
       "      <th>C</th>\n",
       "      <th>D</th>\n",
       "    </tr>\n",
       "  </thead>\n",
       "  <tbody>\n",
       "    <tr>\n",
       "      <th>2013-01-01</th>\n",
       "      <td>0.445749</td>\n",
       "      <td>0.735514</td>\n",
       "      <td>-1.029546</td>\n",
       "      <td>-0.828259</td>\n",
       "    </tr>\n",
       "    <tr>\n",
       "      <th>2013-01-02</th>\n",
       "      <td>1.036038</td>\n",
       "      <td>-1.166444</td>\n",
       "      <td>1.177292</td>\n",
       "      <td>-0.229461</td>\n",
       "    </tr>\n",
       "    <tr>\n",
       "      <th>2013-01-03</th>\n",
       "      <td>0.322089</td>\n",
       "      <td>0.235849</td>\n",
       "      <td>0.306694</td>\n",
       "      <td>0.224386</td>\n",
       "    </tr>\n",
       "    <tr>\n",
       "      <th>2013-01-04</th>\n",
       "      <td>0.743497</td>\n",
       "      <td>1.899232</td>\n",
       "      <td>-0.362447</td>\n",
       "      <td>-0.223915</td>\n",
       "    </tr>\n",
       "    <tr>\n",
       "      <th>2013-01-05</th>\n",
       "      <td>1.576298</td>\n",
       "      <td>1.294578</td>\n",
       "      <td>0.087809</td>\n",
       "      <td>0.073857</td>\n",
       "    </tr>\n",
       "  </tbody>\n",
       "</table>\n",
       "</div>"
      ],
      "text/plain": [
       "                   A         B         C         D\n",
       "2013-01-01  0.445749  0.735514 -1.029546 -0.828259\n",
       "2013-01-02  1.036038 -1.166444  1.177292 -0.229461\n",
       "2013-01-03  0.322089  0.235849  0.306694  0.224386\n",
       "2013-01-04  0.743497  1.899232 -0.362447 -0.223915\n",
       "2013-01-05  1.576298  1.294578  0.087809  0.073857"
      ]
     },
     "execution_count": 102,
     "metadata": {},
     "output_type": "execute_result"
    }
   ],
   "source": [
    "#filter by single row\n",
    "df = makeDateRand()\n",
    "df[df.A > 0]"
   ]
  },
  {
   "cell_type": "code",
   "execution_count": 103,
   "metadata": {
    "collapsed": false
   },
   "outputs": [
    {
     "data": {
      "text/html": [
       "<div>\n",
       "<table border=\"1\" class=\"dataframe\">\n",
       "  <thead>\n",
       "    <tr style=\"text-align: right;\">\n",
       "      <th></th>\n",
       "      <th>A</th>\n",
       "      <th>B</th>\n",
       "      <th>C</th>\n",
       "      <th>D</th>\n",
       "    </tr>\n",
       "  </thead>\n",
       "  <tbody>\n",
       "    <tr>\n",
       "      <th>2013-01-01</th>\n",
       "      <td>0.445749</td>\n",
       "      <td>0.735514</td>\n",
       "      <td>-1.029546</td>\n",
       "      <td>-0.828259</td>\n",
       "    </tr>\n",
       "    <tr>\n",
       "      <th>2013-01-03</th>\n",
       "      <td>0.322089</td>\n",
       "      <td>0.235849</td>\n",
       "      <td>0.306694</td>\n",
       "      <td>0.224386</td>\n",
       "    </tr>\n",
       "    <tr>\n",
       "      <th>2013-01-04</th>\n",
       "      <td>0.743497</td>\n",
       "      <td>1.899232</td>\n",
       "      <td>-0.362447</td>\n",
       "      <td>-0.223915</td>\n",
       "    </tr>\n",
       "    <tr>\n",
       "      <th>2013-01-05</th>\n",
       "      <td>1.576298</td>\n",
       "      <td>1.294578</td>\n",
       "      <td>0.087809</td>\n",
       "      <td>0.073857</td>\n",
       "    </tr>\n",
       "  </tbody>\n",
       "</table>\n",
       "</div>"
      ],
      "text/plain": [
       "                   A         B         C         D\n",
       "2013-01-01  0.445749  0.735514 -1.029546 -0.828259\n",
       "2013-01-03  0.322089  0.235849  0.306694  0.224386\n",
       "2013-01-04  0.743497  1.899232 -0.362447 -0.223915\n",
       "2013-01-05  1.576298  1.294578  0.087809  0.073857"
      ]
     },
     "execution_count": 103,
     "metadata": {},
     "output_type": "execute_result"
    }
   ],
   "source": [
    "#filter by multiple row\n",
    "df2 = df[(df.A>0) & (df.B>0)]\n",
    "df2"
   ]
  },
  {
   "cell_type": "code",
   "execution_count": 104,
   "metadata": {
    "collapsed": false
   },
   "outputs": [
    {
     "name": "stdout",
     "output_type": "stream",
     "text": [
      "(<class 'pandas.core.series.Series'>, 2013-01-01     True\n",
      "2013-01-02    False\n",
      "2013-01-03     True\n",
      "2013-01-04     True\n",
      "2013-01-05     True\n",
      "2013-01-06    False\n",
      "Freq: D, dtype: bool)\n",
      "filt.any() = True\n",
      "filt.all() = False\n"
     ]
    }
   ],
   "source": [
    "#filter specs are pandas time series, which can be manipulated\n",
    "filt = (df.A>0) & (df.B>0)\n",
    "print(type(filt), filt)\n",
    "print('filt.any() = {}'.format(filt.any()))\n",
    "print('filt.all() = {}'.format(filt.all()))"
   ]
  },
  {
   "cell_type": "code",
   "execution_count": 105,
   "metadata": {
    "collapsed": false
   },
   "outputs": [
    {
     "data": {
      "text/html": [
       "<div>\n",
       "<table border=\"1\" class=\"dataframe\">\n",
       "  <thead>\n",
       "    <tr style=\"text-align: right;\">\n",
       "      <th></th>\n",
       "      <th>A</th>\n",
       "      <th>B</th>\n",
       "      <th>C</th>\n",
       "      <th>D</th>\n",
       "    </tr>\n",
       "  </thead>\n",
       "  <tbody>\n",
       "    <tr>\n",
       "      <th>2013-01-01</th>\n",
       "      <td>0.445749</td>\n",
       "      <td>0.735514</td>\n",
       "      <td>NaN</td>\n",
       "      <td>NaN</td>\n",
       "    </tr>\n",
       "    <tr>\n",
       "      <th>2013-01-02</th>\n",
       "      <td>1.036038</td>\n",
       "      <td>NaN</td>\n",
       "      <td>1.177292</td>\n",
       "      <td>NaN</td>\n",
       "    </tr>\n",
       "    <tr>\n",
       "      <th>2013-01-03</th>\n",
       "      <td>0.322089</td>\n",
       "      <td>0.235849</td>\n",
       "      <td>0.306694</td>\n",
       "      <td>0.224386</td>\n",
       "    </tr>\n",
       "    <tr>\n",
       "      <th>2013-01-04</th>\n",
       "      <td>0.743497</td>\n",
       "      <td>1.899232</td>\n",
       "      <td>NaN</td>\n",
       "      <td>NaN</td>\n",
       "    </tr>\n",
       "    <tr>\n",
       "      <th>2013-01-05</th>\n",
       "      <td>1.576298</td>\n",
       "      <td>1.294578</td>\n",
       "      <td>0.087809</td>\n",
       "      <td>0.073857</td>\n",
       "    </tr>\n",
       "    <tr>\n",
       "      <th>2013-01-06</th>\n",
       "      <td>NaN</td>\n",
       "      <td>1.747531</td>\n",
       "      <td>0.935463</td>\n",
       "      <td>NaN</td>\n",
       "    </tr>\n",
       "  </tbody>\n",
       "</table>\n",
       "</div>"
      ],
      "text/plain": [
       "                   A         B         C         D\n",
       "2013-01-01  0.445749  0.735514       NaN       NaN\n",
       "2013-01-02  1.036038       NaN  1.177292       NaN\n",
       "2013-01-03  0.322089  0.235849  0.306694  0.224386\n",
       "2013-01-04  0.743497  1.899232       NaN       NaN\n",
       "2013-01-05  1.576298  1.294578  0.087809  0.073857\n",
       "2013-01-06       NaN  1.747531  0.935463       NaN"
      ]
     },
     "execution_count": 105,
     "metadata": {},
     "output_type": "execute_result"
    }
   ],
   "source": [
    "#filter by element\n",
    "df[df > 0]"
   ]
  },
  {
   "cell_type": "code",
   "execution_count": 106,
   "metadata": {
    "collapsed": false
   },
   "outputs": [
    {
     "name": "stdout",
     "output_type": "stream",
     "text": [
      "                   A         B         C         D      E\n",
      "2013-01-01  0.445749  0.735514 -1.029546 -0.828259    one\n",
      "2013-01-02  1.036038 -1.166444  1.177292 -0.229461    one\n",
      "2013-01-03  0.322089  0.235849  0.306694  0.224386    two\n",
      "2013-01-04  0.743497  1.899232 -0.362447 -0.223915  three\n",
      "2013-01-05  1.576298  1.294578  0.087809  0.073857   four\n",
      "2013-01-06 -1.028637  1.747531  0.935463 -0.245184  three\n"
     ]
    },
    {
     "data": {
      "text/html": [
       "<div>\n",
       "<table border=\"1\" class=\"dataframe\">\n",
       "  <thead>\n",
       "    <tr style=\"text-align: right;\">\n",
       "      <th></th>\n",
       "      <th>A</th>\n",
       "      <th>B</th>\n",
       "      <th>C</th>\n",
       "      <th>D</th>\n",
       "      <th>E</th>\n",
       "    </tr>\n",
       "  </thead>\n",
       "  <tbody>\n",
       "    <tr>\n",
       "      <th>2013-01-03</th>\n",
       "      <td>0.322089</td>\n",
       "      <td>0.235849</td>\n",
       "      <td>0.306694</td>\n",
       "      <td>0.224386</td>\n",
       "      <td>two</td>\n",
       "    </tr>\n",
       "    <tr>\n",
       "      <th>2013-01-05</th>\n",
       "      <td>1.576298</td>\n",
       "      <td>1.294578</td>\n",
       "      <td>0.087809</td>\n",
       "      <td>0.073857</td>\n",
       "      <td>four</td>\n",
       "    </tr>\n",
       "  </tbody>\n",
       "</table>\n",
       "</div>"
      ],
      "text/plain": [
       "                   A         B         C         D     E\n",
       "2013-01-03  0.322089  0.235849  0.306694  0.224386   two\n",
       "2013-01-05  1.576298  1.294578  0.087809  0.073857  four"
      ]
     },
     "execution_count": 106,
     "metadata": {},
     "output_type": "execute_result"
    }
   ],
   "source": [
    "#isin filtering\n",
    "df2 = df.copy()\n",
    "df2['E']=['one', 'one','two','three','four','three']\n",
    "print(df2)\n",
    "df2[df2['E'].isin(['two','four'])]"
   ]
  },
  {
   "cell_type": "code",
   "execution_count": 107,
   "metadata": {
    "collapsed": false
   },
   "outputs": [
    {
     "name": "stdout",
     "output_type": "stream",
     "text": [
      "     A      B         C         D\n",
      "0  foo    one -0.248481  0.200387\n",
      "1  bar    one -0.120425 -1.878177\n",
      "2  foo    two  0.616325 -1.039226\n",
      "3  bar  three -1.392611 -0.901399\n",
      "4  foo    two  0.970671  1.468188\n",
      "5  bar    two  0.547270  0.531315\n",
      "6  foo    one -1.536266  0.017747\n",
      "7  foo  three -1.890152  1.501956\n"
     ]
    },
    {
     "data": {
      "text/plain": [
       "array(['one', 'two', 'three'], dtype=object)"
      ]
     },
     "execution_count": 107,
     "metadata": {},
     "output_type": "execute_result"
    }
   ],
   "source": [
    "#get unique values in a column\n",
    "df = makefoobar()\n",
    "print(df)\n",
    "df.B.unique()"
   ]
  },
  {
   "cell_type": "markdown",
   "metadata": {},
   "source": [
    "<http://stackoverflow.com/questions/20875140/apply-function-to-sets-of-columns-in-pandas-looping-over-entire-data-frame-co>  \n",
    "\n",
    "What I want to do is simply to calculate the length of the vector for each header (A and B) in this case, for each index, and divide by the Time column. Hence, this function needs to be np.sqrt(A_x^2 + A_y^2 + A_z^2) and the same for B of course. I.e. I am looking to calculate the velocity for each row, but three columns contribute to one velocity result.      "
   ]
  },
  {
   "cell_type": "code",
   "execution_count": 108,
   "metadata": {
    "collapsed": false
   },
   "outputs": [
    {
     "name": "stdout",
     "output_type": "stream",
     "text": [
      "['A_x', 'A_y', 'A_z']\n",
      "         A_x       A_y       A_z\n",
      "1  -0.271325 -0.040569  2.234140\n",
      "2   1.676840 -0.408536  1.633453\n",
      "3   0.474374 -1.036177 -0.584896\n",
      "4  -2.712110  0.247564 -0.229928\n",
      "5  -0.503154  2.788568 -0.669732\n",
      "6   0.472090  1.158690 -0.602710\n",
      "7  -0.881808 -1.096863 -0.748775\n",
      "8   1.345657  0.228372 -1.277566\n",
      "9   0.429461  0.721702  0.803211\n",
      "10 -0.913034  0.707611  0.463178\n",
      "        Time       A_x       A_y       A_z       B_x       B_y       B_z  Velocity_A  Velocity_B\n",
      "1  -0.940566 -0.271325 -0.040569  2.234140  0.210161 -0.443253 -0.082612   -2.393156   -0.528894\n",
      "2   0.848931  1.676840 -0.408536  1.633453 -0.146118  0.141844 -0.078177    2.799183    0.256949\n",
      "3  -0.884269  0.474374 -1.036177 -0.584896 -0.210486  1.620843  2.172524   -1.448581   -3.074511\n",
      "4  -1.605036 -2.712110  0.247564 -0.229928 -0.138790  0.431814 -1.652744   -1.702812   -1.067796\n",
      "5  -0.436245 -0.503154  2.788568 -0.669732 -1.104340 -0.966957  0.209328   -6.674397   -3.398775\n",
      "6  -0.593949  0.472090  1.158690 -0.602710 -0.393901  0.700173  2.215405   -2.338202   -3.967628\n",
      "7   0.086644 -0.881808 -1.096863 -0.748775  0.074484  1.179936  1.084282   18.398948   18.514803\n",
      "8  -1.620919  1.345657  0.228372 -1.277566 -0.001435  0.391078  0.788296   -1.153373   -0.542886\n",
      "9  -0.356840  0.429461  0.721702  0.803211  0.108811 -0.041227  0.576990   -3.256599   -1.649498\n",
      "10  0.070775 -0.913034  0.707611  0.463178 -1.330358 -0.654983 -0.312054   17.584552   21.410690\n"
     ]
    }
   ],
   "source": [
    "#pandas approach\n",
    "headers = ['Time', 'A_x', 'A_y', 'A_z', 'B_x', 'B_y', 'B_z']\n",
    "df = pd.DataFrame(np.random.randn(10,7),index=range(1,11),columns=headers)\n",
    "\n",
    "#fiter the column names to get a list of the ones you need\n",
    "print(filter(lambda x: x.startswith(\"A_\"),df.columns))\n",
    "\n",
    "#get the columns according to names\n",
    "print(df[filter(lambda x: x.startswith(\"A_\"),df.columns)])\n",
    "\n",
    "# do the apply dot product for each row across columns\n",
    "column_initials = [\"A\",\"B\"]\n",
    "for column_initial in column_initials:\n",
    "    df[\"Velocity_\"+column_initial] = \\\n",
    "    df[filter(lambda x: x.startswith(column_initial+\"_\"),df.columns)].apply(lambda x: np.sqrt(x.dot(x)), axis=1)/df.Time\n",
    "print(df)  \n"
   ]
  },
  {
   "cell_type": "code",
   "execution_count": 109,
   "metadata": {
    "collapsed": false
   },
   "outputs": [
    {
     "name": "stdout",
     "output_type": "stream",
     "text": [
      "   Velocity_A  Velocity_B\n",
      "0    6.046411    6.510787\n",
      "1   -1.134997   -1.128669\n",
      "2  -22.758495  -20.834015\n",
      "3   -6.441701   -9.623911\n",
      "4    3.885903    1.943191\n",
      "5   -4.548067   -4.513510\n",
      "6    2.624163    0.720103\n",
      "7   -2.874051   -2.191120\n",
      "8    1.212568    1.508196\n",
      "9    0.895614    0.359163\n"
     ]
    }
   ],
   "source": [
    "#numpy approach\n",
    "headers = ['Time', 'A_x', 'A_y', 'A_z', 'B_x', 'B_y', 'B_z']\n",
    "df = pd.DataFrame(np.random.randn(10,7),index=range(1,11),columns=headers)\n",
    "\n",
    "arr = df.values\n",
    "times = arr[:,0]\n",
    "arr = arr[:,1:]\n",
    "result = np.sqrt((arr**2).reshape(arr.shape[0],-1,3).sum(axis=-1))/times[:,None]\n",
    "result = pd.DataFrame(result, columns=['Velocity_%s'%(x,) for x in list('AB')])\n",
    "print(result)"
   ]
  },
  {
   "cell_type": "code",
   "execution_count": 110,
   "metadata": {
    "collapsed": false
   },
   "outputs": [
    {
     "name": "stdout",
     "output_type": "stream",
     "text": [
      "            A          B\n",
      "1    2.642190   3.094900\n",
      "2  -13.959515  -9.876638\n",
      "3   -0.921119  -1.050334\n",
      "4   -4.113012  -3.166953\n",
      "5    8.273430  32.140073\n",
      "6    7.732513   5.832885\n",
      "7    1.857514   3.464031\n",
      "8   -1.393178  -0.898309\n",
      "9   -2.610728  -2.433499\n",
      "10   2.486619   1.752182\n"
     ]
    }
   ],
   "source": [
    "# yet another approach\n",
    "headers = ['Time', 'A_x', 'A_y', 'A_z', 'B_x', 'B_y', 'B_z']\n",
    "df = pd.DataFrame(np.random.randn(10,7),index=range(1,11),columns=headers)\n",
    "\n",
    "result = df\\\n",
    "    .loc[:, df.columns!='Time']\\\n",
    "    .groupby(lambda x: x[0], axis=1)\\\n",
    "    .apply(lambda x: np.sqrt((x**2).sum(1)))\\\n",
    "    .apply(lambda x: x / df['Time'])\n",
    "\n",
    "print(result)"
   ]
  },
  {
   "cell_type": "markdown",
   "metadata": {},
   "source": [
    "### Setting data"
   ]
  },
  {
   "cell_type": "code",
   "execution_count": 111,
   "metadata": {
    "collapsed": false
   },
   "outputs": [
    {
     "data": {
      "text/plain": [
       "(5.204855005935359, -0.6666270764853586, -0.6052773127849618)"
      ]
     },
     "execution_count": 111,
     "metadata": {},
     "output_type": "execute_result"
    }
   ],
   "source": [
    "#Adding the sum along a column\n",
    "df = makeDateRand()\n",
    "df['A'].sum(), df['B'].sum(), df['C'].sum(), "
   ]
  },
  {
   "cell_type": "code",
   "execution_count": 112,
   "metadata": {
    "collapsed": false
   },
   "outputs": [
    {
     "name": "stdout",
     "output_type": "stream",
     "text": [
      "                   A         B         C         D     Total\n",
      "2013-01-01  1.485481 -0.569089 -0.721372  0.283696  0.195020\n",
      "2013-01-02 -0.040443 -0.550924  0.616050  0.381558  0.024683\n",
      "2013-01-03  0.628348 -1.054930 -1.286826  0.203611 -1.713409\n",
      "2013-01-04  0.117330  1.234945  1.106346 -0.733215  2.458620\n",
      "2013-01-05  1.261061  1.365352  0.356933  0.512394  2.983346\n",
      "2013-01-06 -0.140059 -1.082718  0.167612 -0.549012 -1.055165\n"
     ]
    }
   ],
   "source": [
    "df = makeDateRand()\n",
    "df['Total'] = df['A'] + df['B'] + df['C']\n",
    "print(df)"
   ]
  },
  {
   "cell_type": "code",
   "execution_count": 113,
   "metadata": {
    "collapsed": false
   },
   "outputs": [
    {
     "data": {
      "text/plain": [
       "A        3.311717\n",
       "B       -0.657365\n",
       "Total    2.893095\n",
       "dtype: float64"
      ]
     },
     "execution_count": 113,
     "metadata": {},
     "output_type": "execute_result"
    }
   ],
   "source": [
    "sum_row = df[['A','B','Total']].sum()\n",
    "sum_row"
   ]
  },
  {
   "cell_type": "markdown",
   "metadata": {},
   "source": [
    "We need to transpose the data and convert the Series to a DataFrame so that it is easier to concat onto our existing data. The T function allows us to switch the data from being row-based to column-based.\n",
    "\n"
   ]
  },
  {
   "cell_type": "code",
   "execution_count": 114,
   "metadata": {
    "collapsed": false
   },
   "outputs": [
    {
     "data": {
      "text/html": [
       "<div>\n",
       "<table border=\"1\" class=\"dataframe\">\n",
       "  <thead>\n",
       "    <tr style=\"text-align: right;\">\n",
       "      <th></th>\n",
       "      <th>A</th>\n",
       "      <th>B</th>\n",
       "      <th>Total</th>\n",
       "    </tr>\n",
       "  </thead>\n",
       "  <tbody>\n",
       "    <tr>\n",
       "      <th>0</th>\n",
       "      <td>3.311717</td>\n",
       "      <td>-0.657365</td>\n",
       "      <td>2.893095</td>\n",
       "    </tr>\n",
       "  </tbody>\n",
       "</table>\n",
       "</div>"
      ],
      "text/plain": [
       "          A         B     Total\n",
       "0  3.311717 -0.657365  2.893095"
      ]
     },
     "execution_count": 114,
     "metadata": {},
     "output_type": "execute_result"
    }
   ],
   "source": [
    "df_sum=pd.DataFrame(data=sum_row).T\n",
    "df_sum"
   ]
  },
  {
   "cell_type": "markdown",
   "metadata": {},
   "source": [
    "The final thing we need to do before adding the totals back is to add the missing columns. We use reindex to do this for us. The trick is to add all of our columns and then allow pandas to fill in the values that are missing.\n"
   ]
  },
  {
   "cell_type": "code",
   "execution_count": 115,
   "metadata": {
    "collapsed": false
   },
   "outputs": [
    {
     "data": {
      "text/html": [
       "<div>\n",
       "<table border=\"1\" class=\"dataframe\">\n",
       "  <thead>\n",
       "    <tr style=\"text-align: right;\">\n",
       "      <th></th>\n",
       "      <th>A</th>\n",
       "      <th>B</th>\n",
       "      <th>C</th>\n",
       "      <th>D</th>\n",
       "      <th>Total</th>\n",
       "    </tr>\n",
       "  </thead>\n",
       "  <tbody>\n",
       "    <tr>\n",
       "      <th>0</th>\n",
       "      <td>3.311717</td>\n",
       "      <td>-0.657365</td>\n",
       "      <td>NaN</td>\n",
       "      <td>NaN</td>\n",
       "      <td>2.893095</td>\n",
       "    </tr>\n",
       "  </tbody>\n",
       "</table>\n",
       "</div>"
      ],
      "text/plain": [
       "          A         B   C   D     Total\n",
       "0  3.311717 -0.657365 NaN NaN  2.893095"
      ]
     },
     "execution_count": 115,
     "metadata": {},
     "output_type": "execute_result"
    }
   ],
   "source": [
    "df_sum=df_sum.reindex(columns=df.columns)\n",
    "df_sum"
   ]
  },
  {
   "cell_type": "markdown",
   "metadata": {},
   "source": [
    "Now append the totals to the end of the dataframe, rename the index value to use the word 'Total'."
   ]
  },
  {
   "cell_type": "code",
   "execution_count": 116,
   "metadata": {
    "collapsed": false
   },
   "outputs": [
    {
     "data": {
      "text/html": [
       "<div>\n",
       "<table border=\"1\" class=\"dataframe\">\n",
       "  <thead>\n",
       "    <tr style=\"text-align: right;\">\n",
       "      <th></th>\n",
       "      <th>A</th>\n",
       "      <th>B</th>\n",
       "      <th>C</th>\n",
       "      <th>D</th>\n",
       "      <th>Total</th>\n",
       "    </tr>\n",
       "  </thead>\n",
       "  <tbody>\n",
       "    <tr>\n",
       "      <th>2</th>\n",
       "      <td>0.628348</td>\n",
       "      <td>-1.054930</td>\n",
       "      <td>-1.286826</td>\n",
       "      <td>0.203611</td>\n",
       "      <td>-1.713409</td>\n",
       "    </tr>\n",
       "    <tr>\n",
       "      <th>3</th>\n",
       "      <td>0.117330</td>\n",
       "      <td>1.234945</td>\n",
       "      <td>1.106346</td>\n",
       "      <td>-0.733215</td>\n",
       "      <td>2.458620</td>\n",
       "    </tr>\n",
       "    <tr>\n",
       "      <th>4</th>\n",
       "      <td>1.261061</td>\n",
       "      <td>1.365352</td>\n",
       "      <td>0.356933</td>\n",
       "      <td>0.512394</td>\n",
       "      <td>2.983346</td>\n",
       "    </tr>\n",
       "    <tr>\n",
       "      <th>5</th>\n",
       "      <td>-0.140059</td>\n",
       "      <td>-1.082718</td>\n",
       "      <td>0.167612</td>\n",
       "      <td>-0.549012</td>\n",
       "      <td>-1.055165</td>\n",
       "    </tr>\n",
       "    <tr>\n",
       "      <th>Total</th>\n",
       "      <td>3.311717</td>\n",
       "      <td>-0.657365</td>\n",
       "      <td>NaN</td>\n",
       "      <td>NaN</td>\n",
       "      <td>2.893095</td>\n",
       "    </tr>\n",
       "  </tbody>\n",
       "</table>\n",
       "</div>"
      ],
      "text/plain": [
       "              A         B         C         D     Total\n",
       "2      0.628348 -1.054930 -1.286826  0.203611 -1.713409\n",
       "3      0.117330  1.234945  1.106346 -0.733215  2.458620\n",
       "4      1.261061  1.365352  0.356933  0.512394  2.983346\n",
       "5     -0.140059 -1.082718  0.167612 -0.549012 -1.055165\n",
       "Total  3.311717 -0.657365       NaN       NaN  2.893095"
      ]
     },
     "execution_count": 116,
     "metadata": {},
     "output_type": "execute_result"
    }
   ],
   "source": [
    "df=df.append(df_sum,ignore_index=True)\n",
    "df.index = df.index.tolist()[:-1]   + ['Total']\n",
    "df.tail()"
   ]
  },
  {
   "cell_type": "markdown",
   "metadata": {},
   "source": [
    "Setting a new column automatically aligns the data by the indexes"
   ]
  },
  {
   "cell_type": "code",
   "execution_count": 117,
   "metadata": {
    "collapsed": false
   },
   "outputs": [
    {
     "data": {
      "text/html": [
       "<div>\n",
       "<table border=\"1\" class=\"dataframe\">\n",
       "  <thead>\n",
       "    <tr style=\"text-align: right;\">\n",
       "      <th></th>\n",
       "      <th>A</th>\n",
       "      <th>B</th>\n",
       "      <th>C</th>\n",
       "      <th>D</th>\n",
       "      <th>E</th>\n",
       "      <th>F</th>\n",
       "    </tr>\n",
       "  </thead>\n",
       "  <tbody>\n",
       "    <tr>\n",
       "      <th>2013-01-01</th>\n",
       "      <td>0.445749</td>\n",
       "      <td>0.735514</td>\n",
       "      <td>-1.029546</td>\n",
       "      <td>-0.828259</td>\n",
       "      <td>one</td>\n",
       "      <td>NaN</td>\n",
       "    </tr>\n",
       "    <tr>\n",
       "      <th>2013-01-02</th>\n",
       "      <td>1.036038</td>\n",
       "      <td>-1.166444</td>\n",
       "      <td>1.177292</td>\n",
       "      <td>-0.229461</td>\n",
       "      <td>one</td>\n",
       "      <td>1</td>\n",
       "    </tr>\n",
       "    <tr>\n",
       "      <th>2013-01-03</th>\n",
       "      <td>0.322089</td>\n",
       "      <td>0.235849</td>\n",
       "      <td>0.306694</td>\n",
       "      <td>0.224386</td>\n",
       "      <td>two</td>\n",
       "      <td>2</td>\n",
       "    </tr>\n",
       "    <tr>\n",
       "      <th>2013-01-04</th>\n",
       "      <td>0.743497</td>\n",
       "      <td>1.899232</td>\n",
       "      <td>-0.362447</td>\n",
       "      <td>-0.223915</td>\n",
       "      <td>three</td>\n",
       "      <td>3</td>\n",
       "    </tr>\n",
       "    <tr>\n",
       "      <th>2013-01-05</th>\n",
       "      <td>1.576298</td>\n",
       "      <td>1.294578</td>\n",
       "      <td>0.087809</td>\n",
       "      <td>0.073857</td>\n",
       "      <td>four</td>\n",
       "      <td>4</td>\n",
       "    </tr>\n",
       "    <tr>\n",
       "      <th>2013-01-06</th>\n",
       "      <td>-1.028637</td>\n",
       "      <td>1.747531</td>\n",
       "      <td>0.935463</td>\n",
       "      <td>-0.245184</td>\n",
       "      <td>three</td>\n",
       "      <td>5</td>\n",
       "    </tr>\n",
       "  </tbody>\n",
       "</table>\n",
       "</div>"
      ],
      "text/plain": [
       "                   A         B         C         D      E   F\n",
       "2013-01-01  0.445749  0.735514 -1.029546 -0.828259    one NaN\n",
       "2013-01-02  1.036038 -1.166444  1.177292 -0.229461    one   1\n",
       "2013-01-03  0.322089  0.235849  0.306694  0.224386    two   2\n",
       "2013-01-04  0.743497  1.899232 -0.362447 -0.223915  three   3\n",
       "2013-01-05  1.576298  1.294578  0.087809  0.073857   four   4\n",
       "2013-01-06 -1.028637  1.747531  0.935463 -0.245184  three   5"
      ]
     },
     "execution_count": 117,
     "metadata": {},
     "output_type": "execute_result"
    }
   ],
   "source": [
    "s1 = pd.Series([1,2,3,4,5,6],index=pd.date_range('20130102',periods=6))\n",
    "df2['F'] = s1\n",
    "df2"
   ]
  },
  {
   "cell_type": "code",
   "execution_count": 118,
   "metadata": {
    "collapsed": false
   },
   "outputs": [
    {
     "data": {
      "text/html": [
       "<div>\n",
       "<table border=\"1\" class=\"dataframe\">\n",
       "  <thead>\n",
       "    <tr style=\"text-align: right;\">\n",
       "      <th></th>\n",
       "      <th>A</th>\n",
       "      <th>B</th>\n",
       "      <th>C</th>\n",
       "      <th>D</th>\n",
       "      <th>Total</th>\n",
       "    </tr>\n",
       "  </thead>\n",
       "  <tbody>\n",
       "    <tr>\n",
       "      <th>0</th>\n",
       "      <td>0.000000</td>\n",
       "      <td>-0.569089</td>\n",
       "      <td>-0.721372</td>\n",
       "      <td>0.283696</td>\n",
       "      <td>0.195020</td>\n",
       "    </tr>\n",
       "    <tr>\n",
       "      <th>1</th>\n",
       "      <td>-0.040443</td>\n",
       "      <td>-0.550924</td>\n",
       "      <td>0.616050</td>\n",
       "      <td>0.381558</td>\n",
       "      <td>0.024683</td>\n",
       "    </tr>\n",
       "    <tr>\n",
       "      <th>2</th>\n",
       "      <td>0.628348</td>\n",
       "      <td>-1.054930</td>\n",
       "      <td>-1.286826</td>\n",
       "      <td>0.203611</td>\n",
       "      <td>-1.713409</td>\n",
       "    </tr>\n",
       "    <tr>\n",
       "      <th>3</th>\n",
       "      <td>0.117330</td>\n",
       "      <td>1.234945</td>\n",
       "      <td>1.106346</td>\n",
       "      <td>-0.733215</td>\n",
       "      <td>2.458620</td>\n",
       "    </tr>\n",
       "    <tr>\n",
       "      <th>4</th>\n",
       "      <td>1.261061</td>\n",
       "      <td>1.365352</td>\n",
       "      <td>0.356933</td>\n",
       "      <td>0.512394</td>\n",
       "      <td>2.983346</td>\n",
       "    </tr>\n",
       "    <tr>\n",
       "      <th>5</th>\n",
       "      <td>-0.140059</td>\n",
       "      <td>-1.082718</td>\n",
       "      <td>0.167612</td>\n",
       "      <td>-0.549012</td>\n",
       "      <td>-1.055165</td>\n",
       "    </tr>\n",
       "    <tr>\n",
       "      <th>Total</th>\n",
       "      <td>3.311717</td>\n",
       "      <td>-0.657365</td>\n",
       "      <td>NaN</td>\n",
       "      <td>NaN</td>\n",
       "      <td>2.893095</td>\n",
       "    </tr>\n",
       "  </tbody>\n",
       "</table>\n",
       "</div>"
      ],
      "text/plain": [
       "              A         B         C         D     Total\n",
       "0      0.000000 -0.569089 -0.721372  0.283696  0.195020\n",
       "1     -0.040443 -0.550924  0.616050  0.381558  0.024683\n",
       "2      0.628348 -1.054930 -1.286826  0.203611 -1.713409\n",
       "3      0.117330  1.234945  1.106346 -0.733215  2.458620\n",
       "4      1.261061  1.365352  0.356933  0.512394  2.983346\n",
       "5     -0.140059 -1.082718  0.167612 -0.549012 -1.055165\n",
       "Total  3.311717 -0.657365       NaN       NaN  2.893095"
      ]
     },
     "execution_count": 118,
     "metadata": {},
     "output_type": "execute_result"
    }
   ],
   "source": [
    "# Setting values by label\n",
    "dates = df.index\n",
    "df.at[dates[0],'A'] = 0\n",
    "df"
   ]
  },
  {
   "cell_type": "code",
   "execution_count": 119,
   "metadata": {
    "collapsed": false
   },
   "outputs": [
    {
     "data": {
      "text/html": [
       "<div>\n",
       "<table border=\"1\" class=\"dataframe\">\n",
       "  <thead>\n",
       "    <tr style=\"text-align: right;\">\n",
       "      <th></th>\n",
       "      <th>A</th>\n",
       "      <th>B</th>\n",
       "      <th>C</th>\n",
       "      <th>D</th>\n",
       "      <th>Total</th>\n",
       "    </tr>\n",
       "  </thead>\n",
       "  <tbody>\n",
       "    <tr>\n",
       "      <th>0</th>\n",
       "      <td>0.000000</td>\n",
       "      <td>7.000000</td>\n",
       "      <td>-0.721372</td>\n",
       "      <td>0.283696</td>\n",
       "      <td>0.195020</td>\n",
       "    </tr>\n",
       "    <tr>\n",
       "      <th>1</th>\n",
       "      <td>-0.040443</td>\n",
       "      <td>-0.550924</td>\n",
       "      <td>0.616050</td>\n",
       "      <td>0.381558</td>\n",
       "      <td>0.024683</td>\n",
       "    </tr>\n",
       "    <tr>\n",
       "      <th>2</th>\n",
       "      <td>0.628348</td>\n",
       "      <td>-1.054930</td>\n",
       "      <td>-1.286826</td>\n",
       "      <td>0.203611</td>\n",
       "      <td>-1.713409</td>\n",
       "    </tr>\n",
       "    <tr>\n",
       "      <th>3</th>\n",
       "      <td>0.117330</td>\n",
       "      <td>1.234945</td>\n",
       "      <td>1.106346</td>\n",
       "      <td>-0.733215</td>\n",
       "      <td>2.458620</td>\n",
       "    </tr>\n",
       "    <tr>\n",
       "      <th>4</th>\n",
       "      <td>1.261061</td>\n",
       "      <td>1.365352</td>\n",
       "      <td>0.356933</td>\n",
       "      <td>0.512394</td>\n",
       "      <td>2.983346</td>\n",
       "    </tr>\n",
       "    <tr>\n",
       "      <th>5</th>\n",
       "      <td>-0.140059</td>\n",
       "      <td>-1.082718</td>\n",
       "      <td>0.167612</td>\n",
       "      <td>-0.549012</td>\n",
       "      <td>-1.055165</td>\n",
       "    </tr>\n",
       "    <tr>\n",
       "      <th>Total</th>\n",
       "      <td>3.311717</td>\n",
       "      <td>-0.657365</td>\n",
       "      <td>NaN</td>\n",
       "      <td>NaN</td>\n",
       "      <td>2.893095</td>\n",
       "    </tr>\n",
       "  </tbody>\n",
       "</table>\n",
       "</div>"
      ],
      "text/plain": [
       "              A         B         C         D     Total\n",
       "0      0.000000  7.000000 -0.721372  0.283696  0.195020\n",
       "1     -0.040443 -0.550924  0.616050  0.381558  0.024683\n",
       "2      0.628348 -1.054930 -1.286826  0.203611 -1.713409\n",
       "3      0.117330  1.234945  1.106346 -0.733215  2.458620\n",
       "4      1.261061  1.365352  0.356933  0.512394  2.983346\n",
       "5     -0.140059 -1.082718  0.167612 -0.549012 -1.055165\n",
       "Total  3.311717 -0.657365       NaN       NaN  2.893095"
      ]
     },
     "execution_count": 119,
     "metadata": {},
     "output_type": "execute_result"
    }
   ],
   "source": [
    "# Setting values by position\n",
    "df.iat[0,1] = 7\n",
    "df"
   ]
  },
  {
   "cell_type": "code",
   "execution_count": 120,
   "metadata": {
    "collapsed": false
   },
   "outputs": [
    {
     "data": {
      "text/html": [
       "<div>\n",
       "<table border=\"1\" class=\"dataframe\">\n",
       "  <thead>\n",
       "    <tr style=\"text-align: right;\">\n",
       "      <th></th>\n",
       "      <th>A</th>\n",
       "      <th>B</th>\n",
       "      <th>C</th>\n",
       "      <th>D</th>\n",
       "      <th>Total</th>\n",
       "    </tr>\n",
       "  </thead>\n",
       "  <tbody>\n",
       "    <tr>\n",
       "      <th>0</th>\n",
       "      <td>0.000000</td>\n",
       "      <td>7.000000</td>\n",
       "      <td>-0.721372</td>\n",
       "      <td>5</td>\n",
       "      <td>0.195020</td>\n",
       "    </tr>\n",
       "    <tr>\n",
       "      <th>1</th>\n",
       "      <td>-0.040443</td>\n",
       "      <td>-0.550924</td>\n",
       "      <td>0.616050</td>\n",
       "      <td>5</td>\n",
       "      <td>0.024683</td>\n",
       "    </tr>\n",
       "    <tr>\n",
       "      <th>2</th>\n",
       "      <td>0.628348</td>\n",
       "      <td>-1.054930</td>\n",
       "      <td>-1.286826</td>\n",
       "      <td>5</td>\n",
       "      <td>-1.713409</td>\n",
       "    </tr>\n",
       "    <tr>\n",
       "      <th>3</th>\n",
       "      <td>0.117330</td>\n",
       "      <td>1.234945</td>\n",
       "      <td>1.106346</td>\n",
       "      <td>5</td>\n",
       "      <td>2.458620</td>\n",
       "    </tr>\n",
       "    <tr>\n",
       "      <th>4</th>\n",
       "      <td>1.261061</td>\n",
       "      <td>1.365352</td>\n",
       "      <td>0.356933</td>\n",
       "      <td>5</td>\n",
       "      <td>2.983346</td>\n",
       "    </tr>\n",
       "    <tr>\n",
       "      <th>5</th>\n",
       "      <td>-0.140059</td>\n",
       "      <td>-1.082718</td>\n",
       "      <td>0.167612</td>\n",
       "      <td>5</td>\n",
       "      <td>-1.055165</td>\n",
       "    </tr>\n",
       "    <tr>\n",
       "      <th>Total</th>\n",
       "      <td>3.311717</td>\n",
       "      <td>-0.657365</td>\n",
       "      <td>NaN</td>\n",
       "      <td>5</td>\n",
       "      <td>2.893095</td>\n",
       "    </tr>\n",
       "  </tbody>\n",
       "</table>\n",
       "</div>"
      ],
      "text/plain": [
       "              A         B         C  D     Total\n",
       "0      0.000000  7.000000 -0.721372  5  0.195020\n",
       "1     -0.040443 -0.550924  0.616050  5  0.024683\n",
       "2      0.628348 -1.054930 -1.286826  5 -1.713409\n",
       "3      0.117330  1.234945  1.106346  5  2.458620\n",
       "4      1.261061  1.365352  0.356933  5  2.983346\n",
       "5     -0.140059 -1.082718  0.167612  5 -1.055165\n",
       "Total  3.311717 -0.657365       NaN  5  2.893095"
      ]
     },
     "execution_count": 120,
     "metadata": {},
     "output_type": "execute_result"
    }
   ],
   "source": [
    "# Setting by assigning with a numpy array\n",
    "df.loc[:,'D'] = np.array([5] * len(df))\n",
    "df"
   ]
  },
  {
   "cell_type": "code",
   "execution_count": 121,
   "metadata": {
    "collapsed": false
   },
   "outputs": [
    {
     "data": {
      "text/html": [
       "<div>\n",
       "<table border=\"1\" class=\"dataframe\">\n",
       "  <thead>\n",
       "    <tr style=\"text-align: right;\">\n",
       "      <th></th>\n",
       "      <th>A</th>\n",
       "      <th>B</th>\n",
       "      <th>C</th>\n",
       "      <th>D</th>\n",
       "    </tr>\n",
       "  </thead>\n",
       "  <tbody>\n",
       "    <tr>\n",
       "      <th>2013-01-01</th>\n",
       "      <td>-0.396378</td>\n",
       "      <td>-1.949100</td>\n",
       "      <td>-0.758153</td>\n",
       "      <td>-0.518644</td>\n",
       "    </tr>\n",
       "    <tr>\n",
       "      <th>2013-01-02</th>\n",
       "      <td>-0.041182</td>\n",
       "      <td>-1.211616</td>\n",
       "      <td>-2.132645</td>\n",
       "      <td>-1.502130</td>\n",
       "    </tr>\n",
       "    <tr>\n",
       "      <th>2013-01-03</th>\n",
       "      <td>-1.458901</td>\n",
       "      <td>-0.137305</td>\n",
       "      <td>-1.228969</td>\n",
       "      <td>-1.001956</td>\n",
       "    </tr>\n",
       "    <tr>\n",
       "      <th>2013-01-04</th>\n",
       "      <td>-0.926463</td>\n",
       "      <td>-1.472513</td>\n",
       "      <td>-0.554183</td>\n",
       "      <td>-0.312261</td>\n",
       "    </tr>\n",
       "    <tr>\n",
       "      <th>2013-01-05</th>\n",
       "      <td>-0.847272</td>\n",
       "      <td>-0.661999</td>\n",
       "      <td>-1.218388</td>\n",
       "      <td>-1.779021</td>\n",
       "    </tr>\n",
       "    <tr>\n",
       "      <th>2013-01-06</th>\n",
       "      <td>-2.376548</td>\n",
       "      <td>-0.246227</td>\n",
       "      <td>-1.157040</td>\n",
       "      <td>-0.790074</td>\n",
       "    </tr>\n",
       "  </tbody>\n",
       "</table>\n",
       "</div>"
      ],
      "text/plain": [
       "                   A         B         C         D\n",
       "2013-01-01 -0.396378 -1.949100 -0.758153 -0.518644\n",
       "2013-01-02 -0.041182 -1.211616 -2.132645 -1.502130\n",
       "2013-01-03 -1.458901 -0.137305 -1.228969 -1.001956\n",
       "2013-01-04 -0.926463 -1.472513 -0.554183 -0.312261\n",
       "2013-01-05 -0.847272 -0.661999 -1.218388 -1.779021\n",
       "2013-01-06 -2.376548 -0.246227 -1.157040 -0.790074"
      ]
     },
     "execution_count": 121,
     "metadata": {},
     "output_type": "execute_result"
    }
   ],
   "source": [
    "# A where operation with setting.\n",
    "df = makeDateRand()\n",
    "df2 = df.copy()\n",
    "df2[df2 > 0] = -df2\n",
    "df2"
   ]
  },
  {
   "cell_type": "markdown",
   "metadata": {},
   "source": [
    "## Missing data"
   ]
  },
  {
   "cell_type": "markdown",
   "metadata": {},
   "source": [
    "pandas primarily uses the value np.nan to represent missing data. It is by default not included in computations. See the [Missing Data section](http://pandas.pydata.org/pandas-docs/version/0.15.2/missing_data.html#missing-data)\n",
    "\n",
    "Reindexing allows you to change/add/delete the index on a specified axis. This returns a copy of the data."
   ]
  },
  {
   "cell_type": "code",
   "execution_count": 122,
   "metadata": {
    "collapsed": false
   },
   "outputs": [
    {
     "name": "stdout",
     "output_type": "stream",
     "text": [
      "                   A         B         C         D   E\n",
      "2013-01-01 -0.566708  1.338549  0.518210  0.433223 NaN\n",
      "2013-01-02  2.004000  0.486821 -0.366502  0.813666 NaN\n",
      "2013-01-03 -0.775283 -1.266551  0.322386  0.207840 NaN\n",
      "2013-01-04  0.589585 -0.514747 -1.640519  0.230919 NaN\n",
      "                   A         B         C         D   E\n",
      "2013-01-01 -0.566708  1.338549  0.518210  0.433223   1\n",
      "2013-01-02  2.004000  0.486821 -0.366502  0.813666   1\n",
      "2013-01-03 -0.775283 -1.266551  0.322386  0.207840 NaN\n",
      "2013-01-04  0.589585 -0.514747 -1.640519  0.230919 NaN\n"
     ]
    }
   ],
   "source": [
    "df = makeDateRand()\n",
    "dates = df.index\n",
    "df1 = df.reindex(index=dates[0:4],columns=list(df.columns) + ['E'])\n",
    "print(df1)\n",
    "df1.loc[dates[0]:dates[1],'E'] = 1\n",
    "print(df1)\n"
   ]
  },
  {
   "cell_type": "markdown",
   "metadata": {},
   "source": [
    "To drop any rows that have missing data."
   ]
  },
  {
   "cell_type": "code",
   "execution_count": 123,
   "metadata": {
    "collapsed": false
   },
   "outputs": [
    {
     "data": {
      "text/html": [
       "<div>\n",
       "<table border=\"1\" class=\"dataframe\">\n",
       "  <thead>\n",
       "    <tr style=\"text-align: right;\">\n",
       "      <th></th>\n",
       "      <th>A</th>\n",
       "      <th>B</th>\n",
       "      <th>C</th>\n",
       "      <th>D</th>\n",
       "      <th>E</th>\n",
       "    </tr>\n",
       "  </thead>\n",
       "  <tbody>\n",
       "    <tr>\n",
       "      <th>2013-01-01</th>\n",
       "      <td>-0.566708</td>\n",
       "      <td>1.338549</td>\n",
       "      <td>0.518210</td>\n",
       "      <td>0.433223</td>\n",
       "      <td>1</td>\n",
       "    </tr>\n",
       "    <tr>\n",
       "      <th>2013-01-02</th>\n",
       "      <td>2.004000</td>\n",
       "      <td>0.486821</td>\n",
       "      <td>-0.366502</td>\n",
       "      <td>0.813666</td>\n",
       "      <td>1</td>\n",
       "    </tr>\n",
       "  </tbody>\n",
       "</table>\n",
       "</div>"
      ],
      "text/plain": [
       "                   A         B         C         D  E\n",
       "2013-01-01 -0.566708  1.338549  0.518210  0.433223  1\n",
       "2013-01-02  2.004000  0.486821 -0.366502  0.813666  1"
      ]
     },
     "execution_count": 123,
     "metadata": {},
     "output_type": "execute_result"
    }
   ],
   "source": [
    "df1.dropna(how='any')"
   ]
  },
  {
   "cell_type": "markdown",
   "metadata": {},
   "source": [
    "Filling missing data"
   ]
  },
  {
   "cell_type": "code",
   "execution_count": 124,
   "metadata": {
    "collapsed": false
   },
   "outputs": [
    {
     "data": {
      "text/html": [
       "<div>\n",
       "<table border=\"1\" class=\"dataframe\">\n",
       "  <thead>\n",
       "    <tr style=\"text-align: right;\">\n",
       "      <th></th>\n",
       "      <th>A</th>\n",
       "      <th>B</th>\n",
       "      <th>C</th>\n",
       "      <th>D</th>\n",
       "      <th>E</th>\n",
       "    </tr>\n",
       "  </thead>\n",
       "  <tbody>\n",
       "    <tr>\n",
       "      <th>2013-01-01</th>\n",
       "      <td>-0.566708</td>\n",
       "      <td>1.338549</td>\n",
       "      <td>0.518210</td>\n",
       "      <td>0.433223</td>\n",
       "      <td>1</td>\n",
       "    </tr>\n",
       "    <tr>\n",
       "      <th>2013-01-02</th>\n",
       "      <td>2.004000</td>\n",
       "      <td>0.486821</td>\n",
       "      <td>-0.366502</td>\n",
       "      <td>0.813666</td>\n",
       "      <td>1</td>\n",
       "    </tr>\n",
       "    <tr>\n",
       "      <th>2013-01-03</th>\n",
       "      <td>-0.775283</td>\n",
       "      <td>-1.266551</td>\n",
       "      <td>0.322386</td>\n",
       "      <td>0.207840</td>\n",
       "      <td>5</td>\n",
       "    </tr>\n",
       "    <tr>\n",
       "      <th>2013-01-04</th>\n",
       "      <td>0.589585</td>\n",
       "      <td>-0.514747</td>\n",
       "      <td>-1.640519</td>\n",
       "      <td>0.230919</td>\n",
       "      <td>5</td>\n",
       "    </tr>\n",
       "  </tbody>\n",
       "</table>\n",
       "</div>"
      ],
      "text/plain": [
       "                   A         B         C         D  E\n",
       "2013-01-01 -0.566708  1.338549  0.518210  0.433223  1\n",
       "2013-01-02  2.004000  0.486821 -0.366502  0.813666  1\n",
       "2013-01-03 -0.775283 -1.266551  0.322386  0.207840  5\n",
       "2013-01-04  0.589585 -0.514747 -1.640519  0.230919  5"
      ]
     },
     "execution_count": 124,
     "metadata": {},
     "output_type": "execute_result"
    }
   ],
   "source": [
    "df1.fillna(value=5)"
   ]
  },
  {
   "cell_type": "markdown",
   "metadata": {},
   "source": [
    "To get the boolean mask where values are nan"
   ]
  },
  {
   "cell_type": "code",
   "execution_count": 125,
   "metadata": {
    "collapsed": false
   },
   "outputs": [
    {
     "data": {
      "text/html": [
       "<div>\n",
       "<table border=\"1\" class=\"dataframe\">\n",
       "  <thead>\n",
       "    <tr style=\"text-align: right;\">\n",
       "      <th></th>\n",
       "      <th>A</th>\n",
       "      <th>B</th>\n",
       "      <th>C</th>\n",
       "      <th>D</th>\n",
       "      <th>E</th>\n",
       "    </tr>\n",
       "  </thead>\n",
       "  <tbody>\n",
       "    <tr>\n",
       "      <th>2013-01-01</th>\n",
       "      <td>False</td>\n",
       "      <td>False</td>\n",
       "      <td>False</td>\n",
       "      <td>False</td>\n",
       "      <td>False</td>\n",
       "    </tr>\n",
       "    <tr>\n",
       "      <th>2013-01-02</th>\n",
       "      <td>False</td>\n",
       "      <td>False</td>\n",
       "      <td>False</td>\n",
       "      <td>False</td>\n",
       "      <td>False</td>\n",
       "    </tr>\n",
       "    <tr>\n",
       "      <th>2013-01-03</th>\n",
       "      <td>False</td>\n",
       "      <td>False</td>\n",
       "      <td>False</td>\n",
       "      <td>False</td>\n",
       "      <td>True</td>\n",
       "    </tr>\n",
       "    <tr>\n",
       "      <th>2013-01-04</th>\n",
       "      <td>False</td>\n",
       "      <td>False</td>\n",
       "      <td>False</td>\n",
       "      <td>False</td>\n",
       "      <td>True</td>\n",
       "    </tr>\n",
       "  </tbody>\n",
       "</table>\n",
       "</div>"
      ],
      "text/plain": [
       "                A      B      C      D      E\n",
       "2013-01-01  False  False  False  False  False\n",
       "2013-01-02  False  False  False  False  False\n",
       "2013-01-03  False  False  False  False   True\n",
       "2013-01-04  False  False  False  False   True"
      ]
     },
     "execution_count": 125,
     "metadata": {},
     "output_type": "execute_result"
    }
   ],
   "source": [
    "pd.isnull(df1)"
   ]
  },
  {
   "cell_type": "markdown",
   "metadata": {},
   "source": [
    "## Operations\n",
    "### Binary operations"
   ]
  },
  {
   "cell_type": "markdown",
   "metadata": {},
   "source": [
    "See the Basic section on [Binary Ops](http://pandas.pydata.org/pandas-docs/version/0.15.2/basics.html#basics-binop)  \n",
    "\n",
    "Operations in general exclude missing data."
   ]
  },
  {
   "cell_type": "code",
   "execution_count": 126,
   "metadata": {
    "collapsed": false
   },
   "outputs": [
    {
     "data": {
      "text/plain": [
       "A    0.208937\n",
       "B   -0.122145\n",
       "C   -0.355202\n",
       "D    0.308901\n",
       "dtype: float64"
      ]
     },
     "execution_count": 126,
     "metadata": {},
     "output_type": "execute_result"
    }
   ],
   "source": [
    "df.mean()"
   ]
  },
  {
   "cell_type": "code",
   "execution_count": 127,
   "metadata": {
    "collapsed": false
   },
   "outputs": [
    {
     "data": {
      "text/plain": [
       "2013-01-01    0.430819\n",
       "2013-01-02    0.734496\n",
       "2013-01-03   -0.377902\n",
       "2013-01-04   -0.333691\n",
       "2013-01-05   -0.097828\n",
       "2013-01-06   -0.295158\n",
       "Freq: D, dtype: float64"
      ]
     },
     "execution_count": 127,
     "metadata": {},
     "output_type": "execute_result"
    }
   ],
   "source": [
    "#along the other axis\n",
    "df.mean(1)"
   ]
  },
  {
   "cell_type": "markdown",
   "metadata": {},
   "source": [
    "### Applying functions to the data"
   ]
  },
  {
   "cell_type": "markdown",
   "metadata": {},
   "source": [
    "When using apply(), note the axis direction.   \n",
    "- for each column, apply down a row: axis=0  (default)\n",
    "- for each row, apply across columns: axis=1."
   ]
  },
  {
   "cell_type": "code",
   "execution_count": 128,
   "metadata": {
    "collapsed": false
   },
   "outputs": [
    {
     "name": "stdout",
     "output_type": "stream",
     "text": [
      "   A  B  C   D\n",
      "0  1  4  7  10\n",
      "1  2  5  8  11\n",
      "2  3  6  9  12\n",
      "   A   B   C   D\n",
      "0  1   4   7  10\n",
      "1  3   9  15  21\n",
      "2  6  15  24  33\n",
      "   A   B   C   D\n",
      "0  1   4   7  10\n",
      "1  3   9  15  21\n",
      "2  6  15  24  33\n",
      "   A  B   C   D\n",
      "0  1  5  12  22\n",
      "1  2  7  15  26\n",
      "2  3  9  18  30\n"
     ]
    }
   ],
   "source": [
    "df = makegridDF()\n",
    "print(df)\n",
    "print(df.apply(np.cumsum))\n",
    "print(df.apply(np.cumsum, axis=0))\n",
    "print(df.apply(np.cumsum, axis=1))"
   ]
  },
  {
   "cell_type": "code",
   "execution_count": 129,
   "metadata": {
    "collapsed": false
   },
   "outputs": [
    {
     "data": {
      "text/html": [
       "<div>\n",
       "<table border=\"1\" class=\"dataframe\">\n",
       "  <thead>\n",
       "    <tr style=\"text-align: right;\">\n",
       "      <th></th>\n",
       "      <th>A</th>\n",
       "      <th>B</th>\n",
       "      <th>C</th>\n",
       "      <th>D</th>\n",
       "    </tr>\n",
       "  </thead>\n",
       "  <tbody>\n",
       "    <tr>\n",
       "      <th>2013-01-01</th>\n",
       "      <td>0.618370</td>\n",
       "      <td>-0.423617</td>\n",
       "      <td>-0.541199</td>\n",
       "      <td>-1.572750</td>\n",
       "    </tr>\n",
       "    <tr>\n",
       "      <th>2013-01-02</th>\n",
       "      <td>-0.676881</td>\n",
       "      <td>0.075679</td>\n",
       "      <td>-0.595677</td>\n",
       "      <td>-0.585873</td>\n",
       "    </tr>\n",
       "    <tr>\n",
       "      <th>2013-01-03</th>\n",
       "      <td>-1.709334</td>\n",
       "      <td>-0.409412</td>\n",
       "      <td>-1.046787</td>\n",
       "      <td>-0.472664</td>\n",
       "    </tr>\n",
       "    <tr>\n",
       "      <th>2013-01-04</th>\n",
       "      <td>-2.731324</td>\n",
       "      <td>-0.045515</td>\n",
       "      <td>-2.696616</td>\n",
       "      <td>-0.684590</td>\n",
       "    </tr>\n",
       "    <tr>\n",
       "      <th>2013-01-05</th>\n",
       "      <td>-2.251957</td>\n",
       "      <td>0.107536</td>\n",
       "      <td>-3.013506</td>\n",
       "      <td>-1.343438</td>\n",
       "    </tr>\n",
       "    <tr>\n",
       "      <th>2013-01-06</th>\n",
       "      <td>-3.772258</td>\n",
       "      <td>0.303484</td>\n",
       "      <td>-3.643922</td>\n",
       "      <td>-2.812462</td>\n",
       "    </tr>\n",
       "  </tbody>\n",
       "</table>\n",
       "</div>"
      ],
      "text/plain": [
       "                   A         B         C         D\n",
       "2013-01-01  0.618370 -0.423617 -0.541199 -1.572750\n",
       "2013-01-02 -0.676881  0.075679 -0.595677 -0.585873\n",
       "2013-01-03 -1.709334 -0.409412 -1.046787 -0.472664\n",
       "2013-01-04 -2.731324 -0.045515 -2.696616 -0.684590\n",
       "2013-01-05 -2.251957  0.107536 -3.013506 -1.343438\n",
       "2013-01-06 -3.772258  0.303484 -3.643922 -2.812462"
      ]
     },
     "execution_count": 129,
     "metadata": {},
     "output_type": "execute_result"
    }
   ],
   "source": [
    "df = makeDateRand()\n",
    "df.apply(np.cumsum)"
   ]
  },
  {
   "cell_type": "code",
   "execution_count": 130,
   "metadata": {
    "collapsed": false
   },
   "outputs": [
    {
     "name": "stdout",
     "output_type": "stream",
     "text": [
      "                   A         B         C         D\n",
      "2013-01-01 -0.315241 -0.682223 -0.046181  0.270959\n",
      "2013-01-02 -1.180428 -0.448282  0.415925 -0.335168\n",
      "2013-01-03  1.391905  0.333268 -0.698979 -0.115700\n",
      "2013-01-04  1.015273  0.257449 -1.450276 -0.326653\n",
      "2013-01-05 -0.353249 -0.852639 -0.331521 -1.987590\n",
      "2013-01-06 -0.328612  0.296767 -1.613519 -1.193033\n"
     ]
    },
    {
     "data": {
      "text/plain": [
       "A    2.572332\n",
       "B    1.185907\n",
       "C    2.029444\n",
       "D    2.258549\n",
       "dtype: float64"
      ]
     },
     "execution_count": 130,
     "metadata": {},
     "output_type": "execute_result"
    }
   ],
   "source": [
    "df = makeDateRand()\n",
    "print(df)\n",
    "df.apply(lambda x: x.max() - x.min())"
   ]
  },
  {
   "cell_type": "code",
   "execution_count": 131,
   "metadata": {
    "collapsed": false
   },
   "outputs": [
    {
     "name": "stdout",
     "output_type": "stream",
     "text": [
      "        Date         A         B         C         D\n",
      "0 2013-01-01 -0.216329 -0.834429  0.221326 -0.796614\n",
      "1 2013-01-02 -0.809330 -0.570799 -0.916992 -0.366359\n",
      "2 2013-01-03 -0.937033  0.278828 -0.957030  0.339212\n",
      "3 2013-01-04 -0.994495 -1.378006  0.569727  2.903837\n",
      "4 2013-01-05 -0.762364  0.018585  0.801053 -1.320116\n",
      "5 2013-01-06 -0.377757  1.075624 -0.482395 -0.237085\n",
      "                  Date         A         B         C         D\n",
      "0  2013-01-01 00:00:00 -0.216329 -0.834429  0.221326 -0.796614\n",
      "1  2013-01-02 00:00:00 -0.809330 -0.570799 -0.916992 -0.366359\n",
      "2  2013-01-03 00:00:00 -0.937033  0.278828 -0.957030  0.339212\n",
      "3  2013-01-04 00:00:00 -0.994495 -1.378006  0.569727  2.903837\n",
      "4  2013-01-05 00:00:00 -0.762364  0.018585  0.801053 -1.320116\n",
      "5  2013-01-06 00:00:00 -0.377757  1.075624 -0.482395 -0.237085\n",
      "        Date         A         B         C         D\n",
      "0 2013-01-01 -0.216329 -0.834429  0.221326 -0.796614\n",
      "1 2013-01-02 -0.809330 -0.570799 -0.916992 -0.366359\n",
      "2 2013-01-03 -0.937033  0.278828 -0.957030  0.339212\n",
      "3 2013-01-04 -0.994495 -1.378006  0.569727  2.903837\n",
      "4 2013-01-05 -0.762364  0.018585  0.801053 -1.320116\n",
      "5 2013-01-06 -0.377757  1.075624 -0.482395 -0.237085\n",
      "                 Date         A         B         C         D\n",
      "Date                                                         \n",
      "2013-01-01 2013-01-01 -0.216329 -0.834429  0.221326 -0.796614\n",
      "2013-01-02 2013-01-02 -0.809330 -0.570799 -0.916992 -0.366359\n",
      "2013-01-03 2013-01-03 -0.937033  0.278828 -0.957030  0.339212\n",
      "2013-01-04 2013-01-04 -0.994495 -1.378006  0.569727  2.903837\n",
      "2013-01-05 2013-01-05 -0.762364  0.018585  0.801053 -1.320116\n",
      "2013-01-06 2013-01-06 -0.377757  1.075624 -0.482395 -0.237085\n"
     ]
    }
   ],
   "source": [
    "from datetime import datetime\n",
    "df = makeDateRand()\n",
    "df.index.name = 'Date'\n",
    "df.reset_index(level=0,inplace=True)\n",
    "print(df)\n",
    "#convert to string format\n",
    "df.Date = df.Date.apply(lambda d: ' '.join(d.isoformat().split('T')))\n",
    "print(df)\n",
    "#convert back to datetime format\n",
    "df.Date = df.Date.apply(lambda d: datetime.strptime(d, \"%Y-%m-%d %H:%M:%S\"))\n",
    "print(df)\n",
    "\n",
    "df.index = df.Date\n",
    "print(df)"
   ]
  },
  {
   "cell_type": "markdown",
   "metadata": {},
   "source": [
    "Applying a function using column data, but with extra parameters.  In the example below we use a value in a single DataFrame column 'IrradianceLux', together with extra parameters, to calculate a new row.\n",
    "\n",
    "http://stackoverflow.com/questions/21188504/python-pandas-apply-a-function-with-arguments-to-a-series-update"
   ]
  },
  {
   "cell_type": "code",
   "execution_count": 165,
   "metadata": {
    "collapsed": false
   },
   "outputs": [
    {
     "data": {
      "text/html": [
       "<div>\n",
       "<table border=\"1\" class=\"dataframe\">\n",
       "  <thead>\n",
       "    <tr style=\"text-align: right;\">\n",
       "      <th></th>\n",
       "      <th>Condition</th>\n",
       "      <th>IrradianceLux</th>\n",
       "      <th>1.4</th>\n",
       "      <th>2</th>\n",
       "      <th>2.74</th>\n",
       "      <th>3.8</th>\n",
       "      <th>5.4</th>\n",
       "      <th>7.5</th>\n",
       "    </tr>\n",
       "  </thead>\n",
       "  <tbody>\n",
       "    <tr>\n",
       "      <th>8</th>\n",
       "      <td>Overcastnight</td>\n",
       "      <td>0.0001</td>\n",
       "      <td>0.000002</td>\n",
       "      <td>8.437500e-07</td>\n",
       "      <td>4.495445e-07</td>\n",
       "      <td>2.337258e-07</td>\n",
       "      <td>1.157407e-07</td>\n",
       "      <td>6.000000e-08</td>\n",
       "    </tr>\n",
       "    <tr>\n",
       "      <th>2</th>\n",
       "      <td>Starlight</td>\n",
       "      <td>0.0011</td>\n",
       "      <td>0.000019</td>\n",
       "      <td>9.281250e-06</td>\n",
       "      <td>4.944989e-06</td>\n",
       "      <td>2.570983e-06</td>\n",
       "      <td>1.273148e-06</td>\n",
       "      <td>6.600000e-07</td>\n",
       "    </tr>\n",
       "    <tr>\n",
       "      <th>4</th>\n",
       "      <td>Quarter moon</td>\n",
       "      <td>0.0108</td>\n",
       "      <td>0.000186</td>\n",
       "      <td>9.112500e-05</td>\n",
       "      <td>4.855080e-05</td>\n",
       "      <td>2.524238e-05</td>\n",
       "      <td>1.250000e-05</td>\n",
       "      <td>6.480000e-06</td>\n",
       "    </tr>\n",
       "    <tr>\n",
       "      <th>6</th>\n",
       "      <td>Full moon</td>\n",
       "      <td>0.1080</td>\n",
       "      <td>0.001860</td>\n",
       "      <td>9.112500e-04</td>\n",
       "      <td>4.855080e-04</td>\n",
       "      <td>2.524238e-04</td>\n",
       "      <td>1.250000e-04</td>\n",
       "      <td>6.480000e-05</td>\n",
       "    </tr>\n",
       "    <tr>\n",
       "      <th>3</th>\n",
       "      <td>Deep twilight</td>\n",
       "      <td>1.0800</td>\n",
       "      <td>0.018597</td>\n",
       "      <td>9.112500e-03</td>\n",
       "      <td>4.855080e-03</td>\n",
       "      <td>2.524238e-03</td>\n",
       "      <td>1.250000e-03</td>\n",
       "      <td>6.480000e-04</td>\n",
       "    </tr>\n",
       "    <tr>\n",
       "      <th>7</th>\n",
       "      <td>Twilight</td>\n",
       "      <td>10.8000</td>\n",
       "      <td>0.185969</td>\n",
       "      <td>9.112500e-02</td>\n",
       "      <td>4.855080e-02</td>\n",
       "      <td>2.524238e-02</td>\n",
       "      <td>1.250000e-02</td>\n",
       "      <td>6.480000e-03</td>\n",
       "    </tr>\n",
       "    <tr>\n",
       "      <th>1</th>\n",
       "      <td>Very dark day</td>\n",
       "      <td>107.0000</td>\n",
       "      <td>1.842474</td>\n",
       "      <td>9.028125e-01</td>\n",
       "      <td>4.810126e-01</td>\n",
       "      <td>2.500866e-01</td>\n",
       "      <td>1.238426e-01</td>\n",
       "      <td>6.420000e-02</td>\n",
       "    </tr>\n",
       "    <tr>\n",
       "      <th>0</th>\n",
       "      <td>Overcast day</td>\n",
       "      <td>1075.0000</td>\n",
       "      <td>18.510842</td>\n",
       "      <td>9.070312e+00</td>\n",
       "      <td>4.832603e+00</td>\n",
       "      <td>2.512552e+00</td>\n",
       "      <td>1.244213e+00</td>\n",
       "      <td>6.450000e-01</td>\n",
       "    </tr>\n",
       "    <tr>\n",
       "      <th>5</th>\n",
       "      <td>Full daylight</td>\n",
       "      <td>10752.0000</td>\n",
       "      <td>185.142857</td>\n",
       "      <td>9.072000e+01</td>\n",
       "      <td>4.833502e+01</td>\n",
       "      <td>2.513019e+01</td>\n",
       "      <td>1.244444e+01</td>\n",
       "      <td>6.451200e+00</td>\n",
       "    </tr>\n",
       "    <tr>\n",
       "      <th>9</th>\n",
       "      <td>Sunlight</td>\n",
       "      <td>107527.0000</td>\n",
       "      <td>1851.549107</td>\n",
       "      <td>9.072591e+02</td>\n",
       "      <td>4.833817e+02</td>\n",
       "      <td>2.513183e+02</td>\n",
       "      <td>1.244525e+02</td>\n",
       "      <td>6.451620e+01</td>\n",
       "    </tr>\n",
       "  </tbody>\n",
       "</table>\n",
       "</div>"
      ],
      "text/plain": [
       "       Condition  IrradianceLux          1.4             2          2.74           3.8           5.4           7.5\n",
       "8  Overcastnight         0.0001     0.000002  8.437500e-07  4.495445e-07  2.337258e-07  1.157407e-07  6.000000e-08\n",
       "2      Starlight         0.0011     0.000019  9.281250e-06  4.944989e-06  2.570983e-06  1.273148e-06  6.600000e-07\n",
       "4   Quarter moon         0.0108     0.000186  9.112500e-05  4.855080e-05  2.524238e-05  1.250000e-05  6.480000e-06\n",
       "6      Full moon         0.1080     0.001860  9.112500e-04  4.855080e-04  2.524238e-04  1.250000e-04  6.480000e-05\n",
       "3  Deep twilight         1.0800     0.018597  9.112500e-03  4.855080e-03  2.524238e-03  1.250000e-03  6.480000e-04\n",
       "7       Twilight        10.8000     0.185969  9.112500e-02  4.855080e-02  2.524238e-02  1.250000e-02  6.480000e-03\n",
       "1  Very dark day       107.0000     1.842474  9.028125e-01  4.810126e-01  2.500866e-01  1.238426e-01  6.420000e-02\n",
       "0   Overcast day      1075.0000    18.510842  9.070312e+00  4.832603e+00  2.512552e+00  1.244213e+00  6.450000e-01\n",
       "5  Full daylight     10752.0000   185.142857  9.072000e+01  4.833502e+01  2.513019e+01  1.244444e+01  6.451200e+00\n",
       "9       Sunlight    107527.0000  1851.549107  9.072591e+02  4.833817e+02  2.513183e+02  1.244525e+02  6.451620e+01"
      ]
     },
     "execution_count": 165,
     "metadata": {},
     "output_type": "execute_result"
    }
   ],
   "source": [
    "import pandas as pd\n",
    "lx = {'Sunlight': 107527, \n",
    "      'Full daylight': 10752,\n",
    "      'Overcast day':1075,\n",
    "      'Very dark day':107,\n",
    "      'Twilight': 10.8,\n",
    "      'Deep twilight': 1.08,\n",
    "      'Full moon': 0.108,\n",
    "      'Quarter moon':0.0108,\n",
    "      'Starlight': 0.0011,\n",
    "      'Overcastnight':0.0001\n",
    "    }\n",
    "fnos = [1.4, 2, 2.74, 3.8, 5.4, 7.5\n",
    "       ]\n",
    "\n",
    "def calcIrrad(lx, rho, taua, tauo, fno):\n",
    "    return lx * rho * taua * tauo / (4 * fno ** 2)\n",
    "    \n",
    "df = pd.DataFrame(list(lx.items()), columns=['Condition','IrradianceLux'])\n",
    "\n",
    "rho = 0.3\n",
    "taua = 0.5\n",
    "tauo = 0.9\n",
    "for fno in fnos:\n",
    "    df['{}'.format(fno)] = df.IrradianceLux.apply(calcIrrad, args=(rho, taua, tauo, fno) )\n",
    "    \n",
    "df.sort_values(by='IrradianceLux')"
   ]
  },
  {
   "cell_type": "markdown",
   "metadata": {
    "collapsed": true
   },
   "source": [
    "Apply a function to existing columns to create a new column"
   ]
  },
  {
   "cell_type": "code",
   "execution_count": 133,
   "metadata": {
    "collapsed": false
   },
   "outputs": [
    {
     "data": {
      "text/html": [
       "<div>\n",
       "<table border=\"1\" class=\"dataframe\">\n",
       "  <thead>\n",
       "    <tr style=\"text-align: right;\">\n",
       "      <th></th>\n",
       "      <th>A</th>\n",
       "      <th>B</th>\n",
       "      <th>nocols</th>\n",
       "      <th>new_column</th>\n",
       "    </tr>\n",
       "  </thead>\n",
       "  <tbody>\n",
       "    <tr>\n",
       "      <th>0</th>\n",
       "      <td>10</td>\n",
       "      <td>20</td>\n",
       "      <td>20</td>\n",
       "      <td>200</td>\n",
       "    </tr>\n",
       "    <tr>\n",
       "      <th>1</th>\n",
       "      <td>20</td>\n",
       "      <td>30</td>\n",
       "      <td>20</td>\n",
       "      <td>600</td>\n",
       "    </tr>\n",
       "    <tr>\n",
       "      <th>2</th>\n",
       "      <td>30</td>\n",
       "      <td>10</td>\n",
       "      <td>20</td>\n",
       "      <td>300</td>\n",
       "    </tr>\n",
       "  </tbody>\n",
       "</table>\n",
       "</div>"
      ],
      "text/plain": [
       "    A   B  nocols  new_column\n",
       "0  10  20      20         200\n",
       "1  20  30      20         600\n",
       "2  30  10      20         300"
      ]
     },
     "execution_count": 133,
     "metadata": {},
     "output_type": "execute_result"
    }
   ],
   "source": [
    "def fx(x, y):\n",
    "    return x*y\n",
    "\n",
    "import numpy as np\n",
    "import pandas as pd\n",
    "df = pd.DataFrame({\"A\": [10,20,30], \"B\": [20, 30, 10]})\n",
    "df['nocols'] = np.vectorize(fx)(4, 5)\n",
    "df['new_column'] = np.vectorize(fx)(df['A'], df['B'])\n",
    "df"
   ]
  },
  {
   "cell_type": "markdown",
   "metadata": {},
   "source": [
    "Apply a named function on multiple columns and scalar arguments"
   ]
  },
  {
   "cell_type": "code",
   "execution_count": 134,
   "metadata": {
    "collapsed": false
   },
   "outputs": [
    {
     "data": {
      "text/html": [
       "<div>\n",
       "<table border=\"1\" class=\"dataframe\">\n",
       "  <thead>\n",
       "    <tr style=\"text-align: right;\">\n",
       "      <th></th>\n",
       "      <th>gene</th>\n",
       "      <th>count</th>\n",
       "      <th>gene_length</th>\n",
       "      <th>rpkm</th>\n",
       "    </tr>\n",
       "  </thead>\n",
       "  <tbody>\n",
       "    <tr>\n",
       "      <th>0</th>\n",
       "      <td>a</td>\n",
       "      <td>61</td>\n",
       "      <td>152</td>\n",
       "      <td>32508.366908</td>\n",
       "    </tr>\n",
       "    <tr>\n",
       "      <th>1</th>\n",
       "      <td>b</td>\n",
       "      <td>320</td>\n",
       "      <td>86</td>\n",
       "      <td>301411.926493</td>\n",
       "    </tr>\n",
       "    <tr>\n",
       "      <th>2</th>\n",
       "      <td>c</td>\n",
       "      <td>34</td>\n",
       "      <td>92</td>\n",
       "      <td>29936.429112</td>\n",
       "    </tr>\n",
       "    <tr>\n",
       "      <th>3</th>\n",
       "      <td>d</td>\n",
       "      <td>14</td>\n",
       "      <td>170</td>\n",
       "      <td>6670.955138</td>\n",
       "    </tr>\n",
       "    <tr>\n",
       "      <th>4</th>\n",
       "      <td>e</td>\n",
       "      <td>33</td>\n",
       "      <td>111</td>\n",
       "      <td>24082.405613</td>\n",
       "    </tr>\n",
       "  </tbody>\n",
       "</table>\n",
       "</div>"
      ],
      "text/plain": [
       "  gene  count  gene_length           rpkm\n",
       "0    a     61          152   32508.366908\n",
       "1    b    320           86  301411.926493\n",
       "2    c     34           92   29936.429112\n",
       "3    d     14          170    6670.955138\n",
       "4    e     33          111   24082.405613"
      ]
     },
     "execution_count": 134,
     "metadata": {},
     "output_type": "execute_result"
    }
   ],
   "source": [
    "import pandas as pd \n",
    "data = {'gene':['a','b','c','d','e'],\n",
    "        'count':[61,320,34,14,33],\n",
    "        'gene_length':[152,86,92,170,111]}\n",
    "df = pd.DataFrame(data)\n",
    "df = df[[\"gene\",\"count\",\"gene_length\"]]\n",
    "\n",
    "def calculate_RPKM(theC,theN, theL):\n",
    "    \"\"\"\n",
    "    theC  == Total reads mapped to a feature (gene/linc)\n",
    "    theL  == Length of feature (gene/linc)\n",
    "    theN  == Total reads mapped\n",
    "    \"\"\"\n",
    "    rpkm = ((10**9) * theC)/(theN * theL)\n",
    "    return rpkm\n",
    "N=12345\n",
    "df[\"rpkm\"] = calculate_RPKM(df['count'],N,df['gene_length'])\n",
    "df"
   ]
  },
  {
   "cell_type": "markdown",
   "metadata": {
    "collapsed": true
   },
   "source": [
    "Use apply to return multiple columns\n",
    "\n",
    "<http://stackoverflow.com/questions/16236684/apply-pandas-function-to-column-to-create-multiple-new-columns>"
   ]
  },
  {
   "cell_type": "code",
   "execution_count": 135,
   "metadata": {
    "collapsed": false
   },
   "outputs": [
    {
     "data": {
      "text/html": [
       "<div>\n",
       "<table border=\"1\" class=\"dataframe\">\n",
       "  <thead>\n",
       "    <tr style=\"text-align: right;\">\n",
       "      <th></th>\n",
       "      <th>textcol</th>\n",
       "      <th>feature1</th>\n",
       "      <th>feature2</th>\n",
       "    </tr>\n",
       "  </thead>\n",
       "  <tbody>\n",
       "    <tr>\n",
       "      <th>0</th>\n",
       "      <td>0.931221</td>\n",
       "      <td>1.931221</td>\n",
       "      <td>-0.068779</td>\n",
       "    </tr>\n",
       "    <tr>\n",
       "      <th>1</th>\n",
       "      <td>0.045474</td>\n",
       "      <td>1.045474</td>\n",
       "      <td>-0.954526</td>\n",
       "    </tr>\n",
       "    <tr>\n",
       "      <th>2</th>\n",
       "      <td>0.100294</td>\n",
       "      <td>1.100294</td>\n",
       "      <td>-0.899706</td>\n",
       "    </tr>\n",
       "    <tr>\n",
       "      <th>3</th>\n",
       "      <td>0.820350</td>\n",
       "      <td>1.820350</td>\n",
       "      <td>-0.179650</td>\n",
       "    </tr>\n",
       "    <tr>\n",
       "      <th>4</th>\n",
       "      <td>0.158150</td>\n",
       "      <td>1.158150</td>\n",
       "      <td>-0.841850</td>\n",
       "    </tr>\n",
       "  </tbody>\n",
       "</table>\n",
       "</div>"
      ],
      "text/plain": [
       "    textcol  feature1  feature2\n",
       "0  0.931221  1.931221 -0.068779\n",
       "1  0.045474  1.045474 -0.954526\n",
       "2  0.100294  1.100294 -0.899706\n",
       "3  0.820350  1.820350 -0.179650\n",
       "4  0.158150  1.158150 -0.841850"
      ]
     },
     "execution_count": 135,
     "metadata": {},
     "output_type": "execute_result"
    }
   ],
   "source": [
    "import pandas as pd\n",
    "import numpy as np\n",
    "df = pd.DataFrame({'textcol' : np.random.rand(5)})\n",
    "df.merge(df.textcol.apply(lambda s: pd.Series({'feature1':s+1, 'feature2':s-1})), \n",
    "    left_index=True, right_index=True)"
   ]
  },
  {
   "cell_type": "markdown",
   "metadata": {},
   "source": [
    "Return multiple columns, operating on a single column, with additional arguments"
   ]
  },
  {
   "cell_type": "code",
   "execution_count": 136,
   "metadata": {
    "collapsed": false
   },
   "outputs": [
    {
     "data": {
      "text/html": [
       "<div>\n",
       "<table border=\"1\" class=\"dataframe\">\n",
       "  <thead>\n",
       "    <tr style=\"text-align: right;\">\n",
       "      <th></th>\n",
       "      <th>textcol</th>\n",
       "      <th>feature1</th>\n",
       "      <th>feature2</th>\n",
       "    </tr>\n",
       "  </thead>\n",
       "  <tbody>\n",
       "    <tr>\n",
       "      <th>0</th>\n",
       "      <td>0.456581</td>\n",
       "      <td>2.456581</td>\n",
       "      <td>-4.543419</td>\n",
       "    </tr>\n",
       "    <tr>\n",
       "      <th>1</th>\n",
       "      <td>0.287369</td>\n",
       "      <td>2.287369</td>\n",
       "      <td>-4.712631</td>\n",
       "    </tr>\n",
       "    <tr>\n",
       "      <th>2</th>\n",
       "      <td>0.700055</td>\n",
       "      <td>2.700055</td>\n",
       "      <td>-4.299945</td>\n",
       "    </tr>\n",
       "    <tr>\n",
       "      <th>3</th>\n",
       "      <td>0.309049</td>\n",
       "      <td>2.309049</td>\n",
       "      <td>-4.690951</td>\n",
       "    </tr>\n",
       "    <tr>\n",
       "      <th>4</th>\n",
       "      <td>0.765542</td>\n",
       "      <td>2.765542</td>\n",
       "      <td>-4.234458</td>\n",
       "    </tr>\n",
       "  </tbody>\n",
       "</table>\n",
       "</div>"
      ],
      "text/plain": [
       "    textcol  feature1  feature2\n",
       "0  0.456581  2.456581 -4.543419\n",
       "1  0.287369  2.287369 -4.712631\n",
       "2  0.700055  2.700055 -4.299945\n",
       "3  0.309049  2.309049 -4.690951\n",
       "4  0.765542  2.765542 -4.234458"
      ]
     },
     "execution_count": 136,
     "metadata": {},
     "output_type": "execute_result"
    }
   ],
   "source": [
    "def myfunc(s,a1, a2):\n",
    "    return pd.Series({'feature1':s+a1, 'feature2':s+a2})\n",
    "    \n",
    "df = pd.DataFrame({'textcol' : np.random.rand(5)})\n",
    "df.merge(df.textcol.apply(myfunc,args=(+2, -5)), \n",
    "    left_index=True, right_index=True)    \n",
    "    "
   ]
  },
  {
   "cell_type": "markdown",
   "metadata": {},
   "source": [
    "The following example calculates the angle between two normal vectors, where the two vectors are given in separate tables. The common value whereby the two tables are joined is given in the 'Key' column in each of the tables."
   ]
  },
  {
   "cell_type": "code",
   "execution_count": 137,
   "metadata": {
    "collapsed": false
   },
   "outputs": [
    {
     "name": "stdout",
     "output_type": "stream",
     "text": [
      "   indexa Key        xa        ya       za  indexb        xb        yb        zb     angle\n",
      "0       0   a  1.000000  0.000000  0.00000       0  1.000000  0.000000  0.000000  1.570796\n",
      "1       1   b  1.000000  0.000000  0.00000       1  0.000000  1.000000  0.000000       NaN\n",
      "2       2   c  1.000000  0.000000  0.00000       2 -1.000000  0.000000  0.000000  1.257433\n",
      "3       3   d -0.815462  0.555211  0.16359       3 -0.815462  0.555211  0.163590  1.348806\n",
      "4       4   e -0.815462  0.555211  0.16359       4 -0.683709  0.396554  0.612607  1.443474\n"
     ]
    }
   ],
   "source": [
    "from numpy import linalg as LA\n",
    "\n",
    "def normCols(df, lst):\n",
    "    \"\"\"Normalise the columns in df, as listed in lst\"\"\"\n",
    "    #get the vector length\n",
    "    df['norm'] = (LA.norm(df[lst],axis=1))\n",
    "    #normalise cols in list and return\n",
    "    df[lst] = df[lst].divide(df['norm'], axis=0)\n",
    "    df.drop('norm',axis=1,inplace=True)\n",
    "    #value seems to be returned in the df parameter passed on the function call\n",
    "    return \n",
    "\n",
    "#create the data: [key, x, y, z]\n",
    "lstA = [['a',1,0,0],['b',1,0,0],['c', 1,0,0],['d',-4.164548,2.835452,0.835452],['e',-4.164548,2.835452,0.835452]]\n",
    "lstB = [['a',1,0,0],['b',0,1,0],['c',-1,0,0],['d',-4.164548,2.835452,0.835452],['e',-3.164548,1.835452,2.835452]]\n",
    "\n",
    "#make dataframes\n",
    "vec = ['x','y','z']\n",
    "cols = ['Key'] + vec\n",
    "dfA = pd.DataFrame(lstA,columns=cols)\n",
    "dfB = pd.DataFrame(lstB,columns=cols)\n",
    "\n",
    "#normalise vectors\n",
    "normCols(dfA, vec)\n",
    "normCols(dfB, vec)\n",
    "\n",
    "#join the two vectors on the Key column\n",
    "dfA.reset_index(inplace=True)\n",
    "dfB.reset_index(inplace=True)\n",
    "suffixes = ['a','b'] # used in labelling duplicate column names\n",
    "dfM = pd.merge(dfA, dfB, left_on=['Key'],right_on=['Key'], how='inner', suffixes=suffixes)  \n",
    "\n",
    "#calc angle between vectors\n",
    "va = ['xa','ya','za']\n",
    "vb = ['xb','yb','zb']\n",
    "# inner() calculates Va x Vb.T, on which the diagonal() is \n",
    "# the dot product of the respective rowA and rowB.T vectors\n",
    "dfM['angle'] = np.arccos(np.diagonal(np.inner(dfM[va],dfM[vb])))\n",
    "\n",
    "print(dfM)"
   ]
  },
  {
   "cell_type": "code",
   "execution_count": 138,
   "metadata": {
    "collapsed": false
   },
   "outputs": [
    {
     "name": "stdout",
     "output_type": "stream",
     "text": [
      "[[1 2]\n",
      " [3 4]]\n",
      "[[11 13]\n",
      " [12 14]]\n",
      "[[35 41]\n",
      " [81 95]]\n"
     ]
    }
   ],
   "source": [
    "a=np.array([[1,2],[3,4]])\n",
    "b=np.array([[11,12],[13,14]])\n",
    "print(a)\n",
    "print(b.T)\n",
    "# print(np.dot(a,b))\n",
    "print(np.inner(a,b))\n"
   ]
  },
  {
   "cell_type": "markdown",
   "metadata": {},
   "source": [
    "### Histograms\n",
    "\n",
    "[Histogramming and Discretization](http://pandas.pydata.org/pandas-docs/version/0.15.2/basics.html#basics-discretization)"
   ]
  },
  {
   "cell_type": "code",
   "execution_count": 139,
   "metadata": {
    "collapsed": false
   },
   "outputs": [
    {
     "data": {
      "text/plain": [
       "4    4\n",
       "5    2\n",
       "3    2\n",
       "6    1\n",
       "2    1\n",
       "dtype: int64"
      ]
     },
     "execution_count": 139,
     "metadata": {},
     "output_type": "execute_result"
    }
   ],
   "source": [
    "s = pd.Series(np.random.randint(0,7,size=10))\n",
    "s.value_counts()"
   ]
  },
  {
   "cell_type": "markdown",
   "metadata": {},
   "source": [
    "### Strings\n",
    "Series is equipped with a set of string processing methods in the str attribute that make it easy to operate on each element of the array, as in the code snippet below. Note that pattern-matching in str generally uses [regular expressions](https://docs.python.org/2/library/re.html) by default (and in some cases always uses them). See more at [Vectorized String Methods](http://pandas.pydata.org/pandas-docs/version/0.15.2/text.html#text-string-methods)."
   ]
  },
  {
   "cell_type": "code",
   "execution_count": 140,
   "metadata": {
    "collapsed": false
   },
   "outputs": [
    {
     "data": {
      "text/plain": [
       "0     1\n",
       "1     1\n",
       "2     1\n",
       "3     4\n",
       "4     4\n",
       "5   NaN\n",
       "6     4\n",
       "7     3\n",
       "8     3\n",
       "dtype: float64"
      ]
     },
     "execution_count": 140,
     "metadata": {},
     "output_type": "execute_result"
    }
   ],
   "source": [
    "s = pd.Series(['A', 'B', 'C', 'Aaba', 'Baca', np.nan, 'CABA', 'dog', 'cat'])\n",
    "s.str.lower()\n",
    "s.str.upper()\n",
    "s.str.len()"
   ]
  },
  {
   "cell_type": "code",
   "execution_count": 141,
   "metadata": {
    "collapsed": false
   },
   "outputs": [
    {
     "data": {
      "text/plain": [
       "0    [a, b, c]\n",
       "1    [c, d, e]\n",
       "2          NaN\n",
       "3    [f, g, h]\n",
       "dtype: object"
      ]
     },
     "execution_count": 141,
     "metadata": {},
     "output_type": "execute_result"
    }
   ],
   "source": [
    "# Methods like split return a Series of lists:\n",
    "s2 = pd.Series(['a_b_c', 'c_d_e', np.nan, 'f_g_h'])\n",
    "s2.str.split('_')"
   ]
  },
  {
   "cell_type": "code",
   "execution_count": 142,
   "metadata": {
    "collapsed": false
   },
   "outputs": [
    {
     "data": {
      "text/plain": [
       "0      b\n",
       "1      d\n",
       "2    NaN\n",
       "3      g\n",
       "dtype: object"
      ]
     },
     "execution_count": 142,
     "metadata": {},
     "output_type": "execute_result"
    }
   ],
   "source": [
    "s2.str.split('_').str[1]"
   ]
  },
  {
   "cell_type": "code",
   "execution_count": 143,
   "metadata": {
    "collapsed": false
   },
   "outputs": [
    {
     "data": {
      "text/plain": [
       "0    NaN\n",
       "1    NaN\n",
       "2    NaN\n",
       "3      a\n",
       "4      a\n",
       "5    NaN\n",
       "6      A\n",
       "7      o\n",
       "8      a\n",
       "dtype: object"
      ]
     },
     "execution_count": 143,
     "metadata": {},
     "output_type": "execute_result"
    }
   ],
   "source": [
    "s = pd.Series(['A', 'B', 'C', 'Aaba', 'Baca', np.nan,'CABA', 'dog', 'cat'])\n",
    "s.str[1]"
   ]
  },
  {
   "cell_type": "markdown",
   "metadata": {},
   "source": [
    "You can use [] notation to directly index by position locations. If you index past the end of the string, the result will be a NaN."
   ]
  },
  {
   "cell_type": "code",
   "execution_count": 144,
   "metadata": {
    "collapsed": false
   },
   "outputs": [
    {
     "data": {
      "text/html": [
       "<div>\n",
       "<table border=\"1\" class=\"dataframe\">\n",
       "  <thead>\n",
       "    <tr style=\"text-align: right;\">\n",
       "      <th></th>\n",
       "      <th>0</th>\n",
       "      <th>1</th>\n",
       "      <th>2</th>\n",
       "    </tr>\n",
       "  </thead>\n",
       "  <tbody>\n",
       "    <tr>\n",
       "      <th>0</th>\n",
       "      <td>a</td>\n",
       "      <td>b</td>\n",
       "      <td>c</td>\n",
       "    </tr>\n",
       "    <tr>\n",
       "      <th>1</th>\n",
       "      <td>c</td>\n",
       "      <td>d</td>\n",
       "      <td>e</td>\n",
       "    </tr>\n",
       "    <tr>\n",
       "      <th>2</th>\n",
       "      <td>NaN</td>\n",
       "      <td>NaN</td>\n",
       "      <td>NaN</td>\n",
       "    </tr>\n",
       "    <tr>\n",
       "      <th>3</th>\n",
       "      <td>f</td>\n",
       "      <td>g</td>\n",
       "      <td>h</td>\n",
       "    </tr>\n",
       "  </tbody>\n",
       "</table>\n",
       "</div>"
      ],
      "text/plain": [
       "     0    1    2\n",
       "0    a    b    c\n",
       "1    c    d    e\n",
       "2  NaN  NaN  NaN\n",
       "3    f    g    h"
      ]
     },
     "execution_count": 144,
     "metadata": {},
     "output_type": "execute_result"
    }
   ],
   "source": [
    "# Easy to expand this to return a DataFrame\n",
    "s2.str.split('_').apply(pd.Series)"
   ]
  },
  {
   "cell_type": "markdown",
   "metadata": {},
   "source": [
    "Methods like replace and findall take regular expressions, too:"
   ]
  },
  {
   "cell_type": "code",
   "execution_count": 145,
   "metadata": {
    "collapsed": false
   },
   "outputs": [
    {
     "data": {
      "text/plain": [
       "0           A\n",
       "1           B\n",
       "2           C\n",
       "3    XX-XX ba\n",
       "4    XX-XX ca\n",
       "5            \n",
       "6         NaN\n",
       "7    XX-XX BA\n",
       "8      XX-XX \n",
       "9     XX-XX t\n",
       "dtype: object"
      ]
     },
     "execution_count": 145,
     "metadata": {},
     "output_type": "execute_result"
    }
   ],
   "source": [
    "s3 = pd.Series(['A', 'B', 'C', 'Aaba', 'Baca','', np.nan, 'CABA', 'dog', 'cat'])\n",
    "s3.str.replace('^.a|dog', 'XX-XX ', case=False)"
   ]
  },
  {
   "cell_type": "markdown",
   "metadata": {},
   "source": [
    "### Grouping\n",
    "By “group by” we are referring to a process involving one or more of the following steps  \n",
    "\n",
    "- Splitting the data into groups based on some criteria  \n",
    "- Applying a function to each group independently    \n",
    "- Combining the results into a data structure   \n",
    "\n",
    "[grouping](http://pandas.pydata.org/pandas-docs/version/0.15.2/groupby.html#groupby)"
   ]
  },
  {
   "cell_type": "code",
   "execution_count": 146,
   "metadata": {
    "collapsed": false
   },
   "outputs": [
    {
     "data": {
      "text/html": [
       "<div>\n",
       "<table border=\"1\" class=\"dataframe\">\n",
       "  <thead>\n",
       "    <tr style=\"text-align: right;\">\n",
       "      <th></th>\n",
       "      <th>A</th>\n",
       "      <th>B</th>\n",
       "      <th>C</th>\n",
       "      <th>D</th>\n",
       "    </tr>\n",
       "  </thead>\n",
       "  <tbody>\n",
       "    <tr>\n",
       "      <th>0</th>\n",
       "      <td>foo</td>\n",
       "      <td>one</td>\n",
       "      <td>-1.233025</td>\n",
       "      <td>0.003326</td>\n",
       "    </tr>\n",
       "    <tr>\n",
       "      <th>1</th>\n",
       "      <td>bar</td>\n",
       "      <td>one</td>\n",
       "      <td>0.205756</td>\n",
       "      <td>0.515258</td>\n",
       "    </tr>\n",
       "    <tr>\n",
       "      <th>2</th>\n",
       "      <td>foo</td>\n",
       "      <td>two</td>\n",
       "      <td>0.128118</td>\n",
       "      <td>-1.034466</td>\n",
       "    </tr>\n",
       "    <tr>\n",
       "      <th>3</th>\n",
       "      <td>bar</td>\n",
       "      <td>three</td>\n",
       "      <td>-0.972779</td>\n",
       "      <td>0.937287</td>\n",
       "    </tr>\n",
       "    <tr>\n",
       "      <th>4</th>\n",
       "      <td>foo</td>\n",
       "      <td>two</td>\n",
       "      <td>1.147626</td>\n",
       "      <td>0.435070</td>\n",
       "    </tr>\n",
       "    <tr>\n",
       "      <th>5</th>\n",
       "      <td>bar</td>\n",
       "      <td>two</td>\n",
       "      <td>-1.348297</td>\n",
       "      <td>1.007372</td>\n",
       "    </tr>\n",
       "    <tr>\n",
       "      <th>6</th>\n",
       "      <td>foo</td>\n",
       "      <td>one</td>\n",
       "      <td>1.431263</td>\n",
       "      <td>0.685638</td>\n",
       "    </tr>\n",
       "    <tr>\n",
       "      <th>7</th>\n",
       "      <td>foo</td>\n",
       "      <td>three</td>\n",
       "      <td>-0.155294</td>\n",
       "      <td>0.539748</td>\n",
       "    </tr>\n",
       "  </tbody>\n",
       "</table>\n",
       "</div>"
      ],
      "text/plain": [
       "     A      B         C         D\n",
       "0  foo    one -1.233025  0.003326\n",
       "1  bar    one  0.205756  0.515258\n",
       "2  foo    two  0.128118 -1.034466\n",
       "3  bar  three -0.972779  0.937287\n",
       "4  foo    two  1.147626  0.435070\n",
       "5  bar    two -1.348297  1.007372\n",
       "6  foo    one  1.431263  0.685638\n",
       "7  foo  three -0.155294  0.539748"
      ]
     },
     "execution_count": 146,
     "metadata": {},
     "output_type": "execute_result"
    }
   ],
   "source": [
    "df = makefoobar()\n",
    "df"
   ]
  },
  {
   "cell_type": "markdown",
   "metadata": {},
   "source": [
    "Grouping and then applying a function sum to the resulting groups."
   ]
  },
  {
   "cell_type": "code",
   "execution_count": 147,
   "metadata": {
    "collapsed": false
   },
   "outputs": [
    {
     "data": {
      "text/html": [
       "<div>\n",
       "<table border=\"1\" class=\"dataframe\">\n",
       "  <thead>\n",
       "    <tr style=\"text-align: right;\">\n",
       "      <th></th>\n",
       "      <th>C</th>\n",
       "      <th>D</th>\n",
       "    </tr>\n",
       "    <tr>\n",
       "      <th>A</th>\n",
       "      <th></th>\n",
       "      <th></th>\n",
       "    </tr>\n",
       "  </thead>\n",
       "  <tbody>\n",
       "    <tr>\n",
       "      <th>bar</th>\n",
       "      <td>-2.115320</td>\n",
       "      <td>2.459917</td>\n",
       "    </tr>\n",
       "    <tr>\n",
       "      <th>foo</th>\n",
       "      <td>1.318688</td>\n",
       "      <td>0.629315</td>\n",
       "    </tr>\n",
       "  </tbody>\n",
       "</table>\n",
       "</div>"
      ],
      "text/plain": [
       "            C         D\n",
       "A                      \n",
       "bar -2.115320  2.459917\n",
       "foo  1.318688  0.629315"
      ]
     },
     "execution_count": 147,
     "metadata": {},
     "output_type": "execute_result"
    }
   ],
   "source": [
    "df.groupby('A').sum()"
   ]
  },
  {
   "cell_type": "code",
   "execution_count": 148,
   "metadata": {
    "collapsed": false
   },
   "outputs": [
    {
     "data": {
      "text/html": [
       "<div>\n",
       "<table border=\"1\" class=\"dataframe\">\n",
       "  <thead>\n",
       "    <tr style=\"text-align: right;\">\n",
       "      <th></th>\n",
       "      <th></th>\n",
       "      <th>C</th>\n",
       "      <th>D</th>\n",
       "    </tr>\n",
       "    <tr>\n",
       "      <th>A</th>\n",
       "      <th>B</th>\n",
       "      <th></th>\n",
       "      <th></th>\n",
       "    </tr>\n",
       "  </thead>\n",
       "  <tbody>\n",
       "    <tr>\n",
       "      <th rowspan=\"3\" valign=\"top\">bar</th>\n",
       "      <th>one</th>\n",
       "      <td>0.205756</td>\n",
       "      <td>0.515258</td>\n",
       "    </tr>\n",
       "    <tr>\n",
       "      <th>three</th>\n",
       "      <td>-0.972779</td>\n",
       "      <td>0.937287</td>\n",
       "    </tr>\n",
       "    <tr>\n",
       "      <th>two</th>\n",
       "      <td>-1.348297</td>\n",
       "      <td>1.007372</td>\n",
       "    </tr>\n",
       "    <tr>\n",
       "      <th rowspan=\"3\" valign=\"top\">foo</th>\n",
       "      <th>one</th>\n",
       "      <td>0.198238</td>\n",
       "      <td>0.688964</td>\n",
       "    </tr>\n",
       "    <tr>\n",
       "      <th>three</th>\n",
       "      <td>-0.155294</td>\n",
       "      <td>0.539748</td>\n",
       "    </tr>\n",
       "    <tr>\n",
       "      <th>two</th>\n",
       "      <td>1.275744</td>\n",
       "      <td>-0.599396</td>\n",
       "    </tr>\n",
       "  </tbody>\n",
       "</table>\n",
       "</div>"
      ],
      "text/plain": [
       "                  C         D\n",
       "A   B                        \n",
       "bar one    0.205756  0.515258\n",
       "    three -0.972779  0.937287\n",
       "    two   -1.348297  1.007372\n",
       "foo one    0.198238  0.688964\n",
       "    three -0.155294  0.539748\n",
       "    two    1.275744 -0.599396"
      ]
     },
     "execution_count": 148,
     "metadata": {},
     "output_type": "execute_result"
    }
   ],
   "source": [
    "df.groupby(['A','B']).sum()"
   ]
  },
  {
   "cell_type": "code",
   "execution_count": 149,
   "metadata": {
    "collapsed": false
   },
   "outputs": [
    {
     "name": "stdout",
     "output_type": "stream",
     "text": [
      "     A      B         C         D\n",
      "0  foo    one -0.517022  0.473180\n",
      "1  bar    one  1.032362 -1.285071\n",
      "2  foo    two -0.125772 -1.262822\n",
      "3  bar  three -0.538616 -0.246388\n",
      "4  foo    two -0.486880  0.760793\n",
      "5  bar    two  0.649850 -1.806221\n",
      "6  foo    one  0.218858 -0.446472\n",
      "7  foo  three -0.629262 -0.480170\n"
     ]
    },
    {
     "data": {
      "text/plain": [
       "{'one': 0.24473282517804754,\n",
       " 'three': -0.583938653661751,\n",
       " 'two': 0.012399468592908192}"
      ]
     },
     "execution_count": 149,
     "metadata": {},
     "output_type": "execute_result"
    }
   ],
   "source": [
    "df = makefoobar()\n",
    "print(df)\n",
    "cnts = {}\n",
    "#first value is group column value, seond value is the members in the group\n",
    "for grp, grp_data in df.groupby(\"B\"):\n",
    "    cnts[grp] = grp_data.C.mean()  \n",
    "cnts"
   ]
  },
  {
   "cell_type": "markdown",
   "metadata": {},
   "source": [
    "### Reshaping\n",
    "\n",
    "[Hierarchical Indexing](http://pandas.pydata.org/pandas-docs/version/0.15.2/advanced.html#advanced-hierarchical) and [Reshaping](http://pandas.pydata.org/pandas-docs/version/0.15.2/reshaping.html#reshaping-stacking)."
   ]
  },
  {
   "cell_type": "code",
   "execution_count": 150,
   "metadata": {
    "collapsed": false
   },
   "outputs": [
    {
     "name": "stdout",
     "output_type": "stream",
     "text": [
      "[('bar', 'one'), ('bar', 'two'), ('baz', 'one'), ('baz', 'two'), ('foo', 'one'), ('foo', 'two'), ('qux', 'one'), ('qux', 'two')]\n"
     ]
    },
    {
     "data": {
      "text/html": [
       "<div>\n",
       "<table border=\"1\" class=\"dataframe\">\n",
       "  <thead>\n",
       "    <tr style=\"text-align: right;\">\n",
       "      <th></th>\n",
       "      <th></th>\n",
       "      <th>A</th>\n",
       "      <th>B</th>\n",
       "    </tr>\n",
       "    <tr>\n",
       "      <th>first</th>\n",
       "      <th>second</th>\n",
       "      <th></th>\n",
       "      <th></th>\n",
       "    </tr>\n",
       "  </thead>\n",
       "  <tbody>\n",
       "    <tr>\n",
       "      <th rowspan=\"2\" valign=\"top\">bar</th>\n",
       "      <th>one</th>\n",
       "      <td>-0.120427</td>\n",
       "      <td>1.174790</td>\n",
       "    </tr>\n",
       "    <tr>\n",
       "      <th>two</th>\n",
       "      <td>-0.954820</td>\n",
       "      <td>-1.313270</td>\n",
       "    </tr>\n",
       "    <tr>\n",
       "      <th rowspan=\"2\" valign=\"top\">baz</th>\n",
       "      <th>one</th>\n",
       "      <td>0.739900</td>\n",
       "      <td>-0.639821</td>\n",
       "    </tr>\n",
       "    <tr>\n",
       "      <th>two</th>\n",
       "      <td>-0.233892</td>\n",
       "      <td>0.908707</td>\n",
       "    </tr>\n",
       "  </tbody>\n",
       "</table>\n",
       "</div>"
      ],
      "text/plain": [
       "                     A         B\n",
       "first second                    \n",
       "bar   one    -0.120427  1.174790\n",
       "      two    -0.954820 -1.313270\n",
       "baz   one     0.739900 -0.639821\n",
       "      two    -0.233892  0.908707"
      ]
     },
     "execution_count": 150,
     "metadata": {},
     "output_type": "execute_result"
    }
   ],
   "source": [
    "tuples = list(zip(*[['bar', 'bar', 'baz', 'baz',\n",
    "                    'foo', 'foo', 'qux', 'qux'],\n",
    "                    ['one', 'two', 'one', 'two',\n",
    "                    'one', 'two', 'one', 'two']]))\n",
    "print(tuples)\n",
    "index = pd.MultiIndex.from_tuples(tuples, names=['first', 'second'])\n",
    "df = pd.DataFrame(np.random.randn(8, 2), index=index, columns=['A', 'B'])\n",
    "df2 = df[:4]\n",
    "df2"
   ]
  },
  {
   "cell_type": "markdown",
   "metadata": {},
   "source": [
    "The stack function “compresses” a level in the DataFrame’s columns."
   ]
  },
  {
   "cell_type": "code",
   "execution_count": 151,
   "metadata": {
    "collapsed": false
   },
   "outputs": [
    {
     "data": {
      "text/plain": [
       "first  second   \n",
       "bar    one     A   -0.120427\n",
       "               B    1.174790\n",
       "       two     A   -0.954820\n",
       "               B   -1.313270\n",
       "baz    one     A    0.739900\n",
       "               B   -0.639821\n",
       "       two     A   -0.233892\n",
       "               B    0.908707\n",
       "dtype: float64"
      ]
     },
     "execution_count": 151,
     "metadata": {},
     "output_type": "execute_result"
    }
   ],
   "source": [
    "stacked = df2.stack()\n",
    "stacked"
   ]
  },
  {
   "cell_type": "markdown",
   "metadata": {},
   "source": [
    "With a “stacked” DataFrame or Series (having a MultiIndex as the index), the inverse operation of stack is unstack, which by default unstacks the last level:"
   ]
  },
  {
   "cell_type": "code",
   "execution_count": 152,
   "metadata": {
    "collapsed": false
   },
   "outputs": [
    {
     "data": {
      "text/html": [
       "<div>\n",
       "<table border=\"1\" class=\"dataframe\">\n",
       "  <thead>\n",
       "    <tr style=\"text-align: right;\">\n",
       "      <th></th>\n",
       "      <th></th>\n",
       "      <th>A</th>\n",
       "      <th>B</th>\n",
       "    </tr>\n",
       "    <tr>\n",
       "      <th>first</th>\n",
       "      <th>second</th>\n",
       "      <th></th>\n",
       "      <th></th>\n",
       "    </tr>\n",
       "  </thead>\n",
       "  <tbody>\n",
       "    <tr>\n",
       "      <th rowspan=\"2\" valign=\"top\">bar</th>\n",
       "      <th>one</th>\n",
       "      <td>-0.120427</td>\n",
       "      <td>1.174790</td>\n",
       "    </tr>\n",
       "    <tr>\n",
       "      <th>two</th>\n",
       "      <td>-0.954820</td>\n",
       "      <td>-1.313270</td>\n",
       "    </tr>\n",
       "    <tr>\n",
       "      <th rowspan=\"2\" valign=\"top\">baz</th>\n",
       "      <th>one</th>\n",
       "      <td>0.739900</td>\n",
       "      <td>-0.639821</td>\n",
       "    </tr>\n",
       "    <tr>\n",
       "      <th>two</th>\n",
       "      <td>-0.233892</td>\n",
       "      <td>0.908707</td>\n",
       "    </tr>\n",
       "  </tbody>\n",
       "</table>\n",
       "</div>"
      ],
      "text/plain": [
       "                     A         B\n",
       "first second                    \n",
       "bar   one    -0.120427  1.174790\n",
       "      two    -0.954820 -1.313270\n",
       "baz   one     0.739900 -0.639821\n",
       "      two    -0.233892  0.908707"
      ]
     },
     "execution_count": 152,
     "metadata": {},
     "output_type": "execute_result"
    }
   ],
   "source": [
    "stacked.unstack()"
   ]
  },
  {
   "cell_type": "code",
   "execution_count": 153,
   "metadata": {
    "collapsed": false
   },
   "outputs": [
    {
     "data": {
      "text/html": [
       "<div>\n",
       "<table border=\"1\" class=\"dataframe\">\n",
       "  <thead>\n",
       "    <tr style=\"text-align: right;\">\n",
       "      <th></th>\n",
       "      <th>second</th>\n",
       "      <th>one</th>\n",
       "      <th>two</th>\n",
       "    </tr>\n",
       "    <tr>\n",
       "      <th>first</th>\n",
       "      <th></th>\n",
       "      <th></th>\n",
       "      <th></th>\n",
       "    </tr>\n",
       "  </thead>\n",
       "  <tbody>\n",
       "    <tr>\n",
       "      <th rowspan=\"2\" valign=\"top\">bar</th>\n",
       "      <th>A</th>\n",
       "      <td>-0.120427</td>\n",
       "      <td>-0.954820</td>\n",
       "    </tr>\n",
       "    <tr>\n",
       "      <th>B</th>\n",
       "      <td>1.174790</td>\n",
       "      <td>-1.313270</td>\n",
       "    </tr>\n",
       "    <tr>\n",
       "      <th rowspan=\"2\" valign=\"top\">baz</th>\n",
       "      <th>A</th>\n",
       "      <td>0.739900</td>\n",
       "      <td>-0.233892</td>\n",
       "    </tr>\n",
       "    <tr>\n",
       "      <th>B</th>\n",
       "      <td>-0.639821</td>\n",
       "      <td>0.908707</td>\n",
       "    </tr>\n",
       "  </tbody>\n",
       "</table>\n",
       "</div>"
      ],
      "text/plain": [
       "second        one       two\n",
       "first                      \n",
       "bar   A -0.120427 -0.954820\n",
       "      B  1.174790 -1.313270\n",
       "baz   A  0.739900 -0.233892\n",
       "      B -0.639821  0.908707"
      ]
     },
     "execution_count": 153,
     "metadata": {},
     "output_type": "execute_result"
    }
   ],
   "source": [
    "stacked.unstack(1)"
   ]
  },
  {
   "cell_type": "code",
   "execution_count": 154,
   "metadata": {
    "collapsed": false
   },
   "outputs": [
    {
     "data": {
      "text/html": [
       "<div>\n",
       "<table border=\"1\" class=\"dataframe\">\n",
       "  <thead>\n",
       "    <tr style=\"text-align: right;\">\n",
       "      <th></th>\n",
       "      <th>first</th>\n",
       "      <th>bar</th>\n",
       "      <th>baz</th>\n",
       "    </tr>\n",
       "    <tr>\n",
       "      <th>second</th>\n",
       "      <th></th>\n",
       "      <th></th>\n",
       "      <th></th>\n",
       "    </tr>\n",
       "  </thead>\n",
       "  <tbody>\n",
       "    <tr>\n",
       "      <th rowspan=\"2\" valign=\"top\">one</th>\n",
       "      <th>A</th>\n",
       "      <td>-0.120427</td>\n",
       "      <td>0.739900</td>\n",
       "    </tr>\n",
       "    <tr>\n",
       "      <th>B</th>\n",
       "      <td>1.174790</td>\n",
       "      <td>-0.639821</td>\n",
       "    </tr>\n",
       "    <tr>\n",
       "      <th rowspan=\"2\" valign=\"top\">two</th>\n",
       "      <th>A</th>\n",
       "      <td>-0.954820</td>\n",
       "      <td>-0.233892</td>\n",
       "    </tr>\n",
       "    <tr>\n",
       "      <th>B</th>\n",
       "      <td>-1.313270</td>\n",
       "      <td>0.908707</td>\n",
       "    </tr>\n",
       "  </tbody>\n",
       "</table>\n",
       "</div>"
      ],
      "text/plain": [
       "first          bar       baz\n",
       "second                      \n",
       "one    A -0.120427  0.739900\n",
       "       B  1.174790 -0.639821\n",
       "two    A -0.954820 -0.233892\n",
       "       B -1.313270  0.908707"
      ]
     },
     "execution_count": 154,
     "metadata": {},
     "output_type": "execute_result"
    }
   ],
   "source": [
    "stacked.unstack(0)"
   ]
  },
  {
   "cell_type": "markdown",
   "metadata": {},
   "source": [
    "## Categoricals\n",
    "see the [categorical introduction](http://pandas.pydata.org/pandas-docs/version/0.15.2/categorical.html#categorical) and the [API documentation](http://pandas.pydata.org/pandas-docs/version/0.15.2/api.html#api-categorical)."
   ]
  },
  {
   "cell_type": "code",
   "execution_count": 155,
   "metadata": {
    "collapsed": false
   },
   "outputs": [
    {
     "data": {
      "text/plain": [
       "0    a\n",
       "1    b\n",
       "2    b\n",
       "3    a\n",
       "4    a\n",
       "5    e\n",
       "Name: grade, dtype: category\n",
       "Categories (3, object): [a, b, e]"
      ]
     },
     "execution_count": 155,
     "metadata": {},
     "output_type": "execute_result"
    }
   ],
   "source": [
    "df = pd.DataFrame({\"id\":[1,2,3,4,5,6], \"raw_grade\":['a', 'b', 'b', 'a', 'a', 'e']})\n",
    "# Convert the raw grades to a categorical data type.\n",
    "df[\"grade\"] = df[\"raw_grade\"].astype(\"category\")\n",
    "df[\"grade\"]"
   ]
  },
  {
   "cell_type": "markdown",
   "metadata": {},
   "source": [
    "Rename the categories to more meaningful names (assigning to Series.cat.categories is in place!) Reorder the categories and simultaneously add the missing categories (methods under Series .cat return a new Series per default)."
   ]
  },
  {
   "cell_type": "code",
   "execution_count": 156,
   "metadata": {
    "collapsed": false
   },
   "outputs": [
    {
     "data": {
      "text/plain": [
       "0    very good\n",
       "1         good\n",
       "2         good\n",
       "3    very good\n",
       "4    very good\n",
       "5     very bad\n",
       "Name: grade, dtype: category\n",
       "Categories (5, object): [very bad, bad, medium, good, very good]"
      ]
     },
     "execution_count": 156,
     "metadata": {},
     "output_type": "execute_result"
    }
   ],
   "source": [
    "df[\"grade\"].cat.categories = [\"very good\", \"good\", \"very bad\"]\n",
    "df[\"grade\"] = df[\"grade\"].cat.set_categories([\"very bad\", \"bad\", \"medium\", \"good\", \"very good\"])\n",
    "df[\"grade\"]"
   ]
  },
  {
   "cell_type": "code",
   "execution_count": 174,
   "metadata": {
    "collapsed": false
   },
   "outputs": [],
   "source": [
    "# Sorting is per order in the categories, not lexical order.\n",
    "# df.sort_values(by=\"grade\")"
   ]
  },
  {
   "cell_type": "code",
   "execution_count": 176,
   "metadata": {
    "collapsed": false
   },
   "outputs": [],
   "source": [
    "# Grouping by a categorical column shows also empty categories.\n",
    "# df.groupby(\"grade\").size()"
   ]
  },
  {
   "cell_type": "markdown",
   "metadata": {},
   "source": [
    "## Pivot tables\n",
    "See the section on [Pivot Tables](http://pandas.pydata.org/pandas-docs/version/0.15.2/reshaping.html#reshaping-pivot)."
   ]
  },
  {
   "cell_type": "code",
   "execution_count": 177,
   "metadata": {
    "collapsed": false
   },
   "outputs": [
    {
     "data": {
      "text/html": [
       "<div>\n",
       "<table border=\"1\" class=\"dataframe\">\n",
       "  <thead>\n",
       "    <tr style=\"text-align: right;\">\n",
       "      <th></th>\n",
       "      <th>A</th>\n",
       "      <th>B</th>\n",
       "      <th>C</th>\n",
       "      <th>D</th>\n",
       "      <th>E</th>\n",
       "    </tr>\n",
       "  </thead>\n",
       "  <tbody>\n",
       "    <tr>\n",
       "      <th>0</th>\n",
       "      <td>one</td>\n",
       "      <td>A</td>\n",
       "      <td>foo</td>\n",
       "      <td>-0.235598</td>\n",
       "      <td>-1.035348</td>\n",
       "    </tr>\n",
       "    <tr>\n",
       "      <th>1</th>\n",
       "      <td>one</td>\n",
       "      <td>B</td>\n",
       "      <td>foo</td>\n",
       "      <td>0.784309</td>\n",
       "      <td>-0.093501</td>\n",
       "    </tr>\n",
       "    <tr>\n",
       "      <th>2</th>\n",
       "      <td>two</td>\n",
       "      <td>C</td>\n",
       "      <td>foo</td>\n",
       "      <td>-0.216798</td>\n",
       "      <td>-0.672809</td>\n",
       "    </tr>\n",
       "    <tr>\n",
       "      <th>3</th>\n",
       "      <td>three</td>\n",
       "      <td>A</td>\n",
       "      <td>bar</td>\n",
       "      <td>0.423319</td>\n",
       "      <td>3.164183</td>\n",
       "    </tr>\n",
       "    <tr>\n",
       "      <th>4</th>\n",
       "      <td>one</td>\n",
       "      <td>B</td>\n",
       "      <td>bar</td>\n",
       "      <td>0.523930</td>\n",
       "      <td>0.521589</td>\n",
       "    </tr>\n",
       "    <tr>\n",
       "      <th>...</th>\n",
       "      <td>...</td>\n",
       "      <td>...</td>\n",
       "      <td>...</td>\n",
       "      <td>...</td>\n",
       "      <td>...</td>\n",
       "    </tr>\n",
       "    <tr>\n",
       "      <th>7</th>\n",
       "      <td>three</td>\n",
       "      <td>B</td>\n",
       "      <td>foo</td>\n",
       "      <td>0.682445</td>\n",
       "      <td>0.910280</td>\n",
       "    </tr>\n",
       "    <tr>\n",
       "      <th>8</th>\n",
       "      <td>one</td>\n",
       "      <td>C</td>\n",
       "      <td>foo</td>\n",
       "      <td>0.212021</td>\n",
       "      <td>-1.183015</td>\n",
       "    </tr>\n",
       "    <tr>\n",
       "      <th>9</th>\n",
       "      <td>one</td>\n",
       "      <td>A</td>\n",
       "      <td>bar</td>\n",
       "      <td>0.721735</td>\n",
       "      <td>1.197969</td>\n",
       "    </tr>\n",
       "    <tr>\n",
       "      <th>10</th>\n",
       "      <td>two</td>\n",
       "      <td>B</td>\n",
       "      <td>bar</td>\n",
       "      <td>-0.041518</td>\n",
       "      <td>-0.218922</td>\n",
       "    </tr>\n",
       "    <tr>\n",
       "      <th>11</th>\n",
       "      <td>three</td>\n",
       "      <td>C</td>\n",
       "      <td>bar</td>\n",
       "      <td>-0.870493</td>\n",
       "      <td>-0.367801</td>\n",
       "    </tr>\n",
       "  </tbody>\n",
       "</table>\n",
       "<p>12 rows × 5 columns</p>\n",
       "</div>"
      ],
      "text/plain": [
       "        A  B    C         D         E\n",
       "0     one  A  foo -0.235598 -1.035348\n",
       "1     one  B  foo  0.784309 -0.093501\n",
       "2     two  C  foo -0.216798 -0.672809\n",
       "3   three  A  bar  0.423319  3.164183\n",
       "4     one  B  bar  0.523930  0.521589\n",
       "..    ... ..  ...       ...       ...\n",
       "7   three  B  foo  0.682445  0.910280\n",
       "8     one  C  foo  0.212021 -1.183015\n",
       "9     one  A  bar  0.721735  1.197969\n",
       "10    two  B  bar -0.041518 -0.218922\n",
       "11  three  C  bar -0.870493 -0.367801\n",
       "\n",
       "[12 rows x 5 columns]"
      ]
     },
     "execution_count": 177,
     "metadata": {},
     "output_type": "execute_result"
    }
   ],
   "source": [
    "df = pd.DataFrame({'A' : ['one', 'one', 'two', 'three'] * 3,\n",
    "                   'B' : ['A', 'B', 'C'] * 4,\n",
    "                   'C' : ['foo', 'foo', 'foo', 'bar', 'bar', 'bar'] * 2,\n",
    "                   'D' : np.random.randn(12),\n",
    "                   'E' : np.random.randn(12)})\n",
    "df"
   ]
  },
  {
   "cell_type": "code",
   "execution_count": 178,
   "metadata": {
    "collapsed": false
   },
   "outputs": [
    {
     "data": {
      "text/html": [
       "<div>\n",
       "<table border=\"1\" class=\"dataframe\">\n",
       "  <thead>\n",
       "    <tr style=\"text-align: right;\">\n",
       "      <th></th>\n",
       "      <th>C</th>\n",
       "      <th>bar</th>\n",
       "      <th>foo</th>\n",
       "    </tr>\n",
       "    <tr>\n",
       "      <th>A</th>\n",
       "      <th>B</th>\n",
       "      <th></th>\n",
       "      <th></th>\n",
       "    </tr>\n",
       "  </thead>\n",
       "  <tbody>\n",
       "    <tr>\n",
       "      <th rowspan=\"3\" valign=\"top\">one</th>\n",
       "      <th>A</th>\n",
       "      <td>0.721735</td>\n",
       "      <td>-0.235598</td>\n",
       "    </tr>\n",
       "    <tr>\n",
       "      <th>B</th>\n",
       "      <td>0.523930</td>\n",
       "      <td>0.784309</td>\n",
       "    </tr>\n",
       "    <tr>\n",
       "      <th>C</th>\n",
       "      <td>-1.205354</td>\n",
       "      <td>0.212021</td>\n",
       "    </tr>\n",
       "    <tr>\n",
       "      <th rowspan=\"3\" valign=\"top\">three</th>\n",
       "      <th>A</th>\n",
       "      <td>0.423319</td>\n",
       "      <td>NaN</td>\n",
       "    </tr>\n",
       "    <tr>\n",
       "      <th>B</th>\n",
       "      <td>NaN</td>\n",
       "      <td>0.682445</td>\n",
       "    </tr>\n",
       "    <tr>\n",
       "      <th>C</th>\n",
       "      <td>-0.870493</td>\n",
       "      <td>NaN</td>\n",
       "    </tr>\n",
       "    <tr>\n",
       "      <th rowspan=\"3\" valign=\"top\">two</th>\n",
       "      <th>A</th>\n",
       "      <td>NaN</td>\n",
       "      <td>-0.131668</td>\n",
       "    </tr>\n",
       "    <tr>\n",
       "      <th>B</th>\n",
       "      <td>-0.041518</td>\n",
       "      <td>NaN</td>\n",
       "    </tr>\n",
       "    <tr>\n",
       "      <th>C</th>\n",
       "      <td>NaN</td>\n",
       "      <td>-0.216798</td>\n",
       "    </tr>\n",
       "  </tbody>\n",
       "</table>\n",
       "</div>"
      ],
      "text/plain": [
       "C             bar       foo\n",
       "A     B                    \n",
       "one   A  0.721735 -0.235598\n",
       "      B  0.523930  0.784309\n",
       "      C -1.205354  0.212021\n",
       "three A  0.423319       NaN\n",
       "      B       NaN  0.682445\n",
       "      C -0.870493       NaN\n",
       "two   A       NaN -0.131668\n",
       "      B -0.041518       NaN\n",
       "      C       NaN -0.216798"
      ]
     },
     "execution_count": 178,
     "metadata": {},
     "output_type": "execute_result"
    }
   ],
   "source": [
    "pd.pivot_table(df, values='D', index=['A', 'B'], columns=['C'])\n"
   ]
  },
  {
   "cell_type": "markdown",
   "metadata": {},
   "source": [
    "Reconstruct the sampled presented in the pages at [Pandas Pivot Table Explained ](http://pbpython.com/pandas-pivot-table-explained.html) and [Generating Excel Reports from a Pandas Pivot Table ](http://pbpython.com/pandas-pivot-report.html).  \n",
    "\n",
    "First load the data and set the Status column as a pandas `category` and set the viewing order. Set the `Name` as table index."
   ]
  },
  {
   "cell_type": "code",
   "execution_count": 179,
   "metadata": {
    "collapsed": false
   },
   "outputs": [
    {
     "name": "stdout",
     "output_type": "stream",
     "text": [
      "   Account                          Name           Rep       Manager      Product  Quantity  Price     Status\n",
      "0   714466               Trantow-Barrows  Craig Booker  Debra Henley          CPU         1  30000  presented\n",
      "1   714466               Trantow-Barrows  Craig Booker  Debra Henley     Software         1  10000  presented\n",
      "2   714466               Trantow-Barrows  Craig Booker  Debra Henley  Maintenance         2   5000    pending\n",
      "3   737550  Fritsch, Russel and Anderson  Craig Booker  Debra Henley          CPU         1  35000   declined\n",
      "                              Account  Price  Quantity\n",
      "Name                                                  \n",
      "Barton LLC                     740150  35000  1.000000\n",
      "Fritsch, Russel and Anderson   737550  35000  1.000000\n",
      "Herman LLC                     141962  65000  2.000000\n",
      "Jerde-Hilpert                  412290   5000  2.000000\n",
      "Kassulke, Ondricka and Metz    307599   7000  3.000000\n",
      "...                               ...    ...       ...\n",
      "Koepp Ltd                      729833  35000  2.000000\n",
      "Kulas Inc                      218895  25000  1.500000\n",
      "Purdy-Kunde                    163416  30000  1.000000\n",
      "Stokes LLC                     239344   7500  1.000000\n",
      "Trantow-Barrows                714466  15000  1.333333\n",
      "\n",
      "[12 rows x 3 columns]\n"
     ]
    }
   ],
   "source": [
    "df = pd.read_excel(\"./data/sales-funnel.xlsx\")\n",
    "df[\"Status\"] = df[\"Status\"].astype(\"category\")\n",
    "df[\"Status\"].cat.set_categories([\"won\",\"pending\",\"presented\",\"declined\"],inplace=True)\n",
    "print(df.head(4))\n",
    "\n",
    "print(pd.pivot_table(df,index=[\"Name\"]))\n"
   ]
  },
  {
   "cell_type": "markdown",
   "metadata": {},
   "source": [
    "## Comparing and Gotchas\n"
   ]
  },
  {
   "cell_type": "code",
   "execution_count": 180,
   "metadata": {
    "collapsed": false
   },
   "outputs": [
    {
     "ename": "SyntaxError",
     "evalue": "invalid syntax (<ipython-input-180-71ea536b965b>, line 1)",
     "output_type": "error",
     "traceback": [
      "\u001b[1;36m  File \u001b[1;32m\"<ipython-input-180-71ea536b965b>\"\u001b[1;36m, line \u001b[1;32m1\u001b[0m\n\u001b[1;33m    <http://pandas.pydata.org/pandas-docs/version/0.15.2/basics.html#basics-compare>\u001b[0m\n\u001b[1;37m    ^\u001b[0m\n\u001b[1;31mSyntaxError\u001b[0m\u001b[1;31m:\u001b[0m invalid syntax\n"
     ]
    }
   ],
   "source": [
    "<http://pandas.pydata.org/pandas-docs/version/0.15.2/basics.html#basics-compare>  \n",
    "<http://pandas.pydata.org/pandas-docs/version/0.15.2/basics.html#boolean-reductions>   \n",
    "\n",
    "pandas follows the numpy convention of raising an error when you try to convert something to a bool. This happens in a if or when using the boolean operations, and, or, or not.  \n",
    "<http://pandas.pydata.org/pandas-docs/version/0.15.2/gotchas.html#gotchas>\n"
   ]
  },
  {
   "cell_type": "markdown",
   "metadata": {},
   "source": [
    "# Date and time"
   ]
  },
  {
   "cell_type": "code",
   "execution_count": 181,
   "metadata": {
    "collapsed": false
   },
   "outputs": [],
   "source": [
    "# print('0')\n",
    "# TMY = pd.DataFrame([0,1],index=['1981-01-01T10:00:00.000000000+0200', '1981-01-01T11:00:00.000000000+0200'])\n",
    "# print(TMY)\n",
    "# print('1')\n",
    "# print(type(TMY.index.to_datetime().values))\n",
    "# print(TMY.index.to_datetime().values)\n",
    "# print('2')\n",
    "# print(type(TMY.index.astype(np.int64)))\n",
    "# print(TMY.index.astype(np.int64) // 10**9)  #timestamp is unix time with nanoseconds\n",
    "# print('3')\n",
    "# print(type(pd.to_datetime(TMY.index.astype(np.int64))))\n",
    "# print(pd.to_datetime(TMY.index.astype(np.int64)))  #timestamp is unix time with nanoseconds\n"
   ]
  },
  {
   "cell_type": "markdown",
   "metadata": {},
   "source": [
    "## Python and [module versions, and dates](http://nbviewer.ipython.org/github/jrjohansson/scientific-python-lectures/blob/master/Lecture-0-Scientific-Computing-with-Python.ipynb)"
   ]
  },
  {
   "cell_type": "code",
   "execution_count": 182,
   "metadata": {
    "collapsed": false
   },
   "outputs": [
    {
     "name": "stdout",
     "output_type": "stream",
     "text": [
      "The version_information extension is already loaded. To reload it, use:\n",
      "  %reload_ext version_information\n"
     ]
    },
    {
     "data": {
      "application/json": {
       "Software versions": [
        {
         "module": "Python",
         "version": "2.7.10 64bit [MSC v.1500 64 bit (AMD64)]"
        },
        {
         "module": "IPython",
         "version": "4.0.0"
        },
        {
         "module": "OS",
         "version": "Windows 7 6.1.7601 SP1"
        },
        {
         "module": "pandas",
         "version": "0.17.0"
        },
        {
         "module": "numpy",
         "version": "1.10.1"
        },
        {
         "module": "scipy",
         "version": "0.16.0"
        },
        {
         "module": "matplotlib",
         "version": "1.4.3"
        },
        {
         "module": "pyradi",
         "version": "0.2.1"
        }
       ]
      },
      "text/html": [
       "<table><tr><th>Software</th><th>Version</th></tr><tr><td>Python</td><td>2.7.10 64bit [MSC v.1500 64 bit (AMD64)]</td></tr><tr><td>IPython</td><td>4.0.0</td></tr><tr><td>OS</td><td>Windows 7 6.1.7601 SP1</td></tr><tr><td>pandas</td><td>0.17.0</td></tr><tr><td>numpy</td><td>1.10.1</td></tr><tr><td>scipy</td><td>0.16.0</td></tr><tr><td>matplotlib</td><td>1.4.3</td></tr><tr><td>pyradi</td><td>0.2.1</td></tr><tr><td colspan='2'>Fri Nov 27 08:14:52 2015 South Africa Standard Time</td></tr></table>"
      ],
      "text/latex": [
       "\\begin{tabular}{|l|l|}\\hline\n",
       "{\\bf Software} & {\\bf Version} \\\\ \\hline\\hline\n",
       "Python & 2.7.10 64bit [MSC v.1500 64 bit (AMD64)] \\\\ \\hline\n",
       "IPython & 4.0.0 \\\\ \\hline\n",
       "OS & Windows 7 6.1.7601 SP1 \\\\ \\hline\n",
       "pandas & 0.17.0 \\\\ \\hline\n",
       "numpy & 1.10.1 \\\\ \\hline\n",
       "scipy & 0.16.0 \\\\ \\hline\n",
       "matplotlib & 1.4.3 \\\\ \\hline\n",
       "pyradi & 0.2.1 \\\\ \\hline\n",
       "\\hline \\multicolumn{2}{|l|}{Fri Nov 27 08:14:52 2015 South Africa Standard Time} \\\\ \\hline\n",
       "\\end{tabular}\n"
      ],
      "text/plain": [
       "Software versions\n",
       "Python 2.7.10 64bit [MSC v.1500 64 bit (AMD64)]\n",
       "IPython 4.0.0\n",
       "OS Windows 7 6.1.7601 SP1\n",
       "pandas 0.17.0\n",
       "numpy 1.10.1\n",
       "scipy 0.16.0\n",
       "matplotlib 1.4.3\n",
       "pyradi 0.2.1\n",
       "Fri Nov 27 08:14:52 2015 South Africa Standard Time"
      ]
     },
     "execution_count": 182,
     "metadata": {},
     "output_type": "execute_result"
    }
   ],
   "source": [
    "%load_ext version_information\n",
    "%version_information pandas, numpy, scipy, matplotlib, pyradi"
   ]
  },
  {
   "cell_type": "code",
   "execution_count": null,
   "metadata": {
    "collapsed": true
   },
   "outputs": [],
   "source": []
  }
 ],
 "metadata": {
  "kernelspec": {
   "display_name": "Python 2",
   "language": "python",
   "name": "python2"
  }
 },
 "nbformat": 4,
 "nbformat_minor": 0
}
