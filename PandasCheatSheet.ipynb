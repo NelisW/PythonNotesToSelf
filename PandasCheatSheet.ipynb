{
 "cells": [
  {
   "cell_type": "markdown",
   "metadata": {},
   "source": [
    "#Pandas Cheat Sheet"
   ]
  },
  {
   "cell_type": "markdown",
   "metadata": {},
   "source": [
    "References:  \n",
    "<http://pandas.pydata.org/pandas-docs/stable/basics.html>  \n",
    "<http://pandas.pydata.org/pandas-docs/version/0.15.2/10min.html>    \n",
    "<http://synesthesiam.com/posts/an-introduction-to-pandas.html>  \n",
    "<http://pbpython.com/excel-pandas-comp.html>  \n",
    "<http://pbpython.com/excel-pandas-comp-2.html>  \n",
    "<http://pbpython.com/improve-pandas-excel-output.html>  \n",
    "\n",
    "<http://pbpython.com/pandas-pivot-table-explained.html.\n",
    "<http://pbpython.com/pandas-pivot-report.html>\n",
    "\n",
    "<http://pandas.pydata.org/pandas-docs/stable/cookbook.html#cookbook-multi-index>  \n",
    "\n",
    "<http://www.bigdataexaminer.com/14-best-python-pandas-features/>  \n",
    "<http://pandas.pydata.org/pandas-docs/stable/reshaping.html#reshaping>  \n",
    "<https://iqbalnaved.wordpress.com/2013/08/26/python-pandas-hacks/>   \n",
    "\n",
    "<https://plot.ly/ipython-notebooks/big-data-analytics-with-pandas-and-sqlite/>  \n",
    "<http://www.analyticsvidhya.com/blog/2015/04/comprehensive-guide-data-exploration-sas-using-python-numpy-scipy-matplotlib-pandas/>  \n",
    "\n",
    "\n"
   ]
  },
  {
   "cell_type": "code",
   "execution_count": 148,
   "metadata": {
    "collapsed": true
   },
   "outputs": [],
   "source": [
    "import numpy as np\n",
    "import pandas as pd\n",
    "\n",
    "import datetime"
   ]
  },
  {
   "cell_type": "markdown",
   "metadata": {},
   "source": [
    "<https://s3.amazonaws.com/quandl-static-content/Documents/Quandl+-+Pandas,+SciPy,+NumPy+Cheat+Sheet.pdf>   \n",
    "\n",
    "|Create pandas data structures| |\n",
    "|--|--|\n",
    "|s = Series(data, index) |Create a Series.|\n",
    "|df = DataFrame (data, index, columns) |Create a Dataframe.|\n",
    "|p = Panel(data, items, major_axis, minor_axis)|Create a Panel.|\n",
    "\n",
    "\n",
    "|\tDataFrame Commands\t|\t\t|\n",
    "|--|--|\n",
    "|\tdf[col]\t|\tSelect column.\t|\n",
    "|\tdf.iloc[label]\t|\tSelect row by label.\t|\n",
    "|\tdf.index\t|\tReturn DataFrame index.\t|\n",
    "|\tdf.drop()\t|\tDelete given row or column. Pass axis=1 for columns.\t|\n",
    "|\tdf1 = df1.reindex_like(df1,df2)\t|\tReindex df1 with index of df2.\t|\n",
    "|\tdf.reset_index()\t|\tReset index, putting old index in column named index.\t|\n",
    "|\tdf.reindex()\t|\tChange DataFrame index, new indecies set to NaN.\t|\n",
    "|\tdf.head(n)\t|\tShow first n rows.\t|\n",
    "|\tdf.tail(n)\t|\tShow last n rows.\t|\n",
    "|\tdf.sort()\t|\tSort index.\t|\n",
    "|\tdf.sort(axis=1)\t|\tSort columns.\t|\n",
    "|\tdf.pivot(index,column,values)\t|\tPivot DataFrame, using new conditions.\t|\n",
    "|\tdf.T\t|\tTranspose DataFrame.\t|\n",
    "|\tdf.stack()\t|\tChange lowest level of column labels into innermost row index.\t|\n",
    "|\tdf.unstack()\t|\tChange innermost row index into lowest level of column labels.\t|\n",
    "|\tdf.applymap()\t|\tApply function to every element in DataFrame.\t|\n",
    "|\tdf.apply()\t|\tApply function along a given axis\t|\n",
    "|\tdf.dropna()\t|\tDrops rows where any data is missing.\t|\n",
    "|\tdf.count()\t|\tReturns Series of row counts for every column.\t|\n",
    "|\tdf.min()\t|\tReturn minimum of every column.\t|\n",
    "|\tdf.max()\t|\tReturn maximum of every column.\t|\n",
    "|\tdf.describe()\t|\tGenerate various summary statistics for every column.\t|\n",
    "|\tconcat()\t|\tMerge DataFrame or Series objects\t|\t\n",
    "\n",
    "|\tGroupby\t|\t\t|\n",
    "|--|--|\n",
    "|\tgroupby()\t|\tSplit DataFrame by columns. Creates a GroupBy object (gb).\t|\n",
    "|\tgb.agg()\t|\tApply function (single or list) to a GroupBy object.\t|\n",
    "|\tgb.transform()\t|\tApplies function and returns object with same index as one being grouped.\t|\n",
    "|\tgb.filter()\t|\tFilter GroupBy object by a given function.\t|\n",
    "|\tgb.groups\t|\tReturn dict whose keys are the unique groups, and values are axis labels belonging to each group.\t|\n",
    "\n",
    "|\tI/O\t|\t\t|\n",
    "|--|--|\n",
    "|\tdf.to_csv(‘foo.csv’)\t|\tSave to CSV.\t|\n",
    "|\tread_csv(‘foo.csv’)\t|\tRead CSV into DataFrame.\t|\n",
    "|\tto_excel(‘foo.xlsx’, sheet_name)\t|\tSave to Excel.\t|\n",
    "|\tread_excel(‘foo.xlsx’,’sheet1’, index_col = None, na_values = [‘NA’])\t|\tRead exel into DataFrame\t|\n",
    "\n",
    "\t\n"
   ]
  },
  {
   "cell_type": "markdown",
   "metadata": {},
   "source": [
    "##Set the display width when printing to console\n",
    "\n",
    "There are quite a few options to configure here, if you're using ipython then tab complete to find the [full set](http://pandas.pydata.org/pandas-docs/version/0.15.2/options.html) of display options:\n",
    "\n",
    "    pd.options.display.<tab>\n",
    "\n",
    "<http://stackoverflow.com/questions/21249206/how-to-configure-display-output-in-ipython-pandas>"
   ]
  },
  {
   "cell_type": "code",
   "execution_count": 149,
   "metadata": {
    "collapsed": false
   },
   "outputs": [],
   "source": [
    "#maximum number of rows and columns displayed when a frame is pretty-printed\n",
    "pd.set_option('display.max_columns', 30)\n",
    "pd.set_option('display.max_rows', 10)\n",
    "# Width of the display in characters.\n",
    "pd.set_option('display.width', 150)\n",
    "# The maximum width in characters of a column in the repr of a pandas data structure.              \n",
    "pd.set_option('display.max_colwidth', 150)"
   ]
  },
  {
   "cell_type": "markdown",
   "metadata": {},
   "source": [
    "##Creating/Loading Data"
   ]
  },
  {
   "cell_type": "markdown",
   "metadata": {},
   "source": [
    "###Functions to create different dataframe types"
   ]
  },
  {
   "cell_type": "markdown",
   "metadata": {},
   "source": [
    "An empty DataFrame can be created as follows. Test to see if the DataFrame is empty. In this case it is."
   ]
  },
  {
   "cell_type": "code",
   "execution_count": 150,
   "metadata": {
    "collapsed": false
   },
   "outputs": [
    {
     "name": "stdout",
     "output_type": "stream",
     "text": [
      "Empty DataFrame\n",
      "Columns: [A, B, C]\n",
      "Index: []\n",
      "True\n"
     ]
    }
   ],
   "source": [
    "columns = ['A','B', 'C']\n",
    "df = pd.DataFrame(columns=columns)\n",
    "print(df)\n",
    "print(df.empty)"
   ]
  },
  {
   "cell_type": "markdown",
   "metadata": {},
   "source": [
    "If you add an index, the row contents for the rows specified by the index will be empty (filled with NaN0.  However, testing to see if the DataFrame is empty will show that it is not empty: there are rows."
   ]
  },
  {
   "cell_type": "code",
   "execution_count": 151,
   "metadata": {
    "collapsed": false
   },
   "outputs": [
    {
     "name": "stdout",
     "output_type": "stream",
     "text": [
      "              A    B    C\n",
      "2015-04-16  NaN  NaN  NaN\n",
      "2015-04-17  NaN  NaN  NaN\n",
      "2015-04-18  NaN  NaN  NaN\n",
      "False\n",
      "            A  B  C\n",
      "2015-04-16  0  0  0\n",
      "2015-04-17  0  0  0\n",
      "2015-04-18  0  0  0\n"
     ]
    }
   ],
   "source": [
    "todays_date = datetime.datetime.now().date()\n",
    "index = pd.date_range(todays_date-datetime.timedelta(10), periods=3, freq='D')\n",
    "columns = ['A','B', 'C']\n",
    "df = pd.DataFrame(index=index, columns=columns)\n",
    "print(df)\n",
    "print(df.empty)\n",
    "df = df.fillna(0) # with 0s rather than NaNs\n",
    "print(df)"
   ]
  },
  {
   "cell_type": "markdown",
   "metadata": {},
   "source": [
    "###Creating and filling DataFrames"
   ]
  },
  {
   "cell_type": "markdown",
   "metadata": {},
   "source": [
    "The following  functions create pandas dataframes in a variety of ways."
   ]
  },
  {
   "cell_type": "code",
   "execution_count": 156,
   "metadata": {
    "collapsed": true
   },
   "outputs": [],
   "source": [
    "# DataFrame by passing a numpy array, with a datetime index and labeled columns.\n",
    "def makeDateRand(nrows=6, ncols=4):\n",
    "    dates = pd.date_range('20130101',periods=6)\n",
    "    df = pd.DataFrame(np.random.randn(nrows,ncols),index=dates,columns=list('ABCD'))    \n",
    "    return df"
   ]
  },
  {
   "cell_type": "code",
   "execution_count": 153,
   "metadata": {
    "collapsed": true
   },
   "outputs": [],
   "source": [
    "# DataFrame by passing a numpy array, with an int index and labeled columns.\n",
    "def makeRand(nrows=4, ncols=4):\n",
    "    return pd.DataFrame(np.random.randn(nrows, ncols), columns=['A','B','C','D'])"
   ]
  },
  {
   "cell_type": "code",
   "execution_count": 88,
   "metadata": {
    "collapsed": false
   },
   "outputs": [],
   "source": [
    "#create from dictionary\n",
    "def makefoobar():\n",
    "    return  pd.DataFrame({'A' : ['foo', 'bar', 'foo', 'bar','foo', 'bar', 'foo', 'foo'],\n",
    "                          'B' : ['one', 'one', 'two', 'three','two', 'two', 'one', 'three'],\n",
    "                          'C' : np.random.randn(8),\n",
    "                          'D' : np.random.randn(8)})"
   ]
  },
  {
   "cell_type": "code",
   "execution_count": 89,
   "metadata": {
    "collapsed": false
   },
   "outputs": [],
   "source": [
    "#create from dictionary\n",
    "def makegridDF():\n",
    "    return  pd.DataFrame({'A' : [1,2,3],\n",
    "                          'B' : [4,5,6],\n",
    "                          'C' : [7,8,9],\n",
    "                          'D' : [10,11,12]})"
   ]
  },
  {
   "cell_type": "code",
   "execution_count": 197,
   "metadata": {
    "collapsed": false
   },
   "outputs": [],
   "source": [
    "#create from dictionary\n",
    "def makegAlphaDF():\n",
    "    return  pd.DataFrame({'A' : ['0a','1a','2a'],\n",
    "                          'B' : ['0b','1b','2b'],\n",
    "                          'C' : ['0c','1c','2c'],\n",
    "                          'D' : ['0d','1d','2d']})"
   ]
  },
  {
   "cell_type": "code",
   "execution_count": 90,
   "metadata": {
    "collapsed": true
   },
   "outputs": [],
   "source": [
    "#create dataframe from a user-supplied string, using a user-defined regex separator \n",
    "def makeFromString(string, sep='\\s+', header=False):\n",
    "    from StringIO import StringIO\n",
    "    return pd.read_csv(StringIO(string), sep=sep, header=header)\n",
    "#alternative method\n",
    "#     import io\n",
    "#     return pd.read_table(io.BytesIO(content), sep=sep, header=header)"
   ]
  },
  {
   "cell_type": "code",
   "execution_count": 91,
   "metadata": {
    "collapsed": true
   },
   "outputs": [],
   "source": [
    "# DataFrame by passing a dict of objects that can be converted to series-like.\n",
    "# using categorical in column E\n",
    "def makecatedf():\n",
    "    df = pd.DataFrame({   'A' : 1.,\n",
    "                       'B' : pd.Timestamp('20130102'),\n",
    "                       'C' : pd.Series(1,index=list(range(4)),dtype='float32'),\n",
    "                       'D' : np.array([3] * 4,dtype='int32'),\n",
    "                       'E' : pd.Categorical([\"test\",\"train\",\"test\",\"train\"]),\n",
    "                       'F' : 'foo',\n",
    "                       'G': ['foox','fooa','foon','fooz']})\n",
    "    return (df)"
   ]
  },
  {
   "cell_type": "code",
   "execution_count": 92,
   "metadata": {
    "collapsed": false
   },
   "outputs": [],
   "source": [
    "#create a dataframe with a NaN\n",
    "def makeNaNdf():\n",
    "    return pd.DataFrame([[1, np.nan], [3, 4], [4,5]], columns=list('AB'))"
   ]
  },
  {
   "cell_type": "code",
   "execution_count": 93,
   "metadata": {
    "collapsed": true
   },
   "outputs": [],
   "source": [
    "#create a DataFrame with hierarchical column index\n",
    "#From http://pandas.pydata.org/pandas-docs/stable/indexing.html#indexing-view-versus-copy\n",
    "def createMultColIdx():\n",
    "    return pd.DataFrame([list('abcd'),\n",
    "                  list('efgh'),\n",
    "                  list('ijkl'),\n",
    "                  list('mnop')],\n",
    "                  columns=pd.MultiIndex.from_product([['one','two'],\n",
    "                      ['first','second']]))"
   ]
  },
  {
   "cell_type": "code",
   "execution_count": 193,
   "metadata": {
    "collapsed": false
   },
   "outputs": [
    {
     "name": "stdout",
     "output_type": "stream",
     "text": [
      "                   A         B         C         D\n",
      "2013-01-01 -0.258388 -2.164884  0.105801  1.249241\n",
      "2013-01-02  0.506519  0.345358 -0.297853  0.304403\n",
      "2013-01-03  0.236215  0.712320 -0.585526 -0.592531\n",
      "2013-01-04 -0.368021 -1.010381  0.372366  0.638331\n",
      "2013-01-05  1.214579 -1.372529 -1.449449  0.526774\n",
      "2013-01-06  1.106840 -1.064536 -1.043180 -0.668716\n"
     ]
    }
   ],
   "source": [
    "print(makeDateRand())"
   ]
  },
  {
   "cell_type": "markdown",
   "metadata": {},
   "source": [
    "Display the data types"
   ]
  },
  {
   "cell_type": "code",
   "execution_count": 95,
   "metadata": {
    "collapsed": false
   },
   "outputs": [
    {
     "name": "stdout",
     "output_type": "stream",
     "text": [
      "A           float64\n",
      "B    datetime64[ns]\n",
      "C           float32\n",
      "D             int32\n",
      "E          category\n",
      "F            object\n",
      "G            object\n",
      "dtype: object\n"
     ]
    },
    {
     "data": {
      "text/html": [
       "<div style=\"max-height:1000px;max-width:1500px;overflow:auto;\">\n",
       "<table border=\"1\" class=\"dataframe\">\n",
       "  <thead>\n",
       "    <tr style=\"text-align: right;\">\n",
       "      <th></th>\n",
       "      <th>A</th>\n",
       "      <th>B</th>\n",
       "      <th>C</th>\n",
       "      <th>D</th>\n",
       "      <th>E</th>\n",
       "      <th>F</th>\n",
       "      <th>G</th>\n",
       "    </tr>\n",
       "  </thead>\n",
       "  <tbody>\n",
       "    <tr>\n",
       "      <th>0</th>\n",
       "      <td> 1</td>\n",
       "      <td>2013-01-02</td>\n",
       "      <td> 1</td>\n",
       "      <td> 3</td>\n",
       "      <td>  test</td>\n",
       "      <td> foo</td>\n",
       "      <td> foox</td>\n",
       "    </tr>\n",
       "    <tr>\n",
       "      <th>1</th>\n",
       "      <td> 1</td>\n",
       "      <td>2013-01-02</td>\n",
       "      <td> 1</td>\n",
       "      <td> 3</td>\n",
       "      <td> train</td>\n",
       "      <td> foo</td>\n",
       "      <td> fooa</td>\n",
       "    </tr>\n",
       "    <tr>\n",
       "      <th>2</th>\n",
       "      <td> 1</td>\n",
       "      <td>2013-01-02</td>\n",
       "      <td> 1</td>\n",
       "      <td> 3</td>\n",
       "      <td>  test</td>\n",
       "      <td> foo</td>\n",
       "      <td> foon</td>\n",
       "    </tr>\n",
       "    <tr>\n",
       "      <th>3</th>\n",
       "      <td> 1</td>\n",
       "      <td>2013-01-02</td>\n",
       "      <td> 1</td>\n",
       "      <td> 3</td>\n",
       "      <td> train</td>\n",
       "      <td> foo</td>\n",
       "      <td> fooz</td>\n",
       "    </tr>\n",
       "  </tbody>\n",
       "</table>\n",
       "</div>"
      ],
      "text/plain": [
       "   A          B  C  D      E    F     G\n",
       "0  1 2013-01-02  1  3   test  foo  foox\n",
       "1  1 2013-01-02  1  3  train  foo  fooa\n",
       "2  1 2013-01-02  1  3   test  foo  foon\n",
       "3  1 2013-01-02  1  3  train  foo  fooz"
      ]
     },
     "execution_count": 95,
     "metadata": {},
     "output_type": "execute_result"
    }
   ],
   "source": [
    "df2 = makecatedf()\n",
    "print(df2.dtypes)\n",
    "df2"
   ]
  },
  {
   "cell_type": "code",
   "execution_count": 96,
   "metadata": {
    "collapsed": false
   },
   "outputs": [
    {
     "data": {
      "text/html": [
       "<div style=\"max-height:1000px;max-width:1500px;overflow:auto;\">\n",
       "<table border=\"1\" class=\"dataframe\">\n",
       "  <thead>\n",
       "    <tr style=\"text-align: right;\">\n",
       "      <th></th>\n",
       "      <th>Time</th>\n",
       "      <th>A_x</th>\n",
       "      <th>A_y</th>\n",
       "      <th>A_z</th>\n",
       "      <th>B_x</th>\n",
       "      <th>B_y</th>\n",
       "      <th>B_z</th>\n",
       "    </tr>\n",
       "  </thead>\n",
       "  <tbody>\n",
       "    <tr>\n",
       "      <th>0</th>\n",
       "      <td>-0.075509</td>\n",
       "      <td>-0.123527</td>\n",
       "      <td>-0.547239</td>\n",
       "      <td>-0.453707</td>\n",
       "      <td>-0.969796</td>\n",
       "      <td> 0.248761</td>\n",
       "      <td> 1.369613</td>\n",
       "    </tr>\n",
       "    <tr>\n",
       "      <th>1</th>\n",
       "      <td>-0.133580</td>\n",
       "      <td>-0.308314</td>\n",
       "      <td>-0.839347</td>\n",
       "      <td>-0.517989</td>\n",
       "      <td> 0.652120</td>\n",
       "      <td> 0.477232</td>\n",
       "      <td>-0.391767</td>\n",
       "    </tr>\n",
       "    <tr>\n",
       "      <th>2</th>\n",
       "      <td> 0.623841</td>\n",
       "      <td> 0.473552</td>\n",
       "      <td> 0.059428</td>\n",
       "      <td> 0.726088</td>\n",
       "      <td>-0.593291</td>\n",
       "      <td>-3.186297</td>\n",
       "      <td>-0.846863</td>\n",
       "    </tr>\n",
       "  </tbody>\n",
       "</table>\n",
       "</div>"
      ],
      "text/plain": [
       "       Time       A_x       A_y       A_z       B_x       B_y       B_z\n",
       "0 -0.075509 -0.123527 -0.547239 -0.453707 -0.969796  0.248761  1.369613\n",
       "1 -0.133580 -0.308314 -0.839347 -0.517989  0.652120  0.477232 -0.391767\n",
       "2  0.623841  0.473552  0.059428  0.726088 -0.593291 -3.186297 -0.846863"
      ]
     },
     "execution_count": 96,
     "metadata": {},
     "output_type": "execute_result"
    }
   ],
   "source": [
    "content = '''\n",
    "Time       A_x       A_y       A_z       B_x       B_y       B_z\n",
    "-0.075509 -0.123527 -0.547239 -0.453707 -0.969796  0.248761  1.369613\n",
    "-0.133580 -0.308314 -0.839347 -0.517989  0.652120  0.477232 -0.391767\n",
    " 0.623841  0.473552  0.059428  0.726088 -0.593291 -3.186297 -0.846863'''\n",
    "\n",
    "makeFromString(content)"
   ]
  },
  {
   "cell_type": "markdown",
   "metadata": {},
   "source": [
    "If you're using IPython, tab completion for column names (as well as public attributes) is automatically enabled:  \n",
    "    `df2.<Tab>`"
   ]
  },
  {
   "cell_type": "markdown",
   "metadata": {},
   "source": [
    "##File Input/Output"
   ]
  },
  {
   "cell_type": "markdown",
   "metadata": {},
   "source": [
    "###CSV and Excel"
   ]
  },
  {
   "cell_type": "code",
   "execution_count": 97,
   "metadata": {
    "collapsed": false
   },
   "outputs": [
    {
     "ename": "NameError",
     "evalue": "global name 'nrow' is not defined",
     "output_type": "error",
     "traceback": [
      "\u001b[1;31m---------------------------------------------------------------------------\u001b[0m",
      "\u001b[1;31mNameError\u001b[0m                                 Traceback (most recent call last)",
      "\u001b[1;32m<ipython-input-97-6f92c85292e1>\u001b[0m in \u001b[0;36m<module>\u001b[1;34m()\u001b[0m\n\u001b[1;32m----> 1\u001b[1;33m \u001b[0mdf\u001b[0m \u001b[1;33m=\u001b[0m \u001b[0mmakeDateRand\u001b[0m\u001b[1;33m(\u001b[0m\u001b[1;33m)\u001b[0m\u001b[1;33m\u001b[0m\u001b[0m\n\u001b[0m\u001b[0;32m      2\u001b[0m \u001b[0mdf\u001b[0m\u001b[1;33m.\u001b[0m\u001b[0mto_csv\u001b[0m\u001b[1;33m(\u001b[0m\u001b[1;34m'foo.csv'\u001b[0m\u001b[1;33m)\u001b[0m\u001b[1;33m\u001b[0m\u001b[0m\n\u001b[0;32m      3\u001b[0m \u001b[0mpd\u001b[0m\u001b[1;33m.\u001b[0m\u001b[0mread_csv\u001b[0m\u001b[1;33m(\u001b[0m\u001b[1;34m'foo.csv'\u001b[0m\u001b[1;33m)\u001b[0m\u001b[1;33m\u001b[0m\u001b[0m\n",
      "\u001b[1;32m<ipython-input-86-80f474fd1a5a>\u001b[0m in \u001b[0;36mmakeDateRand\u001b[1;34m(nrows, ncols)\u001b[0m\n\u001b[0;32m      2\u001b[0m \u001b[1;32mdef\u001b[0m \u001b[0mmakeDateRand\u001b[0m\u001b[1;33m(\u001b[0m\u001b[0mnrows\u001b[0m\u001b[1;33m=\u001b[0m\u001b[1;36m4\u001b[0m\u001b[1;33m,\u001b[0m \u001b[0mncols\u001b[0m\u001b[1;33m=\u001b[0m\u001b[1;36m4\u001b[0m\u001b[1;33m)\u001b[0m\u001b[1;33m:\u001b[0m\u001b[1;33m\u001b[0m\u001b[0m\n\u001b[0;32m      3\u001b[0m     \u001b[0mdates\u001b[0m \u001b[1;33m=\u001b[0m \u001b[0mpd\u001b[0m\u001b[1;33m.\u001b[0m\u001b[0mdate_range\u001b[0m\u001b[1;33m(\u001b[0m\u001b[1;34m'20130101'\u001b[0m\u001b[1;33m,\u001b[0m\u001b[0mperiods\u001b[0m\u001b[1;33m=\u001b[0m\u001b[1;36m6\u001b[0m\u001b[1;33m)\u001b[0m\u001b[1;33m\u001b[0m\u001b[0m\n\u001b[1;32m----> 4\u001b[1;33m     \u001b[0mdf\u001b[0m \u001b[1;33m=\u001b[0m \u001b[0mpd\u001b[0m\u001b[1;33m.\u001b[0m\u001b[0mDataFrame\u001b[0m\u001b[1;33m(\u001b[0m\u001b[0mnp\u001b[0m\u001b[1;33m.\u001b[0m\u001b[0mrandom\u001b[0m\u001b[1;33m.\u001b[0m\u001b[0mrandn\u001b[0m\u001b[1;33m(\u001b[0m\u001b[0mnrow\u001b[0m\u001b[1;33m,\u001b[0m\u001b[0mncols\u001b[0m\u001b[1;33m)\u001b[0m\u001b[1;33m,\u001b[0m\u001b[0mindex\u001b[0m\u001b[1;33m=\u001b[0m\u001b[0mdates\u001b[0m\u001b[1;33m,\u001b[0m\u001b[0mcolumns\u001b[0m\u001b[1;33m=\u001b[0m\u001b[0mlist\u001b[0m\u001b[1;33m(\u001b[0m\u001b[1;34m'ABCD'\u001b[0m\u001b[1;33m)\u001b[0m\u001b[1;33m)\u001b[0m\u001b[1;33m\u001b[0m\u001b[0m\n\u001b[0m\u001b[0;32m      5\u001b[0m     \u001b[1;32mreturn\u001b[0m \u001b[0mdf\u001b[0m\u001b[1;33m\u001b[0m\u001b[0m\n",
      "\u001b[1;31mNameError\u001b[0m: global name 'nrow' is not defined"
     ]
    }
   ],
   "source": [
    "df = makeDateRand()\n",
    "df.to_csv('foo.csv')\n",
    "pd.read_csv('foo.csv')"
   ]
  },
  {
   "cell_type": "code",
   "execution_count": 98,
   "metadata": {
    "collapsed": false
   },
   "outputs": [
    {
     "ename": "NameError",
     "evalue": "global name 'nrow' is not defined",
     "output_type": "error",
     "traceback": [
      "\u001b[1;31m---------------------------------------------------------------------------\u001b[0m",
      "\u001b[1;31mNameError\u001b[0m                                 Traceback (most recent call last)",
      "\u001b[1;32m<ipython-input-98-96defc10dbfc>\u001b[0m in \u001b[0;36m<module>\u001b[1;34m()\u001b[0m\n\u001b[1;32m----> 1\u001b[1;33m \u001b[0mdf\u001b[0m \u001b[1;33m=\u001b[0m \u001b[0mmakeDateRand\u001b[0m\u001b[1;33m(\u001b[0m\u001b[1;33m)\u001b[0m\u001b[1;33m\u001b[0m\u001b[0m\n\u001b[0m\u001b[0;32m      2\u001b[0m \u001b[0mdf\u001b[0m\u001b[1;33m.\u001b[0m\u001b[0mto_excel\u001b[0m\u001b[1;33m(\u001b[0m\u001b[1;34m'foo.xlsx'\u001b[0m\u001b[1;33m,\u001b[0m \u001b[0msheet_name\u001b[0m\u001b[1;33m=\u001b[0m\u001b[1;34m'Sheet1'\u001b[0m\u001b[1;33m)\u001b[0m\u001b[1;33m\u001b[0m\u001b[0m\n\u001b[0;32m      3\u001b[0m \u001b[0mpd\u001b[0m\u001b[1;33m.\u001b[0m\u001b[0mread_excel\u001b[0m\u001b[1;33m(\u001b[0m\u001b[1;34m'foo.xlsx'\u001b[0m\u001b[1;33m,\u001b[0m \u001b[1;34m'Sheet1'\u001b[0m\u001b[1;33m,\u001b[0m \u001b[0mindex_col\u001b[0m\u001b[1;33m=\u001b[0m\u001b[0mNone\u001b[0m\u001b[1;33m,\u001b[0m \u001b[0mna_values\u001b[0m\u001b[1;33m=\u001b[0m\u001b[1;33m[\u001b[0m\u001b[1;34m'NA'\u001b[0m\u001b[1;33m]\u001b[0m\u001b[1;33m)\u001b[0m\u001b[1;33m\u001b[0m\u001b[0m\n",
      "\u001b[1;32m<ipython-input-86-80f474fd1a5a>\u001b[0m in \u001b[0;36mmakeDateRand\u001b[1;34m(nrows, ncols)\u001b[0m\n\u001b[0;32m      2\u001b[0m \u001b[1;32mdef\u001b[0m \u001b[0mmakeDateRand\u001b[0m\u001b[1;33m(\u001b[0m\u001b[0mnrows\u001b[0m\u001b[1;33m=\u001b[0m\u001b[1;36m4\u001b[0m\u001b[1;33m,\u001b[0m \u001b[0mncols\u001b[0m\u001b[1;33m=\u001b[0m\u001b[1;36m4\u001b[0m\u001b[1;33m)\u001b[0m\u001b[1;33m:\u001b[0m\u001b[1;33m\u001b[0m\u001b[0m\n\u001b[0;32m      3\u001b[0m     \u001b[0mdates\u001b[0m \u001b[1;33m=\u001b[0m \u001b[0mpd\u001b[0m\u001b[1;33m.\u001b[0m\u001b[0mdate_range\u001b[0m\u001b[1;33m(\u001b[0m\u001b[1;34m'20130101'\u001b[0m\u001b[1;33m,\u001b[0m\u001b[0mperiods\u001b[0m\u001b[1;33m=\u001b[0m\u001b[1;36m6\u001b[0m\u001b[1;33m)\u001b[0m\u001b[1;33m\u001b[0m\u001b[0m\n\u001b[1;32m----> 4\u001b[1;33m     \u001b[0mdf\u001b[0m \u001b[1;33m=\u001b[0m \u001b[0mpd\u001b[0m\u001b[1;33m.\u001b[0m\u001b[0mDataFrame\u001b[0m\u001b[1;33m(\u001b[0m\u001b[0mnp\u001b[0m\u001b[1;33m.\u001b[0m\u001b[0mrandom\u001b[0m\u001b[1;33m.\u001b[0m\u001b[0mrandn\u001b[0m\u001b[1;33m(\u001b[0m\u001b[0mnrow\u001b[0m\u001b[1;33m,\u001b[0m\u001b[0mncols\u001b[0m\u001b[1;33m)\u001b[0m\u001b[1;33m,\u001b[0m\u001b[0mindex\u001b[0m\u001b[1;33m=\u001b[0m\u001b[0mdates\u001b[0m\u001b[1;33m,\u001b[0m\u001b[0mcolumns\u001b[0m\u001b[1;33m=\u001b[0m\u001b[0mlist\u001b[0m\u001b[1;33m(\u001b[0m\u001b[1;34m'ABCD'\u001b[0m\u001b[1;33m)\u001b[0m\u001b[1;33m)\u001b[0m\u001b[1;33m\u001b[0m\u001b[0m\n\u001b[0m\u001b[0;32m      5\u001b[0m     \u001b[1;32mreturn\u001b[0m \u001b[0mdf\u001b[0m\u001b[1;33m\u001b[0m\u001b[0m\n",
      "\u001b[1;31mNameError\u001b[0m: global name 'nrow' is not defined"
     ]
    }
   ],
   "source": [
    "df = makeDateRand()\n",
    "df.to_excel('foo.xlsx', sheet_name='Sheet1')\n",
    "pd.read_excel('foo.xlsx', 'Sheet1', index_col=None, na_values=['NA'])"
   ]
  },
  {
   "cell_type": "markdown",
   "metadata": {},
   "source": [
    "###HDF5"
   ]
  },
  {
   "cell_type": "markdown",
   "metadata": {},
   "source": [
    "Excel and CSV  formats can only store single elements per 'cell.   HDF5 provides the means to store hierarchical data, where some DataFrame cells can contain Numpy arrays or other structures.  The example below has a Numpy array in column 'array' and a pandas Series in column 'dframe'.  \n",
    "\n",
    "Note that the Series index must match the dataframe index, otherwise the Series elements cannot be assigned (NaN are then assigned to all elements in the column).\n",
    "\n",
    "<http://pandas.pydata.org/pandas-docs/version/0.15.2/io.html#io-hdf5>"
   ]
  },
  {
   "cell_type": "code",
   "execution_count": 99,
   "metadata": {
    "collapsed": false
   },
   "outputs": [
    {
     "ename": "NameError",
     "evalue": "global name 'nrow' is not defined",
     "output_type": "error",
     "traceback": [
      "\u001b[1;31m---------------------------------------------------------------------------\u001b[0m",
      "\u001b[1;31mNameError\u001b[0m                                 Traceback (most recent call last)",
      "\u001b[1;32m<ipython-input-99-262f970b3b22>\u001b[0m in \u001b[0;36m<module>\u001b[1;34m()\u001b[0m\n\u001b[1;32m----> 1\u001b[1;33m \u001b[0mdf\u001b[0m \u001b[1;33m=\u001b[0m \u001b[0mmakeDateRand\u001b[0m\u001b[1;33m(\u001b[0m\u001b[1;33m)\u001b[0m\u001b[1;33m\u001b[0m\u001b[0m\n\u001b[0m\u001b[0;32m      2\u001b[0m \u001b[0mdf\u001b[0m\u001b[1;33m[\u001b[0m\u001b[1;34m'arrays'\u001b[0m\u001b[1;33m]\u001b[0m \u001b[1;33m=\u001b[0m \u001b[1;33m[\u001b[0m\u001b[0mnp\u001b[0m\u001b[1;33m.\u001b[0m\u001b[0masarray\u001b[0m\u001b[1;33m(\u001b[0m\u001b[1;33m[\u001b[0m\u001b[1;33m[\u001b[0m\u001b[1;36m1\u001b[0m\u001b[1;33m,\u001b[0m\u001b[0mx\u001b[0m\u001b[1;33m]\u001b[0m\u001b[1;33m,\u001b[0m\u001b[1;33m[\u001b[0m\u001b[0mx\u001b[0m\u001b[1;33m/\u001b[0m\u001b[1;36m2\u001b[0m\u001b[1;33m,\u001b[0m\u001b[1;36m4\u001b[0m\u001b[1;33m*\u001b[0m\u001b[0mx\u001b[0m\u001b[1;33m]\u001b[0m\u001b[1;33m]\u001b[0m\u001b[1;33m)\u001b[0m \u001b[1;32mfor\u001b[0m \u001b[0mx\u001b[0m \u001b[1;32min\u001b[0m \u001b[0mrange\u001b[0m\u001b[1;33m(\u001b[0m\u001b[1;36m6\u001b[0m\u001b[1;33m)\u001b[0m\u001b[1;33m]\u001b[0m\u001b[1;33m\u001b[0m\u001b[0m\n\u001b[0;32m      3\u001b[0m \u001b[0mser\u001b[0m \u001b[1;33m=\u001b[0m \u001b[0mpd\u001b[0m\u001b[1;33m.\u001b[0m\u001b[0mSeries\u001b[0m\u001b[1;33m(\u001b[0m\u001b[1;33m[\u001b[0m\u001b[0mnp\u001b[0m\u001b[1;33m.\u001b[0m\u001b[0masarray\u001b[0m\u001b[1;33m(\u001b[0m\u001b[1;33m[\u001b[0m\u001b[1;33m[\u001b[0m\u001b[1;36m1\u001b[0m\u001b[1;33m,\u001b[0m\u001b[0mx\u001b[0m\u001b[1;33m]\u001b[0m\u001b[1;33m,\u001b[0m\u001b[1;33m[\u001b[0m\u001b[0mx\u001b[0m\u001b[1;33m/\u001b[0m\u001b[1;36m2\u001b[0m\u001b[1;33m,\u001b[0m\u001b[1;36m4\u001b[0m\u001b[1;33m*\u001b[0m\u001b[0mx\u001b[0m\u001b[1;33m]\u001b[0m\u001b[1;33m]\u001b[0m\u001b[1;33m)\u001b[0m \u001b[1;32mfor\u001b[0m \u001b[0mx\u001b[0m \u001b[1;32min\u001b[0m \u001b[0mrange\u001b[0m\u001b[1;33m(\u001b[0m\u001b[1;36m6\u001b[0m\u001b[1;33m)\u001b[0m\u001b[1;33m]\u001b[0m\u001b[1;33m,\u001b[0m\u001b[0mindex\u001b[0m\u001b[1;33m=\u001b[0m\u001b[0mpd\u001b[0m\u001b[1;33m.\u001b[0m\u001b[0mdate_range\u001b[0m\u001b[1;33m(\u001b[0m\u001b[1;34m'20130101'\u001b[0m\u001b[1;33m,\u001b[0m\u001b[0mperiods\u001b[0m\u001b[1;33m=\u001b[0m\u001b[1;36m6\u001b[0m\u001b[1;33m)\u001b[0m\u001b[1;33m)\u001b[0m\u001b[1;33m\u001b[0m\u001b[0m\n\u001b[0;32m      4\u001b[0m \u001b[1;32mprint\u001b[0m\u001b[1;33m(\u001b[0m\u001b[0mser\u001b[0m\u001b[1;33m)\u001b[0m\u001b[1;33m\u001b[0m\u001b[0m\n\u001b[0;32m      5\u001b[0m \u001b[0mdf\u001b[0m\u001b[1;33m[\u001b[0m\u001b[1;34m'dframe'\u001b[0m\u001b[1;33m]\u001b[0m \u001b[1;33m=\u001b[0m \u001b[0mser\u001b[0m\u001b[1;33m\u001b[0m\u001b[0m\n",
      "\u001b[1;32m<ipython-input-86-80f474fd1a5a>\u001b[0m in \u001b[0;36mmakeDateRand\u001b[1;34m(nrows, ncols)\u001b[0m\n\u001b[0;32m      2\u001b[0m \u001b[1;32mdef\u001b[0m \u001b[0mmakeDateRand\u001b[0m\u001b[1;33m(\u001b[0m\u001b[0mnrows\u001b[0m\u001b[1;33m=\u001b[0m\u001b[1;36m4\u001b[0m\u001b[1;33m,\u001b[0m \u001b[0mncols\u001b[0m\u001b[1;33m=\u001b[0m\u001b[1;36m4\u001b[0m\u001b[1;33m)\u001b[0m\u001b[1;33m:\u001b[0m\u001b[1;33m\u001b[0m\u001b[0m\n\u001b[0;32m      3\u001b[0m     \u001b[0mdates\u001b[0m \u001b[1;33m=\u001b[0m \u001b[0mpd\u001b[0m\u001b[1;33m.\u001b[0m\u001b[0mdate_range\u001b[0m\u001b[1;33m(\u001b[0m\u001b[1;34m'20130101'\u001b[0m\u001b[1;33m,\u001b[0m\u001b[0mperiods\u001b[0m\u001b[1;33m=\u001b[0m\u001b[1;36m6\u001b[0m\u001b[1;33m)\u001b[0m\u001b[1;33m\u001b[0m\u001b[0m\n\u001b[1;32m----> 4\u001b[1;33m     \u001b[0mdf\u001b[0m \u001b[1;33m=\u001b[0m \u001b[0mpd\u001b[0m\u001b[1;33m.\u001b[0m\u001b[0mDataFrame\u001b[0m\u001b[1;33m(\u001b[0m\u001b[0mnp\u001b[0m\u001b[1;33m.\u001b[0m\u001b[0mrandom\u001b[0m\u001b[1;33m.\u001b[0m\u001b[0mrandn\u001b[0m\u001b[1;33m(\u001b[0m\u001b[0mnrow\u001b[0m\u001b[1;33m,\u001b[0m\u001b[0mncols\u001b[0m\u001b[1;33m)\u001b[0m\u001b[1;33m,\u001b[0m\u001b[0mindex\u001b[0m\u001b[1;33m=\u001b[0m\u001b[0mdates\u001b[0m\u001b[1;33m,\u001b[0m\u001b[0mcolumns\u001b[0m\u001b[1;33m=\u001b[0m\u001b[0mlist\u001b[0m\u001b[1;33m(\u001b[0m\u001b[1;34m'ABCD'\u001b[0m\u001b[1;33m)\u001b[0m\u001b[1;33m)\u001b[0m\u001b[1;33m\u001b[0m\u001b[0m\n\u001b[0m\u001b[0;32m      5\u001b[0m     \u001b[1;32mreturn\u001b[0m \u001b[0mdf\u001b[0m\u001b[1;33m\u001b[0m\u001b[0m\n",
      "\u001b[1;31mNameError\u001b[0m: global name 'nrow' is not defined"
     ]
    }
   ],
   "source": [
    "df = makeDateRand()\n",
    "df['arrays'] = [np.asarray([[1,x],[x/2,4*x]]) for x in range(6)]\n",
    "ser = pd.Series([np.asarray([[1,x],[x/2,4*x]]) for x in range(6)],index=pd.date_range('20130101',periods=6))\n",
    "print(ser)\n",
    "df['dframe'] = ser\n",
    "print(df)\n",
    "df.to_hdf('df.hdf5','df',mode='w',append=False)\n",
    "df = pd.read_hdf('df.hdf5', 'df')\n",
    "print(df)\n",
    "print(df.dtypes)"
   ]
  },
  {
   "cell_type": "markdown",
   "metadata": {},
   "source": [
    "##Dataframe properties"
   ]
  },
  {
   "cell_type": "markdown",
   "metadata": {},
   "source": [
    "###Row properties\n",
    "\n",
    "The row count can be obtained in two different forms:\n",
    "\n",
    "- The `len` and `shape` methods count the number of rows in the DataFrame, irrespective of the contents of the cells.\n",
    "- The `df.count()` function returns a pandas series containing the number of valid entries in a column - ignoring NaN. "
   ]
  },
  {
   "cell_type": "code",
   "execution_count": 100,
   "metadata": {
    "collapsed": false
   },
   "outputs": [
    {
     "name": "stdout",
     "output_type": "stream",
     "text": [
      "   A   B\n",
      "0  1 NaN\n",
      "1  3   4\n",
      "2  4   5\n",
      "\n",
      "len(df) = 3\n",
      "\n",
      "shape[0] = 3\n",
      "\n",
      "type(df.count()) = <class 'pandas.core.series.Series'>\n",
      "\n",
      "df.count() = \n",
      "A    3\n",
      "B    2\n",
      "dtype: int64\n",
      "\n",
      "df.count()['A'] = 3\n",
      "\n",
      "df.count()[1] = 2\n",
      "\n",
      "Nans = \n",
      "       A      B\n",
      "0  False   True\n",
      "1  False  False\n",
      "2  False  False\n"
     ]
    }
   ],
   "source": [
    "df = makeNaNdf()\n",
    "print(df)\n",
    "print('\\nlen(df) = {}'.format(len(df)))\n",
    "print('\\nshape[0] = {}'.format(df.shape[0]))\n",
    "print('\\ntype(df.count()) = {}'.format(type(df.count())))\n",
    "print('\\ndf.count() = \\n{}'.format(df.count()))\n",
    "print(\"\\ndf.count()['A'] = {}\".format(df.count()['A']))\n",
    "print('\\ndf.count()[1] = {}'.format(df.count()[1]))\n",
    "print('\\nNans = \\n{}'.format(df.apply(lambda col: pd.isnull(col))))"
   ]
  },
  {
   "cell_type": "markdown",
   "metadata": {},
   "source": [
    "The DataDrame index (row names) can be retrieved as a [`pandas.index `](http://pandas.pydata.org/pandas-docs/stable/generated/pandas.Index.html), which can be used to retrieve a list of the row names:"
   ]
  },
  {
   "cell_type": "code",
   "execution_count": 101,
   "metadata": {
    "collapsed": false
   },
   "outputs": [
    {
     "name": "stdout",
     "output_type": "stream",
     "text": [
      "Int64Index([0, 1, 2], dtype='int64')\n",
      "[0, 1, 2]\n"
     ]
    }
   ],
   "source": [
    "df = makegridDF()\n",
    "print(df.index)\n",
    "print(df.index.tolist())"
   ]
  },
  {
   "cell_type": "markdown",
   "metadata": {},
   "source": [
    "If the DataDrame index is a more complex data type, the data type is returned:"
   ]
  },
  {
   "cell_type": "code",
   "execution_count": 102,
   "metadata": {
    "collapsed": false
   },
   "outputs": [
    {
     "ename": "NameError",
     "evalue": "global name 'nrow' is not defined",
     "output_type": "error",
     "traceback": [
      "\u001b[1;31m---------------------------------------------------------------------------\u001b[0m",
      "\u001b[1;31mNameError\u001b[0m                                 Traceback (most recent call last)",
      "\u001b[1;32m<ipython-input-102-c03e432f61f0>\u001b[0m in \u001b[0;36m<module>\u001b[1;34m()\u001b[0m\n\u001b[1;32m----> 1\u001b[1;33m \u001b[0mdf\u001b[0m \u001b[1;33m=\u001b[0m \u001b[0mmakeDateRand\u001b[0m\u001b[1;33m(\u001b[0m\u001b[1;33m)\u001b[0m\u001b[1;33m\u001b[0m\u001b[0m\n\u001b[0m\u001b[0;32m      2\u001b[0m \u001b[1;32mprint\u001b[0m\u001b[1;33m(\u001b[0m\u001b[0mdf\u001b[0m\u001b[1;33m.\u001b[0m\u001b[0mindex\u001b[0m\u001b[1;33m)\u001b[0m\u001b[1;33m\u001b[0m\u001b[0m\n\u001b[0;32m      3\u001b[0m \u001b[1;32mprint\u001b[0m\u001b[1;33m(\u001b[0m\u001b[0mdf\u001b[0m\u001b[1;33m.\u001b[0m\u001b[0mindex\u001b[0m\u001b[1;33m.\u001b[0m\u001b[0mtolist\u001b[0m\u001b[1;33m(\u001b[0m\u001b[1;33m)\u001b[0m\u001b[1;33m)\u001b[0m \u001b[1;31m# returns a list\u001b[0m\u001b[1;33m\u001b[0m\u001b[0m\n\u001b[0;32m      4\u001b[0m \u001b[1;32mprint\u001b[0m\u001b[1;33m(\u001b[0m\u001b[0mdf\u001b[0m\u001b[1;33m.\u001b[0m\u001b[0mindex\u001b[0m\u001b[1;33m.\u001b[0m\u001b[0mvalues\u001b[0m\u001b[1;33m)\u001b[0m \u001b[1;31m# returns an array\u001b[0m\u001b[1;33m\u001b[0m\u001b[0m\n",
      "\u001b[1;32m<ipython-input-86-80f474fd1a5a>\u001b[0m in \u001b[0;36mmakeDateRand\u001b[1;34m(nrows, ncols)\u001b[0m\n\u001b[0;32m      2\u001b[0m \u001b[1;32mdef\u001b[0m \u001b[0mmakeDateRand\u001b[0m\u001b[1;33m(\u001b[0m\u001b[0mnrows\u001b[0m\u001b[1;33m=\u001b[0m\u001b[1;36m4\u001b[0m\u001b[1;33m,\u001b[0m \u001b[0mncols\u001b[0m\u001b[1;33m=\u001b[0m\u001b[1;36m4\u001b[0m\u001b[1;33m)\u001b[0m\u001b[1;33m:\u001b[0m\u001b[1;33m\u001b[0m\u001b[0m\n\u001b[0;32m      3\u001b[0m     \u001b[0mdates\u001b[0m \u001b[1;33m=\u001b[0m \u001b[0mpd\u001b[0m\u001b[1;33m.\u001b[0m\u001b[0mdate_range\u001b[0m\u001b[1;33m(\u001b[0m\u001b[1;34m'20130101'\u001b[0m\u001b[1;33m,\u001b[0m\u001b[0mperiods\u001b[0m\u001b[1;33m=\u001b[0m\u001b[1;36m6\u001b[0m\u001b[1;33m)\u001b[0m\u001b[1;33m\u001b[0m\u001b[0m\n\u001b[1;32m----> 4\u001b[1;33m     \u001b[0mdf\u001b[0m \u001b[1;33m=\u001b[0m \u001b[0mpd\u001b[0m\u001b[1;33m.\u001b[0m\u001b[0mDataFrame\u001b[0m\u001b[1;33m(\u001b[0m\u001b[0mnp\u001b[0m\u001b[1;33m.\u001b[0m\u001b[0mrandom\u001b[0m\u001b[1;33m.\u001b[0m\u001b[0mrandn\u001b[0m\u001b[1;33m(\u001b[0m\u001b[0mnrow\u001b[0m\u001b[1;33m,\u001b[0m\u001b[0mncols\u001b[0m\u001b[1;33m)\u001b[0m\u001b[1;33m,\u001b[0m\u001b[0mindex\u001b[0m\u001b[1;33m=\u001b[0m\u001b[0mdates\u001b[0m\u001b[1;33m,\u001b[0m\u001b[0mcolumns\u001b[0m\u001b[1;33m=\u001b[0m\u001b[0mlist\u001b[0m\u001b[1;33m(\u001b[0m\u001b[1;34m'ABCD'\u001b[0m\u001b[1;33m)\u001b[0m\u001b[1;33m)\u001b[0m\u001b[1;33m\u001b[0m\u001b[0m\n\u001b[0m\u001b[0;32m      5\u001b[0m     \u001b[1;32mreturn\u001b[0m \u001b[0mdf\u001b[0m\u001b[1;33m\u001b[0m\u001b[0m\n",
      "\u001b[1;31mNameError\u001b[0m: global name 'nrow' is not defined"
     ]
    }
   ],
   "source": [
    "df = makeDateRand()\n",
    "print(df.index)\n",
    "print(df.index.tolist()) # returns a list\n",
    "print(df.index.values) # returns an array"
   ]
  },
  {
   "cell_type": "code",
   "execution_count": 103,
   "metadata": {
    "collapsed": false
   },
   "outputs": [
    {
     "name": "stdout",
     "output_type": "stream",
     "text": [
      "         A  B  C   D\n",
      "MyIndex             \n",
      "0        1  4  7  10\n",
      "1        2  5  8  11\n",
      "2        3  6  9  12\n",
      "[0, 1, 2]\n",
      "[0 1 2]\n"
     ]
    }
   ],
   "source": [
    "#set / change the index name\n",
    "df = makegridDF()\n",
    "df.index.name = 'MyIndex'\n",
    "print(df)\n",
    "print(df.index.tolist()) # returns a list\n",
    "print(df.index.values)  # returns an array"
   ]
  },
  {
   "cell_type": "markdown",
   "metadata": {},
   "source": [
    "Use a column's values to set the index accordingly. Now that a repeat value appears to be allowed - strange."
   ]
  },
  {
   "cell_type": "code",
   "execution_count": 104,
   "metadata": {
    "collapsed": false
   },
   "outputs": [
    {
     "name": "stdout",
     "output_type": "stream",
     "text": [
      "   A  B  C   D\n",
      "0  1  4  7  10\n",
      "1  2  5  8  11\n",
      "2  3  6  9  12\n",
      "            A  B  C   D\n",
      "MyNewIndex             \n",
      "2           2  5  8  11\n",
      "2           2  6  9  12\n"
     ]
    }
   ],
   "source": [
    "df = makegridDF()\n",
    "print(df)\n",
    "\n",
    "df.loc[2,'A'] = 2\n",
    "df.index = df.A\n",
    "df.index.name = 'MyNewIndex'\n",
    "print(df.loc[2,:])\n"
   ]
  },
  {
   "cell_type": "markdown",
   "metadata": {},
   "source": [
    "### Column properties"
   ]
  },
  {
   "cell_type": "markdown",
   "metadata": {},
   "source": [
    "The column names can be retrieved as a [`pandas.index `](http://pandas.pydata.org/pandas-docs/stable/generated/pandas.Index.html):"
   ]
  },
  {
   "cell_type": "code",
   "execution_count": 105,
   "metadata": {
    "collapsed": false
   },
   "outputs": [
    {
     "data": {
      "text/plain": [
       "Index([u'A', u'B', u'C', u'D'], dtype='object')"
      ]
     },
     "execution_count": 105,
     "metadata": {},
     "output_type": "execute_result"
    }
   ],
   "source": [
    "df.columns"
   ]
  },
  {
   "cell_type": "markdown",
   "metadata": {},
   "source": [
    "Get a list of the columns in dataframe - there are two ways to do this:"
   ]
  },
  {
   "cell_type": "code",
   "execution_count": 106,
   "metadata": {
    "collapsed": false
   },
   "outputs": [
    {
     "ename": "NameError",
     "evalue": "global name 'nrow' is not defined",
     "output_type": "error",
     "traceback": [
      "\u001b[1;31m---------------------------------------------------------------------------\u001b[0m",
      "\u001b[1;31mNameError\u001b[0m                                 Traceback (most recent call last)",
      "\u001b[1;32m<ipython-input-106-a06e03ff5158>\u001b[0m in \u001b[0;36m<module>\u001b[1;34m()\u001b[0m\n\u001b[1;32m----> 1\u001b[1;33m \u001b[0mdf\u001b[0m \u001b[1;33m=\u001b[0m \u001b[0mmakeDateRand\u001b[0m\u001b[1;33m(\u001b[0m\u001b[1;33m)\u001b[0m\u001b[1;33m\u001b[0m\u001b[0m\n\u001b[0m\u001b[0;32m      2\u001b[0m \u001b[1;32mprint\u001b[0m\u001b[1;33m(\u001b[0m\u001b[0mlist\u001b[0m\u001b[1;33m(\u001b[0m\u001b[0mdf\u001b[0m\u001b[1;33m.\u001b[0m\u001b[0mcolumns\u001b[0m\u001b[1;33m.\u001b[0m\u001b[0mvalues\u001b[0m\u001b[1;33m)\u001b[0m\u001b[1;33m)\u001b[0m\u001b[1;33m\u001b[0m\u001b[0m\n\u001b[0;32m      3\u001b[0m \u001b[1;32mprint\u001b[0m\u001b[1;33m(\u001b[0m\u001b[0mdf\u001b[0m\u001b[1;33m.\u001b[0m\u001b[0mcolumns\u001b[0m\u001b[1;33m.\u001b[0m\u001b[0mvalues\u001b[0m\u001b[1;33m.\u001b[0m\u001b[0mtolist\u001b[0m\u001b[1;33m(\u001b[0m\u001b[1;33m)\u001b[0m\u001b[1;33m)\u001b[0m \u001b[1;31m#fastest\u001b[0m\u001b[1;33m\u001b[0m\u001b[0m\n\u001b[0;32m      4\u001b[0m \u001b[1;32mprint\u001b[0m\u001b[1;33m(\u001b[0m\u001b[0mlist\u001b[0m\u001b[1;33m(\u001b[0m\u001b[0mdf\u001b[0m\u001b[1;33m)\u001b[0m\u001b[1;33m)\u001b[0m\u001b[1;33m\u001b[0m\u001b[0m\n",
      "\u001b[1;32m<ipython-input-86-80f474fd1a5a>\u001b[0m in \u001b[0;36mmakeDateRand\u001b[1;34m(nrows, ncols)\u001b[0m\n\u001b[0;32m      2\u001b[0m \u001b[1;32mdef\u001b[0m \u001b[0mmakeDateRand\u001b[0m\u001b[1;33m(\u001b[0m\u001b[0mnrows\u001b[0m\u001b[1;33m=\u001b[0m\u001b[1;36m4\u001b[0m\u001b[1;33m,\u001b[0m \u001b[0mncols\u001b[0m\u001b[1;33m=\u001b[0m\u001b[1;36m4\u001b[0m\u001b[1;33m)\u001b[0m\u001b[1;33m:\u001b[0m\u001b[1;33m\u001b[0m\u001b[0m\n\u001b[0;32m      3\u001b[0m     \u001b[0mdates\u001b[0m \u001b[1;33m=\u001b[0m \u001b[0mpd\u001b[0m\u001b[1;33m.\u001b[0m\u001b[0mdate_range\u001b[0m\u001b[1;33m(\u001b[0m\u001b[1;34m'20130101'\u001b[0m\u001b[1;33m,\u001b[0m\u001b[0mperiods\u001b[0m\u001b[1;33m=\u001b[0m\u001b[1;36m6\u001b[0m\u001b[1;33m)\u001b[0m\u001b[1;33m\u001b[0m\u001b[0m\n\u001b[1;32m----> 4\u001b[1;33m     \u001b[0mdf\u001b[0m \u001b[1;33m=\u001b[0m \u001b[0mpd\u001b[0m\u001b[1;33m.\u001b[0m\u001b[0mDataFrame\u001b[0m\u001b[1;33m(\u001b[0m\u001b[0mnp\u001b[0m\u001b[1;33m.\u001b[0m\u001b[0mrandom\u001b[0m\u001b[1;33m.\u001b[0m\u001b[0mrandn\u001b[0m\u001b[1;33m(\u001b[0m\u001b[0mnrow\u001b[0m\u001b[1;33m,\u001b[0m\u001b[0mncols\u001b[0m\u001b[1;33m)\u001b[0m\u001b[1;33m,\u001b[0m\u001b[0mindex\u001b[0m\u001b[1;33m=\u001b[0m\u001b[0mdates\u001b[0m\u001b[1;33m,\u001b[0m\u001b[0mcolumns\u001b[0m\u001b[1;33m=\u001b[0m\u001b[0mlist\u001b[0m\u001b[1;33m(\u001b[0m\u001b[1;34m'ABCD'\u001b[0m\u001b[1;33m)\u001b[0m\u001b[1;33m)\u001b[0m\u001b[1;33m\u001b[0m\u001b[0m\n\u001b[0m\u001b[0;32m      5\u001b[0m     \u001b[1;32mreturn\u001b[0m \u001b[0mdf\u001b[0m\u001b[1;33m\u001b[0m\u001b[0m\n",
      "\u001b[1;31mNameError\u001b[0m: global name 'nrow' is not defined"
     ]
    }
   ],
   "source": [
    "df = makeDateRand()\n",
    "print(list(df.columns.values))\n",
    "print(df.columns.values.tolist()) #fastest\n",
    "print(list(df))"
   ]
  },
  {
   "cell_type": "markdown",
   "metadata": {},
   "source": [
    "###DataFrame values\n",
    "\n",
    "Get the values of the DataFrame contents as a Numpy array:"
   ]
  },
  {
   "cell_type": "code",
   "execution_count": 107,
   "metadata": {
    "collapsed": false
   },
   "outputs": [
    {
     "ename": "NameError",
     "evalue": "global name 'nrow' is not defined",
     "output_type": "error",
     "traceback": [
      "\u001b[1;31m---------------------------------------------------------------------------\u001b[0m",
      "\u001b[1;31mNameError\u001b[0m                                 Traceback (most recent call last)",
      "\u001b[1;32m<ipython-input-107-19b627733a8e>\u001b[0m in \u001b[0;36m<module>\u001b[1;34m()\u001b[0m\n\u001b[1;32m----> 1\u001b[1;33m \u001b[0mdf\u001b[0m \u001b[1;33m=\u001b[0m \u001b[0mmakeDateRand\u001b[0m\u001b[1;33m(\u001b[0m\u001b[1;33m)\u001b[0m\u001b[1;33m\u001b[0m\u001b[0m\n\u001b[0m\u001b[0;32m      2\u001b[0m \u001b[0mdf\u001b[0m\u001b[1;33m.\u001b[0m\u001b[0mvalues\u001b[0m\u001b[1;33m\u001b[0m\u001b[0m\n",
      "\u001b[1;32m<ipython-input-86-80f474fd1a5a>\u001b[0m in \u001b[0;36mmakeDateRand\u001b[1;34m(nrows, ncols)\u001b[0m\n\u001b[0;32m      2\u001b[0m \u001b[1;32mdef\u001b[0m \u001b[0mmakeDateRand\u001b[0m\u001b[1;33m(\u001b[0m\u001b[0mnrows\u001b[0m\u001b[1;33m=\u001b[0m\u001b[1;36m4\u001b[0m\u001b[1;33m,\u001b[0m \u001b[0mncols\u001b[0m\u001b[1;33m=\u001b[0m\u001b[1;36m4\u001b[0m\u001b[1;33m)\u001b[0m\u001b[1;33m:\u001b[0m\u001b[1;33m\u001b[0m\u001b[0m\n\u001b[0;32m      3\u001b[0m     \u001b[0mdates\u001b[0m \u001b[1;33m=\u001b[0m \u001b[0mpd\u001b[0m\u001b[1;33m.\u001b[0m\u001b[0mdate_range\u001b[0m\u001b[1;33m(\u001b[0m\u001b[1;34m'20130101'\u001b[0m\u001b[1;33m,\u001b[0m\u001b[0mperiods\u001b[0m\u001b[1;33m=\u001b[0m\u001b[1;36m6\u001b[0m\u001b[1;33m)\u001b[0m\u001b[1;33m\u001b[0m\u001b[0m\n\u001b[1;32m----> 4\u001b[1;33m     \u001b[0mdf\u001b[0m \u001b[1;33m=\u001b[0m \u001b[0mpd\u001b[0m\u001b[1;33m.\u001b[0m\u001b[0mDataFrame\u001b[0m\u001b[1;33m(\u001b[0m\u001b[0mnp\u001b[0m\u001b[1;33m.\u001b[0m\u001b[0mrandom\u001b[0m\u001b[1;33m.\u001b[0m\u001b[0mrandn\u001b[0m\u001b[1;33m(\u001b[0m\u001b[0mnrow\u001b[0m\u001b[1;33m,\u001b[0m\u001b[0mncols\u001b[0m\u001b[1;33m)\u001b[0m\u001b[1;33m,\u001b[0m\u001b[0mindex\u001b[0m\u001b[1;33m=\u001b[0m\u001b[0mdates\u001b[0m\u001b[1;33m,\u001b[0m\u001b[0mcolumns\u001b[0m\u001b[1;33m=\u001b[0m\u001b[0mlist\u001b[0m\u001b[1;33m(\u001b[0m\u001b[1;34m'ABCD'\u001b[0m\u001b[1;33m)\u001b[0m\u001b[1;33m)\u001b[0m\u001b[1;33m\u001b[0m\u001b[0m\n\u001b[0m\u001b[0;32m      5\u001b[0m     \u001b[1;32mreturn\u001b[0m \u001b[0mdf\u001b[0m\u001b[1;33m\u001b[0m\u001b[0m\n",
      "\u001b[1;31mNameError\u001b[0m: global name 'nrow' is not defined"
     ]
    }
   ],
   "source": [
    "df = makeDateRand()\n",
    "df.values"
   ]
  },
  {
   "cell_type": "markdown",
   "metadata": {},
   "source": [
    "##NaN in Pandas / Numpy\n",
    "\n",
    "Empty cells, or cells with missing data are filled with NaNs.  The example shows how to test for NaN values (`isnull()`)."
   ]
  },
  {
   "cell_type": "code",
   "execution_count": 108,
   "metadata": {
    "collapsed": false
   },
   "outputs": [
    {
     "name": "stdout",
     "output_type": "stream",
     "text": [
      "nan\n",
      "True\n"
     ]
    }
   ],
   "source": [
    "a = np.nan\n",
    "print(a)\n",
    "print(pd.isnull(a))"
   ]
  },
  {
   "cell_type": "markdown",
   "metadata": {},
   "source": [
    "Use the `fillna()` function to fill NaN cells with some other value."
   ]
  },
  {
   "cell_type": "code",
   "execution_count": 109,
   "metadata": {
    "collapsed": false
   },
   "outputs": [
    {
     "name": "stdout",
     "output_type": "stream",
     "text": [
      "   A   B\n",
      "0  1 NaN\n",
      "1  3   4\n",
      "\n",
      "Nans = \n",
      "       A      B\n",
      "0  False   True\n",
      "1  False  False\n",
      "\n",
      "Nans replaced with ** = \n",
      "   A   B\n",
      "0  1  **\n",
      "1  3   4\n"
     ]
    }
   ],
   "source": [
    "df = pd.DataFrame([[1, np.nan], [3, 4]], columns=list('AB'))\n",
    "print(df)\n",
    "print('\\nNans = \\n{}'.format(df.apply(lambda col: pd.isnull(col))))\n",
    "# print(pd.isnull(a))\n",
    "\n",
    "#change all NaN to some other value\n",
    "df.B = df.B.fillna('**')\n",
    "print('\\nNans replaced with ** = \\n{}'.format(df))\n"
   ]
  },
  {
   "cell_type": "markdown",
   "metadata": {},
   "source": [
    "##Manipulating DataFrames"
   ]
  },
  {
   "cell_type": "markdown",
   "metadata": {},
   "source": [
    "###View of a DataFrame vs a Copy of a DataFrame"
   ]
  },
  {
   "cell_type": "markdown",
   "metadata": {},
   "source": [
    "See [here](http://pandas.pydata.org/pandas-docs/stable/indexing.html#indexing-view-versus-copy) for the full example.\n",
    "           \n",
    "More information on [multi-indexing](http://pandas-docs.github.io/pandas-docs-travis/advanced.html)"
   ]
  },
  {
   "cell_type": "code",
   "execution_count": 110,
   "metadata": {
    "collapsed": false
   },
   "outputs": [
    {
     "name": "stdout",
     "output_type": "stream",
     "text": [
      "    one          two       \n",
      "  first second first second\n",
      "0     a      b     c      d\n",
      "1     e      f     g      h\n",
      "2     i      j     k      l\n",
      "3     m      n     o      p\n"
     ]
    }
   ],
   "source": [
    "dfmi = createMultColIdx()\n",
    "print(dfmi)"
   ]
  },
  {
   "cell_type": "markdown",
   "metadata": {},
   "source": [
    "In the code below the first form `dfmi['one']['second']` is called the chained method, both using the `__getitem__` method, but happening in sequence.  The first call `dfmi['one']` returns a DataFrame which is input to the second call`(dfmi['one'])['second']` - these are two calls, one happening after the other.  \n",
    "\n",
    "The second form `df.loc[:,('one','second')]`  passes a nested tuple to a single call to `__getitem__`, which can be significantly faster, and allows one to index both axes if so desired. Look at the name of the DataFrame returned in both cases and spot the difference."
   ]
  },
  {
   "cell_type": "code",
   "execution_count": 111,
   "metadata": {
    "collapsed": false
   },
   "outputs": [
    {
     "name": "stdout",
     "output_type": "stream",
     "text": [
      "0    b\n",
      "1    f\n",
      "2    j\n",
      "3    n\n",
      "Name: second, dtype: object\n",
      "0    b\n",
      "1    f\n",
      "2    j\n",
      "3    n\n",
      "Name: (one, second), dtype: object\n"
     ]
    }
   ],
   "source": [
    "print(dfmi['one']['second'])\n",
    "print(dfmi.loc[:,('one','second')])\n"
   ]
  },
  {
   "cell_type": "markdown",
   "metadata": {},
   "source": [
    "The first forms gives a `SettingWithCopyWarning` warning.  Since the chained indexing is 2 calls, it is possible that either call may return a copy of the data because of the way it is sliced. Thus when setting, you are actually setting a copy, and not the original frame data. \n",
    "\n",
    "The `.loc` operation is a single python operation, and thus can select a slice (which still may be a copy), but allows pandas to assign that slice back into the frame after it is modified, thus setting the values as you would think.\n",
    "\n",
    "The reason for having the `SettingWithCopy` warning is this. Sometimes when you slice an array you will simply get a view back, which means you can set it no problem. However, even a single dtyped array can generate a copy if it is sliced in a particular way. A multi-dtyped DataFrame (meaning it has say float and object data), will almost always yield a copy. Whether a view is created is dependent on the memory layout of the array."
   ]
  },
  {
   "cell_type": "code",
   "execution_count": 112,
   "metadata": {
    "collapsed": false
   },
   "outputs": [
    {
     "name": "stdout",
     "output_type": "stream",
     "text": [
      "    one          two       \n",
      "  first second first second\n",
      "0     a      b     c      d\n",
      "1     e      f     g      h\n",
      "2     i      j     k      l\n",
      "3     m      n     o      p\n"
     ]
    },
    {
     "name": "stderr",
     "output_type": "stream",
     "text": [
      "C:\\Anaconda\\lib\\site-packages\\IPython\\kernel\\__main__.py:1: SettingWithCopyWarning: \n",
      "A value is trying to be set on a copy of a slice from a DataFrame.\n",
      "Try using .loc[row_indexer,col_indexer] = value instead\n",
      "\n",
      "See the the caveats in the documentation: http://pandas.pydata.org/pandas-docs/stable/indexing.html#indexing-view-versus-copy\n",
      "  if __name__ == '__main__':\n"
     ]
    }
   ],
   "source": [
    "dfmi['one']['second'] = 1 # assignment has no effect on the original!!\n",
    "print(dfmi)"
   ]
  },
  {
   "cell_type": "markdown",
   "metadata": {},
   "source": [
    "To get the desired effect, use `.loc` to directly address the original DataFrame.  The `slice` method is used to select multiple column levels.\n",
    "\n",
    "<http://pandas-docs.github.io/pandas-docs-travis/advanced.html#using-slicers>"
   ]
  },
  {
   "cell_type": "code",
   "execution_count": 113,
   "metadata": {
    "collapsed": false
   },
   "outputs": [
    {
     "name": "stdout",
     "output_type": "stream",
     "text": [
      "    one          two       \n",
      "  first second first second\n",
      "0     1      1     c      d\n",
      "1     1      1     g      h\n",
      "2     1      1     k      l\n",
      "3     1      1     o      p\n"
     ]
    }
   ],
   "source": [
    "dfmi.loc[:,slice('one','second')] = 1\n",
    "print(dfmi)"
   ]
  },
  {
   "cell_type": "markdown",
   "metadata": {},
   "source": [
    "###Dropping a row from a DataFrame"
   ]
  },
  {
   "cell_type": "markdown",
   "metadata": {},
   "source": [
    "When using drop(), note the axis direction.   \n",
    "- to drop a column axis=1  \n",
    "- to drop a row axis=0  (default)"
   ]
  },
  {
   "cell_type": "code",
   "execution_count": 114,
   "metadata": {
    "collapsed": false
   },
   "outputs": [
    {
     "name": "stdout",
     "output_type": "stream",
     "text": [
      "   B  C   D\n",
      "0  4  7  10\n",
      "1  5  8  11\n",
      "2  6  9  12\n"
     ]
    }
   ],
   "source": [
    "#drop a column\n",
    "df = makegridDF()\n",
    "#first drop the 'A' column\n",
    "print(df.drop('A',axis=1))"
   ]
  },
  {
   "cell_type": "markdown",
   "metadata": {},
   "source": [
    "You can also use row indexes to drop columns.  The following example shows several index-based row drop methods."
   ]
  },
  {
   "cell_type": "code",
   "execution_count": 115,
   "metadata": {
    "collapsed": false
   },
   "outputs": [
    {
     "name": "stdout",
     "output_type": "stream",
     "text": [
      "   A  B  C   D\n",
      "0  1  4  7  10\n",
      "1  2  5  8  11\n",
      "2  3  6  9  12\n",
      "   A  B  C   D\n",
      "0  1  4  7  10\n",
      "2  3  6  9  12\n",
      "   A  B  C   D\n",
      "0  1  4  7  10\n",
      "   A  B  C   D\n",
      "1  2  5  8  11\n",
      "2  3  6  9  12\n",
      "   A  B  C   D\n",
      "1  2  5  8  11\n",
      "(0, A     1\n",
      "B     4\n",
      "C     7\n",
      "D    10\n",
      "Name: 0, dtype: int64)\n",
      "(1, A     2\n",
      "B     5\n",
      "C     8\n",
      "D    11\n",
      "Name: 1, dtype: int64)\n",
      "(2, A     3\n",
      "B     6\n",
      "C     9\n",
      "D    12\n",
      "Name: 2, dtype: int64)\n",
      "Empty DataFrame\n",
      "Columns: [A, B, C, D]\n",
      "Index: []\n"
     ]
    }
   ],
   "source": [
    "df = makegridDF()\n",
    "print(df)\n",
    "print(df.drop(1)) # singe index\n",
    "print(df.drop([1,2])) # list of indexes\n",
    "print(df.drop(0,axis=0)) #single index explicit row selection\n",
    "print(df.drop(df.index[[0,2]])) #list in the index \n",
    "for idx, row in df.iterrows():#iterate over all rows\n",
    "    print(idx,row)\n",
    "    df.drop(idx,inplace=True)\n",
    "print(df)"
   ]
  },
  {
   "cell_type": "code",
   "execution_count": 116,
   "metadata": {
    "collapsed": false
   },
   "outputs": [
    {
     "ename": "NameError",
     "evalue": "global name 'nrow' is not defined",
     "output_type": "error",
     "traceback": [
      "\u001b[1;31m---------------------------------------------------------------------------\u001b[0m",
      "\u001b[1;31mNameError\u001b[0m                                 Traceback (most recent call last)",
      "\u001b[1;32m<ipython-input-116-7b8e9d764843>\u001b[0m in \u001b[0;36m<module>\u001b[1;34m()\u001b[0m\n\u001b[0;32m      1\u001b[0m \u001b[1;31m#drop some of the rows\u001b[0m\u001b[1;33m\u001b[0m\u001b[1;33m\u001b[0m\u001b[0m\n\u001b[1;32m----> 2\u001b[1;33m \u001b[0mdf\u001b[0m \u001b[1;33m=\u001b[0m \u001b[0mmakeDateRand\u001b[0m\u001b[1;33m(\u001b[0m\u001b[1;33m)\u001b[0m\u001b[1;33m\u001b[0m\u001b[0m\n\u001b[0m\u001b[0;32m      3\u001b[0m \u001b[0mdf\u001b[0m \u001b[1;33m=\u001b[0m \u001b[0mdf\u001b[0m\u001b[1;33m.\u001b[0m\u001b[0mdrop\u001b[0m\u001b[1;33m(\u001b[0m\u001b[0mdf\u001b[0m\u001b[1;33m.\u001b[0m\u001b[0mindex\u001b[0m\u001b[1;33m[\u001b[0m\u001b[1;33m[\u001b[0m\u001b[1;36m0\u001b[0m\u001b[1;33m,\u001b[0m\u001b[1;36m1\u001b[0m\u001b[1;33m,\u001b[0m\u001b[1;36m2\u001b[0m\u001b[1;33m,\u001b[0m\u001b[1;36m3\u001b[0m\u001b[1;33m]\u001b[0m\u001b[1;33m]\u001b[0m\u001b[1;33m)\u001b[0m\u001b[1;33m\u001b[0m\u001b[0m\n\u001b[0;32m      4\u001b[0m \u001b[1;32mfor\u001b[0m \u001b[0midx\u001b[0m\u001b[1;33m,\u001b[0m \u001b[0mrow\u001b[0m \u001b[1;32min\u001b[0m \u001b[0mdf\u001b[0m\u001b[1;33m.\u001b[0m\u001b[0miterrows\u001b[0m\u001b[1;33m(\u001b[0m\u001b[1;33m)\u001b[0m\u001b[1;33m:\u001b[0m\u001b[1;33m\u001b[0m\u001b[0m\n\u001b[0;32m      5\u001b[0m     \u001b[1;32mprint\u001b[0m\u001b[1;33m(\u001b[0m\u001b[0midx\u001b[0m\u001b[1;33m,\u001b[0m\u001b[0mrow\u001b[0m\u001b[1;33m)\u001b[0m\u001b[1;33m\u001b[0m\u001b[0m\n",
      "\u001b[1;32m<ipython-input-86-80f474fd1a5a>\u001b[0m in \u001b[0;36mmakeDateRand\u001b[1;34m(nrows, ncols)\u001b[0m\n\u001b[0;32m      2\u001b[0m \u001b[1;32mdef\u001b[0m \u001b[0mmakeDateRand\u001b[0m\u001b[1;33m(\u001b[0m\u001b[0mnrows\u001b[0m\u001b[1;33m=\u001b[0m\u001b[1;36m4\u001b[0m\u001b[1;33m,\u001b[0m \u001b[0mncols\u001b[0m\u001b[1;33m=\u001b[0m\u001b[1;36m4\u001b[0m\u001b[1;33m)\u001b[0m\u001b[1;33m:\u001b[0m\u001b[1;33m\u001b[0m\u001b[0m\n\u001b[0;32m      3\u001b[0m     \u001b[0mdates\u001b[0m \u001b[1;33m=\u001b[0m \u001b[0mpd\u001b[0m\u001b[1;33m.\u001b[0m\u001b[0mdate_range\u001b[0m\u001b[1;33m(\u001b[0m\u001b[1;34m'20130101'\u001b[0m\u001b[1;33m,\u001b[0m\u001b[0mperiods\u001b[0m\u001b[1;33m=\u001b[0m\u001b[1;36m6\u001b[0m\u001b[1;33m)\u001b[0m\u001b[1;33m\u001b[0m\u001b[0m\n\u001b[1;32m----> 4\u001b[1;33m     \u001b[0mdf\u001b[0m \u001b[1;33m=\u001b[0m \u001b[0mpd\u001b[0m\u001b[1;33m.\u001b[0m\u001b[0mDataFrame\u001b[0m\u001b[1;33m(\u001b[0m\u001b[0mnp\u001b[0m\u001b[1;33m.\u001b[0m\u001b[0mrandom\u001b[0m\u001b[1;33m.\u001b[0m\u001b[0mrandn\u001b[0m\u001b[1;33m(\u001b[0m\u001b[0mnrow\u001b[0m\u001b[1;33m,\u001b[0m\u001b[0mncols\u001b[0m\u001b[1;33m)\u001b[0m\u001b[1;33m,\u001b[0m\u001b[0mindex\u001b[0m\u001b[1;33m=\u001b[0m\u001b[0mdates\u001b[0m\u001b[1;33m,\u001b[0m\u001b[0mcolumns\u001b[0m\u001b[1;33m=\u001b[0m\u001b[0mlist\u001b[0m\u001b[1;33m(\u001b[0m\u001b[1;34m'ABCD'\u001b[0m\u001b[1;33m)\u001b[0m\u001b[1;33m)\u001b[0m\u001b[1;33m\u001b[0m\u001b[0m\n\u001b[0m\u001b[0;32m      5\u001b[0m     \u001b[1;32mreturn\u001b[0m \u001b[0mdf\u001b[0m\u001b[1;33m\u001b[0m\u001b[0m\n",
      "\u001b[1;31mNameError\u001b[0m: global name 'nrow' is not defined"
     ]
    }
   ],
   "source": [
    "#drop some of the rows\n",
    "df = makeDateRand()\n",
    "df = df.drop(df.index[[0,1,2,3]])\n",
    "for idx, row in df.iterrows():\n",
    "    print(idx,row)"
   ]
  },
  {
   "cell_type": "code",
   "execution_count": 117,
   "metadata": {
    "collapsed": false
   },
   "outputs": [
    {
     "name": "stdout",
     "output_type": "stream",
     "text": [
      "   A  B  C   D\n",
      "0  1  4  7  10\n",
      "1  2  5  8  11\n",
      "2  3  6  9  12\n",
      "   A  B  C   D\n",
      "2  3  6  9  12\n",
      "   A  B  C   D\n",
      "1  2  5  8  11\n"
     ]
    }
   ],
   "source": [
    "#drop row based on value in a column\n",
    "df = makegridDF()\n",
    "print(df)\n",
    "print(df[df['A'] >= 3])\n",
    "print(df[(df['A'] >= 2) & (df['B']<6)])"
   ]
  },
  {
   "cell_type": "markdown",
   "metadata": {},
   "source": [
    "###Concatenation or Appending rows or DataFrames"
   ]
  },
  {
   "cell_type": "markdown",
   "metadata": {},
   "source": [
    "`df.shape[0]` returns the number of rows already in the DataFrame (zero-based), hence if `df.shape[0]` is used as a row index, it will point to a new row immediately beyond the current last row.  This is an easy way to add row(s) to an existing DataFrame. \n",
    "\n",
    "Rows can be added to the DataFrame by [setting with enlargement](http://pandas.pydata.org/pandas-docs/version/0.15.2/indexing.html#setting-with-enlargement).  The `df.loc[i]` (location) construct points to row `i`, which need not be an existing row."
   ]
  },
  {
   "cell_type": "code",
   "execution_count": 118,
   "metadata": {
    "collapsed": false
   },
   "outputs": [
    {
     "name": "stdout",
     "output_type": "stream",
     "text": [
      "   A  B\n",
      "0  1  2\n",
      "1  3  4\n",
      "     A     B\n",
      "0    1     2\n",
      "1    3     4\n",
      "2    a     b\n",
      "3  NaN  new!\n"
     ]
    }
   ],
   "source": [
    "df = pd.DataFrame([[1, 2], [3, 4]], columns=list('AB'))\n",
    "print(df)\n",
    "df.loc[df.shape[0]] = ['a','b'] # add a row immediately beyond the current last\n",
    "df.loc[df.shape[0]] = [np.nan,'new!'] # add a row immediately beyond the current last\n",
    "print(df)"
   ]
  },
  {
   "cell_type": "markdown",
   "metadata": {},
   "source": [
    "Append rows to a dataframe. See the [Appending](http://pandas.pydata.org/pandas-docs/version/0.15.2/merging.html#merging-concatenation).  This examples makes a copy of one of the rows and append it to the DataFrame.  Note that in this case a `copy()` is required to create a new DataFrame which is modified before appending."
   ]
  },
  {
   "cell_type": "code",
   "execution_count": 119,
   "metadata": {
    "collapsed": false
   },
   "outputs": [
    {
     "name": "stdout",
     "output_type": "stream",
     "text": [
      "A       0.642396\n",
      "B      -1.006489\n",
      "C    1000.000000\n",
      "D      -0.098884\n",
      "Name: 2, dtype: float64\n"
     ]
    },
    {
     "data": {
      "text/html": [
       "<div style=\"max-height:1000px;max-width:1500px;overflow:auto;\">\n",
       "<table border=\"1\" class=\"dataframe\">\n",
       "  <thead>\n",
       "    <tr style=\"text-align: right;\">\n",
       "      <th></th>\n",
       "      <th>A</th>\n",
       "      <th>B</th>\n",
       "      <th>C</th>\n",
       "      <th>D</th>\n",
       "    </tr>\n",
       "  </thead>\n",
       "  <tbody>\n",
       "    <tr>\n",
       "      <th>0</th>\n",
       "      <td>-1.345419</td>\n",
       "      <td>-1.068482</td>\n",
       "      <td>   -0.398066</td>\n",
       "      <td>-0.137575</td>\n",
       "    </tr>\n",
       "    <tr>\n",
       "      <th>1</th>\n",
       "      <td> 0.937761</td>\n",
       "      <td>-2.201902</td>\n",
       "      <td>   -1.189793</td>\n",
       "      <td> 1.099483</td>\n",
       "    </tr>\n",
       "    <tr>\n",
       "      <th>2</th>\n",
       "      <td> 0.642396</td>\n",
       "      <td>-1.006489</td>\n",
       "      <td>   -2.081371</td>\n",
       "      <td>-0.098884</td>\n",
       "    </tr>\n",
       "    <tr>\n",
       "      <th>3</th>\n",
       "      <td> 0.290115</td>\n",
       "      <td> 0.647737</td>\n",
       "      <td>    0.880789</td>\n",
       "      <td> 0.974610</td>\n",
       "    </tr>\n",
       "    <tr>\n",
       "      <th>4</th>\n",
       "      <td> 0.642396</td>\n",
       "      <td>-1.006489</td>\n",
       "      <td> 1000.000000</td>\n",
       "      <td>-0.098884</td>\n",
       "    </tr>\n",
       "  </tbody>\n",
       "</table>\n",
       "</div>"
      ],
      "text/plain": [
       "          A         B            C         D\n",
       "0 -1.345419 -1.068482    -0.398066 -0.137575\n",
       "1  0.937761 -2.201902    -1.189793  1.099483\n",
       "2  0.642396 -1.006489    -2.081371 -0.098884\n",
       "3  0.290115  0.647737     0.880789  0.974610\n",
       "4  0.642396 -1.006489  1000.000000 -0.098884"
      ]
     },
     "execution_count": 119,
     "metadata": {},
     "output_type": "execute_result"
    }
   ],
   "source": [
    "df = makeRand()\n",
    "s = df.iloc[2].copy() # copy is required, otherwise a view is taken\n",
    "s[2] = 1000\n",
    "print(s)\n",
    "df.append(s, ignore_index=True)"
   ]
  },
  {
   "cell_type": "markdown",
   "metadata": {},
   "source": [
    "The `append()` function can be used to add one more rows formed as DataFrames to an existing DataFrame."
   ]
  },
  {
   "cell_type": "code",
   "execution_count": 120,
   "metadata": {
    "collapsed": false
   },
   "outputs": [
    {
     "name": "stdout",
     "output_type": "stream",
     "text": [
      "   A  B\n",
      "0  1  2\n",
      "1  3  4\n",
      "0  5  6\n",
      "1  7  8\n"
     ]
    }
   ],
   "source": [
    "df = pd.DataFrame([[1, 2], [3, 4]], columns=list('AB'))\n",
    "df2 = pd.DataFrame([[5, 6], [7, 8]], columns=list('AB'))\n",
    "df = df.append(df2) # append row(s)\n",
    "print(df)"
   ]
  },
  {
   "cell_type": "markdown",
   "metadata": {},
   "source": [
    "Concatenate some existing rows from the current DataFrame to itself."
   ]
  },
  {
   "cell_type": "code",
   "execution_count": 121,
   "metadata": {
    "collapsed": false
   },
   "outputs": [
    {
     "data": {
      "text/html": [
       "<div style=\"max-height:1000px;max-width:1500px;overflow:auto;\">\n",
       "<table border=\"1\" class=\"dataframe\">\n",
       "  <thead>\n",
       "    <tr style=\"text-align: right;\">\n",
       "      <th></th>\n",
       "      <th>A</th>\n",
       "      <th>B</th>\n",
       "      <th>C</th>\n",
       "      <th>D</th>\n",
       "    </tr>\n",
       "  </thead>\n",
       "  <tbody>\n",
       "    <tr>\n",
       "      <th>0</th>\n",
       "      <td>-1.500266</td>\n",
       "      <td> 0.976661</td>\n",
       "      <td> 0.013012</td>\n",
       "      <td> 0.008990</td>\n",
       "    </tr>\n",
       "    <tr>\n",
       "      <th>1</th>\n",
       "      <td> 0.960616</td>\n",
       "      <td> 1.458199</td>\n",
       "      <td>-0.131962</td>\n",
       "      <td>-0.692836</td>\n",
       "    </tr>\n",
       "    <tr>\n",
       "      <th>2</th>\n",
       "      <td> 2.065584</td>\n",
       "      <td>-0.710521</td>\n",
       "      <td>-1.226007</td>\n",
       "      <td>-1.072416</td>\n",
       "    </tr>\n",
       "    <tr>\n",
       "      <th>3</th>\n",
       "      <td>-0.748770</td>\n",
       "      <td>-2.214471</td>\n",
       "      <td> 0.323839</td>\n",
       "      <td>-0.469724</td>\n",
       "    </tr>\n",
       "    <tr>\n",
       "      <th>2</th>\n",
       "      <td> 2.065584</td>\n",
       "      <td>-0.710521</td>\n",
       "      <td>-1.226007</td>\n",
       "      <td>-1.072416</td>\n",
       "    </tr>\n",
       "    <tr>\n",
       "      <th>3</th>\n",
       "      <td>-0.748770</td>\n",
       "      <td>-2.214471</td>\n",
       "      <td> 0.323839</td>\n",
       "      <td>-0.469724</td>\n",
       "    </tr>\n",
       "  </tbody>\n",
       "</table>\n",
       "</div>"
      ],
      "text/plain": [
       "          A         B         C         D\n",
       "0 -1.500266  0.976661  0.013012  0.008990\n",
       "1  0.960616  1.458199 -0.131962 -0.692836\n",
       "2  2.065584 -0.710521 -1.226007 -1.072416\n",
       "3 -0.748770 -2.214471  0.323839 -0.469724\n",
       "2  2.065584 -0.710521 -1.226007 -1.072416\n",
       "3 -0.748770 -2.214471  0.323839 -0.469724"
      ]
     },
     "execution_count": 121,
     "metadata": {},
     "output_type": "execute_result"
    }
   ],
   "source": [
    "df = makeRand()\n",
    "df2 = pd.concat([df,df[2:4]])\n",
    "df2"
   ]
  },
  {
   "cell_type": "markdown",
   "metadata": {},
   "source": [
    "The following examples concatenates three views of a DataFrame."
   ]
  },
  {
   "cell_type": "code",
   "execution_count": 122,
   "metadata": {
    "collapsed": false
   },
   "outputs": [
    {
     "name": "stdout",
     "output_type": "stream",
     "text": [
      "          A         B         C         D\n",
      "0 -0.983167  1.698776  0.788667  1.279863\n",
      "1  1.386260 -1.191339 -2.430752 -0.512346\n",
      "2  0.538155  0.278630 -1.896839 -1.454279\n",
      "3 -0.259158 -0.241541  1.248967  0.102363\n",
      "4 -0.584848  1.324369 -0.325285  1.075654\n",
      "5  1.066595 -0.448447  0.153916 -0.058102\n",
      "6 -0.715968 -0.801779  1.361379  0.793378\n",
      "7  0.768382 -0.262929 -0.948817  0.379604\n",
      "8 -0.464480 -1.075075  0.572889  0.912850\n",
      "9  0.295642 -1.892635 -0.131382 -0.584188\n"
     ]
    },
    {
     "data": {
      "text/html": [
       "<div style=\"max-height:1000px;max-width:1500px;overflow:auto;\">\n",
       "<table border=\"1\" class=\"dataframe\">\n",
       "  <thead>\n",
       "    <tr style=\"text-align: right;\">\n",
       "      <th></th>\n",
       "      <th>A</th>\n",
       "      <th>B</th>\n",
       "      <th>C</th>\n",
       "      <th>D</th>\n",
       "    </tr>\n",
       "  </thead>\n",
       "  <tbody>\n",
       "    <tr>\n",
       "      <th>0</th>\n",
       "      <td>-0.983167</td>\n",
       "      <td> 1.698776</td>\n",
       "      <td> 0.788667</td>\n",
       "      <td> 1.279863</td>\n",
       "    </tr>\n",
       "    <tr>\n",
       "      <th>1</th>\n",
       "      <td> 1.386260</td>\n",
       "      <td>-1.191339</td>\n",
       "      <td>-2.430752</td>\n",
       "      <td>-0.512346</td>\n",
       "    </tr>\n",
       "    <tr>\n",
       "      <th>2</th>\n",
       "      <td> 0.538155</td>\n",
       "      <td> 0.278630</td>\n",
       "      <td>-1.896839</td>\n",
       "      <td>-1.454279</td>\n",
       "    </tr>\n",
       "    <tr>\n",
       "      <th>3</th>\n",
       "      <td>-0.259158</td>\n",
       "      <td>-0.241541</td>\n",
       "      <td> 1.248967</td>\n",
       "      <td> 0.102363</td>\n",
       "    </tr>\n",
       "    <tr>\n",
       "      <th>4</th>\n",
       "      <td>-0.584848</td>\n",
       "      <td> 1.324369</td>\n",
       "      <td>-0.325285</td>\n",
       "      <td> 1.075654</td>\n",
       "    </tr>\n",
       "    <tr>\n",
       "      <th>5</th>\n",
       "      <td> 1.066595</td>\n",
       "      <td>-0.448447</td>\n",
       "      <td> 0.153916</td>\n",
       "      <td>-0.058102</td>\n",
       "    </tr>\n",
       "    <tr>\n",
       "      <th>6</th>\n",
       "      <td>-0.715968</td>\n",
       "      <td>-0.801779</td>\n",
       "      <td> 1.361379</td>\n",
       "      <td> 0.793378</td>\n",
       "    </tr>\n",
       "    <tr>\n",
       "      <th>7</th>\n",
       "      <td> 0.768382</td>\n",
       "      <td>-0.262929</td>\n",
       "      <td>-0.948817</td>\n",
       "      <td> 0.379604</td>\n",
       "    </tr>\n",
       "    <tr>\n",
       "      <th>8</th>\n",
       "      <td>-0.464480</td>\n",
       "      <td>-1.075075</td>\n",
       "      <td> 0.572889</td>\n",
       "      <td> 0.912850</td>\n",
       "    </tr>\n",
       "    <tr>\n",
       "      <th>9</th>\n",
       "      <td> 0.295642</td>\n",
       "      <td>-1.892635</td>\n",
       "      <td>-0.131382</td>\n",
       "      <td>-0.584188</td>\n",
       "    </tr>\n",
       "  </tbody>\n",
       "</table>\n",
       "</div>"
      ],
      "text/plain": [
       "          A         B         C         D\n",
       "0 -0.983167  1.698776  0.788667  1.279863\n",
       "1  1.386260 -1.191339 -2.430752 -0.512346\n",
       "2  0.538155  0.278630 -1.896839 -1.454279\n",
       "3 -0.259158 -0.241541  1.248967  0.102363\n",
       "4 -0.584848  1.324369 -0.325285  1.075654\n",
       "5  1.066595 -0.448447  0.153916 -0.058102\n",
       "6 -0.715968 -0.801779  1.361379  0.793378\n",
       "7  0.768382 -0.262929 -0.948817  0.379604\n",
       "8 -0.464480 -1.075075  0.572889  0.912850\n",
       "9  0.295642 -1.892635 -0.131382 -0.584188"
      ]
     },
     "execution_count": 122,
     "metadata": {},
     "output_type": "execute_result"
    }
   ],
   "source": [
    "# Concatenating pandas objects together\n",
    "df = makeRand(10,4)\n",
    "print(df)\n",
    "# break it into pieces\n",
    "pieces = [df[:3], df[3:7], df[7:]]\n",
    "pd.concat(pieces)\n"
   ]
  },
  {
   "cell_type": "markdown",
   "metadata": {},
   "source": [
    "Concatenation stacks together rows from two arrays. In the example below the `df` array is concatenated with a 2x2 slice from `dfr`.  There are two observations from the code below:\n",
    "\n",
    "- The column names are used when concatenating the rows. In the first example the column names are consistent and appended as expected. In the second example the row names do not exactly agree and cells with missing data are filled with NaN.\n",
    "- The index data type of the concatenated DataFrame must be the same as the main DataFrame (hash error occurs otherwise).  For example if the index is the DateTime series, the concatenation will not work."
   ]
  },
  {
   "cell_type": "code",
   "execution_count": 123,
   "metadata": {
    "collapsed": false
   },
   "outputs": [
    {
     "name": "stdout",
     "output_type": "stream",
     "text": [
      "   A  B  C   D\n",
      "0  1  4  7  10\n",
      "1  2  5  8  11\n",
      "2  3  6  9  12\n",
      "\n",
      "Example 1\n",
      "to be contatenated=   A  B\n",
      "1  2  5\n",
      "2  3  6\n",
      "   A  B\n",
      "0  1  2\n",
      "1  3  4\n",
      "1  2  5\n",
      "2  3  6\n",
      "\n",
      "Example 2\n",
      "to be contatenated=   B  C\n",
      "1  5  8\n",
      "2  6  9\n",
      "    A  B   C\n",
      "0   1  2 NaN\n",
      "1   3  4 NaN\n",
      "1 NaN  5   8\n",
      "2 NaN  6   9\n"
     ]
    }
   ],
   "source": [
    "df = pd.DataFrame([[1, 2], [3, 4]], columns=list('AB'))\n",
    "dfr = makegridDF()\n",
    "print(dfr)\n",
    "print('\\nExample 1')\n",
    "print('to be contatenated={}'.format(dfr.loc[1:2,['A','B']]))\n",
    "df2 = pd.concat([df,dfr.loc[1:2,['A','B']]])\n",
    "print(df2)\n",
    "\n",
    "print('\\nExample 2')\n",
    "print('to be contatenated={}'.format(dfr.loc[1:2,['B','C']]))\n",
    "df2 = pd.concat([df,dfr.loc[1:2,['B','C']]])\n",
    "print(df2)\n",
    "\n",
    "#this will not concatenate in the examples above - index of wrong type\n",
    "# df = makeDateRand()\n",
    "# df.loc['20130102':'20130104',['A','B']]"
   ]
  },
  {
   "cell_type": "markdown",
   "metadata": {},
   "source": [
    "###SQL style merges"
   ]
  },
  {
   "cell_type": "markdown",
   "metadata": {},
   "source": [
    "See the [Database style joining](http://pandas.pydata.org/pandas-docs/version/0.15.2/merging.html#merging-join)."
   ]
  },
  {
   "cell_type": "code",
   "execution_count": 124,
   "metadata": {
    "collapsed": false
   },
   "outputs": [
    {
     "name": "stdout",
     "output_type": "stream",
     "text": [
      "   key  lval\n",
      "0  foo     1\n",
      "1  foo     2\n",
      "   key  rval\n",
      "0  foo     4\n",
      "1  foo     5\n"
     ]
    },
    {
     "data": {
      "text/html": [
       "<div style=\"max-height:1000px;max-width:1500px;overflow:auto;\">\n",
       "<table border=\"1\" class=\"dataframe\">\n",
       "  <thead>\n",
       "    <tr style=\"text-align: right;\">\n",
       "      <th></th>\n",
       "      <th>key</th>\n",
       "      <th>lval</th>\n",
       "      <th>rval</th>\n",
       "    </tr>\n",
       "  </thead>\n",
       "  <tbody>\n",
       "    <tr>\n",
       "      <th>0</th>\n",
       "      <td> foo</td>\n",
       "      <td> 1</td>\n",
       "      <td> 4</td>\n",
       "    </tr>\n",
       "    <tr>\n",
       "      <th>1</th>\n",
       "      <td> foo</td>\n",
       "      <td> 1</td>\n",
       "      <td> 5</td>\n",
       "    </tr>\n",
       "    <tr>\n",
       "      <th>2</th>\n",
       "      <td> foo</td>\n",
       "      <td> 2</td>\n",
       "      <td> 4</td>\n",
       "    </tr>\n",
       "    <tr>\n",
       "      <th>3</th>\n",
       "      <td> foo</td>\n",
       "      <td> 2</td>\n",
       "      <td> 5</td>\n",
       "    </tr>\n",
       "  </tbody>\n",
       "</table>\n",
       "</div>"
      ],
      "text/plain": [
       "   key  lval  rval\n",
       "0  foo     1     4\n",
       "1  foo     1     5\n",
       "2  foo     2     4\n",
       "3  foo     2     5"
      ]
     },
     "execution_count": 124,
     "metadata": {},
     "output_type": "execute_result"
    }
   ],
   "source": [
    "left = pd.DataFrame({'key': ['foo', 'foo'], 'lval': [1, 2]})\n",
    "right = pd.DataFrame({'key': ['foo', 'foo'], 'rval': [4, 5]})\n",
    "print(left)\n",
    "print(right)\n",
    "pd.merge(left, right, on='key')"
   ]
  },
  {
   "cell_type": "markdown",
   "metadata": {},
   "source": [
    "###Handling duplicated rows"
   ]
  },
  {
   "cell_type": "markdown",
   "metadata": {},
   "source": [
    "Finding duplicate rows, where the values in all the columns must be duplicates.  You can not mark either the first or last duplicated row.  The second example creates a new DataFrame containing only the duplicated rows, counting the number of duplicated rows."
   ]
  },
  {
   "cell_type": "code",
   "execution_count": 125,
   "metadata": {
    "collapsed": false
   },
   "outputs": [
    {
     "name": "stdout",
     "output_type": "stream",
     "text": [
      "   A  B  C   D  isdup\n",
      "0  1  1  7  10  False\n",
      "1  1  1  8  11   True\n",
      "2  3  6  9  12  False\n",
      "   A  B  C   D  isdup\n",
      "0  1  1  7  10   True\n",
      "1  1  1  8  11  False\n",
      "2  3  6  9  12  False\n",
      "1\n",
      "   A  B  C   D isdup\n",
      "0  1  1  7  10  True\n"
     ]
    }
   ],
   "source": [
    "df2 = makegridDF()\n",
    "df2.loc[1,'A'] = 1\n",
    "df2.loc[1,'B'] = 1\n",
    "df2.loc[0,'B'] = 1\n",
    "df2['isdup'] = df2.duplicated(subset=['A','B'])\n",
    "print(df2)\n",
    "df2['isdup'] = df2.duplicated(subset=['A','B'], take_last=True)\n",
    "print(df2)\n",
    "\n",
    "# create a new dataframe with the repeated rows\n",
    "df = df2[df2.duplicated(subset=['A','B'], take_last=True)] \n",
    "print(len(df))\n",
    "print(df)"
   ]
  },
  {
   "cell_type": "markdown",
   "metadata": {},
   "source": [
    "The next example only checks for duplicates in column 'A' and then delete these row(s) from the DataFrame."
   ]
  },
  {
   "cell_type": "code",
   "execution_count": 126,
   "metadata": {
    "collapsed": false
   },
   "outputs": [
    {
     "data": {
      "text/html": [
       "<div style=\"max-height:1000px;max-width:1500px;overflow:auto;\">\n",
       "<table border=\"1\" class=\"dataframe\">\n",
       "  <thead>\n",
       "    <tr style=\"text-align: right;\">\n",
       "      <th></th>\n",
       "      <th>A</th>\n",
       "      <th>B</th>\n",
       "      <th>C</th>\n",
       "      <th>D</th>\n",
       "      <th>isdup</th>\n",
       "    </tr>\n",
       "  </thead>\n",
       "  <tbody>\n",
       "    <tr>\n",
       "      <th>1</th>\n",
       "      <td> 1</td>\n",
       "      <td> 1</td>\n",
       "      <td> 8</td>\n",
       "      <td> 11</td>\n",
       "      <td> False</td>\n",
       "    </tr>\n",
       "    <tr>\n",
       "      <th>2</th>\n",
       "      <td> 3</td>\n",
       "      <td> 6</td>\n",
       "      <td> 9</td>\n",
       "      <td> 12</td>\n",
       "      <td> False</td>\n",
       "    </tr>\n",
       "  </tbody>\n",
       "</table>\n",
       "</div>"
      ],
      "text/plain": [
       "   A  B  C   D  isdup\n",
       "1  1  1  8  11  False\n",
       "2  3  6  9  12  False"
      ]
     },
     "execution_count": 126,
     "metadata": {},
     "output_type": "execute_result"
    }
   ],
   "source": [
    "df2.drop_duplicates(subset=['A'], take_last=True, inplace=True)\n",
    "df2"
   ]
  },
  {
   "cell_type": "markdown",
   "metadata": {},
   "source": [
    "The index value of any arbitrary row can be changed by making a list of the index, changing the value in the list and then re-assigning the list back to the DataFrame."
   ]
  },
  {
   "cell_type": "code",
   "execution_count": 127,
   "metadata": {
    "collapsed": false
   },
   "outputs": [
    {
     "name": "stdout",
     "output_type": "stream",
     "text": [
      "               A  B  C   D\n",
      "0              1  4  7  10\n",
      "1              2  5  8  11\n",
      "New Idx Value  3  6  9  12\n"
     ]
    }
   ],
   "source": [
    "df2 = makegridDF()\n",
    "df2.index = df2.index.tolist()[:-1]   + ['New Idx Value']\n",
    "print(df2)"
   ]
  },
  {
   "cell_type": "markdown",
   "metadata": {},
   "source": [
    "###Transpose a DataFrame"
   ]
  },
  {
   "cell_type": "code",
   "execution_count": 128,
   "metadata": {
    "collapsed": false
   },
   "outputs": [
    {
     "name": "stdout",
     "output_type": "stream",
     "text": [
      "    0   1   2\n",
      "A   1   2   3\n",
      "B   4   5   6\n",
      "C   7   8   9\n",
      "D  10  11  12\n",
      "Int64Index([0, 1, 2], dtype='int64')\n",
      "Index([u'A', u'B', u'C', u'D'], dtype='object')\n"
     ]
    }
   ],
   "source": [
    "df = makegridDF()\n",
    "print(df.T)\n",
    "print(df.index)\n",
    "print(df.columns)"
   ]
  },
  {
   "cell_type": "markdown",
   "metadata": {},
   "source": [
    "###Selecting a subset of columns from a DataFrame"
   ]
  },
  {
   "cell_type": "code",
   "execution_count": 129,
   "metadata": {
    "collapsed": false
   },
   "outputs": [
    {
     "name": "stdout",
     "output_type": "stream",
     "text": [
      "   A  B  C   D\n",
      "0  1  4  7  10\n",
      "1  2  5  8  11\n",
      "2  3  6  9  12\n",
      "0    1\n",
      "1    2\n",
      "2    3\n",
      "Name: A, dtype: int64\n",
      "0    1\n",
      "1    2\n",
      "2    3\n",
      "Name: A, dtype: int64\n",
      "   A  B\n",
      "0  1  4\n",
      "1  2  5\n",
      "2  3  6\n"
     ]
    }
   ],
   "source": [
    "df = makegridDF()\n",
    "print(df)\n",
    "print(df.A)\n",
    "print(df['A'])\n",
    "print(df[['A','B']])"
   ]
  },
  {
   "cell_type": "markdown",
   "metadata": {},
   "source": [
    "Selecting a subset of columns may result in a copy or a view of the original DataFrame.  In this example a copy is made when selecting the columns, but a warning ensues when you try to assign a value to an element.  This warning arises because in some cases a view into the original DataFrame is returned and pandas cannot always know which form is used.\n",
    "\n",
    "<http://stackoverflow.com/questions/11285613/selecting-columns>  "
   ]
  },
  {
   "cell_type": "code",
   "execution_count": 130,
   "metadata": {
    "collapsed": false
   },
   "outputs": [
    {
     "name": "stdout",
     "output_type": "stream",
     "text": [
      "   A  B\n",
      "0  1  4\n",
      "1  2  5\n",
      "2  3  6\n",
      "     A  B\n",
      "0    1  4\n",
      "1    2  5\n",
      "2  100  6\n",
      "   A  B  C   D\n",
      "0  1  4  7  10\n",
      "1  2  5  8  11\n",
      "2  3  6  9  12\n"
     ]
    },
    {
     "name": "stderr",
     "output_type": "stream",
     "text": [
      "C:\\Anaconda\\lib\\site-packages\\IPython\\kernel\\__main__.py:4: SettingWithCopyWarning: \n",
      "A value is trying to be set on a copy of a slice from a DataFrame\n",
      "\n",
      "See the the caveats in the documentation: http://pandas.pydata.org/pandas-docs/stable/indexing.html#indexing-view-versus-copy\n"
     ]
    }
   ],
   "source": [
    "df = makegridDF()\n",
    "df1 = df[['A','B']]\n",
    "print(df1)\n",
    "df1.loc[2,'A'] = 100\n",
    "print(df1)\n",
    "print(df)"
   ]
  },
  {
   "cell_type": "markdown",
   "metadata": {},
   "source": [
    "The more secure way (also get rid of the warning) to build a new DataFrame with a selection of columns is as follows:"
   ]
  },
  {
   "cell_type": "code",
   "execution_count": 131,
   "metadata": {
    "collapsed": false
   },
   "outputs": [
    {
     "name": "stdout",
     "output_type": "stream",
     "text": [
      "   A  B\n",
      "0  1  4\n",
      "1  2  5\n",
      "2  3  6\n",
      "     A  B\n",
      "0    1  4\n",
      "1    2  5\n",
      "2  100  6\n",
      "   A  B  C   D\n",
      "0  1  4  7  10\n",
      "1  2  5  8  11\n",
      "2  3  6  9  12\n"
     ]
    }
   ],
   "source": [
    "df = makegridDF()\n",
    "df1 = df.loc[:,['A','B']]\n",
    "print(df1)\n",
    "df1.loc[2,'A'] = 100\n",
    "print(df1)\n",
    "print(df)"
   ]
  },
  {
   "cell_type": "markdown",
   "metadata": {},
   "source": [
    "Another way would be to use `ix`.  However in this case a view is returned, which means that changing `df1` also changes the original DataFrame."
   ]
  },
  {
   "cell_type": "code",
   "execution_count": 132,
   "metadata": {
    "collapsed": false
   },
   "outputs": [
    {
     "name": "stdout",
     "output_type": "stream",
     "text": [
      "   A  B\n",
      "0  1  4\n",
      "1  2  5\n",
      "2  3  6\n",
      "     A  B\n",
      "0    1  4\n",
      "1    2  5\n",
      "2  100  6\n",
      "     A  B  C   D\n",
      "0    1  4  7  10\n",
      "1    2  5  8  11\n",
      "2  100  6  9  12\n"
     ]
    },
    {
     "name": "stderr",
     "output_type": "stream",
     "text": [
      "C:\\Anaconda\\lib\\site-packages\\IPython\\kernel\\__main__.py:5: SettingWithCopyWarning: \n",
      "A value is trying to be set on a copy of a slice from a DataFrame\n",
      "\n",
      "See the the caveats in the documentation: http://pandas.pydata.org/pandas-docs/stable/indexing.html#indexing-view-versus-copy\n"
     ]
    }
   ],
   "source": [
    "df = makegridDF()\n",
    "# df1 = df.ix[:,slice('A','B')] # this and the following have same effect.\n",
    "df1 = df.ix[:,0:2]  # this and the previous have same effect.\n",
    "print(df1)\n",
    "df1.loc[2,'A'] = 100\n",
    "print(df1)\n",
    "print(df)"
   ]
  },
  {
   "cell_type": "markdown",
   "metadata": {},
   "source": [
    "To force a copy of the original, use the `copy` method."
   ]
  },
  {
   "cell_type": "code",
   "execution_count": 133,
   "metadata": {
    "collapsed": false
   },
   "outputs": [
    {
     "name": "stdout",
     "output_type": "stream",
     "text": [
      "   A  B\n",
      "0  1  4\n",
      "1  2  5\n",
      "2  3  6\n",
      "     A  B\n",
      "0    1  4\n",
      "1    2  5\n",
      "2  100  6\n",
      "   A  B  C   D\n",
      "0  1  4  7  10\n",
      "1  2  5  8  11\n",
      "2  3  6  9  12\n"
     ]
    }
   ],
   "source": [
    "df = makegridDF()\n",
    "df1 = df.ix[:,slice('A','B')].copy() # this and the following have same effect.\n",
    "# df1 = df.ix[:,0:2].copy()  # this and the previous have same effect.\n",
    "print(df1)\n",
    "df1.loc[2,'A'] = 100\n",
    "print(df1)\n",
    "print(df)"
   ]
  },
  {
   "cell_type": "markdown",
   "metadata": {},
   "source": [
    "###Adding a column to a dataframe"
   ]
  },
  {
   "cell_type": "markdown",
   "metadata": {},
   "source": [
    "It is relatively easy to add a column to an existing data frame. "
   ]
  },
  {
   "cell_type": "code",
   "execution_count": 198,
   "metadata": {
    "collapsed": false
   },
   "outputs": [
    {
     "name": "stdout",
     "output_type": "stream",
     "text": [
      "                   A         B         C         D     Total\n",
      "2013-01-01 -0.694530  1.934292 -0.347482  0.603173  0.892280\n",
      "2013-01-02 -1.148821  0.575717  0.544431 -0.683324 -0.028674\n",
      "2013-01-03  2.266512 -1.366276  0.413346  2.542879  1.313581\n",
      "2013-01-04  0.934316  0.209193 -0.169195  0.256497  0.974314\n",
      "2013-01-05 -0.011793 -0.731210  0.863213  0.958653  0.120210\n",
      "2013-01-06 -0.018375  0.975624  2.796716 -0.972260  3.753965\n"
     ]
    }
   ],
   "source": [
    "df = makeDateRand()\n",
    "df['Total'] = df['A'] + df['B'] + df['C']\n",
    "print(df)"
   ]
  },
  {
   "cell_type": "markdown",
   "metadata": {},
   "source": [
    "String concatenation can be used across columns."
   ]
  },
  {
   "cell_type": "code",
   "execution_count": 206,
   "metadata": {
    "collapsed": false
   },
   "outputs": [
    {
     "name": "stdout",
     "output_type": "stream",
     "text": [
      "    A   B   C   D\n",
      "0  0a  0b  0c  0d\n",
      "1  1a  1b  1c  1d\n",
      "2  2a  2b  2c  2d\n",
      "0    0a0b\n",
      "1    1a1b\n",
      "2    2a2b\n",
      "dtype: object\n"
     ]
    }
   ],
   "source": [
    "df = makegAlphaDF()\n",
    "print(df)\n",
    "df2 = df['A'] + df['B']\n",
    "print(df2)"
   ]
  },
  {
   "cell_type": "markdown",
   "metadata": {},
   "source": [
    "###Delete rows based on column value"
   ]
  },
  {
   "cell_type": "markdown",
   "metadata": {},
   "source": [
    "DataFrame has an `isin` method. When calling `isin`, pass a set of values as either an array or dict. If values is an array, isin returns a DataFrame of booleans that is the same shape as the original DataFrame, with True wherever the element is in the sequence of values.\n",
    "\n",
    "<http://pandas.pydata.org/pandas-docs/stable/indexing.html#indexing-with-isin>  \n",
    "<http://pandas.pydata.org/pandas-docs/stable/indexing.html#boolean-indexing>  \n",
    "\n",
    "In the example below delete all rows where the value in column 'A' is in a given list."
   ]
  },
  {
   "cell_type": "code",
   "execution_count": 135,
   "metadata": {
    "collapsed": false
   },
   "outputs": [
    {
     "name": "stdout",
     "output_type": "stream",
     "text": [
      "   A  B  C   D\n",
      "0  1  4  7  10\n",
      "1  2  5  8  11\n",
      "2  3  6  9  12\n",
      "   A  B  C   D\n",
      "1  2  5  8  11\n"
     ]
    }
   ],
   "source": [
    "df = makegridDF()\n",
    "print(df)\n",
    "idx = df['A'].isin([1,3])\n",
    "df = df[~idx]\n",
    "print(df)"
   ]
  },
  {
   "cell_type": "markdown",
   "metadata": {},
   "source": [
    "To match certain values in certain columns make a dict where the key is the column, and the value is a list of items you want to check for.  Combine DataFrame’s `isin()` with the `any()` and `all()` methods to quickly select subsets of your data that meet a given criteria. To select a row where each column meets its own criterion.\n",
    "\n",
    "In the first example, remove all rows where the requirements for __all__ of the tests are met ('A' has 1 or 2, 'B' has 5 or 6, 'C' has 8 and 'D' has 11).\n",
    "\n",
    "<http://docs.scipy.org/doc/numpy/reference/generated/numpy.ndarray.all.html#numpy.ndarray.all>"
   ]
  },
  {
   "cell_type": "code",
   "execution_count": 136,
   "metadata": {
    "collapsed": false
   },
   "outputs": [
    {
     "name": "stdout",
     "output_type": "stream",
     "text": [
      "   A  B  C   D\n",
      "0  1  4  7  10\n",
      "1  2  5  8  11\n",
      "2  3  6  9  12\n",
      "       A      B      C      D\n",
      "0   True  False  False  False\n",
      "1   True   True   True   True\n",
      "2  False   True  False  False\n",
      "0    False\n",
      "1     True\n",
      "2    False\n",
      "dtype: bool\n",
      "   A  B  C   D\n",
      "0  1  4  7  10\n",
      "2  3  6  9  12\n"
     ]
    }
   ],
   "source": [
    "df = makegridDF()\n",
    "print(df)\n",
    "idx = df.isin({'A': [1,2], 'B': [5,6], 'C': [8], 'D': [11]})\n",
    "print(idx)\n",
    "idx = idx.all(axis=1)\n",
    "print(idx)\n",
    "df = df[~idx]\n",
    "print(df)"
   ]
  },
  {
   "cell_type": "markdown",
   "metadata": {},
   "source": [
    "In the second example, drop all rows where the requirements for __any__ of the tests are met ('A' has 1 or 2, 'B' has 5 or 6, 'C' has 8 and 'D' has 11).  In this case, it would drop all rows from the DataFrame, leaving it empty."
   ]
  },
  {
   "cell_type": "code",
   "execution_count": 137,
   "metadata": {
    "collapsed": false
   },
   "outputs": [
    {
     "name": "stdout",
     "output_type": "stream",
     "text": [
      "   A  B  C   D\n",
      "0  1  4  7  10\n",
      "1  2  5  8  11\n",
      "2  3  6  9  12\n",
      "       A      B      C      D\n",
      "0   True  False  False  False\n",
      "1   True   True  False  False\n",
      "2  False   True  False  False\n",
      "0    True\n",
      "1    True\n",
      "2    True\n",
      "dtype: bool\n",
      "Empty DataFrame\n",
      "Columns: [A, B, C, D]\n",
      "Index: []\n"
     ]
    }
   ],
   "source": [
    "df = makegridDF()\n",
    "print(df)\n",
    "idx = df.isin({'A': [1,2], 'B': [5,6]})\n",
    "print(idx)\n",
    "idx = idx.any(axis=1)\n",
    "print(idx)\n",
    "df = df[~idx]\n",
    "print(df)"
   ]
  },
  {
   "cell_type": "markdown",
   "metadata": {},
   "source": [
    "###Sorting"
   ]
  },
  {
   "cell_type": "markdown",
   "metadata": {},
   "source": [
    "Sort by column index (axis=1), i.e., rearrange column order."
   ]
  },
  {
   "cell_type": "code",
   "execution_count": 138,
   "metadata": {
    "collapsed": false
   },
   "outputs": [
    {
     "ename": "NameError",
     "evalue": "global name 'nrow' is not defined",
     "output_type": "error",
     "traceback": [
      "\u001b[1;31m---------------------------------------------------------------------------\u001b[0m",
      "\u001b[1;31mNameError\u001b[0m                                 Traceback (most recent call last)",
      "\u001b[1;32m<ipython-input-138-c00b25b2a864>\u001b[0m in \u001b[0;36m<module>\u001b[1;34m()\u001b[0m\n\u001b[1;32m----> 1\u001b[1;33m \u001b[0mdf\u001b[0m \u001b[1;33m=\u001b[0m \u001b[0mmakeDateRand\u001b[0m\u001b[1;33m(\u001b[0m\u001b[1;33m)\u001b[0m\u001b[1;33m\u001b[0m\u001b[0m\n\u001b[0m\u001b[0;32m      2\u001b[0m \u001b[0mdf\u001b[0m\u001b[1;33m.\u001b[0m\u001b[0msort_index\u001b[0m\u001b[1;33m(\u001b[0m\u001b[0maxis\u001b[0m\u001b[1;33m=\u001b[0m\u001b[1;36m1\u001b[0m\u001b[1;33m,\u001b[0m \u001b[0mascending\u001b[0m\u001b[1;33m=\u001b[0m\u001b[0mFalse\u001b[0m\u001b[1;33m)\u001b[0m\u001b[1;33m\u001b[0m\u001b[0m\n",
      "\u001b[1;32m<ipython-input-86-80f474fd1a5a>\u001b[0m in \u001b[0;36mmakeDateRand\u001b[1;34m(nrows, ncols)\u001b[0m\n\u001b[0;32m      2\u001b[0m \u001b[1;32mdef\u001b[0m \u001b[0mmakeDateRand\u001b[0m\u001b[1;33m(\u001b[0m\u001b[0mnrows\u001b[0m\u001b[1;33m=\u001b[0m\u001b[1;36m4\u001b[0m\u001b[1;33m,\u001b[0m \u001b[0mncols\u001b[0m\u001b[1;33m=\u001b[0m\u001b[1;36m4\u001b[0m\u001b[1;33m)\u001b[0m\u001b[1;33m:\u001b[0m\u001b[1;33m\u001b[0m\u001b[0m\n\u001b[0;32m      3\u001b[0m     \u001b[0mdates\u001b[0m \u001b[1;33m=\u001b[0m \u001b[0mpd\u001b[0m\u001b[1;33m.\u001b[0m\u001b[0mdate_range\u001b[0m\u001b[1;33m(\u001b[0m\u001b[1;34m'20130101'\u001b[0m\u001b[1;33m,\u001b[0m\u001b[0mperiods\u001b[0m\u001b[1;33m=\u001b[0m\u001b[1;36m6\u001b[0m\u001b[1;33m)\u001b[0m\u001b[1;33m\u001b[0m\u001b[0m\n\u001b[1;32m----> 4\u001b[1;33m     \u001b[0mdf\u001b[0m \u001b[1;33m=\u001b[0m \u001b[0mpd\u001b[0m\u001b[1;33m.\u001b[0m\u001b[0mDataFrame\u001b[0m\u001b[1;33m(\u001b[0m\u001b[0mnp\u001b[0m\u001b[1;33m.\u001b[0m\u001b[0mrandom\u001b[0m\u001b[1;33m.\u001b[0m\u001b[0mrandn\u001b[0m\u001b[1;33m(\u001b[0m\u001b[0mnrow\u001b[0m\u001b[1;33m,\u001b[0m\u001b[0mncols\u001b[0m\u001b[1;33m)\u001b[0m\u001b[1;33m,\u001b[0m\u001b[0mindex\u001b[0m\u001b[1;33m=\u001b[0m\u001b[0mdates\u001b[0m\u001b[1;33m,\u001b[0m\u001b[0mcolumns\u001b[0m\u001b[1;33m=\u001b[0m\u001b[0mlist\u001b[0m\u001b[1;33m(\u001b[0m\u001b[1;34m'ABCD'\u001b[0m\u001b[1;33m)\u001b[0m\u001b[1;33m)\u001b[0m\u001b[1;33m\u001b[0m\u001b[0m\n\u001b[0m\u001b[0;32m      5\u001b[0m     \u001b[1;32mreturn\u001b[0m \u001b[0mdf\u001b[0m\u001b[1;33m\u001b[0m\u001b[0m\n",
      "\u001b[1;31mNameError\u001b[0m: global name 'nrow' is not defined"
     ]
    }
   ],
   "source": [
    "df = makeDateRand()\n",
    "df.sort_index(axis=1, ascending=False)"
   ]
  },
  {
   "cell_type": "markdown",
   "metadata": {},
   "source": [
    "Sort all rows by row value in column B."
   ]
  },
  {
   "cell_type": "code",
   "execution_count": 139,
   "metadata": {
    "collapsed": false
   },
   "outputs": [
    {
     "data": {
      "text/html": [
       "<div style=\"max-height:1000px;max-width:1500px;overflow:auto;\">\n",
       "<table border=\"1\" class=\"dataframe\">\n",
       "  <thead>\n",
       "    <tr style=\"text-align: right;\">\n",
       "      <th></th>\n",
       "      <th>A</th>\n",
       "      <th>B</th>\n",
       "      <th>C</th>\n",
       "      <th>D</th>\n",
       "    </tr>\n",
       "  </thead>\n",
       "  <tbody>\n",
       "  </tbody>\n",
       "</table>\n",
       "</div>"
      ],
      "text/plain": [
       "Empty DataFrame\n",
       "Columns: [A, B, C, D]\n",
       "Index: []"
      ]
     },
     "execution_count": 139,
     "metadata": {},
     "output_type": "execute_result"
    }
   ],
   "source": [
    "df.sort(columns='B')"
   ]
  },
  {
   "cell_type": "markdown",
   "metadata": {},
   "source": [
    "Sort all rows by row value in multiple columns."
   ]
  },
  {
   "cell_type": "code",
   "execution_count": 140,
   "metadata": {
    "collapsed": false
   },
   "outputs": [
    {
     "data": {
      "text/html": [
       "<div style=\"max-height:1000px;max-width:1500px;overflow:auto;\">\n",
       "<table border=\"1\" class=\"dataframe\">\n",
       "  <thead>\n",
       "    <tr style=\"text-align: right;\">\n",
       "      <th></th>\n",
       "      <th>A</th>\n",
       "      <th>B</th>\n",
       "      <th>C</th>\n",
       "      <th>D</th>\n",
       "    </tr>\n",
       "  </thead>\n",
       "  <tbody>\n",
       "  </tbody>\n",
       "</table>\n",
       "</div>"
      ],
      "text/plain": [
       "Empty DataFrame\n",
       "Columns: [A, B, C, D]\n",
       "Index: []"
      ]
     },
     "execution_count": 140,
     "metadata": {},
     "output_type": "execute_result"
    }
   ],
   "source": [
    "df.sort(columns=['B', 'C'])"
   ]
  },
  {
   "cell_type": "markdown",
   "metadata": {},
   "source": [
    "You can introduce custom sorting by using categoricals.  In this example, first sort the 'G' column on default sorting (alphabetical).  Then redefine the 'G' column as a categorical with a specific sort order. Then re-sort, using the categorical sort order."
   ]
  },
  {
   "cell_type": "code",
   "execution_count": 141,
   "metadata": {
    "collapsed": false
   },
   "outputs": [
    {
     "name": "stdout",
     "output_type": "stream",
     "text": [
      "   A          B  C  D      E    F     G\n",
      "0  1 2013-01-02  1  3   test  foo  foox\n",
      "1  1 2013-01-02  1  3  train  foo  fooa\n",
      "2  1 2013-01-02  1  3   test  foo  foon\n",
      "3  1 2013-01-02  1  3  train  foo  fooz\n",
      "   A          B  C  D      E    F     G\n",
      "1  1 2013-01-02  1  3  train  foo  fooa\n",
      "2  1 2013-01-02  1  3   test  foo  foon\n",
      "0  1 2013-01-02  1  3   test  foo  foox\n",
      "3  1 2013-01-02  1  3  train  foo  fooz\n",
      "   A          B  C  D      E    F     G\n",
      "3  1 2013-01-02  1  3  train  foo  fooz\n",
      "1  1 2013-01-02  1  3  train  foo  fooa\n",
      "0  1 2013-01-02  1  3   test  foo  foox\n",
      "2  1 2013-01-02  1  3   test  foo  foon\n"
     ]
    }
   ],
   "source": [
    "df = makecatedf()\n",
    "print(df)\n",
    "print(df.sort(columns='G'))\n",
    "      \n",
    "gsorter = ['fooz','fooa','foox','foon']\n",
    "df.G = df.G.astype(\"category\")\n",
    "df.G.cat.set_categories(gsorter, inplace=True) \n",
    "print(df.sort(columns='G'))\n"
   ]
  },
  {
   "cell_type": "markdown",
   "metadata": {},
   "source": [
    "###Slicing and selecting sub-arrays"
   ]
  },
  {
   "cell_type": "markdown",
   "metadata": {},
   "source": [
    "While standard Python / Numpy expressions for selecting and setting are intuitive and come in handy for interactive work, for production code, use the optimized pandas data access methods, .at, .iat, .loc, .iloc and .ix. \n",
    "\n",
    "[Indexing and Selecting Data](http://pandas.pydata.org/pandas-docs/version/0.15.2/indexing.html#indexing)  \n",
    "[MultiIndex / Advanced Indexing](http://pandas.pydata.org/pandas-docs/version/0.15.2/advanced.html#advanced)\n",
    "\n",
    "The [pandas site](http://pandas.pydata.org/pandas-docs/stable/indexing.html) offers the following description:\n",
    "\n",
    "Object selection has had a number of user-requested additions in order to support more explicit location based indexing. pandas now supports three types of multi-axis indexing.\n",
    "\n",
    "1.    `.ix` supports mixed integer and label based access. It is primarily label based, but will fall back to integer positional access unless the corresponding axis is of integer type. `.ix` is the most general and will support any of the inputs in `.loc` and `.iloc`. `.ix` also supports floating point label schemes. .ix is exceptionally useful when dealing with mixed positional and label based hierarchical indexes.      However, when an axis is integer based, ONLY label based access and not positional access is supported. Thus, in such cases, it’s usually better to be explicit and use `.iloc` or `.loc`.    \n",
    "       `.ix` does not and cannot guarantee that the label versus integer position resolution is perfect - you may run into [problems](https://github.com/pydata/pandas/issues/6683)  here.  `.ix` is an older method than than `.loc` and `.iloc` and was introduced to specifically prevent ambiguity by using stricted rules on data selection. `.ix` is faster than than `.loc` and `.iloc`\n",
    "\n",
    "     See more at [Advanced Indexing](http://pandas.pydata.org/pandas-docs/stable/advanced.html#advanced) and [Advanced Hierarchical](http://pandas.pydata.org/pandas-docs/stable/advanced.html#advanced-advanced-hierarchical).\n",
    "\n",
    "1.    `.loc` is primarily label based, but may also be used with a boolean array. `.loc` will raise `KeyError` when the items are not found. Allowed inputs are:\n",
    "       * A single label, e.g. 5 or 'a', (note that 5 is interpreted as a label of the index. This use is not an integer position along the index)\n",
    "       * A list or array of labels ['a', 'b', 'c']\n",
    "       * A slice object with labels 'a':'f', (note that contrary to usual python slices, **both** the start and the stop are included!)\n",
    "       * A boolean array\n",
    "\n",
    "     See more at [Selection by Label](http://pandas.pydata.org/pandas-docs/stable/indexing.html#indexing-label)\n",
    "\n",
    "1.     `.iloc` is primarily integer position based (from `0` to `length-1` of the axis), but may also be used with a boolean array. `.iloc`  will raise `IndexError` if a requested indexer is out-of-bounds, except slice indexers which allow out-of-bounds indexing. (this conforms with python/numpy slice semantics). Allowed inputs are:\n",
    "       * An integer e.g. 5\n",
    "       * A list or array of integers [4, 3, 0]\n",
    "       * A slice object with ints 1:7\n",
    "       * A boolean array\n",
    "\n",
    "     See more at [Selection by Position](http://pandas.pydata.org/pandas-docs/stable/indexing.html#indexing-integer)\n",
    "\n",
    "\n",
    "Getting values from an object with multi-axes selection uses the following notation (using `.loc` as an example, but applies to `.iloc` and `.ix` as well). Any of the axes accessors may be the null slice `:`. Axes left out of the specification are assumed to be `:`. (e.g. `p.loc['a']` is equiv to `p.loc['a', :, :]`)\n",
    "\n",
    "|Object Type |\tIndexers|\n",
    "|--|--|\n",
    "|Series \t|`s.loc[indexer]`|\n",
    "|DataFrame \t|`df.loc[row_indexer,column_indexer]`|\n",
    "|Panel \t|`p.loc[item_indexer,major_indexer,minor_indexer]`|\n",
    "\n",
    "\n",
    "<http://nbviewer.ipython.org/github/gboeing/python-cheat-sheets/blob/master/pandas-selecting.ipynb>  \n"
   ]
  },
  {
   "cell_type": "markdown",
   "metadata": {},
   "source": [
    "###Conventional selection by column/index name"
   ]
  },
  {
   "cell_type": "markdown",
   "metadata": {},
   "source": [
    "Selecting a single column with the form `df['A']`, yields a Series, equivalent to df.A.  \n",
    "To select multiple columns  pass a list of column names as in `df[ ['A','B'] ]`."
   ]
  },
  {
   "cell_type": "code",
   "execution_count": 142,
   "metadata": {
    "collapsed": false
   },
   "outputs": [
    {
     "name": "stdout",
     "output_type": "stream",
     "text": [
      "0    1\n",
      "1    2\n",
      "2    3\n",
      "Name: A, dtype: int64\n",
      "0    1\n",
      "1    2\n",
      "2    3\n",
      "Name: A, dtype: int64\n",
      "   A  B\n",
      "0  1  4\n",
      "1  2  5\n",
      "2  3  6\n"
     ]
    }
   ],
   "source": [
    "df = makegridDF()\n",
    "print(df.A)\n",
    "print(df['A'])\n",
    "print(df[['A','B']])"
   ]
  },
  {
   "cell_type": "markdown",
   "metadata": {},
   "source": [
    "Extract the Numpy array from the series in one of these two ways:"
   ]
  },
  {
   "cell_type": "code",
   "execution_count": 143,
   "metadata": {
    "collapsed": false
   },
   "outputs": [
    {
     "name": "stdout",
     "output_type": "stream",
     "text": [
      "[1 2 3]\n",
      "[1 2 3]\n"
     ]
    }
   ],
   "source": [
    "print(np.asarray(df['A']))\n",
    "print(df['A'].values)"
   ]
  },
  {
   "cell_type": "markdown",
   "metadata": {},
   "source": [
    "Slice rows using `df[]`, using index values or row numbers.   The row sequence can use slice notation, note that the upper bound is not included.  \n",
    "\n",
    "This is the same form as used for columns above - somewhat confusing!"
   ]
  },
  {
   "cell_type": "code",
   "execution_count": 144,
   "metadata": {
    "collapsed": false
   },
   "outputs": [
    {
     "ename": "NameError",
     "evalue": "global name 'nrow' is not defined",
     "output_type": "error",
     "traceback": [
      "\u001b[1;31m---------------------------------------------------------------------------\u001b[0m",
      "\u001b[1;31mNameError\u001b[0m                                 Traceback (most recent call last)",
      "\u001b[1;32m<ipython-input-144-80201731c715>\u001b[0m in \u001b[0;36m<module>\u001b[1;34m()\u001b[0m\n\u001b[1;32m----> 1\u001b[1;33m \u001b[0mdf\u001b[0m \u001b[1;33m=\u001b[0m \u001b[0mmakeDateRand\u001b[0m\u001b[1;33m(\u001b[0m\u001b[1;33m)\u001b[0m\u001b[1;33m\u001b[0m\u001b[0m\n\u001b[0m\u001b[0;32m      2\u001b[0m \u001b[1;32mprint\u001b[0m\u001b[1;33m(\u001b[0m\u001b[0mdf\u001b[0m\u001b[1;33m)\u001b[0m\u001b[1;33m\u001b[0m\u001b[0m\n\u001b[0;32m      3\u001b[0m \u001b[1;32mprint\u001b[0m\u001b[1;33m(\u001b[0m\u001b[0mdf\u001b[0m\u001b[1;33m[\u001b[0m\u001b[1;36m2\u001b[0m\u001b[1;33m:\u001b[0m\u001b[1;36m4\u001b[0m\u001b[1;33m]\u001b[0m\u001b[1;33m)\u001b[0m\u001b[1;33m\u001b[0m\u001b[0m\n",
      "\u001b[1;32m<ipython-input-86-80f474fd1a5a>\u001b[0m in \u001b[0;36mmakeDateRand\u001b[1;34m(nrows, ncols)\u001b[0m\n\u001b[0;32m      2\u001b[0m \u001b[1;32mdef\u001b[0m \u001b[0mmakeDateRand\u001b[0m\u001b[1;33m(\u001b[0m\u001b[0mnrows\u001b[0m\u001b[1;33m=\u001b[0m\u001b[1;36m4\u001b[0m\u001b[1;33m,\u001b[0m \u001b[0mncols\u001b[0m\u001b[1;33m=\u001b[0m\u001b[1;36m4\u001b[0m\u001b[1;33m)\u001b[0m\u001b[1;33m:\u001b[0m\u001b[1;33m\u001b[0m\u001b[0m\n\u001b[0;32m      3\u001b[0m     \u001b[0mdates\u001b[0m \u001b[1;33m=\u001b[0m \u001b[0mpd\u001b[0m\u001b[1;33m.\u001b[0m\u001b[0mdate_range\u001b[0m\u001b[1;33m(\u001b[0m\u001b[1;34m'20130101'\u001b[0m\u001b[1;33m,\u001b[0m\u001b[0mperiods\u001b[0m\u001b[1;33m=\u001b[0m\u001b[1;36m6\u001b[0m\u001b[1;33m)\u001b[0m\u001b[1;33m\u001b[0m\u001b[0m\n\u001b[1;32m----> 4\u001b[1;33m     \u001b[0mdf\u001b[0m \u001b[1;33m=\u001b[0m \u001b[0mpd\u001b[0m\u001b[1;33m.\u001b[0m\u001b[0mDataFrame\u001b[0m\u001b[1;33m(\u001b[0m\u001b[0mnp\u001b[0m\u001b[1;33m.\u001b[0m\u001b[0mrandom\u001b[0m\u001b[1;33m.\u001b[0m\u001b[0mrandn\u001b[0m\u001b[1;33m(\u001b[0m\u001b[0mnrow\u001b[0m\u001b[1;33m,\u001b[0m\u001b[0mncols\u001b[0m\u001b[1;33m)\u001b[0m\u001b[1;33m,\u001b[0m\u001b[0mindex\u001b[0m\u001b[1;33m=\u001b[0m\u001b[0mdates\u001b[0m\u001b[1;33m,\u001b[0m\u001b[0mcolumns\u001b[0m\u001b[1;33m=\u001b[0m\u001b[0mlist\u001b[0m\u001b[1;33m(\u001b[0m\u001b[1;34m'ABCD'\u001b[0m\u001b[1;33m)\u001b[0m\u001b[1;33m)\u001b[0m\u001b[1;33m\u001b[0m\u001b[0m\n\u001b[0m\u001b[0;32m      5\u001b[0m     \u001b[1;32mreturn\u001b[0m \u001b[0mdf\u001b[0m\u001b[1;33m\u001b[0m\u001b[0m\n",
      "\u001b[1;31mNameError\u001b[0m: global name 'nrow' is not defined"
     ]
    }
   ],
   "source": [
    "df = makeDateRand()\n",
    "print(df)\n",
    "print(df[2:4])"
   ]
  },
  {
   "cell_type": "code",
   "execution_count": 145,
   "metadata": {
    "collapsed": false
   },
   "outputs": [
    {
     "ename": "IndexError",
     "evalue": "invalid slice",
     "output_type": "error",
     "traceback": [
      "\u001b[1;31m---------------------------------------------------------------------------\u001b[0m",
      "\u001b[1;31mIndexError\u001b[0m                                Traceback (most recent call last)",
      "\u001b[1;32m<ipython-input-145-3fa0bceae88e>\u001b[0m in \u001b[0;36m<module>\u001b[1;34m()\u001b[0m\n\u001b[1;32m----> 1\u001b[1;33m \u001b[1;32mprint\u001b[0m\u001b[1;33m(\u001b[0m\u001b[0mdf\u001b[0m\u001b[1;33m[\u001b[0m\u001b[1;34m'2013-01-01'\u001b[0m\u001b[1;33m:\u001b[0m\u001b[1;34m'2013-01-02'\u001b[0m\u001b[1;33m]\u001b[0m\u001b[1;33m)\u001b[0m\u001b[1;33m\u001b[0m\u001b[0m\n\u001b[0m",
      "\u001b[1;32mC:\\Anaconda\\lib\\site-packages\\pandas\\core\\frame.pyc\u001b[0m in \u001b[0;36m__getitem__\u001b[1;34m(self, key)\u001b[0m\n\u001b[0;32m   1768\u001b[0m         \u001b[0mindexer\u001b[0m \u001b[1;33m=\u001b[0m \u001b[0m_convert_to_index_sliceable\u001b[0m\u001b[1;33m(\u001b[0m\u001b[0mself\u001b[0m\u001b[1;33m,\u001b[0m \u001b[0mkey\u001b[0m\u001b[1;33m)\u001b[0m\u001b[1;33m\u001b[0m\u001b[0m\n\u001b[0;32m   1769\u001b[0m         \u001b[1;32mif\u001b[0m \u001b[0mindexer\u001b[0m \u001b[1;32mis\u001b[0m \u001b[1;32mnot\u001b[0m \u001b[0mNone\u001b[0m\u001b[1;33m:\u001b[0m\u001b[1;33m\u001b[0m\u001b[0m\n\u001b[1;32m-> 1770\u001b[1;33m             \u001b[1;32mreturn\u001b[0m \u001b[0mself\u001b[0m\u001b[1;33m.\u001b[0m\u001b[0m_getitem_slice\u001b[0m\u001b[1;33m(\u001b[0m\u001b[0mindexer\u001b[0m\u001b[1;33m)\u001b[0m\u001b[1;33m\u001b[0m\u001b[0m\n\u001b[0m\u001b[0;32m   1771\u001b[0m \u001b[1;33m\u001b[0m\u001b[0m\n\u001b[0;32m   1772\u001b[0m         \u001b[1;32mif\u001b[0m \u001b[0misinstance\u001b[0m\u001b[1;33m(\u001b[0m\u001b[0mkey\u001b[0m\u001b[1;33m,\u001b[0m \u001b[1;33m(\u001b[0m\u001b[0mSeries\u001b[0m\u001b[1;33m,\u001b[0m \u001b[0mnp\u001b[0m\u001b[1;33m.\u001b[0m\u001b[0mndarray\u001b[0m\u001b[1;33m,\u001b[0m \u001b[0mIndex\u001b[0m\u001b[1;33m,\u001b[0m \u001b[0mlist\u001b[0m\u001b[1;33m)\u001b[0m\u001b[1;33m)\u001b[0m\u001b[1;33m:\u001b[0m\u001b[1;33m\u001b[0m\u001b[0m\n",
      "\u001b[1;32mC:\\Anaconda\\lib\\site-packages\\pandas\\core\\frame.pyc\u001b[0m in \u001b[0;36m_getitem_slice\u001b[1;34m(self, key)\u001b[0m\n\u001b[0;32m   1795\u001b[0m \u001b[1;33m\u001b[0m\u001b[0m\n\u001b[0;32m   1796\u001b[0m     \u001b[1;32mdef\u001b[0m \u001b[0m_getitem_slice\u001b[0m\u001b[1;33m(\u001b[0m\u001b[0mself\u001b[0m\u001b[1;33m,\u001b[0m \u001b[0mkey\u001b[0m\u001b[1;33m)\u001b[0m\u001b[1;33m:\u001b[0m\u001b[1;33m\u001b[0m\u001b[0m\n\u001b[1;32m-> 1797\u001b[1;33m         \u001b[1;32mreturn\u001b[0m \u001b[0mself\u001b[0m\u001b[1;33m.\u001b[0m\u001b[0m_slice\u001b[0m\u001b[1;33m(\u001b[0m\u001b[0mkey\u001b[0m\u001b[1;33m,\u001b[0m \u001b[0maxis\u001b[0m\u001b[1;33m=\u001b[0m\u001b[1;36m0\u001b[0m\u001b[1;33m)\u001b[0m\u001b[1;33m\u001b[0m\u001b[0m\n\u001b[0m\u001b[0;32m   1798\u001b[0m \u001b[1;33m\u001b[0m\u001b[0m\n\u001b[0;32m   1799\u001b[0m     \u001b[1;32mdef\u001b[0m \u001b[0m_getitem_array\u001b[0m\u001b[1;33m(\u001b[0m\u001b[0mself\u001b[0m\u001b[1;33m,\u001b[0m \u001b[0mkey\u001b[0m\u001b[1;33m)\u001b[0m\u001b[1;33m:\u001b[0m\u001b[1;33m\u001b[0m\u001b[0m\n",
      "\u001b[1;32mC:\\Anaconda\\lib\\site-packages\\pandas\\core\\generic.pyc\u001b[0m in \u001b[0;36m_slice\u001b[1;34m(self, slobj, axis, typ)\u001b[0m\n\u001b[0;32m   1168\u001b[0m         \"\"\"\n\u001b[0;32m   1169\u001b[0m         \u001b[0maxis\u001b[0m \u001b[1;33m=\u001b[0m \u001b[0mself\u001b[0m\u001b[1;33m.\u001b[0m\u001b[0m_get_block_manager_axis\u001b[0m\u001b[1;33m(\u001b[0m\u001b[0maxis\u001b[0m\u001b[1;33m)\u001b[0m\u001b[1;33m\u001b[0m\u001b[0m\n\u001b[1;32m-> 1170\u001b[1;33m         \u001b[0mresult\u001b[0m \u001b[1;33m=\u001b[0m \u001b[0mself\u001b[0m\u001b[1;33m.\u001b[0m\u001b[0m_constructor\u001b[0m\u001b[1;33m(\u001b[0m\u001b[0mself\u001b[0m\u001b[1;33m.\u001b[0m\u001b[0m_data\u001b[0m\u001b[1;33m.\u001b[0m\u001b[0mget_slice\u001b[0m\u001b[1;33m(\u001b[0m\u001b[0mslobj\u001b[0m\u001b[1;33m,\u001b[0m \u001b[0maxis\u001b[0m\u001b[1;33m=\u001b[0m\u001b[0maxis\u001b[0m\u001b[1;33m)\u001b[0m\u001b[1;33m)\u001b[0m\u001b[1;33m\u001b[0m\u001b[0m\n\u001b[0m\u001b[0;32m   1171\u001b[0m \u001b[1;33m\u001b[0m\u001b[0m\n\u001b[0;32m   1172\u001b[0m         \u001b[1;31m# this could be a view\u001b[0m\u001b[1;33m\u001b[0m\u001b[1;33m\u001b[0m\u001b[0m\n",
      "\u001b[1;32mC:\\Anaconda\\lib\\site-packages\\pandas\\core\\internals.pyc\u001b[0m in \u001b[0;36mget_slice\u001b[1;34m(self, slobj, axis)\u001b[0m\n\u001b[0;32m   2653\u001b[0m             \u001b[0mslicer\u001b[0m\u001b[1;33m[\u001b[0m\u001b[0maxis\u001b[0m\u001b[1;33m]\u001b[0m \u001b[1;33m=\u001b[0m \u001b[0mslobj\u001b[0m\u001b[1;33m\u001b[0m\u001b[0m\n\u001b[0;32m   2654\u001b[0m             \u001b[0mslicer\u001b[0m \u001b[1;33m=\u001b[0m \u001b[0mtuple\u001b[0m\u001b[1;33m(\u001b[0m\u001b[0mslicer\u001b[0m\u001b[1;33m)\u001b[0m\u001b[1;33m\u001b[0m\u001b[0m\n\u001b[1;32m-> 2655\u001b[1;33m             \u001b[0mnew_blocks\u001b[0m \u001b[1;33m=\u001b[0m \u001b[1;33m[\u001b[0m\u001b[0mblk\u001b[0m\u001b[1;33m.\u001b[0m\u001b[0mgetitem_block\u001b[0m\u001b[1;33m(\u001b[0m\u001b[0mslicer\u001b[0m\u001b[1;33m)\u001b[0m \u001b[1;32mfor\u001b[0m \u001b[0mblk\u001b[0m \u001b[1;32min\u001b[0m \u001b[0mself\u001b[0m\u001b[1;33m.\u001b[0m\u001b[0mblocks\u001b[0m\u001b[1;33m]\u001b[0m\u001b[1;33m\u001b[0m\u001b[0m\n\u001b[0m\u001b[0;32m   2656\u001b[0m \u001b[1;33m\u001b[0m\u001b[0m\n\u001b[0;32m   2657\u001b[0m         \u001b[0mnew_axes\u001b[0m \u001b[1;33m=\u001b[0m \u001b[0mlist\u001b[0m\u001b[1;33m(\u001b[0m\u001b[0mself\u001b[0m\u001b[1;33m.\u001b[0m\u001b[0maxes\u001b[0m\u001b[1;33m)\u001b[0m\u001b[1;33m\u001b[0m\u001b[0m\n",
      "\u001b[1;32mC:\\Anaconda\\lib\\site-packages\\pandas\\core\\internals.pyc\u001b[0m in \u001b[0;36mgetitem_block\u001b[1;34m(self, slicer, new_mgr_locs)\u001b[0m\n\u001b[0;32m    210\u001b[0m             \u001b[0mnew_mgr_locs\u001b[0m \u001b[1;33m=\u001b[0m \u001b[0mself\u001b[0m\u001b[1;33m.\u001b[0m\u001b[0mmgr_locs\u001b[0m\u001b[1;33m[\u001b[0m\u001b[0maxis0_slicer\u001b[0m\u001b[1;33m]\u001b[0m\u001b[1;33m\u001b[0m\u001b[0m\n\u001b[0;32m    211\u001b[0m \u001b[1;33m\u001b[0m\u001b[0m\n\u001b[1;32m--> 212\u001b[1;33m         \u001b[0mnew_values\u001b[0m \u001b[1;33m=\u001b[0m \u001b[0mself\u001b[0m\u001b[1;33m.\u001b[0m\u001b[0m_slice\u001b[0m\u001b[1;33m(\u001b[0m\u001b[0mslicer\u001b[0m\u001b[1;33m)\u001b[0m\u001b[1;33m\u001b[0m\u001b[0m\n\u001b[0m\u001b[0;32m    213\u001b[0m \u001b[1;33m\u001b[0m\u001b[0m\n\u001b[0;32m    214\u001b[0m         \u001b[1;32mif\u001b[0m \u001b[0mself\u001b[0m\u001b[1;33m.\u001b[0m\u001b[0m_validate_ndim\u001b[0m \u001b[1;32mand\u001b[0m \u001b[0mnew_values\u001b[0m\u001b[1;33m.\u001b[0m\u001b[0mndim\u001b[0m \u001b[1;33m!=\u001b[0m \u001b[0mself\u001b[0m\u001b[1;33m.\u001b[0m\u001b[0mndim\u001b[0m\u001b[1;33m:\u001b[0m\u001b[1;33m\u001b[0m\u001b[0m\n",
      "\u001b[1;32mC:\\Anaconda\\lib\\site-packages\\pandas\\core\\internals.pyc\u001b[0m in \u001b[0;36m_slice\u001b[1;34m(self, slicer)\u001b[0m\n\u001b[0;32m    176\u001b[0m     \u001b[1;32mdef\u001b[0m \u001b[0m_slice\u001b[0m\u001b[1;33m(\u001b[0m\u001b[0mself\u001b[0m\u001b[1;33m,\u001b[0m \u001b[0mslicer\u001b[0m\u001b[1;33m)\u001b[0m\u001b[1;33m:\u001b[0m\u001b[1;33m\u001b[0m\u001b[0m\n\u001b[0;32m    177\u001b[0m         \u001b[1;34m\"\"\" return a slice of my values \"\"\"\u001b[0m\u001b[1;33m\u001b[0m\u001b[0m\n\u001b[1;32m--> 178\u001b[1;33m         \u001b[1;32mreturn\u001b[0m \u001b[0mself\u001b[0m\u001b[1;33m.\u001b[0m\u001b[0mvalues\u001b[0m\u001b[1;33m[\u001b[0m\u001b[0mslicer\u001b[0m\u001b[1;33m]\u001b[0m\u001b[1;33m\u001b[0m\u001b[0m\n\u001b[0m\u001b[0;32m    179\u001b[0m \u001b[1;33m\u001b[0m\u001b[0m\n\u001b[0;32m    180\u001b[0m     \u001b[1;32mdef\u001b[0m \u001b[0mreshape_nd\u001b[0m\u001b[1;33m(\u001b[0m\u001b[0mself\u001b[0m\u001b[1;33m,\u001b[0m \u001b[0mlabels\u001b[0m\u001b[1;33m,\u001b[0m \u001b[0mshape\u001b[0m\u001b[1;33m,\u001b[0m \u001b[0mref_items\u001b[0m\u001b[1;33m)\u001b[0m\u001b[1;33m:\u001b[0m\u001b[1;33m\u001b[0m\u001b[0m\n",
      "\u001b[1;31mIndexError\u001b[0m: invalid slice"
     ]
    }
   ],
   "source": [
    "print(df['2013-01-01':'2013-01-02'])"
   ]
  },
  {
   "cell_type": "markdown",
   "metadata": {},
   "source": [
    "###[`.ix` Conventional selection by label or position](http://pandas.pydata.org/pandas-docs/version/0.15.2/indexing.html#indexing-integer)"
   ]
  },
  {
   "cell_type": "markdown",
   "metadata": {},
   "source": [
    "You can use `ix` to select slices of the data frame.  "
   ]
  },
  {
   "cell_type": "code",
   "execution_count": null,
   "metadata": {
    "collapsed": false
   },
   "outputs": [],
   "source": [
    "df = makeDateRand()\n",
    "print(df)\n",
    "print('')\n",
    "print(df.ix[:, 'D']) # All rows in column D\n",
    "print(df.ix[0:2, 0:2]) # upper left 2x2 sub-array, not including third [2] column \n",
    "print(df.ix[0:2, [0,2,3]]) # multiple columns in list format\n",
    "print(df.ix[1:3, 'A':'C']) # use range of column names, same effect as above, note 'C' included!!\n",
    "print(df.ix[2:4, ['A','C']]) # use list of column names\n",
    "print(df.ix[1:3, 'B':]) # All columns onwards from 'B'\n",
    "print(df.ix[1:3, :'C']) # All columns up to and including!! C\n",
    "df.ix[1:3, :'C'] = -1\n",
    "print(df)"
   ]
  },
  {
   "cell_type": "markdown",
   "metadata": {},
   "source": [
    "To copy discontinuous column ranges takes a bit more effort. First create lists of the required columns"
   ]
  },
  {
   "cell_type": "code",
   "execution_count": null,
   "metadata": {
    "collapsed": false
   },
   "outputs": [],
   "source": [
    "df = makeDateRand()\n",
    "lst = list(df.columns[0:1]) + list(df.columns[2:3])\n",
    "print(lst)\n",
    "df1 = df[lst].copy() # copy was made, use this to get rid of the warning \n",
    "df1.ix[2,0] = +1000\n",
    "print(df1)\n",
    "\n",
    "df2 = df.ix[:,lst] # ix appears to have made a copy\n",
    "df2.ix[2,0] = +1000\n",
    "print(df2)\n",
    "print(df)\n",
    "\n"
   ]
  },
  {
   "cell_type": "markdown",
   "metadata": {},
   "source": [
    "###[`.loc` Selection by Label](http://pandas.pydata.org/pandas-docs/version/0.15.2/indexing.html#indexing-label)"
   ]
  },
  {
   "cell_type": "markdown",
   "metadata": {},
   "source": [
    "The following example is strange in the sense that is refers to the index by name (see the function where the DataFrame was created), but the index is not named.  Yet, it can/must be used, by using the Series name `dates`. This is probably because pandas  has strong support for time Series."
   ]
  },
  {
   "cell_type": "code",
   "execution_count": null,
   "metadata": {
    "collapsed": false
   },
   "outputs": [],
   "source": [
    "df = makeDateRand()\n",
    "print(df)\n",
    "print(df.index)\n",
    "print(df.index.name)\n",
    "print(df.columns)\n",
    "print(df.loc[dates[0]])"
   ]
  },
  {
   "cell_type": "markdown",
   "metadata": {},
   "source": [
    "In this example the row at count=0 is accessed just by the count number.  The index is not named."
   ]
  },
  {
   "cell_type": "code",
   "execution_count": null,
   "metadata": {
    "collapsed": false
   },
   "outputs": [],
   "source": [
    "df = makegridDF()\n",
    "print(df)\n",
    "print(df.index)\n",
    "print(df.index.name)\n",
    "print(df.loc[0])"
   ]
  },
  {
   "cell_type": "markdown",
   "metadata": {},
   "source": [
    "Select all the rows, but only the 'A' and 'B' columns of these rows."
   ]
  },
  {
   "cell_type": "code",
   "execution_count": null,
   "metadata": {
    "collapsed": false
   },
   "outputs": [],
   "source": [
    "df.loc[:,['A','B']]"
   ]
  },
  {
   "cell_type": "markdown",
   "metadata": {},
   "source": [
    "In the following example a slice is made on both rows and columns.  Note that when using `loc` both endpoints in the row range are returned, but in die `ix` case the upper bound must point to one beyond the end row."
   ]
  },
  {
   "cell_type": "code",
   "execution_count": null,
   "metadata": {
    "collapsed": false
   },
   "outputs": [],
   "source": [
    "df = makeDateRand()\n",
    "print(df.loc['20130102':'20130104',['A','B']])\n",
    "print(df.ix[1:4,['A','B']])"
   ]
  },
  {
   "cell_type": "markdown",
   "metadata": {},
   "source": [
    "This example selects a row by using a dynamically generated datetime value."
   ]
  },
  {
   "cell_type": "code",
   "execution_count": null,
   "metadata": {
    "collapsed": false
   },
   "outputs": [],
   "source": [
    "df = makeDateRand()\n",
    "df.ix[datetime(2013,01,02)]"
   ]
  },
  {
   "cell_type": "markdown",
   "metadata": {},
   "source": [
    "Rows can also be selected by numeric index by using the `irow` method."
   ]
  },
  {
   "cell_type": "code",
   "execution_count": null,
   "metadata": {
    "collapsed": false
   },
   "outputs": [],
   "source": [
    "df = makeDateRand()\n",
    "print(df)\n",
    "print(df.irow(1))\n",
    "print(df.irow(3))"
   ]
  },
  {
   "cell_type": "markdown",
   "metadata": {},
   "source": [
    "This example iterates over all rows, assigning values to each row during iteration."
   ]
  },
  {
   "cell_type": "code",
   "execution_count": null,
   "metadata": {
    "collapsed": false
   },
   "outputs": [],
   "source": [
    "df = makeDateRand()\n",
    "print(df.head())\n",
    "for i,(idx, row) in enumerate(df.iterrows()):\n",
    "    row['A'] = 2\n",
    "    df.ix[idx, 'B'] = i\n",
    "    df.ix[idx]['C'] = np.sqrt(i)\n",
    "print(df.head())"
   ]
  },
  {
   "cell_type": "code",
   "execution_count": null,
   "metadata": {
    "collapsed": true
   },
   "outputs": [],
   "source": [
    "#tbc"
   ]
  },
  {
   "cell_type": "markdown",
   "metadata": {},
   "source": [
    "###[`.iloc` Selection by Position](http://pandas.pydata.org/pandas-docs/version/0.15.2/indexing.html#indexing-integer)"
   ]
  },
  {
   "cell_type": "markdown",
   "metadata": {},
   "source": [
    "The `iloc` "
   ]
  },
  {
   "cell_type": "code",
   "execution_count": null,
   "metadata": {
    "collapsed": false
   },
   "outputs": [],
   "source": [
    "df = makeDateRand()\n",
    "df.iloc[3]"
   ]
  },
  {
   "cell_type": "code",
   "execution_count": null,
   "metadata": {
    "collapsed": false
   },
   "outputs": [],
   "source": [
    "df.iloc[3:5,0:2]"
   ]
  },
  {
   "cell_type": "code",
   "execution_count": null,
   "metadata": {
    "collapsed": false
   },
   "outputs": [],
   "source": [
    "df.iloc[[1,2,4],[0,2]]"
   ]
  },
  {
   "cell_type": "code",
   "execution_count": null,
   "metadata": {
    "collapsed": false
   },
   "outputs": [],
   "source": [
    "#slicing rows\n",
    "df.iloc[1:3,:]"
   ]
  },
  {
   "cell_type": "code",
   "execution_count": null,
   "metadata": {
    "collapsed": false
   },
   "outputs": [],
   "source": [
    "#slicing columns\n",
    "df.iloc[:,1:3]"
   ]
  },
  {
   "cell_type": "code",
   "execution_count": null,
   "metadata": {
    "collapsed": false
   },
   "outputs": [],
   "source": [
    "df.iloc[1,1]"
   ]
  },
  {
   "cell_type": "markdown",
   "metadata": {},
   "source": [
    "###Series/DataFrame [enlargement](http://pandas.pydata.org/pandas-docs/version/0.15.2/indexing.html#setting-with-enlargement)"
   ]
  },
  {
   "cell_type": "markdown",
   "metadata": {},
   "source": [
    "The `.loc`/`.ix/[]` operations can perform enlargement when setting a non-existent key for that axis. In the Series case this is effectively an appending operation."
   ]
  },
  {
   "cell_type": "code",
   "execution_count": null,
   "metadata": {
    "collapsed": false
   },
   "outputs": [],
   "source": [
    "se = pd.Series([1,2,3])\n",
    "print(se) \n",
    "se[5] = 5.\n",
    "print(se)"
   ]
  },
  {
   "cell_type": "markdown",
   "metadata": {},
   "source": [
    "A DataFrame can be enlarged on either axis via `.loc`"
   ]
  },
  {
   "cell_type": "code",
   "execution_count": null,
   "metadata": {
    "collapsed": false
   },
   "outputs": [],
   "source": [
    "dfi = pd.DataFrame(np.arange(6).reshape(3,2),columns=['A','B'])\n",
    "print(dfi)\n",
    "dfi.loc[:,'C'] = dfi.loc[:,'A']\n",
    "print(dfi)\n",
    "dfi.loc[3] = 5\n",
    "print(dfi)"
   ]
  },
  {
   "cell_type": "markdown",
   "metadata": {},
   "source": [
    "###Find row where index is nearest to given value"
   ]
  },
  {
   "cell_type": "code",
   "execution_count": 190,
   "metadata": {
    "collapsed": false
   },
   "outputs": [
    {
     "name": "stdout",
     "output_type": "stream",
     "text": [
      "                   A         B         C         D\n",
      "2013-01-01  0.325389 -2.409789 -1.111467 -1.272483\n",
      "2013-01-02 -0.790742  0.218697 -0.357021  0.519667\n",
      "2013-01-03  0.817886  0.969074 -0.971767  0.028446\n",
      "2013-01-04 -1.678607 -0.197092  0.690585  0.481876\n",
      "2013-01-05 -0.545952 -1.100644  0.822460 -0.521788\n",
      "2013-01-06  1.811657 -0.771722 -1.178580  1.317708\n",
      "A   -1.678607\n",
      "B   -0.197092\n",
      "C    0.690585\n",
      "D    0.481876\n",
      "Name: 2013-01-04 00:00:00, dtype: float64\n",
      "3\n"
     ]
    }
   ],
   "source": [
    "df = makeDateRand()\n",
    "print(df)\n",
    "print(df.iloc[np.argmin(np.abs(df.index.to_pydatetime() - datetime.datetime(2013,1,4)))]) # row\n",
    "print(np.argmin(np.abs(df.index.to_pydatetime() - datetime.datetime(2013,1,4)))) # index"
   ]
  },
  {
   "cell_type": "code",
   "execution_count": 191,
   "metadata": {
    "collapsed": false
   },
   "outputs": [
    {
     "name": "stdout",
     "output_type": "stream",
     "text": [
      "          A         B         C         D\n",
      "0 -1.315140 -0.242211 -1.194011  0.623632\n",
      "1  0.723594  1.256630 -1.018392  1.806375\n",
      "2 -0.541730 -0.646721 -0.450718  1.455102\n",
      "3  1.799430 -0.455019 -0.801430  0.030720\n",
      "<class 'pandas.core.series.Series'>\n",
      "A   -0.541730\n",
      "B   -0.646721\n",
      "C   -0.450718\n",
      "D    1.455102\n",
      "Name: 2, dtype: float64\n",
      "2\n"
     ]
    }
   ],
   "source": [
    "df = makeRand()\n",
    "print(df)\n",
    "row = df.iloc[np.argmin(np.abs(df.index - 2))] # row\n",
    "print(type(row))\n",
    "print(row)\n",
    "print(np.argmin(np.abs(df.index - 2))) # index"
   ]
  },
  {
   "cell_type": "markdown",
   "metadata": {},
   "source": [
    "###Find row where column is maximum"
   ]
  },
  {
   "cell_type": "code",
   "execution_count": 189,
   "metadata": {
    "collapsed": false
   },
   "outputs": [
    {
     "name": "stdout",
     "output_type": "stream",
     "text": [
      "          A         B         C         D\n",
      "0 -0.858436  0.037875 -0.467995 -0.184116\n",
      "1  1.435010  0.031610 -0.636843 -0.002721\n",
      "2 -1.026010 -0.721476  0.015575 -0.804564\n",
      "3  0.263172 -0.170815  0.286820 -1.346619\n",
      "1\n",
      "A    1.435010\n",
      "B    0.031610\n",
      "C   -0.636843\n",
      "D   -0.002721\n",
      "Name: 1, dtype: float64\n"
     ]
    }
   ],
   "source": [
    "df = makeRand()\n",
    "print(df)\n",
    "print(df['A'].argmax(df['A'].argmax()))  # index\n",
    "print(df.iloc[df['A'].argmax(df['A'].argmax())]) #row"
   ]
  },
  {
   "cell_type": "markdown",
   "metadata": {},
   "source": [
    "###Find row where specific column has nearest value"
   ]
  },
  {
   "cell_type": "code",
   "execution_count": 192,
   "metadata": {
    "collapsed": false
   },
   "outputs": [
    {
     "name": "stdout",
     "output_type": "stream",
     "text": [
      "          A         B         C         D\n",
      "0 -0.456681  0.940857  0.622991  1.105931\n",
      "1 -0.472553  0.106307 -1.236626 -0.277683\n",
      "2 -1.455653  0.194254 -0.818134 -0.435012\n",
      "3 -1.406018 -0.202545  0.300187  1.133164\n",
      "A   -0.456681\n",
      "B    0.940857\n",
      "C    0.622991\n",
      "D    1.105931\n",
      "Name: 0, dtype: float64\n",
      "0\n"
     ]
    }
   ],
   "source": [
    "df = makeRand()\n",
    "print(df)\n",
    "value = 0\n",
    "print(df.iloc[np.argmin(np.abs(df['A'] - value))]) # row\n",
    "print(np.argmin(np.abs(df['A'] - value))) # index"
   ]
  },
  {
   "cell_type": "markdown",
   "metadata": {},
   "source": [
    "###Boolean indexing and filtering"
   ]
  },
  {
   "cell_type": "code",
   "execution_count": 147,
   "metadata": {
    "collapsed": false
   },
   "outputs": [
    {
     "ename": "NameError",
     "evalue": "global name 'nrow' is not defined",
     "output_type": "error",
     "traceback": [
      "\u001b[1;31m---------------------------------------------------------------------------\u001b[0m",
      "\u001b[1;31mNameError\u001b[0m                                 Traceback (most recent call last)",
      "\u001b[1;32m<ipython-input-147-c08feefa8e40>\u001b[0m in \u001b[0;36m<module>\u001b[1;34m()\u001b[0m\n\u001b[0;32m      1\u001b[0m \u001b[1;31m#filter by single row\u001b[0m\u001b[1;33m\u001b[0m\u001b[1;33m\u001b[0m\u001b[0m\n\u001b[1;32m----> 2\u001b[1;33m \u001b[0mdf\u001b[0m \u001b[1;33m=\u001b[0m \u001b[0mmakeDateRand\u001b[0m\u001b[1;33m(\u001b[0m\u001b[1;33m)\u001b[0m\u001b[1;33m\u001b[0m\u001b[0m\n\u001b[0m\u001b[0;32m      3\u001b[0m \u001b[0mdf\u001b[0m\u001b[1;33m[\u001b[0m\u001b[0mdf\u001b[0m\u001b[1;33m.\u001b[0m\u001b[0mA\u001b[0m \u001b[1;33m>\u001b[0m \u001b[1;36m0\u001b[0m\u001b[1;33m]\u001b[0m\u001b[1;33m\u001b[0m\u001b[0m\n",
      "\u001b[1;32m<ipython-input-86-80f474fd1a5a>\u001b[0m in \u001b[0;36mmakeDateRand\u001b[1;34m(nrows, ncols)\u001b[0m\n\u001b[0;32m      2\u001b[0m \u001b[1;32mdef\u001b[0m \u001b[0mmakeDateRand\u001b[0m\u001b[1;33m(\u001b[0m\u001b[0mnrows\u001b[0m\u001b[1;33m=\u001b[0m\u001b[1;36m4\u001b[0m\u001b[1;33m,\u001b[0m \u001b[0mncols\u001b[0m\u001b[1;33m=\u001b[0m\u001b[1;36m4\u001b[0m\u001b[1;33m)\u001b[0m\u001b[1;33m:\u001b[0m\u001b[1;33m\u001b[0m\u001b[0m\n\u001b[0;32m      3\u001b[0m     \u001b[0mdates\u001b[0m \u001b[1;33m=\u001b[0m \u001b[0mpd\u001b[0m\u001b[1;33m.\u001b[0m\u001b[0mdate_range\u001b[0m\u001b[1;33m(\u001b[0m\u001b[1;34m'20130101'\u001b[0m\u001b[1;33m,\u001b[0m\u001b[0mperiods\u001b[0m\u001b[1;33m=\u001b[0m\u001b[1;36m6\u001b[0m\u001b[1;33m)\u001b[0m\u001b[1;33m\u001b[0m\u001b[0m\n\u001b[1;32m----> 4\u001b[1;33m     \u001b[0mdf\u001b[0m \u001b[1;33m=\u001b[0m \u001b[0mpd\u001b[0m\u001b[1;33m.\u001b[0m\u001b[0mDataFrame\u001b[0m\u001b[1;33m(\u001b[0m\u001b[0mnp\u001b[0m\u001b[1;33m.\u001b[0m\u001b[0mrandom\u001b[0m\u001b[1;33m.\u001b[0m\u001b[0mrandn\u001b[0m\u001b[1;33m(\u001b[0m\u001b[0mnrow\u001b[0m\u001b[1;33m,\u001b[0m\u001b[0mncols\u001b[0m\u001b[1;33m)\u001b[0m\u001b[1;33m,\u001b[0m\u001b[0mindex\u001b[0m\u001b[1;33m=\u001b[0m\u001b[0mdates\u001b[0m\u001b[1;33m,\u001b[0m\u001b[0mcolumns\u001b[0m\u001b[1;33m=\u001b[0m\u001b[0mlist\u001b[0m\u001b[1;33m(\u001b[0m\u001b[1;34m'ABCD'\u001b[0m\u001b[1;33m)\u001b[0m\u001b[1;33m)\u001b[0m\u001b[1;33m\u001b[0m\u001b[0m\n\u001b[0m\u001b[0;32m      5\u001b[0m     \u001b[1;32mreturn\u001b[0m \u001b[0mdf\u001b[0m\u001b[1;33m\u001b[0m\u001b[0m\n",
      "\u001b[1;31mNameError\u001b[0m: global name 'nrow' is not defined"
     ]
    }
   ],
   "source": [
    "#filter by single row\n",
    "df = makeDateRand()\n",
    "df[df.A > 0]"
   ]
  },
  {
   "cell_type": "code",
   "execution_count": 59,
   "metadata": {
    "collapsed": false
   },
   "outputs": [
    {
     "data": {
      "text/html": [
       "<div style=\"max-height:1000px;max-width:1500px;overflow:auto;\">\n",
       "<table border=\"1\" class=\"dataframe\">\n",
       "  <thead>\n",
       "    <tr style=\"text-align: right;\">\n",
       "      <th></th>\n",
       "      <th>A</th>\n",
       "      <th>B</th>\n",
       "      <th>C</th>\n",
       "      <th>D</th>\n",
       "    </tr>\n",
       "  </thead>\n",
       "  <tbody>\n",
       "  </tbody>\n",
       "</table>\n",
       "</div>"
      ],
      "text/plain": [
       "Empty DataFrame\n",
       "Columns: [A, B, C, D]\n",
       "Index: []"
      ]
     },
     "execution_count": 59,
     "metadata": {},
     "output_type": "execute_result"
    }
   ],
   "source": [
    "#filter by multiple row\n",
    "df2 = df[(df.A>0) & (df.B>0)]\n",
    "df2"
   ]
  },
  {
   "cell_type": "code",
   "execution_count": 60,
   "metadata": {
    "collapsed": false
   },
   "outputs": [
    {
     "name": "stdout",
     "output_type": "stream",
     "text": [
      "(<class 'pandas.core.series.Series'>, 2013-01-01    False\n",
      "2013-01-02    False\n",
      "2013-01-03    False\n",
      "2013-01-04    False\n",
      "2013-01-05    False\n",
      "2013-01-06    False\n",
      "Freq: D, dtype: bool)\n",
      "filt.any() = False\n",
      "filt.all() = False\n"
     ]
    }
   ],
   "source": [
    "#filter specs are pandas time series, which can be manipulated\n",
    "filt = (df.A>0) & (df.B>0)\n",
    "print(type(filt), filt)\n",
    "print('filt.any() = {}'.format(filt.any()))\n",
    "print('filt.all() = {}'.format(filt.all()))"
   ]
  },
  {
   "cell_type": "code",
   "execution_count": 61,
   "metadata": {
    "collapsed": false
   },
   "outputs": [
    {
     "data": {
      "text/html": [
       "<div style=\"max-height:1000px;max-width:1500px;overflow:auto;\">\n",
       "<table border=\"1\" class=\"dataframe\">\n",
       "  <thead>\n",
       "    <tr style=\"text-align: right;\">\n",
       "      <th></th>\n",
       "      <th>A</th>\n",
       "      <th>B</th>\n",
       "      <th>C</th>\n",
       "      <th>D</th>\n",
       "    </tr>\n",
       "  </thead>\n",
       "  <tbody>\n",
       "    <tr>\n",
       "      <th>2013-01-01</th>\n",
       "      <td> 0.806293</td>\n",
       "      <td>      NaN</td>\n",
       "      <td> 0.184366</td>\n",
       "      <td>      NaN</td>\n",
       "    </tr>\n",
       "    <tr>\n",
       "      <th>2013-01-02</th>\n",
       "      <td>      NaN</td>\n",
       "      <td>      NaN</td>\n",
       "      <td>      NaN</td>\n",
       "      <td>      NaN</td>\n",
       "    </tr>\n",
       "    <tr>\n",
       "      <th>2013-01-03</th>\n",
       "      <td> 0.339057</td>\n",
       "      <td>      NaN</td>\n",
       "      <td>      NaN</td>\n",
       "      <td> 0.289780</td>\n",
       "    </tr>\n",
       "    <tr>\n",
       "      <th>2013-01-04</th>\n",
       "      <td>      NaN</td>\n",
       "      <td>      NaN</td>\n",
       "      <td> 0.783143</td>\n",
       "      <td> 0.160725</td>\n",
       "    </tr>\n",
       "    <tr>\n",
       "      <th>2013-01-05</th>\n",
       "      <td>      NaN</td>\n",
       "      <td> 0.884931</td>\n",
       "      <td> 0.962539</td>\n",
       "      <td>      NaN</td>\n",
       "    </tr>\n",
       "    <tr>\n",
       "      <th>2013-01-06</th>\n",
       "      <td>      NaN</td>\n",
       "      <td>      NaN</td>\n",
       "      <td> 2.330506</td>\n",
       "      <td> 1.503962</td>\n",
       "    </tr>\n",
       "  </tbody>\n",
       "</table>\n",
       "</div>"
      ],
      "text/plain": [
       "                   A         B         C         D\n",
       "2013-01-01  0.806293       NaN  0.184366       NaN\n",
       "2013-01-02       NaN       NaN       NaN       NaN\n",
       "2013-01-03  0.339057       NaN       NaN  0.289780\n",
       "2013-01-04       NaN       NaN  0.783143  0.160725\n",
       "2013-01-05       NaN  0.884931  0.962539       NaN\n",
       "2013-01-06       NaN       NaN  2.330506  1.503962"
      ]
     },
     "execution_count": 61,
     "metadata": {},
     "output_type": "execute_result"
    }
   ],
   "source": [
    "#filter by element\n",
    "df[df > 0]"
   ]
  },
  {
   "cell_type": "code",
   "execution_count": 62,
   "metadata": {
    "collapsed": false
   },
   "outputs": [
    {
     "name": "stdout",
     "output_type": "stream",
     "text": [
      "                   A         B         C         D      E\n",
      "2013-01-01  0.806293 -1.264604  0.184366 -0.435645    one\n",
      "2013-01-02 -0.105947 -0.639070 -0.341976 -0.682723    one\n",
      "2013-01-03  0.339057 -1.960241 -2.204251  0.289780    two\n",
      "2013-01-04 -1.852649 -1.315759  0.783143  0.160725  three\n",
      "2013-01-05 -0.448001  0.884931  0.962539 -0.740747   four\n",
      "2013-01-06 -0.687342 -0.248638  2.330506  1.503962  three\n"
     ]
    },
    {
     "data": {
      "text/html": [
       "<div style=\"max-height:1000px;max-width:1500px;overflow:auto;\">\n",
       "<table border=\"1\" class=\"dataframe\">\n",
       "  <thead>\n",
       "    <tr style=\"text-align: right;\">\n",
       "      <th></th>\n",
       "      <th>A</th>\n",
       "      <th>B</th>\n",
       "      <th>C</th>\n",
       "      <th>D</th>\n",
       "      <th>E</th>\n",
       "    </tr>\n",
       "  </thead>\n",
       "  <tbody>\n",
       "    <tr>\n",
       "      <th>2013-01-03</th>\n",
       "      <td> 0.339057</td>\n",
       "      <td>-1.960241</td>\n",
       "      <td>-2.204251</td>\n",
       "      <td> 0.289780</td>\n",
       "      <td>  two</td>\n",
       "    </tr>\n",
       "    <tr>\n",
       "      <th>2013-01-05</th>\n",
       "      <td>-0.448001</td>\n",
       "      <td> 0.884931</td>\n",
       "      <td> 0.962539</td>\n",
       "      <td>-0.740747</td>\n",
       "      <td> four</td>\n",
       "    </tr>\n",
       "  </tbody>\n",
       "</table>\n",
       "</div>"
      ],
      "text/plain": [
       "                   A         B         C         D     E\n",
       "2013-01-03  0.339057 -1.960241 -2.204251  0.289780   two\n",
       "2013-01-05 -0.448001  0.884931  0.962539 -0.740747  four"
      ]
     },
     "execution_count": 62,
     "metadata": {},
     "output_type": "execute_result"
    }
   ],
   "source": [
    "#isin filtering\n",
    "df2 = df.copy()\n",
    "df2['E']=['one', 'one','two','three','four','three']\n",
    "print(df2)\n",
    "df2[df2['E'].isin(['two','four'])]"
   ]
  },
  {
   "cell_type": "code",
   "execution_count": 63,
   "metadata": {
    "collapsed": false
   },
   "outputs": [
    {
     "name": "stdout",
     "output_type": "stream",
     "text": [
      "     A      B         C         D\n",
      "0  foo    one  1.704886  1.170707\n",
      "1  bar    one -0.813787 -0.153656\n",
      "2  foo    two  2.170811 -0.318112\n",
      "3  bar  three -0.986525  0.078411\n",
      "4  foo    two  1.045485 -0.289139\n",
      "5  bar    two -0.121183  0.066849\n",
      "6  foo    one  0.465065 -0.929122\n",
      "7  foo  three  1.328987  0.887484\n"
     ]
    },
    {
     "data": {
      "text/plain": [
       "array(['one', 'two', 'three'], dtype=object)"
      ]
     },
     "execution_count": 63,
     "metadata": {},
     "output_type": "execute_result"
    }
   ],
   "source": [
    "#get unique values in a column\n",
    "df = makefoobar()\n",
    "print(df)\n",
    "df.B.unique()"
   ]
  },
  {
   "cell_type": "markdown",
   "metadata": {},
   "source": [
    "<http://stackoverflow.com/questions/20875140/apply-function-to-sets-of-columns-in-pandas-looping-over-entire-data-frame-co>  \n",
    "\n",
    "What I want to do is simply to calculate the length of the vector for each header (A and B) in this case, for each index, and divide by the Time column. Hence, this function needs to be np.sqrt(A_x^2 + A_y^2 + A_z^2) and the same for B of course. I.e. I am looking to calculate the velocity for each row, but three columns contribute to one velocity result.      "
   ]
  },
  {
   "cell_type": "code",
   "execution_count": 52,
   "metadata": {
    "collapsed": false
   },
   "outputs": [
    {
     "name": "stdout",
     "output_type": "stream",
     "text": [
      "['A_x', 'A_y', 'A_z']\n",
      "         A_x       A_y       A_z\n",
      "1  -0.866036 -0.609962  0.697015\n",
      "2  -0.361163 -1.337141 -0.083210\n",
      "3   0.026910  1.382770 -0.982824\n",
      "4   0.785285 -1.251536 -1.853590\n",
      "5  -0.159702 -0.492080 -0.449791\n",
      "6  -0.147551  0.324448  1.592172\n",
      "7   0.929406 -0.242631  0.288650\n",
      "8  -0.243551  1.071559  0.732014\n",
      "9   0.175272 -0.932040  0.010235\n",
      "10 -0.252762  0.981510 -0.725347\n",
      "        Time       A_x       A_y       A_z       B_x       B_y       B_z  Velocity_A  Velocity_B\n",
      "1  -1.347362 -0.866036 -0.609962  0.697015  1.203333  2.028204 -0.445130   -0.941121   -1.781223\n",
      "2  -0.376973 -0.361163 -1.337141 -0.083210  0.468981 -0.441673 -1.301762   -3.680784   -3.852924\n",
      "3  -1.090916  0.026910  1.382770 -0.982824 -1.924361  1.597575  1.986942   -1.555279   -2.928059\n",
      "4  -0.669853  0.785285 -1.251536 -1.853590  0.924845 -0.109046  0.289680   -3.538689   -1.455939\n",
      "5  -0.784623 -0.159702 -0.492080 -0.449791 -0.140404 -0.080874 -0.156391   -0.873714   -0.287007\n",
      "6   0.329386 -0.147551  0.324448  1.592172 -0.159145  1.935399 -0.599592    4.953397    6.170237\n",
      "7   0.400759  0.929406 -0.242631  0.288650 -1.029818 -0.969421  0.276876    2.502718    3.596091\n",
      "8   0.239801 -0.243551  1.071559  0.732014  0.326604  0.529271 -0.009154    5.506139    2.593806\n",
      "9   0.146362  0.175272 -0.932040  0.010235 -0.605952 -0.356641 -1.051281    6.480063    8.641187\n",
      "10 -1.027434 -0.252762  0.981510 -0.725347  0.810647  0.298313  0.034794   -1.213067   -0.841411\n"
     ]
    }
   ],
   "source": [
    "#pandas approach\n",
    "headers = ['Time', 'A_x', 'A_y', 'A_z', 'B_x', 'B_y', 'B_z']\n",
    "df = pd.DataFrame(np.random.randn(10,7),index=range(1,11),columns=headers)\n",
    "\n",
    "#fiter the column names to get a list of the ones you need\n",
    "print(filter(lambda x: x.startswith(\"A_\"),df.columns))\n",
    "\n",
    "#get the columns according to names\n",
    "print(df[filter(lambda x: x.startswith(\"A_\"),df.columns)])\n",
    "\n",
    "# do the apply dot product for each row across columns\n",
    "column_initials = [\"A\",\"B\"]\n",
    "for column_initial in column_initials:\n",
    "    df[\"Velocity_\"+column_initial] = \\\n",
    "    df[filter(lambda x: x.startswith(column_initial+\"_\"),df.columns)].apply(lambda x: np.sqrt(x.dot(x)), axis=1)/df.Time\n",
    "print(df)  \n"
   ]
  },
  {
   "cell_type": "code",
   "execution_count": 59,
   "metadata": {
    "collapsed": false
   },
   "outputs": [
    {
     "name": "stdout",
     "output_type": "stream",
     "text": [
      "   Velocity_A  Velocity_B\n",
      "0   -1.912133   -1.947397\n",
      "1   -0.590832   -2.002845\n",
      "2    1.503772    2.322585\n",
      "3   -1.979769   -0.270848\n",
      "4    0.707002    3.005761\n",
      "5    2.945552    3.070854\n",
      "6    1.966063    1.221003\n",
      "7   -2.675811   -1.822242\n",
      "8    2.675041    2.190903\n",
      "9    0.883929    3.713751\n"
     ]
    }
   ],
   "source": [
    "#numpy approach\n",
    "headers = ['Time', 'A_x', 'A_y', 'A_z', 'B_x', 'B_y', 'B_z']\n",
    "df = pd.DataFrame(np.random.randn(10,7),index=range(1,11),columns=headers)\n",
    "\n",
    "arr = df.values\n",
    "times = arr[:,0]\n",
    "arr = arr[:,1:]\n",
    "result = np.sqrt((arr**2).reshape(arr.shape[0],-1,3).sum(axis=-1))/times[:,None]\n",
    "result = pd.DataFrame(result, columns=['Velocity_%s'%(x,) for x in list('AB')])\n",
    "print(result)"
   ]
  },
  {
   "cell_type": "code",
   "execution_count": 63,
   "metadata": {
    "collapsed": false
   },
   "outputs": [
    {
     "name": "stdout",
     "output_type": "stream",
     "text": [
      "           A         B\n",
      "1  -1.766247 -3.242271\n",
      "2   1.867759  2.212419\n",
      "3   2.425740  2.026768\n",
      "4   0.760418  0.262202\n",
      "5  -0.367800 -0.943332\n",
      "6   1.861910  1.598906\n",
      "7  -2.862403 -4.881593\n",
      "8  -4.030394 -6.074938\n",
      "9  -1.299672 -1.657686\n",
      "10  9.656592  6.961029\n"
     ]
    }
   ],
   "source": [
    "# yet another approach\n",
    "headers = ['Time', 'A_x', 'A_y', 'A_z', 'B_x', 'B_y', 'B_z']\n",
    "df = pd.DataFrame(np.random.randn(10,7),index=range(1,11),columns=headers)\n",
    "\n",
    "result = df\\\n",
    "    .loc[:, df.columns!='Time']\\\n",
    "    .groupby(lambda x: x[0], axis=1)\\\n",
    "    .apply(lambda x: np.sqrt((x**2).sum(1)))\\\n",
    "    .apply(lambda x: x / df['Time'])\n",
    "\n",
    "print(result)"
   ]
  },
  {
   "cell_type": "markdown",
   "metadata": {},
   "source": [
    "###Setting data"
   ]
  },
  {
   "cell_type": "code",
   "execution_count": 494,
   "metadata": {
    "collapsed": false
   },
   "outputs": [
    {
     "data": {
      "text/plain": [
       "(3.3803161605457968, 5.1584851121598989, 2.1962012098384647)"
      ]
     },
     "execution_count": 494,
     "metadata": {},
     "output_type": "execute_result"
    }
   ],
   "source": [
    "#Adding the sum along a column\n",
    "df = makeDateRand()\n",
    "df['A'].sum(), df['B'].sum(), df['C'].sum(), "
   ]
  },
  {
   "cell_type": "code",
   "execution_count": 500,
   "metadata": {
    "collapsed": false
   },
   "outputs": [
    {
     "name": "stdout",
     "output_type": "stream",
     "text": [
      "                   A         B         C         D     Total\n",
      "2013-01-01  0.804121 -1.047518  0.814930  1.260297  0.571532\n",
      "2013-01-02  0.076090 -0.301548 -0.165532  0.312223 -0.390991\n",
      "2013-01-03  0.117382  0.427753 -0.590014 -0.128085 -0.044879\n",
      "2013-01-04 -0.133791 -1.007004 -0.883338 -0.781047 -2.024132\n",
      "2013-01-05  0.130961  1.715588  0.665942  0.841519  2.512491\n",
      "2013-01-06 -0.069732  0.965853 -0.645569  0.891189  0.250552\n"
     ]
    }
   ],
   "source": [
    "df = makeDateRand()\n",
    "df['Total'] = df['A'] + df['B'] + df['C']\n",
    "print(df)"
   ]
  },
  {
   "cell_type": "code",
   "execution_count": 501,
   "metadata": {
    "collapsed": false
   },
   "outputs": [
    {
     "data": {
      "text/plain": [
       "A        0.925031\n",
       "B        0.753123\n",
       "Total    0.874572\n",
       "dtype: float64"
      ]
     },
     "execution_count": 501,
     "metadata": {},
     "output_type": "execute_result"
    }
   ],
   "source": [
    "sum_row = df[['A','B','Total']].sum()\n",
    "sum_row"
   ]
  },
  {
   "cell_type": "markdown",
   "metadata": {},
   "source": [
    "We need to transpose the data and convert the Series to a DataFrame so that it is easier to concat onto our existing data. The T function allows us to switch the data from being row-based to column-based.\n",
    "\n"
   ]
  },
  {
   "cell_type": "code",
   "execution_count": 502,
   "metadata": {
    "collapsed": false
   },
   "outputs": [
    {
     "data": {
      "text/html": [
       "<div style=\"max-height:1000px;max-width:1500px;overflow:auto;\">\n",
       "<table border=\"1\" class=\"dataframe\">\n",
       "  <thead>\n",
       "    <tr style=\"text-align: right;\">\n",
       "      <th></th>\n",
       "      <th>A</th>\n",
       "      <th>B</th>\n",
       "      <th>Total</th>\n",
       "    </tr>\n",
       "  </thead>\n",
       "  <tbody>\n",
       "    <tr>\n",
       "      <th>0</th>\n",
       "      <td> 0.925031</td>\n",
       "      <td> 0.753123</td>\n",
       "      <td> 0.874572</td>\n",
       "    </tr>\n",
       "  </tbody>\n",
       "</table>\n",
       "</div>"
      ],
      "text/plain": [
       "          A         B     Total\n",
       "0  0.925031  0.753123  0.874572"
      ]
     },
     "execution_count": 502,
     "metadata": {},
     "output_type": "execute_result"
    }
   ],
   "source": [
    "df_sum=pd.DataFrame(data=sum_row).T\n",
    "df_sum"
   ]
  },
  {
   "cell_type": "markdown",
   "metadata": {},
   "source": [
    "The final thing we need to do before adding the totals back is to add the missing columns. We use reindex to do this for us. The trick is to add all of our columns and then allow pandas to fill in the values that are missing.\n"
   ]
  },
  {
   "cell_type": "code",
   "execution_count": 503,
   "metadata": {
    "collapsed": false
   },
   "outputs": [
    {
     "data": {
      "text/html": [
       "<div style=\"max-height:1000px;max-width:1500px;overflow:auto;\">\n",
       "<table border=\"1\" class=\"dataframe\">\n",
       "  <thead>\n",
       "    <tr style=\"text-align: right;\">\n",
       "      <th></th>\n",
       "      <th>A</th>\n",
       "      <th>B</th>\n",
       "      <th>C</th>\n",
       "      <th>D</th>\n",
       "      <th>Total</th>\n",
       "    </tr>\n",
       "  </thead>\n",
       "  <tbody>\n",
       "    <tr>\n",
       "      <th>0</th>\n",
       "      <td> 0.925031</td>\n",
       "      <td> 0.753123</td>\n",
       "      <td>NaN</td>\n",
       "      <td>NaN</td>\n",
       "      <td> 0.874572</td>\n",
       "    </tr>\n",
       "  </tbody>\n",
       "</table>\n",
       "</div>"
      ],
      "text/plain": [
       "          A         B   C   D     Total\n",
       "0  0.925031  0.753123 NaN NaN  0.874572"
      ]
     },
     "execution_count": 503,
     "metadata": {},
     "output_type": "execute_result"
    }
   ],
   "source": [
    "df_sum=df_sum.reindex(columns=df.columns)\n",
    "df_sum"
   ]
  },
  {
   "cell_type": "markdown",
   "metadata": {},
   "source": [
    "Now append the totals to the end of the dataframe, rename the index value to use the word 'Total'."
   ]
  },
  {
   "cell_type": "code",
   "execution_count": 504,
   "metadata": {
    "collapsed": false
   },
   "outputs": [
    {
     "data": {
      "text/html": [
       "<div style=\"max-height:1000px;max-width:1500px;overflow:auto;\">\n",
       "<table border=\"1\" class=\"dataframe\">\n",
       "  <thead>\n",
       "    <tr style=\"text-align: right;\">\n",
       "      <th></th>\n",
       "      <th>A</th>\n",
       "      <th>B</th>\n",
       "      <th>C</th>\n",
       "      <th>D</th>\n",
       "      <th>Total</th>\n",
       "    </tr>\n",
       "  </thead>\n",
       "  <tbody>\n",
       "    <tr>\n",
       "      <th>2</th>\n",
       "      <td> 0.117382</td>\n",
       "      <td> 0.427753</td>\n",
       "      <td>-0.590014</td>\n",
       "      <td>-0.128085</td>\n",
       "      <td>-0.044879</td>\n",
       "    </tr>\n",
       "    <tr>\n",
       "      <th>3</th>\n",
       "      <td>-0.133791</td>\n",
       "      <td>-1.007004</td>\n",
       "      <td>-0.883338</td>\n",
       "      <td>-0.781047</td>\n",
       "      <td>-2.024132</td>\n",
       "    </tr>\n",
       "    <tr>\n",
       "      <th>4</th>\n",
       "      <td> 0.130961</td>\n",
       "      <td> 1.715588</td>\n",
       "      <td> 0.665942</td>\n",
       "      <td> 0.841519</td>\n",
       "      <td> 2.512491</td>\n",
       "    </tr>\n",
       "    <tr>\n",
       "      <th>5</th>\n",
       "      <td>-0.069732</td>\n",
       "      <td> 0.965853</td>\n",
       "      <td>-0.645569</td>\n",
       "      <td> 0.891189</td>\n",
       "      <td> 0.250552</td>\n",
       "    </tr>\n",
       "    <tr>\n",
       "      <th>Total</th>\n",
       "      <td> 0.925031</td>\n",
       "      <td> 0.753123</td>\n",
       "      <td>      NaN</td>\n",
       "      <td>      NaN</td>\n",
       "      <td> 0.874572</td>\n",
       "    </tr>\n",
       "  </tbody>\n",
       "</table>\n",
       "</div>"
      ],
      "text/plain": [
       "              A         B         C         D     Total\n",
       "2      0.117382  0.427753 -0.590014 -0.128085 -0.044879\n",
       "3     -0.133791 -1.007004 -0.883338 -0.781047 -2.024132\n",
       "4      0.130961  1.715588  0.665942  0.841519  2.512491\n",
       "5     -0.069732  0.965853 -0.645569  0.891189  0.250552\n",
       "Total  0.925031  0.753123       NaN       NaN  0.874572"
      ]
     },
     "execution_count": 504,
     "metadata": {},
     "output_type": "execute_result"
    }
   ],
   "source": [
    "df=df.append(df_sum,ignore_index=True)\n",
    "df.index = df.index.tolist()[:-1]   + ['Total']\n",
    "df.tail()"
   ]
  },
  {
   "cell_type": "code",
   "execution_count": null,
   "metadata": {
    "collapsed": true
   },
   "outputs": [],
   "source": []
  },
  {
   "cell_type": "markdown",
   "metadata": {},
   "source": [
    "Setting a new column automatically aligns the data by the indexes"
   ]
  },
  {
   "cell_type": "code",
   "execution_count": 64,
   "metadata": {
    "collapsed": false
   },
   "outputs": [
    {
     "data": {
      "text/html": [
       "<div style=\"max-height:1000px;max-width:1500px;overflow:auto;\">\n",
       "<table border=\"1\" class=\"dataframe\">\n",
       "  <thead>\n",
       "    <tr style=\"text-align: right;\">\n",
       "      <th></th>\n",
       "      <th>A</th>\n",
       "      <th>B</th>\n",
       "      <th>C</th>\n",
       "      <th>D</th>\n",
       "      <th>E</th>\n",
       "      <th>F</th>\n",
       "    </tr>\n",
       "  </thead>\n",
       "  <tbody>\n",
       "    <tr>\n",
       "      <th>2013-01-01</th>\n",
       "      <td> 0.806293</td>\n",
       "      <td>-1.264604</td>\n",
       "      <td> 0.184366</td>\n",
       "      <td>-0.435645</td>\n",
       "      <td>   one</td>\n",
       "      <td>NaN</td>\n",
       "    </tr>\n",
       "    <tr>\n",
       "      <th>2013-01-02</th>\n",
       "      <td>-0.105947</td>\n",
       "      <td>-0.639070</td>\n",
       "      <td>-0.341976</td>\n",
       "      <td>-0.682723</td>\n",
       "      <td>   one</td>\n",
       "      <td>  1</td>\n",
       "    </tr>\n",
       "    <tr>\n",
       "      <th>2013-01-03</th>\n",
       "      <td> 0.339057</td>\n",
       "      <td>-1.960241</td>\n",
       "      <td>-2.204251</td>\n",
       "      <td> 0.289780</td>\n",
       "      <td>   two</td>\n",
       "      <td>  2</td>\n",
       "    </tr>\n",
       "    <tr>\n",
       "      <th>2013-01-04</th>\n",
       "      <td>-1.852649</td>\n",
       "      <td>-1.315759</td>\n",
       "      <td> 0.783143</td>\n",
       "      <td> 0.160725</td>\n",
       "      <td> three</td>\n",
       "      <td>  3</td>\n",
       "    </tr>\n",
       "    <tr>\n",
       "      <th>2013-01-05</th>\n",
       "      <td>-0.448001</td>\n",
       "      <td> 0.884931</td>\n",
       "      <td> 0.962539</td>\n",
       "      <td>-0.740747</td>\n",
       "      <td>  four</td>\n",
       "      <td>  4</td>\n",
       "    </tr>\n",
       "    <tr>\n",
       "      <th>2013-01-06</th>\n",
       "      <td>-0.687342</td>\n",
       "      <td>-0.248638</td>\n",
       "      <td> 2.330506</td>\n",
       "      <td> 1.503962</td>\n",
       "      <td> three</td>\n",
       "      <td>  5</td>\n",
       "    </tr>\n",
       "  </tbody>\n",
       "</table>\n",
       "</div>"
      ],
      "text/plain": [
       "                   A         B         C         D      E   F\n",
       "2013-01-01  0.806293 -1.264604  0.184366 -0.435645    one NaN\n",
       "2013-01-02 -0.105947 -0.639070 -0.341976 -0.682723    one   1\n",
       "2013-01-03  0.339057 -1.960241 -2.204251  0.289780    two   2\n",
       "2013-01-04 -1.852649 -1.315759  0.783143  0.160725  three   3\n",
       "2013-01-05 -0.448001  0.884931  0.962539 -0.740747   four   4\n",
       "2013-01-06 -0.687342 -0.248638  2.330506  1.503962  three   5"
      ]
     },
     "execution_count": 64,
     "metadata": {},
     "output_type": "execute_result"
    }
   ],
   "source": [
    "s1 = pd.Series([1,2,3,4,5,6],index=pd.date_range('20130102',periods=6))\n",
    "df2['F'] = s1\n",
    "df2"
   ]
  },
  {
   "cell_type": "code",
   "execution_count": 65,
   "metadata": {
    "collapsed": false
   },
   "outputs": [
    {
     "data": {
      "text/html": [
       "<div style=\"max-height:1000px;max-width:1500px;overflow:auto;\">\n",
       "<table border=\"1\" class=\"dataframe\">\n",
       "  <thead>\n",
       "    <tr style=\"text-align: right;\">\n",
       "      <th></th>\n",
       "      <th>A</th>\n",
       "      <th>B</th>\n",
       "      <th>C</th>\n",
       "      <th>D</th>\n",
       "    </tr>\n",
       "  </thead>\n",
       "  <tbody>\n",
       "    <tr>\n",
       "      <th>0</th>\n",
       "      <td> foo</td>\n",
       "      <td>   one</td>\n",
       "      <td> 1.704886</td>\n",
       "      <td> 1.170707</td>\n",
       "    </tr>\n",
       "    <tr>\n",
       "      <th>1</th>\n",
       "      <td> bar</td>\n",
       "      <td>   one</td>\n",
       "      <td>-0.813787</td>\n",
       "      <td>-0.153656</td>\n",
       "    </tr>\n",
       "    <tr>\n",
       "      <th>2</th>\n",
       "      <td> foo</td>\n",
       "      <td>   two</td>\n",
       "      <td> 2.170811</td>\n",
       "      <td>-0.318112</td>\n",
       "    </tr>\n",
       "    <tr>\n",
       "      <th>3</th>\n",
       "      <td> bar</td>\n",
       "      <td> three</td>\n",
       "      <td>-0.986525</td>\n",
       "      <td> 0.078411</td>\n",
       "    </tr>\n",
       "    <tr>\n",
       "      <th>4</th>\n",
       "      <td> foo</td>\n",
       "      <td>   two</td>\n",
       "      <td> 1.045485</td>\n",
       "      <td>-0.289139</td>\n",
       "    </tr>\n",
       "    <tr>\n",
       "      <th>5</th>\n",
       "      <td> bar</td>\n",
       "      <td>   two</td>\n",
       "      <td>-0.121183</td>\n",
       "      <td> 0.066849</td>\n",
       "    </tr>\n",
       "    <tr>\n",
       "      <th>6</th>\n",
       "      <td> foo</td>\n",
       "      <td>   one</td>\n",
       "      <td> 0.465065</td>\n",
       "      <td>-0.929122</td>\n",
       "    </tr>\n",
       "    <tr>\n",
       "      <th>7</th>\n",
       "      <td> foo</td>\n",
       "      <td> three</td>\n",
       "      <td> 1.328987</td>\n",
       "      <td> 0.887484</td>\n",
       "    </tr>\n",
       "    <tr>\n",
       "      <th>2013-01-01 00:00:00</th>\n",
       "      <td>   0</td>\n",
       "      <td>   NaN</td>\n",
       "      <td>      NaN</td>\n",
       "      <td>      NaN</td>\n",
       "    </tr>\n",
       "  </tbody>\n",
       "</table>\n",
       "</div>"
      ],
      "text/plain": [
       "                       A      B         C         D\n",
       "0                    foo    one  1.704886  1.170707\n",
       "1                    bar    one -0.813787 -0.153656\n",
       "2                    foo    two  2.170811 -0.318112\n",
       "3                    bar  three -0.986525  0.078411\n",
       "4                    foo    two  1.045485 -0.289139\n",
       "5                    bar    two -0.121183  0.066849\n",
       "6                    foo    one  0.465065 -0.929122\n",
       "7                    foo  three  1.328987  0.887484\n",
       "2013-01-01 00:00:00    0    NaN       NaN       NaN"
      ]
     },
     "execution_count": 65,
     "metadata": {},
     "output_type": "execute_result"
    }
   ],
   "source": [
    "# Setting values by label\n",
    "df.at[dates[0],'A'] = 0\n",
    "df"
   ]
  },
  {
   "cell_type": "code",
   "execution_count": 66,
   "metadata": {
    "collapsed": false
   },
   "outputs": [
    {
     "data": {
      "text/html": [
       "<div style=\"max-height:1000px;max-width:1500px;overflow:auto;\">\n",
       "<table border=\"1\" class=\"dataframe\">\n",
       "  <thead>\n",
       "    <tr style=\"text-align: right;\">\n",
       "      <th></th>\n",
       "      <th>A</th>\n",
       "      <th>B</th>\n",
       "      <th>C</th>\n",
       "      <th>D</th>\n",
       "    </tr>\n",
       "  </thead>\n",
       "  <tbody>\n",
       "    <tr>\n",
       "      <th>0</th>\n",
       "      <td> foo</td>\n",
       "      <td>     7</td>\n",
       "      <td> 1.704886</td>\n",
       "      <td> 1.170707</td>\n",
       "    </tr>\n",
       "    <tr>\n",
       "      <th>1</th>\n",
       "      <td> bar</td>\n",
       "      <td>   one</td>\n",
       "      <td>-0.813787</td>\n",
       "      <td>-0.153656</td>\n",
       "    </tr>\n",
       "    <tr>\n",
       "      <th>2</th>\n",
       "      <td> foo</td>\n",
       "      <td>   two</td>\n",
       "      <td> 2.170811</td>\n",
       "      <td>-0.318112</td>\n",
       "    </tr>\n",
       "    <tr>\n",
       "      <th>3</th>\n",
       "      <td> bar</td>\n",
       "      <td> three</td>\n",
       "      <td>-0.986525</td>\n",
       "      <td> 0.078411</td>\n",
       "    </tr>\n",
       "    <tr>\n",
       "      <th>4</th>\n",
       "      <td> foo</td>\n",
       "      <td>   two</td>\n",
       "      <td> 1.045485</td>\n",
       "      <td>-0.289139</td>\n",
       "    </tr>\n",
       "    <tr>\n",
       "      <th>5</th>\n",
       "      <td> bar</td>\n",
       "      <td>   two</td>\n",
       "      <td>-0.121183</td>\n",
       "      <td> 0.066849</td>\n",
       "    </tr>\n",
       "    <tr>\n",
       "      <th>6</th>\n",
       "      <td> foo</td>\n",
       "      <td>   one</td>\n",
       "      <td> 0.465065</td>\n",
       "      <td>-0.929122</td>\n",
       "    </tr>\n",
       "    <tr>\n",
       "      <th>7</th>\n",
       "      <td> foo</td>\n",
       "      <td> three</td>\n",
       "      <td> 1.328987</td>\n",
       "      <td> 0.887484</td>\n",
       "    </tr>\n",
       "    <tr>\n",
       "      <th>2013-01-01 00:00:00</th>\n",
       "      <td>   0</td>\n",
       "      <td>   NaN</td>\n",
       "      <td>      NaN</td>\n",
       "      <td>      NaN</td>\n",
       "    </tr>\n",
       "  </tbody>\n",
       "</table>\n",
       "</div>"
      ],
      "text/plain": [
       "                       A      B         C         D\n",
       "0                    foo      7  1.704886  1.170707\n",
       "1                    bar    one -0.813787 -0.153656\n",
       "2                    foo    two  2.170811 -0.318112\n",
       "3                    bar  three -0.986525  0.078411\n",
       "4                    foo    two  1.045485 -0.289139\n",
       "5                    bar    two -0.121183  0.066849\n",
       "6                    foo    one  0.465065 -0.929122\n",
       "7                    foo  three  1.328987  0.887484\n",
       "2013-01-01 00:00:00    0    NaN       NaN       NaN"
      ]
     },
     "execution_count": 66,
     "metadata": {},
     "output_type": "execute_result"
    }
   ],
   "source": [
    "# Setting values by position\n",
    "df.iat[0,1] = 7\n",
    "df"
   ]
  },
  {
   "cell_type": "code",
   "execution_count": 67,
   "metadata": {
    "collapsed": false
   },
   "outputs": [
    {
     "data": {
      "text/html": [
       "<div style=\"max-height:1000px;max-width:1500px;overflow:auto;\">\n",
       "<table border=\"1\" class=\"dataframe\">\n",
       "  <thead>\n",
       "    <tr style=\"text-align: right;\">\n",
       "      <th></th>\n",
       "      <th>A</th>\n",
       "      <th>B</th>\n",
       "      <th>C</th>\n",
       "      <th>D</th>\n",
       "    </tr>\n",
       "  </thead>\n",
       "  <tbody>\n",
       "    <tr>\n",
       "      <th>0</th>\n",
       "      <td> foo</td>\n",
       "      <td>     7</td>\n",
       "      <td> 1.704886</td>\n",
       "      <td> 5</td>\n",
       "    </tr>\n",
       "    <tr>\n",
       "      <th>1</th>\n",
       "      <td> bar</td>\n",
       "      <td>   one</td>\n",
       "      <td>-0.813787</td>\n",
       "      <td> 5</td>\n",
       "    </tr>\n",
       "    <tr>\n",
       "      <th>2</th>\n",
       "      <td> foo</td>\n",
       "      <td>   two</td>\n",
       "      <td> 2.170811</td>\n",
       "      <td> 5</td>\n",
       "    </tr>\n",
       "    <tr>\n",
       "      <th>3</th>\n",
       "      <td> bar</td>\n",
       "      <td> three</td>\n",
       "      <td>-0.986525</td>\n",
       "      <td> 5</td>\n",
       "    </tr>\n",
       "    <tr>\n",
       "      <th>4</th>\n",
       "      <td> foo</td>\n",
       "      <td>   two</td>\n",
       "      <td> 1.045485</td>\n",
       "      <td> 5</td>\n",
       "    </tr>\n",
       "    <tr>\n",
       "      <th>5</th>\n",
       "      <td> bar</td>\n",
       "      <td>   two</td>\n",
       "      <td>-0.121183</td>\n",
       "      <td> 5</td>\n",
       "    </tr>\n",
       "    <tr>\n",
       "      <th>6</th>\n",
       "      <td> foo</td>\n",
       "      <td>   one</td>\n",
       "      <td> 0.465065</td>\n",
       "      <td> 5</td>\n",
       "    </tr>\n",
       "    <tr>\n",
       "      <th>7</th>\n",
       "      <td> foo</td>\n",
       "      <td> three</td>\n",
       "      <td> 1.328987</td>\n",
       "      <td> 5</td>\n",
       "    </tr>\n",
       "    <tr>\n",
       "      <th>2013-01-01 00:00:00</th>\n",
       "      <td>   0</td>\n",
       "      <td>   NaN</td>\n",
       "      <td>      NaN</td>\n",
       "      <td> 5</td>\n",
       "    </tr>\n",
       "  </tbody>\n",
       "</table>\n",
       "</div>"
      ],
      "text/plain": [
       "                       A      B         C  D\n",
       "0                    foo      7  1.704886  5\n",
       "1                    bar    one -0.813787  5\n",
       "2                    foo    two  2.170811  5\n",
       "3                    bar  three -0.986525  5\n",
       "4                    foo    two  1.045485  5\n",
       "5                    bar    two -0.121183  5\n",
       "6                    foo    one  0.465065  5\n",
       "7                    foo  three  1.328987  5\n",
       "2013-01-01 00:00:00    0    NaN       NaN  5"
      ]
     },
     "execution_count": 67,
     "metadata": {},
     "output_type": "execute_result"
    }
   ],
   "source": [
    "# Setting by assigning with a numpy array\n",
    "df.loc[:,'D'] = np.array([5] * len(df))\n",
    "df"
   ]
  },
  {
   "cell_type": "code",
   "execution_count": 68,
   "metadata": {
    "collapsed": false
   },
   "outputs": [
    {
     "data": {
      "text/html": [
       "<div style=\"max-height:1000px;max-width:1500px;overflow:auto;\">\n",
       "<table border=\"1\" class=\"dataframe\">\n",
       "  <thead>\n",
       "    <tr style=\"text-align: right;\">\n",
       "      <th></th>\n",
       "      <th>A</th>\n",
       "      <th>B</th>\n",
       "      <th>C</th>\n",
       "      <th>D</th>\n",
       "    </tr>\n",
       "  </thead>\n",
       "  <tbody>\n",
       "    <tr>\n",
       "      <th>2013-01-01</th>\n",
       "      <td>-0.467656</td>\n",
       "      <td>-0.234445</td>\n",
       "      <td>-0.337960</td>\n",
       "      <td>-1.558072</td>\n",
       "    </tr>\n",
       "    <tr>\n",
       "      <th>2013-01-02</th>\n",
       "      <td>-0.960311</td>\n",
       "      <td>-0.434319</td>\n",
       "      <td>-1.641080</td>\n",
       "      <td>-0.333798</td>\n",
       "    </tr>\n",
       "    <tr>\n",
       "      <th>2013-01-03</th>\n",
       "      <td>-0.092155</td>\n",
       "      <td>-0.308327</td>\n",
       "      <td>-0.264266</td>\n",
       "      <td>-1.212069</td>\n",
       "    </tr>\n",
       "    <tr>\n",
       "      <th>2013-01-04</th>\n",
       "      <td>-0.732735</td>\n",
       "      <td>-0.024228</td>\n",
       "      <td>-1.537414</td>\n",
       "      <td>-2.531615</td>\n",
       "    </tr>\n",
       "    <tr>\n",
       "      <th>2013-01-05</th>\n",
       "      <td>-0.517563</td>\n",
       "      <td>-0.499382</td>\n",
       "      <td>-0.035378</td>\n",
       "      <td>-0.046663</td>\n",
       "    </tr>\n",
       "    <tr>\n",
       "      <th>2013-01-06</th>\n",
       "      <td>-1.134443</td>\n",
       "      <td>-0.309736</td>\n",
       "      <td>-1.180724</td>\n",
       "      <td>-0.518965</td>\n",
       "    </tr>\n",
       "  </tbody>\n",
       "</table>\n",
       "</div>"
      ],
      "text/plain": [
       "                   A         B         C         D\n",
       "2013-01-01 -0.467656 -0.234445 -0.337960 -1.558072\n",
       "2013-01-02 -0.960311 -0.434319 -1.641080 -0.333798\n",
       "2013-01-03 -0.092155 -0.308327 -0.264266 -1.212069\n",
       "2013-01-04 -0.732735 -0.024228 -1.537414 -2.531615\n",
       "2013-01-05 -0.517563 -0.499382 -0.035378 -0.046663\n",
       "2013-01-06 -1.134443 -0.309736 -1.180724 -0.518965"
      ]
     },
     "execution_count": 68,
     "metadata": {},
     "output_type": "execute_result"
    }
   ],
   "source": [
    "# A where operation with setting.\n",
    "df = makeDateRand()\n",
    "df2 = df.copy()\n",
    "df2[df2 > 0] = -df2\n",
    "df2"
   ]
  },
  {
   "cell_type": "markdown",
   "metadata": {},
   "source": [
    "##Missing data"
   ]
  },
  {
   "cell_type": "markdown",
   "metadata": {},
   "source": [
    "pandas primarily uses the value np.nan to represent missing data. It is by default not included in computations. See the [Missing Data section](http://pandas.pydata.org/pandas-docs/version/0.15.2/missing_data.html#missing-data)\n",
    "\n",
    "Reindexing allows you to change/add/delete the index on a specified axis. This returns a copy of the data."
   ]
  },
  {
   "cell_type": "code",
   "execution_count": 69,
   "metadata": {
    "collapsed": false
   },
   "outputs": [
    {
     "data": {
      "text/html": [
       "<div style=\"max-height:1000px;max-width:1500px;overflow:auto;\">\n",
       "<table border=\"1\" class=\"dataframe\">\n",
       "  <thead>\n",
       "    <tr style=\"text-align: right;\">\n",
       "      <th></th>\n",
       "      <th>A</th>\n",
       "      <th>B</th>\n",
       "      <th>C</th>\n",
       "      <th>D</th>\n",
       "      <th>E</th>\n",
       "    </tr>\n",
       "  </thead>\n",
       "  <tbody>\n",
       "    <tr>\n",
       "      <th>2013-01-01</th>\n",
       "      <td>-0.467656</td>\n",
       "      <td>-0.234445</td>\n",
       "      <td> 0.337960</td>\n",
       "      <td>-1.558072</td>\n",
       "      <td>  1</td>\n",
       "    </tr>\n",
       "    <tr>\n",
       "      <th>2013-01-02</th>\n",
       "      <td> 0.960311</td>\n",
       "      <td> 0.434319</td>\n",
       "      <td> 1.641080</td>\n",
       "      <td>-0.333798</td>\n",
       "      <td>  1</td>\n",
       "    </tr>\n",
       "    <tr>\n",
       "      <th>2013-01-03</th>\n",
       "      <td>-0.092155</td>\n",
       "      <td>-0.308327</td>\n",
       "      <td>-0.264266</td>\n",
       "      <td>-1.212069</td>\n",
       "      <td>NaN</td>\n",
       "    </tr>\n",
       "    <tr>\n",
       "      <th>2013-01-04</th>\n",
       "      <td> 0.732735</td>\n",
       "      <td>-0.024228</td>\n",
       "      <td> 1.537414</td>\n",
       "      <td> 2.531615</td>\n",
       "      <td>NaN</td>\n",
       "    </tr>\n",
       "  </tbody>\n",
       "</table>\n",
       "</div>"
      ],
      "text/plain": [
       "                   A         B         C         D   E\n",
       "2013-01-01 -0.467656 -0.234445  0.337960 -1.558072   1\n",
       "2013-01-02  0.960311  0.434319  1.641080 -0.333798   1\n",
       "2013-01-03 -0.092155 -0.308327 -0.264266 -1.212069 NaN\n",
       "2013-01-04  0.732735 -0.024228  1.537414  2.531615 NaN"
      ]
     },
     "execution_count": 69,
     "metadata": {},
     "output_type": "execute_result"
    }
   ],
   "source": [
    "df1 = df.reindex(index=dates[0:4],columns=list(df.columns) + ['E'])\n",
    "df1.loc[dates[0]:dates[1],'E'] = 1\n",
    "df1"
   ]
  },
  {
   "cell_type": "markdown",
   "metadata": {},
   "source": [
    "To drop any rows that have missing data."
   ]
  },
  {
   "cell_type": "code",
   "execution_count": 70,
   "metadata": {
    "collapsed": false
   },
   "outputs": [
    {
     "data": {
      "text/html": [
       "<div style=\"max-height:1000px;max-width:1500px;overflow:auto;\">\n",
       "<table border=\"1\" class=\"dataframe\">\n",
       "  <thead>\n",
       "    <tr style=\"text-align: right;\">\n",
       "      <th></th>\n",
       "      <th>A</th>\n",
       "      <th>B</th>\n",
       "      <th>C</th>\n",
       "      <th>D</th>\n",
       "      <th>E</th>\n",
       "    </tr>\n",
       "  </thead>\n",
       "  <tbody>\n",
       "    <tr>\n",
       "      <th>2013-01-01</th>\n",
       "      <td>-0.467656</td>\n",
       "      <td>-0.234445</td>\n",
       "      <td> 0.33796</td>\n",
       "      <td>-1.558072</td>\n",
       "      <td> 1</td>\n",
       "    </tr>\n",
       "    <tr>\n",
       "      <th>2013-01-02</th>\n",
       "      <td> 0.960311</td>\n",
       "      <td> 0.434319</td>\n",
       "      <td> 1.64108</td>\n",
       "      <td>-0.333798</td>\n",
       "      <td> 1</td>\n",
       "    </tr>\n",
       "  </tbody>\n",
       "</table>\n",
       "</div>"
      ],
      "text/plain": [
       "                   A         B        C         D  E\n",
       "2013-01-01 -0.467656 -0.234445  0.33796 -1.558072  1\n",
       "2013-01-02  0.960311  0.434319  1.64108 -0.333798  1"
      ]
     },
     "execution_count": 70,
     "metadata": {},
     "output_type": "execute_result"
    }
   ],
   "source": [
    "df1.dropna(how='any')"
   ]
  },
  {
   "cell_type": "markdown",
   "metadata": {},
   "source": [
    "Filling missing data"
   ]
  },
  {
   "cell_type": "code",
   "execution_count": 71,
   "metadata": {
    "collapsed": false
   },
   "outputs": [
    {
     "data": {
      "text/html": [
       "<div style=\"max-height:1000px;max-width:1500px;overflow:auto;\">\n",
       "<table border=\"1\" class=\"dataframe\">\n",
       "  <thead>\n",
       "    <tr style=\"text-align: right;\">\n",
       "      <th></th>\n",
       "      <th>A</th>\n",
       "      <th>B</th>\n",
       "      <th>C</th>\n",
       "      <th>D</th>\n",
       "      <th>E</th>\n",
       "    </tr>\n",
       "  </thead>\n",
       "  <tbody>\n",
       "    <tr>\n",
       "      <th>2013-01-01</th>\n",
       "      <td>-0.467656</td>\n",
       "      <td>-0.234445</td>\n",
       "      <td> 0.337960</td>\n",
       "      <td>-1.558072</td>\n",
       "      <td> 1</td>\n",
       "    </tr>\n",
       "    <tr>\n",
       "      <th>2013-01-02</th>\n",
       "      <td> 0.960311</td>\n",
       "      <td> 0.434319</td>\n",
       "      <td> 1.641080</td>\n",
       "      <td>-0.333798</td>\n",
       "      <td> 1</td>\n",
       "    </tr>\n",
       "    <tr>\n",
       "      <th>2013-01-03</th>\n",
       "      <td>-0.092155</td>\n",
       "      <td>-0.308327</td>\n",
       "      <td>-0.264266</td>\n",
       "      <td>-1.212069</td>\n",
       "      <td> 5</td>\n",
       "    </tr>\n",
       "    <tr>\n",
       "      <th>2013-01-04</th>\n",
       "      <td> 0.732735</td>\n",
       "      <td>-0.024228</td>\n",
       "      <td> 1.537414</td>\n",
       "      <td> 2.531615</td>\n",
       "      <td> 5</td>\n",
       "    </tr>\n",
       "  </tbody>\n",
       "</table>\n",
       "</div>"
      ],
      "text/plain": [
       "                   A         B         C         D  E\n",
       "2013-01-01 -0.467656 -0.234445  0.337960 -1.558072  1\n",
       "2013-01-02  0.960311  0.434319  1.641080 -0.333798  1\n",
       "2013-01-03 -0.092155 -0.308327 -0.264266 -1.212069  5\n",
       "2013-01-04  0.732735 -0.024228  1.537414  2.531615  5"
      ]
     },
     "execution_count": 71,
     "metadata": {},
     "output_type": "execute_result"
    }
   ],
   "source": [
    "df1.fillna(value=5)"
   ]
  },
  {
   "cell_type": "markdown",
   "metadata": {},
   "source": [
    "To get the boolean mask where values are nan"
   ]
  },
  {
   "cell_type": "code",
   "execution_count": 72,
   "metadata": {
    "collapsed": false
   },
   "outputs": [
    {
     "data": {
      "text/html": [
       "<div style=\"max-height:1000px;max-width:1500px;overflow:auto;\">\n",
       "<table border=\"1\" class=\"dataframe\">\n",
       "  <thead>\n",
       "    <tr style=\"text-align: right;\">\n",
       "      <th></th>\n",
       "      <th>A</th>\n",
       "      <th>B</th>\n",
       "      <th>C</th>\n",
       "      <th>D</th>\n",
       "      <th>E</th>\n",
       "    </tr>\n",
       "  </thead>\n",
       "  <tbody>\n",
       "    <tr>\n",
       "      <th>2013-01-01</th>\n",
       "      <td> False</td>\n",
       "      <td> False</td>\n",
       "      <td> False</td>\n",
       "      <td> False</td>\n",
       "      <td> False</td>\n",
       "    </tr>\n",
       "    <tr>\n",
       "      <th>2013-01-02</th>\n",
       "      <td> False</td>\n",
       "      <td> False</td>\n",
       "      <td> False</td>\n",
       "      <td> False</td>\n",
       "      <td> False</td>\n",
       "    </tr>\n",
       "    <tr>\n",
       "      <th>2013-01-03</th>\n",
       "      <td> False</td>\n",
       "      <td> False</td>\n",
       "      <td> False</td>\n",
       "      <td> False</td>\n",
       "      <td>  True</td>\n",
       "    </tr>\n",
       "    <tr>\n",
       "      <th>2013-01-04</th>\n",
       "      <td> False</td>\n",
       "      <td> False</td>\n",
       "      <td> False</td>\n",
       "      <td> False</td>\n",
       "      <td>  True</td>\n",
       "    </tr>\n",
       "  </tbody>\n",
       "</table>\n",
       "</div>"
      ],
      "text/plain": [
       "                A      B      C      D      E\n",
       "2013-01-01  False  False  False  False  False\n",
       "2013-01-02  False  False  False  False  False\n",
       "2013-01-03  False  False  False  False   True\n",
       "2013-01-04  False  False  False  False   True"
      ]
     },
     "execution_count": 72,
     "metadata": {},
     "output_type": "execute_result"
    }
   ],
   "source": [
    "pd.isnull(df1)"
   ]
  },
  {
   "cell_type": "markdown",
   "metadata": {},
   "source": [
    "##Operations\n",
    "###Binary operations"
   ]
  },
  {
   "cell_type": "markdown",
   "metadata": {},
   "source": [
    "See the Basic section on [Binary Ops](http://pandas.pydata.org/pandas-docs/version/0.15.2/basics.html#basics-binop)  \n",
    "\n",
    "Operations in general exclude missing data."
   ]
  },
  {
   "cell_type": "code",
   "execution_count": 73,
   "metadata": {
    "collapsed": false
   },
   "outputs": [
    {
     "data": {
      "text/plain": [
       "A    0.291686\n",
       "B    0.009494\n",
       "C    0.744715\n",
       "D   -0.016670\n",
       "dtype: float64"
      ]
     },
     "execution_count": 73,
     "metadata": {},
     "output_type": "execute_result"
    }
   ],
   "source": [
    "df.mean()"
   ]
  },
  {
   "cell_type": "code",
   "execution_count": 74,
   "metadata": {
    "collapsed": false
   },
   "outputs": [
    {
     "data": {
      "text/plain": [
       "2013-01-01   -0.480553\n",
       "2013-01-02    0.675478\n",
       "2013-01-03   -0.469204\n",
       "2013-01-04    1.194384\n",
       "2013-01-05   -0.007366\n",
       "2013-01-06    0.631099\n",
       "Freq: D, dtype: float64"
      ]
     },
     "execution_count": 74,
     "metadata": {},
     "output_type": "execute_result"
    }
   ],
   "source": [
    "#along the other axis\n",
    "df.mean(1)"
   ]
  },
  {
   "cell_type": "markdown",
   "metadata": {},
   "source": [
    "###Applying functions to the data"
   ]
  },
  {
   "cell_type": "markdown",
   "metadata": {},
   "source": [
    "When using apply(), note the axis direction.   \n",
    "- for each column, apply down a row: axis=0  (default)\n",
    "- for each row, apply across columns: axis=1."
   ]
  },
  {
   "cell_type": "code",
   "execution_count": 75,
   "metadata": {
    "collapsed": false
   },
   "outputs": [
    {
     "name": "stdout",
     "output_type": "stream",
     "text": [
      "   A  B  C   D\n",
      "0  1  4  7  10\n",
      "1  2  5  8  11\n",
      "2  3  6  9  12\n",
      "   A   B   C   D\n",
      "0  1   4   7  10\n",
      "1  3   9  15  21\n",
      "2  6  15  24  33\n",
      "   A   B   C   D\n",
      "0  1   4   7  10\n",
      "1  3   9  15  21\n",
      "2  6  15  24  33\n",
      "   A  B   C   D\n",
      "0  1  5  12  22\n",
      "1  2  7  15  26\n",
      "2  3  9  18  30\n"
     ]
    }
   ],
   "source": [
    "df = makegridDF()\n",
    "print(df)\n",
    "print(df.apply(np.cumsum))\n",
    "print(df.apply(np.cumsum, axis=0))\n",
    "print(df.apply(np.cumsum, axis=1))"
   ]
  },
  {
   "cell_type": "code",
   "execution_count": 46,
   "metadata": {
    "collapsed": false
   },
   "outputs": [
    {
     "data": {
      "text/html": [
       "<div style=\"max-height:1000px;max-width:1500px;overflow:auto;\">\n",
       "<table border=\"1\" class=\"dataframe\">\n",
       "  <thead>\n",
       "    <tr style=\"text-align: right;\">\n",
       "      <th></th>\n",
       "      <th>A</th>\n",
       "      <th>B</th>\n",
       "      <th>C</th>\n",
       "      <th>D</th>\n",
       "    </tr>\n",
       "  </thead>\n",
       "  <tbody>\n",
       "    <tr>\n",
       "      <th>2013-01-01</th>\n",
       "      <td>-0.347713</td>\n",
       "      <td>-0.907878</td>\n",
       "      <td> 0.664533</td>\n",
       "      <td> 0.330378</td>\n",
       "    </tr>\n",
       "    <tr>\n",
       "      <th>2013-01-02</th>\n",
       "      <td> 0.925371</td>\n",
       "      <td>-0.074310</td>\n",
       "      <td> 1.967896</td>\n",
       "      <td>-1.221288</td>\n",
       "    </tr>\n",
       "    <tr>\n",
       "      <th>2013-01-03</th>\n",
       "      <td> 2.648762</td>\n",
       "      <td> 1.003158</td>\n",
       "      <td> 2.588638</td>\n",
       "      <td>-0.929843</td>\n",
       "    </tr>\n",
       "    <tr>\n",
       "      <th>2013-01-04</th>\n",
       "      <td> 3.165779</td>\n",
       "      <td> 0.714487</td>\n",
       "      <td> 3.956195</td>\n",
       "      <td>-1.961708</td>\n",
       "    </tr>\n",
       "    <tr>\n",
       "      <th>2013-01-05</th>\n",
       "      <td> 4.467329</td>\n",
       "      <td> 2.506540</td>\n",
       "      <td> 4.750387</td>\n",
       "      <td>-3.961429</td>\n",
       "    </tr>\n",
       "    <tr>\n",
       "      <th>2013-01-06</th>\n",
       "      <td> 2.971142</td>\n",
       "      <td> 2.393032</td>\n",
       "      <td> 5.716535</td>\n",
       "      <td>-4.494308</td>\n",
       "    </tr>\n",
       "  </tbody>\n",
       "</table>\n",
       "</div>"
      ],
      "text/plain": [
       "                   A         B         C         D\n",
       "2013-01-01 -0.347713 -0.907878  0.664533  0.330378\n",
       "2013-01-02  0.925371 -0.074310  1.967896 -1.221288\n",
       "2013-01-03  2.648762  1.003158  2.588638 -0.929843\n",
       "2013-01-04  3.165779  0.714487  3.956195 -1.961708\n",
       "2013-01-05  4.467329  2.506540  4.750387 -3.961429\n",
       "2013-01-06  2.971142  2.393032  5.716535 -4.494308"
      ]
     },
     "execution_count": 46,
     "metadata": {},
     "output_type": "execute_result"
    }
   ],
   "source": [
    "df = makeDateRand()\n",
    "df.apply(np.cumsum)"
   ]
  },
  {
   "cell_type": "code",
   "execution_count": 47,
   "metadata": {
    "collapsed": false
   },
   "outputs": [
    {
     "name": "stdout",
     "output_type": "stream",
     "text": [
      "                   A         B         C         D\n",
      "2013-01-01  1.458686 -1.186782 -1.559096 -0.980556\n",
      "2013-01-02  0.467062 -1.274599  0.215515  0.820009\n",
      "2013-01-03  0.500457 -2.254734  1.068736 -0.427718\n",
      "2013-01-04 -1.742086  0.263522  0.334818  0.473579\n",
      "2013-01-05 -0.887633 -1.092867  0.611888  0.853470\n",
      "2013-01-06  1.459031  1.411495  0.639150 -0.957782\n"
     ]
    },
    {
     "data": {
      "text/plain": [
       "A    3.201117\n",
       "B    3.666230\n",
       "C    2.627831\n",
       "D    1.834027\n",
       "dtype: float64"
      ]
     },
     "execution_count": 47,
     "metadata": {},
     "output_type": "execute_result"
    }
   ],
   "source": [
    "df = makeDateRand()\n",
    "print(df)\n",
    "df.apply(lambda x: x.max() - x.min())"
   ]
  },
  {
   "cell_type": "code",
   "execution_count": 78,
   "metadata": {
    "collapsed": false
   },
   "outputs": [
    {
     "name": "stdout",
     "output_type": "stream",
     "text": [
      "        Date         A         B         C         D\n",
      "0 2013-01-01  0.990319  0.174850 -0.091437  1.751810\n",
      "1 2013-01-02  2.123177  0.510229 -1.563843  0.338379\n",
      "2 2013-01-03 -0.808509  1.184882  2.537792  0.488163\n",
      "3 2013-01-04  1.323992  1.144447  0.642264 -1.036075\n",
      "4 2013-01-05  0.834353 -1.300357  0.184578 -1.460907\n",
      "5 2013-01-06  0.231945  0.842537  0.117507  2.683755\n",
      "                  Date         A         B         C         D\n",
      "0  2013-01-01 00:00:00  0.990319  0.174850 -0.091437  1.751810\n",
      "1  2013-01-02 00:00:00  2.123177  0.510229 -1.563843  0.338379\n",
      "2  2013-01-03 00:00:00 -0.808509  1.184882  2.537792  0.488163\n",
      "3  2013-01-04 00:00:00  1.323992  1.144447  0.642264 -1.036075\n",
      "4  2013-01-05 00:00:00  0.834353 -1.300357  0.184578 -1.460907\n",
      "5  2013-01-06 00:00:00  0.231945  0.842537  0.117507  2.683755\n",
      "        Date         A         B         C         D\n",
      "0 2013-01-01  0.990319  0.174850 -0.091437  1.751810\n",
      "1 2013-01-02  2.123177  0.510229 -1.563843  0.338379\n",
      "2 2013-01-03 -0.808509  1.184882  2.537792  0.488163\n",
      "3 2013-01-04  1.323992  1.144447  0.642264 -1.036075\n",
      "4 2013-01-05  0.834353 -1.300357  0.184578 -1.460907\n",
      "5 2013-01-06  0.231945  0.842537  0.117507  2.683755\n",
      "                 Date         A         B         C         D\n",
      "Date                                                         \n",
      "2013-01-01 2013-01-01  0.990319  0.174850 -0.091437  1.751810\n",
      "2013-01-02 2013-01-02  2.123177  0.510229 -1.563843  0.338379\n",
      "2013-01-03 2013-01-03 -0.808509  1.184882  2.537792  0.488163\n",
      "2013-01-04 2013-01-04  1.323992  1.144447  0.642264 -1.036075\n",
      "2013-01-05 2013-01-05  0.834353 -1.300357  0.184578 -1.460907\n",
      "2013-01-06 2013-01-06  0.231945  0.842537  0.117507  2.683755\n"
     ]
    }
   ],
   "source": [
    "from datetime import datetime\n",
    "df = makeDateRand()\n",
    "df.index.name = 'Date'\n",
    "df.reset_index(level=0,inplace=True)\n",
    "print(df)\n",
    "#convert to string format\n",
    "df.Date = df.Date.apply(lambda d: ' '.join(d.isoformat().split('T')))\n",
    "print(df)\n",
    "#convert back to datetime format\n",
    "df.Date = df.Date.apply(lambda d: datetime.strptime(d, \"%Y-%m-%d %H:%M:%S\"))\n",
    "print(df)\n",
    "\n",
    "df.index = df.Date\n",
    "print(df)"
   ]
  },
  {
   "cell_type": "markdown",
   "metadata": {},
   "source": [
    "###Histograms\n",
    "\n",
    "[Histogramming and Discretization](http://pandas.pydata.org/pandas-docs/version/0.15.2/basics.html#basics-discretization)"
   ]
  },
  {
   "cell_type": "code",
   "execution_count": 79,
   "metadata": {
    "collapsed": false
   },
   "outputs": [
    {
     "data": {
      "text/plain": [
       "6    3\n",
       "0    3\n",
       "4    1\n",
       "3    1\n",
       "2    1\n",
       "1    1\n",
       "dtype: int64"
      ]
     },
     "execution_count": 79,
     "metadata": {},
     "output_type": "execute_result"
    }
   ],
   "source": [
    "s = pd.Series(np.random.randint(0,7,size=10))\n",
    "s.value_counts()"
   ]
  },
  {
   "cell_type": "markdown",
   "metadata": {},
   "source": [
    "### Strings\n",
    "Series is equipped with a set of string processing methods in the str attribute that make it easy to operate on each element of the array, as in the code snippet below. Note that pattern-matching in str generally uses [regular expressions](https://docs.python.org/2/library/re.html) by default (and in some cases always uses them). See more at [Vectorized String Methods](http://pandas.pydata.org/pandas-docs/version/0.15.2/text.html#text-string-methods)."
   ]
  },
  {
   "cell_type": "code",
   "execution_count": 80,
   "metadata": {
    "collapsed": false
   },
   "outputs": [
    {
     "data": {
      "text/plain": [
       "0     1\n",
       "1     1\n",
       "2     1\n",
       "3     4\n",
       "4     4\n",
       "5   NaN\n",
       "6     4\n",
       "7     3\n",
       "8     3\n",
       "dtype: float64"
      ]
     },
     "execution_count": 80,
     "metadata": {},
     "output_type": "execute_result"
    }
   ],
   "source": [
    "s = pd.Series(['A', 'B', 'C', 'Aaba', 'Baca', np.nan, 'CABA', 'dog', 'cat'])\n",
    "s.str.lower()\n",
    "s.str.upper()\n",
    "s.str.len()"
   ]
  },
  {
   "cell_type": "code",
   "execution_count": 81,
   "metadata": {
    "collapsed": false
   },
   "outputs": [
    {
     "data": {
      "text/plain": [
       "0    [a, b, c]\n",
       "1    [c, d, e]\n",
       "2          NaN\n",
       "3    [f, g, h]\n",
       "dtype: object"
      ]
     },
     "execution_count": 81,
     "metadata": {},
     "output_type": "execute_result"
    }
   ],
   "source": [
    "# Methods like split return a Series of lists:\n",
    "s2 = pd.Series(['a_b_c', 'c_d_e', np.nan, 'f_g_h'])\n",
    "s2.str.split('_')"
   ]
  },
  {
   "cell_type": "code",
   "execution_count": 82,
   "metadata": {
    "collapsed": false
   },
   "outputs": [
    {
     "data": {
      "text/plain": [
       "0      b\n",
       "1      d\n",
       "2    NaN\n",
       "3      g\n",
       "dtype: object"
      ]
     },
     "execution_count": 82,
     "metadata": {},
     "output_type": "execute_result"
    }
   ],
   "source": [
    "s2.str.split('_').str[1]"
   ]
  },
  {
   "cell_type": "code",
   "execution_count": 83,
   "metadata": {
    "collapsed": false
   },
   "outputs": [
    {
     "data": {
      "text/plain": [
       "0    NaN\n",
       "1    NaN\n",
       "2    NaN\n",
       "3      a\n",
       "4      a\n",
       "5    NaN\n",
       "6      A\n",
       "7      o\n",
       "8      a\n",
       "dtype: object"
      ]
     },
     "execution_count": 83,
     "metadata": {},
     "output_type": "execute_result"
    }
   ],
   "source": [
    "s = pd.Series(['A', 'B', 'C', 'Aaba', 'Baca', np.nan,'CABA', 'dog', 'cat'])\n",
    "s.str[1]"
   ]
  },
  {
   "cell_type": "markdown",
   "metadata": {},
   "source": [
    "You can use [] notation to directly index by position locations. If you index past the end of the string, the result will be a NaN."
   ]
  },
  {
   "cell_type": "code",
   "execution_count": 84,
   "metadata": {
    "collapsed": false
   },
   "outputs": [
    {
     "data": {
      "text/html": [
       "<div style=\"max-height:1000px;max-width:1500px;overflow:auto;\">\n",
       "<table border=\"1\" class=\"dataframe\">\n",
       "  <thead>\n",
       "    <tr style=\"text-align: right;\">\n",
       "      <th></th>\n",
       "      <th>0</th>\n",
       "      <th>1</th>\n",
       "      <th>2</th>\n",
       "    </tr>\n",
       "  </thead>\n",
       "  <tbody>\n",
       "    <tr>\n",
       "      <th>0</th>\n",
       "      <td>   a</td>\n",
       "      <td>   b</td>\n",
       "      <td>   c</td>\n",
       "    </tr>\n",
       "    <tr>\n",
       "      <th>1</th>\n",
       "      <td>   c</td>\n",
       "      <td>   d</td>\n",
       "      <td>   e</td>\n",
       "    </tr>\n",
       "    <tr>\n",
       "      <th>2</th>\n",
       "      <td> NaN</td>\n",
       "      <td> NaN</td>\n",
       "      <td> NaN</td>\n",
       "    </tr>\n",
       "    <tr>\n",
       "      <th>3</th>\n",
       "      <td>   f</td>\n",
       "      <td>   g</td>\n",
       "      <td>   h</td>\n",
       "    </tr>\n",
       "  </tbody>\n",
       "</table>\n",
       "</div>"
      ],
      "text/plain": [
       "     0    1    2\n",
       "0    a    b    c\n",
       "1    c    d    e\n",
       "2  NaN  NaN  NaN\n",
       "3    f    g    h"
      ]
     },
     "execution_count": 84,
     "metadata": {},
     "output_type": "execute_result"
    }
   ],
   "source": [
    "# Easy to expand this to return a DataFrame\n",
    "s2.str.split('_').apply(pd.Series)"
   ]
  },
  {
   "cell_type": "markdown",
   "metadata": {},
   "source": [
    "Methods like replace and findall take regular expressions, too:"
   ]
  },
  {
   "cell_type": "code",
   "execution_count": 85,
   "metadata": {
    "collapsed": false
   },
   "outputs": [
    {
     "data": {
      "text/plain": [
       "0           A\n",
       "1           B\n",
       "2           C\n",
       "3    XX-XX ba\n",
       "4    XX-XX ca\n",
       "5            \n",
       "6         NaN\n",
       "7    XX-XX BA\n",
       "8      XX-XX \n",
       "9     XX-XX t\n",
       "dtype: object"
      ]
     },
     "execution_count": 85,
     "metadata": {},
     "output_type": "execute_result"
    }
   ],
   "source": [
    "s3 = pd.Series(['A', 'B', 'C', 'Aaba', 'Baca','', np.nan, 'CABA', 'dog', 'cat'])\n",
    "s3.str.replace('^.a|dog', 'XX-XX ', case=False)"
   ]
  },
  {
   "cell_type": "markdown",
   "metadata": {},
   "source": [
    "###Grouping\n",
    "By “group by” we are referring to a process involving one or more of the following steps  \n",
    "\n",
    "- Splitting the data into groups based on some criteria  \n",
    "- Applying a function to each group independently    \n",
    "- Combining the results into a data structure   \n",
    "\n",
    "[grouping](http://pandas.pydata.org/pandas-docs/version/0.15.2/groupby.html#groupby)"
   ]
  },
  {
   "cell_type": "code",
   "execution_count": 90,
   "metadata": {
    "collapsed": false
   },
   "outputs": [
    {
     "data": {
      "text/html": [
       "<div style=\"max-height:1000px;max-width:1500px;overflow:auto;\">\n",
       "<table border=\"1\" class=\"dataframe\">\n",
       "  <thead>\n",
       "    <tr style=\"text-align: right;\">\n",
       "      <th></th>\n",
       "      <th>A</th>\n",
       "      <th>B</th>\n",
       "      <th>C</th>\n",
       "      <th>D</th>\n",
       "    </tr>\n",
       "  </thead>\n",
       "  <tbody>\n",
       "    <tr>\n",
       "      <th>0</th>\n",
       "      <td> foo</td>\n",
       "      <td>   one</td>\n",
       "      <td> 0.448830</td>\n",
       "      <td> 1.250155</td>\n",
       "    </tr>\n",
       "    <tr>\n",
       "      <th>1</th>\n",
       "      <td> bar</td>\n",
       "      <td>   one</td>\n",
       "      <td> 0.609040</td>\n",
       "      <td>-0.216908</td>\n",
       "    </tr>\n",
       "    <tr>\n",
       "      <th>2</th>\n",
       "      <td> foo</td>\n",
       "      <td>   two</td>\n",
       "      <td>-2.423890</td>\n",
       "      <td>-0.558726</td>\n",
       "    </tr>\n",
       "    <tr>\n",
       "      <th>3</th>\n",
       "      <td> bar</td>\n",
       "      <td> three</td>\n",
       "      <td> 0.820044</td>\n",
       "      <td> 1.364242</td>\n",
       "    </tr>\n",
       "    <tr>\n",
       "      <th>4</th>\n",
       "      <td> foo</td>\n",
       "      <td>   two</td>\n",
       "      <td>-0.384493</td>\n",
       "      <td> 0.178097</td>\n",
       "    </tr>\n",
       "    <tr>\n",
       "      <th>5</th>\n",
       "      <td> bar</td>\n",
       "      <td>   two</td>\n",
       "      <td> 0.119828</td>\n",
       "      <td> 0.512074</td>\n",
       "    </tr>\n",
       "    <tr>\n",
       "      <th>6</th>\n",
       "      <td> foo</td>\n",
       "      <td>   one</td>\n",
       "      <td> 1.395724</td>\n",
       "      <td> 0.145416</td>\n",
       "    </tr>\n",
       "    <tr>\n",
       "      <th>7</th>\n",
       "      <td> foo</td>\n",
       "      <td> three</td>\n",
       "      <td>-0.496975</td>\n",
       "      <td> 0.298407</td>\n",
       "    </tr>\n",
       "  </tbody>\n",
       "</table>\n",
       "</div>"
      ],
      "text/plain": [
       "     A      B         C         D\n",
       "0  foo    one  0.448830  1.250155\n",
       "1  bar    one  0.609040 -0.216908\n",
       "2  foo    two -2.423890 -0.558726\n",
       "3  bar  three  0.820044  1.364242\n",
       "4  foo    two -0.384493  0.178097\n",
       "5  bar    two  0.119828  0.512074\n",
       "6  foo    one  1.395724  0.145416\n",
       "7  foo  three -0.496975  0.298407"
      ]
     },
     "execution_count": 90,
     "metadata": {},
     "output_type": "execute_result"
    }
   ],
   "source": [
    "df = makefoobar()\n",
    "df"
   ]
  },
  {
   "cell_type": "markdown",
   "metadata": {},
   "source": [
    "Grouping and then applying a function sum to the resulting groups."
   ]
  },
  {
   "cell_type": "code",
   "execution_count": 91,
   "metadata": {
    "collapsed": false
   },
   "outputs": [
    {
     "data": {
      "text/html": [
       "<div style=\"max-height:1000px;max-width:1500px;overflow:auto;\">\n",
       "<table border=\"1\" class=\"dataframe\">\n",
       "  <thead>\n",
       "    <tr style=\"text-align: right;\">\n",
       "      <th></th>\n",
       "      <th>C</th>\n",
       "      <th>D</th>\n",
       "    </tr>\n",
       "    <tr>\n",
       "      <th>A</th>\n",
       "      <th></th>\n",
       "      <th></th>\n",
       "    </tr>\n",
       "  </thead>\n",
       "  <tbody>\n",
       "    <tr>\n",
       "      <th>bar</th>\n",
       "      <td> 1.548911</td>\n",
       "      <td> 1.659408</td>\n",
       "    </tr>\n",
       "    <tr>\n",
       "      <th>foo</th>\n",
       "      <td>-1.460804</td>\n",
       "      <td> 1.313348</td>\n",
       "    </tr>\n",
       "  </tbody>\n",
       "</table>\n",
       "</div>"
      ],
      "text/plain": [
       "            C         D\n",
       "A                      \n",
       "bar  1.548911  1.659408\n",
       "foo -1.460804  1.313348"
      ]
     },
     "execution_count": 91,
     "metadata": {},
     "output_type": "execute_result"
    }
   ],
   "source": [
    "df.groupby('A').sum()"
   ]
  },
  {
   "cell_type": "code",
   "execution_count": 92,
   "metadata": {
    "collapsed": false
   },
   "outputs": [
    {
     "data": {
      "text/html": [
       "<div style=\"max-height:1000px;max-width:1500px;overflow:auto;\">\n",
       "<table border=\"1\" class=\"dataframe\">\n",
       "  <thead>\n",
       "    <tr style=\"text-align: right;\">\n",
       "      <th></th>\n",
       "      <th></th>\n",
       "      <th>C</th>\n",
       "      <th>D</th>\n",
       "    </tr>\n",
       "    <tr>\n",
       "      <th>A</th>\n",
       "      <th>B</th>\n",
       "      <th></th>\n",
       "      <th></th>\n",
       "    </tr>\n",
       "  </thead>\n",
       "  <tbody>\n",
       "    <tr>\n",
       "      <th rowspan=\"3\" valign=\"top\">bar</th>\n",
       "      <th>one</th>\n",
       "      <td> 0.609040</td>\n",
       "      <td>-0.216908</td>\n",
       "    </tr>\n",
       "    <tr>\n",
       "      <th>three</th>\n",
       "      <td> 0.820044</td>\n",
       "      <td> 1.364242</td>\n",
       "    </tr>\n",
       "    <tr>\n",
       "      <th>two</th>\n",
       "      <td> 0.119828</td>\n",
       "      <td> 0.512074</td>\n",
       "    </tr>\n",
       "    <tr>\n",
       "      <th rowspan=\"3\" valign=\"top\">foo</th>\n",
       "      <th>one</th>\n",
       "      <td> 1.844554</td>\n",
       "      <td> 1.395571</td>\n",
       "    </tr>\n",
       "    <tr>\n",
       "      <th>three</th>\n",
       "      <td>-0.496975</td>\n",
       "      <td> 0.298407</td>\n",
       "    </tr>\n",
       "    <tr>\n",
       "      <th>two</th>\n",
       "      <td>-2.808382</td>\n",
       "      <td>-0.380629</td>\n",
       "    </tr>\n",
       "  </tbody>\n",
       "</table>\n",
       "</div>"
      ],
      "text/plain": [
       "                  C         D\n",
       "A   B                        \n",
       "bar one    0.609040 -0.216908\n",
       "    three  0.820044  1.364242\n",
       "    two    0.119828  0.512074\n",
       "foo one    1.844554  1.395571\n",
       "    three -0.496975  0.298407\n",
       "    two   -2.808382 -0.380629"
      ]
     },
     "execution_count": 92,
     "metadata": {},
     "output_type": "execute_result"
    }
   ],
   "source": [
    "df.groupby(['A','B']).sum()"
   ]
  },
  {
   "cell_type": "code",
   "execution_count": 93,
   "metadata": {
    "collapsed": false
   },
   "outputs": [
    {
     "name": "stdout",
     "output_type": "stream",
     "text": [
      "     A      B         C         D\n",
      "0  foo    one  0.345037  1.120149\n",
      "1  bar    one -0.983207  1.304603\n",
      "2  foo    two -0.469320  0.125918\n",
      "3  bar  three  0.312737  0.146465\n",
      "4  foo    two  0.590574 -0.566539\n",
      "5  bar    two  0.666293  0.185597\n",
      "6  foo    one -0.442139  1.421216\n",
      "7  foo  three  0.899687  0.275622\n"
     ]
    },
    {
     "data": {
      "text/plain": [
       "{'one': -0.36010299230130288,\n",
       " 'three': 0.60621232215056042,\n",
       " 'two': 0.26251537978182976}"
      ]
     },
     "execution_count": 93,
     "metadata": {},
     "output_type": "execute_result"
    }
   ],
   "source": [
    "df = makefoobar()\n",
    "print(df)\n",
    "cnts = {}\n",
    "#first value is group column value, seond value is the members in the group\n",
    "for grp, grp_data in df.groupby(\"B\"):\n",
    "    cnts[grp] = grp_data.C.mean()  \n",
    "cnts"
   ]
  },
  {
   "cell_type": "markdown",
   "metadata": {},
   "source": [
    "###Reshaping\n",
    "\n",
    "[Hierarchical Indexing](http://pandas.pydata.org/pandas-docs/version/0.15.2/advanced.html#advanced-hierarchical) and [Reshaping](http://pandas.pydata.org/pandas-docs/version/0.15.2/reshaping.html#reshaping-stacking)."
   ]
  },
  {
   "cell_type": "code",
   "execution_count": 139,
   "metadata": {
    "collapsed": false
   },
   "outputs": [
    {
     "name": "stdout",
     "output_type": "stream",
     "text": [
      "[('bar', 'one'), ('bar', 'two'), ('baz', 'one'), ('baz', 'two'), ('foo', 'one'), ('foo', 'two'), ('qux', 'one'), ('qux', 'two')]\n"
     ]
    },
    {
     "data": {
      "text/html": [
       "<div style=\"max-height:1000px;max-width:1500px;overflow:auto;\">\n",
       "<table border=\"1\" class=\"dataframe\">\n",
       "  <thead>\n",
       "    <tr style=\"text-align: right;\">\n",
       "      <th></th>\n",
       "      <th></th>\n",
       "      <th>A</th>\n",
       "      <th>B</th>\n",
       "    </tr>\n",
       "    <tr>\n",
       "      <th>first</th>\n",
       "      <th>second</th>\n",
       "      <th></th>\n",
       "      <th></th>\n",
       "    </tr>\n",
       "  </thead>\n",
       "  <tbody>\n",
       "    <tr>\n",
       "      <th rowspan=\"2\" valign=\"top\">bar</th>\n",
       "      <th>one</th>\n",
       "      <td> 1.808066</td>\n",
       "      <td>-0.330584</td>\n",
       "    </tr>\n",
       "    <tr>\n",
       "      <th>two</th>\n",
       "      <td> 0.091519</td>\n",
       "      <td>-0.905225</td>\n",
       "    </tr>\n",
       "    <tr>\n",
       "      <th rowspan=\"2\" valign=\"top\">baz</th>\n",
       "      <th>one</th>\n",
       "      <td>-0.210374</td>\n",
       "      <td>-0.477266</td>\n",
       "    </tr>\n",
       "    <tr>\n",
       "      <th>two</th>\n",
       "      <td> 0.069200</td>\n",
       "      <td> 1.737672</td>\n",
       "    </tr>\n",
       "  </tbody>\n",
       "</table>\n",
       "</div>"
      ],
      "text/plain": [
       "                     A         B\n",
       "first second                    \n",
       "bar   one     1.808066 -0.330584\n",
       "      two     0.091519 -0.905225\n",
       "baz   one    -0.210374 -0.477266\n",
       "      two     0.069200  1.737672"
      ]
     },
     "execution_count": 139,
     "metadata": {},
     "output_type": "execute_result"
    }
   ],
   "source": [
    "tuples = list(zip(*[['bar', 'bar', 'baz', 'baz',\n",
    "                    'foo', 'foo', 'qux', 'qux'],\n",
    "                    ['one', 'two', 'one', 'two',\n",
    "                    'one', 'two', 'one', 'two']]))\n",
    "print(tuples)\n",
    "index = pd.MultiIndex.from_tuples(tuples, names=['first', 'second'])\n",
    "df = pd.DataFrame(np.random.randn(8, 2), index=index, columns=['A', 'B'])\n",
    "df2 = df[:4]\n",
    "df2"
   ]
  },
  {
   "cell_type": "markdown",
   "metadata": {},
   "source": [
    "The stack function “compresses” a level in the DataFrame’s columns."
   ]
  },
  {
   "cell_type": "code",
   "execution_count": 95,
   "metadata": {
    "collapsed": false
   },
   "outputs": [
    {
     "data": {
      "text/plain": [
       "first  second   \n",
       "bar    one     A    1.016842\n",
       "               B    1.446916\n",
       "       two     A   -1.342349\n",
       "               B   -0.700087\n",
       "baz    one     A    0.811508\n",
       "               B   -0.058965\n",
       "       two     A    0.337480\n",
       "               B    1.236764\n",
       "dtype: float64"
      ]
     },
     "execution_count": 95,
     "metadata": {},
     "output_type": "execute_result"
    }
   ],
   "source": [
    "stacked = df2.stack()\n",
    "stacked"
   ]
  },
  {
   "cell_type": "markdown",
   "metadata": {},
   "source": [
    "With a “stacked” DataFrame or Series (having a MultiIndex as the index), the inverse operation of stack is unstack, which by default unstacks the last level:"
   ]
  },
  {
   "cell_type": "code",
   "execution_count": 96,
   "metadata": {
    "collapsed": false
   },
   "outputs": [
    {
     "data": {
      "text/html": [
       "<div style=\"max-height:1000px;max-width:1500px;overflow:auto;\">\n",
       "<table border=\"1\" class=\"dataframe\">\n",
       "  <thead>\n",
       "    <tr style=\"text-align: right;\">\n",
       "      <th></th>\n",
       "      <th></th>\n",
       "      <th>A</th>\n",
       "      <th>B</th>\n",
       "    </tr>\n",
       "    <tr>\n",
       "      <th>first</th>\n",
       "      <th>second</th>\n",
       "      <th></th>\n",
       "      <th></th>\n",
       "    </tr>\n",
       "  </thead>\n",
       "  <tbody>\n",
       "    <tr>\n",
       "      <th rowspan=\"2\" valign=\"top\">bar</th>\n",
       "      <th>one</th>\n",
       "      <td> 1.016842</td>\n",
       "      <td> 1.446916</td>\n",
       "    </tr>\n",
       "    <tr>\n",
       "      <th>two</th>\n",
       "      <td>-1.342349</td>\n",
       "      <td>-0.700087</td>\n",
       "    </tr>\n",
       "    <tr>\n",
       "      <th rowspan=\"2\" valign=\"top\">baz</th>\n",
       "      <th>one</th>\n",
       "      <td> 0.811508</td>\n",
       "      <td>-0.058965</td>\n",
       "    </tr>\n",
       "    <tr>\n",
       "      <th>two</th>\n",
       "      <td> 0.337480</td>\n",
       "      <td> 1.236764</td>\n",
       "    </tr>\n",
       "  </tbody>\n",
       "</table>\n",
       "</div>"
      ],
      "text/plain": [
       "                     A         B\n",
       "first second                    \n",
       "bar   one     1.016842  1.446916\n",
       "      two    -1.342349 -0.700087\n",
       "baz   one     0.811508 -0.058965\n",
       "      two     0.337480  1.236764"
      ]
     },
     "execution_count": 96,
     "metadata": {},
     "output_type": "execute_result"
    }
   ],
   "source": [
    "stacked.unstack()"
   ]
  },
  {
   "cell_type": "code",
   "execution_count": 97,
   "metadata": {
    "collapsed": false
   },
   "outputs": [
    {
     "data": {
      "text/html": [
       "<div style=\"max-height:1000px;max-width:1500px;overflow:auto;\">\n",
       "<table border=\"1\" class=\"dataframe\">\n",
       "  <thead>\n",
       "    <tr style=\"text-align: right;\">\n",
       "      <th></th>\n",
       "      <th>second</th>\n",
       "      <th>one</th>\n",
       "      <th>two</th>\n",
       "    </tr>\n",
       "    <tr>\n",
       "      <th>first</th>\n",
       "      <th></th>\n",
       "      <th></th>\n",
       "      <th></th>\n",
       "    </tr>\n",
       "  </thead>\n",
       "  <tbody>\n",
       "    <tr>\n",
       "      <th rowspan=\"2\" valign=\"top\">bar</th>\n",
       "      <th>A</th>\n",
       "      <td> 1.016842</td>\n",
       "      <td>-1.342349</td>\n",
       "    </tr>\n",
       "    <tr>\n",
       "      <th>B</th>\n",
       "      <td> 1.446916</td>\n",
       "      <td>-0.700087</td>\n",
       "    </tr>\n",
       "    <tr>\n",
       "      <th rowspan=\"2\" valign=\"top\">baz</th>\n",
       "      <th>A</th>\n",
       "      <td> 0.811508</td>\n",
       "      <td> 0.337480</td>\n",
       "    </tr>\n",
       "    <tr>\n",
       "      <th>B</th>\n",
       "      <td>-0.058965</td>\n",
       "      <td> 1.236764</td>\n",
       "    </tr>\n",
       "  </tbody>\n",
       "</table>\n",
       "</div>"
      ],
      "text/plain": [
       "second        one       two\n",
       "first                      \n",
       "bar   A  1.016842 -1.342349\n",
       "      B  1.446916 -0.700087\n",
       "baz   A  0.811508  0.337480\n",
       "      B -0.058965  1.236764"
      ]
     },
     "execution_count": 97,
     "metadata": {},
     "output_type": "execute_result"
    }
   ],
   "source": [
    "stacked.unstack(1)"
   ]
  },
  {
   "cell_type": "code",
   "execution_count": 98,
   "metadata": {
    "collapsed": false
   },
   "outputs": [
    {
     "data": {
      "text/html": [
       "<div style=\"max-height:1000px;max-width:1500px;overflow:auto;\">\n",
       "<table border=\"1\" class=\"dataframe\">\n",
       "  <thead>\n",
       "    <tr style=\"text-align: right;\">\n",
       "      <th></th>\n",
       "      <th>first</th>\n",
       "      <th>bar</th>\n",
       "      <th>baz</th>\n",
       "    </tr>\n",
       "    <tr>\n",
       "      <th>second</th>\n",
       "      <th></th>\n",
       "      <th></th>\n",
       "      <th></th>\n",
       "    </tr>\n",
       "  </thead>\n",
       "  <tbody>\n",
       "    <tr>\n",
       "      <th rowspan=\"2\" valign=\"top\">one</th>\n",
       "      <th>A</th>\n",
       "      <td> 1.016842</td>\n",
       "      <td> 0.811508</td>\n",
       "    </tr>\n",
       "    <tr>\n",
       "      <th>B</th>\n",
       "      <td> 1.446916</td>\n",
       "      <td>-0.058965</td>\n",
       "    </tr>\n",
       "    <tr>\n",
       "      <th rowspan=\"2\" valign=\"top\">two</th>\n",
       "      <th>A</th>\n",
       "      <td>-1.342349</td>\n",
       "      <td> 0.337480</td>\n",
       "    </tr>\n",
       "    <tr>\n",
       "      <th>B</th>\n",
       "      <td>-0.700087</td>\n",
       "      <td> 1.236764</td>\n",
       "    </tr>\n",
       "  </tbody>\n",
       "</table>\n",
       "</div>"
      ],
      "text/plain": [
       "first          bar       baz\n",
       "second                      \n",
       "one    A  1.016842  0.811508\n",
       "       B  1.446916 -0.058965\n",
       "two    A -1.342349  0.337480\n",
       "       B -0.700087  1.236764"
      ]
     },
     "execution_count": 98,
     "metadata": {},
     "output_type": "execute_result"
    }
   ],
   "source": [
    "stacked.unstack(0)"
   ]
  },
  {
   "cell_type": "markdown",
   "metadata": {},
   "source": [
    "##Categoricals\n",
    "see the [categorical introduction](http://pandas.pydata.org/pandas-docs/version/0.15.2/categorical.html#categorical) and the [API documentation](http://pandas.pydata.org/pandas-docs/version/0.15.2/api.html#api-categorical)."
   ]
  },
  {
   "cell_type": "code",
   "execution_count": 35,
   "metadata": {
    "collapsed": false
   },
   "outputs": [
    {
     "data": {
      "text/plain": [
       "0    a\n",
       "1    b\n",
       "2    b\n",
       "3    a\n",
       "4    a\n",
       "5    e\n",
       "Name: grade, dtype: category\n",
       "Categories (3, object): [a < b < e]"
      ]
     },
     "execution_count": 35,
     "metadata": {},
     "output_type": "execute_result"
    }
   ],
   "source": [
    "df = pd.DataFrame({\"id\":[1,2,3,4,5,6], \"raw_grade\":['a', 'b', 'b', 'a', 'a', 'e']})\n",
    "# Convert the raw grades to a categorical data type.\n",
    "df[\"grade\"] = df[\"raw_grade\"].astype(\"category\")\n",
    "df[\"grade\"]"
   ]
  },
  {
   "cell_type": "markdown",
   "metadata": {},
   "source": [
    "Rename the categories to more meaningful names (assigning to Series.cat.categories is in place!) Reorder the categories and simultaneously add the missing categories (methods under Series .cat return a new Series per default)."
   ]
  },
  {
   "cell_type": "code",
   "execution_count": 36,
   "metadata": {
    "collapsed": false
   },
   "outputs": [
    {
     "data": {
      "text/plain": [
       "0    very good\n",
       "1         good\n",
       "2         good\n",
       "3    very good\n",
       "4    very good\n",
       "5     very bad\n",
       "Name: grade, dtype: category\n",
       "Categories (5, object): [very bad < bad < medium < good < very good]"
      ]
     },
     "execution_count": 36,
     "metadata": {},
     "output_type": "execute_result"
    }
   ],
   "source": [
    "df[\"grade\"].cat.categories = [\"very good\", \"good\", \"very bad\"]\n",
    "df[\"grade\"] = df[\"grade\"].cat.set_categories([\"very bad\", \"bad\", \"medium\", \"good\", \"very good\"])\n",
    "df[\"grade\"]"
   ]
  },
  {
   "cell_type": "code",
   "execution_count": 37,
   "metadata": {
    "collapsed": false
   },
   "outputs": [
    {
     "data": {
      "text/html": [
       "<div style=\"max-height:1000px;max-width:1500px;overflow:auto;\">\n",
       "<table border=\"1\" class=\"dataframe\">\n",
       "  <thead>\n",
       "    <tr style=\"text-align: right;\">\n",
       "      <th></th>\n",
       "      <th>id</th>\n",
       "      <th>raw_grade</th>\n",
       "      <th>grade</th>\n",
       "    </tr>\n",
       "  </thead>\n",
       "  <tbody>\n",
       "    <tr>\n",
       "      <th>5</th>\n",
       "      <td> 6</td>\n",
       "      <td> e</td>\n",
       "      <td>  very bad</td>\n",
       "    </tr>\n",
       "    <tr>\n",
       "      <th>1</th>\n",
       "      <td> 2</td>\n",
       "      <td> b</td>\n",
       "      <td>      good</td>\n",
       "    </tr>\n",
       "    <tr>\n",
       "      <th>2</th>\n",
       "      <td> 3</td>\n",
       "      <td> b</td>\n",
       "      <td>      good</td>\n",
       "    </tr>\n",
       "    <tr>\n",
       "      <th>0</th>\n",
       "      <td> 1</td>\n",
       "      <td> a</td>\n",
       "      <td> very good</td>\n",
       "    </tr>\n",
       "    <tr>\n",
       "      <th>3</th>\n",
       "      <td> 4</td>\n",
       "      <td> a</td>\n",
       "      <td> very good</td>\n",
       "    </tr>\n",
       "    <tr>\n",
       "      <th>4</th>\n",
       "      <td> 5</td>\n",
       "      <td> a</td>\n",
       "      <td> very good</td>\n",
       "    </tr>\n",
       "  </tbody>\n",
       "</table>\n",
       "</div>"
      ],
      "text/plain": [
       "   id raw_grade      grade\n",
       "5   6         e   very bad\n",
       "1   2         b       good\n",
       "2   3         b       good\n",
       "0   1         a  very good\n",
       "3   4         a  very good\n",
       "4   5         a  very good"
      ]
     },
     "execution_count": 37,
     "metadata": {},
     "output_type": "execute_result"
    }
   ],
   "source": [
    "# Sorting is per order in the categories, not lexical order.\n",
    "df.sort(\"grade\")"
   ]
  },
  {
   "cell_type": "code",
   "execution_count": 38,
   "metadata": {
    "collapsed": false
   },
   "outputs": [
    {
     "data": {
      "text/plain": [
       "grade\n",
       "very bad      1\n",
       "bad         NaN\n",
       "medium      NaN\n",
       "good          2\n",
       "very good     3\n",
       "dtype: float64"
      ]
     },
     "execution_count": 38,
     "metadata": {},
     "output_type": "execute_result"
    }
   ],
   "source": [
    "# Grouping by a categorical column shows also empty categories.\n",
    "df.groupby(\"grade\").size()"
   ]
  },
  {
   "cell_type": "markdown",
   "metadata": {},
   "source": [
    "##Pivot tables\n",
    "See the section on [Pivot Tables](http://pandas.pydata.org/pandas-docs/version/0.15.2/reshaping.html#reshaping-pivot)."
   ]
  },
  {
   "cell_type": "code",
   "execution_count": 99,
   "metadata": {
    "collapsed": false
   },
   "outputs": [
    {
     "data": {
      "text/html": [
       "<div style=\"max-height:1000px;max-width:1500px;overflow:auto;\">\n",
       "<table border=\"1\" class=\"dataframe\">\n",
       "  <thead>\n",
       "    <tr style=\"text-align: right;\">\n",
       "      <th></th>\n",
       "      <th>A</th>\n",
       "      <th>B</th>\n",
       "      <th>C</th>\n",
       "      <th>D</th>\n",
       "      <th>E</th>\n",
       "    </tr>\n",
       "  </thead>\n",
       "  <tbody>\n",
       "    <tr>\n",
       "      <th>0 </th>\n",
       "      <td>   one</td>\n",
       "      <td> A</td>\n",
       "      <td> foo</td>\n",
       "      <td> 0.220966</td>\n",
       "      <td>-0.407925</td>\n",
       "    </tr>\n",
       "    <tr>\n",
       "      <th>1 </th>\n",
       "      <td>   one</td>\n",
       "      <td> B</td>\n",
       "      <td> foo</td>\n",
       "      <td> 0.717566</td>\n",
       "      <td> 0.335522</td>\n",
       "    </tr>\n",
       "    <tr>\n",
       "      <th>2 </th>\n",
       "      <td>   two</td>\n",
       "      <td> C</td>\n",
       "      <td> foo</td>\n",
       "      <td> 0.273564</td>\n",
       "      <td>-0.904677</td>\n",
       "    </tr>\n",
       "    <tr>\n",
       "      <th>3 </th>\n",
       "      <td> three</td>\n",
       "      <td> A</td>\n",
       "      <td> bar</td>\n",
       "      <td>-1.523647</td>\n",
       "      <td>-1.088773</td>\n",
       "    </tr>\n",
       "    <tr>\n",
       "      <th>4 </th>\n",
       "      <td>   one</td>\n",
       "      <td> B</td>\n",
       "      <td> bar</td>\n",
       "      <td>-1.980749</td>\n",
       "      <td>-0.375930</td>\n",
       "    </tr>\n",
       "    <tr>\n",
       "      <th>5 </th>\n",
       "      <td>   one</td>\n",
       "      <td> C</td>\n",
       "      <td> bar</td>\n",
       "      <td>-0.417124</td>\n",
       "      <td>-0.289410</td>\n",
       "    </tr>\n",
       "    <tr>\n",
       "      <th>6 </th>\n",
       "      <td>   two</td>\n",
       "      <td> A</td>\n",
       "      <td> foo</td>\n",
       "      <td> 0.006494</td>\n",
       "      <td>-0.415106</td>\n",
       "    </tr>\n",
       "    <tr>\n",
       "      <th>7 </th>\n",
       "      <td> three</td>\n",
       "      <td> B</td>\n",
       "      <td> foo</td>\n",
       "      <td>-0.785600</td>\n",
       "      <td>-0.970769</td>\n",
       "    </tr>\n",
       "    <tr>\n",
       "      <th>8 </th>\n",
       "      <td>   one</td>\n",
       "      <td> C</td>\n",
       "      <td> foo</td>\n",
       "      <td>-0.493092</td>\n",
       "      <td> 0.351793</td>\n",
       "    </tr>\n",
       "    <tr>\n",
       "      <th>9 </th>\n",
       "      <td>   one</td>\n",
       "      <td> A</td>\n",
       "      <td> bar</td>\n",
       "      <td>-0.058732</td>\n",
       "      <td>-0.292374</td>\n",
       "    </tr>\n",
       "    <tr>\n",
       "      <th>10</th>\n",
       "      <td>   two</td>\n",
       "      <td> B</td>\n",
       "      <td> bar</td>\n",
       "      <td> 0.112476</td>\n",
       "      <td> 0.722768</td>\n",
       "    </tr>\n",
       "    <tr>\n",
       "      <th>11</th>\n",
       "      <td> three</td>\n",
       "      <td> C</td>\n",
       "      <td> bar</td>\n",
       "      <td> 1.494698</td>\n",
       "      <td>-1.277602</td>\n",
       "    </tr>\n",
       "  </tbody>\n",
       "</table>\n",
       "</div>"
      ],
      "text/plain": [
       "        A  B    C         D         E\n",
       "0     one  A  foo  0.220966 -0.407925\n",
       "1     one  B  foo  0.717566  0.335522\n",
       "2     two  C  foo  0.273564 -0.904677\n",
       "3   three  A  bar -1.523647 -1.088773\n",
       "4     one  B  bar -1.980749 -0.375930\n",
       "5     one  C  bar -0.417124 -0.289410\n",
       "6     two  A  foo  0.006494 -0.415106\n",
       "7   three  B  foo -0.785600 -0.970769\n",
       "8     one  C  foo -0.493092  0.351793\n",
       "9     one  A  bar -0.058732 -0.292374\n",
       "10    two  B  bar  0.112476  0.722768\n",
       "11  three  C  bar  1.494698 -1.277602"
      ]
     },
     "execution_count": 99,
     "metadata": {},
     "output_type": "execute_result"
    }
   ],
   "source": [
    "df = pd.DataFrame({'A' : ['one', 'one', 'two', 'three'] * 3,\n",
    "                   'B' : ['A', 'B', 'C'] * 4,\n",
    "                   'C' : ['foo', 'foo', 'foo', 'bar', 'bar', 'bar'] * 2,\n",
    "                   'D' : np.random.randn(12),\n",
    "                   'E' : np.random.randn(12)})\n",
    "df"
   ]
  },
  {
   "cell_type": "code",
   "execution_count": 100,
   "metadata": {
    "collapsed": false
   },
   "outputs": [
    {
     "data": {
      "text/html": [
       "<div style=\"max-height:1000px;max-width:1500px;overflow:auto;\">\n",
       "<table border=\"1\" class=\"dataframe\">\n",
       "  <thead>\n",
       "    <tr style=\"text-align: right;\">\n",
       "      <th></th>\n",
       "      <th>C</th>\n",
       "      <th>bar</th>\n",
       "      <th>foo</th>\n",
       "    </tr>\n",
       "    <tr>\n",
       "      <th>A</th>\n",
       "      <th>B</th>\n",
       "      <th></th>\n",
       "      <th></th>\n",
       "    </tr>\n",
       "  </thead>\n",
       "  <tbody>\n",
       "    <tr>\n",
       "      <th rowspan=\"3\" valign=\"top\">one</th>\n",
       "      <th>A</th>\n",
       "      <td>-0.058732</td>\n",
       "      <td> 0.220966</td>\n",
       "    </tr>\n",
       "    <tr>\n",
       "      <th>B</th>\n",
       "      <td>-1.980749</td>\n",
       "      <td> 0.717566</td>\n",
       "    </tr>\n",
       "    <tr>\n",
       "      <th>C</th>\n",
       "      <td>-0.417124</td>\n",
       "      <td>-0.493092</td>\n",
       "    </tr>\n",
       "    <tr>\n",
       "      <th rowspan=\"3\" valign=\"top\">three</th>\n",
       "      <th>A</th>\n",
       "      <td>-1.523647</td>\n",
       "      <td>      NaN</td>\n",
       "    </tr>\n",
       "    <tr>\n",
       "      <th>B</th>\n",
       "      <td>      NaN</td>\n",
       "      <td>-0.785600</td>\n",
       "    </tr>\n",
       "    <tr>\n",
       "      <th>C</th>\n",
       "      <td> 1.494698</td>\n",
       "      <td>      NaN</td>\n",
       "    </tr>\n",
       "    <tr>\n",
       "      <th rowspan=\"3\" valign=\"top\">two</th>\n",
       "      <th>A</th>\n",
       "      <td>      NaN</td>\n",
       "      <td> 0.006494</td>\n",
       "    </tr>\n",
       "    <tr>\n",
       "      <th>B</th>\n",
       "      <td> 0.112476</td>\n",
       "      <td>      NaN</td>\n",
       "    </tr>\n",
       "    <tr>\n",
       "      <th>C</th>\n",
       "      <td>      NaN</td>\n",
       "      <td> 0.273564</td>\n",
       "    </tr>\n",
       "  </tbody>\n",
       "</table>\n",
       "</div>"
      ],
      "text/plain": [
       "C             bar       foo\n",
       "A     B                    \n",
       "one   A -0.058732  0.220966\n",
       "      B -1.980749  0.717566\n",
       "      C -0.417124 -0.493092\n",
       "three A -1.523647       NaN\n",
       "      B       NaN -0.785600\n",
       "      C  1.494698       NaN\n",
       "two   A       NaN  0.006494\n",
       "      B  0.112476       NaN\n",
       "      C       NaN  0.273564"
      ]
     },
     "execution_count": 100,
     "metadata": {},
     "output_type": "execute_result"
    }
   ],
   "source": [
    "pd.pivot_table(df, values='D', index=['A', 'B'], columns=['C'])\n"
   ]
  },
  {
   "cell_type": "markdown",
   "metadata": {},
   "source": [
    "Reconstruct the sampled presented in the pages at [Pandas Pivot Table Explained ](http://pbpython.com/pandas-pivot-table-explained.html) and [Generating Excel Reports from a Pandas Pivot Table ](http://pbpython.com/pandas-pivot-report.html).  \n",
    "\n",
    "First load the data and set the Status column as a pandas `category` and set the viewing order. Set the `Name` as table index."
   ]
  },
  {
   "cell_type": "code",
   "execution_count": 34,
   "metadata": {
    "collapsed": false
   },
   "outputs": [
    {
     "name": "stdout",
     "output_type": "stream",
     "text": [
      "   Account                          Name           Rep       Manager      Product  Quantity  Price     Status\n",
      "0   714466               Trantow-Barrows  Craig Booker  Debra Henley          CPU         1  30000  presented\n",
      "1   714466               Trantow-Barrows  Craig Booker  Debra Henley     Software         1  10000  presented\n",
      "2   714466               Trantow-Barrows  Craig Booker  Debra Henley  Maintenance         2   5000    pending\n",
      "3   737550  Fritsch, Russel and Anderson  Craig Booker  Debra Henley          CPU         1  35000   declined\n",
      "                              Account   Price  Quantity\n",
      "Name                                                   \n",
      "Barton LLC                     740150   35000  1.000000\n",
      "Fritsch, Russel and Anderson   737550   35000  1.000000\n",
      "Herman LLC                     141962   65000  2.000000\n",
      "Jerde-Hilpert                  412290    5000  2.000000\n",
      "Kassulke, Ondricka and Metz    307599    7000  3.000000\n",
      "Keeling LLC                    688981  100000  5.000000\n",
      "Kiehn-Spinka                   146832   65000  2.000000\n",
      "Koepp Ltd                      729833   35000  2.000000\n",
      "Kulas Inc                      218895   25000  1.500000\n",
      "Purdy-Kunde                    163416   30000  1.000000\n",
      "Stokes LLC                     239344    7500  1.000000\n",
      "Trantow-Barrows                714466   15000  1.333333\n"
     ]
    }
   ],
   "source": [
    "df = pd.read_excel(\"./data/sales-funnel.xlsx\")\n",
    "df[\"Status\"] = df[\"Status\"].astype(\"category\")\n",
    "df[\"Status\"].cat.set_categories([\"won\",\"pending\",\"presented\",\"declined\"],inplace=True)\n",
    "print(df.head(4))\n",
    "\n",
    "print(pd.pivot_table(df,index=[\"Name\"]))\n"
   ]
  },
  {
   "cell_type": "markdown",
   "metadata": {},
   "source": [
    "##Comparing and Gotchas\n",
    "<http://pandas.pydata.org/pandas-docs/version/0.15.2/basics.html#basics-compare>  \n",
    "<http://pandas.pydata.org/pandas-docs/version/0.15.2/basics.html#boolean-reductions>   \n",
    "\n",
    "pandas follows the numpy convention of raising an error when you try to convert something to a bool. This happens in a if or when using the boolean operations, and, or, or not.  \n",
    "<http://pandas.pydata.org/pandas-docs/version/0.15.2/gotchas.html#gotchas>\n"
   ]
  },
  {
   "cell_type": "markdown",
   "metadata": {},
   "source": [
    "## Python and [module versions, and dates](http://nbviewer.ipython.org/github/jrjohansson/scientific-python-lectures/blob/master/Lecture-0-Scientific-Computing-with-Python.ipynb)"
   ]
  },
  {
   "cell_type": "code",
   "execution_count": 106,
   "metadata": {
    "collapsed": false
   },
   "outputs": [
    {
     "data": {
      "application/json": {
       "Software versions": [
        {
         "module": "Python",
         "version": "2.7.8 32bit [MSC v.1500 32 bit (Intel)]"
        },
        {
         "module": "IPython",
         "version": "3.0.0"
        },
        {
         "module": "OS",
         "version": "Windows 7 6.1.7601 SP1"
        },
        {
         "module": "pandas",
         "version": "0.15.2"
        },
        {
         "module": "numpy",
         "version": "1.9.2"
        },
        {
         "module": "scipy",
         "version": "0.15.1"
        },
        {
         "module": "matplotlib",
         "version": "1.4.3"
        },
        {
         "module": "pyradi",
         "version": "0.1.55"
        }
       ]
      },
      "text/html": [
       "<table><tr><th>Software</th><th>Version</th></tr><tr><td>Python</td><td>2.7.8 32bit [MSC v.1500 32 bit (Intel)]</td></tr><tr><td>IPython</td><td>3.0.0</td></tr><tr><td>OS</td><td>Windows 7 6.1.7601 SP1</td></tr><tr><td>pandas</td><td>0.15.2</td></tr><tr><td>numpy</td><td>1.9.2</td></tr><tr><td>scipy</td><td>0.15.1</td></tr><tr><td>matplotlib</td><td>1.4.3</td></tr><tr><td>pyradi</td><td>0.1.55</td></tr><tr><td colspan='2'>Thu Apr 09 20:22:53 2015 South Africa Standard Time</td></tr></table>"
      ],
      "text/latex": [
       "\\begin{tabular}{|l|l|}\\hline\n",
       "{\\bf Software} & {\\bf Version} \\\\ \\hline\\hline\n",
       "Python & 2.7.8 32bit [MSC v.1500 32 bit (Intel)] \\\\ \\hline\n",
       "IPython & 3.0.0 \\\\ \\hline\n",
       "OS & Windows 7 6.1.7601 SP1 \\\\ \\hline\n",
       "pandas & 0.15.2 \\\\ \\hline\n",
       "numpy & 1.9.2 \\\\ \\hline\n",
       "scipy & 0.15.1 \\\\ \\hline\n",
       "matplotlib & 1.4.3 \\\\ \\hline\n",
       "pyradi & 0.1.55 \\\\ \\hline\n",
       "\\hline \\multicolumn{2}{|l|}{Thu Apr 09 20:22:53 2015 South Africa Standard Time} \\\\ \\hline\n",
       "\\end{tabular}\n"
      ],
      "text/plain": [
       "Software versions\n",
       "Python 2.7.8 32bit [MSC v.1500 32 bit (Intel)]\n",
       "IPython 3.0.0\n",
       "OS Windows 7 6.1.7601 SP1\n",
       "pandas 0.15.2\n",
       "numpy 1.9.2\n",
       "scipy 0.15.1\n",
       "matplotlib 1.4.3\n",
       "pyradi 0.1.55\n",
       "Thu Apr 09 20:22:53 2015 South Africa Standard Time"
      ]
     },
     "execution_count": 106,
     "metadata": {},
     "output_type": "execute_result"
    }
   ],
   "source": [
    "%load_ext version_information\n",
    "%version_information pandas, numpy, scipy, matplotlib, pyradi"
   ]
  },
  {
   "cell_type": "code",
   "execution_count": null,
   "metadata": {
    "collapsed": true
   },
   "outputs": [],
   "source": []
  }
 ],
 "metadata": {
  "kernelspec": {
   "display_name": "Python 2",
   "language": "python",
   "name": "python2"
  },
  "language_info": {
   "codemirror_mode": {
    "name": "ipython",
    "version": 2
   },
   "file_extension": ".py",
   "mimetype": "text/x-python",
   "name": "python",
   "nbconvert_exporter": "python",
   "pygments_lexer": "ipython2",
   "version": "2.7.8"
  }
 },
 "nbformat": 4,
 "nbformat_minor": 0
}
