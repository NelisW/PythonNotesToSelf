{
 "cells": [
  {
   "cell_type": "markdown",
   "metadata": {},
   "source": [
    "#Pandas Cheat Sheet"
   ]
  },
  {
   "cell_type": "markdown",
   "metadata": {},
   "source": [
    "References:  \n",
    "<http://pandas.pydata.org/pandas-docs/stable/basics.html>  \n",
    "<http://pandas.pydata.org/pandas-docs/version/0.15.2/10min.html>    \n",
    "<http://synesthesiam.com/posts/an-introduction-to-pandas.html>  \n",
    "<http://pbpython.com/excel-pandas-comp.html>  \n",
    "<http://pbpython.com/excel-pandas-comp-2.html>  \n",
    "<http://pbpython.com/improve-pandas-excel-output.html>  \n",
    "\n",
    "<http://pbpython.com/pandas-pivot-table-explained.html.\n",
    "<http://pbpython.com/pandas-pivot-report.html>\n",
    "\n",
    "<http://pandas.pydata.org/pandas-docs/stable/cookbook.html#cookbook-multi-index>  \n",
    "\n",
    "<http://www.bigdataexaminer.com/14-best-python-pandas-features/>  \n",
    "<http://pandas.pydata.org/pandas-docs/stable/reshaping.html#reshaping>  \n",
    "<https://iqbalnaved.wordpress.com/2013/08/26/python-pandas-hacks/>   \n",
    "\n",
    "<https://plot.ly/ipython-notebooks/big-data-analytics-with-pandas-and-sqlite/>  \n",
    "<http://www.analyticsvidhya.com/blog/2015/04/comprehensive-guide-data-exploration-sas-using-python-numpy-scipy-matplotlib-pandas/>  \n",
    "\n",
    "\n"
   ]
  },
  {
   "cell_type": "code",
   "execution_count": 140,
   "metadata": {
    "collapsed": true
   },
   "outputs": [],
   "source": [
    "import numpy as np\n",
    "import pandas as pd\n",
    "from datetime import datetime"
   ]
  },
  {
   "cell_type": "markdown",
   "metadata": {},
   "source": [
    "<https://s3.amazonaws.com/quandl-static-content/Documents/Quandl+-+Pandas,+SciPy,+NumPy+Cheat+Sheet.pdf>   \n",
    "\n",
    "|Create pandas data structures| |\n",
    "|--|--|\n",
    "|s = Series(data, index) |Create a Series.|\n",
    "|df = DataFrame (data, index, columns) |Create a Dataframe.|\n",
    "|p = Panel(data, items, major_axis, minor_axis)|Create a Panel.|\n",
    "\n",
    "\n",
    "|\tDataFrame Commands\t|\t\t|\n",
    "|--|--|\n",
    "|\tdf[col]\t|\tSelect column.\t|\n",
    "|\tdf.iloc[label]\t|\tSelect row by label.\t|\n",
    "|\tdf.index\t|\tReturn DataFrame index.\t|\n",
    "|\tdf.drop()\t|\tDelete given row or column. Pass axis=1 for columns.\t|\n",
    "|\tdf1 = df1.reindex_like(df1,df2)\t|\tReindex df1 with index of df2.\t|\n",
    "|\tdf.reset_index()\t|\tReset index, putting old index in column named index.\t|\n",
    "|\tdf.reindex()\t|\tChange DataFrame index, new indecies set to NaN.\t|\n",
    "|\tdf.head(n)\t|\tShow first n rows.\t|\n",
    "|\tdf.tail(n)\t|\tShow last n rows.\t|\n",
    "|\tdf.sort()\t|\tSort index.\t|\n",
    "|\tdf.sort(axis=1)\t|\tSort columns.\t|\n",
    "|\tdf.pivot(index,column,values)\t|\tPivot DataFrame, using new conditions.\t|\n",
    "|\tdf.T\t|\tTranspose DataFrame.\t|\n",
    "|\tdf.stack()\t|\tChange lowest level of column labels into innermost row index.\t|\n",
    "|\tdf.unstack()\t|\tChange innermost row index into lowest level of column labels.\t|\n",
    "|\tdf.applymap()\t|\tApply function to every element in DataFrame.\t|\n",
    "|\tdf.apply()\t|\tApply function along a given axis\t|\n",
    "|\tdf.dropna()\t|\tDrops rows where any data is missing.\t|\n",
    "|\tdf.count()\t|\tReturns Series of row counts for every column.\t|\n",
    "|\tdf.min()\t|\tReturn minimum of every column.\t|\n",
    "|\tdf.max()\t|\tReturn maximum of every column.\t|\n",
    "|\tdf.describe()\t|\tGenerate various summary statistics for every column.\t|\n",
    "|\tconcat()\t|\tMerge DataFrame or Series objects\t|\t\n",
    "\n",
    "|\tGroupby\t|\t\t|\n",
    "|--|--|\n",
    "|\tgroupby()\t|\tSplit DataFrame by columns. Creates a GroupBy object (gb).\t|\n",
    "|\tgb.agg()\t|\tApply function (single or list) to a GroupBy object.\t|\n",
    "|\tgb.transform()\t|\tApplies function and returns object with same index as one being grouped.\t|\n",
    "|\tgb.filter()\t|\tFilter GroupBy object by a given function.\t|\n",
    "|\tgb.groups\t|\tReturn dict whose keys are the unique groups, and values are axis labels belonging to each group.\t|\n",
    "\n",
    "|\tI/O\t|\t\t|\n",
    "|--|--|\n",
    "|\tdf.to_csv(‘foo.csv’)\t|\tSave to CSV.\t|\n",
    "|\tread_csv(‘foo.csv’)\t|\tRead CSV into DataFrame.\t|\n",
    "|\tto_excel(‘foo.xlsx’, sheet_name)\t|\tSave to Excel.\t|\n",
    "|\tread_excel(‘foo.xlsx’,’sheet1’, index_col = None, na_values = [‘NA’])\t|\tRead exel into DataFrame\t|\n",
    "\n",
    "\t\n"
   ]
  },
  {
   "cell_type": "markdown",
   "metadata": {},
   "source": [
    "##Set the display width for display/print output\n",
    "\n",
    "There are quite a few options to configure here, if you're using ipython then tab complete to find the [full set](http://pandas.pydata.org/pandas-docs/version/0.15.2/options.html) of display options:\n",
    "\n",
    "    pd.options.display.<tab>\n",
    "\n",
    "<http://stackoverflow.com/questions/21249206/how-to-configure-display-output-in-ipython-pandas>"
   ]
  },
  {
   "cell_type": "code",
   "execution_count": 89,
   "metadata": {
    "collapsed": false
   },
   "outputs": [],
   "source": [
    "#maximum number of rows and columns displayed when a frame is pretty-printed\n",
    "pd.set_option('display.max_columns', 30)\n",
    "pd.set_option('display.max_rows', 10)\n",
    "# Width of the display in characters.\n",
    "pd.set_option('display.width', 150)\n",
    "# The maximum width in characters of a column in the repr of a pandas data structure.              \n",
    "pd.set_option('display.max_colwidth', 150)"
   ]
  },
  {
   "cell_type": "markdown",
   "metadata": {},
   "source": [
    "##Creating/Loading Data"
   ]
  },
  {
   "cell_type": "markdown",
   "metadata": {},
   "source": [
    "###Functions to create different dataframe types"
   ]
  },
  {
   "cell_type": "markdown",
   "metadata": {},
   "source": [
    "The following  functions create pandas dataframes in a variety of ways."
   ]
  },
  {
   "cell_type": "code",
   "execution_count": 41,
   "metadata": {
    "collapsed": true
   },
   "outputs": [],
   "source": [
    "# DataFrame by passing a numpy array, with a datetime index and labeled columns.\n",
    "def makeDateRand():\n",
    "    dates = pd.date_range('20130101',periods=6)\n",
    "    df = pd.DataFrame(np.random.randn(6,4),index=dates,columns=list('ABCD'))    \n",
    "    return df"
   ]
  },
  {
   "cell_type": "code",
   "execution_count": 42,
   "metadata": {
    "collapsed": false
   },
   "outputs": [],
   "source": [
    "#create from dictionary\n",
    "def makefoobar():\n",
    "    return  pd.DataFrame({'A' : ['foo', 'bar', 'foo', 'bar','foo', 'bar', 'foo', 'foo'],\n",
    "                          'B' : ['one', 'one', 'two', 'three','two', 'two', 'one', 'three'],\n",
    "                          'C' : np.random.randn(8),\n",
    "                          'D' : np.random.randn(8)})"
   ]
  },
  {
   "cell_type": "code",
   "execution_count": 43,
   "metadata": {
    "collapsed": false
   },
   "outputs": [],
   "source": [
    "#create from dictionary\n",
    "def makegridDF():\n",
    "    return  pd.DataFrame({'A' : [1,2,3],\n",
    "                          'B' : [4,5,6],\n",
    "                          'C' : [7,8,9],\n",
    "                          'D' : [10,11,12]})"
   ]
  },
  {
   "cell_type": "code",
   "execution_count": 103,
   "metadata": {
    "collapsed": true
   },
   "outputs": [],
   "source": [
    "#create dataframe from a user-supplied string, using a user-defined regex separator \n",
    "def makeFromString(string, sep='\\s+', header=False):\n",
    "    from StringIO import StringIO\n",
    "    return pd.read_csv(StringIO(string), sep=sep, header=header)\n",
    "#alternative method\n",
    "#     import io\n",
    "#     return pd.read_table(io.BytesIO(content), sep=sep, header=header)"
   ]
  },
  {
   "cell_type": "code",
   "execution_count": 92,
   "metadata": {
    "collapsed": true
   },
   "outputs": [],
   "source": [
    "# DataFrame by passing a dict of objects that can be converted to series-like.\n",
    "def makecatedf():\n",
    "    df = pd.DataFrame({   'A' : 1.,\n",
    "                       'B' : pd.Timestamp('20130102'),\n",
    "                       'C' : pd.Series(1,index=list(range(4)),dtype='float32'),\n",
    "                       'D' : np.array([3] * 4,dtype='int32'),\n",
    "                       'E' : pd.Categorical([\"test\",\"train\",\"test\",\"train\"]),\n",
    "                       'F' : 'foo',\n",
    "                       'G': ['foox','fooa','foon','fooz']})\n",
    "    return (df)"
   ]
  },
  {
   "cell_type": "code",
   "execution_count": 118,
   "metadata": {
    "collapsed": false
   },
   "outputs": [],
   "source": [
    "#create a dataframe with a NaN\n",
    "def makeNaNdf():\n",
    "    return pd.DataFrame([[1, np.nan], [3, 4], [4,5]], columns=list('AB'))"
   ]
  },
  {
   "cell_type": "code",
   "execution_count": 94,
   "metadata": {
    "collapsed": false
   },
   "outputs": [
    {
     "name": "stdout",
     "output_type": "stream",
     "text": [
      "                   A         B         C         D\n",
      "2013-01-01 -0.773064  2.611647 -0.599610  0.891240\n",
      "2013-01-02  1.161235 -1.135200 -0.470114 -0.605752\n",
      "2013-01-03  0.591757  1.572191 -0.001176  0.334664\n",
      "2013-01-04  0.143207  0.558844 -0.697600 -0.104006\n",
      "2013-01-05 -1.049972 -0.860881 -0.735006 -1.597312\n",
      "2013-01-06 -1.264407 -2.043423 -0.242104 -0.257850\n"
     ]
    }
   ],
   "source": [
    "print(makeDateRand())"
   ]
  },
  {
   "cell_type": "markdown",
   "metadata": {},
   "source": [
    "Display the data types"
   ]
  },
  {
   "cell_type": "code",
   "execution_count": 95,
   "metadata": {
    "collapsed": false
   },
   "outputs": [
    {
     "name": "stdout",
     "output_type": "stream",
     "text": [
      "A           float64\n",
      "B    datetime64[ns]\n",
      "C           float32\n",
      "D             int32\n",
      "E          category\n",
      "F            object\n",
      "G            object\n",
      "dtype: object\n"
     ]
    },
    {
     "data": {
      "text/html": [
       "<div style=\"max-height:1000px;max-width:1500px;overflow:auto;\">\n",
       "<table border=\"1\" class=\"dataframe\">\n",
       "  <thead>\n",
       "    <tr style=\"text-align: right;\">\n",
       "      <th></th>\n",
       "      <th>A</th>\n",
       "      <th>B</th>\n",
       "      <th>C</th>\n",
       "      <th>D</th>\n",
       "      <th>E</th>\n",
       "      <th>F</th>\n",
       "      <th>G</th>\n",
       "    </tr>\n",
       "  </thead>\n",
       "  <tbody>\n",
       "    <tr>\n",
       "      <th>0</th>\n",
       "      <td> 1</td>\n",
       "      <td>2013-01-02</td>\n",
       "      <td> 1</td>\n",
       "      <td> 3</td>\n",
       "      <td>  test</td>\n",
       "      <td> foo</td>\n",
       "      <td> foox</td>\n",
       "    </tr>\n",
       "    <tr>\n",
       "      <th>1</th>\n",
       "      <td> 1</td>\n",
       "      <td>2013-01-02</td>\n",
       "      <td> 1</td>\n",
       "      <td> 3</td>\n",
       "      <td> train</td>\n",
       "      <td> foo</td>\n",
       "      <td> fooa</td>\n",
       "    </tr>\n",
       "    <tr>\n",
       "      <th>2</th>\n",
       "      <td> 1</td>\n",
       "      <td>2013-01-02</td>\n",
       "      <td> 1</td>\n",
       "      <td> 3</td>\n",
       "      <td>  test</td>\n",
       "      <td> foo</td>\n",
       "      <td> foon</td>\n",
       "    </tr>\n",
       "    <tr>\n",
       "      <th>3</th>\n",
       "      <td> 1</td>\n",
       "      <td>2013-01-02</td>\n",
       "      <td> 1</td>\n",
       "      <td> 3</td>\n",
       "      <td> train</td>\n",
       "      <td> foo</td>\n",
       "      <td> fooz</td>\n",
       "    </tr>\n",
       "  </tbody>\n",
       "</table>\n",
       "</div>"
      ],
      "text/plain": [
       "   A          B  C  D      E    F     G\n",
       "0  1 2013-01-02  1  3   test  foo  foox\n",
       "1  1 2013-01-02  1  3  train  foo  fooa\n",
       "2  1 2013-01-02  1  3   test  foo  foon\n",
       "3  1 2013-01-02  1  3  train  foo  fooz"
      ]
     },
     "execution_count": 95,
     "metadata": {},
     "output_type": "execute_result"
    }
   ],
   "source": [
    "df2 = makecatedf()\n",
    "print(df2.dtypes)\n",
    "df2"
   ]
  },
  {
   "cell_type": "code",
   "execution_count": 107,
   "metadata": {
    "collapsed": false
   },
   "outputs": [
    {
     "data": {
      "text/html": [
       "<div style=\"max-height:1000px;max-width:1500px;overflow:auto;\">\n",
       "<table border=\"1\" class=\"dataframe\">\n",
       "  <thead>\n",
       "    <tr style=\"text-align: right;\">\n",
       "      <th></th>\n",
       "      <th>Time</th>\n",
       "      <th>A_x</th>\n",
       "      <th>A_y</th>\n",
       "      <th>A_z</th>\n",
       "      <th>B_x</th>\n",
       "      <th>B_y</th>\n",
       "      <th>B_z</th>\n",
       "    </tr>\n",
       "  </thead>\n",
       "  <tbody>\n",
       "    <tr>\n",
       "      <th>0</th>\n",
       "      <td>-0.075509</td>\n",
       "      <td>-0.123527</td>\n",
       "      <td>-0.547239</td>\n",
       "      <td>-0.453707</td>\n",
       "      <td>-0.969796</td>\n",
       "      <td> 0.248761</td>\n",
       "      <td> 1.369613</td>\n",
       "    </tr>\n",
       "    <tr>\n",
       "      <th>1</th>\n",
       "      <td>-0.133580</td>\n",
       "      <td>-0.308314</td>\n",
       "      <td>-0.839347</td>\n",
       "      <td>-0.517989</td>\n",
       "      <td> 0.652120</td>\n",
       "      <td> 0.477232</td>\n",
       "      <td>-0.391767</td>\n",
       "    </tr>\n",
       "    <tr>\n",
       "      <th>2</th>\n",
       "      <td> 0.623841</td>\n",
       "      <td> 0.473552</td>\n",
       "      <td> 0.059428</td>\n",
       "      <td> 0.726088</td>\n",
       "      <td>-0.593291</td>\n",
       "      <td>-3.186297</td>\n",
       "      <td>-0.846863</td>\n",
       "    </tr>\n",
       "  </tbody>\n",
       "</table>\n",
       "</div>"
      ],
      "text/plain": [
       "       Time       A_x       A_y       A_z       B_x       B_y       B_z\n",
       "0 -0.075509 -0.123527 -0.547239 -0.453707 -0.969796  0.248761  1.369613\n",
       "1 -0.133580 -0.308314 -0.839347 -0.517989  0.652120  0.477232 -0.391767\n",
       "2  0.623841  0.473552  0.059428  0.726088 -0.593291 -3.186297 -0.846863"
      ]
     },
     "execution_count": 107,
     "metadata": {},
     "output_type": "execute_result"
    }
   ],
   "source": [
    "content = '''\n",
    "Time       A_x       A_y       A_z       B_x       B_y       B_z\n",
    "-0.075509 -0.123527 -0.547239 -0.453707 -0.969796  0.248761  1.369613\n",
    "-0.133580 -0.308314 -0.839347 -0.517989  0.652120  0.477232 -0.391767\n",
    " 0.623841  0.473552  0.059428  0.726088 -0.593291 -3.186297 -0.846863'''\n",
    "\n",
    "makeFromString(content)"
   ]
  },
  {
   "cell_type": "markdown",
   "metadata": {},
   "source": [
    "If you're using IPython, tab completion for column names (as well as public attributes) is automatically enabled:  \n",
    "    `df2.<Tab>`"
   ]
  },
  {
   "cell_type": "markdown",
   "metadata": {},
   "source": [
    "##File Input/Output"
   ]
  },
  {
   "cell_type": "markdown",
   "metadata": {},
   "source": [
    "###CSV and Excel"
   ]
  },
  {
   "cell_type": "code",
   "execution_count": 109,
   "metadata": {
    "collapsed": false
   },
   "outputs": [
    {
     "data": {
      "text/html": [
       "<div style=\"max-height:1000px;max-width:1500px;overflow:auto;\">\n",
       "<table border=\"1\" class=\"dataframe\">\n",
       "  <thead>\n",
       "    <tr style=\"text-align: right;\">\n",
       "      <th></th>\n",
       "      <th>Unnamed: 0</th>\n",
       "      <th>A</th>\n",
       "      <th>B</th>\n",
       "      <th>C</th>\n",
       "      <th>D</th>\n",
       "    </tr>\n",
       "  </thead>\n",
       "  <tbody>\n",
       "    <tr>\n",
       "      <th>0</th>\n",
       "      <td> 2013-01-01</td>\n",
       "      <td>-1.082598</td>\n",
       "      <td> 0.083492</td>\n",
       "      <td> 1.448496</td>\n",
       "      <td>-0.364855</td>\n",
       "    </tr>\n",
       "    <tr>\n",
       "      <th>1</th>\n",
       "      <td> 2013-01-02</td>\n",
       "      <td> 0.190739</td>\n",
       "      <td> 0.191510</td>\n",
       "      <td>-2.047015</td>\n",
       "      <td>-1.202241</td>\n",
       "    </tr>\n",
       "    <tr>\n",
       "      <th>2</th>\n",
       "      <td> 2013-01-03</td>\n",
       "      <td> 0.298849</td>\n",
       "      <td>-0.220011</td>\n",
       "      <td> 0.750415</td>\n",
       "      <td>-0.050645</td>\n",
       "    </tr>\n",
       "    <tr>\n",
       "      <th>3</th>\n",
       "      <td> 2013-01-04</td>\n",
       "      <td> 0.697791</td>\n",
       "      <td>-0.204322</td>\n",
       "      <td>-0.362239</td>\n",
       "      <td>-3.005190</td>\n",
       "    </tr>\n",
       "    <tr>\n",
       "      <th>4</th>\n",
       "      <td> 2013-01-05</td>\n",
       "      <td> 1.142213</td>\n",
       "      <td> 0.978994</td>\n",
       "      <td> 0.378093</td>\n",
       "      <td>-0.126372</td>\n",
       "    </tr>\n",
       "    <tr>\n",
       "      <th>5</th>\n",
       "      <td> 2013-01-06</td>\n",
       "      <td> 0.209459</td>\n",
       "      <td>-1.174249</td>\n",
       "      <td> 1.809799</td>\n",
       "      <td>-0.676128</td>\n",
       "    </tr>\n",
       "  </tbody>\n",
       "</table>\n",
       "</div>"
      ],
      "text/plain": [
       "   Unnamed: 0         A         B         C         D\n",
       "0  2013-01-01 -1.082598  0.083492  1.448496 -0.364855\n",
       "1  2013-01-02  0.190739  0.191510 -2.047015 -1.202241\n",
       "2  2013-01-03  0.298849 -0.220011  0.750415 -0.050645\n",
       "3  2013-01-04  0.697791 -0.204322 -0.362239 -3.005190\n",
       "4  2013-01-05  1.142213  0.978994  0.378093 -0.126372\n",
       "5  2013-01-06  0.209459 -1.174249  1.809799 -0.676128"
      ]
     },
     "execution_count": 109,
     "metadata": {},
     "output_type": "execute_result"
    }
   ],
   "source": [
    "df = makeDateRand()\n",
    "df.to_csv('foo.csv')\n",
    "pd.read_csv('foo.csv')"
   ]
  },
  {
   "cell_type": "code",
   "execution_count": 111,
   "metadata": {
    "collapsed": false
   },
   "outputs": [
    {
     "data": {
      "text/html": [
       "<div style=\"max-height:1000px;max-width:1500px;overflow:auto;\">\n",
       "<table border=\"1\" class=\"dataframe\">\n",
       "  <thead>\n",
       "    <tr style=\"text-align: right;\">\n",
       "      <th></th>\n",
       "      <th>A</th>\n",
       "      <th>B</th>\n",
       "      <th>C</th>\n",
       "      <th>D</th>\n",
       "    </tr>\n",
       "  </thead>\n",
       "  <tbody>\n",
       "    <tr>\n",
       "      <th>2013-01-01</th>\n",
       "      <td> 0.682302</td>\n",
       "      <td> 0.108385</td>\n",
       "      <td>-0.345592</td>\n",
       "      <td>-1.490998</td>\n",
       "    </tr>\n",
       "    <tr>\n",
       "      <th>2013-01-02</th>\n",
       "      <td>-1.168718</td>\n",
       "      <td> 0.585643</td>\n",
       "      <td> 0.028046</td>\n",
       "      <td>-0.678442</td>\n",
       "    </tr>\n",
       "    <tr>\n",
       "      <th>2013-01-03</th>\n",
       "      <td>-0.993225</td>\n",
       "      <td>-0.650487</td>\n",
       "      <td> 1.223515</td>\n",
       "      <td> 2.417644</td>\n",
       "    </tr>\n",
       "    <tr>\n",
       "      <th>2013-01-04</th>\n",
       "      <td>-2.702523</td>\n",
       "      <td> 0.690731</td>\n",
       "      <td> 1.196217</td>\n",
       "      <td>-0.106333</td>\n",
       "    </tr>\n",
       "    <tr>\n",
       "      <th>2013-01-05</th>\n",
       "      <td> 0.472378</td>\n",
       "      <td>-0.042910</td>\n",
       "      <td> 0.276273</td>\n",
       "      <td>-0.906321</td>\n",
       "    </tr>\n",
       "    <tr>\n",
       "      <th>2013-01-06</th>\n",
       "      <td> 0.644373</td>\n",
       "      <td> 0.885279</td>\n",
       "      <td>-0.413407</td>\n",
       "      <td>-0.620670</td>\n",
       "    </tr>\n",
       "  </tbody>\n",
       "</table>\n",
       "</div>"
      ],
      "text/plain": [
       "                   A         B         C         D\n",
       "2013-01-01  0.682302  0.108385 -0.345592 -1.490998\n",
       "2013-01-02 -1.168718  0.585643  0.028046 -0.678442\n",
       "2013-01-03 -0.993225 -0.650487  1.223515  2.417644\n",
       "2013-01-04 -2.702523  0.690731  1.196217 -0.106333\n",
       "2013-01-05  0.472378 -0.042910  0.276273 -0.906321\n",
       "2013-01-06  0.644373  0.885279 -0.413407 -0.620670"
      ]
     },
     "execution_count": 111,
     "metadata": {},
     "output_type": "execute_result"
    }
   ],
   "source": [
    "df = makeDateRand()\n",
    "df.to_excel('foo.xlsx', sheet_name='Sheet1')\n",
    "pd.read_excel('foo.xlsx', 'Sheet1', index_col=None, na_values=['NA'])"
   ]
  },
  {
   "cell_type": "markdown",
   "metadata": {},
   "source": [
    "###HDF5"
   ]
  },
  {
   "cell_type": "markdown",
   "metadata": {},
   "source": [
    "HDF5 provides the means to store hierarchical data, where some DataFrame cells can contain Numpy arrays or other structures.  The example below has a Numpy array in column 'array' and a pandas Series in column 'dframe'.  Note that the Series index must match the dataframe index, otherwise the Series elements cannot be assigned (NaN are then assigned).\n",
    "\n",
    "<http://pandas.pydata.org/pandas-docs/version/0.15.2/io.html#io-hdf5>"
   ]
  },
  {
   "cell_type": "code",
   "execution_count": 191,
   "metadata": {
    "collapsed": false
   },
   "outputs": [
    {
     "name": "stdout",
     "output_type": "stream",
     "text": [
      "2013-01-01     [[1, 0], [0, 0]]\n",
      "2013-01-02     [[1, 1], [0, 4]]\n",
      "2013-01-03     [[1, 2], [1, 8]]\n",
      "2013-01-04    [[1, 3], [1, 12]]\n",
      "2013-01-05    [[1, 4], [2, 16]]\n",
      "2013-01-06    [[1, 5], [2, 20]]\n",
      "Freq: D, dtype: object\n",
      "                   A         B         C         D             arrays             dframe\n",
      "2013-01-01  2.037155 -0.425530  0.654290 -0.739928   [[1, 0], [0, 0]]   [[1, 0], [0, 0]]\n",
      "2013-01-02 -0.195614 -0.631633 -0.288056  1.552946   [[1, 1], [0, 4]]   [[1, 1], [0, 4]]\n",
      "2013-01-03 -0.141133 -0.057797 -1.632258  0.532408   [[1, 2], [1, 8]]   [[1, 2], [1, 8]]\n",
      "2013-01-04  1.853889  1.993741 -0.594887  0.490084  [[1, 3], [1, 12]]  [[1, 3], [1, 12]]\n",
      "2013-01-05  0.802333  1.884955 -1.541194 -0.183654  [[1, 4], [2, 16]]  [[1, 4], [2, 16]]\n",
      "2013-01-06  0.329899  1.281468 -0.944485  1.747039  [[1, 5], [2, 20]]  [[1, 5], [2, 20]]\n",
      "                   A         B         C         D             arrays             dframe\n",
      "2013-01-01  2.037155 -0.425530  0.654290 -0.739928   [[1, 0], [0, 0]]   [[1, 0], [0, 0]]\n",
      "2013-01-02 -0.195614 -0.631633 -0.288056  1.552946   [[1, 1], [0, 4]]   [[1, 1], [0, 4]]\n",
      "2013-01-03 -0.141133 -0.057797 -1.632258  0.532408   [[1, 2], [1, 8]]   [[1, 2], [1, 8]]\n",
      "2013-01-04  1.853889  1.993741 -0.594887  0.490084  [[1, 3], [1, 12]]  [[1, 3], [1, 12]]\n",
      "2013-01-05  0.802333  1.884955 -1.541194 -0.183654  [[1, 4], [2, 16]]  [[1, 4], [2, 16]]\n",
      "2013-01-06  0.329899  1.281468 -0.944485  1.747039  [[1, 5], [2, 20]]  [[1, 5], [2, 20]]\n",
      "A         float64\n",
      "B         float64\n",
      "C         float64\n",
      "D         float64\n",
      "arrays     object\n",
      "dframe     object\n",
      "dtype: object\n"
     ]
    }
   ],
   "source": [
    "df = makeDateRand()\n",
    "df['arrays'] = [np.asarray([[1,x],[x/2,4*x]]) for x in range(6)]\n",
    "ser = pd.Series([np.asarray([[1,x],[x/2,4*x]]) for x in range(6)],index=pd.date_range('20130101',periods=6))\n",
    "print(ser)\n",
    "df['dframe'] = ser\n",
    "print(df)\n",
    "df.to_hdf('df.hdf5','df',mode='w',append=False)\n",
    "df = pd.read_hdf('df.hdf5', 'df')\n",
    "print(df)\n",
    "print(df.dtypes)"
   ]
  },
  {
   "cell_type": "markdown",
   "metadata": {},
   "source": [
    "##Dataframe properties"
   ]
  },
  {
   "cell_type": "markdown",
   "metadata": {},
   "source": [
    "###Get the Number of Rows in a DataFrame\n",
    "\n",
    "The `len` and `shape` methods count the number of rows.\n",
    "\n",
    "The `df.count()` function returns a pandas series containing the number of valid entries in a column - ignoring NaN. "
   ]
  },
  {
   "cell_type": "code",
   "execution_count": 124,
   "metadata": {
    "collapsed": false
   },
   "outputs": [
    {
     "name": "stdout",
     "output_type": "stream",
     "text": [
      "   A   B\n",
      "0  1 NaN\n",
      "1  3   4\n",
      "2  4   5\n",
      "\n",
      "len(df) = 3\n",
      "\n",
      "shape[0] = 3\n",
      "\n",
      "type(df.count()) = <class 'pandas.core.series.Series'>\n",
      "\n",
      "df.count() = \n",
      "A    3\n",
      "B    2\n",
      "dtype: int64\n",
      "\n",
      "df.count()['A'] = 3\n",
      "\n",
      "df.count()[1] = 2\n",
      "\n",
      "Nans = \n",
      "       A      B\n",
      "0  False   True\n",
      "1  False  False\n",
      "2  False  False\n"
     ]
    }
   ],
   "source": [
    "df = makeNaNdf()\n",
    "print(df)\n",
    "print('\\nlen(df) = {}'.format(len(df)))\n",
    "print('\\nshape[0] = {}'.format(df.shape[0]))\n",
    "print('\\ntype(df.count()) = {}'.format(type(df.count())))\n",
    "print('\\ndf.count() = \\n{}'.format(df.count()))\n",
    "print(\"\\ndf.count()['A'] = {}\".format(df.count()['A']))\n",
    "print('\\ndf.count()[1] = {}'.format(df.count()[1]))\n",
    "print('\\nNans = \\n{}'.format(df.apply(lambda col: pd.isnull(col))))"
   ]
  },
  {
   "cell_type": "markdown",
   "metadata": {},
   "source": [
    "Get a list of the columns in dataframe - there are two ways to do this:"
   ]
  },
  {
   "cell_type": "code",
   "execution_count": 64,
   "metadata": {
    "collapsed": false
   },
   "outputs": [
    {
     "name": "stdout",
     "output_type": "stream",
     "text": [
      "['Time', 'A_x', 'A_y', 'A_z', 'B_x', 'B_y', 'B_z']\n",
      "['Time', 'A_x', 'A_y', 'A_z', 'B_x', 'B_y', 'B_z']\n"
     ]
    }
   ],
   "source": [
    "print(df.columns.values.tolist())\n",
    "print(list(df))"
   ]
  },
  {
   "cell_type": "markdown",
   "metadata": {},
   "source": [
    "##NaN in Pandas / Numpy"
   ]
  },
  {
   "cell_type": "code",
   "execution_count": 90,
   "metadata": {
    "collapsed": false
   },
   "outputs": [
    {
     "name": "stdout",
     "output_type": "stream",
     "text": [
      "nan\n",
      "True\n"
     ]
    }
   ],
   "source": [
    "a = np.nan\n",
    "print(a)\n",
    "print(pd.isnull(a))"
   ]
  },
  {
   "cell_type": "code",
   "execution_count": 91,
   "metadata": {
    "collapsed": false
   },
   "outputs": [
    {
     "name": "stdout",
     "output_type": "stream",
     "text": [
      "   A   B\n",
      "0  1 NaN\n",
      "1  3   4\n",
      "True\n",
      "   A   B\n",
      "0  1  **\n",
      "1  3   4\n"
     ]
    }
   ],
   "source": [
    "df = pd.DataFrame([[1, np.nan], [3, 4]], columns=list('AB'))\n",
    "print(df)\n",
    "print(pd.isnull(a))\n",
    "#change all NaN to some other value\n",
    "df.B = df.B.fillna('**')\n",
    "print(df)"
   ]
  },
  {
   "cell_type": "markdown",
   "metadata": {},
   "source": [
    "##Manipulating DataFrames"
   ]
  },
  {
   "cell_type": "markdown",
   "metadata": {},
   "source": [
    "###Adding a row to a DataFrame"
   ]
  },
  {
   "cell_type": "markdown",
   "metadata": {},
   "source": [
    "When using drop(), note the axis direction.   \n",
    "- to drop a column axis=1  \n",
    "- to drop a row axis=0  (default)"
   ]
  },
  {
   "cell_type": "code",
   "execution_count": 14,
   "metadata": {
    "collapsed": false
   },
   "outputs": [
    {
     "name": "stdout",
     "output_type": "stream",
     "text": [
      "   B  C   D\n",
      "0  4  7  10\n",
      "1  5  8  11\n",
      "2  6  9  12\n",
      "   A  B  C   D\n",
      "1  2  5  8  11\n",
      "2  3  6  9  12\n"
     ]
    }
   ],
   "source": [
    "#drop a column\n",
    "df = makegridDF()\n",
    "print(df.drop('A',axis=1))\n",
    "print(df.drop(0))"
   ]
  },
  {
   "cell_type": "code",
   "execution_count": 130,
   "metadata": {
    "collapsed": false
   },
   "outputs": [
    {
     "name": "stdout",
     "output_type": "stream",
     "text": [
      "   A  B  C   D\n",
      "0  1  4  7  10\n",
      "1  2  5  8  11\n",
      "2  3  6  9  12\n",
      "   A  B  C   D\n",
      "1  2  5  8  11\n",
      "2  3  6  9  12\n",
      "   A  B  C   D\n",
      "1  2  5  8  11\n"
     ]
    }
   ],
   "source": [
    "#drop row based on value in a column\n",
    "df = makegridDF()\n",
    "print(df)\n",
    "print(df[df['A'] >= 2])\n",
    "print(df[(df['A'] >= 2) & (df['B']<6)])"
   ]
  },
  {
   "cell_type": "code",
   "execution_count": 127,
   "metadata": {
    "collapsed": false
   },
   "outputs": [
    {
     "name": "stdout",
     "output_type": "stream",
     "text": [
      "   A  B  C   D\n",
      "0  1  4  7  10\n",
      "2  3  6  9  12\n",
      "   A  B  C   D\n",
      "1  2  5  8  11\n",
      "2  3  6  9  12\n"
     ]
    }
   ],
   "source": [
    "#drop row using index\n",
    "df = makegridDF()\n",
    "print(df.drop(1))\n",
    "print(df.drop(0,axis=0))"
   ]
  },
  {
   "cell_type": "code",
   "execution_count": 16,
   "metadata": {
    "collapsed": false
   },
   "outputs": [
    {
     "name": "stdout",
     "output_type": "stream",
     "text": [
      "   A  B\n",
      "0  1  2\n",
      "1  3  4\n",
      "0  5  6\n",
      "1  7  8\n"
     ]
    }
   ],
   "source": [
    "df = pd.DataFrame([[1, 2], [3, 4]], columns=list('AB'))\n",
    "# print(df)\n",
    "df2 = pd.DataFrame([[5, 6], [7, 8]], columns=list('AB'))\n",
    "df = df.append(df2)\n",
    "print(df)"
   ]
  },
  {
   "cell_type": "code",
   "execution_count": 17,
   "metadata": {
    "collapsed": false
   },
   "outputs": [
    {
     "name": "stdout",
     "output_type": "stream",
     "text": [
      "Int64Index([0, 1], dtype='int64')\n",
      "   A  B\n",
      "0  1  2\n",
      "1  3  4\n",
      "2  a  b\n",
      "3  d  e\n"
     ]
    }
   ],
   "source": [
    "df = pd.DataFrame([[1, 2], [3, 4]], columns=list('AB'))\n",
    "print(df.index)\n",
    "df.loc[df.shape[0]] = ['a','b']\n",
    "df.loc[df.shape[0]] = ['d','e']\n",
    "\n",
    "print(df)\n"
   ]
  },
  {
   "cell_type": "code",
   "execution_count": 18,
   "metadata": {
    "collapsed": false
   },
   "outputs": [
    {
     "data": {
      "text/html": [
       "<div style=\"max-height:1000px;max-width:1500px;overflow:auto;\">\n",
       "<table border=\"1\" class=\"dataframe\">\n",
       "  <thead>\n",
       "    <tr style=\"text-align: right;\">\n",
       "      <th></th>\n",
       "      <th>A</th>\n",
       "      <th>B</th>\n",
       "    </tr>\n",
       "    <tr>\n",
       "      <th>DateIndex</th>\n",
       "      <th></th>\n",
       "      <th></th>\n",
       "    </tr>\n",
       "  </thead>\n",
       "  <tbody>\n",
       "    <tr>\n",
       "      <th>0</th>\n",
       "      <td> 1</td>\n",
       "      <td> 2</td>\n",
       "    </tr>\n",
       "    <tr>\n",
       "      <th>1</th>\n",
       "      <td> 3</td>\n",
       "      <td> 4</td>\n",
       "    </tr>\n",
       "    <tr>\n",
       "      <th>2</th>\n",
       "      <td> a</td>\n",
       "      <td> b</td>\n",
       "    </tr>\n",
       "    <tr>\n",
       "      <th>3</th>\n",
       "      <td> d</td>\n",
       "      <td> e</td>\n",
       "    </tr>\n",
       "  </tbody>\n",
       "</table>\n",
       "</div>"
      ],
      "text/plain": [
       "           A  B\n",
       "DateIndex      \n",
       "0          1  2\n",
       "1          3  4\n",
       "2          a  b\n",
       "3          d  e"
      ]
     },
     "execution_count": 18,
     "metadata": {},
     "output_type": "execute_result"
    }
   ],
   "source": [
    "#set / change the index name\n",
    "df.index.name = 'DateIndex'\n",
    "df"
   ]
  },
  {
   "cell_type": "code",
   "execution_count": 19,
   "metadata": {
    "collapsed": false
   },
   "outputs": [
    {
     "name": "stdout",
     "output_type": "stream",
     "text": [
      "   A  B\n",
      "A      \n",
      "1  1  2\n",
      "3  3  4\n",
      "a  a  b\n",
      "d  d  e\n"
     ]
    }
   ],
   "source": [
    "#set index to one of the columns\n",
    "df.index = df.A\n",
    "print(df)"
   ]
  },
  {
   "cell_type": "code",
   "execution_count": 20,
   "metadata": {
    "collapsed": false
   },
   "outputs": [
    {
     "data": {
      "text/html": [
       "<div style=\"max-height:1000px;max-width:1500px;overflow:auto;\">\n",
       "<table border=\"1\" class=\"dataframe\">\n",
       "  <thead>\n",
       "    <tr style=\"text-align: right;\">\n",
       "      <th></th>\n",
       "      <th>A</th>\n",
       "      <th>B</th>\n",
       "    </tr>\n",
       "    <tr>\n",
       "      <th>A</th>\n",
       "      <th></th>\n",
       "      <th></th>\n",
       "    </tr>\n",
       "  </thead>\n",
       "  <tbody>\n",
       "    <tr>\n",
       "      <th>1</th>\n",
       "      <td> 1</td>\n",
       "      <td> 2</td>\n",
       "    </tr>\n",
       "    <tr>\n",
       "      <th>3</th>\n",
       "      <td> 3</td>\n",
       "      <td> 4</td>\n",
       "    </tr>\n",
       "    <tr>\n",
       "      <th>a</th>\n",
       "      <td> a</td>\n",
       "      <td> b</td>\n",
       "    </tr>\n",
       "    <tr>\n",
       "      <th>d</th>\n",
       "      <td> d</td>\n",
       "      <td> e</td>\n",
       "    </tr>\n",
       "    <tr>\n",
       "      <th>a</th>\n",
       "      <td> a</td>\n",
       "      <td> b</td>\n",
       "    </tr>\n",
       "    <tr>\n",
       "      <th>d</th>\n",
       "      <td> d</td>\n",
       "      <td> e</td>\n",
       "    </tr>\n",
       "  </tbody>\n",
       "</table>\n",
       "</div>"
      ],
      "text/plain": [
       "   A  B\n",
       "A      \n",
       "1  1  2\n",
       "3  3  4\n",
       "a  a  b\n",
       "d  d  e\n",
       "a  a  b\n",
       "d  d  e"
      ]
     },
     "execution_count": 20,
     "metadata": {},
     "output_type": "execute_result"
    }
   ],
   "source": [
    "df2 = pd.concat([df,df[2:4]])\n",
    "df2"
   ]
  },
  {
   "cell_type": "code",
   "execution_count": 21,
   "metadata": {
    "collapsed": false
   },
   "outputs": [
    {
     "name": "stdout",
     "output_type": "stream",
     "text": [
      "   A  B  isdup\n",
      "A             \n",
      "1  1  2  False\n",
      "3  3  4  False\n",
      "a  a  b  False\n",
      "d  d  e  False\n",
      "a  a  b   True\n",
      "d  d  e   True\n"
     ]
    }
   ],
   "source": [
    "#Find duplicate rows\n",
    "df2['isdup'] = df2.duplicated(subset=['A','B'])\n",
    "print(df2)\n",
    "# df = df2[df.duplicated(subset=1)] # creates a new dataframe with the repeated rows\n",
    "# len(df) # number of duplicates"
   ]
  },
  {
   "cell_type": "code",
   "execution_count": 22,
   "metadata": {
    "collapsed": false
   },
   "outputs": [
    {
     "data": {
      "text/html": [
       "<div style=\"max-height:1000px;max-width:1500px;overflow:auto;\">\n",
       "<table border=\"1\" class=\"dataframe\">\n",
       "  <thead>\n",
       "    <tr style=\"text-align: right;\">\n",
       "      <th></th>\n",
       "      <th>A</th>\n",
       "      <th>B</th>\n",
       "      <th>isdup</th>\n",
       "    </tr>\n",
       "    <tr>\n",
       "      <th>A</th>\n",
       "      <th></th>\n",
       "      <th></th>\n",
       "      <th></th>\n",
       "    </tr>\n",
       "  </thead>\n",
       "  <tbody>\n",
       "    <tr>\n",
       "      <th>a</th>\n",
       "      <td> a</td>\n",
       "      <td> b</td>\n",
       "      <td> True</td>\n",
       "    </tr>\n",
       "    <tr>\n",
       "      <th>d</th>\n",
       "      <td> d</td>\n",
       "      <td> e</td>\n",
       "      <td> True</td>\n",
       "    </tr>\n",
       "  </tbody>\n",
       "</table>\n",
       "</div>"
      ],
      "text/plain": [
       "   A  B isdup\n",
       "A            \n",
       "a  a  b  True\n",
       "d  d  e  True"
      ]
     },
     "execution_count": 22,
     "metadata": {},
     "output_type": "execute_result"
    }
   ],
   "source": [
    "# creates a new dataframe with the repeated rows\n",
    "dx = df2[df2.duplicated(subset=['A'])] \n",
    "dx"
   ]
  },
  {
   "cell_type": "code",
   "execution_count": 23,
   "metadata": {
    "collapsed": false
   },
   "outputs": [
    {
     "data": {
      "text/html": [
       "<div style=\"max-height:1000px;max-width:1500px;overflow:auto;\">\n",
       "<table border=\"1\" class=\"dataframe\">\n",
       "  <thead>\n",
       "    <tr style=\"text-align: right;\">\n",
       "      <th></th>\n",
       "      <th>A</th>\n",
       "      <th>B</th>\n",
       "      <th>isdup</th>\n",
       "    </tr>\n",
       "    <tr>\n",
       "      <th>A</th>\n",
       "      <th></th>\n",
       "      <th></th>\n",
       "      <th></th>\n",
       "    </tr>\n",
       "  </thead>\n",
       "  <tbody>\n",
       "    <tr>\n",
       "      <th>1</th>\n",
       "      <td> 1</td>\n",
       "      <td> 2</td>\n",
       "      <td> False</td>\n",
       "    </tr>\n",
       "    <tr>\n",
       "      <th>3</th>\n",
       "      <td> 3</td>\n",
       "      <td> 4</td>\n",
       "      <td> False</td>\n",
       "    </tr>\n",
       "    <tr>\n",
       "      <th>a</th>\n",
       "      <td> a</td>\n",
       "      <td> b</td>\n",
       "      <td>  True</td>\n",
       "    </tr>\n",
       "    <tr>\n",
       "      <th>d</th>\n",
       "      <td> d</td>\n",
       "      <td> e</td>\n",
       "      <td>  True</td>\n",
       "    </tr>\n",
       "  </tbody>\n",
       "</table>\n",
       "</div>"
      ],
      "text/plain": [
       "   A  B  isdup\n",
       "A             \n",
       "1  1  2  False\n",
       "3  3  4  False\n",
       "a  a  b   True\n",
       "d  d  e   True"
      ]
     },
     "execution_count": 23,
     "metadata": {},
     "output_type": "execute_result"
    }
   ],
   "source": [
    "# Drop rows based on duplicate values on column with label 2\n",
    "df2.drop_duplicates(subset=['A'], take_last=True, inplace=True)\n",
    "df2"
   ]
  },
  {
   "cell_type": "code",
   "execution_count": 24,
   "metadata": {
    "collapsed": false
   },
   "outputs": [
    {
     "data": {
      "text/html": [
       "<div style=\"max-height:1000px;max-width:1500px;overflow:auto;\">\n",
       "<table border=\"1\" class=\"dataframe\">\n",
       "  <thead>\n",
       "    <tr style=\"text-align: right;\">\n",
       "      <th></th>\n",
       "      <th>A</th>\n",
       "      <th>B</th>\n",
       "    </tr>\n",
       "    <tr>\n",
       "      <th>A</th>\n",
       "      <th></th>\n",
       "      <th></th>\n",
       "    </tr>\n",
       "  </thead>\n",
       "  <tbody>\n",
       "    <tr>\n",
       "      <th>1</th>\n",
       "      <td> 1</td>\n",
       "      <td> 2</td>\n",
       "    </tr>\n",
       "    <tr>\n",
       "      <th>3</th>\n",
       "      <td> 3</td>\n",
       "      <td> 4</td>\n",
       "    </tr>\n",
       "  </tbody>\n",
       "</table>\n",
       "</div>"
      ],
      "text/plain": [
       "   A  B\n",
       "A      \n",
       "1  1  2\n",
       "3  3  4"
      ]
     },
     "execution_count": 24,
     "metadata": {},
     "output_type": "execute_result"
    }
   ],
   "source": [
    "df.head(2)"
   ]
  },
  {
   "cell_type": "code",
   "execution_count": 25,
   "metadata": {
    "collapsed": false
   },
   "outputs": [
    {
     "data": {
      "text/html": [
       "<div style=\"max-height:1000px;max-width:1500px;overflow:auto;\">\n",
       "<table border=\"1\" class=\"dataframe\">\n",
       "  <thead>\n",
       "    <tr style=\"text-align: right;\">\n",
       "      <th></th>\n",
       "      <th>A</th>\n",
       "      <th>B</th>\n",
       "    </tr>\n",
       "    <tr>\n",
       "      <th>A</th>\n",
       "      <th></th>\n",
       "      <th></th>\n",
       "    </tr>\n",
       "  </thead>\n",
       "  <tbody>\n",
       "    <tr>\n",
       "      <th>a</th>\n",
       "      <td> a</td>\n",
       "      <td> b</td>\n",
       "    </tr>\n",
       "    <tr>\n",
       "      <th>d</th>\n",
       "      <td> d</td>\n",
       "      <td> e</td>\n",
       "    </tr>\n",
       "  </tbody>\n",
       "</table>\n",
       "</div>"
      ],
      "text/plain": [
       "   A  B\n",
       "A      \n",
       "a  a  b\n",
       "d  d  e"
      ]
     },
     "execution_count": 25,
     "metadata": {},
     "output_type": "execute_result"
    }
   ],
   "source": [
    "df.tail(2)"
   ]
  },
  {
   "cell_type": "code",
   "execution_count": 26,
   "metadata": {
    "collapsed": false
   },
   "outputs": [
    {
     "data": {
      "text/plain": [
       "Index([1, 3, u'a', u'd'], dtype='object')"
      ]
     },
     "execution_count": 26,
     "metadata": {},
     "output_type": "execute_result"
    }
   ],
   "source": [
    "df.index"
   ]
  },
  {
   "cell_type": "code",
   "execution_count": 27,
   "metadata": {
    "collapsed": false
   },
   "outputs": [
    {
     "data": {
      "text/plain": [
       "Index([u'A', u'B'], dtype='object')"
      ]
     },
     "execution_count": 27,
     "metadata": {},
     "output_type": "execute_result"
    }
   ],
   "source": [
    "df.columns"
   ]
  },
  {
   "cell_type": "code",
   "execution_count": 28,
   "metadata": {
    "collapsed": false
   },
   "outputs": [
    {
     "data": {
      "text/plain": [
       "array([[1L, 2L],\n",
       "       [3L, 4L],\n",
       "       ['a', 'b'],\n",
       "       ['d', 'e']], dtype=object)"
      ]
     },
     "execution_count": 28,
     "metadata": {},
     "output_type": "execute_result"
    }
   ],
   "source": [
    "df.values"
   ]
  },
  {
   "cell_type": "code",
   "execution_count": 29,
   "metadata": {
    "collapsed": false
   },
   "outputs": [
    {
     "data": {
      "text/html": [
       "<div style=\"max-height:1000px;max-width:1500px;overflow:auto;\">\n",
       "<table border=\"1\" class=\"dataframe\">\n",
       "  <thead>\n",
       "    <tr style=\"text-align: right;\">\n",
       "      <th>A</th>\n",
       "      <th>1</th>\n",
       "      <th>3</th>\n",
       "      <th>a</th>\n",
       "      <th>d</th>\n",
       "    </tr>\n",
       "  </thead>\n",
       "  <tbody>\n",
       "    <tr>\n",
       "      <th>A</th>\n",
       "      <td> 1</td>\n",
       "      <td> 3</td>\n",
       "      <td> a</td>\n",
       "      <td> d</td>\n",
       "    </tr>\n",
       "    <tr>\n",
       "      <th>B</th>\n",
       "      <td> 2</td>\n",
       "      <td> 4</td>\n",
       "      <td> b</td>\n",
       "      <td> e</td>\n",
       "    </tr>\n",
       "  </tbody>\n",
       "</table>\n",
       "</div>"
      ],
      "text/plain": [
       "A  1  3  a  d\n",
       "A  1  3  a  d\n",
       "B  2  4  b  e"
      ]
     },
     "execution_count": 29,
     "metadata": {},
     "output_type": "execute_result"
    }
   ],
   "source": [
    "df.T"
   ]
  },
  {
   "cell_type": "markdown",
   "metadata": {},
   "source": [
    "###Adding a column to a dataframe"
   ]
  },
  {
   "cell_type": "code",
   "execution_count": 30,
   "metadata": {
    "collapsed": false
   },
   "outputs": [
    {
     "name": "stdout",
     "output_type": "stream",
     "text": [
      "   A  B\n",
      "A      \n",
      "1  1  2\n",
      "3  3  4\n",
      "a  a  b\n",
      "d  d  e\n",
      "A\n",
      "1    1\n",
      "3    3\n",
      "a    a\n",
      "d    d\n",
      "Name: A, dtype: object\n",
      "A\n",
      "1    1\n",
      "3    3\n",
      "a    a\n",
      "d    d\n",
      "Name: A, dtype: object\n",
      "   A  B\n",
      "A      \n",
      "1  1  2\n",
      "3  3  4\n",
      "a  a  b\n",
      "d  d  e\n"
     ]
    }
   ],
   "source": [
    "print(df)\n",
    "print(df.A)\n",
    "print(df['A'])\n",
    "print(df[['A','B']])"
   ]
  },
  {
   "cell_type": "code",
   "execution_count": 31,
   "metadata": {
    "collapsed": false
   },
   "outputs": [
    {
     "name": "stdout",
     "output_type": "stream",
     "text": [
      "                   A         B         C         D     Total\n",
      "2013-01-01 -0.489807  0.768997 -0.699720 -0.797284 -0.420530\n",
      "2013-01-02  0.059630 -0.114024 -0.595211  1.214019 -0.649605\n",
      "2013-01-03 -1.117472  0.453205  0.613234  0.900757 -0.051033\n",
      "2013-01-04  0.664798  0.783614  1.210832 -0.484715  2.659244\n",
      "2013-01-05 -0.306571  1.061228 -0.315246  1.483469  0.439411\n",
      "2013-01-06 -0.508798  0.009179  1.041080  0.889748  0.541461\n"
     ]
    }
   ],
   "source": [
    "df = makeDateRand()\n",
    "df['Total'] = df['A'] + df['B'] + df['C']\n",
    "print(df)"
   ]
  },
  {
   "cell_type": "code",
   "execution_count": 32,
   "metadata": {
    "collapsed": false
   },
   "outputs": [
    {
     "data": {
      "text/plain": [
       "(-1.6982201962042871, 2.9621983787053594, 1.2549694191645733)"
      ]
     },
     "execution_count": 32,
     "metadata": {},
     "output_type": "execute_result"
    }
   ],
   "source": [
    "#Adding the sum along a column\n",
    "df['A'].sum(), df['B'].sum(), df['C'].sum(), "
   ]
  },
  {
   "cell_type": "code",
   "execution_count": 33,
   "metadata": {
    "collapsed": false
   },
   "outputs": [
    {
     "data": {
      "text/plain": [
       "A       -1.698220\n",
       "B        2.962198\n",
       "Total    2.518948\n",
       "dtype: float64"
      ]
     },
     "execution_count": 33,
     "metadata": {},
     "output_type": "execute_result"
    }
   ],
   "source": [
    "sum_row=df[[\"A\",\"B\",'Total']].sum()\n",
    "sum_row"
   ]
  },
  {
   "cell_type": "markdown",
   "metadata": {},
   "source": [
    "We need to transpose the data and convert the Series to a DataFrame so that it is easier to concat onto our existing data. The T function allows us to switch the data from being row-based to column-based."
   ]
  },
  {
   "cell_type": "code",
   "execution_count": 34,
   "metadata": {
    "collapsed": false
   },
   "outputs": [
    {
     "data": {
      "text/html": [
       "<div style=\"max-height:1000px;max-width:1500px;overflow:auto;\">\n",
       "<table border=\"1\" class=\"dataframe\">\n",
       "  <thead>\n",
       "    <tr style=\"text-align: right;\">\n",
       "      <th></th>\n",
       "      <th>A</th>\n",
       "      <th>B</th>\n",
       "      <th>Total</th>\n",
       "    </tr>\n",
       "  </thead>\n",
       "  <tbody>\n",
       "    <tr>\n",
       "      <th>0</th>\n",
       "      <td>-1.69822</td>\n",
       "      <td> 2.962198</td>\n",
       "      <td> 2.518948</td>\n",
       "    </tr>\n",
       "  </tbody>\n",
       "</table>\n",
       "</div>"
      ],
      "text/plain": [
       "         A         B     Total\n",
       "0 -1.69822  2.962198  2.518948"
      ]
     },
     "execution_count": 34,
     "metadata": {},
     "output_type": "execute_result"
    }
   ],
   "source": [
    "df_sum=pd.DataFrame(data=sum_row).T\n",
    "df_sum"
   ]
  },
  {
   "cell_type": "markdown",
   "metadata": {},
   "source": [
    "The final thing we need to do before adding the totals back is to add the missing columns. We use reindex to do this for us. The trick is to add all of our columns and then allow pandas to fill in the values that are missing."
   ]
  },
  {
   "cell_type": "code",
   "execution_count": 35,
   "metadata": {
    "collapsed": false
   },
   "outputs": [
    {
     "data": {
      "text/html": [
       "<div style=\"max-height:1000px;max-width:1500px;overflow:auto;\">\n",
       "<table border=\"1\" class=\"dataframe\">\n",
       "  <thead>\n",
       "    <tr style=\"text-align: right;\">\n",
       "      <th></th>\n",
       "      <th>A</th>\n",
       "      <th>B</th>\n",
       "      <th>C</th>\n",
       "      <th>D</th>\n",
       "      <th>Total</th>\n",
       "    </tr>\n",
       "  </thead>\n",
       "  <tbody>\n",
       "    <tr>\n",
       "      <th>0</th>\n",
       "      <td>-1.69822</td>\n",
       "      <td> 2.962198</td>\n",
       "      <td>NaN</td>\n",
       "      <td>NaN</td>\n",
       "      <td> 2.518948</td>\n",
       "    </tr>\n",
       "  </tbody>\n",
       "</table>\n",
       "</div>"
      ],
      "text/plain": [
       "         A         B   C   D     Total\n",
       "0 -1.69822  2.962198 NaN NaN  2.518948"
      ]
     },
     "execution_count": 35,
     "metadata": {},
     "output_type": "execute_result"
    }
   ],
   "source": [
    "df_sum=df_sum.reindex(columns=df.columns)\n",
    "df_sum"
   ]
  },
  {
   "cell_type": "markdown",
   "metadata": {},
   "source": [
    "Now append the totals to the end of the dataframe"
   ]
  },
  {
   "cell_type": "code",
   "execution_count": 36,
   "metadata": {
    "collapsed": false
   },
   "outputs": [
    {
     "data": {
      "text/html": [
       "<div style=\"max-height:1000px;max-width:1500px;overflow:auto;\">\n",
       "<table border=\"1\" class=\"dataframe\">\n",
       "  <thead>\n",
       "    <tr style=\"text-align: right;\">\n",
       "      <th></th>\n",
       "      <th>A</th>\n",
       "      <th>B</th>\n",
       "      <th>C</th>\n",
       "      <th>D</th>\n",
       "      <th>Total</th>\n",
       "    </tr>\n",
       "  </thead>\n",
       "  <tbody>\n",
       "    <tr>\n",
       "      <th>2</th>\n",
       "      <td>-1.117472</td>\n",
       "      <td> 0.453205</td>\n",
       "      <td> 0.613234</td>\n",
       "      <td> 0.900757</td>\n",
       "      <td>-0.051033</td>\n",
       "    </tr>\n",
       "    <tr>\n",
       "      <th>3</th>\n",
       "      <td> 0.664798</td>\n",
       "      <td> 0.783614</td>\n",
       "      <td> 1.210832</td>\n",
       "      <td>-0.484715</td>\n",
       "      <td> 2.659244</td>\n",
       "    </tr>\n",
       "    <tr>\n",
       "      <th>4</th>\n",
       "      <td>-0.306571</td>\n",
       "      <td> 1.061228</td>\n",
       "      <td>-0.315246</td>\n",
       "      <td> 1.483469</td>\n",
       "      <td> 0.439411</td>\n",
       "    </tr>\n",
       "    <tr>\n",
       "      <th>5</th>\n",
       "      <td>-0.508798</td>\n",
       "      <td> 0.009179</td>\n",
       "      <td> 1.041080</td>\n",
       "      <td> 0.889748</td>\n",
       "      <td> 0.541461</td>\n",
       "    </tr>\n",
       "    <tr>\n",
       "      <th>6</th>\n",
       "      <td>-1.698220</td>\n",
       "      <td> 2.962198</td>\n",
       "      <td>      NaN</td>\n",
       "      <td>      NaN</td>\n",
       "      <td> 2.518948</td>\n",
       "    </tr>\n",
       "  </tbody>\n",
       "</table>\n",
       "</div>"
      ],
      "text/plain": [
       "          A         B         C         D     Total\n",
       "2 -1.117472  0.453205  0.613234  0.900757 -0.051033\n",
       "3  0.664798  0.783614  1.210832 -0.484715  2.659244\n",
       "4 -0.306571  1.061228 -0.315246  1.483469  0.439411\n",
       "5 -0.508798  0.009179  1.041080  0.889748  0.541461\n",
       "6 -1.698220  2.962198       NaN       NaN  2.518948"
      ]
     },
     "execution_count": 36,
     "metadata": {},
     "output_type": "execute_result"
    }
   ],
   "source": [
    "df=df.append(df_sum,ignore_index=True)\n",
    "df.tail()"
   ]
  },
  {
   "cell_type": "code",
   "execution_count": null,
   "metadata": {
    "collapsed": true
   },
   "outputs": [],
   "source": []
  },
  {
   "cell_type": "markdown",
   "metadata": {},
   "source": [
    "###Sorting"
   ]
  },
  {
   "cell_type": "code",
   "execution_count": 66,
   "metadata": {
    "collapsed": false
   },
   "outputs": [
    {
     "data": {
      "text/html": [
       "<div style=\"max-height:1000px;max-width:1500px;overflow:auto;\">\n",
       "<table border=\"1\" class=\"dataframe\">\n",
       "  <thead>\n",
       "    <tr style=\"text-align: right;\">\n",
       "      <th></th>\n",
       "      <th>A</th>\n",
       "      <th>B</th>\n",
       "      <th>C</th>\n",
       "      <th>D</th>\n",
       "    </tr>\n",
       "  </thead>\n",
       "  <tbody>\n",
       "    <tr>\n",
       "      <th>2013-01-01</th>\n",
       "      <td> 1.797255</td>\n",
       "      <td> 0.387733</td>\n",
       "      <td>-0.705633</td>\n",
       "      <td>-0.572162</td>\n",
       "    </tr>\n",
       "    <tr>\n",
       "      <th>2013-01-02</th>\n",
       "      <td> 0.126796</td>\n",
       "      <td> 0.918574</td>\n",
       "      <td> 1.019860</td>\n",
       "      <td> 0.643597</td>\n",
       "    </tr>\n",
       "    <tr>\n",
       "      <th>2013-01-03</th>\n",
       "      <td> 1.254511</td>\n",
       "      <td> 0.942596</td>\n",
       "      <td> 0.964780</td>\n",
       "      <td>-0.090894</td>\n",
       "    </tr>\n",
       "    <tr>\n",
       "      <th>2013-01-04</th>\n",
       "      <td>-0.936899</td>\n",
       "      <td> 1.312802</td>\n",
       "      <td> 0.206086</td>\n",
       "      <td>-0.431114</td>\n",
       "    </tr>\n",
       "    <tr>\n",
       "      <th>2013-01-05</th>\n",
       "      <td>-0.910622</td>\n",
       "      <td> 1.914188</td>\n",
       "      <td>-0.086275</td>\n",
       "      <td>-1.515361</td>\n",
       "    </tr>\n",
       "    <tr>\n",
       "      <th>2013-01-06</th>\n",
       "      <td>-1.262988</td>\n",
       "      <td>-0.093194</td>\n",
       "      <td> 0.633034</td>\n",
       "      <td>-0.961733</td>\n",
       "    </tr>\n",
       "  </tbody>\n",
       "</table>\n",
       "</div>"
      ],
      "text/plain": [
       "                   A         B         C         D\n",
       "2013-01-01  1.797255  0.387733 -0.705633 -0.572162\n",
       "2013-01-02  0.126796  0.918574  1.019860  0.643597\n",
       "2013-01-03  1.254511  0.942596  0.964780 -0.090894\n",
       "2013-01-04 -0.936899  1.312802  0.206086 -0.431114\n",
       "2013-01-05 -0.910622  1.914188 -0.086275 -1.515361\n",
       "2013-01-06 -1.262988 -0.093194  0.633034 -0.961733"
      ]
     },
     "execution_count": 66,
     "metadata": {},
     "output_type": "execute_result"
    }
   ],
   "source": [
    "dates = pd.date_range('20130101',periods=6)\n",
    "df = pd.DataFrame(np.random.randn(6,4),index=dates,columns=list('ABCD'))\n",
    "df"
   ]
  },
  {
   "cell_type": "markdown",
   "metadata": {},
   "source": [
    "Sort by column index (axis=1)"
   ]
  },
  {
   "cell_type": "code",
   "execution_count": 67,
   "metadata": {
    "collapsed": false
   },
   "outputs": [
    {
     "data": {
      "text/html": [
       "<div style=\"max-height:1000px;max-width:1500px;overflow:auto;\">\n",
       "<table border=\"1\" class=\"dataframe\">\n",
       "  <thead>\n",
       "    <tr style=\"text-align: right;\">\n",
       "      <th></th>\n",
       "      <th>D</th>\n",
       "      <th>C</th>\n",
       "      <th>B</th>\n",
       "      <th>A</th>\n",
       "    </tr>\n",
       "  </thead>\n",
       "  <tbody>\n",
       "    <tr>\n",
       "      <th>2013-01-01</th>\n",
       "      <td>-0.572162</td>\n",
       "      <td>-0.705633</td>\n",
       "      <td> 0.387733</td>\n",
       "      <td> 1.797255</td>\n",
       "    </tr>\n",
       "    <tr>\n",
       "      <th>2013-01-02</th>\n",
       "      <td> 0.643597</td>\n",
       "      <td> 1.019860</td>\n",
       "      <td> 0.918574</td>\n",
       "      <td> 0.126796</td>\n",
       "    </tr>\n",
       "    <tr>\n",
       "      <th>2013-01-03</th>\n",
       "      <td>-0.090894</td>\n",
       "      <td> 0.964780</td>\n",
       "      <td> 0.942596</td>\n",
       "      <td> 1.254511</td>\n",
       "    </tr>\n",
       "    <tr>\n",
       "      <th>2013-01-04</th>\n",
       "      <td>-0.431114</td>\n",
       "      <td> 0.206086</td>\n",
       "      <td> 1.312802</td>\n",
       "      <td>-0.936899</td>\n",
       "    </tr>\n",
       "    <tr>\n",
       "      <th>2013-01-05</th>\n",
       "      <td>-1.515361</td>\n",
       "      <td>-0.086275</td>\n",
       "      <td> 1.914188</td>\n",
       "      <td>-0.910622</td>\n",
       "    </tr>\n",
       "    <tr>\n",
       "      <th>2013-01-06</th>\n",
       "      <td>-0.961733</td>\n",
       "      <td> 0.633034</td>\n",
       "      <td>-0.093194</td>\n",
       "      <td>-1.262988</td>\n",
       "    </tr>\n",
       "  </tbody>\n",
       "</table>\n",
       "</div>"
      ],
      "text/plain": [
       "                   D         C         B         A\n",
       "2013-01-01 -0.572162 -0.705633  0.387733  1.797255\n",
       "2013-01-02  0.643597  1.019860  0.918574  0.126796\n",
       "2013-01-03 -0.090894  0.964780  0.942596  1.254511\n",
       "2013-01-04 -0.431114  0.206086  1.312802 -0.936899\n",
       "2013-01-05 -1.515361 -0.086275  1.914188 -0.910622\n",
       "2013-01-06 -0.961733  0.633034 -0.093194 -1.262988"
      ]
     },
     "execution_count": 67,
     "metadata": {},
     "output_type": "execute_result"
    }
   ],
   "source": [
    "df.sort_index(axis=1, ascending=False)"
   ]
  },
  {
   "cell_type": "markdown",
   "metadata": {},
   "source": [
    "Sort all rows by value in column B"
   ]
  },
  {
   "cell_type": "code",
   "execution_count": 68,
   "metadata": {
    "collapsed": false
   },
   "outputs": [
    {
     "data": {
      "text/html": [
       "<div style=\"max-height:1000px;max-width:1500px;overflow:auto;\">\n",
       "<table border=\"1\" class=\"dataframe\">\n",
       "  <thead>\n",
       "    <tr style=\"text-align: right;\">\n",
       "      <th></th>\n",
       "      <th>A</th>\n",
       "      <th>B</th>\n",
       "      <th>C</th>\n",
       "      <th>D</th>\n",
       "    </tr>\n",
       "  </thead>\n",
       "  <tbody>\n",
       "    <tr>\n",
       "      <th>2013-01-06</th>\n",
       "      <td>-1.262988</td>\n",
       "      <td>-0.093194</td>\n",
       "      <td> 0.633034</td>\n",
       "      <td>-0.961733</td>\n",
       "    </tr>\n",
       "    <tr>\n",
       "      <th>2013-01-01</th>\n",
       "      <td> 1.797255</td>\n",
       "      <td> 0.387733</td>\n",
       "      <td>-0.705633</td>\n",
       "      <td>-0.572162</td>\n",
       "    </tr>\n",
       "    <tr>\n",
       "      <th>2013-01-02</th>\n",
       "      <td> 0.126796</td>\n",
       "      <td> 0.918574</td>\n",
       "      <td> 1.019860</td>\n",
       "      <td> 0.643597</td>\n",
       "    </tr>\n",
       "    <tr>\n",
       "      <th>2013-01-03</th>\n",
       "      <td> 1.254511</td>\n",
       "      <td> 0.942596</td>\n",
       "      <td> 0.964780</td>\n",
       "      <td>-0.090894</td>\n",
       "    </tr>\n",
       "    <tr>\n",
       "      <th>2013-01-04</th>\n",
       "      <td>-0.936899</td>\n",
       "      <td> 1.312802</td>\n",
       "      <td> 0.206086</td>\n",
       "      <td>-0.431114</td>\n",
       "    </tr>\n",
       "    <tr>\n",
       "      <th>2013-01-05</th>\n",
       "      <td>-0.910622</td>\n",
       "      <td> 1.914188</td>\n",
       "      <td>-0.086275</td>\n",
       "      <td>-1.515361</td>\n",
       "    </tr>\n",
       "  </tbody>\n",
       "</table>\n",
       "</div>"
      ],
      "text/plain": [
       "                   A         B         C         D\n",
       "2013-01-06 -1.262988 -0.093194  0.633034 -0.961733\n",
       "2013-01-01  1.797255  0.387733 -0.705633 -0.572162\n",
       "2013-01-02  0.126796  0.918574  1.019860  0.643597\n",
       "2013-01-03  1.254511  0.942596  0.964780 -0.090894\n",
       "2013-01-04 -0.936899  1.312802  0.206086 -0.431114\n",
       "2013-01-05 -0.910622  1.914188 -0.086275 -1.515361"
      ]
     },
     "execution_count": 68,
     "metadata": {},
     "output_type": "execute_result"
    }
   ],
   "source": [
    "df.sort(columns='B')"
   ]
  },
  {
   "cell_type": "code",
   "execution_count": 70,
   "metadata": {
    "collapsed": false
   },
   "outputs": [
    {
     "data": {
      "text/html": [
       "<div style=\"max-height:1000px;max-width:1500px;overflow:auto;\">\n",
       "<table border=\"1\" class=\"dataframe\">\n",
       "  <thead>\n",
       "    <tr style=\"text-align: right;\">\n",
       "      <th></th>\n",
       "      <th>A</th>\n",
       "      <th>B</th>\n",
       "      <th>C</th>\n",
       "      <th>D</th>\n",
       "    </tr>\n",
       "  </thead>\n",
       "  <tbody>\n",
       "    <tr>\n",
       "      <th>2013-01-06</th>\n",
       "      <td>-1.262988</td>\n",
       "      <td>-0.093194</td>\n",
       "      <td> 0.633034</td>\n",
       "      <td>-0.961733</td>\n",
       "    </tr>\n",
       "    <tr>\n",
       "      <th>2013-01-01</th>\n",
       "      <td> 1.797255</td>\n",
       "      <td> 0.387733</td>\n",
       "      <td>-0.705633</td>\n",
       "      <td>-0.572162</td>\n",
       "    </tr>\n",
       "    <tr>\n",
       "      <th>2013-01-02</th>\n",
       "      <td> 0.126796</td>\n",
       "      <td> 0.918574</td>\n",
       "      <td> 1.019860</td>\n",
       "      <td> 0.643597</td>\n",
       "    </tr>\n",
       "    <tr>\n",
       "      <th>2013-01-03</th>\n",
       "      <td> 1.254511</td>\n",
       "      <td> 0.942596</td>\n",
       "      <td> 0.964780</td>\n",
       "      <td>-0.090894</td>\n",
       "    </tr>\n",
       "    <tr>\n",
       "      <th>2013-01-04</th>\n",
       "      <td>-0.936899</td>\n",
       "      <td> 1.312802</td>\n",
       "      <td> 0.206086</td>\n",
       "      <td>-0.431114</td>\n",
       "    </tr>\n",
       "    <tr>\n",
       "      <th>2013-01-05</th>\n",
       "      <td>-0.910622</td>\n",
       "      <td> 1.914188</td>\n",
       "      <td>-0.086275</td>\n",
       "      <td>-1.515361</td>\n",
       "    </tr>\n",
       "  </tbody>\n",
       "</table>\n",
       "</div>"
      ],
      "text/plain": [
       "                   A         B         C         D\n",
       "2013-01-06 -1.262988 -0.093194  0.633034 -0.961733\n",
       "2013-01-01  1.797255  0.387733 -0.705633 -0.572162\n",
       "2013-01-02  0.126796  0.918574  1.019860  0.643597\n",
       "2013-01-03  1.254511  0.942596  0.964780 -0.090894\n",
       "2013-01-04 -0.936899  1.312802  0.206086 -0.431114\n",
       "2013-01-05 -0.910622  1.914188 -0.086275 -1.515361"
      ]
     },
     "execution_count": 70,
     "metadata": {},
     "output_type": "execute_result"
    }
   ],
   "source": [
    "df.sort(columns=['B', 'C'])"
   ]
  },
  {
   "cell_type": "markdown",
   "metadata": {},
   "source": [
    "You can introduce custom sorting by using categoricals."
   ]
  },
  {
   "cell_type": "code",
   "execution_count": 87,
   "metadata": {
    "collapsed": false
   },
   "outputs": [
    {
     "name": "stdout",
     "output_type": "stream",
     "text": [
      "   A          B  C  D      E    F     G\n",
      "0  1 2013-01-02  1  3   test  foo  foox\n",
      "1  1 2013-01-02  1  3  train  foo  fooa\n",
      "2  1 2013-01-02  1  3   test  foo  foon\n",
      "3  1 2013-01-02  1  3  train  foo  fooz\n",
      "   A          B  C  D      E    F     G\n",
      "1  1 2013-01-02  1  3  train  foo  fooa\n",
      "2  1 2013-01-02  1  3   test  foo  foon\n",
      "0  1 2013-01-02  1  3   test  foo  foox\n",
      "3  1 2013-01-02  1  3  train  foo  fooz\n",
      "   A          B  C  D      E    F     G\n",
      "3  1 2013-01-02  1  3  train  foo  fooz\n",
      "1  1 2013-01-02  1  3  train  foo  fooa\n",
      "0  1 2013-01-02  1  3   test  foo  foox\n",
      "2  1 2013-01-02  1  3   test  foo  foon\n"
     ]
    }
   ],
   "source": [
    "df = makecatedf()\n",
    "print(df)\n",
    "\n",
    "print(df.sort(columns='G'))\n",
    "      \n",
    "gsorter = ['fooz','fooa','foox','foon']\n",
    "df.G = df.G.astype(\"category\")\n",
    "df.G.cat.set_categories(gsorter, inplace=True) \n",
    "print(df.sort(columns='G'))\n"
   ]
  },
  {
   "cell_type": "markdown",
   "metadata": {},
   "source": [
    "###Selecting portions"
   ]
  },
  {
   "cell_type": "markdown",
   "metadata": {},
   "source": [
    "While standard Python / Numpy expressions for selecting and setting are intuitive and come in handy for interactive work, for production code, we recommend the optimized pandas data access methods, .at, .iat, .loc, .iloc and .ix. \n",
    "\n",
    "[Indexing and Selecting Data](http://pandas.pydata.org/pandas-docs/version/0.15.2/indexing.html#indexing)  \n",
    "[MultiIndex / Advanced Indexing](http://pandas.pydata.org/pandas-docs/version/0.15.2/advanced.html#advanced)"
   ]
  },
  {
   "cell_type": "markdown",
   "metadata": {},
   "source": [
    "Selecting a single column, which yields a Series, equivalent to df.A"
   ]
  },
  {
   "cell_type": "code",
   "execution_count": 40,
   "metadata": {
    "collapsed": false
   },
   "outputs": [
    {
     "data": {
      "text/plain": [
       "2013-01-01   -1.131006\n",
       "2013-01-02   -0.156734\n",
       "2013-01-03   -0.663316\n",
       "2013-01-04   -1.195212\n",
       "2013-01-05    1.699788\n",
       "2013-01-06   -1.727329\n",
       "Freq: D, Name: A, dtype: float64"
      ]
     },
     "execution_count": 40,
     "metadata": {},
     "output_type": "execute_result"
    }
   ],
   "source": [
    "df['A']"
   ]
  },
  {
   "cell_type": "code",
   "execution_count": 41,
   "metadata": {
    "collapsed": false
   },
   "outputs": [
    {
     "data": {
      "text/plain": [
       "array([-1.13100588, -0.15673441, -0.66331627, -1.19521192,  1.69978788,\n",
       "       -1.72732923])"
      ]
     },
     "execution_count": 41,
     "metadata": {},
     "output_type": "execute_result"
    }
   ],
   "source": [
    "np.asarray(df['A'])"
   ]
  },
  {
   "cell_type": "markdown",
   "metadata": {},
   "source": [
    "Selecting via [], which slices the rows."
   ]
  },
  {
   "cell_type": "code",
   "execution_count": 42,
   "metadata": {
    "collapsed": false
   },
   "outputs": [
    {
     "data": {
      "text/html": [
       "<div style=\"max-height:1000px;max-width:1500px;overflow:auto;\">\n",
       "<table border=\"1\" class=\"dataframe\">\n",
       "  <thead>\n",
       "    <tr style=\"text-align: right;\">\n",
       "      <th></th>\n",
       "      <th>A</th>\n",
       "      <th>B</th>\n",
       "      <th>C</th>\n",
       "      <th>D</th>\n",
       "    </tr>\n",
       "  </thead>\n",
       "  <tbody>\n",
       "    <tr>\n",
       "      <th>2013-01-03</th>\n",
       "      <td>-0.663316</td>\n",
       "      <td>-0.989011</td>\n",
       "      <td> 0.075403</td>\n",
       "      <td> 0.479077</td>\n",
       "    </tr>\n",
       "    <tr>\n",
       "      <th>2013-01-04</th>\n",
       "      <td>-1.195212</td>\n",
       "      <td>-0.380858</td>\n",
       "      <td>-1.002542</td>\n",
       "      <td>-0.870212</td>\n",
       "    </tr>\n",
       "  </tbody>\n",
       "</table>\n",
       "</div>"
      ],
      "text/plain": [
       "                   A         B         C         D\n",
       "2013-01-03 -0.663316 -0.989011  0.075403  0.479077\n",
       "2013-01-04 -1.195212 -0.380858 -1.002542 -0.870212"
      ]
     },
     "execution_count": 42,
     "metadata": {},
     "output_type": "execute_result"
    }
   ],
   "source": [
    "df[2:4]"
   ]
  },
  {
   "cell_type": "code",
   "execution_count": 43,
   "metadata": {
    "collapsed": false
   },
   "outputs": [
    {
     "data": {
      "text/html": [
       "<div style=\"max-height:1000px;max-width:1500px;overflow:auto;\">\n",
       "<table border=\"1\" class=\"dataframe\">\n",
       "  <thead>\n",
       "    <tr style=\"text-align: right;\">\n",
       "      <th></th>\n",
       "      <th>A</th>\n",
       "      <th>B</th>\n",
       "      <th>C</th>\n",
       "      <th>D</th>\n",
       "    </tr>\n",
       "  </thead>\n",
       "  <tbody>\n",
       "    <tr>\n",
       "      <th>2013-01-01</th>\n",
       "      <td>-1.131006</td>\n",
       "      <td>-0.259360</td>\n",
       "      <td> 0.082849</td>\n",
       "      <td> 0.715524</td>\n",
       "    </tr>\n",
       "    <tr>\n",
       "      <th>2013-01-02</th>\n",
       "      <td>-0.156734</td>\n",
       "      <td> 0.254263</td>\n",
       "      <td> 0.993153</td>\n",
       "      <td>-0.726136</td>\n",
       "    </tr>\n",
       "  </tbody>\n",
       "</table>\n",
       "</div>"
      ],
      "text/plain": [
       "                   A         B         C         D\n",
       "2013-01-01 -1.131006 -0.259360  0.082849  0.715524\n",
       "2013-01-02 -0.156734  0.254263  0.993153 -0.726136"
      ]
     },
     "execution_count": 43,
     "metadata": {},
     "output_type": "execute_result"
    }
   ],
   "source": [
    "df['2013-01-01':'2013-01-02']"
   ]
  },
  {
   "cell_type": "markdown",
   "metadata": {},
   "source": [
    "###[Selection by Label](http://pandas.pydata.org/pandas-docs/version/0.15.2/indexing.html#indexing-label)"
   ]
  },
  {
   "cell_type": "code",
   "execution_count": 44,
   "metadata": {
    "collapsed": false
   },
   "outputs": [
    {
     "data": {
      "text/plain": [
       "A   -1.170698\n",
       "B    0.511826\n",
       "C    0.984370\n",
       "D    0.509954\n",
       "Name: 2013-01-01 00:00:00, dtype: float64"
      ]
     },
     "execution_count": 44,
     "metadata": {},
     "output_type": "execute_result"
    }
   ],
   "source": [
    "df = makeDateRand()\n",
    "df.loc[dates[0]]"
   ]
  },
  {
   "cell_type": "code",
   "execution_count": 45,
   "metadata": {
    "collapsed": false
   },
   "outputs": [
    {
     "data": {
      "text/html": [
       "<div style=\"max-height:1000px;max-width:1500px;overflow:auto;\">\n",
       "<table border=\"1\" class=\"dataframe\">\n",
       "  <thead>\n",
       "    <tr style=\"text-align: right;\">\n",
       "      <th></th>\n",
       "      <th>A</th>\n",
       "      <th>B</th>\n",
       "    </tr>\n",
       "  </thead>\n",
       "  <tbody>\n",
       "    <tr>\n",
       "      <th>2013-01-01</th>\n",
       "      <td>-1.170698</td>\n",
       "      <td> 0.511826</td>\n",
       "    </tr>\n",
       "    <tr>\n",
       "      <th>2013-01-02</th>\n",
       "      <td>-1.016240</td>\n",
       "      <td> 0.761064</td>\n",
       "    </tr>\n",
       "    <tr>\n",
       "      <th>2013-01-03</th>\n",
       "      <td>-1.676073</td>\n",
       "      <td>-0.411738</td>\n",
       "    </tr>\n",
       "    <tr>\n",
       "      <th>2013-01-04</th>\n",
       "      <td>-1.926114</td>\n",
       "      <td> 1.294009</td>\n",
       "    </tr>\n",
       "    <tr>\n",
       "      <th>2013-01-05</th>\n",
       "      <td>-0.213809</td>\n",
       "      <td>-1.204703</td>\n",
       "    </tr>\n",
       "    <tr>\n",
       "      <th>2013-01-06</th>\n",
       "      <td> 0.024314</td>\n",
       "      <td> 0.324155</td>\n",
       "    </tr>\n",
       "  </tbody>\n",
       "</table>\n",
       "</div>"
      ],
      "text/plain": [
       "                   A         B\n",
       "2013-01-01 -1.170698  0.511826\n",
       "2013-01-02 -1.016240  0.761064\n",
       "2013-01-03 -1.676073 -0.411738\n",
       "2013-01-04 -1.926114  1.294009\n",
       "2013-01-05 -0.213809 -1.204703\n",
       "2013-01-06  0.024314  0.324155"
      ]
     },
     "execution_count": 45,
     "metadata": {},
     "output_type": "execute_result"
    }
   ],
   "source": [
    "df.loc[:,['A','B']]"
   ]
  },
  {
   "cell_type": "code",
   "execution_count": 46,
   "metadata": {
    "collapsed": false
   },
   "outputs": [
    {
     "data": {
      "text/html": [
       "<div style=\"max-height:1000px;max-width:1500px;overflow:auto;\">\n",
       "<table border=\"1\" class=\"dataframe\">\n",
       "  <thead>\n",
       "    <tr style=\"text-align: right;\">\n",
       "      <th></th>\n",
       "      <th>A</th>\n",
       "      <th>B</th>\n",
       "    </tr>\n",
       "  </thead>\n",
       "  <tbody>\n",
       "    <tr>\n",
       "      <th>2013-01-02</th>\n",
       "      <td>-1.016240</td>\n",
       "      <td> 0.761064</td>\n",
       "    </tr>\n",
       "    <tr>\n",
       "      <th>2013-01-03</th>\n",
       "      <td>-1.676073</td>\n",
       "      <td>-0.411738</td>\n",
       "    </tr>\n",
       "    <tr>\n",
       "      <th>2013-01-04</th>\n",
       "      <td>-1.926114</td>\n",
       "      <td> 1.294009</td>\n",
       "    </tr>\n",
       "  </tbody>\n",
       "</table>\n",
       "</div>"
      ],
      "text/plain": [
       "                   A         B\n",
       "2013-01-02 -1.016240  0.761064\n",
       "2013-01-03 -1.676073 -0.411738\n",
       "2013-01-04 -1.926114  1.294009"
      ]
     },
     "execution_count": 46,
     "metadata": {},
     "output_type": "execute_result"
    }
   ],
   "source": [
    "#endpoints included\n",
    "df.loc['20130102':'20130104',['A','B']]"
   ]
  },
  {
   "cell_type": "code",
   "execution_count": 47,
   "metadata": {
    "collapsed": false
   },
   "outputs": [
    {
     "data": {
      "text/plain": [
       "A   -1.016240\n",
       "B    0.761064\n",
       "Name: 2013-01-02 00:00:00, dtype: float64"
      ]
     },
     "execution_count": 47,
     "metadata": {},
     "output_type": "execute_result"
    }
   ],
   "source": [
    "df.loc['20130102',['A','B']]"
   ]
  },
  {
   "cell_type": "code",
   "execution_count": 48,
   "metadata": {
    "collapsed": false
   },
   "outputs": [
    {
     "data": {
      "text/plain": [
       "A   -1.016240\n",
       "B    0.761064\n",
       "C   -1.393711\n",
       "D    0.676826\n",
       "Name: 2013-01-02 00:00:00, dtype: float64"
      ]
     },
     "execution_count": 48,
     "metadata": {},
     "output_type": "execute_result"
    }
   ],
   "source": [
    "#locate a row by index\n",
    "df.ix[datetime(2013,01,02)]"
   ]
  },
  {
   "cell_type": "code",
   "execution_count": 49,
   "metadata": {
    "collapsed": false
   },
   "outputs": [
    {
     "data": {
      "text/plain": [
       "A   -1.016240\n",
       "B    0.761064\n",
       "C   -1.393711\n",
       "D    0.676826\n",
       "Name: 2013-01-02 00:00:00, dtype: float64"
      ]
     },
     "execution_count": 49,
     "metadata": {},
     "output_type": "execute_result"
    }
   ],
   "source": [
    "#locate a row by index\n",
    "df.irow(1)"
   ]
  },
  {
   "cell_type": "code",
   "execution_count": 50,
   "metadata": {
    "collapsed": false
   },
   "outputs": [
    {
     "name": "stdout",
     "output_type": "stream",
     "text": [
      "(Timestamp('2013-01-05 00:00:00', offset='D'), A   -0.213809\n",
      "B   -1.204703\n",
      "C   -0.054600\n",
      "D   -1.209402\n",
      "Name: 2013-01-05 00:00:00, dtype: float64)\n",
      "(Timestamp('2013-01-06 00:00:00', offset='D'), A    0.024314\n",
      "B    0.324155\n",
      "C   -1.861520\n",
      "D   -1.363942\n",
      "Name: 2013-01-06 00:00:00, dtype: float64)\n"
     ]
    }
   ],
   "source": [
    "#drop some of the rows\n",
    "df = df.drop(df.index[[0,1,2,3]])\n",
    "for idx, row in df.iterrows():\n",
    "    print(idx,row)"
   ]
  },
  {
   "cell_type": "code",
   "execution_count": 138,
   "metadata": {
    "collapsed": false
   },
   "outputs": [
    {
     "name": "stdout",
     "output_type": "stream",
     "text": [
      "                   A         B         C         D\n",
      "2013-01-01 -0.130656  0.434937 -0.599245 -1.301964\n",
      "2013-01-02 -0.804131  0.508353  0.018939  1.904649\n",
      "2013-01-03 -1.230124 -0.004635 -1.215230  0.260813\n",
      "2013-01-04  0.966628  1.534459 -0.076347 -0.124612\n",
      "2013-01-05  0.960758  1.105695 -1.584061 -0.776583\n",
      "            A  B         C         D\n",
      "2013-01-01  2  0 -0.599245 -1.301964\n",
      "2013-01-02  2  1  0.018939  1.904649\n",
      "2013-01-03  2  2 -1.215230  0.260813\n",
      "2013-01-04  2  3 -0.076347 -0.124612\n",
      "2013-01-05  2  4 -1.584061 -0.776583\n"
     ]
    }
   ],
   "source": [
    "df = makeDateRand()\n",
    "print(df.head())\n",
    "for i,(idx, row) in enumerate(df.iterrows()):\n",
    "    row['A'] = 2\n",
    "    df.ix[idx, 'B'] = i\n",
    "#     df.ix[idx]['C'] = np.sqrt(i)\n",
    "print(df.head())"
   ]
  },
  {
   "cell_type": "markdown",
   "metadata": {},
   "source": [
    "###[Selection by Position](http://pandas.pydata.org/pandas-docs/version/0.15.2/indexing.html#indexing-integer)"
   ]
  },
  {
   "cell_type": "code",
   "execution_count": 52,
   "metadata": {
    "collapsed": false
   },
   "outputs": [
    {
     "data": {
      "text/plain": [
       "A    2.000000\n",
       "B    3.000000\n",
       "C    4.000000\n",
       "D    0.937856\n",
       "Name: 2013-01-04 00:00:00, dtype: float64"
      ]
     },
     "execution_count": 52,
     "metadata": {},
     "output_type": "execute_result"
    }
   ],
   "source": [
    "df.iloc[3]"
   ]
  },
  {
   "cell_type": "code",
   "execution_count": 53,
   "metadata": {
    "collapsed": false
   },
   "outputs": [
    {
     "data": {
      "text/html": [
       "<div style=\"max-height:1000px;max-width:1500px;overflow:auto;\">\n",
       "<table border=\"1\" class=\"dataframe\">\n",
       "  <thead>\n",
       "    <tr style=\"text-align: right;\">\n",
       "      <th></th>\n",
       "      <th>A</th>\n",
       "      <th>B</th>\n",
       "    </tr>\n",
       "  </thead>\n",
       "  <tbody>\n",
       "    <tr>\n",
       "      <th>2013-01-04</th>\n",
       "      <td> 2</td>\n",
       "      <td> 3</td>\n",
       "    </tr>\n",
       "    <tr>\n",
       "      <th>2013-01-05</th>\n",
       "      <td> 2</td>\n",
       "      <td> 3</td>\n",
       "    </tr>\n",
       "  </tbody>\n",
       "</table>\n",
       "</div>"
      ],
      "text/plain": [
       "            A  B\n",
       "2013-01-04  2  3\n",
       "2013-01-05  2  3"
      ]
     },
     "execution_count": 53,
     "metadata": {},
     "output_type": "execute_result"
    }
   ],
   "source": [
    "df.iloc[3:5,0:2]"
   ]
  },
  {
   "cell_type": "code",
   "execution_count": 54,
   "metadata": {
    "collapsed": false
   },
   "outputs": [
    {
     "data": {
      "text/html": [
       "<div style=\"max-height:1000px;max-width:1500px;overflow:auto;\">\n",
       "<table border=\"1\" class=\"dataframe\">\n",
       "  <thead>\n",
       "    <tr style=\"text-align: right;\">\n",
       "      <th></th>\n",
       "      <th>A</th>\n",
       "      <th>C</th>\n",
       "    </tr>\n",
       "  </thead>\n",
       "  <tbody>\n",
       "    <tr>\n",
       "      <th>2013-01-02</th>\n",
       "      <td> 2</td>\n",
       "      <td> 4</td>\n",
       "    </tr>\n",
       "    <tr>\n",
       "      <th>2013-01-03</th>\n",
       "      <td> 2</td>\n",
       "      <td> 4</td>\n",
       "    </tr>\n",
       "    <tr>\n",
       "      <th>2013-01-05</th>\n",
       "      <td> 2</td>\n",
       "      <td> 4</td>\n",
       "    </tr>\n",
       "  </tbody>\n",
       "</table>\n",
       "</div>"
      ],
      "text/plain": [
       "            A  C\n",
       "2013-01-02  2  4\n",
       "2013-01-03  2  4\n",
       "2013-01-05  2  4"
      ]
     },
     "execution_count": 54,
     "metadata": {},
     "output_type": "execute_result"
    }
   ],
   "source": [
    "df.iloc[[1,2,4],[0,2]]"
   ]
  },
  {
   "cell_type": "code",
   "execution_count": 55,
   "metadata": {
    "collapsed": false
   },
   "outputs": [
    {
     "data": {
      "text/html": [
       "<div style=\"max-height:1000px;max-width:1500px;overflow:auto;\">\n",
       "<table border=\"1\" class=\"dataframe\">\n",
       "  <thead>\n",
       "    <tr style=\"text-align: right;\">\n",
       "      <th></th>\n",
       "      <th>A</th>\n",
       "      <th>B</th>\n",
       "      <th>C</th>\n",
       "      <th>D</th>\n",
       "    </tr>\n",
       "  </thead>\n",
       "  <tbody>\n",
       "    <tr>\n",
       "      <th>2013-01-02</th>\n",
       "      <td> 2</td>\n",
       "      <td> 3</td>\n",
       "      <td> 4</td>\n",
       "      <td>-0.950576</td>\n",
       "    </tr>\n",
       "    <tr>\n",
       "      <th>2013-01-03</th>\n",
       "      <td> 2</td>\n",
       "      <td> 3</td>\n",
       "      <td> 4</td>\n",
       "      <td> 0.916640</td>\n",
       "    </tr>\n",
       "  </tbody>\n",
       "</table>\n",
       "</div>"
      ],
      "text/plain": [
       "            A  B  C         D\n",
       "2013-01-02  2  3  4 -0.950576\n",
       "2013-01-03  2  3  4  0.916640"
      ]
     },
     "execution_count": 55,
     "metadata": {},
     "output_type": "execute_result"
    }
   ],
   "source": [
    "#slicing rows\n",
    "df.iloc[1:3,:]"
   ]
  },
  {
   "cell_type": "code",
   "execution_count": 56,
   "metadata": {
    "collapsed": false
   },
   "outputs": [
    {
     "data": {
      "text/html": [
       "<div style=\"max-height:1000px;max-width:1500px;overflow:auto;\">\n",
       "<table border=\"1\" class=\"dataframe\">\n",
       "  <thead>\n",
       "    <tr style=\"text-align: right;\">\n",
       "      <th></th>\n",
       "      <th>B</th>\n",
       "      <th>C</th>\n",
       "    </tr>\n",
       "  </thead>\n",
       "  <tbody>\n",
       "    <tr>\n",
       "      <th>2013-01-01</th>\n",
       "      <td> 3</td>\n",
       "      <td> 4</td>\n",
       "    </tr>\n",
       "    <tr>\n",
       "      <th>2013-01-02</th>\n",
       "      <td> 3</td>\n",
       "      <td> 4</td>\n",
       "    </tr>\n",
       "    <tr>\n",
       "      <th>2013-01-03</th>\n",
       "      <td> 3</td>\n",
       "      <td> 4</td>\n",
       "    </tr>\n",
       "    <tr>\n",
       "      <th>2013-01-04</th>\n",
       "      <td> 3</td>\n",
       "      <td> 4</td>\n",
       "    </tr>\n",
       "    <tr>\n",
       "      <th>2013-01-05</th>\n",
       "      <td> 3</td>\n",
       "      <td> 4</td>\n",
       "    </tr>\n",
       "    <tr>\n",
       "      <th>2013-01-06</th>\n",
       "      <td> 3</td>\n",
       "      <td> 4</td>\n",
       "    </tr>\n",
       "  </tbody>\n",
       "</table>\n",
       "</div>"
      ],
      "text/plain": [
       "            B  C\n",
       "2013-01-01  3  4\n",
       "2013-01-02  3  4\n",
       "2013-01-03  3  4\n",
       "2013-01-04  3  4\n",
       "2013-01-05  3  4\n",
       "2013-01-06  3  4"
      ]
     },
     "execution_count": 56,
     "metadata": {},
     "output_type": "execute_result"
    }
   ],
   "source": [
    "#slicing columns\n",
    "df.iloc[:,1:3]"
   ]
  },
  {
   "cell_type": "code",
   "execution_count": 57,
   "metadata": {
    "collapsed": false
   },
   "outputs": [
    {
     "data": {
      "text/plain": [
       "3.0"
      ]
     },
     "execution_count": 57,
     "metadata": {},
     "output_type": "execute_result"
    }
   ],
   "source": [
    "df.iloc[1,1]"
   ]
  },
  {
   "cell_type": "markdown",
   "metadata": {},
   "source": [
    "###Boolean indexing and filtering"
   ]
  },
  {
   "cell_type": "code",
   "execution_count": 58,
   "metadata": {
    "collapsed": false
   },
   "outputs": [
    {
     "data": {
      "text/html": [
       "<div style=\"max-height:1000px;max-width:1500px;overflow:auto;\">\n",
       "<table border=\"1\" class=\"dataframe\">\n",
       "  <thead>\n",
       "    <tr style=\"text-align: right;\">\n",
       "      <th></th>\n",
       "      <th>A</th>\n",
       "      <th>B</th>\n",
       "      <th>C</th>\n",
       "      <th>D</th>\n",
       "    </tr>\n",
       "  </thead>\n",
       "  <tbody>\n",
       "    <tr>\n",
       "      <th>2013-01-01</th>\n",
       "      <td> 0.806293</td>\n",
       "      <td>-1.264604</td>\n",
       "      <td> 0.184366</td>\n",
       "      <td>-0.435645</td>\n",
       "    </tr>\n",
       "    <tr>\n",
       "      <th>2013-01-03</th>\n",
       "      <td> 0.339057</td>\n",
       "      <td>-1.960241</td>\n",
       "      <td>-2.204251</td>\n",
       "      <td> 0.289780</td>\n",
       "    </tr>\n",
       "  </tbody>\n",
       "</table>\n",
       "</div>"
      ],
      "text/plain": [
       "                   A         B         C         D\n",
       "2013-01-01  0.806293 -1.264604  0.184366 -0.435645\n",
       "2013-01-03  0.339057 -1.960241 -2.204251  0.289780"
      ]
     },
     "execution_count": 58,
     "metadata": {},
     "output_type": "execute_result"
    }
   ],
   "source": [
    "#filter by single row\n",
    "df = makeDateRand()\n",
    "df[df.A > 0]"
   ]
  },
  {
   "cell_type": "code",
   "execution_count": 59,
   "metadata": {
    "collapsed": false
   },
   "outputs": [
    {
     "data": {
      "text/html": [
       "<div style=\"max-height:1000px;max-width:1500px;overflow:auto;\">\n",
       "<table border=\"1\" class=\"dataframe\">\n",
       "  <thead>\n",
       "    <tr style=\"text-align: right;\">\n",
       "      <th></th>\n",
       "      <th>A</th>\n",
       "      <th>B</th>\n",
       "      <th>C</th>\n",
       "      <th>D</th>\n",
       "    </tr>\n",
       "  </thead>\n",
       "  <tbody>\n",
       "  </tbody>\n",
       "</table>\n",
       "</div>"
      ],
      "text/plain": [
       "Empty DataFrame\n",
       "Columns: [A, B, C, D]\n",
       "Index: []"
      ]
     },
     "execution_count": 59,
     "metadata": {},
     "output_type": "execute_result"
    }
   ],
   "source": [
    "#filter by multiple row\n",
    "df2 = df[(df.A>0) & (df.B>0)]\n",
    "df2"
   ]
  },
  {
   "cell_type": "code",
   "execution_count": 60,
   "metadata": {
    "collapsed": false
   },
   "outputs": [
    {
     "name": "stdout",
     "output_type": "stream",
     "text": [
      "(<class 'pandas.core.series.Series'>, 2013-01-01    False\n",
      "2013-01-02    False\n",
      "2013-01-03    False\n",
      "2013-01-04    False\n",
      "2013-01-05    False\n",
      "2013-01-06    False\n",
      "Freq: D, dtype: bool)\n",
      "filt.any() = False\n",
      "filt.all() = False\n"
     ]
    }
   ],
   "source": [
    "#filter specs are pandas time series, which can be manipulated\n",
    "filt = (df.A>0) & (df.B>0)\n",
    "print(type(filt), filt)\n",
    "print('filt.any() = {}'.format(filt.any()))\n",
    "print('filt.all() = {}'.format(filt.all()))"
   ]
  },
  {
   "cell_type": "code",
   "execution_count": 61,
   "metadata": {
    "collapsed": false
   },
   "outputs": [
    {
     "data": {
      "text/html": [
       "<div style=\"max-height:1000px;max-width:1500px;overflow:auto;\">\n",
       "<table border=\"1\" class=\"dataframe\">\n",
       "  <thead>\n",
       "    <tr style=\"text-align: right;\">\n",
       "      <th></th>\n",
       "      <th>A</th>\n",
       "      <th>B</th>\n",
       "      <th>C</th>\n",
       "      <th>D</th>\n",
       "    </tr>\n",
       "  </thead>\n",
       "  <tbody>\n",
       "    <tr>\n",
       "      <th>2013-01-01</th>\n",
       "      <td> 0.806293</td>\n",
       "      <td>      NaN</td>\n",
       "      <td> 0.184366</td>\n",
       "      <td>      NaN</td>\n",
       "    </tr>\n",
       "    <tr>\n",
       "      <th>2013-01-02</th>\n",
       "      <td>      NaN</td>\n",
       "      <td>      NaN</td>\n",
       "      <td>      NaN</td>\n",
       "      <td>      NaN</td>\n",
       "    </tr>\n",
       "    <tr>\n",
       "      <th>2013-01-03</th>\n",
       "      <td> 0.339057</td>\n",
       "      <td>      NaN</td>\n",
       "      <td>      NaN</td>\n",
       "      <td> 0.289780</td>\n",
       "    </tr>\n",
       "    <tr>\n",
       "      <th>2013-01-04</th>\n",
       "      <td>      NaN</td>\n",
       "      <td>      NaN</td>\n",
       "      <td> 0.783143</td>\n",
       "      <td> 0.160725</td>\n",
       "    </tr>\n",
       "    <tr>\n",
       "      <th>2013-01-05</th>\n",
       "      <td>      NaN</td>\n",
       "      <td> 0.884931</td>\n",
       "      <td> 0.962539</td>\n",
       "      <td>      NaN</td>\n",
       "    </tr>\n",
       "    <tr>\n",
       "      <th>2013-01-06</th>\n",
       "      <td>      NaN</td>\n",
       "      <td>      NaN</td>\n",
       "      <td> 2.330506</td>\n",
       "      <td> 1.503962</td>\n",
       "    </tr>\n",
       "  </tbody>\n",
       "</table>\n",
       "</div>"
      ],
      "text/plain": [
       "                   A         B         C         D\n",
       "2013-01-01  0.806293       NaN  0.184366       NaN\n",
       "2013-01-02       NaN       NaN       NaN       NaN\n",
       "2013-01-03  0.339057       NaN       NaN  0.289780\n",
       "2013-01-04       NaN       NaN  0.783143  0.160725\n",
       "2013-01-05       NaN  0.884931  0.962539       NaN\n",
       "2013-01-06       NaN       NaN  2.330506  1.503962"
      ]
     },
     "execution_count": 61,
     "metadata": {},
     "output_type": "execute_result"
    }
   ],
   "source": [
    "#filter by element\n",
    "df[df > 0]"
   ]
  },
  {
   "cell_type": "code",
   "execution_count": 62,
   "metadata": {
    "collapsed": false
   },
   "outputs": [
    {
     "name": "stdout",
     "output_type": "stream",
     "text": [
      "                   A         B         C         D      E\n",
      "2013-01-01  0.806293 -1.264604  0.184366 -0.435645    one\n",
      "2013-01-02 -0.105947 -0.639070 -0.341976 -0.682723    one\n",
      "2013-01-03  0.339057 -1.960241 -2.204251  0.289780    two\n",
      "2013-01-04 -1.852649 -1.315759  0.783143  0.160725  three\n",
      "2013-01-05 -0.448001  0.884931  0.962539 -0.740747   four\n",
      "2013-01-06 -0.687342 -0.248638  2.330506  1.503962  three\n"
     ]
    },
    {
     "data": {
      "text/html": [
       "<div style=\"max-height:1000px;max-width:1500px;overflow:auto;\">\n",
       "<table border=\"1\" class=\"dataframe\">\n",
       "  <thead>\n",
       "    <tr style=\"text-align: right;\">\n",
       "      <th></th>\n",
       "      <th>A</th>\n",
       "      <th>B</th>\n",
       "      <th>C</th>\n",
       "      <th>D</th>\n",
       "      <th>E</th>\n",
       "    </tr>\n",
       "  </thead>\n",
       "  <tbody>\n",
       "    <tr>\n",
       "      <th>2013-01-03</th>\n",
       "      <td> 0.339057</td>\n",
       "      <td>-1.960241</td>\n",
       "      <td>-2.204251</td>\n",
       "      <td> 0.289780</td>\n",
       "      <td>  two</td>\n",
       "    </tr>\n",
       "    <tr>\n",
       "      <th>2013-01-05</th>\n",
       "      <td>-0.448001</td>\n",
       "      <td> 0.884931</td>\n",
       "      <td> 0.962539</td>\n",
       "      <td>-0.740747</td>\n",
       "      <td> four</td>\n",
       "    </tr>\n",
       "  </tbody>\n",
       "</table>\n",
       "</div>"
      ],
      "text/plain": [
       "                   A         B         C         D     E\n",
       "2013-01-03  0.339057 -1.960241 -2.204251  0.289780   two\n",
       "2013-01-05 -0.448001  0.884931  0.962539 -0.740747  four"
      ]
     },
     "execution_count": 62,
     "metadata": {},
     "output_type": "execute_result"
    }
   ],
   "source": [
    "#isin filtering\n",
    "df2 = df.copy()\n",
    "df2['E']=['one', 'one','two','three','four','three']\n",
    "print(df2)\n",
    "df2[df2['E'].isin(['two','four'])]"
   ]
  },
  {
   "cell_type": "code",
   "execution_count": 63,
   "metadata": {
    "collapsed": false
   },
   "outputs": [
    {
     "name": "stdout",
     "output_type": "stream",
     "text": [
      "     A      B         C         D\n",
      "0  foo    one  1.704886  1.170707\n",
      "1  bar    one -0.813787 -0.153656\n",
      "2  foo    two  2.170811 -0.318112\n",
      "3  bar  three -0.986525  0.078411\n",
      "4  foo    two  1.045485 -0.289139\n",
      "5  bar    two -0.121183  0.066849\n",
      "6  foo    one  0.465065 -0.929122\n",
      "7  foo  three  1.328987  0.887484\n"
     ]
    },
    {
     "data": {
      "text/plain": [
       "array(['one', 'two', 'three'], dtype=object)"
      ]
     },
     "execution_count": 63,
     "metadata": {},
     "output_type": "execute_result"
    }
   ],
   "source": [
    "#get unique values in a column\n",
    "df = makefoobar()\n",
    "print(df)\n",
    "df.B.unique()"
   ]
  },
  {
   "cell_type": "markdown",
   "metadata": {},
   "source": [
    "<http://stackoverflow.com/questions/20875140/apply-function-to-sets-of-columns-in-pandas-looping-over-entire-data-frame-co>  \n",
    "\n",
    "What I want to do is simply to calculate the length of the vector for each header (A and B) in this case, for each index, and divide by the Time column. Hence, this function needs to be np.sqrt(A_x^2 + A_y^2 + A_z^2) and the same for B of course. I.e. I am looking to calculate the velocity for each row, but three columns contribute to one velocity result.      "
   ]
  },
  {
   "cell_type": "code",
   "execution_count": 52,
   "metadata": {
    "collapsed": false
   },
   "outputs": [
    {
     "name": "stdout",
     "output_type": "stream",
     "text": [
      "['A_x', 'A_y', 'A_z']\n",
      "         A_x       A_y       A_z\n",
      "1  -0.866036 -0.609962  0.697015\n",
      "2  -0.361163 -1.337141 -0.083210\n",
      "3   0.026910  1.382770 -0.982824\n",
      "4   0.785285 -1.251536 -1.853590\n",
      "5  -0.159702 -0.492080 -0.449791\n",
      "6  -0.147551  0.324448  1.592172\n",
      "7   0.929406 -0.242631  0.288650\n",
      "8  -0.243551  1.071559  0.732014\n",
      "9   0.175272 -0.932040  0.010235\n",
      "10 -0.252762  0.981510 -0.725347\n",
      "        Time       A_x       A_y       A_z       B_x       B_y       B_z  Velocity_A  Velocity_B\n",
      "1  -1.347362 -0.866036 -0.609962  0.697015  1.203333  2.028204 -0.445130   -0.941121   -1.781223\n",
      "2  -0.376973 -0.361163 -1.337141 -0.083210  0.468981 -0.441673 -1.301762   -3.680784   -3.852924\n",
      "3  -1.090916  0.026910  1.382770 -0.982824 -1.924361  1.597575  1.986942   -1.555279   -2.928059\n",
      "4  -0.669853  0.785285 -1.251536 -1.853590  0.924845 -0.109046  0.289680   -3.538689   -1.455939\n",
      "5  -0.784623 -0.159702 -0.492080 -0.449791 -0.140404 -0.080874 -0.156391   -0.873714   -0.287007\n",
      "6   0.329386 -0.147551  0.324448  1.592172 -0.159145  1.935399 -0.599592    4.953397    6.170237\n",
      "7   0.400759  0.929406 -0.242631  0.288650 -1.029818 -0.969421  0.276876    2.502718    3.596091\n",
      "8   0.239801 -0.243551  1.071559  0.732014  0.326604  0.529271 -0.009154    5.506139    2.593806\n",
      "9   0.146362  0.175272 -0.932040  0.010235 -0.605952 -0.356641 -1.051281    6.480063    8.641187\n",
      "10 -1.027434 -0.252762  0.981510 -0.725347  0.810647  0.298313  0.034794   -1.213067   -0.841411\n"
     ]
    }
   ],
   "source": [
    "#pandas approach\n",
    "headers = ['Time', 'A_x', 'A_y', 'A_z', 'B_x', 'B_y', 'B_z']\n",
    "df = pd.DataFrame(np.random.randn(10,7),index=range(1,11),columns=headers)\n",
    "\n",
    "#fiter the column names to get a list of the ones you need\n",
    "print(filter(lambda x: x.startswith(\"A_\"),df.columns))\n",
    "\n",
    "#get the columns according to names\n",
    "print(df[filter(lambda x: x.startswith(\"A_\"),df.columns)])\n",
    "\n",
    "# do the apply dot product for each row across columns\n",
    "column_initials = [\"A\",\"B\"]\n",
    "for column_initial in column_initials:\n",
    "    df[\"Velocity_\"+column_initial] = \\\n",
    "    df[filter(lambda x: x.startswith(column_initial+\"_\"),df.columns)].apply(lambda x: np.sqrt(x.dot(x)), axis=1)/df.Time\n",
    "print(df)  \n"
   ]
  },
  {
   "cell_type": "code",
   "execution_count": 59,
   "metadata": {
    "collapsed": false
   },
   "outputs": [
    {
     "name": "stdout",
     "output_type": "stream",
     "text": [
      "   Velocity_A  Velocity_B\n",
      "0   -1.912133   -1.947397\n",
      "1   -0.590832   -2.002845\n",
      "2    1.503772    2.322585\n",
      "3   -1.979769   -0.270848\n",
      "4    0.707002    3.005761\n",
      "5    2.945552    3.070854\n",
      "6    1.966063    1.221003\n",
      "7   -2.675811   -1.822242\n",
      "8    2.675041    2.190903\n",
      "9    0.883929    3.713751\n"
     ]
    }
   ],
   "source": [
    "#numpy approach\n",
    "headers = ['Time', 'A_x', 'A_y', 'A_z', 'B_x', 'B_y', 'B_z']\n",
    "df = pd.DataFrame(np.random.randn(10,7),index=range(1,11),columns=headers)\n",
    "\n",
    "arr = df.values\n",
    "times = arr[:,0]\n",
    "arr = arr[:,1:]\n",
    "result = np.sqrt((arr**2).reshape(arr.shape[0],-1,3).sum(axis=-1))/times[:,None]\n",
    "result = pd.DataFrame(result, columns=['Velocity_%s'%(x,) for x in list('AB')])\n",
    "print(result)"
   ]
  },
  {
   "cell_type": "code",
   "execution_count": 63,
   "metadata": {
    "collapsed": false
   },
   "outputs": [
    {
     "name": "stdout",
     "output_type": "stream",
     "text": [
      "           A         B\n",
      "1  -1.766247 -3.242271\n",
      "2   1.867759  2.212419\n",
      "3   2.425740  2.026768\n",
      "4   0.760418  0.262202\n",
      "5  -0.367800 -0.943332\n",
      "6   1.861910  1.598906\n",
      "7  -2.862403 -4.881593\n",
      "8  -4.030394 -6.074938\n",
      "9  -1.299672 -1.657686\n",
      "10  9.656592  6.961029\n"
     ]
    }
   ],
   "source": [
    "# yet another approach\n",
    "headers = ['Time', 'A_x', 'A_y', 'A_z', 'B_x', 'B_y', 'B_z']\n",
    "df = pd.DataFrame(np.random.randn(10,7),index=range(1,11),columns=headers)\n",
    "\n",
    "result = df\\\n",
    "    .loc[:, df.columns!='Time']\\\n",
    "    .groupby(lambda x: x[0], axis=1)\\\n",
    "    .apply(lambda x: np.sqrt((x**2).sum(1)))\\\n",
    "    .apply(lambda x: x / df['Time'])\n",
    "\n",
    "print(result)"
   ]
  },
  {
   "cell_type": "markdown",
   "metadata": {},
   "source": [
    "###Setting data"
   ]
  },
  {
   "cell_type": "markdown",
   "metadata": {},
   "source": [
    "Setting a new column automatically aligns the data by the indexes"
   ]
  },
  {
   "cell_type": "code",
   "execution_count": 64,
   "metadata": {
    "collapsed": false
   },
   "outputs": [
    {
     "data": {
      "text/html": [
       "<div style=\"max-height:1000px;max-width:1500px;overflow:auto;\">\n",
       "<table border=\"1\" class=\"dataframe\">\n",
       "  <thead>\n",
       "    <tr style=\"text-align: right;\">\n",
       "      <th></th>\n",
       "      <th>A</th>\n",
       "      <th>B</th>\n",
       "      <th>C</th>\n",
       "      <th>D</th>\n",
       "      <th>E</th>\n",
       "      <th>F</th>\n",
       "    </tr>\n",
       "  </thead>\n",
       "  <tbody>\n",
       "    <tr>\n",
       "      <th>2013-01-01</th>\n",
       "      <td> 0.806293</td>\n",
       "      <td>-1.264604</td>\n",
       "      <td> 0.184366</td>\n",
       "      <td>-0.435645</td>\n",
       "      <td>   one</td>\n",
       "      <td>NaN</td>\n",
       "    </tr>\n",
       "    <tr>\n",
       "      <th>2013-01-02</th>\n",
       "      <td>-0.105947</td>\n",
       "      <td>-0.639070</td>\n",
       "      <td>-0.341976</td>\n",
       "      <td>-0.682723</td>\n",
       "      <td>   one</td>\n",
       "      <td>  1</td>\n",
       "    </tr>\n",
       "    <tr>\n",
       "      <th>2013-01-03</th>\n",
       "      <td> 0.339057</td>\n",
       "      <td>-1.960241</td>\n",
       "      <td>-2.204251</td>\n",
       "      <td> 0.289780</td>\n",
       "      <td>   two</td>\n",
       "      <td>  2</td>\n",
       "    </tr>\n",
       "    <tr>\n",
       "      <th>2013-01-04</th>\n",
       "      <td>-1.852649</td>\n",
       "      <td>-1.315759</td>\n",
       "      <td> 0.783143</td>\n",
       "      <td> 0.160725</td>\n",
       "      <td> three</td>\n",
       "      <td>  3</td>\n",
       "    </tr>\n",
       "    <tr>\n",
       "      <th>2013-01-05</th>\n",
       "      <td>-0.448001</td>\n",
       "      <td> 0.884931</td>\n",
       "      <td> 0.962539</td>\n",
       "      <td>-0.740747</td>\n",
       "      <td>  four</td>\n",
       "      <td>  4</td>\n",
       "    </tr>\n",
       "    <tr>\n",
       "      <th>2013-01-06</th>\n",
       "      <td>-0.687342</td>\n",
       "      <td>-0.248638</td>\n",
       "      <td> 2.330506</td>\n",
       "      <td> 1.503962</td>\n",
       "      <td> three</td>\n",
       "      <td>  5</td>\n",
       "    </tr>\n",
       "  </tbody>\n",
       "</table>\n",
       "</div>"
      ],
      "text/plain": [
       "                   A         B         C         D      E   F\n",
       "2013-01-01  0.806293 -1.264604  0.184366 -0.435645    one NaN\n",
       "2013-01-02 -0.105947 -0.639070 -0.341976 -0.682723    one   1\n",
       "2013-01-03  0.339057 -1.960241 -2.204251  0.289780    two   2\n",
       "2013-01-04 -1.852649 -1.315759  0.783143  0.160725  three   3\n",
       "2013-01-05 -0.448001  0.884931  0.962539 -0.740747   four   4\n",
       "2013-01-06 -0.687342 -0.248638  2.330506  1.503962  three   5"
      ]
     },
     "execution_count": 64,
     "metadata": {},
     "output_type": "execute_result"
    }
   ],
   "source": [
    "s1 = pd.Series([1,2,3,4,5,6],index=pd.date_range('20130102',periods=6))\n",
    "df2['F'] = s1\n",
    "df2"
   ]
  },
  {
   "cell_type": "code",
   "execution_count": 65,
   "metadata": {
    "collapsed": false
   },
   "outputs": [
    {
     "data": {
      "text/html": [
       "<div style=\"max-height:1000px;max-width:1500px;overflow:auto;\">\n",
       "<table border=\"1\" class=\"dataframe\">\n",
       "  <thead>\n",
       "    <tr style=\"text-align: right;\">\n",
       "      <th></th>\n",
       "      <th>A</th>\n",
       "      <th>B</th>\n",
       "      <th>C</th>\n",
       "      <th>D</th>\n",
       "    </tr>\n",
       "  </thead>\n",
       "  <tbody>\n",
       "    <tr>\n",
       "      <th>0</th>\n",
       "      <td> foo</td>\n",
       "      <td>   one</td>\n",
       "      <td> 1.704886</td>\n",
       "      <td> 1.170707</td>\n",
       "    </tr>\n",
       "    <tr>\n",
       "      <th>1</th>\n",
       "      <td> bar</td>\n",
       "      <td>   one</td>\n",
       "      <td>-0.813787</td>\n",
       "      <td>-0.153656</td>\n",
       "    </tr>\n",
       "    <tr>\n",
       "      <th>2</th>\n",
       "      <td> foo</td>\n",
       "      <td>   two</td>\n",
       "      <td> 2.170811</td>\n",
       "      <td>-0.318112</td>\n",
       "    </tr>\n",
       "    <tr>\n",
       "      <th>3</th>\n",
       "      <td> bar</td>\n",
       "      <td> three</td>\n",
       "      <td>-0.986525</td>\n",
       "      <td> 0.078411</td>\n",
       "    </tr>\n",
       "    <tr>\n",
       "      <th>4</th>\n",
       "      <td> foo</td>\n",
       "      <td>   two</td>\n",
       "      <td> 1.045485</td>\n",
       "      <td>-0.289139</td>\n",
       "    </tr>\n",
       "    <tr>\n",
       "      <th>5</th>\n",
       "      <td> bar</td>\n",
       "      <td>   two</td>\n",
       "      <td>-0.121183</td>\n",
       "      <td> 0.066849</td>\n",
       "    </tr>\n",
       "    <tr>\n",
       "      <th>6</th>\n",
       "      <td> foo</td>\n",
       "      <td>   one</td>\n",
       "      <td> 0.465065</td>\n",
       "      <td>-0.929122</td>\n",
       "    </tr>\n",
       "    <tr>\n",
       "      <th>7</th>\n",
       "      <td> foo</td>\n",
       "      <td> three</td>\n",
       "      <td> 1.328987</td>\n",
       "      <td> 0.887484</td>\n",
       "    </tr>\n",
       "    <tr>\n",
       "      <th>2013-01-01 00:00:00</th>\n",
       "      <td>   0</td>\n",
       "      <td>   NaN</td>\n",
       "      <td>      NaN</td>\n",
       "      <td>      NaN</td>\n",
       "    </tr>\n",
       "  </tbody>\n",
       "</table>\n",
       "</div>"
      ],
      "text/plain": [
       "                       A      B         C         D\n",
       "0                    foo    one  1.704886  1.170707\n",
       "1                    bar    one -0.813787 -0.153656\n",
       "2                    foo    two  2.170811 -0.318112\n",
       "3                    bar  three -0.986525  0.078411\n",
       "4                    foo    two  1.045485 -0.289139\n",
       "5                    bar    two -0.121183  0.066849\n",
       "6                    foo    one  0.465065 -0.929122\n",
       "7                    foo  three  1.328987  0.887484\n",
       "2013-01-01 00:00:00    0    NaN       NaN       NaN"
      ]
     },
     "execution_count": 65,
     "metadata": {},
     "output_type": "execute_result"
    }
   ],
   "source": [
    "# Setting values by label\n",
    "df.at[dates[0],'A'] = 0\n",
    "df"
   ]
  },
  {
   "cell_type": "code",
   "execution_count": 66,
   "metadata": {
    "collapsed": false
   },
   "outputs": [
    {
     "data": {
      "text/html": [
       "<div style=\"max-height:1000px;max-width:1500px;overflow:auto;\">\n",
       "<table border=\"1\" class=\"dataframe\">\n",
       "  <thead>\n",
       "    <tr style=\"text-align: right;\">\n",
       "      <th></th>\n",
       "      <th>A</th>\n",
       "      <th>B</th>\n",
       "      <th>C</th>\n",
       "      <th>D</th>\n",
       "    </tr>\n",
       "  </thead>\n",
       "  <tbody>\n",
       "    <tr>\n",
       "      <th>0</th>\n",
       "      <td> foo</td>\n",
       "      <td>     7</td>\n",
       "      <td> 1.704886</td>\n",
       "      <td> 1.170707</td>\n",
       "    </tr>\n",
       "    <tr>\n",
       "      <th>1</th>\n",
       "      <td> bar</td>\n",
       "      <td>   one</td>\n",
       "      <td>-0.813787</td>\n",
       "      <td>-0.153656</td>\n",
       "    </tr>\n",
       "    <tr>\n",
       "      <th>2</th>\n",
       "      <td> foo</td>\n",
       "      <td>   two</td>\n",
       "      <td> 2.170811</td>\n",
       "      <td>-0.318112</td>\n",
       "    </tr>\n",
       "    <tr>\n",
       "      <th>3</th>\n",
       "      <td> bar</td>\n",
       "      <td> three</td>\n",
       "      <td>-0.986525</td>\n",
       "      <td> 0.078411</td>\n",
       "    </tr>\n",
       "    <tr>\n",
       "      <th>4</th>\n",
       "      <td> foo</td>\n",
       "      <td>   two</td>\n",
       "      <td> 1.045485</td>\n",
       "      <td>-0.289139</td>\n",
       "    </tr>\n",
       "    <tr>\n",
       "      <th>5</th>\n",
       "      <td> bar</td>\n",
       "      <td>   two</td>\n",
       "      <td>-0.121183</td>\n",
       "      <td> 0.066849</td>\n",
       "    </tr>\n",
       "    <tr>\n",
       "      <th>6</th>\n",
       "      <td> foo</td>\n",
       "      <td>   one</td>\n",
       "      <td> 0.465065</td>\n",
       "      <td>-0.929122</td>\n",
       "    </tr>\n",
       "    <tr>\n",
       "      <th>7</th>\n",
       "      <td> foo</td>\n",
       "      <td> three</td>\n",
       "      <td> 1.328987</td>\n",
       "      <td> 0.887484</td>\n",
       "    </tr>\n",
       "    <tr>\n",
       "      <th>2013-01-01 00:00:00</th>\n",
       "      <td>   0</td>\n",
       "      <td>   NaN</td>\n",
       "      <td>      NaN</td>\n",
       "      <td>      NaN</td>\n",
       "    </tr>\n",
       "  </tbody>\n",
       "</table>\n",
       "</div>"
      ],
      "text/plain": [
       "                       A      B         C         D\n",
       "0                    foo      7  1.704886  1.170707\n",
       "1                    bar    one -0.813787 -0.153656\n",
       "2                    foo    two  2.170811 -0.318112\n",
       "3                    bar  three -0.986525  0.078411\n",
       "4                    foo    two  1.045485 -0.289139\n",
       "5                    bar    two -0.121183  0.066849\n",
       "6                    foo    one  0.465065 -0.929122\n",
       "7                    foo  three  1.328987  0.887484\n",
       "2013-01-01 00:00:00    0    NaN       NaN       NaN"
      ]
     },
     "execution_count": 66,
     "metadata": {},
     "output_type": "execute_result"
    }
   ],
   "source": [
    "# Setting values by position\n",
    "df.iat[0,1] = 7\n",
    "df"
   ]
  },
  {
   "cell_type": "code",
   "execution_count": 67,
   "metadata": {
    "collapsed": false
   },
   "outputs": [
    {
     "data": {
      "text/html": [
       "<div style=\"max-height:1000px;max-width:1500px;overflow:auto;\">\n",
       "<table border=\"1\" class=\"dataframe\">\n",
       "  <thead>\n",
       "    <tr style=\"text-align: right;\">\n",
       "      <th></th>\n",
       "      <th>A</th>\n",
       "      <th>B</th>\n",
       "      <th>C</th>\n",
       "      <th>D</th>\n",
       "    </tr>\n",
       "  </thead>\n",
       "  <tbody>\n",
       "    <tr>\n",
       "      <th>0</th>\n",
       "      <td> foo</td>\n",
       "      <td>     7</td>\n",
       "      <td> 1.704886</td>\n",
       "      <td> 5</td>\n",
       "    </tr>\n",
       "    <tr>\n",
       "      <th>1</th>\n",
       "      <td> bar</td>\n",
       "      <td>   one</td>\n",
       "      <td>-0.813787</td>\n",
       "      <td> 5</td>\n",
       "    </tr>\n",
       "    <tr>\n",
       "      <th>2</th>\n",
       "      <td> foo</td>\n",
       "      <td>   two</td>\n",
       "      <td> 2.170811</td>\n",
       "      <td> 5</td>\n",
       "    </tr>\n",
       "    <tr>\n",
       "      <th>3</th>\n",
       "      <td> bar</td>\n",
       "      <td> three</td>\n",
       "      <td>-0.986525</td>\n",
       "      <td> 5</td>\n",
       "    </tr>\n",
       "    <tr>\n",
       "      <th>4</th>\n",
       "      <td> foo</td>\n",
       "      <td>   two</td>\n",
       "      <td> 1.045485</td>\n",
       "      <td> 5</td>\n",
       "    </tr>\n",
       "    <tr>\n",
       "      <th>5</th>\n",
       "      <td> bar</td>\n",
       "      <td>   two</td>\n",
       "      <td>-0.121183</td>\n",
       "      <td> 5</td>\n",
       "    </tr>\n",
       "    <tr>\n",
       "      <th>6</th>\n",
       "      <td> foo</td>\n",
       "      <td>   one</td>\n",
       "      <td> 0.465065</td>\n",
       "      <td> 5</td>\n",
       "    </tr>\n",
       "    <tr>\n",
       "      <th>7</th>\n",
       "      <td> foo</td>\n",
       "      <td> three</td>\n",
       "      <td> 1.328987</td>\n",
       "      <td> 5</td>\n",
       "    </tr>\n",
       "    <tr>\n",
       "      <th>2013-01-01 00:00:00</th>\n",
       "      <td>   0</td>\n",
       "      <td>   NaN</td>\n",
       "      <td>      NaN</td>\n",
       "      <td> 5</td>\n",
       "    </tr>\n",
       "  </tbody>\n",
       "</table>\n",
       "</div>"
      ],
      "text/plain": [
       "                       A      B         C  D\n",
       "0                    foo      7  1.704886  5\n",
       "1                    bar    one -0.813787  5\n",
       "2                    foo    two  2.170811  5\n",
       "3                    bar  three -0.986525  5\n",
       "4                    foo    two  1.045485  5\n",
       "5                    bar    two -0.121183  5\n",
       "6                    foo    one  0.465065  5\n",
       "7                    foo  three  1.328987  5\n",
       "2013-01-01 00:00:00    0    NaN       NaN  5"
      ]
     },
     "execution_count": 67,
     "metadata": {},
     "output_type": "execute_result"
    }
   ],
   "source": [
    "# Setting by assigning with a numpy array\n",
    "df.loc[:,'D'] = np.array([5] * len(df))\n",
    "df"
   ]
  },
  {
   "cell_type": "code",
   "execution_count": 68,
   "metadata": {
    "collapsed": false
   },
   "outputs": [
    {
     "data": {
      "text/html": [
       "<div style=\"max-height:1000px;max-width:1500px;overflow:auto;\">\n",
       "<table border=\"1\" class=\"dataframe\">\n",
       "  <thead>\n",
       "    <tr style=\"text-align: right;\">\n",
       "      <th></th>\n",
       "      <th>A</th>\n",
       "      <th>B</th>\n",
       "      <th>C</th>\n",
       "      <th>D</th>\n",
       "    </tr>\n",
       "  </thead>\n",
       "  <tbody>\n",
       "    <tr>\n",
       "      <th>2013-01-01</th>\n",
       "      <td>-0.467656</td>\n",
       "      <td>-0.234445</td>\n",
       "      <td>-0.337960</td>\n",
       "      <td>-1.558072</td>\n",
       "    </tr>\n",
       "    <tr>\n",
       "      <th>2013-01-02</th>\n",
       "      <td>-0.960311</td>\n",
       "      <td>-0.434319</td>\n",
       "      <td>-1.641080</td>\n",
       "      <td>-0.333798</td>\n",
       "    </tr>\n",
       "    <tr>\n",
       "      <th>2013-01-03</th>\n",
       "      <td>-0.092155</td>\n",
       "      <td>-0.308327</td>\n",
       "      <td>-0.264266</td>\n",
       "      <td>-1.212069</td>\n",
       "    </tr>\n",
       "    <tr>\n",
       "      <th>2013-01-04</th>\n",
       "      <td>-0.732735</td>\n",
       "      <td>-0.024228</td>\n",
       "      <td>-1.537414</td>\n",
       "      <td>-2.531615</td>\n",
       "    </tr>\n",
       "    <tr>\n",
       "      <th>2013-01-05</th>\n",
       "      <td>-0.517563</td>\n",
       "      <td>-0.499382</td>\n",
       "      <td>-0.035378</td>\n",
       "      <td>-0.046663</td>\n",
       "    </tr>\n",
       "    <tr>\n",
       "      <th>2013-01-06</th>\n",
       "      <td>-1.134443</td>\n",
       "      <td>-0.309736</td>\n",
       "      <td>-1.180724</td>\n",
       "      <td>-0.518965</td>\n",
       "    </tr>\n",
       "  </tbody>\n",
       "</table>\n",
       "</div>"
      ],
      "text/plain": [
       "                   A         B         C         D\n",
       "2013-01-01 -0.467656 -0.234445 -0.337960 -1.558072\n",
       "2013-01-02 -0.960311 -0.434319 -1.641080 -0.333798\n",
       "2013-01-03 -0.092155 -0.308327 -0.264266 -1.212069\n",
       "2013-01-04 -0.732735 -0.024228 -1.537414 -2.531615\n",
       "2013-01-05 -0.517563 -0.499382 -0.035378 -0.046663\n",
       "2013-01-06 -1.134443 -0.309736 -1.180724 -0.518965"
      ]
     },
     "execution_count": 68,
     "metadata": {},
     "output_type": "execute_result"
    }
   ],
   "source": [
    "# A where operation with setting.\n",
    "df = makeDateRand()\n",
    "df2 = df.copy()\n",
    "df2[df2 > 0] = -df2\n",
    "df2"
   ]
  },
  {
   "cell_type": "markdown",
   "metadata": {},
   "source": [
    "##Missing data"
   ]
  },
  {
   "cell_type": "markdown",
   "metadata": {},
   "source": [
    "pandas primarily uses the value np.nan to represent missing data. It is by default not included in computations. See the [Missing Data section](http://pandas.pydata.org/pandas-docs/version/0.15.2/missing_data.html#missing-data)\n",
    "\n",
    "Reindexing allows you to change/add/delete the index on a specified axis. This returns a copy of the data."
   ]
  },
  {
   "cell_type": "code",
   "execution_count": 69,
   "metadata": {
    "collapsed": false
   },
   "outputs": [
    {
     "data": {
      "text/html": [
       "<div style=\"max-height:1000px;max-width:1500px;overflow:auto;\">\n",
       "<table border=\"1\" class=\"dataframe\">\n",
       "  <thead>\n",
       "    <tr style=\"text-align: right;\">\n",
       "      <th></th>\n",
       "      <th>A</th>\n",
       "      <th>B</th>\n",
       "      <th>C</th>\n",
       "      <th>D</th>\n",
       "      <th>E</th>\n",
       "    </tr>\n",
       "  </thead>\n",
       "  <tbody>\n",
       "    <tr>\n",
       "      <th>2013-01-01</th>\n",
       "      <td>-0.467656</td>\n",
       "      <td>-0.234445</td>\n",
       "      <td> 0.337960</td>\n",
       "      <td>-1.558072</td>\n",
       "      <td>  1</td>\n",
       "    </tr>\n",
       "    <tr>\n",
       "      <th>2013-01-02</th>\n",
       "      <td> 0.960311</td>\n",
       "      <td> 0.434319</td>\n",
       "      <td> 1.641080</td>\n",
       "      <td>-0.333798</td>\n",
       "      <td>  1</td>\n",
       "    </tr>\n",
       "    <tr>\n",
       "      <th>2013-01-03</th>\n",
       "      <td>-0.092155</td>\n",
       "      <td>-0.308327</td>\n",
       "      <td>-0.264266</td>\n",
       "      <td>-1.212069</td>\n",
       "      <td>NaN</td>\n",
       "    </tr>\n",
       "    <tr>\n",
       "      <th>2013-01-04</th>\n",
       "      <td> 0.732735</td>\n",
       "      <td>-0.024228</td>\n",
       "      <td> 1.537414</td>\n",
       "      <td> 2.531615</td>\n",
       "      <td>NaN</td>\n",
       "    </tr>\n",
       "  </tbody>\n",
       "</table>\n",
       "</div>"
      ],
      "text/plain": [
       "                   A         B         C         D   E\n",
       "2013-01-01 -0.467656 -0.234445  0.337960 -1.558072   1\n",
       "2013-01-02  0.960311  0.434319  1.641080 -0.333798   1\n",
       "2013-01-03 -0.092155 -0.308327 -0.264266 -1.212069 NaN\n",
       "2013-01-04  0.732735 -0.024228  1.537414  2.531615 NaN"
      ]
     },
     "execution_count": 69,
     "metadata": {},
     "output_type": "execute_result"
    }
   ],
   "source": [
    "df1 = df.reindex(index=dates[0:4],columns=list(df.columns) + ['E'])\n",
    "df1.loc[dates[0]:dates[1],'E'] = 1\n",
    "df1"
   ]
  },
  {
   "cell_type": "markdown",
   "metadata": {},
   "source": [
    "To drop any rows that have missing data."
   ]
  },
  {
   "cell_type": "code",
   "execution_count": 70,
   "metadata": {
    "collapsed": false
   },
   "outputs": [
    {
     "data": {
      "text/html": [
       "<div style=\"max-height:1000px;max-width:1500px;overflow:auto;\">\n",
       "<table border=\"1\" class=\"dataframe\">\n",
       "  <thead>\n",
       "    <tr style=\"text-align: right;\">\n",
       "      <th></th>\n",
       "      <th>A</th>\n",
       "      <th>B</th>\n",
       "      <th>C</th>\n",
       "      <th>D</th>\n",
       "      <th>E</th>\n",
       "    </tr>\n",
       "  </thead>\n",
       "  <tbody>\n",
       "    <tr>\n",
       "      <th>2013-01-01</th>\n",
       "      <td>-0.467656</td>\n",
       "      <td>-0.234445</td>\n",
       "      <td> 0.33796</td>\n",
       "      <td>-1.558072</td>\n",
       "      <td> 1</td>\n",
       "    </tr>\n",
       "    <tr>\n",
       "      <th>2013-01-02</th>\n",
       "      <td> 0.960311</td>\n",
       "      <td> 0.434319</td>\n",
       "      <td> 1.64108</td>\n",
       "      <td>-0.333798</td>\n",
       "      <td> 1</td>\n",
       "    </tr>\n",
       "  </tbody>\n",
       "</table>\n",
       "</div>"
      ],
      "text/plain": [
       "                   A         B        C         D  E\n",
       "2013-01-01 -0.467656 -0.234445  0.33796 -1.558072  1\n",
       "2013-01-02  0.960311  0.434319  1.64108 -0.333798  1"
      ]
     },
     "execution_count": 70,
     "metadata": {},
     "output_type": "execute_result"
    }
   ],
   "source": [
    "df1.dropna(how='any')"
   ]
  },
  {
   "cell_type": "markdown",
   "metadata": {},
   "source": [
    "Filling missing data"
   ]
  },
  {
   "cell_type": "code",
   "execution_count": 71,
   "metadata": {
    "collapsed": false
   },
   "outputs": [
    {
     "data": {
      "text/html": [
       "<div style=\"max-height:1000px;max-width:1500px;overflow:auto;\">\n",
       "<table border=\"1\" class=\"dataframe\">\n",
       "  <thead>\n",
       "    <tr style=\"text-align: right;\">\n",
       "      <th></th>\n",
       "      <th>A</th>\n",
       "      <th>B</th>\n",
       "      <th>C</th>\n",
       "      <th>D</th>\n",
       "      <th>E</th>\n",
       "    </tr>\n",
       "  </thead>\n",
       "  <tbody>\n",
       "    <tr>\n",
       "      <th>2013-01-01</th>\n",
       "      <td>-0.467656</td>\n",
       "      <td>-0.234445</td>\n",
       "      <td> 0.337960</td>\n",
       "      <td>-1.558072</td>\n",
       "      <td> 1</td>\n",
       "    </tr>\n",
       "    <tr>\n",
       "      <th>2013-01-02</th>\n",
       "      <td> 0.960311</td>\n",
       "      <td> 0.434319</td>\n",
       "      <td> 1.641080</td>\n",
       "      <td>-0.333798</td>\n",
       "      <td> 1</td>\n",
       "    </tr>\n",
       "    <tr>\n",
       "      <th>2013-01-03</th>\n",
       "      <td>-0.092155</td>\n",
       "      <td>-0.308327</td>\n",
       "      <td>-0.264266</td>\n",
       "      <td>-1.212069</td>\n",
       "      <td> 5</td>\n",
       "    </tr>\n",
       "    <tr>\n",
       "      <th>2013-01-04</th>\n",
       "      <td> 0.732735</td>\n",
       "      <td>-0.024228</td>\n",
       "      <td> 1.537414</td>\n",
       "      <td> 2.531615</td>\n",
       "      <td> 5</td>\n",
       "    </tr>\n",
       "  </tbody>\n",
       "</table>\n",
       "</div>"
      ],
      "text/plain": [
       "                   A         B         C         D  E\n",
       "2013-01-01 -0.467656 -0.234445  0.337960 -1.558072  1\n",
       "2013-01-02  0.960311  0.434319  1.641080 -0.333798  1\n",
       "2013-01-03 -0.092155 -0.308327 -0.264266 -1.212069  5\n",
       "2013-01-04  0.732735 -0.024228  1.537414  2.531615  5"
      ]
     },
     "execution_count": 71,
     "metadata": {},
     "output_type": "execute_result"
    }
   ],
   "source": [
    "df1.fillna(value=5)"
   ]
  },
  {
   "cell_type": "markdown",
   "metadata": {},
   "source": [
    "To get the boolean mask where values are nan"
   ]
  },
  {
   "cell_type": "code",
   "execution_count": 72,
   "metadata": {
    "collapsed": false
   },
   "outputs": [
    {
     "data": {
      "text/html": [
       "<div style=\"max-height:1000px;max-width:1500px;overflow:auto;\">\n",
       "<table border=\"1\" class=\"dataframe\">\n",
       "  <thead>\n",
       "    <tr style=\"text-align: right;\">\n",
       "      <th></th>\n",
       "      <th>A</th>\n",
       "      <th>B</th>\n",
       "      <th>C</th>\n",
       "      <th>D</th>\n",
       "      <th>E</th>\n",
       "    </tr>\n",
       "  </thead>\n",
       "  <tbody>\n",
       "    <tr>\n",
       "      <th>2013-01-01</th>\n",
       "      <td> False</td>\n",
       "      <td> False</td>\n",
       "      <td> False</td>\n",
       "      <td> False</td>\n",
       "      <td> False</td>\n",
       "    </tr>\n",
       "    <tr>\n",
       "      <th>2013-01-02</th>\n",
       "      <td> False</td>\n",
       "      <td> False</td>\n",
       "      <td> False</td>\n",
       "      <td> False</td>\n",
       "      <td> False</td>\n",
       "    </tr>\n",
       "    <tr>\n",
       "      <th>2013-01-03</th>\n",
       "      <td> False</td>\n",
       "      <td> False</td>\n",
       "      <td> False</td>\n",
       "      <td> False</td>\n",
       "      <td>  True</td>\n",
       "    </tr>\n",
       "    <tr>\n",
       "      <th>2013-01-04</th>\n",
       "      <td> False</td>\n",
       "      <td> False</td>\n",
       "      <td> False</td>\n",
       "      <td> False</td>\n",
       "      <td>  True</td>\n",
       "    </tr>\n",
       "  </tbody>\n",
       "</table>\n",
       "</div>"
      ],
      "text/plain": [
       "                A      B      C      D      E\n",
       "2013-01-01  False  False  False  False  False\n",
       "2013-01-02  False  False  False  False  False\n",
       "2013-01-03  False  False  False  False   True\n",
       "2013-01-04  False  False  False  False   True"
      ]
     },
     "execution_count": 72,
     "metadata": {},
     "output_type": "execute_result"
    }
   ],
   "source": [
    "pd.isnull(df1)"
   ]
  },
  {
   "cell_type": "markdown",
   "metadata": {},
   "source": [
    "##Operations\n",
    "###Binary operations"
   ]
  },
  {
   "cell_type": "markdown",
   "metadata": {},
   "source": [
    "See the Basic section on [Binary Ops](http://pandas.pydata.org/pandas-docs/version/0.15.2/basics.html#basics-binop)  \n",
    "\n",
    "Operations in general exclude missing data."
   ]
  },
  {
   "cell_type": "code",
   "execution_count": 73,
   "metadata": {
    "collapsed": false
   },
   "outputs": [
    {
     "data": {
      "text/plain": [
       "A    0.291686\n",
       "B    0.009494\n",
       "C    0.744715\n",
       "D   -0.016670\n",
       "dtype: float64"
      ]
     },
     "execution_count": 73,
     "metadata": {},
     "output_type": "execute_result"
    }
   ],
   "source": [
    "df.mean()"
   ]
  },
  {
   "cell_type": "code",
   "execution_count": 74,
   "metadata": {
    "collapsed": false
   },
   "outputs": [
    {
     "data": {
      "text/plain": [
       "2013-01-01   -0.480553\n",
       "2013-01-02    0.675478\n",
       "2013-01-03   -0.469204\n",
       "2013-01-04    1.194384\n",
       "2013-01-05   -0.007366\n",
       "2013-01-06    0.631099\n",
       "Freq: D, dtype: float64"
      ]
     },
     "execution_count": 74,
     "metadata": {},
     "output_type": "execute_result"
    }
   ],
   "source": [
    "#along the other axis\n",
    "df.mean(1)"
   ]
  },
  {
   "cell_type": "markdown",
   "metadata": {},
   "source": [
    "###Applying functions to the data"
   ]
  },
  {
   "cell_type": "markdown",
   "metadata": {},
   "source": [
    "When using apply(), note the axis direction.   \n",
    "- for each column, apply down a row: axis=0  (default)\n",
    "- for each row, apply across columns: axis=1."
   ]
  },
  {
   "cell_type": "code",
   "execution_count": 75,
   "metadata": {
    "collapsed": false
   },
   "outputs": [
    {
     "name": "stdout",
     "output_type": "stream",
     "text": [
      "   A  B  C   D\n",
      "0  1  4  7  10\n",
      "1  2  5  8  11\n",
      "2  3  6  9  12\n",
      "   A   B   C   D\n",
      "0  1   4   7  10\n",
      "1  3   9  15  21\n",
      "2  6  15  24  33\n",
      "   A   B   C   D\n",
      "0  1   4   7  10\n",
      "1  3   9  15  21\n",
      "2  6  15  24  33\n",
      "   A  B   C   D\n",
      "0  1  5  12  22\n",
      "1  2  7  15  26\n",
      "2  3  9  18  30\n"
     ]
    }
   ],
   "source": [
    "df = makegridDF()\n",
    "print(df)\n",
    "print(df.apply(np.cumsum))\n",
    "print(df.apply(np.cumsum, axis=0))\n",
    "print(df.apply(np.cumsum, axis=1))"
   ]
  },
  {
   "cell_type": "code",
   "execution_count": 46,
   "metadata": {
    "collapsed": false
   },
   "outputs": [
    {
     "data": {
      "text/html": [
       "<div style=\"max-height:1000px;max-width:1500px;overflow:auto;\">\n",
       "<table border=\"1\" class=\"dataframe\">\n",
       "  <thead>\n",
       "    <tr style=\"text-align: right;\">\n",
       "      <th></th>\n",
       "      <th>A</th>\n",
       "      <th>B</th>\n",
       "      <th>C</th>\n",
       "      <th>D</th>\n",
       "    </tr>\n",
       "  </thead>\n",
       "  <tbody>\n",
       "    <tr>\n",
       "      <th>2013-01-01</th>\n",
       "      <td>-0.347713</td>\n",
       "      <td>-0.907878</td>\n",
       "      <td> 0.664533</td>\n",
       "      <td> 0.330378</td>\n",
       "    </tr>\n",
       "    <tr>\n",
       "      <th>2013-01-02</th>\n",
       "      <td> 0.925371</td>\n",
       "      <td>-0.074310</td>\n",
       "      <td> 1.967896</td>\n",
       "      <td>-1.221288</td>\n",
       "    </tr>\n",
       "    <tr>\n",
       "      <th>2013-01-03</th>\n",
       "      <td> 2.648762</td>\n",
       "      <td> 1.003158</td>\n",
       "      <td> 2.588638</td>\n",
       "      <td>-0.929843</td>\n",
       "    </tr>\n",
       "    <tr>\n",
       "      <th>2013-01-04</th>\n",
       "      <td> 3.165779</td>\n",
       "      <td> 0.714487</td>\n",
       "      <td> 3.956195</td>\n",
       "      <td>-1.961708</td>\n",
       "    </tr>\n",
       "    <tr>\n",
       "      <th>2013-01-05</th>\n",
       "      <td> 4.467329</td>\n",
       "      <td> 2.506540</td>\n",
       "      <td> 4.750387</td>\n",
       "      <td>-3.961429</td>\n",
       "    </tr>\n",
       "    <tr>\n",
       "      <th>2013-01-06</th>\n",
       "      <td> 2.971142</td>\n",
       "      <td> 2.393032</td>\n",
       "      <td> 5.716535</td>\n",
       "      <td>-4.494308</td>\n",
       "    </tr>\n",
       "  </tbody>\n",
       "</table>\n",
       "</div>"
      ],
      "text/plain": [
       "                   A         B         C         D\n",
       "2013-01-01 -0.347713 -0.907878  0.664533  0.330378\n",
       "2013-01-02  0.925371 -0.074310  1.967896 -1.221288\n",
       "2013-01-03  2.648762  1.003158  2.588638 -0.929843\n",
       "2013-01-04  3.165779  0.714487  3.956195 -1.961708\n",
       "2013-01-05  4.467329  2.506540  4.750387 -3.961429\n",
       "2013-01-06  2.971142  2.393032  5.716535 -4.494308"
      ]
     },
     "execution_count": 46,
     "metadata": {},
     "output_type": "execute_result"
    }
   ],
   "source": [
    "df = makeDateRand()\n",
    "df.apply(np.cumsum)"
   ]
  },
  {
   "cell_type": "code",
   "execution_count": 47,
   "metadata": {
    "collapsed": false
   },
   "outputs": [
    {
     "name": "stdout",
     "output_type": "stream",
     "text": [
      "                   A         B         C         D\n",
      "2013-01-01  1.458686 -1.186782 -1.559096 -0.980556\n",
      "2013-01-02  0.467062 -1.274599  0.215515  0.820009\n",
      "2013-01-03  0.500457 -2.254734  1.068736 -0.427718\n",
      "2013-01-04 -1.742086  0.263522  0.334818  0.473579\n",
      "2013-01-05 -0.887633 -1.092867  0.611888  0.853470\n",
      "2013-01-06  1.459031  1.411495  0.639150 -0.957782\n"
     ]
    },
    {
     "data": {
      "text/plain": [
       "A    3.201117\n",
       "B    3.666230\n",
       "C    2.627831\n",
       "D    1.834027\n",
       "dtype: float64"
      ]
     },
     "execution_count": 47,
     "metadata": {},
     "output_type": "execute_result"
    }
   ],
   "source": [
    "df = makeDateRand()\n",
    "print(df)\n",
    "df.apply(lambda x: x.max() - x.min())"
   ]
  },
  {
   "cell_type": "code",
   "execution_count": 78,
   "metadata": {
    "collapsed": false
   },
   "outputs": [
    {
     "name": "stdout",
     "output_type": "stream",
     "text": [
      "        Date         A         B         C         D\n",
      "0 2013-01-01  0.990319  0.174850 -0.091437  1.751810\n",
      "1 2013-01-02  2.123177  0.510229 -1.563843  0.338379\n",
      "2 2013-01-03 -0.808509  1.184882  2.537792  0.488163\n",
      "3 2013-01-04  1.323992  1.144447  0.642264 -1.036075\n",
      "4 2013-01-05  0.834353 -1.300357  0.184578 -1.460907\n",
      "5 2013-01-06  0.231945  0.842537  0.117507  2.683755\n",
      "                  Date         A         B         C         D\n",
      "0  2013-01-01 00:00:00  0.990319  0.174850 -0.091437  1.751810\n",
      "1  2013-01-02 00:00:00  2.123177  0.510229 -1.563843  0.338379\n",
      "2  2013-01-03 00:00:00 -0.808509  1.184882  2.537792  0.488163\n",
      "3  2013-01-04 00:00:00  1.323992  1.144447  0.642264 -1.036075\n",
      "4  2013-01-05 00:00:00  0.834353 -1.300357  0.184578 -1.460907\n",
      "5  2013-01-06 00:00:00  0.231945  0.842537  0.117507  2.683755\n",
      "        Date         A         B         C         D\n",
      "0 2013-01-01  0.990319  0.174850 -0.091437  1.751810\n",
      "1 2013-01-02  2.123177  0.510229 -1.563843  0.338379\n",
      "2 2013-01-03 -0.808509  1.184882  2.537792  0.488163\n",
      "3 2013-01-04  1.323992  1.144447  0.642264 -1.036075\n",
      "4 2013-01-05  0.834353 -1.300357  0.184578 -1.460907\n",
      "5 2013-01-06  0.231945  0.842537  0.117507  2.683755\n",
      "                 Date         A         B         C         D\n",
      "Date                                                         \n",
      "2013-01-01 2013-01-01  0.990319  0.174850 -0.091437  1.751810\n",
      "2013-01-02 2013-01-02  2.123177  0.510229 -1.563843  0.338379\n",
      "2013-01-03 2013-01-03 -0.808509  1.184882  2.537792  0.488163\n",
      "2013-01-04 2013-01-04  1.323992  1.144447  0.642264 -1.036075\n",
      "2013-01-05 2013-01-05  0.834353 -1.300357  0.184578 -1.460907\n",
      "2013-01-06 2013-01-06  0.231945  0.842537  0.117507  2.683755\n"
     ]
    }
   ],
   "source": [
    "from datetime import datetime\n",
    "df = makeDateRand()\n",
    "df.index.name = 'Date'\n",
    "df.reset_index(level=0,inplace=True)\n",
    "print(df)\n",
    "#convert to string format\n",
    "df.Date = df.Date.apply(lambda d: ' '.join(d.isoformat().split('T')))\n",
    "print(df)\n",
    "#convert back to datetime format\n",
    "df.Date = df.Date.apply(lambda d: datetime.strptime(d, \"%Y-%m-%d %H:%M:%S\"))\n",
    "print(df)\n",
    "\n",
    "df.index = df.Date\n",
    "print(df)"
   ]
  },
  {
   "cell_type": "markdown",
   "metadata": {},
   "source": [
    "###Histograms\n",
    "\n",
    "[Histogramming and Discretization](http://pandas.pydata.org/pandas-docs/version/0.15.2/basics.html#basics-discretization)"
   ]
  },
  {
   "cell_type": "code",
   "execution_count": 79,
   "metadata": {
    "collapsed": false
   },
   "outputs": [
    {
     "data": {
      "text/plain": [
       "6    3\n",
       "0    3\n",
       "4    1\n",
       "3    1\n",
       "2    1\n",
       "1    1\n",
       "dtype: int64"
      ]
     },
     "execution_count": 79,
     "metadata": {},
     "output_type": "execute_result"
    }
   ],
   "source": [
    "s = pd.Series(np.random.randint(0,7,size=10))\n",
    "s.value_counts()"
   ]
  },
  {
   "cell_type": "markdown",
   "metadata": {},
   "source": [
    "### Strings\n",
    "Series is equipped with a set of string processing methods in the str attribute that make it easy to operate on each element of the array, as in the code snippet below. Note that pattern-matching in str generally uses [regular expressions](https://docs.python.org/2/library/re.html) by default (and in some cases always uses them). See more at [Vectorized String Methods](http://pandas.pydata.org/pandas-docs/version/0.15.2/text.html#text-string-methods)."
   ]
  },
  {
   "cell_type": "code",
   "execution_count": 80,
   "metadata": {
    "collapsed": false
   },
   "outputs": [
    {
     "data": {
      "text/plain": [
       "0     1\n",
       "1     1\n",
       "2     1\n",
       "3     4\n",
       "4     4\n",
       "5   NaN\n",
       "6     4\n",
       "7     3\n",
       "8     3\n",
       "dtype: float64"
      ]
     },
     "execution_count": 80,
     "metadata": {},
     "output_type": "execute_result"
    }
   ],
   "source": [
    "s = pd.Series(['A', 'B', 'C', 'Aaba', 'Baca', np.nan, 'CABA', 'dog', 'cat'])\n",
    "s.str.lower()\n",
    "s.str.upper()\n",
    "s.str.len()"
   ]
  },
  {
   "cell_type": "code",
   "execution_count": 81,
   "metadata": {
    "collapsed": false
   },
   "outputs": [
    {
     "data": {
      "text/plain": [
       "0    [a, b, c]\n",
       "1    [c, d, e]\n",
       "2          NaN\n",
       "3    [f, g, h]\n",
       "dtype: object"
      ]
     },
     "execution_count": 81,
     "metadata": {},
     "output_type": "execute_result"
    }
   ],
   "source": [
    "# Methods like split return a Series of lists:\n",
    "s2 = pd.Series(['a_b_c', 'c_d_e', np.nan, 'f_g_h'])\n",
    "s2.str.split('_')"
   ]
  },
  {
   "cell_type": "code",
   "execution_count": 82,
   "metadata": {
    "collapsed": false
   },
   "outputs": [
    {
     "data": {
      "text/plain": [
       "0      b\n",
       "1      d\n",
       "2    NaN\n",
       "3      g\n",
       "dtype: object"
      ]
     },
     "execution_count": 82,
     "metadata": {},
     "output_type": "execute_result"
    }
   ],
   "source": [
    "s2.str.split('_').str[1]"
   ]
  },
  {
   "cell_type": "code",
   "execution_count": 83,
   "metadata": {
    "collapsed": false
   },
   "outputs": [
    {
     "data": {
      "text/plain": [
       "0    NaN\n",
       "1    NaN\n",
       "2    NaN\n",
       "3      a\n",
       "4      a\n",
       "5    NaN\n",
       "6      A\n",
       "7      o\n",
       "8      a\n",
       "dtype: object"
      ]
     },
     "execution_count": 83,
     "metadata": {},
     "output_type": "execute_result"
    }
   ],
   "source": [
    "s = pd.Series(['A', 'B', 'C', 'Aaba', 'Baca', np.nan,'CABA', 'dog', 'cat'])\n",
    "s.str[1]"
   ]
  },
  {
   "cell_type": "markdown",
   "metadata": {},
   "source": [
    "You can use [] notation to directly index by position locations. If you index past the end of the string, the result will be a NaN."
   ]
  },
  {
   "cell_type": "code",
   "execution_count": 84,
   "metadata": {
    "collapsed": false
   },
   "outputs": [
    {
     "data": {
      "text/html": [
       "<div style=\"max-height:1000px;max-width:1500px;overflow:auto;\">\n",
       "<table border=\"1\" class=\"dataframe\">\n",
       "  <thead>\n",
       "    <tr style=\"text-align: right;\">\n",
       "      <th></th>\n",
       "      <th>0</th>\n",
       "      <th>1</th>\n",
       "      <th>2</th>\n",
       "    </tr>\n",
       "  </thead>\n",
       "  <tbody>\n",
       "    <tr>\n",
       "      <th>0</th>\n",
       "      <td>   a</td>\n",
       "      <td>   b</td>\n",
       "      <td>   c</td>\n",
       "    </tr>\n",
       "    <tr>\n",
       "      <th>1</th>\n",
       "      <td>   c</td>\n",
       "      <td>   d</td>\n",
       "      <td>   e</td>\n",
       "    </tr>\n",
       "    <tr>\n",
       "      <th>2</th>\n",
       "      <td> NaN</td>\n",
       "      <td> NaN</td>\n",
       "      <td> NaN</td>\n",
       "    </tr>\n",
       "    <tr>\n",
       "      <th>3</th>\n",
       "      <td>   f</td>\n",
       "      <td>   g</td>\n",
       "      <td>   h</td>\n",
       "    </tr>\n",
       "  </tbody>\n",
       "</table>\n",
       "</div>"
      ],
      "text/plain": [
       "     0    1    2\n",
       "0    a    b    c\n",
       "1    c    d    e\n",
       "2  NaN  NaN  NaN\n",
       "3    f    g    h"
      ]
     },
     "execution_count": 84,
     "metadata": {},
     "output_type": "execute_result"
    }
   ],
   "source": [
    "# Easy to expand this to return a DataFrame\n",
    "s2.str.split('_').apply(pd.Series)"
   ]
  },
  {
   "cell_type": "markdown",
   "metadata": {},
   "source": [
    "Methods like replace and findall take regular expressions, too:"
   ]
  },
  {
   "cell_type": "code",
   "execution_count": 85,
   "metadata": {
    "collapsed": false
   },
   "outputs": [
    {
     "data": {
      "text/plain": [
       "0           A\n",
       "1           B\n",
       "2           C\n",
       "3    XX-XX ba\n",
       "4    XX-XX ca\n",
       "5            \n",
       "6         NaN\n",
       "7    XX-XX BA\n",
       "8      XX-XX \n",
       "9     XX-XX t\n",
       "dtype: object"
      ]
     },
     "execution_count": 85,
     "metadata": {},
     "output_type": "execute_result"
    }
   ],
   "source": [
    "s3 = pd.Series(['A', 'B', 'C', 'Aaba', 'Baca','', np.nan, 'CABA', 'dog', 'cat'])\n",
    "s3.str.replace('^.a|dog', 'XX-XX ', case=False)"
   ]
  },
  {
   "cell_type": "markdown",
   "metadata": {},
   "source": [
    "###Merge and concat"
   ]
  },
  {
   "cell_type": "code",
   "execution_count": 86,
   "metadata": {
    "collapsed": false
   },
   "outputs": [
    {
     "name": "stdout",
     "output_type": "stream",
     "text": [
      "          0         1         2         3\n",
      "0 -0.312554  1.035760 -0.001916 -0.021936\n",
      "1 -1.268133  2.296992  1.607537 -0.152936\n",
      "2 -1.452718  0.265496  0.711312  0.811290\n",
      "3  1.226806 -0.492936  0.570308 -1.380303\n",
      "4  0.476827  0.598290 -1.162419 -0.242144\n",
      "5  0.181001  1.510630  0.789038 -1.992821\n",
      "6  0.363504 -0.344474  1.802882  0.568088\n",
      "7  0.452809 -0.495252  1.359618  1.401802\n",
      "8 -0.043043  0.252168 -0.085674  0.450731\n",
      "9  0.669227 -1.000953  1.721593 -1.993525\n"
     ]
    },
    {
     "data": {
      "text/html": [
       "<div style=\"max-height:1000px;max-width:1500px;overflow:auto;\">\n",
       "<table border=\"1\" class=\"dataframe\">\n",
       "  <thead>\n",
       "    <tr style=\"text-align: right;\">\n",
       "      <th></th>\n",
       "      <th>0</th>\n",
       "      <th>1</th>\n",
       "      <th>2</th>\n",
       "      <th>3</th>\n",
       "    </tr>\n",
       "  </thead>\n",
       "  <tbody>\n",
       "    <tr>\n",
       "      <th>0</th>\n",
       "      <td>-0.312554</td>\n",
       "      <td> 1.035760</td>\n",
       "      <td>-0.001916</td>\n",
       "      <td>-0.021936</td>\n",
       "    </tr>\n",
       "    <tr>\n",
       "      <th>1</th>\n",
       "      <td>-1.268133</td>\n",
       "      <td> 2.296992</td>\n",
       "      <td> 1.607537</td>\n",
       "      <td>-0.152936</td>\n",
       "    </tr>\n",
       "    <tr>\n",
       "      <th>2</th>\n",
       "      <td>-1.452718</td>\n",
       "      <td> 0.265496</td>\n",
       "      <td> 0.711312</td>\n",
       "      <td> 0.811290</td>\n",
       "    </tr>\n",
       "    <tr>\n",
       "      <th>3</th>\n",
       "      <td> 1.226806</td>\n",
       "      <td>-0.492936</td>\n",
       "      <td> 0.570308</td>\n",
       "      <td>-1.380303</td>\n",
       "    </tr>\n",
       "    <tr>\n",
       "      <th>4</th>\n",
       "      <td> 0.476827</td>\n",
       "      <td> 0.598290</td>\n",
       "      <td>-1.162419</td>\n",
       "      <td>-0.242144</td>\n",
       "    </tr>\n",
       "    <tr>\n",
       "      <th>5</th>\n",
       "      <td> 0.181001</td>\n",
       "      <td> 1.510630</td>\n",
       "      <td> 0.789038</td>\n",
       "      <td>-1.992821</td>\n",
       "    </tr>\n",
       "    <tr>\n",
       "      <th>6</th>\n",
       "      <td> 0.363504</td>\n",
       "      <td>-0.344474</td>\n",
       "      <td> 1.802882</td>\n",
       "      <td> 0.568088</td>\n",
       "    </tr>\n",
       "    <tr>\n",
       "      <th>7</th>\n",
       "      <td> 0.452809</td>\n",
       "      <td>-0.495252</td>\n",
       "      <td> 1.359618</td>\n",
       "      <td> 1.401802</td>\n",
       "    </tr>\n",
       "    <tr>\n",
       "      <th>8</th>\n",
       "      <td>-0.043043</td>\n",
       "      <td> 0.252168</td>\n",
       "      <td>-0.085674</td>\n",
       "      <td> 0.450731</td>\n",
       "    </tr>\n",
       "    <tr>\n",
       "      <th>9</th>\n",
       "      <td> 0.669227</td>\n",
       "      <td>-1.000953</td>\n",
       "      <td> 1.721593</td>\n",
       "      <td>-1.993525</td>\n",
       "    </tr>\n",
       "  </tbody>\n",
       "</table>\n",
       "</div>"
      ],
      "text/plain": [
       "          0         1         2         3\n",
       "0 -0.312554  1.035760 -0.001916 -0.021936\n",
       "1 -1.268133  2.296992  1.607537 -0.152936\n",
       "2 -1.452718  0.265496  0.711312  0.811290\n",
       "3  1.226806 -0.492936  0.570308 -1.380303\n",
       "4  0.476827  0.598290 -1.162419 -0.242144\n",
       "5  0.181001  1.510630  0.789038 -1.992821\n",
       "6  0.363504 -0.344474  1.802882  0.568088\n",
       "7  0.452809 -0.495252  1.359618  1.401802\n",
       "8 -0.043043  0.252168 -0.085674  0.450731\n",
       "9  0.669227 -1.000953  1.721593 -1.993525"
      ]
     },
     "execution_count": 86,
     "metadata": {},
     "output_type": "execute_result"
    }
   ],
   "source": [
    "# Concatenating pandas objects together\n",
    "df = pd.DataFrame(np.random.randn(10, 4))\n",
    "print(df)\n",
    "# break it into pieces\n",
    "pieces = [df[:3], df[3:7], df[7:]]\n",
    "pd.concat(pieces)"
   ]
  },
  {
   "cell_type": "code",
   "execution_count": 87,
   "metadata": {
    "collapsed": false
   },
   "outputs": [
    {
     "data": {
      "text/html": [
       "<div style=\"max-height:1000px;max-width:1500px;overflow:auto;\">\n",
       "<table border=\"1\" class=\"dataframe\">\n",
       "  <thead>\n",
       "    <tr style=\"text-align: right;\">\n",
       "      <th></th>\n",
       "      <th>0</th>\n",
       "      <th>1</th>\n",
       "      <th>2</th>\n",
       "      <th>3</th>\n",
       "    </tr>\n",
       "  </thead>\n",
       "  <tbody>\n",
       "    <tr>\n",
       "      <th>0</th>\n",
       "      <td>-0.312554</td>\n",
       "      <td> 1.035760</td>\n",
       "      <td>-0.001916</td>\n",
       "      <td>-0.021936</td>\n",
       "    </tr>\n",
       "    <tr>\n",
       "      <th>1</th>\n",
       "      <td>-1.268133</td>\n",
       "      <td> 2.296992</td>\n",
       "      <td> 1.607537</td>\n",
       "      <td>-0.152936</td>\n",
       "    </tr>\n",
       "    <tr>\n",
       "      <th>2</th>\n",
       "      <td>-1.452718</td>\n",
       "      <td> 0.265496</td>\n",
       "      <td> 0.711312</td>\n",
       "      <td> 0.811290</td>\n",
       "    </tr>\n",
       "    <tr>\n",
       "      <th>3</th>\n",
       "      <td> 1.226806</td>\n",
       "      <td>-0.492936</td>\n",
       "      <td> 0.570308</td>\n",
       "      <td>-1.380303</td>\n",
       "    </tr>\n",
       "    <tr>\n",
       "      <th>4</th>\n",
       "      <td> 0.476827</td>\n",
       "      <td> 0.598290</td>\n",
       "      <td>-1.162419</td>\n",
       "      <td>-0.242144</td>\n",
       "    </tr>\n",
       "    <tr>\n",
       "      <th>5</th>\n",
       "      <td> 0.181001</td>\n",
       "      <td> 1.510630</td>\n",
       "      <td> 0.789038</td>\n",
       "      <td>-1.992821</td>\n",
       "    </tr>\n",
       "    <tr>\n",
       "      <th>6</th>\n",
       "      <td> 0.363504</td>\n",
       "      <td>-0.344474</td>\n",
       "      <td> 1.802882</td>\n",
       "      <td> 0.568088</td>\n",
       "    </tr>\n",
       "    <tr>\n",
       "      <th>7</th>\n",
       "      <td> 0.452809</td>\n",
       "      <td>-0.495252</td>\n",
       "      <td> 1.359618</td>\n",
       "      <td> 1.401802</td>\n",
       "    </tr>\n",
       "    <tr>\n",
       "      <th>8</th>\n",
       "      <td>-0.043043</td>\n",
       "      <td> 0.252168</td>\n",
       "      <td>-0.085674</td>\n",
       "      <td> 0.450731</td>\n",
       "    </tr>\n",
       "    <tr>\n",
       "      <th>9</th>\n",
       "      <td> 0.669227</td>\n",
       "      <td>-1.000953</td>\n",
       "      <td> 1.721593</td>\n",
       "      <td>-1.993525</td>\n",
       "    </tr>\n",
       "    <tr>\n",
       "      <th>2</th>\n",
       "      <td>-1.452718</td>\n",
       "      <td> 0.265496</td>\n",
       "      <td> 0.711312</td>\n",
       "      <td> 0.811290</td>\n",
       "    </tr>\n",
       "    <tr>\n",
       "      <th>3</th>\n",
       "      <td> 1.226806</td>\n",
       "      <td>-0.492936</td>\n",
       "      <td> 0.570308</td>\n",
       "      <td>-1.380303</td>\n",
       "    </tr>\n",
       "  </tbody>\n",
       "</table>\n",
       "</div>"
      ],
      "text/plain": [
       "          0         1         2         3\n",
       "0 -0.312554  1.035760 -0.001916 -0.021936\n",
       "1 -1.268133  2.296992  1.607537 -0.152936\n",
       "2 -1.452718  0.265496  0.711312  0.811290\n",
       "3  1.226806 -0.492936  0.570308 -1.380303\n",
       "4  0.476827  0.598290 -1.162419 -0.242144\n",
       "5  0.181001  1.510630  0.789038 -1.992821\n",
       "6  0.363504 -0.344474  1.802882  0.568088\n",
       "7  0.452809 -0.495252  1.359618  1.401802\n",
       "8 -0.043043  0.252168 -0.085674  0.450731\n",
       "9  0.669227 -1.000953  1.721593 -1.993525\n",
       "2 -1.452718  0.265496  0.711312  0.811290\n",
       "3  1.226806 -0.492936  0.570308 -1.380303"
      ]
     },
     "execution_count": 87,
     "metadata": {},
     "output_type": "execute_result"
    }
   ],
   "source": [
    "# Repeat some rows in  data frame\n",
    "df2 = pd.concat([df,df[2:4]])\n",
    "df2"
   ]
  },
  {
   "cell_type": "markdown",
   "metadata": {},
   "source": [
    "SQL style merges. See the [Database style joining](http://pandas.pydata.org/pandas-docs/version/0.15.2/merging.html#merging-join)"
   ]
  },
  {
   "cell_type": "code",
   "execution_count": 88,
   "metadata": {
    "collapsed": false
   },
   "outputs": [
    {
     "name": "stdout",
     "output_type": "stream",
     "text": [
      "   key  lval\n",
      "0  foo     1\n",
      "1  foo     2\n",
      "   key  rval\n",
      "0  foo     4\n",
      "1  foo     5\n"
     ]
    },
    {
     "data": {
      "text/html": [
       "<div style=\"max-height:1000px;max-width:1500px;overflow:auto;\">\n",
       "<table border=\"1\" class=\"dataframe\">\n",
       "  <thead>\n",
       "    <tr style=\"text-align: right;\">\n",
       "      <th></th>\n",
       "      <th>key</th>\n",
       "      <th>lval</th>\n",
       "      <th>rval</th>\n",
       "    </tr>\n",
       "  </thead>\n",
       "  <tbody>\n",
       "    <tr>\n",
       "      <th>0</th>\n",
       "      <td> foo</td>\n",
       "      <td> 1</td>\n",
       "      <td> 4</td>\n",
       "    </tr>\n",
       "    <tr>\n",
       "      <th>1</th>\n",
       "      <td> foo</td>\n",
       "      <td> 1</td>\n",
       "      <td> 5</td>\n",
       "    </tr>\n",
       "    <tr>\n",
       "      <th>2</th>\n",
       "      <td> foo</td>\n",
       "      <td> 2</td>\n",
       "      <td> 4</td>\n",
       "    </tr>\n",
       "    <tr>\n",
       "      <th>3</th>\n",
       "      <td> foo</td>\n",
       "      <td> 2</td>\n",
       "      <td> 5</td>\n",
       "    </tr>\n",
       "  </tbody>\n",
       "</table>\n",
       "</div>"
      ],
      "text/plain": [
       "   key  lval  rval\n",
       "0  foo     1     4\n",
       "1  foo     1     5\n",
       "2  foo     2     4\n",
       "3  foo     2     5"
      ]
     },
     "execution_count": 88,
     "metadata": {},
     "output_type": "execute_result"
    }
   ],
   "source": [
    "left = pd.DataFrame({'key': ['foo', 'foo'], 'lval': [1, 2]})\n",
    "right = pd.DataFrame({'key': ['foo', 'foo'], 'rval': [4, 5]})\n",
    "print(left)\n",
    "print(right)\n",
    "pd.merge(left, right, on='key')"
   ]
  },
  {
   "cell_type": "markdown",
   "metadata": {},
   "source": [
    "Append rows to a dataframe. See the [Appending](http://pandas.pydata.org/pandas-docs/version/0.15.2/merging.html#merging-concatenation)"
   ]
  },
  {
   "cell_type": "code",
   "execution_count": 89,
   "metadata": {
    "collapsed": false
   },
   "outputs": [
    {
     "data": {
      "text/html": [
       "<div style=\"max-height:1000px;max-width:1500px;overflow:auto;\">\n",
       "<table border=\"1\" class=\"dataframe\">\n",
       "  <thead>\n",
       "    <tr style=\"text-align: right;\">\n",
       "      <th></th>\n",
       "      <th>A</th>\n",
       "      <th>B</th>\n",
       "      <th>C</th>\n",
       "      <th>D</th>\n",
       "    </tr>\n",
       "  </thead>\n",
       "  <tbody>\n",
       "    <tr>\n",
       "      <th>0</th>\n",
       "      <td> 0.026858</td>\n",
       "      <td> 0.618968</td>\n",
       "      <td>-0.067910</td>\n",
       "      <td> 0.295114</td>\n",
       "    </tr>\n",
       "    <tr>\n",
       "      <th>1</th>\n",
       "      <td>-2.727626</td>\n",
       "      <td> 1.519130</td>\n",
       "      <td>-1.103879</td>\n",
       "      <td>-0.083556</td>\n",
       "    </tr>\n",
       "    <tr>\n",
       "      <th>2</th>\n",
       "      <td>-0.766484</td>\n",
       "      <td> 0.329392</td>\n",
       "      <td> 1.979625</td>\n",
       "      <td>-0.818243</td>\n",
       "    </tr>\n",
       "    <tr>\n",
       "      <th>3</th>\n",
       "      <td>-1.103593</td>\n",
       "      <td> 0.157900</td>\n",
       "      <td>-0.594812</td>\n",
       "      <td> 0.222186</td>\n",
       "    </tr>\n",
       "    <tr>\n",
       "      <th>4</th>\n",
       "      <td>-0.767651</td>\n",
       "      <td> 0.717360</td>\n",
       "      <td>-0.713674</td>\n",
       "      <td>-0.729033</td>\n",
       "    </tr>\n",
       "    <tr>\n",
       "      <th>5</th>\n",
       "      <td>-0.097077</td>\n",
       "      <td>-0.821013</td>\n",
       "      <td> 0.752209</td>\n",
       "      <td>-0.586203</td>\n",
       "    </tr>\n",
       "    <tr>\n",
       "      <th>6</th>\n",
       "      <td>-0.247473</td>\n",
       "      <td>-0.526865</td>\n",
       "      <td>-1.967403</td>\n",
       "      <td> 0.587469</td>\n",
       "    </tr>\n",
       "    <tr>\n",
       "      <th>7</th>\n",
       "      <td> 1.124842</td>\n",
       "      <td>-1.090140</td>\n",
       "      <td>-0.517800</td>\n",
       "      <td>-0.172108</td>\n",
       "    </tr>\n",
       "    <tr>\n",
       "      <th>8</th>\n",
       "      <td>-1.103593</td>\n",
       "      <td> 0.157900</td>\n",
       "      <td>-0.594812</td>\n",
       "      <td> 0.222186</td>\n",
       "    </tr>\n",
       "  </tbody>\n",
       "</table>\n",
       "</div>"
      ],
      "text/plain": [
       "          A         B         C         D\n",
       "0  0.026858  0.618968 -0.067910  0.295114\n",
       "1 -2.727626  1.519130 -1.103879 -0.083556\n",
       "2 -0.766484  0.329392  1.979625 -0.818243\n",
       "3 -1.103593  0.157900 -0.594812  0.222186\n",
       "4 -0.767651  0.717360 -0.713674 -0.729033\n",
       "5 -0.097077 -0.821013  0.752209 -0.586203\n",
       "6 -0.247473 -0.526865 -1.967403  0.587469\n",
       "7  1.124842 -1.090140 -0.517800 -0.172108\n",
       "8 -1.103593  0.157900 -0.594812  0.222186"
      ]
     },
     "execution_count": 89,
     "metadata": {},
     "output_type": "execute_result"
    }
   ],
   "source": [
    "df = pd.DataFrame(np.random.randn(8, 4), columns=['A','B','C','D'])\n",
    "s = df.iloc[3]\n",
    "df.append(s, ignore_index=True)"
   ]
  },
  {
   "cell_type": "markdown",
   "metadata": {},
   "source": [
    "###Grouping\n",
    "By “group by” we are referring to a process involving one or more of the following steps  \n",
    "\n",
    "- Splitting the data into groups based on some criteria  \n",
    "- Applying a function to each group independently    \n",
    "- Combining the results into a data structure   \n",
    "\n",
    "[grouping](http://pandas.pydata.org/pandas-docs/version/0.15.2/groupby.html#groupby)"
   ]
  },
  {
   "cell_type": "code",
   "execution_count": 90,
   "metadata": {
    "collapsed": false
   },
   "outputs": [
    {
     "data": {
      "text/html": [
       "<div style=\"max-height:1000px;max-width:1500px;overflow:auto;\">\n",
       "<table border=\"1\" class=\"dataframe\">\n",
       "  <thead>\n",
       "    <tr style=\"text-align: right;\">\n",
       "      <th></th>\n",
       "      <th>A</th>\n",
       "      <th>B</th>\n",
       "      <th>C</th>\n",
       "      <th>D</th>\n",
       "    </tr>\n",
       "  </thead>\n",
       "  <tbody>\n",
       "    <tr>\n",
       "      <th>0</th>\n",
       "      <td> foo</td>\n",
       "      <td>   one</td>\n",
       "      <td> 0.448830</td>\n",
       "      <td> 1.250155</td>\n",
       "    </tr>\n",
       "    <tr>\n",
       "      <th>1</th>\n",
       "      <td> bar</td>\n",
       "      <td>   one</td>\n",
       "      <td> 0.609040</td>\n",
       "      <td>-0.216908</td>\n",
       "    </tr>\n",
       "    <tr>\n",
       "      <th>2</th>\n",
       "      <td> foo</td>\n",
       "      <td>   two</td>\n",
       "      <td>-2.423890</td>\n",
       "      <td>-0.558726</td>\n",
       "    </tr>\n",
       "    <tr>\n",
       "      <th>3</th>\n",
       "      <td> bar</td>\n",
       "      <td> three</td>\n",
       "      <td> 0.820044</td>\n",
       "      <td> 1.364242</td>\n",
       "    </tr>\n",
       "    <tr>\n",
       "      <th>4</th>\n",
       "      <td> foo</td>\n",
       "      <td>   two</td>\n",
       "      <td>-0.384493</td>\n",
       "      <td> 0.178097</td>\n",
       "    </tr>\n",
       "    <tr>\n",
       "      <th>5</th>\n",
       "      <td> bar</td>\n",
       "      <td>   two</td>\n",
       "      <td> 0.119828</td>\n",
       "      <td> 0.512074</td>\n",
       "    </tr>\n",
       "    <tr>\n",
       "      <th>6</th>\n",
       "      <td> foo</td>\n",
       "      <td>   one</td>\n",
       "      <td> 1.395724</td>\n",
       "      <td> 0.145416</td>\n",
       "    </tr>\n",
       "    <tr>\n",
       "      <th>7</th>\n",
       "      <td> foo</td>\n",
       "      <td> three</td>\n",
       "      <td>-0.496975</td>\n",
       "      <td> 0.298407</td>\n",
       "    </tr>\n",
       "  </tbody>\n",
       "</table>\n",
       "</div>"
      ],
      "text/plain": [
       "     A      B         C         D\n",
       "0  foo    one  0.448830  1.250155\n",
       "1  bar    one  0.609040 -0.216908\n",
       "2  foo    two -2.423890 -0.558726\n",
       "3  bar  three  0.820044  1.364242\n",
       "4  foo    two -0.384493  0.178097\n",
       "5  bar    two  0.119828  0.512074\n",
       "6  foo    one  1.395724  0.145416\n",
       "7  foo  three -0.496975  0.298407"
      ]
     },
     "execution_count": 90,
     "metadata": {},
     "output_type": "execute_result"
    }
   ],
   "source": [
    "df = makefoobar()\n",
    "df"
   ]
  },
  {
   "cell_type": "markdown",
   "metadata": {},
   "source": [
    "Grouping and then applying a function sum to the resulting groups."
   ]
  },
  {
   "cell_type": "code",
   "execution_count": 91,
   "metadata": {
    "collapsed": false
   },
   "outputs": [
    {
     "data": {
      "text/html": [
       "<div style=\"max-height:1000px;max-width:1500px;overflow:auto;\">\n",
       "<table border=\"1\" class=\"dataframe\">\n",
       "  <thead>\n",
       "    <tr style=\"text-align: right;\">\n",
       "      <th></th>\n",
       "      <th>C</th>\n",
       "      <th>D</th>\n",
       "    </tr>\n",
       "    <tr>\n",
       "      <th>A</th>\n",
       "      <th></th>\n",
       "      <th></th>\n",
       "    </tr>\n",
       "  </thead>\n",
       "  <tbody>\n",
       "    <tr>\n",
       "      <th>bar</th>\n",
       "      <td> 1.548911</td>\n",
       "      <td> 1.659408</td>\n",
       "    </tr>\n",
       "    <tr>\n",
       "      <th>foo</th>\n",
       "      <td>-1.460804</td>\n",
       "      <td> 1.313348</td>\n",
       "    </tr>\n",
       "  </tbody>\n",
       "</table>\n",
       "</div>"
      ],
      "text/plain": [
       "            C         D\n",
       "A                      \n",
       "bar  1.548911  1.659408\n",
       "foo -1.460804  1.313348"
      ]
     },
     "execution_count": 91,
     "metadata": {},
     "output_type": "execute_result"
    }
   ],
   "source": [
    "df.groupby('A').sum()"
   ]
  },
  {
   "cell_type": "code",
   "execution_count": 92,
   "metadata": {
    "collapsed": false
   },
   "outputs": [
    {
     "data": {
      "text/html": [
       "<div style=\"max-height:1000px;max-width:1500px;overflow:auto;\">\n",
       "<table border=\"1\" class=\"dataframe\">\n",
       "  <thead>\n",
       "    <tr style=\"text-align: right;\">\n",
       "      <th></th>\n",
       "      <th></th>\n",
       "      <th>C</th>\n",
       "      <th>D</th>\n",
       "    </tr>\n",
       "    <tr>\n",
       "      <th>A</th>\n",
       "      <th>B</th>\n",
       "      <th></th>\n",
       "      <th></th>\n",
       "    </tr>\n",
       "  </thead>\n",
       "  <tbody>\n",
       "    <tr>\n",
       "      <th rowspan=\"3\" valign=\"top\">bar</th>\n",
       "      <th>one</th>\n",
       "      <td> 0.609040</td>\n",
       "      <td>-0.216908</td>\n",
       "    </tr>\n",
       "    <tr>\n",
       "      <th>three</th>\n",
       "      <td> 0.820044</td>\n",
       "      <td> 1.364242</td>\n",
       "    </tr>\n",
       "    <tr>\n",
       "      <th>two</th>\n",
       "      <td> 0.119828</td>\n",
       "      <td> 0.512074</td>\n",
       "    </tr>\n",
       "    <tr>\n",
       "      <th rowspan=\"3\" valign=\"top\">foo</th>\n",
       "      <th>one</th>\n",
       "      <td> 1.844554</td>\n",
       "      <td> 1.395571</td>\n",
       "    </tr>\n",
       "    <tr>\n",
       "      <th>three</th>\n",
       "      <td>-0.496975</td>\n",
       "      <td> 0.298407</td>\n",
       "    </tr>\n",
       "    <tr>\n",
       "      <th>two</th>\n",
       "      <td>-2.808382</td>\n",
       "      <td>-0.380629</td>\n",
       "    </tr>\n",
       "  </tbody>\n",
       "</table>\n",
       "</div>"
      ],
      "text/plain": [
       "                  C         D\n",
       "A   B                        \n",
       "bar one    0.609040 -0.216908\n",
       "    three  0.820044  1.364242\n",
       "    two    0.119828  0.512074\n",
       "foo one    1.844554  1.395571\n",
       "    three -0.496975  0.298407\n",
       "    two   -2.808382 -0.380629"
      ]
     },
     "execution_count": 92,
     "metadata": {},
     "output_type": "execute_result"
    }
   ],
   "source": [
    "df.groupby(['A','B']).sum()"
   ]
  },
  {
   "cell_type": "code",
   "execution_count": 93,
   "metadata": {
    "collapsed": false
   },
   "outputs": [
    {
     "name": "stdout",
     "output_type": "stream",
     "text": [
      "     A      B         C         D\n",
      "0  foo    one  0.345037  1.120149\n",
      "1  bar    one -0.983207  1.304603\n",
      "2  foo    two -0.469320  0.125918\n",
      "3  bar  three  0.312737  0.146465\n",
      "4  foo    two  0.590574 -0.566539\n",
      "5  bar    two  0.666293  0.185597\n",
      "6  foo    one -0.442139  1.421216\n",
      "7  foo  three  0.899687  0.275622\n"
     ]
    },
    {
     "data": {
      "text/plain": [
       "{'one': -0.36010299230130288,\n",
       " 'three': 0.60621232215056042,\n",
       " 'two': 0.26251537978182976}"
      ]
     },
     "execution_count": 93,
     "metadata": {},
     "output_type": "execute_result"
    }
   ],
   "source": [
    "df = makefoobar()\n",
    "print(df)\n",
    "cnts = {}\n",
    "#first value is group column value, seond value is the members in the group\n",
    "for grp, grp_data in df.groupby(\"B\"):\n",
    "    cnts[grp] = grp_data.C.mean()  \n",
    "cnts"
   ]
  },
  {
   "cell_type": "markdown",
   "metadata": {},
   "source": [
    "###Reshaping\n",
    "\n",
    "[Hierarchical Indexing](http://pandas.pydata.org/pandas-docs/version/0.15.2/advanced.html#advanced-hierarchical) and [Reshaping](http://pandas.pydata.org/pandas-docs/version/0.15.2/reshaping.html#reshaping-stacking)."
   ]
  },
  {
   "cell_type": "code",
   "execution_count": 139,
   "metadata": {
    "collapsed": false
   },
   "outputs": [
    {
     "name": "stdout",
     "output_type": "stream",
     "text": [
      "[('bar', 'one'), ('bar', 'two'), ('baz', 'one'), ('baz', 'two'), ('foo', 'one'), ('foo', 'two'), ('qux', 'one'), ('qux', 'two')]\n"
     ]
    },
    {
     "data": {
      "text/html": [
       "<div style=\"max-height:1000px;max-width:1500px;overflow:auto;\">\n",
       "<table border=\"1\" class=\"dataframe\">\n",
       "  <thead>\n",
       "    <tr style=\"text-align: right;\">\n",
       "      <th></th>\n",
       "      <th></th>\n",
       "      <th>A</th>\n",
       "      <th>B</th>\n",
       "    </tr>\n",
       "    <tr>\n",
       "      <th>first</th>\n",
       "      <th>second</th>\n",
       "      <th></th>\n",
       "      <th></th>\n",
       "    </tr>\n",
       "  </thead>\n",
       "  <tbody>\n",
       "    <tr>\n",
       "      <th rowspan=\"2\" valign=\"top\">bar</th>\n",
       "      <th>one</th>\n",
       "      <td> 1.808066</td>\n",
       "      <td>-0.330584</td>\n",
       "    </tr>\n",
       "    <tr>\n",
       "      <th>two</th>\n",
       "      <td> 0.091519</td>\n",
       "      <td>-0.905225</td>\n",
       "    </tr>\n",
       "    <tr>\n",
       "      <th rowspan=\"2\" valign=\"top\">baz</th>\n",
       "      <th>one</th>\n",
       "      <td>-0.210374</td>\n",
       "      <td>-0.477266</td>\n",
       "    </tr>\n",
       "    <tr>\n",
       "      <th>two</th>\n",
       "      <td> 0.069200</td>\n",
       "      <td> 1.737672</td>\n",
       "    </tr>\n",
       "  </tbody>\n",
       "</table>\n",
       "</div>"
      ],
      "text/plain": [
       "                     A         B\n",
       "first second                    \n",
       "bar   one     1.808066 -0.330584\n",
       "      two     0.091519 -0.905225\n",
       "baz   one    -0.210374 -0.477266\n",
       "      two     0.069200  1.737672"
      ]
     },
     "execution_count": 139,
     "metadata": {},
     "output_type": "execute_result"
    }
   ],
   "source": [
    "tuples = list(zip(*[['bar', 'bar', 'baz', 'baz',\n",
    "                    'foo', 'foo', 'qux', 'qux'],\n",
    "                    ['one', 'two', 'one', 'two',\n",
    "                    'one', 'two', 'one', 'two']]))\n",
    "print(tuples)\n",
    "index = pd.MultiIndex.from_tuples(tuples, names=['first', 'second'])\n",
    "df = pd.DataFrame(np.random.randn(8, 2), index=index, columns=['A', 'B'])\n",
    "df2 = df[:4]\n",
    "df2"
   ]
  },
  {
   "cell_type": "markdown",
   "metadata": {},
   "source": [
    "The stack function “compresses” a level in the DataFrame’s columns."
   ]
  },
  {
   "cell_type": "code",
   "execution_count": 95,
   "metadata": {
    "collapsed": false
   },
   "outputs": [
    {
     "data": {
      "text/plain": [
       "first  second   \n",
       "bar    one     A    1.016842\n",
       "               B    1.446916\n",
       "       two     A   -1.342349\n",
       "               B   -0.700087\n",
       "baz    one     A    0.811508\n",
       "               B   -0.058965\n",
       "       two     A    0.337480\n",
       "               B    1.236764\n",
       "dtype: float64"
      ]
     },
     "execution_count": 95,
     "metadata": {},
     "output_type": "execute_result"
    }
   ],
   "source": [
    "stacked = df2.stack()\n",
    "stacked"
   ]
  },
  {
   "cell_type": "markdown",
   "metadata": {},
   "source": [
    "With a “stacked” DataFrame or Series (having a MultiIndex as the index), the inverse operation of stack is unstack, which by default unstacks the last level:"
   ]
  },
  {
   "cell_type": "code",
   "execution_count": 96,
   "metadata": {
    "collapsed": false
   },
   "outputs": [
    {
     "data": {
      "text/html": [
       "<div style=\"max-height:1000px;max-width:1500px;overflow:auto;\">\n",
       "<table border=\"1\" class=\"dataframe\">\n",
       "  <thead>\n",
       "    <tr style=\"text-align: right;\">\n",
       "      <th></th>\n",
       "      <th></th>\n",
       "      <th>A</th>\n",
       "      <th>B</th>\n",
       "    </tr>\n",
       "    <tr>\n",
       "      <th>first</th>\n",
       "      <th>second</th>\n",
       "      <th></th>\n",
       "      <th></th>\n",
       "    </tr>\n",
       "  </thead>\n",
       "  <tbody>\n",
       "    <tr>\n",
       "      <th rowspan=\"2\" valign=\"top\">bar</th>\n",
       "      <th>one</th>\n",
       "      <td> 1.016842</td>\n",
       "      <td> 1.446916</td>\n",
       "    </tr>\n",
       "    <tr>\n",
       "      <th>two</th>\n",
       "      <td>-1.342349</td>\n",
       "      <td>-0.700087</td>\n",
       "    </tr>\n",
       "    <tr>\n",
       "      <th rowspan=\"2\" valign=\"top\">baz</th>\n",
       "      <th>one</th>\n",
       "      <td> 0.811508</td>\n",
       "      <td>-0.058965</td>\n",
       "    </tr>\n",
       "    <tr>\n",
       "      <th>two</th>\n",
       "      <td> 0.337480</td>\n",
       "      <td> 1.236764</td>\n",
       "    </tr>\n",
       "  </tbody>\n",
       "</table>\n",
       "</div>"
      ],
      "text/plain": [
       "                     A         B\n",
       "first second                    \n",
       "bar   one     1.016842  1.446916\n",
       "      two    -1.342349 -0.700087\n",
       "baz   one     0.811508 -0.058965\n",
       "      two     0.337480  1.236764"
      ]
     },
     "execution_count": 96,
     "metadata": {},
     "output_type": "execute_result"
    }
   ],
   "source": [
    "stacked.unstack()"
   ]
  },
  {
   "cell_type": "code",
   "execution_count": 97,
   "metadata": {
    "collapsed": false
   },
   "outputs": [
    {
     "data": {
      "text/html": [
       "<div style=\"max-height:1000px;max-width:1500px;overflow:auto;\">\n",
       "<table border=\"1\" class=\"dataframe\">\n",
       "  <thead>\n",
       "    <tr style=\"text-align: right;\">\n",
       "      <th></th>\n",
       "      <th>second</th>\n",
       "      <th>one</th>\n",
       "      <th>two</th>\n",
       "    </tr>\n",
       "    <tr>\n",
       "      <th>first</th>\n",
       "      <th></th>\n",
       "      <th></th>\n",
       "      <th></th>\n",
       "    </tr>\n",
       "  </thead>\n",
       "  <tbody>\n",
       "    <tr>\n",
       "      <th rowspan=\"2\" valign=\"top\">bar</th>\n",
       "      <th>A</th>\n",
       "      <td> 1.016842</td>\n",
       "      <td>-1.342349</td>\n",
       "    </tr>\n",
       "    <tr>\n",
       "      <th>B</th>\n",
       "      <td> 1.446916</td>\n",
       "      <td>-0.700087</td>\n",
       "    </tr>\n",
       "    <tr>\n",
       "      <th rowspan=\"2\" valign=\"top\">baz</th>\n",
       "      <th>A</th>\n",
       "      <td> 0.811508</td>\n",
       "      <td> 0.337480</td>\n",
       "    </tr>\n",
       "    <tr>\n",
       "      <th>B</th>\n",
       "      <td>-0.058965</td>\n",
       "      <td> 1.236764</td>\n",
       "    </tr>\n",
       "  </tbody>\n",
       "</table>\n",
       "</div>"
      ],
      "text/plain": [
       "second        one       two\n",
       "first                      \n",
       "bar   A  1.016842 -1.342349\n",
       "      B  1.446916 -0.700087\n",
       "baz   A  0.811508  0.337480\n",
       "      B -0.058965  1.236764"
      ]
     },
     "execution_count": 97,
     "metadata": {},
     "output_type": "execute_result"
    }
   ],
   "source": [
    "stacked.unstack(1)"
   ]
  },
  {
   "cell_type": "code",
   "execution_count": 98,
   "metadata": {
    "collapsed": false
   },
   "outputs": [
    {
     "data": {
      "text/html": [
       "<div style=\"max-height:1000px;max-width:1500px;overflow:auto;\">\n",
       "<table border=\"1\" class=\"dataframe\">\n",
       "  <thead>\n",
       "    <tr style=\"text-align: right;\">\n",
       "      <th></th>\n",
       "      <th>first</th>\n",
       "      <th>bar</th>\n",
       "      <th>baz</th>\n",
       "    </tr>\n",
       "    <tr>\n",
       "      <th>second</th>\n",
       "      <th></th>\n",
       "      <th></th>\n",
       "      <th></th>\n",
       "    </tr>\n",
       "  </thead>\n",
       "  <tbody>\n",
       "    <tr>\n",
       "      <th rowspan=\"2\" valign=\"top\">one</th>\n",
       "      <th>A</th>\n",
       "      <td> 1.016842</td>\n",
       "      <td> 0.811508</td>\n",
       "    </tr>\n",
       "    <tr>\n",
       "      <th>B</th>\n",
       "      <td> 1.446916</td>\n",
       "      <td>-0.058965</td>\n",
       "    </tr>\n",
       "    <tr>\n",
       "      <th rowspan=\"2\" valign=\"top\">two</th>\n",
       "      <th>A</th>\n",
       "      <td>-1.342349</td>\n",
       "      <td> 0.337480</td>\n",
       "    </tr>\n",
       "    <tr>\n",
       "      <th>B</th>\n",
       "      <td>-0.700087</td>\n",
       "      <td> 1.236764</td>\n",
       "    </tr>\n",
       "  </tbody>\n",
       "</table>\n",
       "</div>"
      ],
      "text/plain": [
       "first          bar       baz\n",
       "second                      \n",
       "one    A  1.016842  0.811508\n",
       "       B  1.446916 -0.058965\n",
       "two    A -1.342349  0.337480\n",
       "       B -0.700087  1.236764"
      ]
     },
     "execution_count": 98,
     "metadata": {},
     "output_type": "execute_result"
    }
   ],
   "source": [
    "stacked.unstack(0)"
   ]
  },
  {
   "cell_type": "markdown",
   "metadata": {},
   "source": [
    "##Categoricals\n",
    "see the [categorical introduction](http://pandas.pydata.org/pandas-docs/version/0.15.2/categorical.html#categorical) and the [API documentation](http://pandas.pydata.org/pandas-docs/version/0.15.2/api.html#api-categorical)."
   ]
  },
  {
   "cell_type": "code",
   "execution_count": 35,
   "metadata": {
    "collapsed": false
   },
   "outputs": [
    {
     "data": {
      "text/plain": [
       "0    a\n",
       "1    b\n",
       "2    b\n",
       "3    a\n",
       "4    a\n",
       "5    e\n",
       "Name: grade, dtype: category\n",
       "Categories (3, object): [a < b < e]"
      ]
     },
     "execution_count": 35,
     "metadata": {},
     "output_type": "execute_result"
    }
   ],
   "source": [
    "df = pd.DataFrame({\"id\":[1,2,3,4,5,6], \"raw_grade\":['a', 'b', 'b', 'a', 'a', 'e']})\n",
    "# Convert the raw grades to a categorical data type.\n",
    "df[\"grade\"] = df[\"raw_grade\"].astype(\"category\")\n",
    "df[\"grade\"]"
   ]
  },
  {
   "cell_type": "markdown",
   "metadata": {},
   "source": [
    "Rename the categories to more meaningful names (assigning to Series.cat.categories is in place!) Reorder the categories and simultaneously add the missing categories (methods under Series .cat return a new Series per default)."
   ]
  },
  {
   "cell_type": "code",
   "execution_count": 36,
   "metadata": {
    "collapsed": false
   },
   "outputs": [
    {
     "data": {
      "text/plain": [
       "0    very good\n",
       "1         good\n",
       "2         good\n",
       "3    very good\n",
       "4    very good\n",
       "5     very bad\n",
       "Name: grade, dtype: category\n",
       "Categories (5, object): [very bad < bad < medium < good < very good]"
      ]
     },
     "execution_count": 36,
     "metadata": {},
     "output_type": "execute_result"
    }
   ],
   "source": [
    "df[\"grade\"].cat.categories = [\"very good\", \"good\", \"very bad\"]\n",
    "df[\"grade\"] = df[\"grade\"].cat.set_categories([\"very bad\", \"bad\", \"medium\", \"good\", \"very good\"])\n",
    "df[\"grade\"]"
   ]
  },
  {
   "cell_type": "code",
   "execution_count": 37,
   "metadata": {
    "collapsed": false
   },
   "outputs": [
    {
     "data": {
      "text/html": [
       "<div style=\"max-height:1000px;max-width:1500px;overflow:auto;\">\n",
       "<table border=\"1\" class=\"dataframe\">\n",
       "  <thead>\n",
       "    <tr style=\"text-align: right;\">\n",
       "      <th></th>\n",
       "      <th>id</th>\n",
       "      <th>raw_grade</th>\n",
       "      <th>grade</th>\n",
       "    </tr>\n",
       "  </thead>\n",
       "  <tbody>\n",
       "    <tr>\n",
       "      <th>5</th>\n",
       "      <td> 6</td>\n",
       "      <td> e</td>\n",
       "      <td>  very bad</td>\n",
       "    </tr>\n",
       "    <tr>\n",
       "      <th>1</th>\n",
       "      <td> 2</td>\n",
       "      <td> b</td>\n",
       "      <td>      good</td>\n",
       "    </tr>\n",
       "    <tr>\n",
       "      <th>2</th>\n",
       "      <td> 3</td>\n",
       "      <td> b</td>\n",
       "      <td>      good</td>\n",
       "    </tr>\n",
       "    <tr>\n",
       "      <th>0</th>\n",
       "      <td> 1</td>\n",
       "      <td> a</td>\n",
       "      <td> very good</td>\n",
       "    </tr>\n",
       "    <tr>\n",
       "      <th>3</th>\n",
       "      <td> 4</td>\n",
       "      <td> a</td>\n",
       "      <td> very good</td>\n",
       "    </tr>\n",
       "    <tr>\n",
       "      <th>4</th>\n",
       "      <td> 5</td>\n",
       "      <td> a</td>\n",
       "      <td> very good</td>\n",
       "    </tr>\n",
       "  </tbody>\n",
       "</table>\n",
       "</div>"
      ],
      "text/plain": [
       "   id raw_grade      grade\n",
       "5   6         e   very bad\n",
       "1   2         b       good\n",
       "2   3         b       good\n",
       "0   1         a  very good\n",
       "3   4         a  very good\n",
       "4   5         a  very good"
      ]
     },
     "execution_count": 37,
     "metadata": {},
     "output_type": "execute_result"
    }
   ],
   "source": [
    "# Sorting is per order in the categories, not lexical order.\n",
    "df.sort(\"grade\")"
   ]
  },
  {
   "cell_type": "code",
   "execution_count": 38,
   "metadata": {
    "collapsed": false
   },
   "outputs": [
    {
     "data": {
      "text/plain": [
       "grade\n",
       "very bad      1\n",
       "bad         NaN\n",
       "medium      NaN\n",
       "good          2\n",
       "very good     3\n",
       "dtype: float64"
      ]
     },
     "execution_count": 38,
     "metadata": {},
     "output_type": "execute_result"
    }
   ],
   "source": [
    "# Grouping by a categorical column shows also empty categories.\n",
    "df.groupby(\"grade\").size()"
   ]
  },
  {
   "cell_type": "markdown",
   "metadata": {},
   "source": [
    "##Pivot tables\n",
    "See the section on [Pivot Tables](http://pandas.pydata.org/pandas-docs/version/0.15.2/reshaping.html#reshaping-pivot)."
   ]
  },
  {
   "cell_type": "code",
   "execution_count": 99,
   "metadata": {
    "collapsed": false
   },
   "outputs": [
    {
     "data": {
      "text/html": [
       "<div style=\"max-height:1000px;max-width:1500px;overflow:auto;\">\n",
       "<table border=\"1\" class=\"dataframe\">\n",
       "  <thead>\n",
       "    <tr style=\"text-align: right;\">\n",
       "      <th></th>\n",
       "      <th>A</th>\n",
       "      <th>B</th>\n",
       "      <th>C</th>\n",
       "      <th>D</th>\n",
       "      <th>E</th>\n",
       "    </tr>\n",
       "  </thead>\n",
       "  <tbody>\n",
       "    <tr>\n",
       "      <th>0 </th>\n",
       "      <td>   one</td>\n",
       "      <td> A</td>\n",
       "      <td> foo</td>\n",
       "      <td> 0.220966</td>\n",
       "      <td>-0.407925</td>\n",
       "    </tr>\n",
       "    <tr>\n",
       "      <th>1 </th>\n",
       "      <td>   one</td>\n",
       "      <td> B</td>\n",
       "      <td> foo</td>\n",
       "      <td> 0.717566</td>\n",
       "      <td> 0.335522</td>\n",
       "    </tr>\n",
       "    <tr>\n",
       "      <th>2 </th>\n",
       "      <td>   two</td>\n",
       "      <td> C</td>\n",
       "      <td> foo</td>\n",
       "      <td> 0.273564</td>\n",
       "      <td>-0.904677</td>\n",
       "    </tr>\n",
       "    <tr>\n",
       "      <th>3 </th>\n",
       "      <td> three</td>\n",
       "      <td> A</td>\n",
       "      <td> bar</td>\n",
       "      <td>-1.523647</td>\n",
       "      <td>-1.088773</td>\n",
       "    </tr>\n",
       "    <tr>\n",
       "      <th>4 </th>\n",
       "      <td>   one</td>\n",
       "      <td> B</td>\n",
       "      <td> bar</td>\n",
       "      <td>-1.980749</td>\n",
       "      <td>-0.375930</td>\n",
       "    </tr>\n",
       "    <tr>\n",
       "      <th>5 </th>\n",
       "      <td>   one</td>\n",
       "      <td> C</td>\n",
       "      <td> bar</td>\n",
       "      <td>-0.417124</td>\n",
       "      <td>-0.289410</td>\n",
       "    </tr>\n",
       "    <tr>\n",
       "      <th>6 </th>\n",
       "      <td>   two</td>\n",
       "      <td> A</td>\n",
       "      <td> foo</td>\n",
       "      <td> 0.006494</td>\n",
       "      <td>-0.415106</td>\n",
       "    </tr>\n",
       "    <tr>\n",
       "      <th>7 </th>\n",
       "      <td> three</td>\n",
       "      <td> B</td>\n",
       "      <td> foo</td>\n",
       "      <td>-0.785600</td>\n",
       "      <td>-0.970769</td>\n",
       "    </tr>\n",
       "    <tr>\n",
       "      <th>8 </th>\n",
       "      <td>   one</td>\n",
       "      <td> C</td>\n",
       "      <td> foo</td>\n",
       "      <td>-0.493092</td>\n",
       "      <td> 0.351793</td>\n",
       "    </tr>\n",
       "    <tr>\n",
       "      <th>9 </th>\n",
       "      <td>   one</td>\n",
       "      <td> A</td>\n",
       "      <td> bar</td>\n",
       "      <td>-0.058732</td>\n",
       "      <td>-0.292374</td>\n",
       "    </tr>\n",
       "    <tr>\n",
       "      <th>10</th>\n",
       "      <td>   two</td>\n",
       "      <td> B</td>\n",
       "      <td> bar</td>\n",
       "      <td> 0.112476</td>\n",
       "      <td> 0.722768</td>\n",
       "    </tr>\n",
       "    <tr>\n",
       "      <th>11</th>\n",
       "      <td> three</td>\n",
       "      <td> C</td>\n",
       "      <td> bar</td>\n",
       "      <td> 1.494698</td>\n",
       "      <td>-1.277602</td>\n",
       "    </tr>\n",
       "  </tbody>\n",
       "</table>\n",
       "</div>"
      ],
      "text/plain": [
       "        A  B    C         D         E\n",
       "0     one  A  foo  0.220966 -0.407925\n",
       "1     one  B  foo  0.717566  0.335522\n",
       "2     two  C  foo  0.273564 -0.904677\n",
       "3   three  A  bar -1.523647 -1.088773\n",
       "4     one  B  bar -1.980749 -0.375930\n",
       "5     one  C  bar -0.417124 -0.289410\n",
       "6     two  A  foo  0.006494 -0.415106\n",
       "7   three  B  foo -0.785600 -0.970769\n",
       "8     one  C  foo -0.493092  0.351793\n",
       "9     one  A  bar -0.058732 -0.292374\n",
       "10    two  B  bar  0.112476  0.722768\n",
       "11  three  C  bar  1.494698 -1.277602"
      ]
     },
     "execution_count": 99,
     "metadata": {},
     "output_type": "execute_result"
    }
   ],
   "source": [
    "df = pd.DataFrame({'A' : ['one', 'one', 'two', 'three'] * 3,\n",
    "                   'B' : ['A', 'B', 'C'] * 4,\n",
    "                   'C' : ['foo', 'foo', 'foo', 'bar', 'bar', 'bar'] * 2,\n",
    "                   'D' : np.random.randn(12),\n",
    "                   'E' : np.random.randn(12)})\n",
    "df"
   ]
  },
  {
   "cell_type": "code",
   "execution_count": 100,
   "metadata": {
    "collapsed": false
   },
   "outputs": [
    {
     "data": {
      "text/html": [
       "<div style=\"max-height:1000px;max-width:1500px;overflow:auto;\">\n",
       "<table border=\"1\" class=\"dataframe\">\n",
       "  <thead>\n",
       "    <tr style=\"text-align: right;\">\n",
       "      <th></th>\n",
       "      <th>C</th>\n",
       "      <th>bar</th>\n",
       "      <th>foo</th>\n",
       "    </tr>\n",
       "    <tr>\n",
       "      <th>A</th>\n",
       "      <th>B</th>\n",
       "      <th></th>\n",
       "      <th></th>\n",
       "    </tr>\n",
       "  </thead>\n",
       "  <tbody>\n",
       "    <tr>\n",
       "      <th rowspan=\"3\" valign=\"top\">one</th>\n",
       "      <th>A</th>\n",
       "      <td>-0.058732</td>\n",
       "      <td> 0.220966</td>\n",
       "    </tr>\n",
       "    <tr>\n",
       "      <th>B</th>\n",
       "      <td>-1.980749</td>\n",
       "      <td> 0.717566</td>\n",
       "    </tr>\n",
       "    <tr>\n",
       "      <th>C</th>\n",
       "      <td>-0.417124</td>\n",
       "      <td>-0.493092</td>\n",
       "    </tr>\n",
       "    <tr>\n",
       "      <th rowspan=\"3\" valign=\"top\">three</th>\n",
       "      <th>A</th>\n",
       "      <td>-1.523647</td>\n",
       "      <td>      NaN</td>\n",
       "    </tr>\n",
       "    <tr>\n",
       "      <th>B</th>\n",
       "      <td>      NaN</td>\n",
       "      <td>-0.785600</td>\n",
       "    </tr>\n",
       "    <tr>\n",
       "      <th>C</th>\n",
       "      <td> 1.494698</td>\n",
       "      <td>      NaN</td>\n",
       "    </tr>\n",
       "    <tr>\n",
       "      <th rowspan=\"3\" valign=\"top\">two</th>\n",
       "      <th>A</th>\n",
       "      <td>      NaN</td>\n",
       "      <td> 0.006494</td>\n",
       "    </tr>\n",
       "    <tr>\n",
       "      <th>B</th>\n",
       "      <td> 0.112476</td>\n",
       "      <td>      NaN</td>\n",
       "    </tr>\n",
       "    <tr>\n",
       "      <th>C</th>\n",
       "      <td>      NaN</td>\n",
       "      <td> 0.273564</td>\n",
       "    </tr>\n",
       "  </tbody>\n",
       "</table>\n",
       "</div>"
      ],
      "text/plain": [
       "C             bar       foo\n",
       "A     B                    \n",
       "one   A -0.058732  0.220966\n",
       "      B -1.980749  0.717566\n",
       "      C -0.417124 -0.493092\n",
       "three A -1.523647       NaN\n",
       "      B       NaN -0.785600\n",
       "      C  1.494698       NaN\n",
       "two   A       NaN  0.006494\n",
       "      B  0.112476       NaN\n",
       "      C       NaN  0.273564"
      ]
     },
     "execution_count": 100,
     "metadata": {},
     "output_type": "execute_result"
    }
   ],
   "source": [
    "pd.pivot_table(df, values='D', index=['A', 'B'], columns=['C'])\n"
   ]
  },
  {
   "cell_type": "markdown",
   "metadata": {},
   "source": [
    "Reconstruct the sampled presented in the pages at [Pandas Pivot Table Explained ](http://pbpython.com/pandas-pivot-table-explained.html) and [Generating Excel Reports from a Pandas Pivot Table ](http://pbpython.com/pandas-pivot-report.html).  \n",
    "\n",
    "First load the data and set the Status column as a pandas `category` and set the viewing order. Set the `Name` as table index."
   ]
  },
  {
   "cell_type": "code",
   "execution_count": 34,
   "metadata": {
    "collapsed": false
   },
   "outputs": [
    {
     "name": "stdout",
     "output_type": "stream",
     "text": [
      "   Account                          Name           Rep       Manager      Product  Quantity  Price     Status\n",
      "0   714466               Trantow-Barrows  Craig Booker  Debra Henley          CPU         1  30000  presented\n",
      "1   714466               Trantow-Barrows  Craig Booker  Debra Henley     Software         1  10000  presented\n",
      "2   714466               Trantow-Barrows  Craig Booker  Debra Henley  Maintenance         2   5000    pending\n",
      "3   737550  Fritsch, Russel and Anderson  Craig Booker  Debra Henley          CPU         1  35000   declined\n",
      "                              Account   Price  Quantity\n",
      "Name                                                   \n",
      "Barton LLC                     740150   35000  1.000000\n",
      "Fritsch, Russel and Anderson   737550   35000  1.000000\n",
      "Herman LLC                     141962   65000  2.000000\n",
      "Jerde-Hilpert                  412290    5000  2.000000\n",
      "Kassulke, Ondricka and Metz    307599    7000  3.000000\n",
      "Keeling LLC                    688981  100000  5.000000\n",
      "Kiehn-Spinka                   146832   65000  2.000000\n",
      "Koepp Ltd                      729833   35000  2.000000\n",
      "Kulas Inc                      218895   25000  1.500000\n",
      "Purdy-Kunde                    163416   30000  1.000000\n",
      "Stokes LLC                     239344    7500  1.000000\n",
      "Trantow-Barrows                714466   15000  1.333333\n"
     ]
    }
   ],
   "source": [
    "df = pd.read_excel(\"./data/sales-funnel.xlsx\")\n",
    "df[\"Status\"] = df[\"Status\"].astype(\"category\")\n",
    "df[\"Status\"].cat.set_categories([\"won\",\"pending\",\"presented\",\"declined\"],inplace=True)\n",
    "print(df.head(4))\n",
    "\n",
    "print(pd.pivot_table(df,index=[\"Name\"]))\n"
   ]
  },
  {
   "cell_type": "markdown",
   "metadata": {},
   "source": [
    "##Comparing and Gotchas\n",
    "<http://pandas.pydata.org/pandas-docs/version/0.15.2/basics.html#basics-compare>  \n",
    "<http://pandas.pydata.org/pandas-docs/version/0.15.2/basics.html#boolean-reductions>   \n",
    "\n",
    "pandas follows the numpy convention of raising an error when you try to convert something to a bool. This happens in a if or when using the boolean operations, and, or, or not.  \n",
    "<http://pandas.pydata.org/pandas-docs/version/0.15.2/gotchas.html#gotchas>\n"
   ]
  },
  {
   "cell_type": "markdown",
   "metadata": {},
   "source": [
    "##Copies and no copies"
   ]
  },
  {
   "cell_type": "code",
   "execution_count": 105,
   "metadata": {
    "collapsed": false
   },
   "outputs": [],
   "source": [
    "#to follow"
   ]
  },
  {
   "cell_type": "markdown",
   "metadata": {},
   "source": [
    "## Python and [module versions, and dates](http://nbviewer.ipython.org/github/jrjohansson/scientific-python-lectures/blob/master/Lecture-0-Scientific-Computing-with-Python.ipynb)"
   ]
  },
  {
   "cell_type": "code",
   "execution_count": 106,
   "metadata": {
    "collapsed": false
   },
   "outputs": [
    {
     "data": {
      "application/json": {
       "Software versions": [
        {
         "module": "Python",
         "version": "2.7.8 32bit [MSC v.1500 32 bit (Intel)]"
        },
        {
         "module": "IPython",
         "version": "3.0.0"
        },
        {
         "module": "OS",
         "version": "Windows 7 6.1.7601 SP1"
        },
        {
         "module": "pandas",
         "version": "0.15.2"
        },
        {
         "module": "numpy",
         "version": "1.9.2"
        },
        {
         "module": "scipy",
         "version": "0.15.1"
        },
        {
         "module": "matplotlib",
         "version": "1.4.3"
        },
        {
         "module": "pyradi",
         "version": "0.1.55"
        }
       ]
      },
      "text/html": [
       "<table><tr><th>Software</th><th>Version</th></tr><tr><td>Python</td><td>2.7.8 32bit [MSC v.1500 32 bit (Intel)]</td></tr><tr><td>IPython</td><td>3.0.0</td></tr><tr><td>OS</td><td>Windows 7 6.1.7601 SP1</td></tr><tr><td>pandas</td><td>0.15.2</td></tr><tr><td>numpy</td><td>1.9.2</td></tr><tr><td>scipy</td><td>0.15.1</td></tr><tr><td>matplotlib</td><td>1.4.3</td></tr><tr><td>pyradi</td><td>0.1.55</td></tr><tr><td colspan='2'>Thu Apr 09 20:22:53 2015 South Africa Standard Time</td></tr></table>"
      ],
      "text/latex": [
       "\\begin{tabular}{|l|l|}\\hline\n",
       "{\\bf Software} & {\\bf Version} \\\\ \\hline\\hline\n",
       "Python & 2.7.8 32bit [MSC v.1500 32 bit (Intel)] \\\\ \\hline\n",
       "IPython & 3.0.0 \\\\ \\hline\n",
       "OS & Windows 7 6.1.7601 SP1 \\\\ \\hline\n",
       "pandas & 0.15.2 \\\\ \\hline\n",
       "numpy & 1.9.2 \\\\ \\hline\n",
       "scipy & 0.15.1 \\\\ \\hline\n",
       "matplotlib & 1.4.3 \\\\ \\hline\n",
       "pyradi & 0.1.55 \\\\ \\hline\n",
       "\\hline \\multicolumn{2}{|l|}{Thu Apr 09 20:22:53 2015 South Africa Standard Time} \\\\ \\hline\n",
       "\\end{tabular}\n"
      ],
      "text/plain": [
       "Software versions\n",
       "Python 2.7.8 32bit [MSC v.1500 32 bit (Intel)]\n",
       "IPython 3.0.0\n",
       "OS Windows 7 6.1.7601 SP1\n",
       "pandas 0.15.2\n",
       "numpy 1.9.2\n",
       "scipy 0.15.1\n",
       "matplotlib 1.4.3\n",
       "pyradi 0.1.55\n",
       "Thu Apr 09 20:22:53 2015 South Africa Standard Time"
      ]
     },
     "execution_count": 106,
     "metadata": {},
     "output_type": "execute_result"
    }
   ],
   "source": [
    "%load_ext version_information\n",
    "%version_information pandas, numpy, scipy, matplotlib, pyradi"
   ]
  }
 ],
 "metadata": {
  "kernelspec": {
   "display_name": "Python 2",
   "language": "python",
   "name": "python2"
  },
  "language_info": {
   "codemirror_mode": {
    "name": "ipython",
    "version": 2
   },
   "file_extension": ".py",
   "mimetype": "text/x-python",
   "name": "python",
   "nbconvert_exporter": "python",
   "pygments_lexer": "ipython2",
   "version": "2.7.8"
  }
 },
 "nbformat": 4,
 "nbformat_minor": 0
}
