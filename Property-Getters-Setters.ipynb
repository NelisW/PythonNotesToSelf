{
 "cells": [
  {
   "cell_type": "markdown",
   "metadata": {},
   "source": [
    "# Property Getters and Setters\n",
    "\n",
    "https://docs.python.org/3/library/functions.html#property\n",
    "\n",
    "https://stackoverflow.com/questions/6618002/using-property-versus-getters-and-setters\n",
    "\n",
    "https://docs.python.org/3/howto/descriptor.html\n",
    "\n",
    "https://stackoverflow.com/questions/38118264/how-can-i-retrieve-the-docstring-for-a-property-of-a-python-class-instance\n",
    "\n"
   ]
  },
  {
   "cell_type": "code",
   "execution_count": 19,
   "metadata": {},
   "outputs": [],
   "source": [
    "import pprint\n",
    "import inspect\n",
    "\n",
    "\n",
    "pp = pprint.PrettyPrinter(indent=4)\n",
    "\n"
   ]
  },
  {
   "cell_type": "markdown",
   "metadata": {},
   "source": [
    "## Python docs\n",
    "\n",
    "https://docs.python.org/3/library/functions.html#property\n",
    "\n",
    "`class property(fget=None, fset=None, fdel=None, doc=None)`\n",
    "\n",
    "Return a property attribute.\n",
    "\n",
    "`fget` is a function for getting an attribute value.   \n",
    "`fset` is a function for setting an attribute value.   \n",
    "`fdel` is a function for deleting an attribute value.  \n",
    "`doc` creates a docstring for the attribute.\n",
    "\n",
    "A typical use is to define a managed attribute x as shown in the code below.\n",
    "\n",
    "If c is an instance of C, `c.x` will invoke the getter, `c.x = value` will invoke the setter and `del(c.x)` the deleter.\n",
    "\n",
    "If given, `doc` will be the docstring of the property attribute. Otherwise, the property will copy fget’s docstring (if it exists).\n",
    "\n",
    "This makes it possible to create read-only properties easily using `property()` as a decorator.\n",
    "In the code below `@property` decorator turns the `voltage()` method into a “getter” for a read-only attribute with the same name, and it sets the docstring for voltage to “Get the current voltage.”\n",
    "\n",
    "\n",
    "Note that because of the lookup rules (see below in Sachin's blog), to get an attribute docstring [you must use](https://stackoverflow.com/questions/38118264/how-can-i-retrieve-the-docstring-for-a-property-of-a-python-class-instance) `__class_`_ to get the class of the instance and then the property, and finally the `__doc__`: `p.__class__.voltage.__doc__` or use `type` to fetch the class.\n"
   ]
  },
  {
   "cell_type": "code",
   "execution_count": 105,
   "metadata": {},
   "outputs": [
    {
     "name": "stdout",
     "output_type": "stream",
     "text": [
      "[('x', <property object at 0x00000000058F4B88>)]\n"
     ]
    }
   ],
   "source": [
    "class C:\n",
    "    def __init__(self):\n",
    "        self._x = None\n",
    "\n",
    "    def getx(self):\n",
    "        return self._x\n",
    "\n",
    "    def setx(self, value):\n",
    "        self._x = value\n",
    "\n",
    "    def delx(self):\n",
    "        del self._x\n",
    "\n",
    "    x = property(getx, setx, delx, \"I'm the 'x' property.\")\n",
    "\n",
    "attributes = inspect.getmembers(C, lambda a:not(inspect.isroutine(a)))\n",
    "# pp.pprint(attributes)\n",
    "# get rid of dunders\n",
    "pp.pprint([a for a in attributes if not(a[0].startswith('__') and a[0].endswith('__'))])"
   ]
  },
  {
   "cell_type": "code",
   "execution_count": 109,
   "metadata": {},
   "outputs": [
    {
     "name": "stdout",
     "output_type": "stream",
     "text": [
      "Create class and print default value of x, using the function\n",
      "None\n",
      "Assign the string \"a\" to x and print using the function\n",
      "a\n",
      "Assign the string \"A\" to x and print using the property attribute\n",
      "A\n",
      "Print the attribute docstring,\n",
      "I'm the 'x' property.\n",
      "\n",
      "Delete x and print using the function / property attribute\n"
     ]
    }
   ],
   "source": [
    "print('Create class and print default value of x, using the function')\n",
    "b = C()\n",
    "print(b.getx())\n",
    "print('Assign the string \"a\" to x and print using the function')\n",
    "b.setx('a')\n",
    "print(b.getx())\n",
    "print('Assign the string \"A\" to x and print using the property attribute')\n",
    "b.x = 'A'\n",
    "print(b.x)\n",
    "print('Print the attribute docstring,')\n",
    "print(b.__class__.x.__doc__)\n",
    "print()\n",
    "print('Delete x and print using the function / property attribute')\n",
    "# b.delx()\n",
    "del(b.x)\n",
    "# print(b.x) # !! will give an error\n"
   ]
  },
  {
   "cell_type": "code",
   "execution_count": 100,
   "metadata": {},
   "outputs": [
    {
     "name": "stdout",
     "output_type": "stream",
     "text": [
      "100000\n",
      "Get the current voltage.\n",
      "Get the current voltage.\n"
     ]
    }
   ],
   "source": [
    "class Parrot:\n",
    "    def __init__(self):\n",
    "        self._volts = 100000\n",
    "\n",
    "    @property\n",
    "    def voltage(self):\n",
    "        \"\"\"Get the current voltage.\"\"\"\n",
    "        return self._volts\n",
    "\n",
    "p = Parrot()\n",
    "print(p.voltage)\n",
    "# this will not work because the setter is not implemented\n",
    "# p.voltage = 0\n",
    "\n",
    "print(p.__class__.voltage.__doc__)\n",
    "print(type(p).voltage.__doc__)\n"
   ]
  },
  {
   "cell_type": "markdown",
   "metadata": {},
   "source": [
    "A property object has `getter`, `setter`, and `deleter` methods usable as decorators that create a copy of the property with the corresponding accessor function set to the decorated function. This is best explained with the code below. \n",
    "This code is exactly equivalent to the first example above. _Be sure to give the additional functions the same name as the original property_ (x in this case.)\n",
    "\n",
    "Changed in version 3.5: The docstrings of property objects are now writeable.\n"
   ]
  },
  {
   "cell_type": "code",
   "execution_count": 110,
   "metadata": {},
   "outputs": [],
   "source": [
    "class C:\n",
    "    def __init__(self):\n",
    "        self._x = None\n",
    "\n",
    "    @property\n",
    "    def x(self):\n",
    "        \"\"\"I'm the 'x' property.\"\"\"\n",
    "        return self._x\n",
    "\n",
    "    @x.setter\n",
    "    def x(self, value):\n",
    "        self._x = value\n",
    "\n",
    "    @x.deleter\n",
    "    def x(self):\n",
    "        del self._x"
   ]
  },
  {
   "cell_type": "code",
   "execution_count": 116,
   "metadata": {},
   "outputs": [
    {
     "name": "stdout",
     "output_type": "stream",
     "text": [
      "Create class and print default value of x, using the function\n",
      "None\n",
      "Assign the string \"a\" to x and print using the function\n",
      "a\n",
      "Assign the string \"A\" to x and print using the property attribute\n",
      "A\n",
      "Print the attribute docstring,\n",
      "I'm the 'x' property.\n",
      "\n",
      "Delete x and print using the function / property attribute\n"
     ]
    }
   ],
   "source": [
    "print('Create class and print default value of x, using the function')\n",
    "b = C()\n",
    "print(b.x)\n",
    "print('Assign the string \"a\" to x and print using the function')\n",
    "b.x = 'a'\n",
    "print(b.x)\n",
    "print('Assign the string \"A\" to x and print using the property attribute')\n",
    "b.x = 'A'\n",
    "print(b.x)\n",
    "print('Print the attribute docstring,')\n",
    "print(b.__class__.x.__doc__)\n",
    "print()\n",
    "print('Delete x and print using the function / property attribute')\n",
    "# b.delx()\n",
    "del(b.x)\n",
    "# print(b.x) # !! will give an error\n"
   ]
  },
  {
   "cell_type": "code",
   "execution_count": null,
   "metadata": {},
   "outputs": [],
   "source": []
  },
  {
   "cell_type": "markdown",
   "metadata": {},
   "source": [
    "## Sachin's blog\n",
    "\n",
    "https://codesachin.wordpress.com/2016/06/09/the-magic-behind-attribute-access-in-python/  \n",
    "https://stackoverflow.com/questions/25440694/whats-the-purpose-of-dictproxy\n",
    "    \n",
    "Most people know just one thing when it comes to attribute access – the dot ‘.’ (as in `x.some_attribute`). In simple terms, attribute access is the way you retrieve an object linked to the one you already have. To someone who uses Python without delving too much into the details, it may seem pretty straightforward. However, under the hood, theres a lot that goes on for this seemingly trivial task.    \n",
    "\n",
    "Every object in Python has an attribute denoted by `__dict__`. This dictionary/dictionary-like object contains all the attributes defined for the object itself. It maps the attribute name to its value."
   ]
  },
  {
   "cell_type": "code",
   "execution_count": 79,
   "metadata": {},
   "outputs": [
    {
     "data": {
      "text/plain": [
       "{'y': 5}"
      ]
     },
     "execution_count": 79,
     "metadata": {},
     "output_type": "execute_result"
    }
   ],
   "source": [
    " class C(object):\n",
    "    x = 4\n",
    "\n",
    "c = C()\n",
    "c.y = 5\n",
    "c.__dict__"
   ]
  },
  {
   "cell_type": "markdown",
   "metadata": {},
   "source": [
    "Notice how 'x' is not in `c.__dict__`. The reason for this is simple enough. While y was defined for the object c, x was defined for its class (C). Therefore, it will appear in the `__dict__` of C. In fact, C‘s `__dict__` contains a lot of other keys too (including '`__dict__`'):\n"
   ]
  },
  {
   "cell_type": "code",
   "execution_count": 80,
   "metadata": {},
   "outputs": [
    {
     "data": {
      "text/plain": [
       "4"
      ]
     },
     "execution_count": 80,
     "metadata": {},
     "output_type": "execute_result"
    }
   ],
   "source": [
    "c.__class__.__dict__['x']"
   ]
  },
  {
   "cell_type": "code",
   "execution_count": 83,
   "metadata": {},
   "outputs": [
    {
     "data": {
      "text/plain": [
       "mappingproxy({'__module__': '__main__',\n",
       "              'x': 4,\n",
       "              '__dict__': <attribute '__dict__' of 'C' objects>,\n",
       "              '__weakref__': <attribute '__weakref__' of 'C' objects>,\n",
       "              '__doc__': None})"
      ]
     },
     "execution_count": 83,
     "metadata": {},
     "output_type": "execute_result"
    }
   ],
   "source": [
    "C.__dict__"
   ]
  },
  {
   "cell_type": "code",
   "execution_count": 85,
   "metadata": {},
   "outputs": [
    {
     "name": "stdout",
     "output_type": "stream",
     "text": [
      "<class 'mappingproxy'>\n"
     ]
    },
    {
     "data": {
      "text/plain": [
       "mappingproxy({'__module__': '__main__',\n",
       "              'x': 4,\n",
       "              '__dict__': <attribute '__dict__' of 'C' objects>,\n",
       "              '__weakref__': <attribute '__weakref__' of 'C' objects>,\n",
       "              '__doc__': None})"
      ]
     },
     "execution_count": 85,
     "metadata": {},
     "output_type": "execute_result"
    }
   ],
   "source": [
    "print(type(c.__class__.__dict__))\n",
    "c.__class__.__dict__"
   ]
  },
  {
   "cell_type": "markdown",
   "metadata": {},
   "source": [
    "We will look at `mappingproxy` below. It used to be called `dictproxy` in older documentation.\n",
    "\n",
    "The `__dict__` of an object is simple enough to understand. It behaves like a Python dict, and is one too.\n",
    "The `__dict__` of a class however, is not that straight-forward. Its actually an object of a class called `mappingproxy`. `mappingproxy` is a special class whose objects behave like normal dicts, but they differ in some key behaviours. It does not support assignment and is not writeable.\n",
    "\n",
    "You cannot set a key in a dictproxy directly (`C.__dict__['x'] = 4` does not work). You can accomplish the same using `C.x = 6` however, since the internal behaviour then is different. You cannot set the `__dict__` attribute itself either(`C.__dict__ = {}` does not work)."
   ]
  },
  {
   "cell_type": "markdown",
   "metadata": {},
   "source": [
    "A descriptor is an object that has atleast one of the following magic methods in its attributes: `__get__`, `__set__` or `__delete__`.\n",
    "Descriptors can help you define the behaviour of an object’s attribute in Python. With each of the magic methods just mentioned, you implement how the attribute (‘described’ by the descriptor) will be retrieved, set and deleted in the object respectively.    \n",
    "\n",
    "There are two types of descriptors:  Non-Data Descriptors (only have `__get__` defined) and Data Descriptors (more than just `__get__` defined).\n",
    "\n",
    "Descriptors are used for a lot of attribute and method related functionality in Python, including static methods, class methods and properties. Using descriptors, you can gain better control over how attributes and methods of a class/its objects are accessed - including defining some ‘behind the scenes’ functionality like logging.\n",
    "\n",
    "Now lets look at the high-level rules governing attribute access (getting) in Python.\n",
    "The workflow is as follows:\n",
    "\n",
    "1. If attrname is a special (i.e. Python-provided) attribute for objectname, return it.\n",
    "1. Check `objectname.__class__.__dict__` for attrname. If it exists and is a data-descriptor, return the descriptor result. Search all bases of `objectname.__class__` for the same case.\n",
    "1. Check `objectname.__dict__` for attrname, and return if found. If objectname is a class, search its bases too. If it is a class and a descriptor exists in it or its bases, return the descriptor result.\n",
    "1. Check `objectname.__class__.__dict__` for attrname. If it exists and is a non-data descriptor, return the descriptor result. If it exists, and is not a descriptor, just return it. If it exists and is a data descriptor, we shouldn’t be here because we would have returned at point 2. Search all bases of `objectname.__class__` for same case.\n",
    "1. Raise AttributeError\n",
    "\n",
    "Rules for setting attributes\n",
    "\n",
    "1. Check `objectname.__class__.__dict__` for attrname. If it exists and is a data-descriptor, use the descriptor to set the value. Search all bases of `objectname.__class__` for the same case.\n",
    "1. Insert something into `objectname.__dict__` for key \"attrname\".\n",
    "\n",
    "`__slots__` is a way to disallow objects from having their own `__dict__` in Python. This means, that if you define `__slots__` in a Class, then you cannot set arbitrary attributes(apart from the ones mentioned in the ‘slots’) on its objects.\n",
    "\n"
   ]
  },
  {
   "cell_type": "code",
   "execution_count": null,
   "metadata": {},
   "outputs": [],
   "source": []
  },
  {
   "cell_type": "code",
   "execution_count": null,
   "metadata": {},
   "outputs": [],
   "source": []
  },
  {
   "cell_type": "code",
   "execution_count": null,
   "metadata": {},
   "outputs": [],
   "source": []
  },
  {
   "cell_type": "code",
   "execution_count": null,
   "metadata": {},
   "outputs": [],
   "source": []
  },
  {
   "cell_type": "code",
   "execution_count": null,
   "metadata": {},
   "outputs": [],
   "source": []
  },
  {
   "cell_type": "code",
   "execution_count": null,
   "metadata": {},
   "outputs": [],
   "source": []
  },
  {
   "cell_type": "code",
   "execution_count": null,
   "metadata": {},
   "outputs": [],
   "source": []
  },
  {
   "cell_type": "code",
   "execution_count": null,
   "metadata": {},
   "outputs": [],
   "source": []
  }
 ],
 "metadata": {
  "kernelspec": {
   "display_name": "Python 3",
   "language": "python",
   "name": "python3"
  },
  "language_info": {
   "codemirror_mode": {
    "name": "ipython",
    "version": 3
   },
   "file_extension": ".py",
   "mimetype": "text/x-python",
   "name": "python",
   "nbconvert_exporter": "python",
   "pygments_lexer": "ipython3",
   "version": "3.7.1"
  }
 },
 "nbformat": 4,
 "nbformat_minor": 2
}
