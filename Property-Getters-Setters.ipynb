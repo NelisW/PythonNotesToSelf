{
 "cells": [
  {
   "cell_type": "markdown",
   "metadata": {},
   "source": [
    "# Property Getters and Setters\n",
    "\n",
    "https://docs.python.org/3/library/functions.html#property  \n",
    "https://docs.python.org/3/howto/descriptor.html  \n",
    "https://stackoverflow.com/questions/6618002/using-property-versus-getters-and-setters  \n",
    "https://stackoverflow.com/questions/38118264/how-can-i-retrieve-the-docstring-for-a-property-of-a-python-class-instance  \n",
    "https://www.blog.pythonlibrary.org/2016/06/10/python-201-what-are-descriptors/\n"
   ]
  },
  {
   "cell_type": "code",
   "execution_count": 137,
   "metadata": {},
   "outputs": [],
   "source": [
    "import pprint\n",
    "import inspect\n",
    "\n",
    "pp = pprint.PrettyPrinter(indent=4)\n"
   ]
  },
  {
   "cell_type": "markdown",
   "metadata": {},
   "source": [
    "## What's the difference between a Python “property” and “attribute”?\n",
    "\n",
    "https://stackoverflow.com/questions/7374748/whats-the-difference-between-a-python-property-and-attribute  \n",
    "https://www.python-course.eu/python3_properties.php  \n",
    "\n",
    "Properties are a special kind of attribute. Basically, when Python encounters the following code:\n",
    "\n",
    "    spam = SomeObject()\n",
    "    print(spam.eggs)\n",
    "\n",
    "it looks up `eggs` in spam, and then examines `eggs` to see if it has a` __get__`, `__set__`, or `__delete__` method - if it does, it's a property. If it is a property, instead of just returning the `eggs` object (as it would for any other attribute) it will call the `__get__` method (since we were doing lookup) and return whatever that method returns.\n",
    "\n",
    "With a property you have complete control on its getter, setter and deleter methods, which you don't have (if not using caveats) with an attribute.\n",
    "\n",
    "1. Property is a more convenient way to do data encapsulation.\n",
    "\n",
    "    Example: If your have a public attribute `length` of Object, later on, your project requires you to encapsulate it, i.e: change it to private and provide getter and setter => you have to change many of the codes you wrote before:\n",
    "\n",
    "        #Old codes\n",
    "        obj1.length = obj1.length+obj2.length\n",
    "        \n",
    "        #New codes(Using private attibutes and getter and setter)\n",
    "        obj1.set_length(obj1.get_length()+obj2.get_length())  # => this is ugly\n",
    "        \n",
    "\n",
    "    If you use `@property` and `@length.setter` => you don't need to change those old codes\n",
    "\n",
    "2. A property can access and encapsulate multiple attributes. In the Person example below  `__physic_health` and` __mental_health` are private and can not be accessed directly from out side, the only way outside class interact with them is through a property condition"
   ]
  },
  {
   "cell_type": "code",
   "execution_count": 138,
   "metadata": {},
   "outputs": [
    {
     "name": "stdout",
     "output_type": "stream",
     "text": [
      "me\n",
      "I feel bad!\n"
     ]
    }
   ],
   "source": [
    "class Person:\n",
    "  def __init__(self, name, physic_health, mental_health):\n",
    "    self.name=name\n",
    "    self.__physic_health = physic_health #physic_health is real value in range [0, 5.0]\n",
    "    self.__mental_health = mental_health #mental_health is real value in range [0, 5.0]\n",
    "\n",
    "  @property\n",
    "  def condition(self):\n",
    "    health = self.__physic_health+self.__mental_health\n",
    "    if(health < 5.0):\n",
    "      return \"I feel bad!\"\n",
    "    elif health < 8.0:\n",
    "      return \"I am ok!\"\n",
    "    else:\n",
    "      return \"Great!\"\n",
    "\n",
    "p = Person('me',2,2)\n",
    "print(p.name)\n",
    "# print(p.__physic_health) # won't work\n",
    "print(p.condition)"
   ]
  },
  {
   "cell_type": "markdown",
   "metadata": {},
   "source": [
    "We often have a function connected to class attribute. For instance i need to read file once and keep content assigned to the attribute so the value is cached. Using a property will cause attribute's value refresh each time you access it:"
   ]
  },
  {
   "cell_type": "code",
   "execution_count": 139,
   "metadata": {},
   "outputs": [
    {
     "name": "stdout",
     "output_type": "stream",
     "text": [
      "func running\n",
      "func value\n",
      "func running\n",
      "func value\n"
     ]
    }
   ],
   "source": [
    "class Misc():\n",
    "\n",
    "    @property\n",
    "    def test(self):\n",
    "        print('func running')\n",
    "        return 'func value'\n",
    "\n",
    "cl = Misc()\n",
    "print(cl.test)\n",
    "print(cl.test)"
   ]
  },
  {
   "cell_type": "markdown",
   "metadata": {},
   "source": [
    "## Descriptor Design Pattern for Properties\n",
    "\n",
    "http://buildingskills.itmaybeahack.com/book/python-2.6/html/p03/p03c05_properties.html  \n",
    "https://stackoverflow.com/questions/17330160/how-does-the-property-decorator-work  \n",
    "https://docs.python.org/3/howto/descriptor.html  \n",
    "\n",
    "A Descriptor is a class which provides the detailed get, set and delete control over an attribute of another object. This allows you to define attributes which are fairly complex objects in their own right. The idea is that we can use simple attribute references in a program, but those simple references are actually method functions of a descriptor object.\n",
    "\n",
    "The Descriptor design pattern has two parts: an Owner and an attribute Descriptor. The Owner is usually a relatively complex object that uses one or more Descriptors for its attributes. A Descriptor class defines get, set and delete methods for a class of attributes of the Owner. Each Descriptor object manages a specific attribute. Note that Descriptors will tend to be reusable, generic classes of attributes. The Owner can have multiple instances of each Descriptor class to manage attributes with similar behaviors. Each Descriptor object is a unique instance of a Descriptor class, bound to a distinct attribute name when the Owner class is defined.'\n",
    "\n",
    "The `property()` function returns a special descriptor object.\n",
    "These act as decorators too. They return a new property object.\n",
    "Remember, that the `@decorator` syntax is just syntactic sugar; the syntax:\n",
    "\n",
    "    @property\n",
    "    def foo(self): \n",
    "        return self._foo\n",
    "\n",
    "really means the same thing as\n",
    "\n",
    "    def foo(self): \n",
    "        return self._foo\n",
    "    foo = property(foo)\n",
    "\n",
    "so `foo` the function is replaced by `property(foo)`, which we saw above is a special object. Then when you use `@foo.setter()`, what you are doing is call that `property().setter` method, which returns a new copy of the property, but this time with the setter function replaced with the decorated method.\n"
   ]
  },
  {
   "cell_type": "code",
   "execution_count": 140,
   "metadata": {},
   "outputs": [
    {
     "name": "stdout",
     "output_type": "stream",
     "text": [
      "<property object at 0x00000000062EBA98>\n",
      "<built-in method getter of property object at 0x00000000062EBA98>\n",
      "<built-in method setter of property object at 0x00000000062EBA98>\n",
      "<built-in method deleter of property object at 0x00000000062EBA98>\n"
     ]
    }
   ],
   "source": [
    "print(property())\n",
    "print(property().getter)\n",
    "print(property().setter)\n",
    "print(property().deleter)\n"
   ]
  },
  {
   "cell_type": "markdown",
   "metadata": {},
   "source": [
    "https://stackoverflow.com/questions/6193556/how-do-python-properties-work\n",
    "\n",
    "In order for `@properties` to work properly the class needs to be a subclass of `object`. when the class is not a subclass of `object` then the first time you try access the setter it actually makes a new attribute with the shorter name instead of accessing through the setter. "
   ]
  },
  {
   "cell_type": "markdown",
   "metadata": {},
   "source": [
    "## Sachin's blog\n",
    "\n",
    "https://codesachin.wordpress.com/2016/06/09/the-magic-behind-attribute-access-in-python/  \n",
    "https://stackoverflow.com/questions/25440694/whats-the-purpose-of-dictproxy\n",
    "    \n",
    "Most people know just one thing when it comes to attribute access – the dot ‘.’ (as in `x.some_attribute`). In simple terms, attribute access is the way you retrieve an object linked to the one you already have. To someone who uses Python without delving too much into the details, it may seem pretty straightforward. However, under the hood, theres a lot that goes on for this seemingly trivial task.    \n",
    "\n",
    "Every object in Python has an attribute denoted by `__dict__`. This dictionary/dictionary-like object contains all the attributes defined for the object itself. It maps the attribute name to its value."
   ]
  },
  {
   "cell_type": "code",
   "execution_count": 141,
   "metadata": {},
   "outputs": [
    {
     "data": {
      "text/plain": [
       "{'y': 5}"
      ]
     },
     "execution_count": 141,
     "metadata": {},
     "output_type": "execute_result"
    }
   ],
   "source": [
    " class C(object):\n",
    "    x = 4\n",
    "\n",
    "c = C()\n",
    "c.y = 5\n",
    "c.__dict__"
   ]
  },
  {
   "cell_type": "markdown",
   "metadata": {},
   "source": [
    "Notice how 'x' is not in `c.__dict__`. The reason for this is simple enough. While y was defined for the object c, x was defined for its class (C). Therefore, it will appear in the `__dict__` of C. In fact, C‘s `__dict__` contains a lot of other keys too (including '`__dict__`'):\n"
   ]
  },
  {
   "cell_type": "code",
   "execution_count": 142,
   "metadata": {},
   "outputs": [
    {
     "data": {
      "text/plain": [
       "4"
      ]
     },
     "execution_count": 142,
     "metadata": {},
     "output_type": "execute_result"
    }
   ],
   "source": [
    "c.__class__.__dict__['x']"
   ]
  },
  {
   "cell_type": "code",
   "execution_count": 143,
   "metadata": {},
   "outputs": [
    {
     "data": {
      "text/plain": [
       "mappingproxy({'__module__': '__main__',\n",
       "              'x': 4,\n",
       "              '__dict__': <attribute '__dict__' of 'C' objects>,\n",
       "              '__weakref__': <attribute '__weakref__' of 'C' objects>,\n",
       "              '__doc__': None})"
      ]
     },
     "execution_count": 143,
     "metadata": {},
     "output_type": "execute_result"
    }
   ],
   "source": [
    "C.__dict__"
   ]
  },
  {
   "cell_type": "code",
   "execution_count": 144,
   "metadata": {},
   "outputs": [
    {
     "name": "stdout",
     "output_type": "stream",
     "text": [
      "<class 'mappingproxy'>\n"
     ]
    },
    {
     "data": {
      "text/plain": [
       "mappingproxy({'__module__': '__main__',\n",
       "              'x': 4,\n",
       "              '__dict__': <attribute '__dict__' of 'C' objects>,\n",
       "              '__weakref__': <attribute '__weakref__' of 'C' objects>,\n",
       "              '__doc__': None})"
      ]
     },
     "execution_count": 144,
     "metadata": {},
     "output_type": "execute_result"
    }
   ],
   "source": [
    "print(type(c.__class__.__dict__))\n",
    "c.__class__.__dict__"
   ]
  },
  {
   "cell_type": "markdown",
   "metadata": {},
   "source": [
    "We will look at `mappingproxy` below. It used to be called `dictproxy` in older documentation.\n",
    "\n",
    "The `__dict__` of an object is simple enough to understand. It behaves like a Python dict, and is one too.\n",
    "The `__dict__` of a class however, is not that straight-forward. Its actually an object of a class called `mappingproxy`. `mappingproxy` is a special class whose objects behave like normal dicts, but they differ in some key behaviours. It does not support assignment and is not writeable.\n",
    "\n",
    "You cannot set a key in a dictproxy directly (`C.__dict__['x'] = 4` does not work). You can accomplish the same using `C.x = 6` however, since the internal behaviour then is different. You cannot set the `__dict__` attribute itself either(`C.__dict__ = {}` does not work)."
   ]
  },
  {
   "cell_type": "markdown",
   "metadata": {},
   "source": [
    "A descriptor is an object that has atleast one of the following magic methods in its attributes: `__get__`, `__set__` or `__delete__`.\n",
    "Descriptors can help you define the behaviour of an object’s attribute in Python. With each of the magic methods just mentioned, you implement how the attribute (‘described’ by the descriptor) will be retrieved, set and deleted in the object respectively.    \n",
    "\n",
    "There are two types of descriptors:  Non-Data Descriptors (only have `__get__` defined) and Data Descriptors (more than just `__get__` defined).\n",
    "\n",
    "Descriptors are used for a lot of attribute and method related functionality in Python, including static methods, class methods and properties. Using descriptors, you can gain better control over how attributes and methods of a class/its objects are accessed - including defining some ‘behind the scenes’ functionality like logging.\n",
    "\n",
    "Now lets look at the high-level rules governing attribute access (getting) in Python.\n",
    "The workflow is as follows:\n",
    "\n",
    "1. If attrname is a special (i.e. Python-provided) attribute for objectname, return it.\n",
    "1. Check `objectname.__class__.__dict__` for attrname. If it exists and is a data-descriptor, return the descriptor result. Search all bases of `objectname.__class__` for the same case.\n",
    "1. Check `objectname.__dict__` for attrname, and return if found. If objectname is a class, search its bases too. If it is a class and a descriptor exists in it or its bases, return the descriptor result.\n",
    "1. Check `objectname.__class__.__dict__` for attrname. If it exists and is a non-data descriptor, return the descriptor result. If it exists, and is not a descriptor, just return it. If it exists and is a data descriptor, we shouldn’t be here because we would have returned at point 2. Search all bases of `objectname.__class__` for same case.\n",
    "1. Raise AttributeError\n",
    "\n",
    "Rules for setting attributes\n",
    "\n",
    "1. Check `objectname.__class__.__dict__` for attrname. If it exists and is a data-descriptor, use the descriptor to set the value. Search all bases of `objectname.__class__` for the same case.\n",
    "1. Insert something into `objectname.__dict__` for key \"attrname\".\n",
    "\n",
    "`__slots__` is a way to disallow objects from having their own `__dict__` in Python. This means, that if you define `__slots__` in a Class, then you cannot set arbitrary attributes(apart from the ones mentioned in the ‘slots’) on its objects.\n",
    "\n"
   ]
  },
  {
   "cell_type": "markdown",
   "metadata": {},
   "source": [
    "## Python docs\n",
    "\n",
    "https://docs.python.org/3/library/functions.html#property  \n",
    "https://docs.python.org/3/reference/datamodel.html#implementing-descriptors\n",
    "\n",
    "`class property(fget=None, fset=None, fdel=None, doc=None)`\n",
    "\n",
    "Return a property attribute.\n",
    "\n",
    "`fget` is a function for getting an attribute value.   \n",
    "`fset` is a function for setting an attribute value.   \n",
    "`fdel` is a function for deleting an attribute value.  \n",
    "`doc` creates a docstring for the attribute.\n",
    "\n",
    "A typical use is to define a managed attribute x as shown in the code below.\n",
    "\n",
    "If c is an instance of C, `c.x` will invoke the getter, `c.x = value` will invoke the setter and `del(c.x)` the deleter.\n",
    "\n",
    "If given, `doc` will be the docstring of the property attribute. Otherwise, the property will copy fget’s docstring (if it exists).\n",
    "\n",
    "This makes it possible to create read-only properties easily using `property()` as a decorator.\n",
    "In the code below `@property` decorator turns the `voltage()` method into a “getter” for a read-only attribute with the same name, and it sets the docstring for voltage to “Get the current voltage.”\n",
    "\n",
    "\n",
    "Note that because of the lookup rules (see below in Sachin's blog), to get an attribute docstring [you must use](https://stackoverflow.com/questions/38118264/how-can-i-retrieve-the-docstring-for-a-property-of-a-python-class-instance) `__class_`_ to get the class of the instance and then the property, and finally the `__doc__`: `p.__class__.voltage.__doc__` or use `type` to fetch the class.\n"
   ]
  },
  {
   "cell_type": "code",
   "execution_count": 145,
   "metadata": {},
   "outputs": [
    {
     "name": "stdout",
     "output_type": "stream",
     "text": [
      "[('x', <property object at 0x000000000652AA98>)]\n"
     ]
    }
   ],
   "source": [
    "class C:\n",
    "    def __init__(self):\n",
    "        self._x = None\n",
    "\n",
    "    def getx(self):\n",
    "        return self._x\n",
    "\n",
    "    def setx(self, value):\n",
    "        self._x = value\n",
    "\n",
    "    def delx(self):\n",
    "        del self._x\n",
    "\n",
    "    x = property(getx, setx, delx, \"I'm the 'x' property.\")\n",
    "\n",
    "attributes = inspect.getmembers(C, lambda a:not(inspect.isroutine(a)))\n",
    "# pp.pprint(attributes)\n",
    "# get rid of dunders\n",
    "pp.pprint([a for a in attributes if not(a[0].startswith('__') and a[0].endswith('__'))])"
   ]
  },
  {
   "cell_type": "code",
   "execution_count": 146,
   "metadata": {},
   "outputs": [
    {
     "name": "stdout",
     "output_type": "stream",
     "text": [
      "Create class and print default value of x, using the function\n",
      "None\n",
      "Assign the string \"a\" to x and print using the function\n",
      "a\n",
      "Assign the string \"A\" to x and print using the property attribute\n",
      "A\n",
      "Print the attribute docstring,\n",
      "I'm the 'x' property.\n",
      "\n",
      "Delete x and print using the function / property attribute\n"
     ]
    }
   ],
   "source": [
    "print('Create class and print default value of x, using the function')\n",
    "b = C()\n",
    "print(b.getx())\n",
    "print('Assign the string \"a\" to x and print using the function')\n",
    "b.setx('a')\n",
    "print(b.getx())\n",
    "print('Assign the string \"A\" to x and print using the property attribute')\n",
    "b.x = 'A'\n",
    "print(b.x)\n",
    "print('Print the attribute docstring,')\n",
    "print(b.__class__.x.__doc__)\n",
    "print()\n",
    "print('Delete x and print using the function / property attribute')\n",
    "# b.delx()\n",
    "del(b.x)\n",
    "# print(b.x) # !! will give an error"
   ]
  },
  {
   "cell_type": "code",
   "execution_count": 147,
   "metadata": {},
   "outputs": [
    {
     "name": "stdout",
     "output_type": "stream",
     "text": [
      "100000\n",
      "Get the current voltage.\n",
      "Get the current voltage.\n"
     ]
    }
   ],
   "source": [
    "class Parrot:\n",
    "    def __init__(self):\n",
    "        self._volts = 100000\n",
    "\n",
    "    @property\n",
    "    def voltage(self):\n",
    "        \"\"\"Get the current voltage.\"\"\"\n",
    "        return self._volts\n",
    "\n",
    "p = Parrot()\n",
    "print(p.voltage)\n",
    "# this will not work because the setter is not implemented\n",
    "# p.voltage = 0\n",
    "\n",
    "print(p.__class__.voltage.__doc__)\n",
    "print(type(p).voltage.__doc__)"
   ]
  },
  {
   "cell_type": "markdown",
   "metadata": {},
   "source": [
    "A property object has `getter`, `setter`, and `deleter` methods usable as decorators that create a copy of the property with the corresponding accessor function set to the decorated function. This is best explained with the code below. \n",
    "This code is exactly equivalent to the first example above. _Be sure to give the additional functions the same name as the original property_ (x in this case.)\n",
    "\n",
    "Why use decorators? See the long discussion here: https://stackoverflow.com/questions/6618002/using-property-versus-getters-and-setters \n",
    "\n",
    "```\n",
    "The reason is that all attributes are public in Python. Starting names with an underscore or two \n",
    "is just a warning that the given attribute is an implementation detail that may not stay the same \n",
    "in future versions of the code. It doesn't prevent you from actually getting or setting that attribute. \n",
    "Therefore, standard attribute access is the normal, Pythonic way of, well, accessing attributes.\n",
    "\n",
    "The advantage of properties is that they are syntactically identical to attribute access, so you can \n",
    "change from one to another without any changes to client code. You could even have one version of a \n",
    "class that uses properties (say, for code-by-contract or debugging) and one that doesn't for \n",
    "production, without changing the code that uses it. At the same time, you don't have to write\n",
    "getters and setters for everything just in case you might need to better control access later.\n",
    "```\n",
    "\n",
    "Changed in version 3.5: The docstrings of property objects are now writeable."
   ]
  },
  {
   "cell_type": "code",
   "execution_count": 148,
   "metadata": {},
   "outputs": [],
   "source": [
    "class C:\n",
    "    def __init__(self):\n",
    "        self._x = None\n",
    "\n",
    "    @property\n",
    "    def x(self):\n",
    "        \"\"\"I'm the 'x' property.\"\"\"\n",
    "        return self._x\n",
    "\n",
    "    @x.setter\n",
    "    def x(self, value):\n",
    "        self._x = value\n",
    "\n",
    "    @x.deleter\n",
    "    def x(self):\n",
    "        del self._x"
   ]
  },
  {
   "cell_type": "code",
   "execution_count": 149,
   "metadata": {},
   "outputs": [
    {
     "name": "stdout",
     "output_type": "stream",
     "text": [
      "Create class and print default value of x, using the function\n",
      "None\n",
      "Assign the string \"a\" to x and print using the function\n",
      "a\n",
      "Assign the string \"A\" to x and print using the property attribute\n",
      "A\n",
      "Print the attribute docstring,\n",
      "I'm the 'x' property.\n",
      "\n",
      "Delete x and print using the function / property attribute\n"
     ]
    }
   ],
   "source": [
    "print('Create class and print default value of x, using the function')\n",
    "b = C()\n",
    "print(b.x)\n",
    "print('Assign the string \"a\" to x and print using the function')\n",
    "b.x = 'a'\n",
    "print(b.x)\n",
    "print('Assign the string \"A\" to x and print using the property attribute')\n",
    "b.x = 'A'\n",
    "print(b.x)\n",
    "print('Print the attribute docstring,')\n",
    "print(b.__class__.x.__doc__)\n",
    "print()\n",
    "print('Delete x and print using the function / property attribute')\n",
    "# b.delx()\n",
    "del(b.x)\n",
    "# print(b.x) # !! will give an error\n"
   ]
  },
  {
   "cell_type": "markdown",
   "metadata": {},
   "source": [
    "## Python and [module versions, and dates](https://github.com/rasbt/watermark)"
   ]
  },
  {
   "cell_type": "code",
   "execution_count": 150,
   "metadata": {},
   "outputs": [
    {
     "name": "stdout",
     "output_type": "stream",
     "text": [
      "The watermark extension is already loaded. To reload it, use:\n",
      "  %reload_ext watermark\n",
      "CPython 3.7.1\n",
      "IPython 7.2.0\n",
      "\n",
      "numpy 1.15.4\n",
      "scipy 1.1.0\n",
      "\n",
      "compiler   : MSC v.1915 64 bit (AMD64)\n",
      "system     : Windows\n",
      "release    : 7\n",
      "machine    : AMD64\n",
      "processor  : Intel64 Family 6 Model 94 Stepping 3, GenuineIntel\n",
      "CPU cores  : 8\n",
      "interpreter: 64bit\n",
      "Git hash   : eba386dcbe704dc355e1a01920c000703d510811\n"
     ]
    }
   ],
   "source": [
    "# to get software versions\n",
    "# https://github.com/rasbt/watermark\n",
    "# https://github.com/rasbt/watermark/blob/master/docs/watermark.ipynb\n",
    "# you only need to do this once\n",
    "# pip install watermark\n",
    "# conda install -c conda-forge watermark\n",
    "\n",
    "%load_ext watermark\n",
    "%watermark -v -m -p numpy,scipy -g "
   ]
  },
  {
   "cell_type": "code",
   "execution_count": null,
   "metadata": {},
   "outputs": [],
   "source": []
  }
 ],
 "metadata": {
  "kernelspec": {
   "display_name": "Python 3",
   "language": "python",
   "name": "python3"
  },
  "language_info": {
   "codemirror_mode": {
    "name": "ipython",
    "version": 3
   },
   "file_extension": ".py",
   "mimetype": "text/x-python",
   "name": "python",
   "nbconvert_exporter": "python",
   "pygments_lexer": "ipython3",
   "version": "3.7.1"
  }
 },
 "nbformat": 4,
 "nbformat_minor": 2
}
